{
  "nbformat": 4,
  "nbformat_minor": 0,
  "metadata": {
    "colab": {
      "provenance": [],
      "toc_visible": true,
      "authorship_tag": "ABX9TyNVFFVUZQJxeEg4fLJ5FQcx",
      "include_colab_link": true
    },
    "kernelspec": {
      "name": "python3",
      "display_name": "Python 3"
    },
    "language_info": {
      "name": "python"
    },
    "accelerator": "GPU",
    "gpuClass": "standard",
    "widgets": {
      "application/vnd.jupyter.widget-state+json": {
        "e5f2cac220cd4f6d8ff67c3488af550c": {
          "model_module": "@jupyter-widgets/controls",
          "model_name": "HBoxModel",
          "model_module_version": "1.5.0",
          "state": {
            "_dom_classes": [],
            "_model_module": "@jupyter-widgets/controls",
            "_model_module_version": "1.5.0",
            "_model_name": "HBoxModel",
            "_view_count": null,
            "_view_module": "@jupyter-widgets/controls",
            "_view_module_version": "1.5.0",
            "_view_name": "HBoxView",
            "box_style": "",
            "children": [
              "IPY_MODEL_5e17940ffd2c458a976902b0719f59b6",
              "IPY_MODEL_e7aadb6d814144978ece1872a7b8b51c",
              "IPY_MODEL_98c8cd9b4b30499084c4b0e86cdc5b6c"
            ],
            "layout": "IPY_MODEL_1edfc62dcb3249c99f3be483a2a7a57b"
          }
        },
        "5e17940ffd2c458a976902b0719f59b6": {
          "model_module": "@jupyter-widgets/controls",
          "model_name": "HTMLModel",
          "model_module_version": "1.5.0",
          "state": {
            "_dom_classes": [],
            "_model_module": "@jupyter-widgets/controls",
            "_model_module_version": "1.5.0",
            "_model_name": "HTMLModel",
            "_view_count": null,
            "_view_module": "@jupyter-widgets/controls",
            "_view_module_version": "1.5.0",
            "_view_name": "HTMLView",
            "description": "",
            "description_tooltip": null,
            "layout": "IPY_MODEL_10b089adb7aa49d2a029f6374cc9fda8",
            "placeholder": "​",
            "style": "IPY_MODEL_7d51f9341e004f78ac21922e2cf1cc9d",
            "value": "100%"
          }
        },
        "e7aadb6d814144978ece1872a7b8b51c": {
          "model_module": "@jupyter-widgets/controls",
          "model_name": "FloatProgressModel",
          "model_module_version": "1.5.0",
          "state": {
            "_dom_classes": [],
            "_model_module": "@jupyter-widgets/controls",
            "_model_module_version": "1.5.0",
            "_model_name": "FloatProgressModel",
            "_view_count": null,
            "_view_module": "@jupyter-widgets/controls",
            "_view_module_version": "1.5.0",
            "_view_name": "ProgressView",
            "bar_style": "success",
            "description": "",
            "description_tooltip": null,
            "layout": "IPY_MODEL_9a687c09d79a4ec69a1db475199ed101",
            "max": 493,
            "min": 0,
            "orientation": "horizontal",
            "style": "IPY_MODEL_47a49dabd3fa49cab146d5c64bc59e4f",
            "value": 493
          }
        },
        "98c8cd9b4b30499084c4b0e86cdc5b6c": {
          "model_module": "@jupyter-widgets/controls",
          "model_name": "HTMLModel",
          "model_module_version": "1.5.0",
          "state": {
            "_dom_classes": [],
            "_model_module": "@jupyter-widgets/controls",
            "_model_module_version": "1.5.0",
            "_model_name": "HTMLModel",
            "_view_count": null,
            "_view_module": "@jupyter-widgets/controls",
            "_view_module_version": "1.5.0",
            "_view_name": "HTMLView",
            "description": "",
            "description_tooltip": null,
            "layout": "IPY_MODEL_b0301d66438b446c9c67ee5c95dcf59b",
            "placeholder": "​",
            "style": "IPY_MODEL_5fe52490c5554f03ad40b46021068cbc",
            "value": " 493/493 [00:50&lt;00:00,  6.36it/s]"
          }
        },
        "1edfc62dcb3249c99f3be483a2a7a57b": {
          "model_module": "@jupyter-widgets/base",
          "model_name": "LayoutModel",
          "model_module_version": "1.2.0",
          "state": {
            "_model_module": "@jupyter-widgets/base",
            "_model_module_version": "1.2.0",
            "_model_name": "LayoutModel",
            "_view_count": null,
            "_view_module": "@jupyter-widgets/base",
            "_view_module_version": "1.2.0",
            "_view_name": "LayoutView",
            "align_content": null,
            "align_items": null,
            "align_self": null,
            "border": null,
            "bottom": null,
            "display": null,
            "flex": null,
            "flex_flow": null,
            "grid_area": null,
            "grid_auto_columns": null,
            "grid_auto_flow": null,
            "grid_auto_rows": null,
            "grid_column": null,
            "grid_gap": null,
            "grid_row": null,
            "grid_template_areas": null,
            "grid_template_columns": null,
            "grid_template_rows": null,
            "height": null,
            "justify_content": null,
            "justify_items": null,
            "left": null,
            "margin": null,
            "max_height": null,
            "max_width": null,
            "min_height": null,
            "min_width": null,
            "object_fit": null,
            "object_position": null,
            "order": null,
            "overflow": null,
            "overflow_x": null,
            "overflow_y": null,
            "padding": null,
            "right": null,
            "top": null,
            "visibility": null,
            "width": null
          }
        },
        "10b089adb7aa49d2a029f6374cc9fda8": {
          "model_module": "@jupyter-widgets/base",
          "model_name": "LayoutModel",
          "model_module_version": "1.2.0",
          "state": {
            "_model_module": "@jupyter-widgets/base",
            "_model_module_version": "1.2.0",
            "_model_name": "LayoutModel",
            "_view_count": null,
            "_view_module": "@jupyter-widgets/base",
            "_view_module_version": "1.2.0",
            "_view_name": "LayoutView",
            "align_content": null,
            "align_items": null,
            "align_self": null,
            "border": null,
            "bottom": null,
            "display": null,
            "flex": null,
            "flex_flow": null,
            "grid_area": null,
            "grid_auto_columns": null,
            "grid_auto_flow": null,
            "grid_auto_rows": null,
            "grid_column": null,
            "grid_gap": null,
            "grid_row": null,
            "grid_template_areas": null,
            "grid_template_columns": null,
            "grid_template_rows": null,
            "height": null,
            "justify_content": null,
            "justify_items": null,
            "left": null,
            "margin": null,
            "max_height": null,
            "max_width": null,
            "min_height": null,
            "min_width": null,
            "object_fit": null,
            "object_position": null,
            "order": null,
            "overflow": null,
            "overflow_x": null,
            "overflow_y": null,
            "padding": null,
            "right": null,
            "top": null,
            "visibility": null,
            "width": null
          }
        },
        "7d51f9341e004f78ac21922e2cf1cc9d": {
          "model_module": "@jupyter-widgets/controls",
          "model_name": "DescriptionStyleModel",
          "model_module_version": "1.5.0",
          "state": {
            "_model_module": "@jupyter-widgets/controls",
            "_model_module_version": "1.5.0",
            "_model_name": "DescriptionStyleModel",
            "_view_count": null,
            "_view_module": "@jupyter-widgets/base",
            "_view_module_version": "1.2.0",
            "_view_name": "StyleView",
            "description_width": ""
          }
        },
        "9a687c09d79a4ec69a1db475199ed101": {
          "model_module": "@jupyter-widgets/base",
          "model_name": "LayoutModel",
          "model_module_version": "1.2.0",
          "state": {
            "_model_module": "@jupyter-widgets/base",
            "_model_module_version": "1.2.0",
            "_model_name": "LayoutModel",
            "_view_count": null,
            "_view_module": "@jupyter-widgets/base",
            "_view_module_version": "1.2.0",
            "_view_name": "LayoutView",
            "align_content": null,
            "align_items": null,
            "align_self": null,
            "border": null,
            "bottom": null,
            "display": null,
            "flex": null,
            "flex_flow": null,
            "grid_area": null,
            "grid_auto_columns": null,
            "grid_auto_flow": null,
            "grid_auto_rows": null,
            "grid_column": null,
            "grid_gap": null,
            "grid_row": null,
            "grid_template_areas": null,
            "grid_template_columns": null,
            "grid_template_rows": null,
            "height": null,
            "justify_content": null,
            "justify_items": null,
            "left": null,
            "margin": null,
            "max_height": null,
            "max_width": null,
            "min_height": null,
            "min_width": null,
            "object_fit": null,
            "object_position": null,
            "order": null,
            "overflow": null,
            "overflow_x": null,
            "overflow_y": null,
            "padding": null,
            "right": null,
            "top": null,
            "visibility": null,
            "width": null
          }
        },
        "47a49dabd3fa49cab146d5c64bc59e4f": {
          "model_module": "@jupyter-widgets/controls",
          "model_name": "ProgressStyleModel",
          "model_module_version": "1.5.0",
          "state": {
            "_model_module": "@jupyter-widgets/controls",
            "_model_module_version": "1.5.0",
            "_model_name": "ProgressStyleModel",
            "_view_count": null,
            "_view_module": "@jupyter-widgets/base",
            "_view_module_version": "1.2.0",
            "_view_name": "StyleView",
            "bar_color": null,
            "description_width": ""
          }
        },
        "b0301d66438b446c9c67ee5c95dcf59b": {
          "model_module": "@jupyter-widgets/base",
          "model_name": "LayoutModel",
          "model_module_version": "1.2.0",
          "state": {
            "_model_module": "@jupyter-widgets/base",
            "_model_module_version": "1.2.0",
            "_model_name": "LayoutModel",
            "_view_count": null,
            "_view_module": "@jupyter-widgets/base",
            "_view_module_version": "1.2.0",
            "_view_name": "LayoutView",
            "align_content": null,
            "align_items": null,
            "align_self": null,
            "border": null,
            "bottom": null,
            "display": null,
            "flex": null,
            "flex_flow": null,
            "grid_area": null,
            "grid_auto_columns": null,
            "grid_auto_flow": null,
            "grid_auto_rows": null,
            "grid_column": null,
            "grid_gap": null,
            "grid_row": null,
            "grid_template_areas": null,
            "grid_template_columns": null,
            "grid_template_rows": null,
            "height": null,
            "justify_content": null,
            "justify_items": null,
            "left": null,
            "margin": null,
            "max_height": null,
            "max_width": null,
            "min_height": null,
            "min_width": null,
            "object_fit": null,
            "object_position": null,
            "order": null,
            "overflow": null,
            "overflow_x": null,
            "overflow_y": null,
            "padding": null,
            "right": null,
            "top": null,
            "visibility": null,
            "width": null
          }
        },
        "5fe52490c5554f03ad40b46021068cbc": {
          "model_module": "@jupyter-widgets/controls",
          "model_name": "DescriptionStyleModel",
          "model_module_version": "1.5.0",
          "state": {
            "_model_module": "@jupyter-widgets/controls",
            "_model_module_version": "1.5.0",
            "_model_name": "DescriptionStyleModel",
            "_view_count": null,
            "_view_module": "@jupyter-widgets/base",
            "_view_module_version": "1.2.0",
            "_view_name": "StyleView",
            "description_width": ""
          }
        }
      }
    }
  },
  "cells": [
    {
      "cell_type": "markdown",
      "metadata": {
        "id": "view-in-github",
        "colab_type": "text"
      },
      "source": [
        "<a href=\"https://colab.research.google.com/github/rahiakela/deep-learning-research-and-practice/blob/main/inside-deep-learing/07-autoencoding-and-self-supervision/03_autoregressive_models.ipynb\" target=\"_parent\"><img src=\"https://colab.research.google.com/assets/colab-badge.svg\" alt=\"Open In Colab\"/></a>"
      ]
    },
    {
      "cell_type": "markdown",
      "source": [
        "##Autoregressive model"
      ],
      "metadata": {
        "id": "ldjKkwDE9r9p"
      }
    },
    {
      "cell_type": "markdown",
      "source": [
        "In this notebook, we shows that bread-and-butter\n",
        "principal component analysis (PCA) works by secretly being an autoencoder.\n",
        "\n",
        "We’ll make small changes to a PyTorch version of PCA to change it into a fully fledged\n",
        "autoencoding neural network. \n",
        "\n",
        "As we make an autoencoding network larger, it becomes\n",
        "more important to constrain it well, which we demonstrate with the denoising strategy.\n",
        "\n",
        "Finally we apply these concepts to sequential models like RNNs, which gives the autoregressive model."
      ],
      "metadata": {
        "id": "tFXQb6wufLVZ"
      }
    },
    {
      "cell_type": "markdown",
      "source": [
        "##Setup"
      ],
      "metadata": {
        "id": "Ju6nJVQUfX5-"
      }
    },
    {
      "cell_type": "code",
      "source": [
        "from tqdm.autonotebook import tqdm\n",
        "\n",
        "import numpy as np\n",
        "import pandas as pd\n",
        "\n",
        "import seaborn as sns\n",
        "import matplotlib.pyplot as plt\n",
        "from matplotlib.pyplot import imshow\n",
        "\n",
        "from sklearn.metrics import accuracy_score\n",
        "\n",
        "import time\n",
        "from io import BytesIO\n",
        "from zipfile import ZipFile\n",
        "from urllib.request import urlopen\n",
        "import re"
      ],
      "metadata": {
        "id": "bUicuO0T9vRt"
      },
      "execution_count": null,
      "outputs": []
    },
    {
      "cell_type": "code",
      "source": [
        "!wget https://github.com/EdwardRaff/Inside-Deep-Learning/raw/main/idlmam.py"
      ],
      "metadata": {
        "id": "j8dfqZhAI7hK"
      },
      "execution_count": null,
      "outputs": []
    },
    {
      "cell_type": "code",
      "source": [
        "import torch\n",
        "import torch.nn as nn\n",
        "import torch.nn.functional as F\n",
        "import torchvision \n",
        "from torchvision import transforms\n",
        "\n",
        "from torch.utils.data import Dataset, DataLoader\n",
        "\n",
        "from idlmam import train_network, Flatten, View, weight_reset, set_seed"
      ],
      "metadata": {
        "id": "_9xoD7-8EibG"
      },
      "execution_count": 3,
      "outputs": []
    },
    {
      "cell_type": "code",
      "source": [
        "%matplotlib inline\n",
        "from IPython.display import set_matplotlib_formats\n",
        "set_matplotlib_formats('png', 'pdf')\n",
        "\n",
        "torch.backends.cudnn.deterministic=True\n",
        "set_seed(42)"
      ],
      "metadata": {
        "id": "8U1JNhEmEkzG"
      },
      "execution_count": 4,
      "outputs": []
    },
    {
      "cell_type": "code",
      "source": [
        "device = torch.device(\"cuda\") if torch.cuda.is_available() else torch.device(\"cpu\")"
      ],
      "metadata": {
        "id": "nXiYSSxO707X"
      },
      "execution_count": 5,
      "outputs": []
    },
    {
      "cell_type": "markdown",
      "source": [
        "##Dataset"
      ],
      "metadata": {
        "id": "ycbbAdR0fjAG"
      }
    },
    {
      "cell_type": "markdown",
      "source": [
        "We will use text from Shakespeare that are about 100,000 characters in this text."
      ],
      "metadata": {
        "id": "xcWc0zUpV7wt"
      }
    },
    {
      "cell_type": "code",
      "source": [
        "all_data = []\n",
        "\n",
        "response = urlopen(\"https://cs.stanford.edu/people/karpathy/char-rnn/shakespear.txt\")\n",
        "shakespear_100k = response.read()\n",
        "shakespear_100k = shakespear_100k.decode(\"utf-8\").lower()"
      ],
      "metadata": {
        "id": "iQy_V8L791sw"
      },
      "execution_count": 6,
      "outputs": []
    },
    {
      "cell_type": "markdown",
      "source": [
        "Now we will build a vocabulary $\\Sigma$ of all the characters in this dataset."
      ],
      "metadata": {
        "id": "B_UVXN5Y56Qu"
      }
    },
    {
      "cell_type": "code",
      "source": [
        "# vocabulary\n",
        "vocab2indx = {}\n",
        "\n",
        "for char in shakespear_100k:\n",
        "  # add every new character to the vocab\n",
        "  if char not in vocab2indx:\n",
        "    # set the index based on the current vocab size\n",
        "    vocab2indx[char] = len(vocab2indx)\n",
        "\n",
        "# reverse vocabulary to go from index back to original characters\n",
        "index2vocab = {}\n",
        "\n",
        "# Well simply iterate over all key,value pairs and create a dicionary with the inverse mapping.\n",
        "for k, v in vocab2indx.items():\n",
        "  index2vocab[v] = k\n",
        "\n",
        "print(f\"Vocab Size: {len(vocab2indx)}\")\n",
        "print(f\"Total Characters: {len(shakespear_100k)}\")"
      ],
      "metadata": {
        "colab": {
          "base_uri": "https://localhost:8080/"
        },
        "id": "_ZbKPqk16Hhp",
        "outputId": "c04e8041-804e-46be-a09d-85a8c8ef1543"
      },
      "execution_count": 18,
      "outputs": [
        {
          "output_type": "stream",
          "name": "stdout",
          "text": [
            "Vocab Size: 36\n",
            "Total Characters: 99993\n"
          ]
        }
      ]
    },
    {
      "cell_type": "markdown",
      "source": [
        "Next we take a very simple approach to build an autoregressive dataset."
      ],
      "metadata": {
        "id": "lPPst1w07LZ2"
      }
    },
    {
      "cell_type": "code",
      "source": [
        "class AutoRegressiveDataset(Dataset):\n",
        "  \"\"\"\n",
        "  Creates an autoregressive dataset from one single, long, source sequence by breaking it up into \"chunks\".\n",
        "  \"\"\"\n",
        "  def __init__(self, large_string, MAX_CHUNK=500):\n",
        "    \"\"\"\n",
        "    large_string: the original long source sequence that chunks will be extracted from\n",
        "    MAX_CHUNK: the maximum allowed size of any chunk. \n",
        "    \"\"\"\n",
        "    self.doc = large_string\n",
        "    self.MAX_CHUNK = MAX_CHUNK \n",
        "\n",
        "  def __len__(self):\n",
        "    # The number of items is the number of characters divided by chunk size\n",
        "    return (len(self.doc) - 1) // self.MAX_CHUNK\n",
        "\n",
        "  def __getitem__(self, idx):\n",
        "    # Compute the starting position for the idx'th chunk\n",
        "    start = idx * self.MAX_CHUNK\n",
        "    # Grab the input sub-string\n",
        "    sub_string = self.doc[start: start + self.MAX_CHUNK]\n",
        "    # convert the sub-string into integers based on our vocab\n",
        "    x = [vocab2indx[c] for c in sub_string]\n",
        "\n",
        "    # grab the label sub-string by shifting over by 1\n",
        "    sub_string = self.doc[start + 1: start+ self.MAX_CHUNK + 1]\n",
        "    # convert the label sub-string into integers based on our vocab\n",
        "    y = [vocab2indx[c] for c in sub_string]\n",
        "\n",
        "    # Converts the label substring into integers based on our vocab\n",
        "    return torch.tensor(x, dtype=torch.int64), torch.tensor(y, dtype=torch.int64)"
      ],
      "metadata": {
        "id": "rsFqIimT7L9B"
      },
      "execution_count": 8,
      "outputs": []
    },
    {
      "cell_type": "markdown",
      "source": [
        "##Autoregressive models for sequences"
      ],
      "metadata": {
        "id": "cnR7s0KfIhEB"
      }
    },
    {
      "cell_type": "markdown",
      "source": [
        "The autoencoding approach has been very successful for images, signals, and even\n",
        "fully connected models with tabular data. But what if our data is a sequence problem?\n",
        "Especially if our data is in a language represented by discrete tokens, it’s hard to add\n",
        "meaningful noise to things like a letter or word. \n",
        "\n",
        "Instead, we can use an **autoregressive\n",
        "model**, which is an approach specifically designed for time-series problems.\n",
        "\n",
        "You can use an autoregressive model for basically all the same applications for which\n",
        "you might use an autoencoding one. You can use the representation an autoregressive\n",
        "model learns as the input to another ML algorithm that doesn’t understand sequences\n",
        "\n",
        "Let’s say you have %t% steps of your data: $x_1, x_2, ..., x_{t-1}, x_{t}$. The goal of an autoregressive model is to predict $x_{t+1}$ given all the previous items in the sequence.\n",
        "\n",
        "The autoregressive approach is still a form of self-supervision because the next item in\n",
        "a sequence is a trivial component of having the data in the first place. \n",
        "\n",
        "If you treat the\n",
        "sentence “This is a sentence” as a sequence of characters, you, by definition, know that\n",
        "`T` is the first item, `h` the second, `i` the third, and so on.\n",
        "\n",
        "![image.png](data:image/png;base64,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)"
      ],
      "metadata": {
        "id": "7USFToHbNAm3"
      }
    },
    {
      "cell_type": "markdown",
      "source": [
        "The prediction at\n",
        "the ith step is thus $\\hat x_i$. We then use the loss function $l$ to compute the loss between the\n",
        "current prediction $\\hat x_i$ and the next input $x_{i+1}, l(\\hat x_i, x_{i+1})$. \n",
        "\n",
        "So for an input with `T` time\n",
        "steps, we have `T - 1` loss calculations: the last time step `T` can’t be used as an input\n",
        "because there is no `T + 1th` item to compare it against.\n",
        "\n",
        "RNNs are great for sequence-based\n",
        "problems like this one, But there is diffrence is that we will make a prediction at every step, instead of just the last step.\n",
        "\n",
        ">While RNNs are an appropriate and common architecture to use for autoregressive\n",
        "models, bidirectional RNNs are not. This is because an autoregressive\n",
        "model is making predictions about the future. If we used a bidirectional model, we would have information about the future content in the sequence, and knowing\n",
        "the future is cheating!"
      ],
      "metadata": {
        "id": "Ah5g9acr2QFE"
      }
    },
    {
      "cell_type": "markdown",
      "source": [
        "##char-RNN autoregressive text model"
      ],
      "metadata": {
        "id": "89ZAZ9DUNhI6"
      }
    },
    {
      "cell_type": "markdown",
      "source": [
        "Now comes the tricky part: implementing an autoregressive RNN model. For this we\n",
        "use a gated recurrent unit (GRU).\n",
        "\n",
        "Let’s define some basic hyperparameters."
      ],
      "metadata": {
        "id": "d_WTbnXEW2bq"
      }
    },
    {
      "cell_type": "code",
      "source": [
        "D = 28 * 28       # input size\n",
        "n = 2             # Hidden layer size\n",
        "C= 1              # How many channels are in the input?\n",
        "classes = 10      # How many classes are there?"
      ],
      "metadata": {
        "id": "qehTRWK_W2mK"
      },
      "execution_count": 9,
      "outputs": []
    },
    {
      "cell_type": "code",
      "source": [
        "class AutoRegressive(nn.Module):\n",
        "\n",
        "  def __init__(self, num_embeddings, embd_size, hidden_size, layers=1):\n",
        "    super(AutoRegressive, self).__init__()\n",
        "    self.hidden_size = hidden_size\n",
        "    self.embedding = nn.Embedding(num_embeddings, embd_size)\n",
        "    # GRUCell processes sequences one item at a time\n",
        "    self.layers = nn.ModuleList([nn.GRUCell(embd_size, hidden_size)] + [nn.GRUCell(hidden_size, hidden_size) for _ in range(layers - 1)])\n",
        "    self.norms = nn.ModuleList([nn.LayerNorm(hidden_size) for _ in range(layers)])\n",
        "\n",
        "    self.prediction_class = nn.Sequential(\n",
        "      nn.Linear(hidden_size, hidden_size),      # (B, *, D)\n",
        "      nn.LeakyReLU(),\n",
        "      nn.LayerNorm(hidden_size),                # (B, *, D)\n",
        "      nn.Linear(hidden_size, num_embeddings)    # (B, *. D) -> B(B, *, VocabSize)\n",
        "    )\n",
        "\n",
        "  def forward(self, input_x):\n",
        "    # input_x should be (B, T)\n",
        "    B = input_x.size(0)   # What is the batch size?\n",
        "    T = input_x.size(1)   # What is the max number of time steps?\n",
        "\n",
        "    x = self.embedding(input_x)  # (B, T, D)\n",
        "\n",
        "    # Initial hidden states\n",
        "    h_prevs = self.init_hidden_states(B)\n",
        "\n",
        "    last_activations = []\n",
        "    for t in range(T):\n",
        "      x_in = x[:, t, :]   # (B, D)\n",
        "      last_activations.append(self.step(x_in, h_prevs))\n",
        "\n",
        "    last_activations = torch.stack(last_activations, dim=1) # (B, T, D)\n",
        "    return last_activations\n",
        "\n",
        "  def init_hidden_states(self, B):\n",
        "    \"\"\"\n",
        "    Creates an initial hidden state list for the RNN layers. \n",
        "    B: the batch size for the hidden states.\n",
        "    \"\"\"\n",
        "    return [torch.zeros(B, self.hidden_size, device=device) for _ in range(len(self.layers))]\n",
        "\n",
        "  def step(self, x_in, h_prevs=None):\n",
        "    \"\"\"\n",
        "    x_in: the input for this current time step and has shape (B) if the values need \n",
        "        to be embedded, and (B, D) if they have alreayd been embedded. \n",
        "\n",
        "    h_prevs: a list of hidden state tensors each with shape (B, self.hidden_size) for each \n",
        "        layer in the network. These contain the current hidden state of the RNN layers and \n",
        "        will be updated by this call.\n",
        "    \"\"\"\n",
        "    # Prepare all three arguments to be in the final form\n",
        "    if len(x_in.shape) == 1:       # (B), we need to embed it\n",
        "      x_in = self.embedding(x_in)  # now (B, D)\n",
        "\n",
        "    if h_prevs is None:\n",
        "      h_prevs = self.init_hidden_states(x_in.shape[0])\n",
        "\n",
        "    # Process the input \n",
        "    for layer in range(len(self.layers)):\n",
        "      h_prev = h_prevs[layer]\n",
        "      # Pushes in the current input with previous hidden states\n",
        "      h = self.norms[layer](self.layers[layer](x_in, h_prev))\n",
        "\n",
        "      h_prevs[layer] = h\n",
        "      x_in = h\n",
        "\n",
        "    # Make predictions about the token\n",
        "    return self.prediction_class(x_in)"
      ],
      "metadata": {
        "id": "iE9KyN7r9e4u"
      },
      "execution_count": 10,
      "outputs": []
    },
    {
      "cell_type": "markdown",
      "source": [
        "With our model defined, we are almost finished.\n",
        "\n",
        "Let's quickly create our new `AutoRegressiveDataset` and AutoRegressive model."
      ],
      "metadata": {
        "id": "y5_sKrj7fUPh"
      }
    },
    {
      "cell_type": "code",
      "source": [
        "auto_reg_data = AutoRegressiveDataset(shakespear_100k, MAX_CHUNK=250)\n",
        "auto_reg_dataloader = DataLoader(auto_reg_data, batch_size=128, shuffle=True)\n",
        "\n",
        "auto_reg_model = AutoRegressive(len(vocab2indx), 32, 128, layers=2)\n",
        "auto_reg_model = auto_reg_model.to(device)\n",
        "\n",
        "for p in auto_reg_model.parameters():\n",
        "  p.register_hook(lambda grad: torch.clamp(grad, -2, 2))"
      ],
      "metadata": {
        "id": "BWr-MPxJa-U_"
      },
      "execution_count": 11,
      "outputs": []
    },
    {
      "cell_type": "markdown",
      "source": [
        "Since we have multiple losses to compute, one for every time step. We can solve this by writing our own loss function CrossEntLossTime that computes the cross-entropy for each step."
      ],
      "metadata": {
        "id": "_ONPpqdzdcwh"
      }
    },
    {
      "cell_type": "code",
      "source": [
        "def CrossEntLossTime(x, y):\n",
        "  \"\"\"\n",
        "  x: output with shape (B, T, V)\n",
        "  y: labels with shape (B, T)\n",
        "  \"\"\"\n",
        "  cross_entropy_loss = nn.CrossEntropyLoss()\n",
        "\n",
        "  T = x.size(1)\n",
        "  loss = 0\n",
        "  for t in range(T):  # for every item in the sequence\n",
        "    # Compute the sum of prediction errors\n",
        "    loss += cross_entropy_loss(x[:, t, :], y[:, t])\n",
        "  return loss"
      ],
      "metadata": {
        "id": "dlBYlpqedmpY"
      },
      "execution_count": 12,
      "outputs": []
    },
    {
      "cell_type": "code",
      "source": [
        "# Let's train this model\n",
        "train_network(auto_reg_model, CrossEntLossTime, auto_reg_dataloader, epochs=100, device=device)"
      ],
      "metadata": {
        "id": "fFzOdpQucqMl"
      },
      "execution_count": null,
      "outputs": []
    },
    {
      "cell_type": "markdown",
      "source": [
        "## Autoregressive models are generative models"
      ],
      "metadata": {
        "id": "yzxPKkg_XG04"
      }
    },
    {
      "cell_type": "markdown",
      "source": [
        "Autoregressive models are not only self-supervised; they also fall into a class known as\n",
        "generative models. \n",
        "\n",
        "This means they can generate new data that looks like the original data\n",
        "it was trained on. \n",
        "\n",
        "To do this, we switch our model to eval mode and create a tensor\n",
        "sampling that stores our generated output. \n",
        "\n",
        "Any output generated from a model can be\n",
        "called a sample, and the process of generating that sample is called sampling."
      ],
      "metadata": {
        "id": "LLVPaYhMXMMu"
      }
    },
    {
      "cell_type": "code",
      "source": [
        "auto_reg_model = auto_reg_model.eval()\n",
        "sampling = torch.zeros((1, 500), dtype=torch.int64, device=device)"
      ],
      "metadata": {
        "id": "5XLBTPy5WYyG"
      },
      "execution_count": 15,
      "outputs": []
    },
    {
      "cell_type": "markdown",
      "source": [
        "To sample from an autoregressive model, we usually need to give the model a seed. \n",
        "\n",
        "This is some original text that the model is given; then the model is asked to make predictions\n",
        "about what comes next."
      ],
      "metadata": {
        "id": "1Y15Tf378y6C"
      }
    },
    {
      "cell_type": "code",
      "source": [
        "# Let's define our initial seed\n",
        "seed = \"EMILIA:\".lower()\n",
        "current_len = len(seed)\n",
        "\n",
        "sampling[0, 0: current_len] = torch.tensor([vocab2indx[x] for x in seed])"
      ],
      "metadata": {
        "id": "s5yOFRcjYaRW"
      },
      "execution_count": 16,
      "outputs": []
    },
    {
      "cell_type": "markdown",
      "source": [
        "Our model is making a prediction about\n",
        "the probability of seeing every different character as the next possible output. \n",
        "\n",
        "But the next input needs to be a specific character. This can be done by sampling the predictions\n",
        "based on the model’s output probabilities."
      ],
      "metadata": {
        "id": "Tpfjnlu3Yl6K"
      }
    },
    {
      "cell_type": "code",
      "source": [
        "for i in tqdm(range(current_len, sampling.size(1))):\n",
        "  with torch.no_grad():\n",
        "    h = auto_reg_model(sampling[:, 0: i])   # process all the previous items\n",
        "    h = h[:, -1, :]                         # Grab the last time step\n",
        "    h = F.softmax(h, dim=1)                 # make probabilities\n",
        "    next_tokens = torch.multinomial(h, 1)   # sample the next prediction\n",
        "    sampling[:, i] = next_tokens            # set the next prediction\n",
        "    current_len +=1                         # increase the length by one"
      ],
      "metadata": {
        "id": "yX5BGXglYnSJ",
        "outputId": "56e2bd76-c76b-4e0c-a475-757ff3ea85d1",
        "colab": {
          "base_uri": "https://localhost:8080/",
          "height": 49,
          "referenced_widgets": [
            "e5f2cac220cd4f6d8ff67c3488af550c",
            "5e17940ffd2c458a976902b0719f59b6",
            "e7aadb6d814144978ece1872a7b8b51c",
            "98c8cd9b4b30499084c4b0e86cdc5b6c",
            "1edfc62dcb3249c99f3be483a2a7a57b",
            "10b089adb7aa49d2a029f6374cc9fda8",
            "7d51f9341e004f78ac21922e2cf1cc9d",
            "9a687c09d79a4ec69a1db475199ed101",
            "47a49dabd3fa49cab146d5c64bc59e4f",
            "b0301d66438b446c9c67ee5c95dcf59b",
            "5fe52490c5554f03ad40b46021068cbc"
          ]
        }
      },
      "execution_count": 17,
      "outputs": [
        {
          "output_type": "display_data",
          "data": {
            "text/plain": [
              "  0%|          | 0/493 [00:00<?, ?it/s]"
            ],
            "application/vnd.jupyter.widget-view+json": {
              "version_major": 2,
              "version_minor": 0,
              "model_id": "e5f2cac220cd4f6d8ff67c3488af550c"
            }
          },
          "metadata": {}
        }
      ]
    },
    {
      "cell_type": "markdown",
      "source": [
        "Now we have a new sequence that we have predicted, but what does it look like? \n",
        "\n",
        "That is why we saved an inverse mapping from tokens back to our vocabulary with the `indx2vocab`\n",
        "dict: we can use that to map each integer back to a character, and then join them\n",
        "together to create an output."
      ],
      "metadata": {
        "id": "U62Dwq3gaIV2"
      }
    },
    {
      "cell_type": "code",
      "source": [
        "s = [index2vocab[x] for x in sampling.cpu().numpy().flatten()]\n",
        "print(\"\".join(s))"
      ],
      "metadata": {
        "colab": {
          "base_uri": "https://localhost:8080/"
        },
        "id": "g2I_bZGaEiI_",
        "outputId": "e6c82864-7f51-4e43-a29e-8061a4a78549"
      },
      "execution_count": 19,
      "outputs": [
        {
          "output_type": "stream",
          "name": "stdout",
          "text": [
            "emilia:\n",
            "tooken thee,\n",
            "good rarther man fruct see and weot, the giver innot nows not that words togeing in so dainow lo;\n",
            "m: the shall sing within good thysuy.\n",
            "\n",
            "oparales:\n",
            "and tertherry cuptunts,\n",
            "bur, puntss and getnon bufel make; it mlegnt; thereple, and friend\n",
            "there''d\n",
            "moarmant me has bellat-srumentless terbot\n",
            "did\n",
            "parcessoot,\n",
            "and, rity peach trusinup to city: i am hassell: meech sir.\n",
            "\n",
            "gthance yor?\n",
            "\n",
            "ratiesparus:\n",
            "wambet's do\n",
            "forther,ueland my hand flies: love a villold,\n",
            "and thy trut's of therery is \n"
          ]
        }
      ]
    },
    {
      "cell_type": "markdown",
      "source": [
        "You should notice a few things about the output of our generation. While it kind of\n",
        "looks Shakespearian, it quickly devolves. \n",
        "\n",
        "This is because with each step of the data, we\n",
        "get further from real data, and our model will make unrealistic choices that thus become\n",
        "errors and negatively impact future predictions. \n",
        "\n",
        "So the longer we generate, the lower\n",
        "the quality will become."
      ],
      "metadata": {
        "id": "YiZ_GzMeFW2M"
      }
    },
    {
      "cell_type": "markdown",
      "source": [
        "##Changing samples with temperature"
      ],
      "metadata": {
        "id": "0rNwbBZSFZsA"
      }
    },
    {
      "cell_type": "markdown",
      "source": [],
      "metadata": {
        "id": "Jr5dMgzTFh_s"
      }
    }
  ]
}