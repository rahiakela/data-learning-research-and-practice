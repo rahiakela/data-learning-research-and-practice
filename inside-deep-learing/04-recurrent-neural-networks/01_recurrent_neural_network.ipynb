{
  "nbformat": 4,
  "nbformat_minor": 0,
  "metadata": {
    "colab": {
      "name": "01-recurrent-neural-network.ipynb",
      "provenance": [],
      "toc_visible": true,
      "authorship_tag": "ABX9TyNb1XcCZUSYi99L/BbD3ZJ2",
      "include_colab_link": true
    },
    "kernelspec": {
      "name": "python3",
      "display_name": "Python 3"
    },
    "language_info": {
      "name": "python"
    },
    "accelerator": "GPU",
    "gpuClass": "standard"
  },
  "cells": [
    {
      "cell_type": "markdown",
      "metadata": {
        "id": "view-in-github",
        "colab_type": "text"
      },
      "source": [
        "<a href=\"https://colab.research.google.com/github/rahiakela/deep-learning-research-and-practice/blob/main/inside-deep-learing/04-recurrent-neural-networks/01_recurrent_neural_network.ipynb\" target=\"_parent\"><img src=\"https://colab.research.google.com/assets/colab-badge.svg\" alt=\"Open In Colab\"/></a>"
      ]
    },
    {
      "cell_type": "markdown",
      "source": [
        "##Convolutional neural networks"
      ],
      "metadata": {
        "id": "ldjKkwDE9r9p"
      }
    },
    {
      "cell_type": "markdown",
      "source": [
        "Recurrent neural networks (RNNs) has concept of **weight sharing** where we reuse a layer in multiple locations. PyTorch handles the tricky math of learning correctly when reusing a layer.\n",
        "\n",
        "<img src='images/1.png' width='600'/>\n",
        "\n"
      ],
      "metadata": {
        "id": "tFXQb6wufLVZ"
      }
    },
    {
      "cell_type": "markdown",
      "source": [
        "##Setup"
      ],
      "metadata": {
        "id": "Ju6nJVQUfX5-"
      }
    },
    {
      "cell_type": "code",
      "source": [
        "!wget https://github.com/EdwardRaff/Inside-Deep-Learning/raw/main/idlmam.py"
      ],
      "metadata": {
        "id": "y3Vgfh4TryfP"
      },
      "execution_count": null,
      "outputs": []
    },
    {
      "cell_type": "code",
      "source": [
        "import torch\n",
        "import torch.nn as nn\n",
        "import torch.nn.functional as F\n",
        "\n",
        "import torchvision \n",
        "from torchvision import transforms\n",
        "\n",
        "from torch.utils.data import Dataset, DataLoader\n",
        "\n",
        "from tqdm.autonotebook import tqdm\n",
        "\n",
        "import numpy as np\n",
        "import pandas as pd\n",
        "import seaborn as sns\n",
        "import matplotlib\n",
        "import matplotlib.pyplot as plt\n",
        "from matplotlib.pyplot import imshow\n",
        "\n",
        "from sklearn.metrics import accuracy_score\n",
        "\n",
        "from scipy.signal import convolve\n",
        "\n",
        "import time\n",
        "\n",
        "from idlmam import train_simple_network, set_seed, Flatten, weight_reset"
      ],
      "metadata": {
        "id": "bUicuO0T9vRt"
      },
      "execution_count": 8,
      "outputs": []
    },
    {
      "cell_type": "code",
      "source": [
        "%matplotlib inline\n",
        "from IPython.display import set_matplotlib_formats\n",
        "set_matplotlib_formats('png', 'pdf')\n",
        "\n",
        "def set_seed(seed):\n",
        "    torch.manual_seed(seed)\n",
        "    np.random.seed(seed)\n",
        "\n",
        "torch.backends.cudnn.deterministic=True\n",
        "set_seed(42)"
      ],
      "metadata": {
        "id": "8U1JNhEmEkzG"
      },
      "execution_count": 3,
      "outputs": []
    },
    {
      "cell_type": "code",
      "source": [
        "device = torch.device(\"cuda\") if torch.cuda.is_available() else torch.device(\"cpu\")"
      ],
      "metadata": {
        "id": "t_R2F_862eZg"
      },
      "execution_count": 4,
      "outputs": []
    },
    {
      "cell_type": "markdown",
      "source": [
        "##Preparing dataset"
      ],
      "metadata": {
        "id": "ycbbAdR0fjAG"
      }
    },
    {
      "cell_type": "markdown",
      "source": [
        "Here, we will start exploring the ubiquitous MNIST dataset. \n",
        "\n",
        "It’s a collection of black-and-white images of the digits 0\n",
        "through 9; each is 28 pixels wide and 28 pixels tall."
      ],
      "metadata": {
        "id": "Y_4r4xfAJtCu"
      }
    },
    {
      "cell_type": "code",
      "source": [
        "# simply specify the ToTensor transform, which converts image into a tensor\n",
        "mnist_data_train = torchvision.datasets.MNIST(\"./data\", train=True, download=True, transform=transforms.ToTensor())\n",
        "mnist_data_test = torchvision.datasets.MNIST(\"./data\", train=False, download=True, transform=transforms.ToTensor())"
      ],
      "metadata": {
        "id": "smI9SLH8uMOd"
      },
      "execution_count": null,
      "outputs": []
    },
    {
      "cell_type": "code",
      "source": [
        "mnist_train_loader = DataLoader(mnist_data_train, batch_size=64, shuffle=True)\n",
        "mnist_test_loader = DataLoader(mnist_data_test, batch_size=64) "
      ],
      "metadata": {
        "id": "RVehRr4DtRF3"
      },
      "execution_count": 6,
      "outputs": []
    },
    {
      "cell_type": "markdown",
      "source": [
        "##Weight sharing using MLP"
      ],
      "metadata": {
        "id": "lEycMUJEHRMx"
      }
    },
    {
      "cell_type": "code",
      "source": [
        "# 28 * 28 images\n",
        "D = 28 * 28\n",
        "\n",
        "# Hidden layer size\n",
        "n = 256\n",
        "\n",
        "# How many channels are in the input?\n",
        "C = 1\n",
        "\n",
        "# How many classes are there?\n",
        "classes = 10"
      ],
      "metadata": {
        "id": "dk1S1LwtTqln"
      },
      "execution_count": 7,
      "outputs": []
    },
    {
      "cell_type": "markdown",
      "source": [
        "Let's creates our regular model."
      ],
      "metadata": {
        "id": "gNe4Q8BY1xq5"
      }
    },
    {
      "cell_type": "code",
      "source": [
        "model_regular = nn.Sequential(\n",
        "  Flatten(),\n",
        "  nn.Linear(D, n),\n",
        "  nn.Tanh(),\n",
        "  nn.Linear(n, n),\n",
        "  nn.Tanh(),\n",
        "  nn.Linear(n, n),\n",
        "  nn.Tanh(),\n",
        "  nn.Linear(n, classes)\n",
        ")"
      ],
      "metadata": {
        "id": "6zgoGyV9uH_x"
      },
      "execution_count": 9,
      "outputs": []
    },
    {
      "cell_type": "code",
      "source": [
        "loss_func = nn.CrossEntropyLoss()\n",
        "regular_results = train_simple_network(model_regular,\n",
        "                                       loss_func,\n",
        "                                       mnist_train_loader,\n",
        "                                       test_loader=mnist_test_loader,\n",
        "                                       score_funcs={\"Accuracy\": accuracy_score}, \n",
        "                                       device=device,\n",
        "                                       epochs=10)"
      ],
      "metadata": {
        "id": "AdlY5vVb2q9f"
      },
      "execution_count": null,
      "outputs": []
    },
    {
      "cell_type": "markdown",
      "source": [
        "Now, let’s pretend that this is a very large network—so large that we can’t fit the weights\n",
        "for all three hidden layers.\n",
        "\n",
        "But we really want a network with\n",
        "three hidden layers. One option is to share the weights between some of the layers. We\n",
        "can do this mathematically by simply replacing `h3` with `h2`, which is the same as defining\n",
        "one object and reusing that object twice in our definition.\n",
        "\n",
        "This is weight sharing, reusing the weights of a layer. It’s called\n",
        "this because we can pretend the two different usages of $W^{(h_2)}$ are different layers in\n",
        "the network that share the same weights. \n",
        "\n",
        "How do we implement this in PyTorch? \n",
        "\n",
        "It’s simple. If we think of that linear layer as an object, we reuse the layer object. Everything\n",
        "else works exactly the same."
      ],
      "metadata": {
        "id": "qJ3-CVO834Qb"
      }
    },
    {
      "cell_type": "code",
      "source": [
        "# Creates the layer of weights for our network that we plan to share\n",
        "h_2 = nn.Linear(n, n)\n",
        "\n",
        "model_shared = nn.Sequential(\n",
        "  Flatten(),\n",
        "  nn.Linear(D, n),\n",
        "  nn.Tanh(),\n",
        "  h_2,\n",
        "  nn.Tanh(),\n",
        "  h_2,\n",
        "  nn.Tanh(),\n",
        "  nn.Linear(n, classes)\n",
        ")"
      ],
      "metadata": {
        "id": "lFuYfphU4YYk"
      },
      "execution_count": 12,
      "outputs": []
    },
    {
      "cell_type": "markdown",
      "source": [
        "It’s a very objectoriented\n",
        "design: we create an object, and the object is used in two places."
      ],
      "metadata": {
        "id": "2eCn6nH-5BcW"
      }
    },
    {
      "cell_type": "code",
      "source": [
        "shared_results = train_simple_network(model_shared,\n",
        "                                       loss_func,\n",
        "                                       mnist_train_loader,\n",
        "                                       test_loader=mnist_test_loader,\n",
        "                                       score_funcs={\"Accuracy\": accuracy_score}, \n",
        "                                       device=device,\n",
        "                                       epochs=10)"
      ],
      "metadata": {
        "id": "vFnzoa3I4zxj"
      },
      "execution_count": null,
      "outputs": []
    },
    {
      "cell_type": "markdown",
      "source": [
        "We can plot the validation accuracy of both to see\n",
        "what PyTorch really learn with shared weights."
      ],
      "metadata": {
        "id": "ccyS__fC5JPn"
      }
    },
    {
      "cell_type": "code",
      "source": [
        "sns.lineplot(x='epoch', y='test Accuracy', data=regular_results, label='Normal')\n",
        "sns.lineplot(x='epoch', y='test Accuracy', data=shared_results, label='Shared')"
      ],
      "metadata": {
        "colab": {
          "base_uri": "https://localhost:8080/",
          "height": 296
        },
        "id": "quGI_krv5K4a",
        "outputId": "92a3a6ff-e6a3-4c78-eb21-6de03ea7a80d"
      },
      "execution_count": 14,
      "outputs": [
        {
          "output_type": "execute_result",
          "data": {
            "text/plain": [
              "<matplotlib.axes._subplots.AxesSubplot at 0x7f60253b9250>"
            ]
          },
          "metadata": {},
          "execution_count": 14
        },
        {
          "output_type": "display_data",
          "data": {
            "text/plain": [
              "<Figure size 432x288 with 1 Axes>"
            ],
            "image/png": "[encoded data removed]",
            "application/pdf": "[encoded data removed]"
          },
          "metadata": {
            "needs_background": "light"
          }
        }
      ]
    },
    {
      "cell_type": "markdown",
      "source": [
        "Using weight sharing doesn’t take any longer to train, and we don’t lose any accuracy.\n",
        "\n",
        "We do get a nice benefit of slightly reduced memory, but what\n",
        "we have done here is rarely used. Better approaches exist to reduce memory usage, and\n",
        "the purpose of this problem was just to demonstrate the weight sharing. \n",
        "\n",
        "We care about\n",
        "weight sharing because it is the foundation for creating and training RNNs."
      ],
      "metadata": {
        "id": "4maU8Wnt6E66"
      }
    },
    {
      "cell_type": "markdown",
      "source": [
        "##Weight sharing over time"
      ],
      "metadata": {
        "id": "NlWJNO_z6KsL"
      }
    },
    {
      "cell_type": "markdown",
      "source": [
        ""
      ],
      "metadata": {
        "id": "zW2MoRe36N4t"
      }
    }
  ]
}