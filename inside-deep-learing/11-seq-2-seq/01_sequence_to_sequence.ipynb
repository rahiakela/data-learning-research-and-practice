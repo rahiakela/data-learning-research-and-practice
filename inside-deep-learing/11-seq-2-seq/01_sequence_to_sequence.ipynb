{
  "nbformat": 4,
  "nbformat_minor": 0,
  "metadata": {
    "colab": {
      "provenance": [],
      "toc_visible": true,
      "authorship_tag": "ABX9TyNxyXxYWDvX7Uswvm2HRUgj",
      "include_colab_link": true
    },
    "kernelspec": {
      "name": "python3",
      "display_name": "Python 3"
    },
    "language_info": {
      "name": "python"
    },
    "accelerator": "GPU",
    "gpuClass": "standard"
  },
  "cells": [
    {
      "cell_type": "markdown",
      "metadata": {
        "id": "view-in-github",
        "colab_type": "text"
      },
      "source": [
        "<a href=\"https://colab.research.google.com/github/rahiakela/deep-learning-research-and-practice/blob/main/inside-deep-learing/11-seq-2-seq/01_sequence_to_sequence.ipynb\" target=\"_parent\"><img src=\"https://colab.research.google.com/assets/colab-badge.svg\" alt=\"Open In Colab\"/></a>"
      ]
    },
    {
      "cell_type": "markdown",
      "source": [
        "##Sequence-tosequence"
      ],
      "metadata": {
        "id": "ldjKkwDE9r9p"
      }
    },
    {
      "cell_type": "markdown",
      "source": [
        "In particular, we will develop an algorithm known as sequence-tosequence\n",
        "(Seq2Seq for short) that can perform machine translation. As the name implies,\n",
        "this is an approach for getting neural networks to take one sequence as input and\n",
        "produce a different sequence as the output. \n",
        "\n",
        "Seq2Seq has been used to get computers to\n",
        "perform symbolic calculus, summarize long documents, and even translate from one\n",
        "language to another. I’ll show you step by step how we can translate from English to\n",
        "French.\n",
        "\n",
        "You\n",
        "could hypothetically get an RNN to do anything Seq2Seq could do, but it would be\n",
        "difficult to get it to work. One problem is that an RNN alone implies that the output\n",
        "sequence is the same length as the input, which is rarely true. Seq2Seq decouples the\n",
        "input and output into two separate stages and parts and thus works much better.\n",
        "\n",
        "At a high level, the Seq2Seq algorithm trains a\n",
        "denoising autoencoder over sequences rather than static images. \n",
        "\n",
        "You can think of the\n",
        "original English as the noisy input and French as the clean output, and we ask the\n",
        "Seq2Seq model to learn how to remove the noise.\n",
        "\n",
        "We have an\n",
        "encoder and decoder to convert inputs to outputs just like a denoising autoencoder;\n",
        "the difference is that a Seq2Seq model works over sequences instead of images or fully\n",
        "connected inputs.\n",
        "\n",
        "![](https://github.com/rahiakela/deep-learning-research-and-practice/blob/main/inside-deep-learing/11-seq-2-seq/images/seq2seq.png?raw=1)\n",
        "\n",
        "Here we have some original input sequence $X = x_1, x_2, ..., x_T$ , and the goal is to\n",
        "output a new sequence $Y = y_1, y_2, ..., y_{\\hat T}$ . These sequences do not have to be the\n",
        "same. $x_j \\neq y_j$ , and they can even be different lengths so T $6 \\neq \\hat T$ is also possible.\n",
        "\n",
        "The secret to getting a Seq2Seq model working well is adding an attention mechanism.\n",
        "\n",
        "![](https://github.com/rahiakela/deep-learning-research-and-practice/blob/main/inside-deep-learing/11-seq-2-seq/images/seq2seq_attn.png?raw=1)\n",
        "\n",
        "Notice that the last\n",
        "hidden state from the encoder, hT , becomes the initial hidden state of the decoder, but\n",
        "we haven’t indicted what the inputs to the decoder are at each time step."
      ],
      "metadata": {
        "id": "tFXQb6wufLVZ"
      }
    },
    {
      "cell_type": "markdown",
      "source": [
        "##Setup"
      ],
      "metadata": {
        "id": "Ju6nJVQUfX5-"
      }
    },
    {
      "cell_type": "code",
      "source": [
        "!wget https://github.com/EdwardRaff/Inside-Deep-Learning/raw/main/idlmam.py"
      ],
      "metadata": {
        "id": "j8dfqZhAI7hK"
      },
      "execution_count": null,
      "outputs": []
    },
    {
      "cell_type": "code",
      "source": [
        "import torch\n",
        "import torch.nn as nn\n",
        "import torch.nn.functional as F\n",
        "import torchvision \n",
        "from torch.nn.utils.rnn import pack_padded_sequence, pad_packed_sequence\n",
        "from torchvision import transforms\n",
        "\n",
        "from torch.utils.data import Dataset, DataLoader\n",
        "\n",
        "from tqdm.autonotebook import tqdm\n",
        "\n",
        "import numpy as np\n",
        "import seaborn as sns\n",
        "import matplotlib.pyplot as plt\n",
        "from matplotlib.pyplot import imshow\n",
        "\n",
        "import pandas as pd\n",
        "\n",
        "from sklearn.metrics import accuracy_score\n",
        "\n",
        "import time\n",
        "from io import BytesIO\n",
        "from zipfile import ZipFile\n",
        "from urllib.request import urlopen\n",
        "import re\n",
        "\n",
        "from idlmam import train_network, Flatten, weight_reset, View, set_seed\n",
        "from idlmam import AttentionAvg, GeneralScore, DotScore, AdditiveAttentionScore, ApplyAttention, getMaskByFill"
      ],
      "metadata": {
        "id": "_9xoD7-8EibG"
      },
      "execution_count": 2,
      "outputs": []
    },
    {
      "cell_type": "code",
      "source": [
        "%matplotlib inline\n",
        "from IPython.display import set_matplotlib_formats\n",
        "set_matplotlib_formats('png', 'pdf')\n",
        "\n",
        "from IPython.display import display_pdf\n",
        "from IPython.display import Latex"
      ],
      "metadata": {
        "id": "8U1JNhEmEkzG"
      },
      "execution_count": null,
      "outputs": []
    },
    {
      "cell_type": "code",
      "source": [
        "torch.backends.cudnn.deterministic=True\n",
        "set_seed(42)"
      ],
      "metadata": {
        "id": "YTO1Pk4x24PP"
      },
      "execution_count": 4,
      "outputs": []
    },
    {
      "cell_type": "code",
      "source": [
        "device = torch.device(\"cuda\") if torch.cuda.is_available() else torch.device(\"cpu\")"
      ],
      "metadata": {
        "id": "nXiYSSxO707X"
      },
      "execution_count": 5,
      "outputs": []
    },
    {
      "cell_type": "markdown",
      "source": [
        "##English-French dataset"
      ],
      "metadata": {
        "id": "ycbbAdR0fjAG"
      }
    },
    {
      "cell_type": "code",
      "source": [
        "# let’s quickly load small English-French dataset\n",
        "all_data = []\n",
        "response = urlopen(\"https://download.pytorch.org/tutorial/data.zip\")\n",
        "zipfile = ZipFile(BytesIO(response.read()))\n",
        "\n",
        "for line in zipfile.open(\"data/eng-fra.txt\").readlines():\n",
        "  line = line.decode(\"utf-8\").lower()   # lower case only please\n",
        "  line = re.sub(r\"[-.!?]+\", r\" \", line) # no puntuation\n",
        "  source_lang, target_lang = line.split(\"\\t\")[0: 2]\n",
        "  all_data.append((source_lang.strip(), target_lang.strip())) # (english, french)"
      ],
      "metadata": {
        "id": "_chm5G2Z3Eqs"
      },
      "execution_count": 6,
      "outputs": []
    },
    {
      "cell_type": "code",
      "source": [
        "for i in range(10):\n",
        "  print(all_data[i])"
      ],
      "metadata": {
        "id": "NymODd7xqoW7",
        "outputId": "069c1612-63ff-4778-dc68-55054bf3c68c",
        "colab": {
          "base_uri": "https://localhost:8080/"
        }
      },
      "execution_count": 7,
      "outputs": [
        {
          "output_type": "stream",
          "name": "stdout",
          "text": [
            "('go', 'va')\n",
            "('run', 'cours')\n",
            "('run', 'courez')\n",
            "('wow', 'ça alors')\n",
            "('fire', 'au feu')\n",
            "('help', \"à l'aide\")\n",
            "('jump', 'saute')\n",
            "('stop', 'ça suffit')\n",
            "('stop', 'stop')\n",
            "('stop', 'arrête toi')\n"
          ]
        }
      ]
    },
    {
      "cell_type": "code",
      "source": [
        "all_data[:10]"
      ],
      "metadata": {
        "id": "e-hdDWUGq9tb",
        "outputId": "51aeff51-c595-4c69-9445-d026337c30e7",
        "colab": {
          "base_uri": "https://localhost:8080/"
        }
      },
      "execution_count": 8,
      "outputs": [
        {
          "output_type": "execute_result",
          "data": {
            "text/plain": [
              "[('go', 'va'),\n",
              " ('run', 'cours'),\n",
              " ('run', 'courez'),\n",
              " ('wow', 'ça alors'),\n",
              " ('fire', 'au feu'),\n",
              " ('help', \"à l'aide\"),\n",
              " ('jump', 'saute'),\n",
              " ('stop', 'ça suffit'),\n",
              " ('stop', 'stop'),\n",
              " ('stop', 'arrête toi')]"
            ]
          },
          "metadata": {},
          "execution_count": 8
        }
      ]
    },
    {
      "cell_type": "code",
      "source": [
        "# To make training faster, let’s limit ourselves to sentences that contain six or fewer words.\n",
        "short_subset = []\n",
        "MAX_LEN = 6\n",
        "\n",
        "for (s, t) in all_data:\n",
        "  if max(len(s.split(\" \")), len(t.split(\" \"))) <= MAX_LEN:\n",
        "    short_subset.append((s, t))\n",
        "print(f\"Using {len(short_subset)} / {len(all_data)}\")"
      ],
      "metadata": {
        "id": "jtko00QyrbC3",
        "outputId": "a04b3bcf-26e2-442e-87cd-9460788c695f",
        "colab": {
          "base_uri": "https://localhost:8080/"
        }
      },
      "execution_count": 9,
      "outputs": [
        {
          "output_type": "stream",
          "name": "stdout",
          "text": [
            "Using 66251 / 135842\n"
          ]
        }
      ]
    },
    {
      "cell_type": "code",
      "source": [
        "# let's defines SOS, EOS, and padding markers and creates a dictionary word2indx to create the mapping \n",
        "# and an inverted dictionary indx2word so that we can look at our results more easily when we are done\n",
        "SOS_token = \"<SOS>\"  # START_OF_SENTANCE_TOKEN\n",
        "EOS_token = \"<EOS>\"  # END_OF_SENTANCE_TOKEN\n",
        "PAD_token = \"_PADDING_\"\n",
        "\n",
        "word2index = {PAD_token: 0, SOS_token: 1, EOS_token: 2}\n",
        "for s, t in short_subset:\n",
        "  for sentance in (s, t):\n",
        "    for word in sentance.split(\" \"):\n",
        "      if word not in word2index:\n",
        "        word2index[word] = len(word2index)\n",
        "print(f\"Size of Vocab: {len(word2index)}\")\n",
        "\n",
        "# build the inverted dict for looking at the outputs later\n",
        "index2word = {}\n",
        "for word, index in word2index.items():\n",
        "  index2word[index] = word"
      ],
      "metadata": {
        "id": "DG4yIqcWsrU8",
        "outputId": "f5fb35bd-40b4-45f9-b84c-200a918d7b63",
        "colab": {
          "base_uri": "https://localhost:8080/"
        }
      },
      "execution_count": 16,
      "outputs": [
        {
          "output_type": "stream",
          "name": "stdout",
          "text": [
            "Size of Vocab: 24577\n"
          ]
        }
      ]
    },
    {
      "cell_type": "code",
      "source": [
        "class TranslationDataset(Dataset):\n",
        "  \"\"\"\n",
        "  Takes a dataset with tuples of strings (x, y) and converts them to tuples of int64 tensors. \n",
        "  This makes it easy to encode Seq2Seq problems.\n",
        "  \n",
        "  Strings in the input and output targets will be broken up by spaces\n",
        "  \"\"\"\n",
        "  def __init__(self, lang_pairs, word2index):\n",
        "    \"\"\"\n",
        "    lang_pairs: a List[Tuple[String,String]] containing the source,target pairs for a Seq2Seq problem. \n",
        "    word2indx: a Map[String,Int] that converts each word in an input string into a unique ID.\n",
        "    \"\"\"\n",
        "    self.lang_pairs = lang_pairs \n",
        "    self.word2index = word2index \n",
        "\n",
        "  def __len__(self):\n",
        "    return len(self.lang_pairs)\n",
        "\n",
        "  def __getitem__(self, idx):\n",
        "    x, y = self.lang_pairs[idx]\n",
        "    x = SOS_token + \" \" + x + \" \" + EOS_token\n",
        "    y = y + \" \" + EOS_token\n",
        "    \n",
        "    # convert to lists of integers\n",
        "    x = [self.word2index[w] for w in x.split(\" \")]\n",
        "    y = [self.word2index[w] for w in y.split(\" \")]\n",
        "\n",
        "    x = torch.tensor(x, dtype=torch.int64)\n",
        "    y = torch.tensor(y, dtype=torch.int64)\n",
        "\n",
        "    return x, y"
      ],
      "metadata": {
        "id": "rsFqIimT7L9B"
      },
      "execution_count": 17,
      "outputs": []
    },
    {
      "cell_type": "code",
      "source": [
        "big_dataset = TranslationDataset(short_subset, word2index)"
      ],
      "metadata": {
        "id": "AXROIGZbLf3A"
      },
      "execution_count": 18,
      "outputs": []
    },
    {
      "cell_type": "code",
      "source": [
        "B = 128\n",
        "epochs= 10\n",
        "\n",
        "largest_train = LargestDigit(mnist_train)\n",
        "largest_test = LargestDigit(mnist_test)\n",
        "\n",
        "train_loader = DataLoader(largest_train, batch_size=B, shuffle=True)\n",
        "test_loader = DataLoader(largest_train, batch_size=B)"
      ],
      "metadata": {
        "id": "SosIhpxes8xQ",
        "outputId": "1731c16d-d4d4-4670-b751-0f4a38b53e2d",
        "colab": {
          "base_uri": "https://localhost:8080/",
          "height": 235
        }
      },
      "execution_count": 11,
      "outputs": [
        {
          "output_type": "error",
          "ename": "NameError",
          "evalue": "ignored",
          "traceback": [
            "\u001b[0;31m---------------------------------------------------------------------------\u001b[0m",
            "\u001b[0;31mNameError\u001b[0m                                 Traceback (most recent call last)",
            "\u001b[0;32m<ipython-input-11-6036ffaac313>\u001b[0m in \u001b[0;36m<cell line: 4>\u001b[0;34m()\u001b[0m\n\u001b[1;32m      2\u001b[0m \u001b[0mepochs\u001b[0m\u001b[0;34m=\u001b[0m \u001b[0;36m10\u001b[0m\u001b[0;34m\u001b[0m\u001b[0;34m\u001b[0m\u001b[0m\n\u001b[1;32m      3\u001b[0m \u001b[0;34m\u001b[0m\u001b[0m\n\u001b[0;32m----> 4\u001b[0;31m \u001b[0mlargest_train\u001b[0m \u001b[0;34m=\u001b[0m \u001b[0mLargestDigit\u001b[0m\u001b[0;34m(\u001b[0m\u001b[0mmnist_train\u001b[0m\u001b[0;34m)\u001b[0m\u001b[0;34m\u001b[0m\u001b[0;34m\u001b[0m\u001b[0m\n\u001b[0m\u001b[1;32m      5\u001b[0m \u001b[0mlargest_test\u001b[0m \u001b[0;34m=\u001b[0m \u001b[0mLargestDigit\u001b[0m\u001b[0;34m(\u001b[0m\u001b[0mmnist_test\u001b[0m\u001b[0;34m)\u001b[0m\u001b[0;34m\u001b[0m\u001b[0;34m\u001b[0m\u001b[0m\n\u001b[1;32m      6\u001b[0m \u001b[0;34m\u001b[0m\u001b[0m\n",
            "\u001b[0;31mNameError\u001b[0m: name 'LargestDigit' is not defined"
          ]
        }
      ]
    },
    {
      "cell_type": "code",
      "source": [
        "# Testing the data loaders\n",
        "num_epochs = 1\n",
        "for epoch in range(num_epochs):\n",
        "  for batch_idx, (x, y) in enumerate(train_loader):\n",
        "    if batch_idx >= 3:\n",
        "      break\n",
        "    print(f\"Batch index: {batch_idx} | Batch size: {y.shape[0]} | x shape: {x.shape} | y shape: {y.shape}\")\n",
        "\n",
        "print(f\"Labels from current batch: {y}\")"
      ],
      "metadata": {
        "id": "f3FVMPa8Fn04"
      },
      "execution_count": null,
      "outputs": []
    }
  ]
}