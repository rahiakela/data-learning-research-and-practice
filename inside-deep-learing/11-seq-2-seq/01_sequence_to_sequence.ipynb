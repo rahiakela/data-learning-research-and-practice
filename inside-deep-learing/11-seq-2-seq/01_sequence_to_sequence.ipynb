{
  "nbformat": 4,
  "nbformat_minor": 0,
  "metadata": {
    "colab": {
      "provenance": [],
      "toc_visible": true,
      "authorship_tag": "ABX9TyPrzDFjsmMxqcl5+3X2g8X2",
      "include_colab_link": true
    },
    "kernelspec": {
      "name": "python3",
      "display_name": "Python 3"
    },
    "language_info": {
      "name": "python"
    },
    "accelerator": "GPU",
    "gpuClass": "standard"
  },
  "cells": [
    {
      "cell_type": "markdown",
      "metadata": {
        "id": "view-in-github",
        "colab_type": "text"
      },
      "source": [
        "<a href=\"https://colab.research.google.com/github/rahiakela/deep-learning-research-and-practice/blob/main/inside-deep-learing/11-seq-2-seq/01_sequence_to_sequence.ipynb\" target=\"_parent\"><img src=\"https://colab.research.google.com/assets/colab-badge.svg\" alt=\"Open In Colab\"/></a>"
      ]
    },
    {
      "cell_type": "markdown",
      "source": [
        "##Sequence-tosequence"
      ],
      "metadata": {
        "id": "ldjKkwDE9r9p"
      }
    },
    {
      "cell_type": "markdown",
      "source": [
        "In particular, we will develop an algorithm known as sequence-tosequence\n",
        "(Seq2Seq for short) that can perform machine translation. As the name implies,\n",
        "this is an approach for getting neural networks to take one sequence as input and\n",
        "produce a different sequence as the output. \n",
        "\n",
        "Seq2Seq has been used to get computers to\n",
        "perform symbolic calculus, summarize long documents, and even translate from one\n",
        "language to another. I’ll show you step by step how we can translate from English to\n",
        "French.\n",
        "\n",
        "You\n",
        "could hypothetically get an RNN to do anything Seq2Seq could do, but it would be\n",
        "difficult to get it to work. One problem is that an RNN alone implies that the output\n",
        "sequence is the same length as the input, which is rarely true. Seq2Seq decouples the\n",
        "input and output into two separate stages and parts and thus works much better.\n",
        "\n",
        "At a high level, the Seq2Seq algorithm trains a\n",
        "denoising autoencoder over sequences rather than static images. \n",
        "\n",
        "You can think of the\n",
        "original English as the noisy input and French as the clean output, and we ask the\n",
        "Seq2Seq model to learn how to remove the noise.\n",
        "\n",
        "We have an\n",
        "encoder and decoder to convert inputs to outputs just like a denoising autoencoder;\n",
        "the difference is that a Seq2Seq model works over sequences instead of images or fully\n",
        "connected inputs.\n",
        "\n",
        "![](https://github.com/rahiakela/deep-learning-research-and-practice/blob/main/inside-deep-learing/11-seq-2-seq/images/seq2seq.png?raw=1)\n",
        "\n",
        "Here we have some original input sequence $X = x_1, x_2, ..., x_T$ , and the goal is to\n",
        "output a new sequence $Y = y_1, y_2, ..., y_{\\hat T}$ . These sequences do not have to be the\n",
        "same. $x_j \\neq y_j$ , and they can even be different lengths so T $6 \\neq \\hat T$ is also possible.\n",
        "\n",
        "The secret to getting a Seq2Seq model working well is adding an attention mechanism.\n",
        "\n",
        "![](https://github.com/rahiakela/deep-learning-research-and-practice/blob/main/inside-deep-learing/11-seq-2-seq/images/seq2seq_attn.png?raw=1)\n",
        "\n",
        "Notice that the last\n",
        "hidden state from the encoder, hT , becomes the initial hidden state of the decoder, but\n",
        "we haven’t indicted what the inputs to the decoder are at each time step."
      ],
      "metadata": {
        "id": "tFXQb6wufLVZ"
      }
    },
    {
      "cell_type": "markdown",
      "source": [
        "##Setup"
      ],
      "metadata": {
        "id": "Ju6nJVQUfX5-"
      }
    },
    {
      "cell_type": "code",
      "source": [
        "!wget https://github.com/EdwardRaff/Inside-Deep-Learning/raw/main/idlmam.py"
      ],
      "metadata": {
        "id": "j8dfqZhAI7hK"
      },
      "execution_count": null,
      "outputs": []
    },
    {
      "cell_type": "code",
      "source": [
        "import torch\n",
        "import torch.nn as nn\n",
        "import torch.nn.functional as F\n",
        "import torchvision \n",
        "from torch.nn.utils.rnn import pack_padded_sequence, pad_packed_sequence\n",
        "from torchvision import transforms\n",
        "\n",
        "from torch.utils.data import Dataset, DataLoader\n",
        "\n",
        "from tqdm.autonotebook import tqdm\n",
        "\n",
        "import numpy as np\n",
        "import seaborn as sns\n",
        "import matplotlib.pyplot as plt\n",
        "from matplotlib.pyplot import imshow\n",
        "\n",
        "import pandas as pd\n",
        "\n",
        "from sklearn.metrics import accuracy_score\n",
        "\n",
        "import time\n",
        "from io import BytesIO\n",
        "from zipfile import ZipFile\n",
        "from urllib.request import urlopen\n",
        "import re\n",
        "\n",
        "from idlmam import train_network, Flatten, weight_reset, View, set_seed\n",
        "from idlmam import AttentionAvg, GeneralScore, DotScore, AdditiveAttentionScore, ApplyAttention, getMaskByFill"
      ],
      "metadata": {
        "id": "_9xoD7-8EibG"
      },
      "execution_count": 2,
      "outputs": []
    },
    {
      "cell_type": "code",
      "source": [
        "%matplotlib inline\n",
        "from IPython.display import set_matplotlib_formats\n",
        "set_matplotlib_formats('png', 'pdf')\n",
        "\n",
        "from IPython.display import display_pdf\n",
        "from IPython.display import Latex"
      ],
      "metadata": {
        "id": "8U1JNhEmEkzG"
      },
      "execution_count": 3,
      "outputs": []
    },
    {
      "cell_type": "code",
      "source": [
        "torch.backends.cudnn.deterministic=True\n",
        "set_seed(42)"
      ],
      "metadata": {
        "id": "YTO1Pk4x24PP"
      },
      "execution_count": 4,
      "outputs": []
    },
    {
      "cell_type": "code",
      "source": [
        "device = torch.device(\"cuda\") if torch.cuda.is_available() else torch.device(\"cpu\")"
      ],
      "metadata": {
        "id": "nXiYSSxO707X"
      },
      "execution_count": 5,
      "outputs": []
    },
    {
      "cell_type": "markdown",
      "source": [
        "##English-French dataset"
      ],
      "metadata": {
        "id": "ycbbAdR0fjAG"
      }
    },
    {
      "cell_type": "code",
      "source": [
        "# let’s quickly load small English-French dataset\n",
        "all_data = []\n",
        "response = urlopen(\"https://download.pytorch.org/tutorial/data.zip\")\n",
        "zipfile = ZipFile(BytesIO(response.read()))\n",
        "\n",
        "for line in zipfile.open(\"data/eng-fra.txt\").readlines():\n",
        "  line = line.decode(\"utf-8\").lower()   # lower case only please\n",
        "  line = re.sub(r\"[-.!?]+\", r\" \", line) # no puntuation\n",
        "  source_lang, target_lang = line.split(\"\\t\")[0: 2]\n",
        "  all_data.append((source_lang.strip(), target_lang.strip())) # (english, french)"
      ],
      "metadata": {
        "id": "_chm5G2Z3Eqs"
      },
      "execution_count": 6,
      "outputs": []
    },
    {
      "cell_type": "code",
      "source": [
        "for i in range(10):\n",
        "  print(all_data[i])"
      ],
      "metadata": {
        "id": "NymODd7xqoW7",
        "outputId": "0887efc8-1acc-4be8-9fa5-614b91e5c021",
        "colab": {
          "base_uri": "https://localhost:8080/"
        }
      },
      "execution_count": 7,
      "outputs": [
        {
          "output_type": "stream",
          "name": "stdout",
          "text": [
            "('go', 'va')\n",
            "('run', 'cours')\n",
            "('run', 'courez')\n",
            "('wow', 'ça alors')\n",
            "('fire', 'au feu')\n",
            "('help', \"à l'aide\")\n",
            "('jump', 'saute')\n",
            "('stop', 'ça suffit')\n",
            "('stop', 'stop')\n",
            "('stop', 'arrête toi')\n"
          ]
        }
      ]
    },
    {
      "cell_type": "code",
      "source": [
        "all_data[:10]"
      ],
      "metadata": {
        "id": "e-hdDWUGq9tb",
        "outputId": "5a315b20-8bf2-420d-c004-ba53ded06736",
        "colab": {
          "base_uri": "https://localhost:8080/"
        }
      },
      "execution_count": 8,
      "outputs": [
        {
          "output_type": "execute_result",
          "data": {
            "text/plain": [
              "[('go', 'va'),\n",
              " ('run', 'cours'),\n",
              " ('run', 'courez'),\n",
              " ('wow', 'ça alors'),\n",
              " ('fire', 'au feu'),\n",
              " ('help', \"à l'aide\"),\n",
              " ('jump', 'saute'),\n",
              " ('stop', 'ça suffit'),\n",
              " ('stop', 'stop'),\n",
              " ('stop', 'arrête toi')]"
            ]
          },
          "metadata": {},
          "execution_count": 8
        }
      ]
    },
    {
      "cell_type": "code",
      "source": [
        "# To make training faster, let’s limit ourselves to sentences that contain six or fewer words.\n",
        "short_subset = []\n",
        "MAX_LEN = 6\n",
        "\n",
        "for (s, t) in all_data:\n",
        "  if max(len(s.split(\" \")), len(t.split(\" \"))) <= MAX_LEN:\n",
        "    short_subset.append((s, t))\n",
        "print(f\"Using {len(short_subset)} / {len(all_data)}\")"
      ],
      "metadata": {
        "id": "jtko00QyrbC3",
        "outputId": "d60471b1-5465-412c-ef4c-8387caf4cc7a",
        "colab": {
          "base_uri": "https://localhost:8080/"
        }
      },
      "execution_count": 9,
      "outputs": [
        {
          "output_type": "stream",
          "name": "stdout",
          "text": [
            "Using 66251 / 135842\n"
          ]
        }
      ]
    },
    {
      "cell_type": "code",
      "source": [],
      "metadata": {
        "id": "DG4yIqcWsrU8"
      },
      "execution_count": null,
      "outputs": []
    },
    {
      "cell_type": "code",
      "source": [
        "class TranslationDataset(Dataset):\n",
        "  \"\"\"\n",
        "  Creates a modified version of a dataset where some number of samples are taken, \n",
        "  and the true label is the largest label sampled. When used with MNIST the labels \n",
        "  correspond to their values (e.g., digit \"6\" has label 6)\n",
        "  \"\"\"\n",
        "  def __init__(self, dataset, toSample=3):\n",
        "    \"\"\"\n",
        "    dataset: the dataset to sample from\n",
        "    toSample: the number of items from the dataset to sample\n",
        "    \"\"\"\n",
        "    self.dataset = dataset\n",
        "    self.toSample = toSample \n",
        "\n",
        "  def __len__(self):\n",
        "    return len(self.dataset)\n",
        "\n",
        "  def __getitem__(self, idx):\n",
        "    # Randomly select n=self.toSample items from the dataset\n",
        "    selected = np.random.randint(0, len(self.dataset), size=self.toSample)\n",
        "    \n",
        "    # Stack the n items of shape (B, *) shape into (B, n, *)\n",
        "    x_new = torch.stack([self.dataset[i][0] for i in selected])\n",
        "    # Label is the maximum label\n",
        "    y_new = max([self.dataset[i][1] for i in selected])\n",
        "    \n",
        "    # Return (data, label) pair!\n",
        "    return x_new, y_new"
      ],
      "metadata": {
        "id": "rsFqIimT7L9B"
      },
      "execution_count": null,
      "outputs": []
    },
    {
      "cell_type": "code",
      "source": [
        "B = 128\n",
        "epochs= 10\n",
        "\n",
        "largest_train = LargestDigit(mnist_train)\n",
        "largest_test = LargestDigit(mnist_test)\n",
        "\n",
        "train_loader = DataLoader(largest_train, batch_size=B, shuffle=True)\n",
        "test_loader = DataLoader(largest_train, batch_size=B)"
      ],
      "metadata": {
        "id": "SosIhpxes8xQ"
      },
      "execution_count": null,
      "outputs": []
    },
    {
      "cell_type": "code",
      "source": [
        "# Want a consistent dataset split\n",
        "set_seed(34)\n",
        "\n",
        "x, y = largest_train[0]\n",
        "\n",
        "f, axarr = plt.subplots(1, 3, figsize=(10, 10))\n",
        "for i in range(3):\n",
        "  axarr[i].imshow(x[i, 0, :].numpy(), cmap=\"gray\", vmin=0, vmax=1)\n",
        "print(f\"True Label is = {y}\")"
      ],
      "metadata": {
        "id": "f3FVMPa8Fn04",
        "outputId": "00ca967b-98f2-4f26-883d-97fde509053d",
        "colab": {
          "base_uri": "https://localhost:8080/",
          "height": 230
        }
      },
      "execution_count": null,
      "outputs": [
        {
          "output_type": "stream",
          "name": "stdout",
          "text": [
            "True Label is = 8\n"
          ]
        },
        {
          "output_type": "display_data",
          "data": {
            "text/plain": [
              "<Figure size 720x720 with 3 Axes>"
            ],
            "image/png": "[encoded data removed]",
            "application/pdf": "[encoded data removed]"
          },
          "metadata": {
            "needs_background": "light"
          }
        }
      ]
    }
  ]
}