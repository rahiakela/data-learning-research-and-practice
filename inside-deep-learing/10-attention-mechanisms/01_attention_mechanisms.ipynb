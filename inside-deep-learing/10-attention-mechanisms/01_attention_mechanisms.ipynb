{
  "nbformat": 4,
  "nbformat_minor": 0,
  "metadata": {
    "colab": {
      "provenance": [],
      "toc_visible": true,
      "authorship_tag": "ABX9TyP9TkD+K8ef3XOGFmeLlxcq",
      "include_colab_link": true
    },
    "kernelspec": {
      "name": "python3",
      "display_name": "Python 3"
    },
    "language_info": {
      "name": "python"
    },
    "accelerator": "GPU",
    "gpuClass": "standard"
  },
  "cells": [
    {
      "cell_type": "markdown",
      "metadata": {
        "id": "view-in-github",
        "colab_type": "text"
      },
      "source": [
        "<a href=\"https://colab.research.google.com/github/rahiakela/deep-learning-research-and-practice/blob/main/inside-deep-learing/10-attention-mechanisms/01_attention_mechanisms.ipynb\" target=\"_parent\"><img src=\"https://colab.research.google.com/assets/colab-badge.svg\" alt=\"Open In Colab\"/></a>"
      ]
    },
    {
      "cell_type": "markdown",
      "source": [
        "##Attention mechanisms"
      ],
      "metadata": {
        "id": "ldjKkwDE9r9p"
      }
    },
    {
      "cell_type": "markdown",
      "source": [
        "Deep learning models can also learn to pay attention to some input, or features, and\n",
        "ignore other features. They do this with attention mechanisms, which are another type of\n",
        "prior belief we can impose on our network. \n",
        "\n",
        "Attention mechanisms help us deal with\n",
        "situations where part of our input may be irrelevant, or when we need to focus on one\n",
        "feature of many features being fed into the model.\n",
        "\n",
        "We would like to endow our networks with the ability to ignore superfluous and\n",
        "distracting inputs to focus on the most important portions, and that’s the goal of\n",
        "an attention mechanism. \n",
        "\n",
        "If you believe some of your input features are more or less\n",
        "important than other features, you should consider using an attention-based approach\n",
        "in your model. \n",
        "\n",
        "If you want state-of-the-art results on speech recognition, object detection,\n",
        "a chat bot, or machine translation, for instance, you will probably be using an attention\n",
        "mechanism.\n",
        "\n",
        "In this notebook, we see how attention works on some toy problems out of the MNIST dataset that is too hard for a normal network but is easily and better\n",
        "solved with a simple kind of attention that learns how to score the importance of each\n",
        "item in the input. \n",
        "\n",
        "Then we improve the simple attention into a full-fledged approach\n",
        "that takes into account some context to better infer the importance of items in the input."
      ],
      "metadata": {
        "id": "tFXQb6wufLVZ"
      }
    },
    {
      "cell_type": "markdown",
      "source": [
        "##Setup"
      ],
      "metadata": {
        "id": "Ju6nJVQUfX5-"
      }
    },
    {
      "cell_type": "code",
      "source": [
        "!wget https://github.com/EdwardRaff/Inside-Deep-Learning/raw/main/idlmam.py"
      ],
      "metadata": {
        "id": "j8dfqZhAI7hK"
      },
      "execution_count": null,
      "outputs": []
    },
    {
      "cell_type": "code",
      "source": [
        "import torch\n",
        "import torch.nn as nn\n",
        "import torch.nn.functional as F\n",
        "import torchvision \n",
        "from torch.nn.utils.rnn import pack_padded_sequence, pad_packed_sequence\n",
        "from torchvision import transforms\n",
        "\n",
        "from torch.utils.data import Dataset, DataLoader\n",
        "\n",
        "from tqdm.autonotebook import tqdm\n",
        "\n",
        "import numpy as np\n",
        "import seaborn as sns\n",
        "import matplotlib.pyplot as plt\n",
        "from matplotlib.pyplot import imshow\n",
        "\n",
        "import pandas as pd\n",
        "\n",
        "from sklearn.metrics import accuracy_score\n",
        "\n",
        "import time\n",
        "\n",
        "from idlmam import train_network, Flatten, weight_reset, View, set_seed"
      ],
      "metadata": {
        "id": "_9xoD7-8EibG"
      },
      "execution_count": 2,
      "outputs": []
    },
    {
      "cell_type": "code",
      "source": [
        "%matplotlib inline\n",
        "from IPython.display import set_matplotlib_formats\n",
        "set_matplotlib_formats('png', 'pdf')"
      ],
      "metadata": {
        "id": "8U1JNhEmEkzG"
      },
      "execution_count": 3,
      "outputs": []
    },
    {
      "cell_type": "code",
      "source": [
        "torch.backends.cudnn.deterministic=True\n",
        "set_seed(42)"
      ],
      "metadata": {
        "id": "YTO1Pk4x24PP"
      },
      "execution_count": 4,
      "outputs": []
    },
    {
      "cell_type": "code",
      "source": [
        "device = torch.device(\"cuda\") if torch.cuda.is_available() else torch.device(\"cpu\")"
      ],
      "metadata": {
        "id": "nXiYSSxO707X"
      },
      "execution_count": 5,
      "outputs": []
    },
    {
      "cell_type": "markdown",
      "source": [
        "##Dataset"
      ],
      "metadata": {
        "id": "ycbbAdR0fjAG"
      }
    },
    {
      "cell_type": "markdown",
      "source": [
        "Now that we can load the dataset."
      ],
      "metadata": {
        "id": "_D1pqiSk-Bmp"
      }
    },
    {
      "cell_type": "code",
      "source": [
        "# let’s quickly load MNIST dataset\n",
        "mnist_train = torchvision.datasets.MNIST(\"./\", train=True, transform=transforms.ToTensor(), download=True)\n",
        "mnist_test = torchvision.datasets.MNIST(\"./\", train=False, transform=transforms.ToTensor(), download=True)"
      ],
      "metadata": {
        "id": "_chm5G2Z3Eqs"
      },
      "execution_count": null,
      "outputs": []
    },
    {
      "cell_type": "markdown",
      "source": [
        "Attention mechanisms are most useful when we have multiple items as inputs into our model.\n",
        "\n",
        "Since MNIST is a single digit, we will augment each item in MNIST to become a\n",
        "bag of digits. We use fully connected layers for this (i.e., flattened MNIST, ignoring the\n",
        "image nature), so instead of having a batch of digits `(B,D)`, we have `T` digits `(B, T, D)`.\n",
        "\n",
        "So why did I call this a bag instead of a sequence? \n",
        "\n",
        "Because we don’t care in what order\n",
        "the digits are presented in the tensor. We just need a tensor large enough to hold everything in the bag.\n",
        "\n",
        "Given a bag of digits $x_1, x_2, ... , x_T$ , we have a label y that is equal to the largest digit in the bag. If our bag contains 0, 2, 9, the label for the bag is “9.”\n",
        "\n",
        "Let's implements a LargestDigit class to wrap an input dataset and create new items by\n",
        "randomly filling a bag of toSample items and selecting the maximum label value."
      ],
      "metadata": {
        "id": "vxdmR9er7Jn_"
      }
    },
    {
      "cell_type": "code",
      "source": [
        "class LargestDigit(Dataset):\n",
        "  \"\"\"\n",
        "  Creates a modified version of a dataset where some number of samples are taken, \n",
        "  and the true label is the largest label sampled. When used with MNIST the labels \n",
        "  correspond to their values (e.g., digit \"6\" has label 6)\n",
        "  \"\"\"\n",
        "  def __init__(self, dataset, toSample=3):\n",
        "    \"\"\"\n",
        "    dataset: the dataset to sample from\n",
        "    toSample: the number of items from the dataset to sample\n",
        "    \"\"\"\n",
        "    self.dataset = dataset\n",
        "    self.toSample = toSample \n",
        "\n",
        "  def __len__(self):\n",
        "    return len(self.dataset)\n",
        "\n",
        "  def __getitem__(self, idx):\n",
        "    # Randomly select n=self.toSample items from the dataset\n",
        "    selected = np.random.randint(0, len(self.dataset), size=self.toSample)\n",
        "    \n",
        "    # Stack the n items of shape (B, *) shape into (B, n, *)\n",
        "    x_new = torch.stack([self.dataset[i][0] for i in selected])\n",
        "    # Label is the maximum label\n",
        "    y_new = max([self.dataset[i][1] for i in selected])\n",
        "    \n",
        "    # Return (data, label) pair!\n",
        "    return x_new, y_new"
      ],
      "metadata": {
        "id": "rsFqIimT7L9B"
      },
      "execution_count": 7,
      "outputs": []
    },
    {
      "cell_type": "code",
      "source": [
        "B = 128\n",
        "epochs= 10\n",
        "\n",
        "largest_train = LargestDigit(mnist_train)\n",
        "largest_test = LargestDigit(mnist_test)\n",
        "\n",
        "train_loader = DataLoader(largest_train, batch_size=B, shuffle=True)\n",
        "test_loader = DataLoader(largest_train, batch_size=B)"
      ],
      "metadata": {
        "id": "SosIhpxes8xQ"
      },
      "execution_count": 8,
      "outputs": []
    },
    {
      "cell_type": "code",
      "source": [
        "# Want a consistent dataset split\n",
        "set_seed(34)\n",
        "\n",
        "x, y = largest_train[0]\n",
        "\n",
        "f, axarr = plt.subplots(1, 3, figsize=(10, 10))\n",
        "for i in range(3):\n",
        "  axarr[i].imshow(x[i, 0, :].numpy(), cmap=\"gray\", vmin=0, vmax=1)\n",
        "print(f\"True Label is = {y}\")"
      ],
      "metadata": {
        "id": "f3FVMPa8Fn04",
        "outputId": "00ca967b-98f2-4f26-883d-97fde509053d",
        "colab": {
          "base_uri": "https://localhost:8080/",
          "height": 230
        }
      },
      "execution_count": 9,
      "outputs": [
        {
          "output_type": "stream",
          "name": "stdout",
          "text": [
            "True Label is = 8\n"
          ]
        },
        {
          "output_type": "display_data",
          "data": {
            "text/plain": [
              "<Figure size 720x720 with 3 Axes>"
            ],
            "image/png": "[encoded data removed]",
            "application/pdf": "[encoded data removed]"
          },
          "metadata": {
            "needs_background": "light"
          }
        }
      ]
    },
    {
      "cell_type": "markdown",
      "source": [
        "##Baseline Model"
      ],
      "metadata": {
        "id": "jWt4blqXcPM-"
      }
    },
    {
      "cell_type": "markdown",
      "source": [
        "Let's train a simple fully connected network and treat\n",
        "this like any other classification problem we might attempt. \n",
        "\n",
        "This will be our baseline\n",
        "and show how hard the new version of MNIST is:."
      ],
      "metadata": {
        "id": "R3F7T9dAMVEv"
      }
    },
    {
      "cell_type": "code",
      "source": [
        "neurons = 256     \n",
        "classes = 10 "
      ],
      "metadata": {
        "id": "_WbqbWoTMYWx"
      },
      "execution_count": 10,
      "outputs": []
    },
    {
      "cell_type": "code",
      "source": [
        "simple_net = nn.Sequential(\n",
        "  nn.Flatten(),\n",
        "  nn.Linear(784 * 3, neurons), # 784*3 because there are 784 pixels in an image and 3 images in the bag\n",
        "  nn.LeakyReLU(),\n",
        "  nn.BatchNorm1d(neurons),\n",
        "\n",
        "  nn.Linear(neurons, neurons),\n",
        "  nn.LeakyReLU(),\n",
        "  nn.BatchNorm1d(neurons),\n",
        "\n",
        "  nn.Linear(neurons, neurons),\n",
        "  nn.LeakyReLU(),\n",
        "  nn.BatchNorm1d(neurons),\n",
        "\n",
        "  nn.Linear(neurons, classes)\n",
        ")"
      ],
      "metadata": {
        "id": "8HIiIgjPTfoU"
      },
      "execution_count": 11,
      "outputs": []
    },
    {
      "cell_type": "markdown",
      "source": [
        "Let's train this model."
      ],
      "metadata": {
        "id": "GBQpKWFm69eJ"
      }
    },
    {
      "cell_type": "code",
      "source": [
        "simple_results = train_network(simple_net, \n",
        "                               nn.CrossEntropyLoss(), \n",
        "                               train_loader, \n",
        "                               val_loader=test_loader,\n",
        "                               epochs=epochs,\n",
        "                               score_funcs={\"Accuracy\": accuracy_score},\n",
        "                               device=device)"
      ],
      "metadata": {
        "id": "XhZ2AVVTW9Dp"
      },
      "execution_count": null,
      "outputs": []
    },
    {
      "cell_type": "markdown",
      "source": [
        "Now let’s plot the results."
      ],
      "metadata": {
        "id": "XOFvHbBWoDPW"
      }
    },
    {
      "cell_type": "code",
      "source": [
        "sns.lineplot(x=\"epoch\", y=\"val Accuracy\", data=simple_results, label=\"Regular\")"
      ],
      "metadata": {
        "id": "HadMNMamRMda",
        "outputId": "66d7cb86-4476-46f4-b841-5dfd57a2c108",
        "colab": {
          "base_uri": "https://localhost:8080/",
          "height": 296
        }
      },
      "execution_count": 13,
      "outputs": [
        {
          "output_type": "execute_result",
          "data": {
            "text/plain": [
              "<matplotlib.axes._subplots.AxesSubplot at 0x7efe21dee7c0>"
            ]
          },
          "metadata": {},
          "execution_count": 13
        },
        {
          "output_type": "display_data",
          "data": {
            "text/plain": [
              "<Figure size 432x288 with 1 Axes>"
            ],
            "image/png": "[encoded data removed]",
            "application/pdf": "[encoded data removed]"
          },
          "metadata": {
            "needs_background": "light"
          }
        }
      ]
    },
    {
      "cell_type": "markdown",
      "source": [
        "##Attention mechanics"
      ],
      "metadata": {
        "id": "AFTcJjRbKEdL"
      }
    },
    {
      "cell_type": "markdown",
      "source": [
        "We need a new version of the nn.Flatten\n",
        "function that leaves the first two axes of our tensor alone."
      ],
      "metadata": {
        "id": "IfFK_xy2Cmqs"
      }
    },
    {
      "cell_type": "code",
      "source": [
        "class FlattenLayer(nn.Module):\n",
        "  \"\"\"\n",
        "  Takes a vector of shape (A, B, C, D, E, ...)\n",
        "  and flattens everything but the first two dimensions, \n",
        "  giving a result of shape (A, B, C*D*E*...)\n",
        "  \"\"\"\n",
        "  def forward(self, input):\n",
        "    return input.view(input.size(0), input.size(1), -1)"
      ],
      "metadata": {
        "id": "7fFDCJfBCoDP"
      },
      "execution_count": 14,
      "outputs": []
    },
    {
      "cell_type": "markdown",
      "source": [
        "Let's create a Combiner class that will combine the attention weights $\\alpha$ with the extracted feature representations $h_1,h_2,..., h_T$ and computes the weighted average $\\bar x = \\Sigma_{i=1}^T \\alpha_i.h_i$"
      ],
      "metadata": {
        "id": "ku1DfcrgDsFb"
      }
    },
    {
      "cell_type": "code",
      "source": [
        "class Combiner(nn.Module):\n",
        "  \"\"\"\n",
        "  This class is used to combine a feature exraction network F and a importance prediction network W,\n",
        "  and combine their outputs by adding and summing them together. \n",
        "  \"\"\"\n",
        "  def __init__(self, feature_extraction, weight_selection):\n",
        "    \"\"\"\n",
        "    featureExtraction: a network that takes an input of shape (B, T, D) and outputs a new representation of shape (B, T, D'). \n",
        "    weightSelection: a network that takes in an input of shape (B, T, D') and outputs a \n",
        "      tensor of shape (B, T, 1) or (B, T). It should be normalized, so that the T values at the end sum to one (torch.sum(_, dim=1) = 1.0)\n",
        "    \"\"\"\n",
        "    super(Combiner, self).__init__()\n",
        "    self.feature_extraction = feature_extraction\n",
        "    self.weight_selection = weight_selection\n",
        "\n",
        "  def forward(self, input):\n",
        "    \"\"\"\n",
        "    input: a tensor of shape (B, T, D)\n",
        "    return: a new tensor of shape (B, D')\n",
        "    \"\"\"\n",
        "    features = self.feature_extraction(input)  # (B, T, D) h_i = F(x_i)\n",
        "    weights = self.weight_selection(features)  # (B, T) or (B, T, 1) for alpha\n",
        "    if len(weights.shape) == 2:                # (B, T) shape\n",
        "      weights.unsqueese(2)                     # Now (B, T, 1) shape\n",
        "    \n",
        "    result = features * weights                # (B, T, D) computes alpha_i . h_i\n",
        "    return torch.sum(result, dim=1)            # Sums over the T dimension, giving the (B, D) final shape"
      ],
      "metadata": {
        "id": "4buCXAkPEa4a"
      },
      "execution_count": 15,
      "outputs": []
    },
    {
      "cell_type": "markdown",
      "source": [
        "Now we are ready to define our attention-based model for this problem."
      ],
      "metadata": {
        "id": "j8SSVyTDMFLl"
      }
    },
    {
      "cell_type": "code",
      "source": [
        "T = 3   # how many items are in our bag\n",
        "D = 784 # how many number of features"
      ],
      "metadata": {
        "id": "_eZ8Z0vGMFo8"
      },
      "execution_count": 16,
      "outputs": []
    },
    {
      "cell_type": "code",
      "source": [
        "# let's define is the feature extraction network\n",
        "backbone_network = nn.Sequential(\n",
        "    FlattenLayer(),         # Shape is now (B, T, D)\n",
        "    nn.Linear(D, neurons),  # Shape becomes (B, T, neurons)\n",
        "    nn.LeakyReLU(),\n",
        "    nn.Linear(neurons, neurons),\n",
        "    nn.LeakyReLU(),\n",
        "    nn.Linear(neurons, neurons),\n",
        "    nn.LeakyReLU()          # still (B, T, neurons) on the way out\n",
        ") "
      ],
      "metadata": {
        "id": "Fm0HYlNSZ85S"
      },
      "execution_count": 17,
      "outputs": []
    },
    {
      "cell_type": "markdown",
      "source": [
        "Now we need a network to compute the attention mechanism weights $\\alpha$."
      ],
      "metadata": {
        "id": "xEhyUUoCbDhk"
      }
    },
    {
      "cell_type": "code",
      "source": [
        "attention_mechanism = nn.Sequential(\n",
        "    # Shape is (B, T, neurons)\n",
        "    nn.Linear(neurons, neurons),\n",
        "    nn.LeakyReLU(),\n",
        "    nn.Linear(neurons, 1),  # (B, T, 1)\n",
        "    nn.Softmax(dim=1)\n",
        ")"
      ],
      "metadata": {
        "id": "L58plPadbHFh"
      },
      "execution_count": 18,
      "outputs": []
    },
    {
      "cell_type": "markdown",
      "source": [
        "Now we can now define a complete attention-based network."
      ],
      "metadata": {
        "id": "qrLuj6OQcw-I"
      }
    },
    {
      "cell_type": "code",
      "source": [
        "simple_attention_net = nn.Sequential(\n",
        "    # input is (B, T, C, W, H). backbone & attention will be used by combiner to process\n",
        "    Combiner(backbone_network, attention_mechanism),  # result is (B, neurons)\n",
        "    nn.BatchNorm1d(neurons),\n",
        "    nn.Linear(neurons, neurons),\n",
        "    nn.LeakyReLU(),\n",
        "    nn.BatchNorm1d(neurons),\n",
        "    nn.Linear(neurons, classes)\n",
        ")\n",
        "\n",
        "# let's train it\n",
        "simple_attn_results = train_network(simple_attention_net, \n",
        "                                    nn.CrossEntropyLoss(), \n",
        "                                    train_loader, \n",
        "                                    val_loader=test_loader,\n",
        "                                    epochs=epochs,\n",
        "                                    score_funcs={\"Accuracy\": accuracy_score},\n",
        "                                    device=device)"
      ],
      "metadata": {
        "id": "UlhDRIY3cyL_"
      },
      "execution_count": null,
      "outputs": []
    },
    {
      "cell_type": "markdown",
      "source": [
        "Now let’s plot the results."
      ],
      "metadata": {
        "id": "KFXFIVk2dzcl"
      }
    },
    {
      "cell_type": "code",
      "source": [
        "sns.lineplot(x=\"epoch\", y=\"val Accuracy\", data=simple_results, label=\"Regular\")\n",
        "sns.lineplot(x=\"epoch\", y=\"val Accuracy\", data=simple_attn_results, label=\"Simple Attention\")"
      ],
      "metadata": {
        "id": "O-v21yjzdzjo",
        "outputId": "5a244e88-4f2e-47ec-8d97-c073f61e92d1",
        "colab": {
          "base_uri": "https://localhost:8080/",
          "height": 298
        }
      },
      "execution_count": 20,
      "outputs": [
        {
          "output_type": "execute_result",
          "data": {
            "text/plain": [
              "<matplotlib.axes._subplots.AxesSubplot at 0x7efe6003f9a0>"
            ]
          },
          "metadata": {},
          "execution_count": 20
        },
        {
          "output_type": "display_data",
          "data": {
            "text/plain": [
              "<Figure size 432x288 with 1 Axes>"
            ],
            "image/png": "[encoded data removed]",
            "application/pdf": "[encoded data removed]"
          },
          "metadata": {
            "needs_background": "light"
          }
        }
      ]
    },
    {
      "cell_type": "markdown",
      "source": [
        "We can also select random samples from the dataset and look at how the attention\n",
        "mechanism selects the inputs."
      ],
      "metadata": {
        "id": "MafteKKneKYW"
      }
    },
    {
      "cell_type": "code",
      "source": [
        "set_seed(1)\n",
        "\n",
        "# Select a data point (which is a bag)\n",
        "x, y = largest_train[0]\n",
        "x = x.to(device)\n",
        "\n",
        "with torch.no_grad():\n",
        "  weights = attention_mechanism(backbone_network(x.unsqueeze(0)))  # apply score(F(x))\n",
        "  weights = weights.cpu().numpy().ravel()\n",
        "\n",
        "# make a plot for all 3 digits\n",
        "f, axarr = plt.subplots(1, 3, figsize=(10, 10))\n",
        "for i in range(3):\n",
        "  # Plot the digit\n",
        "  axarr[i].imshow(x[i, 0, :].cpu().numpy(), cmap=\"gray\", vmin=0, vmax=1)\n",
        "  # Draw the attention score in the top left\n",
        "  axarr[i].text(0.0, 0.5, str(round(weights[i], 2)), dict(size=40, color=\"red\"))\n",
        "\n",
        "print(f\"True Label is = {y}\")"
      ],
      "metadata": {
        "id": "8UM6o9K3eK0Q",
        "outputId": "4403a4d3-59b5-40a6-f592-fff1cffa3cf1",
        "colab": {
          "base_uri": "https://localhost:8080/",
          "height": 254
        }
      },
      "execution_count": 21,
      "outputs": [
        {
          "output_type": "stream",
          "name": "stdout",
          "text": [
            "True Label is = 9\n"
          ]
        },
        {
          "output_type": "display_data",
          "data": {
            "text/plain": [
              "<Figure size 720x720 with 3 Axes>"
            ],
            "image/png": "[encoded data removed]",
            "application/pdf": "[encoded data removed]"
          },
          "metadata": {
            "needs_background": "light"
          }
        }
      ]
    },
    {
      "cell_type": "markdown",
      "source": [
        "We have now seen how this simple attention can help us learn faster and better networks\n",
        "when only a subset of the inputs is important.\n",
        "\n"
      ],
      "metadata": {
        "id": "HItDWA4Jhzj7"
      }
    },
    {
      "cell_type": "markdown",
      "source": [
        "## Attention with context"
      ],
      "metadata": {
        "id": "L6bF6aOhipHv"
      }
    },
    {
      "cell_type": "markdown",
      "source": [
        "The attention mechanism uses global information to make local decisions.\n",
        "The local decisions came in the form of the weights $\\alpha$, and the context provides the global information.\n",
        "\n",
        "There are three common ways to compute the score from the representation $h$ and the context $\\bar h$, commonly called:\n",
        "\n",
        "* Dot score\n",
        "* General score\n",
        "* Additive score"
      ],
      "metadata": {
        "id": "91xhBrnWixAb"
      }
    },
    {
      "cell_type": "markdown",
      "source": [
        "###Dot score"
      ],
      "metadata": {
        "id": "BQM8EjciMLrS"
      }
    },
    {
      "cell_type": "markdown",
      "source": [
        "We take the dot product because it measures how aligned\n",
        "in direction and size two vectors are.\n",
        "\n",
        "$$score(h_t, \\bar h) = \\frac{h_t^T \\bar h}{\\sqrt{H}} $$\n",
        "\n",
        "To avoid large values, we devide it by $\\sqrt{H}$."
      ],
      "metadata": {
        "id": "EGimkR12MMcH"
      }
    },
    {
      "cell_type": "code",
      "source": [
        "class DotScore(nn.Module):\n",
        "  def __init__(self, H):\n",
        "    \"\"\"\n",
        "    H: the number of dimensions coming into the dot score\n",
        "    \"\"\"\n",
        "    super(DotScore, self).__init__()\n",
        "    self.H = H\n",
        "\n",
        "  def forward(self, states, context):\n",
        "    \"\"\"\n",
        "    states: (B, T, H) shape\n",
        "    context: (B, H) shape\n",
        "    output: (B, T, 1), giving a score to each of the T items based on the context\n",
        "    \"\"\"\n",
        "    T = states.size(1)\n",
        "    scores = torch.bmm(states, context.unsqueeze(2)) / np.sqrt(self.H) # (B, T, H) -> (B, T, 1)\n",
        "    return scores"
      ],
      "metadata": {
        "id": "A5lu3cDZMwFR"
      },
      "execution_count": 22,
      "outputs": []
    },
    {
      "cell_type": "markdown",
      "source": [
        "###General score"
      ],
      "metadata": {
        "id": "71mtdjpFQUVb"
      }
    },
    {
      "cell_type": "markdown",
      "source": [
        "Instead of simply computing the dot product between each item $h_t$ with\n",
        "the context $\\bar h$ , we add a matrix $W$ in between them.\n",
        "\n",
        "$$score(h_t, \\bar h) = h_t^TW \\bar h $$\n",
        "\n",
        "This implementation is simple because the general score has what is called a\n",
        "bilinear relationship."
      ],
      "metadata": {
        "id": "RBrnf-xaQVMr"
      }
    },
    {
      "cell_type": "code",
      "source": [
        "class GeneralScore(nn.Module):\n",
        "  def __init__(self, H):\n",
        "    \"\"\"\n",
        "    H: the number of dimensions coming into the GeneralScore score\n",
        "    \"\"\"\n",
        "    super(GeneralScore, self).__init__()\n",
        "    self.H = H\n",
        "    self.W = nn.Bilinear(H, H, 1)\n",
        "\n",
        "  def forward(self, states, context):\n",
        "    \"\"\"\n",
        "    states: (B, T, H) shape\n",
        "    context: (B, H) shape\n",
        "    output: (B, T, 1), giving a score to each of the T items based on the context\n",
        "    \"\"\"\n",
        "    T = states.size(1)\n",
        "    # Repeating the values T times \n",
        "    context = torch.stack([context for _ in range(T)], dim=1)  # (B, H) -> (B, T, H)\n",
        "    scores = self.W(states, context)  # (B, T, H) -> (B, T, 1)\n",
        "    return scores"
      ],
      "metadata": {
        "id": "8e17iyn5TRk0"
      },
      "execution_count": 23,
      "outputs": []
    },
    {
      "cell_type": "markdown",
      "source": [
        "###Additive attention"
      ],
      "metadata": {
        "id": "HcG9AqCTXJTz"
      }
    },
    {
      "cell_type": "markdown",
      "source": [
        "The idea behind the additive layer is fairly simple: let a small neural network figure\n",
        "out the weighting for us."
      ],
      "metadata": {
        "id": "wy2AdTRhXLSl"
      }
    },
    {
      "cell_type": "code",
      "source": [
        "class AdditiveAttentionScore(nn.Module):\n",
        "  def __init__(self, H):\n",
        "    \"\"\"\n",
        "    H: the number of dimensions coming into the AdditiveAttentionScore\n",
        "    \"\"\"\n",
        "    super(AdditiveAttentionScore, self).__init__()\n",
        "    self.v = nn.Linear(H, 1)\n",
        "    self.W = nn.Linear(2 * H, H)  # 2*H because we are going to concatenate two inputs\n",
        "\n",
        "  def forward(self, states, context):\n",
        "    \"\"\"\n",
        "    states: (B, T, H) shape\n",
        "    context: (B, H) shape\n",
        "    output: (B, T, 1), giving a score to each of the T items based on the context\n",
        "    \"\"\"\n",
        "    T = states.size(1)\n",
        "    # Repeating the values T times \n",
        "    context = torch.stack([context for _ in range(T)], dim=1)  # (B, H) -> (B, T, H)\n",
        "    state_context_combined = torch.cat((states, context), dim=2)  # (B, T, H) + (B, T, H)  -> (B, T, 2*H)\n",
        "    scores = self.v(torch.tanh(self.W(state_context_combined)))  # (B, T, H) -> (B, T, 1)\n",
        "    return scores "
      ],
      "metadata": {
        "id": "CkcGTG0VdcsA"
      },
      "execution_count": 24,
      "outputs": []
    },
    {
      "cell_type": "markdown",
      "source": [
        "##Computing attention weights"
      ],
      "metadata": {
        "id": "rLaU_2HHgjoI"
      }
    },
    {
      "cell_type": "markdown",
      "source": [
        "Now that we have the various attention scores we want, we’ll define a simple helper Module that takes in the raw scores $\\alpha$ and extracted representations $h...$ and computes\n",
        "the final output $\\bar x$. \n",
        "\n",
        "This will replace our Combiner module by adding one new step:\n",
        "applying a mask to the inputs."
      ],
      "metadata": {
        "id": "-P7ZvkZUgGLY"
      }
    },
    {
      "cell_type": "code",
      "source": [
        "class ApplyAttention(nn.Module):\n",
        "  \"\"\"This helper module is used to apply the results of an attention mechanism to a set of inputs. \"\"\"\n",
        "  def __init__(self):\n",
        "    super(ApplyAttention, self).__init__()\n",
        "\n",
        "  def forward(self, states, attention_scores, mask=None):\n",
        "    \"\"\"\n",
        "    states: (B, T, H) shape giving the T different possible inputs\n",
        "    attention_scores: (B, T, 1) score for each item at each context\n",
        "    mask: None if all items are present. Else a boolean tensor of shape \n",
        "        (B, T), with `True` indicating which items are present / valid. \n",
        "        \n",
        "    returns: a tuple with two tensors. The first tensor is the final context\n",
        "    from applying the attention to the states (B, H) shape. The second tensor\n",
        "    is the weights for each state with shape (B, T, 1).\n",
        "    \"\"\"\n",
        "    if mask is not None:\n",
        "      # set everything not present to a large negative value that will cause vanishing gradients \n",
        "      attention_scores[~mask] = -1000.0\n",
        "    # compute the weight for each score\n",
        "    weights = F.softmax(attention_scores, dim=1)  # (B, T, 1) still, but sum(T) = 1\n",
        "    final_context = (states * weights).sum(dim=1) # (B, T, D) * (B, T, 1) -> (B, D)\n",
        "    return final_context, weights"
      ],
      "metadata": {
        "id": "wu1tWctngkmB"
      },
      "execution_count": 25,
      "outputs": []
    },
    {
      "cell_type": "code",
      "source": [
        "def get_mask_by_fill(x, time_dimension=1, fill=0):\n",
        "  \"\"\"\n",
        "  x: the original input with three or more dimensions, (B, ..., T, ...)\n",
        "      which may have unsued items in the tensor. B is the batch size, and T is the time dimension. \n",
        "  time_dimension: the axis in the tensor `x` that denotes the time dimension\n",
        "  fill: the constant used to denote that an item in the tensor is not in use, and should be masked out (`False` in the mask). \n",
        "  \n",
        "  return: A boolean tensor of shape (B, T), where `True` indicates the value at that time is good to use, and `False` that it is not.\n",
        "  \"\"\"\n",
        "  # skip the first dimension 0 because that is the batch dimension\n",
        "  to_sum_over = list(range(1, len(x.shape)))\n",
        "\n",
        "  if time_dimension in to_sum_over:\n",
        "    to_sum_over.remove(time_dimension)\n",
        "  \n",
        "  with torch.no_grad():\n",
        "    \"\"\"\n",
        "    (x!=fill) determines locations that might be unused, beause they are missing the fill value we are looking for to indicate lack of use. \n",
        "    We then count the number of non-fill values over everything in that time slot (reducing changes the shape to (B, T)). If any one entry \n",
        "    is non equal to this value, the item represent must be in use - so return a value of true.\n",
        "    \"\"\"\n",
        "    mask = torch.sum((x != fill), dim=to_sum_over) > 0\n",
        "  return mask "
      ],
      "metadata": {
        "id": "Gon0xjE3o47M"
      },
      "execution_count": 26,
      "outputs": []
    },
    {
      "cell_type": "markdown",
      "source": [
        "Let’s see a quick example of how this new function works."
      ],
      "metadata": {
        "id": "pNUuYQ5rqtWI"
      }
    },
    {
      "cell_type": "code",
      "source": [
        "# creates the hypothetical data and computes the appropriate mask\n",
        "with torch.no_grad():\n",
        "  x = torch.rand((5, 3, 1, 7, 7))\n",
        "  x[0, -1, :] = 0   # Don't use the last item in the first input\n",
        "  x[3, :] = 0       # Don't use any of the 4'th item!\n",
        "  x[4, 0, 0, 0] = 0 # Make it _look_ like we aren't using part of the 5th, but we still are!\n",
        "  # This last line was added to show that this works even on tricky inputs\n",
        "  mask = get_mask_by_fill(x)\n",
        "  \n",
        "print(mask)"
      ],
      "metadata": {
        "id": "vf3d1TkLqtxY",
        "outputId": "d30d8c6b-ba2a-4649-e368-e3aef8a5edcf",
        "colab": {
          "base_uri": "https://localhost:8080/"
        }
      },
      "execution_count": 27,
      "outputs": [
        {
          "output_type": "stream",
          "name": "stdout",
          "text": [
            "tensor([[ True,  True, False],\n",
            "        [ True,  True,  True],\n",
            "        [ True,  True,  True],\n",
            "        [False, False, False],\n",
            "        [ True,  True,  True]])\n"
          ]
        }
      ]
    },
    {
      "cell_type": "markdown",
      "source": [
        "##Putting it all together"
      ],
      "metadata": {
        "id": "w9_hlJatr-Ch"
      }
    },
    {
      "cell_type": "markdown",
      "source": [
        "Now let's create a complete attention mechanism with context.\n",
        "\n",
        "Let’s define a SmarterAttentionNet that is our entire network."
      ],
      "metadata": {
        "id": "r-aQnfGAr-5-"
      }
    },
    {
      "cell_type": "code",
      "source": [
        "class SmarterAttentionNet(nn.Module):\n",
        "\n",
        "  def __init__(self, input_size, hidden_size, output_size, score_net=None):\n",
        "    super(SmarterAttentionNet, self).__init__()\n",
        "\n",
        "    self.backbone = nn.Sequential(\n",
        "      FlattenLayer(),                     # Shape is now (B, T, D)\n",
        "      nn.Linear(input_size, hidden_size), # Shape becomes (B, T, H)\n",
        "      nn.LeakyReLU(),\n",
        "      nn.Linear(hidden_size, hidden_size),\n",
        "      nn.LeakyReLU(),\n",
        "      nn.Linear(hidden_size, hidden_size),\n",
        "      nn.LeakyReLU(),                    # returns (B, T, H)\n",
        "    )\n",
        "\n",
        "    # Try changing this and see how the results change!\n",
        "    self.score_net = AdditiveAttentionScore(hidden_size) if (score_net is None) else score_net\n",
        "\n",
        "    self.apply_attention = ApplyAttention()\n",
        "\n",
        "    self.prediction_net = nn.Sequential(\n",
        "      nn.BatchNorm1d(hidden_size),         # (B, H)\n",
        "      nn.Linear(hidden_size, hidden_size),\n",
        "      nn.LeakyReLU(),\n",
        "      nn.BatchNorm1d(hidden_size),\n",
        "      nn.Linear(hidden_size, output_size)  # (B, H)\n",
        "    )\n",
        "\n",
        "  def forward(self, input_x):\n",
        "    mask = get_mask_by_fill(input_x)\n",
        "\n",
        "    h = self.backbone(input_x)  # (B, T, D) -> (B, T, H)\n",
        "\n",
        "    # computes torch.mean but ignoring the masked out parts first add together all the valid items\n",
        "    #h_context = torch.mean(h, dim=1)\n",
        "    h_context = (mask.unsqueeze(-1) * h).sum(dim=1)  # (B, T, H) -> (B, H)\n",
        "    # then divide by the number of valid items, pluss a small value incase a bag was all empty\n",
        "    h_context = h_context / (mask.sum(dim=1).unsqueeze(-1) + 1e-10)\n",
        "\n",
        "    scores = self.score_net(h, h_context)      # (B, T, H) , (B, H) -> (B, T, 1)\n",
        "    final_context, _ = self.apply_attention(h, scores, mask=mask)\n",
        "    return self.prediction_net(final_context)  # (B, H) -> (B, classes)"
      ],
      "metadata": {
        "id": "yG7nHpdlE1X-"
      },
      "execution_count": 28,
      "outputs": []
    },
    {
      "cell_type": "markdown",
      "source": [
        "Let’s train up some better attention models."
      ],
      "metadata": {
        "id": "G2ZSNffxKWEb"
      }
    },
    {
      "cell_type": "code",
      "source": [
        "attention_dot = SmarterAttentionNet(D, neurons, classes, score_net=DotScore(neurons))\n",
        "attention_general = SmarterAttentionNet(D, neurons, classes, score_net=GeneralScore(neurons))\n",
        "attention_additive = SmarterAttentionNet(D, neurons, classes, score_net=AdditiveAttentionScore(neurons))"
      ],
      "metadata": {
        "id": "ax9757beKWg_"
      },
      "execution_count": 29,
      "outputs": []
    },
    {
      "cell_type": "code",
      "source": [
        "attention_dot_results = train_network(attention_dot, \n",
        "                                    nn.CrossEntropyLoss(), \n",
        "                                    train_loader, \n",
        "                                    val_loader=test_loader,\n",
        "                                    epochs=epochs,\n",
        "                                    score_funcs={\"Accuracy\": accuracy_score},\n",
        "                                    device=device)"
      ],
      "metadata": {
        "id": "qML_FtSRLPIh"
      },
      "execution_count": null,
      "outputs": []
    },
    {
      "cell_type": "code",
      "source": [
        "attention_general_results = train_network(attention_general, \n",
        "                                    nn.CrossEntropyLoss(), \n",
        "                                    train_loader, \n",
        "                                    val_loader=test_loader,\n",
        "                                    epochs=epochs,\n",
        "                                    score_funcs={\"Accuracy\": accuracy_score},\n",
        "                                    device=device)"
      ],
      "metadata": {
        "id": "fAto3h7NLzTT"
      },
      "execution_count": null,
      "outputs": []
    },
    {
      "cell_type": "code",
      "source": [
        "attention_additive_results = train_network(attention_additive, \n",
        "                                    nn.CrossEntropyLoss(), \n",
        "                                    train_loader, \n",
        "                                    val_loader=test_loader,\n",
        "                                    epochs=epochs,\n",
        "                                    score_funcs={\"Accuracy\": accuracy_score},\n",
        "                                    device=device)"
      ],
      "metadata": {
        "id": "1GEHTwGILzv9"
      },
      "execution_count": null,
      "outputs": []
    },
    {
      "cell_type": "code",
      "source": [
        "sns.lineplot(x=\"epoch\", y=\"val Accuracy\", data=simple_results, label=\"Regular\")\n",
        "sns.lineplot(x=\"epoch\", y=\"val Accuracy\", data=simple_attn_results, label=\"Simple Attention\")\n",
        "\n",
        "sns.lineplot(x=\"epoch\", y=\"val Accuracy\", data=attention_dot_results, label=\"Dot Score Attention\")\n",
        "sns.lineplot(x=\"epoch\", y=\"val Accuracy\", data=attention_general_results, label=\"General Score Attention\")\n",
        "sns.lineplot(x=\"epoch\", y=\"val Accuracy\", data=attention_additive_results, label=\"Additive Score Attention\")"
      ],
      "metadata": {
        "id": "mGJMovV_NHF3",
        "outputId": "739712d9-50ad-493c-c070-d8ef916b9db2",
        "colab": {
          "base_uri": "https://localhost:8080/",
          "height": 296
        }
      },
      "execution_count": 33,
      "outputs": [
        {
          "output_type": "execute_result",
          "data": {
            "text/plain": [
              "<matplotlib.axes._subplots.AxesSubplot at 0x7efe6a316220>"
            ]
          },
          "metadata": {},
          "execution_count": 33
        },
        {
          "output_type": "display_data",
          "data": {
            "text/plain": [
              "<Figure size 432x288 with 1 Axes>"
            ],
            "image/png": "[encoded data removed]",
            "application/pdf": "[encoded data removed]"
          },
          "metadata": {
            "needs_background": "light"
          }
        }
      ]
    },
    {
      "cell_type": "markdown",
      "source": [
        "Let's do it with only two real changes."
      ],
      "metadata": {
        "id": "1A7KJHOcaInM"
      }
    },
    {
      "cell_type": "code",
      "source": [
        "class LargestDigitVariable(Dataset):\n",
        "  \"\"\"\n",
        "  Creates a modified version of a dataset where some variable number of samples are \n",
        "  taken, and the true label is the largest label sampled. When used with MNIST the\n",
        "  labels correspond to their values (e.g., digit \"6\" has label 6). Each datum will \n",
        "  be padded with 0 values if the maximum number of items was not sampled. \n",
        "  \"\"\"\n",
        "  def __init__(self, dataset, max_sample=6):\n",
        "    \"\"\"\n",
        "    dataset: the dataset to sample from\n",
        "    max_sample: the number of items from the dataset to sample\n",
        "    \"\"\"\n",
        "    self.dataset = dataset\n",
        "    self.max_sample = max_sample\n",
        "\n",
        "  def __len__(self):\n",
        "    return len(self.dataset)\n",
        "\n",
        "  def __getitem__(self, idx):\n",
        "    # NEW: how many items should we select?\n",
        "    how_many = np.random.randint(1, self.max_sample, size=1)[0]\n",
        "    # Randomly select n=self.max_sample items from the dataset\n",
        "    selected = np.random.randint(0, len(self.dataset), size=how_many)\n",
        "\n",
        "    # Stack the n items of shape (B, *) shape into (B, n, *)\n",
        "    # NEW: pad with zero values up to the max size\n",
        "    x_new = torch.stack([\n",
        "      self.dataset[i][0] for i in selected + [torch.zeros((1, 28, 28)) for i in range(self.max_sample - how_many)]\n",
        "    ])\n",
        "    # Label is the maximum label\n",
        "    y_new = max([self.dataset[i][1] for i in selected])\n",
        "    # Return (data, label) pair\n",
        "    return x_new, y_new"
      ],
      "metadata": {
        "id": "s02-on9LaKyj"
      },
      "execution_count": 34,
      "outputs": []
    },
    {
      "cell_type": "markdown",
      "source": [
        "Now, let's creates the training and test set loaders."
      ],
      "metadata": {
        "id": "aqWFllLvdWJL"
      }
    },
    {
      "cell_type": "code",
      "source": [
        "largest_v_train = LargestDigitVariable(mnist_train)\n",
        "largest_v_test = LargestDigitVariable(mnist_test)\n",
        "\n",
        "train_v_loader = DataLoader(largest_train, batch_size=B, shuffle=True)\n",
        "test_v_loader = DataLoader(largest_test, batch_size=B)"
      ],
      "metadata": {
        "id": "Wq8ippGDdX4Y"
      },
      "execution_count": 35,
      "outputs": []
    },
    {
      "cell_type": "markdown",
      "source": [
        "Instead of training a new model, the following code runs through the test set and\n",
        "makes predictions."
      ],
      "metadata": {
        "id": "-vKzhe1-eGxL"
      }
    },
    {
      "cell_type": "code",
      "source": [
        "attention_dot = attention_dot.eval()\n",
        "\n",
        "preds = []\n",
        "truths = []\n",
        "with torch.no_grad():\n",
        "  for inputs, labels in test_v_loader:\n",
        "    pred = attention_dot(inputs.to(device))\n",
        "    pred = torch.argmax(pred, dim=1).cpu().numpy()\n",
        "\n",
        "    preds.extend(pred.ravel())\n",
        "    truths.extend(labels.numpy().ravel())\n",
        "print(f\"Variable Length Accuracy: {accuracy_score(preds, truths)}\")"
      ],
      "metadata": {
        "id": "HWJvDXA7eIjU",
        "outputId": "04bcc8ea-9e28-4c51-ba13-de94a54551d1",
        "colab": {
          "base_uri": "https://localhost:8080/"
        }
      },
      "execution_count": 36,
      "outputs": [
        {
          "output_type": "stream",
          "name": "stdout",
          "text": [
            "Variable Length Accuracy: 0.9605\n"
          ]
        }
      ]
    },
    {
      "cell_type": "markdown",
      "source": [
        "This gives you an idea of how powerful the attention\n",
        "approach can be. It can often generalize very well to changes in the input data and\n",
        "sequence length, which is part of what has made attentions very successful.\n",
        "\n",
        "They have\n",
        "quickly become a go-to tool for most natural language processing tasks today."
      ],
      "metadata": {
        "id": "71i7c4gBfeZT"
      }
    }
  ]
}