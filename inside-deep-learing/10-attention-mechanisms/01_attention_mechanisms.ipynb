{
  "nbformat": 4,
  "nbformat_minor": 0,
  "metadata": {
    "colab": {
      "provenance": [],
      "toc_visible": true,
      "authorship_tag": "ABX9TyMBo48pDnioZHlCmpElrsss",
      "include_colab_link": true
    },
    "kernelspec": {
      "name": "python3",
      "display_name": "Python 3"
    },
    "language_info": {
      "name": "python"
    },
    "accelerator": "GPU",
    "gpuClass": "standard"
  },
  "cells": [
    {
      "cell_type": "markdown",
      "metadata": {
        "id": "view-in-github",
        "colab_type": "text"
      },
      "source": [
        "<a href=\"https://colab.research.google.com/github/rahiakela/deep-learning-research-and-practice/blob/main/inside-deep-learing/10-attention-mechanisms/01_attention_mechanisms.ipynb\" target=\"_parent\"><img src=\"https://colab.research.google.com/assets/colab-badge.svg\" alt=\"Open In Colab\"/></a>"
      ]
    },
    {
      "cell_type": "markdown",
      "source": [
        "##Attention mechanisms"
      ],
      "metadata": {
        "id": "ldjKkwDE9r9p"
      }
    },
    {
      "cell_type": "markdown",
      "source": [
        "Deep learning models can also learn to pay attention to some input, or features, and\n",
        "ignore other features. They do this with attention mechanisms, which are another type of\n",
        "prior belief we can impose on our network. \n",
        "\n",
        "Attention mechanisms help us deal with\n",
        "situations where part of our input may be irrelevant, or when we need to focus on one\n",
        "feature of many features being fed into the model.\n",
        "\n",
        "We would like to endow our networks with the ability to ignore superfluous and\n",
        "distracting inputs to focus on the most important portions, and that’s the goal of\n",
        "an attention mechanism. \n",
        "\n",
        "If you believe some of your input features are more or less\n",
        "important than other features, you should consider using an attention-based approach\n",
        "in your model. \n",
        "\n",
        "If you want state-of-the-art results on speech recognition, object detection,\n",
        "a chat bot, or machine translation, for instance, you will probably be using an attention\n",
        "mechanism.\n",
        "\n",
        "In this notebook, we see how attention works on some toy problems out of the MNIST dataset that is too hard for a normal network but is easily and better\n",
        "solved with a simple kind of attention that learns how to score the importance of each\n",
        "item in the input. \n",
        "\n",
        "Then we improve the simple attention into a full-fledged approach\n",
        "that takes into account some context to better infer the importance of items in the input."
      ],
      "metadata": {
        "id": "tFXQb6wufLVZ"
      }
    },
    {
      "cell_type": "markdown",
      "source": [
        "##Setup"
      ],
      "metadata": {
        "id": "Ju6nJVQUfX5-"
      }
    },
    {
      "cell_type": "code",
      "source": [
        "!wget https://github.com/EdwardRaff/Inside-Deep-Learning/raw/main/idlmam.py"
      ],
      "metadata": {
        "id": "j8dfqZhAI7hK"
      },
      "execution_count": null,
      "outputs": []
    },
    {
      "cell_type": "code",
      "source": [
        "import torch\n",
        "import torch.nn as nn\n",
        "import torch.nn.functional as F\n",
        "import torchvision \n",
        "from torch.nn.utils.rnn import pack_padded_sequence, pad_packed_sequence\n",
        "from torchvision import transforms\n",
        "\n",
        "from torch.utils.data import Dataset, DataLoader\n",
        "\n",
        "from tqdm.autonotebook import tqdm\n",
        "\n",
        "import numpy as np\n",
        "import seaborn as sns\n",
        "import matplotlib.pyplot as plt\n",
        "from matplotlib.pyplot import imshow\n",
        "\n",
        "import pandas as pd\n",
        "\n",
        "from sklearn.metrics import accuracy_score\n",
        "\n",
        "import time\n",
        "\n",
        "from idlmam import train_network, Flatten, weight_reset, View, set_seed"
      ],
      "metadata": {
        "id": "_9xoD7-8EibG"
      },
      "execution_count": 2,
      "outputs": []
    },
    {
      "cell_type": "code",
      "source": [
        "%matplotlib inline\n",
        "from IPython.display import set_matplotlib_formats\n",
        "set_matplotlib_formats('png', 'pdf')"
      ],
      "metadata": {
        "id": "8U1JNhEmEkzG"
      },
      "execution_count": 3,
      "outputs": []
    },
    {
      "cell_type": "code",
      "source": [
        "torch.backends.cudnn.deterministic=True\n",
        "set_seed(42)"
      ],
      "metadata": {
        "id": "YTO1Pk4x24PP"
      },
      "execution_count": 4,
      "outputs": []
    },
    {
      "cell_type": "code",
      "source": [
        "device = torch.device(\"cuda\") if torch.cuda.is_available() else torch.device(\"cpu\")"
      ],
      "metadata": {
        "id": "nXiYSSxO707X"
      },
      "execution_count": 5,
      "outputs": []
    },
    {
      "cell_type": "markdown",
      "source": [
        "##Dataset"
      ],
      "metadata": {
        "id": "ycbbAdR0fjAG"
      }
    },
    {
      "cell_type": "markdown",
      "source": [
        "Now that we can load the dataset."
      ],
      "metadata": {
        "id": "_D1pqiSk-Bmp"
      }
    },
    {
      "cell_type": "code",
      "source": [
        "# let’s quickly load MNIST dataset\n",
        "mnist_train = torchvision.datasets.MNIST(\"./\", train=True, transform=transforms.ToTensor(), download=True)\n",
        "mnist_test = torchvision.datasets.MNIST(\"./\", train=False, transform=transforms.ToTensor(), download=True)"
      ],
      "metadata": {
        "id": "_chm5G2Z3Eqs"
      },
      "execution_count": null,
      "outputs": []
    },
    {
      "cell_type": "markdown",
      "source": [
        "Attention mechanisms are most useful when we have multiple items as inputs into our model.\n",
        "\n",
        "Since MNIST is a single digit, we will augment each item in MNIST to become a\n",
        "bag of digits. We use fully connected layers for this (i.e., flattened MNIST, ignoring the\n",
        "image nature), so instead of having a batch of digits `(B,D)`, we have `T` digits `(B, T, D)`.\n",
        "\n",
        "So why did I call this a bag instead of a sequence? \n",
        "\n",
        "Because we don’t care in what order\n",
        "the digits are presented in the tensor. We just need a tensor large enough to hold everything in the bag.\n",
        "\n",
        "Given a bag of digits $x_1, x_2, ... , x_T$ , we have a label y that is equal to the largest digit in the bag. If our bag contains 0, 2, 9, the label for the bag is “9.”\n",
        "\n",
        "Let's implements a LargestDigit class to wrap an input dataset and create new items by\n",
        "randomly filling a bag of toSample items and selecting the maximum label value."
      ],
      "metadata": {
        "id": "vxdmR9er7Jn_"
      }
    },
    {
      "cell_type": "code",
      "source": [
        "class LargestDigit(Dataset):\n",
        "  \"\"\"\n",
        "  Creates a modified version of a dataset where some number of samples are taken, \n",
        "  and the true label is the largest label sampled. When used with MNIST the labels \n",
        "  correspond to their values (e.g., digit \"6\" has label 6)\n",
        "  \"\"\"\n",
        "  def __init__(self, dataset, toSample=3):\n",
        "    \"\"\"\n",
        "    dataset: the dataset to sample from\n",
        "    toSample: the number of items from the dataset to sample\n",
        "    \"\"\"\n",
        "    self.dataset = dataset\n",
        "    self.toSample = toSample \n",
        "\n",
        "  def __len__(self):\n",
        "    return len(self.dataset)\n",
        "\n",
        "  def __getitem__(self, idx):\n",
        "    # Randomly select n=self.toSample items from the dataset\n",
        "    selected = np.random.randint(0, len(self.dataset), size=self.toSample)\n",
        "    \n",
        "    # Stack the n items of shape (B, *) shape into (B, n, *)\n",
        "    x_new = torch.stack([self.dataset[i][0] for i in selected])\n",
        "    # Label is the maximum label\n",
        "    y_new = max([self.dataset[i][1] for i in selected])\n",
        "    \n",
        "    # Return (data, label) pair!\n",
        "    return x_new, y_new"
      ],
      "metadata": {
        "id": "rsFqIimT7L9B"
      },
      "execution_count": 7,
      "outputs": []
    },
    {
      "cell_type": "code",
      "source": [
        "B = 128\n",
        "epochs= 10\n",
        "\n",
        "largest_train = LargestDigit(mnist_train)\n",
        "largest_test = LargestDigit(mnist_test)\n",
        "\n",
        "train_loader = DataLoader(largest_train, batch_size=B, shuffle=True)\n",
        "test_loader = DataLoader(largest_train, batch_size=B)"
      ],
      "metadata": {
        "id": "SosIhpxes8xQ"
      },
      "execution_count": 8,
      "outputs": []
    },
    {
      "cell_type": "code",
      "source": [
        "# Want a consistent dataset split\n",
        "set_seed(34)\n",
        "\n",
        "x, y = largest_train[0]\n",
        "\n",
        "f, axarr = plt.subplots(1, 3, figsize=(10, 10))\n",
        "for i in range(3):\n",
        "  axarr[i].imshow(x[i, 0, :].numpy(), cmap=\"gray\", vmin=0, vmax=1)\n",
        "print(f\"True Label is = {y}\")"
      ],
      "metadata": {
        "id": "f3FVMPa8Fn04",
        "outputId": "a925c7b7-6763-4719-9d3a-1e2a76e0dcb8",
        "colab": {
          "base_uri": "https://localhost:8080/",
          "height": 230
        }
      },
      "execution_count": 9,
      "outputs": [
        {
          "output_type": "stream",
          "name": "stdout",
          "text": [
            "True Label is = 8\n"
          ]
        },
        {
          "output_type": "display_data",
          "data": {
            "text/plain": [
              "<Figure size 720x720 with 3 Axes>"
            ],
            "image/png": "[encoded data removed]",
            "application/pdf": "[encoded data removed]"
          },
          "metadata": {
            "needs_background": "light"
          }
        }
      ]
    },
    {
      "cell_type": "markdown",
      "source": [
        "##Baseline Model"
      ],
      "metadata": {
        "id": "jWt4blqXcPM-"
      }
    },
    {
      "cell_type": "markdown",
      "source": [
        "Let's train a simple fully connected network and treat\n",
        "this like any other classification problem we might attempt. \n",
        "\n",
        "This will be our baseline\n",
        "and show how hard the new version of MNIST is:."
      ],
      "metadata": {
        "id": "R3F7T9dAMVEv"
      }
    },
    {
      "cell_type": "code",
      "source": [
        "neurons = 256     \n",
        "classes = 10 "
      ],
      "metadata": {
        "id": "_WbqbWoTMYWx"
      },
      "execution_count": 10,
      "outputs": []
    },
    {
      "cell_type": "code",
      "source": [
        "simple_net = nn.Sequential(\n",
        "  nn.Flatten(),\n",
        "  nn.Linear(784 * 3, neurons), # 784*3 because there are 784 pixels in an image and 3 images in the bag\n",
        "  nn.LeakyReLU(),\n",
        "  nn.BatchNorm1d(neurons),\n",
        "\n",
        "  nn.Linear(neurons, neurons),\n",
        "  nn.LeakyReLU(),\n",
        "  nn.BatchNorm1d(neurons),\n",
        "\n",
        "  nn.Linear(neurons, neurons),\n",
        "  nn.LeakyReLU(),\n",
        "  nn.BatchNorm1d(neurons),\n",
        "\n",
        "  nn.Linear(neurons, classes)\n",
        ")"
      ],
      "metadata": {
        "id": "8HIiIgjPTfoU"
      },
      "execution_count": 11,
      "outputs": []
    },
    {
      "cell_type": "markdown",
      "source": [
        "Let's train this model."
      ],
      "metadata": {
        "id": "GBQpKWFm69eJ"
      }
    },
    {
      "cell_type": "code",
      "source": [
        "simple_results = train_network(simple_net, \n",
        "                               nn.CrossEntropyLoss(), \n",
        "                               train_loader, \n",
        "                               val_loader=test_loader,\n",
        "                               epochs=epochs,\n",
        "                               score_funcs={\"Accuracy\": accuracy_score},\n",
        "                               device=device)"
      ],
      "metadata": {
        "id": "XhZ2AVVTW9Dp"
      },
      "execution_count": null,
      "outputs": []
    },
    {
      "cell_type": "markdown",
      "source": [
        "Now let’s plot the results."
      ],
      "metadata": {
        "id": "XOFvHbBWoDPW"
      }
    },
    {
      "cell_type": "code",
      "source": [
        "sns.lineplot(x=\"epoch\", y=\"val Accuracy\", data=simple_results, label=\"Regular\")"
      ],
      "metadata": {
        "id": "HadMNMamRMda",
        "outputId": "b69548f1-8a3c-49df-ca4e-55bdab049c55",
        "colab": {
          "base_uri": "https://localhost:8080/",
          "height": 296
        }
      },
      "execution_count": 13,
      "outputs": [
        {
          "output_type": "execute_result",
          "data": {
            "text/plain": [
              "<matplotlib.axes._subplots.AxesSubplot at 0x7f6b354d21c0>"
            ]
          },
          "metadata": {},
          "execution_count": 13
        },
        {
          "output_type": "display_data",
          "data": {
            "text/plain": [
              "<Figure size 432x288 with 1 Axes>"
            ],
            "image/png": "[encoded data removed]",
            "application/pdf": "[encoded data removed]"
          },
          "metadata": {
            "needs_background": "light"
          }
        }
      ]
    },
    {
      "cell_type": "markdown",
      "source": [
        "##Attention mechanics"
      ],
      "metadata": {
        "id": "AFTcJjRbKEdL"
      }
    },
    {
      "cell_type": "markdown",
      "source": [
        "We need a new version of the nn.Flatten\n",
        "function that leaves the first two axes of our tensor alone."
      ],
      "metadata": {
        "id": "IfFK_xy2Cmqs"
      }
    },
    {
      "cell_type": "code",
      "source": [
        "class FlattenLayer(nn.Module):\n",
        "  \"\"\"\n",
        "  Takes a vector of shape (A, B, C, D, E, ...)\n",
        "  and flattens everything but the first two dimensions, \n",
        "  giving a result of shape (A, B, C*D*E*...)\n",
        "  \"\"\"\n",
        "  def forward(self, input):\n",
        "    return input.view(input.size(0), input.size(1), -1)"
      ],
      "metadata": {
        "id": "7fFDCJfBCoDP"
      },
      "execution_count": 14,
      "outputs": []
    },
    {
      "cell_type": "markdown",
      "source": [
        "Let's create a Combiner class that will combine the attention weights $\\alpha$ with the extracted feature representations $h_1,h_2,..., h_T$ and computes the weighted average $\\bar x = \\Sigma_{i=1}^T \\alpha_i.h_i$"
      ],
      "metadata": {
        "id": "ku1DfcrgDsFb"
      }
    },
    {
      "cell_type": "code",
      "source": [
        "class Combiner(nn.Module):\n",
        "  \"\"\"\n",
        "  This class is used to combine a feature exraction network F and a importance prediction network W,\n",
        "  and combine their outputs by adding and summing them together. \n",
        "  \"\"\"\n",
        "  def __init__(self, feature_extraction, weight_selection):\n",
        "    \"\"\"\n",
        "    featureExtraction: a network that takes an input of shape (B, T, D) and outputs a new representation of shape (B, T, D'). \n",
        "    weightSelection: a network that takes in an input of shape (B, T, D') and outputs a \n",
        "      tensor of shape (B, T, 1) or (B, T). It should be normalized, so that the T values at the end sum to one (torch.sum(_, dim=1) = 1.0)\n",
        "    \"\"\"\n",
        "    super(Combiner, self).__init__()\n",
        "    self.feature_extraction = feature_extraction\n",
        "    self.weight_selection = weight_selection\n",
        "\n",
        "  def forward(self, input):\n",
        "    \"\"\"\n",
        "    input: a tensor of shape (B, T, D)\n",
        "    return: a new tensor of shape (B, D')\n",
        "    \"\"\"\n",
        "    features = self.feature_extraction(input)  # (B, T, D) h_i = F(x_i)\n",
        "    weights = self.weight_selection(features)  # (B, T) or (B, T, 1) for alpha\n",
        "    if len(weights.shape) == 2:                # (B, T) shape\n",
        "      weights.unsqueese(2)                     # Now (B, T, 1) shape\n",
        "    \n",
        "    result = features * weights                # (B, T, D) computes alpha_i . h_i\n",
        "    return torch.sum(result, dim=1)            # Sums over the T dimension, giving the (B, D) final shape"
      ],
      "metadata": {
        "id": "4buCXAkPEa4a"
      },
      "execution_count": 15,
      "outputs": []
    },
    {
      "cell_type": "markdown",
      "source": [
        "Now we are ready to define our attention-based model for this problem."
      ],
      "metadata": {
        "id": "j8SSVyTDMFLl"
      }
    },
    {
      "cell_type": "code",
      "source": [],
      "metadata": {
        "id": "_eZ8Z0vGMFo8"
      },
      "execution_count": null,
      "outputs": []
    }
  ]
}