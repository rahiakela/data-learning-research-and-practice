{
  "nbformat": 4,
  "nbformat_minor": 0,
  "metadata": {
    "colab": {
      "name": "03-loading-dataset-objects.ipynb",
      "provenance": [],
      "toc_visible": true,
      "authorship_tag": "ABX9TyO3vXgpyjEoWls+Rpj7dGoF",
      "include_colab_link": true
    },
    "kernelspec": {
      "name": "python3",
      "display_name": "Python 3"
    },
    "language_info": {
      "name": "python"
    },
    "accelerator": "GPU"
  },
  "cells": [
    {
      "cell_type": "markdown",
      "metadata": {
        "id": "view-in-github",
        "colab_type": "text"
      },
      "source": [
        "<a href=\"https://colab.research.google.com/github/rahiakela/deep-learning-research-and-practice/blob/main/inside-deep-learing/01-foundational-methods/03_loading_dataset_objects.ipynb\" target=\"_parent\"><img src=\"https://colab.research.google.com/assets/colab-badge.svg\" alt=\"Open In Colab\"/></a>"
      ]
    },
    {
      "cell_type": "markdown",
      "source": [
        "##Loading dataset objects"
      ],
      "metadata": {
        "id": "ldjKkwDE9r9p"
      }
    },
    {
      "cell_type": "markdown",
      "source": [
        "In PyTorch, we represent input data $X$ with a Dataset object. By using this interface, PyTorch provides efficient loaders\n",
        "that automatically handle using multiple CPU cores to pre-fetch the data and keep a limited amount of data in memory at a time.\n",
        "\n",
        "PyTorch uses a Dataset class to represent a dataset, and it encodes the information about how many items are in the dataset and how to get the nth item in the dataset."
      ],
      "metadata": {
        "id": "tFXQb6wufLVZ"
      }
    },
    {
      "cell_type": "markdown",
      "source": [
        "##Setup"
      ],
      "metadata": {
        "id": "Ju6nJVQUfX5-"
      }
    },
    {
      "cell_type": "code",
      "source": [
        "import torch\n",
        "from torch.utils.data import Dataset\n",
        "\n",
        "from sklearn.datasets import fetch_openml\n",
        "\n",
        "import numpy as np\n",
        "import pandas as pd\n",
        "\n",
        "import timeit\n",
        "\n",
        "from tqdm.autonotebook import tqdm\n",
        "import seaborn as sns\n",
        "import matplotlib.pyplot as plt"
      ],
      "metadata": {
        "id": "bUicuO0T9vRt"
      },
      "execution_count": 1,
      "outputs": []
    },
    {
      "cell_type": "markdown",
      "source": [
        "##Loading MNIST dataset"
      ],
      "metadata": {
        "id": "ycbbAdR0fjAG"
      }
    },
    {
      "cell_type": "code",
      "source": [
        "X, y = fetch_openml(\"mnist_784\", version=1, return_X_y=True, as_frame=False)\n",
        "print(X.shape)"
      ],
      "metadata": {
        "id": "iQy_V8L791sw",
        "colab": {
          "base_uri": "https://localhost:8080/"
        },
        "outputId": "bb37c06b-c392-404a-d76b-513191ef5b66"
      },
      "execution_count": 20,
      "outputs": [
        {
          "output_type": "stream",
          "name": "stdout",
          "text": [
            "(70000, 784)\n"
          ]
        }
      ]
    },
    {
      "cell_type": "code",
      "source": [
        "class SimpleDataset(Dataset):\n",
        "\n",
        "  def __init__(self, X, y):\n",
        "    super(SimpleDataset, self).__init__()\n",
        "    self.X = X\n",
        "    self.y = y\n",
        "\n",
        "  def __getitem__(self, index):\n",
        "    inputs = torch.tensor(self.X[index, :], dtype=torch.float32)\n",
        "    targets = torch.tensor(int(self.y[index]), dtype=torch.int64)\n",
        "    return (inputs, targets)\n",
        "\n",
        "  def __len__(self):\n",
        "    return self.X.shape[0]"
      ],
      "metadata": {
        "id": "I5WaLFWb-hR0"
      },
      "execution_count": 21,
      "outputs": []
    },
    {
      "cell_type": "code",
      "source": [
        "dataset = SimpleDataset(X, y)"
      ],
      "metadata": {
        "id": "H1g6Vndyh5VR"
      },
      "execution_count": 22,
      "outputs": []
    },
    {
      "cell_type": "code",
      "source": [
        "print(f\"Length: {len(dataset)}\")\n",
        "\n",
        "example, label = dataset[0]\n",
        "print(f\"Features: {example.shape}\")\n",
        "print(f\"Label of index 0: {label}\")"
      ],
      "metadata": {
        "colab": {
          "base_uri": "https://localhost:8080/"
        },
        "id": "TYfZvvL5iR0c",
        "outputId": "cf70fdf8-1654-4c18-d018-6c0106b0161a"
      },
      "execution_count": 23,
      "outputs": [
        {
          "output_type": "stream",
          "name": "stdout",
          "text": [
            "Length: 70000\n",
            "Features: torch.Size([784])\n",
            "Label of index 0: 5\n"
          ]
        }
      ]
    },
    {
      "cell_type": "code",
      "source": [
        "# visualize this by reshaping the data\n",
        "plt.imshow(example.reshape((28, 28)))"
      ],
      "metadata": {
        "colab": {
          "base_uri": "https://localhost:8080/",
          "height": 282
        },
        "id": "37SBulWatjET",
        "outputId": "571fda04-e01f-4e54-9b82-35ddeb37c072"
      },
      "execution_count": 24,
      "outputs": [
        {
          "output_type": "execute_result",
          "data": {
            "text/plain": [
              "<matplotlib.image.AxesImage at 0x7fba133802d0>"
            ]
          },
          "metadata": {},
          "execution_count": 24
        },
        {
          "output_type": "display_data",
          "data": {
            "text/plain": [
              "<Figure size 432x288 with 1 Axes>"
            ],
            "image/png": "[encoded data removed]"
          },
          "metadata": {
            "needs_background": "light"
          }
        }
      ]
    },
    {
      "cell_type": "code",
      "source": [
        "# Let’s say we want 20% of the data to be used for testing\n",
        "train_size = int(len(dataset) * .8)\n",
        "test_size = len(dataset) - train_size"
      ],
      "metadata": {
        "id": "Uaer-0xcD5hn"
      },
      "execution_count": 25,
      "outputs": []
    },
    {
      "cell_type": "code",
      "source": [
        "train_dataset, test_dataset = torch.utils.data.random_split(dataset, (train_size, test_size))\n",
        "print(f\"{len(train_dataset)} examples for training and {len(test_dataset)} for testing\")"
      ],
      "metadata": {
        "colab": {
          "base_uri": "https://localhost:8080/"
        },
        "id": "thAf7OsQEBod",
        "outputId": "f12e20fd-7ba4-4a9b-81cd-cc1361547841"
      },
      "execution_count": 26,
      "outputs": [
        {
          "output_type": "stream",
          "name": "stdout",
          "text": [
            "56000 examples for training and 14000 for testing\n"
          ]
        }
      ]
    }
  ]
}