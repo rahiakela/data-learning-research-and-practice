{
  "nbformat": 4,
  "nbformat_minor": 0,
  "metadata": {
    "colab": {
      "name": "02-tensor-reshape-fundamental.ipynb",
      "provenance": [],
      "toc_visible": true,
      "authorship_tag": "ABX9TyMPvBxeeiHYs/5Wrcr2b53r",
      "include_colab_link": true
    },
    "kernelspec": {
      "name": "python3",
      "display_name": "Python 3"
    },
    "language_info": {
      "name": "python"
    }
  },
  "cells": [
    {
      "cell_type": "markdown",
      "metadata": {
        "id": "view-in-github",
        "colab_type": "text"
      },
      "source": [
        "<a href=\"https://colab.research.google.com/github/rahiakela/deep-learning-research-and-practice/blob/main/inside-deep-learing/01-foundational-methods/02_tensor_reshape_fundamental.ipynb\" target=\"_parent\"><img src=\"https://colab.research.google.com/assets/colab-badge.svg\" alt=\"Open In Colab\"/></a>"
      ]
    },
    {
      "cell_type": "markdown",
      "source": [
        "##Setup"
      ],
      "metadata": {
        "id": "Ju6nJVQUfX5-"
      }
    },
    {
      "cell_type": "code",
      "source": [
        "from tqdm.autonotebook import tqdm\n",
        "\n",
        "import numpy as np\n",
        "import seaborn as sns\n",
        "import matplotlib\n",
        "import matplotlib.pyplot as plt\n",
        "\n",
        "import pandas as pd\n",
        "\n",
        "import time"
      ],
      "metadata": {
        "id": "bUicuO0T9vRt"
      },
      "execution_count": null,
      "outputs": []
    },
    {
      "cell_type": "code",
      "source": [
        "import torch"
      ],
      "metadata": {
        "id": "_9xoD7-8EibG"
      },
      "execution_count": null,
      "outputs": []
    },
    {
      "cell_type": "markdown",
      "source": [
        "##Tensor reshape fundamental"
      ],
      "metadata": {
        "id": "zXj65PbDcIV8"
      }
    },
    {
      "cell_type": "markdown",
      "source": [
        "What is special about reshape is that it\n",
        "lets us specify all but one of the dimensions, and it automatically puts the leftovers\n",
        "into the unspecified dimension. \n",
        "\n",
        "This leftover dimension is denoted with –1."
      ],
      "metadata": {
        "id": "K08GEk3KRZ_v"
      }
    },
    {
      "cell_type": "code",
      "source": [
        "x_np = np.random.random((6, 1))\n",
        "a = torch.tensor(x_np)\n",
        "print(a)\n",
        "print(a.shape)\n",
        "print(a.reshape(6))\n",
        "print(a.reshape(6).shape)"
      ],
      "metadata": {
        "colab": {
          "base_uri": "https://localhost:8080/"
        },
        "id": "TYfZvvL5iR0c",
        "outputId": "a08fa7cb-59ef-4a37-c9d7-0046906a301c"
      },
      "execution_count": null,
      "outputs": [
        {
          "output_type": "stream",
          "name": "stdout",
          "text": [
            "tensor([[0.5445],\n",
            "        [0.0058],\n",
            "        [0.3246],\n",
            "        [0.3665],\n",
            "        [0.3962],\n",
            "        [0.6955]], dtype=torch.float64)\n",
            "torch.Size([6, 1])\n",
            "tensor([0.5445, 0.0058, 0.3246, 0.3665, 0.3962, 0.6955], dtype=torch.float64)\n",
            "torch.Size([6])\n"
          ]
        }
      ]
    },
    {
      "cell_type": "code",
      "source": [
        "x_np = np.random.random((6, 1))\n",
        "a = torch.tensor(x_np)\n",
        "print(a)\n",
        "print(a.shape)\n",
        "print(a.reshape(-1))\n",
        "print(a.reshape(-1).shape)"
      ],
      "metadata": {
        "colab": {
          "base_uri": "https://localhost:8080/"
        },
        "id": "pGijbxfCZV-W",
        "outputId": "35bbb67d-762d-40c7-dbd3-fa4aa7f2aa2b"
      },
      "execution_count": null,
      "outputs": [
        {
          "output_type": "stream",
          "name": "stdout",
          "text": [
            "tensor([[0.8078],\n",
            "        [0.7623],\n",
            "        [0.7978],\n",
            "        [0.4356],\n",
            "        [0.8178],\n",
            "        [0.1202]], dtype=torch.float64)\n",
            "torch.Size([6, 1])\n",
            "tensor([0.8078, 0.7623, 0.7978, 0.4356, 0.8178, 0.1202], dtype=torch.float64)\n",
            "torch.Size([6])\n"
          ]
        }
      ]
    },
    {
      "cell_type": "markdown",
      "source": [
        "If you know the exact size, you can\n",
        "specify it; or if you don’t know the size for one axis, you can use –1 to indicate a leftover spot."
      ],
      "metadata": {
        "id": "vpB30LEXZfg4"
      }
    },
    {
      "cell_type": "code",
      "source": [
        "x_np = np.random.random((3, 2))\n",
        "b = torch.tensor(x_np)\n",
        "print(b)\n",
        "print(b.shape)\n",
        "print(b.reshape(3, 2))\n",
        "print(b.reshape(3, 2).shape)"
      ],
      "metadata": {
        "colab": {
          "base_uri": "https://localhost:8080/"
        },
        "id": "oy9JmRDNRnw2",
        "outputId": "63a39acb-d903-4f1a-bcab-e447c1b94db7"
      },
      "execution_count": null,
      "outputs": [
        {
          "output_type": "stream",
          "name": "stdout",
          "text": [
            "tensor([[0.5670, 0.7384],\n",
            "        [0.8785, 0.4041],\n",
            "        [0.3270, 0.6676]], dtype=torch.float64)\n",
            "torch.Size([3, 2])\n",
            "tensor([[0.5670, 0.7384],\n",
            "        [0.8785, 0.4041],\n",
            "        [0.3270, 0.6676]], dtype=torch.float64)\n",
            "torch.Size([3, 2])\n"
          ]
        }
      ]
    },
    {
      "cell_type": "code",
      "source": [
        "x_np = np.random.random((3, 2))\n",
        "b = torch.tensor(x_np)\n",
        "print(b)\n",
        "print(b.shape)\n",
        "print(b.reshape(-1, 2))\n",
        "print(b.reshape(-1, 2).shape)"
      ],
      "metadata": {
        "colab": {
          "base_uri": "https://localhost:8080/"
        },
        "id": "ijvmw6PdZw0Q",
        "outputId": "b274c4b0-3a37-4540-d30f-2c4628044a1c"
      },
      "execution_count": null,
      "outputs": [
        {
          "output_type": "stream",
          "name": "stdout",
          "text": [
            "tensor([[0.9994, 0.0482],\n",
            "        [0.9772, 0.4069],\n",
            "        [0.8708, 0.7824]], dtype=torch.float64)\n",
            "torch.Size([3, 2])\n",
            "tensor([[0.9994, 0.0482],\n",
            "        [0.9772, 0.4069],\n",
            "        [0.8708, 0.7824]], dtype=torch.float64)\n",
            "torch.Size([3, 2])\n"
          ]
        }
      ]
    },
    {
      "cell_type": "code",
      "source": [
        "x_np = np.random.random((3, 2))\n",
        "b = torch.tensor(x_np)\n",
        "print(b)\n",
        "print(b.shape)\n",
        "print(b.reshape(3, 2))\n",
        "print(b.reshape(3, 2).shape)"
      ],
      "metadata": {
        "colab": {
          "base_uri": "https://localhost:8080/"
        },
        "id": "erYWf5sVTY7T",
        "outputId": "0792a7cf-1c1d-408b-a7c8-29f6fbced016"
      },
      "execution_count": null,
      "outputs": [
        {
          "output_type": "stream",
          "name": "stdout",
          "text": [
            "tensor([[0.2157, 0.6589],\n",
            "        [0.3939, 0.6512],\n",
            "        [0.1066, 0.6578]], dtype=torch.float64)\n",
            "torch.Size([3, 2])\n",
            "tensor([[0.2157, 0.6589],\n",
            "        [0.3939, 0.6512],\n",
            "        [0.1066, 0.6578]], dtype=torch.float64)\n",
            "torch.Size([3, 2])\n"
          ]
        }
      ]
    },
    {
      "cell_type": "code",
      "source": [
        "x_np = np.random.random((3, 2))\n",
        "b = torch.tensor(x_np)\n",
        "print(b)\n",
        "print(b.shape)\n",
        "print(b.reshape(-1, 2))\n",
        "print(b.reshape(-1, 2).shape)"
      ],
      "metadata": {
        "colab": {
          "base_uri": "https://localhost:8080/"
        },
        "id": "6OJJOzUVZ6uz",
        "outputId": "4083f6bc-41ae-48ea-a231-e4946d806900"
      },
      "execution_count": null,
      "outputs": [
        {
          "output_type": "stream",
          "name": "stdout",
          "text": [
            "tensor([[0.8689, 0.5706],\n",
            "        [0.0304, 0.9309],\n",
            "        [0.6895, 0.6765]], dtype=torch.float64)\n",
            "torch.Size([3, 2])\n",
            "tensor([[0.8689, 0.5706],\n",
            "        [0.0304, 0.9309],\n",
            "        [0.6895, 0.6765]], dtype=torch.float64)\n",
            "torch.Size([3, 2])\n"
          ]
        }
      ]
    },
    {
      "cell_type": "code",
      "source": [
        "x_np = np.random.random((3, 2))\n",
        "b = torch.tensor(x_np)\n",
        "print(b)\n",
        "print(b.shape)\n",
        "print(b.reshape(3, -1))\n",
        "print(b.reshape(3, -1).shape)"
      ],
      "metadata": {
        "colab": {
          "base_uri": "https://localhost:8080/"
        },
        "id": "dB17AfXiaDgQ",
        "outputId": "b6f603a5-c7c3-4569-8d0f-f11f6f4049ed"
      },
      "execution_count": null,
      "outputs": [
        {
          "output_type": "stream",
          "name": "stdout",
          "text": [
            "tensor([[0.6926, 0.8381],\n",
            "        [0.9446, 0.6832],\n",
            "        [0.4972, 0.6178]], dtype=torch.float64)\n",
            "torch.Size([3, 2])\n",
            "tensor([[0.6926, 0.8381],\n",
            "        [0.9446, 0.6832],\n",
            "        [0.4972, 0.6178]], dtype=torch.float64)\n",
            "torch.Size([3, 2])\n"
          ]
        }
      ]
    },
    {
      "cell_type": "code",
      "source": [
        "x_np = np.random.random((2, 3))\n",
        "b = torch.tensor(x_np)\n",
        "print(b)\n",
        "print(b.shape)\n",
        "print(b.reshape(2, 3))\n",
        "print(b.reshape(2, 3).shape)"
      ],
      "metadata": {
        "colab": {
          "base_uri": "https://localhost:8080/"
        },
        "id": "37SBulWatjET",
        "outputId": "c94ff498-c9da-4980-c3a0-9c414e5b097c"
      },
      "execution_count": null,
      "outputs": [
        {
          "output_type": "stream",
          "name": "stdout",
          "text": [
            "tensor([[0.9699, 0.0939, 0.6726],\n",
            "        [0.4438, 0.8681, 0.1771]], dtype=torch.float64)\n",
            "torch.Size([2, 3])\n",
            "tensor([[0.9699, 0.0939, 0.6726],\n",
            "        [0.4438, 0.8681, 0.1771]], dtype=torch.float64)\n",
            "torch.Size([2, 3])\n"
          ]
        }
      ]
    },
    {
      "cell_type": "code",
      "source": [
        "x_np = np.random.random((2, 3))\n",
        "b = torch.tensor(x_np)\n",
        "print(b)\n",
        "print(b.shape)\n",
        "print(b.reshape(-1, 3))\n",
        "print(b.reshape(-1, 3).shape)"
      ],
      "metadata": {
        "id": "Uaer-0xcD5hn",
        "colab": {
          "base_uri": "https://localhost:8080/"
        },
        "outputId": "2afebafe-492d-487e-9d3d-f9e301a86064"
      },
      "execution_count": null,
      "outputs": [
        {
          "output_type": "stream",
          "name": "stdout",
          "text": [
            "tensor([[0.1397, 0.0300, 0.3079],\n",
            "        [0.7047, 0.2019, 0.6734]], dtype=torch.float64)\n",
            "torch.Size([2, 3])\n",
            "tensor([[0.1397, 0.0300, 0.3079],\n",
            "        [0.7047, 0.2019, 0.6734]], dtype=torch.float64)\n",
            "torch.Size([2, 3])\n"
          ]
        }
      ]
    },
    {
      "cell_type": "code",
      "source": [
        "x_np = np.random.random((2, 3))\n",
        "b = torch.tensor(x_np)\n",
        "print(b)\n",
        "print(b.shape)\n",
        "print(b.reshape(2, -1))\n",
        "print(b.reshape(2, -1).shape)"
      ],
      "metadata": {
        "colab": {
          "base_uri": "https://localhost:8080/"
        },
        "id": "ftDYtkASaa4m",
        "outputId": "8e89868e-a5ec-44d8-d6ec-c1faeb073bf5"
      },
      "execution_count": null,
      "outputs": [
        {
          "output_type": "stream",
          "name": "stdout",
          "text": [
            "tensor([[0.6391, 0.8679, 0.4547],\n",
            "        [0.5156, 0.4888, 0.6669]], dtype=torch.float64)\n",
            "torch.Size([2, 3])\n",
            "tensor([[0.6391, 0.8679, 0.4547],\n",
            "        [0.5156, 0.4888, 0.6669]], dtype=torch.float64)\n",
            "torch.Size([2, 3])\n"
          ]
        }
      ]
    },
    {
      "cell_type": "code",
      "source": [
        "x_np = np.random.random((1, 2, 3))\n",
        "b = torch.tensor(x_np)\n",
        "print(b)\n",
        "print(b.shape)\n",
        "print(b.reshape(1, 3, 2))\n",
        "print(b.reshape(1, 3, 2).shape)"
      ],
      "metadata": {
        "colab": {
          "base_uri": "https://localhost:8080/"
        },
        "id": "thAf7OsQEBod",
        "outputId": "81375cc9-0f6e-451b-df99-5ad3825c2377"
      },
      "execution_count": null,
      "outputs": [
        {
          "output_type": "stream",
          "name": "stdout",
          "text": [
            "tensor([[[0.2285, 0.9963, 0.9748],\n",
            "         [0.6503, 0.1995, 0.6802]]], dtype=torch.float64)\n",
            "torch.Size([1, 2, 3])\n",
            "tensor([[[0.2285, 0.9963],\n",
            "         [0.9748, 0.6503],\n",
            "         [0.1995, 0.6802]]], dtype=torch.float64)\n",
            "torch.Size([1, 3, 2])\n"
          ]
        }
      ]
    },
    {
      "cell_type": "code",
      "source": [
        "x_np = np.random.random((1, 2, 3))\n",
        "b = torch.tensor(x_np)\n",
        "print(b)\n",
        "print(b.shape)\n",
        "print(b.reshape(-1, 3, 2))\n",
        "print(b.reshape(-1, 3, 2).shape)"
      ],
      "metadata": {
        "colab": {
          "base_uri": "https://localhost:8080/"
        },
        "id": "JnGiuNYQYmap",
        "outputId": "cfedce60-559c-4694-ca11-760f11d38b60"
      },
      "execution_count": null,
      "outputs": [
        {
          "output_type": "stream",
          "name": "stdout",
          "text": [
            "tensor([[[0.0722, 0.0307, 0.2577],\n",
            "         [0.4626, 0.8683, 0.7272]]], dtype=torch.float64)\n",
            "torch.Size([1, 2, 3])\n",
            "tensor([[[0.0722, 0.0307],\n",
            "         [0.2577, 0.4626],\n",
            "         [0.8683, 0.7272]]], dtype=torch.float64)\n",
            "torch.Size([1, 3, 2])\n"
          ]
        }
      ]
    },
    {
      "cell_type": "code",
      "source": [
        "x_np = np.random.random((1, 2, 3))\n",
        "b = torch.tensor(x_np)\n",
        "print(b)\n",
        "print(b.shape)\n",
        "print(b.reshape(1, -1, 2))\n",
        "print(b.reshape(1, -1, 2).shape)"
      ],
      "metadata": {
        "colab": {
          "base_uri": "https://localhost:8080/"
        },
        "id": "dYvrws0zY6_J",
        "outputId": "b35edf34-2f5c-41ef-85ad-0027780e30c3"
      },
      "execution_count": null,
      "outputs": [
        {
          "output_type": "stream",
          "name": "stdout",
          "text": [
            "tensor([[[0.7427, 0.4255, 0.3459],\n",
            "         [0.3710, 0.9876, 0.0401]]], dtype=torch.float64)\n",
            "torch.Size([1, 2, 3])\n",
            "tensor([[[0.7427, 0.4255],\n",
            "         [0.3459, 0.3710],\n",
            "         [0.9876, 0.0401]]], dtype=torch.float64)\n",
            "torch.Size([1, 3, 2])\n"
          ]
        }
      ]
    },
    {
      "cell_type": "code",
      "source": [
        "x_np = np.random.random((1, 2, 3))\n",
        "b = torch.tensor(x_np)\n",
        "print(b)\n",
        "print(b.shape)\n",
        "print(b.reshape(1, 3, -1))\n",
        "print(b.reshape(1, 3, -1).shape)"
      ],
      "metadata": {
        "colab": {
          "base_uri": "https://localhost:8080/"
        },
        "id": "3UPaLAMoZAOY",
        "outputId": "86e17d9a-d5c5-4db4-a8ca-034508cf341c"
      },
      "execution_count": null,
      "outputs": [
        {
          "output_type": "stream",
          "name": "stdout",
          "text": [
            "tensor([[[0.8670, 0.5787, 0.4386],\n",
            "         [0.7253, 0.4867, 0.8734]]], dtype=torch.float64)\n",
            "torch.Size([1, 2, 3])\n",
            "tensor([[[0.8670, 0.5787],\n",
            "         [0.4386, 0.7253],\n",
            "         [0.4867, 0.8734]]], dtype=torch.float64)\n",
            "torch.Size([1, 3, 2])\n"
          ]
        }
      ]
    },
    {
      "cell_type": "markdown",
      "source": [
        "If you have a total of N items in your tensor, you can reshape it into any\n",
        "new number of dimensions as long as the final number of items adds to N.\n",
        "\n",
        "For example, we can turn the `N = 6` values into a tensor\n",
        "with five dimensions by doing `(3, 1, 1, 2, 1)` because `3 x 1 x 1 x 2 x 1 = 6`."
      ],
      "metadata": {
        "id": "q7FlCne1bGz3"
      }
    },
    {
      "cell_type": "code",
      "source": [
        "x_np = np.random.random((2, 3))\n",
        "b = torch.tensor(x_np)\n",
        "print(b)\n",
        "print(b.shape)\n",
        "print(b.reshape(3, 1, 1, 2, 1))\n",
        "print(b.reshape(3, 1, 1, 2, 1).shape)"
      ],
      "metadata": {
        "colab": {
          "base_uri": "https://localhost:8080/"
        },
        "id": "LFwI2uZ3bGMY",
        "outputId": "51deaa16-aac3-4035-f2bd-c52725b57de5"
      },
      "execution_count": null,
      "outputs": [
        {
          "output_type": "stream",
          "name": "stdout",
          "text": [
            "tensor([[0.3886, 0.4487, 0.2375],\n",
            "        [0.3733, 0.2273, 0.0732]], dtype=torch.float64)\n",
            "torch.Size([2, 3])\n",
            "tensor([[[[[0.3886],\n",
            "           [0.4487]]]],\n",
            "\n",
            "\n",
            "\n",
            "        [[[[0.2375],\n",
            "           [0.3733]]]],\n",
            "\n",
            "\n",
            "\n",
            "        [[[[0.2273],\n",
            "           [0.0732]]]]], dtype=torch.float64)\n",
            "torch.Size([3, 1, 1, 2, 1])\n"
          ]
        }
      ]
    },
    {
      "cell_type": "code",
      "source": [
        "x_np = np.random.random((3, 2))\n",
        "b = torch.tensor(x_np)\n",
        "print(b)\n",
        "print(b.shape)\n",
        "print(b.reshape(3, 1, 1, 2, 1))\n",
        "print(b.reshape(3, 1, 1, 2, 1).shape)"
      ],
      "metadata": {
        "colab": {
          "base_uri": "https://localhost:8080/"
        },
        "id": "DRxj9K0Fbstm",
        "outputId": "769d7898-b07f-4479-e8e9-1aa04ccf6686"
      },
      "execution_count": null,
      "outputs": [
        {
          "output_type": "stream",
          "name": "stdout",
          "text": [
            "tensor([[0.6034, 0.6682],\n",
            "        [0.6195, 0.4635],\n",
            "        [0.3798, 0.8633]], dtype=torch.float64)\n",
            "torch.Size([3, 2])\n",
            "tensor([[[[[0.6034],\n",
            "           [0.6682]]]],\n",
            "\n",
            "\n",
            "\n",
            "        [[[[0.6195],\n",
            "           [0.4635]]]],\n",
            "\n",
            "\n",
            "\n",
            "        [[[[0.3798],\n",
            "           [0.8633]]]]], dtype=torch.float64)\n",
            "torch.Size([3, 1, 1, 2, 1])\n"
          ]
        }
      ]
    },
    {
      "cell_type": "markdown",
      "source": [
        "The `view` function has the same kind of behavior.\n",
        "\n",
        "Because `view` uses less memory and can be faster but can throw errors if used inappropriately."
      ],
      "metadata": {
        "id": "8o9dAjgVb20j"
      }
    }
  ]
}