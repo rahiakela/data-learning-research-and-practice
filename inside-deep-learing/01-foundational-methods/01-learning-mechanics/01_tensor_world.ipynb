{
  "nbformat": 4,
  "nbformat_minor": 0,
  "metadata": {
    "colab": {
      "name": "01-tensor-world.ipynb",
      "provenance": [],
      "toc_visible": true,
      "authorship_tag": "ABX9TyMw7pfb34HlGdb/BfRY5jRs",
      "include_colab_link": true
    },
    "kernelspec": {
      "name": "python3",
      "display_name": "Python 3"
    },
    "language_info": {
      "name": "python"
    }
  },
  "cells": [
    {
      "cell_type": "markdown",
      "metadata": {
        "id": "view-in-github",
        "colab_type": "text"
      },
      "source": [
        "<a href=\"https://colab.research.google.com/github/rahiakela/deep-learning-research-and-practice/blob/main/inside-deep-learing/01-foundational-methods/01-learning-mechanics/01_tensor_world.ipynb\" target=\"_parent\"><img src=\"https://colab.research.google.com/assets/colab-badge.svg\" alt=\"Open In Colab\"/></a>"
      ]
    },
    {
      "cell_type": "markdown",
      "source": [
        "##The world as tensors"
      ],
      "metadata": {
        "id": "ldjKkwDE9r9p"
      }
    },
    {
      "cell_type": "code",
      "source": [
        "import torch\n",
        "\n",
        "import numpy as np\n",
        "import pandas as pd\n",
        "\n",
        "from tqdm.autonotebook import tqdm\n",
        "import seaborn as sns\n",
        "import matplotlib.pyplot as plt"
      ],
      "metadata": {
        "id": "bUicuO0T9vRt"
      },
      "execution_count": 2,
      "outputs": []
    },
    {
      "cell_type": "code",
      "source": [
        "# create pytorch tensor\n",
        "torch_scalar = torch.tensor(3.14)\n",
        "torch_vector = torch.tensor([1, 2, 3, 4])\n",
        "torch_metrix = torch.tensor([\n",
        "    [1, 2],\n",
        "    [3, 4],\n",
        "    [5, 6]                         \n",
        "])\n",
        "torch_3d = torch.tensor([\n",
        "    [\n",
        "      [1, 2, 3, 4],\n",
        "      [5, 6, 7, 8]\n",
        "    ],\n",
        "    [\n",
        "      [9, 10, 11, 12],\n",
        "      [13, 14, 15, 16]\n",
        "    ]                  \n",
        "])"
      ],
      "metadata": {
        "id": "iQy_V8L791sw"
      },
      "execution_count": 3,
      "outputs": []
    },
    {
      "cell_type": "code",
      "source": [
        "print(torch_scalar.shape)\n",
        "print(torch_vector.shape)\n",
        "print(torch_metrix.shape)\n",
        "print(torch_3d.shape)"
      ],
      "metadata": {
        "colab": {
          "base_uri": "https://localhost:8080/"
        },
        "id": "I5WaLFWb-hR0",
        "outputId": "66ef288f-549a-4c06-9d2e-0d4de106e1bc"
      },
      "execution_count": 4,
      "outputs": [
        {
          "output_type": "stream",
          "name": "stdout",
          "text": [
            "torch.Size([])\n",
            "torch.Size([4])\n",
            "torch.Size([3, 2])\n",
            "torch.Size([2, 2, 4])\n"
          ]
        }
      ]
    },
    {
      "cell_type": "code",
      "source": [
        "# create numpy tensor\n",
        "x_np = np.random.random((4, 4))\n",
        "print(x_np)"
      ],
      "metadata": {
        "colab": {
          "base_uri": "https://localhost:8080/"
        },
        "id": "Uaer-0xcD5hn",
        "outputId": "b49a0d6d-323e-4475-feab-96209c57b438"
      },
      "execution_count": 5,
      "outputs": [
        {
          "output_type": "stream",
          "name": "stdout",
          "text": [
            "[[0.553091   0.06504068 0.7442383  0.50332409]\n",
            " [0.33766211 0.52568117 0.30361864 0.84786368]\n",
            " [0.31177298 0.32954231 0.31271585 0.47616938]\n",
            " [0.69873185 0.0923461  0.30799688 0.57967637]]\n"
          ]
        }
      ]
    },
    {
      "cell_type": "code",
      "source": [
        "# convert numpy to pytorch tensor\n",
        "x_pt = torch.tensor(x_np)\n",
        "print(x_pt)"
      ],
      "metadata": {
        "colab": {
          "base_uri": "https://localhost:8080/"
        },
        "id": "thAf7OsQEBod",
        "outputId": "15f0a3fe-c296-4714-d8cd-a006445370fd"
      },
      "execution_count": 6,
      "outputs": [
        {
          "output_type": "stream",
          "name": "stdout",
          "text": [
            "tensor([[0.5531, 0.0650, 0.7442, 0.5033],\n",
            "        [0.3377, 0.5257, 0.3036, 0.8479],\n",
            "        [0.3118, 0.3295, 0.3127, 0.4762],\n",
            "        [0.6987, 0.0923, 0.3080, 0.5797]], dtype=torch.float64)\n"
          ]
        }
      ]
    },
    {
      "cell_type": "code",
      "source": [
        "# check data type\n",
        "print(x_np.dtype, x_pt.dtype)"
      ],
      "metadata": {
        "colab": {
          "base_uri": "https://localhost:8080/"
        },
        "id": "A_kMTtExGYp7",
        "outputId": "787c5e39-2880-4789-ccf2-0bcc18ecaaa5"
      },
      "execution_count": 7,
      "outputs": [
        {
          "output_type": "stream",
          "name": "stdout",
          "text": [
            "float64 torch.float64\n"
          ]
        }
      ]
    },
    {
      "cell_type": "code",
      "source": [
        "# Let’s force them to be 32-bit floats\n",
        "x_np = np.asarray(x_np, dtype=np.float32)\n",
        "x_pt = torch.tensor(x_np, dtype=torch.float32)\n",
        "\n",
        "print(x_np.dtype, x_pt.dtype)"
      ],
      "metadata": {
        "colab": {
          "base_uri": "https://localhost:8080/"
        },
        "id": "0AzaN07lGfeH",
        "outputId": "f15f54c6-72d2-4f6a-fa44-bb94dac9a953"
      },
      "execution_count": 8,
      "outputs": [
        {
          "output_type": "stream",
          "name": "stdout",
          "text": [
            "float32 torch.float32\n"
          ]
        }
      ]
    },
    {
      "cell_type": "code",
      "source": [
        "# let's find every value greater than 0.5 in a tensor\n",
        "b_np = (x_np > 0.5)\n",
        "print(b_np)\n",
        "print(b_np.dtype)"
      ],
      "metadata": {
        "colab": {
          "base_uri": "https://localhost:8080/"
        },
        "id": "bYAXv4E2HUWj",
        "outputId": "ffd36559-b3f8-471b-d20f-f3b3462f5b62"
      },
      "execution_count": 9,
      "outputs": [
        {
          "output_type": "stream",
          "name": "stdout",
          "text": [
            "[[ True False  True  True]\n",
            " [False  True False  True]\n",
            " [False False False False]\n",
            " [ True False False  True]]\n",
            "bool\n"
          ]
        }
      ]
    },
    {
      "cell_type": "code",
      "source": [
        "b_pt = (x_pt > 0.5)\n",
        "print(b_pt)\n",
        "print(b_pt.dtype)"
      ],
      "metadata": {
        "colab": {
          "base_uri": "https://localhost:8080/"
        },
        "id": "R07-0XykHv-F",
        "outputId": "3cf582de-3687-4acf-d2db-15407c6cc7cc"
      },
      "execution_count": 10,
      "outputs": [
        {
          "output_type": "stream",
          "name": "stdout",
          "text": [
            "tensor([[ True, False,  True,  True],\n",
            "        [False,  True, False,  True],\n",
            "        [False, False, False, False],\n",
            "        [ True, False, False,  True]])\n",
            "torch.bool\n"
          ]
        }
      ]
    },
    {
      "cell_type": "code",
      "source": [
        "# let's sum tensor value\n",
        "np.sum(x_np)"
      ],
      "metadata": {
        "colab": {
          "base_uri": "https://localhost:8080/"
        },
        "id": "p4JqR_CsIlqd",
        "outputId": "1043eb8c-bfce-464e-a06d-51b28902ae73"
      },
      "execution_count": 11,
      "outputs": [
        {
          "output_type": "execute_result",
          "data": {
            "text/plain": [
              "6.9894714"
            ]
          },
          "metadata": {},
          "execution_count": 11
        }
      ]
    },
    {
      "cell_type": "code",
      "source": [
        "torch.sum(x_pt)"
      ],
      "metadata": {
        "colab": {
          "base_uri": "https://localhost:8080/"
        },
        "id": "gsRdcphGIrGd",
        "outputId": "99fc3ed6-8263-498d-96c0-b1c185b9ce54"
      },
      "execution_count": 12,
      "outputs": [
        {
          "output_type": "execute_result",
          "data": {
            "text/plain": [
              "tensor(6.9895)"
            ]
          },
          "metadata": {},
          "execution_count": 12
        }
      ]
    },
    {
      "cell_type": "code",
      "source": [
        "# let's transpose tensor\n",
        "np.transpose(x_np)"
      ],
      "metadata": {
        "colab": {
          "base_uri": "https://localhost:8080/"
        },
        "id": "oaPDgn66JQPO",
        "outputId": "ff52a155-4a5f-45f4-d8a4-df80851858f7"
      },
      "execution_count": 13,
      "outputs": [
        {
          "output_type": "execute_result",
          "data": {
            "text/plain": [
              "array([[0.553091  , 0.3376621 , 0.31177297, 0.69873184],\n",
              "       [0.06504069, 0.5256812 , 0.3295423 , 0.09234609],\n",
              "       [0.7442383 , 0.30361864, 0.31271586, 0.3079969 ],\n",
              "       [0.5033241 , 0.8478637 , 0.47616938, 0.5796764 ]], dtype=float32)"
            ]
          },
          "metadata": {},
          "execution_count": 13
        }
      ]
    },
    {
      "cell_type": "code",
      "source": [
        "torch.transpose(x_pt, 0, 1)"
      ],
      "metadata": {
        "colab": {
          "base_uri": "https://localhost:8080/"
        },
        "id": "A11mkERIJXkI",
        "outputId": "126bbbd9-ce83-416e-c798-45de70cac6c5"
      },
      "execution_count": 14,
      "outputs": [
        {
          "output_type": "execute_result",
          "data": {
            "text/plain": [
              "tensor([[0.5531, 0.3377, 0.3118, 0.6987],\n",
              "        [0.0650, 0.5257, 0.3295, 0.0923],\n",
              "        [0.7442, 0.3036, 0.3127, 0.3080],\n",
              "        [0.5033, 0.8479, 0.4762, 0.5797]])"
            ]
          },
          "metadata": {},
          "execution_count": 14
        }
      ]
    },
    {
      "cell_type": "code",
      "source": [
        "# let's transpose dimensions wise\n",
        "print(torch_3d.shape)"
      ],
      "metadata": {
        "colab": {
          "base_uri": "https://localhost:8080/"
        },
        "id": "J6qSOn_QKw26",
        "outputId": "1377de21-0502-441b-cde9-4c411b248af9"
      },
      "execution_count": 15,
      "outputs": [
        {
          "output_type": "stream",
          "name": "stdout",
          "text": [
            "torch.Size([2, 2, 4])\n"
          ]
        }
      ]
    },
    {
      "cell_type": "code",
      "source": [
        "# let's transpose the first and third dimensions, we get a shape of (4, 2, 2)\n",
        "print(torch.transpose(torch_3d, 0, 2).shape)"
      ],
      "metadata": {
        "colab": {
          "base_uri": "https://localhost:8080/"
        },
        "id": "gtbsTeefK85B",
        "outputId": "b297dfca-e0ff-45a1-928d-81eed373d9ee"
      },
      "execution_count": 16,
      "outputs": [
        {
          "output_type": "stream",
          "name": "stdout",
          "text": [
            "torch.Size([4, 2, 2])\n"
          ]
        }
      ]
    }
  ]
}