{
  "nbformat": 4,
  "nbformat_minor": 0,
  "metadata": {
    "colab": {
      "name": "01-tensor-world.ipynb",
      "provenance": [],
      "toc_visible": true,
      "authorship_tag": "ABX9TyPVPI9J2NNUFGFkdk+9ydbK",
      "include_colab_link": true
    },
    "kernelspec": {
      "name": "python3",
      "display_name": "Python 3"
    },
    "language_info": {
      "name": "python"
    },
    "accelerator": "GPU"
  },
  "cells": [
    {
      "cell_type": "markdown",
      "metadata": {
        "id": "view-in-github",
        "colab_type": "text"
      },
      "source": [
        "<a href=\"https://colab.research.google.com/github/rahiakela/deep-learning-research-and-practice/blob/main/inside-deep-learing/01-foundational-methods/01-learning-mechanics/01_tensor_world.ipynb\" target=\"_parent\"><img src=\"https://colab.research.google.com/assets/colab-badge.svg\" alt=\"Open In Colab\"/></a>"
      ]
    },
    {
      "cell_type": "markdown",
      "source": [
        "##The world as tensors"
      ],
      "metadata": {
        "id": "ldjKkwDE9r9p"
      }
    },
    {
      "cell_type": "code",
      "source": [
        "import torch\n",
        "\n",
        "import numpy as np\n",
        "import pandas as pd\n",
        "\n",
        "import timeit\n",
        "\n",
        "from tqdm.autonotebook import tqdm\n",
        "import seaborn as sns\n",
        "import matplotlib.pyplot as plt"
      ],
      "metadata": {
        "id": "bUicuO0T9vRt"
      },
      "execution_count": 1,
      "outputs": []
    },
    {
      "cell_type": "code",
      "source": [
        "# create pytorch tensor\n",
        "torch_scalar = torch.tensor(3.14)\n",
        "torch_vector = torch.tensor([1, 2, 3, 4])\n",
        "torch_metrix = torch.tensor([\n",
        "    [1, 2],\n",
        "    [3, 4],\n",
        "    [5, 6]                         \n",
        "])\n",
        "torch_3d = torch.tensor([\n",
        "    [\n",
        "      [1, 2, 3, 4],\n",
        "      [5, 6, 7, 8]\n",
        "    ],\n",
        "    [\n",
        "      [9, 10, 11, 12],\n",
        "      [13, 14, 15, 16]\n",
        "    ]                  \n",
        "])"
      ],
      "metadata": {
        "id": "iQy_V8L791sw"
      },
      "execution_count": 2,
      "outputs": []
    },
    {
      "cell_type": "code",
      "source": [
        "print(torch_scalar.shape)\n",
        "print(torch_vector.shape)\n",
        "print(torch_metrix.shape)\n",
        "print(torch_3d.shape)"
      ],
      "metadata": {
        "colab": {
          "base_uri": "https://localhost:8080/"
        },
        "id": "I5WaLFWb-hR0",
        "outputId": "1d2b28af-8c4d-4941-e058-43eee34f10fb"
      },
      "execution_count": 3,
      "outputs": [
        {
          "output_type": "stream",
          "name": "stdout",
          "text": [
            "torch.Size([])\n",
            "torch.Size([4])\n",
            "torch.Size([3, 2])\n",
            "torch.Size([2, 2, 4])\n"
          ]
        }
      ]
    },
    {
      "cell_type": "code",
      "source": [
        "# create numpy tensor\n",
        "x_np = np.random.random((4, 4))\n",
        "print(x_np)"
      ],
      "metadata": {
        "colab": {
          "base_uri": "https://localhost:8080/"
        },
        "id": "Uaer-0xcD5hn",
        "outputId": "e7c88f62-e8e5-4da4-8b9c-343824fe5dad"
      },
      "execution_count": 4,
      "outputs": [
        {
          "output_type": "stream",
          "name": "stdout",
          "text": [
            "[[0.61538791 0.20573358 0.31200794 0.71514441]\n",
            " [0.38817292 0.64873112 0.67365101 0.01635404]\n",
            " [0.43452298 0.77886447 0.38905111 0.2972679 ]\n",
            " [0.94936055 0.71895291 0.50415977 0.75078583]]\n"
          ]
        }
      ]
    },
    {
      "cell_type": "code",
      "source": [
        "# convert numpy to pytorch tensor\n",
        "x_pt = torch.tensor(x_np)\n",
        "print(x_pt)"
      ],
      "metadata": {
        "colab": {
          "base_uri": "https://localhost:8080/"
        },
        "id": "thAf7OsQEBod",
        "outputId": "86243431-4340-4d4e-8031-9e7d6099d639"
      },
      "execution_count": 5,
      "outputs": [
        {
          "output_type": "stream",
          "name": "stdout",
          "text": [
            "tensor([[0.6154, 0.2057, 0.3120, 0.7151],\n",
            "        [0.3882, 0.6487, 0.6737, 0.0164],\n",
            "        [0.4345, 0.7789, 0.3891, 0.2973],\n",
            "        [0.9494, 0.7190, 0.5042, 0.7508]], dtype=torch.float64)\n"
          ]
        }
      ]
    },
    {
      "cell_type": "code",
      "source": [
        "# check data type\n",
        "print(x_np.dtype, x_pt.dtype)"
      ],
      "metadata": {
        "colab": {
          "base_uri": "https://localhost:8080/"
        },
        "id": "A_kMTtExGYp7",
        "outputId": "be6f77b9-f045-4460-eba2-385414edd7ce"
      },
      "execution_count": 6,
      "outputs": [
        {
          "output_type": "stream",
          "name": "stdout",
          "text": [
            "float64 torch.float64\n"
          ]
        }
      ]
    },
    {
      "cell_type": "code",
      "source": [
        "# Let’s force them to be 32-bit floats\n",
        "x_np = np.asarray(x_np, dtype=np.float32)\n",
        "x_pt = torch.tensor(x_np, dtype=torch.float32)\n",
        "\n",
        "print(x_np.dtype, x_pt.dtype)"
      ],
      "metadata": {
        "colab": {
          "base_uri": "https://localhost:8080/"
        },
        "id": "0AzaN07lGfeH",
        "outputId": "5f32a3df-2fab-4ae2-9aa6-99b8c4a173a0"
      },
      "execution_count": 7,
      "outputs": [
        {
          "output_type": "stream",
          "name": "stdout",
          "text": [
            "float32 torch.float32\n"
          ]
        }
      ]
    },
    {
      "cell_type": "code",
      "source": [
        "# let's find every value greater than 0.5 in a tensor\n",
        "b_np = (x_np > 0.5)\n",
        "print(b_np)\n",
        "print(b_np.dtype)"
      ],
      "metadata": {
        "colab": {
          "base_uri": "https://localhost:8080/"
        },
        "id": "bYAXv4E2HUWj",
        "outputId": "dc4da48a-d5cb-48d3-d8cd-280098e6fc90"
      },
      "execution_count": 8,
      "outputs": [
        {
          "output_type": "stream",
          "name": "stdout",
          "text": [
            "[[ True False False  True]\n",
            " [False  True  True False]\n",
            " [False  True False False]\n",
            " [ True  True  True  True]]\n",
            "bool\n"
          ]
        }
      ]
    },
    {
      "cell_type": "code",
      "source": [
        "b_pt = (x_pt > 0.5)\n",
        "print(b_pt)\n",
        "print(b_pt.dtype)"
      ],
      "metadata": {
        "colab": {
          "base_uri": "https://localhost:8080/"
        },
        "id": "R07-0XykHv-F",
        "outputId": "b3a3957d-833d-4fe0-fc26-326db7e14c6c"
      },
      "execution_count": 9,
      "outputs": [
        {
          "output_type": "stream",
          "name": "stdout",
          "text": [
            "tensor([[ True, False, False,  True],\n",
            "        [False,  True,  True, False],\n",
            "        [False,  True, False, False],\n",
            "        [ True,  True,  True,  True]])\n",
            "torch.bool\n"
          ]
        }
      ]
    },
    {
      "cell_type": "code",
      "source": [
        "# let's sum tensor value\n",
        "np.sum(x_np)"
      ],
      "metadata": {
        "colab": {
          "base_uri": "https://localhost:8080/"
        },
        "id": "p4JqR_CsIlqd",
        "outputId": "6bcbe5e8-41d7-4f5a-f8c4-2ccde92050ff"
      },
      "execution_count": 10,
      "outputs": [
        {
          "output_type": "execute_result",
          "data": {
            "text/plain": [
              "8.398149"
            ]
          },
          "metadata": {},
          "execution_count": 10
        }
      ]
    },
    {
      "cell_type": "code",
      "source": [
        "torch.sum(x_pt)"
      ],
      "metadata": {
        "colab": {
          "base_uri": "https://localhost:8080/"
        },
        "id": "gsRdcphGIrGd",
        "outputId": "d626fbe2-9b22-44f5-c1ee-7e6fcee1fd59"
      },
      "execution_count": 11,
      "outputs": [
        {
          "output_type": "execute_result",
          "data": {
            "text/plain": [
              "tensor(8.3981)"
            ]
          },
          "metadata": {},
          "execution_count": 11
        }
      ]
    },
    {
      "cell_type": "code",
      "source": [
        "# let's transpose tensor\n",
        "np.transpose(x_np)"
      ],
      "metadata": {
        "colab": {
          "base_uri": "https://localhost:8080/"
        },
        "id": "oaPDgn66JQPO",
        "outputId": "6194140d-e218-47e2-bc29-e27439e51efe"
      },
      "execution_count": 12,
      "outputs": [
        {
          "output_type": "execute_result",
          "data": {
            "text/plain": [
              "array([[0.6153879 , 0.38817292, 0.434523  , 0.94936055],\n",
              "       [0.20573358, 0.6487311 , 0.77886444, 0.7189529 ],\n",
              "       [0.31200793, 0.67365104, 0.3890511 , 0.50415975],\n",
              "       [0.7151444 , 0.01635404, 0.2972679 , 0.7507858 ]], dtype=float32)"
            ]
          },
          "metadata": {},
          "execution_count": 12
        }
      ]
    },
    {
      "cell_type": "code",
      "source": [
        "torch.transpose(x_pt, 0, 1)"
      ],
      "metadata": {
        "colab": {
          "base_uri": "https://localhost:8080/"
        },
        "id": "A11mkERIJXkI",
        "outputId": "ae616865-6329-458c-fdb8-7d61d2170754"
      },
      "execution_count": 13,
      "outputs": [
        {
          "output_type": "execute_result",
          "data": {
            "text/plain": [
              "tensor([[0.6154, 0.3882, 0.4345, 0.9494],\n",
              "        [0.2057, 0.6487, 0.7789, 0.7190],\n",
              "        [0.3120, 0.6737, 0.3891, 0.5042],\n",
              "        [0.7151, 0.0164, 0.2973, 0.7508]])"
            ]
          },
          "metadata": {},
          "execution_count": 13
        }
      ]
    },
    {
      "cell_type": "code",
      "source": [
        "# let's transpose dimensions wise\n",
        "print(torch_3d.shape)"
      ],
      "metadata": {
        "colab": {
          "base_uri": "https://localhost:8080/"
        },
        "id": "J6qSOn_QKw26",
        "outputId": "49eef590-27ce-4f4b-a11a-fe45392b2302"
      },
      "execution_count": 14,
      "outputs": [
        {
          "output_type": "stream",
          "name": "stdout",
          "text": [
            "torch.Size([2, 2, 4])\n"
          ]
        }
      ]
    },
    {
      "cell_type": "code",
      "source": [
        "# let's transpose the first and third dimensions, we get a shape of (4, 2, 2)\n",
        "print(torch.transpose(torch_3d, 0, 2).shape)"
      ],
      "metadata": {
        "colab": {
          "base_uri": "https://localhost:8080/"
        },
        "id": "gtbsTeefK85B",
        "outputId": "6572431b-d54a-4554-bd75-6ede5328b720"
      },
      "execution_count": 15,
      "outputs": [
        {
          "output_type": "stream",
          "name": "stdout",
          "text": [
            "torch.Size([4, 2, 2])\n"
          ]
        }
      ]
    },
    {
      "cell_type": "markdown",
      "source": [
        "##PyTorch GPU acceleration"
      ],
      "metadata": {
        "id": "JQ_vyqGHIUvn"
      }
    },
    {
      "cell_type": "code",
      "source": [
        "x = torch.rand(2 ** 11, 2 ** 11)\n",
        "time_cpu = timeit.timeit(\"x@x\", globals=globals(), number=100)"
      ],
      "metadata": {
        "id": "DX75txLtIVr7"
      },
      "execution_count": 16,
      "outputs": []
    },
    {
      "cell_type": "code",
      "source": [
        "time_cpu"
      ],
      "metadata": {
        "id": "Z0NC405pJknD",
        "outputId": "b64f0f72-7ebc-4bd8-bba4-89b505ec9e83",
        "colab": {
          "base_uri": "https://localhost:8080/"
        }
      },
      "execution_count": 17,
      "outputs": [
        {
          "output_type": "execute_result",
          "data": {
            "text/plain": [
              "30.743872181"
            ]
          },
          "metadata": {},
          "execution_count": 17
        }
      ]
    },
    {
      "cell_type": "code",
      "source": [
        "# let's check GPU is avaialble\n",
        "print(f\"Is CUDA available? : {torch.cuda.is_available()}\")"
      ],
      "metadata": {
        "id": "_ZBWw4oMJqp0",
        "outputId": "621cac83-f1ad-4995-f434-0d72ff008fd9",
        "colab": {
          "base_uri": "https://localhost:8080/"
        }
      },
      "execution_count": 18,
      "outputs": [
        {
          "output_type": "stream",
          "name": "stdout",
          "text": [
            "Is CUDA available? : True\n"
          ]
        }
      ]
    },
    {
      "cell_type": "code",
      "source": [
        "device = torch.device(\"cuda\")"
      ],
      "metadata": {
        "id": "UC3q3g6sJ5HQ"
      },
      "execution_count": 19,
      "outputs": []
    },
    {
      "cell_type": "code",
      "source": [
        "# now, let's move x to GPU device\n",
        "x = x.to(device)\n",
        "time_gpu = timeit.timeit(\"x@x\", globals=globals(), number=100)\n",
        "time_gpu"
      ],
      "metadata": {
        "id": "cXmTWLUwKPlI",
        "outputId": "20e43d9c-0372-454a-ebb6-77c824492d62",
        "colab": {
          "base_uri": "https://localhost:8080/"
        }
      },
      "execution_count": 20,
      "outputs": [
        {
          "output_type": "execute_result",
          "data": {
            "text/plain": [
              "0.02783245200004103"
            ]
          },
          "metadata": {},
          "execution_count": 20
        }
      ]
    },
    {
      "cell_type": "code",
      "source": [
        "# let's try to make the matrix smaller and see how that impacts the speedup\n",
        "y = torch.rand(2 ** 4, 2 ** 4)\n",
        "time_cpu = timeit.timeit(\"y@y\", globals=globals(), number=100)\n",
        "time_cpu"
      ],
      "metadata": {
        "id": "FglHxIdjK0ES",
        "outputId": "f87008e6-1719-4cce-9a6d-4ab7f94fa2bd",
        "colab": {
          "base_uri": "https://localhost:8080/"
        }
      },
      "execution_count": 23,
      "outputs": [
        {
          "output_type": "execute_result",
          "data": {
            "text/plain": [
              "0.0007066449999229008"
            ]
          },
          "metadata": {},
          "execution_count": 23
        }
      ]
    },
    {
      "cell_type": "code",
      "source": [
        "y = y.to(device)\n",
        "time_gpu = timeit.timeit(\"y@y\", globals=globals(), number=100)\n",
        "time_gpu"
      ],
      "metadata": {
        "id": "WUfDbq_xLDUn",
        "outputId": "701491d0-d6e6-43f6-e01b-a08f1bd068d0",
        "colab": {
          "base_uri": "https://localhost:8080/"
        }
      },
      "execution_count": 24,
      "outputs": [
        {
          "output_type": "execute_result",
          "data": {
            "text/plain": [
              "0.0020799279999437204"
            ]
          },
          "metadata": {},
          "execution_count": 24
        }
      ]
    },
    {
      "cell_type": "markdown",
      "source": [
        "Be aware that this only works if every object involved is on the same device"
      ],
      "metadata": {
        "id": "bTvWqyaZNMrK"
      }
    },
    {
      "cell_type": "code",
      "source": [
        "x = torch.rand(128, 128).to(device)\n",
        "y = torch.rand(128, 128)\n",
        "\n",
        "x * y"
      ],
      "metadata": {
        "id": "wU16pFHmLkCP",
        "outputId": "013d6ee4-4258-4aff-9d9b-bb18e401e819",
        "colab": {
          "base_uri": "https://localhost:8080/",
          "height": 201
        }
      },
      "execution_count": 25,
      "outputs": [
        {
          "output_type": "error",
          "ename": "RuntimeError",
          "evalue": "ignored",
          "traceback": [
            "\u001b[0;31m---------------------------------------------------------------------------\u001b[0m",
            "\u001b[0;31mRuntimeError\u001b[0m                              Traceback (most recent call last)",
            "\u001b[0;32m<ipython-input-25-05f8bb79e3e2>\u001b[0m in \u001b[0;36m<module>\u001b[0;34m()\u001b[0m\n\u001b[1;32m      3\u001b[0m \u001b[0my\u001b[0m \u001b[0;34m=\u001b[0m \u001b[0mtorch\u001b[0m\u001b[0;34m.\u001b[0m\u001b[0mrand\u001b[0m\u001b[0;34m(\u001b[0m\u001b[0;36m128\u001b[0m\u001b[0;34m,\u001b[0m \u001b[0;36m128\u001b[0m\u001b[0;34m)\u001b[0m\u001b[0;34m\u001b[0m\u001b[0;34m\u001b[0m\u001b[0m\n\u001b[1;32m      4\u001b[0m \u001b[0;34m\u001b[0m\u001b[0m\n\u001b[0;32m----> 5\u001b[0;31m \u001b[0mx\u001b[0m \u001b[0;34m*\u001b[0m \u001b[0my\u001b[0m\u001b[0;34m\u001b[0m\u001b[0;34m\u001b[0m\u001b[0m\n\u001b[0m",
            "\u001b[0;31mRuntimeError\u001b[0m: Expected all tensors to be on the same device, but found at least two devices, cuda:0 and cpu!"
          ]
        }
      ]
    },
    {
      "cell_type": "code",
      "source": [
        "# let's change the operation order\n",
        "y * x"
      ],
      "metadata": {
        "id": "pfK6vJvgMtED",
        "outputId": "78996750-3387-4064-9917-2af24abb7395",
        "colab": {
          "base_uri": "https://localhost:8080/",
          "height": 183
        }
      },
      "execution_count": 26,
      "outputs": [
        {
          "output_type": "error",
          "ename": "RuntimeError",
          "evalue": "ignored",
          "traceback": [
            "\u001b[0;31m---------------------------------------------------------------------------\u001b[0m",
            "\u001b[0;31mRuntimeError\u001b[0m                              Traceback (most recent call last)",
            "\u001b[0;32m<ipython-input-26-8a89cbe84563>\u001b[0m in \u001b[0;36m<module>\u001b[0;34m()\u001b[0m\n\u001b[1;32m      1\u001b[0m \u001b[0;31m# let's change the operation order\u001b[0m\u001b[0;34m\u001b[0m\u001b[0;34m\u001b[0m\u001b[0;34m\u001b[0m\u001b[0m\n\u001b[0;32m----> 2\u001b[0;31m \u001b[0my\u001b[0m \u001b[0;34m*\u001b[0m \u001b[0mx\u001b[0m\u001b[0;34m\u001b[0m\u001b[0;34m\u001b[0m\u001b[0m\n\u001b[0m",
            "\u001b[0;31mRuntimeError\u001b[0m: Expected all tensors to be on the same device, but found at least two devices, cuda:0 and cpu!"
          ]
        }
      ]
    },
    {
      "cell_type": "markdown",
      "source": [
        "The other thing to be aware of is how to convert PyTorch data back to the CPU."
      ],
      "metadata": {
        "id": "FLbLlM4INIwX"
      }
    },
    {
      "cell_type": "code",
      "source": [
        "# convert a tensor back to NumPy array\n",
        "x.numpy()"
      ],
      "metadata": {
        "id": "RH-6VbjQNJMj",
        "outputId": "bc8d724b-911e-455c-ddc9-31a0ca82ebe9",
        "colab": {
          "base_uri": "https://localhost:8080/",
          "height": 201
        }
      },
      "execution_count": 27,
      "outputs": [
        {
          "output_type": "error",
          "ename": "TypeError",
          "evalue": "ignored",
          "traceback": [
            "\u001b[0;31m---------------------------------------------------------------------------\u001b[0m",
            "\u001b[0;31mTypeError\u001b[0m                                 Traceback (most recent call last)",
            "\u001b[0;32m<ipython-input-27-7f6d0013eef5>\u001b[0m in \u001b[0;36m<module>\u001b[0;34m()\u001b[0m\n\u001b[1;32m      1\u001b[0m \u001b[0;31m# convert a tensor back to NumPy array\u001b[0m\u001b[0;34m\u001b[0m\u001b[0;34m\u001b[0m\u001b[0;34m\u001b[0m\u001b[0m\n\u001b[0;32m----> 2\u001b[0;31m \u001b[0mx\u001b[0m\u001b[0;34m.\u001b[0m\u001b[0mnumpy\u001b[0m\u001b[0;34m(\u001b[0m\u001b[0;34m)\u001b[0m\u001b[0;34m\u001b[0m\u001b[0;34m\u001b[0m\u001b[0m\n\u001b[0m",
            "\u001b[0;31mTypeError\u001b[0m: can't convert cuda:0 device type tensor to numpy. Use Tensor.cpu() to copy the tensor to host memory first."
          ]
        }
      ]
    },
    {
      "cell_type": "code",
      "source": [
        "# we need to move tensor first to cpu\n",
        "x.cpu().numpy()"
      ],
      "metadata": {
        "id": "-KA6WGrdNqaW",
        "outputId": "b081290d-dc56-4c0a-9674-961f27b067b7",
        "colab": {
          "base_uri": "https://localhost:8080/"
        }
      },
      "execution_count": 28,
      "outputs": [
        {
          "output_type": "execute_result",
          "data": {
            "text/plain": [
              "array([[0.47301322, 0.7353228 , 0.16693443, ..., 0.5516606 , 0.7507018 ,\n",
              "        0.84979534],\n",
              "       [0.7395101 , 0.6326684 , 0.889756  , ..., 0.3624186 , 0.2215904 ,\n",
              "        0.7190404 ],\n",
              "       [0.92088807, 0.5501011 , 0.9038619 , ..., 0.8990911 , 0.9849934 ,\n",
              "        0.24517703],\n",
              "       ...,\n",
              "       [0.5127104 , 0.29696852, 0.37228227, ..., 0.11635119, 0.4324844 ,\n",
              "        0.51874995],\n",
              "       [0.69576275, 0.97957474, 0.42679274, ..., 0.0453108 , 0.8387493 ,\n",
              "        0.84938604],\n",
              "       [0.35797238, 0.8131727 , 0.6302763 , ..., 0.5749145 , 0.16673273,\n",
              "        0.5605307 ]], dtype=float32)"
            ]
          },
          "metadata": {},
          "execution_count": 28
        }
      ]
    },
    {
      "cell_type": "markdown",
      "source": [
        "Let's define a function, which goes recursively\n",
        "through the common `Python` and `PyTorch` containers and moves every object found onto the specified device."
      ],
      "metadata": {
        "id": "xl1rgSTgO6my"
      }
    },
    {
      "cell_type": "code",
      "source": [
        "def move_to(obj, device):\n",
        "  \"\"\"\n",
        "  obj: the python object to move to a device, or to move its contents to a device\n",
        "  device: the compute device to move objects to\n",
        "  \"\"\"\n",
        "  if isinstance(obj, list):\n",
        "    return [move_to(x, device) for x in obj]\n",
        "  elif isinstance(obj, tuple):\n",
        "    return (move_to(list(obj), device))\n",
        "  elif isinstance(obj, set):\n",
        "    return set(move_to(list(obj), device))\n",
        "  elif isinstance(obj, dict):\n",
        "    to_ret = dict()\n",
        "    for key, value in obj.items():\n",
        "      to_ret[move_to(key, device)] = move_to(value, device)\n",
        "    return to_ret\n",
        "  elif hasattr(obj, \"to\"):\n",
        "    return obj.to(device)\n",
        "  else:\n",
        "    return obj"
      ],
      "metadata": {
        "id": "SJHWsiVEO5vF"
      },
      "execution_count": 29,
      "outputs": []
    },
    {
      "cell_type": "code",
      "source": [
        "some_tensors = [torch.tensor(1), torch.tensor(2)]\n",
        "print(some_tensors)\n",
        "\n",
        "# let's move to GPU\n",
        "print(move_to(some_tensors, device))"
      ],
      "metadata": {
        "id": "Pdecxjb2Sqo9",
        "outputId": "d4cdafcb-8db1-4eba-ad83-88146b1cbba5",
        "colab": {
          "base_uri": "https://localhost:8080/"
        }
      },
      "execution_count": 30,
      "outputs": [
        {
          "output_type": "stream",
          "name": "stdout",
          "text": [
            "[tensor(1), tensor(2)]\n",
            "[tensor(1, device='cuda:0'), tensor(2, device='cuda:0')]\n"
          ]
        }
      ]
    },
    {
      "cell_type": "code",
      "source": [
        "# let's move to CPU\n",
        "print(move_to(some_tensors, \"cpu\"))"
      ],
      "metadata": {
        "id": "PTaSEe-dTFMf",
        "outputId": "08b2551f-2c70-4e91-8b5f-36e23ad7abaf",
        "colab": {
          "base_uri": "https://localhost:8080/"
        }
      },
      "execution_count": 31,
      "outputs": [
        {
          "output_type": "stream",
          "name": "stdout",
          "text": [
            "[tensor(1), tensor(2)]\n"
          ]
        }
      ]
    }
  ]
}