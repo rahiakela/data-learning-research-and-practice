{
  "nbformat": 4,
  "nbformat_minor": 0,
  "metadata": {
    "colab": {
      "name": "04-hyperparameter-optimization-with-optuna.ipynb",
      "provenance": [],
      "toc_visible": true,
      "authorship_tag": "ABX9TyOl/awQsrgqN2u6Zf5fttRr",
      "include_colab_link": true
    },
    "kernelspec": {
      "name": "python3",
      "display_name": "Python 3"
    },
    "language_info": {
      "name": "python"
    },
    "accelerator": "GPU",
    "gpuClass": "standard"
  },
  "cells": [
    {
      "cell_type": "markdown",
      "metadata": {
        "id": "view-in-github",
        "colab_type": "text"
      },
      "source": [
        "<a href=\"https://colab.research.google.com/github/rahiakela/deep-learning-research-and-practice/blob/main/inside-deep-learing/05-modern-training-techniques/04_hyperparameter_optimization_with_optuna.ipynb\" target=\"_parent\"><img src=\"https://colab.research.google.com/assets/colab-badge.svg\" alt=\"Open In Colab\"/></a>"
      ]
    },
    {
      "cell_type": "markdown",
      "source": [
        "##Hyperparameter optimization with Optuna"
      ],
      "metadata": {
        "id": "ldjKkwDE9r9p"
      }
    },
    {
      "cell_type": "markdown",
      "source": [
        "The improvements so far have focused on optimizing when we have gradients.\n",
        "But hyperparameters are things we would like to optimize for which we do not have\n",
        "any gradients, such as the initial learning rate $\\eta$ to use and the value of the momentum\n",
        "term $\\mu$. \n",
        "\n",
        "We would also like to optimize the architecture of our networks: \n",
        "\n",
        "should we use two layers or three? \n",
        "\n",
        "How about the number of neurons in each hidden layer?\n",
        "\n",
        "The first hyperparameter tuning method most people learn in machine learning\n",
        "is called grid search. \n",
        "\n",
        "While valuable, grid search works well only for optimizing one or two variables at a time due to its exponential cost as more variables are added.\n",
        "\n",
        "When training a neural network, we usually have at least three parameters we want to optimize(number of layers, number of neurons in each layer, and learning rate $\\eta$). \n",
        "\n",
        "We instead use a newer approach—**Optuna**—to tuning hyperparameters, which works much better.\n",
        "\n",
        "Optuna does a better job of hyperparameter optimization by\n",
        "using a Bayesian technique to model the hyperparameter problem as its own machine learning task.\n",
        "\n",
        "For Optuna, we define a function that we want to minimize (or\n",
        "maximize), which takes as input a trial object. This trial object is used to get guesses\n",
        "for each parameter we want to tune and returns a score at the end.\n",
        "\n",
        "<img src='images/6.png?raw=1' width='600'/>\n",
        "\n",
        "Let’s look at a toy function that we want to minimize:\n",
        "\n",
        "$$ \n",
        "f(x, y) = abs(x-3)*(y+2)\n",
        "$$\n",
        "\n",
        "It’s easy to tell that one minimum exists at $x = 3$ and $y = -2$.\n",
        "\n",
        "So now, let's try to find it with Optuna."
      ],
      "metadata": {
        "id": "tFXQb6wufLVZ"
      }
    },
    {
      "cell_type": "markdown",
      "source": [
        "##Setup"
      ],
      "metadata": {
        "id": "Ju6nJVQUfX5-"
      }
    },
    {
      "cell_type": "code",
      "source": [
        "!pip install optuna"
      ],
      "metadata": {
        "id": "0RMy4PByQ4rw"
      },
      "execution_count": null,
      "outputs": []
    },
    {
      "cell_type": "code",
      "source": [
        "from tqdm.autonotebook import tqdm\n",
        "\n",
        "import numpy as np\n",
        "import seaborn as sns\n",
        "import matplotlib\n",
        "import matplotlib.pyplot as plt\n",
        "from matplotlib.pyplot import imshow\n",
        "\n",
        "import pandas as pd\n",
        "\n",
        "from sklearn.metrics import accuracy_score\n",
        "\n",
        "from sklearn.datasets import make_moons\n",
        "\n",
        "import time"
      ],
      "metadata": {
        "id": "bUicuO0T9vRt"
      },
      "execution_count": null,
      "outputs": []
    },
    {
      "cell_type": "code",
      "source": [
        "!wget https://github.com/EdwardRaff/Inside-Deep-Learning/raw/main/idlmam.py"
      ],
      "metadata": {
        "id": "j8dfqZhAI7hK"
      },
      "execution_count": null,
      "outputs": []
    },
    {
      "cell_type": "code",
      "source": [
        "import torch\n",
        "import torch.nn as nn\n",
        "import torch.nn.functional as F\n",
        "import torchvision \n",
        "from torchvision import transforms\n",
        "from torch.utils.data import Dataset, DataLoader\n",
        "\n",
        "import optuna\n",
        "\n",
        "from idlmam import train_simple_network, Flatten, weight_reset, set_seed, run_epoch"
      ],
      "metadata": {
        "id": "_9xoD7-8EibG"
      },
      "execution_count": null,
      "outputs": []
    },
    {
      "cell_type": "code",
      "source": [
        "%matplotlib inline\n",
        "from IPython.display import set_matplotlib_formats\n",
        "set_matplotlib_formats('png', 'pdf')\n",
        "from IPython.display import display_pdf\n",
        "from IPython.display import Latex\n",
        "\n",
        "torch.backends.cudnn.deterministic=True\n",
        "set_seed(45)"
      ],
      "metadata": {
        "id": "8U1JNhEmEkzG"
      },
      "execution_count": null,
      "outputs": []
    },
    {
      "cell_type": "code",
      "source": [
        "device = torch.device(\"cuda\") if torch.cuda.is_available() else torch.device(\"cpu\")"
      ],
      "metadata": {
        "id": "nXiYSSxO707X"
      },
      "execution_count": null,
      "outputs": []
    },
    {
      "cell_type": "markdown",
      "source": [
        "##Dataset"
      ],
      "metadata": {
        "id": "ycbbAdR0fjAG"
      }
    },
    {
      "cell_type": "markdown",
      "source": [
        "We use the\n",
        "Fashion-MNIST dataset because it is slightly more challenging while retaining the same\n",
        "size and shape as the original MNIST corpus, which will let us accomplish some testing\n",
        "in a reasonable time."
      ],
      "metadata": {
        "id": "dGBbD_ci_DvL"
      }
    },
    {
      "cell_type": "code",
      "source": [
        "epochs = 50\n",
        "B = 256\n",
        "\n",
        "train_data = torchvision.datasets.FashionMNIST(\"./data\", train=True, transform=transforms.ToTensor(), download=True)\n",
        "test_data = torchvision.datasets.FashionMNIST(\"./data\", train=False, transform=transforms.ToTensor(), download=True)\n",
        "\n",
        "training_loader = DataLoader(train_data, batch_size=B, shuffle=True)\n",
        "testing_loader = DataLoader(test_data, batch_size=B)"
      ],
      "metadata": {
        "id": "iQy_V8L791sw"
      },
      "execution_count": null,
      "outputs": []
    },
    {
      "cell_type": "markdown",
      "source": [
        "##Training algorithem"
      ],
      "metadata": {
        "id": "cnR7s0KfIhEB"
      }
    },
    {
      "cell_type": "markdown",
      "source": [
        "Some problems take just a few epochs, others take hundreds to thousands, and\n",
        "both of these factors change based on how much data you have. \n",
        "\n",
        "For these reasons, I don’t like requiring a learning rate schedule to always be used. I like to work without one first and then add one based on the problem at hand. \n",
        "\n",
        "However, we must always use some kind of optimizer. So if none is given, we  use a good default."
      ],
      "metadata": {
        "id": "w6UP2YXo9X0S"
      }
    },
    {
      "cell_type": "code",
      "source": [
        "def train_network(model, loss_func, train_loader, val_loader=None, test_loader=None, \n",
        "                  score_funcs=None, epochs=50, device=\"cpu\", checkpoint_file=None, \n",
        "                  lr_schedule=None, optimizer=None, disable_tqdm=False):\n",
        "  \"\"\"\n",
        "  Train simple neural networks\n",
        "    \n",
        "  Keyword arguments:\n",
        "  model -- the PyTorch model / \"Module\" to train\n",
        "  loss_func -- the loss function that takes in batch in two arguments, the model outputs and the labels, and returns a score\n",
        "  train_loader -- PyTorch DataLoader object that returns tuples of (input, label) pairs. \n",
        "  val_loader -- Optional PyTorch DataLoader to evaluate on after every epoch\n",
        "  test_loader -- Optional PyTorch DataLoader to evaluate on after every epoch\n",
        "  score_funcs -- A dictionary of scoring functions to use to evalue the performance of the model\n",
        "  epochs -- the number of training epochs to perform\n",
        "  device -- the compute lodation to perform training\n",
        "  lr_schedule -- the learning rate schedule used to alter \\eta as the model trains. If this is not None than the user must also provide the optimizer to use. \n",
        "  optimizer -- the method used to alter the gradients for learning\n",
        "  \"\"\"\n",
        "  if score_funcs == None:\n",
        "    score_funcs = {}\n",
        "\n",
        "  tracking = [\"epoch\", \"total time\", \"train loss\"]\n",
        "\n",
        "  if val_loader  is not None:\n",
        "    tracking.append(\"val loss\")\n",
        "\n",
        "  if test_loader is not None:\n",
        "    tracking.append(\"test loss\")\n",
        "  \n",
        "  for eval_score in score_funcs:\n",
        "    tracking.append(\"train \" + eval_score)\n",
        "    if val_loader is not None:\n",
        "      tracking.append(\"val \" + eval_score)\n",
        "    if test_loader is not None:\n",
        "      tracking.append(\"test \" + eval_score)\n",
        "\n",
        "  # How long have we spent in the training loop?\n",
        "  total_train_time = 0\n",
        "  results = {}\n",
        "  # Initialize every item with an empty list\n",
        "  for item in tracking:\n",
        "    results[item] = []\n",
        "\n",
        "  if optimizer == None:\n",
        "    # AdamW optimizer is a good default optimizer\n",
        "    optimizer = torch.optim.AdamW(model.parameters())\n",
        "\n",
        "  # Place the model on the correct compute resource (CPU or GPU)\n",
        "  model.to(device)\n",
        "\n",
        "  # iterating through all the data (batches) multiple times (epochs)\n",
        "  for epoch in tqdm(range(epochs), desc=\"Epoch\", disable=disable_tqdm):\n",
        "    # Put the model in training mode\n",
        "    model = model.train()\n",
        "\n",
        "    # train the model\n",
        "    total_train_time += run_epoch(model, optimizer, train_loader, loss_func, device, results, score_funcs, prefix=\"train\", desc=\"Training\")\n",
        "    \n",
        "    results[\"total time\"].append(total_train_time)\n",
        "    results[\"epoch\"].append(epoch)\n",
        "\n",
        "    if val_loader is not None:\n",
        "      #  Put the model to \"evaluation\" mode, b/c we don't want to make any updates!\n",
        "      model = model.eval()\n",
        "      with torch.no_grad():\n",
        "        run_epoch(model, optimizer, val_loader, loss_func, device, results, score_funcs, prefix=\"val\", desc=\"Validating\")\n",
        "\n",
        "    # In PyTorch, the convention is to update the learning rate after every epoch\n",
        "    if lr_schedule is not None:\n",
        "      if isinstance(lr_schedule, torch.optim.lr_scheduler.ReduceLROnPlateau):\n",
        "        lr_schedule.step(results[\"val loss\"][-1])\n",
        "      else:\n",
        "        lr_schedule.step()\n",
        "\n",
        "    if test_loader is not None:\n",
        "      model = model.eval()\n",
        "      with torch.no_grad():\n",
        "        run_epoch(model, optimizer, test_loader, loss_func, device, results, score_funcs, prefix=\"test\", desc=\"Testing\")\n",
        "\n",
        "    # lets us save the model, the optimizer state, and other information, all in one object\n",
        "    if checkpoint_file is not None:\n",
        "      torch.save({\n",
        "          \"epoch\": epoch,\n",
        "          \"model_state_dict\": model.state_dict(),\n",
        "          \"optimizer_state_dict\": optimizer.state_dict(),\n",
        "          \"results\": results\n",
        "      }, checkpoint_file)\n",
        "\n",
        "  # Finally, convert the results into a pandas DataFrame\n",
        "  return pd.DataFrame.from_dict(results)"
      ],
      "metadata": {
        "id": "xDXB5JaWX1OU"
      },
      "execution_count": null,
      "outputs": []
    },
    {
      "cell_type": "markdown",
      "source": [
        "##Training model"
      ],
      "metadata": {
        "id": "ztXv-rntZRfP"
      }
    },
    {
      "cell_type": "markdown",
      "source": [
        "We have everything we need to train our model."
      ],
      "metadata": {
        "id": "ACNEAcQdSinJ"
      }
    },
    {
      "cell_type": "code",
      "source": [
        "D = 28 * 28       # input size\n",
        "n = 128           # Hidden layer size\n",
        "C= 1              # How many channels are in the input?\n",
        "classes = 10      # How many classes are there?"
      ],
      "metadata": {
        "id": "uTE8O41Z_Mt2"
      },
      "execution_count": null,
      "outputs": []
    },
    {
      "cell_type": "code",
      "source": [
        "fc_model = nn.Sequential(\n",
        "    nn.Flatten(),\n",
        "    nn.Linear(D, n),\n",
        "    nn.Tanh(),\n",
        "    nn.Linear(n, n),\n",
        "    nn.Tanh(),\n",
        "    nn.Linear(n, n),\n",
        "    nn.Tanh(),\n",
        "    nn.Linear(n, classes)\n",
        ")"
      ],
      "metadata": {
        "id": "UOHGIRQbZUlR"
      },
      "execution_count": null,
      "outputs": []
    },
    {
      "cell_type": "markdown",
      "source": [
        "Last, we need to settle on a default starting learning rate $\\eta_0$. If we do not provide any kind of learning rate schedule $L(., .)$, then $\\eta_0$ will be used for every epoch of training."
      ],
      "metadata": {
        "id": "4AiVRjSqAgPa"
      }
    },
    {
      "cell_type": "code",
      "source": [
        "eta_0 = 0.1 "
      ],
      "metadata": {
        "id": "fji8TAVGAguK"
      },
      "execution_count": null,
      "outputs": []
    },
    {
      "cell_type": "markdown",
      "source": [
        "Notice that we set the default learning rate $\\eta_0$ in the optimizer’s\n",
        "constructor. \n",
        "\n",
        "This is the standard process in PyTorch, and any LRSchedule object we\n",
        "might use will reach into the optimizer object to alter the learning rate."
      ],
      "metadata": {
        "id": "BAuhGmKbCG9o"
      }
    },
    {
      "cell_type": "code",
      "source": [
        "loss_func = nn.CrossEntropyLoss()"
      ],
      "metadata": {
        "id": "VZu6VpER5-F3"
      },
      "execution_count": null,
      "outputs": []
    },
    {
      "cell_type": "code",
      "source": [
        "fc_results = train_network(fc_model, \n",
        "                          loss_func, \n",
        "                          training_loader,\n",
        "                          epochs=epochs, \n",
        "                          test_loader=testing_loader,\n",
        "                          optimizer=torch.optim.SGD(fc_model.parameters(), lr=eta_0),\n",
        "                          checkpoint_file=\"model.pt\",\n",
        "                          score_funcs={\"Acc\": accuracy_score},\n",
        "                          device=device)"
      ],
      "metadata": {
        "id": "O73g-XIPeoOe"
      },
      "execution_count": null,
      "outputs": []
    },
    {
      "cell_type": "markdown",
      "source": [
        "Let's quickly plot the training and validation\n",
        "accuracy."
      ],
      "metadata": {
        "id": "6CpGmoirXWKE"
      }
    },
    {
      "cell_type": "code",
      "source": [
        "fc_results.head()"
      ],
      "metadata": {
        "id": "DXXLFX1fEo-K",
        "outputId": "4e915019-56b8-486b-823f-0ce39026b99b",
        "colab": {
          "base_uri": "https://localhost:8080/",
          "height": 206
        }
      },
      "execution_count": null,
      "outputs": [
        {
          "output_type": "execute_result",
          "data": {
            "text/plain": [
              "   epoch  total time  train loss  test loss  train Acc  test Acc\n",
              "0      0    8.821117    1.008232   0.628697   0.642000    0.7756\n",
              "1      1   14.509942    0.561391   0.618343   0.795767    0.7755\n",
              "2      2   20.288430    0.493710   0.549053   0.821217    0.7904\n",
              "3      3   25.969423    0.459425   0.497841   0.832617    0.8199\n",
              "4      4   31.818383    0.436893   0.444015   0.842467    0.8384"
            ],
            "text/html": [
              "\n",
              "  <div id=\"df-317a259c-fa3e-4b9a-9ac3-a6ee7f05d64b\">\n",
              "    <div class=\"colab-df-container\">\n",
              "      <div>\n",
              "<style scoped>\n",
              "    .dataframe tbody tr th:only-of-type {\n",
              "        vertical-align: middle;\n",
              "    }\n",
              "\n",
              "    .dataframe tbody tr th {\n",
              "        vertical-align: top;\n",
              "    }\n",
              "\n",
              "    .dataframe thead th {\n",
              "        text-align: right;\n",
              "    }\n",
              "</style>\n",
              "<table border=\"1\" class=\"dataframe\">\n",
              "  <thead>\n",
              "    <tr style=\"text-align: right;\">\n",
              "      <th></th>\n",
              "      <th>epoch</th>\n",
              "      <th>total time</th>\n",
              "      <th>train loss</th>\n",
              "      <th>test loss</th>\n",
              "      <th>train Acc</th>\n",
              "      <th>test Acc</th>\n",
              "    </tr>\n",
              "  </thead>\n",
              "  <tbody>\n",
              "    <tr>\n",
              "      <th>0</th>\n",
              "      <td>0</td>\n",
              "      <td>8.821117</td>\n",
              "      <td>1.008232</td>\n",
              "      <td>0.628697</td>\n",
              "      <td>0.642000</td>\n",
              "      <td>0.7756</td>\n",
              "    </tr>\n",
              "    <tr>\n",
              "      <th>1</th>\n",
              "      <td>1</td>\n",
              "      <td>14.509942</td>\n",
              "      <td>0.561391</td>\n",
              "      <td>0.618343</td>\n",
              "      <td>0.795767</td>\n",
              "      <td>0.7755</td>\n",
              "    </tr>\n",
              "    <tr>\n",
              "      <th>2</th>\n",
              "      <td>2</td>\n",
              "      <td>20.288430</td>\n",
              "      <td>0.493710</td>\n",
              "      <td>0.549053</td>\n",
              "      <td>0.821217</td>\n",
              "      <td>0.7904</td>\n",
              "    </tr>\n",
              "    <tr>\n",
              "      <th>3</th>\n",
              "      <td>3</td>\n",
              "      <td>25.969423</td>\n",
              "      <td>0.459425</td>\n",
              "      <td>0.497841</td>\n",
              "      <td>0.832617</td>\n",
              "      <td>0.8199</td>\n",
              "    </tr>\n",
              "    <tr>\n",
              "      <th>4</th>\n",
              "      <td>4</td>\n",
              "      <td>31.818383</td>\n",
              "      <td>0.436893</td>\n",
              "      <td>0.444015</td>\n",
              "      <td>0.842467</td>\n",
              "      <td>0.8384</td>\n",
              "    </tr>\n",
              "  </tbody>\n",
              "</table>\n",
              "</div>\n",
              "      <button class=\"colab-df-convert\" onclick=\"convertToInteractive('df-317a259c-fa3e-4b9a-9ac3-a6ee7f05d64b')\"\n",
              "              title=\"Convert this dataframe to an interactive table.\"\n",
              "              style=\"display:none;\">\n",
              "        \n",
              "  <svg xmlns=\"http://www.w3.org/2000/svg\" height=\"24px\"viewBox=\"0 0 24 24\"\n",
              "       width=\"24px\">\n",
              "    <path d=\"M0 0h24v24H0V0z\" fill=\"none\"/>\n",
              "    <path d=\"M18.56 5.44l.94 2.06.94-2.06 2.06-.94-2.06-.94-.94-2.06-.94 2.06-2.06.94zm-11 1L8.5 8.5l.94-2.06 2.06-.94-2.06-.94L8.5 2.5l-.94 2.06-2.06.94zm10 10l.94 2.06.94-2.06 2.06-.94-2.06-.94-.94-2.06-.94 2.06-2.06.94z\"/><path d=\"M17.41 7.96l-1.37-1.37c-.4-.4-.92-.59-1.43-.59-.52 0-1.04.2-1.43.59L10.3 9.45l-7.72 7.72c-.78.78-.78 2.05 0 2.83L4 21.41c.39.39.9.59 1.41.59.51 0 1.02-.2 1.41-.59l7.78-7.78 2.81-2.81c.8-.78.8-2.07 0-2.86zM5.41 20L4 18.59l7.72-7.72 1.47 1.35L5.41 20z\"/>\n",
              "  </svg>\n",
              "      </button>\n",
              "      \n",
              "  <style>\n",
              "    .colab-df-container {\n",
              "      display:flex;\n",
              "      flex-wrap:wrap;\n",
              "      gap: 12px;\n",
              "    }\n",
              "\n",
              "    .colab-df-convert {\n",
              "      background-color: #E8F0FE;\n",
              "      border: none;\n",
              "      border-radius: 50%;\n",
              "      cursor: pointer;\n",
              "      display: none;\n",
              "      fill: #1967D2;\n",
              "      height: 32px;\n",
              "      padding: 0 0 0 0;\n",
              "      width: 32px;\n",
              "    }\n",
              "\n",
              "    .colab-df-convert:hover {\n",
              "      background-color: #E2EBFA;\n",
              "      box-shadow: 0px 1px 2px rgba(60, 64, 67, 0.3), 0px 1px 3px 1px rgba(60, 64, 67, 0.15);\n",
              "      fill: #174EA6;\n",
              "    }\n",
              "\n",
              "    [theme=dark] .colab-df-convert {\n",
              "      background-color: #3B4455;\n",
              "      fill: #D2E3FC;\n",
              "    }\n",
              "\n",
              "    [theme=dark] .colab-df-convert:hover {\n",
              "      background-color: #434B5C;\n",
              "      box-shadow: 0px 1px 3px 1px rgba(0, 0, 0, 0.15);\n",
              "      filter: drop-shadow(0px 1px 2px rgba(0, 0, 0, 0.3));\n",
              "      fill: #FFFFFF;\n",
              "    }\n",
              "  </style>\n",
              "\n",
              "      <script>\n",
              "        const buttonEl =\n",
              "          document.querySelector('#df-317a259c-fa3e-4b9a-9ac3-a6ee7f05d64b button.colab-df-convert');\n",
              "        buttonEl.style.display =\n",
              "          google.colab.kernel.accessAllowed ? 'block' : 'none';\n",
              "\n",
              "        async function convertToInteractive(key) {\n",
              "          const element = document.querySelector('#df-317a259c-fa3e-4b9a-9ac3-a6ee7f05d64b');\n",
              "          const dataTable =\n",
              "            await google.colab.kernel.invokeFunction('convertToInteractive',\n",
              "                                                     [key], {});\n",
              "          if (!dataTable) return;\n",
              "\n",
              "          const docLinkHtml = 'Like what you see? Visit the ' +\n",
              "            '<a target=\"_blank\" href=https://colab.research.google.com/notebooks/data_table.ipynb>data table notebook</a>'\n",
              "            + ' to learn more about interactive tables.';\n",
              "          element.innerHTML = '';\n",
              "          dataTable['output_type'] = 'display_data';\n",
              "          await google.colab.output.renderOutput(dataTable, element);\n",
              "          const docLink = document.createElement('div');\n",
              "          docLink.innerHTML = docLinkHtml;\n",
              "          element.appendChild(docLink);\n",
              "        }\n",
              "      </script>\n",
              "    </div>\n",
              "  </div>\n",
              "  "
            ]
          },
          "metadata": {},
          "execution_count": 13
        }
      ]
    },
    {
      "cell_type": "code",
      "source": [
        "sns.lineplot(x=\"epoch\", y=\"test Acc\", data=fc_results, label=\"Fully Connected\")"
      ],
      "metadata": {
        "colab": {
          "base_uri": "https://localhost:8080/",
          "height": 296
        },
        "id": "Vuo11BhQfJUB",
        "outputId": "d567cb4d-6fd2-47de-9542-990c280d0523"
      },
      "execution_count": null,
      "outputs": [
        {
          "output_type": "execute_result",
          "data": {
            "text/plain": [
              "<matplotlib.axes._subplots.AxesSubplot at 0x7f158bf12650>"
            ]
          },
          "metadata": {},
          "execution_count": 14
        },
        {
          "output_type": "display_data",
          "data": {
            "text/plain": [
              "<Figure size 432x288 with 1 Axes>"
            ],
            "image/png": "[encoded data removed]",
            "application/pdf": "[encoded data removed]"
          },
          "metadata": {
            "needs_background": "light"
          }
        }
      ]
    },
    {
      "cell_type": "markdown",
      "source": [
        "##Making better use of gradients"
      ],
      "metadata": {
        "id": "2ubX67aYhvSp"
      }
    }
  ]
}