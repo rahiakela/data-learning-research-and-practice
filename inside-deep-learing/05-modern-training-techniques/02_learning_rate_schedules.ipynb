{
  "nbformat": 4,
  "nbformat_minor": 0,
  "metadata": {
    "colab": {
      "name": "02-learning-rate-schedules.ipynb",
      "provenance": [],
      "toc_visible": true,
      "authorship_tag": "ABX9TyN1m2p1KHYI0c8tXjWx5JCj",
      "include_colab_link": true
    },
    "kernelspec": {
      "name": "python3",
      "display_name": "Python 3"
    },
    "language_info": {
      "name": "python"
    },
    "accelerator": "GPU",
    "gpuClass": "standard"
  },
  "cells": [
    {
      "cell_type": "markdown",
      "metadata": {
        "id": "view-in-github",
        "colab_type": "text"
      },
      "source": [
        "<a href=\"https://colab.research.google.com/github/rahiakela/deep-learning-research-and-practice/blob/main/inside-deep-learing/05-modern-training-techniques/02_learning_rate_schedules.ipynb\" target=\"_parent\"><img src=\"https://colab.research.google.com/assets/colab-badge.svg\" alt=\"Open In Colab\"/></a>"
      ]
    },
    {
      "cell_type": "markdown",
      "source": [
        "##Training model with optimizers and schedulers"
      ],
      "metadata": {
        "id": "ldjKkwDE9r9p"
      }
    },
    {
      "cell_type": "markdown",
      "source": [
        "There is an issue with the learning rate $\\eta$. We choose one learning rate for every batch of every epoch of training.\n",
        "\n",
        "So, the first type of improvement is to alter the learning rate $\\eta$ as a\n",
        "function of how far along we are in the optimization process $(t)$.\n",
        "\n",
        "Right now, the important thing is\n",
        "to understand that we have created an abstraction for altering the learning rate, and this\n",
        "abstraction is called a learning rate schedule.\n",
        "\n",
        "The learning rate $\\eta$ simply controls how quickly we follow that information. But the gradient $g^t$ is only as good as the data we use to train the model. If our data is noisy (and it almost\n",
        "always is), our gradients will also be noisy.\n",
        "\n",
        "The other two are real problems. Say, for example, that we sometimes get a\n",
        "gradient $g^t$ that is just too large. \n",
        "\n",
        "This can happen when we add hundreds of layers to our\n",
        "network and is a common problem called an exploding gradient.\n",
        "\n",
        "The opposite situation occurs too; the gradient could be too small $|| g^t ||_2 \\to \\infty$, causing us to make no progress toward training\n",
        "(even with a large $\\eta$). \n",
        "\n",
        "This is called a vanishing gradient and can occur in almost any\n",
        "architecture but is particularly common when we use the $tanh(.)$ and $\\sigma(.)$ activation functions.\n",
        "\n",
        "PyTorch provides two interfaces for us to implement the learning rate schedule $L(., .)$ and the gradient $G(.)$ functions.\n",
        "\n",
        "<img src='https://github.com/rahiakela/deep-learning-research-and-practice/blob/main/inside-deep-learing/05-modern-training-techniques/images/1.png?raw=1' width='600'/>\n",
        "\n",
        "Let's implement optimizers and schedulers."
      ],
      "metadata": {
        "id": "tFXQb6wufLVZ"
      }
    },
    {
      "cell_type": "markdown",
      "source": [
        "##Setup"
      ],
      "metadata": {
        "id": "Ju6nJVQUfX5-"
      }
    },
    {
      "cell_type": "code",
      "source": [
        "from tqdm.autonotebook import tqdm\n",
        "\n",
        "import numpy as np\n",
        "import seaborn as sns\n",
        "import matplotlib\n",
        "import matplotlib.pyplot as plt\n",
        "from matplotlib.pyplot import imshow\n",
        "\n",
        "import pandas as pd\n",
        "\n",
        "from sklearn.metrics import accuracy_score\n",
        "\n",
        "from sklearn.datasets import make_moons\n",
        "\n",
        "import time"
      ],
      "metadata": {
        "id": "bUicuO0T9vRt"
      },
      "execution_count": null,
      "outputs": []
    },
    {
      "cell_type": "code",
      "source": [
        "!wget https://github.com/EdwardRaff/Inside-Deep-Learning/raw/main/idlmam.py"
      ],
      "metadata": {
        "id": "j8dfqZhAI7hK"
      },
      "execution_count": null,
      "outputs": []
    },
    {
      "cell_type": "code",
      "source": [
        "import torch\n",
        "import torch.nn as nn\n",
        "import torch.nn.functional as F\n",
        "import torchvision \n",
        "from torchvision import transforms\n",
        "from torch.utils.data import Dataset, DataLoader\n",
        "\n",
        "from idlmam import train_simple_network, Flatten, weight_reset, set_seed, run_epoch"
      ],
      "metadata": {
        "id": "_9xoD7-8EibG"
      },
      "execution_count": 3,
      "outputs": []
    },
    {
      "cell_type": "code",
      "source": [
        "%matplotlib inline\n",
        "from IPython.display import set_matplotlib_formats\n",
        "set_matplotlib_formats('png', 'pdf')\n",
        "from IPython.display import display_pdf\n",
        "from IPython.display import Latex\n",
        "\n",
        "torch.backends.cudnn.deterministic=True\n",
        "set_seed(45)"
      ],
      "metadata": {
        "id": "8U1JNhEmEkzG"
      },
      "execution_count": 4,
      "outputs": []
    },
    {
      "cell_type": "code",
      "source": [
        "device = torch.device(\"cuda\") if torch.cuda.is_available() else torch.device(\"cpu\")"
      ],
      "metadata": {
        "id": "nXiYSSxO707X"
      },
      "execution_count": 5,
      "outputs": []
    },
    {
      "cell_type": "markdown",
      "source": [
        "##Dataset"
      ],
      "metadata": {
        "id": "ycbbAdR0fjAG"
      }
    },
    {
      "cell_type": "markdown",
      "source": [
        "We use the\n",
        "Fashion-MNIST dataset because it is slightly more challenging while retaining the same\n",
        "size and shape as the original MNIST corpus, which will let us accomplish some testing\n",
        "in a reasonable time."
      ],
      "metadata": {
        "id": "dGBbD_ci_DvL"
      }
    },
    {
      "cell_type": "code",
      "source": [
        "epochs = 50\n",
        "B = 256\n",
        "\n",
        "train_data = torchvision.datasets.FashionMNIST(\"./data\", train=True, transform=transforms.ToTensor(), download=True)\n",
        "test_data = torchvision.datasets.FashionMNIST(\"./data\", train=False, transform=transforms.ToTensor(), download=True)\n",
        "\n",
        "training_loader = DataLoader(train_data, batch_size=B, shuffle=True)\n",
        "testing_loader = DataLoader(test_data, batch_size=B)"
      ],
      "metadata": {
        "id": "iQy_V8L791sw"
      },
      "execution_count": null,
      "outputs": []
    },
    {
      "cell_type": "markdown",
      "source": [
        "##Training algorithem"
      ],
      "metadata": {
        "id": "cnR7s0KfIhEB"
      }
    },
    {
      "cell_type": "markdown",
      "source": [
        "Some problems take just a few epochs, others take hundreds to thousands, and\n",
        "both of these factors change based on how much data you have. \n",
        "\n",
        "For these reasons, I don’t like requiring a learning rate schedule to always be used. I like to work without one first and then add one based on the problem at hand. \n",
        "\n",
        "However, we must always use some kind of optimizer. So if none is given, we  use a good default."
      ],
      "metadata": {
        "id": "w6UP2YXo9X0S"
      }
    },
    {
      "cell_type": "code",
      "source": [
        "def train_network(model, loss_func, train_loader, val_loader=None, test_loader=None, \n",
        "                  score_funcs=None, epochs=50, device=\"cpu\", checkpoint_file=None, \n",
        "                  lr_schedule=None, optimizer=None, disable_tqdm=False):\n",
        "  \"\"\"\n",
        "  Train simple neural networks\n",
        "    \n",
        "  Keyword arguments:\n",
        "  model -- the PyTorch model / \"Module\" to train\n",
        "  loss_func -- the loss function that takes in batch in two arguments, the model outputs and the labels, and returns a score\n",
        "  train_loader -- PyTorch DataLoader object that returns tuples of (input, label) pairs. \n",
        "  val_loader -- Optional PyTorch DataLoader to evaluate on after every epoch\n",
        "  test_loader -- Optional PyTorch DataLoader to evaluate on after every epoch\n",
        "  score_funcs -- A dictionary of scoring functions to use to evalue the performance of the model\n",
        "  epochs -- the number of training epochs to perform\n",
        "  device -- the compute lodation to perform training\n",
        "  lr_schedule -- the learning rate schedule used to alter \\eta as the model trains. If this is not None than the user must also provide the optimizer to use. \n",
        "  optimizer -- the method used to alter the gradients for learning\n",
        "  \"\"\"\n",
        "  if score_funcs == None:\n",
        "    score_funcs = {}\n",
        "\n",
        "  tracking = [\"epoch\", \"total time\", \"train loss\"]\n",
        "\n",
        "  if val_loader  is not None:\n",
        "    tracking.append(\"val loss\")\n",
        "\n",
        "  if test_loader is not None:\n",
        "    tracking.append(\"test loss\")\n",
        "  \n",
        "  for eval_score in score_funcs:\n",
        "    tracking.append(\"train \" + eval_score)\n",
        "    if val_loader is not None:\n",
        "      tracking.append(\"val \" + eval_score)\n",
        "    if test_loader is not None:\n",
        "      tracking.append(\"test \" + eval_score)\n",
        "\n",
        "  # How long have we spent in the training loop?\n",
        "  total_train_time = 0\n",
        "  results = {}\n",
        "  # Initialize every item with an empty list\n",
        "  for item in tracking:\n",
        "    results[item] = []\n",
        "\n",
        "  if optimizer == None:\n",
        "    # AdamW optimizer is a good default optimizer\n",
        "    optimizer = torch.optim.AdamW(model.parameters())\n",
        "\n",
        "  # Place the model on the correct compute resource (CPU or GPU)\n",
        "  model.to(device)\n",
        "\n",
        "  # iterating through all the data (batches) multiple times (epochs)\n",
        "  for epoch in tqdm(range(epochs), desc=\"Epoch\", disable=disable_tqdm):\n",
        "    # Put the model in training mode\n",
        "    model = model.train()\n",
        "\n",
        "    # train the model\n",
        "    total_train_time += run_epoch(model, optimizer, train_loader, loss_func, device, results, score_funcs, prefix=\"train\", desc=\"Training\")\n",
        "    \n",
        "    results[\"total time\"].append(total_train_time)\n",
        "    results[\"epoch\"].append(epoch)\n",
        "\n",
        "    if val_loader is not None:\n",
        "      #  Put the model to \"evaluation\" mode, b/c we don't want to make any updates!\n",
        "      model = model.eval()\n",
        "      with torch.no_grad():\n",
        "        run_epoch(model, optimizer, val_loader, loss_func, device, results, score_funcs, prefix=\"val\", desc=\"Validating\")\n",
        "\n",
        "    # In PyTorch, the convention is to update the learning rate after every epoch\n",
        "    if lr_schedule is not None:\n",
        "      if isinstance(lr_schedule, torch.optim.lr_scheduler.ReduceLROnPlateau):\n",
        "        lr_schedule.step(results[\"val loss\"][-1])\n",
        "      else:\n",
        "        lr_schedule.step()\n",
        "\n",
        "    if test_loader is not None:\n",
        "      model = model.eval()\n",
        "      with torch.no_grad():\n",
        "        run_epoch(model, optimizer, test_loader, loss_func, device, results, score_funcs, prefix=\"test\", desc=\"Testing\")\n",
        "\n",
        "    # lets us save the model, the optimizer state, and other information, all in one object\n",
        "    if checkpoint_file is not None:\n",
        "      torch.save({\n",
        "          \"epoch\": epoch,\n",
        "          \"model_state_dict\": model.state_dict(),\n",
        "          \"optimizer_state_dict\": optimizer.state_dict(),\n",
        "          \"results\": results\n",
        "      }, checkpoint_file)\n",
        "\n",
        "  # Finally, convert the results into a pandas DataFrame\n",
        "  return pd.DataFrame.from_dict(results)"
      ],
      "metadata": {
        "id": "xDXB5JaWX1OU"
      },
      "execution_count": 7,
      "outputs": []
    },
    {
      "cell_type": "markdown",
      "source": [
        "##Training model"
      ],
      "metadata": {
        "id": "ztXv-rntZRfP"
      }
    },
    {
      "cell_type": "markdown",
      "source": [
        "We have everything we need to train our model."
      ],
      "metadata": {
        "id": "ACNEAcQdSinJ"
      }
    },
    {
      "cell_type": "code",
      "source": [
        "D = 28 * 28       # input size\n",
        "n = 128           # Hidden layer size\n",
        "C= 1              # How many channels are in the input?\n",
        "classes = 10      # How many classes are there?"
      ],
      "metadata": {
        "id": "uTE8O41Z_Mt2"
      },
      "execution_count": 8,
      "outputs": []
    },
    {
      "cell_type": "code",
      "source": [
        "fc_model = nn.Sequential(\n",
        "    nn.Flatten(),\n",
        "    nn.Linear(D, n),\n",
        "    nn.Tanh(),\n",
        "    nn.Linear(n, n),\n",
        "    nn.Tanh(),\n",
        "    nn.Linear(n, n),\n",
        "    nn.Tanh(),\n",
        "    nn.Linear(n, classes)\n",
        ")"
      ],
      "metadata": {
        "id": "UOHGIRQbZUlR"
      },
      "execution_count": 17,
      "outputs": []
    },
    {
      "cell_type": "markdown",
      "source": [
        "Last, we need to settle on a default starting learning rate $\\eta_0$. If we do not provide any kind of learning rate schedule $L(., .)$, then $\\eta_0$ will be used for every epoch of training."
      ],
      "metadata": {
        "id": "4AiVRjSqAgPa"
      }
    },
    {
      "cell_type": "code",
      "source": [
        "eta_0 = 0.1 "
      ],
      "metadata": {
        "id": "fji8TAVGAguK"
      },
      "execution_count": 9,
      "outputs": []
    },
    {
      "cell_type": "markdown",
      "source": [
        "Notice that we set the default learning rate $\\eta_0$ in the optimizer’s\n",
        "constructor. \n",
        "\n",
        "This is the standard process in PyTorch, and any LRSchedule object we\n",
        "might use will reach into the optimizer object to alter the learning rate."
      ],
      "metadata": {
        "id": "BAuhGmKbCG9o"
      }
    },
    {
      "cell_type": "code",
      "source": [
        "loss_func = nn.CrossEntropyLoss()"
      ],
      "metadata": {
        "id": "VZu6VpER5-F3"
      },
      "execution_count": 10,
      "outputs": []
    },
    {
      "cell_type": "code",
      "source": [
        "fc_results = train_network(fc_model, \n",
        "                          loss_func, \n",
        "                          training_loader,\n",
        "                          epochs=epochs, \n",
        "                          test_loader=testing_loader,\n",
        "                          optimizer=torch.optim.SGD(fc_model.parameters(), lr=eta_0),\n",
        "                          checkpoint_file=\"model.pt\",\n",
        "                          score_funcs={\"Acc\": accuracy_score},\n",
        "                          device=device)"
      ],
      "metadata": {
        "id": "O73g-XIPeoOe"
      },
      "execution_count": null,
      "outputs": []
    },
    {
      "cell_type": "markdown",
      "source": [
        "Let's quickly plot the training and validation\n",
        "accuracy."
      ],
      "metadata": {
        "id": "6CpGmoirXWKE"
      }
    },
    {
      "cell_type": "code",
      "source": [
        "fc_results.head()"
      ],
      "metadata": {
        "id": "DXXLFX1fEo-K",
        "outputId": "d18e45a0-a244-4c91-c0fe-7fe789e811e6",
        "colab": {
          "base_uri": "https://localhost:8080/",
          "height": 206
        }
      },
      "execution_count": null,
      "outputs": [
        {
          "output_type": "execute_result",
          "data": {
            "text/plain": [
              "   epoch  total time  train loss  test loss  train Acc  test Acc\n",
              "0      0   10.765838    1.008232   0.628697   0.642000    0.7756\n",
              "1      1   16.527957    0.561391   0.618343   0.795767    0.7755\n",
              "2      2   22.220752    0.493710   0.549053   0.821217    0.7904\n",
              "3      3   27.950967    0.459425   0.497841   0.832617    0.8199\n",
              "4      4   34.306223    0.436893   0.444015   0.842467    0.8384"
            ],
            "text/html": [
              "\n",
              "  <div id=\"df-35933422-e442-4917-9981-1875f3d00a12\">\n",
              "    <div class=\"colab-df-container\">\n",
              "      <div>\n",
              "<style scoped>\n",
              "    .dataframe tbody tr th:only-of-type {\n",
              "        vertical-align: middle;\n",
              "    }\n",
              "\n",
              "    .dataframe tbody tr th {\n",
              "        vertical-align: top;\n",
              "    }\n",
              "\n",
              "    .dataframe thead th {\n",
              "        text-align: right;\n",
              "    }\n",
              "</style>\n",
              "<table border=\"1\" class=\"dataframe\">\n",
              "  <thead>\n",
              "    <tr style=\"text-align: right;\">\n",
              "      <th></th>\n",
              "      <th>epoch</th>\n",
              "      <th>total time</th>\n",
              "      <th>train loss</th>\n",
              "      <th>test loss</th>\n",
              "      <th>train Acc</th>\n",
              "      <th>test Acc</th>\n",
              "    </tr>\n",
              "  </thead>\n",
              "  <tbody>\n",
              "    <tr>\n",
              "      <th>0</th>\n",
              "      <td>0</td>\n",
              "      <td>10.765838</td>\n",
              "      <td>1.008232</td>\n",
              "      <td>0.628697</td>\n",
              "      <td>0.642000</td>\n",
              "      <td>0.7756</td>\n",
              "    </tr>\n",
              "    <tr>\n",
              "      <th>1</th>\n",
              "      <td>1</td>\n",
              "      <td>16.527957</td>\n",
              "      <td>0.561391</td>\n",
              "      <td>0.618343</td>\n",
              "      <td>0.795767</td>\n",
              "      <td>0.7755</td>\n",
              "    </tr>\n",
              "    <tr>\n",
              "      <th>2</th>\n",
              "      <td>2</td>\n",
              "      <td>22.220752</td>\n",
              "      <td>0.493710</td>\n",
              "      <td>0.549053</td>\n",
              "      <td>0.821217</td>\n",
              "      <td>0.7904</td>\n",
              "    </tr>\n",
              "    <tr>\n",
              "      <th>3</th>\n",
              "      <td>3</td>\n",
              "      <td>27.950967</td>\n",
              "      <td>0.459425</td>\n",
              "      <td>0.497841</td>\n",
              "      <td>0.832617</td>\n",
              "      <td>0.8199</td>\n",
              "    </tr>\n",
              "    <tr>\n",
              "      <th>4</th>\n",
              "      <td>4</td>\n",
              "      <td>34.306223</td>\n",
              "      <td>0.436893</td>\n",
              "      <td>0.444015</td>\n",
              "      <td>0.842467</td>\n",
              "      <td>0.8384</td>\n",
              "    </tr>\n",
              "  </tbody>\n",
              "</table>\n",
              "</div>\n",
              "      <button class=\"colab-df-convert\" onclick=\"convertToInteractive('df-35933422-e442-4917-9981-1875f3d00a12')\"\n",
              "              title=\"Convert this dataframe to an interactive table.\"\n",
              "              style=\"display:none;\">\n",
              "        \n",
              "  <svg xmlns=\"http://www.w3.org/2000/svg\" height=\"24px\"viewBox=\"0 0 24 24\"\n",
              "       width=\"24px\">\n",
              "    <path d=\"M0 0h24v24H0V0z\" fill=\"none\"/>\n",
              "    <path d=\"M18.56 5.44l.94 2.06.94-2.06 2.06-.94-2.06-.94-.94-2.06-.94 2.06-2.06.94zm-11 1L8.5 8.5l.94-2.06 2.06-.94-2.06-.94L8.5 2.5l-.94 2.06-2.06.94zm10 10l.94 2.06.94-2.06 2.06-.94-2.06-.94-.94-2.06-.94 2.06-2.06.94z\"/><path d=\"M17.41 7.96l-1.37-1.37c-.4-.4-.92-.59-1.43-.59-.52 0-1.04.2-1.43.59L10.3 9.45l-7.72 7.72c-.78.78-.78 2.05 0 2.83L4 21.41c.39.39.9.59 1.41.59.51 0 1.02-.2 1.41-.59l7.78-7.78 2.81-2.81c.8-.78.8-2.07 0-2.86zM5.41 20L4 18.59l7.72-7.72 1.47 1.35L5.41 20z\"/>\n",
              "  </svg>\n",
              "      </button>\n",
              "      \n",
              "  <style>\n",
              "    .colab-df-container {\n",
              "      display:flex;\n",
              "      flex-wrap:wrap;\n",
              "      gap: 12px;\n",
              "    }\n",
              "\n",
              "    .colab-df-convert {\n",
              "      background-color: #E8F0FE;\n",
              "      border: none;\n",
              "      border-radius: 50%;\n",
              "      cursor: pointer;\n",
              "      display: none;\n",
              "      fill: #1967D2;\n",
              "      height: 32px;\n",
              "      padding: 0 0 0 0;\n",
              "      width: 32px;\n",
              "    }\n",
              "\n",
              "    .colab-df-convert:hover {\n",
              "      background-color: #E2EBFA;\n",
              "      box-shadow: 0px 1px 2px rgba(60, 64, 67, 0.3), 0px 1px 3px 1px rgba(60, 64, 67, 0.15);\n",
              "      fill: #174EA6;\n",
              "    }\n",
              "\n",
              "    [theme=dark] .colab-df-convert {\n",
              "      background-color: #3B4455;\n",
              "      fill: #D2E3FC;\n",
              "    }\n",
              "\n",
              "    [theme=dark] .colab-df-convert:hover {\n",
              "      background-color: #434B5C;\n",
              "      box-shadow: 0px 1px 3px 1px rgba(0, 0, 0, 0.15);\n",
              "      filter: drop-shadow(0px 1px 2px rgba(0, 0, 0, 0.3));\n",
              "      fill: #FFFFFF;\n",
              "    }\n",
              "  </style>\n",
              "\n",
              "      <script>\n",
              "        const buttonEl =\n",
              "          document.querySelector('#df-35933422-e442-4917-9981-1875f3d00a12 button.colab-df-convert');\n",
              "        buttonEl.style.display =\n",
              "          google.colab.kernel.accessAllowed ? 'block' : 'none';\n",
              "\n",
              "        async function convertToInteractive(key) {\n",
              "          const element = document.querySelector('#df-35933422-e442-4917-9981-1875f3d00a12');\n",
              "          const dataTable =\n",
              "            await google.colab.kernel.invokeFunction('convertToInteractive',\n",
              "                                                     [key], {});\n",
              "          if (!dataTable) return;\n",
              "\n",
              "          const docLinkHtml = 'Like what you see? Visit the ' +\n",
              "            '<a target=\"_blank\" href=https://colab.research.google.com/notebooks/data_table.ipynb>data table notebook</a>'\n",
              "            + ' to learn more about interactive tables.';\n",
              "          element.innerHTML = '';\n",
              "          dataTable['output_type'] = 'display_data';\n",
              "          await google.colab.output.renderOutput(dataTable, element);\n",
              "          const docLink = document.createElement('div');\n",
              "          docLink.innerHTML = docLinkHtml;\n",
              "          element.appendChild(docLink);\n",
              "        }\n",
              "      </script>\n",
              "    </div>\n",
              "  </div>\n",
              "  "
            ]
          },
          "metadata": {},
          "execution_count": 12
        }
      ]
    },
    {
      "cell_type": "code",
      "source": [
        "sns.lineplot(x=\"epoch\", y=\"test Acc\", data=fc_results, label=\"Fully Connected\")"
      ],
      "metadata": {
        "colab": {
          "base_uri": "https://localhost:8080/",
          "height": 296
        },
        "id": "Vuo11BhQfJUB",
        "outputId": "be77324e-dd0b-4340-c521-6f3235f257da"
      },
      "execution_count": null,
      "outputs": [
        {
          "output_type": "execute_result",
          "data": {
            "text/plain": [
              "<matplotlib.axes._subplots.AxesSubplot at 0x7f17fd7ed290>"
            ]
          },
          "metadata": {},
          "execution_count": 13
        },
        {
          "output_type": "display_data",
          "data": {
            "text/plain": [
              "<Figure size 432x288 with 1 Axes>"
            ],
            "image/png": "[encoded data removed]",
            "application/pdf": "[encoded data removed]"
          },
          "metadata": {
            "needs_background": "light"
          }
        }
      ]
    },
    {
      "cell_type": "markdown",
      "source": [
        "##Learning rate schedules"
      ],
      "metadata": {
        "id": "2ubX67aYhvSp"
      }
    },
    {
      "cell_type": "markdown",
      "source": [
        "Now let’s talk about ways to implement the learning rate adjustment $(L(\\eta_0, t))$.\n",
        "\n",
        "In PyTorch, these are called learning rate schedulers, and they take the\n",
        "optimizer object as an input because they directly alter the learning rate $\\eta$ used within the optimizer object.\n",
        "\n",
        "\n",
        "<img src='https://github.com/rahiakela/deep-learning-research-and-practice/blob/main/inside-deep-learing/05-modern-training-techniques/images/2.png?raw=1' width='600'/>\n",
        "\n",
        "We will talk about four approaches to adjusting the learning rate that you should be\n",
        "aware of. Each of these schedules has different pros and cons.\n",
        "\n",
        "* Exponential decay: Smoothing erratic training\n",
        "* Step drop adjustment: Better smoothing\n",
        "* Cosine annealing: Greater accuracy but less stability\n",
        "* Validation plateau: Data-based adjustments"
      ],
      "metadata": {
        "id": "vI0wIa2ehwUB"
      }
    },
    {
      "cell_type": "markdown",
      "source": [
        "###Exponential decay: Smoothing erratic training"
      ],
      "metadata": {
        "id": "1JELpMUtk423"
      }
    },
    {
      "cell_type": "markdown",
      "source": [
        "The most common but one of the simplest is called an exponential decay rate. The exponential decay rate is a good choice if your model behaves erratically, with loss or accuracy increasing and decreasing by large\n",
        "amounts. You can use the exponential decay to help stabilize the training and get a more consistent result.\n",
        "\n",
        "We pick a value $0 <  \\gamma < 1$ that is multiplied by our learning\n",
        "rate after every epoch. PyTorch provides this using the torch.optim.lr_scheduler.ExponentialLR class.\n",
        "\n",
        "For example, say the initial learning rate is $\\eta_0 = 0.001$, you want the minimum to\n",
        "be $\\eta_{min} = 0.0001$, and you train for $T = 50$ epochs. You need to set \n",
        " $\\eta = 0.91201$."
      ],
      "metadata": {
        "id": "_8KioChGk6Eo"
      }
    },
    {
      "cell_type": "code",
      "source": [
        "T = 50   # total epochs\n",
        "# generating all of the different t values\n",
        "epochs_input = np.linspace(0, 50, num=50)\n",
        "eta_init = 0.001    # initial learning rate\n",
        "eta_min = 0.0001    # desired minimum learning rate\n",
        "gamma = np.power(eta_min / eta_init, 1. / T)  # decay rate\n",
        "\n",
        "# all of the $\\eta_t$ values\n",
        "effective_learning_rate = eta_init * np.power(gamma, epochs_input)\n",
        "\n",
        "sns.lineplot(x=epochs_input, y=eta_init, color=\"red\", label=\"$\\eta_0$\")\n",
        "ax = sns.lineplot(x=epochs_input, y=effective_learning_rate, color=\"blue\", label=\"$\\eta_0 \\cdot \\gamma^t$\")\n",
        "ax.set_xlabel(\"Epoch\")\n",
        "ax.set_ylabel(\"Learning Rate\")"
      ],
      "metadata": {
        "id": "RSbCE0TsmJiO",
        "outputId": "032ccde8-9a42-490b-edc2-83a1e7bfac99",
        "colab": {
          "base_uri": "https://localhost:8080/",
          "height": 296
        }
      },
      "execution_count": 11,
      "outputs": [
        {
          "output_type": "execute_result",
          "data": {
            "text/plain": [
              "Text(0, 0.5, 'Learning Rate')"
            ]
          },
          "metadata": {},
          "execution_count": 11
        },
        {
          "output_type": "display_data",
          "data": {
            "text/plain": [
              "<Figure size 432x288 with 1 Axes>"
            ],
            "image/png": "[encoded data removed]",
            "application/pdf": "[encoded data removed]"
          },
          "metadata": {
            "needs_background": "light"
          }
        }
      ]
    },
    {
      "cell_type": "markdown",
      "source": [
        "The exponential decay rate smoothly and consistently decreases the learning rate every epoch.\n",
        "\n",
        "In particular, the exponential learning rate schedule helps solve the problem of getting near the solution but not quite making it to the solution.\n",
        "\n",
        "The trick to using the exponential learning rate well is setting $\\eta_{min}$. I usually recommend making it 10 to 100 times smaller than $\\eta_0$. A reduction of 10 to 100x is normal in machine\n",
        "learning and a theme you will see across the schedules."
      ],
      "metadata": {
        "id": "DKS0AE3LyHuq"
      }
    },
    {
      "cell_type": "code",
      "source": [
        "# re-randomize the weights of our model so that we don't need to define it again\n",
        "fc_model.apply(weight_reset)\n",
        "\n",
        "# Our desired final learning rate\n",
        "eta_min = 0.0001\n",
        "\n",
        "# compute gamma that results in final learning rate\n",
        "gamma_expo = (eta_min / eta_0) ** (1 / epochs)\n",
        "\n",
        "# Set up the optimizer\n",
        "optimizer = torch.optim.SGD(fc_model.parameters(), lr=eta_0)\n",
        "# pick a schedule and pass the optimizer in\n",
        "scheduler = torch.optim.lr_scheduler.ExponentialLR(optimizer, gamma_expo)\n",
        "\n",
        "# train like normal and pass along the desired optimizer and schedule\n",
        "fc_results_expolr = train_network(fc_model, \n",
        "                          loss_func, \n",
        "                          training_loader,\n",
        "                          epochs=epochs, \n",
        "                          test_loader=testing_loader,\n",
        "                          optimizer=optimizer,\n",
        "                          lr_schedule=scheduler,\n",
        "                          checkpoint_file=\"model.pt\",\n",
        "                          score_funcs={\"Accuracy\": accuracy_score},\n",
        "                          device=device)"
      ],
      "metadata": {
        "id": "6aJa08ytysQh"
      },
      "execution_count": null,
      "outputs": []
    },
    {
      "cell_type": "code",
      "source": [
        "sns.lineplot(x=epochs_input, y=eta_init, color=\"red\", label=\"$\\eta_0$\")\n",
        "sns.lineplot(x=epochs_input, y=[eta_init] * 18 + [eta_init / 3.16] * 16 + [eta_init / 10] * 16, color=\"green\", label=\"StepLR\")\n",
        "ax = sns.lineplot(x=epochs_input, y=effective_learning_rate, color=\"blue\", label=\"$\\eta_0 \\cdot \\gamma^t$\")\n",
        "ax.set_xlabel(\"Epoch\")\n",
        "ax.set_ylabel(\"Learning Rate\")"
      ],
      "metadata": {
        "id": "5E78brAm0V_k",
        "outputId": "f52fa2f9-98b8-4043-9938-16971925c904",
        "colab": {
          "base_uri": "https://localhost:8080/",
          "height": 296
        }
      },
      "execution_count": null,
      "outputs": [
        {
          "output_type": "execute_result",
          "data": {
            "text/plain": [
              "Text(0, 0.5, 'Learning Rate')"
            ]
          },
          "metadata": {},
          "execution_count": 16
        },
        {
          "output_type": "display_data",
          "data": {
            "text/plain": [
              "<Figure size 432x288 with 1 Axes>"
            ],
            "image/png": "[encoded data removed]",
            "application/pdf": "[encoded data removed]"
          },
          "metadata": {
            "needs_background": "light"
          }
        }
      ]
    },
    {
      "cell_type": "markdown",
      "source": [
        "###Step drop adjustment: Better smoothing"
      ],
      "metadata": {
        "id": "qlALqRiq08Hu"
      }
    },
    {
      "cell_type": "markdown",
      "source": [
        "The step drop approach has the same motivation and is also useful to stabilize\n",
        "learning but usually delivers improved accuracy after training.\n",
        "\n",
        "What is the difference between step drop and exponential decay? \n",
        "\n",
        "Instead of constantly adjusting the learning rate ever so slightly, we let it stay fixed for a while and then drop it dramatically just a few times.\n",
        "\n",
        "<img src='https://github.com/rahiakela/deep-learning-research-and-practice/blob/main/inside-deep-learing/05-modern-training-techniques/images/3.png?raw=1' width='600'/>\n",
        "\n",
        "The logic behind this approach is that early in the optimization, we are still far from\n",
        "the solution, so we should go as fast as possible.\n",
        "\n",
        "This is (hopefully) better than exponential\n",
        "decay because the exponential decay starts slowing down immediately and is therefore\n",
        "counterproductive (at least in the beginning).\n",
        "\n"
      ],
      "metadata": {
        "id": "nXSVUdOR0-Lo"
      }
    },
    {
      "cell_type": "code",
      "source": [
        "# re-randomize the weights of our model so that we don't need to define it again\n",
        "fc_model.apply(weight_reset)\n",
        "\n",
        "# Set up the optimizer\n",
        "optimizer = torch.optim.SGD(fc_model.parameters(), lr=eta_0)\n",
        "# pick a schedule and pass the optimizer in\n",
        "scheduler = torch.optim.lr_scheduler.StepLR(optimizer, epochs//4, gamma=0.3)\n",
        "\n",
        "# train like normal and pass along the desired optimizer and schedule\n",
        "fc_results_steplr = train_network(fc_model, \n",
        "                          loss_func, \n",
        "                          training_loader,\n",
        "                          epochs=epochs, \n",
        "                          test_loader=testing_loader,\n",
        "                          optimizer=optimizer,\n",
        "                          lr_schedule=scheduler,\n",
        "                          checkpoint_file=\"model.pt\",\n",
        "                          score_funcs={\"Accuracy\": accuracy_score},\n",
        "                          device=device)"
      ],
      "metadata": {
        "id": "9GRQnmSG4qDx"
      },
      "execution_count": null,
      "outputs": []
    },
    {
      "cell_type": "markdown",
      "source": [
        "###Cosine annealing: Greater accuracy but less stability"
      ],
      "metadata": {
        "id": "kl6Vhh2d5dYG"
      }
    },
    {
      "cell_type": "markdown",
      "source": [
        "Cosine annealing has a\n",
        "different logic and strategy than exponential decay and the step learning rate. The\n",
        "latter two only decrease the learning rate, but cosine annealing decreases and increases\n",
        "the learning rate. \n",
        "\n",
        "This approach is very effective for getting the best possible results\n",
        "but does not provide the same degree of stabilization, so it might not work on poorly\n",
        "behaved datasets and networks."
      ],
      "metadata": {
        "id": "tJru7igB5eEm"
      }
    },
    {
      "cell_type": "code",
      "source": [
        "# Computes the cosine schedule\n",
        "cos_lr = eta_min + 0.5 * (eta_init - eta_min) * (1 + np.cos(epochs_input / (T/3.0) * np.pi))\n",
        "\n",
        "sns.lineplot(x=epochs_input, y=eta_init, color=\"red\", label=\"$\\eta_0$\")\n",
        "sns.lineplot(x=epochs_input, y=cos_lr, color=\"purple\", label=\"$\\cos$\")\n",
        "sns.lineplot(x=epochs_input, y=[eta_init] * 18 + [eta_init / 3.16] * 16 + [eta_init / 10] * 16, color=\"green\", label=\"StepLR\")\n",
        "ax = sns.lineplot(x=epochs_input, y=effective_learning_rate, color=\"blue\", label=\"$\\eta_0 \\cdot \\gamma^t$\")\n",
        "ax.set_xlabel(\"Epoch\")\n",
        "ax.set_ylabel(\"Learning Rate\")"
      ],
      "metadata": {
        "id": "JNiVMJTZ9cTC",
        "outputId": "531e6166-25f1-4261-d665-04c7a4e37107",
        "colab": {
          "base_uri": "https://localhost:8080/",
          "height": 296
        }
      },
      "execution_count": 12,
      "outputs": [
        {
          "output_type": "execute_result",
          "data": {
            "text/plain": [
              "Text(0, 0.5, 'Learning Rate')"
            ]
          },
          "metadata": {},
          "execution_count": 12
        },
        {
          "output_type": "display_data",
          "data": {
            "text/plain": [
              "<Figure size 432x288 with 1 Axes>"
            ],
            "image/png": "[encoded data removed]",
            "application/pdf": "[encoded data removed]"
          },
          "metadata": {
            "needs_background": "light"
          }
        }
      ]
    },
    {
      "cell_type": "markdown",
      "source": [
        "Why would we want to fluctuate the learning rate up and down?\n",
        "\n",
        "It makes more sense when we remember that neural\n",
        "networks are not convex. A convex function has only one local minimum, and every\n",
        "gradient leads us to the optimal solution. But neural networks are non-convex and can\n",
        "have many local minima, which may not be a good solution. If our model first heads\n",
        "towards one of these local minima, and we decrease only the learning rate, we may get\n",
        "stuck in this sub-optimal area."
      ],
      "metadata": {
        "id": "pociJkN1-hwB"
      }
    },
    {
      "cell_type": "code",
      "source": [
        "# re-randomize the weights of our model so that we don't need to define it again\n",
        "fc_model.apply(weight_reset)\n",
        "\n",
        "# Set up the optimizer\n",
        "optimizer = torch.optim.SGD(fc_model.parameters(), lr=eta_0)\n",
        "# Telling the cosine to go down/up/down (thats 3), if we were doing more than 10 epochs I would push this higher \n",
        "scheduler = torch.optim.lr_scheduler.CosineAnnealingLR(optimizer, epochs//3, eta_min=0.0001)\n",
        "\n",
        "# train like normal and pass along the desired optimizer and schedule\n",
        "fc_results_coslr = train_network(fc_model, \n",
        "                          loss_func, \n",
        "                          training_loader,\n",
        "                          epochs=epochs, \n",
        "                          test_loader=testing_loader,\n",
        "                          optimizer=optimizer,\n",
        "                          lr_schedule=scheduler,\n",
        "                          checkpoint_file=\"model.pt\",\n",
        "                          score_funcs={\"Accuracy\": accuracy_score},\n",
        "                          device=device)"
      ],
      "metadata": {
        "id": "evxxkuOFAHRQ"
      },
      "execution_count": null,
      "outputs": []
    },
    {
      "cell_type": "markdown",
      "source": [
        "###Validation plateau: Data-based adjustments"
      ],
      "metadata": {
        "id": "sTLgIj8zCpda"
      }
    },
    {
      "cell_type": "markdown",
      "source": [
        ""
      ],
      "metadata": {
        "id": "EayVJ2tCCqWF"
      }
    }
  ]
}