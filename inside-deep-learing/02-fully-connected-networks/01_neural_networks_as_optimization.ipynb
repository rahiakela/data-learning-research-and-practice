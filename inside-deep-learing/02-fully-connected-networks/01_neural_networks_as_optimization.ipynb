{
  "nbformat": 4,
  "nbformat_minor": 0,
  "metadata": {
    "colab": {
      "name": "01-neural-networks-as-optimization.ipynb",
      "provenance": [],
      "toc_visible": true,
      "authorship_tag": "ABX9TyP9goefUNOpC61n94Xa57J2",
      "include_colab_link": true
    },
    "kernelspec": {
      "name": "python3",
      "display_name": "Python 3"
    },
    "language_info": {
      "name": "python"
    }
  },
  "cells": [
    {
      "cell_type": "markdown",
      "metadata": {
        "id": "view-in-github",
        "colab_type": "text"
      },
      "source": [
        "<a href=\"https://colab.research.google.com/github/rahiakela/deep-learning-research-and-practice/blob/main/inside-deep-learing/02-fully-connected-networks/01_neural_networks_as_optimization.ipynb\" target=\"_parent\"><img src=\"https://colab.research.google.com/assets/colab-badge.svg\" alt=\"Open In Colab\"/></a>"
      ]
    },
    {
      "cell_type": "markdown",
      "source": [
        "##Neural networks as optimization"
      ],
      "metadata": {
        "id": "ldjKkwDE9r9p"
      }
    },
    {
      "cell_type": "markdown",
      "source": [
        "If we make the input to the loss function a neural network, we can use this exact same approach to train a neural network. This creates a process called a training loop with three major components: \n",
        "* the training data (with correct answers), \n",
        "* the model and loss function, \n",
        "* the update via gradients\n",
        "\n",
        "<img src='https://github.com/rahiakela/deep-learning-research-and-practice/blob/main/inside-deep-learing/02-fully-connected-networks/images/1.png?raw=1' width='600'/>\n",
        "\n",
        "Our model needs parameters to adjust. Changing the parameters allows the network to alter its predictions to try to reduce the loss function.\n",
        "\n",
        "Now we have all we need to abstractly describe learning as a function minimization problem."
      ],
      "metadata": {
        "id": "tFXQb6wufLVZ"
      }
    },
    {
      "cell_type": "markdown",
      "source": [
        "##Setup"
      ],
      "metadata": {
        "id": "Ju6nJVQUfX5-"
      }
    },
    {
      "cell_type": "code",
      "source": [
        "from tqdm.autonotebook import tqdm\n",
        "\n",
        "import numpy as np\n",
        "import seaborn as sns\n",
        "import matplotlib\n",
        "import matplotlib.pyplot as plt\n",
        "\n",
        "import pandas as pd\n",
        "\n",
        "import time"
      ],
      "metadata": {
        "id": "bUicuO0T9vRt"
      },
      "execution_count": 7,
      "outputs": []
    },
    {
      "cell_type": "code",
      "source": [
        "!wget https://github.com/EdwardRaff/Inside-Deep-Learning/raw/main/idlmam.py"
      ],
      "metadata": {
        "id": "j8dfqZhAI7hK"
      },
      "execution_count": null,
      "outputs": []
    },
    {
      "cell_type": "code",
      "source": [
        "import torch\n",
        "import torch.nn as nn\n",
        "import torch.nn.functional as F\n",
        "from torch.utils.data import * \n",
        "from idlmam import *"
      ],
      "metadata": {
        "id": "_9xoD7-8EibG"
      },
      "execution_count": 4,
      "outputs": []
    },
    {
      "cell_type": "code",
      "source": [
        "%matplotlib inline\n",
        "from IPython.display import set_matplotlib_formats\n",
        "set_matplotlib_formats('png', 'pdf')\n",
        "\n",
        "def set_seed(seed):\n",
        "    torch.manual_seed(seed)\n",
        "    np.random.seed(seed)\n",
        "\n",
        "torch.backends.cudnn.deterministic=True\n",
        "set_seed(42)"
      ],
      "metadata": {
        "id": "8U1JNhEmEkzG"
      },
      "execution_count": 5,
      "outputs": []
    },
    {
      "cell_type": "markdown",
      "source": [
        "##Defining dataset"
      ],
      "metadata": {
        "id": "ycbbAdR0fjAG"
      }
    },
    {
      "cell_type": "markdown",
      "source": [
        "Here we’ve created a synthetic regression problem with linear and nonlinear components,\n",
        "with some noise added to make it interesting."
      ],
      "metadata": {
        "id": "Y_4r4xfAJtCu"
      }
    },
    {
      "cell_type": "code",
      "source": [
        "# Creates one-dimensional input\n",
        "X = np.linspace(0, 20, num=200)\n",
        "y = X + np.sin(X) * 2 + np.random.normal(size=X.shape)\n",
        "print(X.shape)\n",
        "print(y.shape)\n",
        "print(X[1])\n",
        "print(y[1])"
      ],
      "metadata": {
        "id": "iQy_V8L791sw",
        "colab": {
          "base_uri": "https://localhost:8080/"
        },
        "outputId": "5158e945-7579-47cf-8194-358839834043"
      },
      "execution_count": 13,
      "outputs": [
        {
          "output_type": "stream",
          "name": "stdout",
          "text": [
            "(200,)\n",
            "(200,)\n",
            "0.10050251256281408\n",
            "-0.21487540342660272\n"
          ]
        }
      ]
    },
    {
      "cell_type": "code",
      "source": [
        "sns.scatterplot(x=X, y=y)"
      ],
      "metadata": {
        "colab": {
          "base_uri": "https://localhost:8080/",
          "height": 282
        },
        "id": "Jr-TjAFPKaZ5",
        "outputId": "5137b3dc-be89-4ffa-ab46-d305fd079851"
      },
      "execution_count": 12,
      "outputs": [
        {
          "output_type": "execute_result",
          "data": {
            "text/plain": [
              "<matplotlib.axes._subplots.AxesSubplot at 0x7f8e2f50ced0>"
            ]
          },
          "metadata": {},
          "execution_count": 12
        },
        {
          "output_type": "display_data",
          "data": {
            "text/plain": [
              "<Figure size 432x288 with 1 Axes>"
            ],
            "image/png": "[encoded data removed]",
            "application/pdf": "[encoded data removed]"
          },
          "metadata": {
            "needs_background": "light"
          }
        }
      ]
    },
    {
      "cell_type": "markdown",
      "source": [
        "But we need the problem in a form that PyTorch will understand.\n",
        "\n",
        "So we have to creates a simple dataset object that knows we have a one-dimensional problem."
      ],
      "metadata": {
        "id": "U9BAJQMSKw94"
      }
    },
    {
      "cell_type": "code",
      "source": [
        "class Simple1DRegressionDataset(Dataset):\n",
        "\n",
        "  def __init__(self, X, y):\n",
        "    super(Simple1DRegressionDataset, self).__init__()\n",
        "    # The leftover dimension is denoted with –1\n",
        "    self.X = X.reshape(-1, 1)\n",
        "    self.y = y.reshape(-1, 1)\n",
        "\n",
        "  def __getitem__(self, index):\n",
        "    inputs = torch.tensor(self.X[index, :], dtype=torch.float32)\n",
        "    targets = torch.tensor(self.y[index], dtype=torch.float32)\n",
        "    return (inputs, targets)\n",
        "\n",
        "  def __len__(self):\n",
        "    return self.X.shape[0]"
      ],
      "metadata": {
        "id": "I5WaLFWb-hR0"
      },
      "execution_count": 15,
      "outputs": []
    },
    {
      "cell_type": "markdown",
      "source": [
        "Along with the Dataset, we also need a DataLoader. \n",
        "\n",
        "Whereas the\n",
        "Dataset defines how to get any specific data point, the\n",
        "DataLoader decides which data points to get."
      ],
      "metadata": {
        "id": "g76yknzpMPqo"
      }
    },
    {
      "cell_type": "code",
      "source": [
        "training_loader = DataLoader(Simple1DRegressionDataset(X, y), shuffle=True)"
      ],
      "metadata": {
        "id": "H1g6Vndyh5VR"
      },
      "execution_count": 16,
      "outputs": []
    },
    {
      "cell_type": "markdown",
      "source": [
        "##Linear regression model"
      ],
      "metadata": {
        "id": "lEycMUJEHRMx"
      }
    }
  ]
}