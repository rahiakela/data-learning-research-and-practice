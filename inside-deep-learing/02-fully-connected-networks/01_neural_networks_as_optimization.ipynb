{
  "nbformat": 4,
  "nbformat_minor": 0,
  "metadata": {
    "colab": {
      "name": "01-neural-networks-as-optimization.ipynb",
      "provenance": [],
      "toc_visible": true,
      "authorship_tag": "ABX9TyPC9tF8L9/2Dncis8KU5cIS",
      "include_colab_link": true
    },
    "kernelspec": {
      "name": "python3",
      "display_name": "Python 3"
    },
    "language_info": {
      "name": "python"
    }
  },
  "cells": [
    {
      "cell_type": "markdown",
      "metadata": {
        "id": "view-in-github",
        "colab_type": "text"
      },
      "source": [
        "<a href=\"https://colab.research.google.com/github/rahiakela/deep-learning-research-and-practice/blob/main/inside-deep-learing/02-fully-connected-networks/01_neural_networks_as_optimization.ipynb\" target=\"_parent\"><img src=\"https://colab.research.google.com/assets/colab-badge.svg\" alt=\"Open In Colab\"/></a>"
      ]
    },
    {
      "cell_type": "markdown",
      "source": [
        "##Neural networks as optimization"
      ],
      "metadata": {
        "id": "ldjKkwDE9r9p"
      }
    },
    {
      "cell_type": "markdown",
      "source": [
        "If we make the input to the loss function a neural network, we can use this exact same approach to train a neural network. This creates a process called a training loop with three major components: \n",
        "* the training data (with correct answers), \n",
        "* the model and loss function, \n",
        "* the update via gradients\n",
        "\n",
        "<img src='https://github.com/rahiakela/deep-learning-research-and-practice/blob/main/inside-deep-learing/02-fully-connected-networks/images/1.png?raw=1' width='600'/>\n",
        "\n",
        "Our model needs parameters to adjust. Changing the parameters allows the network to alter its predictions to try to reduce the loss function.\n",
        "\n",
        "Now we have all we need to abstractly describe learning as a function minimization problem."
      ],
      "metadata": {
        "id": "tFXQb6wufLVZ"
      }
    },
    {
      "cell_type": "markdown",
      "source": [
        "##Setup"
      ],
      "metadata": {
        "id": "Ju6nJVQUfX5-"
      }
    },
    {
      "cell_type": "code",
      "source": [
        "from tqdm.autonotebook import tqdm\n",
        "\n",
        "import numpy as np\n",
        "import seaborn as sns\n",
        "import matplotlib\n",
        "import matplotlib.pyplot as plt\n",
        "\n",
        "import pandas as pd\n",
        "\n",
        "import time"
      ],
      "metadata": {
        "id": "bUicuO0T9vRt"
      },
      "execution_count": null,
      "outputs": []
    },
    {
      "cell_type": "code",
      "source": [
        "!wget https://github.com/EdwardRaff/Inside-Deep-Learning/raw/main/idlmam.py"
      ],
      "metadata": {
        "id": "j8dfqZhAI7hK"
      },
      "execution_count": null,
      "outputs": []
    },
    {
      "cell_type": "code",
      "source": [
        "import torch\n",
        "import torch.nn as nn\n",
        "import torch.nn.functional as F\n",
        "from torch.utils.data import * \n",
        "from idlmam import *"
      ],
      "metadata": {
        "id": "_9xoD7-8EibG"
      },
      "execution_count": 3,
      "outputs": []
    },
    {
      "cell_type": "code",
      "source": [
        "%matplotlib inline\n",
        "from IPython.display import set_matplotlib_formats\n",
        "set_matplotlib_formats('png', 'pdf')\n",
        "\n",
        "def set_seed(seed):\n",
        "    torch.manual_seed(seed)\n",
        "    np.random.seed(seed)\n",
        "\n",
        "torch.backends.cudnn.deterministic=True\n",
        "set_seed(42)"
      ],
      "metadata": {
        "id": "8U1JNhEmEkzG"
      },
      "execution_count": 4,
      "outputs": []
    },
    {
      "cell_type": "code",
      "source": [
        "def move_to(obj, device):\n",
        "  \"\"\"\n",
        "  obj: the python object to move to a device, or to move its contents to a device\n",
        "  device: the compute device to move objects to\n",
        "  \"\"\"\n",
        "  if hasattr(obj, \"to\"):\n",
        "      return obj.to(device)\n",
        "  elif isinstance(obj, list):\n",
        "      return [move_to(x, device) for x in obj]\n",
        "  elif isinstance(obj, tuple):\n",
        "      return tuple(move_to(list(obj), device))\n",
        "  elif isinstance(obj, set):\n",
        "      return set(move_to(list(obj), device))\n",
        "  elif isinstance(obj, dict):\n",
        "      to_ret = dict()\n",
        "      for key, value in obj.items():\n",
        "          to_ret[move_to(key, device)] = move_to(value, device)\n",
        "      return to_ret\n",
        "  else:\n",
        "      return obj"
      ],
      "metadata": {
        "id": "LeuyQhOpZioH"
      },
      "execution_count": 5,
      "outputs": []
    },
    {
      "cell_type": "markdown",
      "source": [
        "##Defining dataset"
      ],
      "metadata": {
        "id": "ycbbAdR0fjAG"
      }
    },
    {
      "cell_type": "markdown",
      "source": [
        "Here we’ve created a synthetic regression problem with linear and nonlinear components,\n",
        "with some noise added to make it interesting."
      ],
      "metadata": {
        "id": "Y_4r4xfAJtCu"
      }
    },
    {
      "cell_type": "code",
      "source": [
        "# Creates one-dimensional input\n",
        "X = np.linspace(0, 20, num=200)\n",
        "y = X + np.sin(X) * 2 + np.random.normal(size=X.shape)\n",
        "print(X.shape)\n",
        "print(y.shape)\n",
        "print(X[1])\n",
        "print(y[1])"
      ],
      "metadata": {
        "id": "iQy_V8L791sw",
        "colab": {
          "base_uri": "https://localhost:8080/"
        },
        "outputId": "6f447e2d-a45e-4e29-d081-c72f28f69e40"
      },
      "execution_count": 6,
      "outputs": [
        {
          "output_type": "stream",
          "name": "stdout",
          "text": [
            "(200,)\n",
            "(200,)\n",
            "0.10050251256281408\n",
            "0.16290502361958653\n"
          ]
        }
      ]
    },
    {
      "cell_type": "code",
      "source": [
        "sns.scatterplot(x=X, y=y)"
      ],
      "metadata": {
        "colab": {
          "base_uri": "https://localhost:8080/",
          "height": 282
        },
        "id": "Jr-TjAFPKaZ5",
        "outputId": "dad4480c-7ded-416a-c6c8-e9efa308b555"
      },
      "execution_count": 7,
      "outputs": [
        {
          "output_type": "execute_result",
          "data": {
            "text/plain": [
              "<matplotlib.axes._subplots.AxesSubplot at 0x7fb098ee7190>"
            ]
          },
          "metadata": {},
          "execution_count": 7
        },
        {
          "output_type": "display_data",
          "data": {
            "text/plain": [
              "<Figure size 432x288 with 1 Axes>"
            ],
            "image/png": "[encoded data removed]",
            "application/pdf": "[encoded data removed]"
          },
          "metadata": {
            "needs_background": "light"
          }
        }
      ]
    },
    {
      "cell_type": "markdown",
      "source": [
        "But we need the problem in a form that PyTorch will understand.\n",
        "\n",
        "So we have to creates a simple dataset object that knows we have a one-dimensional problem."
      ],
      "metadata": {
        "id": "U9BAJQMSKw94"
      }
    },
    {
      "cell_type": "code",
      "source": [
        "class Simple1DRegressionDataset(Dataset):\n",
        "\n",
        "  def __init__(self, X, y):\n",
        "    super(Simple1DRegressionDataset, self).__init__()\n",
        "    # The leftover dimension is denoted with –1\n",
        "    self.X = X.reshape(-1, 1)\n",
        "    self.y = y.reshape(-1, 1)\n",
        "\n",
        "  def __getitem__(self, index):\n",
        "    inputs = torch.tensor(self.X[index, :], dtype=torch.float32)\n",
        "    targets = torch.tensor(self.y[index], dtype=torch.float32)\n",
        "    return (inputs, targets)\n",
        "\n",
        "  def __len__(self):\n",
        "    return self.X.shape[0]"
      ],
      "metadata": {
        "id": "I5WaLFWb-hR0"
      },
      "execution_count": 8,
      "outputs": []
    },
    {
      "cell_type": "markdown",
      "source": [
        "Along with the Dataset, we also need a DataLoader. \n",
        "\n",
        "Whereas the\n",
        "Dataset defines how to get any specific data point, the\n",
        "DataLoader decides which data points to get."
      ],
      "metadata": {
        "id": "g76yknzpMPqo"
      }
    },
    {
      "cell_type": "code",
      "source": [
        "training_loader = DataLoader(Simple1DRegressionDataset(X, y), shuffle=True)"
      ],
      "metadata": {
        "id": "H1g6Vndyh5VR"
      },
      "execution_count": 9,
      "outputs": []
    },
    {
      "cell_type": "markdown",
      "source": [
        "##The training loop"
      ],
      "metadata": {
        "id": "lEycMUJEHRMx"
      }
    },
    {
      "cell_type": "code",
      "source": [
        "def train_network(model, loss_func, data_loader, epochs=20, device=\"cpu\"):\n",
        "  # create the SGD optimizer\n",
        "  optimizer = torch.optim.SGD(model.parameters(), lr=0.001)\n",
        "\n",
        "  # Place the model on the correct compute resource (CPU or GPU)\n",
        "  model.to(device)\n",
        "\n",
        "  # iterating through all the data (batches) multiple times (epochs)\n",
        "  for epoch in tqdm(range(epochs), desc=\"Epoch\"):\n",
        "    # Put the model in training mode\n",
        "    model = model.train()\n",
        "    running_loss = 0.0\n",
        "\n",
        "    # iterating through all the inputs (features) and labels (target)\n",
        "    for inputs, labels in tqdm(data_loader, desc=\"Batch\", leave=False):\n",
        "      # Move the batch of data to the device we are using\n",
        "      inputs = move_to(inputs, device)\n",
        "      labels = move_to(labels, device)\n",
        "\n",
        "      #PyTorch stores gradients in a mutable data structure. So we need to set it to a clean state before we use it. \n",
        "      #Otherwise, it will have old information from a previous iteration\n",
        "      optimizer.zero_grad()\n",
        "\n",
        "      # perform the prediction\n",
        "      y_hat = model(inputs)\n",
        "\n",
        "      # Compute loss\n",
        "      loss = loss_func(y_hat, labels)\n",
        "\n",
        "      # compute the gradient\n",
        "      loss.backward()\n",
        "\n",
        "      # Now we just need to update all the parameters\n",
        "      optimizer.step()\n",
        "\n",
        "      # just grabbing some information we would like to have\n",
        "      running_loss += loss.item()"
      ],
      "metadata": {
        "id": "dk1S1LwtTqln"
      },
      "execution_count": 10,
      "outputs": []
    },
    {
      "cell_type": "markdown",
      "source": [
        "##Training model"
      ],
      "metadata": {
        "id": "ztXv-rntZRfP"
      }
    },
    {
      "cell_type": "code",
      "source": [
        "in_features = 1\n",
        "out_features = 1\n",
        "\n",
        "model = nn.Linear(in_features, out_features)\n",
        "loss_func = nn.MSELoss()\n",
        "\n",
        "train_network(model, loss_func, training_loader)"
      ],
      "metadata": {
        "id": "UOHGIRQbZUlR"
      },
      "execution_count": null,
      "outputs": []
    },
    {
      "cell_type": "code",
      "source": [
        "# just plot our model’s prediction for all the data\n",
        "with torch.no_grad():\n",
        "  y_pred = model(torch.tensor(X.reshape(-1, 1), device=\"cpu\", dtype=torch.float32)).cpu().numpy()"
      ],
      "metadata": {
        "id": "O73g-XIPeoOe"
      },
      "execution_count": 12,
      "outputs": []
    },
    {
      "cell_type": "code",
      "source": [
        "sns.scatterplot(x=X, y=y, color=\"blue\", label=\"Data\")\n",
        "sns.lineplot(x=X, y=y_pred.ravel(), color=\"red\", label=\"Linear Model\")"
      ],
      "metadata": {
        "id": "o8mnQmaKfSUO",
        "outputId": "8b2f11c5-4760-4975-f0de-4156c93df488",
        "colab": {
          "base_uri": "https://localhost:8080/",
          "height": 282
        }
      },
      "execution_count": 13,
      "outputs": [
        {
          "output_type": "execute_result",
          "data": {
            "text/plain": [
              "<matplotlib.axes._subplots.AxesSubplot at 0x7fb098ee7dd0>"
            ]
          },
          "metadata": {},
          "execution_count": 13
        },
        {
          "output_type": "display_data",
          "data": {
            "text/plain": [
              "<Figure size 432x288 with 1 Axes>"
            ],
            "image/png": "[encoded data removed]",
            "application/pdf": "[encoded data removed]"
          },
          "metadata": {
            "needs_background": "light"
          }
        }
      ]
    },
    {
      "cell_type": "markdown",
      "source": [
        "##A fully connected network"
      ],
      "metadata": {
        "id": "oA2aETwAdNDA"
      }
    },
    {
      "cell_type": "markdown",
      "source": [
        "We can insert two linear layers one after the other.This is where the\n",
        "`nn.Sequential` Module comes into play. This is a Module that takes a list or sequence of Modules as its input.\n",
        "\n",
        "<img src='https://github.com/rahiakela/deep-learning-research-and-practice/blob/main/inside-deep-learing/02-fully-connected-networks/images/2.png?raw=1' width='600'/>\n",
        "\n"
      ],
      "metadata": {
        "id": "OtRgiIzkdNuf"
      }
    },
    {
      "cell_type": "code",
      "source": [
        "# creates a new simple model that is a sequence of two nn.Linear layers\n",
        "model = nn.Sequential(\n",
        "    nn.Linear(1, 10),\n",
        "    nn.Linear(10, 1)\n",
        ")\n",
        "\n",
        "train_network(model, loss_func, training_loader)"
      ],
      "metadata": {
        "id": "sF4UTxTOd90o"
      },
      "execution_count": null,
      "outputs": []
    },
    {
      "cell_type": "code",
      "source": [
        "# just plot our model’s prediction for all the data\n",
        "with torch.no_grad():\n",
        "  y_pred = model(torch.tensor(X.reshape(-1, 1), device=\"cpu\", dtype=torch.float32)).cpu().numpy()\n",
        "\n",
        "sns.scatterplot(x=X, y=y, color=\"blue\", label=\"Data\")\n",
        "sns.lineplot(x=X, y=y_pred.ravel(), color=\"red\", label=\"Linear Model\")"
      ],
      "metadata": {
        "id": "Vuo11BhQfJUB",
        "outputId": "b8bc95e9-8a9c-49b2-f516-3f452fb9895b",
        "colab": {
          "base_uri": "https://localhost:8080/",
          "height": 282
        }
      },
      "execution_count": 15,
      "outputs": [
        {
          "output_type": "execute_result",
          "data": {
            "text/plain": [
              "<matplotlib.axes._subplots.AxesSubplot at 0x7fb097b6cad0>"
            ]
          },
          "metadata": {},
          "execution_count": 15
        },
        {
          "output_type": "display_data",
          "data": {
            "text/plain": [
              "<Figure size 432x288 with 1 Axes>"
            ],
            "image/png": "[encoded data removed]",
            "application/pdf": "[encoded data removed]"
          },
          "metadata": {
            "needs_background": "light"
          }
        }
      ]
    },
    {
      "cell_type": "markdown",
      "source": [
        "As we can see, adding more layer did not help.\n",
        "\n",
        "A little linear algebra will explain why this happened.\n",
        "\n",
        "$$ f(x) = x^TW_{(h_1)}^{d, n}W_{out}^{n,C} $$\n",
        "\n",
        "Where $W_{(h_1)}^{d, n}$ is hidden layer and $W_{out}^{n,C}$ is output layer.\n",
        "\n",
        "But we can simplify the two weight matrices. If we have a matrix with shape `(a, b)` and a second matrix with shape `(b, c)` and we multiply\n",
        "them together, we get a new matrix with shape `(a, c)`.\n",
        "\n",
        "$$ W_{(h_1)}^{d, n}W_{out}^{n,C} = \\tilde W_{d,c} $$\n",
        "\n",
        "and therefore\n",
        "\n",
        "$$ f(x)=x^TW_{(h_1)}^{d, n}W_{out}^{n,C} = x^T \\tilde W_{d,c} $$\n",
        "\n",
        "This shows that **adding any number of sequential linear layers is equivalent to using just one linear layer**. \n",
        "\n",
        "Linear operations beget(generate) linear operations and are usually redundant.\n"
      ],
      "metadata": {
        "id": "fLOKw0ZJhzh9"
      }
    },
    {
      "cell_type": "markdown",
      "source": [
        "##Adding nonlinearities"
      ],
      "metadata": {
        "id": "ctdPrPG1kysM"
      }
    },
    {
      "cell_type": "markdown",
      "source": [
        ""
      ],
      "metadata": {
        "id": "c6Zl0TO2k1AB"
      }
    }
  ]
}