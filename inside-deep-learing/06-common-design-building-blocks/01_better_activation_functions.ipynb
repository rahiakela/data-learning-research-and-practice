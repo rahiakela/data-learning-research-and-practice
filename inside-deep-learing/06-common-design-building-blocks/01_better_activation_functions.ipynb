{
  "nbformat": 4,
  "nbformat_minor": 0,
  "metadata": {
    "colab": {
      "name": "01-better-activation-functions.ipynb",
      "provenance": [],
      "toc_visible": true,
      "authorship_tag": "ABX9TyOfnDUif10VUIUFh8LEfFhn",
      "include_colab_link": true
    },
    "kernelspec": {
      "name": "python3",
      "display_name": "Python 3"
    },
    "language_info": {
      "name": "python"
    },
    "accelerator": "GPU",
    "gpuClass": "standard"
  },
  "cells": [
    {
      "cell_type": "markdown",
      "metadata": {
        "id": "view-in-github",
        "colab_type": "text"
      },
      "source": [
        "<a href=\"https://colab.research.google.com/github/rahiakela/deep-learning-research-and-practice/blob/main/inside-deep-learing/06-common-design-building-blocks/01_better_activation_functions.ipynb\" target=\"_parent\"><img src=\"https://colab.research.google.com/assets/colab-badge.svg\" alt=\"Open In Colab\"/></a>"
      ]
    },
    {
      "cell_type": "markdown",
      "source": [
        "##Better activation functions"
      ],
      "metadata": {
        "id": "ldjKkwDE9r9p"
      }
    },
    {
      "cell_type": "markdown",
      "source": [
        "We will discuss five new methods that work for feed-forward models and\n",
        "one new improvement to RNNs. We introduce the first five methods roughly in the\n",
        "order that they were invented, as each tends to use the preceding techniques in their\n",
        "design. \n",
        "\n",
        "Individually, they improve accuracy and speed up training; but combined, they\n",
        "are greater than the sum of their parts.\n",
        "\n",
        "1. Better activation function\n",
        "2. Batch/Layer normalization\n",
        "3. Skip connections and 1 x 1 convolution\n",
        "4. Residual connections\n",
        "5. Long short-term memory (LSTM) layer"
      ],
      "metadata": {
        "id": "tFXQb6wufLVZ"
      }
    },
    {
      "cell_type": "markdown",
      "source": [
        "##Setup"
      ],
      "metadata": {
        "id": "Ju6nJVQUfX5-"
      }
    },
    {
      "cell_type": "code",
      "source": [
        "from tqdm.autonotebook import tqdm\n",
        "\n",
        "import numpy as np\n",
        "import pandas as pd\n",
        "\n",
        "import seaborn as sns\n",
        "import matplotlib.pyplot as plt\n",
        "from matplotlib.pyplot import imshow\n",
        "\n",
        "from sklearn.metrics import accuracy_score\n",
        "\n",
        "import time"
      ],
      "metadata": {
        "id": "bUicuO0T9vRt"
      },
      "execution_count": null,
      "outputs": []
    },
    {
      "cell_type": "code",
      "source": [
        "!wget https://github.com/EdwardRaff/Inside-Deep-Learning/raw/main/idlmam.py"
      ],
      "metadata": {
        "id": "j8dfqZhAI7hK"
      },
      "execution_count": null,
      "outputs": []
    },
    {
      "cell_type": "code",
      "source": [
        "import torch\n",
        "import torch.nn as nn\n",
        "import torch.nn.functional as F\n",
        "import torchvision \n",
        "from torchvision import transforms\n",
        "\n",
        "from torch.utils.data import Dataset, DataLoader\n",
        "\n",
        "from idlmam import train_network, Flatten, weight_reset, set_seed\n",
        "from idlmam import LanguageNameDataset, pad_and_pack, EmbeddingPackable, LastTimeStep, LambdaLayer"
      ],
      "metadata": {
        "id": "_9xoD7-8EibG"
      },
      "execution_count": 3,
      "outputs": []
    },
    {
      "cell_type": "code",
      "source": [
        "%matplotlib inline\n",
        "from IPython.display import set_matplotlib_formats\n",
        "set_matplotlib_formats('png', 'pdf')\n",
        "\n",
        "torch.backends.cudnn.deterministic=True\n",
        "set_seed(42)"
      ],
      "metadata": {
        "id": "8U1JNhEmEkzG"
      },
      "execution_count": 4,
      "outputs": []
    },
    {
      "cell_type": "code",
      "source": [
        "device = torch.device(\"cuda\") if torch.cuda.is_available() else torch.device(\"cpu\")"
      ],
      "metadata": {
        "id": "nXiYSSxO707X"
      },
      "execution_count": 5,
      "outputs": []
    },
    {
      "cell_type": "markdown",
      "source": [
        "##Dataset"
      ],
      "metadata": {
        "id": "ycbbAdR0fjAG"
      }
    },
    {
      "cell_type": "markdown",
      "source": [
        "We use the\n",
        "Fashion-MNIST dataset because it is slightly more challenging while retaining the same\n",
        "size and shape as the original MNIST corpus, which will let us accomplish some testing\n",
        "in a reasonable time."
      ],
      "metadata": {
        "id": "dGBbD_ci_DvL"
      }
    },
    {
      "cell_type": "code",
      "source": [
        "B = 128\n",
        "\n",
        "train_data = torchvision.datasets.FashionMNIST(\"./data\", train=True, transform=transforms.ToTensor(), download=True)\n",
        "test_data = torchvision.datasets.FashionMNIST(\"./data\", train=True, transform=transforms.ToTensor(), download=True)\n",
        "\n",
        "training_loader = DataLoader(train_data, batch_size=B, shuffle=True)\n",
        "testing_loader = DataLoader(test_data, batch_size=B)"
      ],
      "metadata": {
        "id": "iQy_V8L791sw"
      },
      "execution_count": null,
      "outputs": []
    },
    {
      "cell_type": "markdown",
      "source": [
        "##Baseline model"
      ],
      "metadata": {
        "id": "cnR7s0KfIhEB"
      }
    },
    {
      "cell_type": "markdown",
      "source": [
        "Let’s define some basic hyperparameters."
      ],
      "metadata": {
        "id": "d_WTbnXEW2bq"
      }
    },
    {
      "cell_type": "code",
      "source": [
        "W, H = 28, 28\n",
        "D = 28 * 28       # input size\n",
        "n = 188           # Hidden layer size\n",
        "C= 1              # How many channels are in the input?\n",
        "n_filters = 32    # filters per convolutional layer\n",
        "classes = 10      # How many classes are there?"
      ],
      "metadata": {
        "id": "qehTRWK_W2mK"
      },
      "execution_count": 7,
      "outputs": []
    },
    {
      "cell_type": "code",
      "source": [
        "fc_model = nn.Sequential(\n",
        "  nn.Flatten(),\n",
        "  nn.Linear(D,  n), \n",
        "  nn.Tanh(), #First hidden layer \n",
        "  #Now that each remaining layer has the same input/output sizes, we can make them with a list unpacking\n",
        "  *[nn.Sequential(nn.Linear(n,  n), nn.Tanh()) for _ in range(5)], \n",
        "  nn.Linear(n, classes),\n",
        ")"
      ],
      "metadata": {
        "id": "iE9KyN7r9e4u"
      },
      "execution_count": 8,
      "outputs": []
    },
    {
      "cell_type": "code",
      "source": [
        "cnn_model = nn.Sequential(\n",
        "  nn.Conv2d(C, n_filters, 3, padding=1),             \n",
        "  nn.Tanh(),\n",
        "  nn.Conv2d(n_filters, n_filters, 3, padding=1),     \n",
        "  nn.Tanh(),\n",
        "  nn.Conv2d(n_filters, n_filters, 3, padding=1),     \n",
        "  nn.Tanh(),\n",
        "  nn.MaxPool2d((2,2)),\n",
        "  \n",
        "  nn.Conv2d(  n_filters, 2*n_filters, 3, padding=1), \n",
        "  nn.Tanh(),\n",
        "  nn.Conv2d(2*n_filters, 2*n_filters, 3, padding=1), \n",
        "  nn.Tanh(),\n",
        "  nn.Conv2d(2*n_filters, 2*n_filters, 3, padding=1), \n",
        "  nn.Tanh(),\n",
        "  nn.MaxPool2d((2,2)),\n",
        "\n",
        "  nn.Conv2d(2*n_filters, 4*n_filters, 3, padding=1), \n",
        "  nn.Tanh(),\n",
        "  nn.Conv2d(4*n_filters, 4*n_filters, 3, padding=1), \n",
        "  nn.Tanh(),\n",
        "\n",
        "  nn.Flatten(),\n",
        "  nn.Linear(D*n_filters//4, classes),\n",
        ")"
      ],
      "metadata": {
        "id": "9wZ8HBT-9ook"
      },
      "execution_count": 9,
      "outputs": []
    },
    {
      "cell_type": "markdown",
      "source": [
        "We use our new train_network function to train all of the models."
      ],
      "metadata": {
        "id": "1F7h6mer-TBI"
      }
    },
    {
      "cell_type": "code",
      "source": [
        "loss_func = nn.CrossEntropyLoss()\n",
        "\n",
        "fc_results = train_network(fc_model, \n",
        "                          loss_func, \n",
        "                          training_loader,\n",
        "                          epochs=10, \n",
        "                          test_loader=testing_loader,\n",
        "                          score_funcs={\"Acc\": accuracy_score},\n",
        "                          device=device)"
      ],
      "metadata": {
        "id": "nFMW50TrN-LY"
      },
      "execution_count": null,
      "outputs": []
    },
    {
      "cell_type": "code",
      "source": [
        "cnn_results = train_network(cnn_model, \n",
        "                          loss_func, \n",
        "                          training_loader,\n",
        "                          epochs=10, \n",
        "                          test_loader=testing_loader,\n",
        "                          score_funcs={\"Acc\": accuracy_score},\n",
        "                          device=device)"
      ],
      "metadata": {
        "id": "Bw7JyvDM_HD4"
      },
      "execution_count": null,
      "outputs": []
    },
    {
      "cell_type": "code",
      "source": [
        "fc_results.head()"
      ],
      "metadata": {
        "colab": {
          "base_uri": "https://localhost:8080/",
          "height": 206
        },
        "id": "GsZgkaolOIwk",
        "outputId": "09b7aed2-1643-43ab-c9af-a7ea1847cd3f"
      },
      "execution_count": 12,
      "outputs": [
        {
          "output_type": "execute_result",
          "data": {
            "text/plain": [
              "   epoch  total time  train loss  test loss  train Acc  test Acc\n",
              "0      0   14.344488    0.633577   0.461121   0.766650  0.837750\n",
              "1      1   21.120666    0.434101   0.413325   0.845150  0.849067\n",
              "2      2   28.542870    0.391224   0.358891   0.857450  0.867400\n",
              "3      3   35.356928    0.363648   0.327916   0.868283  0.877617\n",
              "4      4   42.179903    0.346689   0.332774   0.873750  0.883317"
            ],
            "text/html": [
              "\n",
              "  <div id=\"df-9eee0528-95df-4739-b84b-a6b737e05637\">\n",
              "    <div class=\"colab-df-container\">\n",
              "      <div>\n",
              "<style scoped>\n",
              "    .dataframe tbody tr th:only-of-type {\n",
              "        vertical-align: middle;\n",
              "    }\n",
              "\n",
              "    .dataframe tbody tr th {\n",
              "        vertical-align: top;\n",
              "    }\n",
              "\n",
              "    .dataframe thead th {\n",
              "        text-align: right;\n",
              "    }\n",
              "</style>\n",
              "<table border=\"1\" class=\"dataframe\">\n",
              "  <thead>\n",
              "    <tr style=\"text-align: right;\">\n",
              "      <th></th>\n",
              "      <th>epoch</th>\n",
              "      <th>total time</th>\n",
              "      <th>train loss</th>\n",
              "      <th>test loss</th>\n",
              "      <th>train Acc</th>\n",
              "      <th>test Acc</th>\n",
              "    </tr>\n",
              "  </thead>\n",
              "  <tbody>\n",
              "    <tr>\n",
              "      <th>0</th>\n",
              "      <td>0</td>\n",
              "      <td>14.344488</td>\n",
              "      <td>0.633577</td>\n",
              "      <td>0.461121</td>\n",
              "      <td>0.766650</td>\n",
              "      <td>0.837750</td>\n",
              "    </tr>\n",
              "    <tr>\n",
              "      <th>1</th>\n",
              "      <td>1</td>\n",
              "      <td>21.120666</td>\n",
              "      <td>0.434101</td>\n",
              "      <td>0.413325</td>\n",
              "      <td>0.845150</td>\n",
              "      <td>0.849067</td>\n",
              "    </tr>\n",
              "    <tr>\n",
              "      <th>2</th>\n",
              "      <td>2</td>\n",
              "      <td>28.542870</td>\n",
              "      <td>0.391224</td>\n",
              "      <td>0.358891</td>\n",
              "      <td>0.857450</td>\n",
              "      <td>0.867400</td>\n",
              "    </tr>\n",
              "    <tr>\n",
              "      <th>3</th>\n",
              "      <td>3</td>\n",
              "      <td>35.356928</td>\n",
              "      <td>0.363648</td>\n",
              "      <td>0.327916</td>\n",
              "      <td>0.868283</td>\n",
              "      <td>0.877617</td>\n",
              "    </tr>\n",
              "    <tr>\n",
              "      <th>4</th>\n",
              "      <td>4</td>\n",
              "      <td>42.179903</td>\n",
              "      <td>0.346689</td>\n",
              "      <td>0.332774</td>\n",
              "      <td>0.873750</td>\n",
              "      <td>0.883317</td>\n",
              "    </tr>\n",
              "  </tbody>\n",
              "</table>\n",
              "</div>\n",
              "      <button class=\"colab-df-convert\" onclick=\"convertToInteractive('df-9eee0528-95df-4739-b84b-a6b737e05637')\"\n",
              "              title=\"Convert this dataframe to an interactive table.\"\n",
              "              style=\"display:none;\">\n",
              "        \n",
              "  <svg xmlns=\"http://www.w3.org/2000/svg\" height=\"24px\"viewBox=\"0 0 24 24\"\n",
              "       width=\"24px\">\n",
              "    <path d=\"M0 0h24v24H0V0z\" fill=\"none\"/>\n",
              "    <path d=\"M18.56 5.44l.94 2.06.94-2.06 2.06-.94-2.06-.94-.94-2.06-.94 2.06-2.06.94zm-11 1L8.5 8.5l.94-2.06 2.06-.94-2.06-.94L8.5 2.5l-.94 2.06-2.06.94zm10 10l.94 2.06.94-2.06 2.06-.94-2.06-.94-.94-2.06-.94 2.06-2.06.94z\"/><path d=\"M17.41 7.96l-1.37-1.37c-.4-.4-.92-.59-1.43-.59-.52 0-1.04.2-1.43.59L10.3 9.45l-7.72 7.72c-.78.78-.78 2.05 0 2.83L4 21.41c.39.39.9.59 1.41.59.51 0 1.02-.2 1.41-.59l7.78-7.78 2.81-2.81c.8-.78.8-2.07 0-2.86zM5.41 20L4 18.59l7.72-7.72 1.47 1.35L5.41 20z\"/>\n",
              "  </svg>\n",
              "      </button>\n",
              "      \n",
              "  <style>\n",
              "    .colab-df-container {\n",
              "      display:flex;\n",
              "      flex-wrap:wrap;\n",
              "      gap: 12px;\n",
              "    }\n",
              "\n",
              "    .colab-df-convert {\n",
              "      background-color: #E8F0FE;\n",
              "      border: none;\n",
              "      border-radius: 50%;\n",
              "      cursor: pointer;\n",
              "      display: none;\n",
              "      fill: #1967D2;\n",
              "      height: 32px;\n",
              "      padding: 0 0 0 0;\n",
              "      width: 32px;\n",
              "    }\n",
              "\n",
              "    .colab-df-convert:hover {\n",
              "      background-color: #E2EBFA;\n",
              "      box-shadow: 0px 1px 2px rgba(60, 64, 67, 0.3), 0px 1px 3px 1px rgba(60, 64, 67, 0.15);\n",
              "      fill: #174EA6;\n",
              "    }\n",
              "\n",
              "    [theme=dark] .colab-df-convert {\n",
              "      background-color: #3B4455;\n",
              "      fill: #D2E3FC;\n",
              "    }\n",
              "\n",
              "    [theme=dark] .colab-df-convert:hover {\n",
              "      background-color: #434B5C;\n",
              "      box-shadow: 0px 1px 3px 1px rgba(0, 0, 0, 0.15);\n",
              "      filter: drop-shadow(0px 1px 2px rgba(0, 0, 0, 0.3));\n",
              "      fill: #FFFFFF;\n",
              "    }\n",
              "  </style>\n",
              "\n",
              "      <script>\n",
              "        const buttonEl =\n",
              "          document.querySelector('#df-9eee0528-95df-4739-b84b-a6b737e05637 button.colab-df-convert');\n",
              "        buttonEl.style.display =\n",
              "          google.colab.kernel.accessAllowed ? 'block' : 'none';\n",
              "\n",
              "        async function convertToInteractive(key) {\n",
              "          const element = document.querySelector('#df-9eee0528-95df-4739-b84b-a6b737e05637');\n",
              "          const dataTable =\n",
              "            await google.colab.kernel.invokeFunction('convertToInteractive',\n",
              "                                                     [key], {});\n",
              "          if (!dataTable) return;\n",
              "\n",
              "          const docLinkHtml = 'Like what you see? Visit the ' +\n",
              "            '<a target=\"_blank\" href=https://colab.research.google.com/notebooks/data_table.ipynb>data table notebook</a>'\n",
              "            + ' to learn more about interactive tables.';\n",
              "          element.innerHTML = '';\n",
              "          dataTable['output_type'] = 'display_data';\n",
              "          await google.colab.output.renderOutput(dataTable, element);\n",
              "          const docLink = document.createElement('div');\n",
              "          docLink.innerHTML = docLinkHtml;\n",
              "          element.appendChild(docLink);\n",
              "        }\n",
              "      </script>\n",
              "    </div>\n",
              "  </div>\n",
              "  "
            ]
          },
          "metadata": {},
          "execution_count": 12
        }
      ]
    },
    {
      "cell_type": "code",
      "source": [
        "cnn_results.head()"
      ],
      "metadata": {
        "id": "h_1yFTWR_j1e",
        "outputId": "17f34e4f-bebd-4caf-fc87-c976f716e00a",
        "colab": {
          "base_uri": "https://localhost:8080/",
          "height": 206
        }
      },
      "execution_count": 13,
      "outputs": [
        {
          "output_type": "execute_result",
          "data": {
            "text/plain": [
              "   epoch  total time  train loss  test loss  train Acc  test Acc\n",
              "0      0   17.337026    0.491520   0.315718    0.82165  0.885933\n",
              "1      1   30.121104    0.320271   0.300401    0.88580  0.892483\n",
              "2      2   43.462681    0.283402   0.227856    0.90060  0.918867\n",
              "3      3   56.318769    0.256085   0.238842    0.90905  0.912200\n",
              "4      4   69.217201    0.246041   0.245748    0.91435  0.917450"
            ],
            "text/html": [
              "\n",
              "  <div id=\"df-04d38f9e-53ca-43f6-9e34-9d57dfeb39a1\">\n",
              "    <div class=\"colab-df-container\">\n",
              "      <div>\n",
              "<style scoped>\n",
              "    .dataframe tbody tr th:only-of-type {\n",
              "        vertical-align: middle;\n",
              "    }\n",
              "\n",
              "    .dataframe tbody tr th {\n",
              "        vertical-align: top;\n",
              "    }\n",
              "\n",
              "    .dataframe thead th {\n",
              "        text-align: right;\n",
              "    }\n",
              "</style>\n",
              "<table border=\"1\" class=\"dataframe\">\n",
              "  <thead>\n",
              "    <tr style=\"text-align: right;\">\n",
              "      <th></th>\n",
              "      <th>epoch</th>\n",
              "      <th>total time</th>\n",
              "      <th>train loss</th>\n",
              "      <th>test loss</th>\n",
              "      <th>train Acc</th>\n",
              "      <th>test Acc</th>\n",
              "    </tr>\n",
              "  </thead>\n",
              "  <tbody>\n",
              "    <tr>\n",
              "      <th>0</th>\n",
              "      <td>0</td>\n",
              "      <td>17.337026</td>\n",
              "      <td>0.491520</td>\n",
              "      <td>0.315718</td>\n",
              "      <td>0.82165</td>\n",
              "      <td>0.885933</td>\n",
              "    </tr>\n",
              "    <tr>\n",
              "      <th>1</th>\n",
              "      <td>1</td>\n",
              "      <td>30.121104</td>\n",
              "      <td>0.320271</td>\n",
              "      <td>0.300401</td>\n",
              "      <td>0.88580</td>\n",
              "      <td>0.892483</td>\n",
              "    </tr>\n",
              "    <tr>\n",
              "      <th>2</th>\n",
              "      <td>2</td>\n",
              "      <td>43.462681</td>\n",
              "      <td>0.283402</td>\n",
              "      <td>0.227856</td>\n",
              "      <td>0.90060</td>\n",
              "      <td>0.918867</td>\n",
              "    </tr>\n",
              "    <tr>\n",
              "      <th>3</th>\n",
              "      <td>3</td>\n",
              "      <td>56.318769</td>\n",
              "      <td>0.256085</td>\n",
              "      <td>0.238842</td>\n",
              "      <td>0.90905</td>\n",
              "      <td>0.912200</td>\n",
              "    </tr>\n",
              "    <tr>\n",
              "      <th>4</th>\n",
              "      <td>4</td>\n",
              "      <td>69.217201</td>\n",
              "      <td>0.246041</td>\n",
              "      <td>0.245748</td>\n",
              "      <td>0.91435</td>\n",
              "      <td>0.917450</td>\n",
              "    </tr>\n",
              "  </tbody>\n",
              "</table>\n",
              "</div>\n",
              "      <button class=\"colab-df-convert\" onclick=\"convertToInteractive('df-04d38f9e-53ca-43f6-9e34-9d57dfeb39a1')\"\n",
              "              title=\"Convert this dataframe to an interactive table.\"\n",
              "              style=\"display:none;\">\n",
              "        \n",
              "  <svg xmlns=\"http://www.w3.org/2000/svg\" height=\"24px\"viewBox=\"0 0 24 24\"\n",
              "       width=\"24px\">\n",
              "    <path d=\"M0 0h24v24H0V0z\" fill=\"none\"/>\n",
              "    <path d=\"M18.56 5.44l.94 2.06.94-2.06 2.06-.94-2.06-.94-.94-2.06-.94 2.06-2.06.94zm-11 1L8.5 8.5l.94-2.06 2.06-.94-2.06-.94L8.5 2.5l-.94 2.06-2.06.94zm10 10l.94 2.06.94-2.06 2.06-.94-2.06-.94-.94-2.06-.94 2.06-2.06.94z\"/><path d=\"M17.41 7.96l-1.37-1.37c-.4-.4-.92-.59-1.43-.59-.52 0-1.04.2-1.43.59L10.3 9.45l-7.72 7.72c-.78.78-.78 2.05 0 2.83L4 21.41c.39.39.9.59 1.41.59.51 0 1.02-.2 1.41-.59l7.78-7.78 2.81-2.81c.8-.78.8-2.07 0-2.86zM5.41 20L4 18.59l7.72-7.72 1.47 1.35L5.41 20z\"/>\n",
              "  </svg>\n",
              "      </button>\n",
              "      \n",
              "  <style>\n",
              "    .colab-df-container {\n",
              "      display:flex;\n",
              "      flex-wrap:wrap;\n",
              "      gap: 12px;\n",
              "    }\n",
              "\n",
              "    .colab-df-convert {\n",
              "      background-color: #E8F0FE;\n",
              "      border: none;\n",
              "      border-radius: 50%;\n",
              "      cursor: pointer;\n",
              "      display: none;\n",
              "      fill: #1967D2;\n",
              "      height: 32px;\n",
              "      padding: 0 0 0 0;\n",
              "      width: 32px;\n",
              "    }\n",
              "\n",
              "    .colab-df-convert:hover {\n",
              "      background-color: #E2EBFA;\n",
              "      box-shadow: 0px 1px 2px rgba(60, 64, 67, 0.3), 0px 1px 3px 1px rgba(60, 64, 67, 0.15);\n",
              "      fill: #174EA6;\n",
              "    }\n",
              "\n",
              "    [theme=dark] .colab-df-convert {\n",
              "      background-color: #3B4455;\n",
              "      fill: #D2E3FC;\n",
              "    }\n",
              "\n",
              "    [theme=dark] .colab-df-convert:hover {\n",
              "      background-color: #434B5C;\n",
              "      box-shadow: 0px 1px 3px 1px rgba(0, 0, 0, 0.15);\n",
              "      filter: drop-shadow(0px 1px 2px rgba(0, 0, 0, 0.3));\n",
              "      fill: #FFFFFF;\n",
              "    }\n",
              "  </style>\n",
              "\n",
              "      <script>\n",
              "        const buttonEl =\n",
              "          document.querySelector('#df-04d38f9e-53ca-43f6-9e34-9d57dfeb39a1 button.colab-df-convert');\n",
              "        buttonEl.style.display =\n",
              "          google.colab.kernel.accessAllowed ? 'block' : 'none';\n",
              "\n",
              "        async function convertToInteractive(key) {\n",
              "          const element = document.querySelector('#df-04d38f9e-53ca-43f6-9e34-9d57dfeb39a1');\n",
              "          const dataTable =\n",
              "            await google.colab.kernel.invokeFunction('convertToInteractive',\n",
              "                                                     [key], {});\n",
              "          if (!dataTable) return;\n",
              "\n",
              "          const docLinkHtml = 'Like what you see? Visit the ' +\n",
              "            '<a target=\"_blank\" href=https://colab.research.google.com/notebooks/data_table.ipynb>data table notebook</a>'\n",
              "            + ' to learn more about interactive tables.';\n",
              "          element.innerHTML = '';\n",
              "          dataTable['output_type'] = 'display_data';\n",
              "          await google.colab.output.renderOutput(dataTable, element);\n",
              "          const docLink = document.createElement('div');\n",
              "          docLink.innerHTML = docLinkHtml;\n",
              "          element.appendChild(docLink);\n",
              "        }\n",
              "      </script>\n",
              "    </div>\n",
              "  </div>\n",
              "  "
            ]
          },
          "metadata": {},
          "execution_count": 13
        }
      ]
    },
    {
      "cell_type": "markdown",
      "source": [
        "Let’s be explicit and tell Python we are finished so we can get back the GPU memory."
      ],
      "metadata": {
        "id": "fkpoHtVo_kV5"
      }
    },
    {
      "cell_type": "code",
      "source": [
        "del fc_model\n",
        "del cnn_model"
      ],
      "metadata": {
        "id": "1zlox4mE_k83"
      },
      "execution_count": 14,
      "outputs": []
    },
    {
      "cell_type": "code",
      "source": [
        "sns.lineplot(x=\"epoch\", y=\"train Acc\", data=fc_results, label=\"Fully Connected\")\n",
        "sns.lineplot(x=\"epoch\", y=\"train Acc\", data=cnn_results, label=\"CNN\")"
      ],
      "metadata": {
        "colab": {
          "base_uri": "https://localhost:8080/",
          "height": 296
        },
        "id": "sy8pGfRqOJK6",
        "outputId": "772874e4-9faa-4190-f567-924b24227df4"
      },
      "execution_count": 15,
      "outputs": [
        {
          "output_type": "execute_result",
          "data": {
            "text/plain": [
              "<matplotlib.axes._subplots.AxesSubplot at 0x7f95d82ce950>"
            ]
          },
          "metadata": {},
          "execution_count": 15
        },
        {
          "output_type": "display_data",
          "data": {
            "text/plain": [
              "<Figure size 432x288 with 1 Axes>"
            ],
            "image/png": "[encoded data removed]",
            "application/pdf": "[encoded data removed]"
          },
          "metadata": {
            "needs_background": "light"
          }
        }
      ]
    },
    {
      "cell_type": "code",
      "source": [
        "sns.lineplot(x=\"epoch\", y=\"test Acc\", data=fc_results, label=\"Fully Connected\")\n",
        "sns.lineplot(x=\"epoch\", y=\"test Acc\", data=cnn_results, label=\"CNN\")"
      ],
      "metadata": {
        "colab": {
          "base_uri": "https://localhost:8080/",
          "height": 296
        },
        "id": "EcAm7eM9Q1yG",
        "outputId": "8834fb29-7ac1-4665-f275-16eb4f0cf194"
      },
      "execution_count": 16,
      "outputs": [
        {
          "output_type": "execute_result",
          "data": {
            "text/plain": [
              "<matplotlib.axes._subplots.AxesSubplot at 0x7f95d815dc10>"
            ]
          },
          "metadata": {},
          "execution_count": 16
        },
        {
          "output_type": "display_data",
          "data": {
            "text/plain": [
              "<Figure size 432x288 with 1 Axes>"
            ],
            "image/png": "[encoded data removed]",
            "application/pdf": "[encoded data removed]"
          },
          "metadata": {
            "needs_background": "light"
          }
        }
      ]
    },
    {
      "cell_type": "markdown",
      "source": [
        "##Vanishing gradients"
      ],
      "metadata": {
        "id": "AT2D-lmvBN05"
      }
    },
    {
      "cell_type": "markdown",
      "source": [
        "Currently, we don’t know definitively what makes one activation function\n",
        "better than another, and there isn’t any one option you should always use.\n",
        "\n",
        "But we have learned about some things that are usually undesirable in an activation function. Both\n",
        "$tanh(.)$ and $\\sigma(.)$ can lead to a problem called vanishing gradients.\n",
        "\n",
        "How do the tanh and sigmoid activations result in this vanishing gradient problem?\n",
        "\n"
      ],
      "metadata": {
        "id": "8Dig3PZdBOpB"
      }
    },
    {
      "cell_type": "code",
      "source": [
        "def sigmoid(x):\n",
        "  return np.exp(x) / (1 + np.exp(x))"
      ],
      "metadata": {
        "id": "zobF4O4n3cEa"
      },
      "execution_count": 17,
      "outputs": []
    },
    {
      "cell_type": "code",
      "source": [
        "activation_input = np.linspace(-5, 5, num=200)\n",
        "tanh_activation = np.tanh(activation_input)\n",
        "sigmoid_activation = sigmoid(activation_input)\n",
        "\n",
        "sns.lineplot(x=activation_input, y=tanh_activation, color=\"red\", label=\"tanh(x)\")\n",
        "sns.lineplot(x=activation_input, y=sigmoid_activation, color=\"blue\", label=\"$\\sigma(x)$\")"
      ],
      "metadata": {
        "id": "S13olzwB4aCA",
        "outputId": "c6d79a0c-fdb9-4f69-ccea-99ef2fdd48c2",
        "colab": {
          "base_uri": "https://localhost:8080/",
          "height": 282
        }
      },
      "execution_count": 19,
      "outputs": [
        {
          "output_type": "execute_result",
          "data": {
            "text/plain": [
              "<matplotlib.axes._subplots.AxesSubplot at 0x7f95d8346d50>"
            ]
          },
          "metadata": {},
          "execution_count": 19
        },
        {
          "output_type": "display_data",
          "data": {
            "text/plain": [
              "<Figure size 432x288 with 1 Axes>"
            ],
            "image/png": "[encoded data removed]",
            "application/pdf": "[encoded data removed]"
          },
          "metadata": {
            "needs_background": "light"
          }
        }
      ]
    },
    {
      "cell_type": "markdown",
      "source": [
        "Both activations have a property called saturation, which is when the activation stops changing as the input keeps changing.\n",
        "\n",
        "Let’s plot the derivatives of these functions—we see that saturation has an undesirable result:"
      ],
      "metadata": {
        "id": "lie8XwIX5S3N"
      }
    },
    {
      "cell_type": "code",
      "source": [
        "def tanh_deriv(x):\n",
        "  return 1.0 - np.tanh(x) ** 2\n",
        "\n",
        "def sigmoid_derivative(x):\n",
        "  return sigmoid(x) * (1 - sigmoid(x))"
      ],
      "metadata": {
        "id": "oYfnc1nF5hBR"
      },
      "execution_count": 20,
      "outputs": []
    },
    {
      "cell_type": "code",
      "source": [
        "tanh_deriv = tanh_deriv(activation_input)\n",
        "sigmoid_deriv = sigmoid_derivative(activation_input)\n",
        "\n",
        "sns.lineplot(x=activation_input, y=tanh_deriv, color=\"red\", label=\"tanh(x)\")\n",
        "sns.lineplot(x=activation_input, y=sigmoid_deriv, color=\"blue\", label=\"$\\sigma(x)$\")"
      ],
      "metadata": {
        "id": "RASr8rR852Mb",
        "outputId": "b4bdefd9-79e6-46be-ded1-f38d421e5581",
        "colab": {
          "base_uri": "https://localhost:8080/",
          "height": 282
        }
      },
      "execution_count": 21,
      "outputs": [
        {
          "output_type": "execute_result",
          "data": {
            "text/plain": [
              "<matplotlib.axes._subplots.AxesSubplot at 0x7f95d87a8810>"
            ]
          },
          "metadata": {},
          "execution_count": 21
        },
        {
          "output_type": "display_data",
          "data": {
            "text/plain": [
              "<Figure size 432x288 with 1 Axes>"
            ],
            "image/png": "[encoded data removed]",
            "application/pdf": "[encoded data removed]"
          },
          "metadata": {
            "needs_background": "light"
          }
        }
      ]
    },
    {
      "cell_type": "markdown",
      "source": [
        "As the activation begins to saturate, its gradient begins\n",
        "to vanish. This happens with any activation function that saturates. \n",
        "\n",
        "Since our weight\n",
        "changes based on the value of the gradient $\\Delta$, our network will stop learning if too\n",
        "many neurons begin saturating.\n",
        "\n",
        "This does not mean that you should never use $tanh(.)$ and $\\sigma(.)$; there are some cases where you want saturation (LSTM). \n",
        "\n",
        "If you don’t have a specific reason why you want saturation, I recommend\n",
        "avoiding activation functions that saturate."
      ],
      "metadata": {
        "id": "R4xy-f4F6nCg"
      }
    },
    {
      "cell_type": "markdown",
      "source": [
        "##ReLU: Avoiding vanishing gradients"
      ],
      "metadata": {
        "id": "6X49CU-V80vU"
      }
    },
    {
      "cell_type": "markdown",
      "source": [
        ""
      ],
      "metadata": {
        "id": "XQUv8rV184X1"
      }
    }
  ]
}