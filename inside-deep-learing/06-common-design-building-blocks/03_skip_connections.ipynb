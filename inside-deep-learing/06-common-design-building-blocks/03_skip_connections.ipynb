{
  "nbformat": 4,
  "nbformat_minor": 0,
  "metadata": {
    "colab": {
      "name": "03-skip-connections.ipynb",
      "provenance": [],
      "toc_visible": true,
      "authorship_tag": "ABX9TyMti2p/XpaR3tnCcNChU/Fa",
      "include_colab_link": true
    },
    "kernelspec": {
      "name": "python3",
      "display_name": "Python 3"
    },
    "language_info": {
      "name": "python"
    },
    "accelerator": "GPU",
    "gpuClass": "standard"
  },
  "cells": [
    {
      "cell_type": "markdown",
      "metadata": {
        "id": "view-in-github",
        "colab_type": "text"
      },
      "source": [
        "<a href=\"https://colab.research.google.com/github/rahiakela/deep-learning-research-and-practice/blob/main/inside-deep-learing/06-common-design-building-blocks/03_skip_connections.ipynb\" target=\"_parent\"><img src=\"https://colab.research.google.com/assets/colab-badge.svg\" alt=\"Open In Colab\"/></a>"
      ]
    },
    {
      "cell_type": "markdown",
      "source": [
        "##Skip connections"
      ],
      "metadata": {
        "id": "ldjKkwDE9r9p"
      }
    },
    {
      "cell_type": "markdown",
      "source": [
        "We will discuss five new methods that work for feed-forward models and\n",
        "one new improvement to RNNs. We introduce the first five methods roughly in the\n",
        "order that they were invented, as each tends to use the preceding techniques in their\n",
        "design. \n",
        "\n",
        "Individually, they improve accuracy and speed up training; but combined, they\n",
        "are greater than the sum of their parts.\n",
        "\n",
        "1. Better activation function\n",
        "2. Batch/Layer normalization\n",
        "3. Skip connections and 1 x 1 convolution\n",
        "4. Residual connections\n",
        "5. Long short-term memory (LSTM) layer"
      ],
      "metadata": {
        "id": "tFXQb6wufLVZ"
      }
    },
    {
      "cell_type": "markdown",
      "source": [
        "##Setup"
      ],
      "metadata": {
        "id": "Ju6nJVQUfX5-"
      }
    },
    {
      "cell_type": "code",
      "source": [
        "from tqdm.autonotebook import tqdm\n",
        "\n",
        "import numpy as np\n",
        "import pandas as pd\n",
        "\n",
        "import seaborn as sns\n",
        "import matplotlib.pyplot as plt\n",
        "from matplotlib.pyplot import imshow\n",
        "\n",
        "from sklearn.metrics import accuracy_score\n",
        "\n",
        "import time"
      ],
      "metadata": {
        "id": "bUicuO0T9vRt"
      },
      "execution_count": null,
      "outputs": []
    },
    {
      "cell_type": "code",
      "source": [
        "!wget https://github.com/EdwardRaff/Inside-Deep-Learning/raw/main/idlmam.py"
      ],
      "metadata": {
        "id": "j8dfqZhAI7hK"
      },
      "execution_count": null,
      "outputs": []
    },
    {
      "cell_type": "code",
      "source": [
        "import torch\n",
        "import torch.nn as nn\n",
        "import torch.nn.functional as F\n",
        "import torchvision \n",
        "from torchvision import transforms\n",
        "\n",
        "from torch.utils.data import Dataset, DataLoader\n",
        "\n",
        "from idlmam import train_network, Flatten, weight_reset, set_seed\n",
        "from idlmam import LanguageNameDataset, pad_and_pack, EmbeddingPackable, LastTimeStep, LambdaLayer"
      ],
      "metadata": {
        "id": "_9xoD7-8EibG"
      },
      "execution_count": 3,
      "outputs": []
    },
    {
      "cell_type": "code",
      "source": [
        "%matplotlib inline\n",
        "from IPython.display import set_matplotlib_formats\n",
        "set_matplotlib_formats('png', 'pdf')\n",
        "\n",
        "torch.backends.cudnn.deterministic=True\n",
        "set_seed(42)"
      ],
      "metadata": {
        "id": "8U1JNhEmEkzG"
      },
      "execution_count": 4,
      "outputs": []
    },
    {
      "cell_type": "code",
      "source": [
        "device = torch.device(\"cuda\") if torch.cuda.is_available() else torch.device(\"cpu\")"
      ],
      "metadata": {
        "id": "nXiYSSxO707X"
      },
      "execution_count": 5,
      "outputs": []
    },
    {
      "cell_type": "markdown",
      "source": [
        "##Dataset"
      ],
      "metadata": {
        "id": "ycbbAdR0fjAG"
      }
    },
    {
      "cell_type": "markdown",
      "source": [
        "We use the\n",
        "Fashion-MNIST dataset because it is slightly more challenging while retaining the same\n",
        "size and shape as the original MNIST corpus, which will let us accomplish some testing\n",
        "in a reasonable time."
      ],
      "metadata": {
        "id": "dGBbD_ci_DvL"
      }
    },
    {
      "cell_type": "code",
      "source": [
        "B = 128\n",
        "\n",
        "train_data = torchvision.datasets.FashionMNIST(\"./data\", train=True, transform=transforms.ToTensor(), download=True)\n",
        "test_data = torchvision.datasets.FashionMNIST(\"./data\", train=True, transform=transforms.ToTensor(), download=True)\n",
        "\n",
        "training_loader = DataLoader(train_data, batch_size=B, shuffle=True)\n",
        "testing_loader = DataLoader(test_data, batch_size=B)"
      ],
      "metadata": {
        "id": "iQy_V8L791sw"
      },
      "execution_count": null,
      "outputs": []
    },
    {
      "cell_type": "markdown",
      "source": [
        "##Baseline model"
      ],
      "metadata": {
        "id": "cnR7s0KfIhEB"
      }
    },
    {
      "cell_type": "markdown",
      "source": [
        "Let’s define some basic hyperparameters."
      ],
      "metadata": {
        "id": "d_WTbnXEW2bq"
      }
    },
    {
      "cell_type": "code",
      "source": [
        "W, H = 28, 28\n",
        "D = 28 * 28       # input size\n",
        "n = 188           # Hidden layer size\n",
        "C= 1              # How many channels are in the input?\n",
        "n_filters = 32    # filters per convolutional layer\n",
        "classes = 10      # How many classes are there?"
      ],
      "metadata": {
        "id": "qehTRWK_W2mK"
      },
      "execution_count": 7,
      "outputs": []
    },
    {
      "cell_type": "code",
      "source": [
        "fc_model = nn.Sequential(\n",
        "  nn.Flatten(),\n",
        "  nn.Linear(D,  n), \n",
        "  nn.Tanh(), #First hidden layer \n",
        "  #Now that each remaining layer has the same input/output sizes, we can make them with a list unpacking\n",
        "  *[nn.Sequential(nn.Linear(n,  n), nn.Tanh()) for _ in range(5)], \n",
        "  nn.Linear(n, classes),\n",
        ")"
      ],
      "metadata": {
        "id": "iE9KyN7r9e4u"
      },
      "execution_count": 8,
      "outputs": []
    },
    {
      "cell_type": "code",
      "source": [
        "cnn_model = nn.Sequential(\n",
        "  nn.Conv2d(C, n_filters, 3, padding=1),             \n",
        "  nn.Tanh(),\n",
        "  nn.Conv2d(n_filters, n_filters, 3, padding=1),     \n",
        "  nn.Tanh(),\n",
        "  nn.Conv2d(n_filters, n_filters, 3, padding=1),     \n",
        "  nn.Tanh(),\n",
        "  nn.MaxPool2d((2,2)),\n",
        "  \n",
        "  nn.Conv2d(  n_filters, 2*n_filters, 3, padding=1), \n",
        "  nn.Tanh(),\n",
        "  nn.Conv2d(2*n_filters, 2*n_filters, 3, padding=1), \n",
        "  nn.Tanh(),\n",
        "  nn.Conv2d(2*n_filters, 2*n_filters, 3, padding=1), \n",
        "  nn.Tanh(),\n",
        "  nn.MaxPool2d((2,2)),\n",
        "\n",
        "  nn.Conv2d(2*n_filters, 4*n_filters, 3, padding=1), \n",
        "  nn.Tanh(),\n",
        "  nn.Conv2d(4*n_filters, 4*n_filters, 3, padding=1), \n",
        "  nn.Tanh(),\n",
        "\n",
        "  nn.Flatten(),\n",
        "  nn.Linear(D*n_filters//4, classes),\n",
        ")"
      ],
      "metadata": {
        "id": "9wZ8HBT-9ook"
      },
      "execution_count": 9,
      "outputs": []
    },
    {
      "cell_type": "markdown",
      "source": [
        "We use our new train_network function to train all of the models."
      ],
      "metadata": {
        "id": "1F7h6mer-TBI"
      }
    },
    {
      "cell_type": "code",
      "source": [
        "loss_func = nn.CrossEntropyLoss()\n",
        "\n",
        "fc_results = train_network(fc_model, \n",
        "                          loss_func, \n",
        "                          training_loader,\n",
        "                          epochs=10, \n",
        "                          test_loader=testing_loader,\n",
        "                          score_funcs={\"Acc\": accuracy_score},\n",
        "                          device=device)"
      ],
      "metadata": {
        "id": "nFMW50TrN-LY"
      },
      "execution_count": null,
      "outputs": []
    },
    {
      "cell_type": "code",
      "source": [
        "cnn_results = train_network(cnn_model, \n",
        "                          loss_func, \n",
        "                          training_loader,\n",
        "                          epochs=10, \n",
        "                          test_loader=testing_loader,\n",
        "                          score_funcs={\"Acc\": accuracy_score},\n",
        "                          device=device)"
      ],
      "metadata": {
        "id": "Bw7JyvDM_HD4"
      },
      "execution_count": null,
      "outputs": []
    },
    {
      "cell_type": "code",
      "source": [
        "fc_results.head()"
      ],
      "metadata": {
        "colab": {
          "base_uri": "https://localhost:8080/",
          "height": 206
        },
        "id": "GsZgkaolOIwk",
        "outputId": "825542f4-6a93-4fef-801f-16061e1a20e1"
      },
      "execution_count": 12,
      "outputs": [
        {
          "output_type": "execute_result",
          "data": {
            "text/plain": [
              "   epoch  total time  train loss  test loss  train Acc  test Acc\n",
              "0      0   16.723873    0.633577   0.461121   0.766650  0.837750\n",
              "1      1   23.407999    0.434101   0.413325   0.845150  0.849067\n",
              "2      2   32.850896    0.391224   0.358891   0.857450  0.867400\n",
              "3      3   41.744655    0.363648   0.327916   0.868283  0.877617\n",
              "4      4   48.521727    0.346689   0.332774   0.873750  0.883317"
            ],
            "text/html": [
              "\n",
              "  <div id=\"df-15f6968b-4b8b-48c0-b3af-834a5a9711eb\">\n",
              "    <div class=\"colab-df-container\">\n",
              "      <div>\n",
              "<style scoped>\n",
              "    .dataframe tbody tr th:only-of-type {\n",
              "        vertical-align: middle;\n",
              "    }\n",
              "\n",
              "    .dataframe tbody tr th {\n",
              "        vertical-align: top;\n",
              "    }\n",
              "\n",
              "    .dataframe thead th {\n",
              "        text-align: right;\n",
              "    }\n",
              "</style>\n",
              "<table border=\"1\" class=\"dataframe\">\n",
              "  <thead>\n",
              "    <tr style=\"text-align: right;\">\n",
              "      <th></th>\n",
              "      <th>epoch</th>\n",
              "      <th>total time</th>\n",
              "      <th>train loss</th>\n",
              "      <th>test loss</th>\n",
              "      <th>train Acc</th>\n",
              "      <th>test Acc</th>\n",
              "    </tr>\n",
              "  </thead>\n",
              "  <tbody>\n",
              "    <tr>\n",
              "      <th>0</th>\n",
              "      <td>0</td>\n",
              "      <td>16.723873</td>\n",
              "      <td>0.633577</td>\n",
              "      <td>0.461121</td>\n",
              "      <td>0.766650</td>\n",
              "      <td>0.837750</td>\n",
              "    </tr>\n",
              "    <tr>\n",
              "      <th>1</th>\n",
              "      <td>1</td>\n",
              "      <td>23.407999</td>\n",
              "      <td>0.434101</td>\n",
              "      <td>0.413325</td>\n",
              "      <td>0.845150</td>\n",
              "      <td>0.849067</td>\n",
              "    </tr>\n",
              "    <tr>\n",
              "      <th>2</th>\n",
              "      <td>2</td>\n",
              "      <td>32.850896</td>\n",
              "      <td>0.391224</td>\n",
              "      <td>0.358891</td>\n",
              "      <td>0.857450</td>\n",
              "      <td>0.867400</td>\n",
              "    </tr>\n",
              "    <tr>\n",
              "      <th>3</th>\n",
              "      <td>3</td>\n",
              "      <td>41.744655</td>\n",
              "      <td>0.363648</td>\n",
              "      <td>0.327916</td>\n",
              "      <td>0.868283</td>\n",
              "      <td>0.877617</td>\n",
              "    </tr>\n",
              "    <tr>\n",
              "      <th>4</th>\n",
              "      <td>4</td>\n",
              "      <td>48.521727</td>\n",
              "      <td>0.346689</td>\n",
              "      <td>0.332774</td>\n",
              "      <td>0.873750</td>\n",
              "      <td>0.883317</td>\n",
              "    </tr>\n",
              "  </tbody>\n",
              "</table>\n",
              "</div>\n",
              "      <button class=\"colab-df-convert\" onclick=\"convertToInteractive('df-15f6968b-4b8b-48c0-b3af-834a5a9711eb')\"\n",
              "              title=\"Convert this dataframe to an interactive table.\"\n",
              "              style=\"display:none;\">\n",
              "        \n",
              "  <svg xmlns=\"http://www.w3.org/2000/svg\" height=\"24px\"viewBox=\"0 0 24 24\"\n",
              "       width=\"24px\">\n",
              "    <path d=\"M0 0h24v24H0V0z\" fill=\"none\"/>\n",
              "    <path d=\"M18.56 5.44l.94 2.06.94-2.06 2.06-.94-2.06-.94-.94-2.06-.94 2.06-2.06.94zm-11 1L8.5 8.5l.94-2.06 2.06-.94-2.06-.94L8.5 2.5l-.94 2.06-2.06.94zm10 10l.94 2.06.94-2.06 2.06-.94-2.06-.94-.94-2.06-.94 2.06-2.06.94z\"/><path d=\"M17.41 7.96l-1.37-1.37c-.4-.4-.92-.59-1.43-.59-.52 0-1.04.2-1.43.59L10.3 9.45l-7.72 7.72c-.78.78-.78 2.05 0 2.83L4 21.41c.39.39.9.59 1.41.59.51 0 1.02-.2 1.41-.59l7.78-7.78 2.81-2.81c.8-.78.8-2.07 0-2.86zM5.41 20L4 18.59l7.72-7.72 1.47 1.35L5.41 20z\"/>\n",
              "  </svg>\n",
              "      </button>\n",
              "      \n",
              "  <style>\n",
              "    .colab-df-container {\n",
              "      display:flex;\n",
              "      flex-wrap:wrap;\n",
              "      gap: 12px;\n",
              "    }\n",
              "\n",
              "    .colab-df-convert {\n",
              "      background-color: #E8F0FE;\n",
              "      border: none;\n",
              "      border-radius: 50%;\n",
              "      cursor: pointer;\n",
              "      display: none;\n",
              "      fill: #1967D2;\n",
              "      height: 32px;\n",
              "      padding: 0 0 0 0;\n",
              "      width: 32px;\n",
              "    }\n",
              "\n",
              "    .colab-df-convert:hover {\n",
              "      background-color: #E2EBFA;\n",
              "      box-shadow: 0px 1px 2px rgba(60, 64, 67, 0.3), 0px 1px 3px 1px rgba(60, 64, 67, 0.15);\n",
              "      fill: #174EA6;\n",
              "    }\n",
              "\n",
              "    [theme=dark] .colab-df-convert {\n",
              "      background-color: #3B4455;\n",
              "      fill: #D2E3FC;\n",
              "    }\n",
              "\n",
              "    [theme=dark] .colab-df-convert:hover {\n",
              "      background-color: #434B5C;\n",
              "      box-shadow: 0px 1px 3px 1px rgba(0, 0, 0, 0.15);\n",
              "      filter: drop-shadow(0px 1px 2px rgba(0, 0, 0, 0.3));\n",
              "      fill: #FFFFFF;\n",
              "    }\n",
              "  </style>\n",
              "\n",
              "      <script>\n",
              "        const buttonEl =\n",
              "          document.querySelector('#df-15f6968b-4b8b-48c0-b3af-834a5a9711eb button.colab-df-convert');\n",
              "        buttonEl.style.display =\n",
              "          google.colab.kernel.accessAllowed ? 'block' : 'none';\n",
              "\n",
              "        async function convertToInteractive(key) {\n",
              "          const element = document.querySelector('#df-15f6968b-4b8b-48c0-b3af-834a5a9711eb');\n",
              "          const dataTable =\n",
              "            await google.colab.kernel.invokeFunction('convertToInteractive',\n",
              "                                                     [key], {});\n",
              "          if (!dataTable) return;\n",
              "\n",
              "          const docLinkHtml = 'Like what you see? Visit the ' +\n",
              "            '<a target=\"_blank\" href=https://colab.research.google.com/notebooks/data_table.ipynb>data table notebook</a>'\n",
              "            + ' to learn more about interactive tables.';\n",
              "          element.innerHTML = '';\n",
              "          dataTable['output_type'] = 'display_data';\n",
              "          await google.colab.output.renderOutput(dataTable, element);\n",
              "          const docLink = document.createElement('div');\n",
              "          docLink.innerHTML = docLinkHtml;\n",
              "          element.appendChild(docLink);\n",
              "        }\n",
              "      </script>\n",
              "    </div>\n",
              "  </div>\n",
              "  "
            ]
          },
          "metadata": {},
          "execution_count": 12
        }
      ]
    },
    {
      "cell_type": "code",
      "source": [
        "cnn_results.head()"
      ],
      "metadata": {
        "id": "h_1yFTWR_j1e",
        "outputId": "af5bfe76-2a93-48bf-f909-8bbd293ea70b",
        "colab": {
          "base_uri": "https://localhost:8080/",
          "height": 206
        }
      },
      "execution_count": 13,
      "outputs": [
        {
          "output_type": "execute_result",
          "data": {
            "text/plain": [
              "   epoch  total time  train loss  test loss  train Acc  test Acc\n",
              "0      0   19.592823    0.491520   0.315718    0.82165  0.885933\n",
              "1      1   35.176159    0.320271   0.300401    0.88580  0.892483\n",
              "2      2   49.085885    0.283402   0.227856    0.90060  0.918867\n",
              "3      3   61.924005    0.256085   0.238842    0.90905  0.912200\n",
              "4      4   75.079752    0.246041   0.245748    0.91435  0.917450"
            ],
            "text/html": [
              "\n",
              "  <div id=\"df-819eb16b-ad7f-41ff-9eca-df0947cef468\">\n",
              "    <div class=\"colab-df-container\">\n",
              "      <div>\n",
              "<style scoped>\n",
              "    .dataframe tbody tr th:only-of-type {\n",
              "        vertical-align: middle;\n",
              "    }\n",
              "\n",
              "    .dataframe tbody tr th {\n",
              "        vertical-align: top;\n",
              "    }\n",
              "\n",
              "    .dataframe thead th {\n",
              "        text-align: right;\n",
              "    }\n",
              "</style>\n",
              "<table border=\"1\" class=\"dataframe\">\n",
              "  <thead>\n",
              "    <tr style=\"text-align: right;\">\n",
              "      <th></th>\n",
              "      <th>epoch</th>\n",
              "      <th>total time</th>\n",
              "      <th>train loss</th>\n",
              "      <th>test loss</th>\n",
              "      <th>train Acc</th>\n",
              "      <th>test Acc</th>\n",
              "    </tr>\n",
              "  </thead>\n",
              "  <tbody>\n",
              "    <tr>\n",
              "      <th>0</th>\n",
              "      <td>0</td>\n",
              "      <td>19.592823</td>\n",
              "      <td>0.491520</td>\n",
              "      <td>0.315718</td>\n",
              "      <td>0.82165</td>\n",
              "      <td>0.885933</td>\n",
              "    </tr>\n",
              "    <tr>\n",
              "      <th>1</th>\n",
              "      <td>1</td>\n",
              "      <td>35.176159</td>\n",
              "      <td>0.320271</td>\n",
              "      <td>0.300401</td>\n",
              "      <td>0.88580</td>\n",
              "      <td>0.892483</td>\n",
              "    </tr>\n",
              "    <tr>\n",
              "      <th>2</th>\n",
              "      <td>2</td>\n",
              "      <td>49.085885</td>\n",
              "      <td>0.283402</td>\n",
              "      <td>0.227856</td>\n",
              "      <td>0.90060</td>\n",
              "      <td>0.918867</td>\n",
              "    </tr>\n",
              "    <tr>\n",
              "      <th>3</th>\n",
              "      <td>3</td>\n",
              "      <td>61.924005</td>\n",
              "      <td>0.256085</td>\n",
              "      <td>0.238842</td>\n",
              "      <td>0.90905</td>\n",
              "      <td>0.912200</td>\n",
              "    </tr>\n",
              "    <tr>\n",
              "      <th>4</th>\n",
              "      <td>4</td>\n",
              "      <td>75.079752</td>\n",
              "      <td>0.246041</td>\n",
              "      <td>0.245748</td>\n",
              "      <td>0.91435</td>\n",
              "      <td>0.917450</td>\n",
              "    </tr>\n",
              "  </tbody>\n",
              "</table>\n",
              "</div>\n",
              "      <button class=\"colab-df-convert\" onclick=\"convertToInteractive('df-819eb16b-ad7f-41ff-9eca-df0947cef468')\"\n",
              "              title=\"Convert this dataframe to an interactive table.\"\n",
              "              style=\"display:none;\">\n",
              "        \n",
              "  <svg xmlns=\"http://www.w3.org/2000/svg\" height=\"24px\"viewBox=\"0 0 24 24\"\n",
              "       width=\"24px\">\n",
              "    <path d=\"M0 0h24v24H0V0z\" fill=\"none\"/>\n",
              "    <path d=\"M18.56 5.44l.94 2.06.94-2.06 2.06-.94-2.06-.94-.94-2.06-.94 2.06-2.06.94zm-11 1L8.5 8.5l.94-2.06 2.06-.94-2.06-.94L8.5 2.5l-.94 2.06-2.06.94zm10 10l.94 2.06.94-2.06 2.06-.94-2.06-.94-.94-2.06-.94 2.06-2.06.94z\"/><path d=\"M17.41 7.96l-1.37-1.37c-.4-.4-.92-.59-1.43-.59-.52 0-1.04.2-1.43.59L10.3 9.45l-7.72 7.72c-.78.78-.78 2.05 0 2.83L4 21.41c.39.39.9.59 1.41.59.51 0 1.02-.2 1.41-.59l7.78-7.78 2.81-2.81c.8-.78.8-2.07 0-2.86zM5.41 20L4 18.59l7.72-7.72 1.47 1.35L5.41 20z\"/>\n",
              "  </svg>\n",
              "      </button>\n",
              "      \n",
              "  <style>\n",
              "    .colab-df-container {\n",
              "      display:flex;\n",
              "      flex-wrap:wrap;\n",
              "      gap: 12px;\n",
              "    }\n",
              "\n",
              "    .colab-df-convert {\n",
              "      background-color: #E8F0FE;\n",
              "      border: none;\n",
              "      border-radius: 50%;\n",
              "      cursor: pointer;\n",
              "      display: none;\n",
              "      fill: #1967D2;\n",
              "      height: 32px;\n",
              "      padding: 0 0 0 0;\n",
              "      width: 32px;\n",
              "    }\n",
              "\n",
              "    .colab-df-convert:hover {\n",
              "      background-color: #E2EBFA;\n",
              "      box-shadow: 0px 1px 2px rgba(60, 64, 67, 0.3), 0px 1px 3px 1px rgba(60, 64, 67, 0.15);\n",
              "      fill: #174EA6;\n",
              "    }\n",
              "\n",
              "    [theme=dark] .colab-df-convert {\n",
              "      background-color: #3B4455;\n",
              "      fill: #D2E3FC;\n",
              "    }\n",
              "\n",
              "    [theme=dark] .colab-df-convert:hover {\n",
              "      background-color: #434B5C;\n",
              "      box-shadow: 0px 1px 3px 1px rgba(0, 0, 0, 0.15);\n",
              "      filter: drop-shadow(0px 1px 2px rgba(0, 0, 0, 0.3));\n",
              "      fill: #FFFFFF;\n",
              "    }\n",
              "  </style>\n",
              "\n",
              "      <script>\n",
              "        const buttonEl =\n",
              "          document.querySelector('#df-819eb16b-ad7f-41ff-9eca-df0947cef468 button.colab-df-convert');\n",
              "        buttonEl.style.display =\n",
              "          google.colab.kernel.accessAllowed ? 'block' : 'none';\n",
              "\n",
              "        async function convertToInteractive(key) {\n",
              "          const element = document.querySelector('#df-819eb16b-ad7f-41ff-9eca-df0947cef468');\n",
              "          const dataTable =\n",
              "            await google.colab.kernel.invokeFunction('convertToInteractive',\n",
              "                                                     [key], {});\n",
              "          if (!dataTable) return;\n",
              "\n",
              "          const docLinkHtml = 'Like what you see? Visit the ' +\n",
              "            '<a target=\"_blank\" href=https://colab.research.google.com/notebooks/data_table.ipynb>data table notebook</a>'\n",
              "            + ' to learn more about interactive tables.';\n",
              "          element.innerHTML = '';\n",
              "          dataTable['output_type'] = 'display_data';\n",
              "          await google.colab.output.renderOutput(dataTable, element);\n",
              "          const docLink = document.createElement('div');\n",
              "          docLink.innerHTML = docLinkHtml;\n",
              "          element.appendChild(docLink);\n",
              "        }\n",
              "      </script>\n",
              "    </div>\n",
              "  </div>\n",
              "  "
            ]
          },
          "metadata": {},
          "execution_count": 13
        }
      ]
    },
    {
      "cell_type": "markdown",
      "source": [
        "Let’s be explicit and tell Python we are finished so we can get back the GPU memory."
      ],
      "metadata": {
        "id": "fkpoHtVo_kV5"
      }
    },
    {
      "cell_type": "code",
      "source": [
        "del fc_model\n",
        "del cnn_model"
      ],
      "metadata": {
        "id": "1zlox4mE_k83"
      },
      "execution_count": 14,
      "outputs": []
    },
    {
      "cell_type": "code",
      "source": [
        "sns.lineplot(x=\"epoch\", y=\"train Acc\", data=fc_results, label=\"Fully Connected\")\n",
        "sns.lineplot(x=\"epoch\", y=\"train Acc\", data=cnn_results, label=\"CNN\")"
      ],
      "metadata": {
        "colab": {
          "base_uri": "https://localhost:8080/",
          "height": 296
        },
        "id": "sy8pGfRqOJK6",
        "outputId": "9a86dec4-1ffb-4ee5-84b9-73dc5c8dd8d7"
      },
      "execution_count": 15,
      "outputs": [
        {
          "output_type": "execute_result",
          "data": {
            "text/plain": [
              "<matplotlib.axes._subplots.AxesSubplot at 0x7f0da04a8bd0>"
            ]
          },
          "metadata": {},
          "execution_count": 15
        },
        {
          "output_type": "display_data",
          "data": {
            "text/plain": [
              "<Figure size 432x288 with 1 Axes>"
            ],
            "image/png": "[encoded data removed]",
            "application/pdf": "[encoded data removed]"
          },
          "metadata": {
            "needs_background": "light"
          }
        }
      ]
    },
    {
      "cell_type": "code",
      "source": [
        "sns.lineplot(x=\"epoch\", y=\"test Acc\", data=fc_results, label=\"Fully Connected\")\n",
        "sns.lineplot(x=\"epoch\", y=\"test Acc\", data=cnn_results, label=\"CNN\")"
      ],
      "metadata": {
        "colab": {
          "base_uri": "https://localhost:8080/",
          "height": 296
        },
        "id": "EcAm7eM9Q1yG",
        "outputId": "96b56efa-e539-4cc7-ba80-0b65a157698f"
      },
      "execution_count": 16,
      "outputs": [
        {
          "output_type": "execute_result",
          "data": {
            "text/plain": [
              "<matplotlib.axes._subplots.AxesSubplot at 0x7f0da0633a50>"
            ]
          },
          "metadata": {},
          "execution_count": 16
        },
        {
          "output_type": "display_data",
          "data": {
            "text/plain": [
              "<Figure size 432x288 with 1 Axes>"
            ],
            "image/png": "[encoded data removed]",
            "application/pdf": "[encoded data removed]"
          },
          "metadata": {
            "needs_background": "light"
          }
        }
      ]
    },
    {
      "cell_type": "markdown",
      "source": [
        "##ReLU Baseline"
      ],
      "metadata": {
        "id": "EbRW2z00DIDO"
      }
    },
    {
      "cell_type": "code",
      "source": [
        "# How much I want the LeakyReLU to \"leak\" by. Anything in [0.01, 0.3] would have been fine.\n",
        "leak_rate = 0.1\n",
        "\n",
        "fc_relu_model = nn.Sequential(\n",
        "  nn.Flatten(),\n",
        "  nn.Linear(D,  n), \n",
        "  nn.LeakyReLU(leak_rate), \n",
        "  #Now that each remaining layer has the same input/output sizes, we can make them with a list unpacking\n",
        "  *[nn.Sequential(nn.Linear(n,  n), nn.LeakyReLU(leak_rate)) for _ in range(5)], \n",
        "  nn.Linear(n, classes),\n",
        ")"
      ],
      "metadata": {
        "id": "nXg1qkZCDUB-"
      },
      "execution_count": 17,
      "outputs": []
    },
    {
      "cell_type": "code",
      "source": [
        "def cnn_layer(in_filters, out_filters=None, kernel_size=3):\n",
        "  \"\"\"\n",
        "  in_filters: how many channels are coming into the layer\n",
        "  out_filters: how many channels this layer should learn / output, or `None` if we want to have the same number of channels as the input.\n",
        "  kernel_size: how large the kernel should be\n",
        "  \"\"\"\n",
        "  if out_filters is None:\n",
        "    # This is a common pattern, so lets automate it as a default if not asked\n",
        "    out_filters = in_filters \n",
        "  # padding to stay the same size\n",
        "  padding = kernel_size // 2\n",
        "  # Combine the layer and activation into a single unit\n",
        "  return nn.Sequential(\n",
        "    nn.Conv2d(in_filters, out_filters, kernel_size, padding=padding),\n",
        "    nn.LeakyReLU(leak_rate)\n",
        "  )"
      ],
      "metadata": {
        "id": "syemyZWqDatp"
      },
      "execution_count": 18,
      "outputs": []
    },
    {
      "cell_type": "code",
      "source": [
        "cnn_relu_model = nn.Sequential(\n",
        "  cnn_layer(C, n_filters),\n",
        "  cnn_layer(n_filters),\n",
        "  cnn_layer(n_filters),\n",
        "  nn.MaxPool2d((2,2)),\n",
        "  \n",
        "  cnn_layer(n_filters, 2 * n_filters),\n",
        "  cnn_layer(2 * n_filters),\n",
        "  cnn_layer(2 * n_filters),\n",
        "  nn.MaxPool2d((2,2)),\n",
        "\n",
        "  cnn_layer(2 * n_filters, 4 * n_filters),\n",
        "  cnn_layer(4 * n_filters),\n",
        "\n",
        "  nn.Flatten(),\n",
        "  nn.Linear(D*n_filters//4, classes),\n",
        ")"
      ],
      "metadata": {
        "id": "Ui4Hs6fsDdEt"
      },
      "execution_count": 19,
      "outputs": []
    },
    {
      "cell_type": "code",
      "source": [
        "fc_relu_results = train_network(fc_relu_model, \n",
        "                          loss_func, \n",
        "                          training_loader,\n",
        "                          epochs=10, \n",
        "                          test_loader=testing_loader,\n",
        "                          score_funcs={\"Acc\": accuracy_score},\n",
        "                          device=device)\n",
        "del fc_relu_model"
      ],
      "metadata": {
        "id": "CjLd0cpJDfeJ"
      },
      "execution_count": null,
      "outputs": []
    },
    {
      "cell_type": "code",
      "source": [
        "cnn_relu_results = train_network(cnn_relu_model, \n",
        "                          loss_func, \n",
        "                          training_loader,\n",
        "                          epochs=10, \n",
        "                          test_loader=testing_loader,\n",
        "                          score_funcs={\"Acc\": accuracy_score},\n",
        "                          device=device)\n",
        "del cnn_relu_model"
      ],
      "metadata": {
        "id": "RwBCn0ZoDf52"
      },
      "execution_count": null,
      "outputs": []
    },
    {
      "cell_type": "code",
      "source": [
        "sns.lineplot(x=\"epoch\", y=\"test Acc\", data=fc_results, label=\"FC\")\n",
        "sns.lineplot(x=\"epoch\", y=\"test Acc\", data=fc_relu_results, label=\"FC-ReLU\")\n",
        "sns.lineplot(x=\"epoch\", y=\"test Acc\", data=cnn_results, label=\"CNN\")\n",
        "sns.lineplot(x=\"epoch\", y=\"test Acc\", data=cnn_relu_results, label=\"CNN-ReLU\")"
      ],
      "metadata": {
        "colab": {
          "base_uri": "https://localhost:8080/",
          "height": 296
        },
        "id": "GeFJhkd5Dh3M",
        "outputId": "1945dc5f-0fa1-4e1b-bb56-c890d2dc47e6"
      },
      "execution_count": 22,
      "outputs": [
        {
          "output_type": "execute_result",
          "data": {
            "text/plain": [
              "<matplotlib.axes._subplots.AxesSubplot at 0x7f0d22b82210>"
            ]
          },
          "metadata": {},
          "execution_count": 22
        },
        {
          "output_type": "display_data",
          "data": {
            "text/plain": [
              "<Figure size 432x288 with 1 Axes>"
            ],
            "image/png": "[encoded data removed]",
            "application/pdf": "[encoded data removed]"
          },
          "metadata": {
            "needs_background": "light"
          }
        }
      ]
    },
    {
      "cell_type": "markdown",
      "source": [
        "##Batch Normalization Baseline"
      ],
      "metadata": {
        "id": "AT2D-lmvBN05"
      }
    },
    {
      "cell_type": "code",
      "source": [
        "fc_bn_model = nn.Sequential(\n",
        "  nn.Flatten(),\n",
        "  nn.Linear(D, n), \n",
        "  nn.BatchNorm1d(n),\n",
        "  nn.LeakyReLU(leak_rate), \n",
        "  #Now that each remaining layer has the same input/output sizes, we can make them with a list unpacking\n",
        "  *[nn.Sequential(nn.Linear(n, n), nn.BatchNorm1d(n), nn.LeakyReLU(leak_rate)) for _ in range(5)], \n",
        "  nn.Linear(n, classes),\n",
        ")"
      ],
      "metadata": {
        "id": "tvT0PJvpL3Rp"
      },
      "execution_count": 23,
      "outputs": []
    },
    {
      "cell_type": "code",
      "source": [
        "def cnn_layer(in_filters, out_filters=None, kernel_size=3):\n",
        "  \"\"\"\n",
        "  in_filters: how many channels are coming into the layer\n",
        "  out_filters: how many channels this layer should learn / output, or `None` if we want to have the same number of channels as the input.\n",
        "  kernel_size: how large the kernel should be\n",
        "  \"\"\"\n",
        "  if out_filters is None:\n",
        "    # This is a common pattern, so lets automate it as a default if not asked\n",
        "    out_filters = in_filters \n",
        "  # padding to stay the same size\n",
        "  padding = kernel_size // 2\n",
        "  # Combine the layer and activation into a single unit\n",
        "  return nn.Sequential(\n",
        "    nn.Conv2d(in_filters, out_filters, kernel_size, padding=padding),\n",
        "    nn.BatchNorm2d(out_filters),  # The only change: adding BatchNorm2d after our convolution\n",
        "    nn.LeakyReLU(leak_rate)\n",
        "  )"
      ],
      "metadata": {
        "id": "RKKDo8BBMrCF"
      },
      "execution_count": 24,
      "outputs": []
    },
    {
      "cell_type": "code",
      "source": [
        "cnn_bn_model = nn.Sequential(\n",
        "  cnn_layer(C, n_filters),\n",
        "  cnn_layer(n_filters),\n",
        "  cnn_layer(n_filters),\n",
        "  nn.MaxPool2d((2,2)),\n",
        "  \n",
        "  cnn_layer(n_filters, 2 * n_filters),\n",
        "  cnn_layer(2 * n_filters),\n",
        "  cnn_layer(2 * n_filters),\n",
        "  nn.MaxPool2d((2,2)),\n",
        "\n",
        "  cnn_layer(2 * n_filters, 4 * n_filters),\n",
        "  cnn_layer(4 * n_filters),\n",
        "\n",
        "  nn.Flatten(),\n",
        "  nn.Linear(D*n_filters//4, classes),\n",
        ")"
      ],
      "metadata": {
        "id": "q33ladI1R2wo"
      },
      "execution_count": 25,
      "outputs": []
    },
    {
      "cell_type": "markdown",
      "source": [
        "We are ready to train both models."
      ],
      "metadata": {
        "id": "PppT0Nt-Tvgx"
      }
    },
    {
      "cell_type": "code",
      "source": [
        "fc_bn_results = train_network(fc_bn_model, \n",
        "                          loss_func, \n",
        "                          training_loader,\n",
        "                          epochs=10, \n",
        "                          test_loader=testing_loader,\n",
        "                          score_funcs={\"Acc\": accuracy_score},\n",
        "                          device=device)\n",
        "del fc_bn_model"
      ],
      "metadata": {
        "id": "FI9xJyFVTv6-"
      },
      "execution_count": null,
      "outputs": []
    },
    {
      "cell_type": "code",
      "source": [
        "cnn_bn_results = train_network(cnn_bn_model, \n",
        "                          loss_func, \n",
        "                          training_loader,\n",
        "                          epochs=10, \n",
        "                          test_loader=testing_loader,\n",
        "                          score_funcs={\"Acc\": accuracy_score},\n",
        "                          device=device)\n",
        "del cnn_bn_model"
      ],
      "metadata": {
        "id": "ZROakzURT3rL"
      },
      "execution_count": null,
      "outputs": []
    },
    {
      "cell_type": "markdown",
      "source": [
        "Let’s compare it with baseline model."
      ],
      "metadata": {
        "id": "7vPdYENAVVpw"
      }
    },
    {
      "cell_type": "code",
      "source": [
        "sns.lineplot(x=\"epoch\", y=\"test Acc\", data=fc_relu_results, label=\"FC-ReLU\")\n",
        "sns.lineplot(x=\"epoch\", y=\"test Acc\", data=fc_bn_results, label=\"FC-ReLU-BN\")\n",
        "sns.lineplot(x=\"epoch\", y=\"test Acc\", data=cnn_relu_results, label=\"CNN-ReLU\")\n",
        "sns.lineplot(x=\"epoch\", y=\"test Acc\", data=cnn_bn_results, label=\"CNN-ReLU-BN\")"
      ],
      "metadata": {
        "id": "8znwm8MFT4MN",
        "outputId": "f5c94ae8-9b76-4a89-bba8-ec5c90bf8701",
        "colab": {
          "base_uri": "https://localhost:8080/",
          "height": 296
        }
      },
      "execution_count": 28,
      "outputs": [
        {
          "output_type": "execute_result",
          "data": {
            "text/plain": [
              "<matplotlib.axes._subplots.AxesSubplot at 0x7f0d22bb5450>"
            ]
          },
          "metadata": {},
          "execution_count": 28
        },
        {
          "output_type": "display_data",
          "data": {
            "text/plain": [
              "<Figure size 432x288 with 1 Axes>"
            ],
            "image/png": "[encoded data removed]",
            "application/pdf": "[encoded data removed]"
          },
          "metadata": {
            "needs_background": "light"
          }
        }
      ]
    },
    {
      "cell_type": "markdown",
      "source": [
        "##Skip connections"
      ],
      "metadata": {
        "id": "TGaGba-QEkRM"
      }
    },
    {
      "cell_type": "markdown",
      "source": [
        "With a normal feed-forward network, an output from one layer\n",
        "goes directly to the next layer. \n",
        "\n",
        "With skip connections, this is still true, but we also “skip”\n",
        "the next layer and connect to a preceding layer as well.\n",
        "\n",
        "Why use skip connections? \n",
        "\n",
        "Part of the intuition is that skip connections can make\n",
        "the optimization process easier. \n",
        "\n",
        "Said another way, skip connections can shrink the gap\n",
        "between a network’s capacity (what it could represent) and what it can learn (what it learns to represent).\n",
        "\n",
        "Every hidden layer gets some amount of\n",
        "information about the gradient directly from the output layer, giving more direct access\n",
        "to the gradient, and the gradient is also processed from the longer path going layer by\n",
        "layer. \n",
        "\n",
        "This more direct feedback can make learning easier. It can also have benefits for certain applications that require high- and low-level details."
      ],
      "metadata": {
        "id": "5a0Mpd93Epn-"
      }
    },
    {
      "cell_type": "code",
      "source": [
        "class FullySkipConnection(nn.Module):\n",
        "  def __init__(self, n_layers, in_size, out_size, leak_rate=0.1):\n",
        "    \"\"\"\n",
        "    n_layers: how many hidden layers for this block of dense skip connections\n",
        "    in_size: how many features are coming into this layer\n",
        "    out_size: how many features should be used for the final layer of this block.  \n",
        "    leak_rate: the parameter for the LeakyReLU activation function.\n",
        "    \"\"\"\n",
        "    super().__init__()\n",
        "\n",
        "    # The final layer will be treated differently, so lets grab it's index to use in the next two lines\n",
        "    layer = n_layers - 1\n",
        "    # The linear and batch norm layers are stored in `layers` and `bns` respectively. A list comprehensive creates all the layers in one line each.\n",
        "    self.layers = nn.ModuleList([\n",
        "      nn.Linear(in_size * layer, out_size) \n",
        "      if i == layer else nn.Linear(in_size, in_size) \n",
        "      for i in range(n_layers)\n",
        "    ])\n",
        "    self.batch_norm = nn.ModuleList([\n",
        "      nn.BatchNorm1d(out_size) \n",
        "      if i == layer else nn.BatchNorm1d(in_size) \n",
        "      for i in range(n_layers)\n",
        "    ])\n",
        "    # Since we are writing our own `forward` function instead of using nn.Sequential, we can just use one activation object multiple time\n",
        "    self.activation = nn.LeakyReLU(leak_rate)\n",
        "\n",
        "  def forward(self, x):\n",
        "    # need a location to store the activations from every layer\n",
        "    activations = []\n",
        "\n",
        "    # zip the linear and normalization layers into paired tuples, using [:-1] to select all but the last item in each list\n",
        "    for layer, batch_norm in zip(self.layers[:-1], self.batch_norm[:-1]):\n",
        "      x = self.activation(batch_norm(layer(x)))\n",
        "      activations.append(x)\n",
        "\n",
        "    # concatenate the activations together, this makes the input for the last layer\n",
        "    x = torch.cat(activations, dim=1)\n",
        "\n",
        "    # Now manually use the last linear and batch-norm layer on this concatenated input, giving us the result\n",
        "    return self.activation(self.batch_norm[-1](self.layers[-1](x)))"
      ],
      "metadata": {
        "id": "AOml6ItHRggH"
      },
      "execution_count": 29,
      "outputs": []
    },
    {
      "cell_type": "markdown",
      "source": [
        "A PyTorch module defining a class for creating skip connections. It will create one larger block of multiple layers in a “dense” style skip connection, containing `n_layers` total. \n",
        "\n",
        "It is used on its own it can create dense networks, or used sequentially it can create staggered skip connections."
      ],
      "metadata": {
        "id": "XrxxWhCXWmoZ"
      }
    },
    {
      "cell_type": "code",
      "source": [
        "fc_skip_model = nn.Sequential(\n",
        "  nn.Flatten(),\n",
        "  FullySkipConnection(2, D, n), \n",
        "  FullySkipConnection(2, n, n),\n",
        "  FullySkipConnection(2, n, n), \n",
        "  nn.Linear(n, classes),\n",
        ")"
      ],
      "metadata": {
        "id": "4WiuhYPhEeyL"
      },
      "execution_count": 30,
      "outputs": []
    },
    {
      "cell_type": "code",
      "source": [
        "fc_skip_results = train_network(fc_skip_model, \n",
        "                          loss_func, \n",
        "                          training_loader,\n",
        "                          epochs=10, \n",
        "                          test_loader=testing_loader,\n",
        "                          score_funcs={\"Acc\": accuracy_score},\n",
        "                          device=device)\n",
        "del fc_skip_model"
      ],
      "metadata": {
        "id": "hTgmku7JX5oe"
      },
      "execution_count": null,
      "outputs": []
    },
    {
      "cell_type": "markdown",
      "source": [
        "Let's plot only the fully connected networks we have trained so far."
      ],
      "metadata": {
        "id": "1qTZIceAYKrk"
      }
    },
    {
      "cell_type": "code",
      "source": [
        "sns.lineplot(x=\"epoch\", y=\"test Acc\", data=fc_relu_results, label=\"FC-ReLU\")\n",
        "sns.lineplot(x=\"epoch\", y=\"test Acc\", data=fc_bn_results, label=\"FC-ReLU-BN\")\n",
        "sns.lineplot(x=\"epoch\", y=\"test Acc\", data=fc_skip_results, label=\"FC-ReLU-BN-Skip\")"
      ],
      "metadata": {
        "colab": {
          "base_uri": "https://localhost:8080/",
          "height": 296
        },
        "id": "25Es7rd0YMCR",
        "outputId": "ae7d1ba6-cf4b-4a61-e858-48c30a05cc22"
      },
      "execution_count": 32,
      "outputs": [
        {
          "output_type": "execute_result",
          "data": {
            "text/plain": [
              "<matplotlib.axes._subplots.AxesSubplot at 0x7f0da06336d0>"
            ]
          },
          "metadata": {},
          "execution_count": 32
        },
        {
          "output_type": "display_data",
          "data": {
            "text/plain": [
              "<Figure size 432x288 with 1 Axes>"
            ],
            "image/png": "[encoded data removed]",
            "application/pdf": "[encoded data removed]"
          },
          "metadata": {
            "needs_background": "light"
          }
        }
      ]
    },
    {
      "cell_type": "markdown",
      "source": [
        "Part of the issue is that skip connections were\n",
        "more effective on their own before normalization layers were invented to help tackle the same problem. \n",
        "\n",
        "Since our networks both have BN, the skip connections are a little\n",
        "redundant."
      ],
      "metadata": {
        "id": "buWRSErMFc_Q"
      }
    },
    {
      "cell_type": "markdown",
      "source": [
        "##Convolutional Skip connections"
      ],
      "metadata": {
        "id": "GQu3gspCZqVA"
      }
    },
    {
      "cell_type": "markdown",
      "source": [
        "Now, let’s\n",
        "repeat this exercise for the convolutional network."
      ],
      "metadata": {
        "id": "DYAPMmmvZ9CM"
      }
    },
    {
      "cell_type": "code",
      "source": [
        "class ConvSkipConnection(nn.Module):\n",
        "  def __init__(self, n_layers, in_channels, out_channels, kernel_size=3, leak_rate=0.1):\n",
        "    super().__init__()\n",
        "\n",
        "    # The last convolution will have a different number of inputs and output channels, so we still need that index\n",
        "    layer = n_layers - 1\n",
        "    # this is just simple helper values\n",
        "    f = (kernel_size, kernel_size)\n",
        "    pad = (kernel_size - 1) // 2\n",
        "\n",
        "    # The linear and batch norm layers are stored in `layers` and `bns` respectively. A list comprehensive creates all the layers in one line each.\n",
        "    self.layers = nn.ModuleList([\n",
        "      nn.Conv2d(in_channels * layer, out_channels, kernel_size=f, padding=pad) \n",
        "      if i == layer else nn.Conv2d(in_channels, in_channels, kernel_size=f, padding=pad) \n",
        "      for i in range(n_layers)\n",
        "    ])\n",
        "    self.batch_norm = nn.ModuleList([\n",
        "      nn.BatchNorm2d(out_channels) \n",
        "      if i == layer else nn.BatchNorm2d(in_channels) \n",
        "      for i in range(n_layers)\n",
        "    ])\n",
        "    # Since we are writing our own `forward` function instead of using nn.Sequential, we can just use one activation object multiple time\n",
        "    self.activation = nn.LeakyReLU(leak_rate)\n",
        "\n",
        "  def forward(self, x):\n",
        "    # need a location to store the activations from every layer\n",
        "    activations = []\n",
        "\n",
        "    # zip the linear and normalization layers into paired tuples, using [:-1] to select all but the last item in each list\n",
        "    for layer, batch_norm in zip(self.layers[:-1], self.batch_norm[:-1]):\n",
        "      x = self.activation(batch_norm(layer(x)))\n",
        "      activations.append(x)\n",
        "\n",
        "    # concatenate the activations together, this makes the input for the last layer\n",
        "    x = torch.cat(activations, dim=1)\n",
        "\n",
        "    # Now manually use the last linear and batch-norm layer on this concatenated input, giving us the result\n",
        "    return self.activation(self.batch_norm[-1](self.layers[-1](x)))"
      ],
      "metadata": {
        "id": "dhoiHlKlFCbN"
      },
      "execution_count": 36,
      "outputs": []
    },
    {
      "cell_type": "markdown",
      "source": [
        "But there is a significant\n",
        "problem: our input has only three channels. That’s too few for the network to learn something useful. \n",
        "\n",
        "To fix that, we insert a single Conv2d layer at the start with no activation\n",
        "function. \n",
        "\n",
        "This makes it mathematically redundant, but our code is easier to organize\n",
        "because SkipConv2d starts constructing a larger set of filters."
      ],
      "metadata": {
        "id": "U7hIV0waF8-C"
      }
    },
    {
      "cell_type": "code",
      "source": [
        "cnn_skip_model = nn.Sequential(\n",
        "  nn.Conv2d(C, n_filters, (3, 3), padding=1),\n",
        "  ConvSkipConnection(3, n_filters, 2 * n_filters),\n",
        "  nn.MaxPool2d((2,2)),\n",
        "  nn.LeakyReLU(),\n",
        "  \n",
        "  ConvSkipConnection(3, 2 * n_filters, 4 * n_filters),\n",
        "  nn.MaxPool2d((2,2)),\n",
        "\n",
        "  ConvSkipConnection(2, 4 * n_filters, 4 * n_filters),\n",
        "\n",
        "  nn.Flatten(),\n",
        "  nn.Linear(D*n_filters//4, classes),\n",
        ")"
      ],
      "metadata": {
        "id": "21Oxk5c2G8gY"
      },
      "execution_count": 37,
      "outputs": []
    },
    {
      "cell_type": "code",
      "source": [
        "cnn_skip_results = train_network(cnn_skip_model, \n",
        "                          loss_func, \n",
        "                          training_loader,\n",
        "                          epochs=10, \n",
        "                          test_loader=testing_loader,\n",
        "                          score_funcs={\"Acc\": accuracy_score},\n",
        "                          device=device)\n",
        "del cnn_skip_model"
      ],
      "metadata": {
        "id": "YLfGNM3hHrzL"
      },
      "execution_count": null,
      "outputs": []
    },
    {
      "cell_type": "markdown",
      "source": [
        "Let’s plot the results with CNN relu, BN, and skip connections based models."
      ],
      "metadata": {
        "id": "NOMqqBzoKty8"
      }
    },
    {
      "cell_type": "code",
      "source": [
        "sns.lineplot(x=\"epoch\", y=\"test Acc\", data=cnn_relu_results, label=\"CNN-ReLU\")\n",
        "sns.lineplot(x=\"epoch\", y=\"test Acc\", data=cnn_bn_results, label=\"CNN-ReLU-BN\")\n",
        "sns.lineplot(x=\"epoch\", y=\"test Acc\", data=cnn_skip_results, label=\"CNN-ReLU-BN-Skip\")"
      ],
      "metadata": {
        "id": "eSpAJozjKpoi",
        "outputId": "a400e9c1-991f-4196-f7c1-449e602b6941",
        "colab": {
          "base_uri": "https://localhost:8080/",
          "height": 296
        }
      },
      "execution_count": 39,
      "outputs": [
        {
          "output_type": "execute_result",
          "data": {
            "text/plain": [
              "<matplotlib.axes._subplots.AxesSubplot at 0x7f0da0afab90>"
            ]
          },
          "metadata": {},
          "execution_count": 39
        },
        {
          "output_type": "display_data",
          "data": {
            "text/plain": [
              "<Figure size 432x288 with 1 Axes>"
            ],
            "image/png": "[encoded data removed]",
            "application/pdf": "[encoded data removed]"
          },
          "metadata": {
            "needs_background": "light"
          }
        }
      ]
    },
    {
      "cell_type": "markdown",
      "source": [
        "In practical experience, skip connections can\n",
        "sometimes make a big difference on their own, but it’s very problem-dependent. \n",
        "\n",
        "So why are we learning about them? \n",
        "\n",
        "Combined with one more trick, skip connections form\n",
        "one of the basic building blocks of a more powerful and routinely successful technique\n",
        "called a **residual layer** that is reliably more effective.\n",
        "\n"
      ],
      "metadata": {
        "id": "IR952PZdLQW7"
      }
    }
  ]
}