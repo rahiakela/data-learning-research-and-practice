{
  "nbformat": 4,
  "nbformat_minor": 0,
  "metadata": {
    "colab": {
      "name": "02-batch-and-layer-normalization.ipynb",
      "provenance": [],
      "toc_visible": true,
      "authorship_tag": "ABX9TyM/yqGqejETuCsg1oenW+24",
      "include_colab_link": true
    },
    "kernelspec": {
      "name": "python3",
      "display_name": "Python 3"
    },
    "language_info": {
      "name": "python"
    },
    "accelerator": "GPU",
    "gpuClass": "standard"
  },
  "cells": [
    {
      "cell_type": "markdown",
      "metadata": {
        "id": "view-in-github",
        "colab_type": "text"
      },
      "source": [
        "<a href=\"https://colab.research.google.com/github/rahiakela/deep-learning-research-and-practice/blob/main/inside-deep-learing/06-common-design-building-blocks/02_batch_and_layer_normalization.ipynb\" target=\"_parent\"><img src=\"https://colab.research.google.com/assets/colab-badge.svg\" alt=\"Open In Colab\"/></a>"
      ]
    },
    {
      "cell_type": "markdown",
      "source": [
        "##Batch/Layer Normalization"
      ],
      "metadata": {
        "id": "ldjKkwDE9r9p"
      }
    },
    {
      "cell_type": "markdown",
      "source": [
        "We will discuss five new methods that work for feed-forward models and\n",
        "one new improvement to RNNs. We introduce the first five methods roughly in the\n",
        "order that they were invented, as each tends to use the preceding techniques in their\n",
        "design. \n",
        "\n",
        "Individually, they improve accuracy and speed up training; but combined, they\n",
        "are greater than the sum of their parts.\n",
        "\n",
        "1. Better activation function\n",
        "2. Batch/Layer normalization\n",
        "3. Skip connections and 1 x 1 convolution\n",
        "4. Residual connections\n",
        "5. Long short-term memory (LSTM) layer"
      ],
      "metadata": {
        "id": "tFXQb6wufLVZ"
      }
    },
    {
      "cell_type": "markdown",
      "source": [
        "##Setup"
      ],
      "metadata": {
        "id": "Ju6nJVQUfX5-"
      }
    },
    {
      "cell_type": "code",
      "source": [
        "from tqdm.autonotebook import tqdm\n",
        "\n",
        "import numpy as np\n",
        "import pandas as pd\n",
        "\n",
        "import seaborn as sns\n",
        "import matplotlib.pyplot as plt\n",
        "from matplotlib.pyplot import imshow\n",
        "\n",
        "from sklearn.metrics import accuracy_score\n",
        "\n",
        "import time"
      ],
      "metadata": {
        "id": "bUicuO0T9vRt"
      },
      "execution_count": null,
      "outputs": []
    },
    {
      "cell_type": "code",
      "source": [
        "!wget https://github.com/EdwardRaff/Inside-Deep-Learning/raw/main/idlmam.py"
      ],
      "metadata": {
        "id": "j8dfqZhAI7hK"
      },
      "execution_count": null,
      "outputs": []
    },
    {
      "cell_type": "code",
      "source": [
        "import torch\n",
        "import torch.nn as nn\n",
        "import torch.nn.functional as F\n",
        "import torchvision \n",
        "from torchvision import transforms\n",
        "\n",
        "from torch.utils.data import Dataset, DataLoader\n",
        "\n",
        "from idlmam import train_network, Flatten, weight_reset, set_seed\n",
        "from idlmam import LanguageNameDataset, pad_and_pack, EmbeddingPackable, LastTimeStep, LambdaLayer"
      ],
      "metadata": {
        "id": "_9xoD7-8EibG"
      },
      "execution_count": 3,
      "outputs": []
    },
    {
      "cell_type": "code",
      "source": [
        "%matplotlib inline\n",
        "from IPython.display import set_matplotlib_formats\n",
        "set_matplotlib_formats('png', 'pdf')\n",
        "\n",
        "torch.backends.cudnn.deterministic=True\n",
        "set_seed(42)"
      ],
      "metadata": {
        "id": "8U1JNhEmEkzG"
      },
      "execution_count": 4,
      "outputs": []
    },
    {
      "cell_type": "code",
      "source": [
        "device = torch.device(\"cuda\") if torch.cuda.is_available() else torch.device(\"cpu\")"
      ],
      "metadata": {
        "id": "nXiYSSxO707X"
      },
      "execution_count": 5,
      "outputs": []
    },
    {
      "cell_type": "markdown",
      "source": [
        "##Dataset"
      ],
      "metadata": {
        "id": "ycbbAdR0fjAG"
      }
    },
    {
      "cell_type": "markdown",
      "source": [
        "We use the\n",
        "Fashion-MNIST dataset because it is slightly more challenging while retaining the same\n",
        "size and shape as the original MNIST corpus, which will let us accomplish some testing\n",
        "in a reasonable time."
      ],
      "metadata": {
        "id": "dGBbD_ci_DvL"
      }
    },
    {
      "cell_type": "code",
      "source": [
        "B = 128\n",
        "\n",
        "train_data = torchvision.datasets.FashionMNIST(\"./data\", train=True, transform=transforms.ToTensor(), download=True)\n",
        "test_data = torchvision.datasets.FashionMNIST(\"./data\", train=True, transform=transforms.ToTensor(), download=True)\n",
        "\n",
        "training_loader = DataLoader(train_data, batch_size=B, shuffle=True)\n",
        "testing_loader = DataLoader(test_data, batch_size=B)"
      ],
      "metadata": {
        "id": "iQy_V8L791sw"
      },
      "execution_count": null,
      "outputs": []
    },
    {
      "cell_type": "markdown",
      "source": [
        "##Baseline model"
      ],
      "metadata": {
        "id": "cnR7s0KfIhEB"
      }
    },
    {
      "cell_type": "markdown",
      "source": [
        "Let’s define some basic hyperparameters."
      ],
      "metadata": {
        "id": "d_WTbnXEW2bq"
      }
    },
    {
      "cell_type": "code",
      "source": [
        "W, H = 28, 28\n",
        "D = 28 * 28       # input size\n",
        "n = 188           # Hidden layer size\n",
        "C= 1              # How many channels are in the input?\n",
        "n_filters = 32    # filters per convolutional layer\n",
        "classes = 10      # How many classes are there?"
      ],
      "metadata": {
        "id": "qehTRWK_W2mK"
      },
      "execution_count": 7,
      "outputs": []
    },
    {
      "cell_type": "code",
      "source": [
        "fc_model = nn.Sequential(\n",
        "  nn.Flatten(),\n",
        "  nn.Linear(D,  n), \n",
        "  nn.Tanh(), #First hidden layer \n",
        "  #Now that each remaining layer has the same input/output sizes, we can make them with a list unpacking\n",
        "  *[nn.Sequential(nn.Linear(n,  n), nn.Tanh()) for _ in range(5)], \n",
        "  nn.Linear(n, classes),\n",
        ")"
      ],
      "metadata": {
        "id": "iE9KyN7r9e4u"
      },
      "execution_count": 8,
      "outputs": []
    },
    {
      "cell_type": "code",
      "source": [
        "cnn_model = nn.Sequential(\n",
        "  nn.Conv2d(C, n_filters, 3, padding=1),             \n",
        "  nn.Tanh(),\n",
        "  nn.Conv2d(n_filters, n_filters, 3, padding=1),     \n",
        "  nn.Tanh(),\n",
        "  nn.Conv2d(n_filters, n_filters, 3, padding=1),     \n",
        "  nn.Tanh(),\n",
        "  nn.MaxPool2d((2,2)),\n",
        "  \n",
        "  nn.Conv2d(  n_filters, 2*n_filters, 3, padding=1), \n",
        "  nn.Tanh(),\n",
        "  nn.Conv2d(2*n_filters, 2*n_filters, 3, padding=1), \n",
        "  nn.Tanh(),\n",
        "  nn.Conv2d(2*n_filters, 2*n_filters, 3, padding=1), \n",
        "  nn.Tanh(),\n",
        "  nn.MaxPool2d((2,2)),\n",
        "\n",
        "  nn.Conv2d(2*n_filters, 4*n_filters, 3, padding=1), \n",
        "  nn.Tanh(),\n",
        "  nn.Conv2d(4*n_filters, 4*n_filters, 3, padding=1), \n",
        "  nn.Tanh(),\n",
        "\n",
        "  nn.Flatten(),\n",
        "  nn.Linear(D*n_filters//4, classes),\n",
        ")"
      ],
      "metadata": {
        "id": "9wZ8HBT-9ook"
      },
      "execution_count": 9,
      "outputs": []
    },
    {
      "cell_type": "markdown",
      "source": [
        "We use our new train_network function to train all of the models."
      ],
      "metadata": {
        "id": "1F7h6mer-TBI"
      }
    },
    {
      "cell_type": "code",
      "source": [
        "loss_func = nn.CrossEntropyLoss()\n",
        "\n",
        "fc_results = train_network(fc_model, \n",
        "                          loss_func, \n",
        "                          training_loader,\n",
        "                          epochs=10, \n",
        "                          test_loader=testing_loader,\n",
        "                          score_funcs={\"Acc\": accuracy_score},\n",
        "                          device=device)"
      ],
      "metadata": {
        "id": "nFMW50TrN-LY"
      },
      "execution_count": null,
      "outputs": []
    },
    {
      "cell_type": "code",
      "source": [
        "cnn_results = train_network(cnn_model, \n",
        "                          loss_func, \n",
        "                          training_loader,\n",
        "                          epochs=10, \n",
        "                          test_loader=testing_loader,\n",
        "                          score_funcs={\"Acc\": accuracy_score},\n",
        "                          device=device)"
      ],
      "metadata": {
        "id": "Bw7JyvDM_HD4"
      },
      "execution_count": null,
      "outputs": []
    },
    {
      "cell_type": "code",
      "source": [
        "fc_results.head()"
      ],
      "metadata": {
        "colab": {
          "base_uri": "https://localhost:8080/",
          "height": 206
        },
        "id": "GsZgkaolOIwk",
        "outputId": "25fd451b-6732-4592-bbb8-2b03e6321e03"
      },
      "execution_count": 12,
      "outputs": [
        {
          "output_type": "execute_result",
          "data": {
            "text/plain": [
              "   epoch  total time  train loss  test loss  train Acc  test Acc\n",
              "0      0   16.362427    0.633577   0.461121   0.766650  0.837750\n",
              "1      1   23.130142    0.434101   0.413325   0.845150  0.849067\n",
              "2      2   29.996485    0.391224   0.358891   0.857450  0.867400\n",
              "3      3   36.666134    0.363648   0.327916   0.868283  0.877617\n",
              "4      4   43.404690    0.346689   0.332774   0.873750  0.883317"
            ],
            "text/html": [
              "\n",
              "  <div id=\"df-6fe8e772-4f6b-40f2-9154-ec9eb5ab681c\">\n",
              "    <div class=\"colab-df-container\">\n",
              "      <div>\n",
              "<style scoped>\n",
              "    .dataframe tbody tr th:only-of-type {\n",
              "        vertical-align: middle;\n",
              "    }\n",
              "\n",
              "    .dataframe tbody tr th {\n",
              "        vertical-align: top;\n",
              "    }\n",
              "\n",
              "    .dataframe thead th {\n",
              "        text-align: right;\n",
              "    }\n",
              "</style>\n",
              "<table border=\"1\" class=\"dataframe\">\n",
              "  <thead>\n",
              "    <tr style=\"text-align: right;\">\n",
              "      <th></th>\n",
              "      <th>epoch</th>\n",
              "      <th>total time</th>\n",
              "      <th>train loss</th>\n",
              "      <th>test loss</th>\n",
              "      <th>train Acc</th>\n",
              "      <th>test Acc</th>\n",
              "    </tr>\n",
              "  </thead>\n",
              "  <tbody>\n",
              "    <tr>\n",
              "      <th>0</th>\n",
              "      <td>0</td>\n",
              "      <td>16.362427</td>\n",
              "      <td>0.633577</td>\n",
              "      <td>0.461121</td>\n",
              "      <td>0.766650</td>\n",
              "      <td>0.837750</td>\n",
              "    </tr>\n",
              "    <tr>\n",
              "      <th>1</th>\n",
              "      <td>1</td>\n",
              "      <td>23.130142</td>\n",
              "      <td>0.434101</td>\n",
              "      <td>0.413325</td>\n",
              "      <td>0.845150</td>\n",
              "      <td>0.849067</td>\n",
              "    </tr>\n",
              "    <tr>\n",
              "      <th>2</th>\n",
              "      <td>2</td>\n",
              "      <td>29.996485</td>\n",
              "      <td>0.391224</td>\n",
              "      <td>0.358891</td>\n",
              "      <td>0.857450</td>\n",
              "      <td>0.867400</td>\n",
              "    </tr>\n",
              "    <tr>\n",
              "      <th>3</th>\n",
              "      <td>3</td>\n",
              "      <td>36.666134</td>\n",
              "      <td>0.363648</td>\n",
              "      <td>0.327916</td>\n",
              "      <td>0.868283</td>\n",
              "      <td>0.877617</td>\n",
              "    </tr>\n",
              "    <tr>\n",
              "      <th>4</th>\n",
              "      <td>4</td>\n",
              "      <td>43.404690</td>\n",
              "      <td>0.346689</td>\n",
              "      <td>0.332774</td>\n",
              "      <td>0.873750</td>\n",
              "      <td>0.883317</td>\n",
              "    </tr>\n",
              "  </tbody>\n",
              "</table>\n",
              "</div>\n",
              "      <button class=\"colab-df-convert\" onclick=\"convertToInteractive('df-6fe8e772-4f6b-40f2-9154-ec9eb5ab681c')\"\n",
              "              title=\"Convert this dataframe to an interactive table.\"\n",
              "              style=\"display:none;\">\n",
              "        \n",
              "  <svg xmlns=\"http://www.w3.org/2000/svg\" height=\"24px\"viewBox=\"0 0 24 24\"\n",
              "       width=\"24px\">\n",
              "    <path d=\"M0 0h24v24H0V0z\" fill=\"none\"/>\n",
              "    <path d=\"M18.56 5.44l.94 2.06.94-2.06 2.06-.94-2.06-.94-.94-2.06-.94 2.06-2.06.94zm-11 1L8.5 8.5l.94-2.06 2.06-.94-2.06-.94L8.5 2.5l-.94 2.06-2.06.94zm10 10l.94 2.06.94-2.06 2.06-.94-2.06-.94-.94-2.06-.94 2.06-2.06.94z\"/><path d=\"M17.41 7.96l-1.37-1.37c-.4-.4-.92-.59-1.43-.59-.52 0-1.04.2-1.43.59L10.3 9.45l-7.72 7.72c-.78.78-.78 2.05 0 2.83L4 21.41c.39.39.9.59 1.41.59.51 0 1.02-.2 1.41-.59l7.78-7.78 2.81-2.81c.8-.78.8-2.07 0-2.86zM5.41 20L4 18.59l7.72-7.72 1.47 1.35L5.41 20z\"/>\n",
              "  </svg>\n",
              "      </button>\n",
              "      \n",
              "  <style>\n",
              "    .colab-df-container {\n",
              "      display:flex;\n",
              "      flex-wrap:wrap;\n",
              "      gap: 12px;\n",
              "    }\n",
              "\n",
              "    .colab-df-convert {\n",
              "      background-color: #E8F0FE;\n",
              "      border: none;\n",
              "      border-radius: 50%;\n",
              "      cursor: pointer;\n",
              "      display: none;\n",
              "      fill: #1967D2;\n",
              "      height: 32px;\n",
              "      padding: 0 0 0 0;\n",
              "      width: 32px;\n",
              "    }\n",
              "\n",
              "    .colab-df-convert:hover {\n",
              "      background-color: #E2EBFA;\n",
              "      box-shadow: 0px 1px 2px rgba(60, 64, 67, 0.3), 0px 1px 3px 1px rgba(60, 64, 67, 0.15);\n",
              "      fill: #174EA6;\n",
              "    }\n",
              "\n",
              "    [theme=dark] .colab-df-convert {\n",
              "      background-color: #3B4455;\n",
              "      fill: #D2E3FC;\n",
              "    }\n",
              "\n",
              "    [theme=dark] .colab-df-convert:hover {\n",
              "      background-color: #434B5C;\n",
              "      box-shadow: 0px 1px 3px 1px rgba(0, 0, 0, 0.15);\n",
              "      filter: drop-shadow(0px 1px 2px rgba(0, 0, 0, 0.3));\n",
              "      fill: #FFFFFF;\n",
              "    }\n",
              "  </style>\n",
              "\n",
              "      <script>\n",
              "        const buttonEl =\n",
              "          document.querySelector('#df-6fe8e772-4f6b-40f2-9154-ec9eb5ab681c button.colab-df-convert');\n",
              "        buttonEl.style.display =\n",
              "          google.colab.kernel.accessAllowed ? 'block' : 'none';\n",
              "\n",
              "        async function convertToInteractive(key) {\n",
              "          const element = document.querySelector('#df-6fe8e772-4f6b-40f2-9154-ec9eb5ab681c');\n",
              "          const dataTable =\n",
              "            await google.colab.kernel.invokeFunction('convertToInteractive',\n",
              "                                                     [key], {});\n",
              "          if (!dataTable) return;\n",
              "\n",
              "          const docLinkHtml = 'Like what you see? Visit the ' +\n",
              "            '<a target=\"_blank\" href=https://colab.research.google.com/notebooks/data_table.ipynb>data table notebook</a>'\n",
              "            + ' to learn more about interactive tables.';\n",
              "          element.innerHTML = '';\n",
              "          dataTable['output_type'] = 'display_data';\n",
              "          await google.colab.output.renderOutput(dataTable, element);\n",
              "          const docLink = document.createElement('div');\n",
              "          docLink.innerHTML = docLinkHtml;\n",
              "          element.appendChild(docLink);\n",
              "        }\n",
              "      </script>\n",
              "    </div>\n",
              "  </div>\n",
              "  "
            ]
          },
          "metadata": {},
          "execution_count": 12
        }
      ]
    },
    {
      "cell_type": "code",
      "source": [
        "cnn_results.head()"
      ],
      "metadata": {
        "id": "h_1yFTWR_j1e",
        "outputId": "6fa983a8-6739-48fc-f83c-ffead54ef054",
        "colab": {
          "base_uri": "https://localhost:8080/",
          "height": 206
        }
      },
      "execution_count": 13,
      "outputs": [
        {
          "output_type": "execute_result",
          "data": {
            "text/plain": [
              "   epoch  total time  train loss  test loss  train Acc  test Acc\n",
              "0      0   17.070750    0.491520   0.315718    0.82165  0.885933\n",
              "1      1   30.251983    0.320271   0.300401    0.88580  0.892483\n",
              "2      2   42.973555    0.283402   0.227856    0.90060  0.918867\n",
              "3      3   55.691778    0.256085   0.238842    0.90905  0.912200\n",
              "4      4   68.476340    0.246041   0.245748    0.91435  0.917450"
            ],
            "text/html": [
              "\n",
              "  <div id=\"df-7e509949-223c-46d1-86bb-bf92bc952e7c\">\n",
              "    <div class=\"colab-df-container\">\n",
              "      <div>\n",
              "<style scoped>\n",
              "    .dataframe tbody tr th:only-of-type {\n",
              "        vertical-align: middle;\n",
              "    }\n",
              "\n",
              "    .dataframe tbody tr th {\n",
              "        vertical-align: top;\n",
              "    }\n",
              "\n",
              "    .dataframe thead th {\n",
              "        text-align: right;\n",
              "    }\n",
              "</style>\n",
              "<table border=\"1\" class=\"dataframe\">\n",
              "  <thead>\n",
              "    <tr style=\"text-align: right;\">\n",
              "      <th></th>\n",
              "      <th>epoch</th>\n",
              "      <th>total time</th>\n",
              "      <th>train loss</th>\n",
              "      <th>test loss</th>\n",
              "      <th>train Acc</th>\n",
              "      <th>test Acc</th>\n",
              "    </tr>\n",
              "  </thead>\n",
              "  <tbody>\n",
              "    <tr>\n",
              "      <th>0</th>\n",
              "      <td>0</td>\n",
              "      <td>17.070750</td>\n",
              "      <td>0.491520</td>\n",
              "      <td>0.315718</td>\n",
              "      <td>0.82165</td>\n",
              "      <td>0.885933</td>\n",
              "    </tr>\n",
              "    <tr>\n",
              "      <th>1</th>\n",
              "      <td>1</td>\n",
              "      <td>30.251983</td>\n",
              "      <td>0.320271</td>\n",
              "      <td>0.300401</td>\n",
              "      <td>0.88580</td>\n",
              "      <td>0.892483</td>\n",
              "    </tr>\n",
              "    <tr>\n",
              "      <th>2</th>\n",
              "      <td>2</td>\n",
              "      <td>42.973555</td>\n",
              "      <td>0.283402</td>\n",
              "      <td>0.227856</td>\n",
              "      <td>0.90060</td>\n",
              "      <td>0.918867</td>\n",
              "    </tr>\n",
              "    <tr>\n",
              "      <th>3</th>\n",
              "      <td>3</td>\n",
              "      <td>55.691778</td>\n",
              "      <td>0.256085</td>\n",
              "      <td>0.238842</td>\n",
              "      <td>0.90905</td>\n",
              "      <td>0.912200</td>\n",
              "    </tr>\n",
              "    <tr>\n",
              "      <th>4</th>\n",
              "      <td>4</td>\n",
              "      <td>68.476340</td>\n",
              "      <td>0.246041</td>\n",
              "      <td>0.245748</td>\n",
              "      <td>0.91435</td>\n",
              "      <td>0.917450</td>\n",
              "    </tr>\n",
              "  </tbody>\n",
              "</table>\n",
              "</div>\n",
              "      <button class=\"colab-df-convert\" onclick=\"convertToInteractive('df-7e509949-223c-46d1-86bb-bf92bc952e7c')\"\n",
              "              title=\"Convert this dataframe to an interactive table.\"\n",
              "              style=\"display:none;\">\n",
              "        \n",
              "  <svg xmlns=\"http://www.w3.org/2000/svg\" height=\"24px\"viewBox=\"0 0 24 24\"\n",
              "       width=\"24px\">\n",
              "    <path d=\"M0 0h24v24H0V0z\" fill=\"none\"/>\n",
              "    <path d=\"M18.56 5.44l.94 2.06.94-2.06 2.06-.94-2.06-.94-.94-2.06-.94 2.06-2.06.94zm-11 1L8.5 8.5l.94-2.06 2.06-.94-2.06-.94L8.5 2.5l-.94 2.06-2.06.94zm10 10l.94 2.06.94-2.06 2.06-.94-2.06-.94-.94-2.06-.94 2.06-2.06.94z\"/><path d=\"M17.41 7.96l-1.37-1.37c-.4-.4-.92-.59-1.43-.59-.52 0-1.04.2-1.43.59L10.3 9.45l-7.72 7.72c-.78.78-.78 2.05 0 2.83L4 21.41c.39.39.9.59 1.41.59.51 0 1.02-.2 1.41-.59l7.78-7.78 2.81-2.81c.8-.78.8-2.07 0-2.86zM5.41 20L4 18.59l7.72-7.72 1.47 1.35L5.41 20z\"/>\n",
              "  </svg>\n",
              "      </button>\n",
              "      \n",
              "  <style>\n",
              "    .colab-df-container {\n",
              "      display:flex;\n",
              "      flex-wrap:wrap;\n",
              "      gap: 12px;\n",
              "    }\n",
              "\n",
              "    .colab-df-convert {\n",
              "      background-color: #E8F0FE;\n",
              "      border: none;\n",
              "      border-radius: 50%;\n",
              "      cursor: pointer;\n",
              "      display: none;\n",
              "      fill: #1967D2;\n",
              "      height: 32px;\n",
              "      padding: 0 0 0 0;\n",
              "      width: 32px;\n",
              "    }\n",
              "\n",
              "    .colab-df-convert:hover {\n",
              "      background-color: #E2EBFA;\n",
              "      box-shadow: 0px 1px 2px rgba(60, 64, 67, 0.3), 0px 1px 3px 1px rgba(60, 64, 67, 0.15);\n",
              "      fill: #174EA6;\n",
              "    }\n",
              "\n",
              "    [theme=dark] .colab-df-convert {\n",
              "      background-color: #3B4455;\n",
              "      fill: #D2E3FC;\n",
              "    }\n",
              "\n",
              "    [theme=dark] .colab-df-convert:hover {\n",
              "      background-color: #434B5C;\n",
              "      box-shadow: 0px 1px 3px 1px rgba(0, 0, 0, 0.15);\n",
              "      filter: drop-shadow(0px 1px 2px rgba(0, 0, 0, 0.3));\n",
              "      fill: #FFFFFF;\n",
              "    }\n",
              "  </style>\n",
              "\n",
              "      <script>\n",
              "        const buttonEl =\n",
              "          document.querySelector('#df-7e509949-223c-46d1-86bb-bf92bc952e7c button.colab-df-convert');\n",
              "        buttonEl.style.display =\n",
              "          google.colab.kernel.accessAllowed ? 'block' : 'none';\n",
              "\n",
              "        async function convertToInteractive(key) {\n",
              "          const element = document.querySelector('#df-7e509949-223c-46d1-86bb-bf92bc952e7c');\n",
              "          const dataTable =\n",
              "            await google.colab.kernel.invokeFunction('convertToInteractive',\n",
              "                                                     [key], {});\n",
              "          if (!dataTable) return;\n",
              "\n",
              "          const docLinkHtml = 'Like what you see? Visit the ' +\n",
              "            '<a target=\"_blank\" href=https://colab.research.google.com/notebooks/data_table.ipynb>data table notebook</a>'\n",
              "            + ' to learn more about interactive tables.';\n",
              "          element.innerHTML = '';\n",
              "          dataTable['output_type'] = 'display_data';\n",
              "          await google.colab.output.renderOutput(dataTable, element);\n",
              "          const docLink = document.createElement('div');\n",
              "          docLink.innerHTML = docLinkHtml;\n",
              "          element.appendChild(docLink);\n",
              "        }\n",
              "      </script>\n",
              "    </div>\n",
              "  </div>\n",
              "  "
            ]
          },
          "metadata": {},
          "execution_count": 13
        }
      ]
    },
    {
      "cell_type": "markdown",
      "source": [
        "Let’s be explicit and tell Python we are finished so we can get back the GPU memory."
      ],
      "metadata": {
        "id": "fkpoHtVo_kV5"
      }
    },
    {
      "cell_type": "code",
      "source": [
        "del fc_model\n",
        "del cnn_model"
      ],
      "metadata": {
        "id": "1zlox4mE_k83"
      },
      "execution_count": 14,
      "outputs": []
    },
    {
      "cell_type": "code",
      "source": [
        "sns.lineplot(x=\"epoch\", y=\"train Acc\", data=fc_results, label=\"Fully Connected\")\n",
        "sns.lineplot(x=\"epoch\", y=\"train Acc\", data=cnn_results, label=\"CNN\")"
      ],
      "metadata": {
        "colab": {
          "base_uri": "https://localhost:8080/",
          "height": 296
        },
        "id": "sy8pGfRqOJK6",
        "outputId": "f861b954-e579-4ab2-a4a9-99675221e794"
      },
      "execution_count": 15,
      "outputs": [
        {
          "output_type": "execute_result",
          "data": {
            "text/plain": [
              "<matplotlib.axes._subplots.AxesSubplot at 0x7fe1f1100ed0>"
            ]
          },
          "metadata": {},
          "execution_count": 15
        },
        {
          "output_type": "display_data",
          "data": {
            "text/plain": [
              "<Figure size 432x288 with 1 Axes>"
            ],
            "image/png": "[encoded data removed]",
            "application/pdf": "[encoded data removed]"
          },
          "metadata": {
            "needs_background": "light"
          }
        }
      ]
    },
    {
      "cell_type": "code",
      "source": [
        "sns.lineplot(x=\"epoch\", y=\"test Acc\", data=fc_results, label=\"Fully Connected\")\n",
        "sns.lineplot(x=\"epoch\", y=\"test Acc\", data=cnn_results, label=\"CNN\")"
      ],
      "metadata": {
        "colab": {
          "base_uri": "https://localhost:8080/",
          "height": 296
        },
        "id": "EcAm7eM9Q1yG",
        "outputId": "4b22bfcf-b51a-4a38-f698-fc29b4d1a6b7"
      },
      "execution_count": 16,
      "outputs": [
        {
          "output_type": "execute_result",
          "data": {
            "text/plain": [
              "<matplotlib.axes._subplots.AxesSubplot at 0x7fe203886290>"
            ]
          },
          "metadata": {},
          "execution_count": 16
        },
        {
          "output_type": "display_data",
          "data": {
            "text/plain": [
              "<Figure size 432x288 with 1 Axes>"
            ],
            "image/png": "[encoded data removed]",
            "application/pdf": "[encoded data removed]"
          },
          "metadata": {
            "needs_background": "light"
          }
        }
      ]
    },
    {
      "cell_type": "markdown",
      "source": [
        "##ReLU Baseline"
      ],
      "metadata": {
        "id": "EbRW2z00DIDO"
      }
    },
    {
      "cell_type": "code",
      "source": [
        "# How much I want the LeakyReLU to \"leak\" by. Anything in [0.01, 0.3] would have been fine.\n",
        "leak_rate = 0.1\n",
        "\n",
        "fc_relu_model = nn.Sequential(\n",
        "  nn.Flatten(),\n",
        "  nn.Linear(D,  n), \n",
        "  nn.LeakyReLU(leak_rate), \n",
        "  #Now that each remaining layer has the same input/output sizes, we can make them with a list unpacking\n",
        "  *[nn.Sequential(nn.Linear(n,  n), nn.LeakyReLU(leak_rate)) for _ in range(5)], \n",
        "  nn.Linear(n, classes),\n",
        ")"
      ],
      "metadata": {
        "id": "nXg1qkZCDUB-"
      },
      "execution_count": 17,
      "outputs": []
    },
    {
      "cell_type": "code",
      "source": [
        "def cnn_layer(in_filters, out_filters=None, kernel_size=3):\n",
        "  \"\"\"\n",
        "  in_filters: how many channels are coming into the layer\n",
        "  out_filters: how many channels this layer should learn / output, or `None` if we want to have the same number of channels as the input.\n",
        "  kernel_size: how large the kernel should be\n",
        "  \"\"\"\n",
        "  if out_filters is None:\n",
        "    # This is a common pattern, so lets automate it as a default if not asked\n",
        "    out_filters = in_filters \n",
        "  # padding to stay the same size\n",
        "  padding = kernel_size // 2\n",
        "  # Combine the layer and activation into a single unit\n",
        "  return nn.Sequential(\n",
        "    nn.Conv2d(in_filters, out_filters, kernel_size, padding=padding),\n",
        "    nn.LeakyReLU(leak_rate)\n",
        "  )"
      ],
      "metadata": {
        "id": "syemyZWqDatp"
      },
      "execution_count": 18,
      "outputs": []
    },
    {
      "cell_type": "code",
      "source": [
        "cnn_relu_model = nn.Sequential(\n",
        "  cnn_layer(C, n_filters),\n",
        "  cnn_layer(n_filters),\n",
        "  cnn_layer(n_filters),\n",
        "  nn.MaxPool2d((2,2)),\n",
        "  \n",
        "  cnn_layer(n_filters, 2 * n_filters),\n",
        "  cnn_layer(2 * n_filters),\n",
        "  cnn_layer(2 * n_filters),\n",
        "  nn.MaxPool2d((2,2)),\n",
        "\n",
        "  cnn_layer(2 * n_filters, 4 * n_filters),\n",
        "  cnn_layer(4 * n_filters),\n",
        "\n",
        "  nn.Flatten(),\n",
        "  nn.Linear(D*n_filters//4, classes),\n",
        ")"
      ],
      "metadata": {
        "id": "Ui4Hs6fsDdEt"
      },
      "execution_count": 19,
      "outputs": []
    },
    {
      "cell_type": "code",
      "source": [
        "fc_relu_results = train_network(fc_relu_model, \n",
        "                          loss_func, \n",
        "                          training_loader,\n",
        "                          epochs=10, \n",
        "                          test_loader=testing_loader,\n",
        "                          score_funcs={\"Acc\": accuracy_score},\n",
        "                          device=device)\n",
        "del fc_relu_model"
      ],
      "metadata": {
        "id": "CjLd0cpJDfeJ"
      },
      "execution_count": null,
      "outputs": []
    },
    {
      "cell_type": "code",
      "source": [
        "cnn_relu_results = train_network(cnn_relu_model, \n",
        "                          loss_func, \n",
        "                          training_loader,\n",
        "                          epochs=10, \n",
        "                          test_loader=testing_loader,\n",
        "                          score_funcs={\"Acc\": accuracy_score},\n",
        "                          device=device)\n",
        "del cnn_relu_model"
      ],
      "metadata": {
        "id": "RwBCn0ZoDf52"
      },
      "execution_count": null,
      "outputs": []
    },
    {
      "cell_type": "code",
      "source": [
        "sns.lineplot(x=\"epoch\", y=\"test Acc\", data=fc_results, label=\"FC\")\n",
        "sns.lineplot(x=\"epoch\", y=\"test Acc\", data=fc_relu_results, label=\"FC-ReLU\")\n",
        "sns.lineplot(x=\"epoch\", y=\"test Acc\", data=cnn_results, label=\"CNN\")\n",
        "sns.lineplot(x=\"epoch\", y=\"test Acc\", data=cnn_relu_results, label=\"CNN-ReLU\")"
      ],
      "metadata": {
        "colab": {
          "base_uri": "https://localhost:8080/",
          "height": 296
        },
        "id": "GeFJhkd5Dh3M",
        "outputId": "32369ad8-356b-4038-9388-a22a02e787da"
      },
      "execution_count": 22,
      "outputs": [
        {
          "output_type": "execute_result",
          "data": {
            "text/plain": [
              "<matplotlib.axes._subplots.AxesSubplot at 0x7fe1fa035590>"
            ]
          },
          "metadata": {},
          "execution_count": 22
        },
        {
          "output_type": "display_data",
          "data": {
            "text/plain": [
              "<Figure size 432x288 with 1 Axes>"
            ],
            "image/png": "[encoded data removed]",
            "application/pdf": "[encoded data removed]"
          },
          "metadata": {
            "needs_background": "light"
          }
        }
      ]
    },
    {
      "cell_type": "markdown",
      "source": [
        "##Normalization layers"
      ],
      "metadata": {
        "id": "AT2D-lmvBN05"
      }
    },
    {
      "cell_type": "markdown",
      "source": [
        "Before you start feeding the matrix $X$ into your favorite ML algorithm, you usually\n",
        "normalize or standardize the features in some way. This could be making sure the values\n",
        "are all within the range of `[0, 1]`, or subtracting the mean $\\mu$ and dividing by the standard\n",
        "deviation $\\sigma$.\n",
        "\n",
        "By performing normalization or standardization, we\n",
        "ensure that our data is in a reasonable numeric range (–1 to 1 is a good place to be),\n",
        "making it easier for our optimization algorithms to run.\n",
        "\n",
        "We’ll talk about two normalization layers that\n",
        "are the most widely used: batch and layer."
      ],
      "metadata": {
        "id": "8Dig3PZdBOpB"
      }
    },
    {
      "cell_type": "markdown",
      "source": [
        "###Batch normalization"
      ],
      "metadata": {
        "id": "CgtWWLM959xy"
      }
    },
    {
      "cell_type": "markdown",
      "source": [
        "The first and most popular type of normalization layer is batch normalization (BN). \n",
        "\n",
        "BN is applied differently depending on the structure of the input data.\n",
        "\n",
        "If we are working with\n",
        "fully connected layers (PyTorch dimension `(B,D)`), we take the average and standard\n",
        "deviation of the feature values `D` over the `B` items in the batch. \n",
        "\n",
        "Hence, we normalize\n",
        "over the data features in a given batch. This means $\\mu$, $\\sigma$, \n",
        "$\\gamma$, and $\\beta$ have a shape of `(D)`,\n",
        "and each item in the batch is normalized by the mean and standard deviation of just\n",
        "that batch of data.\n",
        "\n",
        "What if we have one-dimensional data of shape `(B,C,D)`? \n",
        "\n",
        "In this case, we normalize\n",
        "the channels over the batch. This means $\\mu$, $\\sigma$, \n",
        "$\\gamma$, and $\\beta$ each have a shape of `(C)`.\n",
        "\n",
        "This is\n",
        "because we want to treat each of the `D` values in a channel as having the same nature\n",
        "and structure, so the average is over the `BxD` values in the channel across all `B` batches.\n",
        "\n",
        "What if we have 2D data of shape `(B, C, W, H)`? \n",
        "\n",
        "Similar to the 1D case $\\mu$, $\\sigma$, \n",
        "$\\gamma$, and $\\beta$ have a shape of `(C)`.\n",
        "\n",
        "For any z-dimensional structured data where we have channels, we always\n",
        "use BN over the channels.\n",
        "\n",
        "Let's train the model with batch normalization."
      ],
      "metadata": {
        "id": "M0-Iniio6GR8"
      }
    },
    {
      "cell_type": "code",
      "source": [
        "fc_bn_model = nn.Sequential(\n",
        "  nn.Flatten(),\n",
        "  nn.Linear(D, n), \n",
        "  nn.BatchNorm1d(n),\n",
        "  nn.LeakyReLU(leak_rate), \n",
        "  #Now that each remaining layer has the same input/output sizes, we can make them with a list unpacking\n",
        "  *[nn.Sequential(nn.Linear(n, n), nn.BatchNorm1d(n), nn.LeakyReLU(leak_rate)) for _ in range(5)], \n",
        "  nn.Linear(n, classes),\n",
        ")"
      ],
      "metadata": {
        "id": "tvT0PJvpL3Rp"
      },
      "execution_count": 23,
      "outputs": []
    },
    {
      "cell_type": "code",
      "source": [
        "def cnn_layer(in_filters, out_filters=None, kernel_size=3):\n",
        "  \"\"\"\n",
        "  in_filters: how many channels are coming into the layer\n",
        "  out_filters: how many channels this layer should learn / output, or `None` if we want to have the same number of channels as the input.\n",
        "  kernel_size: how large the kernel should be\n",
        "  \"\"\"\n",
        "  if out_filters is None:\n",
        "    # This is a common pattern, so lets automate it as a default if not asked\n",
        "    out_filters = in_filters \n",
        "  # padding to stay the same size\n",
        "  padding = kernel_size // 2\n",
        "  # Combine the layer and activation into a single unit\n",
        "  return nn.Sequential(\n",
        "    nn.Conv2d(in_filters, out_filters, kernel_size, padding=padding),\n",
        "    nn.BatchNorm2d(out_filters),  # The only change: adding BatchNorm2d after our convolution\n",
        "    nn.LeakyReLU(leak_rate)\n",
        "  )"
      ],
      "metadata": {
        "id": "RKKDo8BBMrCF"
      },
      "execution_count": 24,
      "outputs": []
    },
    {
      "cell_type": "code",
      "source": [
        "cnn_bn_model = nn.Sequential(\n",
        "  cnn_layer(C, n_filters),\n",
        "  cnn_layer(n_filters),\n",
        "  cnn_layer(n_filters),\n",
        "  nn.MaxPool2d((2,2)),\n",
        "  \n",
        "  cnn_layer(n_filters, 2 * n_filters),\n",
        "  cnn_layer(2 * n_filters),\n",
        "  cnn_layer(2 * n_filters),\n",
        "  nn.MaxPool2d((2,2)),\n",
        "\n",
        "  cnn_layer(2 * n_filters, 4 * n_filters),\n",
        "  cnn_layer(4 * n_filters),\n",
        "\n",
        "  nn.Flatten(),\n",
        "  nn.Linear(D*n_filters//4, classes),\n",
        ")"
      ],
      "metadata": {
        "id": "q33ladI1R2wo"
      },
      "execution_count": 25,
      "outputs": []
    },
    {
      "cell_type": "markdown",
      "source": [
        "We are ready to train both models."
      ],
      "metadata": {
        "id": "PppT0Nt-Tvgx"
      }
    },
    {
      "cell_type": "code",
      "source": [
        "fc_bn_results = train_network(fc_bn_model, \n",
        "                          loss_func, \n",
        "                          training_loader,\n",
        "                          epochs=10, \n",
        "                          test_loader=testing_loader,\n",
        "                          score_funcs={\"Acc\": accuracy_score},\n",
        "                          device=device)\n",
        "del fc_bn_model"
      ],
      "metadata": {
        "id": "FI9xJyFVTv6-"
      },
      "execution_count": null,
      "outputs": []
    },
    {
      "cell_type": "code",
      "source": [
        "cnn_bn_results = train_network(cnn_bn_model, \n",
        "                          loss_func, \n",
        "                          training_loader,\n",
        "                          epochs=10, \n",
        "                          test_loader=testing_loader,\n",
        "                          score_funcs={\"Acc\": accuracy_score},\n",
        "                          device=device)\n",
        "del cnn_bn_model"
      ],
      "metadata": {
        "id": "ZROakzURT3rL"
      },
      "execution_count": null,
      "outputs": []
    },
    {
      "cell_type": "markdown",
      "source": [
        "Let’s compare it with baseline model."
      ],
      "metadata": {
        "id": "7vPdYENAVVpw"
      }
    },
    {
      "cell_type": "code",
      "source": [
        "sns.lineplot(x=\"epoch\", y=\"test Acc\", data=fc_relu_results, label=\"FC-ReLU\")\n",
        "sns.lineplot(x=\"epoch\", y=\"test Acc\", data=fc_bn_results, label=\"FC-ReLU-BN\")\n",
        "sns.lineplot(x=\"epoch\", y=\"test Acc\", data=cnn_relu_results, label=\"CNN-ReLU\")\n",
        "sns.lineplot(x=\"epoch\", y=\"test Acc\", data=cnn_bn_results, label=\"CNN-ReLU-BN\")"
      ],
      "metadata": {
        "id": "8znwm8MFT4MN",
        "outputId": "9d1f7b4c-87e8-4b88-ed6a-83e91a04112b",
        "colab": {
          "base_uri": "https://localhost:8080/",
          "height": 296
        }
      },
      "execution_count": 28,
      "outputs": [
        {
          "output_type": "execute_result",
          "data": {
            "text/plain": [
              "<matplotlib.axes._subplots.AxesSubplot at 0x7fe1f1198110>"
            ]
          },
          "metadata": {},
          "execution_count": 28
        },
        {
          "output_type": "display_data",
          "data": {
            "text/plain": [
              "<Figure size 432x288 with 1 Axes>"
            ],
            "image/png": "[encoded data removed]",
            "application/pdf": "[encoded data removed]"
          },
          "metadata": {
            "needs_background": "light"
          }
        }
      ]
    },
    {
      "cell_type": "markdown",
      "source": [
        "Why does BN work so well?\n",
        "\n",
        "Since normalizing helps to ensure that our literal numeric values after each\n",
        "layer are in a generically “good” range; and through $\\gamma$\n",
        "and $\\beta$, the network can decide precisely where that range is."
      ],
      "metadata": {
        "id": "eq9Iqve4V3td"
      }
    },
    {
      "cell_type": "markdown",
      "source": [
        "###Layer normalization"
      ],
      "metadata": {
        "id": "TGaGba-QEkRM"
      }
    },
    {
      "cell_type": "markdown",
      "source": [
        "The `nn.LayerNorm` class takes a single argument that is a list of integers. If you are\n",
        "working on fully connected layers with tensors of shape `(B,D)`, you use `[D]` as the list,\n",
        "giving you `nn.LayerNorm([D])` as the layer construction."
      ],
      "metadata": {
        "id": "5a0Mpd93Epn-"
      }
    },
    {
      "cell_type": "code",
      "source": [
        "fc_ln_model = nn.Sequential(\n",
        "  nn.Flatten(),\n",
        "  nn.Linear(D, n), \n",
        "  nn.LayerNorm([n]),\n",
        "  nn.LeakyReLU(leak_rate), \n",
        "  #Now that each remaining layer has the same input/output sizes, we can make them with a list unpacking\n",
        "  *[nn.Sequential(nn.Linear(n, n), nn.LayerNorm([n]), nn.LeakyReLU(leak_rate)) for _ in range(5)], \n",
        "  nn.Linear(n, classes),\n",
        ")"
      ],
      "metadata": {
        "id": "4WiuhYPhEeyL"
      },
      "execution_count": 29,
      "outputs": []
    },
    {
      "cell_type": "markdown",
      "source": [
        "Why does LN take a list of integers? \n",
        "\n",
        "This list tells LN, from right to left, which values to\n",
        "average over. So if we have a 2D problem with tensors of shape `(B, C,W,H)`, we give\n",
        "LN the last three dimensions as a list `[C, W, H]`. That covers all the features, which is\n",
        "what we want LN to normalize over. \n",
        "\n",
        "This makes LN a little trickier for CNNs because\n",
        "we also need to pay attention to how large the width and height are, and they change every time we apply max pooling.\n",
        "\n",
        "We add a pool_factor\n",
        "argument that keeps track of how many times pooling has been applied.\n",
        "\n",
        "After, is an\n",
        "LN object with a list `[out_filters, W//(2**pool_factor), H//(2**pool_factor)]` where we shrink with width and height based on how many times pooling has been applied."
      ],
      "metadata": {
        "id": "buWRSErMFc_Q"
      }
    },
    {
      "cell_type": "code",
      "source": [
        "def cnn_layer(in_filters, out_filters=None, pool_factor=0, kernel_size=3):\n",
        "  if out_filters is None:\n",
        "    # This is a common pattern, so lets automate it as a default if not asked\n",
        "    out_filters = in_filters \n",
        "  # padding to stay the same size\n",
        "  padding = kernel_size // 2\n",
        "  # Combine the layer and activation into a single unit\n",
        "  return nn.Sequential(\n",
        "    nn.Conv2d(in_filters, out_filters, kernel_size, padding=padding),\n",
        "    nn.LayerNorm([out_filters, W // (2 ** pool_factor), H // (2 ** pool_factor)]),  # The only change: adding LayerNorm after our convolution\n",
        "    nn.LeakyReLU(leak_rate)\n",
        "  )"
      ],
      "metadata": {
        "id": "dhoiHlKlFCbN"
      },
      "execution_count": 30,
      "outputs": []
    },
    {
      "cell_type": "code",
      "source": [
        "cnn_ln_model = nn.Sequential(\n",
        "  cnn_layer(C, n_filters),\n",
        "  cnn_layer(n_filters),\n",
        "  cnn_layer(n_filters),\n",
        "  nn.MaxPool2d((2,2)),\n",
        "  # we've done one round of pooling, so , pool_factor=1 now\n",
        "  cnn_layer(n_filters, 2 * n_filters, pool_factor=1),\n",
        "  cnn_layer(2 * n_filters, pool_factor=1),\n",
        "  cnn_layer(2 * n_filters, pool_factor=1),\n",
        "  nn.MaxPool2d((2,2)),\n",
        "  # now we've done two rounds of pooling, so pool_factor=2\n",
        "  cnn_layer(2 * n_filters, 4 * n_filters, pool_factor=2),\n",
        "  cnn_layer(4 * n_filters, pool_factor=2),\n",
        "\n",
        "  nn.Flatten(),\n",
        "  nn.Linear(D*n_filters//4, classes),\n",
        ")"
      ],
      "metadata": {
        "id": "21Oxk5c2G8gY"
      },
      "execution_count": 31,
      "outputs": []
    },
    {
      "cell_type": "code",
      "source": [
        "fc_ln_results = train_network(fc_ln_model, \n",
        "                          loss_func, \n",
        "                          training_loader,\n",
        "                          epochs=10, \n",
        "                          test_loader=testing_loader,\n",
        "                          score_funcs={\"Acc\": accuracy_score},\n",
        "                          device=device)\n",
        "del fc_ln_model"
      ],
      "metadata": {
        "id": "YLfGNM3hHrzL"
      },
      "execution_count": null,
      "outputs": []
    },
    {
      "cell_type": "code",
      "source": [
        "cnn_ln_results = train_network(cnn_ln_model, \n",
        "                          loss_func, \n",
        "                          training_loader,\n",
        "                          epochs=10, \n",
        "                          test_loader=testing_loader,\n",
        "                          score_funcs={\"Acc\": accuracy_score},\n",
        "                          device=device)\n",
        "del cnn_ln_model"
      ],
      "metadata": {
        "id": "schF-zj_HsSQ"
      },
      "execution_count": null,
      "outputs": []
    },
    {
      "cell_type": "markdown",
      "source": [
        "Let’s plot the results with LN, BN, and the ReLU-based models that have no normalization\n",
        "layers."
      ],
      "metadata": {
        "id": "NOMqqBzoKty8"
      }
    },
    {
      "cell_type": "code",
      "source": [
        "sns.lineplot(x=\"epoch\", y=\"test Acc\", data=fc_relu_results, label=\"FC-ReLU\")\n",
        "sns.lineplot(x=\"epoch\", y=\"test Acc\", data=fc_bn_results, label=\"FC-ReLU-BN\")\n",
        "sns.lineplot(x=\"epoch\", y=\"test Acc\", data=cnn_relu_results, label=\"CNN-ReLU\")\n",
        "sns.lineplot(x=\"epoch\", y=\"test Acc\", data=cnn_bn_results, label=\"CNN-ReLU-BN\")\n",
        "sns.lineplot(x=\"epoch\", y=\"test Acc\", data=fc_ln_results, label=\"FC-ReLU-LN\")\n",
        "sns.lineplot(x=\"epoch\", y=\"test Acc\", data=cnn_ln_results, label=\"CNN-ReLU-LN\")"
      ],
      "metadata": {
        "id": "eSpAJozjKpoi",
        "outputId": "516a680c-fb68-43ac-8afb-a0d91b0783f3",
        "colab": {
          "base_uri": "https://localhost:8080/",
          "height": 296
        }
      },
      "execution_count": 35,
      "outputs": [
        {
          "output_type": "execute_result",
          "data": {
            "text/plain": [
              "<matplotlib.axes._subplots.AxesSubplot at 0x7fe1f10085d0>"
            ]
          },
          "metadata": {},
          "execution_count": 35
        },
        {
          "output_type": "display_data",
          "data": {
            "text/plain": [
              "<Figure size 432x288 with 1 Axes>"
            ],
            "image/png": "[encoded data removed]",
            "application/pdf": "[encoded data removed]"
          },
          "metadata": {
            "needs_background": "light"
          }
        }
      ]
    },
    {
      "cell_type": "markdown",
      "source": [
        "For the\n",
        "CNN, LN is an improvement over no normalization but worse than BN. \n",
        "\n",
        "For the fully\n",
        "connected layers, LN appears to be more in line with the non-normalized variant.\n",
        "\n",
        "BN is really only useful for fully connected layers and convolutional\n",
        "models, so PyTorch can easily hardcode it to the two tasks. \n",
        "\n",
        "LN can be helpful for almost\n",
        "any architecture (e.g., RNNs)."
      ],
      "metadata": {
        "id": "IR952PZdLQW7"
      }
    }
  ]
}