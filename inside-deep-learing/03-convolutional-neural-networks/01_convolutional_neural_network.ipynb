{
  "nbformat": 4,
  "nbformat_minor": 0,
  "metadata": {
    "colab": {
      "name": "01-convolutional-neural-network.ipynb",
      "provenance": [],
      "toc_visible": true,
      "authorship_tag": "ABX9TyM1k0U4Ob96vu+0xqALC5Vn",
      "include_colab_link": true
    },
    "kernelspec": {
      "name": "python3",
      "display_name": "Python 3"
    },
    "language_info": {
      "name": "python"
    }
  },
  "cells": [
    {
      "cell_type": "markdown",
      "metadata": {
        "id": "view-in-github",
        "colab_type": "text"
      },
      "source": [
        "<a href=\"https://colab.research.google.com/github/rahiakela/deep-learning-research-and-practice/blob/main/inside-deep-learing/03-convolutional-neural-networks/01_convolutional_neural_network.ipynb\" target=\"_parent\"><img src=\"https://colab.research.google.com/assets/colab-badge.svg\" alt=\"Open In Colab\"/></a>"
      ]
    },
    {
      "cell_type": "markdown",
      "source": [
        "##Convolutional neural networks"
      ],
      "metadata": {
        "id": "ldjKkwDE9r9p"
      }
    },
    {
      "cell_type": "markdown",
      "source": [
        "The success of convolutions comes from their ability to learn spatial patterns, which\n",
        "has made them the default method to use for any data resembling an image.\n",
        "\n",
        "Specifically, deep learning has been most successful at imposing\n",
        "structural priors. By how we design the network, we impart some knowledge about the\n",
        "intrinsic nature or structure of the data. \n",
        "\n",
        "The most common types of structure encoded\n",
        "into neural networks are spatial correlation (i.e., images) and sequential\n",
        "relationships (e.g., weather changes from one day to the next).\n",
        "\n",
        "Images, however, are structured. There is an order to the pixels. If you shuffled the\n",
        "pixels around, you would fundamentally change the meaning of a picture.\n",
        "\n",
        "<img src='https://github.com/rahiakela/deep-learning-research-and-practice/blob/main/inside-deep-learing/03-convolutional-neural-networks/images/cnn1.png?raw=1' width='600'/>"
      ],
      "metadata": {
        "id": "tFXQb6wufLVZ"
      }
    },
    {
      "cell_type": "markdown",
      "source": [
        "##Setup"
      ],
      "metadata": {
        "id": "Ju6nJVQUfX5-"
      }
    },
    {
      "cell_type": "code",
      "source": [
        "!wget https://github.com/EdwardRaff/Inside-Deep-Learning/raw/main/idlmam.py"
      ],
      "metadata": {
        "id": "y3Vgfh4TryfP"
      },
      "execution_count": null,
      "outputs": []
    },
    {
      "cell_type": "code",
      "source": [
        "import torch\n",
        "import torch.nn as nn\n",
        "import torch.nn.functional as F\n",
        "\n",
        "import torchvision \n",
        "from torchvision import transforms\n",
        "\n",
        "from torch.utils.data import Dataset, DataLoader\n",
        "\n",
        "from tqdm.autonotebook import tqdm\n",
        "\n",
        "import numpy as np\n",
        "import pandas as pd\n",
        "import seaborn as sns\n",
        "import matplotlib\n",
        "import matplotlib.pyplot as plt\n",
        "from matplotlib.pyplot import imshow\n",
        "\n",
        "from sklearn.metrics import accuracy_score\n",
        "from sklearn.datasets import make_moons\n",
        "\n",
        "from scipy.signal import convolve\n",
        "\n",
        "import time\n",
        "\n",
        "from idlmam import train_simple_network, set_seed"
      ],
      "metadata": {
        "id": "bUicuO0T9vRt"
      },
      "execution_count": 17,
      "outputs": []
    },
    {
      "cell_type": "code",
      "source": [
        "%matplotlib inline\n",
        "from IPython.display import set_matplotlib_formats\n",
        "set_matplotlib_formats('png', 'pdf')\n",
        "\n",
        "def set_seed(seed):\n",
        "    torch.manual_seed(seed)\n",
        "    np.random.seed(seed)\n",
        "\n",
        "torch.backends.cudnn.deterministic=True\n",
        "set_seed(1)"
      ],
      "metadata": {
        "id": "8U1JNhEmEkzG"
      },
      "execution_count": 3,
      "outputs": []
    },
    {
      "cell_type": "code",
      "source": [
        "def move_to(obj, device):\n",
        "  \"\"\"\n",
        "  obj: the python object to move to a device, or to move its contents to a device\n",
        "  device: the compute device to move objects to\n",
        "  \"\"\"\n",
        "  if hasattr(obj, \"to\"):\n",
        "      return obj.to(device)\n",
        "  elif isinstance(obj, list):\n",
        "      return [move_to(x, device) for x in obj]\n",
        "  elif isinstance(obj, tuple):\n",
        "      return tuple(move_to(list(obj), device))\n",
        "  elif isinstance(obj, set):\n",
        "      return set(move_to(list(obj), device))\n",
        "  elif isinstance(obj, dict):\n",
        "      to_ret = dict()\n",
        "      for key, value in obj.items():\n",
        "          to_ret[move_to(key, device)] = move_to(value, device)\n",
        "      return to_ret\n",
        "  else:\n",
        "      return obj"
      ],
      "metadata": {
        "id": "LeuyQhOpZioH"
      },
      "execution_count": 4,
      "outputs": []
    },
    {
      "cell_type": "markdown",
      "source": [
        "##Preparing dataset"
      ],
      "metadata": {
        "id": "ycbbAdR0fjAG"
      }
    },
    {
      "cell_type": "markdown",
      "source": [
        "Here, we will start exploring the ubiquitous MNIST dataset. \n",
        "\n",
        "It’s a collection of black-and-white images of the digits 0\n",
        "through 9; each is 28 pixels wide and 28 pixels tall."
      ],
      "metadata": {
        "id": "Y_4r4xfAJtCu"
      }
    },
    {
      "cell_type": "code",
      "source": [
        "mnist_data_train = torchvision.datasets.MNIST(\"./data\", train=True, download=True)\n",
        "mnist_data_test = torchvision.datasets.MNIST(\"./data\", train=False, download=True)\n",
        "\n",
        "x_example, y_example = mnist_data_train[0]"
      ],
      "metadata": {
        "id": "iQy_V8L791sw"
      },
      "execution_count": null,
      "outputs": []
    },
    {
      "cell_type": "code",
      "source": [
        "type(x_example), type(y_example)"
      ],
      "metadata": {
        "id": "p3xtYsIafmJE",
        "colab": {
          "base_uri": "https://localhost:8080/"
        },
        "outputId": "f5f827e1-4d47-494e-e4a7-58d709b02d34"
      },
      "execution_count": 6,
      "outputs": [
        {
          "output_type": "execute_result",
          "data": {
            "text/plain": [
              "(PIL.Image.Image, int)"
            ]
          },
          "metadata": {},
          "execution_count": 6
        }
      ]
    },
    {
      "cell_type": "markdown",
      "source": [
        "Now you will notice that the type of the data returned is not a tensor.\n",
        "\n",
        "We need to use a transform to convert the images to tensors."
      ],
      "metadata": {
        "id": "-pi357rsuHnZ"
      }
    },
    {
      "cell_type": "code",
      "source": [
        "# simply specify the ToTensor transform, which converts image into a tensor\n",
        "mnist_data_train = torchvision.datasets.MNIST(\"./data\", train=True, download=True, transform=transforms.ToTensor())\n",
        "mnist_data_test = torchvision.datasets.MNIST(\"./data\", train=False, download=True, transform=transforms.ToTensor())\n",
        "\n",
        "x_example, y_example = mnist_data_train[0]\n",
        "type(x_example), type(y_example)"
      ],
      "metadata": {
        "id": "smI9SLH8uMOd",
        "outputId": "c3c482d5-1799-46e2-c417-7a432c39c1a6",
        "colab": {
          "base_uri": "https://localhost:8080/"
        }
      },
      "execution_count": 7,
      "outputs": [
        {
          "output_type": "execute_result",
          "data": {
            "text/plain": [
              "(torch.Tensor, int)"
            ]
          },
          "metadata": {},
          "execution_count": 7
        }
      ]
    },
    {
      "cell_type": "code",
      "source": [
        "print(x_example.shape)"
      ],
      "metadata": {
        "id": "E_S1Lj57utHW",
        "outputId": "3a151a38-6d4f-4f7f-81f1-7a7ab5bedfb2",
        "colab": {
          "base_uri": "https://localhost:8080/"
        }
      },
      "execution_count": 8,
      "outputs": [
        {
          "output_type": "stream",
          "name": "stdout",
          "text": [
            "torch.Size([1, 28, 28])\n"
          ]
        }
      ]
    },
    {
      "cell_type": "code",
      "source": [
        "# visualize a tensor representation of an image\n",
        "imshow(x_example[0, :], cmap=\"gray\")"
      ],
      "metadata": {
        "id": "5iy6osH4w7DL",
        "outputId": "6b11380e-a0fa-48c9-8bbe-d4f82591e3a7",
        "colab": {
          "base_uri": "https://localhost:8080/",
          "height": 282
        }
      },
      "execution_count": 9,
      "outputs": [
        {
          "output_type": "execute_result",
          "data": {
            "text/plain": [
              "<matplotlib.image.AxesImage at 0x7f1540ea9e50>"
            ]
          },
          "metadata": {},
          "execution_count": 9
        },
        {
          "output_type": "display_data",
          "data": {
            "text/plain": [
              "<Figure size 432x288 with 1 Axes>"
            ],
            "image/png": "[encoded data removed]",
            "application/pdf": "[encoded data removed]"
          },
          "metadata": {
            "needs_background": "light"
          }
        }
      ]
    },
    {
      "cell_type": "markdown",
      "source": [
        "Let’s do a color version. If we stack three copies of the same digit on top of each other, we will have a tensor of shape `(3, 28, 28)`. \n",
        "\n",
        "Because the structure of the tensor has meaning,\n",
        "this instantaneously makes it a color image by virtue of having three channels."
      ],
      "metadata": {
        "id": "eFgK1DVhyRnq"
      }
    },
    {
      "cell_type": "code",
      "source": [
        "x_as_color = torch.stack([x_example[0, :], x_example[0, :], x_example[0, :]], dim=0)\n",
        "print(x_as_color.shape)"
      ],
      "metadata": {
        "id": "EMxDV4uDyZ1K",
        "outputId": "8286af92-b157-45fd-abe3-44ce5ec4d80d",
        "colab": {
          "base_uri": "https://localhost:8080/"
        }
      },
      "execution_count": 10,
      "outputs": [
        {
          "output_type": "stream",
          "name": "stdout",
          "text": [
            "torch.Size([3, 28, 28])\n"
          ]
        }
      ]
    },
    {
      "cell_type": "markdown",
      "source": [
        "Now let’s visualize the color version."
      ],
      "metadata": {
        "id": "zfPCAJqi3M2R"
      }
    },
    {
      "cell_type": "code",
      "source": [
        "# need to permute the dimensions when using imshow\n",
        "imshow(x_as_color.permute(1, 2, 0))"
      ],
      "metadata": {
        "id": "SsSZehik3NS1",
        "outputId": "d1f5f399-b448-4ebf-af3a-dc2d730d8272",
        "colab": {
          "base_uri": "https://localhost:8080/",
          "height": 282
        }
      },
      "execution_count": 11,
      "outputs": [
        {
          "output_type": "execute_result",
          "data": {
            "text/plain": [
              "<matplotlib.image.AxesImage at 0x7f153fab0610>"
            ]
          },
          "metadata": {},
          "execution_count": 11
        },
        {
          "output_type": "display_data",
          "data": {
            "text/plain": [
              "<Figure size 432x288 with 1 Axes>"
            ],
            "image/png": "[encoded data removed]",
            "application/pdf": "[encoded data removed]"
          },
          "metadata": {
            "needs_background": "light"
          }
        }
      ]
    },
    {
      "cell_type": "markdown",
      "source": [
        "Why is this color image still black and white? \n",
        "\n",
        "Because the original image was black and\n",
        "white. We have the same value copied in the red, green, and blue channels, which is\n",
        "how you represent a black-and-white image in color. "
      ],
      "metadata": {
        "id": "j3g8i3Ve3ltU"
      }
    },
    {
      "cell_type": "code",
      "source": [
        "x_as_color = torch.stack([x_example[0, :], x_example[0, :], x_example[0, :]])\n",
        "\n",
        "# If we zero out the red and blue channels, we get a green number\n",
        "x_as_color[0, :] = 0  # No Red. We’re leaving Green alone.\n",
        "x_as_color[2, :] = 0  # No Blue\n",
        "\n",
        "imshow(x_as_color.permute(1, 2, 0))"
      ],
      "metadata": {
        "id": "b5luAMLW3oxa",
        "outputId": "6c7836e6-c55c-4eb0-8174-058fb82ee310",
        "colab": {
          "base_uri": "https://localhost:8080/",
          "height": 282
        }
      },
      "execution_count": 12,
      "outputs": [
        {
          "output_type": "execute_result",
          "data": {
            "text/plain": [
              "<matplotlib.image.AxesImage at 0x7f153fa23750>"
            ]
          },
          "metadata": {},
          "execution_count": 12
        },
        {
          "output_type": "display_data",
          "data": {
            "text/plain": [
              "<Figure size 432x288 with 1 Axes>"
            ],
            "image/png": "[encoded data removed]",
            "application/pdf": "[encoded data removed]"
          },
          "metadata": {
            "needs_background": "light"
          }
        }
      ]
    },
    {
      "cell_type": "code",
      "source": [
        "# let’s stack three different images together into one color image\n",
        "x1, x2, x3 = mnist_data_train[0], mnist_data_train[1], mnist_data_train[2]  # Grabs 3 images\n",
        "x1, x2, x3 = x1[0], x2[0], x3[0]   # drop the label\n",
        "\n",
        "x_as_color = torch.stack([x1[0, :], x2[0, :], x3[0, :]], dim=0)\n",
        "imshow(x_as_color.permute(1, 2, 0))"
      ],
      "metadata": {
        "id": "U6WjcVWN5JLO",
        "outputId": "3881a652-1e6f-4695-e723-a8e34a5a5695",
        "colab": {
          "base_uri": "https://localhost:8080/",
          "height": 282
        }
      },
      "execution_count": 13,
      "outputs": [
        {
          "output_type": "execute_result",
          "data": {
            "text/plain": [
              "<matplotlib.image.AxesImage at 0x7f153f9a54d0>"
            ]
          },
          "metadata": {},
          "execution_count": 13
        },
        {
          "output_type": "display_data",
          "data": {
            "text/plain": [
              "<Figure size 432x288 with 1 Axes>"
            ],
            "image/png": "[encoded data removed]",
            "application/pdf": "[encoded data removed]"
          },
          "metadata": {
            "needs_background": "light"
          }
        }
      ]
    },
    {
      "cell_type": "markdown",
      "source": [
        "The order of the data has\n",
        "meaning, and we can’t arbitrarily reorder things without potentially destroying the\n",
        "structure and thus the data.\n",
        "\n",
        "Let’s look at this more explicitly. \n",
        "\n",
        "What happens if we shuffle the data within a channel?\n",
        "Does it have the same important structured meaning? "
      ],
      "metadata": {
        "id": "yOSyWwCX6lap"
      }
    },
    {
      "cell_type": "code",
      "source": [
        "# Let’s look at the digit 5 one last time but randomly shuffle the values in the tensor\n",
        "rand_order = torch.randperm(x_example.shape[1] * x_example.shape[2])\n",
        "x_shuffled = x_example.view(-1)[rand_order].view(x_example.shape)\n",
        "\n",
        "imshow(x_shuffled[0, :], cmap=\"gray\")"
      ],
      "metadata": {
        "id": "FNSpCz0P6tsl",
        "outputId": "042ed752-fbda-4e5c-f0dc-de2a2c57b6d2",
        "colab": {
          "base_uri": "https://localhost:8080/",
          "height": 282
        }
      },
      "execution_count": 14,
      "outputs": [
        {
          "output_type": "execute_result",
          "data": {
            "text/plain": [
              "<matplotlib.image.AxesImage at 0x7f153f995510>"
            ]
          },
          "metadata": {},
          "execution_count": 14
        },
        {
          "output_type": "display_data",
          "data": {
            "text/plain": [
              "<Figure size 432x288 with 1 Axes>"
            ],
            "image/png": "[encoded data removed]",
            "application/pdf": "[encoded data removed]"
          },
          "metadata": {
            "needs_background": "light"
          }
        }
      ]
    },
    {
      "cell_type": "markdown",
      "source": [
        "As you can see, this has completely changed the meaning of the image. \n",
        "Instead of being a 5, it’s . . . nothing, really.\n",
        "\n",
        "**The locations of a value and its nearby values are intrinsically part\n",
        "of that value’s meaning. The value of one pixel cannot be separated from its neighbors. This is the structural spatial prior we try to capture.**"
      ],
      "metadata": {
        "id": "MEVtoxby7h2z"
      }
    },
    {
      "cell_type": "markdown",
      "source": [
        "##1D convolutions"
      ],
      "metadata": {
        "id": "lEycMUJEHRMx"
      }
    },
    {
      "cell_type": "markdown",
      "source": [
        "To understand how a convolution works, let’s talk about a one-dimensional CNN first.\n",
        "\n",
        "<img src='https://github.com/rahiakela/deep-learning-research-and-practice/blob/main/inside-deep-learing/03-convolutional-neural-networks/images/cnn2.png?raw=1' width='600'/>\n",
        "\n",
        "For each output, you can see arrows\n",
        "coming in for the spatially relevant inputs for that output.\n",
        "\n",
        "Notice it is always the same three values\n",
        "from the filter, applied to every position in the input."
      ],
      "metadata": {
        "id": "kIls37RRfGmy"
      }
    },
    {
      "cell_type": "code",
      "source": [
        "filter = [1, 0, -1]\n",
        "input = [1, 0, 2, -1, 1, 2]\n",
        "output = []\n",
        "\n",
        "# Slides the filter over the input\n",
        "for i in range(len(input) - len(filter)):\n",
        "  result = 0\n",
        "  # Applies the filter at this location\n",
        "  for j in range(len(filter)):\n",
        "    result += input[i + j] * filter[j]\n",
        "  output.append(result)\n",
        "print(output)"
      ],
      "metadata": {
        "id": "dk1S1LwtTqln",
        "outputId": "f2e78cce-1057-43bb-cd5e-dee07263a9be",
        "colab": {
          "base_uri": "https://localhost:8080/"
        }
      },
      "execution_count": 15,
      "outputs": [
        {
          "output_type": "stream",
          "name": "stdout",
          "text": [
            "[-1, 1, 1]\n"
          ]
        }
      ]
    },
    {
      "cell_type": "markdown",
      "source": [
        "In effect, we are sliding the filter across every location in the input, computing a value at\n",
        "each location, and storing it in the output. That’s what a convolution is. \n",
        "\n",
        "The size of the output shrinks because we run out of values at the edges of the input."
      ],
      "metadata": {
        "id": "-eBXiqUAhgAb"
      }
    },
    {
      "cell_type": "markdown",
      "source": [
        "##2D convolutions"
      ],
      "metadata": {
        "id": "cMahTV_XhsoR"
      }
    },
    {
      "cell_type": "markdown",
      "source": [
        "As we increase the number of dimensions $r$ in our tensor, the idea of convolutions and\n",
        "how they work stays the same: we slide a filter around the input, multiply the values in\n",
        "the filter with each area of the image, and then take the sum.\n",
        "\n",
        "<img src='https://github.com/rahiakela/deep-learning-research-and-practice/blob/main/inside-deep-learing/03-convolutional-neural-networks/images/cnn3.png?raw=1' width='600'/>\n",
        "\n",
        "Again, the 2D output results from multiplying the filter values (pairwise) at each location\n",
        "and summing them all."
      ],
      "metadata": {
        "id": "yx65bQxdhtU3"
      }
    },
    {
      "cell_type": "code",
      "source": [
        "filter = [\n",
        "  [0, 1, 0],\n",
        "  [0, 1, 0],\n",
        "  [0, 1, 0]        \n",
        "]\n",
        "input = [\n",
        "  [0, 0, 1, 1, 0, 0],\n",
        "  [0, 1, 0, 1, 0, 0],\n",
        "  [0, 0, 0, 1, 0, 0],\n",
        "  [0, 0, 0, 1, 0, 0],\n",
        "  [0, 0, 0, 1, 1, 0],\n",
        "  [0, 1, 1, 1, 1, 1]      \n",
        "]\n",
        "\n",
        "height, width = len(input), len(input[0])\n",
        "output = []\n",
        "\n",
        "# Slides the filter over the rows\n",
        "for i in range(height - len(filter)):\n",
        "  row_out = []\n",
        "  # Slides the filter over the columns\n",
        "  for j in range(width - len(filter)):\n",
        "    result = 0\n",
        "    # Applies the filter at this location\n",
        "    for k_i in range(len(filter)):\n",
        "      for k_j in range(len(filter)):\n",
        "        result += input[i + k_i][j + k_j] * filter[k_i][k_j]\n",
        "    row_out.append(result)\n",
        "  output.append(row_out)\n",
        "\n",
        "print(output)"
      ],
      "metadata": {
        "colab": {
          "base_uri": "https://localhost:8080/"
        },
        "id": "WjbtNNN8v2za",
        "outputId": "f9393796-7495-4d08-8827-54b1a3a069e5"
      },
      "execution_count": 16,
      "outputs": [
        {
          "output_type": "stream",
          "name": "stdout",
          "text": [
            "[[1, 1, 3], [1, 0, 3], [0, 0, 3]]\n"
          ]
        }
      ]
    },
    {
      "cell_type": "markdown",
      "source": [
        "##Image processing"
      ],
      "metadata": {
        "id": "JsnYWhKcyFSZ"
      }
    },
    {
      "cell_type": "markdown",
      "source": [
        "Let’s again look at a specific image of the digit 4 from MNIST."
      ],
      "metadata": {
        "id": "aL6ks2mCyGCC"
      }
    },
    {
      "cell_type": "code",
      "source": [
        "img_index = 58\n",
        "img = mnist_data_train[img_index][0][0, :]\n",
        "plt.imshow(img, vmin=0, vmax=1, cmap=\"gray\")"
      ],
      "metadata": {
        "id": "ucasahgORM7H",
        "outputId": "0e999994-7627-42f6-9d6c-1a4050a06d30",
        "colab": {
          "base_uri": "https://localhost:8080/",
          "height": 282
        }
      },
      "execution_count": 18,
      "outputs": [
        {
          "output_type": "execute_result",
          "data": {
            "text/plain": [
              "<matplotlib.image.AxesImage at 0x7f153d281c10>"
            ]
          },
          "metadata": {},
          "execution_count": 18
        },
        {
          "output_type": "display_data",
          "data": {
            "text/plain": [
              "<Figure size 432x288 with 1 Axes>"
            ],
            "image/png": "[encoded data removed]",
            "application/pdf": "[encoded data removed]"
          },
          "metadata": {
            "needs_background": "light"
          }
        }
      ]
    },
    {
      "cell_type": "markdown",
      "source": [
        "One common computer vision operation is to blur an image. Blurring involves taking\n",
        "a local average pixel value and replacing every pixel with the average of its neighbors.\n",
        "\n",
        "This can be useful to wash out small noisy artifacts or soften a sharp edge."
      ],
      "metadata": {
        "id": "Jrj9yc50YZRh"
      }
    },
    {
      "cell_type": "code",
      "source": [
        "blur_filter = np.asarray([\n",
        "    [1, 1, 1],\n",
        "    [1, 1, 1],\n",
        "    [1, 1, 1]                    \n",
        "]) / 9.0\n",
        "\n",
        "blurry_img = convolve(img, blur_filter)\n",
        "plt.imshow(blurry_img, vmin=0, vmax=1, cmap=\"gray\")\n",
        "plt.show()"
      ],
      "metadata": {
        "id": "dUKPKUHmYaSq",
        "outputId": "dc8049da-6cbe-49ac-dd0c-85c3ceb9ca97",
        "colab": {
          "base_uri": "https://localhost:8080/",
          "height": 266
        }
      },
      "execution_count": 19,
      "outputs": [
        {
          "output_type": "display_data",
          "data": {
            "text/plain": [
              "<Figure size 432x288 with 1 Axes>"
            ],
            "image/png": "[encoded data removed]",
            "application/pdf": "[encoded data removed]"
          },
          "metadata": {
            "needs_background": "light"
          }
        }
      ]
    },
    {
      "cell_type": "markdown",
      "source": [
        "An especially common application of convolutions is to perform edge detection."
      ],
      "metadata": {
        "id": "leS-XTRVaPRh"
      }
    },
    {
      "cell_type": "code",
      "source": [
        "# find edges by focusing on the difference between a pixel and its neighbors\n",
        "edge_filter = np.asarray([\n",
        "   [-1, -1, -1], \n",
        "   [-1, 8, -1],\n",
        "   [-1, -1, -1],                      \n",
        "])\n",
        "\n",
        "edge_img = convolve(img, edge_filter)\n",
        "plt.imshow(edge_img, vmin=0, vmax=1, cmap=\"gray\")\n",
        "plt.show()"
      ],
      "metadata": {
        "id": "glYGkGgjaPvT",
        "outputId": "b14bf772-fd11-4274-fb6a-a0bd031b4abb",
        "colab": {
          "base_uri": "https://localhost:8080/",
          "height": 266
        }
      },
      "execution_count": 20,
      "outputs": [
        {
          "output_type": "display_data",
          "data": {
            "text/plain": [
              "<Figure size 432x288 with 1 Axes>"
            ],
            "image/png": "[encoded data removed]",
            "application/pdf": "[encoded data removed]"
          },
          "metadata": {
            "needs_background": "light"
          }
        }
      ]
    },
    {
      "cell_type": "markdown",
      "source": [
        "If we constrain ourselves to a `3 x 3` kernel, it is easiest to find horizontal or vertical edges. \n",
        "\n",
        "Let’s create one for horizontal edges by making the kernel values change signs across the horizontal of the filter."
      ],
      "metadata": {
        "id": "TCgmtWmUbG32"
      }
    },
    {
      "cell_type": "code",
      "source": [
        "# look for only horizontal edges\n",
        "h_edge_filter = np.asarray([\n",
        "   [-1, -1, -1], \n",
        "   [0, 0, 0],\n",
        "   [1, 1, 1],                      \n",
        "])\n",
        "\n",
        "h_edge_img = convolve(img, h_edge_filter)\n",
        "plt.imshow(h_edge_img, vmin=0, vmax=1, cmap=\"gray\")\n",
        "plt.show()"
      ],
      "metadata": {
        "id": "98O7mLJubNL_",
        "outputId": "7ddfd48f-6de3-420e-9300-fecc02b4ed8b",
        "colab": {
          "base_uri": "https://localhost:8080/",
          "height": 266
        }
      },
      "execution_count": 21,
      "outputs": [
        {
          "output_type": "display_data",
          "data": {
            "text/plain": [
              "<Figure size 432x288 with 1 Axes>"
            ],
            "image/png": "[encoded data removed]",
            "application/pdf": "[encoded data removed]"
          },
          "metadata": {
            "needs_background": "light"
          }
        }
      ]
    },
    {
      "cell_type": "markdown",
      "source": [
        "Let’s create one for vertical edges by making the kernel values change signs across the vertical of the filter."
      ],
      "metadata": {
        "id": "b4uKVkQ1e_Jm"
      }
    },
    {
      "cell_type": "code",
      "source": [
        "# look for only vertical edges\n",
        "v_edge_filter = np.asarray([\n",
        "   [-1, 0, 1], \n",
        "   [-1, 0, 1],\n",
        "   [-1, 0, 1],                      \n",
        "])\n",
        "\n",
        "v_edge_img = convolve(img, v_edge_filter)\n",
        "plt.imshow(v_edge_img, vmin=0, vmax=1, cmap=\"gray\")\n",
        "plt.show()"
      ],
      "metadata": {
        "id": "M8mCuld0etDB",
        "outputId": "b2969f48-bccb-44ab-a738-256900c90ca9",
        "colab": {
          "base_uri": "https://localhost:8080/",
          "height": 266
        }
      },
      "execution_count": 22,
      "outputs": [
        {
          "output_type": "display_data",
          "data": {
            "text/plain": [
              "<Figure size 432x288 with 1 Axes>"
            ],
            "image/png": "[encoded data removed]",
            "application/pdf": "[encoded data removed]"
          },
          "metadata": {
            "needs_background": "light"
          }
        }
      ]
    },
    {
      "cell_type": "markdown",
      "source": [
        "##First naive CNN"
      ],
      "metadata": {
        "id": "oZvmRNRkemrv"
      }
    },
    {
      "cell_type": "markdown",
      "source": [
        ""
      ],
      "metadata": {
        "id": "K9taqMjYeqbA"
      }
    }
  ]
}