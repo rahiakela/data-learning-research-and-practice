{
  "nbformat": 4,
  "nbformat_minor": 0,
  "metadata": {
    "colab": {
      "name": "02-pseudo-inverse-and-over-determined-system.ipynb",
      "provenance": [],
      "toc_visible": true,
      "authorship_tag": "ABX9TyNL7I/aDkQjG7sEF752oZJt",
      "include_colab_link": true
    },
    "kernelspec": {
      "name": "python3",
      "display_name": "Python 3"
    },
    "language_info": {
      "name": "python"
    }
  },
  "cells": [
    {
      "cell_type": "markdown",
      "metadata": {
        "id": "view-in-github",
        "colab_type": "text"
      },
      "source": [
        "<a href=\"https://colab.research.google.com/github/rahiakela/deep-learning-research-and-practice/blob/main/math-and-architectures-of-deep-learning/introduction-to-vectors-matrices-and-tensors/02_pseudo_inverse_and_over_determined_system.ipynb\" target=\"_parent\"><img src=\"https://colab.research.google.com/assets/colab-badge.svg\" alt=\"Open In Colab\"/></a>"
      ]
    },
    {
      "cell_type": "markdown",
      "source": [
        "##Pseudo inverse and over-determined system"
      ],
      "metadata": {
        "id": "ltkjGN9-EmW2"
      }
    },
    {
      "cell_type": "markdown",
      "source": [
        "Let's consider the over-determined system corresponding to cat-brain.\n",
        "\n",
        "There are 15 training examples, each with input and desired outputs specified.\n",
        "\n",
        "Our goal is to determine 3 unkwnowns (w0, w1, b).\n",
        "\n",
        "This can be cast as an over-determined system of equations\n",
        "\n",
        "$$\n",
        "A\\vec{w} = \\vec{y}\n",
        "$$\n",
        "where\n",
        "$$ \n",
        "A =\n",
        "\\begin{bmatrix}\n",
        "        0.11 & 0.09 & 1.00 \\\\\n",
        "        0.01 & 0.02 & 1.00 \\\\\n",
        "        0.98 & 0.91 & 1.00 \\\\\n",
        "        0.12 & 0.21 & 1.00 \\\\\n",
        "        0.98 & 0.99 & 1.00 \\\\\n",
        "        0.85 & 0.87 & 1.00 \\\\\n",
        "        0.03 & 0.14 & 1.00 \\\\\n",
        "        0.55 & 0.45 & 1.00 \\\\\n",
        "        0.49 & 0.51 & 1.00 \\\\\n",
        "        0.99 & 0.01 & 1.00 \\\\\n",
        "        0.02 & 0.89 & 1.00 \\\\\n",
        "        0.31 & 0.47 & 1.00 \\\\\n",
        "        0.55 & 0.29 & 1.00 \\\\\n",
        "        0.87 & 0.76 & 1.00 \\\\\n",
        "        0.63 & 0.24 & 1.00\n",
        "\\end{bmatrix}\n",
        "\\;\\;\\;\\;\\;\\;\\;\n",
        "\\vec{y} = \n",
        "\\begin{bmatrix}\n",
        "        -0.8 \\\\\n",
        "        -0.97 \\\\\n",
        "        0.89 \\\\ \n",
        "        -0.67 \\\\ \n",
        "        0.97 \\\\ \n",
        "        0.72 \\\\ \n",
        "        -0.83 \\\\ \n",
        "        0.00 \\\\\n",
        "        0.00 \\\\\n",
        "        0.00 \\\\\n",
        "        -0.09 \\\\\n",
        "        -0.22 \\\\ \n",
        "        -0.16 \\\\\n",
        "        0.63 \\\\\n",
        "        0.37\n",
        "\\end{bmatrix}\n",
        "\\;\\;\\;\\;\\;\\;\\;\n",
        "\\vec{w} = \\begin{bmatrix} w_{0}\\\\w_{1}\\\\b\\end{bmatrix}\n",
        "$$\n",
        "\n",
        "We solve for $\\vec{w}$ using the pseudo inverse formula $\\space\\space\\large{\\vec{w} = (A^TA)^{-1}A^Ty}$\n",
        "\n",
        "Note that this is not a classic system of equations - it has more equations than unknowns. \n",
        "\n",
        "We cannot solve this via matrix inversion. We can however, use the pseudo-inverse mechanism\n",
        "to solve this. \n",
        "\n",
        "The resulting solution yields the ”best fit” or ”best effort” solution, which minimizes the total error over all the training examples."
      ],
      "metadata": {
        "id": "sti_nU3kR-fw"
      }
    },
    {
      "cell_type": "code",
      "source": [
        "import numpy as np\n",
        "import torch"
      ],
      "metadata": {
        "id": "JsRgdABiFg4F"
      },
      "execution_count": 1,
      "outputs": []
    },
    {
      "cell_type": "code",
      "source": [
        "torch.manual_seed(42)"
      ],
      "metadata": {
        "colab": {
          "base_uri": "https://localhost:8080/"
        },
        "id": "fGUvrmiKFj8v",
        "outputId": "5028349a-a899-4e9e-ea22-e9411b978268"
      },
      "execution_count": 2,
      "outputs": [
        {
          "output_type": "execute_result",
          "data": {
            "text/plain": [
              "<torch._C.Generator at 0x7fd655359a70>"
            ]
          },
          "metadata": {},
          "execution_count": 2
        }
      ]
    },
    {
      "cell_type": "markdown",
      "source": [
        "Let us revisit our cat brain data set.\n",
        "\n",
        "Notice that there are 15 training examples, with 3 unkwnowns (w0, w1, b).\n",
        "This is an over determined system.\n",
        "\n",
        "It can be easily seen that the solution is roughly\n",
        "$w_{0} = 1, w_{1} = 1, b = -1$.\n",
        "\n",
        "It has been deliberately chosen as such.\n",
        "But the equations are not fully consistent (i.e., there is\n",
        " no solution that satisfies all the equations).\n",
        " \n",
        "We want to find the best values such that it minimizes $Aw - b$.\n",
        "This is what the pseudo-inverse does."
      ],
      "metadata": {
        "id": "Gtqw_3h5EnCR"
      }
    },
    {
      "cell_type": "code",
      "source": [
        "def pseudo_inverse(A):\n",
        "  return torch.matmul(torch.linalg.inv(torch.matmul(A.T, A)), A.T)"
      ],
      "metadata": {
        "id": "2F-RWUsoFoqT"
      },
      "execution_count": 3,
      "outputs": []
    },
    {
      "cell_type": "code",
      "source": [
        "# The usual cat-brain input dataset\n",
        "X = torch.tensor([\n",
        "  [0.11, 0.09], [0.01, 0.02], [0.98, 0.91], [0.12, 0.21],\n",
        "  [0.98, 0.99], [0.85, 0.87], [0.03, 0.14], [0.55, 0.45],\n",
        "  [0.49, 0.51], [0.99, 0.01], [0.02, 0.89], [0.31, 0.47],\n",
        "  [0.55, 0.29], [0.87, 0.76], [0.63, 0.24]\n",
        "])\n",
        "\n",
        "# Output threat score modeled as a vector\n",
        "y = torch.tensor([-0.8, -0.97, 0.89, -0.67, 0.97, 0.72, -0.83, 0.00, 0.00, 0.00, -0.09, -0.22, -0.16, 0.63, 0.37])\n",
        "# Column stack will add an additional column of 1s to the training dataset to represent the coefficient of the bias\n",
        "A = torch.column_stack((X, torch.ones(15)))  # A is the augmented data matrix\n",
        "\n",
        "# Pseudo-inverse finds the ”best fit” solution - minimizes total error for all the equations\n",
        "w = torch.matmul(pseudo_inverse(A), y)\n",
        "# Expect the solution to be close to [1, 1, -1]\n",
        "print(f\"The solution is {w}\\nNote that this is almost equal to [1.0, 1.0, -1.0])\")"
      ],
      "metadata": {
        "colab": {
          "base_uri": "https://localhost:8080/"
        },
        "id": "vrnIgp6bUijG",
        "outputId": "0386e7d6-32d2-40a2-94c2-d7af76ac9cd5"
      },
      "execution_count": 5,
      "outputs": [
        {
          "output_type": "stream",
          "name": "stdout",
          "text": [
            "The solution is tensor([ 1.0766,  0.8976, -0.9582])\n",
            "Note that this is almost equal to [1.0, 1.0, -1.0])\n"
          ]
        }
      ]
    }
  ]
}