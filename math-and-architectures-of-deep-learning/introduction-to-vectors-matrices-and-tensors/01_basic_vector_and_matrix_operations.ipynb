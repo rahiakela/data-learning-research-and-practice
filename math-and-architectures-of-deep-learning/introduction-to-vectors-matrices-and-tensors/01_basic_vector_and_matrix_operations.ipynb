{
  "nbformat": 4,
  "nbformat_minor": 0,
  "metadata": {
    "colab": {
      "name": "01-basic-vector-and-matrix-operations.ipynb",
      "provenance": [],
      "toc_visible": true,
      "authorship_tag": "ABX9TyMnvZ6lmEWb6Agd7H1778Xb",
      "include_colab_link": true
    },
    "kernelspec": {
      "name": "python3",
      "display_name": "Python 3"
    },
    "language_info": {
      "name": "python"
    }
  },
  "cells": [
    {
      "cell_type": "markdown",
      "metadata": {
        "id": "view-in-github",
        "colab_type": "text"
      },
      "source": [
        "<a href=\"https://colab.research.google.com/github/rahiakela/deep-learning-research-and-practice/blob/main/math-and-architectures-of-deep-learning/introduction-to-vectors-matrices-and-tensors/01_basic_vector_and_matrix_operations.ipynb\" target=\"_parent\"><img src=\"https://colab.research.google.com/assets/colab-badge.svg\" alt=\"Open In Colab\"/></a>"
      ]
    },
    {
      "cell_type": "markdown",
      "source": [
        "##Basic Vector and Matrix operations"
      ],
      "metadata": {
        "id": "ltkjGN9-EmW2"
      }
    },
    {
      "cell_type": "code",
      "source": [
        "import numpy as np\n",
        "import torch"
      ],
      "metadata": {
        "id": "JsRgdABiFg4F"
      },
      "execution_count": 1,
      "outputs": []
    },
    {
      "cell_type": "code",
      "source": [
        "torch.manual_seed(42)"
      ],
      "metadata": {
        "colab": {
          "base_uri": "https://localhost:8080/"
        },
        "id": "fGUvrmiKFj8v",
        "outputId": "630fcc16-a415-4a7d-cfdf-1ae566833e51"
      },
      "execution_count": 2,
      "outputs": [
        {
          "output_type": "execute_result",
          "data": {
            "text/plain": [
              "<torch._C.Generator at 0x7f29186078f0>"
            ]
          },
          "metadata": {},
          "execution_count": 2
        }
      ]
    },
    {
      "cell_type": "markdown",
      "source": [
        "##Transpose"
      ],
      "metadata": {
        "id": "Gtqw_3h5EnCR"
      }
    },
    {
      "cell_type": "code",
      "source": [
        "# torch.arange(start, stop, step) creates a vector whose elements go from start to stop in increments of step. \n",
        "# E.g., torch.arange(0, 72, 8) will  be [0, 8, 16, 24, ..64]. We will create an image with 4 rows and 9 cols using this function now.\n",
        "I49 = torch.stack([\n",
        "  torch.arange(0, 72, 8),\n",
        "  torch.arange(64, 136, 8),\n",
        "  torch.arange(128, 200, 8),\n",
        "  torch.arange(192, 264, 8)\n",
        "])\n",
        "print(f\"Shape of the matrix is: {I49.shape}\")\n",
        "\n",
        "# Transpose of a matrix interchanges rows and cols. A 4 x 9 matrix becomes 9 x 4 on transposition.\n",
        "I94 = torch.transpose(I49, 0, 1)\n",
        "print(f\"Shape of transposed matrix is: {I94.shape}\")\n",
        "\n",
        "# Let us asssert that it is a true transpose, i.e., I[i][j] == I_t[j][1]\n",
        "for i in range(0, I49.shape[0]):\n",
        "  for j in range(0, I94.shape[1]):\n",
        "    assert I49[i][j] == I94[j][i]\n",
        "\n",
        "# .T retrieves the transpose of a matrix (array)\n",
        "assert torch.allclose(I94, I49.T, 1e-5)"
      ],
      "metadata": {
        "colab": {
          "base_uri": "https://localhost:8080/"
        },
        "id": "2F-RWUsoFoqT",
        "outputId": "77a3c407-d0af-44f6-e34c-1f66f77a9f62"
      },
      "execution_count": 5,
      "outputs": [
        {
          "output_type": "stream",
          "name": "stdout",
          "text": [
            "Shape of the matrix is: torch.Size([4, 9])\n",
            "Shape of transposed matrix is: torch.Size([9, 4])\n"
          ]
        }
      ]
    },
    {
      "cell_type": "markdown",
      "source": [
        "##Dot product"
      ],
      "metadata": {
        "id": "M6RU-w82IZqG"
      }
    },
    {
      "cell_type": "markdown",
      "source": [
        "The dot product of two vectors $\\vec{a}$ and $\\vec{b}$ represents the\n",
        "component of one vector along the other.\n",
        "\n",
        "Consider two vectors $\\vec{a} = [a_1\\;\\;a_2\\;\\;a_3]$ and\n",
        "$\\vec{b} = [b_1\\;\\;b_2\\;\\;b_3]$.\n",
        "<br>Then $\\vec{a}\\space.\\vec{b} = a_1b_1 + a_2b_2 + a_3b_3$"
      ],
      "metadata": {
        "id": "E9w7t2nqJ2Vk"
      }
    },
    {
      "cell_type": "code",
      "source": [
        "a = torch.tensor([1, 2, 3])\n",
        "b = torch.tensor([4, 5, 6])\n",
        "\n",
        "a_dot_b = np.dot(a, b)\n",
        "print(f\"Dot product of these two vectors is: {a_dot_b}\")\n",
        "\n",
        "# Dot product of perpendicular vectors is zero\n",
        "vx = torch.tensor([1, 0])   # a vector along X-axis\n",
        "vy = torch.tensor([0, 1])   # a vector along Y-axis\n",
        "print(f\"Dot product of orthogonal vectors: {torch.dot(vx, vy)}\")"
      ],
      "metadata": {
        "colab": {
          "base_uri": "https://localhost:8080/"
        },
        "id": "SQ4G-AsvIaUa",
        "outputId": "ab37ebc7-fe2d-4060-81ae-b6924863bc07"
      },
      "execution_count": 7,
      "outputs": [
        {
          "output_type": "stream",
          "name": "stdout",
          "text": [
            "Dot product of these two vectors is: 32\n",
            "Dot product of orthogonal vectors: 0\n"
          ]
        }
      ]
    },
    {
      "cell_type": "markdown",
      "source": [
        "##Matrix vector multiplication"
      ],
      "metadata": {
        "id": "gWk2MUtvK4KM"
      }
    },
    {
      "cell_type": "markdown",
      "source": [
        "Matrices can be multiplied with other matrices or vector.\n",
        "\n",
        "Consider a matrix $A_{m,n}$ with m rows and n columns which is multiplied\n",
        "with a vector $\\vec{b_{n}}$ with n elements.\n",
        "\n",
        "Below we show an example with $m = 3$ and $n = 2$.\n",
        "\n",
        "The resultant vector $\\vec{c_{m}}$ is:\n",
        "\\begin{align*}\n",
        "\\begin{bmatrix}\n",
        "        c_{1} \\\\\n",
        "        c_{2}  \\\\\n",
        "        c_{3}\n",
        "\\end{bmatrix}\n",
        "& = \n",
        "\\begin{bmatrix}\n",
        "        a_{11} & a_{12} \\\\\n",
        "        a_{21} & a_{22} \\\\\n",
        "        a_{31} & a_{32}\n",
        "\\end{bmatrix}\n",
        "\\begin{bmatrix}\n",
        "        b_{1} \\\\\n",
        "        b_{2} \\\\\n",
        "\\end{bmatrix}\\\\\n",
        "\\\\\n",
        "c_{1} &= a_{11}b_{1} + a_{12}b_{2} \\\\\n",
        "c_{2} &= a_{21}b_{2} + a_{22}b_{2} \\\\\n",
        "c_{3} &= a_{31}b_{2} + a_{32}b_{2}\n",
        "\\end{align*}\n",
        "\n",
        "In general\n",
        "$$\n",
        "c_{i} = a_{i1}b_{1} + a_{i2}b_{2} + \\cdots + a_{in}b_{n} \\\\\n",
        "$$"
      ],
      "metadata": {
        "id": "abUG58CnK72k"
      }
    },
    {
      "cell_type": "code",
      "source": [
        ""
      ],
      "metadata": {
        "id": "jOO6C_-vLBWg"
      },
      "execution_count": null,
      "outputs": []
    }
  ]
}