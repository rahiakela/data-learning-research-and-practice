{
  "nbformat": 4,
  "nbformat_minor": 0,
  "metadata": {
    "colab": {
      "name": "01-basic-vector-and-matrix-operations.ipynb",
      "provenance": [],
      "toc_visible": true,
      "authorship_tag": "ABX9TyOaRTgLPdGNBr0X9KttGFQX",
      "include_colab_link": true
    },
    "kernelspec": {
      "name": "python3",
      "display_name": "Python 3"
    },
    "language_info": {
      "name": "python"
    }
  },
  "cells": [
    {
      "cell_type": "markdown",
      "metadata": {
        "id": "view-in-github",
        "colab_type": "text"
      },
      "source": [
        "<a href=\"https://colab.research.google.com/github/rahiakela/deep-learning-research-and-practice/blob/main/math-and-architectures-of-deep-learning/introduction-to-vectors-matrices-and-tensors/01_basic_vector_and_matrix_operations.ipynb\" target=\"_parent\"><img src=\"https://colab.research.google.com/assets/colab-badge.svg\" alt=\"Open In Colab\"/></a>"
      ]
    },
    {
      "cell_type": "markdown",
      "source": [
        "##Basic Vector and Matrix operations"
      ],
      "metadata": {
        "id": "ltkjGN9-EmW2"
      }
    },
    {
      "cell_type": "code",
      "source": [
        "import numpy as np\n",
        "import torch"
      ],
      "metadata": {
        "id": "JsRgdABiFg4F"
      },
      "execution_count": 1,
      "outputs": []
    },
    {
      "cell_type": "code",
      "source": [
        "torch.manual_seed(42)"
      ],
      "metadata": {
        "colab": {
          "base_uri": "https://localhost:8080/"
        },
        "id": "fGUvrmiKFj8v",
        "outputId": "c1ffe590-a87e-4c05-9f89-bac0df80210a"
      },
      "execution_count": 2,
      "outputs": [
        {
          "output_type": "execute_result",
          "data": {
            "text/plain": [
              "<torch._C.Generator at 0x7fbc3a457910>"
            ]
          },
          "metadata": {},
          "execution_count": 2
        }
      ]
    },
    {
      "cell_type": "markdown",
      "source": [
        "##Transpose"
      ],
      "metadata": {
        "id": "Gtqw_3h5EnCR"
      }
    },
    {
      "cell_type": "code",
      "source": [
        "# torch.arange(start, stop, step) creates a vector whose elements go from start to stop in increments of step. \n",
        "# E.g., torch.arange(0, 72, 8) will  be [0, 8, 16, 24, ..64]. We will create an image with 4 rows and 9 cols using this function now.\n",
        "I49 = torch.stack([\n",
        "  torch.arange(0, 72, 8),\n",
        "  torch.arange(64, 136, 8),\n",
        "  torch.arange(128, 200, 8),\n",
        "  torch.arange(192, 264, 8)\n",
        "])\n",
        "print(f\"Shape of the matrix is: {I49.shape}\")\n",
        "\n",
        "# Transpose of a matrix interchanges rows and cols. A 4 x 9 matrix becomes 9 x 4 on transposition.\n",
        "I94 = torch.transpose(I49, 0, 1)\n",
        "print(f\"Shape of transposed matrix is: {I94.shape}\")\n",
        "\n",
        "# Let us asssert that it is a true transpose, i.e., I[i][j] == I_t[j][1]\n",
        "for i in range(0, I49.shape[0]):\n",
        "  for j in range(0, I94.shape[1]):\n",
        "    assert I49[i][j] == I94[j][i]\n",
        "\n",
        "# .T retrieves the transpose of a matrix (array)\n",
        "assert torch.allclose(I94, I49.T, 1e-5)"
      ],
      "metadata": {
        "colab": {
          "base_uri": "https://localhost:8080/"
        },
        "id": "2F-RWUsoFoqT",
        "outputId": "f9e3e927-1129-43c8-bb7b-39d87a61811c"
      },
      "execution_count": 3,
      "outputs": [
        {
          "output_type": "stream",
          "name": "stdout",
          "text": [
            "Shape of the matrix is: torch.Size([4, 9])\n",
            "Shape of transposed matrix is: torch.Size([9, 4])\n"
          ]
        }
      ]
    },
    {
      "cell_type": "markdown",
      "source": [
        "##Dot product"
      ],
      "metadata": {
        "id": "M6RU-w82IZqG"
      }
    },
    {
      "cell_type": "markdown",
      "source": [
        "The dot product of two vectors $\\vec{a}$ and $\\vec{b}$ represents the\n",
        "component of one vector along the other.\n",
        "\n",
        "Consider two vectors $\\vec{a} = [a_1\\;\\;a_2\\;\\;a_3]$ and\n",
        "$\\vec{b} = [b_1\\;\\;b_2\\;\\;b_3]$.\n",
        "<br>Then $\\vec{a}\\space.\\vec{b} = a_1b_1 + a_2b_2 + a_3b_3$"
      ],
      "metadata": {
        "id": "E9w7t2nqJ2Vk"
      }
    },
    {
      "cell_type": "code",
      "source": [
        "a = torch.tensor([1, 2, 3])\n",
        "b = torch.tensor([4, 5, 6])\n",
        "\n",
        "a_dot_b = np.dot(a, b)\n",
        "print(f\"Dot product of these two vectors is: {a_dot_b}\")\n",
        "\n",
        "# Dot product of perpendicular vectors is zero\n",
        "vx = torch.tensor([1, 0])   # a vector along X-axis\n",
        "vy = torch.tensor([0, 1])   # a vector along Y-axis\n",
        "print(f\"Dot product of orthogonal vectors: {torch.dot(vx, vy)}\")"
      ],
      "metadata": {
        "colab": {
          "base_uri": "https://localhost:8080/"
        },
        "id": "SQ4G-AsvIaUa",
        "outputId": "3e529fda-697b-4df1-deaa-b919a680e017"
      },
      "execution_count": 4,
      "outputs": [
        {
          "output_type": "stream",
          "name": "stdout",
          "text": [
            "Dot product of these two vectors is: 32\n",
            "Dot product of orthogonal vectors: 0\n"
          ]
        }
      ]
    },
    {
      "cell_type": "markdown",
      "source": [
        "##Matrix vector multiplication"
      ],
      "metadata": {
        "id": "gWk2MUtvK4KM"
      }
    },
    {
      "cell_type": "markdown",
      "source": [
        "Matrices can be multiplied with other matrices or vector.\n",
        "\n",
        "Consider a matrix $A_{m,n}$ with m rows and n columns which is multiplied\n",
        "with a vector $\\vec{b_{n}}$ with n elements.\n",
        "\n",
        "Below we show an example with $m = 3$ and $n = 2$.\n",
        "\n",
        "The resultant vector $\\vec{c_{m}}$ is:\n",
        "\\begin{align*}\n",
        "\\begin{bmatrix}\n",
        "        c_{1} \\\\\n",
        "        c_{2}  \\\\\n",
        "        c_{3}\n",
        "\\end{bmatrix}\n",
        "& = \n",
        "\\begin{bmatrix}\n",
        "        a_{11} & a_{12} \\\\\n",
        "        a_{21} & a_{22} \\\\\n",
        "        a_{31} & a_{32}\n",
        "\\end{bmatrix}\n",
        "\\begin{bmatrix}\n",
        "        b_{1} \\\\\n",
        "        b_{2} \\\\\n",
        "\\end{bmatrix}\\\\\n",
        "\\\\\n",
        "c_{1} &= a_{11}b_{1} + a_{12}b_{2} \\\\\n",
        "c_{2} &= a_{21}b_{2} + a_{22}b_{2} \\\\\n",
        "c_{3} &= a_{31}b_{2} + a_{32}b_{2}\n",
        "\\end{align*}\n",
        "\n",
        "In general\n",
        "$$\n",
        "c_{i} = a_{i1}b_{1} + a_{i2}b_{2} + \\cdots + a_{in}b_{n} \\\\\n",
        "$$\n",
        "\n",
        "Let us consider the familiar cat-brain training dataset\n",
        "We have defined our model's output to be $x.w + b$ for every\n",
        "training example $x$ i.e the output is the sum of \n",
        "dot product of the weight vector with the training input vector \n",
        "and the bias.\n",
        "\n",
        "We can bulk compute the dot products of all the training\n",
        "examples with a given weight vector by just multiplying \n",
        "the matrix $X$ (whose rows correspond to individual training\n",
        "examples) with vector $w$.\n",
        "\n",
        "Finally we add the bias vector. $b = 5.0$.\n",
        "Note that $X*w$ is a vector, whereas $b$ is a scalar.\n",
        "\n",
        "In this case, the scalar is broadcasted\n",
        "to all elements of the vector."
      ],
      "metadata": {
        "id": "abUG58CnK72k"
      }
    },
    {
      "cell_type": "code",
      "source": [
        "# Let us reload the cat-brain data matrix X.\n",
        "X = torch.tensor([\n",
        "  [0.11, 0.09], [0.01, 0.02], [0.98, 0.91], [0.12, 0.21],\n",
        "  [0.98, 0.99], [0.85, 0.87], [0.03, 0.14], [0.55, 0.45],\n",
        "  [0.49, 0.51], [0.99, 0.01], [0.02, 0.89], [0.31, 0.47],\n",
        "  [0.55, 0.29], [0.87, 0.76], [0.63, 0.24]\n",
        "])\n",
        "# a randomly initialized weight vector\n",
        "w = torch.rand((2, 1))\n",
        "# random bias value\n",
        "b = 5.0\n",
        "y = torch.matmul(X, w) + b\n",
        "print(f\"Shape of Xw: {y.shape}\\nmodel output:\\n{y}\")"
      ],
      "metadata": {
        "id": "jOO6C_-vLBWg",
        "outputId": "1d03c013-c866-4136-bcf1-3c0e589d0bc3",
        "colab": {
          "base_uri": "https://localhost:8080/"
        }
      },
      "execution_count": 5,
      "outputs": [
        {
          "output_type": "stream",
          "name": "stdout",
          "text": [
            "Shape of Xw: torch.Size([15, 1])\n",
            "model output:\n",
            "tensor([[5.1794],\n",
            "        [5.0271],\n",
            "        [6.6973],\n",
            "        [5.2980],\n",
            "        [6.7705],\n",
            "        [6.5460],\n",
            "        [5.1546],\n",
            "        [5.8970],\n",
            "        [5.8990],\n",
            "        [5.8826],\n",
            "        [5.8320],\n",
            "        [5.7036],\n",
            "        [5.7506],\n",
            "        [6.4630],\n",
            "        [5.7754]])\n"
          ]
        }
      ]
    },
    {
      "cell_type": "markdown",
      "source": [
        "## Matrix Matrix Multiplication"
      ],
      "metadata": {
        "id": "PTV3zYFDY4mw"
      }
    },
    {
      "cell_type": "markdown",
      "source": [
        "Consider a matrix $A_{m,p}$ with m rows and p columns.\n",
        "<br>Let us multiply it with another matrix $B_{p,n}$ with p rows and n columns.\n",
        "<br>The resultant matrix $C_{m,n}$ will contain m rows and n columns.\n",
        "<br>Note that number of columns in the left matrix $A$ should match the number of\n",
        "<br>rows in the right matrix $B$.\n",
        "\n",
        "\\begin{align*}\n",
        "\\begin{bmatrix}\n",
        "        c_{11} & c_{12} \\\\\n",
        "        c_{21} & c_{22} \\\\\n",
        "        c_{31} & c_{32}\n",
        "\\end{bmatrix}\n",
        "& = \n",
        "\\begin{bmatrix}\n",
        "        a_{11} & a_{12} \\\\\n",
        "        a_{21} & a_{22} \\\\\n",
        "        a_{31} & a_{32}\n",
        "\\end{bmatrix}\n",
        "\\begin{bmatrix}\n",
        "        b_{11} & b_{12} \\\\\n",
        "        b_{21} & b_{22} \\\\\n",
        "\\end{bmatrix}\\\\\n",
        "\\\\\n",
        "c_{11} &= a_{11}b_{11} + a_{12}b_{21} \\\\\n",
        "c_{12} &= a_{11}b_{12} + a_{12}b_{22} \\\\\n",
        "c_{21} &= a_{21}b_{11} + a_{22}b_{21} \\\\\n",
        "c_{22} &= a_{21}b_{12} + a_{22}b_{22} \\\\\n",
        "c_{31} &= a_{31}b_{11} + a_{32}b_{21} \\\\\n",
        "c_{32} &= a_{31}b_{12} + a_{32}b_{22}\n",
        "\\end{align*}\n",
        "<br>\n",
        "<br>\n",
        "In general\n",
        "$$\n",
        "\\\\\n",
        "c_{ij} = \\sum_{i=1}^p a_{ip}b_{pj}\n",
        "$$"
      ],
      "metadata": {
        "id": "D2RqSZCgY5IK"
      }
    },
    {
      "cell_type": "code",
      "source": [
        "A = torch.tensor([[1, 2], [3, 4], [5, 6]])\n",
        "B = torch.tensor([[7, 8], [9, 10]])\n",
        "C = torch.matmul(A, B)\n",
        "print(f\"A\\n{A}\\n\")\n",
        "print(f\"A\\n{B}\\n\")\n",
        "print(f\"A\\n{C}\\n\")"
      ],
      "metadata": {
        "id": "KPj_lGkOY7_E",
        "outputId": "3f193d7d-051d-4cf3-997d-f2f61f089bbf",
        "colab": {
          "base_uri": "https://localhost:8080/"
        }
      },
      "execution_count": 6,
      "outputs": [
        {
          "output_type": "stream",
          "name": "stdout",
          "text": [
            "A\n",
            "tensor([[1, 2],\n",
            "        [3, 4],\n",
            "        [5, 6]])\n",
            "\n",
            "A\n",
            "tensor([[ 7,  8],\n",
            "        [ 9, 10]])\n",
            "\n",
            "A\n",
            "tensor([[ 25,  28],\n",
            "        [ 57,  64],\n",
            "        [ 89, 100]])\n",
            "\n"
          ]
        }
      ]
    },
    {
      "cell_type": "code",
      "source": [
        "# Dot product is a special case of matrix multiplication\n",
        "w = torch.tensor([1, 2, 3])\n",
        "x = torch.tensor([4, 5, 6])\n",
        "assert torch.dot(w, x) == torch.matmul(w.t(), x)"
      ],
      "metadata": {
        "id": "c9YQqaqeaUK0"
      },
      "execution_count": 7,
      "outputs": []
    },
    {
      "cell_type": "markdown",
      "source": [
        "## Transpose of Matrix Product"
      ],
      "metadata": {
        "id": "gCbzXT-Za9rx"
      }
    },
    {
      "cell_type": "markdown",
      "source": [
        "Given two matrices $A$ and $B$ where the number of columns of $A$ matches\n",
        "<br>the number of rows of $B$, the transpose of their product is the product\n",
        "<br>of the individual transposes in reversed order. $(AB)^T = B^{T}A^{T}$"
      ],
      "metadata": {
        "id": "CdLBsFk9a-RI"
      }
    },
    {
      "cell_type": "code",
      "source": [
        "print(\"Transpose of the product\")\n",
        "print(torch.matmul(A, B).T)\n",
        "print(\"Product of individual transposes in reverse order\")\n",
        "print(torch.matmul(B.T, A.T))"
      ],
      "metadata": {
        "id": "Fkczu-g1bZkj",
        "outputId": "e23e9aad-d491-4223-fa13-ddcaed041ab6",
        "colab": {
          "base_uri": "https://localhost:8080/"
        }
      },
      "execution_count": 8,
      "outputs": [
        {
          "output_type": "stream",
          "name": "stdout",
          "text": [
            "Transpose of the product\n",
            "tensor([[ 25,  57,  89],\n",
            "        [ 28,  64, 100]])\n",
            "Product of individual transposes in reverse order\n",
            "tensor([[ 25,  57,  89],\n",
            "        [ 28,  64, 100]])\n"
          ]
        }
      ]
    },
    {
      "cell_type": "code",
      "source": [
        "assert torch.all(torch.matmul(A, B).T == torch.matmul(B.T, A.T))\n",
        "\n",
        "# This applies to matrix vector multiplication as well\n",
        "assert torch.all(torch.matmul(A.T, x).T == torch.matmul(x.T, A))"
      ],
      "metadata": {
        "id": "_62mpi-YbwK-"
      },
      "execution_count": 12,
      "outputs": []
    },
    {
      "cell_type": "markdown",
      "source": [
        "##Matrix Inverse"
      ],
      "metadata": {
        "id": "bY_r_C1GeGyJ"
      }
    },
    {
      "cell_type": "markdown",
      "source": [
        "Let us say we want to solve a simultaneuous equation with two variables $x_1$ and $x_2$,\n",
        "<br>Such an equation can be written as\n",
        "\\begin{align*}\n",
        "a_{11}x_1+ a_{12}x_2 &= b_1 \\\\\n",
        "a_{21}x_1 + a_{22}x_2 &= b_2\n",
        "\\end{align*}\n",
        "This can be written using matrices and vectors as\n",
        "$$\n",
        "A\\vec{x} = \\vec{b}\n",
        "$$ where\n",
        "$$\n",
        "A =\n",
        "\\begin{bmatrix}\n",
        "        a_{11} & a_{12} \\\\\n",
        "        a_{21} & a_{22} \\\\\n",
        "\\end{bmatrix}\n",
        "\\space \\space \\space\n",
        "\\vec{x} = \n",
        "\\begin{bmatrix}\n",
        "        x_{1} \\\\\n",
        "        x_{2} \\\\\n",
        "\\end{bmatrix}\n",
        "\\space \\space \\space\n",
        "\\vec{b} = \n",
        "\\begin{bmatrix}\n",
        "        b_{1} \\\\\n",
        "        b_{2} \\\\\n",
        "\\end{bmatrix}\n",
        "$$\n",
        "Solution of $A\\vec{x} = \\vec{b}$ is \n",
        "$$\n",
        "\\vec{x} = A^{-1}\\vec{b}\n",
        "$$\n",
        "where $A^{-1}$ is the matrix inverse, (assumed $det(A) \\neq 0$).\n",
        "<br>Compare this with the scalar equation $ax = b$ whose solution is $x = a^{-1}b$.\n",
        "\n",
        "The determinant can be computed as  $$det(A) = a_{11}a_{22} - a_{12}a_{21} $$ \n",
        "The inverse is\n",
        "$$\n",
        "A^{-1} = \\frac{1}{det(A)}\n",
        "\\begin{bmatrix}\n",
        "        a_{22} & -a_{12} \\\\\n",
        "        -a_{21} & a_{11}\n",
        "\\end{bmatrix}\n",
        "$$\n",
        "Although the above example is shown with a small $2\\times$ system ofsimultaneous equations,\n",
        "<br> the code below is general and works for arbitrary sized linear systems."
      ],
      "metadata": {
        "id": "f_NQr_tjeHc2"
      }
    },
    {
      "cell_type": "code",
      "source": [
        "def determinant(A):\n",
        "  return torch.linalg.det(A)\n",
        "\n",
        "def inverse(A):\n",
        "  return torch.linalg.inv(A)"
      ],
      "metadata": {
        "id": "ZCCz3eZZeMRA"
      },
      "execution_count": 13,
      "outputs": []
    },
    {
      "cell_type": "markdown",
      "source": [
        "###Case1: Invertible Matrix"
      ],
      "metadata": {
        "id": "PNjQZNXFiumI"
      }
    },
    {
      "cell_type": "code",
      "source": [
        "A = torch.tensor([[2, 3], [2, 2]], dtype=torch.float)\n",
        "A_inv = inverse(A)\n",
        "A_inv"
      ],
      "metadata": {
        "id": "fQdj3md-iwRs",
        "outputId": "c3825ffb-77ac-47b9-dcb0-241ee9a372eb",
        "colab": {
          "base_uri": "https://localhost:8080/"
        }
      },
      "execution_count": 14,
      "outputs": [
        {
          "output_type": "execute_result",
          "data": {
            "text/plain": [
              "tensor([[-1.0000,  1.5000],\n",
              "        [ 1.0000, -1.0000]])"
            ]
          },
          "metadata": {},
          "execution_count": 14
        }
      ]
    },
    {
      "cell_type": "code",
      "source": [
        "I = torch.matmul(A, A_inv)\n",
        "# We assert that A A_inv is identity matrix\n",
        "assert torch.all(I == torch.eye(2))"
      ],
      "metadata": {
        "id": "Ia56QmVbjE3n"
      },
      "execution_count": 15,
      "outputs": []
    },
    {
      "cell_type": "code",
      "source": [
        "print(\"Invertible Matrix\")\n",
        "print(f\"Determinant: {determinant(A)}\") # 2*2 - 2*3 = -2\n",
        "print(f\"A:\\n{A}\\n\") \n",
        "print(f\"A Inverse:\\n{A_inv}\\n\")\n",
        "print(f\"Note that determinant of A is {determinant(A)} (non-zero), hence A is invertible and hence the equation is solvable\\n\")\n",
        "print(f\"Matmul(A, A_inv) is \\n {I},\\nwhich is the identity matrix\\n\\n\")"
      ],
      "metadata": {
        "id": "kJd44dHYjSan",
        "outputId": "83c24c55-b28c-448e-fee6-15e96f8a7237",
        "colab": {
          "base_uri": "https://localhost:8080/"
        }
      },
      "execution_count": 18,
      "outputs": [
        {
          "output_type": "stream",
          "name": "stdout",
          "text": [
            "Invertible Matrix\n",
            "Determinant: -2.0\n",
            "A:\n",
            "tensor([[2., 3.],\n",
            "        [2., 2.]])\n",
            "\n",
            "A Inverse:\n",
            "tensor([[-1.0000,  1.5000],\n",
            "        [ 1.0000, -1.0000]])\n",
            "\n",
            "Note that determinant of A is -2.0 (non-zero), hence A is invertible and hence the equation is solvable\n",
            "\n",
            "Matmul(A, A_inv) is \n",
            " tensor([[1., 0.],\n",
            "        [0., 1.]]),\n",
            "which is the identity matrix\n",
            "\n",
            "\n"
          ]
        }
      ]
    },
    {
      "cell_type": "code",
      "source": [
        "# The torch function torch.eye returns an Identity matrix.\n",
        "I = torch.eye(2)\n",
        "\n",
        "# I*A = A*I = A\n",
        "assert torch.all(torch.matmul(I, A) == A) and torch.all(A == torch.matmul(A, I))\n",
        "\n",
        "# A*A_inv == A_inv*A = I\n",
        "assert torch.all(torch.matmul(A, A_inv) == I) and torch.all(torch.matmul(A_inv, A) == I)\n",
        "\n",
        "# a*I = I*a = a\n",
        "a = A[0, :]\n",
        "assert torch.all(torch.matmul(a, I) == a) and torch.all(torch.matmul(I, a) == a)"
      ],
      "metadata": {
        "id": "mK0ooojrke9o"
      },
      "execution_count": 20,
      "outputs": []
    },
    {
      "cell_type": "markdown",
      "source": [
        "###Case2: Singular Matrix"
      ],
      "metadata": {
        "id": "w9jA0Iqgl3xI"
      }
    },
    {
      "cell_type": "code",
      "source": [
        "# attempt to invert it directly causes an exception.\n",
        "B = torch.tensor([[1, 1], [2, 2]], dtype=torch.float)\n",
        "print(\"Non-Invertible Matrix\")\n",
        "print(f\"Determinant: {determinant(B)}\\n\")\n",
        "\n",
        "try:\n",
        "  B_inv = inverse(B)\n",
        "except RuntimeError as e:\n",
        "  print(f\"B {B}\\ncannot be inverted\\nbecause it is a {e}\\n\")\n",
        "\n",
        "print(f\"Note that determinant of B is {determinant(B)}, hence B is non-invertible\")"
      ],
      "metadata": {
        "id": "Mwtzm_K7l8bM",
        "outputId": "9d6eb4c6-958e-445d-be28-06ad7498426d",
        "colab": {
          "base_uri": "https://localhost:8080/"
        }
      },
      "execution_count": 21,
      "outputs": [
        {
          "output_type": "stream",
          "name": "stdout",
          "text": [
            "Non-Invertible Matrix\n",
            "Determinant: -0.0\n",
            "\n",
            "B tensor([[1., 1.],\n",
            "        [2., 2.]])\n",
            "cannot be inverted\n",
            "because it is a torch.linalg.inv: The diagonal element 2 is zero, the inversion could not be completed because the input matrix is singular.\n",
            "\n",
            "Note that determinant of B is -0.0, hence B is non-invertible\n"
          ]
        }
      ]
    }
  ]
}