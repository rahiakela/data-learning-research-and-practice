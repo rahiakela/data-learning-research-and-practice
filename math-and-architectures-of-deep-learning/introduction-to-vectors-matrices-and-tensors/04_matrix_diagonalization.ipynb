{
  "nbformat": 4,
  "nbformat_minor": 0,
  "metadata": {
    "colab": {
      "provenance": [],
      "toc_visible": true,
      "authorship_tag": "ABX9TyM0lby5nvXcco0wTttODAij",
      "include_colab_link": true
    },
    "kernelspec": {
      "name": "python3",
      "display_name": "Python 3"
    },
    "language_info": {
      "name": "python"
    }
  },
  "cells": [
    {
      "cell_type": "markdown",
      "metadata": {
        "id": "view-in-github",
        "colab_type": "text"
      },
      "source": [
        "<a href=\"https://colab.research.google.com/github/rahiakela/deep-learning-research-and-practice/blob/main/math-and-architectures-of-deep-learning/introduction-to-vectors-matrices-and-tensors/04_matrix_diagonalization.ipynb\" target=\"_parent\"><img src=\"https://colab.research.google.com/assets/colab-badge.svg\" alt=\"Open In Colab\"/></a>"
      ]
    },
    {
      "cell_type": "markdown",
      "source": [
        "##Matrix Diagonalization"
      ],
      "metadata": {
        "id": "ltkjGN9-EmW2"
      }
    },
    {
      "cell_type": "markdown",
      "source": [
        "Consider a $n \\times n$ matrix $A_{n, n}$ with $n$ linearly independent eigenvectors.\n",
        "\n",
        "Let $S_{n,n}$ be a matrix with these eigenvectors as its columns.\n",
        "\n",
        "$$Ae_1 = \\lambda_1e_1$$\n",
        "$$Ae_2 = \\lambda_2e_2$$\n",
        "$$... = ...$$\n",
        "$$Ae_n = \\lambda_ne_n$$\n",
        "\n",
        "And,\n",
        "\n",
        "$$\n",
        "S = \n",
        "\\begin{bmatrix}\n",
        "        e_1 & e_2 & ... & e_n \\\\\n",
        "\\end{bmatrix}\n",
        "$$\n",
        "\n",
        "Then,\n",
        "\n",
        "$$\n",
        "AS = \n",
        "A \\begin{bmatrix}\n",
        "        e_1 & e_2 & ... & e_n \\\\\n",
        "\\end{bmatrix}\n",
        "=\n",
        "\\begin{bmatrix}\n",
        "        Ae_1 & Ae_2 & ... & Ae_n \\\\\n",
        "\\end{bmatrix}\n",
        "=\n",
        "\\begin{bmatrix}\n",
        "        \\lambda_1e_1 & \\lambda_2e_2 & ... & \\lambda_ne_n \\\\\n",
        "\\end{bmatrix}\n",
        "=\n",
        "\\begin{bmatrix}\n",
        "        e_1 & e_2 & ... & e_n \\\\\n",
        "\\end{bmatrix}\n",
        "\\begin{bmatrix}\n",
        "        \\lambda_1 & 0 & ... & 0 \\\\\n",
        "        0 & \\lambda_2 & ... & 0 \\\\\n",
        "        ... & ... & ... \\\\\n",
        "        ... & ... & ... \\\\\n",
        "        0 & 0 & ... & \\lambda_n \\\\\n",
        "\\end{bmatrix}\n",
        "=S\\Sigma\n",
        "$$\n",
        "\n",
        "Where,\n",
        "\n",
        "$$\n",
        "\\Sigma = \\begin{bmatrix}\n",
        "        \\lambda_1 & 0 & ... & 0 \\\\\n",
        "        0 & \\lambda_2 & ... & 0 \\\\\n",
        "        ... & ... & ... \\\\\n",
        "        ... & ... & ... \\\\\n",
        "        0 & 0 & ... & \\lambda_n \\\\\n",
        "\\end{bmatrix}\n",
        "$$\n",
        "\n",
        "is a diagonal matrix with the eigenvalues of $A$ on the diagonal and 0 everywhere else.\n",
        "\n",
        "Thus, we have\n",
        "\n",
        "$$AS = S\\Sigma$$\n",
        "\n",
        "Which lead to,\n",
        "\n",
        "$$A=S\\Sigma S^{-1}$$\n",
        "\n",
        "and,\n",
        "\n",
        "$$\\Sigma = S^{-1}AS$$\n",
        "\n",
        "If $A$ is symmetric, then its eigenvectors are orthogonal. Then\n",
        "\n",
        "$$S^TS = SS^T = I$$\n",
        "\n",
        "So, \n",
        "\n",
        "$$S^{-1}=S^T$$\n",
        "\n",
        "and we get the diagonalization of $A$.\n",
        "\n",
        "$$\n",
        "A = S \\Sigma S^T\n",
        "$$"
      ],
      "metadata": {
        "id": "sti_nU3kR-fw"
      }
    },
    {
      "cell_type": "markdown",
      "source": [
        "##Setup"
      ],
      "metadata": {
        "id": "n7gMjVAehJdX"
      }
    },
    {
      "cell_type": "code",
      "source": [
        "import torch\n",
        "import torch.linalg as LA\n",
        "\n",
        "import numpy as np\n",
        "import math\n",
        "from math import cos, sin, radians\n",
        "import matplotlib.pyplot as plt\n",
        "from mpl_toolkits.mplot3d import Axes3D "
      ],
      "metadata": {
        "id": "JsRgdABiFg4F"
      },
      "execution_count": null,
      "outputs": []
    },
    {
      "cell_type": "code",
      "source": [
        "torch.manual_seed(42)"
      ],
      "metadata": {
        "id": "fGUvrmiKFj8v",
        "outputId": "961b52a5-2101-4b5b-b951-8f3c0f66b754",
        "colab": {
          "base_uri": "https://localhost:8080/"
        }
      },
      "execution_count": null,
      "outputs": [
        {
          "output_type": "execute_result",
          "data": {
            "text/plain": [
              "<torch._C.Generator at 0x7f6681ea5a30>"
            ]
          },
          "metadata": {},
          "execution_count": 2
        }
      ]
    },
    {
      "cell_type": "code",
      "source": [
        "def plot_vector(ax, row_vector, color=\"cyan\"):\n",
        "  \"\"\"\n",
        "  Plot a 3D vector in specified color\n",
        "  \"\"\"\n",
        "  assert len(row_vector == 3)\n",
        "  v = torch.squeeze(row_vector)\n",
        "  ax.quiver(0, 0, 0, row_vector[0], row_vector[1], row_vector[2], color=color)"
      ],
      "metadata": {
        "id": "24s-L0HbhLyK"
      },
      "execution_count": null,
      "outputs": []
    },
    {
      "cell_type": "markdown",
      "source": [
        "##Rotation matrix"
      ],
      "metadata": {
        "id": "Eh1WCaxPhVtu"
      }
    },
    {
      "cell_type": "markdown",
      "source": [
        "Let us create rotation matrix by angle $\\theta$ in 2D and 3D space."
      ],
      "metadata": {
        "id": "Gtqw_3h5EnCR"
      }
    },
    {
      "cell_type": "code",
      "source": [
        "def rotation_matrix_2d(theta):\n",
        "  \"\"\"\n",
        "  Returns the matrix that performs in-plane 2D rotation by angle theta about origin.\n",
        "  Thus, multiplication with this matrix moves a point to a new location.\n",
        "  Angle between the position vectors of original and new point is theta\n",
        "  \"\"\"\n",
        "  return torch.tensor([\n",
        "    [cos(radians(theta)), -sin(radians(theta))],\n",
        "    [sin(radians(theta)), cos(radians(theta))]\n",
        "  ])\n",
        "\n",
        "def rotation_matrix_3d(theta, axis):\n",
        "  \"\"\"\n",
        "  Returns the matrix that will rotate a point in 3D space about the chosen axis by angle theta degrees.\n",
        "  Axis of rotation, can be 0, 1 or 2 corresponding to x, y or z axis respectively.\n",
        "  \"\"\"\n",
        "  if axis == 0:\n",
        "    return torch.tensor([\n",
        "      [1, 0, 0],\n",
        "      [0, cos(radians(theta)), -sin(radians(theta))],\n",
        "      [0, sin(radians(theta)), cos(radians(theta))]\n",
        "    ])\n",
        "  if axis == 1:\n",
        "    return torch.tensor([\n",
        "      [cos(radians(theta)), 0, -sin(radians(theta))],\n",
        "      [0, 1, 0],\n",
        "      [sin(radians(theta)), 0, cos(radians(theta))]\n",
        "    ])\n",
        "  if axis == 2:\n",
        "    return torch.tensor([\n",
        "      [cos(radians(theta)), -sin(radians(theta)), 0],\n",
        "      [sin(radians(theta)), cos(radians(theta)), 0],\n",
        "      [0, 0, 1],\n",
        "    ])"
      ],
      "metadata": {
        "id": "2F-RWUsoFoqT"
      },
      "execution_count": null,
      "outputs": []
    },
    {
      "cell_type": "markdown",
      "source": [
        "Let us consider the vector `[1, 0, 0]`"
      ],
      "metadata": {
        "id": "pVk782IMkIrl"
      }
    },
    {
      "cell_type": "code",
      "source": [
        "u = torch.tensor([1, 0, 0], dtype=torch.float)\n",
        "# Reshape it to represent a row vector\n",
        "u = u.reshape((3, 1))\n",
        "print(f\"Original vector: \\n{u}\\n\")\n",
        "\n",
        "# Rotate it by 30 degrees around Z Axis\n",
        "angle_of_rotation = 30.0\n",
        "R = rotation_matrix_3d(angle_of_rotation, 2)\n",
        "print(f\"Rotation matrix for {angle_of_rotation} degrees around Z Axis is:\\n{R}\\n\")\n",
        "\n",
        "v = torch.matmul(R, u)\n",
        "print(f\"Vector after rotation:\\n{v}\")"
      ],
      "metadata": {
        "colab": {
          "base_uri": "https://localhost:8080/"
        },
        "id": "vrnIgp6bUijG",
        "outputId": "170dfeff-4f5c-4b7a-c8fa-f52d25aae15b"
      },
      "execution_count": null,
      "outputs": [
        {
          "output_type": "stream",
          "name": "stdout",
          "text": [
            "Original vector: \n",
            "tensor([[1.],\n",
            "        [0.],\n",
            "        [0.]])\n",
            "\n",
            "Rotation matrix for 30.0 degrees around Z Axis is:\n",
            "tensor([[ 0.8660, -0.5000,  0.0000],\n",
            "        [ 0.5000,  0.8660,  0.0000],\n",
            "        [ 0.0000,  0.0000,  1.0000]])\n",
            "\n",
            "Vector after rotation:\n",
            "tensor([[0.8660],\n",
            "        [0.5000],\n",
            "        [0.0000]])\n"
          ]
        }
      ]
    },
    {
      "cell_type": "markdown",
      "source": [
        "Let's computes angle between two vectors."
      ],
      "metadata": {
        "id": "gofaydHqnZUC"
      }
    },
    {
      "cell_type": "code",
      "source": [
        "def get_angle(u, v):\n",
        "  \"\"\"\n",
        "  Computes angle between two vectors using arc cosine\n",
        "  \"\"\"\n",
        "  u = torch.squeeze(u)\n",
        "  v = torch.squeeze(v)\n",
        "  assert len(u.shape) == 1 and len(v.shape) == 1\n",
        "\n",
        "  return math.degrees(math.acos((torch.dot(u, v) / torch.linalg.norm(u) * torch.linalg.norm(v))))"
      ],
      "metadata": {
        "id": "fLUm7vSznchk"
      },
      "execution_count": null,
      "outputs": []
    },
    {
      "cell_type": "code",
      "source": [
        "# Angle between u and v\n",
        "angle_u_v = get_angle(u, v)\n",
        "print(f\"Angle between the two vectors {angle_u_v}\")\n",
        "assert np.allclose(angle_u_v, angle_of_rotation)"
      ],
      "metadata": {
        "id": "vwSP8m2LoKlr",
        "outputId": "76c683ea-46ab-41da-a6df-2c33bb11bc62",
        "colab": {
          "base_uri": "https://localhost:8080/"
        }
      },
      "execution_count": null,
      "outputs": [
        {
          "output_type": "stream",
          "name": "stdout",
          "text": [
            "Angle between the two vectors 30.000001781168113\n"
          ]
        }
      ]
    },
    {
      "cell_type": "markdown",
      "source": [
        "Let's apply rotation matrices."
      ],
      "metadata": {
        "id": "7i7DxBI6o2r2"
      }
    },
    {
      "cell_type": "code",
      "source": [
        "u = np.array([1, 1, 1])\n",
        "\n",
        "# apply rotation 45 about Z-axis\n",
        "r3dz = rotation_matrix_3d(45, 2)\n",
        "v = np.matmul(r3dz, u)\n",
        "v"
      ],
      "metadata": {
        "id": "8AXYSHyyo5JF",
        "outputId": "61f31719-bc2c-4be9-98e3-07c88df6ff1f",
        "colab": {
          "base_uri": "https://localhost:8080/"
        }
      },
      "execution_count": null,
      "outputs": [
        {
          "output_type": "execute_result",
          "data": {
            "text/plain": [
              "tensor([0.0000, 1.4142, 1.0000], dtype=torch.float64)"
            ]
          },
          "metadata": {},
          "execution_count": 8
        }
      ]
    },
    {
      "cell_type": "code",
      "source": [
        "# apply rotation 45 about X-axis\n",
        "r3dz = rotation_matrix_3d(45, 0)\n",
        "v = np.matmul(r3dz, u)\n",
        "v"
      ],
      "metadata": {
        "id": "oGWKDEFDpgOR",
        "outputId": "c6067a26-f8d0-49a9-9f95-ec9ae9f53d00",
        "colab": {
          "base_uri": "https://localhost:8080/"
        }
      },
      "execution_count": null,
      "outputs": [
        {
          "output_type": "execute_result",
          "data": {
            "text/plain": [
              "tensor([1.0000, 0.0000, 1.4142], dtype=torch.float64)"
            ]
          },
          "metadata": {},
          "execution_count": 9
        }
      ]
    },
    {
      "cell_type": "code",
      "source": [
        "# apply rotation 45 about Y-axis\n",
        "r3dz = rotation_matrix_3d(45, 1)\n",
        "v = np.matmul(r3dz, u)\n",
        "v"
      ],
      "metadata": {
        "id": "4CDBicKypmSB",
        "outputId": "6b19188a-c07d-4771-e318-c91f0d8ebe68",
        "colab": {
          "base_uri": "https://localhost:8080/"
        }
      },
      "execution_count": null,
      "outputs": [
        {
          "output_type": "execute_result",
          "data": {
            "text/plain": [
              "tensor([0.0000, 1.0000, 1.4142], dtype=torch.float64)"
            ]
          },
          "metadata": {},
          "execution_count": 10
        }
      ]
    },
    {
      "cell_type": "markdown",
      "source": [
        "Let's plot vectors and curves and surfaces in 3D."
      ],
      "metadata": {
        "id": "yyMv8Ue-h3Kq"
      }
    },
    {
      "cell_type": "code",
      "source": [
        "fig = plt.figure()\n",
        "ax = fig.add_subplot(111, projection='3d')\n",
        "ax.set_xlim([-2, 2])\n",
        "ax.set_ylim([-2, 2])\n",
        "ax.set_zlim([-2, 2])\n",
        "\n",
        "# Let us now visualise the vectors in 3D \n",
        "u = torch.tensor([1, 1, 1], dtype=torch.float)\n",
        "\n",
        "# Reshape to represent as a row vector\n",
        "u_row = u.reshape((3, 1))\n",
        "plot_vector(ax, u_row, color=\"blue\")\n",
        "\n",
        "# Rotate it 45 degrees around Z axis\n",
        "R = rotation_matrix_3d(45, 2)\n",
        "v_row = torch.matmul(R, u_row)\n",
        "plot_vector(ax, v_row, color=\"green\")\n",
        "\n",
        "# Rotate again by 45 around X axis\n",
        "R = rotation_matrix_3d(45, 0)\n",
        "w_row = torch.matmul(R, u_row)\n",
        "plot_vector(ax, w_row, color=\"red\")\n",
        "\n",
        "plt.show()"
      ],
      "metadata": {
        "id": "4K5bx8Keh51E",
        "outputId": "c834575e-9d80-4e5c-e4bf-75094d8ea149",
        "colab": {
          "base_uri": "https://localhost:8080/",
          "height": 248
        }
      },
      "execution_count": null,
      "outputs": [
        {
          "output_type": "display_data",
          "data": {
            "text/plain": [
              "<Figure size 432x288 with 1 Axes>"
            ],
            "image/png": "[encoded data removed]"
          },
          "metadata": {
            "needs_background": "light"
          }
        }
      ]
    },
    {
      "cell_type": "markdown",
      "source": [
        "##Orthogonality of rotation matrices"
      ],
      "metadata": {
        "id": "OFUGDF_9ffn9"
      }
    },
    {
      "cell_type": "markdown",
      "source": [
        "A matrix $R$ is orthogonal if and only if it its transpose is also its inverse, i.e., $R^TR = RR^T =  I$.\n",
        "\n",
        "All rotations matrices are orthogonal matrices. All orthogonal matrices represent some rotation.\n",
        "\n",
        "For instance:\n",
        "\n",
        "$$\n",
        "\\begin{bmatrix}\n",
        "        cos\\theta & -sin\\theta \\\\\n",
        "        sin\\theta & cos\\theta \\\\\n",
        "\\end{bmatrix}^T \n",
        "\\begin{bmatrix}\n",
        "        cos\\theta & -sin\\theta \\\\\n",
        "        sin\\theta & cos\\theta \\\\\n",
        "\\end{bmatrix}\n",
        "=\n",
        "\\begin{bmatrix}\n",
        "        cos\\theta & sin\\theta \\\\\n",
        "        -sin\\theta & cos\\theta \\\\\n",
        "\\end{bmatrix}^T \n",
        "\\begin{bmatrix}\n",
        "        cos\\theta & -sin\\theta \\\\\n",
        "        sin\\theta & cos\\theta \\\\\n",
        "\\end{bmatrix}\n",
        "=\n",
        "\\begin{bmatrix}\n",
        "        cos^2\\theta + sin^2\\theta & 0 \\\\\n",
        "        0 & cos^2\\theta + sin^2\\theta \\\\\n",
        "\\end{bmatrix}\n",
        "=\n",
        "\\begin{bmatrix}\n",
        "        1 & 0 \\\\\n",
        "        0 & 1 \\\\\n",
        "\\end{bmatrix}\n",
        "=I\n",
        "$$\n",
        "\n",
        "**Orthogonality implies rotation is length preserving**\n",
        "\n",
        "Lengths (magnitudes) of the 2 vectors $x, y$ are equal, since it is easy to see that:\n",
        "\n",
        "$$\n",
        "||y|| = y^Ty = (Rx)^T(Rx) = x^TR^TRx = x^TIx = x^Tx = ||x||\n",
        "$$\n",
        "\n",
        "Since we know that $(AB)^T = B^TA^T$"
      ],
      "metadata": {
        "id": "V-Rw04WAfgaY"
      }
    },
    {
      "cell_type": "code",
      "source": [
        "R_30 = rotation_matrix_2d(30)\n",
        "print(f\"Matrix to rotate in-plane by 30 degrees about origin:\\n{R_30}\")\n",
        "\n",
        "# Inverse of rotation matrix is same as the transpose, this is orthogonality.\n",
        "assert torch.allclose(torch.linalg.inv(R_30), R_30.T)\n",
        "\n",
        "# Equivalently, if we multiply a rotation matrix and its transpose, we get the identity matrix.\n",
        "assert torch.allclose(torch.matmul(R_30, R_30.T), torch.eye(2))"
      ],
      "metadata": {
        "id": "_xiEpiY9lp5q",
        "outputId": "beed0f1a-4612-40ce-8f47-d032652e0bec",
        "colab": {
          "base_uri": "https://localhost:8080/"
        }
      },
      "execution_count": null,
      "outputs": [
        {
          "output_type": "stream",
          "name": "stdout",
          "text": [
            "Matrix to rotate in-plane by 30 degrees about origin:\n",
            "tensor([[ 0.8660, -0.5000],\n",
            "        [ 0.5000,  0.8660]])\n"
          ]
        }
      ]
    },
    {
      "cell_type": "code",
      "source": [
        "# Let us take a random point (4, 0)\n",
        "u = torch.tensor([[4], [0]], dtype=torch.float)\n",
        "\n",
        "# Rotate it by 30 degrees\n",
        "v = torch.matmul(R_30, u)\n",
        "print(f\"Original vector u:\\n{u}\")\n",
        "print(f\"Rotated Vector v:\\n{v}\")\n",
        "\n",
        "print(f\"Length of u: {torch.linalg.norm(u)}\")\n",
        "print(f\"Length of v: {torch.linalg.norm(v)}\")\n",
        "\n",
        "# We assert that rotation is length preserving\n",
        "assert torch.linalg.norm(u) == torch.linalg.norm(v)"
      ],
      "metadata": {
        "id": "YM-JxRl8nFMC",
        "outputId": "901575fa-d33d-41b2-c563-87a5f36d3b6a",
        "colab": {
          "base_uri": "https://localhost:8080/"
        }
      },
      "execution_count": null,
      "outputs": [
        {
          "output_type": "stream",
          "name": "stdout",
          "text": [
            "Original vector u:\n",
            "tensor([[4.],\n",
            "        [0.]])\n",
            "Rotated Vector v:\n",
            "tensor([[3.4641],\n",
            "        [2.0000]])\n",
            "Length of u: 4.0\n",
            "Length of v: 4.0\n"
          ]
        }
      ]
    },
    {
      "cell_type": "markdown",
      "source": [
        "**Negating the angle of rotation is equivalent to inverting the rotation matrix, which is equivalent to transposing the rotation matrix**\n",
        "\n",
        "For instance, consider in plane rotation. Say a point $x$ is rotated about the origin to vector $y$ via matrix $R$. Thus\n",
        "\n",
        "$$\n",
        "R = \n",
        "\\begin{bmatrix}\n",
        "        cos\\theta & -sin\\theta \\\\\n",
        "        sin\\theta & cos\\theta \\\\\n",
        "\\end{bmatrix}\n",
        "$$\n",
        "$$\n",
        "y = Rx\n",
        "$$\n",
        "\n",
        "Now, we can go back from $y$ to $x$ by rotating by $-\\theta$.\n",
        "\n",
        "$$\n",
        "\\begin{bmatrix}\n",
        "        cos(-\\theta) & -sin(-\\theta) \\\\\n",
        "        sin(-\\theta) & cos(-\\theta) \\\\\n",
        "\\end{bmatrix}\n",
        "=\n",
        "\\begin{bmatrix}\n",
        "        cos\\theta & sin\\theta \\\\\n",
        "        -sin\\theta & cos\\theta \\\\\n",
        "\\end{bmatrix}\n",
        "= R^T\n",
        "$$\n",
        "\n",
        "In other words, $R^T$ inverts the rotation, i.e., rotates by the negative angle.\n",
        "\n",
        "Let us now negate the rotation i.e rotate the point back by -30 degrees.\n",
        "\n"
      ],
      "metadata": {
        "id": "gTlVoA1_n988"
      }
    },
    {
      "cell_type": "code",
      "source": [
        "R_neg30 = rotation_matrix_2d(-30)\n",
        "print(f\"Matrix to rotate in-plane by -30 degrees about origin:\\n{R_neg30}\")\n",
        "\n",
        "# Rotation by negative angle is equivalent to inverse rotation\n",
        "w = torch.matmul(R_neg30, v)\n",
        "print(f\"Re-Rotated Vector w:\\n{w}\")\n",
        "\n",
        "# We assert that this vector is the same as the original vector u\n",
        "assert torch.all(w == u)\n",
        "\n",
        "# We also assert that R_neg30 is the transpose and the inverse of R_30\n",
        "assert torch.allclose(R_30, R_neg30.T)\n",
        "# Matrix that rotates by an angle is inverse of the matrix that rotates by negative of the same angle\n",
        "assert torch.allclose(torch.matmul(R_30, R_neg30), torch.eye(2))"
      ],
      "metadata": {
        "id": "eqWJV85iQuq6",
        "outputId": "9296c9a9-933c-4c90-bbcd-d1a1186ea0a5",
        "colab": {
          "base_uri": "https://localhost:8080/"
        }
      },
      "execution_count": null,
      "outputs": [
        {
          "output_type": "stream",
          "name": "stdout",
          "text": [
            "Matrix to rotate in-plane by -30 degrees about origin:\n",
            "tensor([[ 0.8660,  0.5000],\n",
            "        [-0.5000,  0.8660]])\n",
            "Re-Rotated Vector w:\n",
            "tensor([[4.],\n",
            "        [0.]])\n"
          ]
        }
      ]
    },
    {
      "cell_type": "markdown",
      "source": [
        "**Eigenvalues and eigenvectors of the rotation matrix: How to find the axis of rotation**\n",
        "\n",
        "Let $\\lambda,  e$ be an eigenvalue, eigenvector pair of a rotation matrix $R$. Then,\n",
        "\n",
        "$$Re = \\lambda e$$\n",
        "\n",
        "After Transposing both sides,\n",
        "\n",
        "$$(Re)^T = (\\lambda e)^T$$\n",
        "$$e^TR^T = \\lambda e^T$$\n",
        "\n",
        "Multiplying left and right sides, respectively, with equivalent entities $Re$ and $\\lambda e$, we get,\n",
        "\n",
        "$$e^TR^T(Re) = \\lambda e^T(\\lambda e)$$\n",
        "$$e^T(R^TR)e = \\lambda^2 e^Te$$\n",
        "$$e^T(I)e = \\lambda^2 e^Te$$\n",
        "$$e^Te = \\lambda^2 e^Te$$\n",
        "$$ \\lambda^2 = 1$$\n",
        "$$ \\lambda = 1$$\n",
        "\n",
        "(the negative solution $\\lambda = -1$ corresponds to reflection).\n",
        "\n",
        "Thus, all rotation matrices\n",
        "will have 1 as one of its eigenvalues. The corresponding eigenvector $e$ satisfies $Re = e$.\n",
        "\n",
        "This is the axis of rotation - the set of points that stay where they were post rotation.\n",
        "\n",
        "Let us now compute the eigen values and eigen vectors of the rotation matrix.\n",
        "\n",
        "\n",
        "\n",
        "\n"
      ],
      "metadata": {
        "id": "8rm89BrsTm_f"
      }
    },
    {
      "cell_type": "code",
      "source": [
        "# Matrix for rotation by 45 degrees about origin\n",
        "R = torch.tensor([\n",
        "  [0.7071, 0.7071, 0], \n",
        "  [-0.7071, 0.7071, 0],\n",
        "  [0, 0, 1]\n",
        "])\n",
        "\n",
        "# As seen in the previous section, A is a rotation matrix around the Z axis\n",
        "l, e = LA.eig(R)"
      ],
      "metadata": {
        "id": "xfAF8N6PYxg2"
      },
      "execution_count": null,
      "outputs": []
    },
    {
      "cell_type": "markdown",
      "source": [
        "We know that all rotation matrices will have 1 as one of its eigenvalues.\n",
        "\n",
        "The eigen vector corresponding to that value is the axis of rotation."
      ],
      "metadata": {
        "id": "NkZkQ6DIZuuH"
      }
    },
    {
      "cell_type": "code",
      "source": [
        "# torch.where returns the indices where the specified condition is satisfied\n",
        "axis_of_rotation = e[:, torch.where(l == 1.0)]\n",
        "\n",
        "# torch.squeeze is used to remove dimensions of size 1\n",
        "axis_of_rotation = torch.squeeze(axis_of_rotation)\n",
        "print(f\"Axis of rotation is: {axis_of_rotation}\")\n",
        "\n",
        "# axis of rotation is the Z-axis\n",
        "assert np.allclose(axis_of_rotation, np.array([0, 0, 1]))\n",
        "\n",
        "# Let us take a random point on the axis of rotation\n",
        "p = torch.randint(0, 10, (1, )) * axis_of_rotation  \n",
        "print(f\"Point of axis of rotation: {p}\")"
      ],
      "metadata": {
        "colab": {
          "base_uri": "https://localhost:8080/"
        },
        "id": "ULz86MfPZzKo",
        "outputId": "22732c1b-1860-4722-e6b8-b5f3c8f34971"
      },
      "execution_count": null,
      "outputs": [
        {
          "output_type": "stream",
          "name": "stdout",
          "text": [
            "Axis of rotation is: tensor([0.+0.j, 0.+0.j, 1.+0.j])\n",
            "Point of axis of rotation: tensor([0.+0.j, 0.+0.j, 7.+0.j])\n"
          ]
        }
      ]
    },
    {
      "cell_type": "markdown",
      "source": [
        "Point on the axis of rotation remain unchanged even after rotation. \n",
        "\n",
        "Thus vector p and its transform $Rp$ are close."
      ],
      "metadata": {
        "id": "-sWWTgQPake7"
      }
    },
    {
      "cell_type": "code",
      "source": [
        "assert torch.allclose(torch.matmul(R, p.real), p.real)"
      ],
      "metadata": {
        "id": "wTQ6_f62arOk"
      },
      "execution_count": null,
      "outputs": []
    }
  ]
}