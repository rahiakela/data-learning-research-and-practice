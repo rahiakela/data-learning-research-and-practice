{
  "nbformat": 4,
  "nbformat_minor": 0,
  "metadata": {
    "colab": {
      "provenance": [],
      "toc_visible": true,
      "authorship_tag": "ABX9TyNswkMznWdChk0JdZ2MNDoC",
      "include_colab_link": true
    },
    "kernelspec": {
      "name": "python3",
      "display_name": "Python 3"
    },
    "language_info": {
      "name": "python"
    }
  },
  "cells": [
    {
      "cell_type": "markdown",
      "metadata": {
        "id": "view-in-github",
        "colab_type": "text"
      },
      "source": [
        "<a href=\"https://colab.research.google.com/github/rahiakela/deep-learning-research-and-practice/blob/main/math-and-architectures-of-deep-learning/introduction-to-vectors-matrices-and-tensors/05_spectral_decomposition.ipynb\" target=\"_parent\"><img src=\"https://colab.research.google.com/assets/colab-badge.svg\" alt=\"Open In Colab\"/></a>"
      ]
    },
    {
      "cell_type": "markdown",
      "source": [
        "##Spectral Decomposition"
      ],
      "metadata": {
        "id": "ltkjGN9-EmW2"
      }
    },
    {
      "cell_type": "markdown",
      "source": [
        "Let's consider square symmetric matrix with $n$ rows and $n$ columns.\n",
        "\n",
        "And also assuming it is non-singular (i.e., its determinant is non-zero) and\n",
        "it has $n$ distinct eigenvalues, it will have $n$ mutually orthogonal\n",
        "eigenvectors (i.e., their dot-products are zero and geometrically\n",
        "they represent perpendicular vectors).\n",
        "\n",
        "Let the eigenvalues be $\\lambda_{1}, \\lambda_{2}, \\cdots, \\lambda_{n}$\n",
        " and the eigenvectors be $\\vec{e}_{1}, \\vec{e}_{2}, \\cdots, \\vec{e}_{n}$.\n",
        "\n",
        "This matrix can be decomposed as,\n",
        "\n",
        " $A_{n, n} = S \\Sigma S^{T}$.\n",
        "\n",
        "where,\n",
        "\n",
        "$$\n",
        "S = \n",
        "\\begin{bmatrix}\n",
        "        e_1 & e_2 & ... & e_n \\\\\n",
        "\\end{bmatrix}\n",
        "$$\n",
        "\n",
        "Thus,\n",
        "\n",
        "$$\n",
        "A = \n",
        "\\begin{bmatrix}\n",
        "        e_1 & e_2 & ... & e_n \\\\\n",
        "\\end{bmatrix}\n",
        "\\begin{bmatrix}\n",
        "        \\lambda_1 & 0 & ... & 0 \\\\\n",
        "        0 & \\lambda_2 & ... & 0 \\\\\n",
        "        ... & ... & ... \\\\\n",
        "        ... & ... & ... \\\\\n",
        "        0 & 0 & ... & \\lambda_n \\\\\n",
        "\\end{bmatrix}\n",
        "\\begin{bmatrix}\n",
        "        e_1^T \\\\\n",
        "        e_2^T \\\\\n",
        "        ... \\\\\n",
        "        ... \\\\\n",
        "        e_n^T \\\\\n",
        "\\end{bmatrix}\n",
        "$$\n",
        "\n",
        "The above equation can be rewritten as equivalently, \n",
        "\n",
        "$A_{n, n} = \\lambda_{1} \\vec{e}_{1} \\vec{e}_{1}^{T} + \\lambda_{2} \\vec{e}_{2} \\vec{e}_{2}^{T}+ ... + \\lambda_{n} \\vec{e}_{n} \\vec{e}_{n}^{T}$.\n",
        "\n",
        "\n",
        "**This is the spectral decomposition of a symmetric matrix.**"
      ],
      "metadata": {
        "id": "sti_nU3kR-fw"
      }
    },
    {
      "cell_type": "markdown",
      "source": [
        "##Setup"
      ],
      "metadata": {
        "id": "n7gMjVAehJdX"
      }
    },
    {
      "cell_type": "code",
      "source": [
        "import torch\n",
        "import torch.linalg as LA\n",
        "\n",
        "import numpy as np\n",
        "import math\n",
        "from math import cos, sin, radians\n",
        "import matplotlib.pyplot as plt\n",
        "from mpl_toolkits.mplot3d import Axes3D "
      ],
      "metadata": {
        "id": "JsRgdABiFg4F"
      },
      "execution_count": null,
      "outputs": []
    },
    {
      "cell_type": "code",
      "source": [
        "torch.manual_seed(42)"
      ],
      "metadata": {
        "id": "fGUvrmiKFj8v",
        "outputId": "2c654de2-aab3-49ae-c886-3d4851fb42a3",
        "colab": {
          "base_uri": "https://localhost:8080/"
        }
      },
      "execution_count": null,
      "outputs": [
        {
          "output_type": "execute_result",
          "data": {
            "text/plain": [
              "<torch._C.Generator at 0x7fed9f430770>"
            ]
          },
          "metadata": {},
          "execution_count": 2
        }
      ]
    },
    {
      "cell_type": "markdown",
      "source": [
        "##Spectral decomposition of symmetric matrix"
      ],
      "metadata": {
        "id": "Eh1WCaxPhVtu"
      }
    },
    {
      "cell_type": "markdown",
      "source": [
        "Let us reconsider the spectral decomposition of a symmetric matrix."
      ],
      "metadata": {
        "id": "Gtqw_3h5EnCR"
      }
    },
    {
      "cell_type": "code",
      "source": [
        "def spectral_decomposition(A):\n",
        "  \"\"\"\n",
        "  Returns the spectral decomposition of a square symmetric matrix\n",
        "  \"\"\"\n",
        "  # Assert input matrix is square and symmetric.\n",
        "  # Check if number of rows and columns match and\n",
        "  # if the matrix and its transpose are identical.\n",
        "  assert len(A.shape) == 2 and A.shape[0] == A.shape[1] and torch.all(A == A.T)\n",
        "\n",
        "  # calculate the eigenvectors and values\n",
        "  l, e = torch.linalg.eig(A)\n",
        "\n",
        "  # the numpy unique function checks if all elements of an array are distinct.\n",
        "  assert len(torch.unique(l.real)) == A.shape[0], \"Eigen values are not distinct!\"\n",
        "\n",
        "  # Let us define a tensor of shape n * n * n to hold the individual terms of the spectral decomposition.\n",
        "  # This tensor can be thought of as a collection of n matrices. The ith matrix is the ith term of the decomp - lambda_i * e_i * e_i^T.\n",
        "  # Numpy function zeros creates an array filled with zeros.\n",
        "  components = torch.zeros((A.shape[0], A.shape[0], A.shape[0]))\n",
        "\n",
        "  for i, lambda_i in enumerate(l):\n",
        "    e_i = e[:, i]\n",
        "    # We use reshape to force the vector to be a row vector. \n",
        "    e_i = e_i.reshape((3, 1))\n",
        "    # We add the the corresponding value to the components\n",
        "    components[i, :, :] = (lambda_i * torch.matmul(e_i, e_i.T)).real\n",
        "  return components"
      ],
      "metadata": {
        "id": "2F-RWUsoFoqT"
      },
      "execution_count": null,
      "outputs": []
    },
    {
      "cell_type": "code",
      "source": [
        "A = torch.tensor([\n",
        "  [1, 2, 1],\n",
        "  [2, 2, 3],\n",
        "  [1, 3, 3]\n",
        "]).float()\n",
        "\n",
        "components = spectral_decomposition(A)\n",
        "\n",
        "# We createa new matrix A1 as sum of the components.\n",
        "# axis=0 specifies that we should be summing along axis 0\n",
        "A1 = components.sum(axis=0)\n",
        "\n",
        "# Then assert A1 is the same as the orginal matrix A.\n",
        "# Success of this assert verifies the math.\n",
        "assert torch.allclose(A, A1)\n",
        "\n",
        "print(f\"A: \\n{A}\")\n",
        "print(f\"A1: \\n{A1}\")"
      ],
      "metadata": {
        "colab": {
          "base_uri": "https://localhost:8080/"
        },
        "id": "vrnIgp6bUijG",
        "outputId": "4ac88a75-396a-494a-df83-d20795d7f975"
      },
      "execution_count": null,
      "outputs": [
        {
          "output_type": "stream",
          "name": "stdout",
          "text": [
            "A: \n",
            "tensor([[1., 2., 1.],\n",
            "        [2., 2., 3.],\n",
            "        [1., 3., 3.]])\n",
            "A1: \n",
            "tensor([[1.0000, 2.0000, 1.0000],\n",
            "        [2.0000, 2.0000, 3.0000],\n",
            "        [1.0000, 3.0000, 3.0000]])\n"
          ]
        }
      ]
    }
  ]
}