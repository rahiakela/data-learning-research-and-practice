{
  "nbformat": 4,
  "nbformat_minor": 0,
  "metadata": {
    "colab": {
      "provenance": [],
      "toc_visible": true,
      "authorship_tag": "ABX9TyPJO+O3NfTM2BxDz9ZqJuNq",
      "include_colab_link": true
    },
    "kernelspec": {
      "name": "python3",
      "display_name": "Python 3"
    },
    "language_info": {
      "name": "python"
    }
  },
  "cells": [
    {
      "cell_type": "markdown",
      "metadata": {
        "id": "view-in-github",
        "colab_type": "text"
      },
      "source": [
        "<a href=\"https://colab.research.google.com/github/rahiakela/deep-learning-research-and-practice/blob/main/math-and-architectures-of-deep-learning/02-introduction-to-vectors-calculus/02_gradient_computation_for_non_linear_model.ipynb\" target=\"_parent\"><img src=\"https://colab.research.google.com/assets/colab-badge.svg\" alt=\"Open In Colab\"/></a>"
      ]
    },
    {
      "cell_type": "markdown",
      "source": [
        "##Gradient Computation for non-linear model"
      ],
      "metadata": {
        "id": "j_6fwQtSMFfD"
      }
    },
    {
      "cell_type": "markdown",
      "source": [
        "In machine learning, we identify the input and output variables\n",
        "pertaining to the problem at hand and cast the problem as\n",
        "generating outputs from input variables. All the inputs are\n",
        "represented together by the vector $\\vec{x}$. Sometimes there\n",
        "are multiple outputs, sometimes single output. Accordingly,\n",
        "we have an output vector $\\vec{y}$ or output scalar $y$.\n",
        "Let us denote the function that generates the output from input\n",
        " vector as $f$, i.e., $y = f\\left(\\vec{x}\\right)$.\n",
        "\n",
        "In real life problems, we do not know $f$. The crux of machine\n",
        "learning is to estimate $f$ from a set of observed inputs\n",
        "$\\vec{x}_{i}$ and their corresponding outputs $y_{i}$.\n",
        "Each observation can be depicted as a pair $\\langle\\vec{x}_{i}, y_{i}\\rangle$.\n",
        "We model the unknown function $f$ with a known function $\\phi$.\n",
        "$\\phi$ is a parameterized function. Alhtough the nature of $\\phi$\n",
        "is known, its parameter values are unknown. These parameter values\n",
        " are \"learnt\" via training. This means, we estimate the parameter\n",
        "values such that the overall error on the observations is minimized.\n",
        "\n",
        "If $\\vec{w}, b$ denotes the current set of parameters (weights, bias), then the model will\n",
        "output $\\phi\\left(\\vec{x}_{i}, \\vec{w}, b\\right)$ on the observed input $\\vec{x}_{i}$.\n",
        "Thus the error on this $i^{th}$ observation is $e_{i}^{2}=\\left(\\phi\\left(\\vec{x}_{i}, \\vec{w}, b\\right) - y_{i}\\right)^{2}$.\n",
        "We can batch up several observations and add up the error into a batch error\n",
        "$L = \\sum_{i=0}^{i=N}\\left(e^{\\left(i\\right)}\\right)^{2}$.\n",
        "\n",
        "The error is a function of the parameter set $\\vec{w}$.\n",
        "The question is: how do we adjust $\\vec{w}$ so that the error $e_{i}^{2}$ decreases.\n",
        "We know a function's value changes most when we move along the direction of\n",
        "of the gradient of the parameters. Hence, we adjust the parameters\n",
        "$\\vec{w}, b$ as\n",
        "$\\begin{bmatrix}\n",
        "\\vec{w}\\\\b\n",
        "\\end{bmatrix} = \\begin{bmatrix}\n",
        "\\vec{w}\\\\b\n",
        "\\end{bmatrix} - \\mu \\nabla_{\\vec{w}, b}L\\left(\\vec{w}, b\\right)$.\n",
        "Each adjustment reduces the error. Starting from a random set of parameter values\n",
        "doing this \"sufficiently\" large number of times yields the desired model.\n",
        "\n",
        "A simple and popular model $\\phi$ is the linear function (predicted value is\n",
        "dot product between input and parameters plus bias):\n",
        "$\\tilde{y}_{i} = \\phi\\left(\\vec{x}_{i}, \\vec{w}, b\\right) = \\vec{w}^{T}\\vec{x} + b\n",
        "= \\sum_{j}w_{j}x_{j} + b$.\n",
        "In the example below, this is the model architecture used.\n",
        "\n",
        "Thus \n",
        "\\begin{align*}\n",
        "L &= \\sum_{i=0}^{i=N}\\left(e^{\\left(i\\right)}\\right)^{2}\\\\\n",
        "  &= \\sum_{i=0}^{i=N}\\left(\\vec{w}^{T}\\vec{x} + b - y_{i}\\right)^{2}\\\\\n",
        "\\nabla_{\\vec{w}, b}L &\\propto \\sum_{i=0}^{i=N}\\left(\\vec{w}^{T}\\vec{x}_{i} + b - y_{i}\\right)\\vec{x}_{i} \\\\\n",
        "                     &\\propto \\sum_{i=0}^{i=N}\\left(\\tilde{y}_{i} - y_{i}\\right)\\vec{x}_{i}\n",
        "\\end{align*}\n",
        "Our initial implementation will simply mimic this formula.\n",
        "For more complicated models $\\phi$ (with millions of parameters and non-linearities)\n",
        "we cannot obtain closed form gradients like this.\n",
        "\n",
        "The next example, based on NumPy and PyTorch, relies on PyTorch's\n",
        "autograd (automatic gradient computation) which does not have this limitation."
      ],
      "metadata": {
        "id": "e3XIplkKMLBL"
      }
    },
    {
      "cell_type": "markdown",
      "source": [
        "##Setup"
      ],
      "metadata": {
        "id": "eZPtNLyZM0sM"
      }
    },
    {
      "cell_type": "code",
      "source": [
        "import numpy as np\n",
        "import torch\n",
        "import matplotlib.pyplot as plt"
      ],
      "metadata": {
        "id": "pCNUjg1tM2Gy"
      },
      "execution_count": 1,
      "outputs": []
    },
    {
      "cell_type": "code",
      "source": [
        "def update_parameters(params, learning_rate):\n",
        "  \"\"\"\n",
        "  Update the current weight and bias values\n",
        "  from gradient values.\n",
        "  \"\"\"\n",
        "  # Don't track gradients while updating params\n",
        "  with torch.no_grad():\n",
        "      for i, p in enumerate(params):\n",
        "          params[i] = p - learning_rate * p.grad\n",
        "          \n",
        "  # Restore tracking of gradient for all params\n",
        "  for i in range(len(params)):\n",
        "      params[i].requires_grad = True\n",
        "\n",
        "\n",
        "def draw_line(m, c, min_x=0, max_x=10, color='magenta', label=None):\n",
        "  \"\"\"\n",
        "  Plots y = mx + c from interval (min_x to max_x)\n",
        "  \"\"\"\n",
        "  # linspace creates an array of equally spaced\n",
        "  # values between the specified min and max in \n",
        "  # specified number of steps.\n",
        "  x = np.linspace(min_x, max_x, 100)\n",
        "  y = m*x + c\n",
        "  \n",
        "  plt.plot(x, y, color=color, \n",
        "            label='y=%0.2fx+%0.2f'%(m, c)\\\n",
        "                if not label else label)\n",
        "    \n",
        "def draw_parabola(w0, w1, w2,  min_x=0, max_x=10, color='magenta', label=None):\n",
        "  \"\"\"\n",
        "  Plots y = w0 + w1*x + w2*x^2 from interval\n",
        "  (min_x to max_x)\n",
        "  \"\"\"\n",
        "  x = np.linspace(min_x, max_x, 100)\n",
        "  y = w0 + w1*x +  w2* (x**2)\n",
        "  plt.plot(x, y, color=color, \n",
        "            label='y=%0.2f+ %0.2fx + %0.2fx^2'\n",
        "            %(w0, w1, w2) if not label else label)\n",
        "    \n",
        "def draw_subplot(pos, step, true_draw_func, true_draw_params, pred_draw_func, pred_draw_params):\n",
        "  \"\"\"\n",
        "  Plots the curves corresponding to a specified pair of functions.\n",
        "  We use it to plot\n",
        "  (i) the true function (used to generate the observations\n",
        "      that we are trying to predict with a trained mode) vis a vis\n",
        "  (ii) the model function (used to makes the predictions)\n",
        "        When the predictor is good, the two plots should more or less coincide.\n",
        "  Thus this is used to visualize the goodness of the current approximation.\n",
        "  \"\"\"\n",
        "  plt.subplot(2, 2, pos)\n",
        "  plt.title('Step %d'%(step))\n",
        "  true_draw_func(**true_draw_params)\n",
        "  pred_draw_func(**pred_draw_params)\n",
        "  plt.xlabel('x')\n",
        "  plt.ylabel('y')\n",
        "  plt.legend(loc='upper left')"
      ],
      "metadata": {
        "id": "Q6ID6ngHNBaV"
      },
      "execution_count": 2,
      "outputs": []
    },
    {
      "cell_type": "markdown",
      "source": [
        "##Non-linear Models"
      ],
      "metadata": {
        "id": "sW3vJJzYdykM"
      }
    },
    {
      "cell_type": "markdown",
      "source": [
        "For scalability, we can use\n",
        "PyTorch, where gradients are computed via automatic differentiation.\n",
        "\n",
        "We dont need to worry about how to compute the gradients-they just construct the model function. \n",
        "\n",
        "Once the function is specified, PyTorch figures out how to compute\n",
        "its gradient through a technology called autograd.\n",
        "\n",
        "Autograd is the technology in pytorch for automatic gradient computation.\n",
        "\n",
        "One explicitly tells pytorch to track gradients with respect to a\n",
        "variable by setting `requires_grad = True` when creating the variable.\n",
        "\n",
        "But what happens if the underlying output function is non-linear?\n",
        "\n",
        "Here the input data is generated from non-linear function $y = x^2 -x + 2$.\n",
        "\n",
        "As before, our observations (training data) comprise\n",
        " various values of `x` and corresponding values of `y` computed from this function.\n",
        "\n",
        "We will add some noise to the computed values to generate the observed value.\n",
        "\n",
        "We will train a model $y_obs = w_0*x^2 + w_1*x + b$ and see if the learnt parameters come out close to the expected values $w_0 = 1, w_1 = -1 b = 2$."
      ],
      "metadata": {
        "id": "YuY5Vvwkdyt2"
      }
    },
    {
      "cell_type": "code",
      "source": [
        "torch.manual_seed(42)\n",
        "\n",
        "# generate random input values\n",
        "N = 100\n",
        "x = 10 * torch.randn(N, 1)\n",
        "\n",
        "# Compute function outputs\n",
        "y = x ** 2 - x + 2.0\n",
        "\n",
        "# Add random noise to get the observed value of y\n",
        "y_obs = y + (0.5 * torch.randn(N, 1) - 0.25)\n",
        "\n",
        "# Plot the true function and the data points\n",
        "plt.scatter(x.data, y_obs.data, color=\"green\")\n",
        "draw_parabola(2, -1, 1)\n",
        "plt.title('True function + data points')\n",
        "plt.xlabel('x')\n",
        "plt.ylabel('y')\n",
        "plt.legend(loc='upper left')\n",
        "plt.show()\n",
        "\n",
        "# First, let us try a linear model y_pred = wx + b\n",
        "w = torch.randn(1, requires_grad=True)\n",
        "b = torch.randn(1, requires_grad=True)\n",
        "# combine bias and weights matrix\n",
        "params = [b, w]\n",
        "\n",
        "# Training: repeatative adjustment of parameters via gradient.\n",
        "num_steps = 1000\n",
        "learning_rate = 1e-2\n",
        "\n",
        "plt.figure()\n",
        "\n",
        "# Train model iteratively\n",
        "i = 1\n",
        "plot_steps = [0, 50, 100, 999]\n",
        "for step in range(num_steps):\n",
        "  # linear model\n",
        "  y_pred = params[0] + params[1] * x\n",
        "\n",
        "  # Periodically plot the true function and current approximation to check how we are doing\n",
        "  if step in plot_steps:\n",
        "    draw_subplot(i, step, draw_parabola, {\"w0\": 2, \"w1\": -1, \"w2\": 1},\n",
        "                 draw_line, {\"m\": params[1].data.numpy()[0], \"c\": params[0].data.numpy()[0],\n",
        "                 \"color\": \"blue\", \n",
        "                 \"label\": f\"y_pred={params[1].data.numpy()[0]:.2f} x + {params[0].data.numpy()[0]:.2f}\"})\n",
        "    i += 1\n",
        "\n",
        "  # Compute Mean Squared Error (M.S.E)\n",
        "  mean_squared_error = torch.mean(y_pred - y_obs) ** 2\n",
        "\n",
        "  # Back propogate. Computes the partial derivative of error with respect to each variable and stores it within the grad field of the variable.\n",
        "  mean_squared_error.backward()\n",
        "\n",
        "  # periodically print diagnostic values every 100th iteration\n",
        "  if step % 100 == 0:\n",
        "    print(f\"Step {step}: w = {params[1].data} b = {params[0].data} \\nMSE Error = {mean_squared_error}\")\n",
        "    print(f\"Gradient of w: {params[1].grad} \\nGradient of b: {params[0].grad}\")\n",
        "\n",
        "  # Crucial step, adjust the parameters (weights and bias) using the gradients (partial derivatives) computed during the call to backward() above\n",
        "  update_parameters(params, learning_rate)\n",
        "\n",
        "plt.tight_layout()\n",
        "plt.show()\n",
        "\n",
        "print(\"True function: y=x^2 -x + 2\")\n",
        "print(f\"Learnt function: y_pred = {params[1].data.numpy()[0]}*x + {params[0].data.numpy()[0]}\")\n",
        "print(\"Clearly the model is not converging to anything close to the desired/true function.\\nOur model architecture is inadequate\")"
      ],
      "metadata": {
        "id": "taWoHRJIe3h8",
        "outputId": "b59712c1-77d0-40e8-e1c5-b0e3327854b9",
        "colab": {
          "base_uri": "https://localhost:8080/",
          "height": 1000
        }
      },
      "execution_count": 3,
      "outputs": [
        {
          "output_type": "display_data",
          "data": {
            "text/plain": [
              "<Figure size 432x288 with 1 Axes>"
            ],
            "image/png": "[encoded data removed]"
          },
          "metadata": {
            "needs_background": "light"
          }
        },
        {
          "output_type": "stream",
          "name": "stdout",
          "text": [
            "Step 0: w = tensor([0.3932]) b = tensor([-0.2148]) \n",
            "MSE Error = 9570.197265625\n",
            "Gradient of w: tensor([-116.9342]) \n",
            "Gradient of b: tensor([-195.6548])\n",
            "Step 100: w = tensor([40.7239]) b = tensor([67.2667]) \n",
            "MSE Error = 38.96216583251953\n",
            "Gradient of w: tensor([-7.4611]) \n",
            "Gradient of b: tensor([-12.4839])\n",
            "Step 200: w = tensor([43.2972]) b = tensor([71.5725]) \n",
            "MSE Error = 0.1586260050535202\n",
            "Gradient of w: tensor([-0.4761]) \n",
            "Gradient of b: tensor([-0.7966])\n",
            "Step 300: w = tensor([43.4614]) b = tensor([71.8472]) \n",
            "MSE Error = 0.0006466379854828119\n",
            "Gradient of w: tensor([-0.0304]) \n",
            "Gradient of b: tensor([-0.0509])\n",
            "Step 400: w = tensor([43.4719]) b = tensor([71.8647]) \n",
            "MSE Error = 2.6437996893946547e-06\n",
            "Gradient of w: tensor([-0.0019]) \n",
            "Gradient of b: tensor([-0.0033])\n",
            "Step 500: w = tensor([43.4726]) b = tensor([71.8658]) \n",
            "MSE Error = 2.498961748642614e-08\n",
            "Gradient of w: tensor([-0.0002]) \n",
            "Gradient of b: tensor([-0.0003])\n",
            "Step 600: w = tensor([43.4726]) b = tensor([71.8658]) \n",
            "MSE Error = 2.498961748642614e-08\n",
            "Gradient of w: tensor([-0.0002]) \n",
            "Gradient of b: tensor([-0.0003])\n",
            "Step 700: w = tensor([43.4726]) b = tensor([71.8658]) \n",
            "MSE Error = 2.498961748642614e-08\n",
            "Gradient of w: tensor([-0.0002]) \n",
            "Gradient of b: tensor([-0.0003])\n",
            "Step 800: w = tensor([43.4726]) b = tensor([71.8658]) \n",
            "MSE Error = 2.498961748642614e-08\n",
            "Gradient of w: tensor([-0.0002]) \n",
            "Gradient of b: tensor([-0.0003])\n",
            "Step 900: w = tensor([43.4726]) b = tensor([71.8658]) \n",
            "MSE Error = 2.498961748642614e-08\n",
            "Gradient of w: tensor([-0.0002]) \n",
            "Gradient of b: tensor([-0.0003])\n"
          ]
        },
        {
          "output_type": "display_data",
          "data": {
            "text/plain": [
              "<Figure size 432x288 with 4 Axes>"
            ],
            "image/png": "[encoded data removed]"
          },
          "metadata": {
            "needs_background": "light"
          }
        },
        {
          "output_type": "stream",
          "name": "stdout",
          "text": [
            "True function: y = 1.5*x + 2.73\n",
            "Learnt function: y_pred = 43.47256851196289*x + 71.86576843261719\n",
            "Clearly the model is not converging to anything\n",
            "close to the desired/true function.\n",
            "Our model architecture is inadequate\n"
          ]
        }
      ]
    },
    {
      "cell_type": "markdown",
      "source": [
        "Now, let's try quadratic model architecture:\n",
        "\n",
        "$$ y = w_0 + w_1*x + w_2*x^2 $$"
      ],
      "metadata": {
        "id": "zaC171ilKLzE"
      }
    },
    {
      "cell_type": "code",
      "source": [
        "# Try quadratic model architecture: y_pred = w0 + w1*x + w2*x^2\n",
        "w0 = torch.randn(1, requires_grad=True)\n",
        "w1 = torch.randn(1, requires_grad=True)\n",
        "w2 = torch.randn(1, requires_grad=True)\n",
        "# combine bias and weights matrix\n",
        "params = [w0, w1, w2]\n",
        "\n",
        "# Training: repeatative adjustment of parameters via gradient.\n",
        "num_steps = 200000\n",
        "learning_rate = 1e-4\n",
        "\n",
        "plt.figure()\n",
        "\n",
        "# Train model iteratively\n",
        "i = 1\n",
        "plot_steps = [0, 50, 100, 199999]\n",
        "\n",
        "for step in range(num_steps):\n",
        "  # quadratic model architecture\n",
        "  y_pred = params[0] + params[1] * x + params[2] * (x ** 2)\n",
        "\n",
        "  # Periodically plot the true function and current approximation to check how we are doing\n",
        "  if step in plot_steps:\n",
        "    draw_subplot(i, step, draw_parabola, {\"w0\": 2, \"w1\": -1, \"w2\": 1},\n",
        "                 draw_parabola, {\"w0\": params[0].data.numpy()[0], \"w1\": params[1].data.numpy()[0], \"w2\": params[2].data.numpy()[0],\n",
        "                 \"color\": \"blue\", \n",
        "                 \"label\": f\"y_pred={params[0].data.numpy()[0]:.2f} + {params[1].data.numpy()[0]:.2f}x + {params[2].data.numpy()[0]:.2f}x^2\"})\n",
        "    i += 1\n",
        "\n",
        "  # Compute Mean Squared Error (M.S.E)\n",
        "  mean_squared_error = torch.mean(y_pred - y_obs) ** 2\n",
        "\n",
        "  # Back propogate. Computes the partial derivative of error with respect to each variable and stores it within the grad field of the variable.\n",
        "  mean_squared_error.backward()\n",
        "\n",
        "  # periodically print diagnostic values every 100th iteration\n",
        "  if step % 20000 == 0:\n",
        "    print(f\"Step {step}: \\nw0 = {params[0].data} w1 = {params[1].data} w2={params[2].data}\\nMSE Error = {mean_squared_error}\")\n",
        "    print(f\"Gradient of w0: {params[0].grad} \\nGradient of w1: {params[1].grad} \\nGradient of w2: {params[2].grad}\")\n",
        "\n",
        "  # Crucial step, adjust the parameters (weights and bias) using the gradients (partial derivatives) computed during the call to backward() above\n",
        "  update_parameters(params, learning_rate)\n",
        "\n",
        "plt.tight_layout()\n",
        "plt.show()\n",
        "\n",
        "print(\"True function: y= 2 - x + x^2\")\n",
        "print(f\"Learnt function: y_pred = {params[0].data.numpy()[0]} + {params[1].data.numpy()[0]}*x + {params[2].data.numpy()[0]}*x^2\")\n",
        "print(\"Model has more or less converged to true underlying function\")"
      ],
      "metadata": {
        "id": "kPhtzMCsKbjt",
        "outputId": "d6c4d3ea-400e-4b15-d4b8-bbec89d1a231",
        "colab": {
          "base_uri": "https://localhost:8080/",
          "height": 1000
        }
      },
      "execution_count": 4,
      "outputs": [
        {
          "output_type": "stream",
          "name": "stdout",
          "text": [
            "Step 0: \n",
            "w0 = tensor([1.2651]) w1 = tensor([-0.3178]) w2=tensor([-0.4279])\n",
            "MSE Error = 19083.15625\n",
            "Gradient of w0: tensor([-276.2836]) \n",
            "Gradient of w1: tensor([-165.1225]) \n",
            "Gradient of w2: tensor([-26710.2812])\n",
            "Step 20000: \n",
            "w0 = tensor([1.2799]) w1 = tensor([-0.3090]) w2=tensor([1.0008])\n",
            "MSE Error = 8.366522474823057e-10\n",
            "Gradient of w0: tensor([-5.7850e-05]) \n",
            "Gradient of w1: tensor([-3.4574e-05]) \n",
            "Gradient of w2: tensor([-0.0056])\n",
            "Step 40000: \n",
            "w0 = tensor([1.2799]) w1 = tensor([-0.3090]) w2=tensor([1.0008])\n",
            "MSE Error = 8.366522474823057e-10\n",
            "Gradient of w0: tensor([-5.7850e-05]) \n",
            "Gradient of w1: tensor([-3.4574e-05]) \n",
            "Gradient of w2: tensor([-0.0056])\n",
            "Step 60000: \n",
            "w0 = tensor([1.2799]) w1 = tensor([-0.3090]) w2=tensor([1.0008])\n",
            "MSE Error = 8.366522474823057e-10\n",
            "Gradient of w0: tensor([-5.7850e-05]) \n",
            "Gradient of w1: tensor([-3.4574e-05]) \n",
            "Gradient of w2: tensor([-0.0056])\n",
            "Step 80000: \n",
            "w0 = tensor([1.2799]) w1 = tensor([-0.3090]) w2=tensor([1.0008])\n",
            "MSE Error = 8.366522474823057e-10\n",
            "Gradient of w0: tensor([-5.7850e-05]) \n",
            "Gradient of w1: tensor([-3.4574e-05]) \n",
            "Gradient of w2: tensor([-0.0056])\n",
            "Step 100000: \n",
            "w0 = tensor([1.2799]) w1 = tensor([-0.3090]) w2=tensor([1.0008])\n",
            "MSE Error = 8.366522474823057e-10\n",
            "Gradient of w0: tensor([-5.7850e-05]) \n",
            "Gradient of w1: tensor([-3.4574e-05]) \n",
            "Gradient of w2: tensor([-0.0056])\n",
            "Step 120000: \n",
            "w0 = tensor([1.2799]) w1 = tensor([-0.3090]) w2=tensor([1.0008])\n",
            "MSE Error = 8.366522474823057e-10\n",
            "Gradient of w0: tensor([-5.7850e-05]) \n",
            "Gradient of w1: tensor([-3.4574e-05]) \n",
            "Gradient of w2: tensor([-0.0056])\n",
            "Step 140000: \n",
            "w0 = tensor([1.2799]) w1 = tensor([-0.3090]) w2=tensor([1.0008])\n",
            "MSE Error = 8.366522474823057e-10\n",
            "Gradient of w0: tensor([-5.7850e-05]) \n",
            "Gradient of w1: tensor([-3.4574e-05]) \n",
            "Gradient of w2: tensor([-0.0056])\n",
            "Step 160000: \n",
            "w0 = tensor([1.2799]) w1 = tensor([-0.3090]) w2=tensor([1.0008])\n",
            "MSE Error = 8.366522474823057e-10\n",
            "Gradient of w0: tensor([-5.7850e-05]) \n",
            "Gradient of w1: tensor([-3.4574e-05]) \n",
            "Gradient of w2: tensor([-0.0056])\n",
            "Step 180000: \n",
            "w0 = tensor([1.2799]) w1 = tensor([-0.3090]) w2=tensor([1.0008])\n",
            "MSE Error = 8.366522474823057e-10\n",
            "Gradient of w0: tensor([-5.7850e-05]) \n",
            "Gradient of w1: tensor([-3.4574e-05]) \n",
            "Gradient of w2: tensor([-0.0056])\n"
          ]
        },
        {
          "output_type": "display_data",
          "data": {
            "text/plain": [
              "<Figure size 432x288 with 4 Axes>"
            ],
            "image/png": "[encoded data removed]"
          },
          "metadata": {
            "needs_background": "light"
          }
        },
        {
          "output_type": "stream",
          "name": "stdout",
          "text": [
            "True function: y= 2 - x + x^2\n",
            "Learnt function: y_pred = 1.279896855354309 + -0.3089747726917267*x + 1.0007785558700562*x^2\n",
            "Model has more or less converged to true underlying function\n"
          ]
        }
      ]
    }
  ]
}