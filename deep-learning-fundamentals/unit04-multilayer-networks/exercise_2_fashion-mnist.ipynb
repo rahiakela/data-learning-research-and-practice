{
  "cells": [
    {
      "cell_type": "markdown",
      "metadata": {
        "id": "view-in-github",
        "colab_type": "text"
      },
      "source": [
        "<a href=\"https://colab.research.google.com/github/rahiakela/deep-learning-research-and-practice/blob/main/deep-learning-fundamentals/unit04-multilayer-networks/exercise_2_fashion-mnist.ipynb\" target=\"_parent\"><img src=\"https://colab.research.google.com/assets/colab-badge.svg\" alt=\"Open In Colab\"/></a>"
      ]
    },
    {
      "cell_type": "markdown",
      "id": "d71bce70-9dc3-448b-9f9a-8896e83b6d09",
      "metadata": {
        "id": "d71bce70-9dc3-448b-9f9a-8896e83b6d09"
      },
      "source": [
        "## Implementing a Multilayer Perceptron (Fashion-MNIST)"
      ]
    },
    {
      "cell_type": "markdown",
      "id": "e5b48fc7-4f46-4d5a-8558-cd06892aaa27",
      "metadata": {
        "id": "e5b48fc7-4f46-4d5a-8558-cd06892aaa27"
      },
      "source": [
        "## 1) Setup"
      ]
    },
    {
      "cell_type": "code",
      "source": [
        "!wget https://github.com/rahiakela/deep-learning-research-and-practice/raw/main/deep-learning-fundamentals/unit04-multilayer-networks/helper_plotting.py"
      ],
      "metadata": {
        "id": "HKFomRW3WEIr"
      },
      "id": "HKFomRW3WEIr",
      "execution_count": null,
      "outputs": []
    },
    {
      "cell_type": "code",
      "source": [
        "import os\n",
        "import gzip\n",
        "import numpy as np\n",
        "\n",
        "import torch\n",
        "from torch.utils.data import DataLoader\n",
        "from torchvision import datasets, transforms\n",
        "from torch.utils.data import DataLoader, Dataset\n",
        "from torch.utils.data.dataset import random_split\n",
        "import torch.nn.functional as F\n",
        "\n",
        "from helper_plotting import plot_training_loss\n",
        "from helper_plotting import plot_accuracy"
      ],
      "metadata": {
        "id": "XdT7Pn1QVnhm"
      },
      "id": "XdT7Pn1QVnhm",
      "execution_count": 2,
      "outputs": []
    },
    {
      "cell_type": "code",
      "source": [
        "!wget https://github.com/zalandoresearch/fashion-mnist/raw/master/data/fashion/train-images-idx3-ubyte.gz\n",
        "!wget https://github.com/zalandoresearch/fashion-mnist/raw/master/data/fashion/train-labels-idx1-ubyte.gz\n",
        "!wget https://github.com/zalandoresearch/fashion-mnist/raw/master/data/fashion/t10k-images-idx3-ubyte.gz\n",
        "!wget https://github.com/zalandoresearch/fashion-mnist/raw/master/data/fashion/t10k-labels-idx1-ubyte.gz\n",
        "\n",
        "!mkdir data\n",
        "!mv *.gz data/"
      ],
      "metadata": {
        "id": "89Wb4CeLZAq8"
      },
      "id": "89Wb4CeLZAq8",
      "execution_count": null,
      "outputs": []
    },
    {
      "cell_type": "markdown",
      "id": "b9549676-2fa5-41a7-bbb9-ce03f5797c34",
      "metadata": {
        "id": "b9549676-2fa5-41a7-bbb9-ce03f5797c34"
      },
      "source": [
        "## 2) Loading the dataset"
      ]
    },
    {
      "cell_type": "markdown",
      "id": "e002ad95-a1f7-4c33-826a-4a45944f2687",
      "metadata": {
        "id": "e002ad95-a1f7-4c33-826a-4a45944f2687"
      },
      "source": [
        "- Fashion-MNIST website: https://github.com/zalandoresearch/fashion-mnist"
      ]
    },
    {
      "cell_type": "code",
      "execution_count": 4,
      "id": "f609024c-3eae-4ad5-8cb8-b95b403b7606",
      "metadata": {
        "id": "f609024c-3eae-4ad5-8cb8-b95b403b7606"
      },
      "outputs": [],
      "source": [
        "def load_mnist(path, kind='train'):\n",
        "\n",
        "    \"\"\"Load MNIST data from `path`\"\"\"\n",
        "    labels_path = os.path.join(path,\n",
        "                               '%s-labels-idx1-ubyte.gz'\n",
        "                               % kind)\n",
        "    images_path = os.path.join(path,\n",
        "                               '%s-images-idx3-ubyte.gz'\n",
        "                               % kind)\n",
        "\n",
        "    with gzip.open(labels_path, 'rb') as lbpath:\n",
        "        labels = np.frombuffer(lbpath.read(), dtype=np.uint8,\n",
        "                               offset=8)\n",
        "\n",
        "    with gzip.open(images_path, 'rb') as imgpath:\n",
        "        images = np.frombuffer(imgpath.read(), dtype=np.uint8,\n",
        "                               offset=16).reshape(len(labels), 784)\n",
        "\n",
        "    return images, labels"
      ]
    },
    {
      "cell_type": "code",
      "source": [
        "x_train_dataset, y_train_dataset = load_mnist(\"data\", kind=\"train\")\n",
        "x_test_dataset, y_test_dataset = load_mnist(\"data\", kind=\"t10k\")"
      ],
      "metadata": {
        "id": "31_-5RDlXdl2"
      },
      "id": "31_-5RDlXdl2",
      "execution_count": 5,
      "outputs": []
    },
    {
      "cell_type": "code",
      "source": [
        "len(x_train_dataset), len(y_train_dataset)"
      ],
      "metadata": {
        "id": "TEL3oe97bQbl",
        "outputId": "4d29778a-8884-4b13-bcb2-f9706bc44a30",
        "colab": {
          "base_uri": "https://localhost:8080/"
        }
      },
      "id": "TEL3oe97bQbl",
      "execution_count": 6,
      "outputs": [
        {
          "output_type": "execute_result",
          "data": {
            "text/plain": [
              "(60000, 60000)"
            ]
          },
          "metadata": {},
          "execution_count": 6
        }
      ]
    },
    {
      "cell_type": "code",
      "source": [
        "len(x_test_dataset)"
      ],
      "metadata": {
        "id": "NS-63TcBbay5",
        "outputId": "176f7fa5-c519-41e7-a42f-faa25f58190e",
        "colab": {
          "base_uri": "https://localhost:8080/"
        }
      },
      "id": "NS-63TcBbay5",
      "execution_count": 7,
      "outputs": [
        {
          "output_type": "execute_result",
          "data": {
            "text/plain": [
              "10000"
            ]
          },
          "metadata": {},
          "execution_count": 7
        }
      ]
    },
    {
      "cell_type": "code",
      "execution_count": 8,
      "id": "53652f7f-1327-4992-a78a-345921eeb854",
      "metadata": {
        "id": "53652f7f-1327-4992-a78a-345921eeb854"
      },
      "outputs": [],
      "source": [
        "class MyDataset(Dataset):\n",
        "    def __init__(self, features, labels, transform=None):\n",
        "\n",
        "        self.transform = transform\n",
        "\n",
        "        self.features = features\n",
        "        self.labels = labels\n",
        "\n",
        "    def __getitem__(self, index):\n",
        "        img = self.features[index]\n",
        "        img = torch.tensor(img).to(torch.float32)\n",
        "        img = img/255.\n",
        "\n",
        "        if self.transform is not None:\n",
        "            img = self.transform(img)\n",
        "\n",
        "        label = self.labels[index]\n",
        "\n",
        "        return img, label\n",
        "\n",
        "    def __len__(self):\n",
        "        return self.labels.shape[0]"
      ]
    },
    {
      "cell_type": "code",
      "source": [
        "data_transforms = {\n",
        "  \"train\": transforms.Compose([\n",
        "    transforms.Resize(32),\n",
        "    transforms.RandomCrop((28, 28)),\n",
        "    transforms.ToTensor(),\n",
        "    transforms.Normalize((0.5), (0.5))  # normalize images to [-1, 1] range\n",
        "  ]),\n",
        "  \"test\": transforms.Compose([\n",
        "    transforms.Resize(32),\n",
        "    transforms.CenterCrop((28, 28)),\n",
        "    transforms.ToTensor(),\n",
        "    transforms.Normalize((0.5), (0.5))  # normalize images to [-1, 1] range\n",
        "  ]),\n",
        "}"
      ],
      "metadata": {
        "id": "AWmOQXfIey21"
      },
      "id": "AWmOQXfIey21",
      "execution_count": 9,
      "outputs": []
    },
    {
      "cell_type": "code",
      "source": [
        "train_dataset = MyDataset(\n",
        "  features=x_train_dataset,\n",
        "  labels=y_train_dataset,\n",
        ")\n",
        "\n",
        "test_dataset = MyDataset(\n",
        "  features=x_test_dataset,\n",
        "  labels=y_test_dataset,\n",
        ")"
      ],
      "metadata": {
        "id": "EYfZYwJBe4lh"
      },
      "id": "EYfZYwJBe4lh",
      "execution_count": 20,
      "outputs": []
    },
    {
      "cell_type": "code",
      "execution_count": 21,
      "id": "6661307a-6220-48d5-b965-4cd36e29e54c",
      "metadata": {
        "id": "6661307a-6220-48d5-b965-4cd36e29e54c",
        "outputId": "3e944ddd-1375-4e6f-a118-94c05ced3b7e",
        "colab": {
          "base_uri": "https://localhost:8080/"
        }
      },
      "outputs": [
        {
          "output_type": "execute_result",
          "data": {
            "text/plain": [
              "60000"
            ]
          },
          "metadata": {},
          "execution_count": 21
        }
      ],
      "source": [
        "len(train_dataset)"
      ]
    },
    {
      "cell_type": "code",
      "execution_count": 22,
      "id": "78adc94e-5418-4aac-9a82-9a9cbf8fc688",
      "metadata": {
        "id": "78adc94e-5418-4aac-9a82-9a9cbf8fc688",
        "outputId": "6be8f6ba-bee2-4e51-9b44-ccb393e8dbc3",
        "colab": {
          "base_uri": "https://localhost:8080/"
        }
      },
      "outputs": [
        {
          "output_type": "execute_result",
          "data": {
            "text/plain": [
              "10000"
            ]
          },
          "metadata": {},
          "execution_count": 22
        }
      ],
      "source": [
        "len(test_dataset)"
      ]
    },
    {
      "cell_type": "markdown",
      "id": "765adcf0-9147-434b-917a-f6d736a7117e",
      "metadata": {
        "id": "765adcf0-9147-434b-917a-f6d736a7117e"
      },
      "source": [
        "### Create a validation set"
      ]
    },
    {
      "cell_type": "code",
      "execution_count": 23,
      "id": "b39a42a2-cd46-46cf-ba93-d3f2f232f29c",
      "metadata": {
        "id": "b39a42a2-cd46-46cf-ba93-d3f2f232f29c"
      },
      "outputs": [],
      "source": [
        "torch.manual_seed(1)\n",
        "train_dataset, val_dataset = random_split(train_dataset, lengths=[55000, 5000])"
      ]
    },
    {
      "cell_type": "code",
      "execution_count": 24,
      "id": "b30e4a70-55b3-4fb0-b28d-b0fddd193fae",
      "metadata": {
        "id": "b30e4a70-55b3-4fb0-b28d-b0fddd193fae"
      },
      "outputs": [],
      "source": [
        "train_loader = DataLoader(\n",
        "    dataset=train_dataset,\n",
        "    batch_size=64,\n",
        "    shuffle=True,\n",
        ")\n",
        "\n",
        "val_loader = DataLoader(\n",
        "    dataset=val_dataset,\n",
        "    batch_size=64,\n",
        "    shuffle=False,\n",
        ")\n",
        "\n",
        "test_loader = DataLoader(\n",
        "    dataset=test_dataset,\n",
        "    batch_size=64,\n",
        "    shuffle=False,\n",
        ")"
      ]
    },
    {
      "cell_type": "markdown",
      "source": [
        "###Testing the data loaders"
      ],
      "metadata": {
        "id": "zsaAM4nYom3K"
      },
      "id": "zsaAM4nYom3K"
    },
    {
      "cell_type": "code",
      "source": [
        "import time\n",
        "\n",
        "num_epochs = 1\n",
        "for epoch in range(num_epochs):\n",
        "  for batch_idx, (x, y) in enumerate(train_loader):\n",
        "      time.sleep(1)\n",
        "      if batch_idx >= 3:\n",
        "          break\n",
        "      print(\" Batch index:\", batch_idx, end=\"\")\n",
        "      print(\" | Batch size:\", y.shape[0], end=\"\")\n",
        "      print(\" | x shape:\", x.shape, end=\"\")\n",
        "      print(\" | y shape:\", y.shape)\n",
        "\n",
        "print(\"Labels from current batch:\", y)"
      ],
      "metadata": {
        "colab": {
          "base_uri": "https://localhost:8080/"
        },
        "id": "GaokRvCanXAy",
        "outputId": "5f7d1722-25fd-4692-83af-30c2bd8a0d1c"
      },
      "id": "GaokRvCanXAy",
      "execution_count": 25,
      "outputs": [
        {
          "output_type": "stream",
          "name": "stdout",
          "text": [
            " Batch index: 0 | Batch size: 64 | x shape: torch.Size([64, 784]) | y shape: torch.Size([64])\n",
            " Batch index: 1 | Batch size: 64 | x shape: torch.Size([64, 784]) | y shape: torch.Size([64])\n",
            " Batch index: 2 | Batch size: 64 | x shape: torch.Size([64, 784]) | y shape: torch.Size([64])\n",
            "Labels from current batch: tensor([4, 8, 9, 9, 9, 0, 6, 4, 7, 6, 0, 1, 7, 7, 7, 1, 3, 9, 7, 8, 8, 6, 9, 1,\n",
            "        3, 8, 2, 2, 6, 6, 1, 3, 0, 4, 0, 7, 6, 4, 8, 2, 1, 3, 0, 5, 4, 8, 1, 1,\n",
            "        2, 7, 7, 0, 5, 3, 9, 4, 2, 2, 3, 3, 5, 2, 1, 9], dtype=torch.uint8)\n"
          ]
        }
      ]
    },
    {
      "cell_type": "markdown",
      "id": "db50db02-3696-4f86-b149-74baabeec6c4",
      "metadata": {
        "id": "db50db02-3696-4f86-b149-74baabeec6c4"
      },
      "source": [
        "## 3) Implementing the model"
      ]
    },
    {
      "cell_type": "code",
      "execution_count": 26,
      "id": "971389a7-5424-4141-a3ee-9399eebbbb6a",
      "metadata": {
        "id": "971389a7-5424-4141-a3ee-9399eebbbb6a"
      },
      "outputs": [],
      "source": [
        "class PyTorchMLP(torch.nn.Module):\n",
        "    def __init__(self, num_features, num_classes):\n",
        "        super().__init__()\n",
        "\n",
        "        self.all_layers = torch.nn.Sequential(\n",
        "            # 1st hidden layer\n",
        "            torch.nn.Linear(num_features, 50),\n",
        "            torch.nn.ReLU(),\n",
        "            # 2nd hidden layer\n",
        "            torch.nn.Linear(50, 25),\n",
        "            torch.nn.ReLU(),\n",
        "            # output layer\n",
        "            torch.nn.Linear(25, num_classes),\n",
        "        )\n",
        "\n",
        "    def forward(self, x):\n",
        "        x = torch.flatten(x, start_dim=1)\n",
        "        logits = self.all_layers(x)\n",
        "        return logits"
      ]
    },
    {
      "cell_type": "markdown",
      "id": "46bc16a0-ec59-4c54-a209-0a5e22406287",
      "metadata": {
        "id": "46bc16a0-ec59-4c54-a209-0a5e22406287"
      },
      "source": [
        "## 4) The training loop"
      ]
    },
    {
      "cell_type": "code",
      "execution_count": 27,
      "id": "8de213fc-48b0-4f7c-af9e-8e2da068e351",
      "metadata": {
        "id": "8de213fc-48b0-4f7c-af9e-8e2da068e351"
      },
      "outputs": [],
      "source": [
        "def compute_accuracy(model, dataloader):\n",
        "\n",
        "    model = model.eval()\n",
        "\n",
        "    correct = 0.0\n",
        "    total_examples = 0\n",
        "\n",
        "    for idx, (features, labels) in enumerate(dataloader):\n",
        "\n",
        "        with torch.no_grad():\n",
        "            logits = model(features)\n",
        "\n",
        "        predictions = torch.argmax(logits, dim=1)\n",
        "\n",
        "        compare = labels == predictions\n",
        "        correct += torch.sum(compare)\n",
        "        total_examples += len(compare)\n",
        "\n",
        "    return correct / total_examples"
      ]
    },
    {
      "cell_type": "code",
      "execution_count": 28,
      "id": "3dcaa2b1-4019-4128-9ff5-6a966c3abdf2",
      "metadata": {
        "id": "3dcaa2b1-4019-4128-9ff5-6a966c3abdf2",
        "outputId": "3d90cfdf-fd3e-4e99-818f-9a9cfca400d9",
        "colab": {
          "base_uri": "https://localhost:8080/"
        }
      },
      "outputs": [
        {
          "output_type": "stream",
          "name": "stdout",
          "text": [
            "Epoch: 001/030 | Batch 000/860 | Train Loss: 2.29\n",
            "Epoch: 001/030 | Batch 250/860 | Train Loss: 1.90\n",
            "Epoch: 001/030 | Batch 500/860 | Train Loss: 1.26\n",
            "Epoch: 001/030 | Batch 750/860 | Train Loss: 0.83\n",
            "Train Acc 68.13% | Val Acc 68.92%\n",
            "Epoch: 002/030 | Batch 000/860 | Train Loss: 0.90\n",
            "Epoch: 002/030 | Batch 250/860 | Train Loss: 0.93\n",
            "Epoch: 002/030 | Batch 500/860 | Train Loss: 0.77\n",
            "Epoch: 002/030 | Batch 750/860 | Train Loss: 0.75\n",
            "Train Acc 76.77% | Val Acc 76.88%\n",
            "Epoch: 003/030 | Batch 000/860 | Train Loss: 0.91\n",
            "Epoch: 003/030 | Batch 250/860 | Train Loss: 0.62\n",
            "Epoch: 003/030 | Batch 500/860 | Train Loss: 0.58\n",
            "Epoch: 003/030 | Batch 750/860 | Train Loss: 0.43\n",
            "Train Acc 79.60% | Val Acc 80.12%\n",
            "Epoch: 004/030 | Batch 000/860 | Train Loss: 0.68\n",
            "Epoch: 004/030 | Batch 250/860 | Train Loss: 0.61\n",
            "Epoch: 004/030 | Batch 500/860 | Train Loss: 0.39\n",
            "Epoch: 004/030 | Batch 750/860 | Train Loss: 0.69\n",
            "Train Acc 80.65% | Val Acc 80.94%\n",
            "Epoch: 005/030 | Batch 000/860 | Train Loss: 0.68\n",
            "Epoch: 005/030 | Batch 250/860 | Train Loss: 0.47\n",
            "Epoch: 005/030 | Batch 500/860 | Train Loss: 0.40\n",
            "Epoch: 005/030 | Batch 750/860 | Train Loss: 0.51\n",
            "Train Acc 81.45% | Val Acc 81.66%\n",
            "Epoch: 006/030 | Batch 000/860 | Train Loss: 0.61\n",
            "Epoch: 006/030 | Batch 250/860 | Train Loss: 0.50\n",
            "Epoch: 006/030 | Batch 500/860 | Train Loss: 0.47\n",
            "Epoch: 006/030 | Batch 750/860 | Train Loss: 0.56\n",
            "Train Acc 83.29% | Val Acc 83.04%\n",
            "Epoch: 007/030 | Batch 000/860 | Train Loss: 0.42\n",
            "Epoch: 007/030 | Batch 250/860 | Train Loss: 0.39\n",
            "Epoch: 007/030 | Batch 500/860 | Train Loss: 0.48\n",
            "Epoch: 007/030 | Batch 750/860 | Train Loss: 0.64\n",
            "Train Acc 83.49% | Val Acc 83.16%\n",
            "Epoch: 008/030 | Batch 000/860 | Train Loss: 0.52\n",
            "Epoch: 008/030 | Batch 250/860 | Train Loss: 0.65\n",
            "Epoch: 008/030 | Batch 500/860 | Train Loss: 0.48\n",
            "Epoch: 008/030 | Batch 750/860 | Train Loss: 0.73\n",
            "Train Acc 83.99% | Val Acc 83.82%\n",
            "Epoch: 009/030 | Batch 000/860 | Train Loss: 0.41\n",
            "Epoch: 009/030 | Batch 250/860 | Train Loss: 0.37\n",
            "Epoch: 009/030 | Batch 500/860 | Train Loss: 0.29\n",
            "Epoch: 009/030 | Batch 750/860 | Train Loss: 0.56\n",
            "Train Acc 83.87% | Val Acc 84.10%\n",
            "Epoch: 010/030 | Batch 000/860 | Train Loss: 0.59\n",
            "Epoch: 010/030 | Batch 250/860 | Train Loss: 0.53\n",
            "Epoch: 010/030 | Batch 500/860 | Train Loss: 0.58\n",
            "Epoch: 010/030 | Batch 750/860 | Train Loss: 0.42\n",
            "Train Acc 84.67% | Val Acc 84.00%\n",
            "Epoch: 011/030 | Batch 000/860 | Train Loss: 0.35\n",
            "Epoch: 011/030 | Batch 250/860 | Train Loss: 0.32\n",
            "Epoch: 011/030 | Batch 500/860 | Train Loss: 0.52\n",
            "Epoch: 011/030 | Batch 750/860 | Train Loss: 0.43\n",
            "Train Acc 84.35% | Val Acc 84.08%\n",
            "Epoch: 012/030 | Batch 000/860 | Train Loss: 0.30\n",
            "Epoch: 012/030 | Batch 250/860 | Train Loss: 0.45\n",
            "Epoch: 012/030 | Batch 500/860 | Train Loss: 0.48\n",
            "Epoch: 012/030 | Batch 750/860 | Train Loss: 0.49\n",
            "Train Acc 84.24% | Val Acc 83.98%\n",
            "Epoch: 013/030 | Batch 000/860 | Train Loss: 0.48\n",
            "Epoch: 013/030 | Batch 250/860 | Train Loss: 0.49\n",
            "Epoch: 013/030 | Batch 500/860 | Train Loss: 0.41\n",
            "Epoch: 013/030 | Batch 750/860 | Train Loss: 0.42\n",
            "Train Acc 84.26% | Val Acc 83.44%\n",
            "Epoch: 014/030 | Batch 000/860 | Train Loss: 0.57\n",
            "Epoch: 014/030 | Batch 250/860 | Train Loss: 0.48\n",
            "Epoch: 014/030 | Batch 500/860 | Train Loss: 0.37\n",
            "Epoch: 014/030 | Batch 750/860 | Train Loss: 0.52\n",
            "Train Acc 85.14% | Val Acc 84.42%\n",
            "Epoch: 015/030 | Batch 000/860 | Train Loss: 0.31\n",
            "Epoch: 015/030 | Batch 250/860 | Train Loss: 0.51\n",
            "Epoch: 015/030 | Batch 500/860 | Train Loss: 0.31\n",
            "Epoch: 015/030 | Batch 750/860 | Train Loss: 0.36\n",
            "Train Acc 85.70% | Val Acc 85.02%\n",
            "Epoch: 016/030 | Batch 000/860 | Train Loss: 0.30\n",
            "Epoch: 016/030 | Batch 250/860 | Train Loss: 0.46\n",
            "Epoch: 016/030 | Batch 500/860 | Train Loss: 0.43\n",
            "Epoch: 016/030 | Batch 750/860 | Train Loss: 0.30\n",
            "Train Acc 84.76% | Val Acc 84.22%\n",
            "Epoch: 017/030 | Batch 000/860 | Train Loss: 0.41\n",
            "Epoch: 017/030 | Batch 250/860 | Train Loss: 0.40\n",
            "Epoch: 017/030 | Batch 500/860 | Train Loss: 0.32\n",
            "Epoch: 017/030 | Batch 750/860 | Train Loss: 0.39\n",
            "Train Acc 85.70% | Val Acc 85.10%\n",
            "Epoch: 018/030 | Batch 000/860 | Train Loss: 0.36\n",
            "Epoch: 018/030 | Batch 250/860 | Train Loss: 0.43\n",
            "Epoch: 018/030 | Batch 500/860 | Train Loss: 0.40\n",
            "Epoch: 018/030 | Batch 750/860 | Train Loss: 0.49\n",
            "Train Acc 85.42% | Val Acc 84.78%\n",
            "Epoch: 019/030 | Batch 000/860 | Train Loss: 0.54\n",
            "Epoch: 019/030 | Batch 250/860 | Train Loss: 0.38\n",
            "Epoch: 019/030 | Batch 500/860 | Train Loss: 0.52\n",
            "Epoch: 019/030 | Batch 750/860 | Train Loss: 0.35\n",
            "Train Acc 86.17% | Val Acc 85.42%\n",
            "Epoch: 020/030 | Batch 000/860 | Train Loss: 0.67\n",
            "Epoch: 020/030 | Batch 250/860 | Train Loss: 0.43\n",
            "Epoch: 020/030 | Batch 500/860 | Train Loss: 0.30\n",
            "Epoch: 020/030 | Batch 750/860 | Train Loss: 0.51\n",
            "Train Acc 86.63% | Val Acc 85.84%\n",
            "Epoch: 021/030 | Batch 000/860 | Train Loss: 0.38\n",
            "Epoch: 021/030 | Batch 250/860 | Train Loss: 0.32\n",
            "Epoch: 021/030 | Batch 500/860 | Train Loss: 0.65\n",
            "Epoch: 021/030 | Batch 750/860 | Train Loss: 0.32\n",
            "Train Acc 86.43% | Val Acc 85.56%\n",
            "Epoch: 022/030 | Batch 000/860 | Train Loss: 0.48\n",
            "Epoch: 022/030 | Batch 250/860 | Train Loss: 0.40\n",
            "Epoch: 022/030 | Batch 500/860 | Train Loss: 0.32\n",
            "Epoch: 022/030 | Batch 750/860 | Train Loss: 0.41\n",
            "Train Acc 87.04% | Val Acc 86.08%\n",
            "Epoch: 023/030 | Batch 000/860 | Train Loss: 0.26\n",
            "Epoch: 023/030 | Batch 250/860 | Train Loss: 0.43\n",
            "Epoch: 023/030 | Batch 500/860 | Train Loss: 0.34\n",
            "Epoch: 023/030 | Batch 750/860 | Train Loss: 0.34\n",
            "Train Acc 87.06% | Val Acc 85.90%\n",
            "Epoch: 024/030 | Batch 000/860 | Train Loss: 0.39\n",
            "Epoch: 024/030 | Batch 250/860 | Train Loss: 0.32\n",
            "Epoch: 024/030 | Batch 500/860 | Train Loss: 0.35\n",
            "Epoch: 024/030 | Batch 750/860 | Train Loss: 0.37\n",
            "Train Acc 87.27% | Val Acc 86.18%\n",
            "Epoch: 025/030 | Batch 000/860 | Train Loss: 0.38\n",
            "Epoch: 025/030 | Batch 250/860 | Train Loss: 0.49\n",
            "Epoch: 025/030 | Batch 500/860 | Train Loss: 0.37\n",
            "Epoch: 025/030 | Batch 750/860 | Train Loss: 0.53\n",
            "Train Acc 87.12% | Val Acc 86.28%\n",
            "Epoch: 026/030 | Batch 000/860 | Train Loss: 0.32\n",
            "Epoch: 026/030 | Batch 250/860 | Train Loss: 0.17\n",
            "Epoch: 026/030 | Batch 500/860 | Train Loss: 0.47\n",
            "Epoch: 026/030 | Batch 750/860 | Train Loss: 0.21\n",
            "Train Acc 85.53% | Val Acc 84.84%\n",
            "Epoch: 027/030 | Batch 000/860 | Train Loss: 0.34\n",
            "Epoch: 027/030 | Batch 250/860 | Train Loss: 0.26\n",
            "Epoch: 027/030 | Batch 500/860 | Train Loss: 0.40\n",
            "Epoch: 027/030 | Batch 750/860 | Train Loss: 0.26\n",
            "Train Acc 87.83% | Val Acc 86.64%\n",
            "Epoch: 028/030 | Batch 000/860 | Train Loss: 0.38\n",
            "Epoch: 028/030 | Batch 250/860 | Train Loss: 0.82\n",
            "Epoch: 028/030 | Batch 500/860 | Train Loss: 0.28\n",
            "Epoch: 028/030 | Batch 750/860 | Train Loss: 0.20\n",
            "Train Acc 87.61% | Val Acc 86.34%\n",
            "Epoch: 029/030 | Batch 000/860 | Train Loss: 0.53\n",
            "Epoch: 029/030 | Batch 250/860 | Train Loss: 0.27\n",
            "Epoch: 029/030 | Batch 500/860 | Train Loss: 0.39\n",
            "Epoch: 029/030 | Batch 750/860 | Train Loss: 0.44\n",
            "Train Acc 86.40% | Val Acc 85.14%\n",
            "Epoch: 030/030 | Batch 000/860 | Train Loss: 0.80\n",
            "Epoch: 030/030 | Batch 250/860 | Train Loss: 0.26\n",
            "Epoch: 030/030 | Batch 500/860 | Train Loss: 0.39\n",
            "Epoch: 030/030 | Batch 750/860 | Train Loss: 0.48\n",
            "Train Acc 87.72% | Val Acc 86.38%\n"
          ]
        }
      ],
      "source": [
        "torch.manual_seed(1)\n",
        "\n",
        "model = PyTorchMLP(num_features=784, num_classes=10)\n",
        "\n",
        "optimizer = torch.optim.SGD(model.parameters(), lr=0.01)\n",
        "\n",
        "num_epochs = 30\n",
        "\n",
        "loss_list = []\n",
        "train_acc_list, val_acc_list = [], []\n",
        "for epoch in range(num_epochs):\n",
        "\n",
        "    model = model.train()\n",
        "    for batch_idx, (features, labels) in enumerate(train_loader):\n",
        "\n",
        "        logits = model(features)\n",
        "\n",
        "        loss = F.cross_entropy(logits, labels)\n",
        "\n",
        "        optimizer.zero_grad()\n",
        "        loss.backward()\n",
        "        optimizer.step()\n",
        "\n",
        "        if not batch_idx % 250:\n",
        "            ### LOGGING\n",
        "            print(\n",
        "                f\"Epoch: {epoch+1:03d}/{num_epochs:03d}\"\n",
        "                f\" | Batch {batch_idx:03d}/{len(train_loader):03d}\"\n",
        "                f\" | Train Loss: {loss:.2f}\"\n",
        "            )\n",
        "        loss_list.append(loss.item())\n",
        "\n",
        "    train_acc = compute_accuracy(model, train_loader)\n",
        "    val_acc = compute_accuracy(model, val_loader)\n",
        "    print(f\"Train Acc {train_acc*100:.2f}% | Val Acc {val_acc*100:.2f}%\")\n",
        "    train_acc_list.append(train_acc)\n",
        "    val_acc_list.append(val_acc)"
      ]
    },
    {
      "cell_type": "markdown",
      "id": "bb0d5821-7c8d-46b5-9e7d-02e72cac2acc",
      "metadata": {
        "id": "bb0d5821-7c8d-46b5-9e7d-02e72cac2acc"
      },
      "source": [
        "## 5) Evaluating the results"
      ]
    },
    {
      "cell_type": "code",
      "execution_count": 29,
      "id": "27538c8d-61bc-47b0-8289-b6aab4aa16ed",
      "metadata": {
        "id": "27538c8d-61bc-47b0-8289-b6aab4aa16ed",
        "outputId": "8774d646-6a35-4410-f42b-0290f15b761c",
        "colab": {
          "base_uri": "https://localhost:8080/"
        }
      },
      "outputs": [
        {
          "output_type": "stream",
          "name": "stdout",
          "text": [
            "Train Acc 87.72%\n",
            "Val Acc 86.38%\n",
            "Test Acc 85.62%\n"
          ]
        }
      ],
      "source": [
        "train_acc = compute_accuracy(model, train_loader)\n",
        "val_acc = compute_accuracy(model, val_loader)\n",
        "test_acc = compute_accuracy(model, test_loader)\n",
        "\n",
        "print(f\"Train Acc {train_acc*100:.2f}%\")\n",
        "print(f\"Val Acc {val_acc*100:.2f}%\")\n",
        "print(f\"Test Acc {test_acc*100:.2f}%\")"
      ]
    },
    {
      "cell_type": "code",
      "execution_count": 30,
      "id": "0f1f8499-3191-4f78-b2d4-82daba9b9bc0",
      "metadata": {
        "id": "0f1f8499-3191-4f78-b2d4-82daba9b9bc0",
        "outputId": "18b1e54b-2985-4097-ad07-57229beea26a",
        "colab": {
          "base_uri": "https://localhost:8080/",
          "height": 297
        }
      },
      "outputs": [
        {
          "output_type": "display_data",
          "data": {
            "text/plain": [
              "<Figure size 432x288 with 2 Axes>"
            ],
            "image/png": "[encoded data removed]"
          },
          "metadata": {
            "needs_background": "light"
          }
        }
      ],
      "source": [
        "plot_training_loss(minibatch_loss_list=loss_list,\n",
        "                   num_epochs=num_epochs,\n",
        "                   iter_per_epoch=len(loss_list)//num_epochs)"
      ]
    },
    {
      "cell_type": "code",
      "execution_count": 31,
      "id": "bf9d4519-b7a2-4382-90d0-a0dce2ee608e",
      "metadata": {
        "id": "bf9d4519-b7a2-4382-90d0-a0dce2ee608e",
        "outputId": "980b3bfa-68fd-48f3-c0ea-a2cd9d9cf1eb",
        "colab": {
          "base_uri": "https://localhost:8080/",
          "height": 297
        }
      },
      "outputs": [
        {
          "output_type": "display_data",
          "data": {
            "text/plain": [
              "<Figure size 432x288 with 1 Axes>"
            ],
            "image/png": "[encoded data removed]"
          },
          "metadata": {
            "needs_background": "light"
          }
        }
      ],
      "source": [
        "plot_accuracy(train_acc_list=train_acc_list, valid_acc_list=val_acc_list)"
      ]
    }
  ],
  "metadata": {
    "kernelspec": {
      "display_name": "Python 3 (ipykernel)",
      "language": "python",
      "name": "python3"
    },
    "language_info": {
      "codemirror_mode": {
        "name": "ipython",
        "version": 3
      },
      "file_extension": ".py",
      "mimetype": "text/x-python",
      "name": "python",
      "nbconvert_exporter": "python",
      "pygments_lexer": "ipython3",
      "version": "3.10.9"
    },
    "colab": {
      "provenance": [],
      "toc_visible": true,
      "include_colab_link": true
    }
  },
  "nbformat": 4,
  "nbformat_minor": 5
}