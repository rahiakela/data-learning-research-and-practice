{
  "cells": [
    {
      "cell_type": "markdown",
      "metadata": {
        "id": "view-in-github",
        "colab_type": "text"
      },
      "source": [
        "<a href=\"https://colab.research.google.com/github/rahiakela/deep-learning-research-and-practice/blob/main/deep-learning-fundamentals/unit04-multilayer-networks/4_neural_networks_for_regression.ipynb\" target=\"_parent\"><img src=\"https://colab.research.google.com/assets/colab-badge.svg\" alt=\"Open In Colab\"/></a>"
      ]
    },
    {
      "cell_type": "markdown",
      "id": "c6a92b64-ea7a-48f8-b3e9-debf7df1d854",
      "metadata": {
        "id": "c6a92b64-ea7a-48f8-b3e9-debf7df1d854"
      },
      "source": [
        "## Unit 4.5: Multilayer Neural Networks for Regression"
      ]
    },
    {
      "cell_type": "markdown",
      "id": "d4633126-3fb1-4139-ba16-325127a84f60",
      "metadata": {
        "id": "d4633126-3fb1-4139-ba16-325127a84f60"
      },
      "source": [
        "**Reference**:\n",
        "\n",
        "[Multilayer Neural Networks for Regression](https://lightning.ai/pages/courses/deep-learning-fundamentals/training-multilayer-neural-networks-overview/4-5-multilayer-neural-networks-for-regression-parts-1-2/)"
      ]
    },
    {
      "cell_type": "markdown",
      "id": "4f3f635e",
      "metadata": {
        "id": "4f3f635e"
      },
      "source": [
        "## Setup"
      ]
    },
    {
      "cell_type": "code",
      "source": [
        "import pandas as pd\n",
        "\n",
        "import os\n",
        "import time\n",
        "\n",
        "import torch\n",
        "import torch.nn.functional as F\n",
        "from torch.utils.data import DataLoader\n",
        "from torchvision import transforms\n",
        "from torch.utils.data import Dataset\n",
        "\n",
        "import matplotlib.pyplot as plt\n",
        "import pandas as pd\n",
        "from PIL import Image"
      ],
      "metadata": {
        "id": "YNO7IJlGTL9W"
      },
      "id": "YNO7IJlGTL9W",
      "execution_count": 10,
      "outputs": []
    },
    {
      "cell_type": "code",
      "source": [
        "def viz_batch_images(batch):\n",
        "  plt.figure(figsize=(8, 8))\n",
        "  plt.axis(\"off\")\n",
        "  plt.title(\"Training images\")\n",
        "  plt.imshow(\n",
        "      np.transpose(\n",
        "          vutils.make_grid(batch[0][:64], padding=2, normalize=True), (1, 2, 0)\n",
        "      )\n",
        "  )\n",
        "  plt.show()"
      ],
      "metadata": {
        "id": "iE7tYlLuaVw1"
      },
      "id": "iE7tYlLuaVw1",
      "execution_count": null,
      "outputs": []
    },
    {
      "cell_type": "markdown",
      "id": "027d4a5a",
      "metadata": {
        "id": "027d4a5a"
      },
      "source": [
        "##1) Dataset"
      ]
    },
    {
      "cell_type": "code",
      "execution_count": 4,
      "id": "51371d67",
      "metadata": {
        "id": "51371d67"
      },
      "outputs": [],
      "source": [
        "X_train = torch.tensor(\n",
        "  [258.0, 270.0, 294.0, 320.0, 342.0, 368.0, 396.0, 446.0, 480.0, 586.0]\n",
        ").view(-1, 1)\n",
        "\n",
        "y_train = torch.tensor(\n",
        "  [236.4, 234.4, 252.8, 298.6, 314.2, 342.2, 360.8, 368.0, 391.2, 390.8]\n",
        ")"
      ]
    },
    {
      "cell_type": "code",
      "execution_count": 5,
      "id": "f6fadc1b",
      "metadata": {
        "id": "f6fadc1b",
        "outputId": "12a12a36-c019-4c7a-ef65-dce5574c7a78",
        "colab": {
          "base_uri": "https://localhost:8080/",
          "height": 279
        }
      },
      "outputs": [
        {
          "output_type": "display_data",
          "data": {
            "text/plain": [
              "<Figure size 432x288 with 1 Axes>"
            ],
            "image/png": "[encoded data removed]"
          },
          "metadata": {
            "needs_background": "light"
          }
        }
      ],
      "source": [
        "plt.scatter(X_train, y_train)\n",
        "plt.xlabel(\"Feature variable\")\n",
        "plt.ylabel(\"Target variable\")\n",
        "plt.show()"
      ]
    },
    {
      "cell_type": "markdown",
      "source": [
        "##2) Multilayer Perceptron"
      ],
      "metadata": {
        "id": "2FAsQg4nf_x5"
      },
      "id": "2FAsQg4nf_x5"
    },
    {
      "cell_type": "code",
      "source": [
        "class PyTorchMLP(torch.nn.Module):\n",
        "  def __init__(self, num_features):\n",
        "    super().__init__()\n",
        "\n",
        "    self.all_layers = torch.nn.Sequential(\n",
        "      # 1st hidden layer\n",
        "      torch.nn.Linear(num_features, 50),\n",
        "      torch.nn.ReLU(),\n",
        "      # 2nd hidden layer\n",
        "      torch.nn.Linear(50, 25),\n",
        "      torch.nn.ReLU(),\n",
        "      # output layer\n",
        "      torch.nn.Linear(25, 1), ## Only 1 output unit\n",
        "    )\n",
        "\n",
        "  def forward(self, x):\n",
        "    logits = self.all_layers(x).flatten()\n",
        "    return logits"
      ],
      "metadata": {
        "id": "KXzdJU4GgCAt"
      },
      "id": "KXzdJU4GgCAt",
      "execution_count": 6,
      "outputs": []
    },
    {
      "cell_type": "markdown",
      "source": [
        "**Normalize data**"
      ],
      "metadata": {
        "id": "jpNKdyD_grcc"
      },
      "id": "jpNKdyD_grcc"
    },
    {
      "cell_type": "code",
      "source": [
        "x_mean, x_std = X_train.mean(), X_train.std()\n",
        "y_mean, y_std = y_train.mean(), y_train.std()\n",
        "\n",
        "X_train_norm = (X_train - x_mean) / x_std\n",
        "y_train_norm = (y_train - y_mean) / y_std"
      ],
      "metadata": {
        "id": "3o2RPrkfgsm_"
      },
      "id": "3o2RPrkfgsm_",
      "execution_count": 7,
      "outputs": []
    },
    {
      "cell_type": "markdown",
      "source": [
        "**Set up DataLoader**"
      ],
      "metadata": {
        "id": "qXpodJVrgulK"
      },
      "id": "qXpodJVrgulK"
    },
    {
      "cell_type": "code",
      "source": [
        "class MyDataset(Dataset):\n",
        "  def __init__(self, X, y):\n",
        "    self.features = X\n",
        "    self.targets = y\n",
        "\n",
        "  def __getitem__(self, index):\n",
        "    x = self.features[index]\n",
        "    y = self.targets[index]\n",
        "    return x, y\n",
        "\n",
        "  def __len__(self):\n",
        "    return self.targets.shape[0]\n",
        "\n",
        "\n",
        "train_ds = MyDataset(X_train_norm, y_train_norm)\n",
        "\n",
        "train_loader = DataLoader(\n",
        "  dataset=train_ds,\n",
        "  batch_size=20,\n",
        "  shuffle=True,\n",
        ")"
      ],
      "metadata": {
        "id": "67IEBfQagxFc"
      },
      "id": "67IEBfQagxFc",
      "execution_count": 8,
      "outputs": []
    },
    {
      "cell_type": "markdown",
      "source": [
        "##3) Train Model"
      ],
      "metadata": {
        "id": "vj745y3Yg9rC"
      },
      "id": "vj745y3Yg9rC"
    },
    {
      "cell_type": "code",
      "source": [
        "torch.manual_seed(1)\n",
        "model = PyTorchMLP(num_features=1)\n",
        "\n",
        "optimizer = torch.optim.SGD(model.parameters(), lr=0.1)\n",
        "\n",
        "num_epochs = 30\n",
        "\n",
        "loss_list = []\n",
        "train_acc_list, val_acc_list = [], []\n",
        "\n",
        "for epoch in range(num_epochs):\n",
        "  model = model.train()\n",
        "  for batch_idx, (features, targets) in enumerate(train_loader):\n",
        "    logits = model(features)\n",
        "    loss = F.mse_loss(logits, targets)\n",
        "\n",
        "    optimizer.zero_grad()\n",
        "    loss.backward()\n",
        "    optimizer.step()\n",
        "\n",
        "    ### LOGGING\n",
        "    if not batch_idx % 250:\n",
        "      print(f\"Epoch: {epoch+1:03d}/{num_epochs:03d} | Batch {batch_idx:03d}/{len(train_loader):03d} | Train Loss: {loss:.2f}\")\n",
        "    loss_list.append(loss.item())"
      ],
      "metadata": {
        "colab": {
          "base_uri": "https://localhost:8080/"
        },
        "id": "INzJmfnng_iL",
        "outputId": "a3b803b9-870e-4cd6-88e3-3147c370c82b"
      },
      "id": "INzJmfnng_iL",
      "execution_count": 11,
      "outputs": [
        {
          "output_type": "stream",
          "name": "stdout",
          "text": [
            "Epoch: 001/030 | Batch 000/001 | Train Loss: 0.86\n",
            "Epoch: 002/030 | Batch 000/001 | Train Loss: 0.63\n",
            "Epoch: 003/030 | Batch 000/001 | Train Loss: 0.45\n",
            "Epoch: 004/030 | Batch 000/001 | Train Loss: 0.29\n",
            "Epoch: 005/030 | Batch 000/001 | Train Loss: 0.18\n",
            "Epoch: 006/030 | Batch 000/001 | Train Loss: 0.11\n",
            "Epoch: 007/030 | Batch 000/001 | Train Loss: 0.08\n",
            "Epoch: 008/030 | Batch 000/001 | Train Loss: 0.07\n",
            "Epoch: 009/030 | Batch 000/001 | Train Loss: 0.06\n",
            "Epoch: 010/030 | Batch 000/001 | Train Loss: 0.05\n",
            "Epoch: 011/030 | Batch 000/001 | Train Loss: 0.05\n",
            "Epoch: 012/030 | Batch 000/001 | Train Loss: 0.04\n",
            "Epoch: 013/030 | Batch 000/001 | Train Loss: 0.04\n",
            "Epoch: 014/030 | Batch 000/001 | Train Loss: 0.04\n",
            "Epoch: 015/030 | Batch 000/001 | Train Loss: 0.03\n",
            "Epoch: 016/030 | Batch 000/001 | Train Loss: 0.03\n",
            "Epoch: 017/030 | Batch 000/001 | Train Loss: 0.03\n",
            "Epoch: 018/030 | Batch 000/001 | Train Loss: 0.02\n",
            "Epoch: 019/030 | Batch 000/001 | Train Loss: 0.02\n",
            "Epoch: 020/030 | Batch 000/001 | Train Loss: 0.02\n",
            "Epoch: 021/030 | Batch 000/001 | Train Loss: 0.02\n",
            "Epoch: 022/030 | Batch 000/001 | Train Loss: 0.02\n",
            "Epoch: 023/030 | Batch 000/001 | Train Loss: 0.02\n",
            "Epoch: 024/030 | Batch 000/001 | Train Loss: 0.02\n",
            "Epoch: 025/030 | Batch 000/001 | Train Loss: 0.02\n",
            "Epoch: 026/030 | Batch 000/001 | Train Loss: 0.02\n",
            "Epoch: 027/030 | Batch 000/001 | Train Loss: 0.01\n",
            "Epoch: 028/030 | Batch 000/001 | Train Loss: 0.01\n",
            "Epoch: 029/030 | Batch 000/001 | Train Loss: 0.01\n",
            "Epoch: 030/030 | Batch 000/001 | Train Loss: 0.01\n"
          ]
        }
      ]
    },
    {
      "cell_type": "markdown",
      "source": [
        "##4) Test Model"
      ],
      "metadata": {
        "id": "BRLw5Xtph4KK"
      },
      "id": "BRLw5Xtph4KK"
    },
    {
      "cell_type": "code",
      "source": [
        "model.eval()\n",
        "\n",
        "X_range = torch.arange(150, 800, 0.1).view(-1, 1)\n",
        "X_range_norm = (X_range - x_mean) / x_std\n",
        "\n",
        "# predict\n",
        "with torch.no_grad():\n",
        "  y_mlp_norm = model(X_range_norm)\n",
        "\n",
        "# MLP returns normalized predictions\n",
        "# undo normalization of preditions for plotting\n",
        "y_mlp = y_mlp_norm * y_std + y_mean"
      ],
      "metadata": {
        "id": "s0eeW6xwh6Az"
      },
      "id": "s0eeW6xwh6Az",
      "execution_count": 12,
      "outputs": []
    },
    {
      "cell_type": "code",
      "source": [
        "# plot results\n",
        "plt.scatter(X_train, y_train, label=\"Training points\")\n",
        "plt.plot(X_range, y_mlp, color=\"C1\", label=\"MLP fit\", linestyle=\"-\")\n",
        "\n",
        "\n",
        "plt.xlabel(\"Feature variable\")\n",
        "plt.ylabel(\"Target variable\")\n",
        "plt.legend()\n",
        "# plt.savefig(\"mlp.pdf\")\n",
        "plt.show()"
      ],
      "metadata": {
        "colab": {
          "base_uri": "https://localhost:8080/",
          "height": 279
        },
        "id": "z-fi8Cc_iB38",
        "outputId": "4b44a67a-d24b-4bd5-aa87-32d6060d4271"
      },
      "id": "z-fi8Cc_iB38",
      "execution_count": 13,
      "outputs": [
        {
          "output_type": "display_data",
          "data": {
            "text/plain": [
              "<Figure size 432x288 with 1 Axes>"
            ],
            "image/png": "[encoded data removed]"
          },
          "metadata": {
            "needs_background": "light"
          }
        }
      ]
    }
  ],
  "metadata": {
    "kernelspec": {
      "display_name": "Python 3 (ipykernel)",
      "language": "python",
      "name": "python3"
    },
    "language_info": {
      "codemirror_mode": {
        "name": "ipython",
        "version": 3
      },
      "file_extension": ".py",
      "mimetype": "text/x-python",
      "name": "python",
      "nbconvert_exporter": "python",
      "pygments_lexer": "ipython3",
      "version": "3.9.15"
    },
    "colab": {
      "provenance": [],
      "toc_visible": true,
      "include_colab_link": true
    }
  },
  "nbformat": 4,
  "nbformat_minor": 5
}