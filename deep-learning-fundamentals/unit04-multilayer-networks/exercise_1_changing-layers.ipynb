{
  "cells": [
    {
      "cell_type": "markdown",
      "metadata": {
        "id": "view-in-github",
        "colab_type": "text"
      },
      "source": [
        "<a href=\"https://colab.research.google.com/github/rahiakela/deep-learning-research-and-practice/blob/main/deep-learning-fundamentals/unit04-multilayer-networks/exercise_1_changing-layers.ipynb\" target=\"_parent\"><img src=\"https://colab.research.google.com/assets/colab-badge.svg\" alt=\"Open In Colab\"/></a>"
      ]
    },
    {
      "cell_type": "markdown",
      "id": "d71bce70-9dc3-448b-9f9a-8896e83b6d09",
      "metadata": {
        "id": "d71bce70-9dc3-448b-9f9a-8896e83b6d09"
      },
      "source": [
        "## Implementing a Multilayer Perceptron (MNIST)"
      ]
    },
    {
      "cell_type": "markdown",
      "source": [
        "**Reference**\n",
        "\n",
        "https://lightning.ai/pages/courses/deep-learning-fundamentals/training-multilayer-neural-networks-overview/unit-4-exercises/?"
      ],
      "metadata": {
        "id": "3Ftdn9S9Fa0M"
      },
      "id": "3Ftdn9S9Fa0M"
    },
    {
      "cell_type": "markdown",
      "id": "e5b48fc7-4f46-4d5a-8558-cd06892aaa27",
      "metadata": {
        "id": "e5b48fc7-4f46-4d5a-8558-cd06892aaa27"
      },
      "source": [
        "## 1) Setup"
      ]
    },
    {
      "cell_type": "code",
      "source": [
        "!wget https://github.com/rahiakela/deep-learning-research-and-practice/raw/main/deep-learning-fundamentals/unit04-multilayer-networks/helper_plotting.py"
      ],
      "metadata": {
        "id": "dVSgXwLEEZne"
      },
      "id": "dVSgXwLEEZne",
      "execution_count": null,
      "outputs": []
    },
    {
      "cell_type": "code",
      "execution_count": 2,
      "id": "bc4fa295-5c62-4888-bcf8-d07d6a7afc47",
      "metadata": {
        "id": "bc4fa295-5c62-4888-bcf8-d07d6a7afc47"
      },
      "outputs": [],
      "source": [
        "import torch\n",
        "from torch.utils.data.dataset import random_split\n",
        "from torch.utils.data import DataLoader\n",
        "from torchvision import datasets, transforms\n",
        "import torch.nn.functional as F\n",
        "\n",
        "from helper_plotting import plot_training_loss\n",
        "from helper_plotting import plot_accuracy"
      ]
    },
    {
      "cell_type": "markdown",
      "id": "b9549676-2fa5-41a7-bbb9-ce03f5797c34",
      "metadata": {
        "id": "b9549676-2fa5-41a7-bbb9-ce03f5797c34"
      },
      "source": [
        "## 2) Loading the dataset"
      ]
    },
    {
      "cell_type": "markdown",
      "id": "e002ad95-a1f7-4c33-826a-4a45944f2687",
      "metadata": {
        "id": "e002ad95-a1f7-4c33-826a-4a45944f2687"
      },
      "source": [
        "- MNIST website: http://yann.lecun.com/exdb/mnist/"
      ]
    },
    {
      "cell_type": "code",
      "execution_count": null,
      "id": "f609024c-3eae-4ad5-8cb8-b95b403b7606",
      "metadata": {
        "id": "f609024c-3eae-4ad5-8cb8-b95b403b7606"
      },
      "outputs": [],
      "source": [
        "train_dataset = datasets.MNIST(\n",
        "    root=\"./mnist\", train=True, transform=transforms.ToTensor(), download=True\n",
        ")\n",
        "\n",
        "test_dataset = datasets.MNIST(\n",
        "    root=\"./mnist\", train=False, transform=transforms.ToTensor()\n",
        ")"
      ]
    },
    {
      "cell_type": "code",
      "execution_count": 4,
      "id": "6661307a-6220-48d5-b965-4cd36e29e54c",
      "metadata": {
        "id": "6661307a-6220-48d5-b965-4cd36e29e54c",
        "outputId": "4e56f512-8cac-45bd-da50-0b72bdf9034b",
        "colab": {
          "base_uri": "https://localhost:8080/"
        }
      },
      "outputs": [
        {
          "output_type": "execute_result",
          "data": {
            "text/plain": [
              "60000"
            ]
          },
          "metadata": {},
          "execution_count": 4
        }
      ],
      "source": [
        "len(train_dataset)"
      ]
    },
    {
      "cell_type": "code",
      "execution_count": 5,
      "id": "78adc94e-5418-4aac-9a82-9a9cbf8fc688",
      "metadata": {
        "id": "78adc94e-5418-4aac-9a82-9a9cbf8fc688",
        "outputId": "04336449-6cff-49c7-dd29-d645889cff24",
        "colab": {
          "base_uri": "https://localhost:8080/"
        }
      },
      "outputs": [
        {
          "output_type": "execute_result",
          "data": {
            "text/plain": [
              "10000"
            ]
          },
          "metadata": {},
          "execution_count": 5
        }
      ],
      "source": [
        "len(test_dataset)"
      ]
    },
    {
      "cell_type": "markdown",
      "id": "765adcf0-9147-434b-917a-f6d736a7117e",
      "metadata": {
        "id": "765adcf0-9147-434b-917a-f6d736a7117e"
      },
      "source": [
        "### Create a validation set"
      ]
    },
    {
      "cell_type": "code",
      "execution_count": 6,
      "id": "b39a42a2-cd46-46cf-ba93-d3f2f232f29c",
      "metadata": {
        "id": "b39a42a2-cd46-46cf-ba93-d3f2f232f29c"
      },
      "outputs": [],
      "source": [
        "torch.manual_seed(1)\n",
        "train_dataset, val_dataset = random_split(train_dataset, lengths=[55000, 5000])"
      ]
    },
    {
      "cell_type": "code",
      "execution_count": 7,
      "id": "b30e4a70-55b3-4fb0-b28d-b0fddd193fae",
      "metadata": {
        "id": "b30e4a70-55b3-4fb0-b28d-b0fddd193fae"
      },
      "outputs": [],
      "source": [
        "train_loader = DataLoader(\n",
        "    dataset=train_dataset,\n",
        "    batch_size=64,\n",
        "    shuffle=True,\n",
        ")\n",
        "\n",
        "val_loader = DataLoader(\n",
        "    dataset=val_dataset,\n",
        "    batch_size=64,\n",
        "    shuffle=False,\n",
        ")\n",
        "\n",
        "test_loader = DataLoader(\n",
        "    dataset=test_dataset,\n",
        "    batch_size=64,\n",
        "    shuffle=False,\n",
        ")"
      ]
    },
    {
      "cell_type": "markdown",
      "id": "db50db02-3696-4f86-b149-74baabeec6c4",
      "metadata": {
        "id": "db50db02-3696-4f86-b149-74baabeec6c4"
      },
      "source": [
        "## 3) Implementing the model"
      ]
    },
    {
      "cell_type": "code",
      "execution_count": 8,
      "id": "971389a7-5424-4141-a3ee-9399eebbbb6a",
      "metadata": {
        "id": "971389a7-5424-4141-a3ee-9399eebbbb6a"
      },
      "outputs": [],
      "source": [
        "class PyTorchMLP(torch.nn.Module):\n",
        "    def __init__(self, num_features, num_classes):\n",
        "        super().__init__()\n",
        "\n",
        "        self.all_layers = torch.nn.Sequential(\n",
        "            # 1st hidden layer\n",
        "            torch.nn.Linear(num_features, 50),\n",
        "            torch.nn.ReLU(),\n",
        "            # 2nd hidden layer\n",
        "            torch.nn.Linear(50, 25),\n",
        "            torch.nn.ReLU(),\n",
        "            # output layer\n",
        "            torch.nn.Linear(25, num_classes),\n",
        "        )\n",
        "\n",
        "    def forward(self, x):\n",
        "        x = torch.flatten(x, start_dim=1)\n",
        "        logits = self.all_layers(x)\n",
        "        return logits"
      ]
    },
    {
      "cell_type": "code",
      "source": [
        "class PyTorchMLP(torch.nn.Module):\n",
        "  def __init__(self, num_features, num_classes):\n",
        "    super().__init__()\n",
        "\n",
        "    self.all_layers = torch.nn.Sequential(\n",
        "      # 1st hidden layer\n",
        "      torch.nn.Linear(num_features, 100),\n",
        "      torch.nn.ReLU(),\n",
        "      # output layer\n",
        "      torch.nn.Linear(100, num_classes),\n",
        "    )\n",
        "\n",
        "  def forward(self, x):\n",
        "      x = torch.flatten(x, start_dim=1)\n",
        "      logits = self.all_layers(x)\n",
        "      return logits"
      ],
      "metadata": {
        "id": "dSl0CqrVFCvy"
      },
      "id": "dSl0CqrVFCvy",
      "execution_count": 14,
      "outputs": []
    },
    {
      "cell_type": "markdown",
      "id": "46bc16a0-ec59-4c54-a209-0a5e22406287",
      "metadata": {
        "id": "46bc16a0-ec59-4c54-a209-0a5e22406287"
      },
      "source": [
        "## 4) The training loop"
      ]
    },
    {
      "cell_type": "code",
      "execution_count": 15,
      "id": "8de213fc-48b0-4f7c-af9e-8e2da068e351",
      "metadata": {
        "id": "8de213fc-48b0-4f7c-af9e-8e2da068e351"
      },
      "outputs": [],
      "source": [
        "def compute_accuracy(model, dataloader):\n",
        "\n",
        "    model = model.eval()\n",
        "\n",
        "    correct = 0.0\n",
        "    total_examples = 0\n",
        "\n",
        "    for idx, (features, labels) in enumerate(dataloader):\n",
        "\n",
        "        with torch.no_grad():\n",
        "            logits = model(features)\n",
        "\n",
        "        predictions = torch.argmax(logits, dim=1)\n",
        "\n",
        "        compare = labels == predictions\n",
        "        correct += torch.sum(compare)\n",
        "        total_examples += len(compare)\n",
        "\n",
        "    return correct / total_examples"
      ]
    },
    {
      "cell_type": "code",
      "execution_count": 16,
      "id": "3dcaa2b1-4019-4128-9ff5-6a966c3abdf2",
      "metadata": {
        "id": "3dcaa2b1-4019-4128-9ff5-6a966c3abdf2",
        "outputId": "ee6e1e08-d2c6-404b-c8eb-8ba12947b6d6",
        "colab": {
          "base_uri": "https://localhost:8080/"
        }
      },
      "outputs": [
        {
          "output_type": "stream",
          "name": "stdout",
          "text": [
            "Epoch: 001/010 | Batch 000/860 | Train Loss: 2.30\n",
            "Epoch: 001/010 | Batch 250/860 | Train Loss: 0.53\n",
            "Epoch: 001/010 | Batch 500/860 | Train Loss: 0.33\n",
            "Epoch: 001/010 | Batch 750/860 | Train Loss: 0.38\n",
            "Train Acc 90.64% | Val Acc 90.94%\n",
            "Epoch: 002/010 | Batch 000/860 | Train Loss: 0.37\n",
            "Epoch: 002/010 | Batch 250/860 | Train Loss: 0.27\n",
            "Epoch: 002/010 | Batch 500/860 | Train Loss: 0.18\n",
            "Epoch: 002/010 | Batch 750/860 | Train Loss: 0.13\n",
            "Train Acc 92.45% | Val Acc 92.26%\n",
            "Epoch: 003/010 | Batch 000/860 | Train Loss: 0.31\n",
            "Epoch: 003/010 | Batch 250/860 | Train Loss: 0.34\n",
            "Epoch: 003/010 | Batch 500/860 | Train Loss: 0.18\n",
            "Epoch: 003/010 | Batch 750/860 | Train Loss: 0.17\n",
            "Train Acc 93.65% | Val Acc 93.38%\n",
            "Epoch: 004/010 | Batch 000/860 | Train Loss: 0.36\n",
            "Epoch: 004/010 | Batch 250/860 | Train Loss: 0.13\n",
            "Epoch: 004/010 | Batch 500/860 | Train Loss: 0.24\n",
            "Epoch: 004/010 | Batch 750/860 | Train Loss: 0.27\n",
            "Train Acc 94.35% | Val Acc 94.04%\n",
            "Epoch: 005/010 | Batch 000/860 | Train Loss: 0.33\n",
            "Epoch: 005/010 | Batch 250/860 | Train Loss: 0.04\n",
            "Epoch: 005/010 | Batch 500/860 | Train Loss: 0.11\n",
            "Epoch: 005/010 | Batch 750/860 | Train Loss: 0.22\n",
            "Train Acc 95.21% | Val Acc 94.42%\n",
            "Epoch: 006/010 | Batch 000/860 | Train Loss: 0.12\n",
            "Epoch: 006/010 | Batch 250/860 | Train Loss: 0.23\n",
            "Epoch: 006/010 | Batch 500/860 | Train Loss: 0.22\n",
            "Epoch: 006/010 | Batch 750/860 | Train Loss: 0.25\n",
            "Train Acc 95.17% | Val Acc 94.46%\n",
            "Epoch: 007/010 | Batch 000/860 | Train Loss: 0.09\n",
            "Epoch: 007/010 | Batch 250/860 | Train Loss: 0.22\n",
            "Epoch: 007/010 | Batch 500/860 | Train Loss: 0.10\n",
            "Epoch: 007/010 | Batch 750/860 | Train Loss: 0.10\n",
            "Train Acc 95.92% | Val Acc 94.88%\n",
            "Epoch: 008/010 | Batch 000/860 | Train Loss: 0.14\n",
            "Epoch: 008/010 | Batch 250/860 | Train Loss: 0.18\n",
            "Epoch: 008/010 | Batch 500/860 | Train Loss: 0.06\n",
            "Epoch: 008/010 | Batch 750/860 | Train Loss: 0.04\n",
            "Train Acc 96.53% | Val Acc 95.76%\n",
            "Epoch: 009/010 | Batch 000/860 | Train Loss: 0.18\n",
            "Epoch: 009/010 | Batch 250/860 | Train Loss: 0.17\n",
            "Epoch: 009/010 | Batch 500/860 | Train Loss: 0.09\n",
            "Epoch: 009/010 | Batch 750/860 | Train Loss: 0.26\n",
            "Train Acc 96.73% | Val Acc 95.82%\n",
            "Epoch: 010/010 | Batch 000/860 | Train Loss: 0.10\n",
            "Epoch: 010/010 | Batch 250/860 | Train Loss: 0.11\n",
            "Epoch: 010/010 | Batch 500/860 | Train Loss: 0.10\n",
            "Epoch: 010/010 | Batch 750/860 | Train Loss: 0.10\n",
            "Train Acc 97.05% | Val Acc 96.00%\n"
          ]
        }
      ],
      "source": [
        "torch.manual_seed(1)\n",
        "model = PyTorchMLP(num_features=784, num_classes=10)\n",
        "\n",
        "optimizer = torch.optim.SGD(model.parameters(), lr=0.05)\n",
        "\n",
        "num_epochs = 10\n",
        "\n",
        "loss_list = []\n",
        "train_acc_list, val_acc_list = [], []\n",
        "for epoch in range(num_epochs):\n",
        "\n",
        "    model = model.train()\n",
        "    for batch_idx, (features, labels) in enumerate(train_loader):\n",
        "\n",
        "        logits = model(features)\n",
        "\n",
        "        loss = F.cross_entropy(logits, labels)\n",
        "\n",
        "        optimizer.zero_grad()\n",
        "        loss.backward()\n",
        "        optimizer.step()\n",
        "\n",
        "        if not batch_idx % 250:\n",
        "            ### LOGGING\n",
        "            print(\n",
        "                f\"Epoch: {epoch+1:03d}/{num_epochs:03d}\"\n",
        "                f\" | Batch {batch_idx:03d}/{len(train_loader):03d}\"\n",
        "                f\" | Train Loss: {loss:.2f}\"\n",
        "            )\n",
        "        loss_list.append(loss.item())\n",
        "\n",
        "    train_acc = compute_accuracy(model, train_loader)\n",
        "    val_acc = compute_accuracy(model, val_loader)\n",
        "    print(f\"Train Acc {train_acc*100:.2f}% | Val Acc {val_acc*100:.2f}%\")\n",
        "    train_acc_list.append(train_acc)\n",
        "    val_acc_list.append(val_acc)"
      ]
    },
    {
      "cell_type": "markdown",
      "id": "bb0d5821-7c8d-46b5-9e7d-02e72cac2acc",
      "metadata": {
        "id": "bb0d5821-7c8d-46b5-9e7d-02e72cac2acc"
      },
      "source": [
        "## 7) Evaluating the results"
      ]
    },
    {
      "cell_type": "code",
      "execution_count": 17,
      "id": "27538c8d-61bc-47b0-8289-b6aab4aa16ed",
      "metadata": {
        "id": "27538c8d-61bc-47b0-8289-b6aab4aa16ed",
        "outputId": "6485eb89-5283-4163-b392-8678a21014ae",
        "colab": {
          "base_uri": "https://localhost:8080/"
        }
      },
      "outputs": [
        {
          "output_type": "stream",
          "name": "stdout",
          "text": [
            "Train Acc 97.05%\n",
            "Val Acc 96.00%\n",
            "Test Acc 96.48%\n"
          ]
        }
      ],
      "source": [
        "train_acc = compute_accuracy(model, train_loader)\n",
        "val_acc = compute_accuracy(model, val_loader)\n",
        "test_acc = compute_accuracy(model, test_loader)\n",
        "\n",
        "print(f\"Train Acc {train_acc*100:.2f}%\")\n",
        "print(f\"Val Acc {val_acc*100:.2f}%\")\n",
        "print(f\"Test Acc {test_acc*100:.2f}%\")"
      ]
    },
    {
      "cell_type": "code",
      "execution_count": 18,
      "id": "0f1f8499-3191-4f78-b2d4-82daba9b9bc0",
      "metadata": {
        "id": "0f1f8499-3191-4f78-b2d4-82daba9b9bc0",
        "outputId": "509eb01e-82fe-441c-f68e-7718fa346be8",
        "colab": {
          "base_uri": "https://localhost:8080/",
          "height": 297
        }
      },
      "outputs": [
        {
          "output_type": "display_data",
          "data": {
            "text/plain": [
              "<Figure size 432x288 with 2 Axes>"
            ],
            "image/png": "[encoded data removed]"
          },
          "metadata": {
            "needs_background": "light"
          }
        }
      ],
      "source": [
        "plot_training_loss(minibatch_loss_list=loss_list,\n",
        "                   num_epochs=num_epochs,\n",
        "                   iter_per_epoch=len(loss_list)//num_epochs)"
      ]
    },
    {
      "cell_type": "code",
      "execution_count": 19,
      "id": "bf9d4519-b7a2-4382-90d0-a0dce2ee608e",
      "metadata": {
        "id": "bf9d4519-b7a2-4382-90d0-a0dce2ee608e",
        "outputId": "df96ff23-4b4e-43a6-8334-f075bd509d96",
        "colab": {
          "base_uri": "https://localhost:8080/",
          "height": 297
        }
      },
      "outputs": [
        {
          "output_type": "display_data",
          "data": {
            "text/plain": [
              "<Figure size 432x288 with 1 Axes>"
            ],
            "image/png": "[encoded data removed]"
          },
          "metadata": {
            "needs_background": "light"
          }
        }
      ],
      "source": [
        "plot_accuracy(train_acc_list=train_acc_list, valid_acc_list=val_acc_list)"
      ]
    }
  ],
  "metadata": {
    "kernelspec": {
      "display_name": "Python 3 (ipykernel)",
      "language": "python",
      "name": "python3"
    },
    "language_info": {
      "codemirror_mode": {
        "name": "ipython",
        "version": 3
      },
      "file_extension": ".py",
      "mimetype": "text/x-python",
      "name": "python",
      "nbconvert_exporter": "python",
      "pygments_lexer": "ipython3",
      "version": "3.10.9"
    },
    "colab": {
      "provenance": [],
      "toc_visible": true,
      "include_colab_link": true
    }
  },
  "nbformat": 4,
  "nbformat_minor": 5
}