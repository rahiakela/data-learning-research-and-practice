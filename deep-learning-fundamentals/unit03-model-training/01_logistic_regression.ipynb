{
  "nbformat": 4,
  "nbformat_minor": 0,
  "metadata": {
    "colab": {
      "provenance": [],
      "toc_visible": true,
      "authorship_tag": "ABX9TyP3ldomjuPesTwCCmm46xfq",
      "include_colab_link": true
    },
    "kernelspec": {
      "name": "python3",
      "display_name": "Python 3"
    },
    "language_info": {
      "name": "python"
    }
  },
  "cells": [
    {
      "cell_type": "markdown",
      "metadata": {
        "id": "view-in-github",
        "colab_type": "text"
      },
      "source": [
        "<a href=\"https://colab.research.google.com/github/rahiakela/deep-learning-research-and-practice/blob/main/deep-learning-fundamentals/unit03-model-training/01_logistic_regression.ipynb\" target=\"_parent\"><img src=\"https://colab.research.google.com/assets/colab-badge.svg\" alt=\"Open In Colab\"/></a>"
      ]
    },
    {
      "cell_type": "markdown",
      "source": [
        "##Logistic Regression Classifier"
      ],
      "metadata": {
        "id": "R6ybzq24q6ue"
      }
    },
    {
      "cell_type": "markdown",
      "source": [
        "**Reference**\n",
        "\n",
        "[Training a Logistic Regression Model in PyTorch](https://lightning.ai/pages/courses/deep-learning-fundamentals/3-0-overview-model-training-in-pytorch/3-6-training-a-logistic-regression-model-in-pytorch-parts-1-3/)\n",
        "\n",
        "[Deep Learning Fundamentals: Code Materials and Exercises](https://github.com/Lightning-AI/dl-fundamentals)"
      ],
      "metadata": {
        "id": "kSbCNcXxrGcU"
      }
    },
    {
      "cell_type": "markdown",
      "source": [
        "##Setup"
      ],
      "metadata": {
        "id": "aNSvrs3KrGur"
      }
    },
    {
      "cell_type": "code",
      "source": [
        "import pandas as pd\n",
        "import numpy as np\n",
        "\n",
        "import torch\n",
        "from torch.utils.data import Dataset, DataLoader\n",
        "import torch.nn.functional as F\n",
        "\n",
        "%matplotlib inline\n",
        "import matplotlib.pyplot as plt"
      ],
      "metadata": {
        "id": "v6Ztfng9rHqg"
      },
      "execution_count": 20,
      "outputs": []
    },
    {
      "cell_type": "code",
      "source": [
        "!wget https://github.com/rahiakela/deep-learning-research-and-practice/raw/main/deep-learning-fundamentals/unit01-ml-intro/perceptron_toydata-truncated.txt"
      ],
      "metadata": {
        "id": "nwO7ruD5rZmO"
      },
      "execution_count": null,
      "outputs": []
    },
    {
      "cell_type": "markdown",
      "source": [
        "##Dataset"
      ],
      "metadata": {
        "id": "JVgtfkVGrYTf"
      }
    },
    {
      "cell_type": "code",
      "source": [
        "df = pd.read_csv(\"perceptron_toydata-truncated.txt\", sep=\"\\t\")\n",
        "df.head()"
      ],
      "metadata": {
        "colab": {
          "base_uri": "https://localhost:8080/",
          "height": 206
        },
        "id": "Pko_BForrSMP",
        "outputId": "00ebe6ec-cdf8-4e1d-c340-4704d2cb9683"
      },
      "execution_count": 3,
      "outputs": [
        {
          "output_type": "execute_result",
          "data": {
            "text/plain": [
              "     x1    x2  label\n",
              "0  0.77 -1.14      0\n",
              "1 -0.33  1.44      0\n",
              "2  0.91 -3.07      0\n",
              "3 -0.37 -1.91      0\n",
              "4 -0.63 -1.53      0"
            ],
            "text/html": [
              "\n",
              "  <div id=\"df-1bf0131c-7209-410a-8062-f8aa3a4a4d98\">\n",
              "    <div class=\"colab-df-container\">\n",
              "      <div>\n",
              "<style scoped>\n",
              "    .dataframe tbody tr th:only-of-type {\n",
              "        vertical-align: middle;\n",
              "    }\n",
              "\n",
              "    .dataframe tbody tr th {\n",
              "        vertical-align: top;\n",
              "    }\n",
              "\n",
              "    .dataframe thead th {\n",
              "        text-align: right;\n",
              "    }\n",
              "</style>\n",
              "<table border=\"1\" class=\"dataframe\">\n",
              "  <thead>\n",
              "    <tr style=\"text-align: right;\">\n",
              "      <th></th>\n",
              "      <th>x1</th>\n",
              "      <th>x2</th>\n",
              "      <th>label</th>\n",
              "    </tr>\n",
              "  </thead>\n",
              "  <tbody>\n",
              "    <tr>\n",
              "      <th>0</th>\n",
              "      <td>0.77</td>\n",
              "      <td>-1.14</td>\n",
              "      <td>0</td>\n",
              "    </tr>\n",
              "    <tr>\n",
              "      <th>1</th>\n",
              "      <td>-0.33</td>\n",
              "      <td>1.44</td>\n",
              "      <td>0</td>\n",
              "    </tr>\n",
              "    <tr>\n",
              "      <th>2</th>\n",
              "      <td>0.91</td>\n",
              "      <td>-3.07</td>\n",
              "      <td>0</td>\n",
              "    </tr>\n",
              "    <tr>\n",
              "      <th>3</th>\n",
              "      <td>-0.37</td>\n",
              "      <td>-1.91</td>\n",
              "      <td>0</td>\n",
              "    </tr>\n",
              "    <tr>\n",
              "      <th>4</th>\n",
              "      <td>-0.63</td>\n",
              "      <td>-1.53</td>\n",
              "      <td>0</td>\n",
              "    </tr>\n",
              "  </tbody>\n",
              "</table>\n",
              "</div>\n",
              "      <button class=\"colab-df-convert\" onclick=\"convertToInteractive('df-1bf0131c-7209-410a-8062-f8aa3a4a4d98')\"\n",
              "              title=\"Convert this dataframe to an interactive table.\"\n",
              "              style=\"display:none;\">\n",
              "        \n",
              "  <svg xmlns=\"http://www.w3.org/2000/svg\" height=\"24px\"viewBox=\"0 0 24 24\"\n",
              "       width=\"24px\">\n",
              "    <path d=\"M0 0h24v24H0V0z\" fill=\"none\"/>\n",
              "    <path d=\"M18.56 5.44l.94 2.06.94-2.06 2.06-.94-2.06-.94-.94-2.06-.94 2.06-2.06.94zm-11 1L8.5 8.5l.94-2.06 2.06-.94-2.06-.94L8.5 2.5l-.94 2.06-2.06.94zm10 10l.94 2.06.94-2.06 2.06-.94-2.06-.94-.94-2.06-.94 2.06-2.06.94z\"/><path d=\"M17.41 7.96l-1.37-1.37c-.4-.4-.92-.59-1.43-.59-.52 0-1.04.2-1.43.59L10.3 9.45l-7.72 7.72c-.78.78-.78 2.05 0 2.83L4 21.41c.39.39.9.59 1.41.59.51 0 1.02-.2 1.41-.59l7.78-7.78 2.81-2.81c.8-.78.8-2.07 0-2.86zM5.41 20L4 18.59l7.72-7.72 1.47 1.35L5.41 20z\"/>\n",
              "  </svg>\n",
              "      </button>\n",
              "      \n",
              "  <style>\n",
              "    .colab-df-container {\n",
              "      display:flex;\n",
              "      flex-wrap:wrap;\n",
              "      gap: 12px;\n",
              "    }\n",
              "\n",
              "    .colab-df-convert {\n",
              "      background-color: #E8F0FE;\n",
              "      border: none;\n",
              "      border-radius: 50%;\n",
              "      cursor: pointer;\n",
              "      display: none;\n",
              "      fill: #1967D2;\n",
              "      height: 32px;\n",
              "      padding: 0 0 0 0;\n",
              "      width: 32px;\n",
              "    }\n",
              "\n",
              "    .colab-df-convert:hover {\n",
              "      background-color: #E2EBFA;\n",
              "      box-shadow: 0px 1px 2px rgba(60, 64, 67, 0.3), 0px 1px 3px 1px rgba(60, 64, 67, 0.15);\n",
              "      fill: #174EA6;\n",
              "    }\n",
              "\n",
              "    [theme=dark] .colab-df-convert {\n",
              "      background-color: #3B4455;\n",
              "      fill: #D2E3FC;\n",
              "    }\n",
              "\n",
              "    [theme=dark] .colab-df-convert:hover {\n",
              "      background-color: #434B5C;\n",
              "      box-shadow: 0px 1px 3px 1px rgba(0, 0, 0, 0.15);\n",
              "      filter: drop-shadow(0px 1px 2px rgba(0, 0, 0, 0.3));\n",
              "      fill: #FFFFFF;\n",
              "    }\n",
              "  </style>\n",
              "\n",
              "      <script>\n",
              "        const buttonEl =\n",
              "          document.querySelector('#df-1bf0131c-7209-410a-8062-f8aa3a4a4d98 button.colab-df-convert');\n",
              "        buttonEl.style.display =\n",
              "          google.colab.kernel.accessAllowed ? 'block' : 'none';\n",
              "\n",
              "        async function convertToInteractive(key) {\n",
              "          const element = document.querySelector('#df-1bf0131c-7209-410a-8062-f8aa3a4a4d98');\n",
              "          const dataTable =\n",
              "            await google.colab.kernel.invokeFunction('convertToInteractive',\n",
              "                                                     [key], {});\n",
              "          if (!dataTable) return;\n",
              "\n",
              "          const docLinkHtml = 'Like what you see? Visit the ' +\n",
              "            '<a target=\"_blank\" href=https://colab.research.google.com/notebooks/data_table.ipynb>data table notebook</a>'\n",
              "            + ' to learn more about interactive tables.';\n",
              "          element.innerHTML = '';\n",
              "          dataTable['output_type'] = 'display_data';\n",
              "          await google.colab.output.renderOutput(dataTable, element);\n",
              "          const docLink = document.createElement('div');\n",
              "          docLink.innerHTML = docLinkHtml;\n",
              "          element.appendChild(docLink);\n",
              "        }\n",
              "      </script>\n",
              "    </div>\n",
              "  </div>\n",
              "  "
            ]
          },
          "metadata": {},
          "execution_count": 3
        }
      ]
    },
    {
      "cell_type": "code",
      "source": [
        "x_train = df[[\"x1\", \"x2\"]].values\n",
        "y_train = df[\"label\"].values\n",
        "\n",
        "x_train = torch.from_numpy(x_train).to(torch.float32)\n",
        "y_train = torch.from_numpy(y_train)\n",
        "\n",
        "print(x_train.shape, y_train.shape)\n",
        "x_train[:5]"
      ],
      "metadata": {
        "colab": {
          "base_uri": "https://localhost:8080/"
        },
        "id": "j7y6gLTfr5Ow",
        "outputId": "bc242e14-02e8-441b-ca24-70c9c819111e"
      },
      "execution_count": 4,
      "outputs": [
        {
          "output_type": "stream",
          "name": "stdout",
          "text": [
            "torch.Size([20, 2]) torch.Size([20])\n"
          ]
        },
        {
          "output_type": "execute_result",
          "data": {
            "text/plain": [
              "tensor([[ 0.7700, -1.1400],\n",
              "        [-0.3300,  1.4400],\n",
              "        [ 0.9100, -3.0700],\n",
              "        [-0.3700, -1.9100],\n",
              "        [-0.6300, -1.5300]])"
            ]
          },
          "metadata": {},
          "execution_count": 4
        }
      ]
    },
    {
      "cell_type": "code",
      "source": [
        "x_train.shape, y_train.shape"
      ],
      "metadata": {
        "id": "6GcI0LJt7R5c",
        "outputId": "e298d895-8ea8-49b9-a61c-ea7121561fb2",
        "colab": {
          "base_uri": "https://localhost:8080/"
        }
      },
      "execution_count": 5,
      "outputs": [
        {
          "output_type": "execute_result",
          "data": {
            "text/plain": [
              "(torch.Size([20, 2]), torch.Size([20]))"
            ]
          },
          "metadata": {},
          "execution_count": 5
        }
      ]
    },
    {
      "cell_type": "code",
      "source": [
        "np.bincount(y_train)"
      ],
      "metadata": {
        "colab": {
          "base_uri": "https://localhost:8080/"
        },
        "id": "dBbngBpdsXA1",
        "outputId": "67eb414d-69f8-44fd-f55a-1cb4451eae25"
      },
      "execution_count": 6,
      "outputs": [
        {
          "output_type": "execute_result",
          "data": {
            "text/plain": [
              "array([10, 10])"
            ]
          },
          "metadata": {},
          "execution_count": 6
        }
      ]
    },
    {
      "cell_type": "code",
      "source": [
        "plt.plot(x_train[y_train == 0, 0], x_train[y_train == 0, 1], marker=\"D\", markersize=10, linestyle=\"\", label=\"Class 0\")\n",
        "plt.plot(x_train[y_train == 1, 0], x_train[y_train == 1, 1], marker=\"^\", markersize=13, linestyle=\"\", label=\"Class 1\")\n",
        "plt.legend(loc=2)\n",
        "\n",
        "plt.xlim([-5, 5])\n",
        "plt.ylim([-5, 5])\n",
        "\n",
        "plt.xlabel(\"Feature $x_1$\", fontsize=12)\n",
        "plt.ylabel(\"Feature $x_2$\", fontsize=12)\n",
        "\n",
        "plt.grid()\n",
        "plt.show()"
      ],
      "metadata": {
        "colab": {
          "base_uri": "https://localhost:8080/",
          "height": 284
        },
        "id": "qclCEnCWslY7",
        "outputId": "97884309-4178-4afb-b2c2-d54c3620efc3"
      },
      "execution_count": 7,
      "outputs": [
        {
          "output_type": "display_data",
          "data": {
            "text/plain": [
              "<Figure size 432x288 with 1 Axes>"
            ],
            "image/png": "[encoded data removed]"
          },
          "metadata": {
            "needs_background": "light"
          }
        }
      ]
    },
    {
      "cell_type": "code",
      "source": [
        "# normalize data\n",
        "x_train = (x_train - x_train.mean(axis=0)) / x_train.std(axis=0)"
      ],
      "metadata": {
        "id": "Klv9zffQ7h8K"
      },
      "execution_count": 8,
      "outputs": []
    },
    {
      "cell_type": "code",
      "source": [
        "plt.plot(x_train[y_train == 0, 0], x_train[y_train == 0, 1], marker=\"D\", markersize=10, linestyle=\"\", label=\"Class 0\")\n",
        "plt.plot(x_train[y_train == 1, 0], x_train[y_train == 1, 1], marker=\"^\", markersize=13, linestyle=\"\", label=\"Class 1\")\n",
        "plt.legend(loc=2)\n",
        "\n",
        "plt.xlim([-5, 5])\n",
        "plt.ylim([-5, 5])\n",
        "\n",
        "plt.xlabel(\"Feature $x_1$\", fontsize=12)\n",
        "plt.ylabel(\"Feature $x_2$\", fontsize=12)\n",
        "\n",
        "plt.grid()\n",
        "plt.show()"
      ],
      "metadata": {
        "id": "dFESSdh_7x-Y",
        "outputId": "d29d6d62-cd16-401d-ed0a-2684d4531556",
        "colab": {
          "base_uri": "https://localhost:8080/",
          "height": 284
        }
      },
      "execution_count": 9,
      "outputs": [
        {
          "output_type": "display_data",
          "data": {
            "text/plain": [
              "<Figure size 432x288 with 1 Axes>"
            ],
            "image/png": "[encoded data removed]"
          },
          "metadata": {
            "needs_background": "light"
          }
        }
      ]
    },
    {
      "cell_type": "markdown",
      "source": [
        "##Defining model"
      ],
      "metadata": {
        "id": "Ch57ZRkhtWad"
      }
    },
    {
      "cell_type": "markdown",
      "source": [
        "<img src='https://github.com/rahiakela/deep-learning-research-and-practice/blob/main/deep-learning-fundamentals/unit01-ml-intro/images/perceptron-sketch.png?raw=1'/>"
      ],
      "metadata": {
        "id": "ms-K4M7XtXHd"
      }
    },
    {
      "cell_type": "code",
      "source": [
        "class LogisticRegression(torch.nn.Module):\n",
        "  def __init__(self, num_features):\n",
        "    super().__init__()\n",
        "    self.linear = torch.nn.Linear(num_features, 1)\n",
        "\n",
        "  def forward(self, x):\n",
        "    logits = self.linear(x)\n",
        "    probas = torch.sigmoid(logits)\n",
        "    return probas"
      ],
      "metadata": {
        "id": "fHSw07FUz1mO"
      },
      "execution_count": 10,
      "outputs": []
    },
    {
      "cell_type": "code",
      "source": [
        "torch.manual_seed(1)\n",
        "\n",
        "model = LogisticRegression(num_features=2)"
      ],
      "metadata": {
        "id": "Bku71ZUW-Wby"
      },
      "execution_count": 11,
      "outputs": []
    },
    {
      "cell_type": "code",
      "source": [
        "x = torch.tensor([1.1, 1.2])\n",
        "\n",
        "with torch.no_grad():\n",
        "  proba = model(x)\n",
        "\n",
        "print(proba)"
      ],
      "metadata": {
        "id": "mXLklAQQ-2yC",
        "outputId": "6318b106-5fd1-4962-b106-d9b0115ff87d",
        "colab": {
          "base_uri": "https://localhost:8080/"
        }
      },
      "execution_count": 12,
      "outputs": [
        {
          "output_type": "stream",
          "name": "stdout",
          "text": [
            "tensor([0.4723])\n"
          ]
        }
      ]
    },
    {
      "cell_type": "markdown",
      "source": [
        "##Defining DataLoader"
      ],
      "metadata": {
        "id": "YnpJOg2fRdxn"
      }
    },
    {
      "cell_type": "code",
      "source": [
        "class MyDataset(Dataset):\n",
        "  def __init__(self, X, y):\n",
        "    self.features = torch.tensor(X, dtype=torch.float32)\n",
        "    self.labels = torch.tensor(y, dtype=torch.float32)\n",
        "\n",
        "  def __getitem__(self, index):\n",
        "    x = self.features[index]\n",
        "    y = self.labels[index]\n",
        "    return x, y\n",
        "\n",
        "  def __len__(self):\n",
        "    return self.labels.shape[0]"
      ],
      "metadata": {
        "id": "inEQHDFzRema"
      },
      "execution_count": 17,
      "outputs": []
    },
    {
      "cell_type": "code",
      "source": [
        "train_ds = MyDataset(x_train, y_train)\n",
        "\n",
        "train_loader = DataLoader(dataset=train_ds, batch_size=10, shuffle=True)"
      ],
      "metadata": {
        "id": "ssHWCIi_Sari"
      },
      "execution_count": null,
      "outputs": []
    },
    {
      "cell_type": "markdown",
      "source": [
        "##Training model"
      ],
      "metadata": {
        "id": "pWsCsb1sTjrT"
      }
    },
    {
      "cell_type": "code",
      "source": [
        "torch.manual_seed(1)\n",
        "\n",
        "model = LogisticRegression(num_features=2)\n",
        "optimizer = torch.optim.SGD(model.parameters(), lr=0.05)\n",
        "num_epochs = 20"
      ],
      "metadata": {
        "id": "A1igTtcgTmKC"
      },
      "execution_count": 21,
      "outputs": []
    },
    {
      "cell_type": "code",
      "source": [
        "for epoch in range(num_epochs):\n",
        "  model = model.train()\n",
        "  for batch_idx, (features, class_labels) in enumerate(train_loader):\n",
        "    probas = model(features)\n",
        "    loss = F.binary_cross_entropy(probas, class_labels.view(probas.shape))\n",
        "\n",
        "    optimizer.zero_grad()\n",
        "    loss.backward()\n",
        "    optimizer.step()\n",
        "\n",
        "    ## LOGGING\n",
        "    print(f\"Epoch: {epoch+1:03d}/{num_epochs:03d} | Batch {batch_idx:03d}/{len(train_loader):03d} | Loss: {loss:.2f}\")"
      ],
      "metadata": {
        "id": "GUkqHDDnT_ge",
        "outputId": "11efbf7c-e6c3-4e86-fd3f-097f4ca7fdfb",
        "colab": {
          "base_uri": "https://localhost:8080/"
        }
      },
      "execution_count": 22,
      "outputs": [
        {
          "output_type": "stream",
          "name": "stdout",
          "text": [
            "Epoch: 001/020 | Batch 000/002 | Loss: 0.67\n",
            "Epoch: 001/020 | Batch 001/002 | Loss: 0.73\n",
            "Epoch: 002/020 | Batch 000/002 | Loss: 0.67\n",
            "Epoch: 002/020 | Batch 001/002 | Loss: 0.67\n",
            "Epoch: 003/020 | Batch 000/002 | Loss: 0.60\n",
            "Epoch: 003/020 | Batch 001/002 | Loss: 0.68\n",
            "Epoch: 004/020 | Batch 000/002 | Loss: 0.70\n",
            "Epoch: 004/020 | Batch 001/002 | Loss: 0.54\n",
            "Epoch: 005/020 | Batch 000/002 | Loss: 0.61\n",
            "Epoch: 005/020 | Batch 001/002 | Loss: 0.57\n",
            "Epoch: 006/020 | Batch 000/002 | Loss: 0.59\n",
            "Epoch: 006/020 | Batch 001/002 | Loss: 0.55\n",
            "Epoch: 007/020 | Batch 000/002 | Loss: 0.52\n",
            "Epoch: 007/020 | Batch 001/002 | Loss: 0.58\n",
            "Epoch: 008/020 | Batch 000/002 | Loss: 0.52\n",
            "Epoch: 008/020 | Batch 001/002 | Loss: 0.54\n",
            "Epoch: 009/020 | Batch 000/002 | Loss: 0.52\n",
            "Epoch: 009/020 | Batch 001/002 | Loss: 0.50\n",
            "Epoch: 010/020 | Batch 000/002 | Loss: 0.54\n",
            "Epoch: 010/020 | Batch 001/002 | Loss: 0.44\n",
            "Epoch: 011/020 | Batch 000/002 | Loss: 0.42\n",
            "Epoch: 011/020 | Batch 001/002 | Loss: 0.53\n",
            "Epoch: 012/020 | Batch 000/002 | Loss: 0.47\n",
            "Epoch: 012/020 | Batch 001/002 | Loss: 0.45\n",
            "Epoch: 013/020 | Batch 000/002 | Loss: 0.46\n",
            "Epoch: 013/020 | Batch 001/002 | Loss: 0.43\n",
            "Epoch: 014/020 | Batch 000/002 | Loss: 0.42\n",
            "Epoch: 014/020 | Batch 001/002 | Loss: 0.44\n",
            "Epoch: 015/020 | Batch 000/002 | Loss: 0.44\n",
            "Epoch: 015/020 | Batch 001/002 | Loss: 0.40\n",
            "Epoch: 016/020 | Batch 000/002 | Loss: 0.41\n",
            "Epoch: 016/020 | Batch 001/002 | Loss: 0.40\n",
            "Epoch: 017/020 | Batch 000/002 | Loss: 0.39\n",
            "Epoch: 017/020 | Batch 001/002 | Loss: 0.40\n",
            "Epoch: 018/020 | Batch 000/002 | Loss: 0.45\n",
            "Epoch: 018/020 | Batch 001/002 | Loss: 0.32\n",
            "Epoch: 019/020 | Batch 000/002 | Loss: 0.35\n",
            "Epoch: 019/020 | Batch 001/002 | Loss: 0.40\n",
            "Epoch: 020/020 | Batch 000/002 | Loss: 0.34\n",
            "Epoch: 020/020 | Batch 001/002 | Loss: 0.39\n"
          ]
        }
      ]
    },
    {
      "cell_type": "markdown",
      "source": [
        "##Evaluating results"
      ],
      "metadata": {
        "id": "RZtrJOtwVkCO"
      }
    },
    {
      "cell_type": "code",
      "source": [
        "probas"
      ],
      "metadata": {
        "id": "8k4sWs6IVlu1",
        "outputId": "d1c81174-e6ed-4fe5-ec67-80c0b1bf84d0",
        "colab": {
          "base_uri": "https://localhost:8080/"
        }
      },
      "execution_count": 23,
      "outputs": [
        {
          "output_type": "execute_result",
          "data": {
            "text/plain": [
              "tensor([[0.6629],\n",
              "        [0.6729],\n",
              "        [0.2237],\n",
              "        [0.7318],\n",
              "        [0.2209],\n",
              "        [0.5695],\n",
              "        [0.3245],\n",
              "        [0.6439],\n",
              "        [0.4303],\n",
              "        [0.2669]], grad_fn=<SigmoidBackward0>)"
            ]
          },
          "metadata": {},
          "execution_count": 23
        }
      ]
    },
    {
      "cell_type": "code",
      "source": [
        "pred = torch.where(probas > 0.5, 1, 0)\n",
        "pred"
      ],
      "metadata": {
        "id": "9OkoImCYXCGg",
        "outputId": "8f1c1444-90f1-48a1-d5c9-36b1bcf3620b",
        "colab": {
          "base_uri": "https://localhost:8080/"
        }
      },
      "execution_count": 24,
      "outputs": [
        {
          "output_type": "execute_result",
          "data": {
            "text/plain": [
              "tensor([[1],\n",
              "        [1],\n",
              "        [0],\n",
              "        [1],\n",
              "        [0],\n",
              "        [1],\n",
              "        [0],\n",
              "        [1],\n",
              "        [0],\n",
              "        [0]])"
            ]
          },
          "metadata": {},
          "execution_count": 24
        }
      ]
    },
    {
      "cell_type": "code",
      "source": [
        "class_labels.view(pred.shape).to(pred.dtype)"
      ],
      "metadata": {
        "id": "Btvakf-DXM5K",
        "outputId": "b21bb7b6-c768-49f6-a831-3e6121586a90",
        "colab": {
          "base_uri": "https://localhost:8080/"
        }
      },
      "execution_count": 25,
      "outputs": [
        {
          "output_type": "execute_result",
          "data": {
            "text/plain": [
              "tensor([[1],\n",
              "        [1],\n",
              "        [0],\n",
              "        [1],\n",
              "        [0],\n",
              "        [1],\n",
              "        [0],\n",
              "        [1],\n",
              "        [0],\n",
              "        [0]])"
            ]
          },
          "metadata": {},
          "execution_count": 25
        }
      ]
    },
    {
      "cell_type": "code",
      "source": [
        "sum([True, False, True])"
      ],
      "metadata": {
        "id": "kkVFFjwAXd8U",
        "outputId": "ed578652-adda-4e21-8677-28db2910ebde",
        "colab": {
          "base_uri": "https://localhost:8080/"
        }
      },
      "execution_count": 26,
      "outputs": [
        {
          "output_type": "execute_result",
          "data": {
            "text/plain": [
              "2"
            ]
          },
          "metadata": {},
          "execution_count": 26
        }
      ]
    },
    {
      "cell_type": "code",
      "source": [
        "def compute_accuracy(model, dataloader):\n",
        "  model = model.eval()\n",
        "  correct = 0.0\n",
        "  total_examples = 0\n",
        "\n",
        "  for batch_idx, (features, class_labels) in enumerate(train_loader):\n",
        "    with torch.no_grad():\n",
        "      probas = model(features)\n",
        "    pred = torch.where(probas > 0.5, 1, 0)\n",
        "\n",
        "    label = class_labels.view(pred.shape).to(pred.dtype)\n",
        "\n",
        "    compare = label == pred\n",
        "    correct += torch.sum(compare)\n",
        "    total_examples += len(compare)\n",
        "  \n",
        "  return correct / total_examples"
      ],
      "metadata": {
        "id": "uZB88JF3X50u"
      },
      "execution_count": 27,
      "outputs": []
    },
    {
      "cell_type": "code",
      "source": [
        "train_acc = compute_accuracy(model, train_loader)\n",
        "print(f\"Accuracy: {train_acc * 100}%\")"
      ],
      "metadata": {
        "id": "i0zAxxsWY6LD",
        "outputId": "f06430e4-a4ac-4924-fde4-c46561e3d148",
        "colab": {
          "base_uri": "https://localhost:8080/"
        }
      },
      "execution_count": 28,
      "outputs": [
        {
          "output_type": "stream",
          "name": "stdout",
          "text": [
            "Accuracy: 100.0%\n"
          ]
        }
      ]
    },
    {
      "cell_type": "markdown",
      "source": [
        "##Decision Boundary"
      ],
      "metadata": {
        "id": "CLQjXjhDz99f"
      }
    },
    {
      "cell_type": "code",
      "source": [
        "plt.plot(x_train[y_train == 0, 0], x_train[y_train == 0, 1], marker=\"D\", markersize=10, linestyle=\"\", label=\"Class 0\")\n",
        "plt.plot(x_train[y_train == 1, 0], x_train[y_train == 1, 1], marker=\"^\", markersize=13, linestyle=\"\", label=\"Class 1\")\n",
        "plt.legend(loc=2)\n",
        "\n",
        "plt.xlim([-5, 5])\n",
        "plt.ylim([-5, 5])\n",
        "\n",
        "plt.xlabel(\"Feature $x_1$\", fontsize=12)\n",
        "plt.ylabel(\"Feature $x_2$\", fontsize=12)\n",
        "\n",
        "plt.grid()\n",
        "plt.show()"
      ],
      "metadata": {
        "id": "hGNPm8qiz-h6",
        "outputId": "664270b7-3e30-407f-d8df-2cf0998dcdf3",
        "colab": {
          "base_uri": "https://localhost:8080/",
          "height": 284
        }
      },
      "execution_count": 13,
      "outputs": [
        {
          "output_type": "display_data",
          "data": {
            "text/plain": [
              "<Figure size 432x288 with 1 Axes>"
            ],
            "image/png": "[encoded data removed]"
          },
          "metadata": {
            "needs_background": "light"
          }
        }
      ]
    },
    {
      "cell_type": "code",
      "source": [
        "def plot_boundary(model):\n",
        "  w1 = model.linear.weight[0][0].detach()\n",
        "  w2 = model.linear.weight[0][1].detach()\n",
        "  b = model.linear.bias[0].detach()\n",
        "\n",
        "  x1_min = -20\n",
        "  x2_min = (-(w1 * x1_min) - b) / w2\n",
        "\n",
        "  x1_max = 20\n",
        "  x2_max = (-(w1 * x1_max) - b) / w2\n",
        "\n",
        "  return x1_min, x1_max, x2_min, x2_max"
      ],
      "metadata": {
        "id": "ebGsbjxg0Hu3"
      },
      "execution_count": 29,
      "outputs": []
    },
    {
      "cell_type": "code",
      "source": [
        "x1_min, x1_max, x2_min, x2_max = plot_boundary(model)\n",
        "\n",
        "plt.plot(x_train[y_train == 0, 0], x_train[y_train == 0, 1], marker=\"D\", markersize=10, linestyle=\"\", label=\"Class 0\")\n",
        "plt.plot(x_train[y_train == 1, 0], x_train[y_train == 1, 1], marker=\"^\", markersize=13, linestyle=\"\", label=\"Class 1\")\n",
        "plt.plot([x1_min, x1_max], [x2_min, x2_max], color=\"k\")\n",
        "\n",
        "plt.legend(loc=2)\n",
        "\n",
        "plt.xlim([-5, 5])\n",
        "plt.ylim([-5, 5])\n",
        "\n",
        "plt.xlabel(\"Feature $x_1$\", fontsize=12)\n",
        "plt.ylabel(\"Feature $x_2$\", fontsize=12)\n",
        "\n",
        "plt.grid()\n",
        "plt.show()"
      ],
      "metadata": {
        "id": "j4XlVFXO01yG",
        "outputId": "d3415d6e-cae2-45f5-98fb-884b53f4af49",
        "colab": {
          "base_uri": "https://localhost:8080/",
          "height": 284
        }
      },
      "execution_count": 30,
      "outputs": [
        {
          "output_type": "display_data",
          "data": {
            "text/plain": [
              "<Figure size 432x288 with 1 Axes>"
            ],
            "image/png": "[encoded data removed]"
          },
          "metadata": {
            "needs_background": "light"
          }
        }
      ]
    }
  ]
}