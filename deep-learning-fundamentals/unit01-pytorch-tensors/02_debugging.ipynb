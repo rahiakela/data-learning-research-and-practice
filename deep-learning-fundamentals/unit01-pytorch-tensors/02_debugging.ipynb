{
  "nbformat": 4,
  "nbformat_minor": 0,
  "metadata": {
    "colab": {
      "provenance": [],
      "toc_visible": true,
      "authorship_tag": "ABX9TyMQnT2Yr5GK7zQWOJJH2g5D",
      "include_colab_link": true
    },
    "kernelspec": {
      "name": "python3",
      "display_name": "Python 3"
    },
    "language_info": {
      "name": "python"
    }
  },
  "cells": [
    {
      "cell_type": "markdown",
      "metadata": {
        "id": "view-in-github",
        "colab_type": "text"
      },
      "source": [
        "<a href=\"https://colab.research.google.com/github/rahiakela/deep-learning-research-and-practice/blob/main/deep-learning-fundamentals/unit01-pytorch-tensors/02_debugging.ipynb\" target=\"_parent\"><img src=\"https://colab.research.google.com/assets/colab-badge.svg\" alt=\"Open In Colab\"/></a>"
      ]
    },
    {
      "cell_type": "markdown",
      "source": [
        "##Notebook Debugging"
      ],
      "metadata": {
        "id": "R6ybzq24q6ue"
      }
    },
    {
      "cell_type": "markdown",
      "source": [
        "**Reference**\n",
        "\n",
        "[Debugging Code](https://lightning.ai/pages/courses/deep-learning-fundamentals/2-0-unit-2-overview/2-5-debugging-code/)\n",
        "\n",
        "[Deep Learning Fundamentals: Code Materials and Exercises](https://github.com/Lightning-AI/dl-fundamentals)\n",
        "\n",
        "[The Python Debugger](https://docs.python.org/3/library/pdb.html)"
      ],
      "metadata": {
        "id": "kSbCNcXxrGcU"
      }
    },
    {
      "cell_type": "markdown",
      "source": [
        "##Setup"
      ],
      "metadata": {
        "id": "aNSvrs3KrGur"
      }
    },
    {
      "cell_type": "code",
      "source": [
        "import random"
      ],
      "metadata": {
        "id": "v6Ztfng9rHqg"
      },
      "execution_count": 1,
      "outputs": []
    },
    {
      "cell_type": "markdown",
      "source": [
        "##Debugging Code"
      ],
      "metadata": {
        "id": "Ch57ZRkhtWad"
      }
    },
    {
      "cell_type": "code",
      "source": [
        "random.seed(123)\n",
        "\n",
        "b = 0.0\n",
        "# 500 rows\n",
        "X = [[random.random() for _ in range(1000)] for i in range(500)]\n",
        "w = [random.random() for _ in range(1000)]\n",
        "\n",
        "X[10][10] = \"a\""
      ],
      "metadata": {
        "id": "j4XlVFXO01yG"
      },
      "execution_count": 2,
      "outputs": []
    },
    {
      "cell_type": "code",
      "source": [
        "def my_func(X, w, b):\n",
        "  outputs = []\n",
        "  for x in X:\n",
        "    output = b\n",
        "    for x_j, w_j in zip(x, w):\n",
        "      output += x_j * w_j\n",
        "    outputs.append(output)\n",
        "  return outputs "
      ],
      "metadata": {
        "id": "cqwDVa1W1dEo"
      },
      "execution_count": 3,
      "outputs": []
    },
    {
      "cell_type": "code",
      "source": [
        "result = my_func(X, w, b)"
      ],
      "metadata": {
        "id": "a8haEZ1J3mdi",
        "colab": {
          "base_uri": "https://localhost:8080/",
          "height": 287
        },
        "outputId": "bc372891-da6e-46d0-df4c-aeca72feda30"
      },
      "execution_count": 4,
      "outputs": [
        {
          "output_type": "error",
          "ename": "TypeError",
          "evalue": "ignored",
          "traceback": [
            "\u001b[0;31m---------------------------------------------------------------------------\u001b[0m",
            "\u001b[0;31mTypeError\u001b[0m                                 Traceback (most recent call last)",
            "\u001b[0;32m<ipython-input-4-7ae17bfd428b>\u001b[0m in \u001b[0;36m<module>\u001b[0;34m\u001b[0m\n\u001b[0;32m----> 1\u001b[0;31m \u001b[0mresult\u001b[0m \u001b[0;34m=\u001b[0m \u001b[0mmy_func\u001b[0m\u001b[0;34m(\u001b[0m\u001b[0mX\u001b[0m\u001b[0;34m,\u001b[0m \u001b[0mw\u001b[0m\u001b[0;34m,\u001b[0m \u001b[0mb\u001b[0m\u001b[0;34m)\u001b[0m\u001b[0;34m\u001b[0m\u001b[0;34m\u001b[0m\u001b[0m\n\u001b[0m",
            "\u001b[0;32m<ipython-input-3-42ea7a4f7d4e>\u001b[0m in \u001b[0;36mmy_func\u001b[0;34m(X, w, b)\u001b[0m\n\u001b[1;32m      4\u001b[0m     \u001b[0moutput\u001b[0m \u001b[0;34m=\u001b[0m \u001b[0mb\u001b[0m\u001b[0;34m\u001b[0m\u001b[0;34m\u001b[0m\u001b[0m\n\u001b[1;32m      5\u001b[0m     \u001b[0;32mfor\u001b[0m \u001b[0mx_j\u001b[0m\u001b[0;34m,\u001b[0m \u001b[0mw_j\u001b[0m \u001b[0;32min\u001b[0m \u001b[0mzip\u001b[0m\u001b[0;34m(\u001b[0m\u001b[0mx\u001b[0m\u001b[0;34m,\u001b[0m \u001b[0mw\u001b[0m\u001b[0;34m)\u001b[0m\u001b[0;34m:\u001b[0m\u001b[0;34m\u001b[0m\u001b[0;34m\u001b[0m\u001b[0m\n\u001b[0;32m----> 6\u001b[0;31m       \u001b[0moutput\u001b[0m \u001b[0;34m+=\u001b[0m \u001b[0mx_j\u001b[0m \u001b[0;34m*\u001b[0m \u001b[0mw_j\u001b[0m\u001b[0;34m\u001b[0m\u001b[0;34m\u001b[0m\u001b[0m\n\u001b[0m\u001b[1;32m      7\u001b[0m     \u001b[0moutputs\u001b[0m\u001b[0;34m.\u001b[0m\u001b[0mappend\u001b[0m\u001b[0;34m(\u001b[0m\u001b[0moutput\u001b[0m\u001b[0;34m)\u001b[0m\u001b[0;34m\u001b[0m\u001b[0;34m\u001b[0m\u001b[0m\n\u001b[1;32m      8\u001b[0m   \u001b[0;32mreturn\u001b[0m \u001b[0moutputs\u001b[0m\u001b[0;34m\u001b[0m\u001b[0;34m\u001b[0m\u001b[0m\n",
            "\u001b[0;31mTypeError\u001b[0m: can't multiply sequence by non-int of type 'float'"
          ]
        }
      ]
    },
    {
      "cell_type": "markdown",
      "source": [
        "Let's debug with print statements."
      ],
      "metadata": {
        "id": "dI5LGJEenNgy"
      }
    },
    {
      "cell_type": "code",
      "source": [
        "def my_func(X, w, b):\n",
        "  outputs = []\n",
        "  for x in X:\n",
        "    output = b\n",
        "    for x_j, w_j in zip(x, w):\n",
        "      print(x_j, w_j)\n",
        "      output += x_j * w_j\n",
        "    outputs.append(output)\n",
        "  return outputs "
      ],
      "metadata": {
        "id": "aTCkoPGI313T"
      },
      "execution_count": 5,
      "outputs": []
    },
    {
      "cell_type": "code",
      "source": [
        "result = my_func(X, w, b)"
      ],
      "metadata": {
        "id": "HEPZjOK54i71"
      },
      "execution_count": null,
      "outputs": []
    },
    {
      "cell_type": "markdown",
      "source": [
        "Let's debug with pdb."
      ],
      "metadata": {
        "id": "CXgr_FJ1nvDO"
      }
    },
    {
      "cell_type": "code",
      "source": [
        "def my_func(X, w, b):\n",
        "  outputs = []\n",
        "  for x in X:\n",
        "    output = b\n",
        "    for x_j, w_j in zip(x, w):\n",
        "      try:\n",
        "        output += x_j * w_j\n",
        "      except:\n",
        "        import pdb; pdb.post_mortem()\n",
        "    outputs.append(output)\n",
        "  return outputs "
      ],
      "metadata": {
        "id": "4dolqPPNDnqc"
      },
      "execution_count": 7,
      "outputs": []
    },
    {
      "cell_type": "code",
      "source": [
        "result = my_func(X, w, b)"
      ],
      "metadata": {
        "colab": {
          "base_uri": "https://localhost:8080/"
        },
        "id": "miK6RH0poIPo",
        "outputId": "0001be7f-da0a-44ab-c0fb-05b056745bae"
      },
      "execution_count": 10,
      "outputs": [
        {
          "name": "stdout",
          "output_type": "stream",
          "text": [
            "> <ipython-input-7-29cc9cc82efb>(7)my_func()\n",
            "-> output += x_j * w_j\n",
            "(Pdb) p x_j\n",
            "'a'\n",
            "(Pdb) p w_j\n",
            "0.10190626841302075\n",
            "(Pdb) exit()\n"
          ]
        }
      ]
    }
  ]
}