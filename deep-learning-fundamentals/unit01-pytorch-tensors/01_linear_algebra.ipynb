{
  "nbformat": 4,
  "nbformat_minor": 0,
  "metadata": {
    "colab": {
      "provenance": [],
      "toc_visible": true,
      "authorship_tag": "ABX9TyMSB4A1QQk/QC9EUe6O3pHu",
      "include_colab_link": true
    },
    "kernelspec": {
      "name": "python3",
      "display_name": "Python 3"
    },
    "language_info": {
      "name": "python"
    }
  },
  "cells": [
    {
      "cell_type": "markdown",
      "metadata": {
        "id": "view-in-github",
        "colab_type": "text"
      },
      "source": [
        "<a href=\"https://colab.research.google.com/github/rahiakela/deep-learning-research-and-practice/blob/main/deep-learning-fundamentals/unit01-pytorch-tensors/01_linear_algebra.ipynb\" target=\"_parent\"><img src=\"https://colab.research.google.com/assets/colab-badge.svg\" alt=\"Open In Colab\"/></a>"
      ]
    },
    {
      "cell_type": "markdown",
      "source": [
        "##Code Efficiency with Linear Algebra"
      ],
      "metadata": {
        "id": "R6ybzq24q6ue"
      }
    },
    {
      "cell_type": "markdown",
      "source": [
        "**Reference**\n",
        "\n",
        "[Code Efficiency with Linear Algebra](https://lightning.ai/pages/courses/deep-learning-fundamentals/2-0-unit-2-overview/2-4-improving-code-efficiency-with-linear-algebra-parts-1-4/)\n",
        "\n",
        "[Deep Learning Fundamentals: Code Materials and Exercises](https://github.com/Lightning-AI/dl-fundamentals)"
      ],
      "metadata": {
        "id": "kSbCNcXxrGcU"
      }
    },
    {
      "cell_type": "markdown",
      "source": [
        "##Setup"
      ],
      "metadata": {
        "id": "aNSvrs3KrGur"
      }
    },
    {
      "cell_type": "code",
      "source": [
        "import random\n",
        "import pandas as pd\n",
        "import numpy as np\n",
        "import torch\n",
        "\n",
        "%matplotlib inline\n",
        "import matplotlib.pyplot as plt"
      ],
      "metadata": {
        "id": "v6Ztfng9rHqg"
      },
      "execution_count": 1,
      "outputs": []
    },
    {
      "cell_type": "markdown",
      "source": [
        "##Part 1: From Loops to Dot Products"
      ],
      "metadata": {
        "id": "Ch57ZRkhtWad"
      }
    },
    {
      "cell_type": "code",
      "source": [
        "b = 0.0\n",
        "x = [1.2, 2.2]\n",
        "w = [3.3, 4.3]\n",
        "\n",
        "output = b\n",
        "for x_i, w_i in zip(x, w):\n",
        "  output += x_i * w_i\n",
        "print(output)"
      ],
      "metadata": {
        "id": "usTElLHdueRw",
        "colab": {
          "base_uri": "https://localhost:8080/"
        },
        "outputId": "a041a807-ba3c-49ea-8587-580d9977ac70"
      },
      "execution_count": null,
      "outputs": [
        {
          "output_type": "stream",
          "name": "stdout",
          "text": [
            "13.42\n"
          ]
        }
      ]
    },
    {
      "cell_type": "code",
      "source": [
        "b = torch.tensor([0.0])\n",
        "x = torch.tensor([1.2, 2.2])\n",
        "w = torch.tensor([3.3, 4.3])\n",
        "\n",
        "output = x.dot(w) + b\n",
        "print(output)"
      ],
      "metadata": {
        "id": "6fd4aSeuu36w",
        "outputId": "94691669-74d2-4aa3-cd87-a0412eccd631",
        "colab": {
          "base_uri": "https://localhost:8080/"
        }
      },
      "execution_count": null,
      "outputs": [
        {
          "output_type": "stream",
          "name": "stdout",
          "text": [
            "tensor([13.4200])\n"
          ]
        }
      ]
    },
    {
      "cell_type": "markdown",
      "source": [
        "###Benchmark"
      ],
      "metadata": {
        "id": "Ry9geBM0tnzV"
      }
    },
    {
      "cell_type": "code",
      "source": [
        "def plain_python(x, w, b):\n",
        "  output = b\n",
        "  for x_i, w_i in zip(x, w):\n",
        "    output += x_i * w_i\n",
        "  return output"
      ],
      "metadata": {
        "id": "iyHon5mVyuSk"
      },
      "execution_count": null,
      "outputs": []
    },
    {
      "cell_type": "code",
      "source": [
        "random.seed(123)\n",
        "\n",
        "b = 0.0\n",
        "x = [random.random() for _ in range(1000)]\n",
        "w = [random.random() for _ in range(1000)]"
      ],
      "metadata": {
        "id": "mOAG2ok6t1oF"
      },
      "execution_count": null,
      "outputs": []
    },
    {
      "cell_type": "code",
      "source": [
        "%%timeit\n",
        "\n",
        "plain_python(x, w, b)"
      ],
      "metadata": {
        "colab": {
          "base_uri": "https://localhost:8080/"
        },
        "id": "KY4tI8ufuKG4",
        "outputId": "e53e7e69-2815-47f3-8c59-e83b2359c358"
      },
      "execution_count": null,
      "outputs": [
        {
          "output_type": "stream",
          "name": "stdout",
          "text": [
            "120 µs ± 36.1 µs per loop (mean ± std. dev. of 7 runs, 10000 loops each)\n"
          ]
        }
      ]
    },
    {
      "cell_type": "code",
      "source": [
        "def pytorch_dot(x, w, b):\n",
        "  return x.dot(w) + b"
      ],
      "metadata": {
        "id": "hyVZrQ-AuJlR"
      },
      "execution_count": null,
      "outputs": []
    },
    {
      "cell_type": "code",
      "source": [
        "t_b = torch.tensor(b)\n",
        "t_x = torch.tensor(x)\n",
        "t_w = torch.tensor(w)"
      ],
      "metadata": {
        "id": "uUP0OsnqzNky"
      },
      "execution_count": null,
      "outputs": []
    },
    {
      "cell_type": "code",
      "source": [
        "%%timeit\n",
        "\n",
        "pytorch_dot(t_x, t_w, t_b)"
      ],
      "metadata": {
        "id": "DYCGwlfzzmbS",
        "outputId": "20810227-c278-49cf-f466-1d4dc83d7e12",
        "colab": {
          "base_uri": "https://localhost:8080/"
        }
      },
      "execution_count": null,
      "outputs": [
        {
          "output_type": "stream",
          "name": "stdout",
          "text": [
            "6.82 µs ± 1.99 µs per loop (mean ± std. dev. of 7 runs, 100000 loops each)\n"
          ]
        }
      ]
    },
    {
      "cell_type": "code",
      "source": [
        "# excercise\n",
        "a = torch.tensor([1.2, 5.1, -4.6])\n",
        "b = torch.tensor([-2.1, 3.1, 5.5])\n",
        "\n",
        "a.dot(b)"
      ],
      "metadata": {
        "colab": {
          "base_uri": "https://localhost:8080/"
        },
        "id": "9fX2XZiPDxiL",
        "outputId": "5cb23a7c-b6f9-4d2a-fd06-52cba7473151"
      },
      "execution_count": 5,
      "outputs": [
        {
          "output_type": "execute_result",
          "data": {
            "text/plain": [
              "tensor(-12.0100)"
            ]
          },
          "metadata": {},
          "execution_count": 5
        }
      ]
    },
    {
      "cell_type": "markdown",
      "source": [
        "##Part 2:Matrix-Vector Multiplication"
      ],
      "metadata": {
        "id": "CLQjXjhDz99f"
      }
    },
    {
      "cell_type": "code",
      "source": [
        "b = 0.0\n",
        "X = [\n",
        "  [1.2, 2.2],\n",
        "  [4.4, 5.5]\n",
        "]\n",
        "w = [3.3, 4.3]\n",
        "\n",
        "outputs = []\n",
        "for x in X:\n",
        "  output = b\n",
        "  for x_j, w_j in zip(x, w):\n",
        "    output += x_j * w_j\n",
        "  outputs.append(output)\n",
        "outputs "
      ],
      "metadata": {
        "id": "hGNPm8qiz-h6",
        "outputId": "96f21a30-56e9-41ea-fbc2-2a23e772fe23",
        "colab": {
          "base_uri": "https://localhost:8080/"
        }
      },
      "execution_count": null,
      "outputs": [
        {
          "output_type": "execute_result",
          "data": {
            "text/plain": [
              "[13.42, 38.17]"
            ]
          },
          "metadata": {},
          "execution_count": 3
        }
      ]
    },
    {
      "cell_type": "code",
      "source": [
        "b = torch.tensor([0.0])\n",
        "X = torch.tensor([\n",
        "  [1.2, 2.2],\n",
        "  [4.4, 5.5]\n",
        "])\n",
        "w = torch.tensor([3.3, 4.3])\n",
        "\n",
        "X.matmul(w) + b"
      ],
      "metadata": {
        "id": "ebGsbjxg0Hu3",
        "outputId": "7dec57ab-e50c-4a75-c9c7-998dcea6a2e5",
        "colab": {
          "base_uri": "https://localhost:8080/"
        }
      },
      "execution_count": null,
      "outputs": [
        {
          "output_type": "execute_result",
          "data": {
            "text/plain": [
              "tensor([13.4200, 38.1700])"
            ]
          },
          "metadata": {},
          "execution_count": 4
        }
      ]
    },
    {
      "cell_type": "markdown",
      "source": [
        "###Benchmark"
      ],
      "metadata": {
        "id": "DSGoyD_30oTO"
      }
    },
    {
      "cell_type": "code",
      "source": [
        "random.seed(123)\n",
        "\n",
        "b = 0.0\n",
        "# 1000 coloumns and  500 rows\n",
        "X = [[random.random() for _ in range(1000)] for i in range(500)]\n",
        "w = [random.random() for _ in range(1000)]\n",
        "\n",
        "def plain_python(X, w, b):\n",
        "  outputs = []\n",
        "  for x in X:\n",
        "    output = b\n",
        "    for x_j, w_j in zip(x, w):\n",
        "      output += x_j * w_j\n",
        "    outputs.append(output)\n",
        "  return outputs "
      ],
      "metadata": {
        "id": "j4XlVFXO01yG"
      },
      "execution_count": null,
      "outputs": []
    },
    {
      "cell_type": "code",
      "source": [
        "%timeit plain_python(X, w, b)"
      ],
      "metadata": {
        "id": "cqwDVa1W1dEo",
        "outputId": "d343c634-a3ff-4db4-e750-97293c021969",
        "colab": {
          "base_uri": "https://localhost:8080/"
        }
      },
      "execution_count": null,
      "outputs": [
        {
          "output_type": "stream",
          "name": "stdout",
          "text": [
            "33 ms ± 584 µs per loop (mean ± std. dev. of 7 runs, 10 loops each)\n"
          ]
        }
      ]
    },
    {
      "cell_type": "code",
      "source": [
        "t_b = torch.tensor(b)\n",
        "t_x = torch.tensor(X)\n",
        "t_w = torch.tensor(w)\n",
        "\n",
        "def pytorch_implementation(X, w, b):\n",
        "  return X.matmul(w) + b"
      ],
      "metadata": {
        "id": "a8haEZ1J3mdi"
      },
      "execution_count": null,
      "outputs": []
    },
    {
      "cell_type": "code",
      "source": [
        "%timeit pytorch_implementation(t_x, t_w, t_b)"
      ],
      "metadata": {
        "id": "aTCkoPGI313T",
        "outputId": "48423ddd-0b0a-4366-c60e-982e43b38615",
        "colab": {
          "base_uri": "https://localhost:8080/"
        }
      },
      "execution_count": null,
      "outputs": [
        {
          "output_type": "stream",
          "name": "stdout",
          "text": [
            "50.1 µs ± 1.15 µs per loop (mean ± std. dev. of 7 runs, 10000 loops each)\n"
          ]
        }
      ]
    },
    {
      "cell_type": "markdown",
      "source": [
        "##Part 3:Matrix-Matrix Multiplication"
      ],
      "metadata": {
        "id": "USV_-xu64Vlq"
      }
    },
    {
      "cell_type": "code",
      "source": [
        "X = torch.rand(100, 10)\n",
        "W = torch.rand(50, 10)\n",
        "\n",
        "R = torch.matmul(X, W.T)\n",
        "R.shape"
      ],
      "metadata": {
        "id": "HEPZjOK54i71",
        "outputId": "3a383234-4c98-4cf0-eacb-b6f75d3bab18",
        "colab": {
          "base_uri": "https://localhost:8080/"
        }
      },
      "execution_count": 2,
      "outputs": [
        {
          "output_type": "execute_result",
          "data": {
            "text/plain": [
              "torch.Size([100, 50])"
            ]
          },
          "metadata": {},
          "execution_count": 2
        }
      ]
    },
    {
      "cell_type": "code",
      "source": [
        "# excercise\n",
        "A = torch.tensor([\n",
        "  [1, 2],\n",
        "  [2, 4]\n",
        "])\n",
        "B = torch.tensor([\n",
        "  [5, 6],\n",
        "  [7, 8]\n",
        "])\n",
        "\n",
        "C = torch.matmul(A, B.T)\n",
        "print(C.shape)\n",
        "C"
      ],
      "metadata": {
        "colab": {
          "base_uri": "https://localhost:8080/"
        },
        "id": "4dolqPPNDnqc",
        "outputId": "62ae759c-c426-4885-bcc7-2d39aecb72e9"
      },
      "execution_count": 7,
      "outputs": [
        {
          "output_type": "stream",
          "name": "stdout",
          "text": [
            "torch.Size([2, 2])\n"
          ]
        },
        {
          "output_type": "execute_result",
          "data": {
            "text/plain": [
              "tensor([[17, 23],\n",
              "        [34, 46]])"
            ]
          },
          "metadata": {},
          "execution_count": 7
        }
      ]
    },
    {
      "cell_type": "markdown",
      "source": [
        "##Part 4: Broadcasting"
      ],
      "metadata": {
        "id": "H2QkzNeIFGX8"
      }
    },
    {
      "cell_type": "code",
      "source": [
        "a = torch.tensor([1.1, 2.1, 3.1, 4.1])\n",
        "b = torch.tensor([5.4, 5.5, 5.6, 5.7])\n",
        "\n",
        "a + b"
      ],
      "metadata": {
        "colab": {
          "base_uri": "https://localhost:8080/"
        },
        "id": "pkTqEYnzFHNY",
        "outputId": "051590f5-0b84-4a02-a770-afed1f3e1dc2"
      },
      "execution_count": 8,
      "outputs": [
        {
          "output_type": "execute_result",
          "data": {
            "text/plain": [
              "tensor([6.5000, 7.6000, 8.7000, 9.8000])"
            ]
          },
          "metadata": {},
          "execution_count": 8
        }
      ]
    },
    {
      "cell_type": "code",
      "source": [
        "a = torch.tensor([1.1, 2.1, 3.1, 4.1])\n",
        "b = torch.tensor([5.4]) # it is broadcasted\n",
        "\n",
        "a + b"
      ],
      "metadata": {
        "colab": {
          "base_uri": "https://localhost:8080/"
        },
        "id": "yWu3F9BfFbJ9",
        "outputId": "18bdc403-f806-44e4-be62-24b3e2f907bc"
      },
      "execution_count": 9,
      "outputs": [
        {
          "output_type": "execute_result",
          "data": {
            "text/plain": [
              "tensor([6.5000, 7.5000, 8.5000, 9.5000])"
            ]
          },
          "metadata": {},
          "execution_count": 9
        }
      ]
    },
    {
      "cell_type": "code",
      "source": [
        "A = torch.tensor([\n",
        "  [1.1, 2.1, 3.1, 4.1],\n",
        "  [1.2, 2.2, 3.2, 4.2]\n",
        "])\n",
        "b = torch.tensor([\n",
        "  [5.4, 5.5, 5.6, 5.7],\n",
        "  [5.4, 5.5, 5.6, 5.7]\n",
        "])\n",
        "\n",
        "A + b"
      ],
      "metadata": {
        "colab": {
          "base_uri": "https://localhost:8080/"
        },
        "id": "X95eY7ixFiNu",
        "outputId": "f94c7e44-ac1e-4e47-b3ba-cb8171d6243d"
      },
      "execution_count": 10,
      "outputs": [
        {
          "output_type": "execute_result",
          "data": {
            "text/plain": [
              "tensor([[6.5000, 7.6000, 8.7000, 9.8000],\n",
              "        [6.6000, 7.7000, 8.8000, 9.9000]])"
            ]
          },
          "metadata": {},
          "execution_count": 10
        }
      ]
    },
    {
      "cell_type": "code",
      "source": [
        "A = torch.tensor([\n",
        "  [1.1, 2.1, 3.1, 4.1],\n",
        "  [1.2, 2.2, 3.2, 4.2]\n",
        "])\n",
        "b = torch.tensor([\n",
        "  [5.4, 5.5, 5.6, 5.7],\n",
        "  # it is broadcasted\n",
        "])\n",
        "\n",
        "A + b"
      ],
      "metadata": {
        "colab": {
          "base_uri": "https://localhost:8080/"
        },
        "id": "PaXESymEFxoD",
        "outputId": "55081f3b-e41a-4e2f-cc50-00f61fa53126"
      },
      "execution_count": 12,
      "outputs": [
        {
          "output_type": "execute_result",
          "data": {
            "text/plain": [
              "tensor([[6.5000, 7.6000, 8.7000, 9.8000],\n",
              "        [6.6000, 7.7000, 8.8000, 9.9000]])"
            ]
          },
          "metadata": {},
          "execution_count": 12
        }
      ]
    },
    {
      "cell_type": "code",
      "source": [
        "# excercise\n",
        "a = torch.tensor([\n",
        "  [1., 2.],\n",
        "  [3., 4.]\n",
        "])\n",
        "\n",
        "a + 1.0"
      ],
      "metadata": {
        "colab": {
          "base_uri": "https://localhost:8080/"
        },
        "id": "Re4P5xJLGRhE",
        "outputId": "45102214-9fee-4e2e-c055-7056ddecab3b"
      },
      "execution_count": 14,
      "outputs": [
        {
          "output_type": "execute_result",
          "data": {
            "text/plain": [
              "tensor([[2., 3.],\n",
              "        [4., 5.]])"
            ]
          },
          "metadata": {},
          "execution_count": 14
        }
      ]
    },
    {
      "cell_type": "code",
      "source": [
        "a * 2"
      ],
      "metadata": {
        "colab": {
          "base_uri": "https://localhost:8080/"
        },
        "id": "uc34k2B5GhLq",
        "outputId": "3df05050-3bd8-49b4-c36b-3259fcb4e2c9"
      },
      "execution_count": 15,
      "outputs": [
        {
          "output_type": "execute_result",
          "data": {
            "text/plain": [
              "tensor([[2., 4.],\n",
              "        [6., 8.]])"
            ]
          },
          "metadata": {},
          "execution_count": 15
        }
      ]
    },
    {
      "cell_type": "code",
      "source": [
        "a + torch.tensor([1., 2.])"
      ],
      "metadata": {
        "colab": {
          "base_uri": "https://localhost:8080/"
        },
        "id": "mP_24zuUGlEl",
        "outputId": "628a7d6c-5d9d-4e8d-a728-4b75b894edf8"
      },
      "execution_count": 16,
      "outputs": [
        {
          "output_type": "execute_result",
          "data": {
            "text/plain": [
              "tensor([[2., 4.],\n",
              "        [4., 6.]])"
            ]
          },
          "metadata": {},
          "execution_count": 16
        }
      ]
    },
    {
      "cell_type": "code",
      "source": [
        "a + torch.tensor([[5., 6.], [7., 8.]])"
      ],
      "metadata": {
        "colab": {
          "base_uri": "https://localhost:8080/"
        },
        "id": "vEFbqQEMGqqo",
        "outputId": "eb8d0816-c1ab-4631-9b84-af98e1774c0c"
      },
      "execution_count": 17,
      "outputs": [
        {
          "output_type": "execute_result",
          "data": {
            "text/plain": [
              "tensor([[ 6.,  8.],\n",
              "        [10., 12.]])"
            ]
          },
          "metadata": {},
          "execution_count": 17
        }
      ]
    },
    {
      "cell_type": "code",
      "source": [
        "a + torch.tensor([[5., 6., 7., 8.]])"
      ],
      "metadata": {
        "colab": {
          "base_uri": "https://localhost:8080/",
          "height": 166
        },
        "id": "RPUVFPgJGwDW",
        "outputId": "b129c0db-f292-498a-f634-8d75ee5b25d6"
      },
      "execution_count": 18,
      "outputs": [
        {
          "output_type": "error",
          "ename": "RuntimeError",
          "evalue": "ignored",
          "traceback": [
            "\u001b[0;31m---------------------------------------------------------------------------\u001b[0m",
            "\u001b[0;31mRuntimeError\u001b[0m                              Traceback (most recent call last)",
            "\u001b[0;32m<ipython-input-18-bcaae004ce31>\u001b[0m in \u001b[0;36m<module>\u001b[0;34m\u001b[0m\n\u001b[0;32m----> 1\u001b[0;31m \u001b[0ma\u001b[0m \u001b[0;34m+\u001b[0m \u001b[0mtorch\u001b[0m\u001b[0;34m.\u001b[0m\u001b[0mtensor\u001b[0m\u001b[0;34m(\u001b[0m\u001b[0;34m[\u001b[0m\u001b[0;34m[\u001b[0m\u001b[0;36m5.\u001b[0m\u001b[0;34m,\u001b[0m \u001b[0;36m6.\u001b[0m\u001b[0;34m,\u001b[0m \u001b[0;36m7.\u001b[0m\u001b[0;34m,\u001b[0m \u001b[0;36m8.\u001b[0m\u001b[0;34m]\u001b[0m\u001b[0;34m]\u001b[0m\u001b[0;34m)\u001b[0m\u001b[0;34m\u001b[0m\u001b[0;34m\u001b[0m\u001b[0m\n\u001b[0m",
            "\u001b[0;31mRuntimeError\u001b[0m: The size of tensor a (2) must match the size of tensor b (4) at non-singleton dimension 1"
          ]
        }
      ]
    }
  ]
}