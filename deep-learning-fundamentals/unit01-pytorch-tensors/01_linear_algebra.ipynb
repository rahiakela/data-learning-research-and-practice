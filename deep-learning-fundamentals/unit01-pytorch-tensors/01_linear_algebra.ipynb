{
  "nbformat": 4,
  "nbformat_minor": 0,
  "metadata": {
    "colab": {
      "provenance": [],
      "toc_visible": true,
      "authorship_tag": "ABX9TyPOySRBsvcisv7mkSW7RYyU",
      "include_colab_link": true
    },
    "kernelspec": {
      "name": "python3",
      "display_name": "Python 3"
    },
    "language_info": {
      "name": "python"
    }
  },
  "cells": [
    {
      "cell_type": "markdown",
      "metadata": {
        "id": "view-in-github",
        "colab_type": "text"
      },
      "source": [
        "<a href=\"https://colab.research.google.com/github/rahiakela/deep-learning-research-and-practice/blob/main/deep-learning-fundamentals/unit01-pytorch-tensors/01_linear_algebra.ipynb\" target=\"_parent\"><img src=\"https://colab.research.google.com/assets/colab-badge.svg\" alt=\"Open In Colab\"/></a>"
      ]
    },
    {
      "cell_type": "markdown",
      "source": [
        "##Code Efficiency with Linear Algebra"
      ],
      "metadata": {
        "id": "R6ybzq24q6ue"
      }
    },
    {
      "cell_type": "markdown",
      "source": [
        "**Reference**\n",
        "\n",
        "[Code Efficiency with Linear Algebra](https://lightning.ai/pages/courses/deep-learning-fundamentals/2-0-unit-2-overview/2-4-improving-code-efficiency-with-linear-algebra-parts-1-4/)\n",
        "\n",
        "[Deep Learning Fundamentals: Code Materials and Exercises](https://github.com/Lightning-AI/dl-fundamentals)"
      ],
      "metadata": {
        "id": "kSbCNcXxrGcU"
      }
    },
    {
      "cell_type": "markdown",
      "source": [
        "##Setup"
      ],
      "metadata": {
        "id": "aNSvrs3KrGur"
      }
    },
    {
      "cell_type": "code",
      "source": [
        "import random\n",
        "import pandas as pd\n",
        "import numpy as np\n",
        "import torch\n",
        "\n",
        "%matplotlib inline\n",
        "import matplotlib.pyplot as plt"
      ],
      "metadata": {
        "id": "v6Ztfng9rHqg"
      },
      "execution_count": 2,
      "outputs": []
    },
    {
      "cell_type": "code",
      "source": [
        "!wget https://github.com/rahiakela/deep-learning-research-and-practice/raw/main/deep-learning-fundamentals/unit01-ml-intro/perceptron_toydata-truncated.txt"
      ],
      "metadata": {
        "id": "nwO7ruD5rZmO"
      },
      "execution_count": null,
      "outputs": []
    },
    {
      "cell_type": "markdown",
      "source": [
        "##Dataset"
      ],
      "metadata": {
        "id": "JVgtfkVGrYTf"
      }
    },
    {
      "cell_type": "code",
      "source": [
        "df = pd.read_csv(\"perceptron_toydata-truncated.txt\", sep=\"\\t\")\n",
        "df.head()"
      ],
      "metadata": {
        "colab": {
          "base_uri": "https://localhost:8080/",
          "height": 206
        },
        "id": "Pko_BForrSMP",
        "outputId": "4e2f47b6-332f-4e8d-b15d-7e134b1ad112"
      },
      "execution_count": null,
      "outputs": [
        {
          "output_type": "execute_result",
          "data": {
            "text/plain": [
              "     x1    x2  label\n",
              "0  0.77 -1.14      0\n",
              "1 -0.33  1.44      0\n",
              "2  0.91 -3.07      0\n",
              "3 -0.37 -1.91      0\n",
              "4 -0.63 -1.53      0"
            ],
            "text/html": [
              "\n",
              "  <div id=\"df-20af6b2c-8e5c-4e76-aa49-cb8eb7abb1bc\">\n",
              "    <div class=\"colab-df-container\">\n",
              "      <div>\n",
              "<style scoped>\n",
              "    .dataframe tbody tr th:only-of-type {\n",
              "        vertical-align: middle;\n",
              "    }\n",
              "\n",
              "    .dataframe tbody tr th {\n",
              "        vertical-align: top;\n",
              "    }\n",
              "\n",
              "    .dataframe thead th {\n",
              "        text-align: right;\n",
              "    }\n",
              "</style>\n",
              "<table border=\"1\" class=\"dataframe\">\n",
              "  <thead>\n",
              "    <tr style=\"text-align: right;\">\n",
              "      <th></th>\n",
              "      <th>x1</th>\n",
              "      <th>x2</th>\n",
              "      <th>label</th>\n",
              "    </tr>\n",
              "  </thead>\n",
              "  <tbody>\n",
              "    <tr>\n",
              "      <th>0</th>\n",
              "      <td>0.77</td>\n",
              "      <td>-1.14</td>\n",
              "      <td>0</td>\n",
              "    </tr>\n",
              "    <tr>\n",
              "      <th>1</th>\n",
              "      <td>-0.33</td>\n",
              "      <td>1.44</td>\n",
              "      <td>0</td>\n",
              "    </tr>\n",
              "    <tr>\n",
              "      <th>2</th>\n",
              "      <td>0.91</td>\n",
              "      <td>-3.07</td>\n",
              "      <td>0</td>\n",
              "    </tr>\n",
              "    <tr>\n",
              "      <th>3</th>\n",
              "      <td>-0.37</td>\n",
              "      <td>-1.91</td>\n",
              "      <td>0</td>\n",
              "    </tr>\n",
              "    <tr>\n",
              "      <th>4</th>\n",
              "      <td>-0.63</td>\n",
              "      <td>-1.53</td>\n",
              "      <td>0</td>\n",
              "    </tr>\n",
              "  </tbody>\n",
              "</table>\n",
              "</div>\n",
              "      <button class=\"colab-df-convert\" onclick=\"convertToInteractive('df-20af6b2c-8e5c-4e76-aa49-cb8eb7abb1bc')\"\n",
              "              title=\"Convert this dataframe to an interactive table.\"\n",
              "              style=\"display:none;\">\n",
              "        \n",
              "  <svg xmlns=\"http://www.w3.org/2000/svg\" height=\"24px\"viewBox=\"0 0 24 24\"\n",
              "       width=\"24px\">\n",
              "    <path d=\"M0 0h24v24H0V0z\" fill=\"none\"/>\n",
              "    <path d=\"M18.56 5.44l.94 2.06.94-2.06 2.06-.94-2.06-.94-.94-2.06-.94 2.06-2.06.94zm-11 1L8.5 8.5l.94-2.06 2.06-.94-2.06-.94L8.5 2.5l-.94 2.06-2.06.94zm10 10l.94 2.06.94-2.06 2.06-.94-2.06-.94-.94-2.06-.94 2.06-2.06.94z\"/><path d=\"M17.41 7.96l-1.37-1.37c-.4-.4-.92-.59-1.43-.59-.52 0-1.04.2-1.43.59L10.3 9.45l-7.72 7.72c-.78.78-.78 2.05 0 2.83L4 21.41c.39.39.9.59 1.41.59.51 0 1.02-.2 1.41-.59l7.78-7.78 2.81-2.81c.8-.78.8-2.07 0-2.86zM5.41 20L4 18.59l7.72-7.72 1.47 1.35L5.41 20z\"/>\n",
              "  </svg>\n",
              "      </button>\n",
              "      \n",
              "  <style>\n",
              "    .colab-df-container {\n",
              "      display:flex;\n",
              "      flex-wrap:wrap;\n",
              "      gap: 12px;\n",
              "    }\n",
              "\n",
              "    .colab-df-convert {\n",
              "      background-color: #E8F0FE;\n",
              "      border: none;\n",
              "      border-radius: 50%;\n",
              "      cursor: pointer;\n",
              "      display: none;\n",
              "      fill: #1967D2;\n",
              "      height: 32px;\n",
              "      padding: 0 0 0 0;\n",
              "      width: 32px;\n",
              "    }\n",
              "\n",
              "    .colab-df-convert:hover {\n",
              "      background-color: #E2EBFA;\n",
              "      box-shadow: 0px 1px 2px rgba(60, 64, 67, 0.3), 0px 1px 3px 1px rgba(60, 64, 67, 0.15);\n",
              "      fill: #174EA6;\n",
              "    }\n",
              "\n",
              "    [theme=dark] .colab-df-convert {\n",
              "      background-color: #3B4455;\n",
              "      fill: #D2E3FC;\n",
              "    }\n",
              "\n",
              "    [theme=dark] .colab-df-convert:hover {\n",
              "      background-color: #434B5C;\n",
              "      box-shadow: 0px 1px 3px 1px rgba(0, 0, 0, 0.15);\n",
              "      filter: drop-shadow(0px 1px 2px rgba(0, 0, 0, 0.3));\n",
              "      fill: #FFFFFF;\n",
              "    }\n",
              "  </style>\n",
              "\n",
              "      <script>\n",
              "        const buttonEl =\n",
              "          document.querySelector('#df-20af6b2c-8e5c-4e76-aa49-cb8eb7abb1bc button.colab-df-convert');\n",
              "        buttonEl.style.display =\n",
              "          google.colab.kernel.accessAllowed ? 'block' : 'none';\n",
              "\n",
              "        async function convertToInteractive(key) {\n",
              "          const element = document.querySelector('#df-20af6b2c-8e5c-4e76-aa49-cb8eb7abb1bc');\n",
              "          const dataTable =\n",
              "            await google.colab.kernel.invokeFunction('convertToInteractive',\n",
              "                                                     [key], {});\n",
              "          if (!dataTable) return;\n",
              "\n",
              "          const docLinkHtml = 'Like what you see? Visit the ' +\n",
              "            '<a target=\"_blank\" href=https://colab.research.google.com/notebooks/data_table.ipynb>data table notebook</a>'\n",
              "            + ' to learn more about interactive tables.';\n",
              "          element.innerHTML = '';\n",
              "          dataTable['output_type'] = 'display_data';\n",
              "          await google.colab.output.renderOutput(dataTable, element);\n",
              "          const docLink = document.createElement('div');\n",
              "          docLink.innerHTML = docLinkHtml;\n",
              "          element.appendChild(docLink);\n",
              "        }\n",
              "      </script>\n",
              "    </div>\n",
              "  </div>\n",
              "  "
            ]
          },
          "metadata": {},
          "execution_count": 3
        }
      ]
    },
    {
      "cell_type": "code",
      "source": [
        "x_train = df[[\"x1\", \"x2\"]].values\n",
        "y_train = df[\"label\"].values\n",
        "\n",
        "print(x_train.shape, y_train.shape)\n",
        "x_train[:5]"
      ],
      "metadata": {
        "colab": {
          "base_uri": "https://localhost:8080/"
        },
        "id": "j7y6gLTfr5Ow",
        "outputId": "be78a772-86cb-439f-cd46-81abc5671dac"
      },
      "execution_count": null,
      "outputs": [
        {
          "output_type": "stream",
          "name": "stdout",
          "text": [
            "(20, 2) (20,)\n"
          ]
        },
        {
          "output_type": "execute_result",
          "data": {
            "text/plain": [
              "array([[ 0.77, -1.14],\n",
              "       [-0.33,  1.44],\n",
              "       [ 0.91, -3.07],\n",
              "       [-0.37, -1.91],\n",
              "       [-0.63, -1.53]])"
            ]
          },
          "metadata": {},
          "execution_count": 4
        }
      ]
    },
    {
      "cell_type": "code",
      "source": [
        "np.bincount(y_train)"
      ],
      "metadata": {
        "colab": {
          "base_uri": "https://localhost:8080/"
        },
        "id": "dBbngBpdsXA1",
        "outputId": "f6fb9acb-b3be-445c-a4a0-65091a25e34c"
      },
      "execution_count": null,
      "outputs": [
        {
          "output_type": "execute_result",
          "data": {
            "text/plain": [
              "array([10, 10])"
            ]
          },
          "metadata": {},
          "execution_count": 5
        }
      ]
    },
    {
      "cell_type": "code",
      "source": [
        "plt.plot(x_train[y_train == 0, 0], x_train[y_train == 0, 1], marker=\"D\", markersize=10, linestyle=\"\", label=\"Class 0\")\n",
        "plt.plot(x_train[y_train == 1, 0], x_train[y_train == 1, 1], marker=\"^\", markersize=13, linestyle=\"\", label=\"Class 1\")\n",
        "plt.legend(loc=2)\n",
        "\n",
        "plt.xlim([-5, 5])\n",
        "plt.ylim([-5, 5])\n",
        "\n",
        "plt.xlabel(\"Feature $x_1$\", fontsize=12)\n",
        "plt.ylabel(\"Feature $x_2$\", fontsize=12)\n",
        "\n",
        "plt.grid()\n",
        "plt.show()"
      ],
      "metadata": {
        "colab": {
          "base_uri": "https://localhost:8080/",
          "height": 284
        },
        "id": "qclCEnCWslY7",
        "outputId": "e7bfa1e3-317c-43a0-a656-9b7e27bbfd53"
      },
      "execution_count": null,
      "outputs": [
        {
          "output_type": "display_data",
          "data": {
            "text/plain": [
              "<Figure size 432x288 with 1 Axes>"
            ],
            "image/png": "[encoded data removed]"
          },
          "metadata": {
            "needs_background": "light"
          }
        }
      ]
    },
    {
      "cell_type": "markdown",
      "source": [
        "##Part 1: From Loops to Dot Products"
      ],
      "metadata": {
        "id": "Ch57ZRkhtWad"
      }
    },
    {
      "cell_type": "code",
      "source": [
        "b = 0.0\n",
        "x = [1.2, 2.2]\n",
        "w = [3.3, 4.3]\n",
        "\n",
        "output = b\n",
        "for x_i, w_i in zip(x, w):\n",
        "  output += x_i * w_i\n",
        "print(output)"
      ],
      "metadata": {
        "id": "usTElLHdueRw",
        "colab": {
          "base_uri": "https://localhost:8080/"
        },
        "outputId": "a041a807-ba3c-49ea-8587-580d9977ac70"
      },
      "execution_count": 2,
      "outputs": [
        {
          "output_type": "stream",
          "name": "stdout",
          "text": [
            "13.42\n"
          ]
        }
      ]
    },
    {
      "cell_type": "code",
      "source": [
        "b = torch.tensor([0.0])\n",
        "x = torch.tensor([1.2, 2.2])\n",
        "w = torch.tensor([3.3, 4.3])\n",
        "\n",
        "output = x.dot(w) + b\n",
        "print(output)"
      ],
      "metadata": {
        "id": "6fd4aSeuu36w",
        "outputId": "94691669-74d2-4aa3-cd87-a0412eccd631",
        "colab": {
          "base_uri": "https://localhost:8080/"
        }
      },
      "execution_count": 3,
      "outputs": [
        {
          "output_type": "stream",
          "name": "stdout",
          "text": [
            "tensor([13.4200])\n"
          ]
        }
      ]
    },
    {
      "cell_type": "markdown",
      "source": [
        "###Benchmark"
      ],
      "metadata": {
        "id": "Ry9geBM0tnzV"
      }
    },
    {
      "cell_type": "code",
      "source": [
        "def plain_python(x, w, b):\n",
        "  output = b\n",
        "  for x_i, w_i in zip(x, w):\n",
        "    output += x_i * w_i\n",
        "  return output"
      ],
      "metadata": {
        "id": "iyHon5mVyuSk"
      },
      "execution_count": 4,
      "outputs": []
    },
    {
      "cell_type": "code",
      "source": [
        "random.seed(123)\n",
        "\n",
        "b = 0.0\n",
        "x = [random.random() for _ in range(1000)]\n",
        "w = [random.random() for _ in range(1000)]"
      ],
      "metadata": {
        "id": "mOAG2ok6t1oF"
      },
      "execution_count": 5,
      "outputs": []
    },
    {
      "cell_type": "code",
      "source": [
        "%%timeit\n",
        "\n",
        "plain_python(x, w, b)"
      ],
      "metadata": {
        "colab": {
          "base_uri": "https://localhost:8080/"
        },
        "id": "KY4tI8ufuKG4",
        "outputId": "e53e7e69-2815-47f3-8c59-e83b2359c358"
      },
      "execution_count": 6,
      "outputs": [
        {
          "output_type": "stream",
          "name": "stdout",
          "text": [
            "120 µs ± 36.1 µs per loop (mean ± std. dev. of 7 runs, 10000 loops each)\n"
          ]
        }
      ]
    },
    {
      "cell_type": "code",
      "source": [
        "def pytorch_dot(x, w, b):\n",
        "  return x.dot(w) + b"
      ],
      "metadata": {
        "id": "hyVZrQ-AuJlR"
      },
      "execution_count": 7,
      "outputs": []
    },
    {
      "cell_type": "code",
      "source": [
        "t_b = torch.tensor(b)\n",
        "t_x = torch.tensor(x)\n",
        "t_w = torch.tensor(w)"
      ],
      "metadata": {
        "id": "uUP0OsnqzNky"
      },
      "execution_count": 8,
      "outputs": []
    },
    {
      "cell_type": "code",
      "source": [
        "%%timeit\n",
        "\n",
        "pytorch_dot(t_x, t_w, t_b)"
      ],
      "metadata": {
        "id": "DYCGwlfzzmbS",
        "outputId": "20810227-c278-49cf-f466-1d4dc83d7e12",
        "colab": {
          "base_uri": "https://localhost:8080/"
        }
      },
      "execution_count": 9,
      "outputs": [
        {
          "output_type": "stream",
          "name": "stdout",
          "text": [
            "6.82 µs ± 1.99 µs per loop (mean ± std. dev. of 7 runs, 100000 loops each)\n"
          ]
        }
      ]
    },
    {
      "cell_type": "markdown",
      "source": [
        "##Part 2:Matrix-Vector Multiplication"
      ],
      "metadata": {
        "id": "CLQjXjhDz99f"
      }
    },
    {
      "cell_type": "code",
      "source": [
        "b = 0.0\n",
        "X = [\n",
        "  [1.2, 2.2],\n",
        "  [4.4, 5.5]\n",
        "]\n",
        "w = [3.3, 4.3]\n",
        "\n",
        "outputs = []\n",
        "for x in X:\n",
        "  output = b\n",
        "  for x_j, w_j in zip(x, w):\n",
        "    output += x_j * w_j\n",
        "  outputs.append(output)\n",
        "outputs "
      ],
      "metadata": {
        "id": "hGNPm8qiz-h6",
        "outputId": "96f21a30-56e9-41ea-fbc2-2a23e772fe23",
        "colab": {
          "base_uri": "https://localhost:8080/"
        }
      },
      "execution_count": 3,
      "outputs": [
        {
          "output_type": "execute_result",
          "data": {
            "text/plain": [
              "[13.42, 38.17]"
            ]
          },
          "metadata": {},
          "execution_count": 3
        }
      ]
    },
    {
      "cell_type": "code",
      "source": [
        "b = torch.tensor([0.0])\n",
        "X = torch.tensor([\n",
        "  [1.2, 2.2],\n",
        "  [4.4, 5.5]\n",
        "])\n",
        "w = torch.tensor([3.3, 4.3])\n",
        "\n",
        "X.matmul(w) + b"
      ],
      "metadata": {
        "id": "ebGsbjxg0Hu3",
        "outputId": "7dec57ab-e50c-4a75-c9c7-998dcea6a2e5",
        "colab": {
          "base_uri": "https://localhost:8080/"
        }
      },
      "execution_count": 4,
      "outputs": [
        {
          "output_type": "execute_result",
          "data": {
            "text/plain": [
              "tensor([13.4200, 38.1700])"
            ]
          },
          "metadata": {},
          "execution_count": 4
        }
      ]
    },
    {
      "cell_type": "markdown",
      "source": [
        "###Benchmark"
      ],
      "metadata": {
        "id": "DSGoyD_30oTO"
      }
    },
    {
      "cell_type": "code",
      "source": [
        "random.seed(123)\n",
        "\n",
        "b = 0.0\n",
        "# 1000 coloumns and  500 rows\n",
        "X = [[random.random() for _ in range(1000)] for i in range(500)]\n",
        "w = [random.random() for _ in range(1000)]\n",
        "\n",
        "def plain_python(X, w, b):\n",
        "  outputs = []\n",
        "  for x in X:\n",
        "    output = b\n",
        "    for x_j, w_j in zip(x, w):\n",
        "      output += x_j * w_j\n",
        "    outputs.append(output)\n",
        "  return outputs "
      ],
      "metadata": {
        "id": "j4XlVFXO01yG"
      },
      "execution_count": 5,
      "outputs": []
    },
    {
      "cell_type": "code",
      "source": [
        "%timeit plain_python(X, w, b)"
      ],
      "metadata": {
        "id": "cqwDVa1W1dEo",
        "outputId": "d343c634-a3ff-4db4-e750-97293c021969",
        "colab": {
          "base_uri": "https://localhost:8080/"
        }
      },
      "execution_count": 6,
      "outputs": [
        {
          "output_type": "stream",
          "name": "stdout",
          "text": [
            "33 ms ± 584 µs per loop (mean ± std. dev. of 7 runs, 10 loops each)\n"
          ]
        }
      ]
    },
    {
      "cell_type": "code",
      "source": [
        "t_b = torch.tensor(b)\n",
        "t_x = torch.tensor(X)\n",
        "t_w = torch.tensor(w)\n",
        "\n",
        "def pytorch_implementation(X, w, b):\n",
        "  return X.matmul(w) + b"
      ],
      "metadata": {
        "id": "a8haEZ1J3mdi"
      },
      "execution_count": 7,
      "outputs": []
    },
    {
      "cell_type": "code",
      "source": [
        "%timeit pytorch_implementation(t_x, t_w, t_b)"
      ],
      "metadata": {
        "id": "aTCkoPGI313T",
        "outputId": "48423ddd-0b0a-4366-c60e-982e43b38615",
        "colab": {
          "base_uri": "https://localhost:8080/"
        }
      },
      "execution_count": 9,
      "outputs": [
        {
          "output_type": "stream",
          "name": "stdout",
          "text": [
            "50.1 µs ± 1.15 µs per loop (mean ± std. dev. of 7 runs, 10000 loops each)\n"
          ]
        }
      ]
    },
    {
      "cell_type": "markdown",
      "source": [
        "##Part 3:Matrix-Matrix Multiplication"
      ],
      "metadata": {
        "id": "USV_-xu64Vlq"
      }
    },
    {
      "cell_type": "code",
      "source": [
        "a = torch.tensor([1.2, 5.1, -4.6])\n",
        "b = torch.tensor([-2.1, 3.1, 5.5])\n",
        "\n",
        "a.dot(b)"
      ],
      "metadata": {
        "id": "HEPZjOK54i71",
        "outputId": "238ac8d3-7a5a-4bb2-ebee-904d78709414",
        "colab": {
          "base_uri": "https://localhost:8080/"
        }
      },
      "execution_count": 10,
      "outputs": [
        {
          "output_type": "execute_result",
          "data": {
            "text/plain": [
              "tensor(-12.0100)"
            ]
          },
          "metadata": {},
          "execution_count": 10
        }
      ]
    }
  ]
}