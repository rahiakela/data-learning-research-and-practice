{
  "cells": [
    {
      "cell_type": "markdown",
      "metadata": {
        "id": "view-in-github",
        "colab_type": "text"
      },
      "source": [
        "<a href=\"https://colab.research.google.com/github/rahiakela/deep-learning-research-and-practice/blob/main/deep-learning-fundamentals/unit08-NLP/01-bag-of-words/02_self_attention_from_scratch.ipynb\" target=\"_parent\"><img src=\"https://colab.research.google.com/assets/colab-badge.svg\" alt=\"Open In Colab\"/></a>"
      ]
    },
    {
      "cell_type": "markdown",
      "id": "eed46618-9b66-425c-b7a0-f606d4593e2d",
      "metadata": {
        "id": "eed46618-9b66-425c-b7a0-f606d4593e2d"
      },
      "source": [
        "##Self-attention works from scratch"
      ]
    },
    {
      "cell_type": "markdown",
      "id": "07784975-91ec-4a0b-8761-0f2a1790a2c9",
      "metadata": {
        "id": "07784975-91ec-4a0b-8761-0f2a1790a2c9"
      },
      "source": [
        "**Reference**\n",
        "\n",
        "[Understanding and Coding the Self-Attention Mechanism of Large Language Models From Scratch](https://sebastianraschka.com/blog/2023/self-attention-from-scratch.html)\n"
      ]
    },
    {
      "cell_type": "markdown",
      "source": [
        "##Setup"
      ],
      "metadata": {
        "id": "kywwhUORWSgA"
      },
      "id": "kywwhUORWSgA"
    },
    {
      "cell_type": "code",
      "source": [
        "!pip install datasets\n",
        "!pip install torch torchvision torchaudio\n",
        "!pip install lightning\n",
        "!pip install torchmetrics\n",
        "!pip install mlxtend==0.21.0"
      ],
      "metadata": {
        "id": "n2lamnQBWXEG"
      },
      "id": "n2lamnQBWXEG",
      "execution_count": null,
      "outputs": []
    },
    {
      "cell_type": "code",
      "source": [
        "%%shell\n",
        "\n",
        "wget https://github.com/Lightning-AI/dl-fundamentals/raw/main/unit08-large-language-models/8.2-bag-of-words/local_utilities.py\n",
        "wget https://github.com/Lightning-AI/dl-fundamentals/raw/main/unit08-large-language-models/8.2-bag-of-words/local_dataset_utilities.py"
      ],
      "metadata": {
        "id": "XOPB24z8We4c"
      },
      "id": "XOPB24z8We4c",
      "execution_count": null,
      "outputs": []
    },
    {
      "cell_type": "code",
      "execution_count": null,
      "id": "c26e275e-fce8-436e-a77a-bf3a95f31e3d",
      "metadata": {
        "id": "c26e275e-fce8-436e-a77a-bf3a95f31e3d"
      },
      "outputs": [],
      "source": [
        "import os.path as op\n",
        "\n",
        "import lightning as L\n",
        "from lightning.pytorch.loggers import CSVLogger\n",
        "from lightning.pytorch.callbacks import ModelCheckpoint"
      ]
    },
    {
      "cell_type": "code",
      "source": [
        "import numpy as np\n",
        "import pandas as pd\n",
        "import torch\n",
        "\n",
        "from sklearn.feature_extraction.text import CountVectorizer\n",
        "from torch.utils.data import Dataset, DataLoader"
      ],
      "metadata": {
        "id": "YcGxibJO0wM8"
      },
      "id": "YcGxibJO0wM8",
      "execution_count": 3,
      "outputs": []
    },
    {
      "cell_type": "code",
      "source": [
        "!mkdir logs"
      ],
      "metadata": {
        "id": "HvU8IPKScGFj"
      },
      "id": "HvU8IPKScGFj",
      "execution_count": null,
      "outputs": []
    },
    {
      "cell_type": "markdown",
      "id": "d98f84c6-761a-46cb-a566-ce98779dfb90",
      "metadata": {
        "id": "d98f84c6-761a-46cb-a566-ce98779dfb90"
      },
      "source": [
        "## 1) Embedding Input Sentence"
      ]
    },
    {
      "cell_type": "code",
      "execution_count": 2,
      "id": "cd96d52b-94bd-4554-9a8c-ff9af76e09a8",
      "metadata": {
        "id": "cd96d52b-94bd-4554-9a8c-ff9af76e09a8",
        "colab": {
          "base_uri": "https://localhost:8080/"
        },
        "outputId": "101014f0-b3cd-4168-8721-2d198de5abf3"
      },
      "outputs": [
        {
          "output_type": "execute_result",
          "data": {
            "text/plain": [
              "{'Life': 0, 'dessert': 1, 'eat': 2, 'first': 3, 'is': 4, 'short': 5}"
            ]
          },
          "metadata": {},
          "execution_count": 2
        }
      ],
      "source": [
        "sentence = \"Life is short, eat dessert first\"\n",
        "\n",
        "# create vocab\n",
        "vocab = {w: i for i, w in enumerate(sorted(sentence.replace(\",\", \"\").split()))}\n",
        "vocab"
      ]
    },
    {
      "cell_type": "code",
      "source": [
        "# let's make integer-vector representation\n",
        "sentence_vec = torch.tensor([vocab[w] for w in sentence.replace(\",\", \"\").split()])\n",
        "sentence_vec"
      ],
      "metadata": {
        "id": "-vCUMM0OYA5k",
        "outputId": "c15421f1-8d14-4bfd-83d1-d8a70c3480ed",
        "colab": {
          "base_uri": "https://localhost:8080/"
        }
      },
      "id": "-vCUMM0OYA5k",
      "execution_count": 4,
      "outputs": [
        {
          "output_type": "execute_result",
          "data": {
            "text/plain": [
              "tensor([0, 4, 5, 2, 1, 3])"
            ]
          },
          "metadata": {},
          "execution_count": 4
        }
      ]
    },
    {
      "cell_type": "code",
      "execution_count": 6,
      "id": "0ec41419-b265-45f9-b1c9-f56aba6fe2f1",
      "metadata": {
        "id": "0ec41419-b265-45f9-b1c9-f56aba6fe2f1",
        "colab": {
          "base_uri": "https://localhost:8080/"
        },
        "outputId": "1c350bb7-fdd6-4d09-be2c-1586ee018663"
      },
      "outputs": [
        {
          "output_type": "stream",
          "name": "stdout",
          "text": [
            "torch.Size([6, 16])\n",
            "tensor([[ 0.3374, -0.1778, -0.3035, -0.5880,  0.3486,  0.6603, -0.2196, -0.3792,\n",
            "          0.7671, -1.1925,  0.6984, -1.4097,  0.1794,  1.8951,  0.4954,  0.2692],\n",
            "        [ 0.5146,  0.9938, -0.2587, -1.0826, -0.0444,  1.6236, -2.3229,  1.0878,\n",
            "          0.6716,  0.6933, -0.9487, -0.0765, -0.1526,  0.1167,  0.4403, -1.4465],\n",
            "        [ 0.2553, -0.5496,  1.0042,  0.8272, -0.3948,  0.4892, -0.2168, -1.7472,\n",
            "         -1.6025, -1.0764,  0.9031, -0.7218, -0.5951, -0.7112,  0.6230, -1.3729],\n",
            "        [-1.3250,  0.1784, -2.1338,  1.0524, -0.3885, -0.9343, -0.4991, -1.0867,\n",
            "          0.8805,  1.5542,  0.6266, -0.1755,  0.0983, -0.0935,  0.2662, -0.5850],\n",
            "        [-0.0770, -1.0205, -0.1690,  0.9178,  1.5810,  1.3010,  1.2753, -0.2010,\n",
            "          0.4965, -1.5723,  0.9666, -1.1481, -1.1589,  0.3255, -0.6315, -2.8400],\n",
            "        [ 0.8768,  1.6221, -1.4779,  1.1331, -1.2203,  1.3139,  1.0533,  0.1388,\n",
            "          2.2473, -0.8036, -0.2808,  0.7697, -0.6596, -0.7979,  0.1838,  0.2293]])\n"
          ]
        }
      ],
      "source": [
        "torch.manual_seed(123)\n",
        "\n",
        "# let's embed this integer-vector representation\n",
        "embedding = torch.nn.Embedding(6, 16)\n",
        "embedded_sentence = embedding(sentence_vec).detach()\n",
        "\n",
        "print(embedded_sentence.shape)\n",
        "print(embedded_sentence)"
      ]
    },
    {
      "cell_type": "markdown",
      "id": "b01ee00f-6ac3-40c5-85d2-f5f43566d9a7",
      "metadata": {
        "id": "b01ee00f-6ac3-40c5-85d2-f5f43566d9a7"
      },
      "source": [
        "## 2)  Weight Matrices"
      ]
    },
    {
      "cell_type": "code",
      "source": [],
      "metadata": {
        "id": "itTmD8VVZweC",
        "outputId": "5a2f9de1-534c-4f97-82bc-ed1fadbf7a77",
        "colab": {
          "base_uri": "https://localhost:8080/"
        }
      },
      "id": "itTmD8VVZweC",
      "execution_count": null,
      "outputs": [
        {
          "output_type": "execute_result",
          "data": {
            "text/plain": [
              "35000"
            ]
          },
          "metadata": {},
          "execution_count": 18
        }
      ]
    },
    {
      "cell_type": "code",
      "source": [
        "len(cv.vocabulary_)"
      ],
      "metadata": {
        "id": "5SLyXO8CZqVW",
        "outputId": "7594f90a-6068-4027-8fc9-3dcdb5934309",
        "colab": {
          "base_uri": "https://localhost:8080/"
        }
      },
      "id": "5SLyXO8CZqVW",
      "execution_count": null,
      "outputs": [
        {
          "output_type": "execute_result",
          "data": {
            "text/plain": [
              "10000"
            ]
          },
          "metadata": {},
          "execution_count": 16
        }
      ]
    },
    {
      "cell_type": "code",
      "execution_count": null,
      "id": "06fd1820-bcd6-41a9-b777-3f5821338d4b",
      "metadata": {
        "id": "06fd1820-bcd6-41a9-b777-3f5821338d4b",
        "outputId": "44aa13a9-65b5-459a-886d-c09b17f5a469",
        "colab": {
          "base_uri": "https://localhost:8080/"
        }
      },
      "outputs": [
        {
          "output_type": "execute_result",
          "data": {
            "text/plain": [
              "{'started': 8515,\n",
              " 'watching': 9725,\n",
              " 'series': 7957,\n",
              " 'cable': 1320,\n",
              " 'idea': 4488,\n",
              " 'hate': 4191,\n",
              " 'character': 1544,\n",
              " 'hold': 4339,\n",
              " 'beautifully': 892,\n",
              " 'developed': 2574,\n",
              " 'understand': 9375,\n",
              " 'react': 7196,\n",
              " 'frustration': 3737,\n",
              " 'fear': 3439,\n",
              " 'greed': 4020,\n",
              " 'temptation': 8974,\n",
              " 'way': 9736,\n",
              " 'viewer': 9574,\n",
              " 'experiencing': 3280,\n",
              " 'christopher': 1656,\n",
              " 'learning': 5199,\n",
              " 'br': 1151,\n",
              " 'abuse': 188,\n",
              " 'physically': 6608,\n",
              " 'emotionally': 3046,\n",
              " 'just': 4963,\n",
              " 'read': 7199,\n",
              " 'newspaper': 6088,\n",
              " 'women': 9880,\n",
              " 'tolerate': 9134,\n",
              " 'behavior': 915,\n",
              " 'dream': 2831,\n",
              " 'house': 4418,\n",
              " 'endless': 3074,\n",
              " 'supply': 8779,\n",
              " 'expensive': 3276,\n",
              " 'things': 9036,\n",
              " 'sure': 8791,\n",
              " 'loving': 5426,\n",
              " 'faithful': 3371,\n",
              " 'husband': 4465,\n",
              " 'maybe': 5640,\n",
              " 'watch': 9719,\n",
              " 'doesn': 2754,\n",
              " 'matter': 5630,\n",
              " 'times': 9104,\n",
              " 'episode': 3140,\n",
              " 'missed': 5813,\n",
              " 'episodes': 3141,\n",
              " 'sequence': 7950,\n",
              " 'season': 7869,\n",
              " 'late': 5151,\n",
              " 'night': 6101,\n",
              " 'commercials': 1874,\n",
              " 'language': 5133,\n",
              " 'reruns': 7427,\n",
              " 'movie': 5938,\n",
              " 'network': 6077,\n",
              " 've': 9529,\n",
              " 'totally': 9171,\n",
              " 'spoiled': 8437,\n",
              " 'love': 5420,\n",
              " 'neck': 6044,\n",
              " 'favorite': 3431,\n",
              " 'johnny': 4906,\n",
              " 'boy': 1144,\n",
              " 'entered': 3112,\n",
              " 'family': 3386,\n",
              " 'sign': 8134,\n",
              " 'life': 5270,\n",
              " 'ends': 3076,\n",
              " 'collected': 1816,\n",
              " 'dvd': 2910,\n",
              " 'collection': 1818,\n",
              " 'steve': 8566,\n",
              " 'biko': 984,\n",
              " 'black': 1014,\n",
              " 'tried': 9269,\n",
              " 'resist': 7440,\n",
              " 'white': 9800,\n",
              " 'minority': 5793,\n",
              " 'south': 8365,\n",
              " 'africa': 322,\n",
              " 'gandhi': 3787,\n",
              " 'british': 1209,\n",
              " 'empire': 3054,\n",
              " 'india': 4604,\n",
              " 'richard': 7523,\n",
              " 'attenborough': 701,\n",
              " 'film': 3509,\n",
              " 'freedom': 3707,\n",
              " 'donald': 2773,\n",
              " 'woods': 9894,\n",
              " 'liberal': 5260,\n",
              " 'editor': 2967,\n",
              " 'trying': 9302,\n",
              " 'tell': 8966,\n",
              " 'story': 8605,\n",
              " 'jarring': 4858,\n",
              " 'point': 6709,\n",
              " 'view': 9572,\n",
              " 'switch': 8855,\n",
              " 'dies': 2609,\n",
              " 'prison': 6908,\n",
              " 'hands': 4136,\n",
              " 'african': 323,\n",
              " 'police': 6725,\n",
              " 'played': 6677,\n",
              " 'kevin': 5007,\n",
              " 'kline': 5057,\n",
              " 'choose': 1632,\n",
              " 'right': 7544,\n",
              " 'thing': 9035,\n",
              " 'flee': 3575,\n",
              " 'country': 2133,\n",
              " 'books': 1102,\n",
              " 'allow': 405,\n",
              " 'wife': 9816,\n",
              " 'penelope': 6526,\n",
              " 'pressure': 6873,\n",
              " 'forgetting': 3650,\n",
              " 'case': 1443,\n",
              " 'vain': 9499,\n",
              " 'begins': 908,\n",
              " 'changing': 1535,\n",
              " 'friendship': 3723,\n",
              " 'standard': 8495,\n",
              " 'numbers': 6182,\n",
              " 'escape': 3162,\n",
              " 'border': 1109,\n",
              " 'yarn': 9958,\n",
              " 'death': 2390,\n",
              " 'oscar': 6320,\n",
              " 'nominated': 6124,\n",
              " 'denzel': 2497,\n",
              " 'washington': 9713,\n",
              " 'good': 3942,\n",
              " 'fourth': 3675,\n",
              " 'wrong': 9944,\n",
              " 'tries': 9271,\n",
              " 'depict': 2505,\n",
              " 'struggles': 8653,\n",
              " 'focusing': 3610,\n",
              " 'trials': 9261,\n",
              " 'half': 4117,\n",
              " 'served': 7963,\n",
              " 'topic': 9155,\n",
              " 'better': 965,\n",
              " 'rise': 7561,\n",
              " 'instead': 4695,\n",
              " 'beginning': 907,\n",
              " 'actor': 241,\n",
              " 'leading': 5190,\n",
              " 'role': 7609,\n",
              " 'hour': 4416,\n",
              " 'wasn': 9714,\n",
              " 'exactly': 3220,\n",
              " 'big': 975,\n",
              " 'box': 1140,\n",
              " 'office': 6244,\n",
              " 'tremendous': 9255,\n",
              " 'flop': 3594,\n",
              " 'politics': 6736,\n",
              " 'aside': 639,\n",
              " 'entertains': 3121,\n",
              " 'sends': 7922,\n",
              " 'message': 5722,\n",
              " 'albeit': 372,\n",
              " 'pg': 6580,\n",
              " 'fashion': 3412,\n",
              " 'stars': 8512,\n",
              " 'short': 8087,\n",
              " 'comment': 1866,\n",
              " 'flick': 3583,\n",
              " 'pick': 6613,\n",
              " 'chances': 1529,\n",
              " 'going': 3930,\n",
              " 'positively': 6779,\n",
              " 'surprised': 8801,\n",
              " 'diversity': 2732,\n",
              " 'elements': 3010,\n",
              " 'superbly': 8768,\n",
              " 'explored': 3304,\n",
              " 'criminal': 2209,\n",
              " 'thriller': 9066,\n",
              " 'claiming': 1697,\n",
              " 'pushing': 7062,\n",
              " 'room': 7630,\n",
              " 'possible': 6788,\n",
              " 'wont': 9890,\n",
              " 'push': 7059,\n",
              " 'nerves': 6071,\n",
              " 'edge': 2957,\n",
              " 'thumbs': 9081,\n",
              " 'horror': 4403,\n",
              " 'fan': 3388,\n",
              " 'certain': 1509,\n",
              " 'marketing': 5572,\n",
              " 'used': 9480,\n",
              " 'sell': 7910,\n",
              " 'movies': 5940,\n",
              " 'especially': 3166,\n",
              " 'really': 7222,\n",
              " 'bad': 789,\n",
              " 'ones': 6268,\n",
              " 'wouldn': 9922,\n",
              " 'assumed': 667,\n",
              " 'ripping': 7559,\n",
              " 'cannibal': 1365,\n",
              " 'zombi': 9993,\n",
              " 'jungle': 4957,\n",
              " 'holocaust': 4352,\n",
              " 'unfortunately': 9405,\n",
              " 'completely': 1916,\n",
              " 'hardcore': 4160,\n",
              " 'realized': 7219,\n",
              " 'saw': 7777,\n",
              " 'odd': 6229,\n",
              " 'actual': 246,\n",
              " 'minor': 5792,\n",
              " 'warning': 9701,\n",
              " 'notice': 6156,\n",
              " 'daring': 2344,\n",
              " 'catch': 1461,\n",
              " 'group': 4057,\n",
              " 'scientists': 7822,\n",
              " 'pretty': 6880,\n",
              " 'led': 5207,\n",
              " 'sea': 7858,\n",
              " 'captain': 1383,\n",
              " 'penchant': 6525,\n",
              " 'beach': 876,\n",
              " 'search': 7864,\n",
              " 'mutated': 5982,\n",
              " 'native': 6021,\n",
              " 'killing': 5029,\n",
              " 'villagers': 9586,\n",
              " 'nuclear': 6178,\n",
              " 'bomb': 1084,\n",
              " 'supposedly': 8788,\n",
              " 'island': 4814,\n",
              " 'radiation': 7113,\n",
              " 'turned': 9315,\n",
              " 'man': 5521,\n",
              " 'rapist': 7170,\n",
              " 'killer': 5027,\n",
              " 'writer': 9939,\n",
              " 'george': 3845,\n",
              " 'succeeds': 8717,\n",
              " 'keeping': 4994,\n",
              " 'clothes': 1767,\n",
              " 'sex': 7984,\n",
              " 'scenes': 7802,\n",
              " 'whacked': 9787,\n",
              " 'walk': 9661,\n",
              " 'nude': 6179,\n",
              " 'strange': 8613,\n",
              " 'asks': 643,\n",
              " 'rape': 7164,\n",
              " 'turns': 9318,\n",
              " 'chicks': 1610,\n",
              " 'slapping': 8222,\n",
              " 'naturally': 6024,\n",
              " 'scene': 7800,\n",
              " 'chick': 1608,\n",
              " 'toss': 9168,\n",
              " 'finger': 3530,\n",
              " 'know': 5071,\n",
              " 'rest': 7458,\n",
              " 'insane': 4667,\n",
              " 'oh': 6251,\n",
              " 'kidding': 5017,\n",
              " 'ton': 9140,\n",
              " 'like': 5287,\n",
              " 'pays': 6507,\n",
              " 'guys': 4095,\n",
              " 'tag': 8887,\n",
              " 'team': 8940,\n",
              " 'taking': 8894,\n",
              " 'use': 9479,\n",
              " 'cuts': 2293,\n",
              " 'refuses': 7296,\n",
              " 'advances': 295,\n",
              " 'starts': 8519,\n",
              " 'crying': 2254,\n",
              " 'gentleman': 3839,\n",
              " 'reluctantly': 7349,\n",
              " 'lets': 5248,\n",
              " 'pleasure': 6688,\n",
              " 'crew': 2204,\n",
              " 'members': 5690,\n",
              " 'honestly': 4368,\n",
              " 'waiting': 9655,\n",
              " 'pizza': 6649,\n",
              " 'guy': 4094,\n",
              " 'ask': 640,\n",
              " 'pay': 6503,\n",
              " 'happens': 4152,\n",
              " 'conduct': 1953,\n",
              " 'research': 7431,\n",
              " 'wait': 9653,\n",
              " 'thought': 9050,\n",
              " 'zombie': 9994,\n",
              " 'enter': 3111,\n",
              " 'mark': 5568,\n",
              " 'time': 9101,\n",
              " 'plenty': 6690,\n",
              " 'hitting': 4330,\n",
              " 'fast': 3416,\n",
              " 'forward': 3670,\n",
              " 'splatter': 8430,\n",
              " 'porn': 6756,\n",
              " 'don': 2772,\n",
              " 'think': 9037,\n",
              " 'does': 2753,\n",
              " 'justice': 4964,\n",
              " 'guess': 4072,\n",
              " 'woman': 9879,\n",
              " 'talking': 8905,\n",
              " 'say': 7779,\n",
              " 'plot': 6694,\n",
              " 'hairy': 4114,\n",
              " 'funny': 3759,\n",
              " 'worked': 9900,\n",
              " 'decent': 2404,\n",
              " 'atomic': 687,\n",
              " 'bombing': 1086,\n",
              " 'bitter': 1011,\n",
              " 'shakes': 8006,\n",
              " 'head': 4213,\n",
              " 'walks': 9666,\n",
              " 'away': 758,\n",
              " 'couple': 2138,\n",
              " 'makes': 5510,\n",
              " 'wonder': 9882,\n",
              " 'disgusted': 2693,\n",
              " 'feel': 3454,\n",
              " 'sound': 8355,\n",
              " 'quality': 7073,\n",
              " 'guessed': 4073,\n",
              " 'production': 6929,\n",
              " 'shot': 8092,\n",
              " 'including': 4587,\n",
              " 'erotic': 3157,\n",
              " 'nights': 6106,\n",
              " 'living': 5344,\n",
              " 'dead': 2377,\n",
              " 'sports': 8450,\n",
              " 'cast': 1453,\n",
              " 'said': 7716,\n",
              " 'wanted': 9685,\n",
              " 'vacation': 9495,\n",
              " 'paycheck': 6504,\n",
              " 'suddenly': 8728,\n",
              " 'weird': 9767,\n",
              " 'speaking': 8388,\n",
              " 'italian': 4824,\n",
              " 'recorded': 7255,\n",
              " 'english': 3092,\n",
              " 'dialogue': 2591,\n",
              " 'people': 6532,\n",
              " 'clearly': 1724,\n",
              " 'hear': 4223,\n",
              " 'background': 781,\n",
              " 'yes': 9970,\n",
              " 'wonderful': 9884,\n",
              " 'slightly': 8248,\n",
              " 'amusing': 454,\n",
              " 'score': 7827,\n",
              " 'couldn': 2124,\n",
              " 'save': 7772,\n",
              " 'sfx': 7992,\n",
              " 'minimal': 5785,\n",
              " 'best': 959,\n",
              " 'consisted': 2006,\n",
              " 'blood': 1050,\n",
              " 'violent': 9596,\n",
              " 'bright': 1199,\n",
              " 'label': 5099,\n",
              " 'cover': 2150,\n",
              " 'ploy': 6698,\n",
              " 'presented': 6865,\n",
              " 'widescreen': 9810,\n",
              " '85': 153,\n",
              " 'aspect': 645,\n",
              " 'ratio': 7181,\n",
              " 'watched': 9721,\n",
              " 'region': 7304,\n",
              " 'rated': 7176,\n",
              " 'version': 9549,\n",
              " 'running': 7683,\n",
              " 'released': 7334,\n",
              " '2005': 104,\n",
              " 'exploitation': 3298,\n",
              " 'digital': 2623,\n",
              " 'apparently': 538,\n",
              " 'doubt': 2790,\n",
              " 'different': 2616,\n",
              " 'shouldn': 8097,\n",
              " '25': 116,\n",
              " '00': 0,\n",
              " 'copy': 2094,\n",
              " 'recommend': 7250,\n",
              " 'pretend': 6876,\n",
              " 'exist': 3256,\n",
              " 'quote': 7098,\n",
              " 'civilians': 1691,\n",
              " 'luck': 5441,\n",
              " 'monsters': 5879,\n",
              " 'extras': 3331,\n",
              " 'original': 6311,\n",
              " 'trailer': 9204,\n",
              " 'shots': 8094,\n",
              " 'kills': 5032,\n",
              " 'make': 5507,\n",
              " 'look': 5387,\n",
              " 'interesting': 4733,\n",
              " 'trailers': 9205,\n",
              " 'ss': 8467,\n",
              " 'hell': 4251,\n",
              " 'camp': 1346,\n",
              " 'informative': 4642,\n",
              " 'interview': 4750,\n",
              " 'line': 5308,\n",
              " 'lame': 5119,\n",
              " 'porno': 6757,\n",
              " 'weaker': 9741,\n",
              " 'real': 7207,\n",
              " 'rating': 7179,\n",
              " '10': 3,\n",
              " 'molly': 5856,\n",
              " 'www': 9954,\n",
              " 'com': 1836,\n",
              " 'robert': 7588,\n",
              " 'cummings': 2268,\n",
              " 'day': 2371,\n",
              " 'jean': 4866,\n",
              " 'star': 8503,\n",
              " 'beautiful': 891,\n",
              " '1940': 31,\n",
              " 'starring': 8511,\n",
              " 'billie': 986,\n",
              " 'burke': 1282,\n",
              " '15': 12,\n",
              " 'minutes': 5797,\n",
              " 'looks': 5390,\n",
              " 'playboy': 6676,\n",
              " 'desire': 2541,\n",
              " 'sisters': 8181,\n",
              " 'katherine': 4982,\n",
              " 'helen': 4248,\n",
              " 'likes': 5291,\n",
              " 'fix': 3554,\n",
              " 'cars': 1435,\n",
              " 'blonde': 1048,\n",
              " 'social': 8302,\n",
              " 'butterfly': 1307,\n",
              " 'arrives': 612,\n",
              " 'town': 9182,\n",
              " 'believing': 930,\n",
              " 'party': 6464,\n",
              " 'decides': 2409,\n",
              " 'attend': 702,\n",
              " 'given': 3892,\n",
              " 'friend': 3720,\n",
              " 'mother': 5916,\n",
              " 'dress': 2837,\n",
              " 'connect': 1976,\n",
              " 'sees': 7899,\n",
              " 'dinner': 2634,\n",
              " 'left': 5210,\n",
              " 'club': 1772,\n",
              " 'terribly': 8995,\n",
              " 'drunk': 2869,\n",
              " 'ride': 7533,\n",
              " 'car': 1391,\n",
              " 'won': 9881,\n",
              " 'let': 5245,\n",
              " 'drive': 2851,\n",
              " 'walking': 9665,\n",
              " 'awhile': 764,\n",
              " 'breaking': 1175,\n",
              " 'shoe': 8077,\n",
              " 'gets': 3859,\n",
              " 'drives': 2856,\n",
              " 'passes': 6472,\n",
              " 'takes': 8893,\n",
              " 'wheel': 9791,\n",
              " 'accidentally': 206,\n",
              " 'remember': 7364,\n",
              " 'blame': 1021,\n",
              " 'sister': 8180,\n",
              " 'shoes': 8078,\n",
              " 'plus': 6701,\n",
              " 'manner': 5540,\n",
              " 'realize': 7218,\n",
              " 'isn': 4816,\n",
              " 'telling': 8967,\n",
              " 'truth': 9298,\n",
              " 'convicted': 2071,\n",
              " 'goes': 3929,\n",
              " 'marries': 5580,\n",
              " 'leaves': 5204,\n",
              " 'america': 439,\n",
              " 'list': 5325,\n",
              " 'playing': 6681,\n",
              " 'taylor': 8932,\n",
              " 'mgm': 5737,\n",
              " 'handsome': 4137,\n",
              " 'amiable': 442,\n",
              " 'dazzling': 2375,\n",
              " 'actress': 243,\n",
              " 'constantly': 2014,\n",
              " 'didn': 2603,\n",
              " 'great': 4013,\n",
              " 'face': 3343,\n",
              " 'voice': 9626,\n",
              " 'determined': 2569,\n",
              " 'sympathetic': 8871,\n",
              " 'lovely': 5422,\n",
              " 'lousy': 5418,\n",
              " 'highly': 4296,\n",
              " 'recommended': 7252,\n",
              " 'little': 5337,\n",
              " 'gem': 3819,\n",
              " 'dark': 2345,\n",
              " 'overlooked': 6359,\n",
              " 'known': 5074,\n",
              " 'early': 2927,\n",
              " '80': 151,\n",
              " 'deserves': 2535,\n",
              " 'audience': 717,\n",
              " 'damn': 2320,\n",
              " 'shame': 8013,\n",
              " 'seen': 7898,\n",
              " 'compared': 1893,\n",
              " 'gotten': 3965,\n",
              " 'bigger': 977,\n",
              " 'years': 9964,\n",
              " 'notably': 6150,\n",
              " 'comparisons': 1897,\n",
              " 'bit': 1003,\n",
              " 'similar': 8147,\n",
              " 'slipped': 8252,\n",
              " 'acceptance': 198,\n",
              " 'remake': 7358,\n",
              " 'breathe': 1181,\n",
              " 'new': 6082,\n",
              " 'unless': 9426,\n",
              " 'drained': 2816,\n",
              " 'remakes': 7359,\n",
              " 'days': 2373,\n",
              " 'work': 9899,\n",
              " 'lesser': 5240,\n",
              " 'films': 3516,\n",
              " 'awful': 761,\n",
              " 'ghost': 3863,\n",
              " 'ship': 8064,\n",
              " 'opening': 6275,\n",
              " 'falling': 3377,\n",
              " 'utter': 9492,\n",
              " 'crap': 2169,\n",
              " 'happen': 4148,\n",
              " 'fall': 3375,\n",
              " 'lot': 5410,\n",
              " 'haven': 4201,\n",
              " 'bring': 1204,\n",
              " 'course': 2143,\n",
              " 'got': 3961,\n",
              " 'eyes': 3338,\n",
              " 'anyways': 526,\n",
              " 'fans': 3392,\n",
              " 'cause': 1474,\n",
              " 'creepy': 2203,\n",
              " 'setting': 7972,\n",
              " 'fairly': 3367,\n",
              " 'acting': 234,\n",
              " 'campy': 1354,\n",
              " 'want': 9684,\n",
              " 'nudity': 6180,\n",
              " 'gore': 3954,\n",
              " 'sorry': 8347,\n",
              " 'nonetheless': 6128,\n",
              " 'solid': 8315,\n",
              " 'enjoy': 3099,\n",
              " 'grave': 4006,\n",
              " 'robber': 7583,\n",
              " 'sitting': 8188,\n",
              " 'cell': 1491,\n",
              " 'awaiting': 750,\n",
              " 'execution': 3251,\n",
              " 'visited': 9612,\n",
              " 'monk': 5868,\n",
              " 'wishing': 9860,\n",
              " 'words': 9897,\n",
              " 'horrible': 4397,\n",
              " 'lead': 5187,\n",
              " 'reluctant': 7348,\n",
              " 'tongue': 9144,\n",
              " 'drink': 2847,\n",
              " 'young': 9975,\n",
              " 'soon': 8334,\n",
              " 'undead': 9366,\n",
              " 'bump': 1275,\n",
              " 'york': 9974,\n",
              " 'filmed': 3510,\n",
              " 'brought': 1228,\n",
              " 'spirit': 8424,\n",
              " 'andy': 467,\n",
              " 'milligan': 5769,\n",
              " 'lurking': 5457,\n",
              " 'comedies': 1850,\n",
              " 'come': 1845,\n",
              " 'rate': 7175,\n",
              " 'dominic': 2770,\n",
              " 'plays': 6682,\n",
              " 'arthur': 619,\n",
              " 'blake': 1020,\n",
              " 'ron': 7626,\n",
              " 'father': 3423,\n",
              " 'statement': 8523,\n",
              " 'getting': 3860,\n",
              " 'involved': 4786,\n",
              " 'tale': 8896,\n",
              " 'men': 5695,\n",
              " 'having': 4202,\n",
              " 'grand': 3985,\n",
              " 'old': 6256,\n",
              " 'shows': 8109,\n",
              " 'equally': 3145,\n",
              " 'music': 5972,\n",
              " 'jeff': 4869,\n",
              " 'grace': 3972,\n",
              " 'excellent': 3230,\n",
              " 'effects': 2979,\n",
              " 'perfect': 6539,\n",
              " 'sort': 8348,\n",
              " 'silliness': 8143,\n",
              " 'deal': 2381,\n",
              " 'fun': 3747,\n",
              " 'trouble': 9288,\n",
              " 'throws': 9076,\n",
              " 'net': 6075,\n",
              " 'wide': 9807,\n",
              " 'result': 7465,\n",
              " 'needed': 6047,\n",
              " 'alien': 389,\n",
              " 'body': 1075,\n",
              " 'mix': 5830,\n",
              " 'theaters': 9018,\n",
              " 'later': 5153,\n",
              " 'll': 5347,\n",
              " 'worth': 9918,\n",
              " 'liked': 5289,\n",
              " 'script': 7851,\n",
              " 'changed': 1533,\n",
              " 'reason': 7225,\n",
              " 'rodney': 7603,\n",
              " 'dangerfield': 2334,\n",
              " 'jackie': 4837,\n",
              " 'mason': 5605,\n",
              " 'did': 2602,\n",
              " 'alot': 413,\n",
              " 'kept': 5004,\n",
              " 'flaw': 3571,\n",
              " 'dan': 2324,\n",
              " 'murray': 5968,\n",
              " 'carl': 1411,\n",
              " 'quit': 7096,\n",
              " 'job': 4898,\n",
              " 'assistant': 659,\n",
              " 'joined': 4909,\n",
              " 'military': 5764,\n",
              " 'warner': 9700,\n",
              " 'bros': 1224,\n",
              " 'ii': 4509,\n",
              " 'try': 9301,\n",
              " 'seeing': 7893,\n",
              " 'possibly': 6789,\n",
              " 'disappointed': 2662,\n",
              " 'fact': 3349,\n",
              " 'director': 2646,\n",
              " 'cube': 2260,\n",
              " 'comedy': 1851,\n",
              " 'imdb': 4531,\n",
              " 'spell': 8405,\n",
              " 'word': 9896,\n",
              " 'reminiscent': 7373,\n",
              " 'builds': 1263,\n",
              " 'slowly': 8258,\n",
              " 'gradually': 3976,\n",
              " 'explanation': 3291,\n",
              " 'mainly': 5500,\n",
              " 'set': 7970,\n",
              " 'respects': 7452,\n",
              " 'probably': 6915,\n",
              " 'commented': 1870,\n",
              " 'masterpiece': 5614,\n",
              " 'spanish': 8378,\n",
              " 'cinema': 1673,\n",
              " 'masters': 5616,\n",
              " 'piece': 6623,\n",
              " 'long': 5383,\n",
              " 'ago': 338,\n",
              " 'midnight': 5753,\n",
              " 'cowboy': 2158,\n",
              " 'les': 5236,\n",
              " 'du': 2872,\n",
              " 'realistic': 7213,\n",
              " 'non': 6127,\n",
              " 'spot': 8451,\n",
              " 'trainspotting': 9210,\n",
              " 'hard': 4159,\n",
              " 'place': 6650,\n",
              " 'humour': 4446,\n",
              " 'obviously': 6214,\n",
              " 'dramatic': 2820,\n",
              " 'sense': 7926,\n",
              " 'diamond': 2593,\n",
              " 'resurrection': 7470,\n",
              " 'neo': 6064,\n",
              " 'realism': 7211,\n",
              " 'mixed': 5831,\n",
              " 'ken': 4999,\n",
              " 'discover': 2677,\n",
              " 'modern': 5849,\n",
              " 'tv': 9320,\n",
              " 'classic': 1709,\n",
              " 'bob': 1072,\n",
              " 'girlfriend': 3889,\n",
              " 'named': 6003,\n",
              " 'alicia': 388,\n",
              " 'married': 5579,\n",
              " 'bud': 1247,\n",
              " 'owen': 6375,\n",
              " 'works': 9904,\n",
              " 'jealous': 4864,\n",
              " 'hanging': 4140,\n",
              " 'hangs': 4141,\n",
              " 'secretary': 7881,\n",
              " 'heather': 4237,\n",
              " 'accident': 204,\n",
              " 'prone': 6970,\n",
              " 'kind': 5035,\n",
              " 'lonely': 5380,\n",
              " 'wishes': 9859,\n",
              " 'friends': 3722,\n",
              " 'end': 3069,\n",
              " 'looked': 5388,\n",
              " 'finally': 3521,\n",
              " 'went': 9776,\n",
              " 'driving': 2857,\n",
              " 'wedding': 9759,\n",
              " 'making': 5512,\n",
              " 'tiny': 9110,\n",
              " 'stuck': 8658,\n",
              " 'middle': 5750,\n",
              " 'happened': 4149,\n",
              " 'poor': 6744,\n",
              " 'ended': 3071,\n",
              " 'guide': 4078,\n",
              " 'fox': 3676,\n",
              " 'twice': 9323,\n",
              " 'putting': 7064,\n",
              " 'air': 356,\n",
              " 'loved': 5421,\n",
              " 'cool': 2082,\n",
              " 'glasses': 3901,\n",
              " 'hilarious': 4298,\n",
              " 'miss': 5812,\n",
              " 'reading': 7203,\n",
              " 'book': 1101,\n",
              " 'ending': 3072,\n",
              " 'missing': 5817,\n",
              " 'sad': 7707,\n",
              " 'treatment': 9250,\n",
              " 'subject': 8692,\n",
              " 'quite': 7097,\n",
              " 'controversial': 2055,\n",
              " 'comments': 1872,\n",
              " 'distinction': 2712,\n",
              " 'based': 845,\n",
              " 'believe': 926,\n",
              " 'portrayed': 6768,\n",
              " 'basically': 850,\n",
              " 'sequels': 7949,\n",
              " '30': 122,\n",
              " 'values': 9507,\n",
              " 'plan': 6658,\n",
              " 'outer': 6331,\n",
              " 'space': 8370,\n",
              " 'level': 5253,\n",
              " 'glen': 3902,\n",
              " 'glenda': 3903,\n",
              " 'ed': 2954,\n",
              " 'wood': 9892,\n",
              " 'religious': 7347,\n",
              " 'scary': 7796,\n",
              " 'add': 257,\n",
              " 'slightest': 8247,\n",
              " 'actually': 247,\n",
              " 'close': 1758,\n",
              " 'future': 3766,\n",
              " 'scarier': 7791,\n",
              " 'reasons': 7229,\n",
              " 'code': 1792,\n",
              " 'thief': 9033,\n",
              " 'explain': 3287,\n",
              " 'east': 2938,\n",
              " 'effect': 2976,\n",
              " 'happening': 4150,\n",
              " 'forget': 3647,\n",
              " 'stories': 8603,\n",
              " 'told': 9131,\n",
              " 'god': 3921,\n",
              " 'frightening': 3727,\n",
              " 'wild': 9818,\n",
              " 'rebels': 7234,\n",
              " 'frustrating': 3736,\n",
              " 'deals': 2385,\n",
              " 'race': 7104,\n",
              " 'driver': 2854,\n",
              " 'bikers': 982,\n",
              " 'called': 1331,\n",
              " 'satan': 7759,\n",
              " 'angels': 473,\n",
              " 'hang': 4139,\n",
              " 'decide': 2406,\n",
              " 'rob': 7581,\n",
              " 'bank': 818,\n",
              " 'cops': 2093,\n",
              " 'report': 7406,\n",
              " 'dated': 2360,\n",
              " 'carry': 1433,\n",
              " 'significantly': 8139,\n",
              " 'crude': 2247,\n",
              " 'stupid': 8679,\n",
              " 'band': 814,\n",
              " 'stage': 8477,\n",
              " 'performing': 6549,\n",
              " 'regular': 7308,\n",
              " 'generic': 3830,\n",
              " 'care': 1396,\n",
              " 'taken': 8891,\n",
              " 'filmmaker': 3512,\n",
              " 'logic': 5369,\n",
              " 'direction': 2643,\n",
              " 'actors': 242,\n",
              " 'parts': 6463,\n",
              " 'major': 5505,\n",
              " 'indifferent': 4612,\n",
              " 'unpredictable': 9439,\n",
              " 'comes': 1852,\n",
              " 'florida': 3595,\n",
              " 'ho': 4334,\n",
              " 'worthy': 9921,\n",
              " 'mystery': 5992,\n",
              " 'science': 7819,\n",
              " 'theater': 9017,\n",
              " '3000': 124,\n",
              " 'status': 8532,\n",
              " 'commentary': 1868,\n",
              " 'characters': 1550,\n",
              " 'screen': 7841,\n",
              " 'saying': 7780,\n",
              " 'pack': 6390,\n",
              " 'low': 5428,\n",
              " 'expectations': 3270,\n",
              " 'came': 1338,\n",
              " 'months': 5887,\n",
              " 'tragedy': 9200,\n",
              " 'open': 6273,\n",
              " 'wounds': 9925,\n",
              " 'thank': 9012,\n",
              " 'bravery': 1167,\n",
              " 'offered': 6240,\n",
              " 'closure': 1765,\n",
              " 'consider': 1998,\n",
              " 'hidden': 4285,\n",
              " 'frontier': 3731,\n",
              " 'somewhat': 8326,\n",
              " 'small': 8265,\n",
              " 'met': 5727,\n",
              " 'counting': 2130,\n",
              " 'conventions': 2062,\n",
              " '2001': 100,\n",
              " 'continue': 2036,\n",
              " 'impressed': 4559,\n",
              " 'self': 7908,\n",
              " 'studio': 8663,\n",
              " 'pictures': 6620,\n",
              " 'fancy': 3390,\n",
              " 'writers': 9940,\n",
              " 'walter': 9673,\n",
              " 'aka': 363,\n",
              " 'mr': 5942,\n",
              " 'manage': 5522,\n",
              " 'create': 2183,\n",
              " 'replacing': 7403,\n",
              " 'ghastly': 3861,\n",
              " 'experiment': 3281,\n",
              " 'enterprise': 3114,\n",
              " 'successful': 8719,\n",
              " 'arc': 571,\n",
              " 'introduction': 4765,\n",
              " 'trek': 9254,\n",
              " 'openly': 6276,\n",
              " 'gay': 3811,\n",
              " 'corey': 2098,\n",
              " 'introduced': 4762,\n",
              " 'second': 7876,\n",
              " 'soul': 8353,\n",
              " 'mate': 5622,\n",
              " 'meets': 5674,\n",
              " 'officer': 6245,\n",
              " 'recent': 7241,\n",
              " 'lines': 5312,\n",
              " 'spoiler': 8438,\n",
              " 'causing': 1477,\n",
              " 'change': 1532,\n",
              " 'conflict': 1964,\n",
              " 'relationship': 7325,\n",
              " 'uncertain': 9355,\n",
              " 'shown': 8108,\n",
              " 'chat': 1570,\n",
              " 'endure': 3077,\n",
              " 'gene': 3823,\n",
              " 'created': 2184,\n",
              " 'intention': 4723,\n",
              " 'flashy': 3566,\n",
              " 'battles': 868,\n",
              " 'popular': 6752,\n",
              " 'previous': 6886,\n",
              " 'stated': 8522,\n",
              " 'wish': 9857,\n",
              " 'higher': 4291,\n",
              " 'suffice': 8734,\n",
              " 'tradition': 9195,\n",
              " 'seven': 7978,\n",
              " 'generation': 3828,\n",
              " 'willing': 9829,\n",
              " 'bet': 960,\n",
              " 'final': 3519,\n",
              " 'debut': 2398,\n",
              " '1958': 50,\n",
              " 'enjoyed': 3101,\n",
              " 'leave': 5203,\n",
              " 'sons': 8332,\n",
              " 'harriet': 4176,\n",
              " 'dick': 2599,\n",
              " 'van': 9510,\n",
              " 'lucy': 5444,\n",
              " 'enjoying': 3102,\n",
              " 'donna': 2774,\n",
              " 'reed': 7273,\n",
              " 'stone': 8590,\n",
              " 'intelligent': 4714,\n",
              " 'mannered': 5541,\n",
              " 'problem': 6916,\n",
              " 'solving': 8321,\n",
              " 'stay': 8533,\n",
              " 'home': 4356,\n",
              " 'mom': 5857,\n",
              " 'june': 4956,\n",
              " 'contrast': 2045,\n",
              " 'ms': 5944,\n",
              " 'dad': 2304,\n",
              " 'boxing': 1143,\n",
              " 'teaching': 8939,\n",
              " 'son': 8327,\n",
              " 'defend': 2430,\n",
              " 'larger': 5141,\n",
              " 'bully': 1271,\n",
              " 'mothers': 5917,\n",
              " 'neighborhood': 6056,\n",
              " 'grew': 4030,\n",
              " 'idealistic': 4490,\n",
              " 'standards': 8496,\n",
              " 'refreshing': 7291,\n",
              " 'manners': 5543,\n",
              " 'decision': 2411,\n",
              " 'today': 9124,\n",
              " 'accepted': 199,\n",
              " 'indifference': 4611,\n",
              " 'neighbors': 6057,\n",
              " 'imagine': 4528,\n",
              " 'mary': 5599,\n",
              " 'parents': 6443,\n",
              " 'okay': 6254,\n",
              " 'leaving': 5205,\n",
              " 'dog': 2755,\n",
              " 'outside': 6345,\n",
              " 'acceptable': 197,\n",
              " 'shut': 8114,\n",
              " 'supermarket': 8775,\n",
              " 'cinematography': 1678,\n",
              " 'highlights': 4295,\n",
              " 'true': 9292,\n",
              " 'account': 216,\n",
              " '1950s': 43,\n",
              " ...}"
            ]
          },
          "metadata": {},
          "execution_count": 17
        }
      ],
      "source": [
        "cv.vocabulary_"
      ]
    },
    {
      "cell_type": "code",
      "execution_count": null,
      "id": "65d50678-3ab0-4075-ab50-3c12e63fd95f",
      "metadata": {
        "id": "65d50678-3ab0-4075-ab50-3c12e63fd95f"
      },
      "outputs": [],
      "source": [
        "X_train = cv.transform(df_train[\"text\"])\n",
        "X_val = cv.transform(df_val[\"text\"])\n",
        "X_test = cv.transform(df_test[\"text\"])"
      ]
    },
    {
      "cell_type": "code",
      "execution_count": null,
      "id": "03491130-ad33-4fb7-8ed2-12de9662d400",
      "metadata": {
        "id": "03491130-ad33-4fb7-8ed2-12de9662d400",
        "outputId": "5299e405-e4a7-4f64-a9b9-3da7212afdde",
        "colab": {
          "base_uri": "https://localhost:8080/"
        }
      },
      "outputs": [
        {
          "output_type": "execute_result",
          "data": {
            "text/plain": [
              "(35000, 10000)"
            ]
          },
          "metadata": {},
          "execution_count": 20
        }
      ],
      "source": [
        "X_train.shape"
      ]
    },
    {
      "cell_type": "code",
      "execution_count": null,
      "id": "12dd8956-f4db-410b-94c0-78190a8881cf",
      "metadata": {
        "id": "12dd8956-f4db-410b-94c0-78190a8881cf",
        "outputId": "842171b2-05b1-4deb-ff2d-d20fbc65ab64",
        "colab": {
          "base_uri": "https://localhost:8080/"
        }
      },
      "outputs": [
        {
          "output_type": "execute_result",
          "data": {
            "text/plain": [
              "<1x10000 sparse matrix of type '<class 'numpy.int64'>'\n",
              "\twith 74 stored elements in Compressed Sparse Row format>"
            ]
          },
          "metadata": {},
          "execution_count": 21
        }
      ],
      "source": [
        "X_train[0]"
      ]
    },
    {
      "cell_type": "code",
      "execution_count": null,
      "id": "9e42b356-2aad-4447-b714-be0880df3c6c",
      "metadata": {
        "id": "9e42b356-2aad-4447-b714-be0880df3c6c",
        "outputId": "2905ae37-72dc-471e-e1b0-1314bd72c0b8",
        "colab": {
          "base_uri": "https://localhost:8080/"
        }
      },
      "outputs": [
        {
          "output_type": "execute_result",
          "data": {
            "text/plain": [
              "array([0, 0, 0, ..., 0, 0, 0])"
            ]
          },
          "metadata": {},
          "execution_count": 22
        }
      ],
      "source": [
        "np.array(X_train[0].todense())[0]"
      ]
    },
    {
      "cell_type": "code",
      "execution_count": null,
      "id": "3f185b5b-b7b2-4660-b6df-8c6faee8bf19",
      "metadata": {
        "id": "3f185b5b-b7b2-4660-b6df-8c6faee8bf19",
        "outputId": "75140cb7-4028-464e-a3a6-78f605c65948",
        "colab": {
          "base_uri": "https://localhost:8080/"
        }
      },
      "outputs": [
        {
          "output_type": "execute_result",
          "data": {
            "text/plain": [
              "array([9926,   67,    5,    0,    1,    0,    1])"
            ]
          },
          "metadata": {},
          "execution_count": 23
        }
      ],
      "source": [
        "np.bincount(np.array(X_train[0].todense())[0])"
      ]
    },
    {
      "cell_type": "code",
      "execution_count": null,
      "id": "23e6a768-8fa8-444c-8bba-3c3797229a53",
      "metadata": {
        "id": "23e6a768-8fa8-444c-8bba-3c3797229a53",
        "outputId": "d44190bd-53b5-4996-94e8-17f52ccf6bf3",
        "colab": {
          "base_uri": "https://localhost:8080/"
        }
      },
      "outputs": [
        {
          "output_type": "execute_result",
          "data": {
            "text/plain": [
              "matrix([[0, 0, 0, ..., 0, 0, 0]])"
            ]
          },
          "metadata": {},
          "execution_count": 24
        }
      ],
      "source": [
        "X_train[0].todense().flatten()"
      ]
    },
    {
      "cell_type": "code",
      "execution_count": null,
      "id": "ae181592-134d-4cff-983f-90d6fcae5068",
      "metadata": {
        "id": "ae181592-134d-4cff-983f-90d6fcae5068",
        "outputId": "634fbec1-7424-4ee0-da8a-34a064539852",
        "colab": {
          "base_uri": "https://localhost:8080/"
        }
      },
      "outputs": [
        {
          "output_type": "execute_result",
          "data": {
            "text/plain": [
              "(35000, 10000)"
            ]
          },
          "metadata": {},
          "execution_count": 25
        }
      ],
      "source": [
        "np.array(X_train.todense()).shape"
      ]
    },
    {
      "cell_type": "markdown",
      "source": [
        "##3) DataLoader"
      ],
      "metadata": {
        "id": "hu6Pf-uzaOPb"
      },
      "id": "hu6Pf-uzaOPb"
    },
    {
      "cell_type": "code",
      "source": [
        "class TextDataset(Dataset):\n",
        "  def __init__(self, X, y):\n",
        "    self.features = torch.tensor(X, dtype=torch.float32)\n",
        "    self.labels = torch.tensor(y, dtype=torch.int64)\n",
        "\n",
        "  def __getitem__(self, index):\n",
        "    x = self.features[index]\n",
        "    y = self.labels[index]\n",
        "    return x, y\n",
        "\n",
        "  def __len__(self):\n",
        "    return self.labels.shape[0]"
      ],
      "metadata": {
        "id": "FrmOF5zXaQbp"
      },
      "id": "FrmOF5zXaQbp",
      "execution_count": null,
      "outputs": []
    },
    {
      "cell_type": "code",
      "source": [
        "train_ds = TextDataset(X_train.todense(), df_train[\"label\"].values)\n",
        "\n",
        "train_loader = DataLoader(\n",
        "    dataset=train_ds,\n",
        "    batch_size=32,\n",
        "    shuffle=True,\n",
        ")"
      ],
      "metadata": {
        "id": "doUnh3hvannc"
      },
      "id": "doUnh3hvannc",
      "execution_count": null,
      "outputs": []
    },
    {
      "cell_type": "code",
      "source": [
        "val_ds = TextDataset(X_val.todense(), df_val[\"label\"].values)\n",
        "\n",
        "val_loader = DataLoader(\n",
        "    dataset=val_ds,\n",
        "    batch_size=32,\n",
        "    shuffle=True,\n",
        ")"
      ],
      "metadata": {
        "id": "oDYq-ff-aqkv"
      },
      "id": "oDYq-ff-aqkv",
      "execution_count": null,
      "outputs": []
    },
    {
      "cell_type": "code",
      "source": [
        "test_ds = TextDataset(X_test.todense(), df_test[\"label\"].values)\n",
        "\n",
        "test_loader = DataLoader(\n",
        "    dataset=test_ds,\n",
        "    batch_size=32,\n",
        "    shuffle=True,\n",
        ")"
      ],
      "metadata": {
        "id": "RV6yKCKBauPd"
      },
      "id": "RV6yKCKBauPd",
      "execution_count": null,
      "outputs": []
    },
    {
      "cell_type": "code",
      "source": [
        "for batch_idx, (features, class_labels) in enumerate(train_loader):\n",
        "    break"
      ],
      "metadata": {
        "id": "CFpNgmKka0Rv"
      },
      "id": "CFpNgmKka0Rv",
      "execution_count": null,
      "outputs": []
    },
    {
      "cell_type": "code",
      "source": [
        "features.shape"
      ],
      "metadata": {
        "id": "L6pRIO0ta2nI",
        "outputId": "840cc1a2-47a7-4cf8-857a-c1ac9a5c6dbb",
        "colab": {
          "base_uri": "https://localhost:8080/"
        }
      },
      "id": "L6pRIO0ta2nI",
      "execution_count": null,
      "outputs": [
        {
          "output_type": "execute_result",
          "data": {
            "text/plain": [
              "torch.Size([32, 10000])"
            ]
          },
          "metadata": {},
          "execution_count": 33
        }
      ]
    },
    {
      "cell_type": "markdown",
      "source": [
        "##4) Text Classifier"
      ],
      "metadata": {
        "id": "FIudwIxna7C1"
      },
      "id": "FIudwIxna7C1"
    },
    {
      "cell_type": "code",
      "source": [
        "class LogisticRegression(torch.nn.Module):\n",
        "\n",
        "  def __init__(self, num_features, num_classes):\n",
        "    super().__init__()\n",
        "    self.linear = torch.nn.Linear(num_features, num_classes)\n",
        "\n",
        "  def forward(self, x):\n",
        "    logits = self.linear(x)\n",
        "    return logits"
      ],
      "metadata": {
        "id": "La0DXN0ca-T6"
      },
      "id": "La0DXN0ca-T6",
      "execution_count": null,
      "outputs": []
    },
    {
      "cell_type": "code",
      "source": [
        "pytorch_model = LogisticRegression(num_features=10_000, num_classes=2)"
      ],
      "metadata": {
        "id": "dfGyZK33bNGj"
      },
      "id": "dfGyZK33bNGj",
      "execution_count": null,
      "outputs": []
    },
    {
      "cell_type": "code",
      "source": [
        "callbacks = [\n",
        "    ModelCheckpoint(save_top_k=1, mode=\"max\", monitor=\"val_acc\", save_last=True)\n",
        "]"
      ],
      "metadata": {
        "id": "cv8nYj8lbSed"
      },
      "id": "cv8nYj8lbSed",
      "execution_count": null,
      "outputs": []
    },
    {
      "cell_type": "code",
      "source": [
        "lightning_model = LightningModel(model=pytorch_model, learning_rate=0.05)\n",
        "\n",
        "trainer = L.Trainer(\n",
        "    callbacks=callbacks,\n",
        "    max_epochs=30,\n",
        "    accelerator=\"cpu\",\n",
        "    logger=CSVLogger(save_dir=\"logs/\", name=\"my-model\"),\n",
        "    deterministic=True,\n",
        ")\n",
        "\n",
        "trainer.fit(model=lightning_model, train_dataloaders=train_loader, val_dataloaders=val_loader)"
      ],
      "metadata": {
        "id": "WxVjPo85bWz5"
      },
      "id": "WxVjPo85bWz5",
      "execution_count": null,
      "outputs": []
    },
    {
      "cell_type": "code",
      "source": [
        "plot_csv_logger(csv_path=f\"{trainer.logger.log_dir}/metrics.csv\")"
      ],
      "metadata": {
        "id": "i4uWKsD8dHCR",
        "outputId": "d73a86f6-b190-44cb-b197-35b198246953",
        "colab": {
          "base_uri": "https://localhost:8080/",
          "height": 881
        }
      },
      "id": "i4uWKsD8dHCR",
      "execution_count": null,
      "outputs": [
        {
          "output_type": "display_data",
          "data": {
            "text/plain": [
              "<Figure size 640x480 with 1 Axes>"
            ],
            "image/png": "[encoded data removed]"
          },
          "metadata": {}
        },
        {
          "output_type": "display_data",
          "data": {
            "text/plain": [
              "<Figure size 640x480 with 1 Axes>"
            ],
            "image/png": "[encoded data removed]"
          },
          "metadata": {}
        }
      ]
    },
    {
      "cell_type": "code",
      "source": [
        "trainer.test(model=lightning_model, dataloaders=test_loader)"
      ],
      "metadata": {
        "id": "STZCunEfdHhW",
        "outputId": "2482a7db-ffef-4184-9d93-10d2bc11dbc0",
        "colab": {
          "base_uri": "https://localhost:8080/",
          "height": 201,
          "referenced_widgets": [
            "3c7f111c181947a29b08d8e10b93519e",
            "6d40e57178ec49a28fd8c4337c6d5c41",
            "792bc91fec674b44981462d23ea4c164",
            "56f9d88d151349dea5774e5831b7b618",
            "3885b7a416314563816e9c0cb9f4d7e5",
            "a0a1d323a7ce4f358b8870b2d2d9eece",
            "c9a6d331553b4526b2c9827f6d9aaed7",
            "83feec80bb1d4d16af40ff1f813cd56a",
            "6c3a27954cc34090beb9d5557bde2481",
            "c058c4e1a11f4608a848e6efce62b93e",
            "f9172bc4450e43948544f1f5e8c95921"
          ]
        }
      },
      "id": "STZCunEfdHhW",
      "execution_count": null,
      "outputs": [
        {
          "output_type": "stream",
          "name": "stderr",
          "text": [
            "/usr/local/lib/python3.10/dist-packages/lightning/pytorch/trainer/connectors/data_connector.py:480: PossibleUserWarning: Your `test_dataloader`'s sampler has shuffling enabled, it is strongly recommended that you turn shuffling off for val/test dataloaders.\n",
            "  rank_zero_warn(\n"
          ]
        },
        {
          "output_type": "display_data",
          "data": {
            "text/plain": [
              "Testing: 0it [00:00, ?it/s]"
            ],
            "application/vnd.jupyter.widget-view+json": {
              "version_major": 2,
              "version_minor": 0,
              "model_id": "3c7f111c181947a29b08d8e10b93519e"
            }
          },
          "metadata": {}
        },
        {
          "output_type": "display_data",
          "data": {
            "text/plain": [
              "┏━━━━━━━━━━━━━━━━━━━━━━━━━━━┳━━━━━━━━━━━━━━━━━━━━━━━━━━━┓\n",
              "┃\u001b[1m \u001b[0m\u001b[1m       Test metric       \u001b[0m\u001b[1m \u001b[0m┃\u001b[1m \u001b[0m\u001b[1m      DataLoader 0       \u001b[0m\u001b[1m \u001b[0m┃\n",
              "┡━━━━━━━━━━━━━━━━━━━━━━━━━━━╇━━━━━━━━━━━━━━━━━━━━━━━━━━━┩\n",
              "│\u001b[36m \u001b[0m\u001b[36m        test_acc         \u001b[0m\u001b[36m \u001b[0m│\u001b[35m \u001b[0m\u001b[35m   0.8812000155448914    \u001b[0m\u001b[35m \u001b[0m│\n",
              "└───────────────────────────┴───────────────────────────┘\n"
            ],
            "text/html": [
              "<pre style=\"white-space:pre;overflow-x:auto;line-height:normal;font-family:Menlo,'DejaVu Sans Mono',consolas,'Courier New',monospace\">┏━━━━━━━━━━━━━━━━━━━━━━━━━━━┳━━━━━━━━━━━━━━━━━━━━━━━━━━━┓\n",
              "┃<span style=\"font-weight: bold\">        Test metric        </span>┃<span style=\"font-weight: bold\">       DataLoader 0        </span>┃\n",
              "┡━━━━━━━━━━━━━━━━━━━━━━━━━━━╇━━━━━━━━━━━━━━━━━━━━━━━━━━━┩\n",
              "│<span style=\"color: #008080; text-decoration-color: #008080\">         test_acc          </span>│<span style=\"color: #800080; text-decoration-color: #800080\">    0.8812000155448914     </span>│\n",
              "└───────────────────────────┴───────────────────────────┘\n",
              "</pre>\n"
            ]
          },
          "metadata": {}
        },
        {
          "output_type": "execute_result",
          "data": {
            "text/plain": [
              "[{'test_acc': 0.8812000155448914}]"
            ]
          },
          "metadata": {},
          "execution_count": 46
        }
      ]
    }
  ],
  "metadata": {
    "kernelspec": {
      "display_name": "Python 3 (ipykernel)",
      "language": "python",
      "name": "python3"
    },
    "language_info": {
      "codemirror_mode": {
        "name": "ipython",
        "version": 3
      },
      "file_extension": ".py",
      "mimetype": "text/x-python",
      "name": "python",
      "nbconvert_exporter": "python",
      "pygments_lexer": "ipython3",
      "version": "3.9.16"
    },
    "colab": {
      "provenance": [],
      "toc_visible": true,
      "include_colab_link": true
    },
    "widgets": {
      "application/vnd.jupyter.widget-state+json": {
        "3c7f111c181947a29b08d8e10b93519e": {
          "model_module": "@jupyter-widgets/controls",
          "model_name": "HBoxModel",
          "model_module_version": "1.5.0",
          "state": {
            "_dom_classes": [],
            "_model_module": "@jupyter-widgets/controls",
            "_model_module_version": "1.5.0",
            "_model_name": "HBoxModel",
            "_view_count": null,
            "_view_module": "@jupyter-widgets/controls",
            "_view_module_version": "1.5.0",
            "_view_name": "HBoxView",
            "box_style": "",
            "children": [
              "IPY_MODEL_6d40e57178ec49a28fd8c4337c6d5c41",
              "IPY_MODEL_792bc91fec674b44981462d23ea4c164",
              "IPY_MODEL_56f9d88d151349dea5774e5831b7b618"
            ],
            "layout": "IPY_MODEL_3885b7a416314563816e9c0cb9f4d7e5"
          }
        },
        "6d40e57178ec49a28fd8c4337c6d5c41": {
          "model_module": "@jupyter-widgets/controls",
          "model_name": "HTMLModel",
          "model_module_version": "1.5.0",
          "state": {
            "_dom_classes": [],
            "_model_module": "@jupyter-widgets/controls",
            "_model_module_version": "1.5.0",
            "_model_name": "HTMLModel",
            "_view_count": null,
            "_view_module": "@jupyter-widgets/controls",
            "_view_module_version": "1.5.0",
            "_view_name": "HTMLView",
            "description": "",
            "description_tooltip": null,
            "layout": "IPY_MODEL_a0a1d323a7ce4f358b8870b2d2d9eece",
            "placeholder": "​",
            "style": "IPY_MODEL_c9a6d331553b4526b2c9827f6d9aaed7",
            "value": "Testing DataLoader 0: 100%"
          }
        },
        "792bc91fec674b44981462d23ea4c164": {
          "model_module": "@jupyter-widgets/controls",
          "model_name": "FloatProgressModel",
          "model_module_version": "1.5.0",
          "state": {
            "_dom_classes": [],
            "_model_module": "@jupyter-widgets/controls",
            "_model_module_version": "1.5.0",
            "_model_name": "FloatProgressModel",
            "_view_count": null,
            "_view_module": "@jupyter-widgets/controls",
            "_view_module_version": "1.5.0",
            "_view_name": "ProgressView",
            "bar_style": "success",
            "description": "",
            "description_tooltip": null,
            "layout": "IPY_MODEL_83feec80bb1d4d16af40ff1f813cd56a",
            "max": 313,
            "min": 0,
            "orientation": "horizontal",
            "style": "IPY_MODEL_6c3a27954cc34090beb9d5557bde2481",
            "value": 313
          }
        },
        "56f9d88d151349dea5774e5831b7b618": {
          "model_module": "@jupyter-widgets/controls",
          "model_name": "HTMLModel",
          "model_module_version": "1.5.0",
          "state": {
            "_dom_classes": [],
            "_model_module": "@jupyter-widgets/controls",
            "_model_module_version": "1.5.0",
            "_model_name": "HTMLModel",
            "_view_count": null,
            "_view_module": "@jupyter-widgets/controls",
            "_view_module_version": "1.5.0",
            "_view_name": "HTMLView",
            "description": "",
            "description_tooltip": null,
            "layout": "IPY_MODEL_c058c4e1a11f4608a848e6efce62b93e",
            "placeholder": "​",
            "style": "IPY_MODEL_f9172bc4450e43948544f1f5e8c95921",
            "value": " 313/313 [00:02&lt;00:00, 120.90it/s]"
          }
        },
        "3885b7a416314563816e9c0cb9f4d7e5": {
          "model_module": "@jupyter-widgets/base",
          "model_name": "LayoutModel",
          "model_module_version": "1.2.0",
          "state": {
            "_model_module": "@jupyter-widgets/base",
            "_model_module_version": "1.2.0",
            "_model_name": "LayoutModel",
            "_view_count": null,
            "_view_module": "@jupyter-widgets/base",
            "_view_module_version": "1.2.0",
            "_view_name": "LayoutView",
            "align_content": null,
            "align_items": null,
            "align_self": null,
            "border": null,
            "bottom": null,
            "display": "inline-flex",
            "flex": null,
            "flex_flow": "row wrap",
            "grid_area": null,
            "grid_auto_columns": null,
            "grid_auto_flow": null,
            "grid_auto_rows": null,
            "grid_column": null,
            "grid_gap": null,
            "grid_row": null,
            "grid_template_areas": null,
            "grid_template_columns": null,
            "grid_template_rows": null,
            "height": null,
            "justify_content": null,
            "justify_items": null,
            "left": null,
            "margin": null,
            "max_height": null,
            "max_width": null,
            "min_height": null,
            "min_width": null,
            "object_fit": null,
            "object_position": null,
            "order": null,
            "overflow": null,
            "overflow_x": null,
            "overflow_y": null,
            "padding": null,
            "right": null,
            "top": null,
            "visibility": null,
            "width": "100%"
          }
        },
        "a0a1d323a7ce4f358b8870b2d2d9eece": {
          "model_module": "@jupyter-widgets/base",
          "model_name": "LayoutModel",
          "model_module_version": "1.2.0",
          "state": {
            "_model_module": "@jupyter-widgets/base",
            "_model_module_version": "1.2.0",
            "_model_name": "LayoutModel",
            "_view_count": null,
            "_view_module": "@jupyter-widgets/base",
            "_view_module_version": "1.2.0",
            "_view_name": "LayoutView",
            "align_content": null,
            "align_items": null,
            "align_self": null,
            "border": null,
            "bottom": null,
            "display": null,
            "flex": null,
            "flex_flow": null,
            "grid_area": null,
            "grid_auto_columns": null,
            "grid_auto_flow": null,
            "grid_auto_rows": null,
            "grid_column": null,
            "grid_gap": null,
            "grid_row": null,
            "grid_template_areas": null,
            "grid_template_columns": null,
            "grid_template_rows": null,
            "height": null,
            "justify_content": null,
            "justify_items": null,
            "left": null,
            "margin": null,
            "max_height": null,
            "max_width": null,
            "min_height": null,
            "min_width": null,
            "object_fit": null,
            "object_position": null,
            "order": null,
            "overflow": null,
            "overflow_x": null,
            "overflow_y": null,
            "padding": null,
            "right": null,
            "top": null,
            "visibility": null,
            "width": null
          }
        },
        "c9a6d331553b4526b2c9827f6d9aaed7": {
          "model_module": "@jupyter-widgets/controls",
          "model_name": "DescriptionStyleModel",
          "model_module_version": "1.5.0",
          "state": {
            "_model_module": "@jupyter-widgets/controls",
            "_model_module_version": "1.5.0",
            "_model_name": "DescriptionStyleModel",
            "_view_count": null,
            "_view_module": "@jupyter-widgets/base",
            "_view_module_version": "1.2.0",
            "_view_name": "StyleView",
            "description_width": ""
          }
        },
        "83feec80bb1d4d16af40ff1f813cd56a": {
          "model_module": "@jupyter-widgets/base",
          "model_name": "LayoutModel",
          "model_module_version": "1.2.0",
          "state": {
            "_model_module": "@jupyter-widgets/base",
            "_model_module_version": "1.2.0",
            "_model_name": "LayoutModel",
            "_view_count": null,
            "_view_module": "@jupyter-widgets/base",
            "_view_module_version": "1.2.0",
            "_view_name": "LayoutView",
            "align_content": null,
            "align_items": null,
            "align_self": null,
            "border": null,
            "bottom": null,
            "display": null,
            "flex": "2",
            "flex_flow": null,
            "grid_area": null,
            "grid_auto_columns": null,
            "grid_auto_flow": null,
            "grid_auto_rows": null,
            "grid_column": null,
            "grid_gap": null,
            "grid_row": null,
            "grid_template_areas": null,
            "grid_template_columns": null,
            "grid_template_rows": null,
            "height": null,
            "justify_content": null,
            "justify_items": null,
            "left": null,
            "margin": null,
            "max_height": null,
            "max_width": null,
            "min_height": null,
            "min_width": null,
            "object_fit": null,
            "object_position": null,
            "order": null,
            "overflow": null,
            "overflow_x": null,
            "overflow_y": null,
            "padding": null,
            "right": null,
            "top": null,
            "visibility": null,
            "width": null
          }
        },
        "6c3a27954cc34090beb9d5557bde2481": {
          "model_module": "@jupyter-widgets/controls",
          "model_name": "ProgressStyleModel",
          "model_module_version": "1.5.0",
          "state": {
            "_model_module": "@jupyter-widgets/controls",
            "_model_module_version": "1.5.0",
            "_model_name": "ProgressStyleModel",
            "_view_count": null,
            "_view_module": "@jupyter-widgets/base",
            "_view_module_version": "1.2.0",
            "_view_name": "StyleView",
            "bar_color": null,
            "description_width": ""
          }
        },
        "c058c4e1a11f4608a848e6efce62b93e": {
          "model_module": "@jupyter-widgets/base",
          "model_name": "LayoutModel",
          "model_module_version": "1.2.0",
          "state": {
            "_model_module": "@jupyter-widgets/base",
            "_model_module_version": "1.2.0",
            "_model_name": "LayoutModel",
            "_view_count": null,
            "_view_module": "@jupyter-widgets/base",
            "_view_module_version": "1.2.0",
            "_view_name": "LayoutView",
            "align_content": null,
            "align_items": null,
            "align_self": null,
            "border": null,
            "bottom": null,
            "display": null,
            "flex": null,
            "flex_flow": null,
            "grid_area": null,
            "grid_auto_columns": null,
            "grid_auto_flow": null,
            "grid_auto_rows": null,
            "grid_column": null,
            "grid_gap": null,
            "grid_row": null,
            "grid_template_areas": null,
            "grid_template_columns": null,
            "grid_template_rows": null,
            "height": null,
            "justify_content": null,
            "justify_items": null,
            "left": null,
            "margin": null,
            "max_height": null,
            "max_width": null,
            "min_height": null,
            "min_width": null,
            "object_fit": null,
            "object_position": null,
            "order": null,
            "overflow": null,
            "overflow_x": null,
            "overflow_y": null,
            "padding": null,
            "right": null,
            "top": null,
            "visibility": null,
            "width": null
          }
        },
        "f9172bc4450e43948544f1f5e8c95921": {
          "model_module": "@jupyter-widgets/controls",
          "model_name": "DescriptionStyleModel",
          "model_module_version": "1.5.0",
          "state": {
            "_model_module": "@jupyter-widgets/controls",
            "_model_module_version": "1.5.0",
            "_model_name": "DescriptionStyleModel",
            "_view_count": null,
            "_view_module": "@jupyter-widgets/base",
            "_view_module_version": "1.2.0",
            "_view_name": "StyleView",
            "description_width": ""
          }
        }
      }
    }
  },
  "nbformat": 4,
  "nbformat_minor": 5
}