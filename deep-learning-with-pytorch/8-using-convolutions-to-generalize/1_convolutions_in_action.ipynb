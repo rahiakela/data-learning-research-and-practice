{
  "nbformat": 4,
  "nbformat_minor": 0,
  "metadata": {
    "colab": {
      "name": "1-convolutions-in-action.ipynb",
      "provenance": [],
      "toc_visible": true,
      "authorship_tag": "ABX9TyNDlvXZjKlucEz49f/yH3W0",
      "include_colab_link": true
    },
    "kernelspec": {
      "name": "python3",
      "display_name": "Python 3"
    }
  },
  "cells": [
    {
      "cell_type": "markdown",
      "metadata": {
        "id": "view-in-github",
        "colab_type": "text"
      },
      "source": [
        "<a href=\"https://colab.research.google.com/github/rahiakela/deep-learning-research-and-practice/blob/main/deep-learning-with-pytorch/8-using-convolutions-to-generalize/1_convolutions_in_action.ipynb\" target=\"_parent\"><img src=\"https://colab.research.google.com/assets/colab-badge.svg\" alt=\"Open In Colab\"/></a>"
      ]
    },
    {
      "cell_type": "markdown",
      "metadata": {
        "id": "JD-pGnbRyH6s"
      },
      "source": [
        "## Using convolutions to generalize"
      ]
    },
    {
      "cell_type": "markdown",
      "metadata": {
        "id": "-QS-_bhIydI7"
      },
      "source": [
        "Due to the fully connected setup needed to detect the various possible translations of the bird or airplane in the image, we have both too many parameters (making it easier for the model to memorize the training set) and no position independence (making it harder to generalize).\n",
        "\n",
        "As we know, we could augment our training data by using a wide variety of recropped images to try to force generalization, but that won’t address the issue of having too many parameters.\n",
        "**There is a better way! It consists of replacing the dense, fully connected affine transformation in our neural network unit with a different linear operation: convolution.**\n"
      ]
    },
    {
      "cell_type": "markdown",
      "metadata": {
        "id": "tRKStm2QzDAv"
      },
      "source": [
        "## Setup"
      ]
    },
    {
      "cell_type": "code",
      "metadata": {
        "id": "-fRJTzpxzEj7"
      },
      "source": [
        "from matplotlib import pyplot as plt\n",
        "import numpy as np\n",
        "import collections\n",
        "import datetime\n",
        "\n",
        "import torch\n",
        "import torch.nn as nn\n",
        "import torch.nn.functional as F\n",
        "import torch.optim as optim\n",
        "from torchvision import datasets, transforms\n",
        "import torch.nn.functional as F\n",
        "\n",
        "torch.set_printoptions(edgeitems=2)\n",
        "torch.manual_seed(123)\n",
        "\n",
        "%matplotlib inline"
      ],
      "execution_count": 1,
      "outputs": []
    },
    {
      "cell_type": "code",
      "metadata": {
        "colab": {
          "base_uri": "https://localhost:8080/"
        },
        "id": "-T4StfdbzKPO",
        "outputId": "0c11b71c-1298-4965-b727-505e0e59e83f"
      },
      "source": [
        "data_path = '../data-unversioned/p1ch6/'\n",
        "cifar10 = datasets.CIFAR10(\n",
        "    data_path, train=True, download=True,\n",
        "    transform=transforms.Compose([\n",
        "        transforms.ToTensor(),\n",
        "        transforms.Normalize((0.4915, 0.4823, 0.4468),\n",
        "                             (0.2470, 0.2435, 0.2616))\n",
        "    ]))"
      ],
      "execution_count": 2,
      "outputs": [
        {
          "output_type": "stream",
          "name": "stdout",
          "text": [
            "Downloading https://www.cs.toronto.edu/~kriz/cifar-10-python.tar.gz to ../data-unversioned/p1ch6/cifar-10-python.tar.gz\n"
          ]
        },
        {
          "output_type": "stream",
          "name": "stderr",
          "text": [
            "100%|██████████| 170498071/170498071 [00:04<00:00, 41977341.42it/s]\n"
          ]
        },
        {
          "output_type": "stream",
          "name": "stdout",
          "text": [
            "Extracting ../data-unversioned/p1ch6/cifar-10-python.tar.gz to ../data-unversioned/p1ch6/\n"
          ]
        }
      ]
    },
    {
      "cell_type": "code",
      "metadata": {
        "colab": {
          "base_uri": "https://localhost:8080/"
        },
        "id": "3zOHe4ySzqB1",
        "outputId": "5c71c704-81e7-42ee-f1e5-3bb3b9a4899d"
      },
      "source": [
        "cifar10_val = datasets.CIFAR10(\n",
        "    data_path, train=False, download=True,\n",
        "    transform=transforms.Compose([\n",
        "        transforms.ToTensor(),\n",
        "        transforms.Normalize((0.4915, 0.4823, 0.4468),\n",
        "                             (0.2470, 0.2435, 0.2616))\n",
        "    ]))"
      ],
      "execution_count": 3,
      "outputs": [
        {
          "output_type": "stream",
          "name": "stdout",
          "text": [
            "Files already downloaded and verified\n"
          ]
        }
      ]
    },
    {
      "cell_type": "code",
      "metadata": {
        "id": "ASLMMCKzztlJ"
      },
      "source": [
        "label_map = {0: 0, 2: 1}\n",
        "class_names = ['airplane', 'bird']\n",
        "cifar2 = [(img, label_map[label]) for img, label in cifar10 if label in [0, 2]]\n",
        "cifar2_val = [(img, label_map[label]) for img, label in cifar10_val if label in [0, 2]]"
      ],
      "execution_count": 4,
      "outputs": []
    },
    {
      "cell_type": "markdown",
      "metadata": {
        "id": "PmHH9aRu6gW1"
      },
      "source": [
        "## Convolutions in action"
      ]
    },
    {
      "cell_type": "markdown",
      "metadata": {
        "id": "ZSjCHkTU6jMf"
      },
      "source": [
        "It is very common to have kernel sizes that are the same in all directions, so\n",
        "PyTorch has a shortcut for this: whenever kernel_size=3 is specified for a 2D convolution, it means `3 × 3` (provided as a tuple (3, 3) in Python). For a 3D convolution, it means `3 × 3 × 3`."
      ]
    },
    {
      "cell_type": "code",
      "metadata": {
        "id": "1HsvvkNm0m2S",
        "colab": {
          "base_uri": "https://localhost:8080/"
        },
        "outputId": "feaafdb9-0070-4193-9fd0-86243c04dea5"
      },
      "source": [
        "conv = nn.Conv2d(3, 16, kernel_size=3)\n",
        "conv"
      ],
      "execution_count": 5,
      "outputs": [
        {
          "output_type": "execute_result",
          "data": {
            "text/plain": [
              "Conv2d(3, 16, kernel_size=(3, 3), stride=(1, 1))"
            ]
          },
          "metadata": {},
          "execution_count": 5
        }
      ]
    },
    {
      "cell_type": "markdown",
      "metadata": {
        "id": "PzIhOZswVDjd"
      },
      "source": [
        "What do we expect to be the shape of the weight tensor?\n",
        "\n",
        "The kernel is of size `3 × 3`, so we want the weight to consist of `3 × 3` parts. For a single output pixel value, our kernel would consider, say, `in_ch = 3` input channels, so the weight component for a single output pixel value (and by translation the invariance for the entire output channel) is of shape `in_ch × 3 × 3`.\n",
        "\n",
        "Finally, we have as many of those as we have output channels, here `out_ch = 16`, so the complete weight tensor is `out_ch × in_ch × 3 × 3`, in our case `16 × 3 × 3 × 3`. The bias will have size 16.\n",
        "\n",
        "Let’s verify our assumptions:"
      ]
    },
    {
      "cell_type": "code",
      "metadata": {
        "id": "M61bQt5pUVL9",
        "colab": {
          "base_uri": "https://localhost:8080/"
        },
        "outputId": "9094cf76-7eef-4946-da38-bb81251fe502"
      },
      "source": [
        "conv.weight.shape, conv.bias.shape"
      ],
      "execution_count": 6,
      "outputs": [
        {
          "output_type": "execute_result",
          "data": {
            "text/plain": [
              "(torch.Size([16, 3, 3, 3]), torch.Size([16]))"
            ]
          },
          "metadata": {},
          "execution_count": 6
        }
      ]
    },
    {
      "cell_type": "markdown",
      "metadata": {
        "id": "C_wQGVFvVoLK"
      },
      "source": [
        "We can see how convolutions are a convenient choice for learning from images. We\n",
        "have smaller models looking for local patterns whose weights are optimized across the entire image.\n",
        "\n",
        "A 2D convolution pass produces a 2D image as output, whose pixels are a weighted\n",
        "sum over neighborhoods of the input image.\n",
        "\n",
        "As usual, we need to add the zeroth batch dimension with\n",
        "unsqueeze if we want to call the conv module with one input image, since nn.Conv2d expects a `B × C × H × W` shaped tensor as input:"
      ]
    },
    {
      "cell_type": "code",
      "source": [
        "img, _ = cifar2[0]\n",
        "img.shape"
      ],
      "metadata": {
        "id": "NdaCZITgrQiz",
        "outputId": "7bda3716-935f-4dc0-c2b3-2b23b63139c6",
        "colab": {
          "base_uri": "https://localhost:8080/"
        }
      },
      "execution_count": 7,
      "outputs": [
        {
          "output_type": "execute_result",
          "data": {
            "text/plain": [
              "torch.Size([3, 32, 32])"
            ]
          },
          "metadata": {},
          "execution_count": 7
        }
      ]
    },
    {
      "cell_type": "code",
      "source": [
        "img.unsqueeze(0).shape"
      ],
      "metadata": {
        "id": "LO6cs18zrXwQ",
        "outputId": "960428c4-dbda-43cc-cf83-ff17dd1a8c6d",
        "colab": {
          "base_uri": "https://localhost:8080/"
        }
      },
      "execution_count": 8,
      "outputs": [
        {
          "output_type": "execute_result",
          "data": {
            "text/plain": [
              "torch.Size([1, 3, 32, 32])"
            ]
          },
          "metadata": {},
          "execution_count": 8
        }
      ]
    },
    {
      "cell_type": "code",
      "metadata": {
        "id": "3_djc2dVVc0i",
        "colab": {
          "base_uri": "https://localhost:8080/"
        },
        "outputId": "e673357f-076b-436d-e367-39dd8981ddc1"
      },
      "source": [
        "img, _ = cifar2[0]\n",
        "output = conv(img.unsqueeze(0))\n",
        "img.unsqueeze(0).shape, output.shape"
      ],
      "execution_count": 9,
      "outputs": [
        {
          "output_type": "execute_result",
          "data": {
            "text/plain": [
              "(torch.Size([1, 3, 32, 32]), torch.Size([1, 16, 30, 30]))"
            ]
          },
          "metadata": {},
          "execution_count": 9
        }
      ]
    },
    {
      "cell_type": "markdown",
      "metadata": {
        "id": "ceth4g6tWUqW"
      },
      "source": [
        "We’re curious, so we can display the output."
      ]
    },
    {
      "cell_type": "code",
      "metadata": {
        "id": "sZJEcnoEWPnI",
        "colab": {
          "base_uri": "https://localhost:8080/",
          "height": 0
        },
        "outputId": "fc438041-98c9-4941-f587-4280e66cd425"
      },
      "source": [
        "plt.imshow(output[0, 0].detach(), cmap=\"gray\")\n",
        "plt.show()"
      ],
      "execution_count": 10,
      "outputs": [
        {
          "output_type": "display_data",
          "data": {
            "text/plain": [
              "<Figure size 640x480 with 1 Axes>"
            ],
            "image/png": "[encoded data removed]"
          },
          "metadata": {}
        }
      ]
    },
    {
      "cell_type": "code",
      "metadata": {
        "id": "D9evxvQbWifv",
        "colab": {
          "base_uri": "https://localhost:8080/",
          "height": 0
        },
        "outputId": "a027f422-d6a6-4088-bb26-0fdaeff6226c"
      },
      "source": [
        "plt.figure(figsize=(10, 4.8))\n",
        "ax1 = plt.subplot(1, 2, 1)\n",
        "plt.title('output')\n",
        "plt.imshow(output[0, 0].detach(), cmap='gray')\n",
        "plt.subplot(1, 2, 2, sharex=ax1, sharey=ax1)\n",
        "plt.imshow(img.mean(0), cmap='gray')\n",
        "plt.title('input')\n",
        "\n",
        "plt.show()"
      ],
      "execution_count": 11,
      "outputs": [
        {
          "output_type": "display_data",
          "data": {
            "text/plain": [
              "<Figure size 1000x480 with 2 Axes>"
            ],
            "image/png": "[encoded data removed]"
          },
          "metadata": {}
        }
      ]
    },
    {
      "cell_type": "markdown",
      "metadata": {
        "id": "4WDcxQIAXAN3"
      },
      "source": [
        "Wait a minute. Let’s take a look a the size of output: it’s `torch.Size([1, 16, 30, 30])`. Huh; we lost a few pixels in the process.\n",
        "\n",
        "How did that happen?"
      ]
    },
    {
      "cell_type": "markdown",
      "metadata": {
        "id": "g4aamEQvXGzK"
      },
      "source": [
        "## Padding the boundary"
      ]
    },
    {
      "cell_type": "markdown",
      "metadata": {
        "id": "rPStthf9XH13"
      },
      "source": [
        "By default, PyTorch will slide the convolution kernel within the input picture, getting `width - kernel_width + 1` horizontal and vertical positions.\n",
        "\n",
        "In our case, specifying padding=1 when kernel_size=3 means i00 has an extra set\n",
        "of neighbors above it and to its left, so that an output of the convolution can be computed even in the corner of our original image."
      ]
    },
    {
      "cell_type": "code",
      "metadata": {
        "id": "v3VzAsO4Wyuk",
        "colab": {
          "base_uri": "https://localhost:8080/"
        },
        "outputId": "04857d4e-bd6f-450d-b125-ef9455d0b3e7"
      },
      "source": [
        "# Now with padding\n",
        "conv = nn.Conv2d(3, 16, kernel_size=3, padding=1)\n",
        "output = conv(img.unsqueeze(0))\n",
        "img.unsqueeze(0).shape, output.shape"
      ],
      "execution_count": 12,
      "outputs": [
        {
          "output_type": "execute_result",
          "data": {
            "text/plain": [
              "(torch.Size([1, 3, 32, 32]), torch.Size([1, 16, 32, 32]))"
            ]
          },
          "metadata": {},
          "execution_count": 12
        }
      ]
    },
    {
      "cell_type": "markdown",
      "metadata": {
        "id": "N8GFtKsIdDM4"
      },
      "source": [
        "## Detecting features"
      ]
    },
    {
      "cell_type": "markdown",
      "metadata": {
        "id": "r-V1r3JtdGQK"
      },
      "source": [
        "Let’s first zero out bias, just to remove any confounding factors, and then set\n",
        "weights to a constant value so that each pixel in the output gets the mean of its neighbors."
      ]
    },
    {
      "cell_type": "code",
      "metadata": {
        "id": "RR6D0sRScSuZ"
      },
      "source": [
        "with torch.no_grad():\n",
        "  conv.bias.zero_()\n",
        "\n",
        "with torch.no_grad():\n",
        "  conv.weight.fill_(1.0 / 9.0)"
      ],
      "execution_count": 13,
      "outputs": []
    },
    {
      "cell_type": "markdown",
      "source": [
        "let’s see the effect on our CIFAR image."
      ],
      "metadata": {
        "id": "M7NBrHRxNpc9"
      }
    },
    {
      "cell_type": "code",
      "metadata": {
        "id": "TKzL-y797dKQ",
        "colab": {
          "base_uri": "https://localhost:8080/",
          "height": 0
        },
        "outputId": "564ac92e-445a-4431-b6b9-96edb641ad41"
      },
      "source": [
        "output = conv(img.unsqueeze(0))\n",
        "plt.figure(figsize=(10, 4.8))  # bookskip\n",
        "ax1 = plt.subplot(1, 2, 1)   # bookskip\n",
        "plt.title('output')   # bookskip\n",
        "plt.imshow(output[0, 0].detach(), cmap='gray')\n",
        "plt.subplot(1, 2, 2, sharex=ax1, sharey=ax1)  # bookskip\n",
        "plt.imshow(img.mean(0), cmap='gray')  # bookskip\n",
        "plt.title('input')  # bookskip\n",
        "plt.show()"
      ],
      "execution_count": 14,
      "outputs": [
        {
          "output_type": "display_data",
          "data": {
            "text/plain": [
              "<Figure size 1000x480 with 2 Axes>"
            ],
            "image/png": "[encoded data removed]"
          },
          "metadata": {}
        }
      ]
    },
    {
      "cell_type": "markdown",
      "metadata": {
        "id": "b9IkQxHzAZYb"
      },
      "source": [
        "Next, let’s try something different. The following kernel may look a bit mysterious at first:"
      ]
    },
    {
      "cell_type": "code",
      "metadata": {
        "id": "joghodwEAMZ9"
      },
      "source": [
        "conv = nn.Conv2d(3, 1, kernel_size=3, padding=1)\n",
        "\n",
        "with torch.no_grad():\n",
        "  conv.weight[:] = torch.tensor([\n",
        "    [-1.0, 0.0, 1.0],\n",
        "    [-1.0, 0.0, 1.0],\n",
        "    [-1.0, 0.0, 1.0]\n",
        "  ])\n",
        "  conv.bias.zero_()"
      ],
      "execution_count": 15,
      "outputs": []
    },
    {
      "cell_type": "code",
      "metadata": {
        "id": "jBE6SxwTBBSI",
        "colab": {
          "base_uri": "https://localhost:8080/",
          "height": 0
        },
        "outputId": "82704032-bac0-4c62-9f78-ec1af58f0338"
      },
      "source": [
        "output = conv(img.unsqueeze(0))\n",
        "plt.figure(figsize=(10, 4.8))  # bookskip\n",
        "ax1 = plt.subplot(1, 2, 1)   # bookskip\n",
        "plt.title('output')   # bookskip\n",
        "plt.imshow(output[0, 0].detach(), cmap='gray')\n",
        "plt.subplot(1, 2, 2, sharex=ax1, sharey=ax1)  # bookskip\n",
        "plt.imshow(img.mean(0), cmap='gray')  # bookskip\n",
        "plt.title('input')  # bookskip\n",
        "\n",
        "plt.show()"
      ],
      "execution_count": 16,
      "outputs": [
        {
          "output_type": "display_data",
          "data": {
            "text/plain": [
              "<Figure size 1000x480 with 2 Axes>"
            ],
            "image/png": "[encoded data removed]"
          },
          "metadata": {}
        }
      ]
    },
    {
      "cell_type": "markdown",
      "metadata": {
        "id": "YI2abTOXIZhB"
      },
      "source": [
        "## Max pooling"
      ]
    },
    {
      "cell_type": "markdown",
      "metadata": {
        "id": "gkZLWpCbIajG"
      },
      "source": [
        "If we wish to downsample our image by half, we’ll want to use a size of 2.\n",
        "\n",
        "Let’s verify that it works as expected directly on our input image:"
      ]
    },
    {
      "cell_type": "code",
      "metadata": {
        "id": "MJ5XDwRVvSSa",
        "colab": {
          "base_uri": "https://localhost:8080/"
        },
        "outputId": "46593d59-cdda-4ec3-ece9-9f026ccef02d"
      },
      "source": [
        "pool = nn.MaxPool2d(2)\n",
        "output = pool(img.unsqueeze(0))\n",
        "\n",
        "img.unsqueeze(0).shape, output.shape"
      ],
      "execution_count": 17,
      "outputs": [
        {
          "output_type": "execute_result",
          "data": {
            "text/plain": [
              "(torch.Size([1, 3, 32, 32]), torch.Size([1, 3, 16, 16]))"
            ]
          },
          "metadata": {},
          "execution_count": 17
        }
      ]
    },
    {
      "cell_type": "markdown",
      "metadata": {
        "id": "AiItKYOGw3D6"
      },
      "source": [
        "## Putting it all together"
      ]
    },
    {
      "cell_type": "markdown",
      "metadata": {
        "id": "1edjoyfl1iLE"
      },
      "source": [
        "Thinking back to the beginning of this chapter, we already know what we need to\n",
        "do: turn the 8-channel 8 × 8 image into a 1D vector and complete our network with a set of fully connected layers:"
      ]
    },
    {
      "cell_type": "code",
      "metadata": {
        "id": "-YRIRum5BKj2"
      },
      "source": [
        "model = nn.Sequential(\n",
        "    nn.Conv2d(3, 16, kernel_size=3, padding=1),\n",
        "    nn.Tanh(),\n",
        "    nn.MaxPool2d(2),\n",
        "\n",
        "    nn.Conv2d(16, 8, kernel_size=3, padding=1),\n",
        "    nn.Tanh(),\n",
        "    nn.MaxPool2d(2),\n",
        "\n",
        "    # ...<1>\n",
        "\n",
        "    nn.Linear(8 * 8 * 8, 32),\n",
        "    nn.Tanh(),\n",
        "    nn.Linear(32, 2)\n",
        ")"
      ],
      "execution_count": 19,
      "outputs": []
    },
    {
      "cell_type": "markdown",
      "metadata": {
        "id": "ixhmK1J_27MS"
      },
      "source": [
        "Ignore the “something missing” comment for a minute.\n",
        "\n",
        "Let’s first notice that the size of the linear layer is dependent on the expected size of the output of `MaxPool2d: 8 × 8 × 8 = 512`.\n",
        "\n",
        "Let’s count the number of parameters for this small model:"
      ]
    },
    {
      "cell_type": "code",
      "metadata": {
        "id": "idEBdwDi20SM",
        "colab": {
          "base_uri": "https://localhost:8080/"
        },
        "outputId": "f8eef85b-b199-4438-d55b-5142def67033"
      },
      "source": [
        "numel_list = [p.numel() for p in model.parameters()]\n",
        "sum(numel_list), numel_list"
      ],
      "execution_count": 20,
      "outputs": [
        {
          "output_type": "execute_result",
          "data": {
            "text/plain": [
              "(18090, [432, 16, 1152, 8, 16384, 32, 64, 2])"
            ]
          },
          "metadata": {},
          "execution_count": 20
        }
      ]
    },
    {
      "cell_type": "markdown",
      "metadata": {
        "id": "xthpjWPl3sfc"
      },
      "source": [
        "We put the “Warning” note in the code for a reason. The model has zero chance of\n",
        "running without complaining:"
      ]
    },
    {
      "cell_type": "code",
      "metadata": {
        "id": "zs8ISdOv3mVF"
      },
      "source": [
        "#model(img.unsqueeze(0))"
      ],
      "execution_count": 22,
      "outputs": []
    },
    {
      "cell_type": "markdown",
      "source": [
        "```log\n",
        "---------------------------------------------------------------------------\n",
        "RuntimeError                              Traceback (most recent call last)\n",
        "<ipython-input-21-9c784fd7714c> in <cell line: 1>()\n",
        "----> 1 model(img.unsqueeze(0))\n",
        "\n",
        "5 frames\n",
        "/usr/local/lib/python3.10/dist-packages/torch/nn/modules/linear.py in forward(self, input)\n",
        "    112\n",
        "    113     def forward(self, input: Tensor) -> Tensor:\n",
        "--> 114         return F.linear(input, self.weight, self.bias)\n",
        "    115\n",
        "    116     def extra_repr(self) -> str:\n",
        "\n",
        "RuntimeError: mat1 and mat2 shapes cannot be multiplied (64x8 and 512x32)\n",
        "```"
      ],
      "metadata": {
        "id": "DE8RWbfZTWLc"
      }
    },
    {
      "cell_type": "markdown",
      "metadata": {
        "id": "SvvYhkD04B2t"
      },
      "source": [
        "Admittedly, the error message is a bit obscure, but not too much so. We find references to linear in the traceback: looking back at the model, we see that only module that has to have a `512 × 32` tensor is `nn.Linear(512, 32)`, the first linear module after the last convolution block.\n",
        "\n",
        "What’s missing there is the reshaping step from an 8-channel `8 × 8` image to a 512-element, 1D vector (1D if we ignore the batch dimension, that is). This could be achieved by calling view on the output of the last `nn.MaxPool2d`, but unfortunately, we don’t have any explicit visibility of the output of each module when we use `nn.Sequential`."
      ]
    },
    {
      "cell_type": "markdown",
      "metadata": {
        "id": "Q5ANOLxcEYQk"
      },
      "source": [
        "## Subclassing nn.Module"
      ]
    },
    {
      "cell_type": "markdown",
      "metadata": {
        "id": "cEgJANh1revX"
      },
      "source": [
        "When we want to build models that do more complex things than just applying\n",
        "one layer after another, we need to leave for something that gives us\n",
        "nn.Sequential added flexibility. PyTorch allows us to use any computation in our model by subclassing nn.Module.\n",
        "\n",
        "In order to subclass nn.Module, at a minimum we need to define a function\n",
        "forward that takes the inputs to the module and returns the output. This is where we define our module’s computation.\n",
        "\n",
        "With PyTorch, if we use standard torch operations, autograd will take care of the backward pass automatically; and indeed, an nn.Module never comes with a backward.\n",
        "\n",
        "Typically, our computation will use other modules—premade like convolutions or\n",
        "customized. To include these submodules, we typically define them in the constructor `__init__` and assign them to self for use in the forward function. They will, at the same time, hold their parameters throughout the lifetime of our module. Note that you need to call `super().__init__()` before you can do that (or PyTorch will remind you)."
      ]
    },
    {
      "cell_type": "markdown",
      "metadata": {
        "id": "NxjdvnWSsOsX"
      },
      "source": [
        "### Our network as an nn.Module"
      ]
    },
    {
      "cell_type": "markdown",
      "metadata": {
        "id": "VHQLkX_KsSw-"
      },
      "source": [
        "Let’s write our network as a submodule. To do so, we instantiate all the nn.Conv2d, nn.Linear, and so on that we previously passed to nn.Sequential in the constructor, and then use their instances one after another in forward:"
      ]
    },
    {
      "cell_type": "code",
      "metadata": {
        "id": "W-ooeLPo3xUi"
      },
      "source": [
        "class Net(nn.Module):\n",
        "\n",
        "  def __init__(self):\n",
        "    super().__init__()\n",
        "    self.conv1 = nn.Conv2d(3, 16, kernel_size=3, padding=1)\n",
        "    self.activation1 = nn.Tanh()\n",
        "    self.pool1 = nn.MaxPool2d(2)\n",
        "\n",
        "    self.conv2 = nn.Conv2d(16, 8, kernel_size=3, padding=1)\n",
        "    self.activation2 = nn.Tanh()\n",
        "    self.pool2 = nn.MaxPool2d(2)\n",
        "\n",
        "    self.fc1 = nn.Linear(8 * 8 * 8, 32)\n",
        "    self.activation3 = nn.Tanh()\n",
        "    self.fc2 = nn.Linear(32, 2)\n",
        "\n",
        "  def forward(self, x):\n",
        "    out = self.pool1(self.activation1(self.conv1(x)))\n",
        "    out = self.pool2(self.activation2(self.conv2(out)))\n",
        "    # This reshape is what we were missing earlier.\n",
        "    out = out.view(-1, 8 * 8 * 8)\n",
        "    out = self.activation3(self.fc1(out))\n",
        "    out = self.fc2(out)\n",
        "\n",
        "    return out"
      ],
      "execution_count": null,
      "outputs": []
    },
    {
      "cell_type": "markdown",
      "metadata": {
        "id": "s3pUUlnY0i_K"
      },
      "source": [
        "Note that we leave the batch dimension as –1 in the call to view, since in principle we don’t know how many samples will be in the batch.\n",
        "\n",
        "Recall that the goal of classification networks typically is to compress information in the sense that we start with an image with a sizable number of pixels and compress it into (a vector of probabilities of) classes. Two things about our architecture deserve some commentary with respect to this goal.\n",
        "\n",
        "First, our goal is reflected by the size of our intermediate values generally\n",
        "shrinking—this is done by reducing the number of channels in the convolutions, by reducing the number of pixels through pooling, and by having an output dimension lower than the input dimension in the linear layers. This is a common trait of classification networks. However, the reduction is achieved by pooling in the spatial resolution, but the number of channels increases (still resulting in a reduction in size). It seems that our pattern of fast information reduction works well with networks of limited depth and small images; but for deeper networks, the decrease is typically slower.\n",
        "\n",
        "Second, in one layer, there is not a reduction of output size with regard to input size: the initial convolution. If we consider a single output pixel as a vector of 32 elements (the channels), it is a linear transformation of 27 elements (as a convolution of 3 channels × 3 × 3 kernel size)—only a moderate increase."
      ]
    },
    {
      "cell_type": "markdown",
      "metadata": {
        "id": "4TfnY4Kn1XyG"
      },
      "source": [
        "### How PyTorch keeps track of parameters and submodules"
      ]
    },
    {
      "cell_type": "markdown",
      "metadata": {
        "id": "HL3G1KZ01Zhe"
      },
      "source": [
        "Interestingly, assigning an instance of nn.Module to an attribute in an nn.Module, automatically registers the module as a submodule."
      ]
    },
    {
      "cell_type": "code",
      "metadata": {
        "id": "sdDoN09i0YoG",
        "colab": {
          "base_uri": "https://localhost:8080/"
        },
        "outputId": "8d54d15b-5875-4144-e486-7fa822538a1b"
      },
      "source": [
        "net = Net()\n",
        "\n",
        "numel_list = [p.numel() for p in model.parameters()]\n",
        "sum(numel_list), numel_list"
      ],
      "execution_count": null,
      "outputs": [
        {
          "output_type": "execute_result",
          "data": {
            "text/plain": [
              "(18090, [432, 16, 1152, 8, 16384, 32, 64, 2])"
            ]
          },
          "metadata": {
            "tags": []
          },
          "execution_count": 25
        }
      ]
    },
    {
      "cell_type": "markdown",
      "metadata": {
        "id": "uclVkuGA4jkN"
      },
      "source": [
        "What happens here is that the call delves into all submodules assigned\n",
        "parameters() as attributes in the constructor and recursively calls\n",
        "on them. No matter parameters()  how nested the submodule, any can access the list of all child parameters. nn.Module By accessing their grad attribute, which has been populated by autograd, the optimizer will know how to change parameters to minimize the loss."
      ]
    },
    {
      "cell_type": "markdown",
      "metadata": {
        "id": "MDymMIAEFNd2"
      },
      "source": [
        "### The functional API"
      ]
    },
    {
      "cell_type": "markdown",
      "metadata": {
        "id": "KE8o18vkFOq3"
      },
      "source": [
        "By “functional” here we mean “having no internal state”—in other words, “whose output value is solely and fully determined by the value input arguments.”\n",
        "\n",
        "Indeed, torch.nn.functional provides many functions that work like the modules we find in nn. But instead of working on the input arguments and stored parameters like the module counterparts, they take inputs and parameters as arguments to the function call.\n",
        "\n",
        "For instance, the functional counterpart of nn.Linear is nn.functional.linear,\n",
        "which is a function that has signature linear(input, weight, bias=None). The\n",
        "weight and bias parameters are arguments to the function."
      ]
    },
    {
      "cell_type": "code",
      "metadata": {
        "id": "Al3gxV1K4P76"
      },
      "source": [
        "class Net(nn.Module):\n",
        "\n",
        "  def __init__(self):\n",
        "    super().__init__()\n",
        "    self.conv1 = nn.Conv2d(3, 16, kernel_size=3, padding=1)\n",
        "    self.conv2 = nn.Conv2d(16, 8, kernel_size=3, padding=1)\n",
        "    self.fc1 = nn.Linear(8 * 8 * 8, 32)\n",
        "    self.fc2 = nn.Linear(32, 2)\n",
        "\n",
        "  def forward(self, x):\n",
        "    out = F.max_pool2d(torch.tanh(self.conv1(x)), 2)\n",
        "    out = F.max_pool2d(torch.tanh(self.conv2(out)), 2)\n",
        "    out = out.view(-1, 8 * 8 * 8)\n",
        "    out = torch.tanh(self.fc1(out))\n",
        "    out = self.fc2(out)\n",
        "\n",
        "    return out"
      ],
      "execution_count": null,
      "outputs": []
    },
    {
      "cell_type": "markdown",
      "metadata": {
        "id": "jFpo5Jh0Ijr7"
      },
      "source": [
        "Thus, the functional way also sheds light on what the nn.Module API is all about: a Module is a container for state in the forms of Parameters and submodules combined with the instructions to do a forward.\n",
        "\n",
        "Whether to use the functional or the modular API is a decision based on style and taste. When part of a network is so simple that we want to use nn.Sequential, we’re in the modular realm. When we are writing our own forwards, it may be more natural to use the functional interface for things that do not need state in the form of parameters.\n",
        "\n",
        "So now we can make our own nn.Module if we need to, and we also have the functional API for cases when instantiating and then calling an nn.Module is overkill.\n",
        "\n",
        "Let’s double-check that our model runs, and then we’ll get to the training loop:"
      ]
    },
    {
      "cell_type": "code",
      "metadata": {
        "id": "CmwhFIGeIXrL",
        "colab": {
          "base_uri": "https://localhost:8080/"
        },
        "outputId": "40dfc0c6-4c86-4df1-9667-d59536b95f87"
      },
      "source": [
        "model = Net()\n",
        "model(img.unsqueeze(0))"
      ],
      "execution_count": null,
      "outputs": [
        {
          "output_type": "execute_result",
          "data": {
            "text/plain": [
              "tensor([[0.1720, 0.1507]], grad_fn=<AddmmBackward>)"
            ]
          },
          "metadata": {
            "tags": []
          },
          "execution_count": 27
        }
      ]
    },
    {
      "cell_type": "markdown",
      "metadata": {
        "id": "JyU4XAGPJpc7"
      },
      "source": [
        "We got two numbers! Information flows correctly. We might not realize it right now, but in more complex models, getting the size of the first linear layer right is sometimes a source of frustration."
      ]
    },
    {
      "cell_type": "markdown",
      "metadata": {
        "id": "beTvODnmJrsp"
      },
      "source": [
        "## Training our convnet"
      ]
    },
    {
      "cell_type": "markdown",
      "metadata": {
        "id": "-5nAGUC3JviO"
      },
      "source": [
        "We’re now at the point where we can assemble our complete training loop.\n",
        "\n",
        "The core of our convnet is two nested loops: an outer one over the epochs and an inner one of the DataLoader that produces batches from our Dataset.\n",
        "\n",
        "In each loop, we then have to\n",
        "\n",
        "1. Feed the inputs through the model (the forward pass).\n",
        "2. Compute the loss (also part of the forward pass).\n",
        "3. Zero any old gradients.\n",
        "4. Call loss.backward() to compute the gradients of the loss with respect to all\n",
        "parameters (the backward pass).\n",
        "5. Have the optimizer take a step in toward lower loss."
      ]
    },
    {
      "cell_type": "code",
      "metadata": {
        "id": "tsbVA_WeJSyM"
      },
      "source": [
        "def training_loop(n_epochs, optimizer, model, loss_fn, train_loader):\n",
        "  # loop over the epochs, numbered from 1 to n_epochs rather than starting at 0\n",
        "  for epoch in range(1, n_epochs + 1):\n",
        "    loss_train = 0.0\n",
        "    # Loops over dataset in the batches the data loader creates for us\n",
        "    for imgs, labels in train_loader:\n",
        "      # Feeds a batch through our model\n",
        "      outputs = model(imgs)\n",
        "      # and computes the loss we wish to minimize\n",
        "      loss = loss_fn(outputs, labels)\n",
        "      # After getting rid of the gradients from the last round\n",
        "      optimizer.zero_grad()\n",
        "      # performs the backward step. That is, we compute the gradients of all parameters we want the network to learn.\n",
        "      loss.backward()\n",
        "      # Updates the model\n",
        "      optimizer.step()\n",
        "      # Sums the losses\n",
        "      loss_train += loss.item()\n",
        "    if epoch == 1 or epoch % 10 == 0:\n",
        "      # Divides by the length of the training data loader to get the average loss per batch.\n",
        "      print(\"{} Epoch {}, Training loss {}\".format(datetime.datetime.now(), epoch, loss_train / len(train_loader)))"
      ],
      "execution_count": null,
      "outputs": []
    },
    {
      "cell_type": "markdown",
      "metadata": {
        "id": "VeQ8xgBkSi6g"
      },
      "source": [
        "We use the Dataset; wrap it into a DataLoader; instantiate our network,\n",
        "an optimizer, and a loss function as before; and call our training loop.\n",
        "\n",
        "Let’s run training for 100 epochs while printing the loss. Depending on your hardware, this may take 20 minutes or more to finish!"
      ]
    },
    {
      "cell_type": "code",
      "metadata": {
        "id": "WpC7cfe_Sg79",
        "colab": {
          "base_uri": "https://localhost:8080/"
        },
        "outputId": "a6c835d6-330c-449d-de19-1112191bb0c0"
      },
      "source": [
        "# The DataLoader batches up the examples of our cifar2 dataset.\n",
        "# Shuffling randomizes the order of the examples from the dataset.\n",
        "train_loader = torch.utils.data.DataLoader(cifar2, batch_size=64, shuffle=True)\n",
        "\n",
        "# Instantiates our network …\n",
        "model = Net()\n",
        "\n",
        "# the stochastic gradient descent optimizer we have been working with\n",
        "optimizer = optim.SGD(model.parameters(), lr=1e-2)\n",
        "# and the cross entropy loss\n",
        "loss_fn = nn.CrossEntropyLoss()\n",
        "\n",
        "training_loop(n_epochs=100, optimizer=optimizer, model=model, loss_fn=loss_fn, train_loader=train_loader)"
      ],
      "execution_count": null,
      "outputs": [
        {
          "output_type": "stream",
          "text": [
            "2021-01-18 06:44:29.795152 Epoch 1, Training loss 0.5786836488991026\n",
            "2021-01-18 06:45:00.125941 Epoch 10, Training loss 0.3248441396815002\n",
            "2021-01-18 06:45:33.411864 Epoch 20, Training loss 0.2937185798481012\n",
            "2021-01-18 06:46:06.318092 Epoch 30, Training loss 0.2710140582862174\n",
            "2021-01-18 06:46:39.502667 Epoch 40, Training loss 0.2544134628905612\n",
            "2021-01-18 06:47:12.510468 Epoch 50, Training loss 0.24225453652773693\n",
            "2021-01-18 06:47:45.723106 Epoch 60, Training loss 0.2242267387118309\n",
            "2021-01-18 06:48:18.840873 Epoch 70, Training loss 0.21108372443041223\n",
            "2021-01-18 06:48:51.923412 Epoch 80, Training loss 0.19629904437976278\n",
            "2021-01-18 06:49:25.295719 Epoch 90, Training loss 0.1811957617948769\n",
            "2021-01-18 06:49:58.331065 Epoch 100, Training loss 0.16627288676181418\n"
          ],
          "name": "stdout"
        }
      ]
    },
    {
      "cell_type": "markdown",
      "metadata": {
        "id": "NMQw6Zg-UgA-"
      },
      "source": [
        "### Measuring accuracy"
      ]
    },
    {
      "cell_type": "markdown",
      "metadata": {
        "id": "s1rIffg0UhAZ"
      },
      "source": [
        "In order to have a measure that is more interpretable than the loss, we can take a look at our accuracies on the training and validation datasets."
      ]
    },
    {
      "cell_type": "code",
      "metadata": {
        "id": "xdOBbYsFT23v"
      },
      "source": [
        "train_loader = torch.utils.data.DataLoader(cifar2, batch_size=64, shuffle=False)\n",
        "val_loader = torch.utils.data.DataLoader(cifar2_val, batch_size=64, shuffle=False)"
      ],
      "execution_count": null,
      "outputs": []
    },
    {
      "cell_type": "code",
      "metadata": {
        "id": "B3qqlTa08Waj",
        "colab": {
          "base_uri": "https://localhost:8080/"
        },
        "outputId": "4a75c744-64eb-47d8-8df7-e1aab83f081b"
      },
      "source": [
        "def validate(model, train_loader, val_loader):\n",
        "  for name, loader in [(\"train\", train_loader), (\"val\", val_loader)]:\n",
        "    correct = 0\n",
        "    total = 0\n",
        "    # We do not want gradients here, as we will not want to update the parameters\n",
        "    with torch.no_grad():\n",
        "      for imgs, labels in loader:\n",
        "        outputs = model(imgs)\n",
        "        # Gives us the index of the highest value as output\n",
        "        _, predicted = torch.max(outputs, dim=1)\n",
        "        # Counts the number of examples, so total is increased by the batch size\n",
        "        total += labels.shape[0]\n",
        "        # Comparing the predicted class that had the maximum probability and the ground-truth labels, we first get a Boolean array. Taking the\n",
        "        # sum gives the number of items in the batch where the prediction and ground truth agree.\n",
        "        correct += int((predicted == labels).sum())\n",
        "    print(\"Accuracy {}: {:.2f}\".format(name, correct / total))\n",
        "\n",
        "validate(model, train_loader, val_loader)"
      ],
      "execution_count": null,
      "outputs": [
        {
          "output_type": "stream",
          "text": [
            "Accuracy train: 0.94\n",
            "Accuracy val: 0.89\n"
          ],
          "name": "stdout"
        }
      ]
    },
    {
      "cell_type": "markdown",
      "metadata": {
        "id": "YGMHP80O-hMs"
      },
      "source": [
        "This is quite a lot better than the fully connected model, which achieved only 79% accuracy. We about halved the number of errors on the validation set. Also, we used far fewer parameters. **This is telling us that the model does a better job of generalizing its task of recognizing the subject of images from a new sample, through locality and translation invariance.** We could now let it run for more epochs and see what performance we could squeeze out."
      ]
    },
    {
      "cell_type": "markdown",
      "metadata": {
        "id": "54cEaZVn-xgW"
      },
      "source": [
        "### Saving and loading our model"
      ]
    },
    {
      "cell_type": "markdown",
      "metadata": {
        "id": "e7z7yZ0B-yYi"
      },
      "source": [
        "Since we’re satisfied with our model so far, it would be nice to actually save it, right?"
      ]
    },
    {
      "cell_type": "code",
      "metadata": {
        "id": "GKsK2Kot-Mqx"
      },
      "source": [
        "torch.save(model.state_dict(), data_path + \"birds_vs_airplanes.pt\")"
      ],
      "execution_count": null,
      "outputs": []
    },
    {
      "cell_type": "markdown",
      "metadata": {
        "id": "q1zlYIzM_SeB"
      },
      "source": [
        "The birds_vs_airplanes.pt file now contains all the parameters of model: that is, weights and biases for the two convolution modules and the two linear modules. So, no structure—just the weights. **This means when we deploy the model in production for our friend, we’ll need to keep the model class handy, create an instance, and then load the parameters back into it**:"
      ]
    },
    {
      "cell_type": "code",
      "metadata": {
        "id": "7mZxIood_o9p",
        "colab": {
          "base_uri": "https://localhost:8080/"
        },
        "outputId": "e803f749-decd-42f2-d139-e299cf83c010"
      },
      "source": [
        "# We will have to make sure we don’t change the definition of Net between saving and later loading the model state.\n",
        "loaded_model = Net()\n",
        "loaded_model.load_state_dict(torch.load(data_path + \"birds_vs_airplanes.pt\"))"
      ],
      "execution_count": null,
      "outputs": [
        {
          "output_type": "execute_result",
          "data": {
            "text/plain": [
              "<All keys matched successfully>"
            ]
          },
          "metadata": {
            "tags": []
          },
          "execution_count": 33
        }
      ]
    },
    {
      "cell_type": "markdown",
      "metadata": {
        "id": "-NV-DKuyA7qv"
      },
      "source": [
        "### Training on the GPU"
      ]
    },
    {
      "cell_type": "markdown",
      "metadata": {
        "id": "n68P_QU0A70_"
      },
      "source": [
        "It is considered good style to move things to the GPU if one is available. A good pattern is to set the a variable device depending on torch.cuda.is_available:"
      ]
    },
    {
      "cell_type": "code",
      "metadata": {
        "id": "9rbORur8_1ZD",
        "colab": {
          "base_uri": "https://localhost:8080/"
        },
        "outputId": "c1199fd8-e928-4c8d-9640-6e7b49817b0d"
      },
      "source": [
        "device = (torch.device(\"cuda\") if torch.cuda.is_available() else torch.device(\"cpu\"))\n",
        "print(f\"Training on device {device}.\")"
      ],
      "execution_count": null,
      "outputs": [
        {
          "output_type": "stream",
          "text": [
            "Training on device cuda.\n"
          ],
          "name": "stdout"
        }
      ]
    },
    {
      "cell_type": "markdown",
      "metadata": {
        "id": "pCMczbvCBbrS"
      },
      "source": [
        "Then we can amend the training loop by moving the tensors we get from the data\n",
        "loader to the GPU by using the Tensor.to method. Note that the code is exactly like our first version at the beginning of this section except for the two lines moving the inputs to the GPU:"
      ]
    },
    {
      "cell_type": "code",
      "metadata": {
        "id": "z6YqVZNZBSTb"
      },
      "source": [
        "def training_loop(n_epochs, optimizer, model, loss_fn, train_loader):\n",
        "  # loop over the epochs, numbered from 1 to n_epochs rather than starting at 0\n",
        "  for epoch in range(1, n_epochs + 1):\n",
        "    loss_train = 0.0\n",
        "    # Loops over dataset in the batches the data loader creates for us\n",
        "    for imgs, labels in train_loader:\n",
        "      # These two lines that move imgs and labels to the GPU device\n",
        "      imgs = imgs.to(device=device)\n",
        "      labels = labels.to(device=device)\n",
        "      # Feeds a batch through our model\n",
        "      outputs = model(imgs)\n",
        "      # and computes the loss we wish to minimize\n",
        "      loss = loss_fn(outputs, labels)\n",
        "      # After getting rid of the gradients from the last round\n",
        "      optimizer.zero_grad()\n",
        "      # performs the backward step. That is, we compute the gradients of all parameters we want the network to learn.\n",
        "      loss.backward()\n",
        "      # Updates the model\n",
        "      optimizer.step()\n",
        "      # Sums the losses\n",
        "      loss_train += loss.item()\n",
        "    if epoch == 1 or epoch % 10 == 0:\n",
        "      # Divides by the length of the training data loader to get the average loss per batch.\n",
        "      print(\"{} Epoch {}, Training loss {}\".format(datetime.datetime.now(), epoch, loss_train / len(train_loader)))"
      ],
      "execution_count": null,
      "outputs": []
    },
    {
      "cell_type": "markdown",
      "metadata": {
        "id": "5sxJmqMNCUgo"
      },
      "source": [
        "The same amendment must be made to the validate function. We can then instantiate our model, move it to device, and run it as before:"
      ]
    },
    {
      "cell_type": "code",
      "metadata": {
        "id": "ENJm9SUBCN94",
        "colab": {
          "base_uri": "https://localhost:8080/"
        },
        "outputId": "1a482eef-6047-490f-fa36-d67bf8540e77"
      },
      "source": [
        "# The DataLoader batches up the examples of our cifar2 dataset.\n",
        "# Shuffling randomizes the order of the examples from the dataset.\n",
        "train_loader = torch.utils.data.DataLoader(cifar2, batch_size=64, shuffle=True)\n",
        "\n",
        "# Moves our model (all parameters) to the GPU. If you forget to move either the model or the inputs to the GPU,\n",
        "# you will get errors about tensors not being on the same device, because the PyTorch operators do not support mixing GPU and CPU inputs.\n",
        "model = Net().to(device=device)\n",
        "\n",
        "# the stochastic gradient descent optimizer we have been working with\n",
        "optimizer = optim.SGD(model.parameters(), lr=1e-2)\n",
        "# and the cross entropy loss\n",
        "loss_fn = nn.CrossEntropyLoss()\n",
        "\n",
        "training_loop(n_epochs=100, optimizer=optimizer, model=model, loss_fn=loss_fn, train_loader=train_loader)"
      ],
      "execution_count": null,
      "outputs": [
        {
          "output_type": "stream",
          "text": [
            "2021-01-18 06:50:11.825812 Epoch 1, Training loss 0.5637948120095927\n",
            "2021-01-18 06:50:15.234206 Epoch 10, Training loss 0.33427952210994283\n",
            "2021-01-18 06:50:19.000042 Epoch 20, Training loss 0.29963565527633496\n",
            "2021-01-18 06:50:22.674725 Epoch 30, Training loss 0.2760529989839359\n",
            "2021-01-18 06:50:26.467777 Epoch 40, Training loss 0.25198076560998417\n",
            "2021-01-18 06:50:30.197634 Epoch 50, Training loss 0.2354876129965114\n",
            "2021-01-18 06:50:33.860346 Epoch 60, Training loss 0.22041681185839282\n",
            "2021-01-18 06:50:37.606905 Epoch 70, Training loss 0.20427968025587168\n",
            "2021-01-18 06:50:41.547947 Epoch 80, Training loss 0.1874170883256159\n",
            "2021-01-18 06:50:45.374443 Epoch 90, Training loss 0.17569316036192476\n",
            "2021-01-18 06:50:49.334110 Epoch 100, Training loss 0.16044840719669487\n"
          ],
          "name": "stdout"
        }
      ]
    },
    {
      "cell_type": "markdown",
      "metadata": {
        "id": "ZwS9mSjkC-HY"
      },
      "source": [
        "Even for our small network here, we do see a sizable increase in speed. The advantage of computing on GPUs is more visible for larger models.\n",
        "\n",
        "It is a bit more concise to instruct PyTorch to override the device\n",
        "information when loading weights. This is done by passing the map_location keyword argument to torch.load:"
      ]
    },
    {
      "cell_type": "code",
      "metadata": {
        "id": "sdG6o5SCCzua",
        "colab": {
          "base_uri": "https://localhost:8080/"
        },
        "outputId": "c40780af-0684-4d87-d09e-5c3401e6dfd9"
      },
      "source": [
        "# We will have to make sure we don’t change the definition of Net between saving and later loading the model state.\n",
        "loaded_model = Net().to(device=device)\n",
        "loaded_model.load_state_dict(torch.load(data_path + \"birds_vs_airplanes.pt\", map_location=device))"
      ],
      "execution_count": null,
      "outputs": [
        {
          "output_type": "execute_result",
          "data": {
            "text/plain": [
              "<All keys matched successfully>"
            ]
          },
          "metadata": {
            "tags": []
          },
          "execution_count": 37
        }
      ]
    },
    {
      "cell_type": "markdown",
      "metadata": {
        "id": "j0BE6ij1EGF2"
      },
      "source": [
        "## Model design"
      ]
    },
    {
      "cell_type": "markdown",
      "metadata": {
        "id": "le9Tu1RfEG9v"
      },
      "source": [
        "Plus images may not be our sole focus in the real world, where we have tabular\n",
        "data, sequences, and text. The promise of neural networks is sufficient flexibility to solve problems on all these kinds of data given the proper architecture (that is, the interconnection of layers or modules) and the proper loss function.\n",
        "\n",
        "PyTorch ships with a very comprehensive collection of modules and loss functions\n",
        "to implement state-of-the-art architectures ranging from feed-forward components to long short-term memory (LSTM) modules and transformer networks (two very popular architectures for sequential data). Several models are available through PyTorch Hub or as part of torchvision and other vertical community efforts."
      ]
    },
    {
      "cell_type": "markdown",
      "metadata": {
        "id": "fVPbiHnXQMzV"
      },
      "source": [
        "### Adding memory capacity: Width"
      ]
    },
    {
      "cell_type": "markdown",
      "metadata": {
        "id": "pw5aC7OrQOOS"
      },
      "source": [
        "Given our feed-forward architecture, there are a couple of dimensions we’d likely want to explore before getting into further complications. The first dimension is the width of the network: the number of neurons per layer, or channels per convolution.\n",
        "\n",
        "\n",
        "We can make a model wider very easily in PyTorch. We just specify a larger number of output channels in the first convolution and increase the subsequent layers accordingly, taking care to change the forward function to reflect the fact that we’ll now have a longer vector once we switch to fully connected layers:"
      ]
    },
    {
      "cell_type": "code",
      "metadata": {
        "id": "abXIy25fD9Oo"
      },
      "source": [
        "class WideNetwork(nn.Module):\n",
        "\n",
        "  def __init__(self):\n",
        "    super().__init__()\n",
        "    self.conv1 = nn.Conv2d(3, 32, kernel_size=3, padding=1)\n",
        "    self.conv2 = nn.Conv2d(32, 16, kernel_size=3, padding=1)\n",
        "    self.fc1 = nn.Linear(16 * 8 * 8, 32)\n",
        "    self.fc2 = nn.Linear(32, 2)\n",
        "\n",
        "  def forward(self, x):\n",
        "    out = F.max_pool2d(torch.tanh(self.conv1(x)), 2)\n",
        "    out = F.max_pool2d(torch.tanh(self.conv2(out)), 2)\n",
        "    out = out.view(-1, 16 * 8 * 8)\n",
        "    out = torch.tanh(self.fc1(out))\n",
        "    out = self.fc2(out)\n",
        "\n",
        "    return out"
      ],
      "execution_count": null,
      "outputs": []
    },
    {
      "cell_type": "markdown",
      "metadata": {
        "id": "R4UUpD-sQ3Zl"
      },
      "source": [
        "If we want to avoid hardcoding numbers in the definition of the model, we can easily pass a parameter to init and parameterize the width, taking care to also parameterize the call to view in the forward function."
      ]
    },
    {
      "cell_type": "code",
      "metadata": {
        "id": "GDgwgr0mQ7Xp"
      },
      "source": [
        "class WideNetwork(nn.Module):\n",
        "\n",
        "  def __init__(self, n_channel=32):\n",
        "    super().__init__()\n",
        "    self.n_channel = n_channel\n",
        "    self.conv1 = nn.Conv2d(3, n_channel, kernel_size=3, padding=1)\n",
        "    self.conv2 = nn.Conv2d(n_channel, n_channel // 2, kernel_size=3, padding=1)\n",
        "    self.fc1 = nn.Linear(8 * 8 * n_channel // 2, 32)\n",
        "    self.fc2 = nn.Linear(32, 2)\n",
        "\n",
        "  def forward(self, x):\n",
        "    out = F.max_pool2d(torch.tanh(self.conv1(x)), 2)\n",
        "    out = F.max_pool2d(torch.tanh(self.conv2(out)), 2)\n",
        "    out = out.view(-1, 8 * 8 * self.n_channel // 2)\n",
        "    out = torch.tanh(self.fc1(out))\n",
        "    out = self.fc2(out)\n",
        "\n",
        "    return out"
      ],
      "execution_count": null,
      "outputs": []
    },
    {
      "cell_type": "code",
      "metadata": {
        "id": "b_cp6ipzSrQa",
        "outputId": "840baf64-a377-46b0-e67a-e781c3ac541b",
        "colab": {
          "base_uri": "https://localhost:8080/"
        }
      },
      "source": [
        "# The DataLoader batches up the examples of our cifar2 dataset.\n",
        "# Shuffling randomizes the order of the examples from the dataset.\n",
        "train_loader = torch.utils.data.DataLoader(cifar2, batch_size=64, shuffle=True)\n",
        "\n",
        "# Moves our model (all parameters) to the GPU. If you forget to move either the model or the inputs to the GPU,\n",
        "# you will get errors about tensors not being on the same device, because the PyTorch operators do not support mixing GPU and CPU inputs.\n",
        "model = WideNetwork().to(device=device)\n",
        "\n",
        "# the stochastic gradient descent optimizer we have been working with\n",
        "optimizer = optim.SGD(model.parameters(), lr=1e-2)\n",
        "# and the cross entropy loss\n",
        "loss_fn = nn.CrossEntropyLoss()\n",
        "\n",
        "training_loop(n_epochs=100, optimizer=optimizer, model=model, loss_fn=loss_fn, train_loader=train_loader)"
      ],
      "execution_count": null,
      "outputs": [
        {
          "output_type": "stream",
          "text": [
            "2021-01-18 06:59:43.410872 Epoch 1, Training loss 0.5373456705907348\n",
            "2021-01-18 06:59:47.234313 Epoch 10, Training loss 0.3100430370326255\n",
            "2021-01-18 06:59:51.336249 Epoch 20, Training loss 0.26951973007363117\n",
            "2021-01-18 06:59:55.561712 Epoch 30, Training loss 0.23577301242169302\n",
            "2021-01-18 06:59:59.836520 Epoch 40, Training loss 0.20491675875938622\n",
            "2021-01-18 07:00:04.062203 Epoch 50, Training loss 0.17928042566510521\n",
            "2021-01-18 07:00:08.318892 Epoch 60, Training loss 0.15883874463712333\n",
            "2021-01-18 07:00:12.615775 Epoch 70, Training loss 0.13749011921559928\n",
            "2021-01-18 07:00:16.843254 Epoch 80, Training loss 0.1192706318892491\n",
            "2021-01-18 07:00:20.938492 Epoch 90, Training loss 0.09973475405839598\n",
            "2021-01-18 07:00:25.133886 Epoch 100, Training loss 0.08441405498962494\n"
          ],
          "name": "stdout"
        }
      ]
    },
    {
      "cell_type": "markdown",
      "metadata": {
        "id": "cwY5Q96URvYm"
      },
      "source": [
        "The numbers specifying channels and features for each layer are directly related to the number of parameters in a model; all other things being equal, they increase the capacity of the model."
      ]
    },
    {
      "cell_type": "code",
      "metadata": {
        "id": "JykDkkenRseF",
        "outputId": "0b4da576-a21e-48cf-8da7-95d0cb357780",
        "colab": {
          "base_uri": "https://localhost:8080/"
        }
      },
      "source": [
        "sum(p.numel() for p in model.parameters())"
      ],
      "execution_count": null,
      "outputs": [
        {
          "output_type": "execute_result",
          "data": {
            "text/plain": [
              "38386"
            ]
          },
          "metadata": {
            "tags": []
          },
          "execution_count": 43
        }
      ]
    },
    {
      "cell_type": "markdown",
      "metadata": {
        "id": "DQDK20JiUpfN"
      },
      "source": [
        "The greater the capacity, the more variability in the inputs the model will be able to manage; but at the same time, the more likely overfitting will be, since the model can use a greater number of parameters to memorize unessential aspects of the input. We already went into ways to combat overfitting, the best being increasing the sample size or, in the absence of new data, augmenting existing data through artificial modifications of the same data."
      ]
    },
    {
      "cell_type": "markdown",
      "metadata": {
        "id": "CMODb9deU1-E"
      },
      "source": [
        "### Helping our model to converge and generalize: Regularization"
      ]
    },
    {
      "cell_type": "markdown",
      "metadata": {
        "id": "9bINQvrRU3ym"
      },
      "source": []
    },
    {
      "cell_type": "code",
      "metadata": {
        "id": "dmeedt2MR6Qw"
      },
      "source": [],
      "execution_count": null,
      "outputs": []
    }
  ]
}