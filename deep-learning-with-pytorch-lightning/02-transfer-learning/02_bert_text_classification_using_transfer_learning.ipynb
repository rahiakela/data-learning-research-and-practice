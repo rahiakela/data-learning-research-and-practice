{
  "nbformat": 4,
  "nbformat_minor": 0,
  "metadata": {
    "colab": {
      "provenance": [],
      "toc_visible": true,
      "authorship_tag": "ABX9TyOIjcnl+imVFbJATRYteEvA",
      "include_colab_link": true
    },
    "kernelspec": {
      "name": "python3",
      "display_name": "Python 3"
    },
    "language_info": {
      "name": "python"
    },
    "accelerator": "GPU"
  },
  "cells": [
    {
      "cell_type": "markdown",
      "metadata": {
        "id": "view-in-github",
        "colab_type": "text"
      },
      "source": [
        "<a href=\"https://colab.research.google.com/github/rahiakela/deep-learning-research-and-practice/blob/main/deep-learning-with-pytorch-lightning/02-transfer-learning/02_bert_text_classification_using_transfer_learning.ipynb\" target=\"_parent\"><img src=\"https://colab.research.google.com/assets/colab-badge.svg\" alt=\"Open In Colab\"/></a>"
      ]
    },
    {
      "cell_type": "markdown",
      "source": [
        "##BERT Text classification using Transfer Learning"
      ],
      "metadata": {
        "id": "ydFRNrn6lZNg"
      }
    },
    {
      "cell_type": "markdown",
      "source": [
        "Transfer learning is a technique that helps us to make use of knowledge acquired from\n",
        "a previously built model that was designed for a similar task to ours.\n",
        "\n",
        "In the machine learning community, there are various pre-built models whose weights are\n",
        "shared by their authors. By re-using those trained model weights, you can avoid longer\n",
        "training durations and save on computing costs.\n",
        "\n",
        "\n",
        "In this notebook, we will start with the creation of a simple image classification model\n",
        "using ResNet-50 architecture on the PCam dataset, which contains image scans of cancer\n",
        "tissues. \n",
        "\n",
        "Later, we will build a text classification model that uses Bi-directional Encoder\n",
        "Representations from Transformers (BERT).\n",
        "\n",
        "In both examples, we will make use of a pre-trained model and its weights\n",
        "and fine-tune the model to make it work for our dataset. \n",
        "\n",
        "One great advantage of\n",
        "a pre-trained model is that since it has already been trained on a vast dataset, we can\n",
        "get good results in a smaller number of epochs.\n",
        "\n",
        "Any model that uses transfer learning typically follows this structure:\n",
        "\n",
        "1. Access the pre-trained model.\n",
        "2. Configure the pre-trained model.\n",
        "3. Build the model.\n",
        "4. Train the model.\n",
        "5. Evaluate the model's performance.\n",
        "\n",
        "Our goal here is to use transfer learning techniques and the BERT model to classify text\n",
        "into four different categories – true, false, unproven, and mixture."
      ],
      "metadata": {
        "id": "MvuycO87Elo_"
      }
    },
    {
      "cell_type": "markdown",
      "source": [
        "##Setup"
      ],
      "metadata": {
        "id": "QUYNoxZDlwbG"
      }
    },
    {
      "cell_type": "code",
      "source": [
        "#install correct version as defined in the Technical Req\n",
        "!pip -q install pytorch-lightning --quiet\n",
        "!pip install transformers==3.1.0 --quiet"
      ],
      "metadata": {
        "id": "oDEJVSarlx3e"
      },
      "execution_count": null,
      "outputs": []
    },
    {
      "cell_type": "code",
      "source": [
        "import torch\n",
        "from torch import nn, optim\n",
        "from torch.utils.data import DataLoader\n",
        "from torch.utils.data import TensorDataset, DataLoader, RandomSampler, SequentialSampler\n",
        "import matplotlib.pyplot as plt\n",
        "\n",
        "import pytorch_lightning as pl\n",
        "\n",
        "from torchmetrics.functional import accuracy\n",
        "\n",
        "import transformers\n",
        "from transformers import BertModel, BertConfig\n",
        "from transformers import AutoModel, BertTokenizerFast\n",
        "\n",
        "import pandas as pd\n",
        "\n",
        "%matplotlib inline"
      ],
      "metadata": {
        "id": "qrzUx1T1lair"
      },
      "execution_count": 2,
      "outputs": []
    },
    {
      "cell_type": "code",
      "source": [
        "#verify that correct package version are available\n",
        "print(torch.__version__)\n",
        "print(transformers.__version__)"
      ],
      "metadata": {
        "id": "ilmNzE_wlfVU",
        "outputId": "77495713-9db4-405a-b96a-c8537f9f4c23",
        "colab": {
          "base_uri": "https://localhost:8080/"
        }
      },
      "execution_count": 3,
      "outputs": [
        {
          "output_type": "stream",
          "name": "stdout",
          "text": [
            "1.12.1+cu113\n",
            "3.1.0\n"
          ]
        }
      ]
    },
    {
      "cell_type": "code",
      "source": [
        "!gdown --id 1eTtRs5cUlBP5dXsx-FTAlmXuB6JQi2qj\n",
        "!unzip PUBHEALTH.zip"
      ],
      "metadata": {
        "id": "xBkW0SZVZYZH"
      },
      "execution_count": null,
      "outputs": []
    },
    {
      "cell_type": "markdown",
      "source": [
        "##Dataset"
      ],
      "metadata": {
        "id": "SXR_D4n5mPbk"
      }
    },
    {
      "cell_type": "markdown",
      "source": [
        "Let's read the dataset and see the head of the dataframe in pandas."
      ],
      "metadata": {
        "id": "JlDSL6ww3ZMD"
      }
    },
    {
      "cell_type": "code",
      "source": [
        "pub_health_train = pd.read_csv(\"PUBHEALTH/train.tsv\", sep=\"\\t\")\n",
        "pub_health_test = pd.read_csv(\"PUBHEALTH/test.tsv\", sep=\"\\t\")\n",
        "\n",
        "pub_health_train.head()"
      ],
      "metadata": {
        "id": "YUuBTQgemQ3u",
        "colab": {
          "base_uri": "https://localhost:8080/",
          "height": 635
        },
        "outputId": "b56d9870-ae96-430c-bd21-1f9f7c575b49"
      },
      "execution_count": 5,
      "outputs": [
        {
          "output_type": "execute_result",
          "data": {
            "text/plain": [
              "  claim_id                                              claim  \\\n",
              "0    15661  \"The money the Clinton Foundation took from fr...   \n",
              "1     9893    Annual Mammograms May Have More False-Positives   \n",
              "2    11358  SBRT Offers Prostate Cancer Patients High Canc...   \n",
              "3    10166  Study: Vaccine for Breast, Ovarian Cancer Has ...   \n",
              "4    11276  Some appendicitis cases may not require ’emerg...   \n",
              "\n",
              "       date_published                                        explanation  \\\n",
              "0      April 26, 2015  \"Gingrich said the Clinton Foundation \"\"took m...   \n",
              "1    October 18, 2011  This article reports on the results of a study...   \n",
              "2  September 28, 2016  This news release describes five-year outcomes...   \n",
              "3    November 8, 2011  While the story does many things well, the ove...   \n",
              "4  September 20, 2010  We really don’t understand why only a handful ...   \n",
              "\n",
              "                                       fact_checkers  \\\n",
              "0                                      Katie Sanders   \n",
              "1                                                      \n",
              "2  Mary Chris Jaklevic,Steven J. Atlas, MD, MPH,K...   \n",
              "3                                                      \n",
              "4                                                      \n",
              "\n",
              "                                           main_text  \\\n",
              "0  \"Hillary Clinton is in the political crosshair...   \n",
              "1  While the financial costs of screening mammogr...   \n",
              "2  The news release quotes lead researcher Robert...   \n",
              "3  The story does discuss costs, but the framing ...   \n",
              "4  \"Although the story didn’t cite the cost of ap...   \n",
              "\n",
              "                                             sources    label  \\\n",
              "0  https://www.wsj.com/articles/clinton-foundatio...    false   \n",
              "1                                                     mixture   \n",
              "2  https://www.healthnewsreview.org/wp-content/up...  mixture   \n",
              "3  http://clinicaltrials.gov/ct2/results?term=can...     true   \n",
              "4                                                        true   \n",
              "\n",
              "                                      subjects  \n",
              "0  Foreign Policy, PunditFact, Newt Gingrich,   \n",
              "1               Screening,WebMD,women's health  \n",
              "2      Association/Society news release,Cancer  \n",
              "3                  Cancer,WebMD,women's health  \n",
              "4                                               "
            ],
            "text/html": [
              "\n",
              "  <div id=\"df-60091d9b-bc65-48d1-a1c0-4fc5823d8752\">\n",
              "    <div class=\"colab-df-container\">\n",
              "      <div>\n",
              "<style scoped>\n",
              "    .dataframe tbody tr th:only-of-type {\n",
              "        vertical-align: middle;\n",
              "    }\n",
              "\n",
              "    .dataframe tbody tr th {\n",
              "        vertical-align: top;\n",
              "    }\n",
              "\n",
              "    .dataframe thead th {\n",
              "        text-align: right;\n",
              "    }\n",
              "</style>\n",
              "<table border=\"1\" class=\"dataframe\">\n",
              "  <thead>\n",
              "    <tr style=\"text-align: right;\">\n",
              "      <th></th>\n",
              "      <th>claim_id</th>\n",
              "      <th>claim</th>\n",
              "      <th>date_published</th>\n",
              "      <th>explanation</th>\n",
              "      <th>fact_checkers</th>\n",
              "      <th>main_text</th>\n",
              "      <th>sources</th>\n",
              "      <th>label</th>\n",
              "      <th>subjects</th>\n",
              "    </tr>\n",
              "  </thead>\n",
              "  <tbody>\n",
              "    <tr>\n",
              "      <th>0</th>\n",
              "      <td>15661</td>\n",
              "      <td>\"The money the Clinton Foundation took from fr...</td>\n",
              "      <td>April 26, 2015</td>\n",
              "      <td>\"Gingrich said the Clinton Foundation \"\"took m...</td>\n",
              "      <td>Katie Sanders</td>\n",
              "      <td>\"Hillary Clinton is in the political crosshair...</td>\n",
              "      <td>https://www.wsj.com/articles/clinton-foundatio...</td>\n",
              "      <td>false</td>\n",
              "      <td>Foreign Policy, PunditFact, Newt Gingrich,</td>\n",
              "    </tr>\n",
              "    <tr>\n",
              "      <th>1</th>\n",
              "      <td>9893</td>\n",
              "      <td>Annual Mammograms May Have More False-Positives</td>\n",
              "      <td>October 18, 2011</td>\n",
              "      <td>This article reports on the results of a study...</td>\n",
              "      <td></td>\n",
              "      <td>While the financial costs of screening mammogr...</td>\n",
              "      <td></td>\n",
              "      <td>mixture</td>\n",
              "      <td>Screening,WebMD,women's health</td>\n",
              "    </tr>\n",
              "    <tr>\n",
              "      <th>2</th>\n",
              "      <td>11358</td>\n",
              "      <td>SBRT Offers Prostate Cancer Patients High Canc...</td>\n",
              "      <td>September 28, 2016</td>\n",
              "      <td>This news release describes five-year outcomes...</td>\n",
              "      <td>Mary Chris Jaklevic,Steven J. Atlas, MD, MPH,K...</td>\n",
              "      <td>The news release quotes lead researcher Robert...</td>\n",
              "      <td>https://www.healthnewsreview.org/wp-content/up...</td>\n",
              "      <td>mixture</td>\n",
              "      <td>Association/Society news release,Cancer</td>\n",
              "    </tr>\n",
              "    <tr>\n",
              "      <th>3</th>\n",
              "      <td>10166</td>\n",
              "      <td>Study: Vaccine for Breast, Ovarian Cancer Has ...</td>\n",
              "      <td>November 8, 2011</td>\n",
              "      <td>While the story does many things well, the ove...</td>\n",
              "      <td></td>\n",
              "      <td>The story does discuss costs, but the framing ...</td>\n",
              "      <td>http://clinicaltrials.gov/ct2/results?term=can...</td>\n",
              "      <td>true</td>\n",
              "      <td>Cancer,WebMD,women's health</td>\n",
              "    </tr>\n",
              "    <tr>\n",
              "      <th>4</th>\n",
              "      <td>11276</td>\n",
              "      <td>Some appendicitis cases may not require ’emerg...</td>\n",
              "      <td>September 20, 2010</td>\n",
              "      <td>We really don’t understand why only a handful ...</td>\n",
              "      <td></td>\n",
              "      <td>\"Although the story didn’t cite the cost of ap...</td>\n",
              "      <td></td>\n",
              "      <td>true</td>\n",
              "      <td></td>\n",
              "    </tr>\n",
              "  </tbody>\n",
              "</table>\n",
              "</div>\n",
              "      <button class=\"colab-df-convert\" onclick=\"convertToInteractive('df-60091d9b-bc65-48d1-a1c0-4fc5823d8752')\"\n",
              "              title=\"Convert this dataframe to an interactive table.\"\n",
              "              style=\"display:none;\">\n",
              "        \n",
              "  <svg xmlns=\"http://www.w3.org/2000/svg\" height=\"24px\"viewBox=\"0 0 24 24\"\n",
              "       width=\"24px\">\n",
              "    <path d=\"M0 0h24v24H0V0z\" fill=\"none\"/>\n",
              "    <path d=\"M18.56 5.44l.94 2.06.94-2.06 2.06-.94-2.06-.94-.94-2.06-.94 2.06-2.06.94zm-11 1L8.5 8.5l.94-2.06 2.06-.94-2.06-.94L8.5 2.5l-.94 2.06-2.06.94zm10 10l.94 2.06.94-2.06 2.06-.94-2.06-.94-.94-2.06-.94 2.06-2.06.94z\"/><path d=\"M17.41 7.96l-1.37-1.37c-.4-.4-.92-.59-1.43-.59-.52 0-1.04.2-1.43.59L10.3 9.45l-7.72 7.72c-.78.78-.78 2.05 0 2.83L4 21.41c.39.39.9.59 1.41.59.51 0 1.02-.2 1.41-.59l7.78-7.78 2.81-2.81c.8-.78.8-2.07 0-2.86zM5.41 20L4 18.59l7.72-7.72 1.47 1.35L5.41 20z\"/>\n",
              "  </svg>\n",
              "      </button>\n",
              "      \n",
              "  <style>\n",
              "    .colab-df-container {\n",
              "      display:flex;\n",
              "      flex-wrap:wrap;\n",
              "      gap: 12px;\n",
              "    }\n",
              "\n",
              "    .colab-df-convert {\n",
              "      background-color: #E8F0FE;\n",
              "      border: none;\n",
              "      border-radius: 50%;\n",
              "      cursor: pointer;\n",
              "      display: none;\n",
              "      fill: #1967D2;\n",
              "      height: 32px;\n",
              "      padding: 0 0 0 0;\n",
              "      width: 32px;\n",
              "    }\n",
              "\n",
              "    .colab-df-convert:hover {\n",
              "      background-color: #E2EBFA;\n",
              "      box-shadow: 0px 1px 2px rgba(60, 64, 67, 0.3), 0px 1px 3px 1px rgba(60, 64, 67, 0.15);\n",
              "      fill: #174EA6;\n",
              "    }\n",
              "\n",
              "    [theme=dark] .colab-df-convert {\n",
              "      background-color: #3B4455;\n",
              "      fill: #D2E3FC;\n",
              "    }\n",
              "\n",
              "    [theme=dark] .colab-df-convert:hover {\n",
              "      background-color: #434B5C;\n",
              "      box-shadow: 0px 1px 3px 1px rgba(0, 0, 0, 0.15);\n",
              "      filter: drop-shadow(0px 1px 2px rgba(0, 0, 0, 0.3));\n",
              "      fill: #FFFFFF;\n",
              "    }\n",
              "  </style>\n",
              "\n",
              "      <script>\n",
              "        const buttonEl =\n",
              "          document.querySelector('#df-60091d9b-bc65-48d1-a1c0-4fc5823d8752 button.colab-df-convert');\n",
              "        buttonEl.style.display =\n",
              "          google.colab.kernel.accessAllowed ? 'block' : 'none';\n",
              "\n",
              "        async function convertToInteractive(key) {\n",
              "          const element = document.querySelector('#df-60091d9b-bc65-48d1-a1c0-4fc5823d8752');\n",
              "          const dataTable =\n",
              "            await google.colab.kernel.invokeFunction('convertToInteractive',\n",
              "                                                     [key], {});\n",
              "          if (!dataTable) return;\n",
              "\n",
              "          const docLinkHtml = 'Like what you see? Visit the ' +\n",
              "            '<a target=\"_blank\" href=https://colab.research.google.com/notebooks/data_table.ipynb>data table notebook</a>'\n",
              "            + ' to learn more about interactive tables.';\n",
              "          element.innerHTML = '';\n",
              "          dataTable['output_type'] = 'display_data';\n",
              "          await google.colab.output.renderOutput(dataTable, element);\n",
              "          const docLink = document.createElement('div');\n",
              "          docLink.innerHTML = docLinkHtml;\n",
              "          element.appendChild(docLink);\n",
              "        }\n",
              "      </script>\n",
              "    </div>\n",
              "  </div>\n",
              "  "
            ]
          },
          "metadata": {},
          "execution_count": 5
        }
      ]
    },
    {
      "cell_type": "markdown",
      "source": [
        "##Preprocessing the dataset"
      ],
      "metadata": {
        "id": "-stblTzQu3ZM"
      }
    },
    {
      "cell_type": "code",
      "source": [
        "# \"snopes\" has only 27 instances, so drop it\n",
        "pub_health_train = pub_health_train[pub_health_train[\"label\"] != \"snopes\"]\n",
        "\n",
        "# selecting only two columns of interest – 'main text' and 'label'\n",
        "pub_health_train = pub_health_train[[\"main_text\", \"label\"]]\n",
        "\n",
        "# Finally, dropping any row that contains missing values\n",
        "pub_health_train = pub_health_train.dropna(subset=[\"main_text\", \"label\"])\n",
        "\n",
        "pub_health_train.head()"
      ],
      "metadata": {
        "id": "BTVdd8ghnkx-",
        "colab": {
          "base_uri": "https://localhost:8080/",
          "height": 206
        },
        "outputId": "29b9ef9d-b93d-4d63-a680-93866c2b85c7"
      },
      "execution_count": 6,
      "outputs": [
        {
          "output_type": "execute_result",
          "data": {
            "text/plain": [
              "                                           main_text    label\n",
              "0  \"Hillary Clinton is in the political crosshair...    false\n",
              "1  While the financial costs of screening mammogr...  mixture\n",
              "2  The news release quotes lead researcher Robert...  mixture\n",
              "3  The story does discuss costs, but the framing ...     true\n",
              "4  \"Although the story didn’t cite the cost of ap...     true"
            ],
            "text/html": [
              "\n",
              "  <div id=\"df-9af76a11-a7e0-4945-bc56-b80ed47e6992\">\n",
              "    <div class=\"colab-df-container\">\n",
              "      <div>\n",
              "<style scoped>\n",
              "    .dataframe tbody tr th:only-of-type {\n",
              "        vertical-align: middle;\n",
              "    }\n",
              "\n",
              "    .dataframe tbody tr th {\n",
              "        vertical-align: top;\n",
              "    }\n",
              "\n",
              "    .dataframe thead th {\n",
              "        text-align: right;\n",
              "    }\n",
              "</style>\n",
              "<table border=\"1\" class=\"dataframe\">\n",
              "  <thead>\n",
              "    <tr style=\"text-align: right;\">\n",
              "      <th></th>\n",
              "      <th>main_text</th>\n",
              "      <th>label</th>\n",
              "    </tr>\n",
              "  </thead>\n",
              "  <tbody>\n",
              "    <tr>\n",
              "      <th>0</th>\n",
              "      <td>\"Hillary Clinton is in the political crosshair...</td>\n",
              "      <td>false</td>\n",
              "    </tr>\n",
              "    <tr>\n",
              "      <th>1</th>\n",
              "      <td>While the financial costs of screening mammogr...</td>\n",
              "      <td>mixture</td>\n",
              "    </tr>\n",
              "    <tr>\n",
              "      <th>2</th>\n",
              "      <td>The news release quotes lead researcher Robert...</td>\n",
              "      <td>mixture</td>\n",
              "    </tr>\n",
              "    <tr>\n",
              "      <th>3</th>\n",
              "      <td>The story does discuss costs, but the framing ...</td>\n",
              "      <td>true</td>\n",
              "    </tr>\n",
              "    <tr>\n",
              "      <th>4</th>\n",
              "      <td>\"Although the story didn’t cite the cost of ap...</td>\n",
              "      <td>true</td>\n",
              "    </tr>\n",
              "  </tbody>\n",
              "</table>\n",
              "</div>\n",
              "      <button class=\"colab-df-convert\" onclick=\"convertToInteractive('df-9af76a11-a7e0-4945-bc56-b80ed47e6992')\"\n",
              "              title=\"Convert this dataframe to an interactive table.\"\n",
              "              style=\"display:none;\">\n",
              "        \n",
              "  <svg xmlns=\"http://www.w3.org/2000/svg\" height=\"24px\"viewBox=\"0 0 24 24\"\n",
              "       width=\"24px\">\n",
              "    <path d=\"M0 0h24v24H0V0z\" fill=\"none\"/>\n",
              "    <path d=\"M18.56 5.44l.94 2.06.94-2.06 2.06-.94-2.06-.94-.94-2.06-.94 2.06-2.06.94zm-11 1L8.5 8.5l.94-2.06 2.06-.94-2.06-.94L8.5 2.5l-.94 2.06-2.06.94zm10 10l.94 2.06.94-2.06 2.06-.94-2.06-.94-.94-2.06-.94 2.06-2.06.94z\"/><path d=\"M17.41 7.96l-1.37-1.37c-.4-.4-.92-.59-1.43-.59-.52 0-1.04.2-1.43.59L10.3 9.45l-7.72 7.72c-.78.78-.78 2.05 0 2.83L4 21.41c.39.39.9.59 1.41.59.51 0 1.02-.2 1.41-.59l7.78-7.78 2.81-2.81c.8-.78.8-2.07 0-2.86zM5.41 20L4 18.59l7.72-7.72 1.47 1.35L5.41 20z\"/>\n",
              "  </svg>\n",
              "      </button>\n",
              "      \n",
              "  <style>\n",
              "    .colab-df-container {\n",
              "      display:flex;\n",
              "      flex-wrap:wrap;\n",
              "      gap: 12px;\n",
              "    }\n",
              "\n",
              "    .colab-df-convert {\n",
              "      background-color: #E8F0FE;\n",
              "      border: none;\n",
              "      border-radius: 50%;\n",
              "      cursor: pointer;\n",
              "      display: none;\n",
              "      fill: #1967D2;\n",
              "      height: 32px;\n",
              "      padding: 0 0 0 0;\n",
              "      width: 32px;\n",
              "    }\n",
              "\n",
              "    .colab-df-convert:hover {\n",
              "      background-color: #E2EBFA;\n",
              "      box-shadow: 0px 1px 2px rgba(60, 64, 67, 0.3), 0px 1px 3px 1px rgba(60, 64, 67, 0.15);\n",
              "      fill: #174EA6;\n",
              "    }\n",
              "\n",
              "    [theme=dark] .colab-df-convert {\n",
              "      background-color: #3B4455;\n",
              "      fill: #D2E3FC;\n",
              "    }\n",
              "\n",
              "    [theme=dark] .colab-df-convert:hover {\n",
              "      background-color: #434B5C;\n",
              "      box-shadow: 0px 1px 3px 1px rgba(0, 0, 0, 0.15);\n",
              "      filter: drop-shadow(0px 1px 2px rgba(0, 0, 0, 0.3));\n",
              "      fill: #FFFFFF;\n",
              "    }\n",
              "  </style>\n",
              "\n",
              "      <script>\n",
              "        const buttonEl =\n",
              "          document.querySelector('#df-9af76a11-a7e0-4945-bc56-b80ed47e6992 button.colab-df-convert');\n",
              "        buttonEl.style.display =\n",
              "          google.colab.kernel.accessAllowed ? 'block' : 'none';\n",
              "\n",
              "        async function convertToInteractive(key) {\n",
              "          const element = document.querySelector('#df-9af76a11-a7e0-4945-bc56-b80ed47e6992');\n",
              "          const dataTable =\n",
              "            await google.colab.kernel.invokeFunction('convertToInteractive',\n",
              "                                                     [key], {});\n",
              "          if (!dataTable) return;\n",
              "\n",
              "          const docLinkHtml = 'Like what you see? Visit the ' +\n",
              "            '<a target=\"_blank\" href=https://colab.research.google.com/notebooks/data_table.ipynb>data table notebook</a>'\n",
              "            + ' to learn more about interactive tables.';\n",
              "          element.innerHTML = '';\n",
              "          dataTable['output_type'] = 'display_data';\n",
              "          await google.colab.output.renderOutput(dataTable, element);\n",
              "          const docLink = document.createElement('div');\n",
              "          docLink.innerHTML = docLinkHtml;\n",
              "          element.appendChild(docLink);\n",
              "        }\n",
              "      </script>\n",
              "    </div>\n",
              "  </div>\n",
              "  "
            ]
          },
          "metadata": {},
          "execution_count": 6
        }
      ]
    },
    {
      "cell_type": "code",
      "source": [
        "pub_health_test = pub_health_test[[\"main_text\", \"label\"]]\n",
        "pub_health_test = pub_health_test.dropna(subset=[\"main_text\", \"label\"])"
      ],
      "metadata": {
        "id": "-ByGuYoqwr_6"
      },
      "execution_count": 7,
      "outputs": []
    },
    {
      "cell_type": "markdown",
      "source": [
        "The classes for the public health claims are false, mixture, true, and unproven.\n",
        "\n",
        "These need to be converted into numbers so that tensors can be created from the\n",
        "list of labels."
      ],
      "metadata": {
        "id": "OQYzNUDr8gzI"
      }
    },
    {
      "cell_type": "code",
      "source": [
        "pub_health_train[\"label\"] = pub_health_train[\"label\"].map({\"true\": 0, \"false\": 1, \"unproven\": 2, \"mixture\": 3})\n",
        "pub_health_test[\"label\"] = pub_health_test[\"label\"].map({\"true\": 0, \"false\": 1, \"unproven\": 2, \"mixture\": 3})"
      ],
      "metadata": {
        "id": "kA4J7Upq8lKN"
      },
      "execution_count": 8,
      "outputs": []
    },
    {
      "cell_type": "markdown",
      "source": [
        "##Building the model"
      ],
      "metadata": {
        "id": "R0oJXW1Oq50Y"
      }
    },
    {
      "cell_type": "markdown",
      "source": [
        "The data transformation and any feature engineering can be done outside of our\n",
        "`TextClassifier` class; however, PyTorch Lightning allows us to keep everything in one piece. \n",
        "\n",
        "The `prepare_data` life cycle method is triggered before any training begins;\n",
        "in our case, it's triggered before other life cycle methods."
      ],
      "metadata": {
        "id": "j7_DOWH1rJa0"
      }
    },
    {
      "cell_type": "code",
      "source": [
        "class HealthClaimClassifier(pl.LightningModule):\n",
        "\n",
        "  def __init__(self, max_seq_len=512, batch_size=128, learning_rate=0.001):\n",
        "    super().__init__()\n",
        "\n",
        "    self.learning_rate = learning_rate \n",
        "    self.max_seq_len = max_seq_len \n",
        "    self.batch_size = batch_size \n",
        "    self.loss = nn.CrossEntropyLoss()\n",
        "\n",
        "    # let's load the pretrained BERT model\n",
        "    self.pretrain_model = AutoModel.from_pretrained(\"bert-base-uncased\")\n",
        "    # set the evaluation mode so that the dropout and batch normalization layers go to evaluation mode\n",
        "    self.pretrain_model.eval()\n",
        "\n",
        "    # let's freeze the weights\n",
        "    for param in self.pretrain_model.parameters():\n",
        "      param.requires_grad = False\n",
        "\n",
        "    # let's adjust the parameter size of pre-trained model by defining custom classifier head\n",
        "    self.classifier_layer = nn.Sequential(\n",
        "      nn.Linear(768, 512),\n",
        "      nn.ReLU(),\n",
        "      nn.Dropout(0.2),\n",
        "      nn.Linear(512, 4),  # 4 is total number of classes\n",
        "      nn.LogSoftmax(dim=1)\n",
        "    )\n",
        "\n",
        "  def prepare_data(self):\n",
        "    \"\"\"\n",
        "    This life cycle method is loading up our public health claims dataset, tokenizing the data, and creating features and the target variable.\n",
        "    \"\"\"\n",
        "    # let's begin by initializing BertTokenizerFast\n",
        "    tokenizer = BertTokenizerFast.from_pretrained(\"bert-base-uncased\")\n",
        "\n",
        "    # let's tokenize and encode sequences in the training/testing set\n",
        "    tokens_train = tokenizer.batch_encode_plus(\n",
        "      pub_health_train[\"main_text\"].tolist(),\n",
        "      max_length = self.max_seq_len,  # truncate any text data above the established maximum sequence length\n",
        "      pad_to_max_length=True,         # anything following the maximum sequence length will be padded\n",
        "      truncation=True,\n",
        "      return_token_type_ids=False\n",
        "    )\n",
        "\n",
        "    tokens_test = tokenizer.batch_encode_plus(\n",
        "      pub_health_test[\"main_text\"].tolist(),\n",
        "      max_length = self.max_seq_len,\n",
        "      pad_to_max_length=True,\n",
        "      truncation=True,\n",
        "      return_token_type_ids=False\n",
        "    )\n",
        "\n",
        "    # Now, need to create features and extract the target variable from the dataset\n",
        "    self.train_seq = torch.tensor(tokens_train[\"input_ids\"])\n",
        "    self.train_mask = torch.tensor(tokens_train[\"attention_mask\"])\n",
        "    self.train_y = torch.tensor(pub_health_train[\"label\"].tolist())\n",
        "\n",
        "    self.test_seq = torch.tensor(tokens_test[\"input_ids\"])\n",
        "    self.test_mask = torch.tensor(tokens_test[\"attention_mask\"])\n",
        "    self.test_y = torch.tensor(pub_health_test[\"label\"].tolist())\n",
        "\n",
        "  def forward(self, encode_id, mask):\n",
        "    # let's pass the data to the pre-trained model then into custom classifier head\n",
        "    _, output = self.pretrain_model(encode_id, attention_mask=mask)\n",
        "    output = self.classifier_layer(output)\n",
        "    return output\n",
        "\n",
        "  def train_dataloader(self):\n",
        "    train_dataset = TensorDataset(self.train_seq, self.train_mask, self.train_y)\n",
        "    self.train_dataloader = DataLoader(train_dataset, batch_size=self.batch_size)\n",
        "    return self.train_dataloader\n",
        "  \n",
        "  def test_dataloader(self):\n",
        "    test_dataset = TensorDataset(self.test_seq, self.test_mask, self.test_y)\n",
        "    self.test_dataloader = DataLoader(test_dataset, batch_size=self.batch_size)\n",
        "    return self.test_dataloader\n",
        "\n",
        "  def configure_optimizers(self):\n",
        "    params = self.parameters()\n",
        "    optimizer = optim.Adam(params=params, lr=self.learning_rate)\n",
        "    return optimizer\n",
        "\n",
        "  def training_step(self, batch, batch_idx):\n",
        "    encode_id, mask, targets = batch\n",
        "    outputs = self(encode_id, mask)\n",
        "    # get the indices of the maximum value of all elements in the input tensor\n",
        "    preds = torch.argmax(outputs, dim=1)\n",
        "    train_accuracy = accuracy(preds, targets)\n",
        "    loss = self.loss(outputs, targets)\n",
        "\n",
        "    self.log(\"train_accuracy\", train_accuracy, prog_bar=True, on_step=False, on_epoch=True)\n",
        "    self.log(\"train_loss\", loss, on_step=False, on_epoch=True)\n",
        "    return {\"loss\": loss, \"train_accuracy\": train_accuracy}\n",
        "\n",
        "  def test_step(self, batch, batch_idx):\n",
        "    encode_id, mask, targets = batch\n",
        "    outputs = self.forward(encode_id, mask)\n",
        "    preds = torch.argmax(outputs, dim=1)\n",
        "    test_accuracy = accuracy(preds, targets)\n",
        "    loss = self.loss(outputs, targets)\n",
        "    #self.log(\"test_accuracy\", test_accuracy)\n",
        "    return {\"loss\": loss, \"test_accuracy\": test_accuracy}\n",
        "\n",
        "  # calculate the overall accuracy of the entire dataset\n",
        "  def test_epoch_end(self, outputs):\n",
        "    test_outs = []\n",
        "    for test_out in outputs:\n",
        "      out = test_out[\"test_accuracy\"]\n",
        "      test_outs.append(out)\n",
        "    total_test_accuracy = torch.stack(test_outs).mean()\n",
        "    self.log(\"total_test_accuracy\", total_test_accuracy, on_step=False, on_epoch=True)\n",
        "    return total_test_accuracy"
      ],
      "metadata": {
        "id": "yJxzY7_JHPTe"
      },
      "execution_count": 9,
      "outputs": []
    },
    {
      "cell_type": "markdown",
      "source": [
        "##Training the model"
      ],
      "metadata": {
        "id": "i_sl-qbHRGRf"
      }
    },
    {
      "cell_type": "markdown",
      "source": [
        "In PyTorch Lightning, to train the model, we do the followings:\n",
        "\n",
        "1. first initialize the trainer class\n",
        "2. then invoke the fit method to actually train the model"
      ],
      "metadata": {
        "id": "QGqN1GD5m3Z9"
      }
    },
    {
      "cell_type": "code",
      "source": [
        "model = HealthClaimClassifier()\n",
        "\n",
        "# let's check that model is ready to train\n",
        "trainer = pl.Trainer(fast_dev_run=True, gpus=1)\n",
        "trainer.fit(model)"
      ],
      "metadata": {
        "id": "phYJjRDyRHfh"
      },
      "execution_count": null,
      "outputs": []
    },
    {
      "cell_type": "code",
      "source": [
        "# finally, let's train the model\n",
        "ckpt_callback = pl.callbacks.ModelCheckpoint(every_n_epochs=10)\n",
        "model = HealthClaimClassifier()\n",
        "\n",
        "trainer = pl.Trainer(default_root_dir=\"cnn\", gpus=-1, log_every_n_steps=30, max_epochs=10, callbacks=[ckpt_callback])\n",
        "trainer.fit(model)"
      ],
      "metadata": {
        "id": "ysTYN_YS62lN"
      },
      "execution_count": null,
      "outputs": []
    },
    {
      "cell_type": "markdown",
      "source": [
        "##Evaluating the model"
      ],
      "metadata": {
        "id": "MtrG1vyGpfvT"
      }
    },
    {
      "cell_type": "code",
      "source": [
        "# let's the model and check the accuracy on the test dataset\n",
        "trainer.test()"
      ],
      "metadata": {
        "id": "bAEG0XqMphBd"
      },
      "execution_count": null,
      "outputs": []
    },
    {
      "cell_type": "markdown",
      "source": [
        "We can observe that we have been able to achieve 60% accuracy on the testing dataset\n",
        "with just 10 epochs and without any hyperparameter tuning. \n",
        "\n",
        "A model improvement\n",
        "exercise on HealthClaimClassifier might even help us in getting much better\n",
        "accuracy with the pre-trained BERT model."
      ],
      "metadata": {
        "id": "VJ2KH2z4Am1r"
      }
    }
  ]
}