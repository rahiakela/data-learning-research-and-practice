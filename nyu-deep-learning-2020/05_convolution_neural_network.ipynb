{
  "nbformat": 4,
  "nbformat_minor": 0,
  "metadata": {
    "colab": {
      "provenance": [],
      "toc_visible": true,
      "authorship_tag": "ABX9TyOp17jonETL/dcDcv2Imgln",
      "include_colab_link": true
    },
    "kernelspec": {
      "name": "python3",
      "display_name": "Python 3"
    },
    "language_info": {
      "name": "python"
    }
  },
  "cells": [
    {
      "cell_type": "markdown",
      "metadata": {
        "id": "view-in-github",
        "colab_type": "text"
      },
      "source": [
        "<a href=\"https://colab.research.google.com/github/rahiakela/deep-learning-research-and-practice/blob/main/nyu-deep-learning-2020/05_convolution_neural_network.ipynb\" target=\"_parent\"><img src=\"https://colab.research.google.com/assets/colab-badge.svg\" alt=\"Open In Colab\"/></a>"
      ]
    },
    {
      "cell_type": "markdown",
      "source": [
        "##Convolution neural network"
      ],
      "metadata": {
        "id": "2KRWwlGprBr0"
      }
    },
    {
      "cell_type": "markdown",
      "source": [
        "In this notebook, we train a multilayer perceptron (FC network) and a convolution neural network (CNN) for the classification task on the MNIST dataset. \n",
        "\n",
        "Note that both networks have an equal number of parameters. \n",
        "\n",
        "**To perform well, we need to incorporate some prior knowledge about the problem**\n",
        "\n",
        "* Assumptions helps us when they are true\n",
        "* They hurt us when they are not\n",
        "* We want to make just the right amount of assumptions, not more than that\n",
        "\n",
        "**Reference**:\n",
        "\n",
        "[ConvNet using PyTorch (CNN)](https://atcold.github.io/pytorch-Deep-Learning/en/week03/03-3/)"
      ],
      "metadata": {
        "id": "ao4Yx85kHVyf"
      }
    },
    {
      "cell_type": "code",
      "source": [
        "!git clone https://github.com/Atcold/pytorch-Deep-Learning\n",
        "!cp -r pytorch-Deep-Learning/res .\n",
        "!rm -rf pytorch-Deep-Learning"
      ],
      "metadata": {
        "id": "be82DQP9r8RA"
      },
      "execution_count": null,
      "outputs": []
    },
    {
      "cell_type": "code",
      "source": [
        "# Load libraries\n",
        "import torch\n",
        "import torch.nn as nn\n",
        "import torch.nn.functional as F\n",
        "from torch import nn, optim\n",
        "from torchvision import datasets, transforms\n",
        "\n",
        "import numpy as np\n",
        "import random\n",
        "import math\n",
        "\n",
        "from IPython import display\n",
        "from res.plot_lib import plot_data, plot_model, set_default\n",
        "from matplotlib.pyplot import plot, title, axis\n",
        "from matplotlib import pyplot as plt"
      ],
      "metadata": {
        "id": "Q1jNltvnrJlH"
      },
      "execution_count": 2,
      "outputs": []
    },
    {
      "cell_type": "code",
      "source": [
        "# Set style (needs to be in a new cell)\n",
        "set_default()"
      ],
      "metadata": {
        "id": "BTduR0mrrNNk"
      },
      "execution_count": 3,
      "outputs": []
    },
    {
      "cell_type": "code",
      "source": [
        "device = torch.device(\"cuda:0\" if torch.cuda.is_available() else \"cpu\")"
      ],
      "metadata": {
        "id": "GXy4HMzfrTD6"
      },
      "execution_count": 4,
      "outputs": []
    },
    {
      "cell_type": "code",
      "source": [
        "# function to count number of parameters\n",
        "def get_n_params(model):\n",
        "  np = 0\n",
        "  for p in list(model.parameters()):\n",
        "    np += p.nelement()\n",
        "  return np"
      ],
      "metadata": {
        "id": "u4K_IZrnlZuV"
      },
      "execution_count": 5,
      "outputs": []
    },
    {
      "cell_type": "markdown",
      "source": [
        "##Loading the Dataset"
      ],
      "metadata": {
        "id": "_IjDJt8xxOfU"
      }
    },
    {
      "cell_type": "markdown",
      "source": [
        "Before training, we normalize our data so that the initialization of the network will match our data distribution (very important!). \n",
        "\n",
        "Also, make sure that the following five operations/steps are present in your training:\n",
        "\n",
        "1. Feeding data to the model\n",
        "2. Computing the loss\n",
        "3. Cleaning the cache of accumulated gradients with `zero_grad()`\n",
        "4. Computing the gradients\n",
        "5. Performing a step in the optimizer method\n",
        "\n",
        "We can use some PyTorch DataLoader utilities for this. This will download, shuffle, normalize data and arrange it in batches."
      ],
      "metadata": {
        "id": "w5L0zQxPxPVT"
      }
    },
    {
      "cell_type": "code",
      "source": [
        "input_size = 28 * 28    # images are 28x28 pixels\n",
        "output_size = 10        # there are 10 classes\n",
        "\n",
        "train_loader = torch.utils.data.DataLoader(\n",
        "  datasets.MNIST(\"../data\", train=True, download=True, transform=transforms.Compose([transforms.ToTensor(), transforms.Normalize((0.1307, ), (0.3081, ))])),\n",
        "  batch_size=64, \n",
        "  shuffle=True\n",
        ")\n",
        "\n",
        "test_loader = torch.utils.data.DataLoader(\n",
        "  datasets.MNIST(\"../data\", train=False, transform=transforms.Compose([transforms.ToTensor(), transforms.Normalize((0.1307, ), (0.3081, ))])),\n",
        "  batch_size=1000, \n",
        "  shuffle=True\n",
        ")"
      ],
      "metadata": {
        "id": "MsI0hl1ayVYn"
      },
      "execution_count": null,
      "outputs": []
    },
    {
      "cell_type": "code",
      "source": [
        "# show some images\n",
        "plt.figure(figsize=(16, 6))\n",
        "for i in range(10):\n",
        "  plt.subplot(2, 5, i + 1)\n",
        "  image, _ = train_loader.dataset.__getitem__(i)\n",
        "  plt.imshow(image.squeeze().numpy())\n",
        "  plt.axis(\"off\");"
      ],
      "metadata": {
        "colab": {
          "base_uri": "https://localhost:8080/",
          "height": 340
        },
        "id": "q6aw7jJA0nxi",
        "outputId": "dee75622-44e2-4037-fdd8-cd46180da1cb"
      },
      "execution_count": 7,
      "outputs": [
        {
          "output_type": "display_data",
          "data": {
            "text/plain": [
              "<Figure size 1600x600 with 10 Axes>"
            ],
            "image/png": "[encoded data removed]"
          },
          "metadata": {}
        }
      ]
    },
    {
      "cell_type": "markdown",
      "source": [
        "First, we train both the networks on the normalized MNIST data."
      ],
      "metadata": {
        "id": "awdRIYwAw43P"
      }
    },
    {
      "cell_type": "markdown",
      "source": [
        "## Creating the model classes"
      ],
      "metadata": {
        "id": "_QEVKjSgrZep"
      }
    },
    {
      "cell_type": "markdown",
      "source": [
        "Let's define small fully-connected and ConvNet network."
      ],
      "metadata": {
        "id": "GSkASu8FraCJ"
      }
    },
    {
      "cell_type": "code",
      "source": [
        "class FCLayer(nn.Module):\n",
        "  def __init__(self, input_size, n_hidden, output_size):\n",
        "    super(FCLayer, self).__init__()\n",
        "\n",
        "    self.input_size = input_size\n",
        "    self.network = nn.Sequential(\n",
        "      nn.Linear(input_size, n_hidden),\n",
        "      nn.ReLU(),\n",
        "      nn.Linear(n_hidden, n_hidden),\n",
        "      nn.ReLU(),\n",
        "      nn.Linear(n_hidden, output_size),\n",
        "      nn.LogSoftmax(dim=1)\n",
        "    )\n",
        "\n",
        "  def forward(self, x):\n",
        "    x = x.view(-1, self.input_size)\n",
        "    return self.network(x)"
      ],
      "metadata": {
        "id": "OuDVB9bDsfMG"
      },
      "execution_count": 8,
      "outputs": []
    },
    {
      "cell_type": "code",
      "source": [
        "class CNN(nn.Module):\n",
        "  def __init__(self, input_size, n_feature, output_size):\n",
        "    super(CNN, self).__init__()\n",
        "\n",
        "    self.n_feature = n_feature \n",
        "    self.conv1 = nn.Conv2d(in_channels=1, out_channels=n_feature, kernel_size=5)\n",
        "    self.conv2 = nn.Conv2d(in_channels=n_feature, out_channels=n_feature, kernel_size=5)\n",
        "    self.fc1 = nn.Linear(n_feature * 4 * 4, 50)\n",
        "    self.fc2 = nn.Linear(50, 10)\n",
        "\n",
        "  def forward(self, x, verbose=False):\n",
        "    x = self.conv1(x)\n",
        "    x = F.relu(x)\n",
        "    x = F.max_pool2d(x, kernel_size=2)\n",
        "\n",
        "    x = self.conv2(x)\n",
        "    x = F.relu(x)\n",
        "    x = F.max_pool2d(x, kernel_size=2)\n",
        "\n",
        "    x = x.view(-1, self.n_feature * 4 * 4)\n",
        "    x = self.fc1(x)\n",
        "    x = F.relu(x)\n",
        "    x = self.fc2(x)\n",
        "    x = F.log_softmax(x, dim=1)\n",
        "    return x"
      ],
      "metadata": {
        "id": "sYjlvoopLOqT"
      },
      "execution_count": 9,
      "outputs": []
    },
    {
      "cell_type": "markdown",
      "source": [
        "Let's define method for training and testing the model."
      ],
      "metadata": {
        "id": "Mrjz7TV0zVn2"
      }
    },
    {
      "cell_type": "code",
      "source": [
        "accuracy_list = []\n",
        "\n",
        "def train(epoch, model, perm=torch.arange(0, 784).long()):\n",
        "  model.train()\n",
        "  for batch_idx, (data, target) in enumerate(train_loader):\n",
        "    # send to device\n",
        "    data, target = data.to(device), target.to(device)\n",
        "    \n",
        "    # permute pixels\n",
        "    data = data.view(-1, 28*28)\n",
        "    data = data[:, perm]\n",
        "    data = data.view(-1, 1, 28, 28)\n",
        "\n",
        "    optimizer.zero_grad()\n",
        "    output = model(data)\n",
        "    loss = F.nll_loss(output, target)\n",
        "    loss.backward()\n",
        "    optimizer.step()\n",
        "\n",
        "    if batch_idx % 100 == 0:\n",
        "      print(f\"Train Epoch: {epoch} [{batch_idx * len(data)}/{len(train_loader.dataset)} ({100.0 * batch_idx / len(train_loader):.0f}%)]\\tLoss: {loss.item():.6f}\")\n",
        "\n",
        "def test(model, perm=torch.arange(0, 784).long()):\n",
        "  model.eval()\n",
        "  test_loss = 0\n",
        "  correct = 0\n",
        "  for data, target in test_loader:\n",
        "    # send to device\n",
        "    data, target = data.to(device), target.to(device)\n",
        "\n",
        "    # permute pixels\n",
        "    data = data.view(-1, 28 * 28)\n",
        "    data = data[:, perm]\n",
        "    data = data.view(-1, 1, 28, 28)\n",
        "\n",
        "    output = model(data)\n",
        "\n",
        "    test_loss += F.nll_loss(output, target, reduction=\"sum\").item()  # sum up batch loss\n",
        "    pred = output.data.max(1, keepdim=True)[1]   # get the index of the max log-probability\n",
        "    correct += pred.eq(target.data.view_as(pred)).cpu().sum().item()\n",
        "\n",
        "  test_loss /= len(test_loader.dataset)\n",
        "  accuracy = 100. * correct / len(test_loader.dataset)\n",
        "  accuracy_list.append(accuracy)\n",
        "  print(f\"\\nTest set: Average loss: {test_loss:.4f}, Accuracy: {correct}/{len(test_loader.dataset)} ({accuracy:.0f}%)\\n\")"
      ],
      "metadata": {
        "id": "bLnQJb_g1xMa"
      },
      "execution_count": 10,
      "outputs": []
    },
    {
      "cell_type": "markdown",
      "source": [
        "##Training the model"
      ],
      "metadata": {
        "id": "CCYL0s_C2n7h"
      }
    },
    {
      "cell_type": "markdown",
      "source": [
        "First, we train both the networks on the normalized MNIST data. \n",
        "\n",
        "The accuracy of the FC network turned out to be 87% while the accuracy of the CNN turned out to be 95%. \n",
        "\n",
        "Given the same number of parameters, the CNN managed to train many more filters."
      ],
      "metadata": {
        "id": "JsqWV-Yb2rT0"
      }
    },
    {
      "cell_type": "code",
      "source": [
        "# let's train a small fully-connected network\n",
        "n_hidden = 8\n",
        "\n",
        "model_fnn = FCLayer(input_size, n_hidden, output_size)\n",
        "model_fnn.to(device)\n",
        "optimizer = optim.SGD(model_fnn.parameters(), lr=0.01, momentum=0.5)\n",
        "print(f\"Number of parameters: {get_n_params(model_fnn)}\")\n",
        "\n",
        "for epoch in range(0, 1):\n",
        "  train(epoch, model_fnn)\n",
        "  test(model_fnn)"
      ],
      "metadata": {
        "colab": {
          "base_uri": "https://localhost:8080/"
        },
        "id": "SZV8ya-0yg_R",
        "outputId": "0fa73144-c2f5-4676-bfff-64824a12ebcc"
      },
      "execution_count": 11,
      "outputs": [
        {
          "output_type": "stream",
          "name": "stdout",
          "text": [
            "Number of parameters: 6442\n",
            "Train Epoch: 0 [0/60000 (0%)]\tLoss: 2.370413\n",
            "Train Epoch: 0 [6400/60000 (11%)]\tLoss: 2.005335\n",
            "Train Epoch: 0 [12800/60000 (21%)]\tLoss: 1.641455\n",
            "Train Epoch: 0 [19200/60000 (32%)]\tLoss: 1.185627\n",
            "Train Epoch: 0 [25600/60000 (43%)]\tLoss: 0.986641\n",
            "Train Epoch: 0 [32000/60000 (53%)]\tLoss: 0.901969\n",
            "Train Epoch: 0 [38400/60000 (64%)]\tLoss: 1.052183\n",
            "Train Epoch: 0 [44800/60000 (75%)]\tLoss: 0.636180\n",
            "Train Epoch: 0 [51200/60000 (85%)]\tLoss: 0.525725\n",
            "Train Epoch: 0 [57600/60000 (96%)]\tLoss: 0.366614\n",
            "\n",
            "Test set: Average loss: 0.5243, Accuracy: 8438/10000 (84%)\n",
            "\n"
          ]
        }
      ]
    },
    {
      "cell_type": "code",
      "source": [
        "# let's train a ConvNet with the same number of parameters\n",
        "n_features = 6\n",
        "\n",
        "model_cnn = CNN(input_size, n_features, output_size)\n",
        "model_cnn.to(device)\n",
        "optimizer = optim.SGD(model_cnn.parameters(), lr=0.01, momentum=0.5)\n",
        "print(f\"Number of parameters: {get_n_params(model_cnn)}\")\n",
        "\n",
        "for epoch in range(0, 1):\n",
        "  train(epoch, model_cnn)\n",
        "  test(model_cnn)"
      ],
      "metadata": {
        "id": "n-8kTRfk62MP",
        "outputId": "39e07671-972b-40ee-c402-d9e1489b0df6",
        "colab": {
          "base_uri": "https://localhost:8080/"
        }
      },
      "execution_count": 12,
      "outputs": [
        {
          "output_type": "stream",
          "name": "stdout",
          "text": [
            "Number of parameters: 6422\n",
            "Train Epoch: 0 [0/60000 (0%)]\tLoss: 2.297352\n",
            "Train Epoch: 0 [6400/60000 (11%)]\tLoss: 2.059946\n",
            "Train Epoch: 0 [12800/60000 (21%)]\tLoss: 0.815850\n",
            "Train Epoch: 0 [19200/60000 (32%)]\tLoss: 0.305471\n",
            "Train Epoch: 0 [25600/60000 (43%)]\tLoss: 0.334496\n",
            "Train Epoch: 0 [32000/60000 (53%)]\tLoss: 0.358385\n",
            "Train Epoch: 0 [38400/60000 (64%)]\tLoss: 0.221877\n",
            "Train Epoch: 0 [44800/60000 (75%)]\tLoss: 0.152831\n",
            "Train Epoch: 0 [51200/60000 (85%)]\tLoss: 0.105973\n",
            "Train Epoch: 0 [57600/60000 (96%)]\tLoss: 0.195082\n",
            "\n",
            "Test set: Average loss: 0.1738, Accuracy: 9481/10000 (95%)\n",
            "\n"
          ]
        }
      ]
    },
    {
      "cell_type": "markdown",
      "source": [
        "In the FC network, filters that try to get some dependencies between things that are further away with things that are close by, are trained. They are completely wasted. \n",
        "\n",
        "Instead, in the convolutional network, all these parameters concentrate on the relationship between neighbour pixels.\n",
        "\n",
        "**The ConvNet performs better with the same number of parameters, thanks to its use of prior knowledge about images.**\n",
        "\n",
        "* **Use of convolution**: Locality and stationarity in images\n",
        "* **Pooling**: builds in some translation invariance\n",
        "\n",
        "**What happens if the assumptions are no longer true?**"
      ],
      "metadata": {
        "id": "iZpVTpaC7WXb"
      }
    },
    {
      "cell_type": "code",
      "source": [
        "perm = torch.randperm(784)\n",
        "plt.figure(figsize=(16, 12))\n",
        "for i in range(10):\n",
        "  image, _ = train_loader.dataset.__getitem__(i)\n",
        "  # permute pixels\n",
        "  image_perm = image.view(-1, 28*28).clone()\n",
        "  image_perm = image_perm[:, perm]\n",
        "  image_perm = image_perm.view(-1, 1, 28, 28)\n",
        "  plt.subplot(4, 5, i + 1)\n",
        "  plt.imshow(image.squeeze().numpy())\n",
        "  plt.axis('off')\n",
        "  plt.subplot(4, 5, i + 11)\n",
        "  plt.imshow(image_perm.squeeze().numpy())\n",
        "  plt.axis('off')"
      ],
      "metadata": {
        "id": "SgPKJXdc7xfB",
        "outputId": "da20b2c2-194c-4c94-9406-0a46c64b9ce5",
        "colab": {
          "base_uri": "https://localhost:8080/",
          "height": 655
        }
      },
      "execution_count": 13,
      "outputs": [
        {
          "output_type": "display_data",
          "data": {
            "text/plain": [
              "<Figure size 1600x1200 with 20 Axes>"
            ],
            "image/png": "[encoded data removed]"
          },
          "metadata": {}
        }
      ]
    },
    {
      "cell_type": "markdown",
      "source": [
        "##Training model with permuted pixels"
      ],
      "metadata": {
        "id": "N0Z_4HYrKr7N"
      }
    },
    {
      "cell_type": "markdown",
      "source": [
        "Let's train ConvNet with permuted pixels."
      ],
      "metadata": {
        "id": "WHSTE07_KtBc"
      }
    },
    {
      "cell_type": "code",
      "source": [
        "n_features = 6\n",
        "\n",
        "model_cnn = CNN(input_size, n_features, output_size)\n",
        "model_cnn.to(device)\n",
        "optimizer = optim.SGD(model_cnn.parameters(), lr=0.01, momentum=0.5)\n",
        "print(f\"Number of parameters: {get_n_params(model_cnn)}\")\n",
        "\n",
        "for epoch in range(0, 1):\n",
        "  train(epoch, model_cnn, perm)\n",
        "  test(model_cnn, perm)"
      ],
      "metadata": {
        "id": "zBtnGKCYKPWk",
        "colab": {
          "base_uri": "https://localhost:8080/"
        },
        "outputId": "e63e4d74-bfd9-44f4-98c9-11b210c5f0ba"
      },
      "execution_count": 14,
      "outputs": [
        {
          "output_type": "stream",
          "name": "stdout",
          "text": [
            "Number of parameters: 6422\n",
            "Train Epoch: 0 [0/60000 (0%)]\tLoss: 2.289146\n",
            "Train Epoch: 0 [6400/60000 (11%)]\tLoss: 2.257534\n",
            "Train Epoch: 0 [12800/60000 (21%)]\tLoss: 1.994800\n",
            "Train Epoch: 0 [19200/60000 (32%)]\tLoss: 1.609178\n",
            "Train Epoch: 0 [25600/60000 (43%)]\tLoss: 1.027645\n",
            "Train Epoch: 0 [32000/60000 (53%)]\tLoss: 1.041189\n",
            "Train Epoch: 0 [38400/60000 (64%)]\tLoss: 0.967643\n",
            "Train Epoch: 0 [44800/60000 (75%)]\tLoss: 0.777714\n",
            "Train Epoch: 0 [51200/60000 (85%)]\tLoss: 0.563221\n",
            "Train Epoch: 0 [57600/60000 (96%)]\tLoss: 0.431925\n",
            "\n",
            "Test set: Average loss: 0.5541, Accuracy: 8195/10000 (82%)\n",
            "\n"
          ]
        }
      ]
    },
    {
      "cell_type": "markdown",
      "source": [
        "Let's train fully-connected with permuted pixels."
      ],
      "metadata": {
        "id": "Jn5OO2Sw4wXX"
      }
    },
    {
      "cell_type": "code",
      "source": [
        "n_hidden = 8\n",
        "\n",
        "model_fnn = FCLayer(input_size, n_hidden, output_size)\n",
        "model_fnn.to(device)\n",
        "optimizer = optim.SGD(model_fnn.parameters(), lr=0.01, momentum=0.5)\n",
        "print(f\"Number of parameters: {get_n_params(model_fnn)}\")\n",
        "\n",
        "for epoch in range(0, 1):\n",
        "  train(epoch, model_fnn, perm)\n",
        "  test(model_fnn, perm)"
      ],
      "metadata": {
        "id": "-u8tJTyieGoQ",
        "colab": {
          "base_uri": "https://localhost:8080/"
        },
        "outputId": "f4da8ce9-5a99-4a98-8cec-1ff241c76f90"
      },
      "execution_count": 15,
      "outputs": [
        {
          "output_type": "stream",
          "name": "stdout",
          "text": [
            "Number of parameters: 6442\n",
            "Train Epoch: 0 [0/60000 (0%)]\tLoss: 2.348221\n",
            "Train Epoch: 0 [6400/60000 (11%)]\tLoss: 1.949437\n",
            "Train Epoch: 0 [12800/60000 (21%)]\tLoss: 1.480625\n",
            "Train Epoch: 0 [19200/60000 (32%)]\tLoss: 1.044597\n",
            "Train Epoch: 0 [25600/60000 (43%)]\tLoss: 0.763889\n",
            "Train Epoch: 0 [32000/60000 (53%)]\tLoss: 0.642845\n",
            "Train Epoch: 0 [38400/60000 (64%)]\tLoss: 0.656819\n",
            "Train Epoch: 0 [44800/60000 (75%)]\tLoss: 0.440933\n",
            "Train Epoch: 0 [51200/60000 (85%)]\tLoss: 0.356660\n",
            "Train Epoch: 0 [57600/60000 (96%)]\tLoss: 0.267364\n",
            "\n",
            "Test set: Average loss: 0.4283, Accuracy: 8764/10000 (88%)\n",
            "\n"
          ]
        }
      ]
    },
    {
      "cell_type": "markdown",
      "source": [
        "The performance of the FC network almost stayed unchanged (85%), but the accuracy of CNN dropped to 83%. \n",
        "\n",
        "This is because, after a random permutation, the images no longer hold the three properties of locality, stationarity, and compositionality, that are exploitable by a CNN.\n",
        "\n",
        "* ConvNet makes the assumption that pixels lie on a grid and are stationary/local\n",
        "* It loses performance when this assumption is wrong\n",
        "* The fully-connected network does not make this assumption\n",
        "* It does less well when it is true, since it doesn't take advantage of this prior knowledge\n",
        "* But it doesn't suffer when the assumption is wrong"
      ],
      "metadata": {
        "id": "mLzflfuC5Qu7"
      }
    },
    {
      "cell_type": "code",
      "source": [
        "plt.bar(('NN image', 'CNN image', 'CNN scrambled', 'NN scrambled'), accuracy_list, width=0.4)\n",
        "plt.ylim((min(accuracy_list)-5, 96))\n",
        "plt.ylabel('Accuracy [%]')\n",
        "\n",
        "for tick in plt.gca().xaxis.get_major_ticks():\n",
        "    tick.label.set_fontsize(20)\n",
        "plt.title('Performance comparison');"
      ],
      "metadata": {
        "id": "LuyVhElZ3jY1",
        "outputId": "768f0d4e-c4bd-442d-89a9-ca1be5780d6c",
        "colab": {
          "base_uri": "https://localhost:8080/",
          "height": 831
        }
      },
      "execution_count": 16,
      "outputs": [
        {
          "output_type": "display_data",
          "data": {
            "text/plain": [
              "<Figure size 1000x1000 with 1 Axes>"
            ],
            "image/png": "[encoded data removed]"
          },
          "metadata": {}
        }
      ]
    },
    {
      "cell_type": "markdown",
      "source": [
        "Let's check the model parameters."
      ],
      "metadata": {
        "id": "-04nwyxp3lc9"
      }
    },
    {
      "cell_type": "code",
      "source": [
        "print(model_cnn)"
      ],
      "metadata": {
        "id": "HugK4vqC3mWT",
        "outputId": "672933c0-1ee3-41d7-ea67-8d50a0644ebc",
        "colab": {
          "base_uri": "https://localhost:8080/"
        }
      },
      "execution_count": 17,
      "outputs": [
        {
          "output_type": "stream",
          "name": "stdout",
          "text": [
            "CNN(\n",
            "  (conv1): Conv2d(1, 6, kernel_size=(5, 5), stride=(1, 1))\n",
            "  (conv2): Conv2d(6, 6, kernel_size=(5, 5), stride=(1, 1))\n",
            "  (fc1): Linear(in_features=96, out_features=50, bias=True)\n",
            "  (fc2): Linear(in_features=50, out_features=10, bias=True)\n",
            ")\n"
          ]
        }
      ]
    },
    {
      "cell_type": "code",
      "source": [
        "print(dir(model_cnn))"
      ],
      "metadata": {
        "id": "iw6HveyR6R5g",
        "outputId": "eba91577-f51b-4af4-ad55-78ae1bb812ce",
        "colab": {
          "base_uri": "https://localhost:8080/"
        }
      },
      "execution_count": 21,
      "outputs": [
        {
          "output_type": "stream",
          "name": "stdout",
          "text": [
            "['T_destination', '__annotations__', '__call__', '__class__', '__delattr__', '__dict__', '__dir__', '__doc__', '__eq__', '__format__', '__ge__', '__getattr__', '__getattribute__', '__gt__', '__hash__', '__init__', '__init_subclass__', '__le__', '__lt__', '__module__', '__ne__', '__new__', '__reduce__', '__reduce_ex__', '__repr__', '__setattr__', '__setstate__', '__sizeof__', '__str__', '__subclasshook__', '__weakref__', '_apply', '_backward_hooks', '_buffers', '_call_impl', '_forward_hooks', '_forward_pre_hooks', '_get_backward_hooks', '_get_name', '_is_full_backward_hook', '_load_from_state_dict', '_load_state_dict_post_hooks', '_load_state_dict_pre_hooks', '_maybe_warn_non_full_backward_hook', '_modules', '_named_members', '_non_persistent_buffers_set', '_parameters', '_register_load_state_dict_pre_hook', '_register_state_dict_hook', '_replicate_for_data_parallel', '_save_to_state_dict', '_slow_forward', '_state_dict_hooks', '_version', 'add_module', 'apply', 'bfloat16', 'buffers', 'children', 'conv1', 'conv2', 'cpu', 'cuda', 'double', 'dump_patches', 'eval', 'extra_repr', 'fc1', 'fc2', 'float', 'forward', 'get_buffer', 'get_extra_state', 'get_parameter', 'get_submodule', 'half', 'ipu', 'load_state_dict', 'modules', 'n_feature', 'named_buffers', 'named_children', 'named_modules', 'named_parameters', 'parameters', 'register_backward_hook', 'register_buffer', 'register_forward_hook', 'register_forward_pre_hook', 'register_full_backward_hook', 'register_load_state_dict_post_hook', 'register_module', 'register_parameter', 'requires_grad_', 'set_extra_state', 'share_memory', 'state_dict', 'to', 'to_empty', 'train', 'training', 'type', 'xpu', 'zero_grad']\n"
          ]
        }
      ]
    },
    {
      "cell_type": "code",
      "source": [
        "print(model_fnn)"
      ],
      "metadata": {
        "id": "SG0-5SFe_bw-",
        "outputId": "483644df-bee8-4aa1-d213-a73ecb0d9795",
        "colab": {
          "base_uri": "https://localhost:8080/"
        }
      },
      "execution_count": 19,
      "outputs": [
        {
          "output_type": "stream",
          "name": "stdout",
          "text": [
            "FCLayer(\n",
            "  (network): Sequential(\n",
            "    (0): Linear(in_features=784, out_features=8, bias=True)\n",
            "    (1): ReLU()\n",
            "    (2): Linear(in_features=8, out_features=8, bias=True)\n",
            "    (3): ReLU()\n",
            "    (4): Linear(in_features=8, out_features=10, bias=True)\n",
            "    (5): LogSoftmax(dim=1)\n",
            "  )\n",
            ")\n"
          ]
        }
      ]
    },
    {
      "cell_type": "code",
      "source": [
        "print(dir(model_fnn))"
      ],
      "metadata": {
        "id": "Jpbegngk6Lac",
        "outputId": "6bf65cfc-6ab9-44b1-8063-17f19ddb13af",
        "colab": {
          "base_uri": "https://localhost:8080/"
        }
      },
      "execution_count": 20,
      "outputs": [
        {
          "output_type": "stream",
          "name": "stdout",
          "text": [
            "['T_destination', '__annotations__', '__call__', '__class__', '__delattr__', '__dict__', '__dir__', '__doc__', '__eq__', '__format__', '__ge__', '__getattr__', '__getattribute__', '__gt__', '__hash__', '__init__', '__init_subclass__', '__le__', '__lt__', '__module__', '__ne__', '__new__', '__reduce__', '__reduce_ex__', '__repr__', '__setattr__', '__setstate__', '__sizeof__', '__str__', '__subclasshook__', '__weakref__', '_apply', '_backward_hooks', '_buffers', '_call_impl', '_forward_hooks', '_forward_pre_hooks', '_get_backward_hooks', '_get_name', '_is_full_backward_hook', '_load_from_state_dict', '_load_state_dict_post_hooks', '_load_state_dict_pre_hooks', '_maybe_warn_non_full_backward_hook', '_modules', '_named_members', '_non_persistent_buffers_set', '_parameters', '_register_load_state_dict_pre_hook', '_register_state_dict_hook', '_replicate_for_data_parallel', '_save_to_state_dict', '_slow_forward', '_state_dict_hooks', '_version', 'add_module', 'apply', 'bfloat16', 'buffers', 'children', 'cpu', 'cuda', 'double', 'dump_patches', 'eval', 'extra_repr', 'float', 'forward', 'get_buffer', 'get_extra_state', 'get_parameter', 'get_submodule', 'half', 'input_size', 'ipu', 'load_state_dict', 'modules', 'named_buffers', 'named_children', 'named_modules', 'named_parameters', 'network', 'parameters', 'register_backward_hook', 'register_buffer', 'register_forward_hook', 'register_forward_pre_hook', 'register_full_backward_hook', 'register_load_state_dict_post_hook', 'register_module', 'register_parameter', 'requires_grad_', 'set_extra_state', 'share_memory', 'state_dict', 'to', 'to_empty', 'train', 'training', 'type', 'xpu', 'zero_grad']\n"
          ]
        }
      ]
    }
  ]
}