{
  "nbformat": 4,
  "nbformat_minor": 0,
  "metadata": {
    "colab": {
      "provenance": [],
      "toc_visible": true,
      "authorship_tag": "ABX9TyMgEpnzdbR/6f05ioHQKHld",
      "include_colab_link": true
    },
    "kernelspec": {
      "name": "python3",
      "display_name": "Python 3"
    },
    "language_info": {
      "name": "python"
    },
    "accelerator": "GPU"
  },
  "cells": [
    {
      "cell_type": "markdown",
      "metadata": {
        "id": "view-in-github",
        "colab_type": "text"
      },
      "source": [
        "<a href=\"https://colab.research.google.com/github/rahiakela/deep-learning-research-and-practice/blob/main/deep-learning-with-pytorch-step-by-step/02_simple_regression_problem.ipynb\" target=\"_parent\"><img src=\"https://colab.research.google.com/assets/colab-badge.svg\" alt=\"Open In Colab\"/></a>"
      ]
    },
    {
      "cell_type": "markdown",
      "source": [
        "##Simple Regression Problem"
      ],
      "metadata": {
        "id": "eB520cKUnVhx"
      }
    },
    {
      "cell_type": "markdown",
      "source": [
        "In this notebook, I will stick with a simple and familiar problem:\n",
        "a linear regression with a single feature x! It doesn’t get much simpler than that…\n",
        "\n",
        "$$ y = b + wx + ϵ$$\n",
        "\n",
        "It is also possible to think of it as the simplest neural network possible: one input,\n",
        "one output, and no activation function (that is, linear).\n",
        "\n",
        "![image.png](data:image/png;base64,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)"
      ],
      "metadata": {
        "id": "5wTQQbxanWY8"
      }
    },
    {
      "cell_type": "markdown",
      "source": [
        "##Setup"
      ],
      "metadata": {
        "id": "a60l9BX2oE0g"
      }
    },
    {
      "cell_type": "code",
      "source": [
        "try:\n",
        "    import google.colab\n",
        "    import requests\n",
        "    url = 'https://raw.githubusercontent.com/dvgodoy/PyTorchStepByStep/master/config.py'\n",
        "    r = requests.get(url, allow_redirects=True)\n",
        "    open('config.py', 'wb').write(r.content)    \n",
        "except ModuleNotFoundError:\n",
        "    pass\n",
        "\n",
        "from config import *\n",
        "config_chapter1()\n",
        "# This is needed to render the plots in this chapter\n",
        "from plots.chapter1 import *"
      ],
      "metadata": {
        "id": "pgGfHWV5oZqU",
        "outputId": "7ece3b2f-80ac-4397-ab7c-484141d75b21",
        "colab": {
          "base_uri": "https://localhost:8080/"
        }
      },
      "execution_count": 1,
      "outputs": [
        {
          "output_type": "stream",
          "name": "stdout",
          "text": [
            "Installing torchviz...\n",
            "Downloading files from GitHub repo to Colab...\n",
            "Creating folders...\n",
            "Finished!\n"
          ]
        }
      ]
    },
    {
      "cell_type": "code",
      "source": [
        "import numpy as np\n",
        "from sklearn.linear_model import LinearRegression\n",
        "\n",
        "import torch\n",
        "import torch.optim as optim\n",
        "import torch.nn as nn\n",
        "from torchviz import make_dot"
      ],
      "metadata": {
        "id": "TUEV99bdogt_"
      },
      "execution_count": 2,
      "outputs": []
    },
    {
      "cell_type": "markdown",
      "source": [
        "##Data Generation"
      ],
      "metadata": {
        "id": "IS1-btItoZ1B"
      }
    },
    {
      "cell_type": "markdown",
      "source": [
        "Let’s start generating some synthetic data: we start with a vector of `100 (N)` points\n",
        "for our feature `(x)` and create our labels `(y)` using `b = 1, w = 2`, and some Gaussian noise (epsilon)."
      ],
      "metadata": {
        "id": "U6ucNoo7oawj"
      }
    },
    {
      "cell_type": "code",
      "source": [
        "np.random.seed(42)\n",
        "\n",
        "true_b = 1\n",
        "true_w = 2\n",
        "N = 100\n",
        "\n",
        "# Data Generation\n",
        "x = np.random.rand(N, 1)\n",
        "epsilon = (.1 * np.random.rand(N, 1))\n",
        "y = true_b + true_w * x + epsilon"
      ],
      "metadata": {
        "id": "7i8oVtQPpATN"
      },
      "execution_count": 3,
      "outputs": []
    },
    {
      "cell_type": "markdown",
      "source": [
        "Next, let’s split our synthetic data into train and validation sets, shuffling the array\n",
        "of indexes and using the first 80 shuffled points for training."
      ],
      "metadata": {
        "id": "6Bg1PAVnpncx"
      }
    },
    {
      "cell_type": "code",
      "source": [
        "# Shuffles the indices\n",
        "idx = np.arange(N)\n",
        "np.random.shuffle(idx)\n",
        "\n",
        "# Uses first 80 random indices for train\n",
        "train_idx = idx[:int(N * .8)]\n",
        "# Uses the remaining indices for validation\n",
        "val_idx = idx[int(N * .8): ]\n",
        "\n",
        "# Generates train and validation sets\n",
        "x_train, y_train = x[train_idx], y[train_idx]\n",
        "x_val, y_val = x[val_idx], y[val_idx]"
      ],
      "metadata": {
        "id": "6c8vMI5Kpn3Z"
      },
      "execution_count": 4,
      "outputs": []
    },
    {
      "cell_type": "code",
      "source": [
        "figure1(x_train, y_train, x_val, y_val)"
      ],
      "metadata": {
        "colab": {
          "base_uri": "https://localhost:8080/",
          "height": 502
        },
        "id": "ZBTcz6BhqYoR",
        "outputId": "aeb9d612-02e1-4b8f-e329-c16f6772ff6c"
      },
      "execution_count": 5,
      "outputs": [
        {
          "output_type": "execute_result",
          "data": {
            "text/plain": [
              "(<Figure size 864x432 with 2 Axes>,\n",
              " array([<matplotlib.axes._subplots.AxesSubplot object at 0x7f0914eeb250>,\n",
              "        <matplotlib.axes._subplots.AxesSubplot object at 0x7f08961dabd0>],\n",
              "       dtype=object))"
            ]
          },
          "metadata": {},
          "execution_count": 5
        },
        {
          "output_type": "display_data",
          "data": {
            "text/plain": [
              "<Figure size 864x432 with 2 Axes>"
            ],
            "image/png": "[encoded data removed]"
          },
          "metadata": {}
        }
      ]
    },
    {
      "cell_type": "markdown",
      "source": [
        "We know that b = 1, w = 2, but now let’s see how close we can get to the true\n",
        "values by using gradient descent and the 80 points in the training set."
      ],
      "metadata": {
        "id": "u3BTZsQaqZQE"
      }
    },
    {
      "cell_type": "markdown",
      "source": [
        "##Gradient Descent"
      ],
      "metadata": {
        "id": "21NT7ES1qg4K"
      }
    },
    {
      "cell_type": "markdown",
      "source": [
        "I’ll cover the five basic steps you’d need to go through to use gradient descent."
      ],
      "metadata": {
        "id": "dUjLq0Lfqi5N"
      }
    },
    {
      "cell_type": "markdown",
      "source": [
        "###Step 0: Random Initialization"
      ],
      "metadata": {
        "id": "sDiR9dYjqqZW"
      }
    },
    {
      "cell_type": "markdown",
      "source": [
        "For training a model, you need to randomly initialize the parameters/weights."
      ],
      "metadata": {
        "id": "H5yEPuTVTJks"
      }
    },
    {
      "cell_type": "code",
      "source": [
        "# Step 0 - Initializes parameters \"b\" and \"w\" randomly\n",
        "np.random.seed(42)\n",
        "\n",
        "b = np.random.randn(1)\n",
        "w = np.random.randn(1)\n",
        "\n",
        "print(b, w)"
      ],
      "metadata": {
        "id": "br2g0-4HSk4d",
        "outputId": "12ddad57-e27d-40f0-ee0f-6c4705e98932",
        "colab": {
          "base_uri": "https://localhost:8080/"
        }
      },
      "execution_count": 6,
      "outputs": [
        {
          "output_type": "stream",
          "name": "stdout",
          "text": [
            "[0.49671415] [-0.1382643]\n"
          ]
        }
      ]
    },
    {
      "cell_type": "markdown",
      "source": [
        "###Step 1: Compute Model's Predictions"
      ],
      "metadata": {
        "id": "B18OXUGQS0fl"
      }
    },
    {
      "cell_type": "markdown",
      "source": [
        "This is the forward pass - it simply computes the model’s predictions using the current\n",
        "values of the parameters/weights."
      ],
      "metadata": {
        "id": "dWR0NKt7TPu4"
      }
    },
    {
      "cell_type": "code",
      "source": [
        "# Step 1 - Computes our model's predicted output - forward pass\n",
        "yhat = b + w * x_train"
      ],
      "metadata": {
        "id": "cHzyWY9FS1s3"
      },
      "execution_count": 7,
      "outputs": []
    },
    {
      "cell_type": "markdown",
      "source": [
        "###Step 2: Compute the Loss"
      ],
      "metadata": {
        "id": "louZXxr4S_v6"
      }
    },
    {
      "cell_type": "markdown",
      "source": [
        "For a regression problem, the loss is given by the Mean Squared Error (MSE), that\n",
        "is, the average of all squared errors, that is, the average of all squared differences\n",
        "between labels (`y`) and predictions (`b + wx`).\n",
        "\n",
        "Here, we are using all data points of the training set to compute the\n",
        "loss, so `n = N = 80`, meaning we are performing batch gradient descent."
      ],
      "metadata": {
        "id": "t7ZFJK_hTYss"
      }
    },
    {
      "cell_type": "code",
      "source": [
        "# Step 2 - Computing the loss\n",
        "\n",
        "# We are using ALL data points, so this is BATCH gradient descent. How wrong is our model? That's the error!\n",
        "error = (yhat - y_train)\n",
        "\n",
        "# It is a regression, so it computes mean squared error (MSE)\n",
        "loss = (error ** 2).mean()\n",
        "print(loss)"
      ],
      "metadata": {
        "id": "1n2CtsUXS9gj",
        "outputId": "9ba1fb2f-3778-4df3-d5f6-6d70322c63df",
        "colab": {
          "base_uri": "https://localhost:8080/"
        }
      },
      "execution_count": 8,
      "outputs": [
        {
          "output_type": "stream",
          "name": "stdout",
          "text": [
            "2.808129216295391\n"
          ]
        }
      ]
    },
    {
      "cell_type": "markdown",
      "source": [
        "###Step 3: Compute the Gradients"
      ],
      "metadata": {
        "id": "DpLPVKTmT3IN"
      }
    },
    {
      "cell_type": "markdown",
      "source": [
        "A gradient is a partial derivative — why partial? Because one computes it with\n",
        "respect to (w.r.t.) a single parameter. We have two parameters, b and w, so we must compute two partial derivatives.\n",
        "\n",
        "A derivative tells you how much a given quantity changes when you slightly vary\n",
        "some other quantity. In our case, how much does our MSE loss change when we\n",
        "vary each one of our two parameters separately?\n",
        "\n",
        "> **Gradient** = how much the loss changes if ONE parameter\n",
        "changes a little bit!"
      ],
      "metadata": {
        "id": "YD9USz_wT30a"
      }
    },
    {
      "cell_type": "code",
      "source": [
        "# Step 3 - Computes gradients for both \"b\" and \"w\" parameters\n",
        "b_grad = 2 * error.mean()\n",
        "w_grad = 2 * (x_train * error).mean()\n",
        "print(b_grad, w_grad)"
      ],
      "metadata": {
        "id": "Vl3-r09yURpb",
        "outputId": "02006ef5-c449-4d6c-8109-d1a4cc7ea804",
        "colab": {
          "base_uri": "https://localhost:8080/"
        }
      },
      "execution_count": 9,
      "outputs": [
        {
          "output_type": "stream",
          "name": "stdout",
          "text": [
            "-3.108262701823821 -1.8206663430690853\n"
          ]
        }
      ]
    },
    {
      "cell_type": "markdown",
      "source": [
        "###Step 4 - Update the Parameters"
      ],
      "metadata": {
        "id": "jeBiRiOMUknN"
      }
    },
    {
      "cell_type": "markdown",
      "source": [
        "In the final step, we use the gradients to update the parameters. \n",
        "\n",
        "Since we are\n",
        "trying to minimize our losses, we reverse the sign of the gradient for the update.\n",
        "\n",
        "In our example, let’s start with a value of 0.1 for the learning rate."
      ],
      "metadata": {
        "id": "wKC5qiATUlRu"
      }
    },
    {
      "cell_type": "code",
      "source": [
        "# Sets learning rate\n",
        "lr = 0.1\n",
        "print(b, w)\n",
        "\n",
        "# Step 4 - Updates parameters using gradients and the learning rate\n",
        "b = b - lr * b_grad\n",
        "w = w - lr * w_grad\n",
        "\n",
        "print(b, w)"
      ],
      "metadata": {
        "id": "pkbTlKSbUrD4",
        "outputId": "53d24373-543f-4fcd-ccb6-6a95a6d7a718",
        "colab": {
          "base_uri": "https://localhost:8080/"
        }
      },
      "execution_count": 10,
      "outputs": [
        {
          "output_type": "stream",
          "name": "stdout",
          "text": [
            "[0.49671415] [-0.1382643]\n",
            "[0.80754042] [0.04380233]\n"
          ]
        }
      ]
    },
    {
      "cell_type": "markdown",
      "source": [
        "###Step 5 - Rinse and Repeat!"
      ],
      "metadata": {
        "id": "robyWOO0VQNg"
      }
    },
    {
      "cell_type": "markdown",
      "source": [
        "Now we use the updated parameters to go back to Step 1 and restart the process.\n",
        "\n",
        "Repeating this process over and over for many epochs is, in a nutshell, training a\n",
        "model."
      ],
      "metadata": {
        "id": "x_8OmIQ8VQ6g"
      }
    },
    {
      "cell_type": "markdown",
      "source": [
        "##Linear Regression in Numpy"
      ],
      "metadata": {
        "id": "hnago_O4Vmvm"
      }
    },
    {
      "cell_type": "markdown",
      "source": [
        "It’s time to implement our linear regression model using gradient descent and\n",
        "Numpy only.\n",
        "\n",
        "For each epoch, there are four training steps:\n",
        "\n",
        "1. Compute model’s predictions — this is the forward pass\n",
        "2. Compute the loss, using predictions and labels and the appropriate loss function\n",
        "3. Compute the gradients for every parameter\n",
        "4. Update the parameters\n",
        "\n",
        "For now, we will be using batch gradient descent only, meaning, we’ll use all data\n",
        "points for each one of the four steps above. It also means that going once through\n",
        "all of the steps is already one epoch."
      ],
      "metadata": {
        "id": "4vsVHIgOVo7o"
      }
    },
    {
      "cell_type": "code",
      "source": [
        "np.random.seed(42)\n",
        "\n",
        "# Step 0 - Initializes parameters \"b\" and \"w\" randomly\n",
        "b = np.random.randn(1)\n",
        "w = np.random.randn(1)\n",
        "print(b, w)\n",
        "\n",
        "# Sets learning rate\n",
        "lr = 0.1\n",
        "# Defines number of epochs\n",
        "n_epochs = 1000\n",
        "\n",
        "for epoch in range(n_epochs):\n",
        "  # Step 1 - Computes model's predicted output - forward pass\n",
        "  yhat = b + w * x_train\n",
        "\n",
        "  # Step 2 - Computes the loss\n",
        "  # We are using ALL data points, so this is BATCH gradient descent. How wrong is our model? That's the error! \n",
        "  error = (yhat - y_train)\n",
        "  # It is a regression, so it computes mean squared error (MSE)\n",
        "  loss = (error ** 2).mean()\n",
        "\n",
        "  # Step 3 - Computes gradients for both \"b\" and \"w\" parameters\n",
        "  b_grad = 2 * error.mean()\n",
        "  w_grad = 2 * (x_train * error).mean()\n",
        "\n",
        "  # Step 4 - Updates parameters using gradients and the learning rate\n",
        "  b = b - lr * b_grad\n",
        "  w = w - lr * w_grad\n",
        "\n",
        "print(b, w)"
      ],
      "metadata": {
        "id": "uzXq0fwnDFgE",
        "outputId": "d5150fb0-7639-46be-ba38-8c1c44d5c21b",
        "colab": {
          "base_uri": "https://localhost:8080/"
        }
      },
      "execution_count": 11,
      "outputs": [
        {
          "output_type": "stream",
          "name": "stdout",
          "text": [
            "[0.49671415] [-0.1382643]\n",
            "[1.05303414] [1.99581323]\n"
          ]
        }
      ]
    },
    {
      "cell_type": "markdown",
      "source": [
        "Just to make sure we haven’t done any mistakes in our code, we can use Scikit-\n",
        "Learn’s Linear Regression to fit the model and compare the coefficients."
      ],
      "metadata": {
        "id": "bDE1NocjFyk3"
      }
    },
    {
      "cell_type": "code",
      "source": [
        "# Sanity Check: do we get the same results as our gradient descent?\n",
        "lin_reg = LinearRegression()\n",
        "lin_reg.fit(x_train, y_train)\n",
        "print(lin_reg.intercept_, lin_reg.coef_[0])"
      ],
      "metadata": {
        "id": "WqxxP3wSFz-D",
        "outputId": "9b8bb21e-bf6b-42f8-d0d8-a8fbae800cd8",
        "colab": {
          "base_uri": "https://localhost:8080/"
        }
      },
      "execution_count": 12,
      "outputs": [
        {
          "output_type": "stream",
          "name": "stdout",
          "text": [
            "[1.05303354] [1.99581441]\n"
          ]
        }
      ]
    },
    {
      "cell_type": "markdown",
      "source": [
        "They match up to 6 decimal places — we have a fully working implementation of linear\n",
        "regression using Numpy."
      ],
      "metadata": {
        "id": "49Q7oFVdGT82"
      }
    },
    {
      "cell_type": "code",
      "source": [
        "fig = figure3(x_train, y_train)"
      ],
      "metadata": {
        "id": "5IwTRGzuGUbG",
        "outputId": "84ced2b9-a005-4cd9-ea6e-ee74b6cd6d07",
        "colab": {
          "base_uri": "https://localhost:8080/",
          "height": 0
        }
      },
      "execution_count": 13,
      "outputs": [
        {
          "output_type": "display_data",
          "data": {
            "text/plain": [
              "<Figure size 432x432 with 1 Axes>"
            ],
            "image/png": "[encoded data removed]"
          },
          "metadata": {}
        }
      ]
    },
    {
      "cell_type": "markdown",
      "source": [
        "##PyTorch Basic"
      ],
      "metadata": {
        "id": "E3tHpvUYGqpO"
      }
    },
    {
      "cell_type": "markdown",
      "source": [
        "In Numpy, you may have an array that has three dimensions, right? That is,\n",
        "technically speaking, a tensor.\n",
        "\n",
        "You can create tensors in PyTorch pretty much the same way you create arrays in\n",
        "Numpy. \n",
        "\n",
        "Using `tensor()` you can create either a scalar or a tensor."
      ],
      "metadata": {
        "id": "vzhYQ-Q3GsRF"
      }
    },
    {
      "cell_type": "code",
      "source": [
        "scalar = torch.tensor(3.14159)\n",
        "vector = torch.tensor([1, 2, 3])\n",
        "matrix = torch.ones((2, 3), dtype=torch.float)\n",
        "tensor = torch.randn((2, 3, 4), dtype=torch.float)\n",
        "\n",
        "print(scalar)\n",
        "print(vector)\n",
        "print(matrix)\n",
        "print(tensor)"
      ],
      "metadata": {
        "id": "8QA2sK9tiodM",
        "outputId": "ca599fbf-5efb-4f62-ef97-00b00bb37858",
        "colab": {
          "base_uri": "https://localhost:8080/"
        }
      },
      "execution_count": 14,
      "outputs": [
        {
          "output_type": "stream",
          "name": "stdout",
          "text": [
            "tensor(3.1416)\n",
            "tensor([1, 2, 3])\n",
            "tensor([[1., 1., 1.],\n",
            "        [1., 1., 1.]])\n",
            "tensor([[[-0.0199, -0.4503,  1.1267,  0.4919],\n",
            "         [ 0.0709, -1.6870, -0.5764, -0.1556],\n",
            "         [ 0.3391, -1.5025, -1.2705, -1.7714]],\n",
            "\n",
            "        [[ 0.4397, -1.1843, -0.5689,  0.5845],\n",
            "         [ 0.7038,  1.5889, -0.1463, -0.3407],\n",
            "         [ 1.1909,  1.5023, -0.0159,  0.6619]]])\n"
          ]
        }
      ]
    },
    {
      "cell_type": "markdown",
      "source": [
        "You can get the shape of a tensor using its `size()` method or its shape attribute."
      ],
      "metadata": {
        "id": "pibBdsgLjcSQ"
      }
    },
    {
      "cell_type": "code",
      "source": [
        "print(tensor.size(), tensor.shape)"
      ],
      "metadata": {
        "id": "v13QAvfnjd8p",
        "outputId": "85dd0798-c3d6-4b08-c3f4-6d0647c55918",
        "colab": {
          "base_uri": "https://localhost:8080/"
        }
      },
      "execution_count": 15,
      "outputs": [
        {
          "output_type": "stream",
          "name": "stdout",
          "text": [
            "torch.Size([2, 3, 4]) torch.Size([2, 3, 4])\n"
          ]
        }
      ]
    },
    {
      "cell_type": "code",
      "source": [
        "# scalars have \"empty\" shapes\n",
        "print(scalar.size(), scalar.shape)"
      ],
      "metadata": {
        "id": "SEUjmq7sjm1e",
        "outputId": "9453c16d-4500-44b4-f034-55629cf8b2a7",
        "colab": {
          "base_uri": "https://localhost:8080/"
        }
      },
      "execution_count": 16,
      "outputs": [
        {
          "output_type": "stream",
          "name": "stdout",
          "text": [
            "torch.Size([]) torch.Size([])\n"
          ]
        }
      ]
    },
    {
      "cell_type": "markdown",
      "source": [
        "You can also reshape a tensor using its `view()` (preferred) or `reshape()` methods."
      ],
      "metadata": {
        "id": "sn6ZczR2jwwg"
      }
    },
    {
      "cell_type": "code",
      "source": [
        "# We get a tensor with a different shape but it still is the SAME tensor\n",
        "same_matrix = matrix.view(1, 6)\n",
        "\n",
        "# If we change one of its elements...\n",
        "same_matrix[0, 1] = 2.\n",
        "\n",
        "# It changes both variables: matrix and same_matrix\n",
        "print(matrix)\n",
        "print(same_matrix)"
      ],
      "metadata": {
        "id": "GUGgd1V_jziz",
        "outputId": "65531c19-9d76-40f2-f509-e4e31f558014",
        "colab": {
          "base_uri": "https://localhost:8080/"
        }
      },
      "execution_count": 17,
      "outputs": [
        {
          "output_type": "stream",
          "name": "stdout",
          "text": [
            "tensor([[1., 2., 1.],\n",
            "        [1., 1., 1.]])\n",
            "tensor([[1., 2., 1., 1., 1., 1.]])\n"
          ]
        }
      ]
    },
    {
      "cell_type": "markdown",
      "source": [
        "If you want to copy all data for real, that is, duplicate the data in memory, you may\n",
        "use either its `new_tensor()` or `clone()` methods."
      ],
      "metadata": {
        "id": "VZ3f0wxRkQ9X"
      }
    },
    {
      "cell_type": "code",
      "source": [
        "# We can use \"new_tensor\" method to REALLY copy it into a new one\n",
        "different_matrix = matrix.new_tensor(matrix.view(1, 6))\n",
        "\n",
        "# Now, if we change one of its elements...\n",
        "different_matrix[0, 1] = 3.\n",
        "\n",
        "# The original tensor (matrix) is left untouched!\n",
        "# But we get a \"warning\" from PyTorch telling us to use \"clone()\" instead!\n",
        "print(matrix)\n",
        "print(different_matrix)"
      ],
      "metadata": {
        "id": "hIwAxu6jkTsO",
        "outputId": "975e34bd-0bb5-4eb0-c0c7-0fd2ccb15b1b",
        "colab": {
          "base_uri": "https://localhost:8080/"
        }
      },
      "execution_count": 18,
      "outputs": [
        {
          "output_type": "stream",
          "name": "stdout",
          "text": [
            "tensor([[1., 2., 1.],\n",
            "        [1., 1., 1.]])\n",
            "tensor([[1., 3., 1., 1., 1., 1.]])\n"
          ]
        },
        {
          "output_type": "stream",
          "name": "stderr",
          "text": [
            "/usr/local/lib/python3.7/dist-packages/ipykernel_launcher.py:2: UserWarning: To copy construct from a tensor, it is recommended to use sourceTensor.clone().detach() or sourceTensor.clone().detach().requires_grad_(True), rather than tensor.new_tensor(sourceTensor).\n",
            "  \n"
          ]
        }
      ]
    },
    {
      "cell_type": "markdown",
      "source": [
        "It seems that PyTorch prefers that we use `clone()` - together with `detach()` -\n",
        "instead of `new_tensor()`… Both ways accomplish exactly the same result.\n",
        "\n",
        "> `detach()` removes the tensor from the computation graph."
      ],
      "metadata": {
        "id": "3OiXlzOjlpad"
      }
    },
    {
      "cell_type": "code",
      "source": [
        "# Lets follow PyTorch's suggestion and use \"clone\" method\n",
        "another_matrix = matrix.view(1, 6).clone().detach()\n",
        "\n",
        "# Again, if we change one of its elements...\n",
        "another_matrix[0, 1] = 4.\n",
        "\n",
        "# The original tensor (matrix) is left untouched!\n",
        "print(matrix)\n",
        "print(another_matrix)"
      ],
      "metadata": {
        "id": "J127k_PVlqHN",
        "outputId": "b40fbdfd-73e1-4d1e-82f0-ea7c404dfd21",
        "colab": {
          "base_uri": "https://localhost:8080/"
        }
      },
      "execution_count": 19,
      "outputs": [
        {
          "output_type": "stream",
          "name": "stdout",
          "text": [
            "tensor([[1., 2., 1.],\n",
            "        [1., 1., 1.]])\n",
            "tensor([[1., 4., 1., 1., 1., 1.]])\n"
          ]
        }
      ]
    },
    {
      "cell_type": "markdown",
      "source": [
        "###Loading Data, Devices and CUDA"
      ],
      "metadata": {
        "id": "P2h8HWgGtJm6"
      }
    },
    {
      "cell_type": "markdown",
      "source": [
        "It is time to start converting our Numpy code to PyTorch: we’ll start with the\n",
        "training data."
      ],
      "metadata": {
        "id": "xNbU2J2ktKfQ"
      }
    },
    {
      "cell_type": "code",
      "source": [
        "x_train_tensor = torch.as_tensor(x_train)\n",
        "x_train.dtype, x_train_tensor.dtype"
      ],
      "metadata": {
        "id": "i2ZOA43XtLKF",
        "outputId": "55203bdd-8b50-47db-bfda-cb671a4bd411",
        "colab": {
          "base_uri": "https://localhost:8080/"
        }
      },
      "execution_count": 20,
      "outputs": [
        {
          "output_type": "execute_result",
          "data": {
            "text/plain": [
              "(dtype('float64'), torch.float64)"
            ]
          },
          "metadata": {},
          "execution_count": 20
        }
      ]
    },
    {
      "cell_type": "markdown",
      "source": [
        "You can also easily cast it to a different type."
      ],
      "metadata": {
        "id": "IqHPiFmFtnsS"
      }
    },
    {
      "cell_type": "code",
      "source": [
        "float_tensor = x_train_tensor.float()\n",
        "float_tensor.dtype"
      ],
      "metadata": {
        "id": "bhb3xZwXtoRe",
        "outputId": "d8bc8dfc-c5ba-4550-aeb4-caa30aba0b8b",
        "colab": {
          "base_uri": "https://localhost:8080/"
        }
      },
      "execution_count": 21,
      "outputs": [
        {
          "output_type": "execute_result",
          "data": {
            "text/plain": [
              "torch.float32"
            ]
          },
          "metadata": {},
          "execution_count": 21
        }
      ]
    },
    {
      "cell_type": "markdown",
      "source": [
        ">**IMPORTANT**: both `as_tensor()` and `from_numpy()` return a\n",
        "tensor that shares the underlying data with the original Numpy\n",
        "array. Similarly to what happened when we used view() in the\n",
        "last section, if you modify the original Numpy array, you’re\n",
        "modifying the corresponding PyTorch tensor too, and vice-versa."
      ],
      "metadata": {
        "id": "j0K4ooSruHnK"
      }
    },
    {
      "cell_type": "code",
      "source": [
        "dummy_array = np.array([1, 2, 3])\n",
        "dummy_tensor = torch.as_tensor(dummy_array)\n",
        "\n",
        "# Modifies the numpy array\n",
        "dummy_array[1] = 0\n",
        "\n",
        "# Tensor gets modified too...\n",
        "dummy_tensor"
      ],
      "metadata": {
        "id": "s1JGislIuNIg",
        "outputId": "026d86db-2f23-4106-ffcb-4ea7e43a64f1",
        "colab": {
          "base_uri": "https://localhost:8080/"
        }
      },
      "execution_count": 22,
      "outputs": [
        {
          "output_type": "execute_result",
          "data": {
            "text/plain": [
              "tensor([1, 0, 3])"
            ]
          },
          "metadata": {},
          "execution_count": 22
        }
      ]
    },
    {
      "cell_type": "code",
      "source": [
        "dummy_array"
      ],
      "metadata": {
        "id": "ZAU0yUFeunmX",
        "outputId": "5dff93b9-4ff0-45e4-e3ed-8f28cc411257",
        "colab": {
          "base_uri": "https://localhost:8080/"
        }
      },
      "execution_count": 23,
      "outputs": [
        {
          "output_type": "execute_result",
          "data": {
            "text/plain": [
              "array([1, 0, 3])"
            ]
          },
          "metadata": {},
          "execution_count": 23
        }
      ]
    },
    {
      "cell_type": "code",
      "source": [
        "# perform the opposite operation, transforming a PyTorch tensor back to a Numpy array\n",
        "dummy_tensor.numpy() "
      ],
      "metadata": {
        "id": "DLl4GTfzutxt",
        "outputId": "2e9c5869-e94d-4e68-a860-070703c86041",
        "colab": {
          "base_uri": "https://localhost:8080/"
        }
      },
      "execution_count": 24,
      "outputs": [
        {
          "output_type": "execute_result",
          "data": {
            "text/plain": [
              "array([1, 0, 3])"
            ]
          },
          "metadata": {},
          "execution_count": 24
        }
      ]
    },
    {
      "cell_type": "markdown",
      "source": [
        "So far, we have only created CPU tensors. \n",
        "\n",
        "What does it mean? \n",
        "\n",
        "It means the data in\n",
        "the tensor is stored in the computer’s main memory and any operations performed\n",
        "on it are going to be handled by its CPU.\n",
        "\n",
        "Is there any other kind of tensor?\n",
        "\n",
        "Yes, there is also a GPU tensor. \n",
        "\n",
        "A GPU (which stands for Graphics Processing Unit)\n",
        "is the processor of a graphics card. These tensors store their data in the graphics\n",
        "card’s memory and operations on top of them are performed by the GPU.\n",
        "\n",
        "Let's find out if we have a GPU."
      ],
      "metadata": {
        "id": "txwssrh3xuso"
      }
    },
    {
      "cell_type": "code",
      "source": [
        "device = \"cuda\" if torch.cuda.is_available() else \"cpu\"\n",
        "print(device)"
      ],
      "metadata": {
        "id": "_Utu0cE4yCRk",
        "outputId": "c71a9c48-729b-4007-f3e4-907ee2a28d9b",
        "colab": {
          "base_uri": "https://localhost:8080/"
        }
      },
      "execution_count": 25,
      "outputs": [
        {
          "output_type": "stream",
          "name": "stdout",
          "text": [
            "cuda\n"
          ]
        }
      ]
    },
    {
      "cell_type": "markdown",
      "source": [
        "Let's figure it out how many GPUs we have."
      ],
      "metadata": {
        "id": "jzEReCm7ysed"
      }
    },
    {
      "cell_type": "code",
      "source": [
        "n_cudas = torch.cuda.device_count()\n",
        "for i in range(n_cudas):\n",
        "  print(torch.cuda.get_device_name(i))"
      ],
      "metadata": {
        "id": "7eRDuC6byxqP",
        "outputId": "dc39127c-75f7-4990-bb6c-5f96515bdf69",
        "colab": {
          "base_uri": "https://localhost:8080/"
        }
      },
      "execution_count": 26,
      "outputs": [
        {
          "output_type": "stream",
          "name": "stdout",
          "text": [
            "Tesla T4\n"
          ]
        }
      ]
    },
    {
      "cell_type": "markdown",
      "source": [
        "There is only one thing left to do: turn our tensor into a GPU tensor. That’s what\n",
        "`to()` is good for. It sends a tensor to the specified device."
      ],
      "metadata": {
        "id": "ZGqKywkjzlv9"
      }
    },
    {
      "cell_type": "code",
      "source": [
        "gpu_tensor = torch.as_tensor(x_train).to(device)\n",
        "gpu_tensor[0]  # GPU tensor"
      ],
      "metadata": {
        "id": "_UX1wXYUznz7",
        "outputId": "6d36d0c1-bbac-4392-86c9-d15f7d3b9bfc",
        "colab": {
          "base_uri": "https://localhost:8080/"
        }
      },
      "execution_count": 27,
      "outputs": [
        {
          "output_type": "execute_result",
          "data": {
            "text/plain": [
              "tensor([0.5227], device='cuda:0', dtype=torch.float64)"
            ]
          },
          "metadata": {},
          "execution_count": 27
        }
      ]
    },
    {
      "cell_type": "code",
      "source": [
        "x_train_tensor[0]  # CPU tensor"
      ],
      "metadata": {
        "id": "SHdNn3S_0yFt",
        "outputId": "49916b52-f968-4bcc-be7b-9ed43c5c19c2",
        "colab": {
          "base_uri": "https://localhost:8080/"
        }
      },
      "execution_count": 28,
      "outputs": [
        {
          "output_type": "execute_result",
          "data": {
            "text/plain": [
              "tensor([0.5227], dtype=torch.float64)"
            ]
          },
          "metadata": {},
          "execution_count": 28
        }
      ]
    },
    {
      "cell_type": "markdown",
      "source": [
        "Should I use `to(device)`, even if I am using CPU only?\n",
        "\n",
        "Yes, you should, because there is no cost in doing so. If you have only a CPU, your\n",
        "tensor is already a CPU tensor, so nothing will happen. But if you share your code\n",
        "with others on GitHub, whoever has a GPU will benefit from it.\n",
        "\n",
        "Let’s put it all together now and make our training data ready for PyTorch."
      ],
      "metadata": {
        "id": "XDC38rWJ1CPJ"
      }
    },
    {
      "cell_type": "code",
      "source": [
        "device = \"cuda\" if torch.cuda.is_available() else \"cpu\"\n",
        "\n",
        "# Our data was in Numpy arrays, but we need to transform them\n",
        "# into PyTorch's Tensors and then we send them to the chosen device\n",
        "x_train_tensor = torch.as_tensor(x_train).float().to(device)\n",
        "y_train_tensor = torch.as_tensor(y_train).float().to(device)"
      ],
      "metadata": {
        "id": "vOPC3dRA1c78"
      },
      "execution_count": 29,
      "outputs": []
    },
    {
      "cell_type": "markdown",
      "source": [
        "Here we can see the difference - notice that `.type()` is more useful since it also tells us WHERE the tensor is (device)."
      ],
      "metadata": {
        "id": "pd3ut_Z82pQi"
      }
    },
    {
      "cell_type": "code",
      "source": [
        "print(type(x_train), type(x_train_tensor), x_train_tensor.type())  # GPU tensor"
      ],
      "metadata": {
        "id": "UErHp9X22tU2",
        "outputId": "41685dc6-1d38-48b2-8ead-8337c11dbea2",
        "colab": {
          "base_uri": "https://localhost:8080/"
        }
      },
      "execution_count": 30,
      "outputs": [
        {
          "output_type": "stream",
          "name": "stdout",
          "text": [
            "<class 'numpy.ndarray'> <class 'torch.Tensor'> torch.cuda.FloatTensor\n"
          ]
        }
      ]
    },
    {
      "cell_type": "code",
      "source": [
        "print(type(dummy_array), type(dummy_tensor), dummy_tensor.type())  # CPU tensor"
      ],
      "metadata": {
        "id": "dMDY9RT43A0W",
        "outputId": "c6f9cf90-455e-484b-aab2-f2d625d4ac41",
        "colab": {
          "base_uri": "https://localhost:8080/"
        }
      },
      "execution_count": 31,
      "outputs": [
        {
          "output_type": "stream",
          "name": "stdout",
          "text": [
            "<class 'numpy.ndarray'> <class 'torch.Tensor'> torch.LongTensor\n"
          ]
        }
      ]
    },
    {
      "cell_type": "markdown",
      "source": [
        "But where does the x_train_tensor “live”? Is it a CPU or a GPU tensor? \n",
        "\n",
        "You can’t\n",
        "say… but if you use PyTorch’s `type()`, it will reveal its location — `torch.cuda.FloatTensor` — a GPU tensor in this case.\n",
        "\n",
        "Now, let's see.\n",
        "\n",
        "What if we want to turn a GPU tensor back into a Numpy array?"
      ],
      "metadata": {
        "id": "FTUmvGkm3cw4"
      }
    },
    {
      "cell_type": "code",
      "source": [
        "try:\n",
        "  back_to_numpy = x_train_tensor.numpy()\n",
        "except TypeError:\n",
        "  print(\"TypeError: can't convert cuda:0 device type tensor to numpy. Use Tensor.cpu() to copy the tensor to host memory first.\")"
      ],
      "metadata": {
        "id": "9ciOSjfg3vLw",
        "outputId": "266ab9b2-9f08-44ec-937e-702f8007f216",
        "colab": {
          "base_uri": "https://localhost:8080/"
        }
      },
      "execution_count": 32,
      "outputs": [
        {
          "output_type": "stream",
          "name": "stdout",
          "text": [
            "TypeError: can't convert cuda:0 device type tensor to numpy. Use Tensor.cpu() to copy the tensor to host memory first.\n"
          ]
        }
      ]
    },
    {
      "cell_type": "markdown",
      "source": [
        "Unfortunately, Numpy cannot handle GPU tensors… you need to make them CPU\n",
        "tensors first using `cpu()`."
      ],
      "metadata": {
        "id": "MEo6Gfpb4BQ1"
      }
    },
    {
      "cell_type": "code",
      "source": [
        "back_to_numpy = x_train_tensor.cpu().numpy()"
      ],
      "metadata": {
        "id": "DLGHsBBO4Dbl"
      },
      "execution_count": 33,
      "outputs": []
    },
    {
      "cell_type": "markdown",
      "source": [
        "So, to avoid this error, use first `cpu()` and then `numpy()`, even if you are using a CPU."
      ],
      "metadata": {
        "id": "uzNx7npJ4Nho"
      }
    },
    {
      "cell_type": "markdown",
      "source": [
        "###Creating Parameters"
      ],
      "metadata": {
        "id": "nCK-G-Mm4P9v"
      }
    },
    {
      "cell_type": "markdown",
      "source": [
        "What distinguishes a tensor used for training data (or validation, or test) — like the\n",
        "ones we’ve just created — from a tensor used as a (trainable) parameter/weight?\n",
        "\n",
        "The latter requires the computation of its gradients, so we can update their values\n",
        "(the parameters’ values, that is). \n",
        "\n",
        "That’s what the `requires_grad=True` argument is\n",
        "good for. It tells PyTorch to compute gradients for us.\n",
        "\n",
        "> A tensor for a learnable parameter requires a gradient!"
      ],
      "metadata": {
        "id": "gEIymB6T4SJ1"
      }
    },
    {
      "cell_type": "code",
      "source": [
        "torch.manual_seed(42)\n",
        "\n",
        "# FIRST\n",
        "# Initializes parameters \"b\" and \"w\" randomly, ALMOST as we\n",
        "# did in Numpy since we want to apply gradient descent on\n",
        "# these parameters we need to set REQUIRES_GRAD = TRUE\n",
        "b = torch.randn(1, requires_grad=True, dtype=torch.float)\n",
        "w = torch.randn(1, requires_grad=True, dtype=torch.float)\n",
        "print(b, w)"
      ],
      "metadata": {
        "id": "oDj4_Y6VrjXC",
        "outputId": "e25dc225-1069-4e9d-c7f2-c0ec3570346f",
        "colab": {
          "base_uri": "https://localhost:8080/"
        }
      },
      "execution_count": 34,
      "outputs": [
        {
          "output_type": "stream",
          "name": "stdout",
          "text": [
            "tensor([0.3367], requires_grad=True) tensor([0.1288], requires_grad=True)\n"
          ]
        }
      ]
    },
    {
      "cell_type": "code",
      "source": [
        "torch.manual_seed(42)\n",
        "\n",
        "# SECOND\n",
        "# But what if we want to run it on a GPU? We could just send them to device, right?\n",
        "b = torch.randn(1, requires_grad=True, dtype=torch.float).to(device)\n",
        "w = torch.randn(1, requires_grad=True, dtype=torch.float).to(device)\n",
        "print(b, w)"
      ],
      "metadata": {
        "id": "ZXi9U1tavKJZ",
        "outputId": "c17f38a7-1712-4ccb-9bdd-bbe3c366a8c5",
        "colab": {
          "base_uri": "https://localhost:8080/"
        }
      },
      "execution_count": 35,
      "outputs": [
        {
          "output_type": "stream",
          "name": "stdout",
          "text": [
            "tensor([0.3367], device='cuda:0', grad_fn=<ToCopyBackward0>) tensor([0.1288], device='cuda:0', grad_fn=<ToCopyBackward0>)\n"
          ]
        }
      ]
    },
    {
      "cell_type": "code",
      "source": [
        "torch.manual_seed(42)\n",
        "\n",
        "# THIRD\n",
        "# We can either create regular tensors and send them to the device (as we did with our data)\n",
        "b = torch.randn(1, dtype=torch.float).to(device)\n",
        "w = torch.randn(1, dtype=torch.float).to(device)\n",
        "# and THEN set them as requiring gradients...\n",
        "b.requires_grad_()\n",
        "w.requires_grad_()\n",
        "print(b, w)"
      ],
      "metadata": {
        "id": "32L6EkM5ved4",
        "outputId": "26c4acbb-68f1-41b3-c841-5a2b182577d4",
        "colab": {
          "base_uri": "https://localhost:8080/"
        }
      },
      "execution_count": 36,
      "outputs": [
        {
          "output_type": "stream",
          "name": "stdout",
          "text": [
            "tensor([0.3367], device='cuda:0', requires_grad=True) tensor([0.1288], device='cuda:0', requires_grad=True)\n"
          ]
        }
      ]
    },
    {
      "cell_type": "markdown",
      "source": [
        "This approach worked fine; we managed to end up with gradient-requiring GPU\n",
        "tensors for our parameters `b` and `w`. \n",
        "\n",
        "It seems a lot of work, though… Can we do\n",
        "better still?\n",
        "\n",
        "Yes, we can do better: we can assign tensors to a device at the moment of their\n",
        "creation."
      ],
      "metadata": {
        "id": "RTyq7F8Gv8Mx"
      }
    },
    {
      "cell_type": "code",
      "source": [
        "torch.manual_seed(42)\n",
        "\n",
        "# FINAL\n",
        "# We can specify the device at the moment of creation\n",
        "# RECOMMENDED!\n",
        "\n",
        "# Step 0 - Initializes parameters \"b\" and \"w\" randomly\n",
        "b = torch.randn(1, requires_grad=True, dtype=torch.float, device=device)\n",
        "w = torch.randn(1, requires_grad=True, dtype=torch.float, device=device)\n",
        "print(b, w)"
      ],
      "metadata": {
        "id": "HyvDwy8nwARL",
        "outputId": "5a2f1be6-361f-4957-c442-0ca5c13d0106",
        "colab": {
          "base_uri": "https://localhost:8080/"
        }
      },
      "execution_count": 37,
      "outputs": [
        {
          "output_type": "stream",
          "name": "stdout",
          "text": [
            "tensor([0.1940], device='cuda:0', requires_grad=True) tensor([0.1391], device='cuda:0', requires_grad=True)\n"
          ]
        }
      ]
    },
    {
      "cell_type": "markdown",
      "source": [
        "Now that we know how to create tensors that require gradients, let’s see how\n",
        "PyTorch handles them."
      ],
      "metadata": {
        "id": "yyo3pJzzwi6V"
      }
    },
    {
      "cell_type": "markdown",
      "source": [
        "##Autograd"
      ],
      "metadata": {
        "id": "P-1hyTcXwj_w"
      }
    },
    {
      "cell_type": "markdown",
      "source": [
        "Autograd is PyTorch’s automatic differentiation package. Thanks to it, we don’t need\n",
        "to worry about partial derivatives, chain rule, or anything like it.\n",
        "\n",
        "Do you remember the starting point for computing the gradients? \n",
        "\n",
        "It was the loss,\n",
        "as we computed its partial derivatives w.r.t. our parameters. \n",
        "\n",
        "Hence, we need to\n",
        "invoke the `backward()` method from the corresponding Python variable:\n",
        "`loss.backward()`."
      ],
      "metadata": {
        "id": "wTCSiNLnwtk9"
      }
    },
    {
      "cell_type": "code",
      "source": [
        "# Step 1 - Computes our model's predicted output - forward pass\n",
        "yhat = b + w * x_train_tensor\n",
        "\n",
        "# Step 2 - Computes the loss\n",
        "# We are using ALL data points, so this is BATCH gradient descent\n",
        "# How wrong is our model? That's the error! \n",
        "error = (yhat - y_train_tensor)\n",
        "# It is a regression, so it computes mean squared error (MSE)\n",
        "loss = (error ** 2).mean()\n",
        "\n",
        "# Step 3 - Computes gradients for both \"b\" and \"w\" parameters\n",
        "# No more manual computation of gradients! \n",
        "# b_grad = 2 * error.mean()\n",
        "# w_grad = 2 * (x_tensor * error).mean()\n",
        "loss.backward()"
      ],
      "metadata": {
        "id": "1IYeoeWBHyDP"
      },
      "execution_count": 38,
      "outputs": []
    },
    {
      "cell_type": "markdown",
      "source": [
        "Do you see the pattern here? \n",
        "\n",
        "If a tensor in the list is used to compute another\n",
        "tensor, the latter will also be included in the list. Tracking these dependencies is\n",
        "exactly what the dynamic computation graph is doing."
      ],
      "metadata": {
        "id": "cyUMdmUpJTfO"
      }
    },
    {
      "cell_type": "code",
      "source": [
        "print(error.requires_grad, yhat.requires_grad, b.requires_grad, w.requires_grad)\n",
        "print(y_train_tensor.requires_grad, x_train_tensor.requires_grad)"
      ],
      "metadata": {
        "id": "TJXqvhBrJVkT",
        "outputId": "a6619744-05ce-4495-f43f-129bc908c1ec",
        "colab": {
          "base_uri": "https://localhost:8080/"
        }
      },
      "execution_count": 39,
      "outputs": [
        {
          "output_type": "stream",
          "name": "stdout",
          "text": [
            "True True True True\n",
            "False False\n"
          ]
        }
      ]
    },
    {
      "cell_type": "markdown",
      "source": [
        "What about the actual values of the gradients? \n",
        "\n",
        "We can inspect them by looking at\n",
        "the grad attribute of a tensor."
      ],
      "metadata": {
        "id": "ZqCg5jkOKRgC"
      }
    },
    {
      "cell_type": "code",
      "source": [
        "print(b.grad, w.grad)"
      ],
      "metadata": {
        "id": "0wAoFPquKSv6",
        "outputId": "d61f2e6e-01e8-4adb-c379-65be6d63ab24",
        "colab": {
          "base_uri": "https://localhost:8080/"
        }
      },
      "execution_count": 40,
      "outputs": [
        {
          "output_type": "stream",
          "name": "stdout",
          "text": [
            "tensor([-3.4542], device='cuda:0') tensor([-1.9347], device='cuda:0')\n"
          ]
        }
      ]
    },
    {
      "cell_type": "markdown",
      "source": [
        "If you check the method’s documentation, it clearly states that **gradients are\n",
        "accumulated**. \n",
        "\n",
        "What does it mean? \n",
        "\n",
        "It means that, if we run gradient update twice and check the grad attribute afterward."
      ],
      "metadata": {
        "id": "kiPxOFAWKcVO"
      }
    },
    {
      "cell_type": "code",
      "source": [
        "print(b.grad, w.grad)"
      ],
      "metadata": {
        "id": "3wQ4_IAMKok2",
        "outputId": "8f8ba913-439a-4c4e-9ec4-b9b8acf47dcd",
        "colab": {
          "base_uri": "https://localhost:8080/"
        }
      },
      "execution_count": 41,
      "outputs": [
        {
          "output_type": "stream",
          "name": "stdout",
          "text": [
            "tensor([-3.4542], device='cuda:0') tensor([-1.9347], device='cuda:0')\n"
          ]
        }
      ]
    },
    {
      "cell_type": "markdown",
      "source": [
        "These gradients' values are exactly twice as much as they were before, as\n",
        "expected!\n",
        "\n",
        "OK, but that is actually a problem: we need to use the gradients corresponding to the current loss to perform the parameter update. \n",
        "\n",
        "We should NOT use\n",
        "accumulated gradients.\n",
        "\n",
        "So, every time we use the gradients to update the parameters, we need to zero the\n",
        "gradients afterward.\n",
        "\n",
        "\n",
        "\n"
      ],
      "metadata": {
        "id": "UB-KiiwEKyCt"
      }
    },
    {
      "cell_type": "code",
      "source": [
        "# This code will be placed _after_ Step 4 (updating the parameters)\n",
        "b.grad.zero_(), w.grad.zero_()"
      ],
      "metadata": {
        "id": "R6IzDoodVAlA",
        "outputId": "75ea72e5-2ae3-415d-9d74-2be0b8b72fc2",
        "colab": {
          "base_uri": "https://localhost:8080/"
        }
      },
      "execution_count": 42,
      "outputs": [
        {
          "output_type": "execute_result",
          "data": {
            "text/plain": [
              "(tensor([0.], device='cuda:0'), tensor([0.], device='cuda:0'))"
            ]
          },
          "metadata": {},
          "execution_count": 42
        }
      ]
    },
    {
      "cell_type": "markdown",
      "source": [
        "###Updating Parameters"
      ],
      "metadata": {
        "id": "ujZxCDGaQ0nI"
      }
    },
    {
      "cell_type": "markdown",
      "source": [
        "Unfortunately, our Numpy's code for updating parameters is not enough… why\n",
        "not?! \n",
        "\n",
        "Let’s try it out, simply copying and pasting it (this is the first attempt), changing\n",
        "it slightly (second attempt), and then asking PyTorch to back off (yes, it is PyTorch’s\n",
        "fault!)."
      ],
      "metadata": {
        "id": "IIrjMY3HM3WQ"
      }
    },
    {
      "cell_type": "code",
      "source": [
        "torch.manual_seed(42)\n",
        "\n",
        "# Sets learning rate\n",
        "lr = 0.1\n",
        "\n",
        "# Step 0 - Initializes parameters \"b\" and \"w\" randomly\n",
        "b = torch.randn(1, requires_grad=True, dtype=torch.float, device=device)\n",
        "w = torch.randn(1, requires_grad=True, dtype=torch.float, device=device)\n",
        "\n",
        "# Defines number of epochs\n",
        "n_epochs = 1000\n",
        "\n",
        "for epoch in range(n_epochs):\n",
        "  # Step 1 - Computes model's predicted output - forward pass\n",
        "  yhat = b + w * x_train_tensor\n",
        "\n",
        "  # Step 2 - Computes the loss\n",
        "  error = (yhat - y_train_tensor)\n",
        "  loss = (error ** 2).mean()\n",
        "\n",
        "  # Step 3 - Computes gradients for both \"b\" and \"w\" parameters\n",
        "  # No more manual computation of gradients! \n",
        "  # b_grad = 2 * error.mean()\n",
        "  # w_grad = 2 * (x_tensor * error).mean()   \n",
        "  # We just tell PyTorch to work its way BACKWARDS from the specified loss!\n",
        "  loss.backward()\n",
        "\n",
        "  # Step 4 - Updates parameters using gradients and the learning rate. But not so fast...\n",
        "\n",
        "  # FIRST ATTEMPT - just using the same code as before\n",
        "  # AttributeError: 'NoneType' object has no attribute 'zero_'\n",
        "  # b = b - lr * b.grad\n",
        "  # w = w - lr * w.grad\n",
        "  # print(b)\n",
        "  \n",
        "  # SECOND ATTEMPT - using in-place Python assigment\n",
        "  # RuntimeError: a leaf Variable that requires grad\n",
        "  # has been used in an in-place operation.\n",
        "  # b -= lr * b.grad\n",
        "  # w -= lr * w.grad \n",
        "\n",
        "  # THIRD ATTEMPT - NO_GRAD for the win!\n",
        "  # We need to use NO_GRAD to keep the update out of\n",
        "  # the gradient computation. Why is that? It boils \n",
        "  # down to the DYNAMIC GRAPH that PyTorch uses...\n",
        "  with torch.no_grad():\n",
        "    b -= lr * b.grad\n",
        "    w -= lr * w.grad\n",
        "\n",
        "  # PyTorch is \"clingy\" to its computed gradients, we need to tell it to let it go...\n",
        "  b.grad.zero_() # zero_ prevents gradient accumulation\n",
        "  w.grad.zero_()\n",
        "\n",
        "print(b, w)"
      ],
      "metadata": {
        "id": "pCF_d2tVM3o1",
        "outputId": "3a2c1849-d777-4541-f612-a6f81d90c163",
        "colab": {
          "base_uri": "https://localhost:8080/"
        }
      },
      "execution_count": 43,
      "outputs": [
        {
          "output_type": "stream",
          "name": "stdout",
          "text": [
            "tensor([1.0530], device='cuda:0', requires_grad=True) tensor([1.9958], device='cuda:0', requires_grad=True)\n"
          ]
        }
      ]
    },
    {
      "cell_type": "markdown",
      "source": [
        "###Dynamic Computation Graph"
      ],
      "metadata": {
        "id": "_0PXHilSQ5Al"
      }
    },
    {
      "cell_type": "markdown",
      "source": [
        "The `PyTorchViz` package and its `make_dot(variable)` method allow us to easily\n",
        "visualize a graph associated with a given Python variable involved in the gradient\n",
        "computation.\n",
        "\n"
      ],
      "metadata": {
        "id": "_TKcJt2dQ7Wk"
      }
    },
    {
      "cell_type": "code",
      "source": [
        "torch.manual_seed(42)\n",
        "\n",
        "# Step 0 - Initializes parameters \"b\" and \"w\" randomly\n",
        "b = torch.randn(1, requires_grad=True, dtype=torch.float).to(device)\n",
        "w = torch.randn(1, requires_grad=True, dtype=torch.float).to(device)\n",
        "\n",
        "# Step 1 - Computes our model's predicted output - forward pass\n",
        "yhat = b + w * x_train_tensor\n",
        "\n",
        "# Step 2 - Computes the loss\n",
        "error = (yhat - y_train_tensor)\n",
        "loss = (error ** 2).mean()\n",
        "\n",
        "# We can try plotting the graph for any python variable\n",
        "make_dot(yhat)"
      ],
      "metadata": {
        "id": "QraKDeUrXxJC",
        "outputId": "b5139289-e55c-4e7a-da88-d52d5148e6a5",
        "colab": {
          "base_uri": "https://localhost:8080/",
          "height": 0
        }
      },
      "execution_count": 44,
      "outputs": [
        {
          "output_type": "execute_result",
          "data": {
            "text/plain": [
              "<graphviz.dot.Digraph at 0x7f0893c17bd0>"
            ],
            "image/svg+xml": "<?xml version=\"1.0\" encoding=\"UTF-8\" standalone=\"no\"?>\n<!DOCTYPE svg PUBLIC \"-//W3C//DTD SVG 1.1//EN\"\n \"http://www.w3.org/Graphics/SVG/1.1/DTD/svg11.dtd\">\n<!-- Generated by graphviz version 2.40.1 (20161225.0304)\n -->\n<!-- Title: %3 Pages: 1 -->\n<svg width=\"234pt\" height=\"338pt\"\n viewBox=\"0.00 0.00 234.00 338.00\" xmlns=\"http://www.w3.org/2000/svg\" xmlns:xlink=\"http://www.w3.org/1999/xlink\">\n<g id=\"graph0\" class=\"graph\" transform=\"scale(1 1) rotate(0) translate(4 334)\">\n<title>%3</title>\n<polygon fill=\"#ffffff\" stroke=\"transparent\" points=\"-4,4 -4,-334 230,-334 230,4 -4,4\"/>\n<!-- 139674815931984 -->\n<g id=\"node1\" class=\"node\">\n<title>139674815931984</title>\n<polygon fill=\"#caff70\" stroke=\"#000000\" points=\"144,-31 79,-31 79,0 144,0 144,-31\"/>\n<text text-anchor=\"middle\" x=\"111.5\" y=\"-7\" font-family=\"monospace\" font-size=\"10.00\" fill=\"#000000\"> (80, 1)</text>\n</g>\n<!-- 139674815552016 -->\n<g id=\"node2\" class=\"node\">\n<title>139674815552016</title>\n<polygon fill=\"#d3d3d3\" stroke=\"#000000\" points=\"156,-86 67,-86 67,-67 156,-67 156,-86\"/>\n<text text-anchor=\"middle\" x=\"111.5\" y=\"-74\" font-family=\"monospace\" font-size=\"10.00\" fill=\"#000000\">AddBackward0</text>\n</g>\n<!-- 139674815552016&#45;&gt;139674815931984 -->\n<g id=\"edge8\" class=\"edge\">\n<title>139674815552016&#45;&gt;139674815931984</title>\n<path fill=\"none\" stroke=\"#000000\" d=\"M111.5,-66.9688C111.5,-60.1289 111.5,-50.5621 111.5,-41.5298\"/>\n<polygon fill=\"#000000\" stroke=\"#000000\" points=\"115.0001,-41.3678 111.5,-31.3678 108.0001,-41.3678 115.0001,-41.3678\"/>\n</g>\n<!-- 139674815550352 -->\n<g id=\"node3\" class=\"node\">\n<title>139674815550352</title>\n<polygon fill=\"#d3d3d3\" stroke=\"#000000\" points=\"107,-141 0,-141 0,-122 107,-122 107,-141\"/>\n<text text-anchor=\"middle\" x=\"53.5\" y=\"-129\" font-family=\"monospace\" font-size=\"10.00\" fill=\"#000000\">ToCopyBackward0</text>\n</g>\n<!-- 139674815550352&#45;&gt;139674815552016 -->\n<g id=\"edge1\" class=\"edge\">\n<title>139674815550352&#45;&gt;139674815552016</title>\n<path fill=\"none\" stroke=\"#000000\" d=\"M63.6028,-121.9197C71.9004,-114.0514 83.8537,-102.7164 93.7431,-93.3385\"/>\n<polygon fill=\"#000000\" stroke=\"#000000\" points=\"96.2745,-95.7615 101.1224,-86.3408 91.4578,-90.6821 96.2745,-95.7615\"/>\n</g>\n<!-- 139674815552208 -->\n<g id=\"node4\" class=\"node\">\n<title>139674815552208</title>\n<polygon fill=\"#d3d3d3\" stroke=\"#000000\" points=\"101,-196 0,-196 0,-177 101,-177 101,-196\"/>\n<text text-anchor=\"middle\" x=\"50.5\" y=\"-184\" font-family=\"monospace\" font-size=\"10.00\" fill=\"#000000\">AccumulateGrad</text>\n</g>\n<!-- 139674815552208&#45;&gt;139674815550352 -->\n<g id=\"edge2\" class=\"edge\">\n<title>139674815552208&#45;&gt;139674815550352</title>\n<path fill=\"none\" stroke=\"#000000\" d=\"M51.0226,-176.9197C51.405,-169.9083 51.9376,-160.1442 52.411,-151.4652\"/>\n<polygon fill=\"#000000\" stroke=\"#000000\" points=\"55.9133,-151.5166 52.9632,-141.3408 48.9237,-151.1353 55.9133,-151.5166\"/>\n</g>\n<!-- 139674815499344 -->\n<g id=\"node5\" class=\"node\">\n<title>139674815499344</title>\n<polygon fill=\"#add8e6\" stroke=\"#000000\" points=\"77.5,-263 23.5,-263 23.5,-232 77.5,-232 77.5,-263\"/>\n<text text-anchor=\"middle\" x=\"50.5\" y=\"-239\" font-family=\"monospace\" font-size=\"10.00\" fill=\"#000000\"> (1)</text>\n</g>\n<!-- 139674815499344&#45;&gt;139674815552208 -->\n<g id=\"edge3\" class=\"edge\">\n<title>139674815499344&#45;&gt;139674815552208</title>\n<path fill=\"none\" stroke=\"#000000\" d=\"M50.5,-231.791C50.5,-224.0249 50.5,-214.5706 50.5,-206.3129\"/>\n<polygon fill=\"#000000\" stroke=\"#000000\" points=\"54.0001,-206.0647 50.5,-196.0648 47.0001,-206.0648 54.0001,-206.0647\"/>\n</g>\n<!-- 139674815551632 -->\n<g id=\"node6\" class=\"node\">\n<title>139674815551632</title>\n<polygon fill=\"#d3d3d3\" stroke=\"#000000\" points=\"215,-141 126,-141 126,-122 215,-122 215,-141\"/>\n<text text-anchor=\"middle\" x=\"170.5\" y=\"-129\" font-family=\"monospace\" font-size=\"10.00\" fill=\"#000000\">MulBackward0</text>\n</g>\n<!-- 139674815551632&#45;&gt;139674815552016 -->\n<g id=\"edge4\" class=\"edge\">\n<title>139674815551632&#45;&gt;139674815552016</title>\n<path fill=\"none\" stroke=\"#000000\" d=\"M160.223,-121.9197C151.7824,-114.0514 139.623,-102.7164 129.5631,-93.3385\"/>\n<polygon fill=\"#000000\" stroke=\"#000000\" points=\"131.7578,-90.5995 122.0565,-86.3408 126.9846,-95.7198 131.7578,-90.5995\"/>\n</g>\n<!-- 139674815551376 -->\n<g id=\"node7\" class=\"node\">\n<title>139674815551376</title>\n<polygon fill=\"#d3d3d3\" stroke=\"#000000\" points=\"226,-196 119,-196 119,-177 226,-177 226,-196\"/>\n<text text-anchor=\"middle\" x=\"172.5\" y=\"-184\" font-family=\"monospace\" font-size=\"10.00\" fill=\"#000000\">ToCopyBackward0</text>\n</g>\n<!-- 139674815551376&#45;&gt;139674815551632 -->\n<g id=\"edge5\" class=\"edge\">\n<title>139674815551376&#45;&gt;139674815551632</title>\n<path fill=\"none\" stroke=\"#000000\" d=\"M172.1516,-176.9197C171.8967,-169.9083 171.5416,-160.1442 171.226,-151.4652\"/>\n<polygon fill=\"#000000\" stroke=\"#000000\" points=\"174.719,-151.207 170.8578,-141.3408 167.7237,-151.4614 174.719,-151.207\"/>\n</g>\n<!-- 139674815551440 -->\n<g id=\"node8\" class=\"node\">\n<title>139674815551440</title>\n<polygon fill=\"#d3d3d3\" stroke=\"#000000\" points=\"223,-257 122,-257 122,-238 223,-238 223,-257\"/>\n<text text-anchor=\"middle\" x=\"172.5\" y=\"-245\" font-family=\"monospace\" font-size=\"10.00\" fill=\"#000000\">AccumulateGrad</text>\n</g>\n<!-- 139674815551440&#45;&gt;139674815551376 -->\n<g id=\"edge6\" class=\"edge\">\n<title>139674815551440&#45;&gt;139674815551376</title>\n<path fill=\"none\" stroke=\"#000000\" d=\"M172.5,-237.9688C172.5,-229.5131 172.5,-216.8901 172.5,-206.2615\"/>\n<polygon fill=\"#000000\" stroke=\"#000000\" points=\"176.0001,-206.1656 172.5,-196.1656 169.0001,-206.1657 176.0001,-206.1656\"/>\n</g>\n<!-- 139674815497808 -->\n<g id=\"node9\" class=\"node\">\n<title>139674815497808</title>\n<polygon fill=\"#add8e6\" stroke=\"#000000\" points=\"199.5,-330 145.5,-330 145.5,-299 199.5,-299 199.5,-330\"/>\n<text text-anchor=\"middle\" x=\"172.5\" y=\"-306\" font-family=\"monospace\" font-size=\"10.00\" fill=\"#000000\"> (1)</text>\n</g>\n<!-- 139674815497808&#45;&gt;139674815551440 -->\n<g id=\"edge7\" class=\"edge\">\n<title>139674815497808&#45;&gt;139674815551440</title>\n<path fill=\"none\" stroke=\"#000000\" d=\"M172.5,-298.9604C172.5,-289.6356 172.5,-277.6748 172.5,-267.6317\"/>\n<polygon fill=\"#000000\" stroke=\"#000000\" points=\"176.0001,-267.35 172.5,-257.3501 169.0001,-267.3501 176.0001,-267.35\"/>\n</g>\n</g>\n</svg>\n"
          },
          "metadata": {},
          "execution_count": 44
        }
      ]
    },
    {
      "cell_type": "markdown",
      "source": [
        "So, even though there are more tensors involved in the operations performed by\n",
        "the computation graph, it only shows gradient-computing tensors and its\n",
        "dependencies.\n",
        "\n",
        "What would happen to the computation graph if we set `requires_grad` to False for\n",
        "our parameter `b`?"
      ],
      "metadata": {
        "id": "x1dY9QWBZltK"
      }
    },
    {
      "cell_type": "code",
      "source": [
        "torch.manual_seed(42)\n",
        "\n",
        "# Step 0 - Initializes parameters \"b\" and \"w\" randomly\n",
        "b_no_grad = torch.randn(1, requires_grad=False, dtype=torch.float).to(device)\n",
        "w = torch.randn(1, requires_grad=True, dtype=torch.float).to(device)\n",
        "\n",
        "# Step 1 - Computes our model's predicted output - forward pass\n",
        "yhat = b_no_grad + w * x_train_tensor\n",
        "\n",
        "make_dot(yhat)"
      ],
      "metadata": {
        "id": "MlvRH-J_Zo0r",
        "outputId": "fc5ace32-6241-46c6-f91c-fb2ad9c28fd8",
        "colab": {
          "base_uri": "https://localhost:8080/",
          "height": 0
        }
      },
      "execution_count": 45,
      "outputs": [
        {
          "output_type": "execute_result",
          "data": {
            "text/plain": [
              "<graphviz.dot.Digraph at 0x7f0893bd8a90>"
            ],
            "image/svg+xml": "<?xml version=\"1.0\" encoding=\"UTF-8\" standalone=\"no\"?>\n<!DOCTYPE svg PUBLIC \"-//W3C//DTD SVG 1.1//EN\"\n \"http://www.w3.org/Graphics/SVG/1.1/DTD/svg11.dtd\">\n<!-- Generated by graphviz version 2.40.1 (20161225.0304)\n -->\n<!-- Title: %3 Pages: 1 -->\n<svg width=\"115pt\" height=\"326pt\"\n viewBox=\"0.00 0.00 115.00 326.00\" xmlns=\"http://www.w3.org/2000/svg\" xmlns:xlink=\"http://www.w3.org/1999/xlink\">\n<g id=\"graph0\" class=\"graph\" transform=\"scale(1 1) rotate(0) translate(4 322)\">\n<title>%3</title>\n<polygon fill=\"#ffffff\" stroke=\"transparent\" points=\"-4,4 -4,-322 111,-322 111,4 -4,4\"/>\n<!-- 139674815522000 -->\n<g id=\"node1\" class=\"node\">\n<title>139674815522000</title>\n<polygon fill=\"#caff70\" stroke=\"#000000\" points=\"86,-31 21,-31 21,0 86,0 86,-31\"/>\n<text text-anchor=\"middle\" x=\"53.5\" y=\"-7\" font-family=\"monospace\" font-size=\"10.00\" fill=\"#000000\"> (80, 1)</text>\n</g>\n<!-- 139674815543120 -->\n<g id=\"node2\" class=\"node\">\n<title>139674815543120</title>\n<polygon fill=\"#d3d3d3\" stroke=\"#000000\" points=\"98,-86 9,-86 9,-67 98,-67 98,-86\"/>\n<text text-anchor=\"middle\" x=\"53.5\" y=\"-74\" font-family=\"monospace\" font-size=\"10.00\" fill=\"#000000\">AddBackward0</text>\n</g>\n<!-- 139674815543120&#45;&gt;139674815522000 -->\n<g id=\"edge5\" class=\"edge\">\n<title>139674815543120&#45;&gt;139674815522000</title>\n<path fill=\"none\" stroke=\"#000000\" d=\"M53.5,-66.9688C53.5,-60.1289 53.5,-50.5621 53.5,-41.5298\"/>\n<polygon fill=\"#000000\" stroke=\"#000000\" points=\"57.0001,-41.3678 53.5,-31.3678 50.0001,-41.3678 57.0001,-41.3678\"/>\n</g>\n<!-- 139674815542864 -->\n<g id=\"node3\" class=\"node\">\n<title>139674815542864</title>\n<polygon fill=\"#d3d3d3\" stroke=\"#000000\" points=\"98,-141 9,-141 9,-122 98,-122 98,-141\"/>\n<text text-anchor=\"middle\" x=\"53.5\" y=\"-129\" font-family=\"monospace\" font-size=\"10.00\" fill=\"#000000\">MulBackward0</text>\n</g>\n<!-- 139674815542864&#45;&gt;139674815543120 -->\n<g id=\"edge1\" class=\"edge\">\n<title>139674815542864&#45;&gt;139674815543120</title>\n<path fill=\"none\" stroke=\"#000000\" d=\"M53.5,-121.9197C53.5,-114.9083 53.5,-105.1442 53.5,-96.4652\"/>\n<polygon fill=\"#000000\" stroke=\"#000000\" points=\"57.0001,-96.3408 53.5,-86.3408 50.0001,-96.3409 57.0001,-96.3408\"/>\n</g>\n<!-- 139674815541776 -->\n<g id=\"node4\" class=\"node\">\n<title>139674815541776</title>\n<polygon fill=\"#d3d3d3\" stroke=\"#000000\" points=\"107,-196 0,-196 0,-177 107,-177 107,-196\"/>\n<text text-anchor=\"middle\" x=\"53.5\" y=\"-184\" font-family=\"monospace\" font-size=\"10.00\" fill=\"#000000\">ToCopyBackward0</text>\n</g>\n<!-- 139674815541776&#45;&gt;139674815542864 -->\n<g id=\"edge2\" class=\"edge\">\n<title>139674815541776&#45;&gt;139674815542864</title>\n<path fill=\"none\" stroke=\"#000000\" d=\"M53.5,-176.9197C53.5,-169.9083 53.5,-160.1442 53.5,-151.4652\"/>\n<polygon fill=\"#000000\" stroke=\"#000000\" points=\"57.0001,-151.3408 53.5,-141.3408 50.0001,-151.3409 57.0001,-151.3408\"/>\n</g>\n<!-- 139674815606416 -->\n<g id=\"node5\" class=\"node\">\n<title>139674815606416</title>\n<polygon fill=\"#d3d3d3\" stroke=\"#000000\" points=\"104,-251 3,-251 3,-232 104,-232 104,-251\"/>\n<text text-anchor=\"middle\" x=\"53.5\" y=\"-239\" font-family=\"monospace\" font-size=\"10.00\" fill=\"#000000\">AccumulateGrad</text>\n</g>\n<!-- 139674815606416&#45;&gt;139674815541776 -->\n<g id=\"edge3\" class=\"edge\">\n<title>139674815606416&#45;&gt;139674815541776</title>\n<path fill=\"none\" stroke=\"#000000\" d=\"M53.5,-231.9197C53.5,-224.9083 53.5,-215.1442 53.5,-206.4652\"/>\n<polygon fill=\"#000000\" stroke=\"#000000\" points=\"57.0001,-206.3408 53.5,-196.3408 50.0001,-206.3409 57.0001,-206.3408\"/>\n</g>\n<!-- 139674815524016 -->\n<g id=\"node6\" class=\"node\">\n<title>139674815524016</title>\n<polygon fill=\"#add8e6\" stroke=\"#000000\" points=\"80.5,-318 26.5,-318 26.5,-287 80.5,-287 80.5,-318\"/>\n<text text-anchor=\"middle\" x=\"53.5\" y=\"-294\" font-family=\"monospace\" font-size=\"10.00\" fill=\"#000000\"> (1)</text>\n</g>\n<!-- 139674815524016&#45;&gt;139674815606416 -->\n<g id=\"edge4\" class=\"edge\">\n<title>139674815524016&#45;&gt;139674815606416</title>\n<path fill=\"none\" stroke=\"#000000\" d=\"M53.5,-286.791C53.5,-279.0249 53.5,-269.5706 53.5,-261.3129\"/>\n<polygon fill=\"#000000\" stroke=\"#000000\" points=\"57.0001,-261.0647 53.5,-251.0648 50.0001,-261.0648 57.0001,-261.0647\"/>\n</g>\n</g>\n</svg>\n"
          },
          "metadata": {},
          "execution_count": 45
        }
      ]
    },
    {
      "cell_type": "markdown",
      "source": [
        ">Simple enough: no gradients, no graph!\n",
        "\n",
        "The best thing about the dynamic computation graph is the fact that you can make it as complex as you want it. You can even use control flow statements (e.g., if\n",
        "statements) to control the flow of the gradients."
      ],
      "metadata": {
        "id": "w2x1-thMaG0s"
      }
    },
    {
      "cell_type": "code",
      "source": [
        "torch.manual_seed(42)\n",
        "\n",
        "# Step 0 - Initializes parameters \"b\" and \"w\" randomly\n",
        "b = torch.randn(1, requires_grad=True, dtype=torch.float).to(device)\n",
        "w = torch.randn(1, requires_grad=True, dtype=torch.float).to(device)\n",
        "\n",
        "# Step 1 - Computes our model's predicted output - forward pass\n",
        "yhat = b + w * x_train_tensor\n",
        "\n",
        "# Step 2 - Computes the loss\n",
        "error = (yhat - y_train_tensor)\n",
        "loss = (error ** 2).mean()\n",
        "\n",
        "# this makes no sense!!\n",
        "if loss > 0:\n",
        "  yhat2 = w * x_train_tensor\n",
        "  error2 = (yhat2 - y_train_tensor)\n",
        "# neither does this :-)\n",
        "loss += error2.mean()\n",
        "\n",
        "# We can try plotting the graph for any python variable\n",
        "make_dot(loss)"
      ],
      "metadata": {
        "id": "vYVtlt5PaVCh",
        "outputId": "e6c98c93-1ba9-4b46-fbb9-3745ccdd2ceb",
        "colab": {
          "base_uri": "https://localhost:8080/",
          "height": 0
        }
      },
      "execution_count": 46,
      "outputs": [
        {
          "output_type": "execute_result",
          "data": {
            "text/plain": [
              "<graphviz.dot.Digraph at 0x7f0894148f10>"
            ],
            "image/svg+xml": "<?xml version=\"1.0\" encoding=\"UTF-8\" standalone=\"no\"?>\n<!DOCTYPE svg PUBLIC \"-//W3C//DTD SVG 1.1//EN\"\n \"http://www.w3.org/Graphics/SVG/1.1/DTD/svg11.dtd\">\n<!-- Generated by graphviz version 2.40.1 (20161225.0304)\n -->\n<!-- Title: %3 Pages: 1 -->\n<svg width=\"332pt\" height=\"558pt\"\n viewBox=\"0.00 0.00 332.00 558.00\" xmlns=\"http://www.w3.org/2000/svg\" xmlns:xlink=\"http://www.w3.org/1999/xlink\">\n<g id=\"graph0\" class=\"graph\" transform=\"scale(1 1) rotate(0) translate(4 554)\">\n<title>%3</title>\n<polygon fill=\"#ffffff\" stroke=\"transparent\" points=\"-4,4 -4,-554 328,-554 328,4 -4,4\"/>\n<!-- 139674815854928 -->\n<g id=\"node1\" class=\"node\">\n<title>139674815854928</title>\n<polygon fill=\"#caff70\" stroke=\"#000000\" points=\"248.5,-31 194.5,-31 194.5,0 248.5,0 248.5,-31\"/>\n<text text-anchor=\"middle\" x=\"221.5\" y=\"-7\" font-family=\"monospace\" font-size=\"10.00\" fill=\"#000000\"> ()</text>\n</g>\n<!-- 139674815605648 -->\n<g id=\"node2\" class=\"node\">\n<title>139674815605648</title>\n<polygon fill=\"#d3d3d3\" stroke=\"#000000\" points=\"266,-86 177,-86 177,-67 266,-67 266,-86\"/>\n<text text-anchor=\"middle\" x=\"221.5\" y=\"-74\" font-family=\"monospace\" font-size=\"10.00\" fill=\"#000000\">AddBackward0</text>\n</g>\n<!-- 139674815605648&#45;&gt;139674815854928 -->\n<g id=\"edge16\" class=\"edge\">\n<title>139674815605648&#45;&gt;139674815854928</title>\n<path fill=\"none\" stroke=\"#000000\" d=\"M221.5,-66.9688C221.5,-60.1289 221.5,-50.5621 221.5,-41.5298\"/>\n<polygon fill=\"#000000\" stroke=\"#000000\" points=\"225.0001,-41.3678 221.5,-31.3678 218.0001,-41.3678 225.0001,-41.3678\"/>\n</g>\n<!-- 139674815603984 -->\n<g id=\"node3\" class=\"node\">\n<title>139674815603984</title>\n<polygon fill=\"#d3d3d3\" stroke=\"#000000\" points=\"231,-141 136,-141 136,-122 231,-122 231,-141\"/>\n<text text-anchor=\"middle\" x=\"183.5\" y=\"-129\" font-family=\"monospace\" font-size=\"10.00\" fill=\"#000000\">MeanBackward0</text>\n</g>\n<!-- 139674815603984&#45;&gt;139674815605648 -->\n<g id=\"edge1\" class=\"edge\">\n<title>139674815603984&#45;&gt;139674815605648</title>\n<path fill=\"none\" stroke=\"#000000\" d=\"M190.1191,-121.9197C195.2863,-114.4409 202.6174,-103.8301 208.8944,-94.745\"/>\n<polygon fill=\"#000000\" stroke=\"#000000\" points=\"211.8961,-96.5577 214.7009,-86.3408 206.137,-92.5786 211.8961,-96.5577\"/>\n</g>\n<!-- 139674820839696 -->\n<g id=\"node4\" class=\"node\">\n<title>139674820839696</title>\n<polygon fill=\"#d3d3d3\" stroke=\"#000000\" points=\"211,-196 122,-196 122,-177 211,-177 211,-196\"/>\n<text text-anchor=\"middle\" x=\"166.5\" y=\"-184\" font-family=\"monospace\" font-size=\"10.00\" fill=\"#000000\">PowBackward0</text>\n</g>\n<!-- 139674820839696&#45;&gt;139674815603984 -->\n<g id=\"edge2\" class=\"edge\">\n<title>139674820839696&#45;&gt;139674815603984</title>\n<path fill=\"none\" stroke=\"#000000\" d=\"M169.4612,-176.9197C171.6524,-169.8304 174.7135,-159.9269 177.4182,-151.1763\"/>\n<polygon fill=\"#000000\" stroke=\"#000000\" points=\"180.8491,-151.9285 180.4583,-141.3408 174.1612,-149.8613 180.8491,-151.9285\"/>\n</g>\n<!-- 139674820841424 -->\n<g id=\"node5\" class=\"node\">\n<title>139674820841424</title>\n<polygon fill=\"#d3d3d3\" stroke=\"#000000\" points=\"211,-251 122,-251 122,-232 211,-232 211,-251\"/>\n<text text-anchor=\"middle\" x=\"166.5\" y=\"-239\" font-family=\"monospace\" font-size=\"10.00\" fill=\"#000000\">SubBackward0</text>\n</g>\n<!-- 139674820841424&#45;&gt;139674820839696 -->\n<g id=\"edge3\" class=\"edge\">\n<title>139674820841424&#45;&gt;139674820839696</title>\n<path fill=\"none\" stroke=\"#000000\" d=\"M166.5,-231.9197C166.5,-224.9083 166.5,-215.1442 166.5,-206.4652\"/>\n<polygon fill=\"#000000\" stroke=\"#000000\" points=\"170.0001,-206.3408 166.5,-196.3408 163.0001,-206.3409 170.0001,-206.3408\"/>\n</g>\n<!-- 139674820840208 -->\n<g id=\"node6\" class=\"node\">\n<title>139674820840208</title>\n<polygon fill=\"#d3d3d3\" stroke=\"#000000\" points=\"211,-306 122,-306 122,-287 211,-287 211,-306\"/>\n<text text-anchor=\"middle\" x=\"166.5\" y=\"-294\" font-family=\"monospace\" font-size=\"10.00\" fill=\"#000000\">AddBackward0</text>\n</g>\n<!-- 139674820840208&#45;&gt;139674820841424 -->\n<g id=\"edge4\" class=\"edge\">\n<title>139674820840208&#45;&gt;139674820841424</title>\n<path fill=\"none\" stroke=\"#000000\" d=\"M166.5,-286.9197C166.5,-279.9083 166.5,-270.1442 166.5,-261.4652\"/>\n<polygon fill=\"#000000\" stroke=\"#000000\" points=\"170.0001,-261.3408 166.5,-251.3408 163.0001,-261.3409 170.0001,-261.3408\"/>\n</g>\n<!-- 139674820838864 -->\n<g id=\"node7\" class=\"node\">\n<title>139674820838864</title>\n<polygon fill=\"#d3d3d3\" stroke=\"#000000\" points=\"107,-361 0,-361 0,-342 107,-342 107,-361\"/>\n<text text-anchor=\"middle\" x=\"53.5\" y=\"-349\" font-family=\"monospace\" font-size=\"10.00\" fill=\"#000000\">ToCopyBackward0</text>\n</g>\n<!-- 139674820838864&#45;&gt;139674820840208 -->\n<g id=\"edge5\" class=\"edge\">\n<title>139674820838864&#45;&gt;139674820840208</title>\n<path fill=\"none\" stroke=\"#000000\" d=\"M73.1831,-341.9197C90.9787,-333.2581 117.4052,-320.3957 137.5977,-310.5675\"/>\n<polygon fill=\"#000000\" stroke=\"#000000\" points=\"139.2036,-313.6785 146.6633,-306.155 136.14,-307.3844 139.2036,-313.6785\"/>\n</g>\n<!-- 139674820840464 -->\n<g id=\"node8\" class=\"node\">\n<title>139674820840464</title>\n<polygon fill=\"#d3d3d3\" stroke=\"#000000\" points=\"104,-416 3,-416 3,-397 104,-397 104,-416\"/>\n<text text-anchor=\"middle\" x=\"53.5\" y=\"-404\" font-family=\"monospace\" font-size=\"10.00\" fill=\"#000000\">AccumulateGrad</text>\n</g>\n<!-- 139674820840464&#45;&gt;139674820838864 -->\n<g id=\"edge6\" class=\"edge\">\n<title>139674820840464&#45;&gt;139674820838864</title>\n<path fill=\"none\" stroke=\"#000000\" d=\"M53.5,-396.9197C53.5,-389.9083 53.5,-380.1442 53.5,-371.4652\"/>\n<polygon fill=\"#000000\" stroke=\"#000000\" points=\"57.0001,-371.3408 53.5,-361.3408 50.0001,-371.3409 57.0001,-371.3408\"/>\n</g>\n<!-- 139674815561360 -->\n<g id=\"node9\" class=\"node\">\n<title>139674815561360</title>\n<polygon fill=\"#add8e6\" stroke=\"#000000\" points=\"80.5,-483 26.5,-483 26.5,-452 80.5,-452 80.5,-483\"/>\n<text text-anchor=\"middle\" x=\"53.5\" y=\"-459\" font-family=\"monospace\" font-size=\"10.00\" fill=\"#000000\"> (1)</text>\n</g>\n<!-- 139674815561360&#45;&gt;139674820840464 -->\n<g id=\"edge7\" class=\"edge\">\n<title>139674815561360&#45;&gt;139674820840464</title>\n<path fill=\"none\" stroke=\"#000000\" d=\"M53.5,-451.791C53.5,-444.0249 53.5,-434.5706 53.5,-426.3129\"/>\n<polygon fill=\"#000000\" stroke=\"#000000\" points=\"57.0001,-426.0647 53.5,-416.0648 50.0001,-426.0648 57.0001,-426.0647\"/>\n</g>\n<!-- 139674820838160 -->\n<g id=\"node10\" class=\"node\">\n<title>139674820838160</title>\n<polygon fill=\"#d3d3d3\" stroke=\"#000000\" points=\"214,-361 125,-361 125,-342 214,-342 214,-361\"/>\n<text text-anchor=\"middle\" x=\"169.5\" y=\"-349\" font-family=\"monospace\" font-size=\"10.00\" fill=\"#000000\">MulBackward0</text>\n</g>\n<!-- 139674820838160&#45;&gt;139674820840208 -->\n<g id=\"edge8\" class=\"edge\">\n<title>139674820838160&#45;&gt;139674820840208</title>\n<path fill=\"none\" stroke=\"#000000\" d=\"M168.9774,-341.9197C168.595,-334.9083 168.0624,-325.1442 167.589,-316.4652\"/>\n<polygon fill=\"#000000\" stroke=\"#000000\" points=\"171.0763,-316.1353 167.0368,-306.3408 164.0867,-316.5166 171.0763,-316.1353\"/>\n</g>\n<!-- 139674820840848 -->\n<g id=\"node11\" class=\"node\">\n<title>139674820840848</title>\n<polygon fill=\"#d3d3d3\" stroke=\"#000000\" points=\"279,-416 172,-416 172,-397 279,-397 279,-416\"/>\n<text text-anchor=\"middle\" x=\"225.5\" y=\"-404\" font-family=\"monospace\" font-size=\"10.00\" fill=\"#000000\">ToCopyBackward0</text>\n</g>\n<!-- 139674820840848&#45;&gt;139674820838160 -->\n<g id=\"edge9\" class=\"edge\">\n<title>139674820840848&#45;&gt;139674820838160</title>\n<path fill=\"none\" stroke=\"#000000\" d=\"M215.7455,-396.9197C207.8135,-389.1293 196.4212,-377.9405 186.9288,-368.6176\"/>\n<polygon fill=\"#000000\" stroke=\"#000000\" points=\"189.1068,-365.8509 179.5198,-361.3408 184.2018,-370.845 189.1068,-365.8509\"/>\n</g>\n<!-- 139674820840528 -->\n<g id=\"node16\" class=\"node\">\n<title>139674820840528</title>\n<polygon fill=\"#d3d3d3\" stroke=\"#000000\" points=\"321,-361 232,-361 232,-342 321,-342 321,-361\"/>\n<text text-anchor=\"middle\" x=\"276.5\" y=\"-349\" font-family=\"monospace\" font-size=\"10.00\" fill=\"#000000\">MulBackward0</text>\n</g>\n<!-- 139674820840848&#45;&gt;139674820840528 -->\n<g id=\"edge15\" class=\"edge\">\n<title>139674820840848&#45;&gt;139674820840528</title>\n<path fill=\"none\" stroke=\"#000000\" d=\"M234.3835,-396.9197C241.5352,-389.2072 251.7753,-378.1639 260.3675,-368.8978\"/>\n<polygon fill=\"#000000\" stroke=\"#000000\" points=\"263.1419,-371.0533 267.3749,-361.3408 258.009,-366.2937 263.1419,-371.0533\"/>\n</g>\n<!-- 139674820838800 -->\n<g id=\"node12\" class=\"node\">\n<title>139674820838800</title>\n<polygon fill=\"#d3d3d3\" stroke=\"#000000\" points=\"276,-477 175,-477 175,-458 276,-458 276,-477\"/>\n<text text-anchor=\"middle\" x=\"225.5\" y=\"-465\" font-family=\"monospace\" font-size=\"10.00\" fill=\"#000000\">AccumulateGrad</text>\n</g>\n<!-- 139674820838800&#45;&gt;139674820840848 -->\n<g id=\"edge10\" class=\"edge\">\n<title>139674820838800&#45;&gt;139674820840848</title>\n<path fill=\"none\" stroke=\"#000000\" d=\"M225.5,-457.9688C225.5,-449.5131 225.5,-436.8901 225.5,-426.2615\"/>\n<polygon fill=\"#000000\" stroke=\"#000000\" points=\"229.0001,-426.1656 225.5,-416.1656 222.0001,-426.1657 229.0001,-426.1656\"/>\n</g>\n<!-- 139674815438288 -->\n<g id=\"node13\" class=\"node\">\n<title>139674815438288</title>\n<polygon fill=\"#add8e6\" stroke=\"#000000\" points=\"252.5,-550 198.5,-550 198.5,-519 252.5,-519 252.5,-550\"/>\n<text text-anchor=\"middle\" x=\"225.5\" y=\"-526\" font-family=\"monospace\" font-size=\"10.00\" fill=\"#000000\"> (1)</text>\n</g>\n<!-- 139674815438288&#45;&gt;139674820838800 -->\n<g id=\"edge11\" class=\"edge\">\n<title>139674815438288&#45;&gt;139674820838800</title>\n<path fill=\"none\" stroke=\"#000000\" d=\"M225.5,-518.9604C225.5,-509.6356 225.5,-497.6748 225.5,-487.6317\"/>\n<polygon fill=\"#000000\" stroke=\"#000000\" points=\"229.0001,-487.35 225.5,-477.3501 222.0001,-487.3501 229.0001,-487.35\"/>\n</g>\n<!-- 139674815604368 -->\n<g id=\"node14\" class=\"node\">\n<title>139674815604368</title>\n<polygon fill=\"#d3d3d3\" stroke=\"#000000\" points=\"324,-196 229,-196 229,-177 324,-177 324,-196\"/>\n<text text-anchor=\"middle\" x=\"276.5\" y=\"-184\" font-family=\"monospace\" font-size=\"10.00\" fill=\"#000000\">MeanBackward0</text>\n</g>\n<!-- 139674815604368&#45;&gt;139674815605648 -->\n<g id=\"edge12\" class=\"edge\">\n<title>139674815604368&#45;&gt;139674815605648</title>\n<path fill=\"none\" stroke=\"#000000\" d=\"M271.6191,-176.7382C262.4636,-158.4271 242.5757,-118.6514 230.791,-95.082\"/>\n<polygon fill=\"#000000\" stroke=\"#000000\" points=\"233.8941,-93.4618 226.2914,-86.0828 227.6331,-96.5924 233.8941,-93.4618\"/>\n</g>\n<!-- 139674820841104 -->\n<g id=\"node15\" class=\"node\">\n<title>139674820841104</title>\n<polygon fill=\"#d3d3d3\" stroke=\"#000000\" points=\"321,-306 232,-306 232,-287 321,-287 321,-306\"/>\n<text text-anchor=\"middle\" x=\"276.5\" y=\"-294\" font-family=\"monospace\" font-size=\"10.00\" fill=\"#000000\">SubBackward0</text>\n</g>\n<!-- 139674820841104&#45;&gt;139674815604368 -->\n<g id=\"edge13\" class=\"edge\">\n<title>139674820841104&#45;&gt;139674815604368</title>\n<path fill=\"none\" stroke=\"#000000\" d=\"M276.5,-286.7382C276.5,-268.7541 276.5,-230.0652 276.5,-206.3599\"/>\n<polygon fill=\"#000000\" stroke=\"#000000\" points=\"280.0001,-206.0828 276.5,-196.0828 273.0001,-206.0829 280.0001,-206.0828\"/>\n</g>\n<!-- 139674820840528&#45;&gt;139674820841104 -->\n<g id=\"edge14\" class=\"edge\">\n<title>139674820840528&#45;&gt;139674820841104</title>\n<path fill=\"none\" stroke=\"#000000\" d=\"M276.5,-341.9197C276.5,-334.9083 276.5,-325.1442 276.5,-316.4652\"/>\n<polygon fill=\"#000000\" stroke=\"#000000\" points=\"280.0001,-316.3408 276.5,-306.3408 273.0001,-316.3409 280.0001,-316.3408\"/>\n</g>\n</g>\n</svg>\n"
          },
          "metadata": {},
          "execution_count": 46
        }
      ]
    },
    {
      "cell_type": "markdown",
      "source": [
        "Even though the computation is nonsensical, you can clearly see the effect of\n",
        "adding a control flow statement.\n",
        "\n"
      ],
      "metadata": {
        "id": "rZ8LQ0vbbF4K"
      }
    },
    {
      "cell_type": "markdown",
      "source": [
        "##Optimizer"
      ],
      "metadata": {
        "id": "4Nk1CaQcbJk-"
      }
    },
    {
      "cell_type": "markdown",
      "source": [
        "An optimizer takes the parameters we want to update, the learning rate we want\n",
        "to use (and possibly many other hyper-parameters as well!), and performs the\n",
        "updates through its `step()` method.\n",
        "\n",
        "Besides, we also don’t need to zero the gradients one by one anymore. We just\n",
        "invoke the optimizer’s `zero_grad()` method, and that’s it!"
      ],
      "metadata": {
        "id": "eaf0dzELbKon"
      }
    },
    {
      "cell_type": "code",
      "source": [
        "torch.manual_seed(42)\n",
        "\n",
        "# Sets learning rate\n",
        "lr = 0.1\n",
        "\n",
        "# Step 0 - Initializes parameters \"b\" and \"w\" randomly\n",
        "b = torch.randn(1, requires_grad=True, dtype=torch.float, device=device)\n",
        "w = torch.randn(1, requires_grad=True, dtype=torch.float, device=device)\n",
        "\n",
        "# Defines a SGD optimizer to update the parameters\n",
        "optimizer = optim.SGD([b, w], lr=lr)\n",
        "# Defines number of epochs\n",
        "n_epochs = 1000\n",
        "\n",
        "for epoch in range(n_epochs):\n",
        "  # Step 1 - Computes model's predicted output - forward pass\n",
        "  yhat = b + w * x_train_tensor\n",
        "\n",
        "  # Step 2 - Computes the loss\n",
        "  error = (yhat - y_train_tensor)\n",
        "  loss = (error ** 2).mean()\n",
        "\n",
        "  # Step 3 - Computes gradients for both \"b\" and \"w\" parameters\n",
        "  loss.backward()\n",
        "\n",
        "  # Step 4 - Updates parameters using gradients and the learning rate. But not so fast...\n",
        "\n",
        "  # the learning rate. No more manual update!\n",
        "  # with torch.no_grad():\n",
        "  #     b -= lr * b.grad\n",
        "  #     w -= lr * w.grad\n",
        "  optimizer.step()\n",
        "\n",
        "  # No more telling Pytorch to let gradients go!\n",
        "  # b.grad.zero_()\n",
        "  # w.grad.zero_()\n",
        "  optimizer.zero_grad()\n",
        "\n",
        "print(b, w)"
      ],
      "metadata": {
        "id": "fr2HTVn4hw3O",
        "outputId": "37fe63ca-f00a-4912-ff64-36fec36b0fa4",
        "colab": {
          "base_uri": "https://localhost:8080/"
        }
      },
      "execution_count": 47,
      "outputs": [
        {
          "output_type": "stream",
          "name": "stdout",
          "text": [
            "tensor([1.0530], device='cuda:0', requires_grad=True) tensor([1.9958], device='cuda:0', requires_grad=True)\n"
          ]
        }
      ]
    },
    {
      "cell_type": "markdown",
      "source": [
        "##Loss"
      ],
      "metadata": {
        "id": "OW2RsRudkUH7"
      }
    },
    {
      "cell_type": "markdown",
      "source": [
        "We now tackle the loss computation.\n",
        "\n",
        "There are many loss functions to choose from, depending on the task at\n",
        "hand. Since ours is a regression, we are using the Mean Squared Error (MSE) as\n",
        "loss, and thus we need PyTorch’s `nn.MSELoss`."
      ],
      "metadata": {
        "id": "wbFK8CpBkVEO"
      }
    },
    {
      "cell_type": "code",
      "source": [
        "# Defines a MSE loss function\n",
        "loss_fn = nn.MSELoss(reduction=\"mean\")\n",
        "loss_fn"
      ],
      "metadata": {
        "id": "usMFBmFQkxvr",
        "outputId": "9e56646b-b45c-406d-bfec-abf928ea865b",
        "colab": {
          "base_uri": "https://localhost:8080/"
        }
      },
      "execution_count": 48,
      "outputs": [
        {
          "output_type": "execute_result",
          "data": {
            "text/plain": [
              "MSELoss()"
            ]
          },
          "metadata": {},
          "execution_count": 48
        }
      ]
    },
    {
      "cell_type": "markdown",
      "source": [
        "Notice that `nn.MSELoss` is NOT the loss function itself: we do not pass predictions\n",
        "and labels to it!\n",
        "\n",
        "Instead, as you can see, it returns another function, which we called\n",
        "`loss_fn`: that is the actual loss function. \n",
        "\n",
        "So, we can pass a prediction and a label to\n",
        "it and get the corresponding loss value."
      ],
      "metadata": {
        "id": "0f-1YDdBlHgy"
      }
    },
    {
      "cell_type": "code",
      "source": [
        "# This is a random example to illustrate the loss function\n",
        "predictions = torch.tensor([0.5, 1.0])\n",
        "labels = torch.tensor([2.0, 1.3])\n",
        "loss_fn(predictions, labels)"
      ],
      "metadata": {
        "id": "NTb9Wdu4lIDf",
        "outputId": "b26cb920-3233-446c-d91f-f73c35a9edd5",
        "colab": {
          "base_uri": "https://localhost:8080/"
        }
      },
      "execution_count": 49,
      "outputs": [
        {
          "output_type": "execute_result",
          "data": {
            "text/plain": [
              "tensor(1.1700)"
            ]
          },
          "metadata": {},
          "execution_count": 49
        }
      ]
    },
    {
      "cell_type": "markdown",
      "source": [
        ">Technically speaking, `nn.MSELoss` is a higher-order function."
      ],
      "metadata": {
        "id": "C4Ofk-vglz8K"
      }
    },
    {
      "cell_type": "code",
      "source": [
        "torch.manual_seed(42)\n",
        "\n",
        "# Sets learning rate\n",
        "lr = 0.1\n",
        "\n",
        "# Step 0 - Initializes parameters \"b\" and \"w\" randomly\n",
        "b = torch.randn(1, requires_grad=True, dtype=torch.float, device=device)\n",
        "w = torch.randn(1, requires_grad=True, dtype=torch.float, device=device)\n",
        "\n",
        "# Defines a SGD optimizer to update the parameters\n",
        "optimizer = optim.SGD([b, w], lr=lr)\n",
        "# Defines a MSE loss function\n",
        "loss_fn = nn.MSELoss(reduction=\"mean\")\n",
        "# Defines number of epochs\n",
        "n_epochs = 1000\n",
        "\n",
        "for epoch in range(n_epochs):\n",
        "  # Step 1 - Computes model's predicted output - forward pass\n",
        "  yhat = b + w * x_train_tensor\n",
        "\n",
        "  # Step 2 - Computes the loss\n",
        "  # No more manual loss!\n",
        "  # error = (yhat - y_train_tensor)\n",
        "  # loss = (error ** 2).mean()\n",
        "  loss = loss_fn(yhat, y_train_tensor)\n",
        "\n",
        "  # Step 3 - Computes gradients for both \"b\" and \"w\" parameters\n",
        "  loss.backward()\n",
        "\n",
        "  # Step 4 - Updates parameters using gradients and the learning rate. But not so fast...\n",
        "  optimizer.step()\n",
        "  optimizer.zero_grad()\n",
        "\n",
        "print(b, w)"
      ],
      "metadata": {
        "id": "bvJ86Oz6l1o9",
        "outputId": "9c571290-505a-438f-f93f-982a7792a46c",
        "colab": {
          "base_uri": "https://localhost:8080/"
        }
      },
      "execution_count": 50,
      "outputs": [
        {
          "output_type": "stream",
          "name": "stdout",
          "text": [
            "tensor([1.0530], device='cuda:0', requires_grad=True) tensor([1.9958], device='cuda:0', requires_grad=True)\n"
          ]
        }
      ]
    },
    {
      "cell_type": "markdown",
      "source": [
        "Let’s take a look at the loss value at the end of training."
      ],
      "metadata": {
        "id": "dtnqEJnUmhz1"
      }
    },
    {
      "cell_type": "code",
      "source": [
        "loss"
      ],
      "metadata": {
        "id": "oGXVfhRdmiWI",
        "outputId": "fbb03d97-8442-4425-f69a-c1798a8a56a6",
        "colab": {
          "base_uri": "https://localhost:8080/"
        }
      },
      "execution_count": 51,
      "outputs": [
        {
          "output_type": "execute_result",
          "data": {
            "text/plain": [
              "tensor(0.0008, device='cuda:0', grad_fn=<MseLossBackward0>)"
            ]
          },
          "metadata": {},
          "execution_count": 51
        }
      ]
    },
    {
      "cell_type": "markdown",
      "source": [
        "What if we wanted to have it as a Numpy array?"
      ],
      "metadata": {
        "id": "Nnj9Dy1FmtAW"
      }
    },
    {
      "cell_type": "code",
      "source": [
        "try:\n",
        "  loss.cpu().numpy()\n",
        "except RuntimeError as re:\n",
        "  print(re)"
      ],
      "metadata": {
        "id": "0iqgVbOwmtad",
        "outputId": "85f0566e-c2e6-401f-f9c4-dee21bd1cb84",
        "colab": {
          "base_uri": "https://localhost:8080/"
        }
      },
      "execution_count": 52,
      "outputs": [
        {
          "output_type": "stream",
          "name": "stdout",
          "text": [
            "Can't call numpy() on Tensor that requires grad. Use tensor.detach().numpy() instead.\n"
          ]
        }
      ]
    },
    {
      "cell_type": "markdown",
      "source": [
        "What happened here? \n",
        "\n",
        "Unlike our data tensors, the loss tensor is actually computing\n",
        "gradients - to use `numpy()`, we need to `detach()` the tensor from the computation\n",
        "graph first:"
      ],
      "metadata": {
        "id": "inEsdzNKnMXW"
      }
    },
    {
      "cell_type": "code",
      "source": [
        "loss.detach().cpu().numpy()"
      ],
      "metadata": {
        "id": "XyPP7w9MnQS5",
        "outputId": "5b6cab67-e712-4cc0-db7f-4f16c8dd36c3",
        "colab": {
          "base_uri": "https://localhost:8080/"
        }
      },
      "execution_count": 53,
      "outputs": [
        {
          "output_type": "execute_result",
          "data": {
            "text/plain": [
              "array(0.00081317, dtype=float32)"
            ]
          },
          "metadata": {},
          "execution_count": 53
        }
      ]
    },
    {
      "cell_type": "markdown",
      "source": [
        "This seems like a lot of work; there must be an easier way! \n",
        "\n",
        "And there is one indeed:\n",
        "* we can use `item()`, for tensors with a single element \n",
        "* or tolist() otherwise (it still returns a scalar if there is only one element, though)"
      ],
      "metadata": {
        "id": "3_NG1DVNnkqR"
      }
    },
    {
      "cell_type": "code",
      "source": [
        "print(loss.item(), loss.tolist())"
      ],
      "metadata": {
        "id": "3FPLnbTbnxoz",
        "outputId": "7e75e04e-2fd6-4c78-ed52-2deb43da3c2a",
        "colab": {
          "base_uri": "https://localhost:8080/"
        }
      },
      "execution_count": 54,
      "outputs": [
        {
          "output_type": "stream",
          "name": "stdout",
          "text": [
            "0.0008131694048643112 0.0008131694048643112\n"
          ]
        }
      ]
    },
    {
      "cell_type": "markdown",
      "source": [
        "##Model"
      ],
      "metadata": {
        "id": "nRnSxxCVn-Nk"
      }
    },
    {
      "cell_type": "markdown",
      "source": [
        "The most fundamental methods a model class needs to implement are:\n",
        "\n",
        "* `__init__(self)`: it defines the parts that make up the model — in our case,\n",
        "two parameters, `b` and `w`.\n",
        "* `forward(self, x)`: it performs the actual computation, that is, it outputs a\n",
        "prediction, given the input `x`.\n",
        "\n",
        "Let’s build a proper (yet simple) model for our regression task."
      ],
      "metadata": {
        "id": "1pKAXyURn-4S"
      }
    },
    {
      "cell_type": "code",
      "source": [
        "class LinearRegression(nn.Module):\n",
        "  def __init__(self) -> None:\n",
        "    super().__init__()\n",
        "    # To make \"b\" and \"w\" real parameters of the model, we need to wrap them with nn.Parameter\n",
        "    self.w = nn.Parameter(torch.randn(1, requires_grad=True, dtype=torch.float))\n",
        "    self.b = nn.Parameter(torch.randn(1, requires_grad=True, dtype=torch.float))\n",
        "\n",
        "  def forward(self, x):\n",
        "    # Computes the outputs / predictions\n",
        "    return self.b + self.w * x"
      ],
      "metadata": {
        "id": "eCzfSjmHxn-K"
      },
      "execution_count": 55,
      "outputs": []
    },
    {
      "cell_type": "markdown",
      "source": [
        "Why should we care about the parameters of the model?\n",
        "\n",
        "By doing so, we can use our model’s `parameters()`\n",
        "method to retrieve an iterator over all model’s parameters, including parameters\n",
        "of nested models. \n",
        "\n",
        "Then we can use it to feed our optimizer (instead of building a list\n",
        "of parameters ourselves!)."
      ],
      "metadata": {
        "id": "2opqEi2azQbM"
      }
    },
    {
      "cell_type": "code",
      "source": [
        "torch.manual_seed(42)\n",
        "\n",
        "# Creates a \"dummy\" instance of our LinearRegression model\n",
        "dummy = LinearRegression()\n",
        "list(dummy.parameters())"
      ],
      "metadata": {
        "id": "kRWmGk-pzbgp",
        "outputId": "6b864afb-0c25-4281-9abb-4e50412148d4",
        "colab": {
          "base_uri": "https://localhost:8080/"
        }
      },
      "execution_count": 56,
      "outputs": [
        {
          "output_type": "execute_result",
          "data": {
            "text/plain": [
              "[Parameter containing:\n",
              " tensor([0.3367], requires_grad=True), Parameter containing:\n",
              " tensor([0.1288], requires_grad=True)]"
            ]
          },
          "metadata": {},
          "execution_count": 56
        }
      ]
    },
    {
      "cell_type": "markdown",
      "source": [
        "Moreover, we can get the current values of all parameters using our model’s\n",
        "`state_dict()` method."
      ],
      "metadata": {
        "id": "UIndaC2rz7ip"
      }
    },
    {
      "cell_type": "code",
      "source": [
        "dummy.state_dict()"
      ],
      "metadata": {
        "id": "FlE_fkdqz9Pa",
        "outputId": "66c56563-c7bd-440a-8c30-17f63069e959",
        "colab": {
          "base_uri": "https://localhost:8080/"
        }
      },
      "execution_count": 57,
      "outputs": [
        {
          "output_type": "execute_result",
          "data": {
            "text/plain": [
              "OrderedDict([('w', tensor([0.3367])), ('b', tensor([0.1288]))])"
            ]
          },
          "metadata": {},
          "execution_count": 57
        }
      ]
    },
    {
      "cell_type": "markdown",
      "source": [
        "By the way, the optimizer itself has a `state_dict()` too, which contains its internal\n",
        "state, as well as other hyper-parameters."
      ],
      "metadata": {
        "id": "aBIiEna00OrO"
      }
    },
    {
      "cell_type": "code",
      "source": [
        "optimizer.state_dict()"
      ],
      "metadata": {
        "id": "ghbpwjzi0QsR",
        "outputId": "b7e2eaf3-ce08-46d2-ad76-12b82fa61045",
        "colab": {
          "base_uri": "https://localhost:8080/"
        }
      },
      "execution_count": 58,
      "outputs": [
        {
          "output_type": "execute_result",
          "data": {
            "text/plain": [
              "{'state': {0: {'momentum_buffer': None}, 1: {'momentum_buffer': None}},\n",
              " 'param_groups': [{'lr': 0.1,\n",
              "   'momentum': 0,\n",
              "   'dampening': 0,\n",
              "   'weight_decay': 0,\n",
              "   'nesterov': False,\n",
              "   'maximize': False,\n",
              "   'foreach': None,\n",
              "   'params': [0, 1]}]}"
            ]
          },
          "metadata": {},
          "execution_count": 58
        }
      ]
    },
    {
      "cell_type": "markdown",
      "source": [
        "We need to send our model to the same device\n",
        "where the data is. If our data is made of GPU tensors, our model\n",
        "must “live” inside the GPU as well."
      ],
      "metadata": {
        "id": "LenGC-op0oQb"
      }
    },
    {
      "cell_type": "code",
      "source": [
        "torch.manual_seed(42)\n",
        "\n",
        "# Creates a \"dummy\" instance of our LinearRegression model and sends it to the device\n",
        "dummy = LinearRegression().to(device)"
      ],
      "metadata": {
        "id": "SQyJ9nLz0sV9"
      },
      "execution_count": 59,
      "outputs": []
    },
    {
      "cell_type": "markdown",
      "source": [
        "The forward pass is the moment when the model makes predictions.\n",
        "\n",
        ">Remember: you should make predictions calling `model(x)`"
      ],
      "metadata": {
        "id": "vqoVcPSm3TDM"
      }
    },
    {
      "cell_type": "code",
      "source": [
        "torch.manual_seed(42)\n",
        "\n",
        "# Sets learning rate\n",
        "lr = 0.1\n",
        "\n",
        "# Step 0 - Initializes parameters \"b\" and \"w\" randomly\n",
        "# b = torch.randn(1, requires_grad=True, dtype=torch.float, device=device)\n",
        "# w = torch.randn(1, requires_grad=True, dtype=torch.float, device=device)\n",
        "# Now we can create a model and send it at once to the device\n",
        "model = LinearRegression().to(device)\n",
        "\n",
        "# Defines a SGD optimizer to update the parameters\n",
        "optimizer = optim.SGD([b, w], lr=lr)\n",
        "# Defines a MSE loss function\n",
        "loss_fn = nn.MSELoss(reduction=\"mean\")\n",
        "# Defines number of epochs\n",
        "n_epochs = 1000\n",
        "\n",
        "for epoch in range(n_epochs):\n",
        "  model.train()  # set the model to training mode\n",
        "\n",
        "  # Step 1 - Computes model's predicted output - forward pass\n",
        "  # No more manual prediction!\n",
        "  yhat = model(x_train_tensor)\n",
        "\n",
        "  # Step 2 - Computes the loss\n",
        "  loss = loss_fn(yhat, y_train_tensor)\n",
        "\n",
        "  # Step 3 - Computes gradients for both \"b\" and \"w\" parameters\n",
        "  loss.backward()\n",
        "\n",
        "  # Step 4 - Updates parameters using gradients and the learning rate. But not so fast...\n",
        "  optimizer.step()\n",
        "  optimizer.zero_grad()\n",
        "\n",
        "# We can also inspect its parameters using its state_dict\n",
        "print(model.state_dict())"
      ],
      "metadata": {
        "id": "zomSC5t03WzE",
        "outputId": "ac3cc596-1df8-424e-db48-bcf3bbb4bdde",
        "colab": {
          "base_uri": "https://localhost:8080/"
        }
      },
      "execution_count": 60,
      "outputs": [
        {
          "output_type": "stream",
          "name": "stdout",
          "text": [
            "OrderedDict([('w', tensor([0.3367], device='cuda:0')), ('b', tensor([0.1288], device='cuda:0'))])\n"
          ]
        }
      ]
    },
    {
      "cell_type": "markdown",
      "source": [
        "###Nested Models"
      ],
      "metadata": {
        "id": "_KguFZXp41go"
      }
    },
    {
      "cell_type": "markdown",
      "source": [
        "We are implementing a single feature linear regression, one input and one output, so\n",
        "the corresponding linear model would look like this."
      ],
      "metadata": {
        "id": "bsq1hLN442f7"
      }
    },
    {
      "cell_type": "code",
      "source": [
        "linear = nn.Linear(1, 1)\n",
        "linear"
      ],
      "metadata": {
        "id": "dmfuj2YOAiR4",
        "outputId": "b85c4336-37d4-4810-cf28-135fde63d987",
        "colab": {
          "base_uri": "https://localhost:8080/"
        }
      },
      "execution_count": 61,
      "outputs": [
        {
          "output_type": "execute_result",
          "data": {
            "text/plain": [
              "Linear(in_features=1, out_features=1, bias=True)"
            ]
          },
          "metadata": {},
          "execution_count": 61
        }
      ]
    },
    {
      "cell_type": "markdown",
      "source": [
        "Do we still have our b and w parameters?"
      ],
      "metadata": {
        "id": "ZmQXITEJAs3l"
      }
    },
    {
      "cell_type": "code",
      "source": [
        "linear.state_dict()"
      ],
      "metadata": {
        "id": "bo_Sa6W9AtWL",
        "outputId": "fc86e409-b907-42f6-87e9-1fc42cc3247e",
        "colab": {
          "base_uri": "https://localhost:8080/"
        }
      },
      "execution_count": 62,
      "outputs": [
        {
          "output_type": "execute_result",
          "data": {
            "text/plain": [
              "OrderedDict([('weight', tensor([[-0.2191]])), ('bias', tensor([0.2018]))])"
            ]
          },
          "metadata": {},
          "execution_count": 62
        }
      ]
    },
    {
      "cell_type": "markdown",
      "source": [
        "Now, let’s use PyTorch’s Linear model as an attribute of our own, thus creating a\n",
        "nested model."
      ],
      "metadata": {
        "id": "TtLBrQxpBB2b"
      }
    },
    {
      "cell_type": "code",
      "source": [
        "class MyLinearRegression(nn.Module):\n",
        "  def __init__(self):\n",
        "    super().__init__()\n",
        "    # Instead of our custom parameters, we use a Linear model with single input and single output\n",
        "    self.linear = nn.Linear(1, 1)\n",
        "\n",
        "  def forward(self, x):\n",
        "    # Now it only takes a call\n",
        "    self.linear(x)"
      ],
      "metadata": {
        "id": "zuK_1J2UBCY_"
      },
      "execution_count": 63,
      "outputs": []
    },
    {
      "cell_type": "markdown",
      "source": [
        "Now, if we call the `parameters()` method of this model, PyTorch will figure the\n",
        "parameters of its attributes recursively."
      ],
      "metadata": {
        "id": "y2-Ihj1QBu6o"
      }
    },
    {
      "cell_type": "code",
      "source": [
        "torch.manual_seed(42)\n",
        "\n",
        "dummy = MyLinearRegression().to(device)\n",
        "list(dummy.parameters())"
      ],
      "metadata": {
        "id": "JNGiWLyNBxPh",
        "outputId": "e39c6297-5435-44da-9529-9eed5c18fefd",
        "colab": {
          "base_uri": "https://localhost:8080/"
        }
      },
      "execution_count": 64,
      "outputs": [
        {
          "output_type": "execute_result",
          "data": {
            "text/plain": [
              "[Parameter containing:\n",
              " tensor([[0.7645]], device='cuda:0', requires_grad=True), Parameter containing:\n",
              " tensor([0.8300], device='cuda:0', requires_grad=True)]"
            ]
          },
          "metadata": {},
          "execution_count": 64
        }
      ]
    },
    {
      "cell_type": "markdown",
      "source": [
        "If you prefer, you can also use `state_dict()` to get the parameter values together\n",
        "with their names:"
      ],
      "metadata": {
        "id": "WQit5sSTCYIy"
      }
    },
    {
      "cell_type": "code",
      "source": [
        "dummy.state_dict()"
      ],
      "metadata": {
        "id": "-kQxf1lACYti",
        "outputId": "46e5c198-6225-49bc-bfa9-ddeb3499ba24",
        "colab": {
          "base_uri": "https://localhost:8080/"
        }
      },
      "execution_count": 65,
      "outputs": [
        {
          "output_type": "execute_result",
          "data": {
            "text/plain": [
              "OrderedDict([('linear.weight', tensor([[0.7645]], device='cuda:0')),\n",
              "             ('linear.bias', tensor([0.8300], device='cuda:0'))])"
            ]
          },
          "metadata": {},
          "execution_count": 65
        }
      ]
    },
    {
      "cell_type": "markdown",
      "source": [
        "###Sequential Models"
      ],
      "metadata": {
        "id": "ak6mQt-ACvGv"
      }
    },
    {
      "cell_type": "markdown",
      "source": [
        "For straightforward models, that use a series of built-in PyTorch models (like\n",
        "Linear), where the output of one is sequentially fed as an input to the next, we can\n",
        "use a Sequential model."
      ],
      "metadata": {
        "id": "abS_FRnACv51"
      }
    },
    {
      "cell_type": "code",
      "source": [
        "torch.manual_seed(42)\n",
        "\n",
        "# Alternatively, you can use a Sequential model\n",
        "model = nn.Sequential(\n",
        "  nn.Linear(1, 1)\n",
        ").to(device)\n",
        "\n",
        "model.state_dict()"
      ],
      "metadata": {
        "id": "tf5BbJgJDNxI",
        "outputId": "6a5b8ff1-55ab-42e8-c68f-6ea793f2e252",
        "colab": {
          "base_uri": "https://localhost:8080/"
        }
      },
      "execution_count": 66,
      "outputs": [
        {
          "output_type": "execute_result",
          "data": {
            "text/plain": [
              "OrderedDict([('0.weight', tensor([[0.7645]], device='cuda:0')),\n",
              "             ('0.bias', tensor([0.8300], device='cuda:0'))])"
            ]
          },
          "metadata": {},
          "execution_count": 66
        }
      ]
    },
    {
      "cell_type": "markdown",
      "source": [
        "We’ve been talking about models inside other models…"
      ],
      "metadata": {
        "id": "ZU2RKMOiEr9e"
      }
    },
    {
      "cell_type": "markdown",
      "source": [
        "###Layers"
      ],
      "metadata": {
        "id": "RrubQxzgEslr"
      }
    },
    {
      "cell_type": "markdown",
      "source": [
        "A Linear model can be seen as a layer in a neural network.\n",
        "\n",
        "![image.png](data:image/png;base64,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)"
      ],
      "metadata": {
        "id": "BZqGk3lcEty6"
      }
    },
    {
      "cell_type": "markdown",
      "source": [
        "In the example above, the hidden layer would be `nn.Linear(3, 5)` (since it takes 3\n",
        "inputs - from the input layer - and generates 5 outputs), and the output layer would\n",
        "be `nn.Linear(5, 1)` (since it takes 5 inputs - the outputs from the hidden layer -\n",
        "and generates a single output)."
      ],
      "metadata": {
        "id": "sSmwz6-RFJ2Y"
      }
    },
    {
      "cell_type": "code",
      "source": [
        "from inspect import modulesbyfile\n",
        "torch.manual_seed(42)\n",
        "\n",
        "# Building the model\n",
        "model = nn.Sequential(\n",
        "  nn.Linear(3, 5),\n",
        "  nn.Linear(5, 1)\n",
        ").to(device)\n",
        "\n",
        "model.state_dict()"
      ],
      "metadata": {
        "id": "ocAlngbpFTyn",
        "outputId": "b62c3c84-822f-4e9f-acd2-0bea92b42930",
        "colab": {
          "base_uri": "https://localhost:8080/"
        }
      },
      "execution_count": 72,
      "outputs": [
        {
          "output_type": "execute_result",
          "data": {
            "text/plain": [
              "OrderedDict([('0.weight', tensor([[ 0.4414,  0.4792, -0.1353],\n",
              "                      [ 0.5304, -0.1265,  0.1165],\n",
              "                      [-0.2811,  0.3391,  0.5090],\n",
              "                      [-0.4236,  0.5018,  0.1081],\n",
              "                      [ 0.4266,  0.0782,  0.2784]], device='cuda:0')),\n",
              "             ('0.bias',\n",
              "              tensor([-0.0815,  0.4451,  0.0853, -0.2695,  0.1472], device='cuda:0')),\n",
              "             ('1.weight',\n",
              "              tensor([[-0.2060, -0.0524, -0.1816,  0.2967, -0.3530]], device='cuda:0')),\n",
              "             ('1.bias', tensor([-0.2062], device='cuda:0'))])"
            ]
          },
          "metadata": {},
          "execution_count": 72
        }
      ]
    },
    {
      "cell_type": "markdown",
      "source": [
        "You can also use a model’s `add_module()` method to be able to name the layers:"
      ],
      "metadata": {
        "id": "YUNlKY40GCGs"
      }
    },
    {
      "cell_type": "code",
      "source": [
        "torch.manual_seed(42)\n",
        "\n",
        "model = nn.Sequential()\n",
        "model.add_module(\"layer1\", nn.Linear(3, 5))\n",
        "model.add_module(\"layer2\", nn.Linear(5, 1))\n",
        "model.to(device)"
      ],
      "metadata": {
        "id": "BsmIlpRAGD22",
        "outputId": "bc550b07-9725-473b-f433-0b1de4c08fe7",
        "colab": {
          "base_uri": "https://localhost:8080/"
        }
      },
      "execution_count": 69,
      "outputs": [
        {
          "output_type": "execute_result",
          "data": {
            "text/plain": [
              "Sequential(\n",
              "  (layer1): Linear(in_features=3, out_features=5, bias=True)\n",
              "  (layer2): Linear(in_features=5, out_features=1, bias=True)\n",
              ")"
            ]
          },
          "metadata": {},
          "execution_count": 69
        }
      ]
    },
    {
      "cell_type": "markdown",
      "source": [
        "##Putting It All Together"
      ],
      "metadata": {
        "id": "ARz968upHBAW"
      }
    },
    {
      "cell_type": "markdown",
      "source": [],
      "metadata": {
        "id": "v1jAx0vDHBtQ"
      }
    }
  ]
}