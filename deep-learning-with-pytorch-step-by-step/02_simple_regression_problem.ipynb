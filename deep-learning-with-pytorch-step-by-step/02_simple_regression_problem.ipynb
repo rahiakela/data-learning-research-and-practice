{
  "nbformat": 4,
  "nbformat_minor": 0,
  "metadata": {
    "colab": {
      "provenance": [],
      "toc_visible": true,
      "authorship_tag": "ABX9TyMkNajGvIMNC9caJ8kFiUv2",
      "include_colab_link": true
    },
    "kernelspec": {
      "name": "python3",
      "display_name": "Python 3"
    },
    "language_info": {
      "name": "python"
    },
    "accelerator": "GPU"
  },
  "cells": [
    {
      "cell_type": "markdown",
      "metadata": {
        "id": "view-in-github",
        "colab_type": "text"
      },
      "source": [
        "<a href=\"https://colab.research.google.com/github/rahiakela/deep-learning-research-and-practice/blob/main/deep-learning-with-pytorch-step-by-step/02_simple_regression_problem.ipynb\" target=\"_parent\"><img src=\"https://colab.research.google.com/assets/colab-badge.svg\" alt=\"Open In Colab\"/></a>"
      ]
    },
    {
      "cell_type": "markdown",
      "source": [
        "##Simple Regression Problem"
      ],
      "metadata": {
        "id": "eB520cKUnVhx"
      }
    },
    {
      "cell_type": "markdown",
      "source": [
        "In this notebook, I will stick with a simple and familiar problem:\n",
        "a linear regression with a single feature x! It doesn’t get much simpler than that…\n",
        "\n",
        "$$ y = b + wx + ϵ$$\n",
        "\n",
        "It is also possible to think of it as the simplest neural network possible: one input,\n",
        "one output, and no activation function (that is, linear).\n",
        "\n",
        "![image.png](data:image/png;base64,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)"
      ],
      "metadata": {
        "id": "5wTQQbxanWY8"
      }
    },
    {
      "cell_type": "markdown",
      "source": [
        "##Setup"
      ],
      "metadata": {
        "id": "a60l9BX2oE0g"
      }
    },
    {
      "cell_type": "code",
      "source": [
        "try:\n",
        "    import google.colab\n",
        "    import requests\n",
        "    url = 'https://raw.githubusercontent.com/dvgodoy/PyTorchStepByStep/master/config.py'\n",
        "    r = requests.get(url, allow_redirects=True)\n",
        "    open('config.py', 'wb').write(r.content)    \n",
        "except ModuleNotFoundError:\n",
        "    pass\n",
        "\n",
        "from config import *\n",
        "config_chapter1()\n",
        "# This is needed to render the plots in this chapter\n",
        "from plots.chapter1 import *"
      ],
      "metadata": {
        "id": "pgGfHWV5oZqU",
        "outputId": "9d748206-296f-477d-fb00-1c4eaaf0a8ed",
        "colab": {
          "base_uri": "https://localhost:8080/"
        }
      },
      "execution_count": 1,
      "outputs": [
        {
          "output_type": "stream",
          "name": "stdout",
          "text": [
            "Installing torchviz...\n",
            "Downloading files from GitHub repo to Colab...\n",
            "Creating folders...\n",
            "Finished!\n"
          ]
        }
      ]
    },
    {
      "cell_type": "code",
      "source": [
        "import numpy as np\n",
        "from sklearn.linear_model import LinearRegression\n",
        "\n",
        "import torch\n",
        "import torch.optim as optim\n",
        "import torch.nn as nn\n",
        "from torchviz import make_dot"
      ],
      "metadata": {
        "id": "TUEV99bdogt_"
      },
      "execution_count": 2,
      "outputs": []
    },
    {
      "cell_type": "markdown",
      "source": [
        "##Data Generation"
      ],
      "metadata": {
        "id": "IS1-btItoZ1B"
      }
    },
    {
      "cell_type": "markdown",
      "source": [
        "Let’s start generating some synthetic data: we start with a vector of `100 (N)` points\n",
        "for our feature `(x)` and create our labels `(y)` using `b = 1, w = 2`, and some Gaussian noise (epsilon)."
      ],
      "metadata": {
        "id": "U6ucNoo7oawj"
      }
    },
    {
      "cell_type": "code",
      "source": [
        "np.random.seed(42)\n",
        "\n",
        "true_b = 1\n",
        "true_w = 2\n",
        "N = 100\n",
        "\n",
        "# Data Generation\n",
        "x = np.random.rand(N, 1)\n",
        "epsilon = (.1 * np.random.rand(N, 1))\n",
        "y = true_b + true_w * x + epsilon"
      ],
      "metadata": {
        "id": "7i8oVtQPpATN"
      },
      "execution_count": 3,
      "outputs": []
    },
    {
      "cell_type": "markdown",
      "source": [
        "Next, let’s split our synthetic data into train and validation sets, shuffling the array\n",
        "of indexes and using the first 80 shuffled points for training."
      ],
      "metadata": {
        "id": "6Bg1PAVnpncx"
      }
    },
    {
      "cell_type": "code",
      "source": [
        "# Shuffles the indices\n",
        "idx = np.arange(N)\n",
        "np.random.shuffle(idx)\n",
        "\n",
        "# Uses first 80 random indices for train\n",
        "train_idx = idx[:int(N * .8)]\n",
        "# Uses the remaining indices for validation\n",
        "val_idx = idx[int(N * .8): ]\n",
        "\n",
        "# Generates train and validation sets\n",
        "x_train, y_train = x[train_idx], y[train_idx]\n",
        "x_val, y_val = x[val_idx], y[val_idx]"
      ],
      "metadata": {
        "id": "6c8vMI5Kpn3Z"
      },
      "execution_count": 4,
      "outputs": []
    },
    {
      "cell_type": "code",
      "source": [
        "figure1(x_train, y_train, x_val, y_val)"
      ],
      "metadata": {
        "colab": {
          "base_uri": "https://localhost:8080/",
          "height": 505
        },
        "id": "ZBTcz6BhqYoR",
        "outputId": "6300453e-a0db-4e89-f413-8894526ef83d"
      },
      "execution_count": 5,
      "outputs": [
        {
          "output_type": "execute_result",
          "data": {
            "text/plain": [
              "(<Figure size 864x432 with 2 Axes>,\n",
              " array([<matplotlib.axes._subplots.AxesSubplot object at 0x7fdf50db2410>,\n",
              "        <matplotlib.axes._subplots.AxesSubplot object at 0x7fdebeb3d190>],\n",
              "       dtype=object))"
            ]
          },
          "metadata": {},
          "execution_count": 5
        },
        {
          "output_type": "display_data",
          "data": {
            "text/plain": [
              "<Figure size 864x432 with 2 Axes>"
            ],
            "image/png": "[encoded data removed]"
          },
          "metadata": {}
        }
      ]
    },
    {
      "cell_type": "markdown",
      "source": [
        "We know that b = 1, w = 2, but now let’s see how close we can get to the true\n",
        "values by using gradient descent and the 80 points in the training set."
      ],
      "metadata": {
        "id": "u3BTZsQaqZQE"
      }
    },
    {
      "cell_type": "markdown",
      "source": [
        "##Gradient Descent"
      ],
      "metadata": {
        "id": "21NT7ES1qg4K"
      }
    },
    {
      "cell_type": "markdown",
      "source": [
        "I’ll cover the five basic steps you’d need to go through to use gradient descent."
      ],
      "metadata": {
        "id": "dUjLq0Lfqi5N"
      }
    },
    {
      "cell_type": "markdown",
      "source": [
        "###Step 0: Random Initialization"
      ],
      "metadata": {
        "id": "sDiR9dYjqqZW"
      }
    },
    {
      "cell_type": "markdown",
      "source": [
        "For training a model, you need to randomly initialize the parameters/weights."
      ],
      "metadata": {
        "id": "H5yEPuTVTJks"
      }
    },
    {
      "cell_type": "code",
      "source": [
        "# Step 0 - Initializes parameters \"b\" and \"w\" randomly\n",
        "np.random.seed(42)\n",
        "\n",
        "b = np.random.randn(1)\n",
        "w = np.random.randn(1)\n",
        "\n",
        "print(b, w)"
      ],
      "metadata": {
        "id": "br2g0-4HSk4d",
        "outputId": "22a7b106-685e-4898-924e-ed8ab41675ea",
        "colab": {
          "base_uri": "https://localhost:8080/"
        }
      },
      "execution_count": 6,
      "outputs": [
        {
          "output_type": "stream",
          "name": "stdout",
          "text": [
            "[0.49671415] [-0.1382643]\n"
          ]
        }
      ]
    },
    {
      "cell_type": "markdown",
      "source": [
        "###Step 1: Compute Model's Predictions"
      ],
      "metadata": {
        "id": "B18OXUGQS0fl"
      }
    },
    {
      "cell_type": "markdown",
      "source": [
        "This is the forward pass - it simply computes the model’s predictions using the current\n",
        "values of the parameters/weights."
      ],
      "metadata": {
        "id": "dWR0NKt7TPu4"
      }
    },
    {
      "cell_type": "code",
      "source": [
        "# Step 1 - Computes our model's predicted output - forward pass\n",
        "yhat = b + w * x_train"
      ],
      "metadata": {
        "id": "cHzyWY9FS1s3"
      },
      "execution_count": 7,
      "outputs": []
    },
    {
      "cell_type": "markdown",
      "source": [
        "###Step 2: Compute the Loss"
      ],
      "metadata": {
        "id": "louZXxr4S_v6"
      }
    },
    {
      "cell_type": "markdown",
      "source": [
        "For a regression problem, the loss is given by the Mean Squared Error (MSE), that\n",
        "is, the average of all squared errors, that is, the average of all squared differences\n",
        "between labels (`y`) and predictions (`b + wx`).\n",
        "\n",
        "Here, we are using all data points of the training set to compute the\n",
        "loss, so `n = N = 80`, meaning we are performing batch gradient descent."
      ],
      "metadata": {
        "id": "t7ZFJK_hTYss"
      }
    },
    {
      "cell_type": "code",
      "source": [
        "# Step 2 - Computing the loss\n",
        "\n",
        "# We are using ALL data points, so this is BATCH gradient descent. How wrong is our model? That's the error!\n",
        "error = (yhat - y_train)\n",
        "\n",
        "# It is a regression, so it computes mean squared error (MSE)\n",
        "loss = (error ** 2).mean()\n",
        "print(loss)"
      ],
      "metadata": {
        "id": "1n2CtsUXS9gj",
        "outputId": "c0fda6b0-fb85-47a0-a550-4690922a34a5",
        "colab": {
          "base_uri": "https://localhost:8080/"
        }
      },
      "execution_count": 8,
      "outputs": [
        {
          "output_type": "stream",
          "name": "stdout",
          "text": [
            "2.808129216295391\n"
          ]
        }
      ]
    },
    {
      "cell_type": "markdown",
      "source": [
        "###Step 3: Compute the Gradients"
      ],
      "metadata": {
        "id": "DpLPVKTmT3IN"
      }
    },
    {
      "cell_type": "markdown",
      "source": [
        "A gradient is a partial derivative — why partial? Because one computes it with\n",
        "respect to (w.r.t.) a single parameter. We have two parameters, b and w, so we must compute two partial derivatives.\n",
        "\n",
        "A derivative tells you how much a given quantity changes when you slightly vary\n",
        "some other quantity. In our case, how much does our MSE loss change when we\n",
        "vary each one of our two parameters separately?\n",
        "\n",
        "> **Gradient** = how much the loss changes if ONE parameter\n",
        "changes a little bit!"
      ],
      "metadata": {
        "id": "YD9USz_wT30a"
      }
    },
    {
      "cell_type": "code",
      "source": [
        "# Step 3 - Computes gradients for both \"b\" and \"w\" parameters\n",
        "b_grad = 2 * error.mean()\n",
        "w_grad = 2 * (x_train * error).mean()\n",
        "print(b_grad, w_grad)"
      ],
      "metadata": {
        "id": "Vl3-r09yURpb",
        "outputId": "a5ffb0d0-411a-4639-d29a-af7835d4746f",
        "colab": {
          "base_uri": "https://localhost:8080/"
        }
      },
      "execution_count": 9,
      "outputs": [
        {
          "output_type": "stream",
          "name": "stdout",
          "text": [
            "-3.108262701823821 -1.8206663430690853\n"
          ]
        }
      ]
    },
    {
      "cell_type": "markdown",
      "source": [
        "###Step 4 - Update the Parameters"
      ],
      "metadata": {
        "id": "jeBiRiOMUknN"
      }
    },
    {
      "cell_type": "markdown",
      "source": [
        "In the final step, we use the gradients to update the parameters. \n",
        "\n",
        "Since we are\n",
        "trying to minimize our losses, we reverse the sign of the gradient for the update.\n",
        "\n",
        "In our example, let’s start with a value of 0.1 for the learning rate."
      ],
      "metadata": {
        "id": "wKC5qiATUlRu"
      }
    },
    {
      "cell_type": "code",
      "source": [
        "# Sets learning rate\n",
        "lr = 0.1\n",
        "print(b, w)\n",
        "\n",
        "# Step 4 - Updates parameters using gradients and the learning rate\n",
        "b = b - lr * b_grad\n",
        "w = w - lr * w_grad\n",
        "\n",
        "print(b, w)"
      ],
      "metadata": {
        "id": "pkbTlKSbUrD4",
        "outputId": "069e6e2f-06f6-42f9-a295-9b488eb14db1",
        "colab": {
          "base_uri": "https://localhost:8080/"
        }
      },
      "execution_count": 10,
      "outputs": [
        {
          "output_type": "stream",
          "name": "stdout",
          "text": [
            "[0.49671415] [-0.1382643]\n",
            "[0.80754042] [0.04380233]\n"
          ]
        }
      ]
    },
    {
      "cell_type": "markdown",
      "source": [
        "###Step 5 - Rinse and Repeat!"
      ],
      "metadata": {
        "id": "robyWOO0VQNg"
      }
    },
    {
      "cell_type": "markdown",
      "source": [
        "Now we use the updated parameters to go back to Step 1 and restart the process.\n",
        "\n",
        "Repeating this process over and over for many epochs is, in a nutshell, training a\n",
        "model."
      ],
      "metadata": {
        "id": "x_8OmIQ8VQ6g"
      }
    },
    {
      "cell_type": "markdown",
      "source": [
        "##Linear Regression in Numpy"
      ],
      "metadata": {
        "id": "hnago_O4Vmvm"
      }
    },
    {
      "cell_type": "markdown",
      "source": [
        "It’s time to implement our linear regression model using gradient descent and\n",
        "Numpy only.\n",
        "\n",
        "For each epoch, there are four training steps:\n",
        "\n",
        "1. Compute model’s predictions — this is the forward pass\n",
        "2. Compute the loss, using predictions and labels and the appropriate loss function\n",
        "3. Compute the gradients for every parameter\n",
        "4. Update the parameters\n",
        "\n",
        "For now, we will be using batch gradient descent only, meaning, we’ll use all data\n",
        "points for each one of the four steps above. It also means that going once through\n",
        "all of the steps is already one epoch."
      ],
      "metadata": {
        "id": "4vsVHIgOVo7o"
      }
    },
    {
      "cell_type": "code",
      "source": [
        "np.random.seed(42)\n",
        "\n",
        "# Step 0 - Initializes parameters \"b\" and \"w\" randomly\n",
        "b = np.random.randn(1)\n",
        "w = np.random.randn(1)\n",
        "print(b, w)\n",
        "\n",
        "# Sets learning rate\n",
        "lr = 0.1\n",
        "# Defines number of epochs\n",
        "n_epochs = 1000\n",
        "\n",
        "for epoch in range(n_epochs):\n",
        "  # Step 1 - Computes model's predicted output - forward pass\n",
        "  yhat = b + w * x_train\n",
        "\n",
        "  # Step 2 - Computes the loss\n",
        "  # We are using ALL data points, so this is BATCH gradient descent. How wrong is our model? That's the error! \n",
        "  error = (yhat - y_train)\n",
        "  # It is a regression, so it computes mean squared error (MSE)\n",
        "  loss = (error ** 2).mean()\n",
        "\n",
        "  # Step 3 - Computes gradients for both \"b\" and \"w\" parameters\n",
        "  b_grad = 2 * error.mean()\n",
        "  w_grad = 2 * (x_train * error).mean()\n",
        "\n",
        "  # Step 4 - Updates parameters using gradients and the learning rate\n",
        "  b = b - lr * b_grad\n",
        "  w = w - lr * w_grad\n",
        "\n",
        "print(b, w)"
      ],
      "metadata": {
        "id": "uzXq0fwnDFgE",
        "outputId": "4f1f0de1-3f0b-4945-8a4e-67a740d8a92b",
        "colab": {
          "base_uri": "https://localhost:8080/"
        }
      },
      "execution_count": 11,
      "outputs": [
        {
          "output_type": "stream",
          "name": "stdout",
          "text": [
            "[0.49671415] [-0.1382643]\n",
            "[1.05303414] [1.99581323]\n"
          ]
        }
      ]
    },
    {
      "cell_type": "markdown",
      "source": [
        "Just to make sure we haven’t done any mistakes in our code, we can use Scikit-\n",
        "Learn’s Linear Regression to fit the model and compare the coefficients."
      ],
      "metadata": {
        "id": "bDE1NocjFyk3"
      }
    },
    {
      "cell_type": "code",
      "source": [
        "# Sanity Check: do we get the same results as our gradient descent?\n",
        "lin_reg = LinearRegression()\n",
        "lin_reg.fit(x_train, y_train)\n",
        "print(lin_reg.intercept_, lin_reg.coef_[0])"
      ],
      "metadata": {
        "id": "WqxxP3wSFz-D",
        "outputId": "69b3a454-e9c7-4114-dc05-e76dae328023",
        "colab": {
          "base_uri": "https://localhost:8080/"
        }
      },
      "execution_count": 12,
      "outputs": [
        {
          "output_type": "stream",
          "name": "stdout",
          "text": [
            "[1.05303354] [1.99581441]\n"
          ]
        }
      ]
    },
    {
      "cell_type": "markdown",
      "source": [
        "They match up to 6 decimal places — we have a fully working implementation of linear\n",
        "regression using Numpy."
      ],
      "metadata": {
        "id": "49Q7oFVdGT82"
      }
    },
    {
      "cell_type": "code",
      "source": [
        "fig = figure3(x_train, y_train)"
      ],
      "metadata": {
        "id": "5IwTRGzuGUbG",
        "outputId": "fc2470a7-c705-4429-a41c-f558840c1209",
        "colab": {
          "base_uri": "https://localhost:8080/",
          "height": 0
        }
      },
      "execution_count": 13,
      "outputs": [
        {
          "output_type": "display_data",
          "data": {
            "text/plain": [
              "<Figure size 432x432 with 1 Axes>"
            ],
            "image/png": "[encoded data removed]"
          },
          "metadata": {}
        }
      ]
    },
    {
      "cell_type": "markdown",
      "source": [
        "##PyTorch Basic"
      ],
      "metadata": {
        "id": "E3tHpvUYGqpO"
      }
    },
    {
      "cell_type": "markdown",
      "source": [
        "In Numpy, you may have an array that has three dimensions, right? That is,\n",
        "technically speaking, a tensor.\n",
        "\n",
        "You can create tensors in PyTorch pretty much the same way you create arrays in\n",
        "Numpy. \n",
        "\n",
        "Using `tensor()` you can create either a scalar or a tensor."
      ],
      "metadata": {
        "id": "vzhYQ-Q3GsRF"
      }
    },
    {
      "cell_type": "code",
      "source": [
        "scalar = torch.tensor(3.14159)\n",
        "vector = torch.tensor([1, 2, 3])\n",
        "matrix = torch.ones((2, 3), dtype=torch.float)\n",
        "tensor = torch.randn((2, 3, 4), dtype=torch.float)\n",
        "\n",
        "print(scalar)\n",
        "print(vector)\n",
        "print(matrix)\n",
        "print(tensor)"
      ],
      "metadata": {
        "id": "8QA2sK9tiodM",
        "outputId": "0f565268-1e4b-490a-9e0c-47a43a74eca8",
        "colab": {
          "base_uri": "https://localhost:8080/"
        }
      },
      "execution_count": 14,
      "outputs": [
        {
          "output_type": "stream",
          "name": "stdout",
          "text": [
            "tensor(3.1416)\n",
            "tensor([1, 2, 3])\n",
            "tensor([[1., 1., 1.],\n",
            "        [1., 1., 1.]])\n",
            "tensor([[[ 0.6291, -0.4928, -0.0780, -0.4176],\n",
            "         [ 0.2595,  0.4698,  0.0641,  0.8023],\n",
            "         [ 0.5542, -0.5085, -1.4040,  0.8507]],\n",
            "\n",
            "        [[ 0.3093, -1.2875,  2.2664, -1.7359],\n",
            "         [-0.1595,  1.0394, -0.5099, -0.8586],\n",
            "         [ 1.0344, -0.5021,  2.0779,  0.3138]]])\n"
          ]
        }
      ]
    },
    {
      "cell_type": "markdown",
      "source": [
        "You can get the shape of a tensor using its `size()` method or its shape attribute."
      ],
      "metadata": {
        "id": "pibBdsgLjcSQ"
      }
    },
    {
      "cell_type": "code",
      "source": [
        "print(tensor.size(), tensor.shape)"
      ],
      "metadata": {
        "id": "v13QAvfnjd8p",
        "outputId": "e742d61f-11af-4dde-d7d0-f7229d3b9020",
        "colab": {
          "base_uri": "https://localhost:8080/"
        }
      },
      "execution_count": 15,
      "outputs": [
        {
          "output_type": "stream",
          "name": "stdout",
          "text": [
            "torch.Size([2, 3, 4]) torch.Size([2, 3, 4])\n"
          ]
        }
      ]
    },
    {
      "cell_type": "code",
      "source": [
        "# scalars have \"empty\" shapes\n",
        "print(scalar.size(), scalar.shape)"
      ],
      "metadata": {
        "id": "SEUjmq7sjm1e",
        "outputId": "0304d776-ce11-408f-b1e6-8510b9f78574",
        "colab": {
          "base_uri": "https://localhost:8080/"
        }
      },
      "execution_count": 16,
      "outputs": [
        {
          "output_type": "stream",
          "name": "stdout",
          "text": [
            "torch.Size([]) torch.Size([])\n"
          ]
        }
      ]
    },
    {
      "cell_type": "markdown",
      "source": [
        "You can also reshape a tensor using its `view()` (preferred) or `reshape()` methods."
      ],
      "metadata": {
        "id": "sn6ZczR2jwwg"
      }
    },
    {
      "cell_type": "code",
      "source": [
        "# We get a tensor with a different shape but it still is the SAME tensor\n",
        "same_matrix = matrix.view(1, 6)\n",
        "\n",
        "# If we change one of its elements...\n",
        "same_matrix[0, 1] = 2.\n",
        "\n",
        "# It changes both variables: matrix and same_matrix\n",
        "print(matrix)\n",
        "print(same_matrix)"
      ],
      "metadata": {
        "id": "GUGgd1V_jziz",
        "outputId": "a1d05074-961d-463b-fa5b-3e401e6dbcb2",
        "colab": {
          "base_uri": "https://localhost:8080/"
        }
      },
      "execution_count": 17,
      "outputs": [
        {
          "output_type": "stream",
          "name": "stdout",
          "text": [
            "tensor([[1., 2., 1.],\n",
            "        [1., 1., 1.]])\n",
            "tensor([[1., 2., 1., 1., 1., 1.]])\n"
          ]
        }
      ]
    },
    {
      "cell_type": "markdown",
      "source": [
        "If you want to copy all data for real, that is, duplicate the data in memory, you may\n",
        "use either its `new_tensor()` or `clone()` methods."
      ],
      "metadata": {
        "id": "VZ3f0wxRkQ9X"
      }
    },
    {
      "cell_type": "code",
      "source": [
        "# We can use \"new_tensor\" method to REALLY copy it into a new one\n",
        "different_matrix = matrix.new_tensor(matrix.view(1, 6))\n",
        "\n",
        "# Now, if we change one of its elements...\n",
        "different_matrix[0, 1] = 3.\n",
        "\n",
        "# The original tensor (matrix) is left untouched!\n",
        "# But we get a \"warning\" from PyTorch telling us to use \"clone()\" instead!\n",
        "print(matrix)\n",
        "print(different_matrix)"
      ],
      "metadata": {
        "id": "hIwAxu6jkTsO",
        "outputId": "279e0073-8bf0-4e88-88be-b770c3e5436b",
        "colab": {
          "base_uri": "https://localhost:8080/"
        }
      },
      "execution_count": 18,
      "outputs": [
        {
          "output_type": "stream",
          "name": "stdout",
          "text": [
            "tensor([[1., 2., 1.],\n",
            "        [1., 1., 1.]])\n",
            "tensor([[1., 3., 1., 1., 1., 1.]])\n"
          ]
        },
        {
          "output_type": "stream",
          "name": "stderr",
          "text": [
            "/usr/local/lib/python3.7/dist-packages/ipykernel_launcher.py:2: UserWarning: To copy construct from a tensor, it is recommended to use sourceTensor.clone().detach() or sourceTensor.clone().detach().requires_grad_(True), rather than tensor.new_tensor(sourceTensor).\n",
            "  \n"
          ]
        }
      ]
    },
    {
      "cell_type": "markdown",
      "source": [
        "It seems that PyTorch prefers that we use `clone()` - together with `detach()` -\n",
        "instead of `new_tensor()`… Both ways accomplish exactly the same result.\n",
        "\n",
        "> `detach()` removes the tensor from the computation graph."
      ],
      "metadata": {
        "id": "3OiXlzOjlpad"
      }
    },
    {
      "cell_type": "code",
      "source": [
        "# Lets follow PyTorch's suggestion and use \"clone\" method\n",
        "another_matrix = matrix.view(1, 6).clone().detach()\n",
        "\n",
        "# Again, if we change one of its elements...\n",
        "another_matrix[0, 1] = 4.\n",
        "\n",
        "# The original tensor (matrix) is left untouched!\n",
        "print(matrix)\n",
        "print(another_matrix)"
      ],
      "metadata": {
        "id": "J127k_PVlqHN",
        "outputId": "b9a79a62-bc1f-4a99-e6f7-8ba93cfb1f6a",
        "colab": {
          "base_uri": "https://localhost:8080/"
        }
      },
      "execution_count": 19,
      "outputs": [
        {
          "output_type": "stream",
          "name": "stdout",
          "text": [
            "tensor([[1., 2., 1.],\n",
            "        [1., 1., 1.]])\n",
            "tensor([[1., 4., 1., 1., 1., 1.]])\n"
          ]
        }
      ]
    },
    {
      "cell_type": "markdown",
      "source": [
        "###Loading Data, Devices and CUDA"
      ],
      "metadata": {
        "id": "P2h8HWgGtJm6"
      }
    },
    {
      "cell_type": "markdown",
      "source": [
        "It is time to start converting our Numpy code to PyTorch: we’ll start with the\n",
        "training data."
      ],
      "metadata": {
        "id": "xNbU2J2ktKfQ"
      }
    },
    {
      "cell_type": "code",
      "source": [
        "x_train_tensor = torch.as_tensor(x_train)\n",
        "x_train.dtype, x_train_tensor.dtype"
      ],
      "metadata": {
        "id": "i2ZOA43XtLKF",
        "outputId": "6e122668-7c49-4c7a-e3e6-8395f426110d",
        "colab": {
          "base_uri": "https://localhost:8080/"
        }
      },
      "execution_count": 20,
      "outputs": [
        {
          "output_type": "execute_result",
          "data": {
            "text/plain": [
              "(dtype('float64'), torch.float64)"
            ]
          },
          "metadata": {},
          "execution_count": 20
        }
      ]
    },
    {
      "cell_type": "markdown",
      "source": [
        "You can also easily cast it to a different type."
      ],
      "metadata": {
        "id": "IqHPiFmFtnsS"
      }
    },
    {
      "cell_type": "code",
      "source": [
        "float_tensor = x_train_tensor.float()\n",
        "float_tensor.dtype"
      ],
      "metadata": {
        "id": "bhb3xZwXtoRe",
        "outputId": "0572bf46-4a69-49fa-dafd-2f8d02628e9b",
        "colab": {
          "base_uri": "https://localhost:8080/"
        }
      },
      "execution_count": 21,
      "outputs": [
        {
          "output_type": "execute_result",
          "data": {
            "text/plain": [
              "torch.float32"
            ]
          },
          "metadata": {},
          "execution_count": 21
        }
      ]
    },
    {
      "cell_type": "markdown",
      "source": [
        ">**IMPORTANT**: both `as_tensor()` and `from_numpy()` return a\n",
        "tensor that shares the underlying data with the original Numpy\n",
        "array. Similarly to what happened when we used view() in the\n",
        "last section, if you modify the original Numpy array, you’re\n",
        "modifying the corresponding PyTorch tensor too, and vice-versa."
      ],
      "metadata": {
        "id": "j0K4ooSruHnK"
      }
    },
    {
      "cell_type": "code",
      "source": [
        "dummy_array = np.array([1, 2, 3])\n",
        "dummy_tensor = torch.as_tensor(dummy_array)\n",
        "\n",
        "# Modifies the numpy array\n",
        "dummy_array[1] = 0\n",
        "\n",
        "# Tensor gets modified too...\n",
        "dummy_tensor"
      ],
      "metadata": {
        "id": "s1JGislIuNIg",
        "outputId": "cfe0599b-1905-43f6-887f-74fd429f75f4",
        "colab": {
          "base_uri": "https://localhost:8080/"
        }
      },
      "execution_count": 22,
      "outputs": [
        {
          "output_type": "execute_result",
          "data": {
            "text/plain": [
              "tensor([1, 0, 3])"
            ]
          },
          "metadata": {},
          "execution_count": 22
        }
      ]
    },
    {
      "cell_type": "code",
      "source": [
        "dummy_array"
      ],
      "metadata": {
        "id": "ZAU0yUFeunmX",
        "outputId": "bc865488-8c39-4161-d831-b4355f8d4afc",
        "colab": {
          "base_uri": "https://localhost:8080/"
        }
      },
      "execution_count": 23,
      "outputs": [
        {
          "output_type": "execute_result",
          "data": {
            "text/plain": [
              "array([1, 0, 3])"
            ]
          },
          "metadata": {},
          "execution_count": 23
        }
      ]
    },
    {
      "cell_type": "code",
      "source": [
        "# perform the opposite operation, transforming a PyTorch tensor back to a Numpy array\n",
        "dummy_tensor.numpy() "
      ],
      "metadata": {
        "id": "DLl4GTfzutxt",
        "outputId": "f60ec1dc-cfdd-4aa7-cffd-4b06c489bb2d",
        "colab": {
          "base_uri": "https://localhost:8080/"
        }
      },
      "execution_count": 24,
      "outputs": [
        {
          "output_type": "execute_result",
          "data": {
            "text/plain": [
              "array([1, 0, 3])"
            ]
          },
          "metadata": {},
          "execution_count": 24
        }
      ]
    },
    {
      "cell_type": "markdown",
      "source": [
        "So far, we have only created CPU tensors. \n",
        "\n",
        "What does it mean? \n",
        "\n",
        "It means the data in\n",
        "the tensor is stored in the computer’s main memory and any operations performed\n",
        "on it are going to be handled by its CPU.\n",
        "\n",
        "Is there any other kind of tensor?\n",
        "\n",
        "Yes, there is also a GPU tensor. \n",
        "\n",
        "A GPU (which stands for Graphics Processing Unit)\n",
        "is the processor of a graphics card. These tensors store their data in the graphics\n",
        "card’s memory and operations on top of them are performed by the GPU.\n",
        "\n",
        "Let's find out if we have a GPU."
      ],
      "metadata": {
        "id": "txwssrh3xuso"
      }
    },
    {
      "cell_type": "code",
      "source": [
        "device = \"cuda\" if torch.cuda.is_available() else \"cpu\"\n",
        "print(device)"
      ],
      "metadata": {
        "id": "_Utu0cE4yCRk",
        "outputId": "b8f5e093-e56e-4bc6-f127-fb6eb0da7320",
        "colab": {
          "base_uri": "https://localhost:8080/"
        }
      },
      "execution_count": 25,
      "outputs": [
        {
          "output_type": "stream",
          "name": "stdout",
          "text": [
            "cuda\n"
          ]
        }
      ]
    },
    {
      "cell_type": "markdown",
      "source": [
        "Let's figure it out how many GPUs we have."
      ],
      "metadata": {
        "id": "jzEReCm7ysed"
      }
    },
    {
      "cell_type": "code",
      "source": [
        "n_cudas = torch.cuda.device_count()\n",
        "for i in range(n_cudas):\n",
        "  print(torch.cuda.get_device_name(i))"
      ],
      "metadata": {
        "id": "7eRDuC6byxqP",
        "outputId": "f4bdfe52-009a-4b24-91d6-128595ec7dc4",
        "colab": {
          "base_uri": "https://localhost:8080/"
        }
      },
      "execution_count": 26,
      "outputs": [
        {
          "output_type": "stream",
          "name": "stdout",
          "text": [
            "Tesla T4\n"
          ]
        }
      ]
    },
    {
      "cell_type": "markdown",
      "source": [
        "There is only one thing left to do: turn our tensor into a GPU tensor. That’s what\n",
        "`to()` is good for. It sends a tensor to the specified device."
      ],
      "metadata": {
        "id": "ZGqKywkjzlv9"
      }
    },
    {
      "cell_type": "code",
      "source": [
        "gpu_tensor = torch.as_tensor(x_train).to(device)\n",
        "gpu_tensor[0]  # GPU tensor"
      ],
      "metadata": {
        "id": "_UX1wXYUznz7",
        "outputId": "8e92ca5f-e190-4c75-cbd3-37627ec6c3f7",
        "colab": {
          "base_uri": "https://localhost:8080/"
        }
      },
      "execution_count": 27,
      "outputs": [
        {
          "output_type": "execute_result",
          "data": {
            "text/plain": [
              "tensor([0.5227], device='cuda:0', dtype=torch.float64)"
            ]
          },
          "metadata": {},
          "execution_count": 27
        }
      ]
    },
    {
      "cell_type": "code",
      "source": [
        "x_train_tensor[0]  # CPU tensor"
      ],
      "metadata": {
        "id": "SHdNn3S_0yFt",
        "outputId": "d3678ec0-9066-4e01-901d-b407311ae1ce",
        "colab": {
          "base_uri": "https://localhost:8080/"
        }
      },
      "execution_count": 28,
      "outputs": [
        {
          "output_type": "execute_result",
          "data": {
            "text/plain": [
              "tensor([0.5227], dtype=torch.float64)"
            ]
          },
          "metadata": {},
          "execution_count": 28
        }
      ]
    },
    {
      "cell_type": "markdown",
      "source": [
        "Should I use `to(device)`, even if I am using CPU only?\n",
        "\n",
        "Yes, you should, because there is no cost in doing so. If you have only a CPU, your\n",
        "tensor is already a CPU tensor, so nothing will happen. But if you share your code\n",
        "with others on GitHub, whoever has a GPU will benefit from it.\n",
        "\n",
        "Let’s put it all together now and make our training data ready for PyTorch."
      ],
      "metadata": {
        "id": "XDC38rWJ1CPJ"
      }
    },
    {
      "cell_type": "code",
      "source": [
        "device = \"cuda\" if torch.cuda.is_available() else \"cpu\"\n",
        "\n",
        "# Our data was in Numpy arrays, but we need to transform them\n",
        "# into PyTorch's Tensors and then we send them to the chosen device\n",
        "x_train_tensor = torch.as_tensor(x_train).float().to(device)\n",
        "y_train_tensor = torch.as_tensor(y_train).float().to(device)"
      ],
      "metadata": {
        "id": "vOPC3dRA1c78"
      },
      "execution_count": 29,
      "outputs": []
    },
    {
      "cell_type": "markdown",
      "source": [
        "Here we can see the difference - notice that `.type()` is more useful since it also tells us WHERE the tensor is (device)."
      ],
      "metadata": {
        "id": "pd3ut_Z82pQi"
      }
    },
    {
      "cell_type": "code",
      "source": [
        "print(type(x_train), type(x_train_tensor), x_train_tensor.type())  # GPU tensor"
      ],
      "metadata": {
        "id": "UErHp9X22tU2",
        "outputId": "b686469c-70c6-4bd6-8ded-f2de7f01fbc5",
        "colab": {
          "base_uri": "https://localhost:8080/"
        }
      },
      "execution_count": 30,
      "outputs": [
        {
          "output_type": "stream",
          "name": "stdout",
          "text": [
            "<class 'numpy.ndarray'> <class 'torch.Tensor'> torch.cuda.FloatTensor\n"
          ]
        }
      ]
    },
    {
      "cell_type": "code",
      "source": [
        "print(type(dummy_array), type(dummy_tensor), dummy_tensor.type())  # CPU tensor"
      ],
      "metadata": {
        "id": "dMDY9RT43A0W",
        "outputId": "ca9487a2-3c30-4461-ca74-bc987eb6115f",
        "colab": {
          "base_uri": "https://localhost:8080/"
        }
      },
      "execution_count": 31,
      "outputs": [
        {
          "output_type": "stream",
          "name": "stdout",
          "text": [
            "<class 'numpy.ndarray'> <class 'torch.Tensor'> torch.LongTensor\n"
          ]
        }
      ]
    },
    {
      "cell_type": "markdown",
      "source": [
        "But where does the x_train_tensor “live”? Is it a CPU or a GPU tensor? \n",
        "\n",
        "You can’t\n",
        "say… but if you use PyTorch’s `type()`, it will reveal its location — `torch.cuda.FloatTensor` — a GPU tensor in this case.\n",
        "\n",
        "Now, let's see.\n",
        "\n",
        "What if we want to turn a GPU tensor back into a Numpy array?"
      ],
      "metadata": {
        "id": "FTUmvGkm3cw4"
      }
    },
    {
      "cell_type": "code",
      "source": [
        "try:\n",
        "  back_to_numpy = x_train_tensor.numpy()\n",
        "except TypeError:\n",
        "  print(\"TypeError: can't convert cuda:0 device type tensor to numpy. Use Tensor.cpu() to copy the tensor to host memory first.\")"
      ],
      "metadata": {
        "id": "9ciOSjfg3vLw",
        "outputId": "116b963e-ae91-4f13-a391-991205455a2b",
        "colab": {
          "base_uri": "https://localhost:8080/"
        }
      },
      "execution_count": 32,
      "outputs": [
        {
          "output_type": "stream",
          "name": "stdout",
          "text": [
            "TypeError: can't convert cuda:0 device type tensor to numpy. Use Tensor.cpu() to copy the tensor to host memory first.\n"
          ]
        }
      ]
    },
    {
      "cell_type": "markdown",
      "source": [
        "Unfortunately, Numpy cannot handle GPU tensors… you need to make them CPU\n",
        "tensors first using `cpu()`."
      ],
      "metadata": {
        "id": "MEo6Gfpb4BQ1"
      }
    },
    {
      "cell_type": "code",
      "source": [
        "back_to_numpy = x_train_tensor.cpu().numpy()"
      ],
      "metadata": {
        "id": "DLGHsBBO4Dbl"
      },
      "execution_count": 33,
      "outputs": []
    },
    {
      "cell_type": "markdown",
      "source": [
        "So, to avoid this error, use first `cpu()` and then `numpy()`, even if you are using a CPU."
      ],
      "metadata": {
        "id": "uzNx7npJ4Nho"
      }
    },
    {
      "cell_type": "markdown",
      "source": [
        "###Creating Parameters"
      ],
      "metadata": {
        "id": "nCK-G-Mm4P9v"
      }
    },
    {
      "cell_type": "markdown",
      "source": [
        "What distinguishes a tensor used for training data (or validation, or test) — like the\n",
        "ones we’ve just created — from a tensor used as a (trainable) parameter/weight?\n",
        "\n",
        "The latter requires the computation of its gradients, so we can update their values\n",
        "(the parameters’ values, that is). \n",
        "\n",
        "That’s what the `requires_grad=True` argument is\n",
        "good for. It tells PyTorch to compute gradients for us.\n",
        "\n",
        "> A tensor for a learnable parameter requires a gradient!"
      ],
      "metadata": {
        "id": "gEIymB6T4SJ1"
      }
    },
    {
      "cell_type": "code",
      "source": [
        "torch.manual_seed(42)\n",
        "\n",
        "# FIRST\n",
        "# Initializes parameters \"b\" and \"w\" randomly, ALMOST as we\n",
        "# did in Numpy since we want to apply gradient descent on\n",
        "# these parameters we need to set REQUIRES_GRAD = TRUE\n",
        "b = torch.randn(1, requires_grad=True, dtype=torch.float)\n",
        "w = torch.randn(1, requires_grad=True, dtype=torch.float)\n",
        "print(b, w)"
      ],
      "metadata": {
        "id": "oDj4_Y6VrjXC",
        "outputId": "ad69dc7e-f20f-4455-cf40-26ecfd98de89",
        "colab": {
          "base_uri": "https://localhost:8080/"
        }
      },
      "execution_count": 34,
      "outputs": [
        {
          "output_type": "stream",
          "name": "stdout",
          "text": [
            "tensor([0.3367], requires_grad=True) tensor([0.1288], requires_grad=True)\n"
          ]
        }
      ]
    },
    {
      "cell_type": "code",
      "source": [
        "torch.manual_seed(42)\n",
        "\n",
        "# SECOND\n",
        "# But what if we want to run it on a GPU? We could just send them to device, right?\n",
        "b = torch.randn(1, requires_grad=True, dtype=torch.float).to(device)\n",
        "w = torch.randn(1, requires_grad=True, dtype=torch.float).to(device)\n",
        "print(b, w)"
      ],
      "metadata": {
        "id": "ZXi9U1tavKJZ",
        "outputId": "f588151c-0b81-4c1b-adb8-f7611f408d7a",
        "colab": {
          "base_uri": "https://localhost:8080/"
        }
      },
      "execution_count": 35,
      "outputs": [
        {
          "output_type": "stream",
          "name": "stdout",
          "text": [
            "tensor([0.3367], device='cuda:0', grad_fn=<ToCopyBackward0>) tensor([0.1288], device='cuda:0', grad_fn=<ToCopyBackward0>)\n"
          ]
        }
      ]
    },
    {
      "cell_type": "code",
      "source": [
        "torch.manual_seed(42)\n",
        "\n",
        "# THIRD\n",
        "# We can either create regular tensors and send them to the device (as we did with our data)\n",
        "b = torch.randn(1, dtype=torch.float).to(device)\n",
        "w = torch.randn(1, dtype=torch.float).to(device)\n",
        "# and THEN set them as requiring gradients...\n",
        "b.requires_grad_()\n",
        "w.requires_grad_()\n",
        "print(b, w)"
      ],
      "metadata": {
        "id": "32L6EkM5ved4",
        "outputId": "911dee88-57b1-4005-e800-2da973bb627b",
        "colab": {
          "base_uri": "https://localhost:8080/"
        }
      },
      "execution_count": 36,
      "outputs": [
        {
          "output_type": "stream",
          "name": "stdout",
          "text": [
            "tensor([0.3367], device='cuda:0', requires_grad=True) tensor([0.1288], device='cuda:0', requires_grad=True)\n"
          ]
        }
      ]
    },
    {
      "cell_type": "markdown",
      "source": [
        "This approach worked fine; we managed to end up with gradient-requiring GPU\n",
        "tensors for our parameters `b` and `w`. \n",
        "\n",
        "It seems a lot of work, though… Can we do\n",
        "better still?\n",
        "\n",
        "Yes, we can do better: we can assign tensors to a device at the moment of their\n",
        "creation."
      ],
      "metadata": {
        "id": "RTyq7F8Gv8Mx"
      }
    },
    {
      "cell_type": "code",
      "source": [
        "torch.manual_seed(42)\n",
        "\n",
        "# FINAL\n",
        "# We can specify the device at the moment of creation\n",
        "# RECOMMENDED!\n",
        "\n",
        "# Step 0 - Initializes parameters \"b\" and \"w\" randomly\n",
        "b = torch.randn(1, requires_grad=True, dtype=torch.float, device=device)\n",
        "w = torch.randn(1, requires_grad=True, dtype=torch.float, device=device)\n",
        "print(b, w)"
      ],
      "metadata": {
        "id": "HyvDwy8nwARL",
        "outputId": "11b30bc9-2101-4172-8eae-068eb53ab7fd",
        "colab": {
          "base_uri": "https://localhost:8080/"
        }
      },
      "execution_count": 37,
      "outputs": [
        {
          "output_type": "stream",
          "name": "stdout",
          "text": [
            "tensor([0.1940], device='cuda:0', requires_grad=True) tensor([0.1391], device='cuda:0', requires_grad=True)\n"
          ]
        }
      ]
    },
    {
      "cell_type": "markdown",
      "source": [
        "Now that we know how to create tensors that require gradients, let’s see how\n",
        "PyTorch handles them."
      ],
      "metadata": {
        "id": "yyo3pJzzwi6V"
      }
    },
    {
      "cell_type": "markdown",
      "source": [
        "##Autograd"
      ],
      "metadata": {
        "id": "P-1hyTcXwj_w"
      }
    },
    {
      "cell_type": "markdown",
      "source": [
        "Autograd is PyTorch’s automatic differentiation package. Thanks to it, we don’t need\n",
        "to worry about partial derivatives, chain rule, or anything like it.\n",
        "\n",
        "Do you remember the starting point for computing the gradients? \n",
        "\n",
        "It was the loss,\n",
        "as we computed its partial derivatives w.r.t. our parameters. \n",
        "\n",
        "Hence, we need to\n",
        "invoke the `backward()` method from the corresponding Python variable:\n",
        "`loss.backward()`."
      ],
      "metadata": {
        "id": "wTCSiNLnwtk9"
      }
    },
    {
      "cell_type": "code",
      "source": [
        "# Step 1 - Computes our model's predicted output - forward pass\n",
        "yhat = b + w * x_train_tensor\n",
        "\n",
        "# Step 2 - Computes the loss\n",
        "# We are using ALL data points, so this is BATCH gradient descent\n",
        "# How wrong is our model? That's the error! \n",
        "error = (yhat - y_train_tensor)\n",
        "# It is a regression, so it computes mean squared error (MSE)\n",
        "loss = (error ** 2).mean()\n",
        "\n",
        "# Step 3 - Computes gradients for both \"b\" and \"w\" parameters\n",
        "# No more manual computation of gradients! \n",
        "# b_grad = 2 * error.mean()\n",
        "# w_grad = 2 * (x_tensor * error).mean()\n",
        "loss.backward()"
      ],
      "metadata": {
        "id": "1IYeoeWBHyDP"
      },
      "execution_count": 38,
      "outputs": []
    },
    {
      "cell_type": "markdown",
      "source": [
        "Do you see the pattern here? \n",
        "\n",
        "If a tensor in the list is used to compute another\n",
        "tensor, the latter will also be included in the list. Tracking these dependencies is\n",
        "exactly what the dynamic computation graph is doing."
      ],
      "metadata": {
        "id": "cyUMdmUpJTfO"
      }
    },
    {
      "cell_type": "code",
      "source": [
        "print(error.requires_grad, yhat.requires_grad, b.requires_grad, w.requires_grad)\n",
        "print(y_train_tensor.requires_grad, x_train_tensor.requires_grad)"
      ],
      "metadata": {
        "id": "TJXqvhBrJVkT",
        "outputId": "dd056dad-3903-482c-ef6b-08211591a547",
        "colab": {
          "base_uri": "https://localhost:8080/"
        }
      },
      "execution_count": 39,
      "outputs": [
        {
          "output_type": "stream",
          "name": "stdout",
          "text": [
            "True True True True\n",
            "False False\n"
          ]
        }
      ]
    },
    {
      "cell_type": "markdown",
      "source": [
        "What about the actual values of the gradients? \n",
        "\n",
        "We can inspect them by looking at\n",
        "the grad attribute of a tensor."
      ],
      "metadata": {
        "id": "ZqCg5jkOKRgC"
      }
    },
    {
      "cell_type": "code",
      "source": [
        "print(b.grad, w.grad)"
      ],
      "metadata": {
        "id": "0wAoFPquKSv6",
        "outputId": "605d1a34-2760-45fa-9072-c4cb2a6b5bee",
        "colab": {
          "base_uri": "https://localhost:8080/"
        }
      },
      "execution_count": 40,
      "outputs": [
        {
          "output_type": "stream",
          "name": "stdout",
          "text": [
            "tensor([-3.4542], device='cuda:0') tensor([-1.9347], device='cuda:0')\n"
          ]
        }
      ]
    },
    {
      "cell_type": "markdown",
      "source": [
        "If you check the method’s documentation, it clearly states that **gradients are\n",
        "accumulated**. \n",
        "\n",
        "What does it mean? \n",
        "\n",
        "It means that, if we run gradient update twice and check the grad attribute afterward."
      ],
      "metadata": {
        "id": "kiPxOFAWKcVO"
      }
    },
    {
      "cell_type": "code",
      "source": [
        "print(b.grad, w.grad)"
      ],
      "metadata": {
        "id": "3wQ4_IAMKok2",
        "outputId": "0707bd51-f468-4c37-c6b1-250ea73c363e",
        "colab": {
          "base_uri": "https://localhost:8080/"
        }
      },
      "execution_count": 41,
      "outputs": [
        {
          "output_type": "stream",
          "name": "stdout",
          "text": [
            "tensor([-3.4542], device='cuda:0') tensor([-1.9347], device='cuda:0')\n"
          ]
        }
      ]
    },
    {
      "cell_type": "markdown",
      "source": [
        "These gradients' values are exactly twice as much as they were before, as\n",
        "expected!\n",
        "\n",
        "OK, but that is actually a problem: we need to use the gradients corresponding to the current loss to perform the parameter update. \n",
        "\n",
        "We should NOT use\n",
        "accumulated gradients.\n",
        "\n",
        "So, every time we use the gradients to update the parameters, we need to zero the\n",
        "gradients afterward.\n",
        "\n",
        "\n",
        "\n"
      ],
      "metadata": {
        "id": "UB-KiiwEKyCt"
      }
    },
    {
      "cell_type": "code",
      "source": [
        "# This code will be placed _after_ Step 4 (updating the parameters)\n",
        "b.grad.zero_(), w.grad.zero_()"
      ],
      "metadata": {
        "id": "R6IzDoodVAlA",
        "outputId": "cba2c475-19d9-43c9-dcf2-b0adeef9e77f",
        "colab": {
          "base_uri": "https://localhost:8080/"
        }
      },
      "execution_count": 42,
      "outputs": [
        {
          "output_type": "execute_result",
          "data": {
            "text/plain": [
              "(tensor([0.], device='cuda:0'), tensor([0.], device='cuda:0'))"
            ]
          },
          "metadata": {},
          "execution_count": 42
        }
      ]
    },
    {
      "cell_type": "markdown",
      "source": [
        "###Updating Parameters"
      ],
      "metadata": {
        "id": "ujZxCDGaQ0nI"
      }
    },
    {
      "cell_type": "markdown",
      "source": [
        "Unfortunately, our Numpy's code for updating parameters is not enough… why\n",
        "not?! \n",
        "\n",
        "Let’s try it out, simply copying and pasting it (this is the first attempt), changing\n",
        "it slightly (second attempt), and then asking PyTorch to back off (yes, it is PyTorch’s\n",
        "fault!)."
      ],
      "metadata": {
        "id": "IIrjMY3HM3WQ"
      }
    },
    {
      "cell_type": "code",
      "source": [
        "torch.manual_seed(42)\n",
        "\n",
        "# Sets learning rate\n",
        "lr = 0.1\n",
        "\n",
        "# Step 0 - Initializes parameters \"b\" and \"w\" randomly\n",
        "b = torch.randn(1, requires_grad=True, dtype=torch.float, device=device)\n",
        "w = torch.randn(1, requires_grad=True, dtype=torch.float, device=device)\n",
        "\n",
        "# Defines number of epochs\n",
        "n_epochs = 1000\n",
        "\n",
        "for epoch in range(n_epochs):\n",
        "  # Step 1 - Computes model's predicted output - forward pass\n",
        "  yhat = b + w * x_train_tensor\n",
        "\n",
        "  # Step 2 - Computes the loss\n",
        "  error = (yhat - y_train_tensor)\n",
        "  loss = (error ** 2).mean()\n",
        "\n",
        "  # Step 3 - Computes gradients for both \"b\" and \"w\" parameters\n",
        "  # No more manual computation of gradients! \n",
        "  # b_grad = 2 * error.mean()\n",
        "  # w_grad = 2 * (x_tensor * error).mean()   \n",
        "  # We just tell PyTorch to work its way BACKWARDS from the specified loss!\n",
        "  loss.backward()\n",
        "\n",
        "  # Step 4 - Updates parameters using gradients and the learning rate. But not so fast...\n",
        "\n",
        "  # FIRST ATTEMPT - just using the same code as before\n",
        "  # AttributeError: 'NoneType' object has no attribute 'zero_'\n",
        "  # b = b - lr * b.grad\n",
        "  # w = w - lr * w.grad\n",
        "  # print(b)\n",
        "  \n",
        "  # SECOND ATTEMPT - using in-place Python assigment\n",
        "  # RuntimeError: a leaf Variable that requires grad\n",
        "  # has been used in an in-place operation.\n",
        "  # b -= lr * b.grad\n",
        "  # w -= lr * w.grad \n",
        "\n",
        "  # THIRD ATTEMPT - NO_GRAD for the win!\n",
        "  # We need to use NO_GRAD to keep the update out of\n",
        "  # the gradient computation. Why is that? It boils \n",
        "  # down to the DYNAMIC GRAPH that PyTorch uses...\n",
        "  with torch.no_grad():\n",
        "    b -= lr * b.grad\n",
        "    w -= lr * w.grad\n",
        "\n",
        "  # PyTorch is \"clingy\" to its computed gradients, we need to tell it to let it go...\n",
        "  b.grad.zero_() # zero_ prevents gradient accumulation\n",
        "  w.grad.zero_()\n",
        "\n",
        "print(b, w)"
      ],
      "metadata": {
        "id": "pCF_d2tVM3o1",
        "outputId": "d2bd013a-d3cf-482d-9283-437587d238c9",
        "colab": {
          "base_uri": "https://localhost:8080/"
        }
      },
      "execution_count": 43,
      "outputs": [
        {
          "output_type": "stream",
          "name": "stdout",
          "text": [
            "tensor([1.0530], device='cuda:0', requires_grad=True) tensor([1.9958], device='cuda:0', requires_grad=True)\n"
          ]
        }
      ]
    },
    {
      "cell_type": "markdown",
      "source": [
        "###Dynamic Computation Graph"
      ],
      "metadata": {
        "id": "_0PXHilSQ5Al"
      }
    },
    {
      "cell_type": "markdown",
      "source": [
        "The `PyTorchViz` package and its `make_dot(variable)` method allow us to easily\n",
        "visualize a graph associated with a given Python variable involved in the gradient\n",
        "computation.\n",
        "\n"
      ],
      "metadata": {
        "id": "_TKcJt2dQ7Wk"
      }
    },
    {
      "cell_type": "code",
      "source": [
        "torch.manual_seed(42)\n",
        "\n",
        "# Step 0 - Initializes parameters \"b\" and \"w\" randomly\n",
        "b = torch.randn(1, requires_grad=True, dtype=torch.float).to(device)\n",
        "w = torch.randn(1, requires_grad=True, dtype=torch.float).to(device)\n",
        "\n",
        "# Step 1 - Computes our model's predicted output - forward pass\n",
        "yhat = b + w * x_train_tensor\n",
        "\n",
        "# Step 2 - Computes the loss\n",
        "error = (yhat - y_train_tensor)\n",
        "loss = (error ** 2).mean()\n",
        "\n",
        "# We can try plotting the graph for any python variable\n",
        "make_dot(yhat)"
      ],
      "metadata": {
        "id": "QraKDeUrXxJC",
        "outputId": "b424fcec-08b7-4798-a620-c464c261c589",
        "colab": {
          "base_uri": "https://localhost:8080/",
          "height": 0
        }
      },
      "execution_count": 44,
      "outputs": [
        {
          "output_type": "execute_result",
          "data": {
            "text/plain": [
              "<graphviz.dot.Digraph at 0x7fdebc584490>"
            ],
            "image/svg+xml": "<?xml version=\"1.0\" encoding=\"UTF-8\" standalone=\"no\"?>\n<!DOCTYPE svg PUBLIC \"-//W3C//DTD SVG 1.1//EN\"\n \"http://www.w3.org/Graphics/SVG/1.1/DTD/svg11.dtd\">\n<!-- Generated by graphviz version 2.40.1 (20161225.0304)\n -->\n<!-- Title: %3 Pages: 1 -->\n<svg width=\"234pt\" height=\"338pt\"\n viewBox=\"0.00 0.00 234.00 338.00\" xmlns=\"http://www.w3.org/2000/svg\" xmlns:xlink=\"http://www.w3.org/1999/xlink\">\n<g id=\"graph0\" class=\"graph\" transform=\"scale(1 1) rotate(0) translate(4 334)\">\n<title>%3</title>\n<polygon fill=\"#ffffff\" stroke=\"transparent\" points=\"-4,4 -4,-334 230,-334 230,4 -4,4\"/>\n<!-- 140594619303888 -->\n<g id=\"node1\" class=\"node\">\n<title>140594619303888</title>\n<polygon fill=\"#caff70\" stroke=\"#000000\" points=\"144,-31 79,-31 79,0 144,0 144,-31\"/>\n<text text-anchor=\"middle\" x=\"111.5\" y=\"-7\" font-family=\"monospace\" font-size=\"10.00\" fill=\"#000000\"> (80, 1)</text>\n</g>\n<!-- 140596786515664 -->\n<g id=\"node2\" class=\"node\">\n<title>140596786515664</title>\n<polygon fill=\"#d3d3d3\" stroke=\"#000000\" points=\"156,-86 67,-86 67,-67 156,-67 156,-86\"/>\n<text text-anchor=\"middle\" x=\"111.5\" y=\"-74\" font-family=\"monospace\" font-size=\"10.00\" fill=\"#000000\">AddBackward0</text>\n</g>\n<!-- 140596786515664&#45;&gt;140594619303888 -->\n<g id=\"edge8\" class=\"edge\">\n<title>140596786515664&#45;&gt;140594619303888</title>\n<path fill=\"none\" stroke=\"#000000\" d=\"M111.5,-66.9688C111.5,-60.1289 111.5,-50.5621 111.5,-41.5298\"/>\n<polygon fill=\"#000000\" stroke=\"#000000\" points=\"115.0001,-41.3678 111.5,-31.3678 108.0001,-41.3678 115.0001,-41.3678\"/>\n</g>\n<!-- 140596786515728 -->\n<g id=\"node3\" class=\"node\">\n<title>140596786515728</title>\n<polygon fill=\"#d3d3d3\" stroke=\"#000000\" points=\"107,-141 0,-141 0,-122 107,-122 107,-141\"/>\n<text text-anchor=\"middle\" x=\"53.5\" y=\"-129\" font-family=\"monospace\" font-size=\"10.00\" fill=\"#000000\">ToCopyBackward0</text>\n</g>\n<!-- 140596786515728&#45;&gt;140596786515664 -->\n<g id=\"edge1\" class=\"edge\">\n<title>140596786515728&#45;&gt;140596786515664</title>\n<path fill=\"none\" stroke=\"#000000\" d=\"M63.6028,-121.9197C71.9004,-114.0514 83.8537,-102.7164 93.7431,-93.3385\"/>\n<polygon fill=\"#000000\" stroke=\"#000000\" points=\"96.2745,-95.7615 101.1224,-86.3408 91.4578,-90.6821 96.2745,-95.7615\"/>\n</g>\n<!-- 140596786515280 -->\n<g id=\"node4\" class=\"node\">\n<title>140596786515280</title>\n<polygon fill=\"#d3d3d3\" stroke=\"#000000\" points=\"101,-196 0,-196 0,-177 101,-177 101,-196\"/>\n<text text-anchor=\"middle\" x=\"50.5\" y=\"-184\" font-family=\"monospace\" font-size=\"10.00\" fill=\"#000000\">AccumulateGrad</text>\n</g>\n<!-- 140596786515280&#45;&gt;140596786515728 -->\n<g id=\"edge2\" class=\"edge\">\n<title>140596786515280&#45;&gt;140596786515728</title>\n<path fill=\"none\" stroke=\"#000000\" d=\"M51.0226,-176.9197C51.405,-169.9083 51.9376,-160.1442 52.411,-151.4652\"/>\n<polygon fill=\"#000000\" stroke=\"#000000\" points=\"55.9133,-151.5166 52.9632,-141.3408 48.9237,-151.1353 55.9133,-151.5166\"/>\n</g>\n<!-- 140594659542128 -->\n<g id=\"node5\" class=\"node\">\n<title>140594659542128</title>\n<polygon fill=\"#add8e6\" stroke=\"#000000\" points=\"77.5,-263 23.5,-263 23.5,-232 77.5,-232 77.5,-263\"/>\n<text text-anchor=\"middle\" x=\"50.5\" y=\"-239\" font-family=\"monospace\" font-size=\"10.00\" fill=\"#000000\"> (1)</text>\n</g>\n<!-- 140594659542128&#45;&gt;140596786515280 -->\n<g id=\"edge3\" class=\"edge\">\n<title>140594659542128&#45;&gt;140596786515280</title>\n<path fill=\"none\" stroke=\"#000000\" d=\"M50.5,-231.791C50.5,-224.0249 50.5,-214.5706 50.5,-206.3129\"/>\n<polygon fill=\"#000000\" stroke=\"#000000\" points=\"54.0001,-206.0647 50.5,-196.0648 47.0001,-206.0648 54.0001,-206.0647\"/>\n</g>\n<!-- 140596786513424 -->\n<g id=\"node6\" class=\"node\">\n<title>140596786513424</title>\n<polygon fill=\"#d3d3d3\" stroke=\"#000000\" points=\"215,-141 126,-141 126,-122 215,-122 215,-141\"/>\n<text text-anchor=\"middle\" x=\"170.5\" y=\"-129\" font-family=\"monospace\" font-size=\"10.00\" fill=\"#000000\">MulBackward0</text>\n</g>\n<!-- 140596786513424&#45;&gt;140596786515664 -->\n<g id=\"edge4\" class=\"edge\">\n<title>140596786513424&#45;&gt;140596786515664</title>\n<path fill=\"none\" stroke=\"#000000\" d=\"M160.223,-121.9197C151.7824,-114.0514 139.623,-102.7164 129.5631,-93.3385\"/>\n<polygon fill=\"#000000\" stroke=\"#000000\" points=\"131.7578,-90.5995 122.0565,-86.3408 126.9846,-95.7198 131.7578,-90.5995\"/>\n</g>\n<!-- 140594658727248 -->\n<g id=\"node7\" class=\"node\">\n<title>140594658727248</title>\n<polygon fill=\"#d3d3d3\" stroke=\"#000000\" points=\"226,-196 119,-196 119,-177 226,-177 226,-196\"/>\n<text text-anchor=\"middle\" x=\"172.5\" y=\"-184\" font-family=\"monospace\" font-size=\"10.00\" fill=\"#000000\">ToCopyBackward0</text>\n</g>\n<!-- 140594658727248&#45;&gt;140596786513424 -->\n<g id=\"edge5\" class=\"edge\">\n<title>140594658727248&#45;&gt;140596786513424</title>\n<path fill=\"none\" stroke=\"#000000\" d=\"M172.1516,-176.9197C171.8967,-169.9083 171.5416,-160.1442 171.226,-151.4652\"/>\n<polygon fill=\"#000000\" stroke=\"#000000\" points=\"174.719,-151.207 170.8578,-141.3408 167.7237,-151.4614 174.719,-151.207\"/>\n</g>\n<!-- 140596498539216 -->\n<g id=\"node8\" class=\"node\">\n<title>140596498539216</title>\n<polygon fill=\"#d3d3d3\" stroke=\"#000000\" points=\"223,-257 122,-257 122,-238 223,-238 223,-257\"/>\n<text text-anchor=\"middle\" x=\"172.5\" y=\"-245\" font-family=\"monospace\" font-size=\"10.00\" fill=\"#000000\">AccumulateGrad</text>\n</g>\n<!-- 140596498539216&#45;&gt;140594658727248 -->\n<g id=\"edge6\" class=\"edge\">\n<title>140596498539216&#45;&gt;140594658727248</title>\n<path fill=\"none\" stroke=\"#000000\" d=\"M172.5,-237.9688C172.5,-229.5131 172.5,-216.8901 172.5,-206.2615\"/>\n<polygon fill=\"#000000\" stroke=\"#000000\" points=\"176.0001,-206.1656 172.5,-196.1656 169.0001,-206.1657 176.0001,-206.1656\"/>\n</g>\n<!-- 140594659541936 -->\n<g id=\"node9\" class=\"node\">\n<title>140594659541936</title>\n<polygon fill=\"#add8e6\" stroke=\"#000000\" points=\"199.5,-330 145.5,-330 145.5,-299 199.5,-299 199.5,-330\"/>\n<text text-anchor=\"middle\" x=\"172.5\" y=\"-306\" font-family=\"monospace\" font-size=\"10.00\" fill=\"#000000\"> (1)</text>\n</g>\n<!-- 140594659541936&#45;&gt;140596498539216 -->\n<g id=\"edge7\" class=\"edge\">\n<title>140594659541936&#45;&gt;140596498539216</title>\n<path fill=\"none\" stroke=\"#000000\" d=\"M172.5,-298.9604C172.5,-289.6356 172.5,-277.6748 172.5,-267.6317\"/>\n<polygon fill=\"#000000\" stroke=\"#000000\" points=\"176.0001,-267.35 172.5,-257.3501 169.0001,-267.3501 176.0001,-267.35\"/>\n</g>\n</g>\n</svg>\n"
          },
          "metadata": {},
          "execution_count": 44
        }
      ]
    },
    {
      "cell_type": "markdown",
      "source": [
        "So, even though there are more tensors involved in the operations performed by\n",
        "the computation graph, it only shows gradient-computing tensors and its\n",
        "dependencies.\n",
        "\n",
        "What would happen to the computation graph if we set `requires_grad` to False for\n",
        "our parameter `b`?"
      ],
      "metadata": {
        "id": "x1dY9QWBZltK"
      }
    },
    {
      "cell_type": "code",
      "source": [
        "torch.manual_seed(42)\n",
        "\n",
        "# Step 0 - Initializes parameters \"b\" and \"w\" randomly\n",
        "b_no_grad = torch.randn(1, requires_grad=False, dtype=torch.float).to(device)\n",
        "w = torch.randn(1, requires_grad=True, dtype=torch.float).to(device)\n",
        "\n",
        "# Step 1 - Computes our model's predicted output - forward pass\n",
        "yhat = b_no_grad + w * x_train_tensor\n",
        "\n",
        "make_dot(yhat)"
      ],
      "metadata": {
        "id": "MlvRH-J_Zo0r",
        "outputId": "231858ad-8097-4b90-b727-4e6b115500bc",
        "colab": {
          "base_uri": "https://localhost:8080/",
          "height": 0
        }
      },
      "execution_count": 45,
      "outputs": [
        {
          "output_type": "execute_result",
          "data": {
            "text/plain": [
              "<graphviz.dot.Digraph at 0x7fdebca87d50>"
            ],
            "image/svg+xml": "<?xml version=\"1.0\" encoding=\"UTF-8\" standalone=\"no\"?>\n<!DOCTYPE svg PUBLIC \"-//W3C//DTD SVG 1.1//EN\"\n \"http://www.w3.org/Graphics/SVG/1.1/DTD/svg11.dtd\">\n<!-- Generated by graphviz version 2.40.1 (20161225.0304)\n -->\n<!-- Title: %3 Pages: 1 -->\n<svg width=\"115pt\" height=\"326pt\"\n viewBox=\"0.00 0.00 115.00 326.00\" xmlns=\"http://www.w3.org/2000/svg\" xmlns:xlink=\"http://www.w3.org/1999/xlink\">\n<g id=\"graph0\" class=\"graph\" transform=\"scale(1 1) rotate(0) translate(4 322)\">\n<title>%3</title>\n<polygon fill=\"#ffffff\" stroke=\"transparent\" points=\"-4,4 -4,-322 111,-322 111,4 -4,4\"/>\n<!-- 140594624767952 -->\n<g id=\"node1\" class=\"node\">\n<title>140594624767952</title>\n<polygon fill=\"#caff70\" stroke=\"#000000\" points=\"86,-31 21,-31 21,0 86,0 86,-31\"/>\n<text text-anchor=\"middle\" x=\"53.5\" y=\"-7\" font-family=\"monospace\" font-size=\"10.00\" fill=\"#000000\"> (80, 1)</text>\n</g>\n<!-- 140594619771472 -->\n<g id=\"node2\" class=\"node\">\n<title>140594619771472</title>\n<polygon fill=\"#d3d3d3\" stroke=\"#000000\" points=\"98,-86 9,-86 9,-67 98,-67 98,-86\"/>\n<text text-anchor=\"middle\" x=\"53.5\" y=\"-74\" font-family=\"monospace\" font-size=\"10.00\" fill=\"#000000\">AddBackward0</text>\n</g>\n<!-- 140594619771472&#45;&gt;140594624767952 -->\n<g id=\"edge5\" class=\"edge\">\n<title>140594619771472&#45;&gt;140594624767952</title>\n<path fill=\"none\" stroke=\"#000000\" d=\"M53.5,-66.9688C53.5,-60.1289 53.5,-50.5621 53.5,-41.5298\"/>\n<polygon fill=\"#000000\" stroke=\"#000000\" points=\"57.0001,-41.3678 53.5,-31.3678 50.0001,-41.3678 57.0001,-41.3678\"/>\n</g>\n<!-- 140594619771536 -->\n<g id=\"node3\" class=\"node\">\n<title>140594619771536</title>\n<polygon fill=\"#d3d3d3\" stroke=\"#000000\" points=\"98,-141 9,-141 9,-122 98,-122 98,-141\"/>\n<text text-anchor=\"middle\" x=\"53.5\" y=\"-129\" font-family=\"monospace\" font-size=\"10.00\" fill=\"#000000\">MulBackward0</text>\n</g>\n<!-- 140594619771536&#45;&gt;140594619771472 -->\n<g id=\"edge1\" class=\"edge\">\n<title>140594619771536&#45;&gt;140594619771472</title>\n<path fill=\"none\" stroke=\"#000000\" d=\"M53.5,-121.9197C53.5,-114.9083 53.5,-105.1442 53.5,-96.4652\"/>\n<polygon fill=\"#000000\" stroke=\"#000000\" points=\"57.0001,-96.3408 53.5,-86.3408 50.0001,-96.3409 57.0001,-96.3408\"/>\n</g>\n<!-- 140594658471504 -->\n<g id=\"node4\" class=\"node\">\n<title>140594658471504</title>\n<polygon fill=\"#d3d3d3\" stroke=\"#000000\" points=\"107,-196 0,-196 0,-177 107,-177 107,-196\"/>\n<text text-anchor=\"middle\" x=\"53.5\" y=\"-184\" font-family=\"monospace\" font-size=\"10.00\" fill=\"#000000\">ToCopyBackward0</text>\n</g>\n<!-- 140594658471504&#45;&gt;140594619771536 -->\n<g id=\"edge2\" class=\"edge\">\n<title>140594658471504&#45;&gt;140594619771536</title>\n<path fill=\"none\" stroke=\"#000000\" d=\"M53.5,-176.9197C53.5,-169.9083 53.5,-160.1442 53.5,-151.4652\"/>\n<polygon fill=\"#000000\" stroke=\"#000000\" points=\"57.0001,-151.3408 53.5,-141.3408 50.0001,-151.3409 57.0001,-151.3408\"/>\n</g>\n<!-- 140594619727440 -->\n<g id=\"node5\" class=\"node\">\n<title>140594619727440</title>\n<polygon fill=\"#d3d3d3\" stroke=\"#000000\" points=\"104,-251 3,-251 3,-232 104,-232 104,-251\"/>\n<text text-anchor=\"middle\" x=\"53.5\" y=\"-239\" font-family=\"monospace\" font-size=\"10.00\" fill=\"#000000\">AccumulateGrad</text>\n</g>\n<!-- 140594619727440&#45;&gt;140594658471504 -->\n<g id=\"edge3\" class=\"edge\">\n<title>140594619727440&#45;&gt;140594658471504</title>\n<path fill=\"none\" stroke=\"#000000\" d=\"M53.5,-231.9197C53.5,-224.9083 53.5,-215.1442 53.5,-206.4652\"/>\n<polygon fill=\"#000000\" stroke=\"#000000\" points=\"57.0001,-206.3408 53.5,-196.3408 50.0001,-206.3409 57.0001,-206.3408\"/>\n</g>\n<!-- 140594659542032 -->\n<g id=\"node6\" class=\"node\">\n<title>140594659542032</title>\n<polygon fill=\"#add8e6\" stroke=\"#000000\" points=\"80.5,-318 26.5,-318 26.5,-287 80.5,-287 80.5,-318\"/>\n<text text-anchor=\"middle\" x=\"53.5\" y=\"-294\" font-family=\"monospace\" font-size=\"10.00\" fill=\"#000000\"> (1)</text>\n</g>\n<!-- 140594659542032&#45;&gt;140594619727440 -->\n<g id=\"edge4\" class=\"edge\">\n<title>140594659542032&#45;&gt;140594619727440</title>\n<path fill=\"none\" stroke=\"#000000\" d=\"M53.5,-286.791C53.5,-279.0249 53.5,-269.5706 53.5,-261.3129\"/>\n<polygon fill=\"#000000\" stroke=\"#000000\" points=\"57.0001,-261.0647 53.5,-251.0648 50.0001,-261.0648 57.0001,-261.0647\"/>\n</g>\n</g>\n</svg>\n"
          },
          "metadata": {},
          "execution_count": 45
        }
      ]
    },
    {
      "cell_type": "markdown",
      "source": [
        ">Simple enough: no gradients, no graph!\n",
        "\n",
        "The best thing about the dynamic computation graph is the fact that you can make it as complex as you want it. You can even use control flow statements (e.g., if\n",
        "statements) to control the flow of the gradients."
      ],
      "metadata": {
        "id": "w2x1-thMaG0s"
      }
    },
    {
      "cell_type": "code",
      "source": [
        "torch.manual_seed(42)\n",
        "\n",
        "# Step 0 - Initializes parameters \"b\" and \"w\" randomly\n",
        "b = torch.randn(1, requires_grad=True, dtype=torch.float).to(device)\n",
        "w = torch.randn(1, requires_grad=True, dtype=torch.float).to(device)\n",
        "\n",
        "# Step 1 - Computes our model's predicted output - forward pass\n",
        "yhat = b + w * x_train_tensor\n",
        "\n",
        "# Step 2 - Computes the loss\n",
        "error = (yhat - y_train_tensor)\n",
        "loss = (error ** 2).mean()\n",
        "\n",
        "# this makes no sense!!\n",
        "if loss > 0:\n",
        "  yhat2 = w * x_train_tensor\n",
        "  error2 = (yhat2 - y_train_tensor)\n",
        "# neither does this :-)\n",
        "loss += error2.mean()\n",
        "\n",
        "# We can try plotting the graph for any python variable\n",
        "make_dot(loss)"
      ],
      "metadata": {
        "id": "vYVtlt5PaVCh",
        "outputId": "272098b8-76d7-48bd-e324-d35bd54622a7",
        "colab": {
          "base_uri": "https://localhost:8080/",
          "height": 0
        }
      },
      "execution_count": 46,
      "outputs": [
        {
          "output_type": "execute_result",
          "data": {
            "text/plain": [
              "<graphviz.dot.Digraph at 0x7fdebc578d90>"
            ],
            "image/svg+xml": "<?xml version=\"1.0\" encoding=\"UTF-8\" standalone=\"no\"?>\n<!DOCTYPE svg PUBLIC \"-//W3C//DTD SVG 1.1//EN\"\n \"http://www.w3.org/Graphics/SVG/1.1/DTD/svg11.dtd\">\n<!-- Generated by graphviz version 2.40.1 (20161225.0304)\n -->\n<!-- Title: %3 Pages: 1 -->\n<svg width=\"332pt\" height=\"558pt\"\n viewBox=\"0.00 0.00 332.00 558.00\" xmlns=\"http://www.w3.org/2000/svg\" xmlns:xlink=\"http://www.w3.org/1999/xlink\">\n<g id=\"graph0\" class=\"graph\" transform=\"scale(1 1) rotate(0) translate(4 554)\">\n<title>%3</title>\n<polygon fill=\"#ffffff\" stroke=\"transparent\" points=\"-4,4 -4,-554 328,-554 328,4 -4,4\"/>\n<!-- 140594624697456 -->\n<g id=\"node1\" class=\"node\">\n<title>140594624697456</title>\n<polygon fill=\"#caff70\" stroke=\"#000000\" points=\"248.5,-31 194.5,-31 194.5,0 248.5,0 248.5,-31\"/>\n<text text-anchor=\"middle\" x=\"221.5\" y=\"-7\" font-family=\"monospace\" font-size=\"10.00\" fill=\"#000000\"> ()</text>\n</g>\n<!-- 140594619451728 -->\n<g id=\"node2\" class=\"node\">\n<title>140594619451728</title>\n<polygon fill=\"#d3d3d3\" stroke=\"#000000\" points=\"266,-86 177,-86 177,-67 266,-67 266,-86\"/>\n<text text-anchor=\"middle\" x=\"221.5\" y=\"-74\" font-family=\"monospace\" font-size=\"10.00\" fill=\"#000000\">AddBackward0</text>\n</g>\n<!-- 140594619451728&#45;&gt;140594624697456 -->\n<g id=\"edge16\" class=\"edge\">\n<title>140594619451728&#45;&gt;140594624697456</title>\n<path fill=\"none\" stroke=\"#000000\" d=\"M221.5,-66.9688C221.5,-60.1289 221.5,-50.5621 221.5,-41.5298\"/>\n<polygon fill=\"#000000\" stroke=\"#000000\" points=\"225.0001,-41.3678 221.5,-31.3678 218.0001,-41.3678 225.0001,-41.3678\"/>\n</g>\n<!-- 140594619322064 -->\n<g id=\"node3\" class=\"node\">\n<title>140594619322064</title>\n<polygon fill=\"#d3d3d3\" stroke=\"#000000\" points=\"231,-141 136,-141 136,-122 231,-122 231,-141\"/>\n<text text-anchor=\"middle\" x=\"183.5\" y=\"-129\" font-family=\"monospace\" font-size=\"10.00\" fill=\"#000000\">MeanBackward0</text>\n</g>\n<!-- 140594619322064&#45;&gt;140594619451728 -->\n<g id=\"edge1\" class=\"edge\">\n<title>140594619322064&#45;&gt;140594619451728</title>\n<path fill=\"none\" stroke=\"#000000\" d=\"M190.1191,-121.9197C195.2863,-114.4409 202.6174,-103.8301 208.8944,-94.745\"/>\n<polygon fill=\"#000000\" stroke=\"#000000\" points=\"211.8961,-96.5577 214.7009,-86.3408 206.137,-92.5786 211.8961,-96.5577\"/>\n</g>\n<!-- 140594624747792 -->\n<g id=\"node4\" class=\"node\">\n<title>140594624747792</title>\n<polygon fill=\"#d3d3d3\" stroke=\"#000000\" points=\"211,-196 122,-196 122,-177 211,-177 211,-196\"/>\n<text text-anchor=\"middle\" x=\"166.5\" y=\"-184\" font-family=\"monospace\" font-size=\"10.00\" fill=\"#000000\">PowBackward0</text>\n</g>\n<!-- 140594624747792&#45;&gt;140594619322064 -->\n<g id=\"edge2\" class=\"edge\">\n<title>140594624747792&#45;&gt;140594619322064</title>\n<path fill=\"none\" stroke=\"#000000\" d=\"M169.4612,-176.9197C171.6524,-169.8304 174.7135,-159.9269 177.4182,-151.1763\"/>\n<polygon fill=\"#000000\" stroke=\"#000000\" points=\"180.8491,-151.9285 180.4583,-141.3408 174.1612,-149.8613 180.8491,-151.9285\"/>\n</g>\n<!-- 140594619415184 -->\n<g id=\"node5\" class=\"node\">\n<title>140594619415184</title>\n<polygon fill=\"#d3d3d3\" stroke=\"#000000\" points=\"211,-251 122,-251 122,-232 211,-232 211,-251\"/>\n<text text-anchor=\"middle\" x=\"166.5\" y=\"-239\" font-family=\"monospace\" font-size=\"10.00\" fill=\"#000000\">SubBackward0</text>\n</g>\n<!-- 140594619415184&#45;&gt;140594624747792 -->\n<g id=\"edge3\" class=\"edge\">\n<title>140594619415184&#45;&gt;140594624747792</title>\n<path fill=\"none\" stroke=\"#000000\" d=\"M166.5,-231.9197C166.5,-224.9083 166.5,-215.1442 166.5,-206.4652\"/>\n<polygon fill=\"#000000\" stroke=\"#000000\" points=\"170.0001,-206.3408 166.5,-196.3408 163.0001,-206.3409 170.0001,-206.3408\"/>\n</g>\n<!-- 140594619415504 -->\n<g id=\"node6\" class=\"node\">\n<title>140594619415504</title>\n<polygon fill=\"#d3d3d3\" stroke=\"#000000\" points=\"211,-306 122,-306 122,-287 211,-287 211,-306\"/>\n<text text-anchor=\"middle\" x=\"166.5\" y=\"-294\" font-family=\"monospace\" font-size=\"10.00\" fill=\"#000000\">AddBackward0</text>\n</g>\n<!-- 140594619415504&#45;&gt;140594619415184 -->\n<g id=\"edge4\" class=\"edge\">\n<title>140594619415504&#45;&gt;140594619415184</title>\n<path fill=\"none\" stroke=\"#000000\" d=\"M166.5,-286.9197C166.5,-279.9083 166.5,-270.1442 166.5,-261.4652\"/>\n<polygon fill=\"#000000\" stroke=\"#000000\" points=\"170.0001,-261.3408 166.5,-251.3408 163.0001,-261.3409 170.0001,-261.3408\"/>\n</g>\n<!-- 140594619413584 -->\n<g id=\"node7\" class=\"node\">\n<title>140594619413584</title>\n<polygon fill=\"#d3d3d3\" stroke=\"#000000\" points=\"107,-361 0,-361 0,-342 107,-342 107,-361\"/>\n<text text-anchor=\"middle\" x=\"53.5\" y=\"-349\" font-family=\"monospace\" font-size=\"10.00\" fill=\"#000000\">ToCopyBackward0</text>\n</g>\n<!-- 140594619413584&#45;&gt;140594619415504 -->\n<g id=\"edge5\" class=\"edge\">\n<title>140594619413584&#45;&gt;140594619415504</title>\n<path fill=\"none\" stroke=\"#000000\" d=\"M73.1831,-341.9197C90.9787,-333.2581 117.4052,-320.3957 137.5977,-310.5675\"/>\n<polygon fill=\"#000000\" stroke=\"#000000\" points=\"139.2036,-313.6785 146.6633,-306.155 136.14,-307.3844 139.2036,-313.6785\"/>\n</g>\n<!-- 140594619415888 -->\n<g id=\"node8\" class=\"node\">\n<title>140594619415888</title>\n<polygon fill=\"#d3d3d3\" stroke=\"#000000\" points=\"104,-416 3,-416 3,-397 104,-397 104,-416\"/>\n<text text-anchor=\"middle\" x=\"53.5\" y=\"-404\" font-family=\"monospace\" font-size=\"10.00\" fill=\"#000000\">AccumulateGrad</text>\n</g>\n<!-- 140594619415888&#45;&gt;140594619413584 -->\n<g id=\"edge6\" class=\"edge\">\n<title>140594619415888&#45;&gt;140594619413584</title>\n<path fill=\"none\" stroke=\"#000000\" d=\"M53.5,-396.9197C53.5,-389.9083 53.5,-380.1442 53.5,-371.4652\"/>\n<polygon fill=\"#000000\" stroke=\"#000000\" points=\"57.0001,-371.3408 53.5,-361.3408 50.0001,-371.3409 57.0001,-371.3408\"/>\n</g>\n<!-- 140594619410576 -->\n<g id=\"node9\" class=\"node\">\n<title>140594619410576</title>\n<polygon fill=\"#add8e6\" stroke=\"#000000\" points=\"80.5,-483 26.5,-483 26.5,-452 80.5,-452 80.5,-483\"/>\n<text text-anchor=\"middle\" x=\"53.5\" y=\"-459\" font-family=\"monospace\" font-size=\"10.00\" fill=\"#000000\"> (1)</text>\n</g>\n<!-- 140594619410576&#45;&gt;140594619415888 -->\n<g id=\"edge7\" class=\"edge\">\n<title>140594619410576&#45;&gt;140594619415888</title>\n<path fill=\"none\" stroke=\"#000000\" d=\"M53.5,-451.791C53.5,-444.0249 53.5,-434.5706 53.5,-426.3129\"/>\n<polygon fill=\"#000000\" stroke=\"#000000\" points=\"57.0001,-426.0647 53.5,-416.0648 50.0001,-426.0648 57.0001,-426.0647\"/>\n</g>\n<!-- 140594619415120 -->\n<g id=\"node10\" class=\"node\">\n<title>140594619415120</title>\n<polygon fill=\"#d3d3d3\" stroke=\"#000000\" points=\"214,-361 125,-361 125,-342 214,-342 214,-361\"/>\n<text text-anchor=\"middle\" x=\"169.5\" y=\"-349\" font-family=\"monospace\" font-size=\"10.00\" fill=\"#000000\">MulBackward0</text>\n</g>\n<!-- 140594619415120&#45;&gt;140594619415504 -->\n<g id=\"edge8\" class=\"edge\">\n<title>140594619415120&#45;&gt;140594619415504</title>\n<path fill=\"none\" stroke=\"#000000\" d=\"M168.9774,-341.9197C168.595,-334.9083 168.0624,-325.1442 167.589,-316.4652\"/>\n<polygon fill=\"#000000\" stroke=\"#000000\" points=\"171.0763,-316.1353 167.0368,-306.3408 164.0867,-316.5166 171.0763,-316.1353\"/>\n</g>\n<!-- 140594619413008 -->\n<g id=\"node11\" class=\"node\">\n<title>140594619413008</title>\n<polygon fill=\"#d3d3d3\" stroke=\"#000000\" points=\"279,-416 172,-416 172,-397 279,-397 279,-416\"/>\n<text text-anchor=\"middle\" x=\"225.5\" y=\"-404\" font-family=\"monospace\" font-size=\"10.00\" fill=\"#000000\">ToCopyBackward0</text>\n</g>\n<!-- 140594619413008&#45;&gt;140594619415120 -->\n<g id=\"edge9\" class=\"edge\">\n<title>140594619413008&#45;&gt;140594619415120</title>\n<path fill=\"none\" stroke=\"#000000\" d=\"M215.7455,-396.9197C207.8135,-389.1293 196.4212,-377.9405 186.9288,-368.6176\"/>\n<polygon fill=\"#000000\" stroke=\"#000000\" points=\"189.1068,-365.8509 179.5198,-361.3408 184.2018,-370.845 189.1068,-365.8509\"/>\n</g>\n<!-- 140594619416080 -->\n<g id=\"node16\" class=\"node\">\n<title>140594619416080</title>\n<polygon fill=\"#d3d3d3\" stroke=\"#000000\" points=\"321,-361 232,-361 232,-342 321,-342 321,-361\"/>\n<text text-anchor=\"middle\" x=\"276.5\" y=\"-349\" font-family=\"monospace\" font-size=\"10.00\" fill=\"#000000\">MulBackward0</text>\n</g>\n<!-- 140594619413008&#45;&gt;140594619416080 -->\n<g id=\"edge15\" class=\"edge\">\n<title>140594619413008&#45;&gt;140594619416080</title>\n<path fill=\"none\" stroke=\"#000000\" d=\"M234.3835,-396.9197C241.5352,-389.2072 251.7753,-378.1639 260.3675,-368.8978\"/>\n<polygon fill=\"#000000\" stroke=\"#000000\" points=\"263.1419,-371.0533 267.3749,-361.3408 258.009,-366.2937 263.1419,-371.0533\"/>\n</g>\n<!-- 140594619413264 -->\n<g id=\"node12\" class=\"node\">\n<title>140594619413264</title>\n<polygon fill=\"#d3d3d3\" stroke=\"#000000\" points=\"276,-477 175,-477 175,-458 276,-458 276,-477\"/>\n<text text-anchor=\"middle\" x=\"225.5\" y=\"-465\" font-family=\"monospace\" font-size=\"10.00\" fill=\"#000000\">AccumulateGrad</text>\n</g>\n<!-- 140594619413264&#45;&gt;140594619413008 -->\n<g id=\"edge10\" class=\"edge\">\n<title>140594619413264&#45;&gt;140594619413008</title>\n<path fill=\"none\" stroke=\"#000000\" d=\"M225.5,-457.9688C225.5,-449.5131 225.5,-436.8901 225.5,-426.2615\"/>\n<polygon fill=\"#000000\" stroke=\"#000000\" points=\"229.0001,-426.1656 225.5,-416.1656 222.0001,-426.1657 229.0001,-426.1656\"/>\n</g>\n<!-- 140594619412304 -->\n<g id=\"node13\" class=\"node\">\n<title>140594619412304</title>\n<polygon fill=\"#add8e6\" stroke=\"#000000\" points=\"252.5,-550 198.5,-550 198.5,-519 252.5,-519 252.5,-550\"/>\n<text text-anchor=\"middle\" x=\"225.5\" y=\"-526\" font-family=\"monospace\" font-size=\"10.00\" fill=\"#000000\"> (1)</text>\n</g>\n<!-- 140594619412304&#45;&gt;140594619413264 -->\n<g id=\"edge11\" class=\"edge\">\n<title>140594619412304&#45;&gt;140594619413264</title>\n<path fill=\"none\" stroke=\"#000000\" d=\"M225.5,-518.9604C225.5,-509.6356 225.5,-497.6748 225.5,-487.6317\"/>\n<polygon fill=\"#000000\" stroke=\"#000000\" points=\"229.0001,-487.35 225.5,-477.3501 222.0001,-487.3501 229.0001,-487.35\"/>\n</g>\n<!-- 140594619319184 -->\n<g id=\"node14\" class=\"node\">\n<title>140594619319184</title>\n<polygon fill=\"#d3d3d3\" stroke=\"#000000\" points=\"324,-196 229,-196 229,-177 324,-177 324,-196\"/>\n<text text-anchor=\"middle\" x=\"276.5\" y=\"-184\" font-family=\"monospace\" font-size=\"10.00\" fill=\"#000000\">MeanBackward0</text>\n</g>\n<!-- 140594619319184&#45;&gt;140594619451728 -->\n<g id=\"edge12\" class=\"edge\">\n<title>140594619319184&#45;&gt;140594619451728</title>\n<path fill=\"none\" stroke=\"#000000\" d=\"M271.6191,-176.7382C262.4636,-158.4271 242.5757,-118.6514 230.791,-95.082\"/>\n<polygon fill=\"#000000\" stroke=\"#000000\" points=\"233.8941,-93.4618 226.2914,-86.0828 227.6331,-96.5924 233.8941,-93.4618\"/>\n</g>\n<!-- 140594624745744 -->\n<g id=\"node15\" class=\"node\">\n<title>140594624745744</title>\n<polygon fill=\"#d3d3d3\" stroke=\"#000000\" points=\"321,-306 232,-306 232,-287 321,-287 321,-306\"/>\n<text text-anchor=\"middle\" x=\"276.5\" y=\"-294\" font-family=\"monospace\" font-size=\"10.00\" fill=\"#000000\">SubBackward0</text>\n</g>\n<!-- 140594624745744&#45;&gt;140594619319184 -->\n<g id=\"edge13\" class=\"edge\">\n<title>140594624745744&#45;&gt;140594619319184</title>\n<path fill=\"none\" stroke=\"#000000\" d=\"M276.5,-286.7382C276.5,-268.7541 276.5,-230.0652 276.5,-206.3599\"/>\n<polygon fill=\"#000000\" stroke=\"#000000\" points=\"280.0001,-206.0828 276.5,-196.0828 273.0001,-206.0829 280.0001,-206.0828\"/>\n</g>\n<!-- 140594619416080&#45;&gt;140594624745744 -->\n<g id=\"edge14\" class=\"edge\">\n<title>140594619416080&#45;&gt;140594624745744</title>\n<path fill=\"none\" stroke=\"#000000\" d=\"M276.5,-341.9197C276.5,-334.9083 276.5,-325.1442 276.5,-316.4652\"/>\n<polygon fill=\"#000000\" stroke=\"#000000\" points=\"280.0001,-316.3408 276.5,-306.3408 273.0001,-316.3409 280.0001,-316.3408\"/>\n</g>\n</g>\n</svg>\n"
          },
          "metadata": {},
          "execution_count": 46
        }
      ]
    },
    {
      "cell_type": "markdown",
      "source": [
        "Even though the computation is nonsensical, you can clearly see the effect of\n",
        "adding a control flow statement.\n",
        "\n"
      ],
      "metadata": {
        "id": "rZ8LQ0vbbF4K"
      }
    },
    {
      "cell_type": "markdown",
      "source": [
        "##Optimizer"
      ],
      "metadata": {
        "id": "4Nk1CaQcbJk-"
      }
    },
    {
      "cell_type": "markdown",
      "source": [
        "An optimizer takes the parameters we want to update, the learning rate we want\n",
        "to use (and possibly many other hyper-parameters as well!), and performs the\n",
        "updates through its `step()` method.\n",
        "\n",
        "Besides, we also don’t need to zero the gradients one by one anymore. We just\n",
        "invoke the optimizer’s `zero_grad()` method, and that’s it!"
      ],
      "metadata": {
        "id": "eaf0dzELbKon"
      }
    },
    {
      "cell_type": "code",
      "source": [
        "torch.manual_seed(42)\n",
        "\n",
        "# Sets learning rate\n",
        "lr = 0.1\n",
        "\n",
        "# Step 0 - Initializes parameters \"b\" and \"w\" randomly\n",
        "b = torch.randn(1, requires_grad=True, dtype=torch.float, device=device)\n",
        "w = torch.randn(1, requires_grad=True, dtype=torch.float, device=device)\n",
        "\n",
        "# Defines a SGD optimizer to update the parameters\n",
        "optimizer = optim.SGD([b, w], lr=lr)\n",
        "# Defines number of epochs\n",
        "n_epochs = 1000\n",
        "\n",
        "for epoch in range(n_epochs):\n",
        "  # Step 1 - Computes model's predicted output - forward pass\n",
        "  yhat = b + w * x_train_tensor\n",
        "\n",
        "  # Step 2 - Computes the loss\n",
        "  error = (yhat - y_train_tensor)\n",
        "  loss = (error ** 2).mean()\n",
        "\n",
        "  # Step 3 - Computes gradients for both \"b\" and \"w\" parameters\n",
        "  loss.backward()\n",
        "\n",
        "  # Step 4 - Updates parameters using gradients and the learning rate. But not so fast...\n",
        "\n",
        "  # the learning rate. No more manual update!\n",
        "  # with torch.no_grad():\n",
        "  #     b -= lr * b.grad\n",
        "  #     w -= lr * w.grad\n",
        "  optimizer.step()\n",
        "\n",
        "  # No more telling Pytorch to let gradients go!\n",
        "  # b.grad.zero_()\n",
        "  # w.grad.zero_()\n",
        "  optimizer.zero_grad()\n",
        "\n",
        "print(b, w)"
      ],
      "metadata": {
        "id": "fr2HTVn4hw3O",
        "outputId": "a250fba7-88ac-4c1f-b245-7e9bbefab03b",
        "colab": {
          "base_uri": "https://localhost:8080/"
        }
      },
      "execution_count": 47,
      "outputs": [
        {
          "output_type": "stream",
          "name": "stdout",
          "text": [
            "tensor([1.0530], device='cuda:0', requires_grad=True) tensor([1.9958], device='cuda:0', requires_grad=True)\n"
          ]
        }
      ]
    },
    {
      "cell_type": "markdown",
      "source": [
        "##Loss"
      ],
      "metadata": {
        "id": "OW2RsRudkUH7"
      }
    },
    {
      "cell_type": "markdown",
      "source": [
        "We now tackle the loss computation.\n",
        "\n",
        "There are many loss functions to choose from, depending on the task at\n",
        "hand. Since ours is a regression, we are using the Mean Squared Error (MSE) as\n",
        "loss, and thus we need PyTorch’s `nn.MSELoss`."
      ],
      "metadata": {
        "id": "wbFK8CpBkVEO"
      }
    },
    {
      "cell_type": "code",
      "source": [
        "# Defines a MSE loss function\n",
        "loss_fn = nn.MSELoss(reduction=\"mean\")\n",
        "loss_fn"
      ],
      "metadata": {
        "id": "usMFBmFQkxvr",
        "outputId": "ff945fc0-f213-475e-888c-16361bb47f78",
        "colab": {
          "base_uri": "https://localhost:8080/"
        }
      },
      "execution_count": 48,
      "outputs": [
        {
          "output_type": "execute_result",
          "data": {
            "text/plain": [
              "MSELoss()"
            ]
          },
          "metadata": {},
          "execution_count": 48
        }
      ]
    },
    {
      "cell_type": "markdown",
      "source": [
        "Notice that `nn.MSELoss` is NOT the loss function itself: we do not pass predictions\n",
        "and labels to it!\n",
        "\n",
        "Instead, as you can see, it returns another function, which we called\n",
        "`loss_fn`: that is the actual loss function. \n",
        "\n",
        "So, we can pass a prediction and a label to\n",
        "it and get the corresponding loss value."
      ],
      "metadata": {
        "id": "0f-1YDdBlHgy"
      }
    },
    {
      "cell_type": "code",
      "source": [
        "# This is a random example to illustrate the loss function\n",
        "predictions = torch.tensor([0.5, 1.0])\n",
        "labels = torch.tensor([2.0, 1.3])\n",
        "loss_fn(predictions, labels)"
      ],
      "metadata": {
        "id": "NTb9Wdu4lIDf",
        "outputId": "a20cdfeb-dcbf-465e-e27e-8b9cd02b22f8",
        "colab": {
          "base_uri": "https://localhost:8080/"
        }
      },
      "execution_count": 49,
      "outputs": [
        {
          "output_type": "execute_result",
          "data": {
            "text/plain": [
              "tensor(1.1700)"
            ]
          },
          "metadata": {},
          "execution_count": 49
        }
      ]
    },
    {
      "cell_type": "markdown",
      "source": [
        ">Technically speaking, `nn.MSELoss` is a higher-order function."
      ],
      "metadata": {
        "id": "C4Ofk-vglz8K"
      }
    },
    {
      "cell_type": "code",
      "source": [
        "torch.manual_seed(42)\n",
        "\n",
        "# Sets learning rate\n",
        "lr = 0.1\n",
        "\n",
        "# Step 0 - Initializes parameters \"b\" and \"w\" randomly\n",
        "b = torch.randn(1, requires_grad=True, dtype=torch.float, device=device)\n",
        "w = torch.randn(1, requires_grad=True, dtype=torch.float, device=device)\n",
        "\n",
        "# Defines a SGD optimizer to update the parameters\n",
        "optimizer = optim.SGD([b, w], lr=lr)\n",
        "# Defines a MSE loss function\n",
        "loss_fn = nn.MSELoss(reduction=\"mean\")\n",
        "# Defines number of epochs\n",
        "n_epochs = 1000\n",
        "\n",
        "for epoch in range(n_epochs):\n",
        "  # Step 1 - Computes model's predicted output - forward pass\n",
        "  yhat = b + w * x_train_tensor\n",
        "\n",
        "  # Step 2 - Computes the loss\n",
        "  # No more manual loss!\n",
        "  # error = (yhat - y_train_tensor)\n",
        "  # loss = (error ** 2).mean()\n",
        "  loss = loss_fn(yhat, y_train_tensor)\n",
        "\n",
        "  # Step 3 - Computes gradients for both \"b\" and \"w\" parameters\n",
        "  loss.backward()\n",
        "\n",
        "  # Step 4 - Updates parameters using gradients and the learning rate. But not so fast...\n",
        "  optimizer.step()\n",
        "  optimizer.zero_grad()\n",
        "\n",
        "print(b, w)"
      ],
      "metadata": {
        "id": "bvJ86Oz6l1o9",
        "outputId": "2c566e31-c1d3-4ef4-93e2-ff4d42f76399",
        "colab": {
          "base_uri": "https://localhost:8080/"
        }
      },
      "execution_count": 50,
      "outputs": [
        {
          "output_type": "stream",
          "name": "stdout",
          "text": [
            "tensor([1.0530], device='cuda:0', requires_grad=True) tensor([1.9958], device='cuda:0', requires_grad=True)\n"
          ]
        }
      ]
    },
    {
      "cell_type": "markdown",
      "source": [
        "Let’s take a look at the loss value at the end of training."
      ],
      "metadata": {
        "id": "dtnqEJnUmhz1"
      }
    },
    {
      "cell_type": "code",
      "source": [
        "loss"
      ],
      "metadata": {
        "id": "oGXVfhRdmiWI",
        "outputId": "9e8e59db-255a-46c8-aca4-d0b78057a416",
        "colab": {
          "base_uri": "https://localhost:8080/"
        }
      },
      "execution_count": 51,
      "outputs": [
        {
          "output_type": "execute_result",
          "data": {
            "text/plain": [
              "tensor(0.0008, device='cuda:0', grad_fn=<MseLossBackward0>)"
            ]
          },
          "metadata": {},
          "execution_count": 51
        }
      ]
    },
    {
      "cell_type": "markdown",
      "source": [
        "What if we wanted to have it as a Numpy array?"
      ],
      "metadata": {
        "id": "Nnj9Dy1FmtAW"
      }
    },
    {
      "cell_type": "code",
      "source": [
        "try:\n",
        "  loss.cpu().numpy()\n",
        "except RuntimeError as re:\n",
        "  print(re)"
      ],
      "metadata": {
        "id": "0iqgVbOwmtad",
        "outputId": "82443ed9-be55-4979-9c7a-aed877cc7150",
        "colab": {
          "base_uri": "https://localhost:8080/"
        }
      },
      "execution_count": 52,
      "outputs": [
        {
          "output_type": "stream",
          "name": "stdout",
          "text": [
            "Can't call numpy() on Tensor that requires grad. Use tensor.detach().numpy() instead.\n"
          ]
        }
      ]
    },
    {
      "cell_type": "markdown",
      "source": [
        "What happened here? \n",
        "\n",
        "Unlike our data tensors, the loss tensor is actually computing\n",
        "gradients - to use `numpy()`, we need to `detach()` the tensor from the computation\n",
        "graph first:"
      ],
      "metadata": {
        "id": "inEsdzNKnMXW"
      }
    },
    {
      "cell_type": "code",
      "source": [
        "loss.detach().cpu().numpy()"
      ],
      "metadata": {
        "id": "XyPP7w9MnQS5",
        "outputId": "df47b641-5dcd-493f-bbff-a3d0ca2d0f54",
        "colab": {
          "base_uri": "https://localhost:8080/"
        }
      },
      "execution_count": 53,
      "outputs": [
        {
          "output_type": "execute_result",
          "data": {
            "text/plain": [
              "array(0.00081317, dtype=float32)"
            ]
          },
          "metadata": {},
          "execution_count": 53
        }
      ]
    },
    {
      "cell_type": "markdown",
      "source": [
        "This seems like a lot of work; there must be an easier way! \n",
        "\n",
        "And there is one indeed:\n",
        "* we can use `item()`, for tensors with a single element \n",
        "* or tolist() otherwise (it still returns a scalar if there is only one element, though)"
      ],
      "metadata": {
        "id": "3_NG1DVNnkqR"
      }
    },
    {
      "cell_type": "code",
      "source": [
        "print(loss.item(), loss.tolist())"
      ],
      "metadata": {
        "id": "3FPLnbTbnxoz",
        "outputId": "a7afa94e-e3e5-474b-ec9a-d102bd264958",
        "colab": {
          "base_uri": "https://localhost:8080/"
        }
      },
      "execution_count": 54,
      "outputs": [
        {
          "output_type": "stream",
          "name": "stdout",
          "text": [
            "0.0008131694048643112 0.0008131694048643112\n"
          ]
        }
      ]
    },
    {
      "cell_type": "markdown",
      "source": [
        "##Model"
      ],
      "metadata": {
        "id": "nRnSxxCVn-Nk"
      }
    },
    {
      "cell_type": "markdown",
      "source": [
        "The most fundamental methods a model class needs to implement are:\n",
        "\n",
        "* `__init__(self)`: it defines the parts that make up the model — in our case,\n",
        "two parameters, `b` and `w`.\n",
        "* `forward(self, x)`: it performs the actual computation, that is, it outputs a\n",
        "prediction, given the input `x`.\n",
        "\n",
        "Let’s build a proper (yet simple) model for our regression task."
      ],
      "metadata": {
        "id": "1pKAXyURn-4S"
      }
    },
    {
      "cell_type": "code",
      "source": [
        "class LinearRegression(nn.Module):\n",
        "  def __init__(self) -> None:\n",
        "    super().__init__()\n",
        "    # To make \"b\" and \"w\" real parameters of the model, we need to wrap them with nn.Parameter\n",
        "    self.w = nn.Parameter(torch.randn(1, requires_grad=True, dtype=torch.float))\n",
        "    self.b = nn.Parameter(torch.randn(1, requires_grad=True, dtype=torch.float))\n",
        "\n",
        "  def forward(self, x):\n",
        "    # Computes the outputs / predictions\n",
        "    return self.b + self.w * x"
      ],
      "metadata": {
        "id": "eCzfSjmHxn-K"
      },
      "execution_count": 55,
      "outputs": []
    },
    {
      "cell_type": "markdown",
      "source": [
        "Why should we care about the parameters of the model?\n",
        "\n",
        "By doing so, we can use our model’s `parameters()`\n",
        "method to retrieve an iterator over all model’s parameters, including parameters\n",
        "of nested models. \n",
        "\n",
        "Then we can use it to feed our optimizer (instead of building a list\n",
        "of parameters ourselves!)."
      ],
      "metadata": {
        "id": "2opqEi2azQbM"
      }
    },
    {
      "cell_type": "code",
      "source": [
        "torch.manual_seed(42)\n",
        "\n",
        "# Creates a \"dummy\" instance of our LinearRegression model\n",
        "dummy = LinearRegression()\n",
        "list(dummy.parameters())"
      ],
      "metadata": {
        "id": "kRWmGk-pzbgp",
        "outputId": "13347a6e-08b2-4eb1-8491-bfba298a798f",
        "colab": {
          "base_uri": "https://localhost:8080/"
        }
      },
      "execution_count": 56,
      "outputs": [
        {
          "output_type": "execute_result",
          "data": {
            "text/plain": [
              "[Parameter containing:\n",
              " tensor([0.3367], requires_grad=True), Parameter containing:\n",
              " tensor([0.1288], requires_grad=True)]"
            ]
          },
          "metadata": {},
          "execution_count": 56
        }
      ]
    },
    {
      "cell_type": "markdown",
      "source": [
        "Moreover, we can get the current values of all parameters using our model’s\n",
        "`state_dict()` method."
      ],
      "metadata": {
        "id": "UIndaC2rz7ip"
      }
    },
    {
      "cell_type": "code",
      "source": [
        "dummy.state_dict()"
      ],
      "metadata": {
        "id": "FlE_fkdqz9Pa",
        "outputId": "02302c8f-5067-415a-85ad-d3260d1010f5",
        "colab": {
          "base_uri": "https://localhost:8080/"
        }
      },
      "execution_count": 57,
      "outputs": [
        {
          "output_type": "execute_result",
          "data": {
            "text/plain": [
              "OrderedDict([('w', tensor([0.3367])), ('b', tensor([0.1288]))])"
            ]
          },
          "metadata": {},
          "execution_count": 57
        }
      ]
    },
    {
      "cell_type": "markdown",
      "source": [
        "By the way, the optimizer itself has a `state_dict()` too, which contains its internal\n",
        "state, as well as other hyper-parameters."
      ],
      "metadata": {
        "id": "aBIiEna00OrO"
      }
    },
    {
      "cell_type": "code",
      "source": [
        "optimizer.state_dict()"
      ],
      "metadata": {
        "id": "ghbpwjzi0QsR",
        "outputId": "5b9d0256-353b-49cc-9a45-efae0b7f2fed",
        "colab": {
          "base_uri": "https://localhost:8080/"
        }
      },
      "execution_count": 58,
      "outputs": [
        {
          "output_type": "execute_result",
          "data": {
            "text/plain": [
              "{'state': {0: {'momentum_buffer': None}, 1: {'momentum_buffer': None}},\n",
              " 'param_groups': [{'lr': 0.1,\n",
              "   'momentum': 0,\n",
              "   'dampening': 0,\n",
              "   'weight_decay': 0,\n",
              "   'nesterov': False,\n",
              "   'maximize': False,\n",
              "   'foreach': None,\n",
              "   'params': [0, 1]}]}"
            ]
          },
          "metadata": {},
          "execution_count": 58
        }
      ]
    },
    {
      "cell_type": "markdown",
      "source": [
        "We need to send our model to the same device\n",
        "where the data is. If our data is made of GPU tensors, our model\n",
        "must “live” inside the GPU as well."
      ],
      "metadata": {
        "id": "LenGC-op0oQb"
      }
    },
    {
      "cell_type": "code",
      "source": [
        "torch.manual_seed(42)\n",
        "\n",
        "# Creates a \"dummy\" instance of our LinearRegression model and sends it to the device\n",
        "dummy = LinearRegression().to(device)"
      ],
      "metadata": {
        "id": "SQyJ9nLz0sV9"
      },
      "execution_count": 59,
      "outputs": []
    },
    {
      "cell_type": "markdown",
      "source": [
        "The forward pass is the moment when the model makes predictions.\n",
        "\n",
        ">Remember: you should make predictions calling `model(x)`"
      ],
      "metadata": {
        "id": "vqoVcPSm3TDM"
      }
    },
    {
      "cell_type": "code",
      "source": [
        "torch.manual_seed(42)\n",
        "\n",
        "# Sets learning rate\n",
        "lr = 0.1\n",
        "\n",
        "# Step 0 - Initializes parameters \"b\" and \"w\" randomly\n",
        "# b = torch.randn(1, requires_grad=True, dtype=torch.float, device=device)\n",
        "# w = torch.randn(1, requires_grad=True, dtype=torch.float, device=device)\n",
        "# Now we can create a model and send it at once to the device\n",
        "model = LinearRegression().to(device)\n",
        "\n",
        "# Defines a SGD optimizer to update the parameters\n",
        "optimizer = optim.SGD([b, w], lr=lr)\n",
        "# Defines a MSE loss function\n",
        "loss_fn = nn.MSELoss(reduction=\"mean\")\n",
        "# Defines number of epochs\n",
        "n_epochs = 1000\n",
        "\n",
        "for epoch in range(n_epochs):\n",
        "  model.train()  # set the model to training mode\n",
        "\n",
        "  # Step 1 - Computes model's predicted output - forward pass\n",
        "  # No more manual prediction!\n",
        "  yhat = model(x_train_tensor)\n",
        "\n",
        "  # Step 2 - Computes the loss\n",
        "  loss = loss_fn(yhat, y_train_tensor)\n",
        "\n",
        "  # Step 3 - Computes gradients for both \"b\" and \"w\" parameters\n",
        "  loss.backward()\n",
        "\n",
        "  # Step 4 - Updates parameters using gradients and the learning rate. But not so fast...\n",
        "  optimizer.step()\n",
        "  optimizer.zero_grad()\n",
        "\n",
        "# We can also inspect its parameters using its state_dict\n",
        "print(model.state_dict())"
      ],
      "metadata": {
        "id": "zomSC5t03WzE",
        "outputId": "8b492034-68e7-4fd8-ffe6-66570a546546",
        "colab": {
          "base_uri": "https://localhost:8080/"
        }
      },
      "execution_count": 61,
      "outputs": [
        {
          "output_type": "stream",
          "name": "stdout",
          "text": [
            "OrderedDict([('w', tensor([0.3367], device='cuda:0')), ('b', tensor([0.1288], device='cuda:0'))])\n"
          ]
        }
      ]
    },
    {
      "cell_type": "markdown",
      "source": [
        "##Nested Models"
      ],
      "metadata": {
        "id": "_KguFZXp41go"
      }
    },
    {
      "cell_type": "markdown",
      "source": [],
      "metadata": {
        "id": "bsq1hLN442f7"
      }
    }
  ]
}