{
  "nbformat": 4,
  "nbformat_minor": 0,
  "metadata": {
    "colab": {
      "provenance": [],
      "toc_visible": true,
      "authorship_tag": "ABX9TyPM4pOiKpDA43+iHMRdRP2Z",
      "include_colab_link": true
    },
    "kernelspec": {
      "name": "python3",
      "display_name": "Python 3"
    },
    "language_info": {
      "name": "python"
    },
    "widgets": {
      "application/vnd.jupyter.widget-state+json": {
        "fe693ef7bbef4e7a88344988972efefe": {
          "model_module": "@jupyter-widgets/controls",
          "model_name": "HBoxModel",
          "model_module_version": "1.5.0",
          "state": {
            "_dom_classes": [],
            "_model_module": "@jupyter-widgets/controls",
            "_model_module_version": "1.5.0",
            "_model_name": "HBoxModel",
            "_view_count": null,
            "_view_module": "@jupyter-widgets/controls",
            "_view_module_version": "1.5.0",
            "_view_name": "HBoxView",
            "box_style": "",
            "children": [
              "IPY_MODEL_df43c9dd1eba44b7b193d5c131004cf7",
              "IPY_MODEL_65a9426972404459840db2d40098749c",
              "IPY_MODEL_30ad82d20c304dfd966acb876fa8c2aa"
            ],
            "layout": "IPY_MODEL_8778a2b3877c4c8bada753e208110f57"
          }
        },
        "df43c9dd1eba44b7b193d5c131004cf7": {
          "model_module": "@jupyter-widgets/controls",
          "model_name": "HTMLModel",
          "model_module_version": "1.5.0",
          "state": {
            "_dom_classes": [],
            "_model_module": "@jupyter-widgets/controls",
            "_model_module_version": "1.5.0",
            "_model_name": "HTMLModel",
            "_view_count": null,
            "_view_module": "@jupyter-widgets/controls",
            "_view_module_version": "1.5.0",
            "_view_name": "HTMLView",
            "description": "",
            "description_tooltip": null,
            "layout": "IPY_MODEL_cca6442345ee4004a8febcae0aebb3a3",
            "placeholder": "​",
            "style": "IPY_MODEL_98ac2cb045ad403c957604c5d7146b2d",
            "value": "Map: 100%"
          }
        },
        "65a9426972404459840db2d40098749c": {
          "model_module": "@jupyter-widgets/controls",
          "model_name": "FloatProgressModel",
          "model_module_version": "1.5.0",
          "state": {
            "_dom_classes": [],
            "_model_module": "@jupyter-widgets/controls",
            "_model_module_version": "1.5.0",
            "_model_name": "FloatProgressModel",
            "_view_count": null,
            "_view_module": "@jupyter-widgets/controls",
            "_view_module_version": "1.5.0",
            "_view_name": "ProgressView",
            "bar_style": "success",
            "description": "",
            "description_tooltip": null,
            "layout": "IPY_MODEL_46f2f198c7934d6a82b39c73fdf2d6e5",
            "max": 3852,
            "min": 0,
            "orientation": "horizontal",
            "style": "IPY_MODEL_8ad2c83aed314b8599804a6d319bdf00",
            "value": 3852
          }
        },
        "30ad82d20c304dfd966acb876fa8c2aa": {
          "model_module": "@jupyter-widgets/controls",
          "model_name": "HTMLModel",
          "model_module_version": "1.5.0",
          "state": {
            "_dom_classes": [],
            "_model_module": "@jupyter-widgets/controls",
            "_model_module_version": "1.5.0",
            "_model_name": "HTMLModel",
            "_view_count": null,
            "_view_module": "@jupyter-widgets/controls",
            "_view_module_version": "1.5.0",
            "_view_name": "HTMLView",
            "description": "",
            "description_tooltip": null,
            "layout": "IPY_MODEL_32b360a716d040a2ab7cb0c6ed104561",
            "placeholder": "​",
            "style": "IPY_MODEL_84a8726da8264b8dbb5aea3af3999bfe",
            "value": " 3852/3852 [00:00&lt;00:00, 8550.46 examples/s]"
          }
        },
        "8778a2b3877c4c8bada753e208110f57": {
          "model_module": "@jupyter-widgets/base",
          "model_name": "LayoutModel",
          "model_module_version": "1.2.0",
          "state": {
            "_model_module": "@jupyter-widgets/base",
            "_model_module_version": "1.2.0",
            "_model_name": "LayoutModel",
            "_view_count": null,
            "_view_module": "@jupyter-widgets/base",
            "_view_module_version": "1.2.0",
            "_view_name": "LayoutView",
            "align_content": null,
            "align_items": null,
            "align_self": null,
            "border": null,
            "bottom": null,
            "display": null,
            "flex": null,
            "flex_flow": null,
            "grid_area": null,
            "grid_auto_columns": null,
            "grid_auto_flow": null,
            "grid_auto_rows": null,
            "grid_column": null,
            "grid_gap": null,
            "grid_row": null,
            "grid_template_areas": null,
            "grid_template_columns": null,
            "grid_template_rows": null,
            "height": null,
            "justify_content": null,
            "justify_items": null,
            "left": null,
            "margin": null,
            "max_height": null,
            "max_width": null,
            "min_height": null,
            "min_width": null,
            "object_fit": null,
            "object_position": null,
            "order": null,
            "overflow": null,
            "overflow_x": null,
            "overflow_y": null,
            "padding": null,
            "right": null,
            "top": null,
            "visibility": null,
            "width": null
          }
        },
        "cca6442345ee4004a8febcae0aebb3a3": {
          "model_module": "@jupyter-widgets/base",
          "model_name": "LayoutModel",
          "model_module_version": "1.2.0",
          "state": {
            "_model_module": "@jupyter-widgets/base",
            "_model_module_version": "1.2.0",
            "_model_name": "LayoutModel",
            "_view_count": null,
            "_view_module": "@jupyter-widgets/base",
            "_view_module_version": "1.2.0",
            "_view_name": "LayoutView",
            "align_content": null,
            "align_items": null,
            "align_self": null,
            "border": null,
            "bottom": null,
            "display": null,
            "flex": null,
            "flex_flow": null,
            "grid_area": null,
            "grid_auto_columns": null,
            "grid_auto_flow": null,
            "grid_auto_rows": null,
            "grid_column": null,
            "grid_gap": null,
            "grid_row": null,
            "grid_template_areas": null,
            "grid_template_columns": null,
            "grid_template_rows": null,
            "height": null,
            "justify_content": null,
            "justify_items": null,
            "left": null,
            "margin": null,
            "max_height": null,
            "max_width": null,
            "min_height": null,
            "min_width": null,
            "object_fit": null,
            "object_position": null,
            "order": null,
            "overflow": null,
            "overflow_x": null,
            "overflow_y": null,
            "padding": null,
            "right": null,
            "top": null,
            "visibility": null,
            "width": null
          }
        },
        "98ac2cb045ad403c957604c5d7146b2d": {
          "model_module": "@jupyter-widgets/controls",
          "model_name": "DescriptionStyleModel",
          "model_module_version": "1.5.0",
          "state": {
            "_model_module": "@jupyter-widgets/controls",
            "_model_module_version": "1.5.0",
            "_model_name": "DescriptionStyleModel",
            "_view_count": null,
            "_view_module": "@jupyter-widgets/base",
            "_view_module_version": "1.2.0",
            "_view_name": "StyleView",
            "description_width": ""
          }
        },
        "46f2f198c7934d6a82b39c73fdf2d6e5": {
          "model_module": "@jupyter-widgets/base",
          "model_name": "LayoutModel",
          "model_module_version": "1.2.0",
          "state": {
            "_model_module": "@jupyter-widgets/base",
            "_model_module_version": "1.2.0",
            "_model_name": "LayoutModel",
            "_view_count": null,
            "_view_module": "@jupyter-widgets/base",
            "_view_module_version": "1.2.0",
            "_view_name": "LayoutView",
            "align_content": null,
            "align_items": null,
            "align_self": null,
            "border": null,
            "bottom": null,
            "display": null,
            "flex": null,
            "flex_flow": null,
            "grid_area": null,
            "grid_auto_columns": null,
            "grid_auto_flow": null,
            "grid_auto_rows": null,
            "grid_column": null,
            "grid_gap": null,
            "grid_row": null,
            "grid_template_areas": null,
            "grid_template_columns": null,
            "grid_template_rows": null,
            "height": null,
            "justify_content": null,
            "justify_items": null,
            "left": null,
            "margin": null,
            "max_height": null,
            "max_width": null,
            "min_height": null,
            "min_width": null,
            "object_fit": null,
            "object_position": null,
            "order": null,
            "overflow": null,
            "overflow_x": null,
            "overflow_y": null,
            "padding": null,
            "right": null,
            "top": null,
            "visibility": null,
            "width": null
          }
        },
        "8ad2c83aed314b8599804a6d319bdf00": {
          "model_module": "@jupyter-widgets/controls",
          "model_name": "ProgressStyleModel",
          "model_module_version": "1.5.0",
          "state": {
            "_model_module": "@jupyter-widgets/controls",
            "_model_module_version": "1.5.0",
            "_model_name": "ProgressStyleModel",
            "_view_count": null,
            "_view_module": "@jupyter-widgets/base",
            "_view_module_version": "1.2.0",
            "_view_name": "StyleView",
            "bar_color": null,
            "description_width": ""
          }
        },
        "32b360a716d040a2ab7cb0c6ed104561": {
          "model_module": "@jupyter-widgets/base",
          "model_name": "LayoutModel",
          "model_module_version": "1.2.0",
          "state": {
            "_model_module": "@jupyter-widgets/base",
            "_model_module_version": "1.2.0",
            "_model_name": "LayoutModel",
            "_view_count": null,
            "_view_module": "@jupyter-widgets/base",
            "_view_module_version": "1.2.0",
            "_view_name": "LayoutView",
            "align_content": null,
            "align_items": null,
            "align_self": null,
            "border": null,
            "bottom": null,
            "display": null,
            "flex": null,
            "flex_flow": null,
            "grid_area": null,
            "grid_auto_columns": null,
            "grid_auto_flow": null,
            "grid_auto_rows": null,
            "grid_column": null,
            "grid_gap": null,
            "grid_row": null,
            "grid_template_areas": null,
            "grid_template_columns": null,
            "grid_template_rows": null,
            "height": null,
            "justify_content": null,
            "justify_items": null,
            "left": null,
            "margin": null,
            "max_height": null,
            "max_width": null,
            "min_height": null,
            "min_width": null,
            "object_fit": null,
            "object_position": null,
            "order": null,
            "overflow": null,
            "overflow_x": null,
            "overflow_y": null,
            "padding": null,
            "right": null,
            "top": null,
            "visibility": null,
            "width": null
          }
        },
        "84a8726da8264b8dbb5aea3af3999bfe": {
          "model_module": "@jupyter-widgets/controls",
          "model_name": "DescriptionStyleModel",
          "model_module_version": "1.5.0",
          "state": {
            "_model_module": "@jupyter-widgets/controls",
            "_model_module_version": "1.5.0",
            "_model_name": "DescriptionStyleModel",
            "_view_count": null,
            "_view_module": "@jupyter-widgets/base",
            "_view_module_version": "1.2.0",
            "_view_name": "StyleView",
            "description_width": ""
          }
        }
      }
    }
  },
  "cells": [
    {
      "cell_type": "markdown",
      "metadata": {
        "id": "view-in-github",
        "colab_type": "text"
      },
      "source": [
        "<a href=\"https://colab.research.google.com/github/rahiakela/deep-learning-research-and-practice/blob/main/deep-learning-with-pytorch-step-by-step/Part-III-NLP/07_word_embeddings.ipynb\" target=\"_parent\"><img src=\"https://colab.research.google.com/assets/colab-badge.svg\" alt=\"Open In Colab\"/></a>"
      ]
    },
    {
      "cell_type": "markdown",
      "source": [
        "##Word Embeddings"
      ],
      "metadata": {
        "id": "I_fJ4_FUlY0a"
      }
    },
    {
      "cell_type": "markdown",
      "source": [
        "We’ll start our NLP journey by following the steps of Alice and Dorothy, from\n",
        "[Alice’s Adventures in Wonderland](https://ota.bodleian.ox.ac.uk/repository/xmlui/handle/20.500.12024/1476) by Lewis Carroll and [The Wonderful Wizard of Oz](https://ota.bodleian.ox.ac.uk/repository/xmlui/handle/20.500.12024/1740) by L. Frank Baum.\n",
        "\n",
        "![](https://github.com/rahiakela/deep-learning-research-and-practice/blob/main/deep-learning-with-pytorch-step-by-step/Part-III-NLP/images/alice_dorothy.png?raw=1)\n",
        "\n",
        "*Left: \"Alice and the Baby Pig\" illustration by John Tenniel's, from \"Alice's Adventure's in Wonderland\" (1865).*\n",
        "\n",
        "*Right: \"Dorothy meets the Cowardly Lion\" illustration by W.W. Denslow, from \"The Wonderful Wizard of Oz\" (1900)*"
      ],
      "metadata": {
        "id": "6S3AN5ZklZkV"
      }
    },
    {
      "cell_type": "markdown",
      "source": [
        "##Setup"
      ],
      "metadata": {
        "id": "y_fsZxO6mSi9"
      }
    },
    {
      "cell_type": "code",
      "source": [
        "%%capture\n",
        "\n",
        "# # UPDATED\n",
        "# ###########################################################\n",
        "!pip install gensim==4.3.1\n",
        "# # The library has been archived and won't be used anymore\n",
        "# # # !pip install allennlp==0.9.0\n",
        "#!pip install flair==0.12.2\n",
        "#!pip install torchvision==0.15.1\n",
        "# # # HuggingFace\n",
        "!pip install transformers==4.32.0\n",
        "!pip install datasets==2.14.4\n",
        "# ###########################################################\n",
        "!pip -q install spacy\n",
        "!python -m spacy download en_core_web_sm"
      ],
      "metadata": {
        "id": "bPp9LPHbWch9"
      },
      "execution_count": 1,
      "outputs": []
    },
    {
      "cell_type": "code",
      "source": [
        "try:\n",
        "    import google.colab\n",
        "    import requests\n",
        "    url = 'https://raw.githubusercontent.com/dvgodoy/PyTorchStepByStep/master/config.py'\n",
        "    r = requests.get(url, allow_redirects=True)\n",
        "    open('config.py', 'wb').write(r.content)\n",
        "except ModuleNotFoundError:\n",
        "    pass\n",
        "\n",
        "from config import *\n",
        "config_chapter11()\n",
        "# This is needed to render the plots in this chapter\n",
        "from plots.chapter11 import *"
      ],
      "metadata": {
        "id": "4KaJRDNLmTq_",
        "outputId": "8e12bbb6-cfbd-4a8a-9f8f-8508dff4f1fa",
        "colab": {
          "base_uri": "https://localhost:8080/"
        }
      },
      "execution_count": 2,
      "outputs": [
        {
          "output_type": "stream",
          "name": "stdout",
          "text": [
            "Downloading files from GitHub repo to Colab...\n",
            "Finished!\n"
          ]
        }
      ]
    },
    {
      "cell_type": "code",
      "source": [
        "import os\n",
        "import json\n",
        "import errno\n",
        "import requests\n",
        "import numpy as np\n",
        "from copy import deepcopy\n",
        "from operator import itemgetter\n",
        "\n",
        "import torch\n",
        "import torch.optim as optim\n",
        "import torch.nn as nn\n",
        "import torch.nn.functional as F\n",
        "from torch.utils.data import DataLoader, TensorDataset, Dataset\n",
        "\n",
        "from data_generation.nlp import ALICE_URL, WIZARD_URL, download_text\n",
        "from stepbystep.v4 import StepByStep\n",
        "# These are the classes we built in Chapter 10\n",
        "from seq2seq import *\n",
        "\n",
        "import spacy\n",
        "import nltk\n",
        "from nltk.tokenize import sent_tokenize"
      ],
      "metadata": {
        "id": "i9pPl_87mbqd"
      },
      "execution_count": 3,
      "outputs": []
    },
    {
      "cell_type": "code",
      "source": [
        "nltk.download('punkt')"
      ],
      "metadata": {
        "id": "lrnHpAEYgrSS",
        "outputId": "aa605dd5-6941-4e89-a11f-c5eb0781662f",
        "colab": {
          "base_uri": "https://localhost:8080/"
        }
      },
      "execution_count": null,
      "outputs": [
        {
          "output_type": "stream",
          "name": "stderr",
          "text": [
            "[nltk_data] Downloading package punkt to /root/nltk_data...\n",
            "[nltk_data]   Unzipping tokenizers/punkt.zip.\n"
          ]
        },
        {
          "output_type": "execute_result",
          "data": {
            "text/plain": [
              "True"
            ]
          },
          "metadata": {},
          "execution_count": 4
        }
      ]
    },
    {
      "cell_type": "code",
      "source": [
        "import gensim\n",
        "from gensim import corpora, downloader\n",
        "from gensim.parsing.preprocessing import *\n",
        "from gensim.utils import simple_preprocess\n",
        "from gensim.models import Word2Vec"
      ],
      "metadata": {
        "id": "dEQBv2ddXGS_"
      },
      "execution_count": null,
      "outputs": []
    },
    {
      "cell_type": "code",
      "source": [
        "from datasets import load_dataset, Split\n",
        "from transformers import (\n",
        "    DataCollatorForLanguageModeling,\n",
        "    BertModel, BertTokenizer, BertForSequenceClassification,\n",
        "    DistilBertModel, DistilBertTokenizer,\n",
        "    DistilBertForSequenceClassification,\n",
        "    AutoModelForSequenceClassification,\n",
        "    AutoModel, AutoTokenizer, AutoModelForCausalLM,\n",
        "    Trainer, TrainingArguments, pipeline, TextClassificationPipeline\n",
        ")\n",
        "from transformers.pipelines import SUPPORTED_TASKS"
      ],
      "metadata": {
        "id": "w1HKtpREXdlF"
      },
      "execution_count": null,
      "outputs": []
    },
    {
      "cell_type": "markdown",
      "source": [
        "##Downloading Books"
      ],
      "metadata": {
        "id": "VGxz6kEmX3ke"
      }
    },
    {
      "cell_type": "code",
      "source": [
        "!rm -rf data"
      ],
      "metadata": {
        "id": "4hr1Jm9kK9DO"
      },
      "execution_count": null,
      "outputs": []
    },
    {
      "cell_type": "code",
      "source": [
        "# let's download data\n",
        "HOME_DIR = \"data\"\n",
        "download_text(ALICE_URL, HOME_DIR)\n",
        "download_text(WIZARD_URL, HOME_DIR)"
      ],
      "metadata": {
        "id": "eTXbiieBX4Sz"
      },
      "execution_count": null,
      "outputs": []
    },
    {
      "cell_type": "code",
      "source": [
        "# let's see the downloaded data\n",
        "#!cat data/alice28-1476.txt"
      ],
      "metadata": {
        "id": "45chINE_YYtz"
      },
      "execution_count": null,
      "outputs": []
    },
    {
      "cell_type": "code",
      "source": [
        "#!cat data/wizoz10-1740.txt"
      ],
      "metadata": {
        "id": "uM-tdJNRZcnt"
      },
      "execution_count": null,
      "outputs": []
    },
    {
      "cell_type": "markdown",
      "source": [
        "We need to remove these additions to the original texts:"
      ],
      "metadata": {
        "id": "msne6vRcZ14Y"
      }
    },
    {
      "cell_type": "code",
      "source": [
        "alice_file = os.path.join(HOME_DIR, \"alice28-1476.txt\")\n",
        "with open(alice_file, \"r\") as f:\n",
        "  # The actual texts of the books are contained between lines 105 and 3703\n",
        "  alice_text = \"\".join(f.readlines()[104:3704])\n",
        "\n",
        "wizard_file = os.path.join(HOME_DIR, \"wizoz10-1740.txt\")\n",
        "with open(wizard_file, \"r\") as f:\n",
        "  # The actual texts of the books are contained between lines 309 and 5099\n",
        "  wizard_text = \"\".join(f.readlines()[310:5100])"
      ],
      "metadata": {
        "id": "8z29BFQwZx4U"
      },
      "execution_count": null,
      "outputs": []
    },
    {
      "cell_type": "code",
      "source": [
        "print(alice_text[:500])\n",
        "print(\"\\n\", \"#\"*70, \"\\n\")\n",
        "print(wizard_text[:500])"
      ],
      "metadata": {
        "colab": {
          "base_uri": "https://localhost:8080/"
        },
        "id": "tNZmtkHNahrp",
        "outputId": "91f2a02b-3ba6-464c-ccc1-d88450e2be3a"
      },
      "execution_count": null,
      "outputs": [
        {
          "output_type": "stream",
          "name": "stdout",
          "text": [
            "                ALICE'S ADVENTURES IN WONDERLAND\n",
            "\n",
            "                          Lewis Carroll\n",
            "\n",
            "               THE MILLENNIUM FULCRUM EDITION 2.8\n",
            "\n",
            "\n",
            "\n",
            "\n",
            "                            CHAPTER I\n",
            "\n",
            "                      Down the Rabbit-Hole\n",
            "\n",
            "\n",
            "  Alice was beginning to get very tired of sitting by her sister\n",
            "on the bank, and of having nothing to do:  once or twice she had\n",
            "peeped into the book her sister was reading, but it had no\n",
            "pictures or conversations in it, `and what is the use of a book,'\n",
            "thought Alice `w\n",
            "\n",
            " ###################################################################### \n",
            "\n",
            "                    THE WONDERFUL WIZARD OF OZ\n",
            "\n",
            "\n",
            "                          1.  The Cyclone\n",
            "\n",
            "\n",
            "    Dorothy lived in the midst of the great Kansas prairies, with\n",
            "Uncle Henry, who was a farmer, and Aunt Em, who was the farmer's\n",
            "wife.  Their house was small, for the lumber to build it had to be\n",
            "carried by wagon many miles.  There were four walls, a floor and a\n",
            "roof, which made one room; and this room contained a rusty looking\n",
            "cookstove, a cupboard for the dishes, a table, three or four\n",
            "chairs, and th\n"
          ]
        }
      ]
    },
    {
      "cell_type": "markdown",
      "source": [
        "We can partially automate the removal of the extra lines by setting the real start and end lines of each text in a configuration file."
      ],
      "metadata": {
        "id": "zS5E4dECbotZ"
      }
    },
    {
      "cell_type": "code",
      "source": [
        "text_cfg = \"\"\"fname,start,end\n",
        "alice28-1476.txt,104,3704\n",
        "wizoz10-1740.txt,310,5100\"\"\"\n",
        "bytes_written = open(os.path.join(HOME_DIR, 'lines.cfg'), 'w').write(text_cfg)"
      ],
      "metadata": {
        "id": "ayc3piYsbutL"
      },
      "execution_count": null,
      "outputs": []
    },
    {
      "cell_type": "markdown",
      "source": [
        "##Sentence Tokenization"
      ],
      "metadata": {
        "id": "Bk4m73rMb0gi"
      }
    },
    {
      "cell_type": "markdown",
      "source": [
        "A token is a piece of a text, and to tokenize a text means to split\n",
        "it into pieces; that is, into a list of tokens.\n",
        "\n",
        "The most common kind of piece is a word.\n",
        "\n",
        "So, tokenizing a text usually means to\n",
        "split it into words using the white space as a separator."
      ],
      "metadata": {
        "id": "6w5mJGOFb1Ua"
      }
    },
    {
      "cell_type": "code",
      "source": [
        "sentence = \"I'm following the white rabbit\"\n",
        "tokens = sentence.split(\" \")\n",
        "tokens"
      ],
      "metadata": {
        "id": "oFsqtdFkenM-",
        "outputId": "0e208cd5-ba4b-4e0a-9e43-a5d5b4d8550b",
        "colab": {
          "base_uri": "https://localhost:8080/"
        }
      },
      "execution_count": null,
      "outputs": [
        {
          "output_type": "execute_result",
          "data": {
            "text/plain": [
              "[\"I'm\", 'following', 'the', 'white', 'rabbit']"
            ]
          },
          "metadata": {},
          "execution_count": 14
        }
      ]
    },
    {
      "cell_type": "markdown",
      "source": [
        "Let's do sentence tokenization, which means to split a text into its sentences."
      ],
      "metadata": {
        "id": "3WGtMb-Qg2Lt"
      }
    },
    {
      "cell_type": "code",
      "source": [
        "corpus_alice = sent_tokenize(alice_text)\n",
        "corpus_wizard = sent_tokenize(wizard_text)\n",
        "\n",
        "len(corpus_alice), (len(corpus_wizard))"
      ],
      "metadata": {
        "colab": {
          "base_uri": "https://localhost:8080/"
        },
        "id": "cg1Kg0Ung7aq",
        "outputId": "4ef522aa-29c0-4962-f786-2120f0c17fcc"
      },
      "execution_count": null,
      "outputs": [
        {
          "output_type": "execute_result",
          "data": {
            "text/plain": [
              "(1612, 2240)"
            ]
          },
          "metadata": {},
          "execution_count": 15
        }
      ]
    },
    {
      "cell_type": "markdown",
      "source": [
        "Let’s check one sentence from the first corpus of text."
      ],
      "metadata": {
        "id": "1qSQVckXh3aX"
      }
    },
    {
      "cell_type": "code",
      "source": [
        "corpus_alice[2]"
      ],
      "metadata": {
        "id": "mWQQFsanh4GS",
        "outputId": "0e13c615-9c06-4c14-8d02-ff56b60ca7e3",
        "colab": {
          "base_uri": "https://localhost:8080/",
          "height": 52
        }
      },
      "execution_count": null,
      "outputs": [
        {
          "output_type": "execute_result",
          "data": {
            "text/plain": [
              "'There was nothing so VERY remarkable in that; nor did Alice\\nthink it so VERY much out of the way to hear the Rabbit say to\\nitself, `Oh dear!'"
            ],
            "application/vnd.google.colaboratory.intrinsic+json": {
              "type": "string"
            }
          },
          "metadata": {},
          "execution_count": 16
        }
      ]
    },
    {
      "cell_type": "markdown",
      "source": [
        "Let’s check one sentence from the second corpus of text."
      ],
      "metadata": {
        "id": "RIGvTC9-iFwp"
      }
    },
    {
      "cell_type": "code",
      "source": [
        "corpus_wizard[30]"
      ],
      "metadata": {
        "id": "ojBtgVa1iGSs",
        "outputId": "6011e633-673e-4f74-d7eb-be576ebd0e0c",
        "colab": {
          "base_uri": "https://localhost:8080/",
          "height": 35
        }
      },
      "execution_count": null,
      "outputs": [
        {
          "output_type": "execute_result",
          "data": {
            "text/plain": [
              "'\"There\\'s a cyclone coming, Em,\" he called to his wife.'"
            ],
            "application/vnd.google.colaboratory.intrinsic+json": {
              "type": "string"
            }
          },
          "metadata": {},
          "execution_count": 17
        }
      ]
    },
    {
      "cell_type": "markdown",
      "source": [
        "Our dataset is going to be a collection of CSV files, one file for each book, with each\n",
        "CSV file containing one sentence per line.\n",
        "\n",
        "Therefore, we need to:\n",
        "\n",
        "* clean the line breaks to make sure each sentence is on one line only;\n",
        "* define an appropriate quote char to \"wrap\" the sentence such that the original commas and semicolons in the original text do not get misinterpreted as separation chars of the CSV file; and\n",
        "* add a second column to the CSV file to\n",
        "identify the original source of the sentence since we’ll be concatenating, and\n",
        "shuffling the sentences before training a model on our corpora.\n",
        "\n",
        "The sentence above should end up looking like this:\n",
        "```log\n",
        "\\\"There's a cyclone coming, Em,\" he called to his wife.\\,wizoz10-1740.txt\n",
        "```\n",
        "\n",
        "The function below does the grunt work of cleaning, splitting, and saving the\n",
        "sentences to a CSV file for us:"
      ],
      "metadata": {
        "id": "6_QMReIwkcaH"
      }
    },
    {
      "cell_type": "code",
      "source": [
        "def sentence_tokenize(source, quote_char=\"\\\\\", sep_char=\",\", include_header=True, include_source=True, extensions=(\"txt\"), **kwargs):\n",
        "  # If source is a folder, goes through all files inside it that match the desired extensions ('txt' by default)\n",
        "  if os.path.isdir(source):\n",
        "    filenames = [f for f in os.listdir(source) if os.path.isfile(os.path.join(source, f)) and os.path.splitext(f)[1][1:] in extensions]\n",
        "  elif isinstance(source, str):\n",
        "    filenames = [source]\n",
        "\n",
        "  # If there is a configuration file, builds a dictionary with the corresponding start and end lines of each text file\n",
        "  config_file = os.path.join(source, \"lines.cfg\")\n",
        "  config = {}\n",
        "  if os.path.exists(config_file):\n",
        "    with open(config_file, \"r\") as f:\n",
        "      rows = f.readlines()\n",
        "    for r in rows[1:]:\n",
        "      fname, start, end = r.strip().split(\",\")\n",
        "      config.update({fname: (int(start), int(end))})\n",
        "\n",
        "  new_fnames = []\n",
        "  # For each file of text\n",
        "  for fname in filenames:\n",
        "    # If there's a start and end line for that file, use it\n",
        "    try:\n",
        "        start, end = config[fname]\n",
        "    except KeyError:\n",
        "        start = None\n",
        "        end = None\n",
        "\n",
        "    # Opens the file, slices the configures lines (if any)\n",
        "    # cleans line breaks and uses the sentence tokenizer\n",
        "    with open(os.path.join(source, fname), 'r') as f:\n",
        "        contents = (''.join(f.readlines()[slice(start, end, None)]).replace('\\n', ' ').replace('\\r', ''))\n",
        "    corpus = sent_tokenize(contents, **kwargs)\n",
        "\n",
        "    # Builds a CSV file containing tokenized sentences\n",
        "    base = os.path.splitext(fname)[0]\n",
        "    new_fname = f'{base}.sent.csv'\n",
        "    new_fname = os.path.join(source, new_fname)\n",
        "    with open(new_fname, 'w') as f:\n",
        "        # Header of the file\n",
        "        if include_header:\n",
        "            if include_source:\n",
        "                f.write('sentence,source\\n')\n",
        "            else:\n",
        "                f.write('sentence\\n')\n",
        "        # Writes one line for each sentence\n",
        "        for sentence in corpus:\n",
        "            if include_source:\n",
        "                f.write(f'{quote_char}{sentence}{quote_char}{sep_char}{fname}\\n')\n",
        "            else:\n",
        "                f.write(f'{quote_char}{sentence}{quote_char}\\n')\n",
        "    new_fnames.append(new_fname)\n",
        "\n",
        "  # Returns list of the newly generated CSV files\n",
        "  return sorted(new_fnames)"
      ],
      "metadata": {
        "id": "2BxVWK0Rk21Y"
      },
      "execution_count": null,
      "outputs": []
    },
    {
      "cell_type": "code",
      "source": [
        "new_fnames = sentence_tokenize(HOME_DIR)\n",
        "new_fnames"
      ],
      "metadata": {
        "id": "95M-z4GlFTgy",
        "outputId": "68efb64d-c0dc-4c0a-8630-72c69304d1d5",
        "colab": {
          "base_uri": "https://localhost:8080/"
        }
      },
      "execution_count": null,
      "outputs": [
        {
          "output_type": "execute_result",
          "data": {
            "text/plain": [
              "['data/alice28-1476.sent.csv', 'data/wizoz10-1740.sent.csv']"
            ]
          },
          "metadata": {},
          "execution_count": 19
        }
      ]
    },
    {
      "cell_type": "markdown",
      "source": [
        "##Spacy sentence tokenization"
      ],
      "metadata": {
        "id": "CAFblQB6MEge"
      }
    },
    {
      "cell_type": "code",
      "source": [
        "nlp = spacy.blank(\"en\")\n",
        "nlp.add_pipe(\"sentencizer\")\n",
        "\n",
        "sentences = []\n",
        "for doc in nlp.pipe(corpus_alice):\n",
        "  sentences.extend(sent.text for sent in doc.sents)\n",
        "\n",
        "len(sentences), sentences[2]"
      ],
      "metadata": {
        "id": "cUlNTST_SUmH",
        "outputId": "eb53b990-ca19-4cc0-e76c-6555d50d2f08",
        "colab": {
          "base_uri": "https://localhost:8080/"
        }
      },
      "execution_count": null,
      "outputs": [
        {
          "output_type": "execute_result",
          "data": {
            "text/plain": [
              "(1615,\n",
              " 'There was nothing so VERY remarkable in that; nor did Alice\\nthink it so VERY much out of the way to hear the Rabbit say to\\nitself, `Oh dear!')"
            ]
          },
          "metadata": {},
          "execution_count": 20
        }
      ]
    },
    {
      "cell_type": "markdown",
      "source": [
        "##HuggingFace’s Dataset"
      ],
      "metadata": {
        "id": "gMQtKHL5VMvU"
      }
    },
    {
      "cell_type": "code",
      "source": [
        "# let's load from local files using HuggingFace\n",
        "dataset = load_dataset(path=\"csv\", data_files=new_fnames, quotechar=\"\\\\\", split=Split.TRAIN)"
      ],
      "metadata": {
        "id": "wDWkbp0-VNmV"
      },
      "execution_count": null,
      "outputs": []
    },
    {
      "cell_type": "code",
      "source": [
        "# let's see attributes, like features, num_columns, and shape\n",
        "dataset.features, dataset.num_columns, dataset.shape"
      ],
      "metadata": {
        "id": "cUGmh8d9upmR",
        "outputId": "d592e608-8f98-4898-8a05-fb4250410448",
        "colab": {
          "base_uri": "https://localhost:8080/"
        }
      },
      "execution_count": null,
      "outputs": [
        {
          "output_type": "execute_result",
          "data": {
            "text/plain": [
              "({'sentence': Value(dtype='string', id=None),\n",
              "  'source': Value(dtype='string', id=None)},\n",
              " 2,\n",
              " (3852, 2))"
            ]
          },
          "metadata": {},
          "execution_count": 22
        }
      ]
    },
    {
      "cell_type": "code",
      "source": [
        "dataset[2]"
      ],
      "metadata": {
        "id": "qbcE5hb2u7Rp",
        "outputId": "f05747df-c1c7-450f-f6cd-c460fdb3dabe",
        "colab": {
          "base_uri": "https://localhost:8080/"
        }
      },
      "execution_count": null,
      "outputs": [
        {
          "output_type": "execute_result",
          "data": {
            "text/plain": [
              "{'sentence': 'There was nothing so VERY remarkable in that; nor did Alice think it so VERY much out of the way to hear the Rabbit say to itself, `Oh dear!',\n",
              " 'source': 'alice28-1476.txt'}"
            ]
          },
          "metadata": {},
          "execution_count": 23
        }
      ]
    },
    {
      "cell_type": "code",
      "source": [
        "dataset[\"sentence\"][:3]"
      ],
      "metadata": {
        "id": "HwwhVPVhvL8-",
        "outputId": "edee1f14-5ed0-4f2a-8e26-416d2ea69daf",
        "colab": {
          "base_uri": "https://localhost:8080/"
        }
      },
      "execution_count": null,
      "outputs": [
        {
          "output_type": "execute_result",
          "data": {
            "text/plain": [
              "[\"                ALICE'S ADVENTURES IN WONDERLAND                            Lewis Carroll                 THE MILLENNIUM FULCRUM EDITION 2.8                                 CHAPTER I                        Down the Rabbit-Hole     Alice was beginning to get very tired of sitting by her sister on the bank, and of having nothing to do:  once or twice she had peeped into the book her sister was reading, but it had no pictures or conversations in it, `and what is the use of a book,' thought Alice `without pictures or conversation?'\",\n",
              " 'So she was considering in her own mind (as well as she could, for the hot day made her feel very sleepy and stupid), whether the pleasure of making a daisy-chain would be worth the trouble of getting up and picking the daisies, when suddenly a White Rabbit with pink eyes ran close by her.',\n",
              " 'There was nothing so VERY remarkable in that; nor did Alice think it so VERY much out of the way to hear the Rabbit say to itself, `Oh dear!']"
            ]
          },
          "metadata": {},
          "execution_count": 24
        }
      ]
    },
    {
      "cell_type": "code",
      "source": [
        "dataset[\"source\"][:3]"
      ],
      "metadata": {
        "id": "-jLahzGpvB4m",
        "outputId": "1faca640-322e-40e1-a2b9-0e2a0dab811d",
        "colab": {
          "base_uri": "https://localhost:8080/"
        }
      },
      "execution_count": null,
      "outputs": [
        {
          "output_type": "execute_result",
          "data": {
            "text/plain": [
              "['alice28-1476.txt', 'alice28-1476.txt', 'alice28-1476.txt']"
            ]
          },
          "metadata": {},
          "execution_count": 25
        }
      ]
    },
    {
      "cell_type": "code",
      "source": [
        "# check the unique sources\n",
        "dataset.unique(\"source\")"
      ],
      "metadata": {
        "id": "JtCGLGaVGxI1",
        "outputId": "72405468-7ce4-48de-a2d4-782174b858e2",
        "colab": {
          "base_uri": "https://localhost:8080/"
        }
      },
      "execution_count": null,
      "outputs": [
        {
          "output_type": "execute_result",
          "data": {
            "text/plain": [
              "['alice28-1476.txt', 'wizoz10-1740.txt']"
            ]
          },
          "metadata": {},
          "execution_count": 26
        }
      ]
    },
    {
      "cell_type": "code",
      "source": [
        "# let's create new columns\n",
        "def is_alice_label(row):\n",
        "  is_alice = int(row[\"source\"] == \"alice28-1476.txt\")\n",
        "  return {\"label\": is_alice}"
      ],
      "metadata": {
        "id": "qqTGqoNzHBUL"
      },
      "execution_count": null,
      "outputs": []
    },
    {
      "cell_type": "code",
      "source": [
        "dataset = dataset.map(is_alice_label)"
      ],
      "metadata": {
        "id": "yO6tDsIrHUHZ",
        "outputId": "7801d5cf-5472-4f4c-89bd-f7068dbd417f",
        "colab": {
          "base_uri": "https://localhost:8080/",
          "height": 49,
          "referenced_widgets": [
            "fe693ef7bbef4e7a88344988972efefe",
            "df43c9dd1eba44b7b193d5c131004cf7",
            "65a9426972404459840db2d40098749c",
            "30ad82d20c304dfd966acb876fa8c2aa",
            "8778a2b3877c4c8bada753e208110f57",
            "cca6442345ee4004a8febcae0aebb3a3",
            "98ac2cb045ad403c957604c5d7146b2d",
            "46f2f198c7934d6a82b39c73fdf2d6e5",
            "8ad2c83aed314b8599804a6d319bdf00",
            "32b360a716d040a2ab7cb0c6ed104561",
            "84a8726da8264b8dbb5aea3af3999bfe"
          ]
        }
      },
      "execution_count": null,
      "outputs": [
        {
          "output_type": "display_data",
          "data": {
            "text/plain": [
              "Map:   0%|          | 0/3852 [00:00<?, ? examples/s]"
            ],
            "application/vnd.jupyter.widget-view+json": {
              "version_major": 2,
              "version_minor": 0,
              "model_id": "fe693ef7bbef4e7a88344988972efefe"
            }
          },
          "metadata": {}
        }
      ]
    },
    {
      "cell_type": "code",
      "source": [
        "dataset[2]"
      ],
      "metadata": {
        "id": "kW04h9hFHw8f",
        "outputId": "d9427699-4b2a-4cd6-8761-3b300f07432a",
        "colab": {
          "base_uri": "https://localhost:8080/"
        }
      },
      "execution_count": null,
      "outputs": [
        {
          "output_type": "execute_result",
          "data": {
            "text/plain": [
              "{'sentence': 'There was nothing so VERY remarkable in that; nor did Alice think it so VERY much out of the way to hear the Rabbit say to itself, `Oh dear!',\n",
              " 'source': 'alice28-1476.txt',\n",
              " 'label': 1}"
            ]
          },
          "metadata": {},
          "execution_count": 29
        }
      ]
    },
    {
      "cell_type": "code",
      "source": [
        "# Now, we can finally shuffle the dataset and split it into training and test sets\n",
        "shuffled_dataset = dataset.shuffle(seed=42)\n",
        "split_dataset = shuffled_dataset.train_test_split(test_size=0.2)\n",
        "split_dataset"
      ],
      "metadata": {
        "id": "kTby8KlRQtDQ",
        "outputId": "e09470cd-3bfa-41b9-8cec-75e83485765b",
        "colab": {
          "base_uri": "https://localhost:8080/"
        }
      },
      "execution_count": null,
      "outputs": [
        {
          "output_type": "execute_result",
          "data": {
            "text/plain": [
              "DatasetDict({\n",
              "    train: Dataset({\n",
              "        features: ['sentence', 'source', 'label'],\n",
              "        num_rows: 3081\n",
              "    })\n",
              "    test: Dataset({\n",
              "        features: ['sentence', 'source', 'label'],\n",
              "        num_rows: 771\n",
              "    })\n",
              "})"
            ]
          },
          "metadata": {},
          "execution_count": 30
        }
      ]
    },
    {
      "cell_type": "code",
      "source": [
        "train_dataset = split_dataset[\"train\"]\n",
        "test_dataset = split_dataset[\"test\"]"
      ],
      "metadata": {
        "id": "pNKEmyDIRD32"
      },
      "execution_count": null,
      "outputs": []
    },
    {
      "cell_type": "code",
      "source": [
        "train_dataset[0]"
      ],
      "metadata": {
        "id": "_fb8D7pYRQkW",
        "outputId": "1e1b7af1-0c38-4bb8-e821-78ccc47c8f77",
        "colab": {
          "base_uri": "https://localhost:8080/"
        }
      },
      "execution_count": null,
      "outputs": [
        {
          "output_type": "execute_result",
          "data": {
            "text/plain": [
              "{'sentence': '\"And back to Kansas?\"', 'source': 'wizoz10-1740.txt', 'label': 0}"
            ]
          },
          "metadata": {},
          "execution_count": 32
        }
      ]
    },
    {
      "cell_type": "markdown",
      "source": [
        "##Vocabulary"
      ],
      "metadata": {
        "id": "BovMzxtw2vO6"
      }
    },
    {
      "cell_type": "code",
      "source": [
        "sentences = train_dataset[\"sentence\"]\n",
        "tokens = [simple_preprocess(sent) for sent in sentences]"
      ],
      "metadata": {
        "id": "BzjO7lLW2v7K"
      },
      "execution_count": null,
      "outputs": []
    },
    {
      "cell_type": "code",
      "source": [
        "# build a vocabulary\n",
        "dictionary = corpora.Dictionary(tokens)\n",
        "print(dictionary)"
      ],
      "metadata": {
        "id": "0ZDoBi5422Sk",
        "outputId": "55c703e9-798e-423a-a274-6dbc3972f17b",
        "colab": {
          "base_uri": "https://localhost:8080/"
        }
      },
      "execution_count": null,
      "outputs": [
        {
          "output_type": "stream",
          "name": "stdout",
          "text": [
            "Dictionary<3677 unique tokens: ['and', 'back', 'kansas', 'to', 'as']...>\n"
          ]
        }
      ]
    },
    {
      "cell_type": "code",
      "source": [
        "vocab = list(dictionary.token2id.keys())\n",
        "vocab[:5]"
      ],
      "metadata": {
        "id": "VRc6jXRY25Zb",
        "outputId": "f74b95a6-2a53-4971-904d-c1f5e40737a3",
        "colab": {
          "base_uri": "https://localhost:8080/"
        }
      },
      "execution_count": null,
      "outputs": [
        {
          "output_type": "execute_result",
          "data": {
            "text/plain": [
              "['and', 'back', 'kansas', 'to', 'as']"
            ]
          },
          "metadata": {},
          "execution_count": 35
        }
      ]
    },
    {
      "cell_type": "code",
      "source": [
        "# add special token to unknown word\n",
        "special_tokens = {\n",
        "    \"[PAD]\": 0,\n",
        "    \"[UNK]\": 1\n",
        "}\n",
        "\n",
        "dictionary.patch_with_special_tokens(special_tokens)"
      ],
      "metadata": {
        "id": "COPYreo229tA"
      },
      "execution_count": null,
      "outputs": []
    },
    {
      "cell_type": "code",
      "source": [
        "def get_rare_ids(dictionary, min_freq):\n",
        "  rare_ids = [t[0] for t in dictionary.cfs.items() if t[1] < min_freq]\n",
        "  return rare_ids"
      ],
      "metadata": {
        "id": "SBiXOr4H3AjQ"
      },
      "execution_count": null,
      "outputs": []
    },
    {
      "cell_type": "code",
      "source": [
        "def make_vocab(sentences, folder=None, special_tokens=None, vocab_size=None, min_freq=None):\n",
        "\n",
        "  if folder is not None:\n",
        "    if not os.path.exists(folder):\n",
        "      os.mkdir(folder)\n",
        "\n",
        "  # tokenizes the sentences and create a Dictionary\n",
        "  tokens = [simple_preprocess(sent) for sent in sentences]\n",
        "  dictionary = corpora.Dictionary(tokens)\n",
        "\n",
        "  # keeps only the most frequent words (vocab size)\n",
        "  if vocab_size is not None:\n",
        "    dictionary.filter_extremes(keep_n=vocab_size)\n",
        "\n",
        "  # removes rare words (in case the vocab size still includes words with low frequency)\n",
        "  if min_freq is not None:\n",
        "    rare_tokens = get_rare_ids(dictionary, min_freq)\n",
        "    dictionary.filter_tokens(bad_ids=rare_tokens)\n",
        "\n",
        "  # gets the whole list of tokens and frequencies\n",
        "  items = dictionary.cfs.items()\n",
        "\n",
        "  # sorts the tokens in descending order\n",
        "  words = [dictionary[t[0]] for t in sorted(dictionary.cfs.items(), key=lambda t: -t[1])]\n",
        "\n",
        "  # prepends special tokens, if any\n",
        "  if special_tokens is not None:\n",
        "    to_add = []\n",
        "    for special_token in special_tokens:\n",
        "      if special_token not in words:\n",
        "        to_add.append(special_token)\n",
        "    words = to_add + words\n",
        "\n",
        "  with open(os.path.join(folder, \"vocab.txt\"), \"w\") as f:\n",
        "    for word in words:\n",
        "      f.write(f\"{word}\\n\")"
      ],
      "metadata": {
        "id": "bXogiiHo3BWv"
      },
      "execution_count": null,
      "outputs": []
    },
    {
      "cell_type": "code",
      "source": [
        "make_vocab(\n",
        "    train_dataset[\"sentence\"],\n",
        "    \"our_vocab/\",\n",
        "    special_tokens=['[PAD]', '[UNK]', '[SEP]', '[CLS]', '[MASK]'],\n",
        "    min_freq=2\n",
        ")"
      ],
      "metadata": {
        "id": "AEjeVtJY3DmC"
      },
      "execution_count": null,
      "outputs": []
    },
    {
      "cell_type": "markdown",
      "source": [
        "## HugginFace's Tokenizer"
      ],
      "metadata": {
        "id": "2O6_LQhwM5P5"
      }
    },
    {
      "cell_type": "markdown",
      "source": [
        "So, before loading a pre-trained tokenizer, let’s create our own tokenizer using our\n",
        "own vocabulary."
      ],
      "metadata": {
        "id": "l6OsR5AQ3L5b"
      }
    },
    {
      "cell_type": "code",
      "source": [
        "tokenizer = BertTokenizer(\"our_vocab/vocab.txt\")"
      ],
      "metadata": {
        "id": "zyTwT20d3LZL"
      },
      "execution_count": null,
      "outputs": []
    },
    {
      "cell_type": "markdown",
      "source": [
        "Let’s apply our tokenizer to our dataset of sentences, padding them and\n",
        "returning PyTorch tensors:"
      ],
      "metadata": {
        "id": "QhUvETeOAReV"
      }
    },
    {
      "cell_type": "code",
      "source": [
        "tokenized_dataset = tokenizer(dataset[\"sentence\"],\n",
        "                              padding=True,\n",
        "                              return_tensors=\"pt\",\n",
        "                              max_length=50,\n",
        "                              truncation=True)\n",
        "tokenized_dataset[\"input_ids\"]"
      ],
      "metadata": {
        "colab": {
          "base_uri": "https://localhost:8080/"
        },
        "id": "cwkfzV3AASH2",
        "outputId": "64a40c52-9284-4024-ea90-78231386e11a"
      },
      "execution_count": null,
      "outputs": [
        {
          "output_type": "execute_result",
          "data": {
            "text/plain": [
              "tensor([[   3,   26,    1,  ...,  103,  867,    2],\n",
              "        [   3,   24,   10,  ..., 1304,    5,    2],\n",
              "        [   3,   50,   12,  ...,    0,    0,    0],\n",
              "        ...,\n",
              "        [   3,    1,    6,  ...,    0,    0,    0],\n",
              "        [   3,    6,  130,  ...,    0,    0,    0],\n",
              "        [   3,    1,    1,  ...,    0,    0,    0]])"
            ]
          },
          "metadata": {},
          "execution_count": 41
        }
      ]
    },
    {
      "cell_type": "markdown",
      "source": [
        "Can we feed the input_ids to BERT and watch the magic happen?\n",
        "\n",
        "BERT is actually using vectors to represent the words. The\n",
        "token IDs we’ll be sending it are simply the indices of an enormous lookup table.\n",
        "\n",
        "That lookup table has a very nice name: **Word Embeddings**.\n",
        "\n",
        "Each row of the lookup table corresponds to a different token, and each row is\n",
        "represented by a vector. The size of the vectors is the dimensionality of the\n",
        "embedding."
      ],
      "metadata": {
        "id": "3m5yLhzHMCbJ"
      }
    },
    {
      "cell_type": "markdown",
      "source": [
        "##Text representation"
      ],
      "metadata": {
        "id": "vbGRfN2lSckj"
      }
    },
    {
      "cell_type": "markdown",
      "source": [
        "Before getting to the actual word embeddings, let’s start with the basics and text representations."
      ],
      "metadata": {
        "id": "I8Q8t1InYQCN"
      }
    },
    {
      "cell_type": "markdown",
      "source": [
        "###One-Hot Encoding"
      ],
      "metadata": {
        "id": "EG_k8wCPSeHm"
      }
    },
    {
      "cell_type": "markdown",
      "source": [
        "The idea behind OHE is quite simple: Each unique token (word) is represented by a vector full of zeros except for one position, which corresponds to the token’s index.\n",
        "\n",
        "Let’s see one-hot encoding representations for 5 words.\n",
        "\n",
        "![](https://github.com/rahiakela/deep-learning-research-and-practice/blob/main/deep-learning-with-pytorch-step-by-step/Part-III-NLP/images/ohe1.png?raw=1)\n",
        "\n",
        "But there are 3,704 unique tokens in our text\n",
        "corpora (not counting the added special tokens), so the OHE actually looks like this.\n",
        "\n",
        "![](https://github.com/rahiakela/deep-learning-research-and-practice/blob/main/deep-learning-with-pytorch-step-by-step/Part-III-NLP/images/ohe2.png?raw=1)\n",
        "\n",
        "That’s quite a large and sparse vector, right?\n",
        "\n",
        "Clearly, this isn’t very practical.\n",
        "\n",
        "Nonetheless, the sparse vectors produced by the one-hot\n",
        "encoding are the basis of a fairly basic NLP model: the bag-of-words (BoW)."
      ],
      "metadata": {
        "id": "_n5iKKJMZTJ-"
      }
    },
    {
      "cell_type": "markdown",
      "source": [
        "###Bag-of-Words"
      ],
      "metadata": {
        "id": "X8uH8jRzaMQ5"
      }
    },
    {
      "cell_type": "markdown",
      "source": [
        "The bag-of-words model is literally a bag of words: It simply sums up the\n",
        "corresponding OHE vectors, completely disregarding any underlying structure or\n",
        "relationships between the words."
      ],
      "metadata": {
        "id": "S9CzuIXYaNHT"
      }
    },
    {
      "cell_type": "code",
      "source": [
        "sentence = \"the white rabbit is a rabbit\"\n",
        "bow_tokens = simple_preprocess(sentence)\n",
        "bow_tokens"
      ],
      "metadata": {
        "id": "pAHmAtcCUgVI",
        "outputId": "98fce592-8221-4f25-e717-de0cb0a175c6",
        "colab": {
          "base_uri": "https://localhost:8080/"
        }
      },
      "execution_count": null,
      "outputs": [
        {
          "output_type": "execute_result",
          "data": {
            "text/plain": [
              "['the', 'white', 'rabbit', 'is', 'rabbit']"
            ]
          },
          "metadata": {},
          "execution_count": 43
        }
      ]
    },
    {
      "cell_type": "code",
      "source": [
        "bow = dictionary.doc2bow(bow_tokens)\n",
        "bow"
      ],
      "metadata": {
        "id": "exjRsktyvC9A",
        "outputId": "4189dc23-5a59-4b0f-e22b-5a640f9ce990",
        "colab": {
          "base_uri": "https://localhost:8080/"
        }
      },
      "execution_count": null,
      "outputs": [
        {
          "output_type": "execute_result",
          "data": {
            "text/plain": [
              "[(18, 1), (35, 1), (631, 2), (1077, 1)]"
            ]
          },
          "metadata": {},
          "execution_count": 44
        }
      ]
    },
    {
      "cell_type": "markdown",
      "source": [
        "Representing words using\n",
        "one-hot-encoded vectors also presents severe limitations: Not only do the vectors become more and more sparse (that is, have more zeros in them) as the vocabulary\n",
        "grows, but also every word is orthogonal to all the other words.\n",
        "\n",
        "If we use one-hot-encoded vectors to represent words, we’re\n",
        "basically saying that no two words are similar to each other."
      ],
      "metadata": {
        "id": "6NzPynsAwQe5"
      }
    },
    {
      "cell_type": "markdown",
      "source": [
        "##Word Embeddings"
      ],
      "metadata": {
        "id": "TLl6U27awH-U"
      }
    },
    {
      "cell_type": "markdown",
      "source": [
        "Word2Vec has two model architectures: continuous bag-of-words (CBoW) and skip-gram (SG)."
      ],
      "metadata": {
        "id": "E5t85Yn3rrZs"
      }
    },
    {
      "cell_type": "markdown",
      "source": [
        "###Word2Vec"
      ],
      "metadata": {
        "id": "JeqPATo1rrjF"
      }
    },
    {
      "cell_type": "code",
      "source": [
        "class CBOW(nn.Module):\n",
        "  def __init__(self, vocab_size, embedding_size):\n",
        "    super().__init__()\n",
        "\n",
        "    self.embedding = nn.Embedding(vocab_size, embedding_size)\n",
        "    self.linear = nn.Linear(embedding_size, vocab_size)\n",
        "\n",
        "  def forward(self, X):\n",
        "    embeddings = self.embedding(X)\n",
        "    bow = embeddings.mean(dim=1)\n",
        "    logits = self.linear(bow)\n",
        "    return logits"
      ],
      "metadata": {
        "id": "FBv34YVcvMmk"
      },
      "execution_count": 4,
      "outputs": []
    },
    {
      "cell_type": "markdown",
      "source": [
        "If our vocabulary had only five words (\"the,\"\n",
        "\"small,\" \"is,\" \"barking,\" and \"dog\"), we could try to represent each word with an\n",
        "embedding of three dimensions.\n",
        "\n",
        "![image.png](data:image/png;base64,iVBORw0KGgoAAAANSUhEUgAABD8AAACpCAYAAAAsuZYDAAAAAXNSR0IArs4c6QAAAARnQU1BAACxjwv8YQUAAAAJcEhZcwAAFiUAABYlAUlSJPAAAExZSURBVHhe7d0HXNRmHwfw33HsJQ5AxIXiQHFbZxVRpO4qdftq3auOumrrnnVrXXVW27qte+9dte6tuFDcA0H2usub5MI+UFtFOH7f93MvyZPcEWwuzz//PEMliEBEREREREREZKCMlJ9ERERERERERAaJyQ8iIiIiIiIiMmhMfhARERERERGRQWPyg4iIiIiIiIgMGpMfRERERERERGTQmPwgIiIiIiIiIoPG5AcRERERERERGTQmP4iIiIiIiIjIoDH5QUREREREREQGjckPIiIiIiIiIjJoTH4QERERERERkUFj8oOIiIiIiIiIDBqTH0RERERERERk0Jj8ICIiIiIiIiKDxuQHERERERERERk0Jj+IiIiIiIiIyKAx+UFEREREREREBo3JDyIiIiIiIiIyaEx+EBEREREREZFBY/KDiIiIiIiIiAwakx9EREREREREZNBUgkhZzvJUKhVGj2ilrBFlbmMnrOP5TAZDOp9HtGiorBFlbhP+2snrMxmMI8euoVZNd2WNKHOTzucjR68pa2RomPxIREp+CFGblDWizE1l5sPzmQyGdD5Hrl+grBFlbuYte/H6TAZjzPh1GDOSyTwyDPL5PH6tskaGht1eiIiIiIiIiMigMflBRERERERERAaNyQ8iIiIiIiIiMmhMfhARERERERGRQWPyg4iIiIiIiIgMGpMfRERERERERGTQmPwgIiIiIiIiIoPG5AcRERERERERGTQmP4iIiIiIiIjIoDH5QUREREREREQGjckPIiIiIiIiIjJoTH7QxxF2At9k84HKzAfmXjvxVlDKiehf0z7YgfyWuu+VRZu/EaOUSxJvG7PBXyklSvDPsY0wb9kL5m3G4K8opZDIQGjubY2/Bo7f9FgpJUpbZqo7l/4wXj7Of3Os/H4Q6cfkBxEREREREREZNCY/6L3579sJU3MffD38iFJCRERElP5U1k5o0ekrdOvijcr5rJRSIpLw+0GkH5Mf9N6uX72HGHZnISIios/MyLESZszvgcW/9oT3F9mVUiKS8PtBpB+TH/TeLt9+riwRERERERERZR4qQaQsZ3kqlQpC1CZljeIc+GsXTtwKwZ7VO/HP/VAUq1YZrWsXFP/B1Kj0v6ZoUNBYN+BpnpnYFAmY1eiCF/sbIltMOP45ehWnrz9HSFg0zCws4OjogIo1S6FEPgvl0/WLDXuL8yev4/LtALwOCofW2Ay2jtlRrlRxVKvgCLWyH6VOGuQqq5zPL+/ew6lzD+H/PBhBoVFQmejOl1JuRfBl5TwwUfZL7ML+o9h2+jnsCruiX9sKcib40XVf7D12Fy/Fcw4mliji5gpv76LIZqKS36ONDMe1M1dx7X4w/J8FQqs2RcEihVCrSWnkSeOkFGIj4X/1Lk5efoJnr0IQGq2FsZkVrHNZo0zJovjyCye957Q0MFvBEsvwSAOY+wxC8Jrq8X9L4m2jV/2CMc3zK1sMk3Q+R65foKyRjga+d2/g5J2neB6mgZGJCXJkt0N5t6KoYJ9NHvDUY94BQO2IFb+PQQsz5W1JaPHmhT9O3H+EB69DER4tQGVsAkcHexQrWgxlc1jAQnf6p0Ijvv8Rjt/2w92ACESrTOFonwOVSxRHSTtLhLx4gLnHrom/BShStAxalcmne1sWJw1Ey3jjv9G+uYXZCy7jrXhyeTavDw83W2VLAk1QAE6d9sUtv0C8DAxDrHilt7TLBtd8+fDFl4XgnN1U2ZP+izHj12HMyFbKWsamr+6UzpPDR6/jyu2Xcv1sZWePUmULw7N6fr3xQ5x/XbeL5+7yhZfFY1DBxbseOlSygP8lX+z+2w/PA8Ph1bIBvixmIw942m32Rfk9qdXzjy+dx9Ltd+VlyzwF0KNzFWQTr9lpfT+EoNv4Zf5FedvXnZqiXF4zBD1+gqMnfHHHPxDhsQIszM3hKl7Ha9cpHB8D6RMZFIjTJ+/j6u1HCAyPhV32HChRsRy+LG8Hc7UW25Zvx4XHUWI9lBNdBtRBvrQrlAxBPp/Hr1XWyNAw+ZEIkx/6/dSqLyZveaKsJaIyw3d7fse8WmJEnSj5Ye3VE49/y4ee1Udj7eNYZecExjldsPTwZHxbTH+Von1xBvXrLsY+3zdKSWJquNbwxq7NXVDEhg2X0pIlkh9CBHaOnIy2c28gOFKMZPTIU8YTP6/omeJ8WzVyEv439SycatTFowO98HDlAlTvvh/Pk32MafFvcO1EG/F8i8Wk1sMwbPN9ZUsC86K1cepwL5TNpSfM0QZi7DdjMWZXaiO1q1G0VRvsmN80xTnN5EcCJj+S0QRi8cJxGHwsEtHJa3G1HToPGoFvw/e8M/mxbdtCtFt1OdUujSaOZbBvzLeomlNPwlo5hmEnohCqSfoBRlaOmDp2COo8O45yM7bKZU2adsL6tpXk5ayOyY//TprNwqXUH/I1cNyaORjpk1fZIlLqhp5LfPE4KFopTMrGsSDm7p+SaixC7y+zJj+k86Zd+HY06LMfvhHKDvF0dfPh5T76H278x7rdu8IyHAwFKgyfitXlrsC9xcr46/CkDfPwY+M8705+iMfQvHxfbLwZLq+O+X0uRrdxlpfT+n4Irw6iWMH5uCOG6Av2LcW3dkdRyWsVrgVLaeqk0opvNEEP0MpjFDbeEv+QZBoNGYTtE75A2yrdseZisBhMlcH556NQ3orJD/q8ePdI79SqdxusWtgR5XLpLlhl63tj1aJeWLG4F9oXTXkKWdkJGN5hLnbG5EX7Hk0wcXwHjB/aBG2rOcBa/IjYAD90qT0ex54mDUiE6GCsHTYOxUtMwT7fQOTI74peg1pjzqxemDe1Pb7vUAX57Ixw9/huNGq2GHdCUl6kKWvZNGkemky7ihCNOar7eGPYqP9h5rTumDaujXy+FBZv2J5ePozOVfvh1yMvlHfpGJkYyz8jQ0Kwc8hwVO9xDCXr18V48XydMLypfL5KzwSjb23EqOnHsLrvcMw4FYku3zXDqNFt5X1a1S0CC/ErEHn7EIZNOyp/XmIxL+6hR/UBGC8FRyoreDf3lj9/1tTOmPhjE3RqWBI5TDW4vW4l2vXdiDCmoum9aLB0xZ/od1RKfJigQoUKGP6/lljYqxWmtm+CjuVssHLGaEw+qSdprdBGBODXWWPRWU58qOFevhLGtvPB3J5txc9ohA5l88FUvF7HvLiMFhN/x+GQ5DeQGiz+c7l8DFLiI3vuQujSrBGmd2mFyS3qwjuPgMFDJ2D+xVfK/uJXQM2Qg9JHXN0gJT7ylymN74e2xJTJXfHLlG8xrI83ahXJgfAXD/TWDZR1XP1rM8p0PYRX9q7o1MdHjlfHDK6PelXE6594jZPq5vYD94hLSf3Xul1lZQEz5dlgTFgEZv6yCzC3RoWKbvCs5Q6n7Lr4JC2hD33RUTyGLTfDYeJUCn2WTsOQ1rrEx7uoLM3ibwCvb9+Bkl+ugMq9Ar7/sQ0mjWuHkX284mMgKb75cfIBufVeAi2eH92Iryv/oEt8iP8Gjds1kOOveVPbolfz0ji9YBHqjjyPgJBI3VtU5jBNowUJUXphy49E2PIjDdpAfF2qO7bd1aDJ4H7YOrGWskGRqOWHsakZcpb6AmdODET+JLFuNC79PAGVx12Tn1QOXzYNE9oVVrYBt7dvis9856rggfMn+id7f9J9CvaZiBsz3JB2B5qsy+BbfojnZIvy3bHhpga1unfF4bkNlA0J/PdugevXf8rnyxft2+LM0ubKFmDduGloPfEUjNRqaAWx4v51CjZ3StylKhrtq3THyovBMBHP6ZhYMyw5MgddKyduWh2N776SgueXsCpTA6/ODEhyPv69eAW+7LtZ+o8Bz2nTcaCvc4qM8x8/jUfHmRflp/PTr83HoEIJe7DlRwK2/EggBJ9B+Z7LcVMMnst92Qyn+nkrW+JocG71RNTe+kzXKkRPy4/4LjHiGV+w/hBc7FggafcWIRrn1kyGp/gZ0vdHagH1cKwXsiv7JD4GGNli1eTR+KagpW6jSIh6gt7fT8QfAUJ80NyseResaVlRWcva2PLjv0v1yXaiugGmLjh8eypqOSV7ai3u063WQCz9522KuoE+XGZt+SFd/9y6DcHRuZVgn+S+PBqDGw/AjH3PALP8WPP0F7S2VjaJ/mvdnjhmdq1aFlHiwSw6PhL18yRNeqTe8iMaI1oOw8St96HO5YbtZ8emeG+aLaPE31/CYaZ8/TYWY6AinYfglPhvIHWXSZAQ35gWqojHN4bF/xsJoU/QtswAXetulRVarFiAtS2sk/wb7Jo0Cw3HHJfL5DrArDKuvh4K90zQ04wtPwxb8u8q0X8WGwMMGtU2ReJCjEJQpm8TlLPRXT3v+iUeQFWDdX+dlINsqTL5YVQrPe8Hijb0xnIfJ0if8GDJUow7E6XbQFmPNgBPn+tuq0qV1H/jn9/LExvmdsTihQMwoXt1pTQprcYI1SeOwZqOyceSMYVHzULyUkx0NEr3G4y2lZL3KRf3qa5L4EU+foVr4rmfmI1rAQwb2BD9+rXC7F4pgyPJVw2rQn4YonmJPXteQvoKEKVOi/N7DuK2/NRQjTYe5eXSpNSo2GYwmrvaKOvJabD73HV5ySZfWexunz/luB4qU1Rs1RfzKtnI19to3z3Y5x+m25bsGEo36oQGBRISHxKVmTPm/dwbFez0tRcn+oQS1Q3mxSrBzVHPOWiUHYNn9EqzbiDDl6tsVeyfnTzxITFF5061dXV21CPMnPcgSeuPj1m33z11CS1GtkuRvEiN5u1zLOj8E2Zuvy93I5/3e4/3fq8+OSt44ID4b5A08SExRQOv4vJS9JMXOBaS8Bc8PXcZm57IFQByV62KJc2TJj4kX/VpjT7u6vjkN1FGoe/7SvSfqGwqoX7t3MpaUiqrwnB00J12gW91fRRl2mCcOq30mzQpjjo1HHXLyRlZw2eoF+RYJsoPy5ZeS1IhURZilBPZbHVB7d4Dl6C3V7c6G5p0a4JunWrAu5KTUpiMmRMGf1cQ+rqhOjsp08OpHdBvUElY6tsnt+5c14SG40myWr507ZqYOKkLZk9tilKpxCY5cttC16NMwN17gQwUKG2at1h/5rHuumeaH1Vd7OTiFFSW+LKQ/uuw9NT75F1d8rm0e364GOs5sSXq7GjjU1P33RDCcP6e0j0g8TGYuKJHvaJ6B0VVZ3dHvWL2yhpROklUN0Re3439l1OORyAp9kWltOsGMnjla5aCcyr52SIVXVFEbsop4Pq28whMVDl/1LpdjC8af5XQCvpd1s5ait6r/BBl4YgZ28ajZ93/1urzS6+yqQ7Ynsc5p24hJhwPXickP25cfxQ/1lSlaiX0JE7EP8vGCZMm1pK7uxNlJEx+0Edn4pofjqkloY2sYKpnbDEh1BcPnuuyyGqLCGxetB2zf9mq97V432PEddYKPOebYoBKyiKMsqN9u0ryRez29q3IU34Meg9bjxVrzuGK79v3ToqZOORINXgxNtW1zzSyyYbidvprcGPzd9fsoS+e4ciu81iycBd+nrgOY+UmlbrX+PknkOiBClGahNhw3HqhC6NVlvmQ2zL1ajxfHgdlKSkh9D6eBOpOuoJ2qSRIFCaOBZFfuWY/C3gr/0x8DGoHF5TTF/kq3AsZdncsyoAS1Q3Sg5XuTX5E857LMWfRERw5/gJBEQwaSMc1tQSxyNgxJ0orsUHEvUcI0HPafIy6XZ27PAo4pJJ9SEQVG4mD02dh6MwL4pvs8OO8gehXMWmLu3/DOU8OZSklUzP9fVSeP0uYkCBP3EMiPayqV0ZhfU+NiD4jJj/oo1NZmcsD5X0I7asXCNTlPqB5exsTfvod3w/9Q/9rxGEocTdiH73gjWMW1uan3tg2pBSsVRoEXL+CBTPWokPHn1GmdCc4uP6An2aeQooB3JNRmRjD9h1XQpWxGu+R49BDg/srF6B4if7wbDYR3fsvxfBxYmA0QQySlNeEX08glOcwvSdteBheKueLSW57WKcxiKitlf4RkWICXiKuA0vObIk6suuhMrGEjdKsIyxSN3Bd4mNQ21ghuzr1L0funCmnHyX61OLqBifx6xHx8ik2Lt+O/v3mwNOrF/Lk74GWHdbgjJ/+FiGUdWS3TT15oFKbwCm77voqhL9FWJJptT5e3W6WOyeU3uBpOvfbRngNP44ncm9vU5QtU0Au/69MTVN7Wpm6tyEJXc6tbVIfeU9q7Z1H3yx4RJ8Rkx+UIUSHptogkCh1ppZoOGEsdi5ri0q5k1bAbx7dxeSfpsG10lzMORf+WbqTPD9+GGW6H8CTUF1mzyKbPep41Ua3Lt7xry4tq4g3sP8qs0JZVEQGiCXjjsHYylxvk+cEHx5YE/1nSt1w6/xwdPFyUQp1IoLf4K91f8HLY9RnqxsoYzA2S2OaYyMTmEnTuUmESEQm6lv7Met2jaW5bmyQd9h17KyyJNK8xNrVJ5SV9BeT6HjNjJncoMyFyQ/KEMxymsfPkmFeqhWeR2ySR8J/10v7agCKM7bO8mq2bY5/Hv6JB2fHY8sffTCqbx15qjopbpGmuu3/ZQ8MXqYb4DHdCBGYNOkveRpQS6cCmLxmIh49WogDO/tg8a8941+/jq4FG066RR/AVml+rY2MQqw29XMnLDLZCLwKIwur+Mo/Jlr/PonFiuewxNg4IWSIO4bYsEi8TeP0jYpWpjkk+gxsS1TA0p3TEHh7Fo5sGoDpI5rgfw1LIKcYN4S8ePB56gbKMLSxaXSB0sYg+K2yXWUNK3Pd4ueq27Uqc1T/pjG+b1pSXt+8ZBPGHHrz3l18PyYLo4TsR3hMGkcghCM6mulFyliY/KAMwcg+L7IpXQujHj7FK6ULDNH7U6NA6ZL4unVtjJ3+HXYfnY1DcxrqnqgIYVi8cN87u8B8VOHnsf/oK3nR63/fYKiPG3KapXy8ExsRjRDVezz2IRIZWVrBXqm5Y5+9wksh9XPnzRvdGB3JGecsAAflevs8JO1vhRDxGm+UJ5621rrZYxIfg+ZtMPySNAdP6uXrIGWJ6HMxgl2BAvBoWAODRnbEik0T8OLJTDQsaPx56gbKMF4HhChLKQlRYXgUpLu2qXPmgG1cf+7PVLc37NsJJ1Z3wowF7VDHWjy+t08xttEw7H2Q/gGzjVXCWCCBylhQekX64ekrJj8oY2HygzIGU1e4FdUF1kLIBZy/kkZfXCECYcHMjpB44xUdjcdxd2Z6VO7QDN8rk8pHPHyBC6nv+tFF+7+OfyJe3DX1GS9OnbgpP0Eieh8qk2yoVcRMtxJ7F88CUp/u+9pTZXaW5Ixzw9VR9xm+T5VZtvTS4PGly3gqf2/UKOGsG0BVOoaSTrqmzppXvjjzIpXWI0I0Tvs9UVaI0s+76ga1XUH06+slL6d33UAZx9UbqV+fwh68wjmlUYNd9TLIrdwxfa66vWLlYvJPoxzFse1wL1R0Eq/hmpcYMng9XqdzfsHZOeHvfvwkQFlKTotrSw7iHsN1ymCY/KCMQWWB2h6FdMtCGLbsOadb1uP12tnIX6AzGrf+Hbuf8qqaNUVj54jRcMzTEYU9/8LTVFpdqkwAM6VJ5r8ftPTfMbYwhpnSFTYkLJUbVG0g5i88qqwQvQcja7T2cNNV3poA7LuuP3gXgs9gz+VnyloyKkvUKKabheXGues4FKk/QBeCz+PnNRchn70mrqjhqkyrKx7D12UcdMcQ64/pe28iQs9HRD/Yhw1XdE9IidKHJkndcD6NXl3GKt0dY3rXDZRxnDl0Ef6pJA4un7iMl9L5ozJD624V4qfzzgh1u2Xpuvh5UHV5+cb2zag34W66tl4qXrJw/DglUpJH3++Oee6LHiMvi9EaUcbC5Ae9HyMr2FrrnqBfOHMbd0K0iH3Hk5UP1fTbenBXpt3YNmstvpt3BjeeJ1xSNUEB2LJoJSp1P4M34RG4Y5QXzrk44EfWZIoq9dxhFROJ6Ftb8N0P23HmdhAi45+yaBH16im2zN+CBXd1yY9ClYujdBpjm31sRnnLwz2frpPw3k3H8M/TGMQdXeirZ9i2eD3aVhuAl8XK4EulL/HjI+fwUN9dJFEi9pXrw9NRdz1evX07/rjwECFxY38I0bhy/Qy+HbcKL01z6cpEyYcG8alTE0Wky2fUI7Qdvw47/Z7qNsg0uHH1pPwZfwQIUJlYofl37VDWJuF6W66+DyrY6e4AQg+vxeRj1xMSIOIxnD13EHV/3gXLXE5KIVF6UCepGxo3WIx1h+7jbUzCFyA27C2uHPsHc/88I6+nd91AGUf2N3dQt+VK/L7tEd4qUyALsZG4fegAxi/8R17PVbICBtRQWtuJMkrdXrtTS0z9Krd4xmtwfvLP8Pz+NAKiPu7vSI1jBTd0LaGbKSfsylk0+uFgQrwuxODFrZsY0mMxzuWtjII5ErrIEGUETH7QezJFCTfdfOiPj+1B0VzNYWLTGhV+vPrRBlvK5V4ZZw60Q0MnNbShL/HroMkoVagDChT5Hi4uPWCRuxua9dsEv2jAqWZdHF/lhdK8pmZZOb9sgZ/aFheXNNgybzkql+oM25zfyueLs1MHmOftg2aDdyBAahxkZIsfhn6NdI1vjfOg/f8qyYv3TxxClULtUaTcKFQt0xvOrv3wdd+12PDUBTNm9UDLyroIKfbaZtQo9SO+bLIh1dYsRCqz/Pi+wRfy8usnt9Bj8mTk6TAAzp36wqZ1f1Qauxzrn9ihd4Mq8j6S5MkP+4IVcX5iQ+RWCwi6cxTfDB2PnD3HotKISXDtPhDlx6/Aev9oeSaMunWaYGU1+yQzEqizu6N/7VK6FU0Qpsyfh+xthqLCTxPg2mMIakzdgHOWXhjZsIRuH6J0krhueCbGK63rD4ad9TewL9AXhV3EesKxC8rUnYItl4I+T91An5WgSahc/9ejEUJ2bkKnFv3hVKA3ynwxGsVce6JY/V+x90agvE+fwW1QOPGEJhmkbldbO2DIloloUtxSvgb/s2Aqpv51X9n6aaksc2PeptZyvC7NhHNo9nyULdIZRd1/QEnX7shdZjjmnzXCloODUDoHgxnKWJj8oPfW8fu2aOZRENktTWFiaoZc9vYoW1hJa38kFmWaYfu1X7B8oo88W4dTdks8f+QP/xdBsMmeA5U9KmPQ+H44uro97NlMNcvrOv0nbJ3XHu3FG6wieXPAVBsJf39/PA/WIEfe3KjmWQVDJ/XDvvOz0LmyrfKu9OPTrx1WjK2HmmWdYWumgd/N67j5LAJulSti3NyhOHNhBCo726LHr33RuGpBWJgYITDwBQKNjJFoMHWiFLzqNsGunl/Bp4wznK2NoY2JRnCMGjkcHNCwjjc2zhiOtq6WukpeiEVUZMoTytSlEXaP642+Nd1ROm82qMNf4dqdR3gRrkJBl4Jo26AOZg76Hn90rKG8Iymfr5tjbec6aFnDDQXsTGGkDcadx69hksMZnVq1wbUZzVDIkreVlP7i6oaBHaqgcglHZLcxR+DzJ7j/NARGNnYoUbIEOvZv+9nqBvp8YkMjETcHVUGPmrhwbAh+GeCF8vmN8eD2Ddx7HgKbHA6o6V0DszfPxZDWzsreCTJM3W6UHePHfyPPXiRZPGkFDj5Ln2SDUcFG2Hx6HH7uWQPlitjDGBrcu++HAMEGTf7XBJu3DET93CFIlGsiyhBUgkhZzvJUKpU8fSqRIVCZ+fB8JoMhnc+R6xcoa5RZ/HNsIzzmHZCX2zXvjt9alpOXszrzlr14fSaDMWb8OowZ2UpZI1JoA9GgeA/sfhgLlW0N3Hg2AMUzQW91+Xwev1ZZI0PDlh9ERET0SbwKShi3ydKC/RSJiLKMmMd4E6Rr+mGSxwG2bNFKGQCTH0RERPRBhKgnWLZjJ0Yu/x399t/VO9uLNObChbtxfdDVcHF2VJaJiCizEqIDsW3JNkydshYDx+1OZapdLR5sOYQbwVLloEb+r8oiF+86KQPgaUhEREQfRGUUhT+27sS03f9g8W9LsOX2G2VLgmi/3Vh2Vplu19QdXiUddMtERJRpqYwFnJ23AkNHrcesn/9Ey/lPkHxW6Rj/q2jW9ShCpNyHWUX8OLgETNnygzIAJj+IiIjow5gUQv+6ZXXBrDYY/WfNR+ff12HWjgOYs303vp87DS7Dd+K5RgWTPGUxcXgHlDbT+3iQiIgyE6Mc+GlFd3Qvbwu1EIXDQwbD02c2xk/dglmztmHM4F9RxXs2LkUD5jlcMHFrN3R0YOaDMgYOeJoIBzwlQ8IBT8mQcMDTDEiIxtm/Z6LrkofwTRjaI4nCZetix48+cOGjliQ44CkZEg54mkVpAzGixVhM3OGvFCSjdsCinSPQ3TOvUpA5cMBTw8bkRyJMfpAhYfKDDAmTHxmYJhCnbt3HhUeBCA6JhKA2hp1dNrgULIgvC+aGDedtToHJDzIkTH5kXUJsJHzP3cA/117gyYtgxEAFWxtbuBQqiIrVCiFvjsw30DWTH4aNyY9EmPwgQ8LkBxkSJj/IkDD5QYaEyQ8yJEx+GDY2RCUiIiIiIiIig8bkBxEREREREREZNCY/iIiIiIiIiMigMflBRERERERERAaNyQ8iIiIiIiIiMmic7SWRMWPGKEtERERERESUldSq6Y5atZsra2RomPwgIiIiIiIiIoPGbi9EREREREREZNCY/CAiIiIiIiIig8bkBxEREREREREZNCY/iIiIiIiIiMigMflBRERERERERAaNyQ8iIiIiIiIiMmhMfhARERERERGRQWPyIw2HDx9GQECAskZERJ9DYGCgfD0mMjQPHz7Es2fPlDUiIvpcbt68qSyRIWPyIw1r167F/fv3lTUiIvocpIBk69atWLN2jVJClDn5+flh9+7dyhpw5uwZJvaIiDKANWvWKktkyJj8SEOFChWY/CAi+sykG8by5cvj1k1fpYQoc5ISea8CXitrQF7nvDj1z2lljYiIPpeoqEhliQwZkx9p6NChA67fuKGsERHR5yBdh6XrsZ1dNvHm8ZZSSpT5XL50GQ657JU1wN3dHQsXLkZkJINuIqLPRep+mCtXLmWNDBmTH2kwNzdHeFgYgxIios8kJCQEMTEx8nL+Avlx+PAheZkoMzp7/hycnZ2VNcDGxgYjRwxL0hWGiIjSj3Sf17bd/1CvXj2lhAwZkx/v4OHhgf79+ytrRESUnoYPH47anp7ycgm3Etiybau8TJTZSAH29h074ebmppTojBo5Cpu3bFbWiIgoPY0aPRpFi7iiVKlSSgkZMiY/3qF+/foQBAFbtmxRSoiIKD1Ig5xK6tatK/8sVKgQ/Pwe4MmTJ/I6UWZy8eJFdOvaGcbGxkpJgpo1PTBz1ixotVqlhIiIPrWdO3ciKDAQs2fPVkrI0DH58Q5SkLJ48WJs2ryJ3V+IiNJJUFAQNm3ahDlz5sTfLJqZmaF3z17Yt2+fvE6Umew/cAAjR4xU1pLq+O23OHzwELZt26aUEBHRpyTd1/3xxx/yfZ401AFlDUx+vCepBUiL5i2UNSIi+lRiY2PRsnUrNGvWTClJ0KtXT/g9eKCsEWUegW8D4eTkpKwlJSX4/trwF1avWa2UEBHRp9SibSu0aMl7u6yGyY/31KqlGIj7NMWAgQPkAfiIiOjjk57EDBo0EN26dkXTpk2V0gTS05mIiEhehylTkaa4zeuUMNCpPtK53a1rN7Rs1RJ37txRSomI6GOSHrAMGz4cPo2bolnTlA9ZyLAx+fGejIyM0LlzF3jX9UaFCuU53SIR0Ud26tQpFCtWDI0aNU6zpV1tz1ryQKhEmYU0i4CPj4+yljppfJs///gT3Xt0h5+fn1JKREQfQ2BgoHwfV7VKFXTq1EnvGExk2FSCNJonfZCrV69i2fLfkd3OFn379kP27NmVLURE9KGkYGTWL7MQERGF7t26okiRIsoW/aSnNh06dBD3c8XYseOUUqKMafGSJWK0BXTv2k0pebd79+5hxowZKF68OHr37s0AnYjoP5DiBmlWrcOHDstJjy+++ELZQlkNW378C9JUSLNmzoCnZx3kK1AQFy5cULYQEdGHOHz4sHwdrV+vAaZNnfLOxIdEuhFcvXo1Lpy/iN27dyulRBmP1I3r7xMnPijxISlcuDB+/fVX+eFKiRJu2LVrl7KFiIg+VIuWLXH82HF5EHUmPrI2tvz4j169eo3fli2F/0N/NG7cWB4YlYiIUic9gdm+fTt279mFkiXc5VYc/6YFnXRjOXDgQAwZMgQuLi5KKVHGIHVb6dmzJ6ZOm4oypcsopR9Oam26Z88eBLwJQPVq1eHl5QULCwtlKxER6fPs2TOsXLkSjx77o1lTH3h6eipbKCtj8uMjkYJwaTDUgwcOYN269ShXrpyyhYiI4kjjerRu3Rpff/21/ATmv5IGhqz+5Zc4f+4c8uXLp5QSfX4dOrQXz/G5sLOzU0r+G2mQ33lz52HHzh2YPn06qlatqmwhIqI4UsJ40JDBeHD/Pu/JKAUmPz4yKRDfvXcPnj99Bo1Gg7Jly6JWrVqpTm9HRGTIpNZx+/btha+vL4LeBsHVtQhaNG/+Ua+J0nV36rRp6NSxI6pVq6aUEqU/rVaLtWvXYsfO7ejWtfsnedL48KE/1q9fJ363XsLYxAx1verIiRBpthgioqwmKioKN27cwMFDh/D06RPY57JHo0aN5GEKiJJj8uMTklqDLF68WB60rKS7O5p/8w3atm3LAIWIDJqU8Ni/fx8WLVqEZ8+eYszYsWjbpq2y9dOQfqeXV2306N4Tvb/rrZQSpa9BgwYhICAACxcuTJe6XupaM2nyZCz//Q/Ua/gV+vbsA2/vuspWIiLDJV3/1q5Zi18XLUDVqlXw09Cf2MqD3onJj3SyedNmLFv5O06fOA3P2h6o511P/KJWg5tbcWUPIqLMSUr0Sn1rpXE89h85iPP/nEOFyhXRq1tPNEjHcZCk42jcpAmaNWuKzp06M9FM6UaasWjAgAGwtLSUBypNb0FBQTh06BDmz5+Hq9euo3mL5viyWnXUresNe/tcyl5ERJmXVMefPHkSe/buxaXLl3Dzxk184+ODLl26sJUHvTcmP9JZSEgoHjzww61bt8SfDxASGiaWahGjiYWJ2hgQ/2uo1WrdzmQwoqOjoTJSwcjISP5vLK7A0cFeHtHfwcFBnuHCxsZGt3MG9urVK9y9e0983YHfg4fi3xUl/k0qxMTEwMTYhOduFiB154sTK163pJlXjI1NYWNthaLFiiJ/vvwoWLDgZzufw8LCsWv3Tpw/f0H+3uXLmxcuhQshZ/YcWeL8NDExkf+b5M2b75Pf9EoD10pP3qSxKKSgNCuRvgdhYWG45euL2763YJvNDh41a6Ju3bqffVpaKREjxRh3793FkydPES4epzTVrtpIrfv+issq6f/e4VOFhyrVu383fRhB+p/031X8T6bVaGEkXuusLC3l+KJQoULInz+/PCZSZpky+dGjR/I5/PjJYzx79lx3fYk7H6XTR1x813n0KW9veA5/enH//VRivCyI90nSf3NjE1PkcXZCsSJFkStXLjl2ziznNGUcTH4QfSZXrlzBzh074XvbF3v37UOp0qXQs3sP+Pj4KHtkDFLQIXXf+u23pQgODcPXjRvD29sbtWvX5pN1yvCkm3NpOtwHDx8iOipKKTVsbwLf4PSpUzAVb36G/TBU7m75MUldjObOm4OlS39D3nx5UKJ4yY82qGdmIV377O3t5WshnzhSRiQlDW7evIG9e/fh1OlTeP36tTwOQi0PjwxZf2/fvgMrVv2JXbv2okSJ4mjWpCnKlC0jj+OU1a4vRPTpMPlBlAFIgzXdv38f586dk592SE8VcubMKQfWJUuWVPZKH1LrjiNHj+DixUswNlYjNlaL6tWrony58hy4lygTkQaCPXDggJwAypcvLzp27PSfWuTcu3cP8+b/CjMzU7mVw5dffpkpWqwREeSxaKRBIe/evQu/Bw8QExMNR8fcqFO7thxnyC1T05E0I8eOHTvklkpSi7USJUqgdOnSyJs377+a+pyI6H0w+UGUQd28eQtdu3ZBjuw50Klzp0/eIkRqwj537jzxNQcTJkxAy5Yt2ZyQyABI3+3FSxbjwP792LRps1L6YaQEShfxevTb0t/g4uKilBJRZnbmzBmMGDUS0AryANXp8d0+e/YsBg0eDGtra8yfN4/XEyJKV0x+EGVg0rSJ58+fx4kTx+WnrsWKFUPbtu3kViEfi/S5CxcthkYTi5o1asgD5FlZWSpbichQ/P3335g8aTKa+TSVW4G875PepUuX4sbNmxjw/QC5BQkRGZbLly9j165dCH4bjGrVq8HLywsWFhbK1o/jr7/+wtlzZ5HNNhuaNGnC7mJE9Fkw+UGUSUhPb9evX4958+dh1cpVH+Vpya8LfsXGDRvlmxs+fSEyfNIYPj179kTNmjXQuXMXpTR1mzZtwuEjRzF3zmylhIgMlRRnTJs6Dbv37sG2rVs/ylgbp06dwrffdkDrNm0wbuw4pZSI6PNg8oMok5FGQZ87bx5MTU0waOCgf9U3Vmp2umbtWri5FUPLFq2QLVs2ZQsRGTrpBufHoT+iYaOG8PT0VEqTkvbp268/VBAwZcoUju1BlIVcvHgRK1b8icjIKPTq1etftdKQxvRYuXKlnECRBlplSw8iygiY/CDKpKQEhmcdLxw7chjly5dXStMm3dC0/V9bebrlvbv3cVAxoixKmp7W3d0dR44c0dvqa/ny5fATrxN8UkuUdUktxXx8mmHixJ9Rrlw5pfTdpBm2pBZmqV1fiIg+l/Qd2pmIPpovvvgCZ//5B0OGDFFK3m3atKmwNLfEsSPHmfggysKklhyzZs3Chg1/KSVJnTp9mokPoixOmg53xoyZqOFRCxcuXFBK0xYUFISpYqwhjSPCxAcRZTRMfhBlYm5uxTF16hQ0btQY58+fU0pTkp7yDhw0CFbW1vj9998z3Pz+RJT+pBmkXrx8hVevXislOtLMMJUqVVLWiCgrc3Nzg9+9e1i8eDH279+vlOq3c+dO9OvXF0uXLP0o44UQEX1s7PZCZACkpqktWjbH9m07lJKkBgwchC8qVkDbtm2VEiIi4PDhw1iwaAHWr10vrz979gxlypaF/8OHTJISUTyp22y1L6ti4vifUbduXaU0gXTtGDp0KP7880+lhIgo42HLDyIDIN2kjBk9Bg0a1JcHGUtsydIlcM7jxMQHEaXg4eGB0JBQXL9+XV7fuGkT1q1dx8QHESVhbGyMg/sPYfOWzfLA64ldvHQRHTt2lMcGISLKyJj8IDIQFSpUlAOPOl5eCAwMlMukQVGXLF2MwYMHy+tERIkZGRlhxvSZWLde1/Lj0UN/eHrWkpeJiBKTxgrq26cv6tSpLbc4jbNk8RJs3boV+fLlVUqIiDImJj+IDIg0GvuqlSuxaNEieX3jxo3YuX23vExEpI80dlBQUKDcbN3CykIpJSJKSRoDZNy48fhzxQp5fdPmzSharBhbixFRpsDkB5GBkfriPn3yVL6RURmpYW+fS9lCRKSfnV12uTl72TJllRIiIv1at26Nu3fuyDO7dPi2I7p07qxsISLK2Jj8IDJAxUu6yf1vverUVkqIiFKXxzkPhv00DKVKlVJKiIhS5+DogF69e6N3rx5ydxgiosyAs70QGaBTp06jWrWqCA4OZlBCRO8kTWHp7e2NmJgYeWBDIqK0SDNF1a5dWx5jjNPaElFmwZYfRAYoR47s8k8mPojofZiYmMDY1IyJDyJ6L5aWlvJPJj6IKDNh8oPIABUuXBj3799X1oiI0qZWq2FmZqasERGlrUKFCjh48KCyRkSUObDbCxERURYXGxuLR48ewcXFRSkhIiIiMixMfhARERERERGRQWO3FyIiIiIiIiIyaEx+EBEREREREZFBY/KDiIiIiIiIiAwakx9EREREREREZNCY/CAiIiIiIiIig8bkBxEREREREREZNCY/iIiIiIiIiMigMflBRERERERERAaNyQ8iIiIiIiIiMmhMfhARERERERGRQWPyg4iIiIiIiIgMGpMfRERERERERGTQmPwgIiIiIiIiIoPG5AcRERERERERGTQmP4gMnTYALYpbQmVeDxfCBKUwA8nox0dERETvJoRjTdOcMDJ2xdKXGbA+z+jHR0SfHJMfRIYuYj+u34tQVjKgjH58RERE9G4x97Fh7xtk2LRCRj8+IvrkmPwgMnARfx/GI42ykgFl9OMjIiKid4t55IdT0cpKBpTRj4+IPj2VIFKWiSgNYQF+OHvyJO4+fIaXQRGAiQXs8xVB2RqeKJ/PFmplP/1icOfC3zh78QoePw9CpNYIltlzIZ9LCRR0LYryRXPDRKXsmsiFfaux7eRt8ZuqRpPOg8TfY4mAxzdx4ugh3PEPRHgskN0hL0pV9ULVknlhluggIq+tx5QN1xHw92LMO/Acgrowug/9H5xMxI1GVmjXdxCKZE+c/xQQ8eIWjhw/g9vi3xgSFg0TGztY2OVE+QpVUbV0oRR/o/+Z3Vi26x95OaebB/q28pSXkxNCb2Dj4g24FqwF1LnRvn93OPtv+MDjIzJMb++cwpzVe+FavRnaeJVRSrMqLfx3z8Hys0ZoPKgvylvpuTASGTohHNdPHcWpC9fxJjgc0TCFRQ4nlKpYFZ4Vi0KqJlOnQeDDqzh99jJu3vVHeLQAIzNL5HYphpJlvkApMd6w1PO1EoLO4Zc5O/BWSIg3oA3EyX0HcPb6vfiYoKh7JXjVqgKbRAcR+/I6Ji34C6H+5zB92U5oVdnF728/8fsrbhTr80rtB6CBi7FuZ0VM6EucP3USV2/fw6uAUEA8RmuHPCiQ1wVVq1aEg7Wpsqci5iVWzF6Ie6FiHCF+5jfd+6FUbjNlYwIh+hU2zlsQH29U79QNnqa3Pvj4iMhASckPIkrb2wtzhIq5LaREYcqXylToPmePsmdKkU9PC13K5hTE23j97xdfTYYuEaKV/RNbOayxbh/xd8w7+EQ+DndboxTvl17tJq1X3qUTuOab1H+n2kHYeT9G2VNn/68DBWu1Sv/+UAsF6/8oXA+IVfbWiX19QqhjrdtHZV1a2PRSq2xJRBsmbO+cVzBR6T6nzIiz8t/6ocdHZKhO/DpAPu8b//inUpKFxd4TppY1Fa8BhYUlL/RcT4gMXNoxg/66OLH1o32U+lb/y7T4N8Jp/7fK3okELBGKGIv7JIo3Wuc11vsZlhXaJTmGiKvrUv+dYn3+3aFIZU+dCP8jgnexHPr3F192RTyEDXejlL0TLBvoFb9P67EbldKkfLdMSBJvhIllH3p8RGS42PKD6B3OrR+Hxm1H47lGDadSHqhaqQzc8meHseYtrhzeha3Hb0Krzoavvl+MFT+3gL1pwiMVTcBxtPRui00XHsM8RwE0aOaDqu4FYGVmijdPbuHA+pU4efcNomGOos3GYs/vg+Fik9DaYc3o5mg7bqO83HvwUOyeMx2mlRuiYc2KsLdSI/TVHezatAMXH76GytIFE49ewk8VbeX9NQ8PYdXR+zg6qSeW3dIAJqUxZr74+WZaxBpZo+7XTZHPRi0/JVk9ohP6zd6JN9FqlPP6Bl97fQEHWytEvH2Ox3evYsuWPfALiICrR3ds27kQbvFPYwUEnp+Lbv8bjo23QmFbsTdO7ZuLEolabPjunoXqTQYiIBYo4tUPR/bMRh71+x8fkaFb1M8LPeceROMf/8S2Se2V0qwp5uYkVC8zDGe1hbHk6R10dWDLD8o6pNYXbb2aYe35x7B2dIV3o8ZwzZsdlqoovLx9Htt3HcSjoBi41uiKbbsXJ6qLdfHG7CE/YPTvpxEqJK3Lo8MDcW7/Zqzfdw7RYtSfs0RjrD+wCbWdErV2CFuL4nZt4CvW1XHxxpO85dCqnieK53eAJuQxrh3bhy1izCP1HPESY579s7rJb9UG+WHltmN4cHwjRi/dDhg54tvZ01HbViPX5251mqCq3KwTuLJzNpq3HoA7oYCda3W08amNUgVzIzYqFH7XTuHisaM4eucNYF0IM9dsw/eNSsrvk0Q8PY32derK8YZZni+w8sRJNE/cYkPzCF08qmPZ34+SxBsfcnxEZODkFAgR6ad5KjQrbik/Hcj/1UD5CUISmjfC4ia5dU8PlKcl8WLvCXM8zOO3Tdjiq2xIRPta2DGkVPwTnu9/O61s0Fk76hvd+8WXmYWlkLfLDiEo2cPQZ4dnxz/RMPOYI7xOvF0bJvxWz1T3GWZfCedDUz5JTfyURN/nS3w3j43fp9CA4ylaqWgeLBCKWOtajXT+Zb9SKgkXetdy0P1+I1thyd+vlHLFexwfkWGLEfrX1V1D2PJDI9yeUk53rWHLD8pqtMHCn81yxdeXC5PXl6Jzq4bptiutGuLbXoixSHy8odTlYcm/PmJ9K8UbSeIFjbJNErpGcJNafkjblHjDP/F2WUKdri5QP2m8Ibqw4ifdMaT2/RVjnv+Vs5X3sS3fXs/ni8S4K26f7FW7poi7pHijoZNa3m7iNlTwi28kGi1cHO2ui6f0xRuidx4fERk8Jj+IUqUVnqxtKdgoN/1Td9xWypPSvjkk1CiQXcjjnEfoO29nXKlwf2FjwcFEeq9KKNDyD+GNvkpeEuMrNC1mJVfIbj4jEoIZUeLkh2OVjsITfS1dI+8IvfPqAgFVNh9hY+LsxTuTCxphXKtSaX++RBMorPzGSVBJn2NaVtj7MHkTUY2wfqSuG4uVS21h/1MxGtGGCyen1xNsxX8/lXUhodm803qDMSY/KCtKsxm2yipFM+zAx5eEBaN6C941ygl5c1kL5sYqwUitFqxy5hbKVfcW+k9YKNwL0td5ThB+G1hP/tz83v3E71ywnMz0qphfsDAxEmzLtU2SzHxyaY8wtGszoVTh3PJ26XfkdCogeDTrIvy277K4R4zQqYquuXqDH5br3pRMTJCfsGzSIOGr6mUE51w2gqn4d0qfY+PgLB/rwJ8XpWi2z25wlNUFi9eEPGrpnFcJbr13pqwvRdrw+0K/UtZCTofcgqtHf+F2qC6weHN2lRJvQMhW0ke4l9rXRYw3ljVx1NXl4vdqzaUgZYMoUfIjrXhgx8/tdd9LM7ek8YYo7eSCVni8oa2QTbruqcyEqbvuKuUpXV4zUnc9UOcWBp9I3kVHI0RcWSqUtTcRf5da6DX3kFzqf2KJkE/69zPNrj/eEDH5QUTitYWI9NIGYeOCbQiRqkqziqhe1VVXnowquyeOPXiDJ4+fYM53DXSF4ns3LNyLlzHistoBnYe2RKpjdxoXRa2a5eXF2+fP46lWXkyhkmc9uflmCqZ5UMFdt0GIfAK/19IBvyfNA5w6fVNerFSrtv7PlxjZofWoHnCUtkdfwpVLD3Xl8YzQ/IdxaJnXGGF+h9CozQLcvbAB3/ywB8GwQqO5x7Dpu8p6B1kjyopMbHKhZp3aqONVGzmVVts5CpaR1z286qCQXaILgRCAAa2/Qq9xv2Lf8Yt4/DoU1rnyoKCjDWLePMfFv/dh9oieKFpuADa/Svn9NzPXNeeOioxGxP7BqPXNaBw454+ImGQXm4jr6Pp1I0xZuhlX7z1HhMYauV3ckMM0Gkc3/4YujRtj5sUYhLx9K+9uZWEh/0ws6tk/aOrmis4/zcDevy/jZZiA4qVKwb1kCaiCdcc6c1gPlHavj1PPpAukjqVzcXiKf3uxuI9UWcG1Rn3536O6lxeyyw+1iQzXjTP/4Kk085k6D7oMrKe3vlRZuGD2lRC8fvEMd478giJWusDixtlzunhDVK6mJwqlNnanGG+0G9wVOaTtmpc4f+GWrjyZVOMNUZ58eXULscEfFm+IcdGmuZvwVnqLaS3UqVlIV66Hu2dtlJbGO9U8x9rlx5F0QjgjmJfqguF9fcRlDRZPn4bb4g6Lpk2SZ44r2rAP4w0iShWTH0SpkBIJRy5FystqpwpwtH3/mlSI9MdpP918aioLZ1QtYS4vpyZPntzyT82rp7gaJS+m4JLfSVlKRmUC6385I4IQeAYPnsfKy69uHMesWbNSfc3Z44+4EYLuPXykW0hEZV0Cfx5ehYpOZog6NgRebcbimXhvVa75YKz41lnZi4gk6gK1cWD/QRzYtx7VC+ruMqq3HiSXHdm3FQPLKVkAbSAO9q2F1SdeiF8yM3SZuA7PAyPw4tlj3HsSiBf+d7FyRGPYiR+h8ZuPjk2G4X5E0hsSIyPd50e9vInvei1DUAFPjJ2/GseOHcOmBcPlQECIfol5rbyw56F4PVDboff0TXgd8xZP7lzFbb+HeOF7Gt/VzYHBdWrjn2ephA5COKYN6o2dzzQwcyqLsSv24+Hz17h8+Yr8evncH4dXTkQZ8RqhebYf/YbOQlz6w7TGBPHfYjt+8FBmeDDKjaEbdsr/Hif2rGJ/fDJ4Dx74yz9VNnlQ2vnDwvPHzx8oS0D+AvmVJf1My5aGo/Lxz5491S0kk2q8ITI1/XffxcQxlcoyDFsX/qI31pBes1fsjY83np/+Gy+SZj9kzb4bie7lbaF9uA+1PL2xYPd9MQ4pjfEjeyt7EBHpobQAIaJkpJlMyppCqn4F00qTkvaNfQfN88Px71U71xF8U+tOotj3Szd53+RNMRN3exm8LOl4IAmihXXfmOn2M6ssTL+b6EDf0a0k2neKkFtuZvthr5Y/b1I+IaVdU5UmsdLL1EXYcD3FSCkJ2O2Fsjrta6GJq67bmt4xPwKWCA3Mdd8no9zthWt6e7aEx/eRl8YXWn0xaTPxxNcRWPronZXpzYU/42d7ksYC0Df2T+Szg/HXNenVYvRaZYuOdD2Rm52L23ouOK6UprRrWlfdZ5i4JW16nvh6wGbplMXM76+byeR9Yobkfv2ulu57I776L0r9uyeLOilUy6mbNS7JNSdRt5fU4w1BuLZulO53qZ2TxhuitLqVJI6pPuSV+nVPFLFHqJxNmaVObSe0+SvlOB+JsdsLEbHlB1EqVFo9jxo+NSMtIqOkujl9qGJj4pt/VW7UCaNHj36vV/OqRZR3JadFaEi4sixSafAm6I2yQkQfLEdX7IzQICQoAM+vzERxvQ9dLeBarKBuUdDg1atg3XJyKiv4LPgFTexTthTzvXARoRrx2mNkj0HTOiObnsZkZo41sHxMJShtM5ISwrHr59l4LF02jUugeeNKunI9PBp665rUx9zGooUXxKsGEUGb/t8ETTrGOVJMFXf5UjvXwQ+j9McXyV8j+zSEvd67FQGRdx4jwiSuj4+AIP+7CE+/EIqIMiEmP4hSoTKxRE4lyhdCgvAhOQmVmXXCe6MiEfyO+CI8LEJZModjzvT7WhrndkRcj5lyddtizJgx7/VqUctd96ZkhBebMG72ZnnZPlsOIMofE8YlNG0non/DCNbi98nePhdS6YYPM5O42wqNeEOTyk2UcX60bp5P72c89Fea3NsWhHcpK3k5BZUJyvbohgL6xhPQPMXWHc/kR7XqfJ4o7Kg3RSKzLOyGKvLhanBl534EMvtBFD+GzvvEDMlZWiV8Z6MidV1LUqUNRni47kunb9yeT8XI2jo+iWFkWxH9R+mPL1K8hreCg56LlhB6E50a9MSV1zHIkc8V1tq32D3kK6w+9VrZg4goJSY/iFKhsrZDfjNdZiDm4Z0PCtBVNlbx79W+fQM/3bAaqXoboRtAUGVlDYf0/FZa5oOVcs8U8CZAt/BvaQOxslcvXAvWijdQNTBpRC+52P/AOky68I5gjIjSJoTg9Ip56N60Mgo7Z4eFWgWVKuH104rzyo6pM8qWAy6pDIQYEqb7jhpZ2SLN4TWsS8I+W8qLlBAaBH8lQ6x5uAIehQugQIFUXkUaYl+M7vqoefUYIUx+EMEuW3b55/vEDMnZ2VkrS+9Rl4c/wlsluWJtY6NbSA8mtnBUnrZ8aEylz5XtK7D2sfgPZZYfE9YdRt1ilnJiZ9WqDcoeREQpMflBlBp1HnzdyAlyVR11Aldv6BIUKcXgj6lD0KdPH0xddUBXZFRAfq/8BYv1x9oNj9Jo2q3FtQvX5KWcxUqigpm8mD7MqsDdzVZevHTpYrIR1ZMRb75CwhJ1aUnm9KpJ6L3lNVS2RTBl1yZ06tML89q5Qq15grH1vsLQXf5pfz4R6RGD50fmwLtCMVTt0BdLtp7Fq0hT5C9WGhUqVIh/OecUA/93UFlYIUcqTUcio8J0C8amSHNsZ7UzslnrSX7EhCNAN8azfAPi7++f5kvuYiPtGvQaYWymToRibsXeI2bQ4Mba0XK80af/SFwL0O1VrLh7fEB/7eq1NOpaLe6tXoOn8ndVDfcSbnJpulDnRYtmzkpMdQiXrgbKxXoJUXj16nWqf4cQdAajJiySl717jUD3qnnx48g+MBU//OjvkxlvEFGqmPwgSo3KEo0GdtdN76p5ia1bD+rKk4s8hF/GTMf8+fNx3j9EV6a8V56qTQjD1jFT4J/Kkxypq8juE7qpY8vXrAHrtG48PjZVNtSsoeubf2fHBix/mfpdSNC6TsiXuxC+6jAEN94kCys09zFu5CyEim/3+N9ADKmeC0bmzvjuj73wLmAM7atjmNrUG3s/9HEWURb35uBQ1GrQH/svPhNrbFsMXXYAwQEv4HvjMs6dOxf/6tPgPW5ijNQwSeX6Ig+5qki7m5r+77AgfnZc+sW00iS81gjSgOrvfGnfrEXJtFqaEGURRat9GR8zbBk6HL76soKxfpjeZ7wcbyxY/xAqW10YH/9e0a1De3EilcaWUrwxYsoxSJPKqWyroUplZayg9KAyh9eQvsgrx1RBWPfXDl25HpHXt6JMbnu4VffBxntxWVWFGG/Ma+qBbTcCAbPKGPZDJ7krX6XWP2J6TXMI4Q8ZbxBRqpj8IEqDutRAdGxUQl7eOG8UBvy2Df/4PkeUeO8fGxGEywdXoH21lrgcIdbr1qXRrqmnvK9Eeu/yOS2QQwxINH4L0bP/DNx6Hhb/NCfq7VPsWT4KHep3wXWpq4j4/h7tv1a2fiQqUzjlttE9aYn9B8dP3hcXtPKxh0bqAoNmnXvCXQqgNPfQr0odzNt6CiHxdz/ivm8fYOv8n1Cp2ya8DX2Dh1p32Cd68qsJOI6fm3hi38NYqJ29MWJgO2WLSF0Iw5SnMYjxxbixM5MORvYex0eUZcU+wtQ+c+ArDQlk5IB2K89ifMfaum3JxMT+t5F1LCyV8QbCQ/Ayra9etC9eBqTcQW1tB2el1Vrso3sI+o9N2omyGiOHqnLMIE1brX2+Gj36T5DjDak+1sZE4uXtfzC1b2/8ESBWoqaO6D5/fPwAyHHvLWKtghB0Dk2qd8DGk76JWj/E4PrRNXK8sV7qKiK+v+vCpfgi+8d92mJtba27sdA+wbolRxAo1uNSff4iSJeNMSnSB91alpeXdy8chV6z18P3adwAzYIcb9w4tA6deo2Qp8p/E2qMErkTsqPa8IdyvDH4WCRUNoUxcvsm1HBS+vIZZUfvjfvwVbFs+uMN0buOj4iyAIGI0hR+b1eK6dmM1LqpKeNfZvmFsecjlHckNbNTlYT9VKZC4RLuQunSpQRb84TPUFkXEmZcCFfekeA/T3UrCt/bXZDiobjPiXtN2+qr7CEIby/MEcSgKWG7ka1QwLW4kNfOVDBJ9F5Hjz7C68Szw0W/EKaWjZua0lEYckrPfHRJ9kk5Fd37HB+RwUpjqltpashq7zVldrjQJm6qW/E1c89DpVwn7jqiLlBf8E9lyu74KaqTTz+bTOLva5KpbrXBwhwPc91nmLoI+x594FydEk51S1leTNKYQXkljzk8+y5W9k8q4MCARNPXq4Uc+VyFcuXLynV54vfXG/Sb8o5EPsJUt9F3twlORgm/J+6Vt8sOIe6KEPn0tNDQKdHfozIT8ri6CwXz2CeJN6Q4ZMbBJ8q7dE7M7Ru/vVr3eUppUvH76Ik33uf4iMiwseUH0TtYFKqP0w9OY+aPXeFR3hV5c1lDrRLvESys4Vy0HBp2GYwtRw9iVHlz5R1J9ZmzDbuXT0TrBtVQxNkaT25fx7XrNyDY5ka56t5o1WsEdhzai4HlPs2o6xZekzGx39fycZsYq2FhmwP5CpeCvV3C77Mt1xd7Du3CiN6tUKlkQWS3isaT+7fxIsoU5g4FUalOMwye9CeOrZuCnIkeFB1YPAojLuuapNboOgwTdVM4JGXigEF7dmJ0bQeoNEFY26kO1l98rmx8v+MjyopUgngnEDdGhyDeC0hhenJCBC4t+ha7r6Qyve17ci2qjDcQcxdr19zS219eCL2DMcPXyt3bUlBZo/XAFropcqP9sH3n37pyPWJfXMCPffvgl9/WpexCR5SlGaPv7L+wdcFotPSuJNeLFiZGUKmNYeNYENUatcPUlfuxbkoXZf+kctSZiUNHN2JAp6YoXyw3Yl/54fLFywjQWsPF/Qs53pghvn/1hG+Vd3xcJoW8sP33H1C1eB65xaeZpbVcn5d00Q3mKjFzqowtN+9i2aRB+Kp6GTjnNMXre9fw6HWwHG8ULl0NHb6fiD2X7qF/7TzKu4Co53sxatYyednIviZG/dBBXk6uWsfvk8QbnZdfRqRyzXqf4yMiw6aSMiDKMhEREaWrCLQoYYMNNzWo1n0G/l40UCkXaR6hf6GCmOOvBdSOGHvmQYok6+0tI1Gh+UQ4FSyMO/fuymVj1l7G6Fal5WXJutHN0XrcRqgL1Iff/V3Ip+exh/bFEVTI74lLUi7TrDKO+J2AR1xzcsXuiV3QYNQGWKhDERGjRYvRa7F+TCtlq0gIQNsKhbDmYjAsXDxx7NYhVNQz4+3ywQ3RecYuuavfxvuX0Mw+LqMag/XNbdBqY5T499phyImXmKovoUpERET0L6jHSJNoExER0Wegxrldf+DknSA8u3cbd1++xsXje7H3sSNqlyuMkvme4tDeS3gRGYrjmzbhxdu3eOl/F38f348/5kzAjzN3oFLfVfi+ehQ2Hrgof+Kjp29hYxSMt6Y5UNDBDtePrMeGozdhZFcE3/dvp2udkYzKyglVHHzx174biIh+ggN7T+HJsxe473sFp08cxJ/zJmL88pPoMHUtrG6ugV+gBiVrNUeLWu7KJ4hUliiS1xIHt+3Fi5d+WLZwPW7de4gHfndw/swpHNyxFvPGDMSs9acQCzO0HbsAw78qrrxZYgTzl0fwxx4/RGkjcfHQCbx8fhcn929HrEM5FM6dMJ0nERER0Ydiyw8iIqLP6Pzq4ajY7mdlTSdvlx14sLShPItB8MW5qFizP+7o6W/SZvomrB7UDDH3tqNA0SbyIIFxOk3fiWWDGrxXy484q35ohP9N26msJaIyRd95WzGnZxl8XSwftt3VpGz5oYh8dBRf1/XBPt83SklSKutCGLBoJya3LY4U7To097HEpzq6b0voGieZttUXg5sUVdaIiIiIPhzH/CAiIvqMKrTojw3DfVDI3hpWNrYoWt4DLWsXVrbqxuTZsmEOGlZ1hZ25Wt6nbK2mmLPtEpYObCbvY1K4Hk7tGyDvk83aAnnKeKJ6xULytg/RbvIK7Jg3BrXL59NNi2uk/K6tZzCjdz3dTu9gns8DW44ew6wfvkUltzywVqtgbGqGHAXd4d1+MPad/hsz9CU+JOpC6Lb2AAY2+0J+n629E6p/1RYlXXIoOxARERH9O2z5QURERO8n5go885XDkRdafDttB34f3FDZQERERJSxseUHERERyQIDX+HqgyBlLaUYvz249VrXt8YlXz75JxEREVFmwOQHERFRFieE38T3pazhkMsR5Wp8i+P+4cqWBDGBtzG60894Ic1Oa+KOLyomdM0hIiIiyuiY/CAiIsriVJbFMGZ4PZgLAjSPt6FV49bYcvkVYpTt0iCm/Zs3xaSTbyFAjTJDl+OrwlbKViIiIqKMj2N+EBERESCE4I+JvTFo7EoExOqKTCysYWUiIDg4DHJnF7UdvhnwMxZN6YWcfHxCREREmQiTH0RERJQg4jqm/zQWC/7aj5cv3iJKbQr7/EVQxrMNpgzrjVIF7ZQdiYiIiDIPJj+IiIiIiIiIyKCx0SoRERERERERGTQmP4iIiIiIiIjIoDH5QUREREREREQGjckPIiIiIiIiIjJoTH4QERERERERkUFj8oOIiIiIiIiIDBqTH0RERERERERk0Jj8ICIiIiIiIiIDBvwf4oHjbnhgcUgAAAAASUVORK5CYII=)"
      ],
      "metadata": {
        "id": "UAJFn2kTtI6U"
      }
    },
    {
      "cell_type": "code",
      "source": [
        "torch.manual_seed(42)\n",
        "\n",
        "dummy_cbow = CBOW(vocab_size=5, embedding_size=3)\n",
        "dummy_cbow.embedding.state_dict()"
      ],
      "metadata": {
        "id": "ofRQGAxWtBSE",
        "outputId": "68e534cd-0f73-49d2-bf53-4254909b525c",
        "colab": {
          "base_uri": "https://localhost:8080/"
        }
      },
      "execution_count": 5,
      "outputs": [
        {
          "output_type": "execute_result",
          "data": {
            "text/plain": [
              "OrderedDict([('weight',\n",
              "              tensor([[ 0.3367,  0.1288,  0.2345],\n",
              "                      [ 0.2303, -1.1229, -0.1863],\n",
              "                      [ 2.2082, -0.6380,  0.4617],\n",
              "                      [ 0.2674,  0.5349,  0.8094],\n",
              "                      [ 1.1103, -1.6898, -0.9890]]))])"
            ]
          },
          "metadata": {},
          "execution_count": 5
        }
      ]
    },
    {
      "cell_type": "markdown",
      "source": [
        "![image.png](data:image/png;base64,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)"
      ],
      "metadata": {
        "id": "brSD8cUHweot"
      }
    },
    {
      "cell_type": "markdown",
      "source": [
        "PyTorch’s `nn.Embedding` layer is a large lookup table.To actually\n",
        "retrieve the values, we need to call the embedding layer with a list of token\n",
        "indices, and it will return the corresponding rows of the table.\n",
        "\n",
        "Let's retrieve the embeddings for the tokens \"is\" and \"barking\" using\n",
        "their corresponding indices (two and three):"
      ],
      "metadata": {
        "id": "doZhP1fCtwJh"
      }
    },
    {
      "cell_type": "code",
      "source": [
        "# tokens: ['is', 'barking']\n",
        "dummy_cbow.embedding(torch.as_tensor([2, 3]))"
      ],
      "metadata": {
        "id": "e7sbAH_nuNTg",
        "outputId": "1eb35f71-bf9a-4e43-c631-b1686962d811",
        "colab": {
          "base_uri": "https://localhost:8080/"
        }
      },
      "execution_count": 6,
      "outputs": [
        {
          "output_type": "execute_result",
          "data": {
            "text/plain": [
              "tensor([[ 2.2082, -0.6380,  0.4617],\n",
              "        [ 0.2674,  0.5349,  0.8094]], grad_fn=<EmbeddingBackward0>)"
            ]
          },
          "metadata": {},
          "execution_count": 6
        }
      ]
    },
    {
      "cell_type": "markdown",
      "source": [
        "That’s why the main job of the tokenizer is to transform a\n",
        "sentence into a list of token IDs. That list is used as an input to\n",
        "the embedding layer, and from then on, the tokens are\n",
        "represented by dense vectors.\n",
        "\n",
        "In our former example, \"dog\" was the central word and the other four words were the context words:"
      ],
      "metadata": {
        "id": "j3L29dYbu6Od"
      }
    },
    {
      "cell_type": "code",
      "source": [
        "tiny_vocab = [\"the\", \"small\", \"is\", \"barking\", \"dog\"]\n",
        "context_words = [\"the\", \"small\", \"is\", \"barking\"]\n",
        "target_words = [\"dog\"]"
      ],
      "metadata": {
        "id": "U3tjMbAcuYYi"
      },
      "execution_count": 7,
      "outputs": []
    },
    {
      "cell_type": "markdown",
      "source": [
        "Now, let’s pretend that we tokenized the words and got their corresponding\n",
        "indices:"
      ],
      "metadata": {
        "id": "C78n0OjawBra"
      }
    },
    {
      "cell_type": "code",
      "source": [
        "batch_context = torch.as_tensor([[0, 1, 2, 3]]).long()\n",
        "batch_target = torch.as_tensor([[4]]).long()"
      ],
      "metadata": {
        "id": "mwSL8FCnv9_A"
      },
      "execution_count": 8,
      "outputs": []
    },
    {
      "cell_type": "markdown",
      "source": [
        "In its very first training step, the model would compute the continuous bag-ofwords\n",
        "for the inputs by averaging the corresponding embeddings."
      ],
      "metadata": {
        "id": "3hhXHBRZwwC0"
      }
    },
    {
      "cell_type": "markdown",
      "source": [
        "![image.png](data:image/png;base64,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)"
      ],
      "metadata": {
        "id": "3G6HXXAhwxDF"
      }
    },
    {
      "cell_type": "code",
      "source": [
        "cbow_features = dummy_cbow.embedding(batch_context).mean(dim=1)\n",
        "cbow_features"
      ],
      "metadata": {
        "id": "mmUjvFuNw2EN",
        "outputId": "70326a51-ee5a-4200-aa00-0a8a687dd3dc",
        "colab": {
          "base_uri": "https://localhost:8080/"
        }
      },
      "execution_count": 9,
      "outputs": [
        {
          "output_type": "execute_result",
          "data": {
            "text/plain": [
              "tensor([[ 0.7606, -0.2743,  0.3298]], grad_fn=<MeanBackward1>)"
            ]
          },
          "metadata": {},
          "execution_count": 9
        }
      ]
    },
    {
      "cell_type": "markdown",
      "source": [
        "The bag-of-words has three dimensions, which are the features used to compute\n",
        "the logits for our multiclass classification problem."
      ],
      "metadata": {
        "id": "nm9VtzAhyzAC"
      }
    },
    {
      "cell_type": "markdown",
      "source": [
        "![image.png](data:image/png;base64,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)"
      ],
      "metadata": {
        "id": "rPXLLjzmy0Hr"
      }
    },
    {
      "cell_type": "code",
      "source": [
        "logits = dummy_cbow.linear(cbow_features)\n",
        "logits"
      ],
      "metadata": {
        "id": "-XIRiwTAy3bD",
        "outputId": "3b7105e5-1187-49fe-d5fa-48d9d17bde8b",
        "colab": {
          "base_uri": "https://localhost:8080/"
        }
      },
      "execution_count": 10,
      "outputs": [
        {
          "output_type": "execute_result",
          "data": {
            "text/plain": [
              "tensor([[ 0.3542,  0.6937, -0.2028, -0.5873,  0.2099]],\n",
              "       grad_fn=<AddmmBackward0>)"
            ]
          },
          "metadata": {},
          "execution_count": 10
        }
      ]
    },
    {
      "cell_type": "markdown",
      "source": [
        "The largest logit corresponds to the word \"small\" (class index one), so that would be\n",
        "the predicted central word: \"The small small is barking.\" The prediction is obviously\n",
        "wrong, but, then again, that’s still a randomly initialized model.\n",
        "\n",
        "Given a large enough dataset of context and target words, we could train the CBOW model above using an `nn.CrossEntropyLoss()` to learn actual word embeddings."
      ],
      "metadata": {
        "id": "H8V5V4K3zSVV"
      }
    },
    {
      "cell_type": "code",
      "source": [],
      "metadata": {
        "id": "vyMESL5NzB49"
      },
      "execution_count": null,
      "outputs": []
    }
  ]
}