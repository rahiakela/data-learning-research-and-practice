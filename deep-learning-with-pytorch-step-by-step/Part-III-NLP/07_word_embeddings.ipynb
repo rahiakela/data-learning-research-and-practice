{
  "nbformat": 4,
  "nbformat_minor": 0,
  "metadata": {
    "colab": {
      "provenance": [],
      "toc_visible": true,
      "authorship_tag": "ABX9TyMNxC/YBsEiJGh2omRTPZz2",
      "include_colab_link": true
    },
    "kernelspec": {
      "name": "python3",
      "display_name": "Python 3"
    },
    "language_info": {
      "name": "python"
    },
    "widgets": {
      "application/vnd.jupyter.widget-state+json": {
        "1a349089ce074c83bda07554cd845b36": {
          "model_module": "@jupyter-widgets/controls",
          "model_name": "HBoxModel",
          "model_module_version": "1.5.0",
          "state": {
            "_dom_classes": [],
            "_model_module": "@jupyter-widgets/controls",
            "_model_module_version": "1.5.0",
            "_model_name": "HBoxModel",
            "_view_count": null,
            "_view_module": "@jupyter-widgets/controls",
            "_view_module_version": "1.5.0",
            "_view_name": "HBoxView",
            "box_style": "",
            "children": [
              "IPY_MODEL_4ad6d210b532476e959e817fa6b64c4b",
              "IPY_MODEL_62c17b445c2e43a887f3061e19ae98d7",
              "IPY_MODEL_f55d434efabb4cdd98a446611517ae2a"
            ],
            "layout": "IPY_MODEL_f27d88dd348040f79ee4ffa0147ec0be"
          }
        },
        "4ad6d210b532476e959e817fa6b64c4b": {
          "model_module": "@jupyter-widgets/controls",
          "model_name": "HTMLModel",
          "model_module_version": "1.5.0",
          "state": {
            "_dom_classes": [],
            "_model_module": "@jupyter-widgets/controls",
            "_model_module_version": "1.5.0",
            "_model_name": "HTMLModel",
            "_view_count": null,
            "_view_module": "@jupyter-widgets/controls",
            "_view_module_version": "1.5.0",
            "_view_name": "HTMLView",
            "description": "",
            "description_tooltip": null,
            "layout": "IPY_MODEL_6e8f45c51c144f3482ca3e9cb268e0fb",
            "placeholder": "​",
            "style": "IPY_MODEL_002c11d972b04aad8edbb875fc9cdb50",
            "value": "Downloading data files: 100%"
          }
        },
        "62c17b445c2e43a887f3061e19ae98d7": {
          "model_module": "@jupyter-widgets/controls",
          "model_name": "FloatProgressModel",
          "model_module_version": "1.5.0",
          "state": {
            "_dom_classes": [],
            "_model_module": "@jupyter-widgets/controls",
            "_model_module_version": "1.5.0",
            "_model_name": "FloatProgressModel",
            "_view_count": null,
            "_view_module": "@jupyter-widgets/controls",
            "_view_module_version": "1.5.0",
            "_view_name": "ProgressView",
            "bar_style": "success",
            "description": "",
            "description_tooltip": null,
            "layout": "IPY_MODEL_99570bf04c6244358e3df57aab7a6b0e",
            "max": 1,
            "min": 0,
            "orientation": "horizontal",
            "style": "IPY_MODEL_92742eceb0984f63835b7705aaf4b123",
            "value": 1
          }
        },
        "f55d434efabb4cdd98a446611517ae2a": {
          "model_module": "@jupyter-widgets/controls",
          "model_name": "HTMLModel",
          "model_module_version": "1.5.0",
          "state": {
            "_dom_classes": [],
            "_model_module": "@jupyter-widgets/controls",
            "_model_module_version": "1.5.0",
            "_model_name": "HTMLModel",
            "_view_count": null,
            "_view_module": "@jupyter-widgets/controls",
            "_view_module_version": "1.5.0",
            "_view_name": "HTMLView",
            "description": "",
            "description_tooltip": null,
            "layout": "IPY_MODEL_88b1c00504c845da85f6c228bdd68b2c",
            "placeholder": "​",
            "style": "IPY_MODEL_b891c5b7d506497392dd8f45fe7995fe",
            "value": " 1/1 [00:00&lt;00:00, 19.15it/s]"
          }
        },
        "f27d88dd348040f79ee4ffa0147ec0be": {
          "model_module": "@jupyter-widgets/base",
          "model_name": "LayoutModel",
          "model_module_version": "1.2.0",
          "state": {
            "_model_module": "@jupyter-widgets/base",
            "_model_module_version": "1.2.0",
            "_model_name": "LayoutModel",
            "_view_count": null,
            "_view_module": "@jupyter-widgets/base",
            "_view_module_version": "1.2.0",
            "_view_name": "LayoutView",
            "align_content": null,
            "align_items": null,
            "align_self": null,
            "border": null,
            "bottom": null,
            "display": null,
            "flex": null,
            "flex_flow": null,
            "grid_area": null,
            "grid_auto_columns": null,
            "grid_auto_flow": null,
            "grid_auto_rows": null,
            "grid_column": null,
            "grid_gap": null,
            "grid_row": null,
            "grid_template_areas": null,
            "grid_template_columns": null,
            "grid_template_rows": null,
            "height": null,
            "justify_content": null,
            "justify_items": null,
            "left": null,
            "margin": null,
            "max_height": null,
            "max_width": null,
            "min_height": null,
            "min_width": null,
            "object_fit": null,
            "object_position": null,
            "order": null,
            "overflow": null,
            "overflow_x": null,
            "overflow_y": null,
            "padding": null,
            "right": null,
            "top": null,
            "visibility": null,
            "width": null
          }
        },
        "6e8f45c51c144f3482ca3e9cb268e0fb": {
          "model_module": "@jupyter-widgets/base",
          "model_name": "LayoutModel",
          "model_module_version": "1.2.0",
          "state": {
            "_model_module": "@jupyter-widgets/base",
            "_model_module_version": "1.2.0",
            "_model_name": "LayoutModel",
            "_view_count": null,
            "_view_module": "@jupyter-widgets/base",
            "_view_module_version": "1.2.0",
            "_view_name": "LayoutView",
            "align_content": null,
            "align_items": null,
            "align_self": null,
            "border": null,
            "bottom": null,
            "display": null,
            "flex": null,
            "flex_flow": null,
            "grid_area": null,
            "grid_auto_columns": null,
            "grid_auto_flow": null,
            "grid_auto_rows": null,
            "grid_column": null,
            "grid_gap": null,
            "grid_row": null,
            "grid_template_areas": null,
            "grid_template_columns": null,
            "grid_template_rows": null,
            "height": null,
            "justify_content": null,
            "justify_items": null,
            "left": null,
            "margin": null,
            "max_height": null,
            "max_width": null,
            "min_height": null,
            "min_width": null,
            "object_fit": null,
            "object_position": null,
            "order": null,
            "overflow": null,
            "overflow_x": null,
            "overflow_y": null,
            "padding": null,
            "right": null,
            "top": null,
            "visibility": null,
            "width": null
          }
        },
        "002c11d972b04aad8edbb875fc9cdb50": {
          "model_module": "@jupyter-widgets/controls",
          "model_name": "DescriptionStyleModel",
          "model_module_version": "1.5.0",
          "state": {
            "_model_module": "@jupyter-widgets/controls",
            "_model_module_version": "1.5.0",
            "_model_name": "DescriptionStyleModel",
            "_view_count": null,
            "_view_module": "@jupyter-widgets/base",
            "_view_module_version": "1.2.0",
            "_view_name": "StyleView",
            "description_width": ""
          }
        },
        "99570bf04c6244358e3df57aab7a6b0e": {
          "model_module": "@jupyter-widgets/base",
          "model_name": "LayoutModel",
          "model_module_version": "1.2.0",
          "state": {
            "_model_module": "@jupyter-widgets/base",
            "_model_module_version": "1.2.0",
            "_model_name": "LayoutModel",
            "_view_count": null,
            "_view_module": "@jupyter-widgets/base",
            "_view_module_version": "1.2.0",
            "_view_name": "LayoutView",
            "align_content": null,
            "align_items": null,
            "align_self": null,
            "border": null,
            "bottom": null,
            "display": null,
            "flex": null,
            "flex_flow": null,
            "grid_area": null,
            "grid_auto_columns": null,
            "grid_auto_flow": null,
            "grid_auto_rows": null,
            "grid_column": null,
            "grid_gap": null,
            "grid_row": null,
            "grid_template_areas": null,
            "grid_template_columns": null,
            "grid_template_rows": null,
            "height": null,
            "justify_content": null,
            "justify_items": null,
            "left": null,
            "margin": null,
            "max_height": null,
            "max_width": null,
            "min_height": null,
            "min_width": null,
            "object_fit": null,
            "object_position": null,
            "order": null,
            "overflow": null,
            "overflow_x": null,
            "overflow_y": null,
            "padding": null,
            "right": null,
            "top": null,
            "visibility": null,
            "width": null
          }
        },
        "92742eceb0984f63835b7705aaf4b123": {
          "model_module": "@jupyter-widgets/controls",
          "model_name": "ProgressStyleModel",
          "model_module_version": "1.5.0",
          "state": {
            "_model_module": "@jupyter-widgets/controls",
            "_model_module_version": "1.5.0",
            "_model_name": "ProgressStyleModel",
            "_view_count": null,
            "_view_module": "@jupyter-widgets/base",
            "_view_module_version": "1.2.0",
            "_view_name": "StyleView",
            "bar_color": null,
            "description_width": ""
          }
        },
        "88b1c00504c845da85f6c228bdd68b2c": {
          "model_module": "@jupyter-widgets/base",
          "model_name": "LayoutModel",
          "model_module_version": "1.2.0",
          "state": {
            "_model_module": "@jupyter-widgets/base",
            "_model_module_version": "1.2.0",
            "_model_name": "LayoutModel",
            "_view_count": null,
            "_view_module": "@jupyter-widgets/base",
            "_view_module_version": "1.2.0",
            "_view_name": "LayoutView",
            "align_content": null,
            "align_items": null,
            "align_self": null,
            "border": null,
            "bottom": null,
            "display": null,
            "flex": null,
            "flex_flow": null,
            "grid_area": null,
            "grid_auto_columns": null,
            "grid_auto_flow": null,
            "grid_auto_rows": null,
            "grid_column": null,
            "grid_gap": null,
            "grid_row": null,
            "grid_template_areas": null,
            "grid_template_columns": null,
            "grid_template_rows": null,
            "height": null,
            "justify_content": null,
            "justify_items": null,
            "left": null,
            "margin": null,
            "max_height": null,
            "max_width": null,
            "min_height": null,
            "min_width": null,
            "object_fit": null,
            "object_position": null,
            "order": null,
            "overflow": null,
            "overflow_x": null,
            "overflow_y": null,
            "padding": null,
            "right": null,
            "top": null,
            "visibility": null,
            "width": null
          }
        },
        "b891c5b7d506497392dd8f45fe7995fe": {
          "model_module": "@jupyter-widgets/controls",
          "model_name": "DescriptionStyleModel",
          "model_module_version": "1.5.0",
          "state": {
            "_model_module": "@jupyter-widgets/controls",
            "_model_module_version": "1.5.0",
            "_model_name": "DescriptionStyleModel",
            "_view_count": null,
            "_view_module": "@jupyter-widgets/base",
            "_view_module_version": "1.2.0",
            "_view_name": "StyleView",
            "description_width": ""
          }
        },
        "22ad7f72fe9d483191414dfcbff1312e": {
          "model_module": "@jupyter-widgets/controls",
          "model_name": "HBoxModel",
          "model_module_version": "1.5.0",
          "state": {
            "_dom_classes": [],
            "_model_module": "@jupyter-widgets/controls",
            "_model_module_version": "1.5.0",
            "_model_name": "HBoxModel",
            "_view_count": null,
            "_view_module": "@jupyter-widgets/controls",
            "_view_module_version": "1.5.0",
            "_view_name": "HBoxView",
            "box_style": "",
            "children": [
              "IPY_MODEL_9022ba3e17de486ba652d306d129b15a",
              "IPY_MODEL_29aa9e9d2ace497db775d1bb1e596cbd",
              "IPY_MODEL_0c1f066b2837426badbd26c72b2e4582"
            ],
            "layout": "IPY_MODEL_882e3f22e76c42ceb56196c3ba108a48"
          }
        },
        "9022ba3e17de486ba652d306d129b15a": {
          "model_module": "@jupyter-widgets/controls",
          "model_name": "HTMLModel",
          "model_module_version": "1.5.0",
          "state": {
            "_dom_classes": [],
            "_model_module": "@jupyter-widgets/controls",
            "_model_module_version": "1.5.0",
            "_model_name": "HTMLModel",
            "_view_count": null,
            "_view_module": "@jupyter-widgets/controls",
            "_view_module_version": "1.5.0",
            "_view_name": "HTMLView",
            "description": "",
            "description_tooltip": null,
            "layout": "IPY_MODEL_8ac34a4669c2467d8591f6b9fdf3de5c",
            "placeholder": "​",
            "style": "IPY_MODEL_c7f9884a81f94ee686c283037a9fe613",
            "value": "Extracting data files: 100%"
          }
        },
        "29aa9e9d2ace497db775d1bb1e596cbd": {
          "model_module": "@jupyter-widgets/controls",
          "model_name": "FloatProgressModel",
          "model_module_version": "1.5.0",
          "state": {
            "_dom_classes": [],
            "_model_module": "@jupyter-widgets/controls",
            "_model_module_version": "1.5.0",
            "_model_name": "FloatProgressModel",
            "_view_count": null,
            "_view_module": "@jupyter-widgets/controls",
            "_view_module_version": "1.5.0",
            "_view_name": "ProgressView",
            "bar_style": "success",
            "description": "",
            "description_tooltip": null,
            "layout": "IPY_MODEL_b2c234e3b63548359671cb8cfb591709",
            "max": 1,
            "min": 0,
            "orientation": "horizontal",
            "style": "IPY_MODEL_10b004be53d5447fa0a304b0dc2fad5b",
            "value": 1
          }
        },
        "0c1f066b2837426badbd26c72b2e4582": {
          "model_module": "@jupyter-widgets/controls",
          "model_name": "HTMLModel",
          "model_module_version": "1.5.0",
          "state": {
            "_dom_classes": [],
            "_model_module": "@jupyter-widgets/controls",
            "_model_module_version": "1.5.0",
            "_model_name": "HTMLModel",
            "_view_count": null,
            "_view_module": "@jupyter-widgets/controls",
            "_view_module_version": "1.5.0",
            "_view_name": "HTMLView",
            "description": "",
            "description_tooltip": null,
            "layout": "IPY_MODEL_9acac9d3fa9c46228f087c539928a96d",
            "placeholder": "​",
            "style": "IPY_MODEL_6fc281b743014da3b007dc9ae101bfd8",
            "value": " 1/1 [00:00&lt;00:00, 16.24it/s]"
          }
        },
        "882e3f22e76c42ceb56196c3ba108a48": {
          "model_module": "@jupyter-widgets/base",
          "model_name": "LayoutModel",
          "model_module_version": "1.2.0",
          "state": {
            "_model_module": "@jupyter-widgets/base",
            "_model_module_version": "1.2.0",
            "_model_name": "LayoutModel",
            "_view_count": null,
            "_view_module": "@jupyter-widgets/base",
            "_view_module_version": "1.2.0",
            "_view_name": "LayoutView",
            "align_content": null,
            "align_items": null,
            "align_self": null,
            "border": null,
            "bottom": null,
            "display": null,
            "flex": null,
            "flex_flow": null,
            "grid_area": null,
            "grid_auto_columns": null,
            "grid_auto_flow": null,
            "grid_auto_rows": null,
            "grid_column": null,
            "grid_gap": null,
            "grid_row": null,
            "grid_template_areas": null,
            "grid_template_columns": null,
            "grid_template_rows": null,
            "height": null,
            "justify_content": null,
            "justify_items": null,
            "left": null,
            "margin": null,
            "max_height": null,
            "max_width": null,
            "min_height": null,
            "min_width": null,
            "object_fit": null,
            "object_position": null,
            "order": null,
            "overflow": null,
            "overflow_x": null,
            "overflow_y": null,
            "padding": null,
            "right": null,
            "top": null,
            "visibility": null,
            "width": null
          }
        },
        "8ac34a4669c2467d8591f6b9fdf3de5c": {
          "model_module": "@jupyter-widgets/base",
          "model_name": "LayoutModel",
          "model_module_version": "1.2.0",
          "state": {
            "_model_module": "@jupyter-widgets/base",
            "_model_module_version": "1.2.0",
            "_model_name": "LayoutModel",
            "_view_count": null,
            "_view_module": "@jupyter-widgets/base",
            "_view_module_version": "1.2.0",
            "_view_name": "LayoutView",
            "align_content": null,
            "align_items": null,
            "align_self": null,
            "border": null,
            "bottom": null,
            "display": null,
            "flex": null,
            "flex_flow": null,
            "grid_area": null,
            "grid_auto_columns": null,
            "grid_auto_flow": null,
            "grid_auto_rows": null,
            "grid_column": null,
            "grid_gap": null,
            "grid_row": null,
            "grid_template_areas": null,
            "grid_template_columns": null,
            "grid_template_rows": null,
            "height": null,
            "justify_content": null,
            "justify_items": null,
            "left": null,
            "margin": null,
            "max_height": null,
            "max_width": null,
            "min_height": null,
            "min_width": null,
            "object_fit": null,
            "object_position": null,
            "order": null,
            "overflow": null,
            "overflow_x": null,
            "overflow_y": null,
            "padding": null,
            "right": null,
            "top": null,
            "visibility": null,
            "width": null
          }
        },
        "c7f9884a81f94ee686c283037a9fe613": {
          "model_module": "@jupyter-widgets/controls",
          "model_name": "DescriptionStyleModel",
          "model_module_version": "1.5.0",
          "state": {
            "_model_module": "@jupyter-widgets/controls",
            "_model_module_version": "1.5.0",
            "_model_name": "DescriptionStyleModel",
            "_view_count": null,
            "_view_module": "@jupyter-widgets/base",
            "_view_module_version": "1.2.0",
            "_view_name": "StyleView",
            "description_width": ""
          }
        },
        "b2c234e3b63548359671cb8cfb591709": {
          "model_module": "@jupyter-widgets/base",
          "model_name": "LayoutModel",
          "model_module_version": "1.2.0",
          "state": {
            "_model_module": "@jupyter-widgets/base",
            "_model_module_version": "1.2.0",
            "_model_name": "LayoutModel",
            "_view_count": null,
            "_view_module": "@jupyter-widgets/base",
            "_view_module_version": "1.2.0",
            "_view_name": "LayoutView",
            "align_content": null,
            "align_items": null,
            "align_self": null,
            "border": null,
            "bottom": null,
            "display": null,
            "flex": null,
            "flex_flow": null,
            "grid_area": null,
            "grid_auto_columns": null,
            "grid_auto_flow": null,
            "grid_auto_rows": null,
            "grid_column": null,
            "grid_gap": null,
            "grid_row": null,
            "grid_template_areas": null,
            "grid_template_columns": null,
            "grid_template_rows": null,
            "height": null,
            "justify_content": null,
            "justify_items": null,
            "left": null,
            "margin": null,
            "max_height": null,
            "max_width": null,
            "min_height": null,
            "min_width": null,
            "object_fit": null,
            "object_position": null,
            "order": null,
            "overflow": null,
            "overflow_x": null,
            "overflow_y": null,
            "padding": null,
            "right": null,
            "top": null,
            "visibility": null,
            "width": null
          }
        },
        "10b004be53d5447fa0a304b0dc2fad5b": {
          "model_module": "@jupyter-widgets/controls",
          "model_name": "ProgressStyleModel",
          "model_module_version": "1.5.0",
          "state": {
            "_model_module": "@jupyter-widgets/controls",
            "_model_module_version": "1.5.0",
            "_model_name": "ProgressStyleModel",
            "_view_count": null,
            "_view_module": "@jupyter-widgets/base",
            "_view_module_version": "1.2.0",
            "_view_name": "StyleView",
            "bar_color": null,
            "description_width": ""
          }
        },
        "9acac9d3fa9c46228f087c539928a96d": {
          "model_module": "@jupyter-widgets/base",
          "model_name": "LayoutModel",
          "model_module_version": "1.2.0",
          "state": {
            "_model_module": "@jupyter-widgets/base",
            "_model_module_version": "1.2.0",
            "_model_name": "LayoutModel",
            "_view_count": null,
            "_view_module": "@jupyter-widgets/base",
            "_view_module_version": "1.2.0",
            "_view_name": "LayoutView",
            "align_content": null,
            "align_items": null,
            "align_self": null,
            "border": null,
            "bottom": null,
            "display": null,
            "flex": null,
            "flex_flow": null,
            "grid_area": null,
            "grid_auto_columns": null,
            "grid_auto_flow": null,
            "grid_auto_rows": null,
            "grid_column": null,
            "grid_gap": null,
            "grid_row": null,
            "grid_template_areas": null,
            "grid_template_columns": null,
            "grid_template_rows": null,
            "height": null,
            "justify_content": null,
            "justify_items": null,
            "left": null,
            "margin": null,
            "max_height": null,
            "max_width": null,
            "min_height": null,
            "min_width": null,
            "object_fit": null,
            "object_position": null,
            "order": null,
            "overflow": null,
            "overflow_x": null,
            "overflow_y": null,
            "padding": null,
            "right": null,
            "top": null,
            "visibility": null,
            "width": null
          }
        },
        "6fc281b743014da3b007dc9ae101bfd8": {
          "model_module": "@jupyter-widgets/controls",
          "model_name": "DescriptionStyleModel",
          "model_module_version": "1.5.0",
          "state": {
            "_model_module": "@jupyter-widgets/controls",
            "_model_module_version": "1.5.0",
            "_model_name": "DescriptionStyleModel",
            "_view_count": null,
            "_view_module": "@jupyter-widgets/base",
            "_view_module_version": "1.2.0",
            "_view_name": "StyleView",
            "description_width": ""
          }
        },
        "986d139f0a28405089b9518ff9957689": {
          "model_module": "@jupyter-widgets/controls",
          "model_name": "HBoxModel",
          "model_module_version": "1.5.0",
          "state": {
            "_dom_classes": [],
            "_model_module": "@jupyter-widgets/controls",
            "_model_module_version": "1.5.0",
            "_model_name": "HBoxModel",
            "_view_count": null,
            "_view_module": "@jupyter-widgets/controls",
            "_view_module_version": "1.5.0",
            "_view_name": "HBoxView",
            "box_style": "",
            "children": [
              "IPY_MODEL_49ea33ad72254f8c8bbb980fd0f55696",
              "IPY_MODEL_c452808fc58a451fb2ea07768296db40",
              "IPY_MODEL_6739e35e886043949b6e403a058fb50e"
            ],
            "layout": "IPY_MODEL_49011c43d0574d40b5d825703da25e56"
          }
        },
        "49ea33ad72254f8c8bbb980fd0f55696": {
          "model_module": "@jupyter-widgets/controls",
          "model_name": "HTMLModel",
          "model_module_version": "1.5.0",
          "state": {
            "_dom_classes": [],
            "_model_module": "@jupyter-widgets/controls",
            "_model_module_version": "1.5.0",
            "_model_name": "HTMLModel",
            "_view_count": null,
            "_view_module": "@jupyter-widgets/controls",
            "_view_module_version": "1.5.0",
            "_view_name": "HTMLView",
            "description": "",
            "description_tooltip": null,
            "layout": "IPY_MODEL_791c62c399e04d6f8b8dd4bb87d6e216",
            "placeholder": "​",
            "style": "IPY_MODEL_6cba0c81c517488d9df3faf77d639b35",
            "value": "Generating train split: "
          }
        },
        "c452808fc58a451fb2ea07768296db40": {
          "model_module": "@jupyter-widgets/controls",
          "model_name": "FloatProgressModel",
          "model_module_version": "1.5.0",
          "state": {
            "_dom_classes": [],
            "_model_module": "@jupyter-widgets/controls",
            "_model_module_version": "1.5.0",
            "_model_name": "FloatProgressModel",
            "_view_count": null,
            "_view_module": "@jupyter-widgets/controls",
            "_view_module_version": "1.5.0",
            "_view_name": "ProgressView",
            "bar_style": "success",
            "description": "",
            "description_tooltip": null,
            "layout": "IPY_MODEL_feacaa0b583a48d3b46cbaef975ee39c",
            "max": 1,
            "min": 0,
            "orientation": "horizontal",
            "style": "IPY_MODEL_6ee87b6fd5984cba823db51af14a644b",
            "value": 1
          }
        },
        "6739e35e886043949b6e403a058fb50e": {
          "model_module": "@jupyter-widgets/controls",
          "model_name": "HTMLModel",
          "model_module_version": "1.5.0",
          "state": {
            "_dom_classes": [],
            "_model_module": "@jupyter-widgets/controls",
            "_model_module_version": "1.5.0",
            "_model_name": "HTMLModel",
            "_view_count": null,
            "_view_module": "@jupyter-widgets/controls",
            "_view_module_version": "1.5.0",
            "_view_name": "HTMLView",
            "description": "",
            "description_tooltip": null,
            "layout": "IPY_MODEL_eab43d6d12ef4874a0e98f2d68666967",
            "placeholder": "​",
            "style": "IPY_MODEL_5c5be022a75343a3a4961f6a89cfd8c9",
            "value": " 3852/0 [00:00&lt;00:00, 13434.01 examples/s]"
          }
        },
        "49011c43d0574d40b5d825703da25e56": {
          "model_module": "@jupyter-widgets/base",
          "model_name": "LayoutModel",
          "model_module_version": "1.2.0",
          "state": {
            "_model_module": "@jupyter-widgets/base",
            "_model_module_version": "1.2.0",
            "_model_name": "LayoutModel",
            "_view_count": null,
            "_view_module": "@jupyter-widgets/base",
            "_view_module_version": "1.2.0",
            "_view_name": "LayoutView",
            "align_content": null,
            "align_items": null,
            "align_self": null,
            "border": null,
            "bottom": null,
            "display": null,
            "flex": null,
            "flex_flow": null,
            "grid_area": null,
            "grid_auto_columns": null,
            "grid_auto_flow": null,
            "grid_auto_rows": null,
            "grid_column": null,
            "grid_gap": null,
            "grid_row": null,
            "grid_template_areas": null,
            "grid_template_columns": null,
            "grid_template_rows": null,
            "height": null,
            "justify_content": null,
            "justify_items": null,
            "left": null,
            "margin": null,
            "max_height": null,
            "max_width": null,
            "min_height": null,
            "min_width": null,
            "object_fit": null,
            "object_position": null,
            "order": null,
            "overflow": null,
            "overflow_x": null,
            "overflow_y": null,
            "padding": null,
            "right": null,
            "top": null,
            "visibility": null,
            "width": null
          }
        },
        "791c62c399e04d6f8b8dd4bb87d6e216": {
          "model_module": "@jupyter-widgets/base",
          "model_name": "LayoutModel",
          "model_module_version": "1.2.0",
          "state": {
            "_model_module": "@jupyter-widgets/base",
            "_model_module_version": "1.2.0",
            "_model_name": "LayoutModel",
            "_view_count": null,
            "_view_module": "@jupyter-widgets/base",
            "_view_module_version": "1.2.0",
            "_view_name": "LayoutView",
            "align_content": null,
            "align_items": null,
            "align_self": null,
            "border": null,
            "bottom": null,
            "display": null,
            "flex": null,
            "flex_flow": null,
            "grid_area": null,
            "grid_auto_columns": null,
            "grid_auto_flow": null,
            "grid_auto_rows": null,
            "grid_column": null,
            "grid_gap": null,
            "grid_row": null,
            "grid_template_areas": null,
            "grid_template_columns": null,
            "grid_template_rows": null,
            "height": null,
            "justify_content": null,
            "justify_items": null,
            "left": null,
            "margin": null,
            "max_height": null,
            "max_width": null,
            "min_height": null,
            "min_width": null,
            "object_fit": null,
            "object_position": null,
            "order": null,
            "overflow": null,
            "overflow_x": null,
            "overflow_y": null,
            "padding": null,
            "right": null,
            "top": null,
            "visibility": null,
            "width": null
          }
        },
        "6cba0c81c517488d9df3faf77d639b35": {
          "model_module": "@jupyter-widgets/controls",
          "model_name": "DescriptionStyleModel",
          "model_module_version": "1.5.0",
          "state": {
            "_model_module": "@jupyter-widgets/controls",
            "_model_module_version": "1.5.0",
            "_model_name": "DescriptionStyleModel",
            "_view_count": null,
            "_view_module": "@jupyter-widgets/base",
            "_view_module_version": "1.2.0",
            "_view_name": "StyleView",
            "description_width": ""
          }
        },
        "feacaa0b583a48d3b46cbaef975ee39c": {
          "model_module": "@jupyter-widgets/base",
          "model_name": "LayoutModel",
          "model_module_version": "1.2.0",
          "state": {
            "_model_module": "@jupyter-widgets/base",
            "_model_module_version": "1.2.0",
            "_model_name": "LayoutModel",
            "_view_count": null,
            "_view_module": "@jupyter-widgets/base",
            "_view_module_version": "1.2.0",
            "_view_name": "LayoutView",
            "align_content": null,
            "align_items": null,
            "align_self": null,
            "border": null,
            "bottom": null,
            "display": null,
            "flex": null,
            "flex_flow": null,
            "grid_area": null,
            "grid_auto_columns": null,
            "grid_auto_flow": null,
            "grid_auto_rows": null,
            "grid_column": null,
            "grid_gap": null,
            "grid_row": null,
            "grid_template_areas": null,
            "grid_template_columns": null,
            "grid_template_rows": null,
            "height": null,
            "justify_content": null,
            "justify_items": null,
            "left": null,
            "margin": null,
            "max_height": null,
            "max_width": null,
            "min_height": null,
            "min_width": null,
            "object_fit": null,
            "object_position": null,
            "order": null,
            "overflow": null,
            "overflow_x": null,
            "overflow_y": null,
            "padding": null,
            "right": null,
            "top": null,
            "visibility": null,
            "width": "20px"
          }
        },
        "6ee87b6fd5984cba823db51af14a644b": {
          "model_module": "@jupyter-widgets/controls",
          "model_name": "ProgressStyleModel",
          "model_module_version": "1.5.0",
          "state": {
            "_model_module": "@jupyter-widgets/controls",
            "_model_module_version": "1.5.0",
            "_model_name": "ProgressStyleModel",
            "_view_count": null,
            "_view_module": "@jupyter-widgets/base",
            "_view_module_version": "1.2.0",
            "_view_name": "StyleView",
            "bar_color": null,
            "description_width": ""
          }
        },
        "eab43d6d12ef4874a0e98f2d68666967": {
          "model_module": "@jupyter-widgets/base",
          "model_name": "LayoutModel",
          "model_module_version": "1.2.0",
          "state": {
            "_model_module": "@jupyter-widgets/base",
            "_model_module_version": "1.2.0",
            "_model_name": "LayoutModel",
            "_view_count": null,
            "_view_module": "@jupyter-widgets/base",
            "_view_module_version": "1.2.0",
            "_view_name": "LayoutView",
            "align_content": null,
            "align_items": null,
            "align_self": null,
            "border": null,
            "bottom": null,
            "display": null,
            "flex": null,
            "flex_flow": null,
            "grid_area": null,
            "grid_auto_columns": null,
            "grid_auto_flow": null,
            "grid_auto_rows": null,
            "grid_column": null,
            "grid_gap": null,
            "grid_row": null,
            "grid_template_areas": null,
            "grid_template_columns": null,
            "grid_template_rows": null,
            "height": null,
            "justify_content": null,
            "justify_items": null,
            "left": null,
            "margin": null,
            "max_height": null,
            "max_width": null,
            "min_height": null,
            "min_width": null,
            "object_fit": null,
            "object_position": null,
            "order": null,
            "overflow": null,
            "overflow_x": null,
            "overflow_y": null,
            "padding": null,
            "right": null,
            "top": null,
            "visibility": null,
            "width": null
          }
        },
        "5c5be022a75343a3a4961f6a89cfd8c9": {
          "model_module": "@jupyter-widgets/controls",
          "model_name": "DescriptionStyleModel",
          "model_module_version": "1.5.0",
          "state": {
            "_model_module": "@jupyter-widgets/controls",
            "_model_module_version": "1.5.0",
            "_model_name": "DescriptionStyleModel",
            "_view_count": null,
            "_view_module": "@jupyter-widgets/base",
            "_view_module_version": "1.2.0",
            "_view_name": "StyleView",
            "description_width": ""
          }
        },
        "160edd58ce2b466fa96a79f80123dd65": {
          "model_module": "@jupyter-widgets/controls",
          "model_name": "HBoxModel",
          "model_module_version": "1.5.0",
          "state": {
            "_dom_classes": [],
            "_model_module": "@jupyter-widgets/controls",
            "_model_module_version": "1.5.0",
            "_model_name": "HBoxModel",
            "_view_count": null,
            "_view_module": "@jupyter-widgets/controls",
            "_view_module_version": "1.5.0",
            "_view_name": "HBoxView",
            "box_style": "",
            "children": [
              "IPY_MODEL_994810241425437887949bd7bb101d76",
              "IPY_MODEL_9e9f25e20a874a7bbc66f9f00ec027cb",
              "IPY_MODEL_a0dd5a1448764694bce9e5ae78a8b72c"
            ],
            "layout": "IPY_MODEL_547a445c3f214163b328d43df27f64f2"
          }
        },
        "994810241425437887949bd7bb101d76": {
          "model_module": "@jupyter-widgets/controls",
          "model_name": "HTMLModel",
          "model_module_version": "1.5.0",
          "state": {
            "_dom_classes": [],
            "_model_module": "@jupyter-widgets/controls",
            "_model_module_version": "1.5.0",
            "_model_name": "HTMLModel",
            "_view_count": null,
            "_view_module": "@jupyter-widgets/controls",
            "_view_module_version": "1.5.0",
            "_view_name": "HTMLView",
            "description": "",
            "description_tooltip": null,
            "layout": "IPY_MODEL_8dcc182798c847e3a1c4f0f09a3d73a7",
            "placeholder": "​",
            "style": "IPY_MODEL_d5d8a54fb67447b5b0f451637b9e6443",
            "value": "Map: 100%"
          }
        },
        "9e9f25e20a874a7bbc66f9f00ec027cb": {
          "model_module": "@jupyter-widgets/controls",
          "model_name": "FloatProgressModel",
          "model_module_version": "1.5.0",
          "state": {
            "_dom_classes": [],
            "_model_module": "@jupyter-widgets/controls",
            "_model_module_version": "1.5.0",
            "_model_name": "FloatProgressModel",
            "_view_count": null,
            "_view_module": "@jupyter-widgets/controls",
            "_view_module_version": "1.5.0",
            "_view_name": "ProgressView",
            "bar_style": "success",
            "description": "",
            "description_tooltip": null,
            "layout": "IPY_MODEL_2810e71e2e334c57a825b55c323bb5dc",
            "max": 3852,
            "min": 0,
            "orientation": "horizontal",
            "style": "IPY_MODEL_73c2fb7abad44a0d9e505f6fa921bf67",
            "value": 3852
          }
        },
        "a0dd5a1448764694bce9e5ae78a8b72c": {
          "model_module": "@jupyter-widgets/controls",
          "model_name": "HTMLModel",
          "model_module_version": "1.5.0",
          "state": {
            "_dom_classes": [],
            "_model_module": "@jupyter-widgets/controls",
            "_model_module_version": "1.5.0",
            "_model_name": "HTMLModel",
            "_view_count": null,
            "_view_module": "@jupyter-widgets/controls",
            "_view_module_version": "1.5.0",
            "_view_name": "HTMLView",
            "description": "",
            "description_tooltip": null,
            "layout": "IPY_MODEL_aa517bbfbc4c44a1a2526b2bcf142721",
            "placeholder": "​",
            "style": "IPY_MODEL_e792418c2edb4a749cf6b91bd2528c5b",
            "value": " 3852/3852 [00:00&lt;00:00, 8715.29 examples/s]"
          }
        },
        "547a445c3f214163b328d43df27f64f2": {
          "model_module": "@jupyter-widgets/base",
          "model_name": "LayoutModel",
          "model_module_version": "1.2.0",
          "state": {
            "_model_module": "@jupyter-widgets/base",
            "_model_module_version": "1.2.0",
            "_model_name": "LayoutModel",
            "_view_count": null,
            "_view_module": "@jupyter-widgets/base",
            "_view_module_version": "1.2.0",
            "_view_name": "LayoutView",
            "align_content": null,
            "align_items": null,
            "align_self": null,
            "border": null,
            "bottom": null,
            "display": null,
            "flex": null,
            "flex_flow": null,
            "grid_area": null,
            "grid_auto_columns": null,
            "grid_auto_flow": null,
            "grid_auto_rows": null,
            "grid_column": null,
            "grid_gap": null,
            "grid_row": null,
            "grid_template_areas": null,
            "grid_template_columns": null,
            "grid_template_rows": null,
            "height": null,
            "justify_content": null,
            "justify_items": null,
            "left": null,
            "margin": null,
            "max_height": null,
            "max_width": null,
            "min_height": null,
            "min_width": null,
            "object_fit": null,
            "object_position": null,
            "order": null,
            "overflow": null,
            "overflow_x": null,
            "overflow_y": null,
            "padding": null,
            "right": null,
            "top": null,
            "visibility": null,
            "width": null
          }
        },
        "8dcc182798c847e3a1c4f0f09a3d73a7": {
          "model_module": "@jupyter-widgets/base",
          "model_name": "LayoutModel",
          "model_module_version": "1.2.0",
          "state": {
            "_model_module": "@jupyter-widgets/base",
            "_model_module_version": "1.2.0",
            "_model_name": "LayoutModel",
            "_view_count": null,
            "_view_module": "@jupyter-widgets/base",
            "_view_module_version": "1.2.0",
            "_view_name": "LayoutView",
            "align_content": null,
            "align_items": null,
            "align_self": null,
            "border": null,
            "bottom": null,
            "display": null,
            "flex": null,
            "flex_flow": null,
            "grid_area": null,
            "grid_auto_columns": null,
            "grid_auto_flow": null,
            "grid_auto_rows": null,
            "grid_column": null,
            "grid_gap": null,
            "grid_row": null,
            "grid_template_areas": null,
            "grid_template_columns": null,
            "grid_template_rows": null,
            "height": null,
            "justify_content": null,
            "justify_items": null,
            "left": null,
            "margin": null,
            "max_height": null,
            "max_width": null,
            "min_height": null,
            "min_width": null,
            "object_fit": null,
            "object_position": null,
            "order": null,
            "overflow": null,
            "overflow_x": null,
            "overflow_y": null,
            "padding": null,
            "right": null,
            "top": null,
            "visibility": null,
            "width": null
          }
        },
        "d5d8a54fb67447b5b0f451637b9e6443": {
          "model_module": "@jupyter-widgets/controls",
          "model_name": "DescriptionStyleModel",
          "model_module_version": "1.5.0",
          "state": {
            "_model_module": "@jupyter-widgets/controls",
            "_model_module_version": "1.5.0",
            "_model_name": "DescriptionStyleModel",
            "_view_count": null,
            "_view_module": "@jupyter-widgets/base",
            "_view_module_version": "1.2.0",
            "_view_name": "StyleView",
            "description_width": ""
          }
        },
        "2810e71e2e334c57a825b55c323bb5dc": {
          "model_module": "@jupyter-widgets/base",
          "model_name": "LayoutModel",
          "model_module_version": "1.2.0",
          "state": {
            "_model_module": "@jupyter-widgets/base",
            "_model_module_version": "1.2.0",
            "_model_name": "LayoutModel",
            "_view_count": null,
            "_view_module": "@jupyter-widgets/base",
            "_view_module_version": "1.2.0",
            "_view_name": "LayoutView",
            "align_content": null,
            "align_items": null,
            "align_self": null,
            "border": null,
            "bottom": null,
            "display": null,
            "flex": null,
            "flex_flow": null,
            "grid_area": null,
            "grid_auto_columns": null,
            "grid_auto_flow": null,
            "grid_auto_rows": null,
            "grid_column": null,
            "grid_gap": null,
            "grid_row": null,
            "grid_template_areas": null,
            "grid_template_columns": null,
            "grid_template_rows": null,
            "height": null,
            "justify_content": null,
            "justify_items": null,
            "left": null,
            "margin": null,
            "max_height": null,
            "max_width": null,
            "min_height": null,
            "min_width": null,
            "object_fit": null,
            "object_position": null,
            "order": null,
            "overflow": null,
            "overflow_x": null,
            "overflow_y": null,
            "padding": null,
            "right": null,
            "top": null,
            "visibility": null,
            "width": null
          }
        },
        "73c2fb7abad44a0d9e505f6fa921bf67": {
          "model_module": "@jupyter-widgets/controls",
          "model_name": "ProgressStyleModel",
          "model_module_version": "1.5.0",
          "state": {
            "_model_module": "@jupyter-widgets/controls",
            "_model_module_version": "1.5.0",
            "_model_name": "ProgressStyleModel",
            "_view_count": null,
            "_view_module": "@jupyter-widgets/base",
            "_view_module_version": "1.2.0",
            "_view_name": "StyleView",
            "bar_color": null,
            "description_width": ""
          }
        },
        "aa517bbfbc4c44a1a2526b2bcf142721": {
          "model_module": "@jupyter-widgets/base",
          "model_name": "LayoutModel",
          "model_module_version": "1.2.0",
          "state": {
            "_model_module": "@jupyter-widgets/base",
            "_model_module_version": "1.2.0",
            "_model_name": "LayoutModel",
            "_view_count": null,
            "_view_module": "@jupyter-widgets/base",
            "_view_module_version": "1.2.0",
            "_view_name": "LayoutView",
            "align_content": null,
            "align_items": null,
            "align_self": null,
            "border": null,
            "bottom": null,
            "display": null,
            "flex": null,
            "flex_flow": null,
            "grid_area": null,
            "grid_auto_columns": null,
            "grid_auto_flow": null,
            "grid_auto_rows": null,
            "grid_column": null,
            "grid_gap": null,
            "grid_row": null,
            "grid_template_areas": null,
            "grid_template_columns": null,
            "grid_template_rows": null,
            "height": null,
            "justify_content": null,
            "justify_items": null,
            "left": null,
            "margin": null,
            "max_height": null,
            "max_width": null,
            "min_height": null,
            "min_width": null,
            "object_fit": null,
            "object_position": null,
            "order": null,
            "overflow": null,
            "overflow_x": null,
            "overflow_y": null,
            "padding": null,
            "right": null,
            "top": null,
            "visibility": null,
            "width": null
          }
        },
        "e792418c2edb4a749cf6b91bd2528c5b": {
          "model_module": "@jupyter-widgets/controls",
          "model_name": "DescriptionStyleModel",
          "model_module_version": "1.5.0",
          "state": {
            "_model_module": "@jupyter-widgets/controls",
            "_model_module_version": "1.5.0",
            "_model_name": "DescriptionStyleModel",
            "_view_count": null,
            "_view_module": "@jupyter-widgets/base",
            "_view_module_version": "1.2.0",
            "_view_name": "StyleView",
            "description_width": ""
          }
        }
      }
    }
  },
  "cells": [
    {
      "cell_type": "markdown",
      "metadata": {
        "id": "view-in-github",
        "colab_type": "text"
      },
      "source": [
        "<a href=\"https://colab.research.google.com/github/rahiakela/deep-learning-research-and-practice/blob/main/deep-learning-with-pytorch-step-by-step/Part-III-NLP/07_word_embeddings.ipynb\" target=\"_parent\"><img src=\"https://colab.research.google.com/assets/colab-badge.svg\" alt=\"Open In Colab\"/></a>"
      ]
    },
    {
      "cell_type": "markdown",
      "source": [
        "##Word Embeddings"
      ],
      "metadata": {
        "id": "I_fJ4_FUlY0a"
      }
    },
    {
      "cell_type": "markdown",
      "source": [
        "We’ll start our NLP journey by following the steps of Alice and Dorothy, from\n",
        "[Alice’s Adventures in Wonderland](https://ota.bodleian.ox.ac.uk/repository/xmlui/handle/20.500.12024/1476) by Lewis Carroll and [The Wonderful Wizard of Oz](https://ota.bodleian.ox.ac.uk/repository/xmlui/handle/20.500.12024/1740) by L. Frank Baum.\n",
        "\n",
        "![](https://github.com/rahiakela/deep-learning-research-and-practice/blob/main/deep-learning-with-pytorch-step-by-step/Part-III-NLP/images/alice_dorothy.png?raw=1)\n",
        "\n",
        "*Left: \"Alice and the Baby Pig\" illustration by John Tenniel's, from \"Alice's Adventure's in Wonderland\" (1865).*\n",
        "\n",
        "*Right: \"Dorothy meets the Cowardly Lion\" illustration by W.W. Denslow, from \"The Wonderful Wizard of Oz\" (1900)*"
      ],
      "metadata": {
        "id": "6S3AN5ZklZkV"
      }
    },
    {
      "cell_type": "markdown",
      "source": [
        "##Setup"
      ],
      "metadata": {
        "id": "y_fsZxO6mSi9"
      }
    },
    {
      "cell_type": "code",
      "source": [
        "%%capture\n",
        "\n",
        "# # UPDATED\n",
        "# ###########################################################\n",
        "!pip install gensim==4.3.1\n",
        "# # The library has been archived and won't be used anymore\n",
        "# # # !pip install allennlp==0.9.0\n",
        "#!pip install flair==0.12.2\n",
        "#!pip install torchvision==0.15.1\n",
        "# # # HuggingFace\n",
        "!pip install transformers==4.32.0\n",
        "!pip install datasets==2.14.4\n",
        "# ###########################################################\n",
        "!pip -q install spacy\n",
        "!python -m spacy download en_core_web_sm"
      ],
      "metadata": {
        "id": "bPp9LPHbWch9"
      },
      "execution_count": 1,
      "outputs": []
    },
    {
      "cell_type": "code",
      "source": [
        "try:\n",
        "    import google.colab\n",
        "    import requests\n",
        "    url = 'https://raw.githubusercontent.com/dvgodoy/PyTorchStepByStep/master/config.py'\n",
        "    r = requests.get(url, allow_redirects=True)\n",
        "    open('config.py', 'wb').write(r.content)\n",
        "except ModuleNotFoundError:\n",
        "    pass\n",
        "\n",
        "from config import *\n",
        "config_chapter11()\n",
        "# This is needed to render the plots in this chapter\n",
        "from plots.chapter11 import *"
      ],
      "metadata": {
        "id": "4KaJRDNLmTq_",
        "outputId": "54e08e42-f80b-4a9c-9462-3d180ac401de",
        "colab": {
          "base_uri": "https://localhost:8080/"
        }
      },
      "execution_count": 2,
      "outputs": [
        {
          "output_type": "stream",
          "name": "stdout",
          "text": [
            "Downloading files from GitHub repo to Colab...\n",
            "Finished!\n"
          ]
        }
      ]
    },
    {
      "cell_type": "code",
      "source": [
        "import os\n",
        "import json\n",
        "import errno\n",
        "import requests\n",
        "import numpy as np\n",
        "from copy import deepcopy\n",
        "from operator import itemgetter\n",
        "\n",
        "import torch\n",
        "import torch.optim as optim\n",
        "import torch.nn as nn\n",
        "import torch.nn.functional as F\n",
        "from torch.utils.data import DataLoader, TensorDataset, Dataset\n",
        "\n",
        "from data_generation.nlp import ALICE_URL, WIZARD_URL, download_text\n",
        "from stepbystep.v4 import StepByStep\n",
        "# These are the classes we built in Chapter 10\n",
        "from seq2seq import *\n",
        "\n",
        "import spacy\n",
        "import nltk\n",
        "from nltk.tokenize import sent_tokenize"
      ],
      "metadata": {
        "id": "i9pPl_87mbqd"
      },
      "execution_count": 3,
      "outputs": []
    },
    {
      "cell_type": "code",
      "source": [
        "nltk.download('punkt')"
      ],
      "metadata": {
        "id": "lrnHpAEYgrSS",
        "outputId": "c086141e-874d-4643-9393-61bb9adf8819",
        "colab": {
          "base_uri": "https://localhost:8080/"
        }
      },
      "execution_count": 4,
      "outputs": [
        {
          "output_type": "stream",
          "name": "stderr",
          "text": [
            "[nltk_data] Downloading package punkt to /root/nltk_data...\n",
            "[nltk_data]   Unzipping tokenizers/punkt.zip.\n"
          ]
        },
        {
          "output_type": "execute_result",
          "data": {
            "text/plain": [
              "True"
            ]
          },
          "metadata": {},
          "execution_count": 4
        }
      ]
    },
    {
      "cell_type": "code",
      "source": [
        "import gensim\n",
        "from gensim import corpora, downloader\n",
        "from gensim.parsing.preprocessing import *\n",
        "from gensim.utils import simple_preprocess\n",
        "from gensim.models import Word2Vec"
      ],
      "metadata": {
        "id": "dEQBv2ddXGS_"
      },
      "execution_count": 5,
      "outputs": []
    },
    {
      "cell_type": "code",
      "source": [
        "from datasets import load_dataset, Split\n",
        "from transformers import (\n",
        "    DataCollatorForLanguageModeling,\n",
        "    BertModel, BertTokenizer, BertForSequenceClassification,\n",
        "    DistilBertModel, DistilBertTokenizer,\n",
        "    DistilBertForSequenceClassification,\n",
        "    AutoModelForSequenceClassification,\n",
        "    AutoModel, AutoTokenizer, AutoModelForCausalLM,\n",
        "    Trainer, TrainingArguments, pipeline, TextClassificationPipeline\n",
        ")\n",
        "from transformers.pipelines import SUPPORTED_TASKS"
      ],
      "metadata": {
        "id": "w1HKtpREXdlF"
      },
      "execution_count": 6,
      "outputs": []
    },
    {
      "cell_type": "markdown",
      "source": [
        "##Downloading Books"
      ],
      "metadata": {
        "id": "VGxz6kEmX3ke"
      }
    },
    {
      "cell_type": "code",
      "source": [
        "!rm -rf data"
      ],
      "metadata": {
        "id": "4hr1Jm9kK9DO"
      },
      "execution_count": 7,
      "outputs": []
    },
    {
      "cell_type": "code",
      "source": [
        "# let's download data\n",
        "HOME_DIR = \"data\"\n",
        "download_text(ALICE_URL, HOME_DIR)\n",
        "download_text(WIZARD_URL, HOME_DIR)"
      ],
      "metadata": {
        "id": "eTXbiieBX4Sz"
      },
      "execution_count": 8,
      "outputs": []
    },
    {
      "cell_type": "code",
      "source": [
        "# let's see the downloaded data\n",
        "#!cat data/alice28-1476.txt"
      ],
      "metadata": {
        "id": "45chINE_YYtz"
      },
      "execution_count": 9,
      "outputs": []
    },
    {
      "cell_type": "code",
      "source": [
        "#!cat data/wizoz10-1740.txt"
      ],
      "metadata": {
        "id": "uM-tdJNRZcnt"
      },
      "execution_count": 10,
      "outputs": []
    },
    {
      "cell_type": "markdown",
      "source": [
        "We need to remove these additions to the original texts:"
      ],
      "metadata": {
        "id": "msne6vRcZ14Y"
      }
    },
    {
      "cell_type": "code",
      "source": [
        "alice_file = os.path.join(HOME_DIR, \"alice28-1476.txt\")\n",
        "with open(alice_file, \"r\") as f:\n",
        "  # The actual texts of the books are contained between lines 105 and 3703\n",
        "  alice_text = \"\".join(f.readlines()[104:3704])\n",
        "\n",
        "wizard_file = os.path.join(HOME_DIR, \"wizoz10-1740.txt\")\n",
        "with open(wizard_file, \"r\") as f:\n",
        "  # The actual texts of the books are contained between lines 309 and 5099\n",
        "  wizard_text = \"\".join(f.readlines()[310:5100])"
      ],
      "metadata": {
        "id": "8z29BFQwZx4U"
      },
      "execution_count": 11,
      "outputs": []
    },
    {
      "cell_type": "code",
      "source": [
        "print(alice_text[:500])\n",
        "print(\"\\n\", \"#\"*70, \"\\n\")\n",
        "print(wizard_text[:500])"
      ],
      "metadata": {
        "colab": {
          "base_uri": "https://localhost:8080/"
        },
        "id": "tNZmtkHNahrp",
        "outputId": "0b728e9f-dd36-4555-86d9-9a6a8bc05062"
      },
      "execution_count": 12,
      "outputs": [
        {
          "output_type": "stream",
          "name": "stdout",
          "text": [
            "                ALICE'S ADVENTURES IN WONDERLAND\n",
            "\n",
            "                          Lewis Carroll\n",
            "\n",
            "               THE MILLENNIUM FULCRUM EDITION 2.8\n",
            "\n",
            "\n",
            "\n",
            "\n",
            "                            CHAPTER I\n",
            "\n",
            "                      Down the Rabbit-Hole\n",
            "\n",
            "\n",
            "  Alice was beginning to get very tired of sitting by her sister\n",
            "on the bank, and of having nothing to do:  once or twice she had\n",
            "peeped into the book her sister was reading, but it had no\n",
            "pictures or conversations in it, `and what is the use of a book,'\n",
            "thought Alice `w\n",
            "\n",
            " ###################################################################### \n",
            "\n",
            "                    THE WONDERFUL WIZARD OF OZ\n",
            "\n",
            "\n",
            "                          1.  The Cyclone\n",
            "\n",
            "\n",
            "    Dorothy lived in the midst of the great Kansas prairies, with\n",
            "Uncle Henry, who was a farmer, and Aunt Em, who was the farmer's\n",
            "wife.  Their house was small, for the lumber to build it had to be\n",
            "carried by wagon many miles.  There were four walls, a floor and a\n",
            "roof, which made one room; and this room contained a rusty looking\n",
            "cookstove, a cupboard for the dishes, a table, three or four\n",
            "chairs, and th\n"
          ]
        }
      ]
    },
    {
      "cell_type": "markdown",
      "source": [
        "We can partially automate the removal of the extra lines by setting the real start and end lines of each text in a configuration file."
      ],
      "metadata": {
        "id": "zS5E4dECbotZ"
      }
    },
    {
      "cell_type": "code",
      "source": [
        "text_cfg = \"\"\"fname,start,end\n",
        "alice28-1476.txt,104,3704\n",
        "wizoz10-1740.txt,310,5100\"\"\"\n",
        "bytes_written = open(os.path.join(HOME_DIR, 'lines.cfg'), 'w').write(text_cfg)"
      ],
      "metadata": {
        "id": "ayc3piYsbutL"
      },
      "execution_count": 13,
      "outputs": []
    },
    {
      "cell_type": "markdown",
      "source": [
        "##Sentence Tokenization"
      ],
      "metadata": {
        "id": "Bk4m73rMb0gi"
      }
    },
    {
      "cell_type": "markdown",
      "source": [
        "A token is a piece of a text, and to tokenize a text means to split\n",
        "it into pieces; that is, into a list of tokens.\n",
        "\n",
        "The most common kind of piece is a word.\n",
        "\n",
        "So, tokenizing a text usually means to\n",
        "split it into words using the white space as a separator."
      ],
      "metadata": {
        "id": "6w5mJGOFb1Ua"
      }
    },
    {
      "cell_type": "code",
      "source": [
        "sentence = \"I'm following the white rabbit\"\n",
        "tokens = sentence.split(\" \")\n",
        "tokens"
      ],
      "metadata": {
        "id": "oFsqtdFkenM-",
        "outputId": "c4d4909b-8066-4b34-83c0-6faa7c2f697a",
        "colab": {
          "base_uri": "https://localhost:8080/"
        }
      },
      "execution_count": 14,
      "outputs": [
        {
          "output_type": "execute_result",
          "data": {
            "text/plain": [
              "[\"I'm\", 'following', 'the', 'white', 'rabbit']"
            ]
          },
          "metadata": {},
          "execution_count": 14
        }
      ]
    },
    {
      "cell_type": "markdown",
      "source": [
        "Let's do sentence tokenization, which means to split a text into its sentences."
      ],
      "metadata": {
        "id": "3WGtMb-Qg2Lt"
      }
    },
    {
      "cell_type": "code",
      "source": [
        "corpus_alice = sent_tokenize(alice_text)\n",
        "corpus_wizard = sent_tokenize(wizard_text)\n",
        "\n",
        "len(corpus_alice), (len(corpus_wizard))"
      ],
      "metadata": {
        "colab": {
          "base_uri": "https://localhost:8080/"
        },
        "id": "cg1Kg0Ung7aq",
        "outputId": "07ca8dee-d3ca-41da-c293-36321887c21b"
      },
      "execution_count": 15,
      "outputs": [
        {
          "output_type": "execute_result",
          "data": {
            "text/plain": [
              "(1612, 2240)"
            ]
          },
          "metadata": {},
          "execution_count": 15
        }
      ]
    },
    {
      "cell_type": "markdown",
      "source": [
        "Let’s check one sentence from the first corpus of text."
      ],
      "metadata": {
        "id": "1qSQVckXh3aX"
      }
    },
    {
      "cell_type": "code",
      "source": [
        "corpus_alice[2]"
      ],
      "metadata": {
        "id": "mWQQFsanh4GS",
        "outputId": "9ff3e371-0be5-4f7a-af7d-bfc74d83763d",
        "colab": {
          "base_uri": "https://localhost:8080/",
          "height": 52
        }
      },
      "execution_count": 16,
      "outputs": [
        {
          "output_type": "execute_result",
          "data": {
            "text/plain": [
              "'There was nothing so VERY remarkable in that; nor did Alice\\nthink it so VERY much out of the way to hear the Rabbit say to\\nitself, `Oh dear!'"
            ],
            "application/vnd.google.colaboratory.intrinsic+json": {
              "type": "string"
            }
          },
          "metadata": {},
          "execution_count": 16
        }
      ]
    },
    {
      "cell_type": "markdown",
      "source": [
        "Let’s check one sentence from the second corpus of text."
      ],
      "metadata": {
        "id": "RIGvTC9-iFwp"
      }
    },
    {
      "cell_type": "code",
      "source": [
        "corpus_wizard[30]"
      ],
      "metadata": {
        "id": "ojBtgVa1iGSs",
        "outputId": "482723db-cbb8-4915-b32a-5afac36b6c93",
        "colab": {
          "base_uri": "https://localhost:8080/",
          "height": 35
        }
      },
      "execution_count": 17,
      "outputs": [
        {
          "output_type": "execute_result",
          "data": {
            "text/plain": [
              "'\"There\\'s a cyclone coming, Em,\" he called to his wife.'"
            ],
            "application/vnd.google.colaboratory.intrinsic+json": {
              "type": "string"
            }
          },
          "metadata": {},
          "execution_count": 17
        }
      ]
    },
    {
      "cell_type": "markdown",
      "source": [
        "Our dataset is going to be a collection of CSV files, one file for each book, with each\n",
        "CSV file containing one sentence per line.\n",
        "\n",
        "Therefore, we need to:\n",
        "\n",
        "* clean the line breaks to make sure each sentence is on one line only;\n",
        "* define an appropriate quote char to \"wrap\" the sentence such that the original commas and semicolons in the original text do not get misinterpreted as separation chars of the CSV file; and\n",
        "* add a second column to the CSV file to\n",
        "identify the original source of the sentence since we’ll be concatenating, and\n",
        "shuffling the sentences before training a model on our corpora.\n",
        "\n",
        "The sentence above should end up looking like this:\n",
        "```log\n",
        "\\\"There's a cyclone coming, Em,\" he called to his wife.\\,wizoz10-1740.txt\n",
        "```\n",
        "\n",
        "The function below does the grunt work of cleaning, splitting, and saving the\n",
        "sentences to a CSV file for us:"
      ],
      "metadata": {
        "id": "6_QMReIwkcaH"
      }
    },
    {
      "cell_type": "code",
      "source": [
        "def sentence_tokenize(source, quote_char=\"\\\\\", sep_char=\",\", include_header=True, include_source=True, extensions=(\"txt\"), **kwargs):\n",
        "  # If source is a folder, goes through all files inside it that match the desired extensions ('txt' by default)\n",
        "  if os.path.isdir(source):\n",
        "    filenames = [f for f in os.listdir(source) if os.path.isfile(os.path.join(source, f)) and os.path.splitext(f)[1][1:] in extensions]\n",
        "  elif isinstance(source, str):\n",
        "    filenames = [source]\n",
        "\n",
        "  # If there is a configuration file, builds a dictionary with the corresponding start and end lines of each text file\n",
        "  config_file = os.path.join(source, \"lines.cfg\")\n",
        "  config = {}\n",
        "  if os.path.exists(config_file):\n",
        "    with open(config_file, \"r\") as f:\n",
        "      rows = f.readlines()\n",
        "    for r in rows[1:]:\n",
        "      fname, start, end = r.strip().split(\",\")\n",
        "      config.update({fname: (int(start), int(end))})\n",
        "\n",
        "  new_fnames = []\n",
        "  # For each file of text\n",
        "  for fname in filenames:\n",
        "    # If there's a start and end line for that file, use it\n",
        "    try:\n",
        "        start, end = config[fname]\n",
        "    except KeyError:\n",
        "        start = None\n",
        "        end = None\n",
        "\n",
        "    # Opens the file, slices the configures lines (if any)\n",
        "    # cleans line breaks and uses the sentence tokenizer\n",
        "    with open(os.path.join(source, fname), 'r') as f:\n",
        "        contents = (''.join(f.readlines()[slice(start, end, None)]).replace('\\n', ' ').replace('\\r', ''))\n",
        "    corpus = sent_tokenize(contents, **kwargs)\n",
        "\n",
        "    # Builds a CSV file containing tokenized sentences\n",
        "    base = os.path.splitext(fname)[0]\n",
        "    new_fname = f'{base}.sent.csv'\n",
        "    new_fname = os.path.join(source, new_fname)\n",
        "    with open(new_fname, 'w') as f:\n",
        "        # Header of the file\n",
        "        if include_header:\n",
        "            if include_source:\n",
        "                f.write('sentence,source\\n')\n",
        "            else:\n",
        "                f.write('sentence\\n')\n",
        "        # Writes one line for each sentence\n",
        "        for sentence in corpus:\n",
        "            if include_source:\n",
        "                f.write(f'{quote_char}{sentence}{quote_char}{sep_char}{fname}\\n')\n",
        "            else:\n",
        "                f.write(f'{quote_char}{sentence}{quote_char}\\n')\n",
        "    new_fnames.append(new_fname)\n",
        "\n",
        "  # Returns list of the newly generated CSV files\n",
        "  return sorted(new_fnames)"
      ],
      "metadata": {
        "id": "2BxVWK0Rk21Y"
      },
      "execution_count": 18,
      "outputs": []
    },
    {
      "cell_type": "code",
      "source": [
        "new_fnames = sentence_tokenize(HOME_DIR)\n",
        "new_fnames"
      ],
      "metadata": {
        "id": "95M-z4GlFTgy",
        "outputId": "f8ec9886-386d-4cf9-db14-d79b729ed923",
        "colab": {
          "base_uri": "https://localhost:8080/"
        }
      },
      "execution_count": 19,
      "outputs": [
        {
          "output_type": "execute_result",
          "data": {
            "text/plain": [
              "['data/alice28-1476.sent.csv', 'data/wizoz10-1740.sent.csv']"
            ]
          },
          "metadata": {},
          "execution_count": 19
        }
      ]
    },
    {
      "cell_type": "markdown",
      "source": [
        "##Spacy sentence tokenization"
      ],
      "metadata": {
        "id": "CAFblQB6MEge"
      }
    },
    {
      "cell_type": "code",
      "source": [
        "nlp = spacy.blank(\"en\")\n",
        "nlp.add_pipe(\"sentencizer\")\n",
        "\n",
        "sentences = []\n",
        "for doc in nlp.pipe(corpus_alice):\n",
        "  sentences.extend(sent.text for sent in doc.sents)\n",
        "\n",
        "len(sentences), sentences[2]"
      ],
      "metadata": {
        "id": "cUlNTST_SUmH",
        "outputId": "870d951c-298f-4fc4-cd9c-347557a4b755",
        "colab": {
          "base_uri": "https://localhost:8080/"
        }
      },
      "execution_count": 20,
      "outputs": [
        {
          "output_type": "execute_result",
          "data": {
            "text/plain": [
              "(1615,\n",
              " 'There was nothing so VERY remarkable in that; nor did Alice\\nthink it so VERY much out of the way to hear the Rabbit say to\\nitself, `Oh dear!')"
            ]
          },
          "metadata": {},
          "execution_count": 20
        }
      ]
    },
    {
      "cell_type": "markdown",
      "source": [
        "##HuggingFace’s Dataset"
      ],
      "metadata": {
        "id": "gMQtKHL5VMvU"
      }
    },
    {
      "cell_type": "code",
      "source": [
        "# let's load from local files using HuggingFace\n",
        "dataset = load_dataset(path=\"csv\", data_files=new_fnames, quotechar=\"\\\\\", split=Split.TRAIN)"
      ],
      "metadata": {
        "id": "wDWkbp0-VNmV",
        "outputId": "677dbc74-b79f-474c-9ccd-1d7554635428",
        "colab": {
          "base_uri": "https://localhost:8080/",
          "height": 113,
          "referenced_widgets": [
            "1a349089ce074c83bda07554cd845b36",
            "4ad6d210b532476e959e817fa6b64c4b",
            "62c17b445c2e43a887f3061e19ae98d7",
            "f55d434efabb4cdd98a446611517ae2a",
            "f27d88dd348040f79ee4ffa0147ec0be",
            "6e8f45c51c144f3482ca3e9cb268e0fb",
            "002c11d972b04aad8edbb875fc9cdb50",
            "99570bf04c6244358e3df57aab7a6b0e",
            "92742eceb0984f63835b7705aaf4b123",
            "88b1c00504c845da85f6c228bdd68b2c",
            "b891c5b7d506497392dd8f45fe7995fe",
            "22ad7f72fe9d483191414dfcbff1312e",
            "9022ba3e17de486ba652d306d129b15a",
            "29aa9e9d2ace497db775d1bb1e596cbd",
            "0c1f066b2837426badbd26c72b2e4582",
            "882e3f22e76c42ceb56196c3ba108a48",
            "8ac34a4669c2467d8591f6b9fdf3de5c",
            "c7f9884a81f94ee686c283037a9fe613",
            "b2c234e3b63548359671cb8cfb591709",
            "10b004be53d5447fa0a304b0dc2fad5b",
            "9acac9d3fa9c46228f087c539928a96d",
            "6fc281b743014da3b007dc9ae101bfd8",
            "986d139f0a28405089b9518ff9957689",
            "49ea33ad72254f8c8bbb980fd0f55696",
            "c452808fc58a451fb2ea07768296db40",
            "6739e35e886043949b6e403a058fb50e",
            "49011c43d0574d40b5d825703da25e56",
            "791c62c399e04d6f8b8dd4bb87d6e216",
            "6cba0c81c517488d9df3faf77d639b35",
            "feacaa0b583a48d3b46cbaef975ee39c",
            "6ee87b6fd5984cba823db51af14a644b",
            "eab43d6d12ef4874a0e98f2d68666967",
            "5c5be022a75343a3a4961f6a89cfd8c9"
          ]
        }
      },
      "execution_count": 21,
      "outputs": [
        {
          "output_type": "display_data",
          "data": {
            "text/plain": [
              "Downloading data files:   0%|          | 0/1 [00:00<?, ?it/s]"
            ],
            "application/vnd.jupyter.widget-view+json": {
              "version_major": 2,
              "version_minor": 0,
              "model_id": "1a349089ce074c83bda07554cd845b36"
            }
          },
          "metadata": {}
        },
        {
          "output_type": "display_data",
          "data": {
            "text/plain": [
              "Extracting data files:   0%|          | 0/1 [00:00<?, ?it/s]"
            ],
            "application/vnd.jupyter.widget-view+json": {
              "version_major": 2,
              "version_minor": 0,
              "model_id": "22ad7f72fe9d483191414dfcbff1312e"
            }
          },
          "metadata": {}
        },
        {
          "output_type": "display_data",
          "data": {
            "text/plain": [
              "Generating train split: 0 examples [00:00, ? examples/s]"
            ],
            "application/vnd.jupyter.widget-view+json": {
              "version_major": 2,
              "version_minor": 0,
              "model_id": "986d139f0a28405089b9518ff9957689"
            }
          },
          "metadata": {}
        }
      ]
    },
    {
      "cell_type": "code",
      "source": [
        "# let's see attributes, like features, num_columns, and shape\n",
        "dataset.features, dataset.num_columns, dataset.shape"
      ],
      "metadata": {
        "id": "cUGmh8d9upmR",
        "outputId": "110fdbc9-3b82-4d3a-b9c6-69a39959afb8",
        "colab": {
          "base_uri": "https://localhost:8080/"
        }
      },
      "execution_count": 22,
      "outputs": [
        {
          "output_type": "execute_result",
          "data": {
            "text/plain": [
              "({'sentence': Value(dtype='string', id=None),\n",
              "  'source': Value(dtype='string', id=None)},\n",
              " 2,\n",
              " (3852, 2))"
            ]
          },
          "metadata": {},
          "execution_count": 22
        }
      ]
    },
    {
      "cell_type": "code",
      "source": [
        "dataset[2]"
      ],
      "metadata": {
        "id": "qbcE5hb2u7Rp",
        "outputId": "06c45d18-4698-404f-d106-32978daee768",
        "colab": {
          "base_uri": "https://localhost:8080/"
        }
      },
      "execution_count": 23,
      "outputs": [
        {
          "output_type": "execute_result",
          "data": {
            "text/plain": [
              "{'sentence': 'There was nothing so VERY remarkable in that; nor did Alice think it so VERY much out of the way to hear the Rabbit say to itself, `Oh dear!',\n",
              " 'source': 'alice28-1476.txt'}"
            ]
          },
          "metadata": {},
          "execution_count": 23
        }
      ]
    },
    {
      "cell_type": "code",
      "source": [
        "dataset[\"sentence\"][:3]"
      ],
      "metadata": {
        "id": "HwwhVPVhvL8-",
        "outputId": "4a34a312-2991-4408-a7f0-2ed99f209b0a",
        "colab": {
          "base_uri": "https://localhost:8080/"
        }
      },
      "execution_count": 24,
      "outputs": [
        {
          "output_type": "execute_result",
          "data": {
            "text/plain": [
              "[\"                ALICE'S ADVENTURES IN WONDERLAND                            Lewis Carroll                 THE MILLENNIUM FULCRUM EDITION 2.8                                 CHAPTER I                        Down the Rabbit-Hole     Alice was beginning to get very tired of sitting by her sister on the bank, and of having nothing to do:  once or twice she had peeped into the book her sister was reading, but it had no pictures or conversations in it, `and what is the use of a book,' thought Alice `without pictures or conversation?'\",\n",
              " 'So she was considering in her own mind (as well as she could, for the hot day made her feel very sleepy and stupid), whether the pleasure of making a daisy-chain would be worth the trouble of getting up and picking the daisies, when suddenly a White Rabbit with pink eyes ran close by her.',\n",
              " 'There was nothing so VERY remarkable in that; nor did Alice think it so VERY much out of the way to hear the Rabbit say to itself, `Oh dear!']"
            ]
          },
          "metadata": {},
          "execution_count": 24
        }
      ]
    },
    {
      "cell_type": "code",
      "source": [
        "dataset[\"source\"][:3]"
      ],
      "metadata": {
        "id": "-jLahzGpvB4m",
        "outputId": "290119d8-3a6c-4146-fb15-ca59a0744ed0",
        "colab": {
          "base_uri": "https://localhost:8080/"
        }
      },
      "execution_count": 25,
      "outputs": [
        {
          "output_type": "execute_result",
          "data": {
            "text/plain": [
              "['alice28-1476.txt', 'alice28-1476.txt', 'alice28-1476.txt']"
            ]
          },
          "metadata": {},
          "execution_count": 25
        }
      ]
    },
    {
      "cell_type": "code",
      "source": [
        "# check the unique sources\n",
        "dataset.unique(\"source\")"
      ],
      "metadata": {
        "id": "JtCGLGaVGxI1",
        "outputId": "bbfed53f-7869-4d46-bedb-fba47a55b903",
        "colab": {
          "base_uri": "https://localhost:8080/"
        }
      },
      "execution_count": 26,
      "outputs": [
        {
          "output_type": "execute_result",
          "data": {
            "text/plain": [
              "['alice28-1476.txt', 'wizoz10-1740.txt']"
            ]
          },
          "metadata": {},
          "execution_count": 26
        }
      ]
    },
    {
      "cell_type": "code",
      "source": [
        "# let's create new columns\n",
        "def is_alice_label(row):\n",
        "  is_alice = int(row[\"source\"] == \"alice28-1476.txt\")\n",
        "  return {\"label\": is_alice}"
      ],
      "metadata": {
        "id": "qqTGqoNzHBUL"
      },
      "execution_count": 27,
      "outputs": []
    },
    {
      "cell_type": "code",
      "source": [
        "dataset = dataset.map(is_alice_label)"
      ],
      "metadata": {
        "id": "yO6tDsIrHUHZ",
        "outputId": "de8ba12b-2b4e-45a4-efd2-c7aa478b4bdd",
        "colab": {
          "base_uri": "https://localhost:8080/",
          "height": 49,
          "referenced_widgets": [
            "160edd58ce2b466fa96a79f80123dd65",
            "994810241425437887949bd7bb101d76",
            "9e9f25e20a874a7bbc66f9f00ec027cb",
            "a0dd5a1448764694bce9e5ae78a8b72c",
            "547a445c3f214163b328d43df27f64f2",
            "8dcc182798c847e3a1c4f0f09a3d73a7",
            "d5d8a54fb67447b5b0f451637b9e6443",
            "2810e71e2e334c57a825b55c323bb5dc",
            "73c2fb7abad44a0d9e505f6fa921bf67",
            "aa517bbfbc4c44a1a2526b2bcf142721",
            "e792418c2edb4a749cf6b91bd2528c5b"
          ]
        }
      },
      "execution_count": 28,
      "outputs": [
        {
          "output_type": "display_data",
          "data": {
            "text/plain": [
              "Map:   0%|          | 0/3852 [00:00<?, ? examples/s]"
            ],
            "application/vnd.jupyter.widget-view+json": {
              "version_major": 2,
              "version_minor": 0,
              "model_id": "160edd58ce2b466fa96a79f80123dd65"
            }
          },
          "metadata": {}
        }
      ]
    },
    {
      "cell_type": "code",
      "source": [
        "dataset[2]"
      ],
      "metadata": {
        "id": "kW04h9hFHw8f",
        "outputId": "de8a306b-d31c-40ba-e868-0d0e41147d4f",
        "colab": {
          "base_uri": "https://localhost:8080/"
        }
      },
      "execution_count": 29,
      "outputs": [
        {
          "output_type": "execute_result",
          "data": {
            "text/plain": [
              "{'sentence': 'There was nothing so VERY remarkable in that; nor did Alice think it so VERY much out of the way to hear the Rabbit say to itself, `Oh dear!',\n",
              " 'source': 'alice28-1476.txt',\n",
              " 'label': 1}"
            ]
          },
          "metadata": {},
          "execution_count": 29
        }
      ]
    },
    {
      "cell_type": "code",
      "source": [
        "# Now, we can finally shuffle the dataset and split it into training and test sets\n",
        "shuffled_dataset = dataset.shuffle(seed=42)\n",
        "split_dataset = shuffled_dataset.train_test_split(test_size=0.2)\n",
        "split_dataset"
      ],
      "metadata": {
        "id": "kTby8KlRQtDQ",
        "outputId": "a7161d7c-5dc3-4ca8-8abe-23929bc6c01d",
        "colab": {
          "base_uri": "https://localhost:8080/"
        }
      },
      "execution_count": 30,
      "outputs": [
        {
          "output_type": "execute_result",
          "data": {
            "text/plain": [
              "DatasetDict({\n",
              "    train: Dataset({\n",
              "        features: ['sentence', 'source', 'label'],\n",
              "        num_rows: 3081\n",
              "    })\n",
              "    test: Dataset({\n",
              "        features: ['sentence', 'source', 'label'],\n",
              "        num_rows: 771\n",
              "    })\n",
              "})"
            ]
          },
          "metadata": {},
          "execution_count": 30
        }
      ]
    },
    {
      "cell_type": "code",
      "source": [
        "train_dataset = split_dataset[\"train\"]\n",
        "test_dataset = split_dataset[\"test\"]"
      ],
      "metadata": {
        "id": "pNKEmyDIRD32"
      },
      "execution_count": 31,
      "outputs": []
    },
    {
      "cell_type": "code",
      "source": [
        "train_dataset[0]"
      ],
      "metadata": {
        "id": "_fb8D7pYRQkW",
        "outputId": "0b46d34c-337e-4a94-d3f4-74553bee6b7f",
        "colab": {
          "base_uri": "https://localhost:8080/"
        }
      },
      "execution_count": 32,
      "outputs": [
        {
          "output_type": "execute_result",
          "data": {
            "text/plain": [
              "{'sentence': '\"Quick!\"', 'source': 'wizoz10-1740.txt', 'label': 0}"
            ]
          },
          "metadata": {},
          "execution_count": 32
        }
      ]
    },
    {
      "cell_type": "markdown",
      "source": [
        "##Vocabulary"
      ],
      "metadata": {
        "id": "BovMzxtw2vO6"
      }
    },
    {
      "cell_type": "code",
      "source": [
        "sentences = train_dataset[\"sentence\"]\n",
        "tokens = [simple_preprocess(sent) for sent in sentences]"
      ],
      "metadata": {
        "id": "BzjO7lLW2v7K"
      },
      "execution_count": 33,
      "outputs": []
    },
    {
      "cell_type": "code",
      "source": [
        "# build a vocabulary\n",
        "dictionary = corpora.Dictionary(tokens)\n",
        "print(dictionary)"
      ],
      "metadata": {
        "id": "0ZDoBi5422Sk",
        "outputId": "117041c7-73fd-444e-f9e3-eb156a1af765",
        "colab": {
          "base_uri": "https://localhost:8080/"
        }
      },
      "execution_count": 34,
      "outputs": [
        {
          "output_type": "stream",
          "name": "stdout",
          "text": [
            "Dictionary<3702 unique tokens: ['quick', 'any', 'at', 'but', 'either']...>\n"
          ]
        }
      ]
    },
    {
      "cell_type": "code",
      "source": [
        "vocab = list(dictionary.token2id.keys())\n",
        "vocab[:5]"
      ],
      "metadata": {
        "id": "VRc6jXRY25Zb",
        "outputId": "7a4ad1d6-476d-4309-b1e8-66cb0b1c23bc",
        "colab": {
          "base_uri": "https://localhost:8080/"
        }
      },
      "execution_count": 35,
      "outputs": [
        {
          "output_type": "execute_result",
          "data": {
            "text/plain": [
              "['quick', 'any', 'at', 'but', 'either']"
            ]
          },
          "metadata": {},
          "execution_count": 35
        }
      ]
    },
    {
      "cell_type": "code",
      "source": [
        "# add special token to unknown word\n",
        "special_tokens = {\n",
        "    \"[PAD]\": 0,\n",
        "    \"[UNK]\": 1\n",
        "}\n",
        "\n",
        "dictionary.patch_with_special_tokens(special_tokens)"
      ],
      "metadata": {
        "id": "COPYreo229tA"
      },
      "execution_count": 36,
      "outputs": []
    },
    {
      "cell_type": "code",
      "source": [
        "def get_rare_ids(dictionary, min_freq):\n",
        "  rare_ids = [t[0] for t in dictionary.cfs.items() if t[1] < min_freq]\n",
        "  return rare_ids"
      ],
      "metadata": {
        "id": "SBiXOr4H3AjQ"
      },
      "execution_count": 37,
      "outputs": []
    },
    {
      "cell_type": "code",
      "source": [
        "def make_vocab(sentences, folder=None, special_tokens=None, vocab_size=None, min_freq=None):\n",
        "\n",
        "  if folder is not None:\n",
        "    if not os.path.exists(folder):\n",
        "      os.mkdir(folder)\n",
        "\n",
        "  # tokenizes the sentences and create a Dictionary\n",
        "  tokens = [simple_preprocess(sent) for sent in sentences]\n",
        "  dictionary = corpora.Dictionary(tokens)\n",
        "\n",
        "  # keeps only the most frequent words (vocab size)\n",
        "  if vocab_size is not None:\n",
        "    dictionary.filter_extremes(keep_n=vocab_size)\n",
        "\n",
        "  # removes rare words (in case the vocab size still includes words with low frequency)\n",
        "  if min_freq is not None:\n",
        "    rare_tokens = get_rare_ids(dictionary, min_freq)\n",
        "    dictionary.filter_tokens(bad_ids=rare_tokens)\n",
        "\n",
        "  # gets the whole list of tokens and frequencies\n",
        "  items = dictionary.cfs.items()\n",
        "\n",
        "  # sorts the tokens in descending order\n",
        "  words = [dictionary[t[0]] for t in sorted(dictionary.cfs.items(), key=lambda t: -t[1])]\n",
        "\n",
        "  # prepends special tokens, if any\n",
        "  if special_tokens is not None:\n",
        "    to_add = []\n",
        "    for special_token in special_tokens:\n",
        "      if special_token not in words:\n",
        "        to_add.append(special_token)\n",
        "    words = to_add + words\n",
        "\n",
        "  with open(os.path.join(folder, \"vocab.txt\"), \"w\") as f:\n",
        "    for word in words:\n",
        "      f.write(f\"{word}\\n\")"
      ],
      "metadata": {
        "id": "bXogiiHo3BWv"
      },
      "execution_count": 38,
      "outputs": []
    },
    {
      "cell_type": "code",
      "source": [
        "make_vocab(\n",
        "    train_dataset[\"sentence\"],\n",
        "    \"our_vocab/\",\n",
        "    special_tokens=['[PAD]', '[UNK]', '[SEP]', '[CLS]', '[MASK]'],\n",
        "    min_freq=2\n",
        ")"
      ],
      "metadata": {
        "id": "AEjeVtJY3DmC"
      },
      "execution_count": 39,
      "outputs": []
    },
    {
      "cell_type": "markdown",
      "source": [
        "## HugginFace's Tokenizer"
      ],
      "metadata": {
        "id": "2O6_LQhwM5P5"
      }
    },
    {
      "cell_type": "markdown",
      "source": [
        "So, before loading a pre-trained tokenizer, let’s create our own tokenizer using our\n",
        "own vocabulary."
      ],
      "metadata": {
        "id": "l6OsR5AQ3L5b"
      }
    },
    {
      "cell_type": "code",
      "source": [
        "tokenizer = BertTokenizer(\"our_vocab/vocab.txt\")"
      ],
      "metadata": {
        "id": "zyTwT20d3LZL"
      },
      "execution_count": 40,
      "outputs": []
    },
    {
      "cell_type": "markdown",
      "source": [
        "Let’s apply our tokenizer to our dataset of sentences, padding them and\n",
        "returning PyTorch tensors:"
      ],
      "metadata": {
        "id": "QhUvETeOAReV"
      }
    },
    {
      "cell_type": "code",
      "source": [
        "tokenized_dataset = tokenizer(dataset[\"sentence\"],\n",
        "                              padding=True,\n",
        "                              return_tensors=\"pt\",\n",
        "                              max_length=50,\n",
        "                              truncation=True)\n",
        "tokenized_dataset[\"input_ids\"]"
      ],
      "metadata": {
        "colab": {
          "base_uri": "https://localhost:8080/"
        },
        "id": "cwkfzV3AASH2",
        "outputId": "c6d2ebf3-3f2d-4431-d1dd-b58982db8a0d"
      },
      "execution_count": 41,
      "outputs": [
        {
          "output_type": "execute_result",
          "data": {
            "text/plain": [
              "tensor([[   3,   28,    1,  ...,   98, 1011,    2],\n",
              "        [   3,   23,   10,  ..., 1542,    5,    2],\n",
              "        [   3,   43,   13,  ...,    0,    0,    0],\n",
              "        ...,\n",
              "        [   3,    1,    6,  ...,    0,    0,    0],\n",
              "        [   3,    6,  127,  ...,    0,    0,    0],\n",
              "        [   3,    1,    1,  ...,    0,    0,    0]])"
            ]
          },
          "metadata": {},
          "execution_count": 41
        }
      ]
    },
    {
      "cell_type": "markdown",
      "source": [
        "Can we feed the input_ids to BERT and watch the magic happen?\n",
        "\n",
        "BERT is actually using vectors to represent the words. The\n",
        "token IDs we’ll be sending it are simply the indices of an enormous lookup table.\n",
        "\n",
        "That lookup table has a very nice name: **Word Embeddings**.\n",
        "\n",
        "Each row of the lookup table corresponds to a different token, and each row is\n",
        "represented by a vector. The size of the vectors is the dimensionality of the\n",
        "embedding."
      ],
      "metadata": {
        "id": "3m5yLhzHMCbJ"
      }
    },
    {
      "cell_type": "markdown",
      "source": [
        "##Text representation"
      ],
      "metadata": {
        "id": "vbGRfN2lSckj"
      }
    },
    {
      "cell_type": "markdown",
      "source": [
        "Before getting to the actual word embeddings, let’s start with the basics and text representations."
      ],
      "metadata": {
        "id": "I8Q8t1InYQCN"
      }
    },
    {
      "cell_type": "markdown",
      "source": [
        "###One-Hot Encoding"
      ],
      "metadata": {
        "id": "EG_k8wCPSeHm"
      }
    },
    {
      "cell_type": "markdown",
      "source": [
        "The idea behind OHE is quite simple: Each unique token (word) is represented by a vector full of zeros except for one position, which corresponds to the token’s index.\n",
        "\n",
        "Let’s see one-hot encoding representations for 5 words.\n",
        "\n",
        "![](https://github.com/rahiakela/deep-learning-research-and-practice/blob/main/deep-learning-with-pytorch-step-by-step/Part-III-NLP/images/ohe1.png?raw=1)\n",
        "\n",
        "But there are 3,704 unique tokens in our text\n",
        "corpora (not counting the added special tokens), so the OHE actually looks like this.\n",
        "\n",
        "![](https://github.com/rahiakela/deep-learning-research-and-practice/blob/main/deep-learning-with-pytorch-step-by-step/Part-III-NLP/images/ohe2.png?raw=1)\n",
        "\n",
        "That’s quite a large and sparse vector, right?\n",
        "\n",
        "Clearly, this isn’t very practical.\n",
        "\n",
        "Nonetheless, the sparse vectors produced by the one-hot\n",
        "encoding are the basis of a fairly basic NLP model: the bag-of-words (BoW)."
      ],
      "metadata": {
        "id": "_n5iKKJMZTJ-"
      }
    },
    {
      "cell_type": "markdown",
      "source": [
        "###Bag-of-Words"
      ],
      "metadata": {
        "id": "X8uH8jRzaMQ5"
      }
    },
    {
      "cell_type": "markdown",
      "source": [
        "The bag-of-words model is literally a bag of words: It simply sums up the\n",
        "corresponding OHE vectors, completely disregarding any underlying structure or\n",
        "relationships between the words."
      ],
      "metadata": {
        "id": "S9CzuIXYaNHT"
      }
    },
    {
      "cell_type": "code",
      "source": [
        "sentence = \"the white rabbit is a rabbit\"\n",
        "bow_tokens = simple_preprocess(sentence)\n",
        "bow_tokens"
      ],
      "metadata": {
        "id": "pAHmAtcCUgVI",
        "outputId": "92f5d762-bcd7-4872-818e-0703dda5d7c2",
        "colab": {
          "base_uri": "https://localhost:8080/"
        }
      },
      "execution_count": 42,
      "outputs": [
        {
          "output_type": "execute_result",
          "data": {
            "text/plain": [
              "['the', 'white', 'rabbit', 'is', 'rabbit']"
            ]
          },
          "metadata": {},
          "execution_count": 42
        }
      ]
    },
    {
      "cell_type": "code",
      "source": [
        "bow = dictionary.doc2bow(bow_tokens)\n",
        "bow"
      ],
      "metadata": {
        "id": "exjRsktyvC9A",
        "outputId": "51f6d137-b370-45a1-b598-0fa04b65c0d0",
        "colab": {
          "base_uri": "https://localhost:8080/"
        }
      },
      "execution_count": 43,
      "outputs": [
        {
          "output_type": "execute_result",
          "data": {
            "text/plain": [
              "[(15, 1), (72, 2), (74, 1), (248, 1)]"
            ]
          },
          "metadata": {},
          "execution_count": 43
        }
      ]
    },
    {
      "cell_type": "markdown",
      "source": [
        "Representing words using\n",
        "one-hot-encoded vectors also presents severe limitations: Not only do the vectors become more and more sparse (that is, have more zeros in them) as the vocabulary\n",
        "grows, but also every word is orthogonal to all the other words.\n",
        "\n",
        "If we use one-hot-encoded vectors to represent words, we’re\n",
        "basically saying that no two words are similar to each other."
      ],
      "metadata": {
        "id": "6NzPynsAwQe5"
      }
    },
    {
      "cell_type": "markdown",
      "source": [
        "##Word Embeddings"
      ],
      "metadata": {
        "id": "TLl6U27awH-U"
      }
    },
    {
      "cell_type": "markdown",
      "source": [
        "Word2Vec has two model architectures: continuous bag-of-words (CBoW) and skip-gram (SG)."
      ],
      "metadata": {
        "id": "E5t85Yn3rrZs"
      }
    },
    {
      "cell_type": "markdown",
      "source": [
        "###Word2Vec"
      ],
      "metadata": {
        "id": "JeqPATo1rrjF"
      }
    },
    {
      "cell_type": "code",
      "source": [
        "class CBOW(nn.Module):\n",
        "  def __init__(self, vocab_size, embedding_size):\n",
        "    super().__init__()\n",
        "\n",
        "    self.embedding = nn.Embedding(vocab_size, embedding_size)\n",
        "    self.linear = nn.Linear(embedding_size, vocab_size)\n",
        "\n",
        "  def forward(self, X):\n",
        "    embeddings = self.embedding(X)\n",
        "    bow = embeddings.mean(dim=1)\n",
        "    logits = self.linear(bow)\n",
        "    return logits"
      ],
      "metadata": {
        "id": "FBv34YVcvMmk"
      },
      "execution_count": 44,
      "outputs": []
    },
    {
      "cell_type": "markdown",
      "source": [
        "If our vocabulary had only five words (\"the,\"\n",
        "\"small,\" \"is,\" \"barking,\" and \"dog\"), we could try to represent each word with an\n",
        "embedding of three dimensions.\n",
        "\n",
        "![](https://github.com/rahiakela/deep-learning-research-and-practice/blob/main/deep-learning-with-pytorch-step-by-step/Part-III-NLP/images/cbow.png?raw=1)"
      ],
      "metadata": {
        "id": "HHzK_2IGqIEq"
      }
    },
    {
      "cell_type": "code",
      "source": [
        "torch.manual_seed(42)\n",
        "\n",
        "dummy_cbow = CBOW(vocab_size=5, embedding_size=3)\n",
        "dummy_cbow.embedding.state_dict()"
      ],
      "metadata": {
        "id": "ofRQGAxWtBSE",
        "outputId": "83e49037-265c-4cfd-9f55-50116555a8d9",
        "colab": {
          "base_uri": "https://localhost:8080/"
        }
      },
      "execution_count": 45,
      "outputs": [
        {
          "output_type": "execute_result",
          "data": {
            "text/plain": [
              "OrderedDict([('weight',\n",
              "              tensor([[ 0.3367,  0.1288,  0.2345],\n",
              "                      [ 0.2303, -1.1229, -0.1863],\n",
              "                      [ 2.2082, -0.6380,  0.4617],\n",
              "                      [ 0.2674,  0.5349,  0.8094],\n",
              "                      [ 1.1103, -1.6898, -0.9890]]))])"
            ]
          },
          "metadata": {},
          "execution_count": 45
        }
      ]
    },
    {
      "cell_type": "markdown",
      "source": [
        "![](https://github.com/rahiakela/deep-learning-research-and-practice/blob/main/deep-learning-with-pytorch-step-by-step/Part-III-NLP/images/w2v_embed.png?raw=1)\n",
        "\n",
        "PyTorch’s `nn.Embedding` layer is a large lookup table.To actually\n",
        "retrieve the values, we need to call the embedding layer with a list of token\n",
        "indices, and it will return the corresponding rows of the table.\n",
        "\n",
        "Let's retrieve the embeddings for the tokens \"is\" and \"barking\" using\n",
        "their corresponding indices (two and three):"
      ],
      "metadata": {
        "id": "doZhP1fCtwJh"
      }
    },
    {
      "cell_type": "code",
      "source": [
        "# tokens: ['is', 'barking']\n",
        "dummy_cbow.embedding(torch.as_tensor([2, 3]))"
      ],
      "metadata": {
        "id": "e7sbAH_nuNTg",
        "outputId": "9379e015-d201-4e2d-b5cb-58021dde2de5",
        "colab": {
          "base_uri": "https://localhost:8080/"
        }
      },
      "execution_count": 46,
      "outputs": [
        {
          "output_type": "execute_result",
          "data": {
            "text/plain": [
              "tensor([[ 2.2082, -0.6380,  0.4617],\n",
              "        [ 0.2674,  0.5349,  0.8094]], grad_fn=<EmbeddingBackward0>)"
            ]
          },
          "metadata": {},
          "execution_count": 46
        }
      ]
    },
    {
      "cell_type": "markdown",
      "source": [
        "That’s why the main job of the tokenizer is to transform a\n",
        "sentence into a list of token IDs. That list is used as an input to\n",
        "the embedding layer, and from then on, the tokens are\n",
        "represented by dense vectors.\n",
        "\n",
        "In our former example, \"dog\" was the central word and the other four words were the context words:"
      ],
      "metadata": {
        "id": "j3L29dYbu6Od"
      }
    },
    {
      "cell_type": "code",
      "source": [
        "tiny_vocab = [\"the\", \"small\", \"is\", \"barking\", \"dog\"]\n",
        "context_words = [\"the\", \"small\", \"is\", \"barking\"]\n",
        "target_words = [\"dog\"]"
      ],
      "metadata": {
        "id": "U3tjMbAcuYYi"
      },
      "execution_count": 47,
      "outputs": []
    },
    {
      "cell_type": "markdown",
      "source": [
        "Now, let’s pretend that we tokenized the words and got their corresponding\n",
        "indices:"
      ],
      "metadata": {
        "id": "C78n0OjawBra"
      }
    },
    {
      "cell_type": "code",
      "source": [
        "batch_context = torch.as_tensor([[0, 1, 2, 3]]).long()\n",
        "batch_target = torch.as_tensor([[4]]).long()"
      ],
      "metadata": {
        "id": "mwSL8FCnv9_A"
      },
      "execution_count": 48,
      "outputs": []
    },
    {
      "cell_type": "markdown",
      "source": [
        "In its very first training step, the model would compute the continuous bag-ofwords\n",
        "for the inputs by averaging the corresponding embeddings.\n",
        "\n",
        "![](https://github.com/rahiakela/deep-learning-research-and-practice/blob/main/deep-learning-with-pytorch-step-by-step/Part-III-NLP/images/w2v_cbow.png?raw=1)"
      ],
      "metadata": {
        "id": "3hhXHBRZwwC0"
      }
    },
    {
      "cell_type": "code",
      "source": [
        "cbow_features = dummy_cbow.embedding(batch_context).mean(dim=1)\n",
        "cbow_features"
      ],
      "metadata": {
        "id": "mmUjvFuNw2EN",
        "outputId": "b591a539-f300-479e-f555-8f72c7eb58b5",
        "colab": {
          "base_uri": "https://localhost:8080/"
        }
      },
      "execution_count": 49,
      "outputs": [
        {
          "output_type": "execute_result",
          "data": {
            "text/plain": [
              "tensor([[ 0.7606, -0.2743,  0.3298]], grad_fn=<MeanBackward1>)"
            ]
          },
          "metadata": {},
          "execution_count": 49
        }
      ]
    },
    {
      "cell_type": "markdown",
      "source": [
        "The bag-of-words has three dimensions, which are the features used to compute\n",
        "the logits for our multiclass classification problem.\n",
        "\n",
        "![](https://github.com/rahiakela/deep-learning-research-and-practice/blob/main/deep-learning-with-pytorch-step-by-step/Part-III-NLP/images/w2v_logits.png?raw=1)"
      ],
      "metadata": {
        "id": "nm9VtzAhyzAC"
      }
    },
    {
      "cell_type": "code",
      "source": [
        "logits = dummy_cbow.linear(cbow_features)\n",
        "logits"
      ],
      "metadata": {
        "id": "-XIRiwTAy3bD",
        "outputId": "8cd4c9c0-87dd-4fa8-cc72-aa01a8f1fe25",
        "colab": {
          "base_uri": "https://localhost:8080/"
        }
      },
      "execution_count": 50,
      "outputs": [
        {
          "output_type": "execute_result",
          "data": {
            "text/plain": [
              "tensor([[ 0.3542,  0.6937, -0.2028, -0.5873,  0.2099]],\n",
              "       grad_fn=<AddmmBackward0>)"
            ]
          },
          "metadata": {},
          "execution_count": 50
        }
      ]
    },
    {
      "cell_type": "markdown",
      "source": [
        "The largest logit corresponds to the word \"small\" (class index one), so that would be\n",
        "the predicted central word: \"The small small is barking.\" The prediction is obviously\n",
        "wrong, but, then again, that’s still a randomly initialized model.\n",
        "\n",
        "Given a large enough dataset of context and target words, we could train the CBOW model above using an `nn.CrossEntropyLoss()` to learn actual word embeddings."
      ],
      "metadata": {
        "id": "H8V5V4K3zSVV"
      }
    },
    {
      "cell_type": "markdown",
      "source": [
        "###What Is an Embedding"
      ],
      "metadata": {
        "id": "DJhFvgNCfsCt"
      }
    },
    {
      "cell_type": "markdown",
      "source": [
        "An embedding is a representation of an entity (a word, in our case), and each of its\n",
        "dimensions can be seen as an attribute or feature.\n",
        "\n",
        "Let’s forget about words for a moment and talk about restaurants instead. We can\n",
        "rate restaurants over many different dimensions, like food, price, and service, for\n",
        "example.\n",
        "\n",
        "![](https://github.com/rahiakela/deep-learning-research-and-practice/blob/main/deep-learning-with-pytorch-step-by-step/Part-III-NLP/images/rest_discrete.png?raw=1)"
      ],
      "metadata": {
        "id": "Q2FQLHQFfsyY"
      }
    },
    {
      "cell_type": "markdown",
      "source": [
        "Although it’s fairly obvious to spot the similarities and differences among the restaurants in the table above, it wouldn’t be so easy to spot them if there were dozens of dimensions to compare.\n",
        "\n",
        "Besides, it would be very hard to objectively\n",
        "measure the similarity between any two restaurants using categorical scales like that.\n",
        "\n",
        "What if we use continuous scales instead?\n",
        "\n",
        "Perfect! Let’s do that and assign values in the range [-1, 1], from very bad (-1) to\n",
        "very good (1), or from very expensive (-1) to very cheap (1).\n",
        "\n",
        "\n",
        "![](https://github.com/rahiakela/deep-learning-research-and-practice/blob/main/deep-learning-with-pytorch-step-by-step/Part-III-NLP/images/rest_continuous.png?raw=1)"
      ],
      "metadata": {
        "id": "UwC-93Maf8D9"
      }
    },
    {
      "cell_type": "markdown",
      "source": [
        "These values are like \"restaurant embeddings\" :-)\n",
        "\n",
        "Well, they’re not quite embeddings, but at least we can use cosine similarity to find\n",
        "out how similar to each other two restaurants are:"
      ],
      "metadata": {
        "id": "xbaY_Ze2pqVd"
      }
    },
    {
      "cell_type": "code",
      "source": [
        "ratings = torch.as_tensor([\n",
        "    [.7, -.4, .7],\n",
        "    [.3, .7, -.5],\n",
        "    [.9, -.55, .8],\n",
        "    [-.3, .8, .34]\n",
        "]).float()\n",
        "\n",
        "sims = torch.zeros(4, 4)\n",
        "for i in range(4):\n",
        "  for j in range(4):\n",
        "    sims[i, j] = F.cosine_similarity(ratings[i], ratings[j], dim=0)\n",
        "sims"
      ],
      "metadata": {
        "id": "vyMESL5NzB49",
        "outputId": "063f816a-d3fa-414e-bde8-1846cd02974b",
        "colab": {
          "base_uri": "https://localhost:8080/"
        }
      },
      "execution_count": 51,
      "outputs": [
        {
          "output_type": "execute_result",
          "data": {
            "text/plain": [
              "tensor([[ 1.0000, -0.4318,  0.9976, -0.2974],\n",
              "        [-0.4318,  1.0000, -0.4270,  0.3581],\n",
              "        [ 0.9976, -0.4270,  1.0000, -0.3598],\n",
              "        [-0.2974,  0.3581, -0.3598,  1.0000]])"
            ]
          },
          "metadata": {},
          "execution_count": 51
        }
      ]
    },
    {
      "cell_type": "markdown",
      "source": [
        "Although we can compute the cosine similarity between two restaurants now, the\n",
        "values in the table above are not real embeddings. It was only an example that\n",
        "illustrates well the concept of embedding dimensions as attributes."
      ],
      "metadata": {
        "id": "ZFEHSijRuDz2"
      }
    },
    {
      "cell_type": "markdown",
      "source": [
        "###Global Vectors (GloVe)"
      ],
      "metadata": {
        "id": "S-QTHiccuJX8"
      }
    },
    {
      "cell_type": "markdown",
      "source": [
        "The Global Vectors model combines the skip-gram\n",
        "model with co-occurrence statistics at the global level (hence the name)."
      ],
      "metadata": {
        "id": "SRZ0T_qDuKXf"
      }
    },
    {
      "cell_type": "code",
      "source": [
        "# Downloading Pre-trained Word Embeddings\n",
        "glove = downloader.load(\"glove-wiki-gigaword-50\")"
      ],
      "metadata": {
        "id": "aQc4_5pkt8Ey",
        "outputId": "5bcbb155-1945-4467-c313-411441de8801",
        "colab": {
          "base_uri": "https://localhost:8080/"
        }
      },
      "execution_count": 52,
      "outputs": [
        {
          "output_type": "stream",
          "name": "stdout",
          "text": [
            "[==================================================] 100.0% 66.0/66.0MB downloaded\n"
          ]
        }
      ]
    },
    {
      "cell_type": "code",
      "source": [
        "# UPDATED\n",
        "###########################################################\n",
        "# The vocab property isn't available anymore at the newer\n",
        "# Gensim version. It was replaced by key_to_index len(glove.vocab)\n",
        "len(glove.key_to_index)\n",
        "###########################################################"
      ],
      "metadata": {
        "id": "LGMK2OlGpOfL",
        "outputId": "dd3f5ea4-eb5b-4a5a-f6a9-4998ce62968b",
        "colab": {
          "base_uri": "https://localhost:8080/"
        }
      },
      "execution_count": 53,
      "outputs": [
        {
          "output_type": "execute_result",
          "data": {
            "text/plain": [
              "400000"
            ]
          },
          "metadata": {},
          "execution_count": 53
        }
      ]
    },
    {
      "cell_type": "code",
      "source": [
        "# Let’s check the embeddings for \"alice\"\n",
        "glove[\"alice\"]"
      ],
      "metadata": {
        "id": "pDNV8w5kon6i",
        "outputId": "440240cb-1f6b-4d8c-ba6c-122782085847",
        "colab": {
          "base_uri": "https://localhost:8080/"
        }
      },
      "execution_count": 54,
      "outputs": [
        {
          "output_type": "execute_result",
          "data": {
            "text/plain": [
              "array([ 0.16386 ,  0.57795 , -0.59197 , -0.32446 ,  0.29762 ,  0.85151 ,\n",
              "       -0.76695 , -0.20733 ,  0.21491 , -0.51587 , -0.17517 ,  0.94459 ,\n",
              "        0.12705 , -0.33031 ,  0.75951 ,  0.44449 ,  0.16553 , -0.19235 ,\n",
              "        0.065533, -0.12394 ,  0.61446 ,  0.89784 ,  0.17413 ,  0.41149 ,\n",
              "        1.191   , -0.39461 , -0.459   ,  0.022161, -0.50843 , -0.44464 ,\n",
              "        0.68721 , -0.7167  ,  0.20835 , -0.23437 ,  0.02604 , -0.47993 ,\n",
              "        0.31873 , -0.29135 ,  0.50273 , -0.55144 , -0.066692,  0.43873 ,\n",
              "       -0.24293 , -1.0247  ,  0.029375,  0.068499,  0.25451 , -1.9663  ,\n",
              "        0.26673 ,  0.88486 ], dtype=float32)"
            ]
          },
          "metadata": {},
          "execution_count": 54
        }
      ]
    },
    {
      "cell_type": "code",
      "source": [
        "len(glove[\"alice\"])"
      ],
      "metadata": {
        "id": "Dg804XDdouMh",
        "outputId": "66102213-9cf3-4178-912a-d9a3f2313ca3",
        "colab": {
          "base_uri": "https://localhost:8080/"
        }
      },
      "execution_count": 55,
      "outputs": [
        {
          "output_type": "execute_result",
          "data": {
            "text/plain": [
              "50"
            ]
          },
          "metadata": {},
          "execution_count": 55
        }
      ]
    },
    {
      "cell_type": "code",
      "source": [
        "# let's create a synthetic queen\n",
        "synthetic_queen = glove[\"king\"] - glove[\"man\"] + glove[\"woman\"]"
      ],
      "metadata": {
        "id": "_6IIvZ64pZ8y"
      },
      "execution_count": 56,
      "outputs": []
    },
    {
      "cell_type": "code",
      "source": [
        "# These are the corresponding embeddings\n",
        "fig = plot_word_vectors(\n",
        "    glove, [\"king\", \"man\", \"woman\", \"synthetic\", \"queen\"],\n",
        "    other = {\"synthetic_queen\": synthetic_queen}\n",
        ")"
      ],
      "metadata": {
        "id": "tQVvMa5Cpj_L",
        "outputId": "9dfde958-4ff0-4af9-cf2d-d878c24211a5",
        "colab": {
          "base_uri": "https://localhost:8080/",
          "height": 197
        }
      },
      "execution_count": 57,
      "outputs": [
        {
          "output_type": "stream",
          "name": "stderr",
          "text": [
            "/content/plots/chapter11.py:23: UserWarning: FixedFormatter should only be used together with FixedLocator\n",
            "  axs[i].set_yticklabels(['', word, ''])\n"
          ]
        },
        {
          "output_type": "display_data",
          "data": {
            "text/plain": [
              "<Figure size 1800x350 with 5 Axes>"
            ],
            "image/png": "[encoded data removed]"
          },
          "metadata": {}
        }
      ]
    },
    {
      "cell_type": "markdown",
      "source": [
        "How similar is the \"synthetic queen\" to the actual \"queen,\"?"
      ],
      "metadata": {
        "id": "nJrXgguAqRwV"
      }
    },
    {
      "cell_type": "code",
      "source": [
        "glove.similar_by_vector(synthetic_queen, topn=5)"
      ],
      "metadata": {
        "id": "XJ-ZOYhyp7Z2",
        "outputId": "78197760-4011-41f1-b268-3482d78b4756",
        "colab": {
          "base_uri": "https://localhost:8080/"
        }
      },
      "execution_count": 58,
      "outputs": [
        {
          "output_type": "execute_result",
          "data": {
            "text/plain": [
              "[('king', 0.8859834671020508),\n",
              " ('queen', 0.8609582185745239),\n",
              " ('daughter', 0.7684512734413147),\n",
              " ('prince', 0.7640699744224548),\n",
              " ('throne', 0.7634970545768738)]"
            ]
          },
          "metadata": {},
          "execution_count": 58
        }
      ]
    },
    {
      "cell_type": "markdown",
      "source": [
        "The most similar word to the 'synthetic queen' is … king?\n",
        "\n",
        "Yes.after performing word embedding arithmetic, the word most similar to the result is the original word itself.\n",
        "\n",
        "For this reason, it’s usual to exclude the original word from the\n",
        "similarity results. In this case, the most similar word to the \"synthetic queen\" is,\n",
        "indeed, the actual \"queen.\""
      ],
      "metadata": {
        "id": "E7m5jpljq5C-"
      }
    },
    {
      "cell_type": "code",
      "source": [
        "glove.similar_by_vector(synthetic_queen, topn=5)[1:]"
      ],
      "metadata": {
        "id": "IQMHzXCqwvBl",
        "outputId": "7947a663-50e3-4625-da46-7c63db0d3cfc",
        "colab": {
          "base_uri": "https://localhost:8080/"
        }
      },
      "execution_count": 59,
      "outputs": [
        {
          "output_type": "execute_result",
          "data": {
            "text/plain": [
              "[('queen', 0.8609582185745239),\n",
              " ('daughter', 0.7684512734413147),\n",
              " ('prince', 0.7640699744224548),\n",
              " ('throne', 0.7634970545768738)]"
            ]
          },
          "metadata": {},
          "execution_count": 59
        }
      ]
    },
    {
      "cell_type": "markdown",
      "source": [
        "###Using Word Embeddings"
      ],
      "metadata": {
        "id": "rXX3c5TLxOmO"
      }
    },
    {
      "cell_type": "markdown",
      "source": [
        "What if the vocabulary of your corpora is not quite properly\n",
        "represented in the embeddings?\n",
        "\n",
        "Even worse, what if the preprocessing steps you\n",
        "used resulted in a lot of tokens that do not exist in the embeddings?\n",
        "\n",
        "First and foremost, most of the usual\n",
        "preprocessing steps do not apply when you’re using pre-trained word embeddings\n",
        "like GloVe: no lemmatization, no stemming, no stop-word removal. These steps\n",
        "would likely end up producing a lot of `[UNK]` tokens.\n",
        "\n",
        "Second, even without those preprocessing steps, maybe the words used in the\n",
        "given text corpora are simply not a good match for a particular pre-trained set of word embeddings.\n",
        "\n",
        "Let’s see how good a match the glove-wiki-gigaword-50 embeddings are to our\n",
        "own vocabulary."
      ],
      "metadata": {
        "id": "YGay6ELhxPSP"
      }
    },
    {
      "cell_type": "code",
      "source": [
        "vocab = list(dictionary.token2id.keys())\n",
        "len(vocab)"
      ],
      "metadata": {
        "id": "Cl9oN5xAolX1",
        "outputId": "b62995bb-620e-4597-d1ac-3e6285dd59d2",
        "colab": {
          "base_uri": "https://localhost:8080/"
        }
      },
      "execution_count": 60,
      "outputs": [
        {
          "output_type": "execute_result",
          "data": {
            "text/plain": [
              "3704"
            ]
          },
          "metadata": {},
          "execution_count": 60
        }
      ]
    },
    {
      "cell_type": "markdown",
      "source": [
        "Let’s see how many words of our own vocabulary are unknown to the\n",
        "embeddings:"
      ],
      "metadata": {
        "id": "CA78IarYo5sY"
      }
    },
    {
      "cell_type": "code",
      "source": [
        "unknown_words = sorted(list(set(vocab).difference(set(glove.key_to_index))))\n",
        "print(len(unknown_words))\n",
        "print(unknown_words[:5])"
      ],
      "metadata": {
        "id": "k-RxMXoGo5As",
        "outputId": "f087b083-7203-4d88-ee66-8253b794bd84",
        "colab": {
          "base_uri": "https://localhost:8080/"
        }
      },
      "execution_count": 61,
      "outputs": [
        {
          "output_type": "stream",
          "name": "stdout",
          "text": [
            "41\n",
            "['[PAD]', '[UNK]', 'arrum', 'barrowful', 'beauti']\n"
          ]
        }
      ]
    },
    {
      "cell_type": "markdown",
      "source": [
        "If we look at how often the unknown words show up in our text corpora, we’ll have\n",
        "a precise measure of how many tokens will be unknown to the embeddings."
      ],
      "metadata": {
        "id": "Bxv7czgCqYvZ"
      }
    },
    {
      "cell_type": "code",
      "source": [
        "# get the IDs of the unknown words first\n",
        "unknown_ids = [dictionary.token2id[w] for w in unknown_words if w not in [\"[PAD]\", \"[UNK]\"]]\n",
        "# then look at their frequencies in the corpora\n",
        "unknown_count = sum(dictionary.cfs[idx] for idx in unknown_ids)\n",
        "unknown_count, dictionary.num_pos"
      ],
      "metadata": {
        "id": "LqhXF7-ZqZMF",
        "outputId": "7d05efd3-39c4-4eb1-b20e-4c2931a3bd6f",
        "colab": {
          "base_uri": "https://localhost:8080/"
        }
      },
      "execution_count": 62,
      "outputs": [
        {
          "output_type": "execute_result",
          "data": {
            "text/plain": [
              "(88, 50936)"
            ]
          },
          "metadata": {},
          "execution_count": 62
        }
      ]
    },
    {
      "cell_type": "markdown",
      "source": [
        "Only 86 out of 50,749 words in the text corpora cannot be matched to the\n",
        "vocabulary of the word embeddings. That’s an impressive 99.84% coverage!\n",
        "\n",
        "Let's compute the vocabulary coverage given\n",
        "a Gensim’s Dictionary and pre-trained embeddings."
      ],
      "metadata": {
        "id": "4GEjJJchryTU"
      }
    },
    {
      "cell_type": "code",
      "source": [
        "def vocab_coverage(gensim_dict, pretrained_wv, special_tokens=[\"[PAD]\", \"[UNK]\"]):\n",
        "  vocab = list(gensim_dict.token2id.keys())\n",
        "  # get the vocabulary of unknown embeddings\n",
        "  unknown_words = sorted(list(set(vocab).difference(set(pretrained_wv.key_to_index))))\n",
        "  # get the IDs of the unknown words first\n",
        "  unknown_ids = [gensim_dict.token2id[w] for w in unknown_words if w not in special_tokens]\n",
        "  # then look at their frequencies in the corpora\n",
        "  unknown_count = sum(gensim_dict.cfs[idx] for idx in unknown_ids)\n",
        "  cov = 1 - unknown_count / gensim_dict.num_pos\n",
        "  return cov"
      ],
      "metadata": {
        "id": "ALc-Jyo-rJpw"
      },
      "execution_count": 63,
      "outputs": []
    },
    {
      "cell_type": "code",
      "source": [
        "vocab_coverage(dictionary, glove)"
      ],
      "metadata": {
        "id": "RmjyYaoGs94y",
        "outputId": "4764a228-9078-4127-89d7-3cfcdf82fc13",
        "colab": {
          "base_uri": "https://localhost:8080/"
        }
      },
      "execution_count": 64,
      "outputs": [
        {
          "output_type": "execute_result",
          "data": {
            "text/plain": [
              "0.9982723417622114"
            ]
          },
          "metadata": {},
          "execution_count": 64
        }
      ]
    },
    {
      "cell_type": "markdown",
      "source": [
        "###Tokenizer"
      ],
      "metadata": {
        "id": "bdHglfT3tOmN"
      }
    },
    {
      "cell_type": "code",
      "source": [
        "def make_vocab_from_wv(wv, folder=None, special_tokens=None):\n",
        "  if folder is not None:\n",
        "    if not os.path.exists(folder):\n",
        "      os.mkdir(folder)\n",
        "\n",
        "  # UPDATED\n",
        "  ###########################################################\n",
        "  # The index2word property isn't available anymore at the newer Gensim version. It was replaced by index_to_key\n",
        "  # words = wv.index2word\n",
        "  words = wv.index_to_key\n",
        "  ###########################################################\n",
        "  if special_tokens is not None:\n",
        "    to_add = []\n",
        "    for special_token in special_tokens:\n",
        "      if special_token not in words:\n",
        "        to_add.append(special_token)\n",
        "    words = to_add + words\n",
        "\n",
        "  with open(os.path.join(folder, \"vocab.txt\"), \"w\") as f:\n",
        "    for word in words:\n",
        "      f.write(f\"{word}\\n\")"
      ],
      "metadata": {
        "id": "hpTqCmwItETD"
      },
      "execution_count": 65,
      "outputs": []
    },
    {
      "cell_type": "code",
      "source": [
        "# let's save the vocabulary of the embeddings to disk as a plain-text file\n",
        "make_vocab_from_wv(glove, \"glove_vocab/\", special_tokens=[\"[PAD]\", \"[UNK]\"])"
      ],
      "metadata": {
        "id": "WgUSbUFKsaZY"
      },
      "execution_count": 66,
      "outputs": []
    },
    {
      "cell_type": "code",
      "source": [
        "# now, let's create a tokenizer based on GloVe’s vocabulary\n",
        "glove_tokenizer = BertTokenizer(\"glove_vocab/vocab.txt\")"
      ],
      "metadata": {
        "id": "xylqAOWXsw2q"
      },
      "execution_count": 67,
      "outputs": []
    },
    {
      "cell_type": "code",
      "source": [
        "# get the indices for the tokens\n",
        "glove_tokenizer.encode(\"alice followed the white rabbit\", add_special_tokens=False)"
      ],
      "metadata": {
        "id": "S6uNXSU4tTrE",
        "outputId": "985f834a-d835-4fee-a692-e48b7d5ede91",
        "colab": {
          "base_uri": "https://localhost:8080/"
        }
      },
      "execution_count": 68,
      "outputs": [
        {
          "output_type": "execute_result",
          "data": {
            "text/plain": [
              "[7101, 930, 2, 300, 12427]"
            ]
          },
          "metadata": {},
          "execution_count": 68
        }
      ]
    },
    {
      "cell_type": "markdown",
      "source": [
        "###Special Tokens' Embeddings"
      ],
      "metadata": {
        "id": "ixzGekeZuwwR"
      }
    },
    {
      "cell_type": "code",
      "source": [
        "len(glove_tokenizer.vocab), len(glove.vectors)"
      ],
      "metadata": {
        "id": "DPaZiVH0tdxA",
        "outputId": "c4f932e9-035e-4909-c762-2a4d3d50434a",
        "colab": {
          "base_uri": "https://localhost:8080/"
        }
      },
      "execution_count": 69,
      "outputs": [
        {
          "output_type": "execute_result",
          "data": {
            "text/plain": [
              "(400002, 400000)"
            ]
          },
          "metadata": {},
          "execution_count": 69
        }
      ]
    },
    {
      "cell_type": "markdown",
      "source": [
        "The difference is due to the two special tokens, `[PAD]` and `[UNK]`, that were prepended to the vocabulary when we saved it to disk. Therefore, we need to prepend their corresponding embeddings too."
      ],
      "metadata": {
        "id": "sFSVhiNTvCNd"
      }
    },
    {
      "cell_type": "code",
      "source": [
        "# let's create 50-dimensional vectors of zeros\n",
        "special_embeddings = np.zeros((2, glove.vector_size))"
      ],
      "metadata": {
        "id": "IxCg6cBqvzgZ"
      },
      "execution_count": 70,
      "outputs": []
    },
    {
      "cell_type": "code",
      "source": [
        "# and concatenate them to the GloVe’s pre-trained embeddings\n",
        "extended_embeddings = np.concatenate([special_embeddings, glove.vectors], axis=0)\n",
        "extended_embeddings.shape"
      ],
      "metadata": {
        "id": "E0frIJzFv6QI",
        "outputId": "90ebded8-8431-497b-d6e4-b0d2d3a4523d",
        "colab": {
          "base_uri": "https://localhost:8080/"
        }
      },
      "execution_count": 71,
      "outputs": [
        {
          "output_type": "execute_result",
          "data": {
            "text/plain": [
              "(400002, 50)"
            ]
          },
          "metadata": {},
          "execution_count": 71
        }
      ]
    },
    {
      "cell_type": "code",
      "source": [
        "# it should match the original GloVe embeddings\n",
        "alice_index = glove_tokenizer.encode(\"alice\", add_special_tokens=False)\n",
        "\n",
        "np.all(extended_embeddings[alice_index] == glove[\"alice\"])"
      ],
      "metadata": {
        "id": "dbLQdbb2wHaD",
        "outputId": "3475b970-937e-4f20-a8c3-13380732a321",
        "colab": {
          "base_uri": "https://localhost:8080/"
        }
      },
      "execution_count": 72,
      "outputs": [
        {
          "output_type": "execute_result",
          "data": {
            "text/plain": [
              "True"
            ]
          },
          "metadata": {},
          "execution_count": 72
        }
      ]
    },
    {
      "cell_type": "markdown",
      "source": [
        "Let’s put these embeddings to good use and finally train\n",
        "a model in PyTorch!"
      ],
      "metadata": {
        "id": "Lmz_h-prxY7r"
      }
    },
    {
      "cell_type": "markdown",
      "source": [
        "## Model I - GloVe + Classifier"
      ],
      "metadata": {
        "id": "OPB9bTWwxNFb"
      }
    },
    {
      "cell_type": "code",
      "source": [
        "# Data Preparation\n",
        "train_sentences = train_dataset[\"sentence\"]\n",
        "train_labels = train_dataset[\"label\"]\n",
        "\n",
        "test_sentences = test_dataset[\"sentence\"]\n",
        "test_labels = test_dataset[\"label\"]"
      ],
      "metadata": {
        "id": "quBR-GyB5Oo9"
      },
      "execution_count": 74,
      "outputs": []
    },
    {
      "cell_type": "code",
      "source": [
        "# Data Preparation — Tokenizing\n",
        "train_ids = glove_tokenizer(\n",
        "    train_sentences,\n",
        "    truncation=True,\n",
        "    padding=True,\n",
        "    max_length=60,\n",
        "    add_special_tokens=False,\n",
        "    return_tensors=\"pt\"\n",
        ")[\"input_ids\"]\n",
        "train_labels = torch.as_tensor(train_labels).float().view(-1, 1)\n",
        "\n",
        "test_ids = glove_tokenizer(\n",
        "    test_sentences,\n",
        "    truncation=True,\n",
        "    padding=True,\n",
        "    max_length=60,\n",
        "    add_special_tokens=False,\n",
        "    return_tensors=\"pt\"\n",
        ")[\"input_ids\"]\n",
        "test_labels = torch.as_tensor(test_labels).float().view(-1, 1)"
      ],
      "metadata": {
        "id": "QqkcmHnY5tCv"
      },
      "execution_count": 75,
      "outputs": []
    },
    {
      "cell_type": "code",
      "source": [
        "# Data Preparation - Data Loader\n",
        "train_tensor_dataset = TensorDataset(train_ids, train_labels)\n",
        "generator = torch.Generator()\n",
        "\n",
        "train_loader = DataLoader(train_tensor_dataset, batch_size=32, shuffle=True, generator=generator)\n",
        "\n",
        "test_tensor_dataset = TensorDataset(test_ids, test_labels)\n",
        "test_loader = DataLoader(test_tensor_dataset, batch_size=32)"
      ],
      "metadata": {
        "id": "UBdqSxy48UFx"
      },
      "execution_count": 76,
      "outputs": []
    },
    {
      "cell_type": "code",
      "source": [
        "# Pre-trained PyTorch Embeddings\n",
        "extended_embeddings = torch.as_tensor(extended_embeddings).float()\n",
        "torch_embeddings = nn.Embedding.from_pretrained(extended_embeddings)"
      ],
      "metadata": {
        "id": "vWg2s_CP9IJq"
      },
      "execution_count": 77,
      "outputs": []
    },
    {
      "cell_type": "code",
      "source": [],
      "metadata": {
        "id": "Kli3pkpkBmqM"
      },
      "execution_count": null,
      "outputs": []
    }
  ]
}