{
  "nbformat": 4,
  "nbformat_minor": 0,
  "metadata": {
    "colab": {
      "provenance": [],
      "toc_visible": true,
      "authorship_tag": "ABX9TyMSmjnkNQF3iV9xXQe/gx2s",
      "include_colab_link": true
    },
    "kernelspec": {
      "name": "python3",
      "display_name": "Python 3"
    },
    "language_info": {
      "name": "python"
    }
  },
  "cells": [
    {
      "cell_type": "markdown",
      "metadata": {
        "id": "view-in-github",
        "colab_type": "text"
      },
      "source": [
        "<a href=\"https://colab.research.google.com/github/rahiakela/deep-learning-research-and-practice/blob/main/deep-learning-with-pytorch-step-by-step/Part-III-NLP/10_fine_tuning_with_huggingface.ipynb\" target=\"_parent\"><img src=\"https://colab.research.google.com/assets/colab-badge.svg\" alt=\"Open In Colab\"/></a>"
      ]
    },
    {
      "cell_type": "markdown",
      "source": [
        "##Fine-Tuning with HuggingFace"
      ],
      "metadata": {
        "id": "I_fJ4_FUlY0a"
      }
    },
    {
      "cell_type": "markdown",
      "source": [
        "There are BERT models available for many different tasks:\n",
        "\n",
        "* Pre-training tasks:\n",
        "  - Masked language model (BertForMaskedLM)\n",
        "  - Next sentence prediction (BertForNextSentencePrediction)\n",
        "* Typical tasks (also available as AutoModel):\n",
        "  - Sequence classification (BertForSequenceClassification)\n",
        "  - Token classification (BertForTokenClassification)\n",
        "  - Question answering (BertForQuestionAnswering)\n",
        "* BERT (and family) specific:\n",
        "  - Multiple choice (BertForMultipleChoice)\n",
        "\n",
        "We’re sticking with the sequence classification task using DistilBERT instead of regular BERT so as to make the fine-tuning faster.\n",
        "\n",
        "\n",
        "\n",
        "We’ll start our NLP journey by following the steps of Alice and Dorothy, from\n",
        "[Alice’s Adventures in Wonderland](https://ota.bodleian.ox.ac.uk/repository/xmlui/handle/20.500.12024/1476) by Lewis Carroll and [The Wonderful Wizard of Oz](https://ota.bodleian.ox.ac.uk/repository/xmlui/handle/20.500.12024/1740) by L. Frank Baum.\n",
        "\n",
        "![](https://github.com/rahiakela/deep-learning-research-and-practice/blob/main/deep-learning-with-pytorch-step-by-step/Part-III-NLP/images/alice_dorothy.png?raw=1)\n",
        "\n",
        "*Left: \"Alice and the Baby Pig\" illustration by John Tenniel's, from \"Alice's Adventure's in Wonderland\" (1865).*\n",
        "\n",
        "*Right: \"Dorothy meets the Cowardly Lion\" illustration by W.W. Denslow, from \"The Wonderful Wizard of Oz\" (1900)*\n"
      ],
      "metadata": {
        "id": "6S3AN5ZklZkV"
      }
    },
    {
      "cell_type": "markdown",
      "source": [
        "##Setup"
      ],
      "metadata": {
        "id": "y_fsZxO6mSi9"
      }
    },
    {
      "cell_type": "code",
      "source": [
        "try:\n",
        "    import google.colab\n",
        "    import requests\n",
        "    url = 'https://raw.githubusercontent.com/dvgodoy/PyTorchStepByStep/master/config.py'\n",
        "    r = requests.get(url, allow_redirects=True)\n",
        "    open('config.py', 'wb').write(r.content)\n",
        "except ModuleNotFoundError:\n",
        "    pass\n",
        "\n",
        "from config import *\n",
        "config_chapter11()\n",
        "# This is needed to render the plots in this chapter\n",
        "from plots.chapter11 import *"
      ],
      "metadata": {
        "id": "4KaJRDNLmTq_",
        "outputId": "7948489e-d184-483a-d2dd-721b5f970b04",
        "colab": {
          "base_uri": "https://localhost:8080/"
        }
      },
      "execution_count": 1,
      "outputs": [
        {
          "output_type": "stream",
          "name": "stdout",
          "text": [
            "Downloading files from GitHub repo to Colab...\n",
            "Finished!\n"
          ]
        }
      ]
    },
    {
      "cell_type": "code",
      "source": [
        "%%capture\n",
        "\n",
        "!pip install accelerate -U\n",
        "!pip install datasets\n",
        "!pip -q install spacy\n",
        "!python -m spacy download en_core_web_sm"
      ],
      "metadata": {
        "id": "eotRrneKk78G"
      },
      "execution_count": 2,
      "outputs": []
    },
    {
      "cell_type": "code",
      "source": [
        "import os\n",
        "import json\n",
        "import errno\n",
        "import requests\n",
        "import numpy as np\n",
        "from copy import deepcopy\n",
        "from operator import itemgetter\n",
        "\n",
        "import torch\n",
        "import torch.optim as optim\n",
        "import torch.nn as nn\n",
        "import torch.nn.functional as F\n",
        "from torch.utils.data import DataLoader, TensorDataset, Dataset\n",
        "\n",
        "from data_generation.nlp import ALICE_URL, WIZARD_URL, download_text\n",
        "from stepbystep.v4 import StepByStep\n",
        "# These are the classes we built in Chapter 10\n",
        "from seq2seq import *\n",
        "\n",
        "import spacy\n",
        "import nltk\n",
        "from nltk.tokenize import sent_tokenize"
      ],
      "metadata": {
        "id": "i9pPl_87mbqd"
      },
      "execution_count": 1,
      "outputs": []
    },
    {
      "cell_type": "code",
      "source": [
        "from datasets import load_dataset, Split\n",
        "from transformers import (\n",
        "    DataCollatorForLanguageModeling,\n",
        "    BertModel, BertTokenizer, BertForSequenceClassification,\n",
        "    DistilBertModel, DistilBertTokenizer,\n",
        "    DistilBertForSequenceClassification,\n",
        "    AutoModelForSequenceClassification,\n",
        "    AutoModel, AutoTokenizer, AutoModelForCausalLM,\n",
        "    Trainer, TrainingArguments, pipeline, TextClassificationPipeline\n",
        ")\n",
        "from transformers.pipelines import SUPPORTED_TASKS"
      ],
      "metadata": {
        "id": "w1HKtpREXdlF"
      },
      "execution_count": 2,
      "outputs": []
    },
    {
      "cell_type": "code",
      "source": [
        "device = 'cuda' if torch.cuda.is_available() else 'cpu'"
      ],
      "metadata": {
        "id": "AIwXdiEhTmok"
      },
      "execution_count": 48,
      "outputs": []
    },
    {
      "cell_type": "code",
      "source": [
        "nltk.download('punkt')"
      ],
      "metadata": {
        "id": "beHZ9NYf-DNZ",
        "outputId": "960063ef-85c1-49cc-abeb-8e41ea44d7d4",
        "colab": {
          "base_uri": "https://localhost:8080/"
        }
      },
      "execution_count": 5,
      "outputs": [
        {
          "output_type": "stream",
          "name": "stderr",
          "text": [
            "[nltk_data] Downloading package punkt to /root/nltk_data...\n",
            "[nltk_data]   Unzipping tokenizers/punkt.zip.\n"
          ]
        },
        {
          "output_type": "execute_result",
          "data": {
            "text/plain": [
              "True"
            ]
          },
          "metadata": {},
          "execution_count": 5
        }
      ]
    },
    {
      "cell_type": "markdown",
      "source": [
        "##Downloading Books"
      ],
      "metadata": {
        "id": "VGxz6kEmX3ke"
      }
    },
    {
      "cell_type": "code",
      "source": [
        "!rm -rf data"
      ],
      "metadata": {
        "id": "4hr1Jm9kK9DO"
      },
      "execution_count": 4,
      "outputs": []
    },
    {
      "cell_type": "code",
      "source": [
        "# let's download data\n",
        "HOME_DIR = \"data\"\n",
        "download_text(ALICE_URL, HOME_DIR)\n",
        "download_text(WIZARD_URL, HOME_DIR)"
      ],
      "metadata": {
        "id": "eTXbiieBX4Sz"
      },
      "execution_count": 5,
      "outputs": []
    },
    {
      "cell_type": "code",
      "source": [
        "# let's see the downloaded data\n",
        "#!cat data/alice28-1476.txt"
      ],
      "metadata": {
        "id": "45chINE_YYtz"
      },
      "execution_count": 6,
      "outputs": []
    },
    {
      "cell_type": "code",
      "source": [
        "#!cat data/wizoz10-1740.txt"
      ],
      "metadata": {
        "id": "uM-tdJNRZcnt"
      },
      "execution_count": 7,
      "outputs": []
    },
    {
      "cell_type": "markdown",
      "source": [
        "We need to remove these additions to the original texts:"
      ],
      "metadata": {
        "id": "msne6vRcZ14Y"
      }
    },
    {
      "cell_type": "code",
      "source": [
        "alice_file = os.path.join(HOME_DIR, \"alice28-1476.txt\")\n",
        "with open(alice_file, \"r\") as f:\n",
        "  # The actual texts of the books are contained between lines 105 and 3703\n",
        "  alice_text = \"\".join(f.readlines()[104:3704])\n",
        "\n",
        "wizard_file = os.path.join(HOME_DIR, \"wizoz10-1740.txt\")\n",
        "with open(wizard_file, \"r\") as f:\n",
        "  # The actual texts of the books are contained between lines 309 and 5099\n",
        "  wizard_text = \"\".join(f.readlines()[310:5100])"
      ],
      "metadata": {
        "id": "8z29BFQwZx4U"
      },
      "execution_count": 8,
      "outputs": []
    },
    {
      "cell_type": "code",
      "source": [
        "print(alice_text[:500])\n",
        "print(\"\\n\", \"#\"*70, \"\\n\")\n",
        "print(wizard_text[:500])"
      ],
      "metadata": {
        "colab": {
          "base_uri": "https://localhost:8080/"
        },
        "id": "tNZmtkHNahrp",
        "outputId": "482c3d63-786f-4350-c819-e8bfe73a9ce2"
      },
      "execution_count": 9,
      "outputs": [
        {
          "output_type": "stream",
          "name": "stdout",
          "text": [
            "                ALICE'S ADVENTURES IN WONDERLAND\n",
            "\n",
            "                          Lewis Carroll\n",
            "\n",
            "               THE MILLENNIUM FULCRUM EDITION 2.8\n",
            "\n",
            "\n",
            "\n",
            "\n",
            "                            CHAPTER I\n",
            "\n",
            "                      Down the Rabbit-Hole\n",
            "\n",
            "\n",
            "  Alice was beginning to get very tired of sitting by her sister\n",
            "on the bank, and of having nothing to do:  once or twice she had\n",
            "peeped into the book her sister was reading, but it had no\n",
            "pictures or conversations in it, `and what is the use of a book,'\n",
            "thought Alice `w\n",
            "\n",
            " ###################################################################### \n",
            "\n",
            "                    THE WONDERFUL WIZARD OF OZ\n",
            "\n",
            "\n",
            "                          1.  The Cyclone\n",
            "\n",
            "\n",
            "    Dorothy lived in the midst of the great Kansas prairies, with\n",
            "Uncle Henry, who was a farmer, and Aunt Em, who was the farmer's\n",
            "wife.  Their house was small, for the lumber to build it had to be\n",
            "carried by wagon many miles.  There were four walls, a floor and a\n",
            "roof, which made one room; and this room contained a rusty looking\n",
            "cookstove, a cupboard for the dishes, a table, three or four\n",
            "chairs, and th\n"
          ]
        }
      ]
    },
    {
      "cell_type": "markdown",
      "source": [
        "We can partially automate the removal of the extra lines by setting the real start and end lines of each text in a configuration file."
      ],
      "metadata": {
        "id": "zS5E4dECbotZ"
      }
    },
    {
      "cell_type": "code",
      "source": [
        "text_cfg = \"\"\"fname,start,end\n",
        "alice28-1476.txt,104,3704\n",
        "wizoz10-1740.txt,310,5100\"\"\"\n",
        "bytes_written = open(os.path.join(HOME_DIR, 'lines.cfg'), 'w').write(text_cfg)"
      ],
      "metadata": {
        "id": "ayc3piYsbutL"
      },
      "execution_count": 10,
      "outputs": []
    },
    {
      "cell_type": "markdown",
      "source": [
        "##Sentence Tokenization"
      ],
      "metadata": {
        "id": "Bk4m73rMb0gi"
      }
    },
    {
      "cell_type": "markdown",
      "source": [
        "A token is a piece of a text, and to tokenize a text means to split\n",
        "it into pieces; that is, into a list of tokens.\n",
        "\n",
        "The most common kind of piece is a word.\n",
        "\n",
        "So, tokenizing a text usually means to\n",
        "split it into words using the white space as a separator."
      ],
      "metadata": {
        "id": "6w5mJGOFb1Ua"
      }
    },
    {
      "cell_type": "code",
      "source": [
        "sentence = \"I'm following the white rabbit\"\n",
        "tokens = sentence.split(\" \")\n",
        "tokens"
      ],
      "metadata": {
        "id": "oFsqtdFkenM-",
        "outputId": "146b2160-1d4c-41e7-f7ff-f918a1db47d4",
        "colab": {
          "base_uri": "https://localhost:8080/"
        }
      },
      "execution_count": 11,
      "outputs": [
        {
          "output_type": "execute_result",
          "data": {
            "text/plain": [
              "[\"I'm\", 'following', 'the', 'white', 'rabbit']"
            ]
          },
          "metadata": {},
          "execution_count": 11
        }
      ]
    },
    {
      "cell_type": "markdown",
      "source": [
        "Let's do sentence tokenization, which means to split a text into its sentences."
      ],
      "metadata": {
        "id": "3WGtMb-Qg2Lt"
      }
    },
    {
      "cell_type": "code",
      "source": [
        "corpus_alice = sent_tokenize(alice_text)\n",
        "corpus_wizard = sent_tokenize(wizard_text)\n",
        "\n",
        "len(corpus_alice), (len(corpus_wizard))"
      ],
      "metadata": {
        "colab": {
          "base_uri": "https://localhost:8080/"
        },
        "id": "cg1Kg0Ung7aq",
        "outputId": "328e6a8d-a07c-4f47-95be-3f8657775a5f"
      },
      "execution_count": 12,
      "outputs": [
        {
          "output_type": "execute_result",
          "data": {
            "text/plain": [
              "(1612, 2240)"
            ]
          },
          "metadata": {},
          "execution_count": 12
        }
      ]
    },
    {
      "cell_type": "markdown",
      "source": [
        "Let’s check one sentence from the first corpus of text."
      ],
      "metadata": {
        "id": "1qSQVckXh3aX"
      }
    },
    {
      "cell_type": "code",
      "source": [
        "corpus_alice[2]"
      ],
      "metadata": {
        "id": "mWQQFsanh4GS",
        "outputId": "8c460ca0-5639-42cd-9fb8-9d5e0c45d822",
        "colab": {
          "base_uri": "https://localhost:8080/",
          "height": 52
        }
      },
      "execution_count": 13,
      "outputs": [
        {
          "output_type": "execute_result",
          "data": {
            "text/plain": [
              "'There was nothing so VERY remarkable in that; nor did Alice\\nthink it so VERY much out of the way to hear the Rabbit say to\\nitself, `Oh dear!'"
            ],
            "application/vnd.google.colaboratory.intrinsic+json": {
              "type": "string"
            }
          },
          "metadata": {},
          "execution_count": 13
        }
      ]
    },
    {
      "cell_type": "markdown",
      "source": [
        "Let’s check one sentence from the second corpus of text."
      ],
      "metadata": {
        "id": "RIGvTC9-iFwp"
      }
    },
    {
      "cell_type": "code",
      "source": [
        "corpus_wizard[30]"
      ],
      "metadata": {
        "id": "ojBtgVa1iGSs",
        "outputId": "c83dc95b-1ac1-4d39-a8ca-32320b867ad9",
        "colab": {
          "base_uri": "https://localhost:8080/",
          "height": 35
        }
      },
      "execution_count": 14,
      "outputs": [
        {
          "output_type": "execute_result",
          "data": {
            "text/plain": [
              "'\"There\\'s a cyclone coming, Em,\" he called to his wife.'"
            ],
            "application/vnd.google.colaboratory.intrinsic+json": {
              "type": "string"
            }
          },
          "metadata": {},
          "execution_count": 14
        }
      ]
    },
    {
      "cell_type": "markdown",
      "source": [
        "Our dataset is going to be a collection of CSV files, one file for each book, with each\n",
        "CSV file containing one sentence per line.\n",
        "\n",
        "Therefore, we need to:\n",
        "\n",
        "* clean the line breaks to make sure each sentence is on one line only;\n",
        "* define an appropriate quote char to \"wrap\" the sentence such that the original commas and semicolons in the original text do not get misinterpreted as separation chars of the CSV file; and\n",
        "* add a second column to the CSV file to\n",
        "identify the original source of the sentence since we’ll be concatenating, and\n",
        "shuffling the sentences before training a model on our corpora.\n",
        "\n",
        "The sentence above should end up looking like this:\n",
        "```log\n",
        "\\\"There's a cyclone coming, Em,\" he called to his wife.\\,wizoz10-1740.txt\n",
        "```\n",
        "\n",
        "The function below does the grunt work of cleaning, splitting, and saving the\n",
        "sentences to a CSV file for us:"
      ],
      "metadata": {
        "id": "6_QMReIwkcaH"
      }
    },
    {
      "cell_type": "code",
      "source": [
        "def sentence_tokenize(source, quote_char=\"\\\\\", sep_char=\",\", include_header=True, include_source=True, extensions=(\"txt\"), **kwargs):\n",
        "  # If source is a folder, goes through all files inside it that match the desired extensions ('txt' by default)\n",
        "  if os.path.isdir(source):\n",
        "    filenames = [f for f in os.listdir(source) if os.path.isfile(os.path.join(source, f)) and os.path.splitext(f)[1][1:] in extensions]\n",
        "  elif isinstance(source, str):\n",
        "    filenames = [source]\n",
        "\n",
        "  # If there is a configuration file, builds a dictionary with the corresponding start and end lines of each text file\n",
        "  config_file = os.path.join(source, \"lines.cfg\")\n",
        "  config = {}\n",
        "  if os.path.exists(config_file):\n",
        "    with open(config_file, \"r\") as f:\n",
        "      rows = f.readlines()\n",
        "    for r in rows[1:]:\n",
        "      fname, start, end = r.strip().split(\",\")\n",
        "      config.update({fname: (int(start), int(end))})\n",
        "\n",
        "  new_fnames = []\n",
        "  # For each file of text\n",
        "  for fname in filenames:\n",
        "    # If there's a start and end line for that file, use it\n",
        "    try:\n",
        "        start, end = config[fname]\n",
        "    except KeyError:\n",
        "        start = None\n",
        "        end = None\n",
        "\n",
        "    # Opens the file, slices the configures lines (if any)\n",
        "    # cleans line breaks and uses the sentence tokenizer\n",
        "    with open(os.path.join(source, fname), 'r') as f:\n",
        "        contents = (''.join(f.readlines()[slice(start, end, None)]).replace('\\n', ' ').replace('\\r', ''))\n",
        "    corpus = sent_tokenize(contents, **kwargs)\n",
        "\n",
        "    # Builds a CSV file containing tokenized sentences\n",
        "    base = os.path.splitext(fname)[0]\n",
        "    new_fname = f'{base}.sent.csv'\n",
        "    new_fname = os.path.join(source, new_fname)\n",
        "    with open(new_fname, 'w') as f:\n",
        "        # Header of the file\n",
        "        if include_header:\n",
        "            if include_source:\n",
        "                f.write('sentence,source\\n')\n",
        "            else:\n",
        "                f.write('sentence\\n')\n",
        "        # Writes one line for each sentence\n",
        "        for sentence in corpus:\n",
        "            if include_source:\n",
        "                f.write(f'{quote_char}{sentence}{quote_char}{sep_char}{fname}\\n')\n",
        "            else:\n",
        "                f.write(f'{quote_char}{sentence}{quote_char}\\n')\n",
        "    new_fnames.append(new_fname)\n",
        "\n",
        "  # Returns list of the newly generated CSV files\n",
        "  return sorted(new_fnames)"
      ],
      "metadata": {
        "id": "2BxVWK0Rk21Y"
      },
      "execution_count": 15,
      "outputs": []
    },
    {
      "cell_type": "code",
      "source": [
        "new_fnames = sentence_tokenize(HOME_DIR)\n",
        "new_fnames"
      ],
      "metadata": {
        "id": "95M-z4GlFTgy",
        "outputId": "66d195f8-0a75-472b-8cbb-e483ade4a040",
        "colab": {
          "base_uri": "https://localhost:8080/"
        }
      },
      "execution_count": 16,
      "outputs": [
        {
          "output_type": "execute_result",
          "data": {
            "text/plain": [
              "['data/alice28-1476.sent.csv', 'data/wizoz10-1740.sent.csv']"
            ]
          },
          "metadata": {},
          "execution_count": 16
        }
      ]
    },
    {
      "cell_type": "markdown",
      "source": [
        "##Spacy sentence tokenization"
      ],
      "metadata": {
        "id": "CAFblQB6MEge"
      }
    },
    {
      "cell_type": "code",
      "source": [
        "nlp = spacy.blank(\"en\")\n",
        "nlp.add_pipe(\"sentencizer\")\n",
        "\n",
        "sentences = []\n",
        "for doc in nlp.pipe(corpus_alice):\n",
        "  sentences.extend(sent.text for sent in doc.sents)\n",
        "\n",
        "len(sentences), sentences[2]"
      ],
      "metadata": {
        "id": "cUlNTST_SUmH",
        "outputId": "dd7d742a-7350-4131-b452-6656792e10b3",
        "colab": {
          "base_uri": "https://localhost:8080/"
        }
      },
      "execution_count": 17,
      "outputs": [
        {
          "output_type": "execute_result",
          "data": {
            "text/plain": [
              "(1615,\n",
              " 'There was nothing so VERY remarkable in that; nor did Alice\\nthink it so VERY much out of the way to hear the Rabbit say to\\nitself, `Oh dear!')"
            ]
          },
          "metadata": {},
          "execution_count": 17
        }
      ]
    },
    {
      "cell_type": "markdown",
      "source": [
        "##HuggingFace’s Dataset"
      ],
      "metadata": {
        "id": "gMQtKHL5VMvU"
      }
    },
    {
      "cell_type": "code",
      "source": [
        "# let's load from local files using HuggingFace\n",
        "dataset = load_dataset(path=\"csv\", data_files=new_fnames, quotechar=\"\\\\\", split=Split.TRAIN)"
      ],
      "metadata": {
        "id": "wDWkbp0-VNmV"
      },
      "execution_count": null,
      "outputs": []
    },
    {
      "cell_type": "code",
      "source": [
        "# let's see attributes, like features, num_columns, and shape\n",
        "dataset.features, dataset.num_columns, dataset.shape"
      ],
      "metadata": {
        "id": "cUGmh8d9upmR",
        "outputId": "9aa44165-27ea-4a14-815f-6df3b6a0abed",
        "colab": {
          "base_uri": "https://localhost:8080/"
        }
      },
      "execution_count": 19,
      "outputs": [
        {
          "output_type": "execute_result",
          "data": {
            "text/plain": [
              "({'sentence': Value(dtype='string', id=None),\n",
              "  'source': Value(dtype='string', id=None)},\n",
              " 2,\n",
              " (3852, 2))"
            ]
          },
          "metadata": {},
          "execution_count": 19
        }
      ]
    },
    {
      "cell_type": "code",
      "source": [
        "dataset[2]"
      ],
      "metadata": {
        "id": "qbcE5hb2u7Rp",
        "outputId": "b5420d9c-e9ca-4835-a172-7e18ccd2ea51",
        "colab": {
          "base_uri": "https://localhost:8080/"
        }
      },
      "execution_count": 20,
      "outputs": [
        {
          "output_type": "execute_result",
          "data": {
            "text/plain": [
              "{'sentence': 'There was nothing so VERY remarkable in that; nor did Alice think it so VERY much out of the way to hear the Rabbit say to itself, `Oh dear!',\n",
              " 'source': 'alice28-1476.txt'}"
            ]
          },
          "metadata": {},
          "execution_count": 20
        }
      ]
    },
    {
      "cell_type": "code",
      "source": [
        "dataset[\"sentence\"][:3]"
      ],
      "metadata": {
        "id": "HwwhVPVhvL8-",
        "outputId": "8bdf19b2-68bc-4fda-9157-b2e5d7eec714",
        "colab": {
          "base_uri": "https://localhost:8080/"
        }
      },
      "execution_count": 21,
      "outputs": [
        {
          "output_type": "execute_result",
          "data": {
            "text/plain": [
              "[\"                ALICE'S ADVENTURES IN WONDERLAND                            Lewis Carroll                 THE MILLENNIUM FULCRUM EDITION 2.8                                 CHAPTER I                        Down the Rabbit-Hole     Alice was beginning to get very tired of sitting by her sister on the bank, and of having nothing to do:  once or twice she had peeped into the book her sister was reading, but it had no pictures or conversations in it, `and what is the use of a book,' thought Alice `without pictures or conversation?'\",\n",
              " 'So she was considering in her own mind (as well as she could, for the hot day made her feel very sleepy and stupid), whether the pleasure of making a daisy-chain would be worth the trouble of getting up and picking the daisies, when suddenly a White Rabbit with pink eyes ran close by her.',\n",
              " 'There was nothing so VERY remarkable in that; nor did Alice think it so VERY much out of the way to hear the Rabbit say to itself, `Oh dear!']"
            ]
          },
          "metadata": {},
          "execution_count": 21
        }
      ]
    },
    {
      "cell_type": "code",
      "source": [
        "dataset[\"source\"][:3]"
      ],
      "metadata": {
        "id": "-jLahzGpvB4m",
        "outputId": "673c4cda-2089-448c-8943-2bb6f1280b2b",
        "colab": {
          "base_uri": "https://localhost:8080/"
        }
      },
      "execution_count": 22,
      "outputs": [
        {
          "output_type": "execute_result",
          "data": {
            "text/plain": [
              "['alice28-1476.txt', 'alice28-1476.txt', 'alice28-1476.txt']"
            ]
          },
          "metadata": {},
          "execution_count": 22
        }
      ]
    },
    {
      "cell_type": "code",
      "source": [
        "# check the unique sources\n",
        "dataset.unique(\"source\")"
      ],
      "metadata": {
        "id": "JtCGLGaVGxI1",
        "outputId": "9a2224ae-ebac-442e-a34f-0a5291c3d07d",
        "colab": {
          "base_uri": "https://localhost:8080/"
        }
      },
      "execution_count": 23,
      "outputs": [
        {
          "output_type": "execute_result",
          "data": {
            "text/plain": [
              "['alice28-1476.txt', 'wizoz10-1740.txt']"
            ]
          },
          "metadata": {},
          "execution_count": 23
        }
      ]
    },
    {
      "cell_type": "code",
      "source": [
        "# let's create new columns\n",
        "def is_alice_label(row):\n",
        "  is_alice = int(row[\"source\"] == \"alice28-1476.txt\")\n",
        "  return {\"label\": is_alice}"
      ],
      "metadata": {
        "id": "qqTGqoNzHBUL"
      },
      "execution_count": 24,
      "outputs": []
    },
    {
      "cell_type": "code",
      "source": [
        "dataset = dataset.map(is_alice_label)"
      ],
      "metadata": {
        "id": "yO6tDsIrHUHZ"
      },
      "execution_count": null,
      "outputs": []
    },
    {
      "cell_type": "code",
      "source": [
        "dataset[2]"
      ],
      "metadata": {
        "id": "kW04h9hFHw8f",
        "outputId": "90f85097-e095-4f0d-8d56-d7535e4f1843",
        "colab": {
          "base_uri": "https://localhost:8080/"
        }
      },
      "execution_count": 26,
      "outputs": [
        {
          "output_type": "execute_result",
          "data": {
            "text/plain": [
              "{'sentence': 'There was nothing so VERY remarkable in that; nor did Alice think it so VERY much out of the way to hear the Rabbit say to itself, `Oh dear!',\n",
              " 'source': 'alice28-1476.txt',\n",
              " 'label': 1}"
            ]
          },
          "metadata": {},
          "execution_count": 26
        }
      ]
    },
    {
      "cell_type": "code",
      "source": [
        "# Now, we can finally shuffle the dataset and split it into training and test sets\n",
        "shuffled_dataset = dataset.shuffle(seed=42)\n",
        "split_dataset = shuffled_dataset.train_test_split(test_size=0.2)\n",
        "split_dataset"
      ],
      "metadata": {
        "id": "kTby8KlRQtDQ",
        "outputId": "6968f414-09d2-4319-a695-cf13d32b0d90",
        "colab": {
          "base_uri": "https://localhost:8080/"
        }
      },
      "execution_count": 27,
      "outputs": [
        {
          "output_type": "execute_result",
          "data": {
            "text/plain": [
              "DatasetDict({\n",
              "    train: Dataset({\n",
              "        features: ['sentence', 'source', 'label'],\n",
              "        num_rows: 3081\n",
              "    })\n",
              "    test: Dataset({\n",
              "        features: ['sentence', 'source', 'label'],\n",
              "        num_rows: 771\n",
              "    })\n",
              "})"
            ]
          },
          "metadata": {},
          "execution_count": 27
        }
      ]
    },
    {
      "cell_type": "code",
      "source": [
        "train_dataset = split_dataset[\"train\"]\n",
        "test_dataset = split_dataset[\"test\"]"
      ],
      "metadata": {
        "id": "pNKEmyDIRD32"
      },
      "execution_count": 28,
      "outputs": []
    },
    {
      "cell_type": "code",
      "source": [
        "train_dataset[0]"
      ],
      "metadata": {
        "id": "_fb8D7pYRQkW",
        "outputId": "9d2ddcf4-f68f-491c-8503-20b839fc91c0",
        "colab": {
          "base_uri": "https://localhost:8080/"
        }
      },
      "execution_count": 29,
      "outputs": [
        {
          "output_type": "execute_result",
          "data": {
            "text/plain": [
              "{'sentence': 'And at last they looked at Dorothy again.',\n",
              " 'source': 'wizoz10-1740.txt',\n",
              " 'label': 0}"
            ]
          },
          "metadata": {},
          "execution_count": 29
        }
      ]
    },
    {
      "cell_type": "markdown",
      "source": [
        "##Sequence Classification"
      ],
      "metadata": {
        "id": "CuG-4mETlXam"
      }
    },
    {
      "cell_type": "code",
      "source": [
        "# loading the pre-trained model\n",
        "torch.manual_seed(42)\n",
        "\n",
        "bert_model = DistilBertForSequenceClassification.from_pretrained(\"distilbert-base-uncased\", num_labels=2)"
      ],
      "metadata": {
        "id": "hqNvMBivlZtr",
        "outputId": "7ff88f64-bfc2-452b-c767-6389dadc9eb5",
        "colab": {
          "base_uri": "https://localhost:8080/"
        }
      },
      "execution_count": 30,
      "outputs": [
        {
          "output_type": "stream",
          "name": "stderr",
          "text": [
            "Some weights of DistilBertForSequenceClassification were not initialized from the model checkpoint at distilbert-base-uncased and are newly initialized: ['classifier.bias', 'pre_classifier.weight', 'pre_classifier.bias', 'classifier.weight']\n",
            "You should probably TRAIN this model on a down-stream task to be able to use it for predictions and inference.\n"
          ]
        }
      ]
    },
    {
      "cell_type": "markdown",
      "source": [
        "`DistilBertForSequenceClassification` (or any other\n",
        "`ForSequenceClassification` model) can be used for regression too as long as you set `num_labels=1` as argument.\n",
        "\n",
        "The `ForSequenceClassification` models add a single linear layer (classifier) on top of the pooled output from the underlying base model to produce the logits output."
      ],
      "metadata": {
        "id": "ZSY-9mbEFCt3"
      }
    },
    {
      "cell_type": "code",
      "source": [
        "# let's load the pre-trained model with auto model\n",
        "bert_auto_model = AutoModelForSequenceClassification.from_pretrained(\"distilbert-base-uncased\", num_labels=2)"
      ],
      "metadata": {
        "colab": {
          "base_uri": "https://localhost:8080/"
        },
        "id": "c0eeepwOltO4",
        "outputId": "d9362547-3aa3-4582-8eb0-685fe6875a53"
      },
      "execution_count": 31,
      "outputs": [
        {
          "output_type": "stream",
          "name": "stderr",
          "text": [
            "Some weights of DistilBertForSequenceClassification were not initialized from the model checkpoint at distilbert-base-uncased and are newly initialized: ['classifier.bias', 'pre_classifier.weight', 'pre_classifier.bias', 'classifier.weight']\n",
            "You should probably TRAIN this model on a down-stream task to be able to use it for predictions and inference.\n"
          ]
        }
      ]
    },
    {
      "cell_type": "code",
      "source": [
        "print(bert_auto_model.__class__)"
      ],
      "metadata": {
        "colab": {
          "base_uri": "https://localhost:8080/"
        },
        "id": "edPRSZWGGOSg",
        "outputId": "b7f0b98e-93b1-4eef-9420-671b90e2e650"
      },
      "execution_count": 32,
      "outputs": [
        {
          "output_type": "stream",
          "name": "stdout",
          "text": [
            "<class 'transformers.models.distilbert.modeling_distilbert.DistilBertForSequenceClassification'>\n"
          ]
        }
      ]
    },
    {
      "cell_type": "markdown",
      "source": [
        "##Tokenized Dataset"
      ],
      "metadata": {
        "id": "7hq9xgRMF0kz"
      }
    },
    {
      "cell_type": "code",
      "source": [
        "# Let’s create our first real BERT tokenizer\n",
        "auto_tokenizer = BertTokenizer.from_pretrained(\"distilbert-base-uncased\")"
      ],
      "metadata": {
        "id": "o8LUn6F-lzaZ",
        "outputId": "c0ad041e-6439-4e5c-ea38-25210da7be1c",
        "colab": {
          "base_uri": "https://localhost:8080/"
        }
      },
      "execution_count": 33,
      "outputs": [
        {
          "output_type": "stream",
          "name": "stderr",
          "text": [
            "The tokenizer class you load from this checkpoint is not the same type as the class this function is called from. It may result in unexpected tokenization. \n",
            "The tokenizer class you load from this checkpoint is 'DistilBertTokenizer'. \n",
            "The class this function is called from is 'BertTokenizer'.\n"
          ]
        }
      ]
    },
    {
      "cell_type": "code",
      "source": [
        "def tokenize(row):\n",
        "  return auto_tokenizer(\n",
        "      row[\"sentence\"],\n",
        "      truncation=True,\n",
        "      padding=\"max_length\",\n",
        "      max_length=30\n",
        "  )"
      ],
      "metadata": {
        "id": "_99gvSe5mmK3"
      },
      "execution_count": 34,
      "outputs": []
    },
    {
      "cell_type": "code",
      "source": [
        "tokenized_train_dataset = train_dataset.map(tokenize, batched=True)\n",
        "tokenized_test_dataset = test_dataset.map(tokenize, batched=True)"
      ],
      "metadata": {
        "id": "XVgz800LnsPw"
      },
      "execution_count": null,
      "outputs": []
    },
    {
      "cell_type": "code",
      "source": [
        "print(tokenized_train_dataset[0])"
      ],
      "metadata": {
        "id": "xptCcTa76xdL",
        "outputId": "02819a74-dcda-4ed1-9b65-4f2058cdb97b",
        "colab": {
          "base_uri": "https://localhost:8080/"
        }
      },
      "execution_count": 36,
      "outputs": [
        {
          "output_type": "stream",
          "name": "stdout",
          "text": [
            "{'sentence': 'And at last they looked at Dorothy again.', 'source': 'wizoz10-1740.txt', 'label': 0, 'input_ids': [101, 1998, 2012, 2197, 2027, 2246, 2012, 9984, 2153, 1012, 102, 0, 0, 0, 0, 0, 0, 0, 0, 0, 0, 0, 0, 0, 0, 0, 0, 0, 0, 0], 'token_type_ids': [0, 0, 0, 0, 0, 0, 0, 0, 0, 0, 0, 0, 0, 0, 0, 0, 0, 0, 0, 0, 0, 0, 0, 0, 0, 0, 0, 0, 0, 0], 'attention_mask': [1, 1, 1, 1, 1, 1, 1, 1, 1, 1, 1, 0, 0, 0, 0, 0, 0, 0, 0, 0, 0, 0, 0, 0, 0, 0, 0, 0, 0, 0]}\n"
          ]
        }
      ]
    },
    {
      "cell_type": "code",
      "source": [
        "# But we don’t need all these columns for training; we need only the first three.\n",
        "tokenized_train_dataset.set_format(\n",
        "    type=\"torch\",\n",
        "    columns=[\"input_ids\", \"attention_mask\", \"label\"]\n",
        ")\n",
        "\n",
        "tokenized_test_dataset.set_format(\n",
        "    type=\"torch\",\n",
        "    columns=[\"input_ids\", \"attention_mask\", \"label\"]\n",
        ")"
      ],
      "metadata": {
        "id": "JUYe9pn5-P3f"
      },
      "execution_count": 37,
      "outputs": []
    },
    {
      "cell_type": "code",
      "source": [
        "tokenized_train_dataset[0]"
      ],
      "metadata": {
        "id": "HfQCHUgd-tUL",
        "outputId": "e408148c-bf3c-4ccf-877d-c7090951f96f",
        "colab": {
          "base_uri": "https://localhost:8080/"
        }
      },
      "execution_count": 38,
      "outputs": [
        {
          "output_type": "execute_result",
          "data": {
            "text/plain": [
              "{'label': tensor(0),\n",
              " 'input_ids': tensor([ 101, 1998, 2012, 2197, 2027, 2246, 2012, 9984, 2153, 1012,  102,    0,\n",
              "            0,    0,    0,    0,    0,    0,    0,    0,    0,    0,    0,    0,\n",
              "            0,    0,    0,    0,    0,    0]),\n",
              " 'attention_mask': tensor([1, 1, 1, 1, 1, 1, 1, 1, 1, 1, 1, 0, 0, 0, 0, 0, 0, 0, 0, 0, 0, 0, 0, 0,\n",
              "         0, 0, 0, 0, 0, 0])}"
            ]
          },
          "metadata": {},
          "execution_count": 38
        }
      ]
    },
    {
      "cell_type": "markdown",
      "source": [
        "##Trainer"
      ],
      "metadata": {
        "id": "8l15Yf4Hoiie"
      }
    },
    {
      "cell_type": "code",
      "source": [
        "# let’s train model with trainer\n",
        "trainer = Trainer(\n",
        "    model=bert_auto_model,\n",
        "    train_dataset=tokenized_train_dataset)"
      ],
      "metadata": {
        "id": "YBDpPfaCoI0K"
      },
      "execution_count": null,
      "outputs": []
    },
    {
      "cell_type": "code",
      "source": [
        "# let's see default trainer arguments\n",
        "trainer.args"
      ],
      "metadata": {
        "id": "RztFaobuMYan",
        "outputId": "04f6bf65-567a-4dd6-f27d-3bf7bdafeea9",
        "colab": {
          "base_uri": "https://localhost:8080/"
        }
      },
      "execution_count": 40,
      "outputs": [
        {
          "output_type": "execute_result",
          "data": {
            "text/plain": [
              "TrainingArguments(\n",
              "_n_gpu=0,\n",
              "adafactor=False,\n",
              "adam_beta1=0.9,\n",
              "adam_beta2=0.999,\n",
              "adam_epsilon=1e-08,\n",
              "auto_find_batch_size=False,\n",
              "bf16=False,\n",
              "bf16_full_eval=False,\n",
              "data_seed=None,\n",
              "dataloader_drop_last=False,\n",
              "dataloader_num_workers=0,\n",
              "dataloader_pin_memory=True,\n",
              "ddp_backend=None,\n",
              "ddp_broadcast_buffers=None,\n",
              "ddp_bucket_cap_mb=None,\n",
              "ddp_find_unused_parameters=None,\n",
              "ddp_timeout=1800,\n",
              "debug=[],\n",
              "deepspeed=None,\n",
              "disable_tqdm=False,\n",
              "dispatch_batches=None,\n",
              "do_eval=False,\n",
              "do_predict=False,\n",
              "do_train=False,\n",
              "eval_accumulation_steps=None,\n",
              "eval_delay=0,\n",
              "eval_steps=None,\n",
              "evaluation_strategy=no,\n",
              "fp16=False,\n",
              "fp16_backend=auto,\n",
              "fp16_full_eval=False,\n",
              "fp16_opt_level=O1,\n",
              "fsdp=[],\n",
              "fsdp_config={'min_num_params': 0, 'xla': False, 'xla_fsdp_grad_ckpt': False},\n",
              "fsdp_min_num_params=0,\n",
              "fsdp_transformer_layer_cls_to_wrap=None,\n",
              "full_determinism=False,\n",
              "gradient_accumulation_steps=1,\n",
              "gradient_checkpointing=False,\n",
              "gradient_checkpointing_kwargs=None,\n",
              "greater_is_better=None,\n",
              "group_by_length=False,\n",
              "half_precision_backend=auto,\n",
              "hub_always_push=False,\n",
              "hub_model_id=None,\n",
              "hub_private_repo=False,\n",
              "hub_strategy=every_save,\n",
              "hub_token=<HUB_TOKEN>,\n",
              "ignore_data_skip=False,\n",
              "include_inputs_for_metrics=False,\n",
              "include_tokens_per_second=False,\n",
              "jit_mode_eval=False,\n",
              "label_names=None,\n",
              "label_smoothing_factor=0.0,\n",
              "learning_rate=5e-05,\n",
              "length_column_name=length,\n",
              "load_best_model_at_end=False,\n",
              "local_rank=0,\n",
              "log_level=passive,\n",
              "log_level_replica=warning,\n",
              "log_on_each_node=True,\n",
              "logging_dir=tmp_trainer/runs/Dec29_06-09-36_6efe070600cd,\n",
              "logging_first_step=False,\n",
              "logging_nan_inf_filter=True,\n",
              "logging_steps=500,\n",
              "logging_strategy=steps,\n",
              "lr_scheduler_type=linear,\n",
              "max_grad_norm=1.0,\n",
              "max_steps=-1,\n",
              "metric_for_best_model=None,\n",
              "mp_parameters=,\n",
              "neftune_noise_alpha=None,\n",
              "no_cuda=False,\n",
              "num_train_epochs=3.0,\n",
              "optim=adamw_torch,\n",
              "optim_args=None,\n",
              "output_dir=tmp_trainer,\n",
              "overwrite_output_dir=False,\n",
              "past_index=-1,\n",
              "per_device_eval_batch_size=8,\n",
              "per_device_train_batch_size=8,\n",
              "prediction_loss_only=False,\n",
              "push_to_hub=False,\n",
              "push_to_hub_model_id=None,\n",
              "push_to_hub_organization=None,\n",
              "push_to_hub_token=<PUSH_TO_HUB_TOKEN>,\n",
              "ray_scope=last,\n",
              "remove_unused_columns=True,\n",
              "report_to=['tensorboard'],\n",
              "resume_from_checkpoint=None,\n",
              "run_name=tmp_trainer,\n",
              "save_on_each_node=False,\n",
              "save_safetensors=True,\n",
              "save_steps=500,\n",
              "save_strategy=steps,\n",
              "save_total_limit=None,\n",
              "seed=42,\n",
              "skip_memory_metrics=True,\n",
              "split_batches=False,\n",
              "tf32=None,\n",
              "torch_compile=False,\n",
              "torch_compile_backend=None,\n",
              "torch_compile_mode=None,\n",
              "torchdynamo=None,\n",
              "tpu_metrics_debug=False,\n",
              "tpu_num_cores=None,\n",
              "use_cpu=False,\n",
              "use_ipex=False,\n",
              "use_legacy_prediction_loop=False,\n",
              "use_mps_device=False,\n",
              "warmup_ratio=0.0,\n",
              "warmup_steps=0,\n",
              "weight_decay=0.0,\n",
              ")"
            ]
          },
          "metadata": {},
          "execution_count": 40
        }
      ]
    },
    {
      "cell_type": "code",
      "source": [
        "# let's override the default trainer arguments\n",
        "training_args = TrainingArguments(\n",
        "    output_dir=\"output\",\n",
        "    num_train_epochs=1,\n",
        "    per_device_train_batch_size=1,\n",
        "    per_device_eval_batch_size=8,  # means mini-batch has size eight\n",
        "    evaluation_strategy=\"steps\",\n",
        "    eval_steps=300,\n",
        "    logging_steps=300,\n",
        "    gradient_accumulation_steps=8\n",
        ")"
      ],
      "metadata": {
        "id": "aMZ7DOdFqNDm"
      },
      "execution_count": 41,
      "outputs": []
    },
    {
      "cell_type": "code",
      "source": [
        "# let's define a function that computes the desired metrics, and returns a dictionary\n",
        "def compute_metrics(eval_pred):\n",
        "  predictions = eval_pred.predictions\n",
        "  labels = eval_pred.label_ids\n",
        "  predictions = np.argmax(predictions, axis=1)\n",
        "  return {\"accuracy\": (predictions==labels).mean()}"
      ],
      "metadata": {
        "id": "5u7QgXWuryTM"
      },
      "execution_count": 42,
      "outputs": []
    },
    {
      "cell_type": "code",
      "source": [
        "# let’s redefine the trainer\n",
        "trainer = Trainer(\n",
        "    model=bert_auto_model,\n",
        "    args=training_args,\n",
        "    train_dataset=tokenized_train_dataset,\n",
        "    eval_dataset=tokenized_test_dataset,\n",
        "    compute_metrics=compute_metrics)"
      ],
      "metadata": {
        "id": "e1o6j9bGsLAo"
      },
      "execution_count": 43,
      "outputs": []
    },
    {
      "cell_type": "code",
      "source": [
        "# There we go—we’re 100% ready to call the glorious train() method\n",
        "trainer.train()"
      ],
      "metadata": {
        "id": "ECOS5HPZsFai",
        "outputId": "368e28dc-5a51-43fc-a79e-9560f9d22bd0",
        "colab": {
          "base_uri": "https://localhost:8080/",
          "height": 158
        }
      },
      "execution_count": 44,
      "outputs": [
        {
          "output_type": "display_data",
          "data": {
            "text/plain": [
              "<IPython.core.display.HTML object>"
            ],
            "text/html": [
              "\n",
              "    <div>\n",
              "      \n",
              "      <progress value='385' max='385' style='width:300px; height:20px; vertical-align: middle;'></progress>\n",
              "      [385/385 14:34, Epoch 0/1]\n",
              "    </div>\n",
              "    <table border=\"1\" class=\"dataframe\">\n",
              "  <thead>\n",
              " <tr style=\"text-align: left;\">\n",
              "      <th>Step</th>\n",
              "      <th>Training Loss</th>\n",
              "      <th>Validation Loss</th>\n",
              "      <th>Accuracy</th>\n",
              "    </tr>\n",
              "  </thead>\n",
              "  <tbody>\n",
              "    <tr>\n",
              "      <td>300</td>\n",
              "      <td>0.190500</td>\n",
              "      <td>0.088666</td>\n",
              "      <td>0.979248</td>\n",
              "    </tr>\n",
              "  </tbody>\n",
              "</table><p>"
            ]
          },
          "metadata": {}
        },
        {
          "output_type": "execute_result",
          "data": {
            "text/plain": [
              "TrainOutput(global_step=385, training_loss=0.16716872747842368, metrics={'train_runtime': 879.3776, 'train_samples_per_second': 3.504, 'train_steps_per_second': 0.438, 'total_flos': 23906225851200.0, 'train_loss': 0.16716872747842368, 'epoch': 1.0})"
            ]
          },
          "metadata": {},
          "execution_count": 44
        }
      ]
    },
    {
      "cell_type": "code",
      "source": [
        "# let's check the final validation\n",
        "trainer.evaluate()"
      ],
      "metadata": {
        "id": "fsxza4UGsiVW",
        "outputId": "22a738e0-33e4-46d2-825f-a353f5d7aaff",
        "colab": {
          "base_uri": "https://localhost:8080/",
          "height": 141
        }
      },
      "execution_count": 45,
      "outputs": [
        {
          "output_type": "display_data",
          "data": {
            "text/plain": [
              "<IPython.core.display.HTML object>"
            ],
            "text/html": [
              "\n",
              "    <div>\n",
              "      \n",
              "      <progress value='97' max='97' style='width:300px; height:20px; vertical-align: middle;'></progress>\n",
              "      [97/97 00:25]\n",
              "    </div>\n",
              "    "
            ]
          },
          "metadata": {}
        },
        {
          "output_type": "execute_result",
          "data": {
            "text/plain": [
              "{'eval_loss': 0.09895077347755432,\n",
              " 'eval_accuracy': 0.9792477302204928,\n",
              " 'eval_runtime': 25.6585,\n",
              " 'eval_samples_per_second': 30.048,\n",
              " 'eval_steps_per_second': 3.78,\n",
              " 'epoch': 1.0}"
            ]
          },
          "metadata": {},
          "execution_count": 45
        }
      ]
    },
    {
      "cell_type": "code",
      "source": [
        "# let's save it to disk\n",
        "trainer.save_model(\"bert_alice_vs_wizard\")\n",
        "\n",
        "os.listdir(\"bert_alice_vs_wizard\")"
      ],
      "metadata": {
        "id": "cyDqpT08s-xT",
        "outputId": "ca9bcddb-299b-448f-fbd0-3c6528184118",
        "colab": {
          "base_uri": "https://localhost:8080/"
        }
      },
      "execution_count": 46,
      "outputs": [
        {
          "output_type": "execute_result",
          "data": {
            "text/plain": [
              "['training_args.bin', 'model.safetensors', 'config.json']"
            ]
          },
          "metadata": {},
          "execution_count": 46
        }
      ]
    },
    {
      "cell_type": "code",
      "source": [
        "# Later on, we can easily load the trained model\n",
        "loaded_model = (AutoModelForSequenceClassification.from_pretrained(\"bert_alice_vs_wizard\"))\n",
        "\n",
        "loaded_model.device"
      ],
      "metadata": {
        "id": "YDKRI3rItVV0",
        "outputId": "454443e3-79d2-4e42-d264-7289246a580d",
        "colab": {
          "base_uri": "https://localhost:8080/"
        }
      },
      "execution_count": 47,
      "outputs": [
        {
          "output_type": "execute_result",
          "data": {
            "text/plain": [
              "device(type='cpu')"
            ]
          },
          "metadata": {},
          "execution_count": 47
        }
      ]
    },
    {
      "cell_type": "markdown",
      "source": [
        "The model is loaded to the CPU by default, but we can send it to a different device."
      ],
      "metadata": {
        "id": "tNFmEyKSuyMv"
      }
    },
    {
      "cell_type": "code",
      "source": [
        "loaded_model.to(device)\n",
        "loaded_model.device"
      ],
      "metadata": {
        "id": "kPMRLrXtukSU",
        "outputId": "adcb697d-3e4a-4e4c-f660-81fd9b7705d6",
        "colab": {
          "base_uri": "https://localhost:8080/"
        }
      },
      "execution_count": 49,
      "outputs": [
        {
          "output_type": "execute_result",
          "data": {
            "text/plain": [
              "device(type='cpu')"
            ]
          },
          "metadata": {},
          "execution_count": 49
        }
      ]
    },
    {
      "cell_type": "markdown",
      "source": [
        "##Predictions"
      ],
      "metadata": {
        "id": "qb9ReuZAvSh0"
      }
    }
  ]
}