{
  "nbformat": 4,
  "nbformat_minor": 0,
  "metadata": {
    "colab": {
      "provenance": [],
      "toc_visible": true,
      "authorship_tag": "ABX9TyNK3iBgxjQ5WKZ8RlIuhyQD",
      "include_colab_link": true
    },
    "kernelspec": {
      "name": "python3",
      "display_name": "Python 3"
    },
    "language_info": {
      "name": "python"
    }
  },
  "cells": [
    {
      "cell_type": "markdown",
      "metadata": {
        "id": "view-in-github",
        "colab_type": "text"
      },
      "source": [
        "<a href=\"https://colab.research.google.com/github/rahiakela/deep-learning-research-and-practice/blob/main/deep-learning-with-pytorch-step-by-step/Part-III-NLP/11_fine_tuning_gpt.ipynb\" target=\"_parent\"><img src=\"https://colab.research.google.com/assets/colab-badge.svg\" alt=\"Open In Colab\"/></a>"
      ]
    },
    {
      "cell_type": "markdown",
      "source": [
        "##Fine-Tuning GPT-2"
      ],
      "metadata": {
        "id": "I_fJ4_FUlY0a"
      }
    },
    {
      "cell_type": "markdown",
      "source": [
        "Predicting the next element in a sequence is exactly what a Transformer decoder\n",
        "does, so it should be no surprise that GPT-2 is actually a Transformer decoder.\n",
        "\n",
        "\n",
        "\n",
        "We’ll start our NLP journey by following the steps of Alice and Dorothy, from\n",
        "[Alice’s Adventures in Wonderland](https://ota.bodleian.ox.ac.uk/repository/xmlui/handle/20.500.12024/1476) by Lewis Carroll and [The Wonderful Wizard of Oz](https://ota.bodleian.ox.ac.uk/repository/xmlui/handle/20.500.12024/1740) by L. Frank Baum.\n",
        "\n",
        "![](https://github.com/rahiakela/deep-learning-research-and-practice/blob/main/deep-learning-with-pytorch-step-by-step/Part-III-NLP/images/alice_dorothy.png?raw=1)\n",
        "\n",
        "*Left: \"Alice and the Baby Pig\" illustration by John Tenniel's, from \"Alice's Adventure's in Wonderland\" (1865).*\n",
        "\n",
        "*Right: \"Dorothy meets the Cowardly Lion\" illustration by W.W. Denslow, from \"The Wonderful Wizard of Oz\" (1900)*\n"
      ],
      "metadata": {
        "id": "6S3AN5ZklZkV"
      }
    },
    {
      "cell_type": "markdown",
      "source": [
        "##Setup"
      ],
      "metadata": {
        "id": "y_fsZxO6mSi9"
      }
    },
    {
      "cell_type": "code",
      "source": [
        "try:\n",
        "    import google.colab\n",
        "    import requests\n",
        "    url = 'https://raw.githubusercontent.com/dvgodoy/PyTorchStepByStep/master/config.py'\n",
        "    r = requests.get(url, allow_redirects=True)\n",
        "    open('config.py', 'wb').write(r.content)\n",
        "except ModuleNotFoundError:\n",
        "    pass\n",
        "\n",
        "from config import *\n",
        "config_chapter11()\n",
        "# This is needed to render the plots in this chapter\n",
        "from plots.chapter11 import *"
      ],
      "metadata": {
        "id": "4KaJRDNLmTq_",
        "outputId": "84efbc0f-91e6-413e-f2a7-3654694af21a",
        "colab": {
          "base_uri": "https://localhost:8080/"
        }
      },
      "execution_count": 1,
      "outputs": [
        {
          "output_type": "stream",
          "name": "stdout",
          "text": [
            "Downloading files from GitHub repo to Colab...\n",
            "Finished!\n"
          ]
        }
      ]
    },
    {
      "cell_type": "code",
      "source": [
        "%%capture\n",
        "\n",
        "!pip install accelerate -U\n",
        "!pip install datasets\n",
        "!pip -q install spacy\n",
        "!python -m spacy download en_core_web_sm"
      ],
      "metadata": {
        "id": "eotRrneKk78G"
      },
      "execution_count": 3,
      "outputs": []
    },
    {
      "cell_type": "code",
      "source": [
        "import os\n",
        "import json\n",
        "import errno\n",
        "import requests\n",
        "import numpy as np\n",
        "from copy import deepcopy\n",
        "from operator import itemgetter\n",
        "\n",
        "import torch\n",
        "import torch.optim as optim\n",
        "import torch.nn as nn\n",
        "import torch.nn.functional as F\n",
        "from torch.utils.data import DataLoader, TensorDataset, Dataset\n",
        "\n",
        "from data_generation.nlp import ALICE_URL, WIZARD_URL, download_text\n",
        "from stepbystep.v4 import StepByStep\n",
        "# These are the classes we built in Chapter 10\n",
        "from seq2seq import *\n",
        "\n",
        "import spacy\n",
        "import nltk\n",
        "from nltk.tokenize import sent_tokenize"
      ],
      "metadata": {
        "id": "i9pPl_87mbqd"
      },
      "execution_count": 4,
      "outputs": []
    },
    {
      "cell_type": "code",
      "source": [
        "from datasets import load_dataset, Split\n",
        "from transformers import (\n",
        "    DataCollatorForLanguageModeling,\n",
        "    BertModel, BertTokenizer, BertForSequenceClassification,\n",
        "    DistilBertModel, DistilBertTokenizer,\n",
        "    DistilBertForSequenceClassification,\n",
        "    AutoModelForSequenceClassification,\n",
        "    AutoModel, AutoTokenizer, AutoModelForCausalLM,\n",
        "    Trainer, TrainingArguments, pipeline, TextClassificationPipeline\n",
        ")\n",
        "from transformers.pipelines import SUPPORTED_TASKS"
      ],
      "metadata": {
        "id": "w1HKtpREXdlF"
      },
      "execution_count": 5,
      "outputs": []
    },
    {
      "cell_type": "code",
      "source": [
        "device = 'cuda' if torch.cuda.is_available() else 'cpu'"
      ],
      "metadata": {
        "id": "AIwXdiEhTmok"
      },
      "execution_count": 6,
      "outputs": []
    },
    {
      "cell_type": "code",
      "source": [
        "nltk.download('punkt')"
      ],
      "metadata": {
        "id": "beHZ9NYf-DNZ",
        "outputId": "1032b0c9-26dc-44b4-a521-fb54c0e8a9d5",
        "colab": {
          "base_uri": "https://localhost:8080/"
        }
      },
      "execution_count": 7,
      "outputs": [
        {
          "output_type": "stream",
          "name": "stderr",
          "text": [
            "[nltk_data] Downloading package punkt to /root/nltk_data...\n",
            "[nltk_data]   Unzipping tokenizers/punkt.zip.\n"
          ]
        },
        {
          "output_type": "execute_result",
          "data": {
            "text/plain": [
              "True"
            ]
          },
          "metadata": {},
          "execution_count": 7
        }
      ]
    },
    {
      "cell_type": "markdown",
      "source": [
        "##Downloading Books"
      ],
      "metadata": {
        "id": "VGxz6kEmX3ke"
      }
    },
    {
      "cell_type": "code",
      "source": [
        "!rm -rf data"
      ],
      "metadata": {
        "id": "4hr1Jm9kK9DO"
      },
      "execution_count": null,
      "outputs": []
    },
    {
      "cell_type": "code",
      "source": [
        "# let's download data\n",
        "HOME_DIR = \"data\"\n",
        "download_text(ALICE_URL, HOME_DIR)\n",
        "download_text(WIZARD_URL, HOME_DIR)"
      ],
      "metadata": {
        "id": "eTXbiieBX4Sz"
      },
      "execution_count": null,
      "outputs": []
    },
    {
      "cell_type": "code",
      "source": [
        "# let's see the downloaded data\n",
        "#!cat data/alice28-1476.txt"
      ],
      "metadata": {
        "id": "45chINE_YYtz"
      },
      "execution_count": null,
      "outputs": []
    },
    {
      "cell_type": "code",
      "source": [
        "#!cat data/wizoz10-1740.txt"
      ],
      "metadata": {
        "id": "uM-tdJNRZcnt"
      },
      "execution_count": null,
      "outputs": []
    },
    {
      "cell_type": "markdown",
      "source": [
        "We need to remove these additions to the original texts:"
      ],
      "metadata": {
        "id": "msne6vRcZ14Y"
      }
    },
    {
      "cell_type": "code",
      "source": [
        "alice_file = os.path.join(HOME_DIR, \"alice28-1476.txt\")\n",
        "with open(alice_file, \"r\") as f:\n",
        "  # The actual texts of the books are contained between lines 105 and 3703\n",
        "  alice_text = \"\".join(f.readlines()[104:3704])\n",
        "\n",
        "wizard_file = os.path.join(HOME_DIR, \"wizoz10-1740.txt\")\n",
        "with open(wizard_file, \"r\") as f:\n",
        "  # The actual texts of the books are contained between lines 309 and 5099\n",
        "  wizard_text = \"\".join(f.readlines()[310:5100])"
      ],
      "metadata": {
        "id": "8z29BFQwZx4U"
      },
      "execution_count": null,
      "outputs": []
    },
    {
      "cell_type": "code",
      "source": [
        "print(alice_text[:500])\n",
        "print(\"\\n\", \"#\"*70, \"\\n\")\n",
        "print(wizard_text[:500])"
      ],
      "metadata": {
        "colab": {
          "base_uri": "https://localhost:8080/"
        },
        "id": "tNZmtkHNahrp",
        "outputId": "0e31c65f-0644-47f2-8906-3c2d5bc90620"
      },
      "execution_count": null,
      "outputs": [
        {
          "output_type": "stream",
          "name": "stdout",
          "text": [
            "                ALICE'S ADVENTURES IN WONDERLAND\n",
            "\n",
            "                          Lewis Carroll\n",
            "\n",
            "               THE MILLENNIUM FULCRUM EDITION 2.8\n",
            "\n",
            "\n",
            "\n",
            "\n",
            "                            CHAPTER I\n",
            "\n",
            "                      Down the Rabbit-Hole\n",
            "\n",
            "\n",
            "  Alice was beginning to get very tired of sitting by her sister\n",
            "on the bank, and of having nothing to do:  once or twice she had\n",
            "peeped into the book her sister was reading, but it had no\n",
            "pictures or conversations in it, `and what is the use of a book,'\n",
            "thought Alice `w\n",
            "\n",
            " ###################################################################### \n",
            "\n",
            "                    THE WONDERFUL WIZARD OF OZ\n",
            "\n",
            "\n",
            "                          1.  The Cyclone\n",
            "\n",
            "\n",
            "    Dorothy lived in the midst of the great Kansas prairies, with\n",
            "Uncle Henry, who was a farmer, and Aunt Em, who was the farmer's\n",
            "wife.  Their house was small, for the lumber to build it had to be\n",
            "carried by wagon many miles.  There were four walls, a floor and a\n",
            "roof, which made one room; and this room contained a rusty looking\n",
            "cookstove, a cupboard for the dishes, a table, three or four\n",
            "chairs, and th\n"
          ]
        }
      ]
    },
    {
      "cell_type": "markdown",
      "source": [
        "We can partially automate the removal of the extra lines by setting the real start and end lines of each text in a configuration file."
      ],
      "metadata": {
        "id": "zS5E4dECbotZ"
      }
    },
    {
      "cell_type": "code",
      "source": [
        "text_cfg = \"\"\"fname,start,end\n",
        "alice28-1476.txt,104,3704\n",
        "wizoz10-1740.txt,310,5100\"\"\"\n",
        "bytes_written = open(os.path.join(HOME_DIR, 'lines.cfg'), 'w').write(text_cfg)"
      ],
      "metadata": {
        "id": "ayc3piYsbutL"
      },
      "execution_count": null,
      "outputs": []
    },
    {
      "cell_type": "markdown",
      "source": [
        "##Sentence Tokenization"
      ],
      "metadata": {
        "id": "Bk4m73rMb0gi"
      }
    },
    {
      "cell_type": "markdown",
      "source": [
        "A token is a piece of a text, and to tokenize a text means to split\n",
        "it into pieces; that is, into a list of tokens.\n",
        "\n",
        "The most common kind of piece is a word.\n",
        "\n",
        "So, tokenizing a text usually means to\n",
        "split it into words using the white space as a separator."
      ],
      "metadata": {
        "id": "6w5mJGOFb1Ua"
      }
    },
    {
      "cell_type": "code",
      "source": [
        "sentence = \"I'm following the white rabbit\"\n",
        "tokens = sentence.split(\" \")\n",
        "tokens"
      ],
      "metadata": {
        "id": "oFsqtdFkenM-",
        "outputId": "4d401b12-e547-40cf-d504-487d931d5ad6",
        "colab": {
          "base_uri": "https://localhost:8080/"
        }
      },
      "execution_count": null,
      "outputs": [
        {
          "output_type": "execute_result",
          "data": {
            "text/plain": [
              "[\"I'm\", 'following', 'the', 'white', 'rabbit']"
            ]
          },
          "metadata": {},
          "execution_count": 14
        }
      ]
    },
    {
      "cell_type": "markdown",
      "source": [
        "Let's do sentence tokenization, which means to split a text into its sentences."
      ],
      "metadata": {
        "id": "3WGtMb-Qg2Lt"
      }
    },
    {
      "cell_type": "code",
      "source": [
        "corpus_alice = sent_tokenize(alice_text)\n",
        "corpus_wizard = sent_tokenize(wizard_text)\n",
        "\n",
        "len(corpus_alice), (len(corpus_wizard))"
      ],
      "metadata": {
        "colab": {
          "base_uri": "https://localhost:8080/"
        },
        "id": "cg1Kg0Ung7aq",
        "outputId": "456a8232-0921-41f3-ecfb-eb970441d400"
      },
      "execution_count": null,
      "outputs": [
        {
          "output_type": "execute_result",
          "data": {
            "text/plain": [
              "(1612, 2240)"
            ]
          },
          "metadata": {},
          "execution_count": 15
        }
      ]
    },
    {
      "cell_type": "markdown",
      "source": [
        "Let’s check one sentence from the first corpus of text."
      ],
      "metadata": {
        "id": "1qSQVckXh3aX"
      }
    },
    {
      "cell_type": "code",
      "source": [
        "corpus_alice[2]"
      ],
      "metadata": {
        "id": "mWQQFsanh4GS",
        "outputId": "e1135737-35d8-4fa3-ec3a-4060dbe7b71a",
        "colab": {
          "base_uri": "https://localhost:8080/",
          "height": 52
        }
      },
      "execution_count": null,
      "outputs": [
        {
          "output_type": "execute_result",
          "data": {
            "text/plain": [
              "'There was nothing so VERY remarkable in that; nor did Alice\\nthink it so VERY much out of the way to hear the Rabbit say to\\nitself, `Oh dear!'"
            ],
            "application/vnd.google.colaboratory.intrinsic+json": {
              "type": "string"
            }
          },
          "metadata": {},
          "execution_count": 16
        }
      ]
    },
    {
      "cell_type": "markdown",
      "source": [
        "Let’s check one sentence from the second corpus of text."
      ],
      "metadata": {
        "id": "RIGvTC9-iFwp"
      }
    },
    {
      "cell_type": "code",
      "source": [
        "corpus_wizard[30]"
      ],
      "metadata": {
        "id": "ojBtgVa1iGSs",
        "outputId": "70b75079-352e-461f-e63b-cf215ec250f1",
        "colab": {
          "base_uri": "https://localhost:8080/",
          "height": 35
        }
      },
      "execution_count": null,
      "outputs": [
        {
          "output_type": "execute_result",
          "data": {
            "text/plain": [
              "'\"There\\'s a cyclone coming, Em,\" he called to his wife.'"
            ],
            "application/vnd.google.colaboratory.intrinsic+json": {
              "type": "string"
            }
          },
          "metadata": {},
          "execution_count": 17
        }
      ]
    },
    {
      "cell_type": "markdown",
      "source": [
        "Our dataset is going to be a collection of CSV files, one file for each book, with each\n",
        "CSV file containing one sentence per line.\n",
        "\n",
        "Therefore, we need to:\n",
        "\n",
        "* clean the line breaks to make sure each sentence is on one line only;\n",
        "* define an appropriate quote char to \"wrap\" the sentence such that the original commas and semicolons in the original text do not get misinterpreted as separation chars of the CSV file; and\n",
        "* add a second column to the CSV file to\n",
        "identify the original source of the sentence since we’ll be concatenating, and\n",
        "shuffling the sentences before training a model on our corpora.\n",
        "\n",
        "The sentence above should end up looking like this:\n",
        "```log\n",
        "\\\"There's a cyclone coming, Em,\" he called to his wife.\\,wizoz10-1740.txt\n",
        "```\n",
        "\n",
        "The function below does the grunt work of cleaning, splitting, and saving the\n",
        "sentences to a CSV file for us:"
      ],
      "metadata": {
        "id": "6_QMReIwkcaH"
      }
    },
    {
      "cell_type": "code",
      "source": [
        "def sentence_tokenize(source, quote_char=\"\\\\\", sep_char=\",\", include_header=True, include_source=True, extensions=(\"txt\"), **kwargs):\n",
        "  # If source is a folder, goes through all files inside it that match the desired extensions ('txt' by default)\n",
        "  if os.path.isdir(source):\n",
        "    filenames = [f for f in os.listdir(source) if os.path.isfile(os.path.join(source, f)) and os.path.splitext(f)[1][1:] in extensions]\n",
        "  elif isinstance(source, str):\n",
        "    filenames = [source]\n",
        "\n",
        "  # If there is a configuration file, builds a dictionary with the corresponding start and end lines of each text file\n",
        "  config_file = os.path.join(source, \"lines.cfg\")\n",
        "  config = {}\n",
        "  if os.path.exists(config_file):\n",
        "    with open(config_file, \"r\") as f:\n",
        "      rows = f.readlines()\n",
        "    for r in rows[1:]:\n",
        "      fname, start, end = r.strip().split(\",\")\n",
        "      config.update({fname: (int(start), int(end))})\n",
        "\n",
        "  new_fnames = []\n",
        "  # For each file of text\n",
        "  for fname in filenames:\n",
        "    # If there's a start and end line for that file, use it\n",
        "    try:\n",
        "        start, end = config[fname]\n",
        "    except KeyError:\n",
        "        start = None\n",
        "        end = None\n",
        "\n",
        "    # Opens the file, slices the configures lines (if any)\n",
        "    # cleans line breaks and uses the sentence tokenizer\n",
        "    with open(os.path.join(source, fname), 'r') as f:\n",
        "        contents = (''.join(f.readlines()[slice(start, end, None)]).replace('\\n', ' ').replace('\\r', ''))\n",
        "    corpus = sent_tokenize(contents, **kwargs)\n",
        "\n",
        "    # Builds a CSV file containing tokenized sentences\n",
        "    base = os.path.splitext(fname)[0]\n",
        "    new_fname = f'{base}.sent.csv'\n",
        "    new_fname = os.path.join(source, new_fname)\n",
        "    with open(new_fname, 'w') as f:\n",
        "        # Header of the file\n",
        "        if include_header:\n",
        "            if include_source:\n",
        "                f.write('sentence,source\\n')\n",
        "            else:\n",
        "                f.write('sentence\\n')\n",
        "        # Writes one line for each sentence\n",
        "        for sentence in corpus:\n",
        "            if include_source:\n",
        "                f.write(f'{quote_char}{sentence}{quote_char}{sep_char}{fname}\\n')\n",
        "            else:\n",
        "                f.write(f'{quote_char}{sentence}{quote_char}\\n')\n",
        "    new_fnames.append(new_fname)\n",
        "\n",
        "  # Returns list of the newly generated CSV files\n",
        "  return sorted(new_fnames)"
      ],
      "metadata": {
        "id": "2BxVWK0Rk21Y"
      },
      "execution_count": null,
      "outputs": []
    },
    {
      "cell_type": "code",
      "source": [
        "new_fnames = sentence_tokenize(HOME_DIR)\n",
        "new_fnames"
      ],
      "metadata": {
        "id": "95M-z4GlFTgy",
        "outputId": "fb32c22b-7ec1-4da2-ec0e-94c1157f792f",
        "colab": {
          "base_uri": "https://localhost:8080/"
        }
      },
      "execution_count": null,
      "outputs": [
        {
          "output_type": "execute_result",
          "data": {
            "text/plain": [
              "['data/alice28-1476.sent.csv', 'data/wizoz10-1740.sent.csv']"
            ]
          },
          "metadata": {},
          "execution_count": 19
        }
      ]
    },
    {
      "cell_type": "markdown",
      "source": [
        "##Spacy sentence tokenization"
      ],
      "metadata": {
        "id": "CAFblQB6MEge"
      }
    },
    {
      "cell_type": "code",
      "source": [
        "nlp = spacy.blank(\"en\")\n",
        "nlp.add_pipe(\"sentencizer\")\n",
        "\n",
        "sentences = []\n",
        "for doc in nlp.pipe(corpus_alice):\n",
        "  sentences.extend(sent.text for sent in doc.sents)\n",
        "\n",
        "len(sentences), sentences[2]"
      ],
      "metadata": {
        "id": "cUlNTST_SUmH",
        "outputId": "851efe8f-b357-47c0-985a-7cd1348813f3",
        "colab": {
          "base_uri": "https://localhost:8080/"
        }
      },
      "execution_count": null,
      "outputs": [
        {
          "output_type": "execute_result",
          "data": {
            "text/plain": [
              "(1615,\n",
              " 'There was nothing so VERY remarkable in that; nor did Alice\\nthink it so VERY much out of the way to hear the Rabbit say to\\nitself, `Oh dear!')"
            ]
          },
          "metadata": {},
          "execution_count": 20
        }
      ]
    },
    {
      "cell_type": "markdown",
      "source": [
        "##HuggingFace’s Dataset"
      ],
      "metadata": {
        "id": "gMQtKHL5VMvU"
      }
    },
    {
      "cell_type": "code",
      "source": [
        "# let's load from local files using HuggingFace\n",
        "dataset = load_dataset(path=\"csv\", data_files=new_fnames, quotechar=\"\\\\\", split=Split.TRAIN)"
      ],
      "metadata": {
        "id": "wDWkbp0-VNmV"
      },
      "execution_count": null,
      "outputs": []
    },
    {
      "cell_type": "code",
      "source": [
        "# let's see attributes, like features, num_columns, and shape\n",
        "dataset.features, dataset.num_columns, dataset.shape"
      ],
      "metadata": {
        "id": "cUGmh8d9upmR",
        "outputId": "288a32e9-681a-43f9-8de4-d1630fbe062b",
        "colab": {
          "base_uri": "https://localhost:8080/"
        }
      },
      "execution_count": null,
      "outputs": [
        {
          "output_type": "execute_result",
          "data": {
            "text/plain": [
              "({'sentence': Value(dtype='string', id=None),\n",
              "  'source': Value(dtype='string', id=None)},\n",
              " 2,\n",
              " (3852, 2))"
            ]
          },
          "metadata": {},
          "execution_count": 22
        }
      ]
    },
    {
      "cell_type": "code",
      "source": [
        "dataset[2]"
      ],
      "metadata": {
        "id": "qbcE5hb2u7Rp",
        "outputId": "b155bc9c-9e12-4159-c22b-07367ca20707",
        "colab": {
          "base_uri": "https://localhost:8080/"
        }
      },
      "execution_count": null,
      "outputs": [
        {
          "output_type": "execute_result",
          "data": {
            "text/plain": [
              "{'sentence': 'There was nothing so VERY remarkable in that; nor did Alice think it so VERY much out of the way to hear the Rabbit say to itself, `Oh dear!',\n",
              " 'source': 'alice28-1476.txt'}"
            ]
          },
          "metadata": {},
          "execution_count": 23
        }
      ]
    },
    {
      "cell_type": "code",
      "source": [
        "dataset[\"sentence\"][:3]"
      ],
      "metadata": {
        "id": "HwwhVPVhvL8-",
        "outputId": "b5bdf70d-0055-4c66-b842-53a8cf6fbe13",
        "colab": {
          "base_uri": "https://localhost:8080/"
        }
      },
      "execution_count": null,
      "outputs": [
        {
          "output_type": "execute_result",
          "data": {
            "text/plain": [
              "[\"                ALICE'S ADVENTURES IN WONDERLAND                            Lewis Carroll                 THE MILLENNIUM FULCRUM EDITION 2.8                                 CHAPTER I                        Down the Rabbit-Hole     Alice was beginning to get very tired of sitting by her sister on the bank, and of having nothing to do:  once or twice she had peeped into the book her sister was reading, but it had no pictures or conversations in it, `and what is the use of a book,' thought Alice `without pictures or conversation?'\",\n",
              " 'So she was considering in her own mind (as well as she could, for the hot day made her feel very sleepy and stupid), whether the pleasure of making a daisy-chain would be worth the trouble of getting up and picking the daisies, when suddenly a White Rabbit with pink eyes ran close by her.',\n",
              " 'There was nothing so VERY remarkable in that; nor did Alice think it so VERY much out of the way to hear the Rabbit say to itself, `Oh dear!']"
            ]
          },
          "metadata": {},
          "execution_count": 24
        }
      ]
    },
    {
      "cell_type": "code",
      "source": [
        "dataset[\"source\"][:3]"
      ],
      "metadata": {
        "id": "-jLahzGpvB4m",
        "outputId": "6e12df39-6068-4d41-b898-dea5b3d33759",
        "colab": {
          "base_uri": "https://localhost:8080/"
        }
      },
      "execution_count": null,
      "outputs": [
        {
          "output_type": "execute_result",
          "data": {
            "text/plain": [
              "['alice28-1476.txt', 'alice28-1476.txt', 'alice28-1476.txt']"
            ]
          },
          "metadata": {},
          "execution_count": 25
        }
      ]
    },
    {
      "cell_type": "code",
      "source": [
        "# check the unique sources\n",
        "dataset.unique(\"source\")"
      ],
      "metadata": {
        "id": "JtCGLGaVGxI1",
        "outputId": "6a4ff1da-f118-43f6-a846-3b29deccad3a",
        "colab": {
          "base_uri": "https://localhost:8080/"
        }
      },
      "execution_count": null,
      "outputs": [
        {
          "output_type": "execute_result",
          "data": {
            "text/plain": [
              "['alice28-1476.txt', 'wizoz10-1740.txt']"
            ]
          },
          "metadata": {},
          "execution_count": 26
        }
      ]
    },
    {
      "cell_type": "code",
      "source": [
        "# let's create new columns\n",
        "def is_alice_label(row):\n",
        "  is_alice = int(row[\"source\"] == \"alice28-1476.txt\")\n",
        "  return {\"label\": is_alice}"
      ],
      "metadata": {
        "id": "qqTGqoNzHBUL"
      },
      "execution_count": null,
      "outputs": []
    },
    {
      "cell_type": "code",
      "source": [
        "dataset = dataset.map(is_alice_label)"
      ],
      "metadata": {
        "id": "yO6tDsIrHUHZ"
      },
      "execution_count": null,
      "outputs": []
    },
    {
      "cell_type": "code",
      "source": [
        "dataset[2]"
      ],
      "metadata": {
        "id": "kW04h9hFHw8f",
        "outputId": "a8d169f8-1ce4-4577-8046-68c1cfc0171e",
        "colab": {
          "base_uri": "https://localhost:8080/"
        }
      },
      "execution_count": null,
      "outputs": [
        {
          "output_type": "execute_result",
          "data": {
            "text/plain": [
              "{'sentence': 'There was nothing so VERY remarkable in that; nor did Alice think it so VERY much out of the way to hear the Rabbit say to itself, `Oh dear!',\n",
              " 'source': 'alice28-1476.txt',\n",
              " 'label': 1}"
            ]
          },
          "metadata": {},
          "execution_count": 29
        }
      ]
    },
    {
      "cell_type": "code",
      "source": [
        "# Now, we can finally shuffle the dataset and split it into training and test sets\n",
        "shuffled_dataset = dataset.shuffle(seed=42)\n",
        "split_dataset = shuffled_dataset.train_test_split(test_size=0.2)\n",
        "split_dataset"
      ],
      "metadata": {
        "id": "kTby8KlRQtDQ",
        "outputId": "f88ea24b-d00e-4b66-dba0-550bc229b846",
        "colab": {
          "base_uri": "https://localhost:8080/"
        }
      },
      "execution_count": null,
      "outputs": [
        {
          "output_type": "execute_result",
          "data": {
            "text/plain": [
              "DatasetDict({\n",
              "    train: Dataset({\n",
              "        features: ['sentence', 'source', 'label'],\n",
              "        num_rows: 3081\n",
              "    })\n",
              "    test: Dataset({\n",
              "        features: ['sentence', 'source', 'label'],\n",
              "        num_rows: 771\n",
              "    })\n",
              "})"
            ]
          },
          "metadata": {},
          "execution_count": 30
        }
      ]
    },
    {
      "cell_type": "code",
      "source": [
        "train_dataset = split_dataset[\"train\"]\n",
        "test_dataset = split_dataset[\"test\"]"
      ],
      "metadata": {
        "id": "pNKEmyDIRD32"
      },
      "execution_count": null,
      "outputs": []
    },
    {
      "cell_type": "code",
      "source": [
        "train_dataset[0]"
      ],
      "metadata": {
        "id": "_fb8D7pYRQkW",
        "outputId": "9c6bb1ab-a0f7-4959-8a37-193c8ab98df6",
        "colab": {
          "base_uri": "https://localhost:8080/"
        }
      },
      "execution_count": null,
      "outputs": [
        {
          "output_type": "execute_result",
          "data": {
            "text/plain": [
              "{'sentence': 'They all sat down at once, in a large ring, with the Mouse in the middle.',\n",
              " 'source': 'alice28-1476.txt',\n",
              " 'label': 1}"
            ]
          },
          "metadata": {},
          "execution_count": 32
        }
      ]
    },
    {
      "cell_type": "markdown",
      "source": [
        "##Pipeline"
      ],
      "metadata": {
        "id": "CuG-4mETlXam"
      }
    },
    {
      "cell_type": "code",
      "source": [
        "# Let’s load the GPT-2-based text generation pipeline:\n",
        "text_generator = pipeline(\"text-generation\")"
      ],
      "metadata": {
        "id": "hqNvMBivlZtr"
      },
      "execution_count": null,
      "outputs": []
    },
    {
      "cell_type": "markdown",
      "source": [
        "Then, let’s use the first two paragraphs from Alice’s Adventures in Wonderland as\n",
        "our base text:"
      ],
      "metadata": {
        "id": "ZSY-9mbEFCt3"
      }
    },
    {
      "cell_type": "code",
      "source": [
        "base_text = \"\"\"\n",
        "Alice was beginning to get very tired of sitting by her sister on\n",
        "the bank, and of having nothing to do: once or twice she had peeped\n",
        "into the book her sister was reading, but it had no pictures or\n",
        "conversations in it, `and what is the use of a book,'thought Alice\n",
        "`without pictures or conversation?' So she was considering in her\n",
        "own mind (as well as she could, for the hot day made her feel very\n",
        "sleepy and stupid), whether the pleasure of making a daisy-chain\n",
        "would be worth the trouble of getting up and picking the daisies,\n",
        "when suddenly a White Rabbit with pink eyes ran close by her.\n",
        "\"\"\""
      ],
      "metadata": {
        "id": "c0eeepwOltO4"
      },
      "execution_count": 11,
      "outputs": []
    },
    {
      "cell_type": "code",
      "source": [
        "text_generator.model.config.task_specific_params"
      ],
      "metadata": {
        "colab": {
          "base_uri": "https://localhost:8080/"
        },
        "id": "edPRSZWGGOSg",
        "outputId": "04283a6c-bc64-4768-93bd-bc97b0d553cd"
      },
      "execution_count": 9,
      "outputs": [
        {
          "output_type": "execute_result",
          "data": {
            "text/plain": [
              "{'text-generation': {'do_sample': True, 'max_length': 50}}"
            ]
          },
          "metadata": {},
          "execution_count": 9
        }
      ]
    },
    {
      "cell_type": "code",
      "source": [
        "result = text_generator(base_text, max_length=250)\n",
        "print(result[0][\"generated_text\"])"
      ],
      "metadata": {
        "colab": {
          "base_uri": "https://localhost:8080/"
        },
        "id": "PBcoBj87GyEv",
        "outputId": "2a5507db-01ec-48fa-f52a-37dd7c5de747"
      },
      "execution_count": 12,
      "outputs": [
        {
          "output_type": "stream",
          "name": "stderr",
          "text": [
            "Setting `pad_token_id` to `eos_token_id`:50256 for open-end generation.\n"
          ]
        },
        {
          "output_type": "stream",
          "name": "stdout",
          "text": [
            "\n",
            "Alice was beginning to get very tired of sitting by her sister on\n",
            "the bank, and of having nothing to do: once or twice she had peeped\n",
            "into the book her sister was reading, but it had no pictures or\n",
            "conversations in it, `and what is the use of a book,'thought Alice\n",
            "`without pictures or conversation?' So she was considering in her\n",
            "own mind (as well as she could, for the hot day made her feel very\n",
            "sleepy and stupid), whether the pleasure of making a daisy-chain\n",
            "would be worth the trouble of getting up and picking the daisies,\n",
            "when suddenly a White Rabbit with pink eyes ran close by her.\n",
            "As the child had walked into it, her eyes flashed\n",
            "to a white rabbit sitting on the floor, holding a large daisy-chain\n",
            "and his wife, on each thigh.\n",
            "\"What do they\n",
            "now-\"\n",
            "'that we should be here when the\n",
            "blubber comes out--to talk here? or at least\n",
            "here'\n",
            "\"they came to talk to me and\n",
            "I heard that some of my friends went\n",
            "after them. As they came they did not do any\n",
            "something except\n"
          ]
        }
      ]
    },
    {
      "cell_type": "markdown",
      "source": [
        "By the way, if you try using greedy decoding instead (setting `do_sample=False`), the generated text simply and annoyingly repeats the same text over and over again:"
      ],
      "metadata": {
        "id": "uWmEBo8WIe0_"
      }
    },
    {
      "cell_type": "code",
      "source": [
        "result = text_generator(base_text, max_length=250, do_sample=False)\n",
        "print(result[0][\"generated_text\"])"
      ],
      "metadata": {
        "colab": {
          "base_uri": "https://localhost:8080/"
        },
        "id": "dmyJVrqgIhms",
        "outputId": "f39a29f0-a6f8-49ba-a6d7-0d86895147a4"
      },
      "execution_count": 13,
      "outputs": [
        {
          "output_type": "stream",
          "name": "stderr",
          "text": [
            "Setting `pad_token_id` to `eos_token_id`:50256 for open-end generation.\n"
          ]
        },
        {
          "output_type": "stream",
          "name": "stdout",
          "text": [
            "\n",
            "Alice was beginning to get very tired of sitting by her sister on\n",
            "the bank, and of having nothing to do: once or twice she had peeped\n",
            "into the book her sister was reading, but it had no pictures or\n",
            "conversations in it, `and what is the use of a book,'thought Alice\n",
            "`without pictures or conversation?' So she was considering in her\n",
            "own mind (as well as she could, for the hot day made her feel very\n",
            "sleepy and stupid), whether the pleasure of making a daisy-chain\n",
            "would be worth the trouble of getting up and picking the daisies,\n",
            "when suddenly a White Rabbit with pink eyes ran close by her.\n",
            "'Oh, my dear, I am so glad to see you!' said Alice, 'I am so glad to see you!'\n",
            "'Oh, my dear, I am so glad to see you!' said Alice, 'I am so glad to see you!'\n",
            "'Oh, my dear, I am so glad to see you!' said Alice, 'I am so glad to see you!'\n",
            "'Oh, my dear, I am so glad to see you!' said Alice, 'I am so glad to see\n"
          ]
        }
      ]
    },
    {
      "cell_type": "markdown",
      "source": [
        "Wait a minute! Aren’t we fine-tuning GPT-2 so it can write text in a\n",
        "given style?\n",
        "\n"
      ],
      "metadata": {
        "id": "DomhpnhpI1SH"
      }
    },
    {
      "cell_type": "markdown",
      "source": [
        "##Data Preparation"
      ],
      "metadata": {
        "id": "7hq9xgRMF0kz"
      }
    },
    {
      "cell_type": "markdown",
      "source": [
        "In order to capture the style of Lewis Carroll’s Alice’s Adventures in Wonderland, we\n",
        "need to use a dataset containing sentences from that book alone."
      ],
      "metadata": {
        "id": "8NqQYjeAJHrh"
      }
    },
    {
      "cell_type": "code",
      "source": [
        "# Let’s create our first real BERT tokenizer\n",
        "auto_tokenizer = AutoTokenizer.from_pretrained(\"distilbert-base-uncased\")"
      ],
      "metadata": {
        "id": "o8LUn6F-lzaZ"
      },
      "execution_count": null,
      "outputs": []
    },
    {
      "cell_type": "code",
      "source": [
        "def tokenize(row):\n",
        "  return auto_tokenizer(\n",
        "      row[\"sentence\"],\n",
        "      truncation=True,\n",
        "      padding=\"max_length\",\n",
        "      max_length=30\n",
        "  )"
      ],
      "metadata": {
        "id": "_99gvSe5mmK3"
      },
      "execution_count": null,
      "outputs": []
    },
    {
      "cell_type": "code",
      "source": [
        "tokenized_train_dataset = train_dataset.map(tokenize, batched=True)\n",
        "tokenized_test_dataset = test_dataset.map(tokenize, batched=True)"
      ],
      "metadata": {
        "id": "XVgz800LnsPw"
      },
      "execution_count": null,
      "outputs": []
    },
    {
      "cell_type": "code",
      "source": [
        "print(tokenized_train_dataset[0])"
      ],
      "metadata": {
        "id": "xptCcTa76xdL",
        "outputId": "662f25d3-23de-48f3-cda9-c459bc4f8c07",
        "colab": {
          "base_uri": "https://localhost:8080/"
        }
      },
      "execution_count": null,
      "outputs": [
        {
          "output_type": "stream",
          "name": "stdout",
          "text": [
            "{'sentence': 'They all sat down at once, in a large ring, with the Mouse in the middle.', 'source': 'alice28-1476.txt', 'label': 1, 'input_ids': [101, 2027, 2035, 2938, 2091, 2012, 2320, 1010, 1999, 1037, 2312, 3614, 1010, 2007, 1996, 8000, 1999, 1996, 2690, 1012, 102, 0, 0, 0, 0, 0, 0, 0, 0, 0], 'attention_mask': [1, 1, 1, 1, 1, 1, 1, 1, 1, 1, 1, 1, 1, 1, 1, 1, 1, 1, 1, 1, 1, 0, 0, 0, 0, 0, 0, 0, 0, 0]}\n"
          ]
        }
      ]
    },
    {
      "cell_type": "code",
      "source": [
        "# But we don’t need all these columns for training; we need only the first three.\n",
        "tokenized_train_dataset.set_format(\n",
        "    type=\"torch\",\n",
        "    columns=[\"input_ids\", \"attention_mask\", \"label\"]\n",
        ")\n",
        "\n",
        "tokenized_test_dataset.set_format(\n",
        "    type=\"torch\",\n",
        "    columns=[\"input_ids\", \"attention_mask\", \"label\"]\n",
        ")"
      ],
      "metadata": {
        "id": "JUYe9pn5-P3f"
      },
      "execution_count": null,
      "outputs": []
    },
    {
      "cell_type": "code",
      "source": [
        "tokenized_train_dataset[0]"
      ],
      "metadata": {
        "id": "HfQCHUgd-tUL",
        "outputId": "a69f9d99-b9b3-4e07-e4b7-a026ad03e5be",
        "colab": {
          "base_uri": "https://localhost:8080/"
        }
      },
      "execution_count": null,
      "outputs": [
        {
          "output_type": "execute_result",
          "data": {
            "text/plain": [
              "{'label': tensor(1),\n",
              " 'input_ids': tensor([ 101, 2027, 2035, 2938, 2091, 2012, 2320, 1010, 1999, 1037, 2312, 3614,\n",
              "         1010, 2007, 1996, 8000, 1999, 1996, 2690, 1012,  102,    0,    0,    0,\n",
              "            0,    0,    0,    0,    0,    0]),\n",
              " 'attention_mask': tensor([1, 1, 1, 1, 1, 1, 1, 1, 1, 1, 1, 1, 1, 1, 1, 1, 1, 1, 1, 1, 1, 0, 0, 0,\n",
              "         0, 0, 0, 0, 0, 0])}"
            ]
          },
          "metadata": {},
          "execution_count": 64
        }
      ]
    },
    {
      "cell_type": "markdown",
      "source": [
        "##Training"
      ],
      "metadata": {
        "id": "8l15Yf4Hoiie"
      }
    },
    {
      "cell_type": "code",
      "source": [
        "# let’s train model with trainer\n",
        "trainer = Trainer(\n",
        "    model=bert_auto_model,\n",
        "    train_dataset=tokenized_train_dataset)"
      ],
      "metadata": {
        "id": "YBDpPfaCoI0K"
      },
      "execution_count": null,
      "outputs": []
    },
    {
      "cell_type": "code",
      "source": [
        "# let's see default trainer arguments\n",
        "trainer.args"
      ],
      "metadata": {
        "id": "RztFaobuMYan",
        "outputId": "cd409a9c-c378-4191-d50f-7aa6641593da",
        "colab": {
          "base_uri": "https://localhost:8080/"
        }
      },
      "execution_count": null,
      "outputs": [
        {
          "output_type": "execute_result",
          "data": {
            "text/plain": [
              "TrainingArguments(\n",
              "_n_gpu=0,\n",
              "adafactor=False,\n",
              "adam_beta1=0.9,\n",
              "adam_beta2=0.999,\n",
              "adam_epsilon=1e-08,\n",
              "auto_find_batch_size=False,\n",
              "bf16=False,\n",
              "bf16_full_eval=False,\n",
              "data_seed=None,\n",
              "dataloader_drop_last=False,\n",
              "dataloader_num_workers=0,\n",
              "dataloader_pin_memory=True,\n",
              "ddp_backend=None,\n",
              "ddp_broadcast_buffers=None,\n",
              "ddp_bucket_cap_mb=None,\n",
              "ddp_find_unused_parameters=None,\n",
              "ddp_timeout=1800,\n",
              "debug=[],\n",
              "deepspeed=None,\n",
              "disable_tqdm=False,\n",
              "dispatch_batches=None,\n",
              "do_eval=False,\n",
              "do_predict=False,\n",
              "do_train=False,\n",
              "eval_accumulation_steps=None,\n",
              "eval_delay=0,\n",
              "eval_steps=None,\n",
              "evaluation_strategy=no,\n",
              "fp16=False,\n",
              "fp16_backend=auto,\n",
              "fp16_full_eval=False,\n",
              "fp16_opt_level=O1,\n",
              "fsdp=[],\n",
              "fsdp_config={'min_num_params': 0, 'xla': False, 'xla_fsdp_grad_ckpt': False},\n",
              "fsdp_min_num_params=0,\n",
              "fsdp_transformer_layer_cls_to_wrap=None,\n",
              "full_determinism=False,\n",
              "gradient_accumulation_steps=1,\n",
              "gradient_checkpointing=False,\n",
              "gradient_checkpointing_kwargs=None,\n",
              "greater_is_better=None,\n",
              "group_by_length=False,\n",
              "half_precision_backend=auto,\n",
              "hub_always_push=False,\n",
              "hub_model_id=None,\n",
              "hub_private_repo=False,\n",
              "hub_strategy=every_save,\n",
              "hub_token=<HUB_TOKEN>,\n",
              "ignore_data_skip=False,\n",
              "include_inputs_for_metrics=False,\n",
              "include_tokens_per_second=False,\n",
              "jit_mode_eval=False,\n",
              "label_names=None,\n",
              "label_smoothing_factor=0.0,\n",
              "learning_rate=5e-05,\n",
              "length_column_name=length,\n",
              "load_best_model_at_end=False,\n",
              "local_rank=0,\n",
              "log_level=passive,\n",
              "log_level_replica=warning,\n",
              "log_on_each_node=True,\n",
              "logging_dir=tmp_trainer/runs/Jan01_05-04-52_dad6543822b4,\n",
              "logging_first_step=False,\n",
              "logging_nan_inf_filter=True,\n",
              "logging_steps=500,\n",
              "logging_strategy=steps,\n",
              "lr_scheduler_type=linear,\n",
              "max_grad_norm=1.0,\n",
              "max_steps=-1,\n",
              "metric_for_best_model=None,\n",
              "mp_parameters=,\n",
              "neftune_noise_alpha=None,\n",
              "no_cuda=False,\n",
              "num_train_epochs=3.0,\n",
              "optim=adamw_torch,\n",
              "optim_args=None,\n",
              "output_dir=tmp_trainer,\n",
              "overwrite_output_dir=False,\n",
              "past_index=-1,\n",
              "per_device_eval_batch_size=8,\n",
              "per_device_train_batch_size=8,\n",
              "prediction_loss_only=False,\n",
              "push_to_hub=False,\n",
              "push_to_hub_model_id=None,\n",
              "push_to_hub_organization=None,\n",
              "push_to_hub_token=<PUSH_TO_HUB_TOKEN>,\n",
              "ray_scope=last,\n",
              "remove_unused_columns=True,\n",
              "report_to=['tensorboard'],\n",
              "resume_from_checkpoint=None,\n",
              "run_name=tmp_trainer,\n",
              "save_on_each_node=False,\n",
              "save_safetensors=True,\n",
              "save_steps=500,\n",
              "save_strategy=steps,\n",
              "save_total_limit=None,\n",
              "seed=42,\n",
              "skip_memory_metrics=True,\n",
              "split_batches=False,\n",
              "tf32=None,\n",
              "torch_compile=False,\n",
              "torch_compile_backend=None,\n",
              "torch_compile_mode=None,\n",
              "torchdynamo=None,\n",
              "tpu_metrics_debug=False,\n",
              "tpu_num_cores=None,\n",
              "use_cpu=False,\n",
              "use_ipex=False,\n",
              "use_legacy_prediction_loop=False,\n",
              "use_mps_device=False,\n",
              "warmup_ratio=0.0,\n",
              "warmup_steps=0,\n",
              "weight_decay=0.0,\n",
              ")"
            ]
          },
          "metadata": {},
          "execution_count": 43
        }
      ]
    },
    {
      "cell_type": "code",
      "source": [
        "# let's override the default trainer arguments\n",
        "training_args = TrainingArguments(\n",
        "    output_dir=\"output\",\n",
        "    num_train_epochs=1,\n",
        "    per_device_train_batch_size=1,\n",
        "    per_device_eval_batch_size=8,  # means mini-batch has size eight\n",
        "    evaluation_strategy=\"steps\",\n",
        "    eval_steps=300,\n",
        "    logging_steps=300,\n",
        "    gradient_accumulation_steps=8\n",
        ")"
      ],
      "metadata": {
        "id": "aMZ7DOdFqNDm"
      },
      "execution_count": null,
      "outputs": []
    },
    {
      "cell_type": "code",
      "source": [
        "# let's define a function that computes the desired metrics, and returns a dictionary\n",
        "def compute_metrics(eval_pred):\n",
        "  predictions = eval_pred.predictions\n",
        "  labels = eval_pred.label_ids\n",
        "  predictions = np.argmax(predictions, axis=1)\n",
        "  return {\"accuracy\": (predictions==labels).mean()}"
      ],
      "metadata": {
        "id": "5u7QgXWuryTM"
      },
      "execution_count": null,
      "outputs": []
    },
    {
      "cell_type": "code",
      "source": [
        "# let’s redefine the trainer\n",
        "trainer = Trainer(\n",
        "    model=bert_auto_model,\n",
        "    args=training_args,\n",
        "    train_dataset=tokenized_train_dataset,\n",
        "    eval_dataset=tokenized_test_dataset,\n",
        "    compute_metrics=compute_metrics)"
      ],
      "metadata": {
        "id": "e1o6j9bGsLAo"
      },
      "execution_count": null,
      "outputs": []
    },
    {
      "cell_type": "code",
      "source": [
        "# There we go—we’re 100% ready to call the glorious train() method\n",
        "trainer.train()"
      ],
      "metadata": {
        "id": "ECOS5HPZsFai",
        "outputId": "673b246f-d1c0-4385-ea05-854dc1b5ea12",
        "colab": {
          "base_uri": "https://localhost:8080/",
          "height": 158
        }
      },
      "execution_count": null,
      "outputs": [
        {
          "output_type": "display_data",
          "data": {
            "text/plain": [
              "<IPython.core.display.HTML object>"
            ],
            "text/html": [
              "\n",
              "    <div>\n",
              "      \n",
              "      <progress value='385' max='385' style='width:300px; height:20px; vertical-align: middle;'></progress>\n",
              "      [385/385 20:56, Epoch 0/1]\n",
              "    </div>\n",
              "    <table border=\"1\" class=\"dataframe\">\n",
              "  <thead>\n",
              " <tr style=\"text-align: left;\">\n",
              "      <th>Step</th>\n",
              "      <th>Training Loss</th>\n",
              "      <th>Validation Loss</th>\n",
              "      <th>Accuracy</th>\n",
              "    </tr>\n",
              "  </thead>\n",
              "  <tbody>\n",
              "    <tr>\n",
              "      <td>300</td>\n",
              "      <td>0.068800</td>\n",
              "      <td>0.128313</td>\n",
              "      <td>0.974060</td>\n",
              "    </tr>\n",
              "  </tbody>\n",
              "</table><p>"
            ]
          },
          "metadata": {}
        },
        {
          "output_type": "execute_result",
          "data": {
            "text/plain": [
              "TrainOutput(global_step=385, training_loss=0.0771487941989651, metrics={'train_runtime': 1259.9611, 'train_samples_per_second': 2.445, 'train_steps_per_second': 0.306, 'total_flos': 23906225851200.0, 'train_loss': 0.0771487941989651, 'epoch': 1.0})"
            ]
          },
          "metadata": {},
          "execution_count": 66
        }
      ]
    },
    {
      "cell_type": "code",
      "source": [
        "# let's check the final validation\n",
        "trainer.evaluate()"
      ],
      "metadata": {
        "id": "fsxza4UGsiVW",
        "outputId": "47794fa8-0d43-400d-9c26-849b9f8db6f8",
        "colab": {
          "base_uri": "https://localhost:8080/",
          "height": 141
        }
      },
      "execution_count": null,
      "outputs": [
        {
          "output_type": "display_data",
          "data": {
            "text/plain": [
              "<IPython.core.display.HTML object>"
            ],
            "text/html": [
              "\n",
              "    <div>\n",
              "      \n",
              "      <progress value='97' max='97' style='width:300px; height:20px; vertical-align: middle;'></progress>\n",
              "      [97/97 00:37]\n",
              "    </div>\n",
              "    "
            ]
          },
          "metadata": {}
        },
        {
          "output_type": "execute_result",
          "data": {
            "text/plain": [
              "{'eval_loss': 0.10381420701742172,\n",
              " 'eval_accuracy': 0.9792477302204928,\n",
              " 'eval_runtime': 38.0468,\n",
              " 'eval_samples_per_second': 20.265,\n",
              " 'eval_steps_per_second': 2.549,\n",
              " 'epoch': 1.0}"
            ]
          },
          "metadata": {},
          "execution_count": 67
        }
      ]
    },
    {
      "cell_type": "code",
      "source": [
        "!rm -rf bert_alice_vs_wizard"
      ],
      "metadata": {
        "id": "Vi_YijDgrsOH"
      },
      "execution_count": null,
      "outputs": []
    },
    {
      "cell_type": "code",
      "source": [
        "# let's save it to disk\n",
        "trainer.save_model(\"bert_alice_vs_wizard\")\n",
        "\n",
        "os.listdir(\"bert_alice_vs_wizard\")"
      ],
      "metadata": {
        "id": "cyDqpT08s-xT",
        "outputId": "d13add7b-91ed-4d40-90bc-a533191a278a",
        "colab": {
          "base_uri": "https://localhost:8080/"
        }
      },
      "execution_count": null,
      "outputs": [
        {
          "output_type": "execute_result",
          "data": {
            "text/plain": [
              "['training_args.bin', 'model.safetensors', 'config.json']"
            ]
          },
          "metadata": {},
          "execution_count": 69
        }
      ]
    },
    {
      "cell_type": "code",
      "source": [
        "# Later on, we can easily load the trained model\n",
        "loaded_model = (AutoModelForSequenceClassification.from_pretrained(\"bert_alice_vs_wizard\"))\n",
        "\n",
        "loaded_model.device"
      ],
      "metadata": {
        "id": "YDKRI3rItVV0",
        "outputId": "dccefcab-b1a7-4553-80b5-9e501202eb63",
        "colab": {
          "base_uri": "https://localhost:8080/"
        }
      },
      "execution_count": null,
      "outputs": [
        {
          "output_type": "execute_result",
          "data": {
            "text/plain": [
              "device(type='cpu')"
            ]
          },
          "metadata": {},
          "execution_count": 70
        }
      ]
    },
    {
      "cell_type": "markdown",
      "source": [
        "The model is loaded to the CPU by default, but we can send it to a different device."
      ],
      "metadata": {
        "id": "tNFmEyKSuyMv"
      }
    },
    {
      "cell_type": "code",
      "source": [
        "loaded_model.to(device)\n",
        "loaded_model.device"
      ],
      "metadata": {
        "id": "kPMRLrXtukSU",
        "outputId": "0826a13f-2407-4f65-9c58-5a7ae6df01ea",
        "colab": {
          "base_uri": "https://localhost:8080/"
        }
      },
      "execution_count": null,
      "outputs": [
        {
          "output_type": "execute_result",
          "data": {
            "text/plain": [
              "device(type='cpu')"
            ]
          },
          "metadata": {},
          "execution_count": 72
        }
      ]
    },
    {
      "cell_type": "markdown",
      "source": [
        "##Predictions"
      ],
      "metadata": {
        "id": "qb9ReuZAvSh0"
      }
    },
    {
      "cell_type": "code",
      "source": [
        "sentence = \"Down the yellow brick rabbit hole\"\n",
        "tokens = auto_tokenizer(sentence, return_tensors=\"pt\")"
      ],
      "metadata": {
        "id": "kotf-lOPZnV2"
      },
      "execution_count": null,
      "outputs": []
    },
    {
      "cell_type": "code",
      "source": [
        "# we need to make sure the tensors are in the same device as the model.\n",
        "print(type(tokens))\n",
        "tokens.to(loaded_model.device)"
      ],
      "metadata": {
        "id": "Oyd3uw_EZzAt",
        "outputId": "7e97c3d1-4387-431e-9f2d-f578b0753943",
        "colab": {
          "base_uri": "https://localhost:8080/"
        }
      },
      "execution_count": null,
      "outputs": [
        {
          "output_type": "stream",
          "name": "stdout",
          "text": [
            "<class 'transformers.tokenization_utils_base.BatchEncoding'>\n"
          ]
        },
        {
          "output_type": "execute_result",
          "data": {
            "text/plain": [
              "{'input_ids': tensor([[  101,  2091,  1996,  3756,  5318, 10442,  4920,   102]]), 'attention_mask': tensor([[1, 1, 1, 1, 1, 1, 1, 1]])}"
            ]
          },
          "metadata": {},
          "execution_count": 74
        }
      ]
    },
    {
      "cell_type": "code",
      "source": [
        "loaded_model.eval()\n",
        "\n",
        "logits = loaded_model(input_ids=tokens[\"input_ids\"], attention_mask=tokens[\"attention_mask\"])\n",
        "logits"
      ],
      "metadata": {
        "id": "q9oI_s93aCwX",
        "outputId": "4e32f28e-f794-4240-b2bc-51c1fe11afad",
        "colab": {
          "base_uri": "https://localhost:8080/"
        }
      },
      "execution_count": null,
      "outputs": [
        {
          "output_type": "execute_result",
          "data": {
            "text/plain": [
              "SequenceClassifierOutput(loss=None, logits=tensor([[-1.9329,  2.0669]], grad_fn=<AddmmBackward0>), hidden_states=None, attentions=None)"
            ]
          },
          "metadata": {},
          "execution_count": 75
        }
      ]
    },
    {
      "cell_type": "code",
      "source": [
        "# The largest logit corresponds to the predicted class as usual\n",
        "logits.logits.argmax(dim=1)"
      ],
      "metadata": {
        "id": "GI9N94_Pagx6",
        "outputId": "a3f4edf4-ce1a-40b2-a9cf-878cb3b9055d",
        "colab": {
          "base_uri": "https://localhost:8080/"
        }
      },
      "execution_count": null,
      "outputs": [
        {
          "output_type": "execute_result",
          "data": {
            "text/plain": [
              "tensor([1])"
            ]
          },
          "metadata": {},
          "execution_count": 76
        }
      ]
    },
    {
      "cell_type": "markdown",
      "source": [
        "BERT has spoken: The sentence \"Down the Yellow Brick Rabbit Hole\" is more likely\n",
        "coming from The Wonderful Wizard of Oz (the negative class of our binary\n",
        "classification task)."
      ],
      "metadata": {
        "id": "3wHiiv_Eass1"
      }
    },
    {
      "cell_type": "markdown",
      "source": [
        "##Pipelines"
      ],
      "metadata": {
        "id": "_m8S1SseaxVd"
      }
    },
    {
      "cell_type": "markdown",
      "source": [
        "Pipelines can handle all these steps for us, we just have to choose the appropriate one.\n",
        "\n",
        "Let’s use the `TextClassificationPipeline`"
      ],
      "metadata": {
        "id": "I6dxLYHzbKEF"
      }
    },
    {
      "cell_type": "code",
      "source": [
        "device_index = (loaded_model.device.index if loaded_model.device.type != \"cpu\" else -1)\n",
        "\n",
        "classifier = TextClassificationPipeline(model=loaded_model, tokenizer=auto_tokenizer, device=device_index)"
      ],
      "metadata": {
        "id": "WH4Hg3oNamN9"
      },
      "execution_count": null,
      "outputs": []
    },
    {
      "cell_type": "code",
      "source": [
        "# Now we can make predictions using the original sentences\n",
        "classifier([\"Down the Yellow Brick Rabbit Hole\", \"Alice rules!\"])"
      ],
      "metadata": {
        "id": "XUHZG6MIb22_",
        "outputId": "1eaf8c38-7bd1-4bbb-9859-07dcc02f24c1",
        "colab": {
          "base_uri": "https://localhost:8080/"
        }
      },
      "execution_count": null,
      "outputs": [
        {
          "output_type": "execute_result",
          "data": {
            "text/plain": [
              "[{'label': 'LABEL_1', 'score': 0.9820101857185364},\n",
              " {'label': 'LABEL_1', 'score': 0.9998201727867126}]"
            ]
          },
          "metadata": {},
          "execution_count": 78
        }
      ]
    },
    {
      "cell_type": "markdown",
      "source": [
        "The model seems pretty confident that the first sentence is from The Wonderful\n",
        "Wizard of Oz (negative class) and that the second sentence is from Alice’s\n",
        "Adventures in Wonderland (positive class)."
      ],
      "metadata": {
        "id": "PcF6f6T-cLAt"
      }
    },
    {
      "cell_type": "code",
      "source": [
        "# We can make the output a bit more intuitive\n",
        "loaded_model.config.id2label = {0: \"Wizard\", 1: \"Alice\"}\n",
        "\n",
        "classifier([\"Down the Yellow Brick Rabbit Hole\", \"Alice rules!\"])"
      ],
      "metadata": {
        "id": "LE7RlNKwcLq9",
        "outputId": "d2d6765c-7019-4897-98ff-97ee2b031017",
        "colab": {
          "base_uri": "https://localhost:8080/"
        }
      },
      "execution_count": null,
      "outputs": [
        {
          "output_type": "execute_result",
          "data": {
            "text/plain": [
              "[{'label': 'Alice', 'score': 0.9820101857185364},\n",
              " {'label': 'Alice', 'score': 0.9998201727867126}]"
            ]
          },
          "metadata": {},
          "execution_count": 79
        }
      ]
    }
  ]
}