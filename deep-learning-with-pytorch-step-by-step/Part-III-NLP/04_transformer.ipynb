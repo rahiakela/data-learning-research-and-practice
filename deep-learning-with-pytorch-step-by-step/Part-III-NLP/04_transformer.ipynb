{
  "nbformat": 4,
  "nbformat_minor": 0,
  "metadata": {
    "colab": {
      "provenance": [],
      "toc_visible": true,
      "authorship_tag": "ABX9TyMyDK+Cz/LHtHLSGojHAH/H",
      "include_colab_link": true
    },
    "kernelspec": {
      "name": "python3",
      "display_name": "Python 3"
    },
    "language_info": {
      "name": "python"
    }
  },
  "cells": [
    {
      "cell_type": "markdown",
      "metadata": {
        "id": "view-in-github",
        "colab_type": "text"
      },
      "source": [
        "<a href=\"https://colab.research.google.com/github/rahiakela/deep-learning-research-and-practice/blob/main/deep-learning-with-pytorch-step-by-step/Part-III-NLP/04_transformer.ipynb\" target=\"_parent\"><img src=\"https://colab.research.google.com/assets/colab-badge.svg\" alt=\"Open In Colab\"/></a>"
      ]
    },
    {
      "cell_type": "markdown",
      "source": [
        "##Transformer"
      ],
      "metadata": {
        "id": "I_fJ4_FUlY0a"
      }
    },
    {
      "cell_type": "markdown",
      "source": [
        "We’re actually quite close to developing our own version of the famous\n",
        "Transformer model. The encoder-decoder architecture with positional encoding\n",
        "is missing only a few details to effectively \"transform and roll out\" :-)\n",
        "\n",
        "First, we need to revisit the multi-headed attention mechanism to make it less\n",
        "computationally expensive by using narrow attention. Then, we’ll learn about a\n",
        "new kind of normalization: layer normalization.\n",
        "\n",
        "Finally, we’ll add some more bells\n",
        "and whistles: dropout, residual connections, and more \"layers\"."
      ],
      "metadata": {
        "id": "6S3AN5ZklZkV"
      }
    },
    {
      "cell_type": "markdown",
      "source": [
        "##Setup"
      ],
      "metadata": {
        "id": "y_fsZxO6mSi9"
      }
    },
    {
      "cell_type": "code",
      "source": [
        "try:\n",
        "    import google.colab\n",
        "    import requests\n",
        "    url = 'https://raw.githubusercontent.com/dvgodoy/PyTorchStepByStep/master/config.py'\n",
        "    r = requests.get(url, allow_redirects=True)\n",
        "    open('config.py', 'wb').write(r.content)\n",
        "except ModuleNotFoundError:\n",
        "    pass\n",
        "\n",
        "from config import *\n",
        "config_chapter10()\n",
        "# This is needed to render the plots in this chapter\n",
        "from plots.chapter8 import *\n",
        "from plots.chapter9 import *\n",
        "from plots.chapter10 import *"
      ],
      "metadata": {
        "id": "4KaJRDNLmTq_"
      },
      "execution_count": null,
      "outputs": []
    },
    {
      "cell_type": "code",
      "source": [
        "import copy\n",
        "import numpy as np\n",
        "\n",
        "import torch\n",
        "import torch.optim as optim\n",
        "import torch.nn as nn\n",
        "import torch.nn.functional as F\n",
        "from torch.utils.data import DataLoader, Dataset, random_split, TensorDataset\n",
        "from torchvision.transforms import Compose, Normalize, Pad\n",
        "\n",
        "from data_generation.square_sequences import generate_sequences\n",
        "from data_generation.image_classification import generate_dataset\n",
        "from helpers import index_splitter, make_balanced_sampler\n",
        "from stepbystep.v4 import StepByStep\n",
        "# These are the classes we built in Chapter 9\n",
        "from seq2seq import PositionalEncoding, subsequent_mask, EncoderDecoderSelfAttn"
      ],
      "metadata": {
        "id": "i9pPl_87mbqd"
      },
      "execution_count": null,
      "outputs": []
    },
    {
      "cell_type": "code",
      "source": [
        "device = \"cuda\" if torch.cuda.is_available() else \"cpu\""
      ],
      "metadata": {
        "id": "tWAO0Hb3mjb-"
      },
      "execution_count": null,
      "outputs": []
    },
    {
      "cell_type": "markdown",
      "source": [
        "##Narrow Attention"
      ],
      "metadata": {
        "id": "7FS3XWpJmuaf"
      }
    },
    {
      "cell_type": "markdown",
      "source": [],
      "metadata": {
        "id": "FT5PYVOlmvkh"
      }
    }
  ]
}