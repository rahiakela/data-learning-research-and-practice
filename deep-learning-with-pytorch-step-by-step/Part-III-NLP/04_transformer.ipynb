{
  "nbformat": 4,
  "nbformat_minor": 0,
  "metadata": {
    "colab": {
      "provenance": [],
      "toc_visible": true,
      "authorship_tag": "ABX9TyOcnsUIKzl+IqF+KoMZ5gbD",
      "include_colab_link": true
    },
    "kernelspec": {
      "name": "python3",
      "display_name": "Python 3"
    },
    "language_info": {
      "name": "python"
    }
  },
  "cells": [
    {
      "cell_type": "markdown",
      "metadata": {
        "id": "view-in-github",
        "colab_type": "text"
      },
      "source": [
        "<a href=\"https://colab.research.google.com/github/rahiakela/deep-learning-research-and-practice/blob/main/deep-learning-with-pytorch-step-by-step/Part-III-NLP/04_transformer.ipynb\" target=\"_parent\"><img src=\"https://colab.research.google.com/assets/colab-badge.svg\" alt=\"Open In Colab\"/></a>"
      ]
    },
    {
      "cell_type": "markdown",
      "source": [
        "##Transformer"
      ],
      "metadata": {
        "id": "I_fJ4_FUlY0a"
      }
    },
    {
      "cell_type": "markdown",
      "source": [
        "We’re actually quite close to developing our own version of the famous\n",
        "Transformer model. The encoder-decoder architecture with positional encoding\n",
        "is missing only a few details to effectively \"transform and roll out\" :-)\n",
        "\n",
        "First, we need to revisit the multi-headed attention mechanism to make it less\n",
        "computationally expensive by using narrow attention. Then, we’ll learn about a\n",
        "new kind of normalization: layer normalization.\n",
        "\n",
        "Finally, we’ll add some more bells\n",
        "and whistles: dropout, residual connections, and more \"layers\"."
      ],
      "metadata": {
        "id": "6S3AN5ZklZkV"
      }
    },
    {
      "cell_type": "markdown",
      "source": [
        "##Setup"
      ],
      "metadata": {
        "id": "y_fsZxO6mSi9"
      }
    },
    {
      "cell_type": "code",
      "source": [
        "try:\n",
        "    import google.colab\n",
        "    import requests\n",
        "    url = 'https://raw.githubusercontent.com/dvgodoy/PyTorchStepByStep/master/config.py'\n",
        "    r = requests.get(url, allow_redirects=True)\n",
        "    open('config.py', 'wb').write(r.content)\n",
        "except ModuleNotFoundError:\n",
        "    pass\n",
        "\n",
        "from config import *\n",
        "config_chapter10()\n",
        "# This is needed to render the plots in this chapter\n",
        "from plots.chapter8 import *\n",
        "from plots.chapter9 import *\n",
        "from plots.chapter10 import *"
      ],
      "metadata": {
        "id": "4KaJRDNLmTq_",
        "outputId": "920387b1-3a17-4a5a-9548-55f6de9f25f5",
        "colab": {
          "base_uri": "https://localhost:8080/"
        }
      },
      "execution_count": 1,
      "outputs": [
        {
          "output_type": "stream",
          "name": "stdout",
          "text": [
            "Downloading files from GitHub repo to Colab...\n",
            "Finished!\n"
          ]
        }
      ]
    },
    {
      "cell_type": "code",
      "source": [
        "import copy\n",
        "import numpy as np\n",
        "\n",
        "import torch\n",
        "import torch.optim as optim\n",
        "import torch.nn as nn\n",
        "import torch.nn.functional as F\n",
        "from torch.utils.data import DataLoader, Dataset, random_split, TensorDataset\n",
        "from torchvision.transforms import Compose, Normalize, Pad\n",
        "\n",
        "from data_generation.square_sequences import generate_sequences\n",
        "from data_generation.image_classification import generate_dataset\n",
        "from helpers import index_splitter, make_balanced_sampler\n",
        "from stepbystep.v4 import StepByStep\n",
        "# These are the classes we built in Chapter 9\n",
        "from seq2seq import PositionalEncoding, subsequent_mask, EncoderDecoderSelfAttn"
      ],
      "metadata": {
        "id": "i9pPl_87mbqd"
      },
      "execution_count": 2,
      "outputs": []
    },
    {
      "cell_type": "code",
      "source": [
        "device = \"cuda\" if torch.cuda.is_available() else \"cpu\""
      ],
      "metadata": {
        "id": "tWAO0Hb3mjb-"
      },
      "execution_count": 3,
      "outputs": []
    },
    {
      "cell_type": "markdown",
      "source": [
        "##Narrow Attention"
      ],
      "metadata": {
        "id": "7FS3XWpJmuaf"
      }
    },
    {
      "cell_type": "markdown",
      "source": [
        "We used full attention heads to build a multi-headed attention\n",
        "and we called it wide attention. Although this mechanism works well, it gets\n",
        "prohibitively expensive as the number of dimensions grows.\n",
        "\n",
        "That’s when the narrow attention comes in: Each attention head will get a chunk of the\n",
        "transformed data points (projections) to work with."
      ],
      "metadata": {
        "id": "5WshScxG9vTZ"
      }
    },
    {
      "cell_type": "markdown",
      "source": [
        "###Chunking"
      ],
      "metadata": {
        "id": "TVbjXRVh9tsX"
      }
    },
    {
      "cell_type": "markdown",
      "source": [
        "The attention heads do not\n",
        "use chunks of the original data points, but rather those of their\n",
        "projections.\n",
        "\n",
        "Why?\n",
        "\n",
        "To understand why, let’s take an example of an affine transformation, one that\n",
        "generates \"values\" ($v_0$) from the first data point ($x_0$).\n",
        "\n",
        "![](https://github.com/rahiakela/deep-learning-research-and-practice/blob/main/deep-learning-with-pytorch-step-by-step/Part-III-NLP/images/attn_narrow_transf.png?raw=1)\n",
        "\n",
        "The transformation above takes a single data point of four dimensions (features) and turns it into a \"value\" (also with four dimensions) that’s going to be used in the attention mechanism.\n",
        "\n",
        "At first sight, it may look like we’ll get the same result whether we split the inputs\n",
        "into chunks or we split the projections into chunks. But that’s definitely not the case.\n",
        "So, let’s zoom in and look at the individual weights inside that transformation.\n",
        "\n",
        "![](https://github.com/rahiakela/deep-learning-research-and-practice/blob/main/deep-learning-with-pytorch-step-by-step/Part-III-NLP/images/multihead_chunking.png?raw=1)\n",
        "\n",
        "On the left, the correct approach: It computes the projections first and chunks them later. It is clear that each value in the projection (from $v_{00}$ to $v_{03}$) is a linear combination of all features in the data point.\n",
        "\n",
        "Since each head is working with a subset of the projected\n",
        "dimensions, these projected dimensions may end up\n",
        "representing different aspects of the underlying data. For\n",
        "natural language processing tasks, for example, some attention\n",
        "heads may correspond to linguistic notions of syntax and\n",
        "coherence. A particular head may attend to the direct objects of\n",
        "verbs, while another head may attend to objects of prepositions,\n",
        "and so on.\n",
        "\n",
        "Now, compare it to the wrong approach, on the right: By chunking it first, each value in the projection is a linear combination of a subset of the features only.\n",
        "\n",
        "Why is it so bad?\n",
        "\n",
        "First, it is a simpler model (the wrong approach has only eight weights while the correct one has sixteen), so its learning capacity is limited. Second, since each head can only look at a subset of the features, they simply cannot learn about longrange dependencies in the inputs.\n",
        "\n",
        "Now, let’s use a source sequence of length two as input, with each data point\n",
        "having four features like the chunking example above, to illustrate our new self-attention mechanism.\n",
        "\n",
        "![](https://github.com/rahiakela/deep-learning-research-and-practice/blob/main/deep-learning-with-pytorch-step-by-step/Part-III-NLP/images/narrow-attention1.png?raw=1)\n",
        "\n",
        "The flow of information goes like this:\n",
        "\n",
        "* Both data points (x0 and x1) go through distinct affine transformations to generate the corresponding \"values\" (v0 and v1) and \"keys\" (k0 and k1), which we’ll be calling projections.\n",
        "\n",
        "* Both data points also go through another affine transformation to generate the corresponding \"queries\" (q0 and q1).\n",
        "\n",
        "* Each projection has the same number of dimensions as the inputs (four).\n",
        "\n",
        "* Instead of simply using the projections, as former attention heads did, this attention head uses only a chunk of the projections to compute the context vector.\n",
        "\n",
        "* Since projections have four dimensions, let’s split them into two chunks—blue (left) and green (right)—of two dimensions each.\n",
        "\n",
        "* The first attention head uses only blue chunks to compute its context vector, which, like the projections, has only two dimensions.\n",
        "\n",
        "* The second attention head (not depicted in the figure above) uses the green chunks to compute the other half of the context vector, which, in the end, has the desired dimension.\n",
        "\n",
        "* Like the former multi-headed attention mechanism, the context vector goes through a feed-forward network to generate the \"hidden states\" (only the first one is depicted in the figure above).\n",
        "\n"
      ],
      "metadata": {
        "id": "FT5PYVOlmvkh"
      }
    },
    {
      "cell_type": "markdown",
      "source": [
        "###Multi-Headed Attention"
      ],
      "metadata": {
        "id": "dmsw_E3b9g0P"
      }
    },
    {
      "cell_type": "markdown",
      "source": [
        "The new multi-headed attention class is more than a combination of both the\n",
        "Attention and MultiHeadedAttention classes: It implements the chunking of the projections and introduces dropout for attention scores."
      ],
      "metadata": {
        "id": "QV5-eLRZ9hto"
      }
    },
    {
      "cell_type": "code",
      "source": [
        "class MultiHeadAttention(nn.Module):\n",
        "\n",
        "  def __init__(self, n_heads, d_model, dropout=0.1):\n",
        "    super(MultiHeadAttention, self).__init__()\n",
        "\n",
        "    self.n_heads = n_heads\n",
        "    self.d_model = d_model\n",
        "    self.d_k = int(d_model / n_heads)\n",
        "\n",
        "    # Affine transformations for Q, K, and V\n",
        "    self.QUERY = nn.Linear(d_model, d_model)\n",
        "    self.KEY = nn.Linear(d_model, d_model)\n",
        "    self.VALUE = nn.Linear(d_model, d_model)\n",
        "\n",
        "    self.linear_layer = nn.Linear(d_model, d_model)\n",
        "    self.dropout = nn.Dropout(p=dropout)\n",
        "    self.alphas = None\n",
        "\n",
        "  def make_chunks(self, x):\n",
        "    batch_size, seq_len = x.size(0), x.size(1)\n",
        "    # N, L, D -> N, L, n_heads * d_k\n",
        "    x = x.view(batch_size, seq_len, self.n_heads, self.d_k) # splits its last dimension in two\n",
        "    # N, n_heads, L, d_k\n",
        "    x = x.transpose(1, 2)\n",
        "    return x\n",
        "\n",
        "  def init_keys(self, key):\n",
        "    # N, n_heads, L, d_k\n",
        "    # Chunking the key, and value projections\n",
        "    self.projection_key = self.make_chunks(self.KEY(key))\n",
        "    self.projection_value = self.make_chunks(self.VALUE(key))\n",
        "\n",
        "  def score_function(self, query):\n",
        "    # scaled dot product\n",
        "    # N, n_heads, L, d_k x # N, n_heads, d_k, L -> N, n_heads, L, L\n",
        "    # Chunking the query projections\n",
        "    projection_query = self.make_chunks(self.QUERY(query))\n",
        "    dot_products = torch.matmul(projection_query, self.projection_key.transpose(-2, -1))\n",
        "    scores = dot_products / np.sqrt(self.d_k)\n",
        "    return scores\n",
        "\n",
        "  def attention(self, query, mask=None):\n",
        "    # Query is batch-first: N, L, D\n",
        "    # Score function will generate scores for each head\n",
        "    scores = self.score_function(query)  # N, n_heads, L, L\n",
        "    if mask is not None:\n",
        "      scores = scores.masked_fill(mask==0, -1e9)\n",
        "    alphas = F.softmax(scores, dim=-1)  # N, n_heads, L, L\n",
        "    alphas = self.dropout(alphas)\n",
        "    self.alphas = alphas.detach()\n",
        "\n",
        "    # N, n_heads, L, L x N, n_heads, L, d_k -> N, n_heads, L, d_k\n",
        "    context = torch.matmul(alphas, self.projection_value)\n",
        "    return context\n",
        "\n",
        "  def output_function(self, contexts):\n",
        "    # N, L, D\n",
        "    output = self.linear_layer(contexts)  # N, L, D\n",
        "    return output\n",
        "\n",
        "  def forward(self, query, mask=None):\n",
        "    if mask is not None:\n",
        "      # N, 1, L, L - every head uses the same mask\n",
        "      mask = mask.unsqueeze(1)\n",
        "\n",
        "    # N, n_heads, L, d_k\n",
        "    contexts = self.attention(query, mask=mask)\n",
        "    # Concatenating the context vectors\n",
        "    # N, L, n_heads, d_k\n",
        "    contexts = contexts.transpose(1, 2).contiguous()\n",
        "    # N, L, n_heads * d_k = N, L, d_model\n",
        "    contexts = contexts.view(query.size(0), -1, self.d_model)\n",
        "    # N, L, d_model\n",
        "    output = self.output_function(contexts)\n",
        "    return output"
      ],
      "metadata": {
        "id": "cDf9HTfwCO31"
      },
      "execution_count": 4,
      "outputs": []
    },
    {
      "cell_type": "markdown",
      "source": [
        "We can generate some dummy points corresponding to a mini-batch of 16\n",
        "sequences (N), each sequence having two data points (L), each data point having\n",
        "four features (F):"
      ],
      "metadata": {
        "id": "7UP_3J_sTdHe"
      }
    },
    {
      "cell_type": "code",
      "source": [
        "dummy_points = torch.randn(16, 2, 4) # N, L, F\n",
        "multi_head_attention = MultiHeadAttention(n_heads=2, d_model=4, dropout=0.0)\n",
        "multi_head_attention.init_keys(dummy_points)\n",
        "output = multi_head_attention(dummy_points) # N, L, D\n",
        "output.shape"
      ],
      "metadata": {
        "id": "FoNt8RdgTdrK",
        "outputId": "3058a830-fb96-44ce-fd61-0683034e747b",
        "colab": {
          "base_uri": "https://localhost:8080/"
        }
      },
      "execution_count": 5,
      "outputs": [
        {
          "output_type": "execute_result",
          "data": {
            "text/plain": [
              "torch.Size([16, 2, 4])"
            ]
          },
          "metadata": {},
          "execution_count": 5
        }
      ]
    },
    {
      "cell_type": "markdown",
      "source": [
        "Since we’re using the data points as \"keys,\" \"values,\" and \"queries,\" this is a selfattention mechanism.\n",
        "\n",
        "The figure below depicts a multi-headed attention mechanism with its two heads,\n",
        "blue (left) and green (right), and the first data point being used as a \"query\" to\n",
        "generate the first \"hidden state\" ($h_0$).\n",
        "\n",
        "![](https://github.com/rahiakela/deep-learning-research-and-practice/blob/main/deep-learning-with-pytorch-step-by-step/Part-III-NLP/images/narrow-attention2.png?raw=1)\n",
        "\n",
        "\n",
        "The important thing to remember here is: \"**Multi-headed attention chunks the projections, not the inputs.**\""
      ],
      "metadata": {
        "id": "ANPx_oybUjZl"
      }
    },
    {
      "cell_type": "markdown",
      "source": [
        "###Stacking Encoders and Decoders"
      ],
      "metadata": {
        "id": "bOL56HO-Vd93"
      }
    },
    {
      "cell_type": "markdown",
      "source": [
        "Let’s make our encoder-decoder architecture deeper by stacking two encoders on\n",
        "top of one another, and then do the same with two decoders.\n",
        "\n",
        "![](https://github.com/rahiakela/deep-learning-research-and-practice/blob/main/deep-learning-with-pytorch-step-by-step/Part-III-NLP/images/stacking-encoders-decoders1.png?raw=1)\n",
        "\n",
        "The output of one encoder feeds the cross-attention mechanism of all stacked\n",
        "decoders. The output of one decoder feeds the next, and the last decoder outputs predictions as usual.\n",
        "\n",
        "The figure above represents an encoder-decoder architecture with two \"layers\"\n",
        "each. But we’re not stopping there: We’re stacking six \"layers\"!\n",
        "\n",
        "![](https://github.com/rahiakela/deep-learning-research-and-practice/blob/main/deep-learning-with-pytorch-step-by-step/Part-III-NLP/images/stacking-encoders-decoders2.png?raw=1)\n",
        "\n",
        "By the way, that’s exactly how a Transformer is built!\n",
        "\n",
        "Cool! Is this a Transformer already then?\n",
        "\n",
        "Not yet, no. We need to work further on the \"sub-layers\" to transform the architecture above into a real Transformer."
      ],
      "metadata": {
        "id": "Bd-otWCtVe8v"
      }
    },
    {
      "cell_type": "markdown",
      "source": [
        "###Wrapping \"Sub-Layers\""
      ],
      "metadata": {
        "id": "h8SJKxGds_G5"
      }
    },
    {
      "cell_type": "markdown",
      "source": [
        "As our model grows deeper, with many stacked \"layers,\" we’re going to run into\n",
        "familiar issues, like the vanishing gradients problem. In computer vision models, this issue was successfully addressed by the addition of other components, like batch normalization and residual connections.\n",
        "\n",
        "But we also know that dropout works pretty well as a regularizer, so we can throw\n",
        "that in the mix as well.\n",
        "\n",
        "We’ll wrap each and every \"sub-layer\" with them! Cool, right? But that brings up another question: How to wrap them?\n",
        "\n",
        "It turns out, we can wrap a \"sub-layer\" in one of two ways: norm-last or norm-first.\n",
        "\n",
        "![](https://github.com/rahiakela/deep-learning-research-and-practice/blob/main/deep-learning-with-pytorch-step-by-step/Part-III-NLP/images/stacking-encoders-decoders3.png?raw=1)\n",
        "\n",
        "Let’s turn the diagrams above into equations:\n",
        "\n",
        "$$\n",
        "\\Large\n",
        "\\begin{aligned}\n",
        "&\\text{outputs}_{\\text{norm-last}}=&\\text{norm(inputs + dropout(sublayer(inputs))}\n",
        "\\\\\n",
        "&\\text{outputs}_{\\text{norm-first}}=&\\text{inputs + dropout(sublayer(norm(inputs)))}\n",
        "\\end{aligned}\n",
        "$$\n",
        "\n",
        "The equations are almost the same, except for the fact that the norm-last wrapper normalizes the outputs and the norm-first wrapper normalizes the inputs. That’s a small, yet important, difference.\n",
        "\n",
        "Why?\n",
        "\n",
        "If you’re using positional encoding, you want to normalize your inputs, so norm-first is more convenient.\n",
        "\n",
        "We’ll normalize the final outputs; that is, the output of the last \"layer\".\n",
        "\n",
        "From now on, we’re sticking with norm-first, thus normalizing the inputs:\n",
        "\n",
        "\n",
        "$$\n",
        "\\Large\n",
        "\\begin{aligned}\n",
        "&\\text{outputs}_{\\text{norm-first}}=&\\text{inputs + dropout(sublayer(norm(inputs)))}\n",
        "\\end{aligned}\n",
        "$$\n",
        "\n",
        "By wrapping each and every \"sub-layer\" inside both encoder \"layers\" and decoder \"layers,\" we’ll arrive at the desired Transformer architecture.\n"
      ],
      "metadata": {
        "id": "YdgnQaE8tDH5"
      }
    },
    {
      "cell_type": "markdown",
      "source": [
        "###Transformer Encoder"
      ],
      "metadata": {
        "id": "eQNpkkRK2iy6"
      }
    },
    {
      "cell_type": "markdown",
      "source": [
        "![](https://github.com/rahiakela/deep-learning-research-and-practice/blob/main/deep-learning-with-pytorch-step-by-step/Part-III-NLP/images/stacking-encoders-decoders4.png?raw=1)\n",
        "\n",
        "On the left, the encoder uses a norm-last wrapper, and its output (the encoder’s states) is given by:\n",
        "\n",
        "$$\n",
        "\\large\n",
        "\\begin{aligned}\n",
        "&\\text{outputs}_{\\text{norm-last}}=&\\text{norm}(\\underbrace{\\text{norm(inputs + att(inputs))}}_{\\text{Output of SubLayer}_0} + \\text{ffn}(\\underbrace{\\text{norm(inputs + att(inputs))}}_{\\text{Output of SubLayer}_0}))\n",
        "\\end{aligned}\n",
        "$$\n",
        "\n",
        "On the right, the encoder uses a norm-first wrapper, and its output (the encoder’s states) is given by:\n",
        "\n",
        "$$\n",
        "\\large\n",
        "\\begin{aligned}\n",
        "&\\text{outputs}_{\\text{norm-first}}=&\\underbrace{\\text{inputs + att(norm(inputs))}}_{\\text{Output of SubLayer}_0}+\\text{ffn(norm(}\\underbrace{\\text{inputs + att(norm(inputs))}}_{\\text{Output of SubLayer}_0}))\n",
        "\\end{aligned}\n",
        "$$\n",
        "\n",
        "The norm-first wrapper allows the inputs to flow unimpeded (the inputs aren’t\n",
        "normalized) all the way to the top while adding the results of each \"sub-layer\" along\n",
        "the way.\n",
        "\n",
        "Which one is best?\n",
        "\n",
        "There is no straight answer to this question. It actually  placing the batch normalization layer before or after the\n",
        "activation function.\n",
        "\n",
        "Let’s see it in code, starting with the \"layer,\" and all its wrapped \"sub-layers\":"
      ],
      "metadata": {
        "id": "2GnLoFGS2jvC"
      }
    },
    {
      "cell_type": "code",
      "source": [
        "class EncoderLayer(nn.Module):\n",
        "\n",
        "  def __init__(self, n_heads, d_model, ff_units, dropout=0.1):\n",
        "    super().__init__()\n",
        "\n",
        "    self.n_heads = n_heads\n",
        "    self.d_model = d_model\n",
        "    self.ff_units = ff_units\n",
        "    self.dropout = dropout\n",
        "\n",
        "    self.self_attention_heads = MultiHeadAttention(n_heads, d_model, dropout)\n",
        "    self.feed_forward_network = nn.Sequential(\n",
        "        nn.Linear(d_model, ff_units),\n",
        "        nn.ReLU(),\n",
        "        nn.Dropout(dropout),\n",
        "        nn.Linear(ff_units, d_model)\n",
        "    )\n",
        "\n",
        "    # define layer normalization\n",
        "    self.norm1 = nn.LayerNorm(d_model)\n",
        "    self.norm2 = nn.LayerNorm(d_model)\n",
        "    self.dropout1 = nn.Dropout(dropout)\n",
        "    self.dropout2 = nn.Dropout(dropout)\n",
        "\n",
        "  def forward(self, query, mask=None):\n",
        "    # Sublayer #0\n",
        "    # Norm\n",
        "    norm_query = self.norm1(query)\n",
        "    # Multi-headed Attention\n",
        "    self.self_attention_heads.init_keys(norm_query)\n",
        "    states = self.self_attention_heads(norm_query, mask)\n",
        "    # Add\n",
        "    attention = query + self.dropout1(states)\n",
        "\n",
        "    # Sublayer #1\n",
        "    # Norm\n",
        "    norm_attention = self.norm2(attention)\n",
        "    # Feed Forward\n",
        "    output = self.feed_forward_network(norm_attention)\n",
        "    # Add\n",
        "    output = attention + self.dropout2(output)\n",
        "    return output"
      ],
      "metadata": {
        "id": "Nh9IK0mk31zG"
      },
      "execution_count": 6,
      "outputs": []
    },
    {
      "cell_type": "markdown",
      "source": [
        "Now we can stack a bunch of \"layers\" like that to build an actual encoder.Its constructor takes an instance of an EncoderLayer, the number\n",
        "of \"layers\" we’d like to stack on top of one another, and a max length of the source\n",
        "sequence that’s going to be used for the positional encoding.\n",
        "\n",
        "The final outputs are, as usual, the states of the\n",
        "encoder that will feed the cross-attention mechanism of every \"layer\" of the\n",
        "decoder."
      ],
      "metadata": {
        "id": "QG_ZmLiDwQWb"
      }
    },
    {
      "cell_type": "code",
      "source": [
        "class TransformerEncoder(nn.Module):\n",
        "\n",
        "  def __init__(self, encoder_layer, n_layers=1, max_len=100):\n",
        "    super().__init__()\n",
        "\n",
        "    self.d_model = encoder_layer.d_model\n",
        "    self.positional_encoding = PositionalEncoding(max_len, self.d_model)\n",
        "    self.norm_layer = nn.LayerNorm(self.d_model)\n",
        "    self.layers = nn.ModuleList([copy.deepcopy(encoder_layer) for _ in range(n_layers)])\n",
        "\n",
        "  def forward(self, query, mask=None):\n",
        "    # Positional Encoding\n",
        "    x = self.positional_encoding(query)\n",
        "    for layer in self.layers:\n",
        "      x = layer(x, mask)\n",
        "    # Norm\n",
        "    return self.norm_layer(x)"
      ],
      "metadata": {
        "id": "BoyHSBzVwts9"
      },
      "execution_count": 7,
      "outputs": []
    },
    {
      "cell_type": "markdown",
      "source": [
        "###Transformer Decoder"
      ],
      "metadata": {
        "id": "Hcd3ptphydX8"
      }
    },
    {
      "cell_type": "markdown",
      "source": [
        "![](https://github.com/rahiakela/deep-learning-research-and-practice/blob/main/deep-learning-with-pytorch-step-by-step/Part-III-NLP/images/stacking-encoders-decoders5.png?raw=1)\n",
        "\n",
        "The small arrow on the left represents the states produced by the encoder, which will be used as inputs for \"keys\" and \"values\" of the (cross-)multi-headed attention mechanism in each \"layer.\"\n",
        "\n",
        "Moreover, there is one final linear layer responsible for projecting the decoder’s output back to the original number of dimensions.\n",
        "\n",
        "Let’s see it in code, starting with the \"layer\" and all its wrapped \"sub-layers.\""
      ],
      "metadata": {
        "id": "CKf_i7WRyfCn"
      }
    },
    {
      "cell_type": "code",
      "source": [
        "class DecoderLayer(nn.Module):\n",
        "\n",
        "  def __init__(self, n_heads, d_model, ff_units, dropout=0.1):\n",
        "    super().__init__()\n",
        "\n",
        "    self.n_heads = n_heads\n",
        "    self.d_model = d_model\n",
        "    self.ff_units = ff_units\n",
        "    self.dropout = dropout\n",
        "\n",
        "    self.self_attention_heads = MultiHeadAttention(n_heads, d_model, dropout=dropout)\n",
        "    self.cross_attention_heads = MultiHeadAttention(n_heads, d_model, dropout=dropout)\n",
        "    self.feed_forward_network = nn.Sequential(\n",
        "        nn.Linear(d_model, ff_units),\n",
        "        nn.ReLU(),\n",
        "        nn.Dropout(dropout),\n",
        "        nn.Linear(ff_units, d_model)\n",
        "    )\n",
        "\n",
        "    # define layer normalization\n",
        "    self.norm1 = nn.LayerNorm(d_model)\n",
        "    self.norm2 = nn.LayerNorm(d_model)\n",
        "    self.norm3 = nn.LayerNorm(d_model)\n",
        "    self.dropout1 = nn.Dropout(dropout)\n",
        "    self.dropout2 = nn.Dropout(dropout)\n",
        "    self.dropout3 = nn.Dropout(dropout)\n",
        "\n",
        "  def init_keys(self, states):\n",
        "    self.cross_attention_heads.init_keys(states)\n",
        "\n",
        "  def forward(self, query, source_mask=None, target_mask=None):\n",
        "    # Sublayer #0\n",
        "    # Norm\n",
        "    norm_query = self.norm1(query)\n",
        "    # Masked Multi-head Attention\n",
        "    self.self_attention_heads.init_keys(norm_query)\n",
        "    # target mask used to avoid cheating by peeking into the future.\n",
        "    states = self.self_attention_heads(norm_query, target_mask)\n",
        "    # Add\n",
        "    attention1 = query + self.dropout1(states)\n",
        "\n",
        "    # Sublayer #1\n",
        "    # Norm\n",
        "    norm_attention1 = self.norm2(attention1)\n",
        "    # Cross Multi-head Attention\n",
        "    # ignore padded data points in the source sequence during cross-attention\n",
        "    encoder_states = self.cross_attention_heads(norm_attention1, source_mask)\n",
        "    # Add\n",
        "    attention2 = attention1 + self.dropout2(encoder_states)\n",
        "\n",
        "    # Sublayer #2\n",
        "    # Norm\n",
        "    norm_attention2 = self.norm3(attention2)\n",
        "    # Feed Forward\n",
        "    output = self.feed_forward_network(norm_attention2)\n",
        "    # Add\n",
        "    output = attention2 + self.dropout3(output)\n",
        "    return output"
      ],
      "metadata": {
        "id": "vDj68K76vJZ9"
      },
      "execution_count": 8,
      "outputs": []
    },
    {
      "cell_type": "markdown",
      "source": [
        "Now we can stack a bunch of \"layers\" like that to build an actual decoder."
      ],
      "metadata": {
        "id": "yzO6Qi4Z1SYe"
      }
    },
    {
      "cell_type": "code",
      "source": [
        "class TransformerDecoder(nn.Module):\n",
        "\n",
        "  def __init__(self, decoder_layer, n_layers=1, max_len=100):\n",
        "    super(TransformerDecoder, self).__init__()\n",
        "\n",
        "    self.d_model = decoder_layer.d_model\n",
        "    self.positional_encoding = PositionalEncoding(max_len, self.d_model)\n",
        "    self.norm_layer = nn.LayerNorm(self.d_model)\n",
        "    self.layers = nn.ModuleList([copy.deepcopy(decoder_layer) for _ in range(n_layers)])\n",
        "\n",
        "  def init_keys(self, states):\n",
        "    for layer in self.layers:\n",
        "      layer.init_keys(states)\n",
        "\n",
        "  def forward(self, query, source_mask=None, target_mask=None):\n",
        "    # Positional Encoding\n",
        "    x = self.positional_encoding(query)\n",
        "    for layer in self.layers:\n",
        "      x = layer(x, source_mask, target_mask)\n",
        "    # Norm\n",
        "    return self.norm_layer(x)"
      ],
      "metadata": {
        "id": "NABP2hmO1TdP"
      },
      "execution_count": 9,
      "outputs": []
    },
    {
      "cell_type": "markdown",
      "source": [
        "##Layer Normalization"
      ],
      "metadata": {
        "id": "0z4M3sHG12_6"
      }
    },
    {
      "cell_type": "markdown",
      "source": [
        "Layer normalization standardizes individual data points, not features.\n",
        "\n",
        "This is completely different than the standardizations because each feature, either in the whole training set or in a mini-batch was standardized to have zero mean and unit standard deviation.\n",
        "\n",
        "In a tabular dataset, we standardized the columns.\n",
        "\n",
        "Layer normalization, in a tabular dataset, standardizes the rows.\n",
        "Each data point will have the average of its features equal zero,\n",
        "and the standard deviation of its features will equal one.\n",
        "\n",
        "Let’s assume we have a mini-batch of three sequences (N=3), each sequence having\n",
        "a length of two (L=2), each data point having four features (D=4)."
      ],
      "metadata": {
        "id": "7KxgczHs14RH"
      }
    },
    {
      "cell_type": "code",
      "source": [
        "torch.manual_seed(34)\n",
        "\n",
        "d_model = 4\n",
        "seq_len = 2\n",
        "n_points = 3\n",
        "\n",
        "data = torch.randn(n_points, seq_len, d_model)\n",
        "data"
      ],
      "metadata": {
        "colab": {
          "base_uri": "https://localhost:8080/"
        },
        "id": "lBY-HqQKKvln",
        "outputId": "4504c16b-8719-4f4e-dbb3-75d928aef37b"
      },
      "execution_count": 10,
      "outputs": [
        {
          "output_type": "execute_result",
          "data": {
            "text/plain": [
              "tensor([[[-1.9024,  0.4950, -0.8662,  0.5679],\n",
              "         [ 0.4720,  0.1376,  0.0508, -1.3710]],\n",
              "\n",
              "        [[-1.2136,  0.1780,  1.4307,  0.5042],\n",
              "         [-0.9384, -0.9085, -1.1091, -0.8476]],\n",
              "\n",
              "        [[-0.4022,  0.4854,  1.6852,  0.5294],\n",
              "         [ 1.6921,  3.2086,  0.7335,  0.5381]]])"
            ]
          },
          "metadata": {},
          "execution_count": 10
        }
      ]
    },
    {
      "cell_type": "code",
      "source": [
        "pe = PositionalEncoding(seq_len, d_model)\n",
        "inputs = pe(data)\n",
        "inputs"
      ],
      "metadata": {
        "id": "EiE_nLIjPWRg",
        "outputId": "e2767ef2-c171-449f-ce1d-f1cd6357ab4f",
        "colab": {
          "base_uri": "https://localhost:8080/"
        }
      },
      "execution_count": 11,
      "outputs": [
        {
          "output_type": "execute_result",
          "data": {
            "text/plain": [
              "tensor([[[-3.8049,  1.9899, -1.7325,  2.1359],\n",
              "         [ 1.7854,  0.8155,  0.1116, -1.7420]],\n",
              "\n",
              "        [[-2.4273,  1.3559,  2.8615,  2.0084],\n",
              "         [-1.0353, -1.2766, -2.2082, -0.6952]],\n",
              "\n",
              "        [[-0.8044,  1.9707,  3.3704,  2.0587],\n",
              "         [ 4.2256,  6.9575,  1.4770,  2.0762]]])"
            ]
          },
          "metadata": {},
          "execution_count": 11
        }
      ]
    },
    {
      "cell_type": "markdown",
      "source": [
        "It should be straightforward to identify the different dimensions, N (three vertical groups), L (two rows in each group), and D (four columns), in the tensor above.\n",
        "\n",
        "There are six data points in total, and their value range is mostly the result of the addition of positional encoding.\n",
        "\n",
        "Well, layer normalization standardizes individual data points, the rows in the\n",
        "tensor above, so we need to compute statistics over the corresponding dimension(D).\n",
        "\n",
        "Let’s start with the means:\n",
        "\n",
        "$$\n",
        "\\Large\n",
        "\\overline{X}_{n,l} = \\frac{1}{D}\\sum_{d=1}^Dx_{n,l,d}\n",
        "$$"
      ],
      "metadata": {
        "id": "1YMx3IV6P41h"
      }
    },
    {
      "cell_type": "code",
      "source": [
        "inputs_mean = inputs.mean(axis=2).unsqueeze(2)\n",
        "inputs_mean"
      ],
      "metadata": {
        "id": "1_1zSwwuQMmy",
        "outputId": "7275cd4b-ec45-4abc-a210-ca4e7dd6782f",
        "colab": {
          "base_uri": "https://localhost:8080/"
        }
      },
      "execution_count": 12,
      "outputs": [
        {
          "output_type": "execute_result",
          "data": {
            "text/plain": [
              "tensor([[[-0.3529],\n",
              "         [ 0.2426]],\n",
              "\n",
              "        [[ 0.9496],\n",
              "         [-1.3038]],\n",
              "\n",
              "        [[ 1.6489],\n",
              "         [ 3.6841]]])"
            ]
          },
          "metadata": {},
          "execution_count": 12
        }
      ]
    },
    {
      "cell_type": "markdown",
      "source": [
        "As expected, six mean values, one for each data point. The `unsqueeze()` is there to preserve the original dimensionality, thus making the result a tensor of `(N, L, 1)` shape.\n",
        "\n",
        "Next, we compute the biased standard deviations over the same dimension (D):\n",
        "\n",
        "$$\n",
        "\\Large\n",
        "\\sigma_{n,l}(X) = \\sqrt{\\frac{1}{D}\\sum_{d=1}^D(x_{n,l,d}-\\overline{X}_{n,l})^2}\n",
        "$$"
      ],
      "metadata": {
        "id": "QX7JkFnCRQ1t"
      }
    },
    {
      "cell_type": "code",
      "source": [
        "inputs_var = inputs.var(axis=2, unbiased=False).unsqueeze(2)\n",
        "inputs_var"
      ],
      "metadata": {
        "id": "h9t7gItERc7p",
        "outputId": "3fa71593-12c2-486f-f66e-69431feb1833",
        "colab": {
          "base_uri": "https://localhost:8080/"
        }
      },
      "execution_count": 13,
      "outputs": [
        {
          "output_type": "execute_result",
          "data": {
            "text/plain": [
              "tensor([[[6.3756],\n",
              "         [1.6661]],\n",
              "\n",
              "        [[4.0862],\n",
              "         [0.3153]],\n",
              "\n",
              "        [[2.3135],\n",
              "         [4.6163]]])"
            ]
          },
          "metadata": {},
          "execution_count": 13
        }
      ]
    },
    {
      "cell_type": "markdown",
      "source": [
        "The actual standardization is then computed using the mean, biased standard\n",
        "deviation, and a tiny epsilon to guarantee numerical stability:\n",
        "\n",
        "$$\n",
        "\\Large\n",
        "\\text{standardized}\\ x_{n,l,d}=\\frac{x_{n,l,d}-\\overline{X}_{n,l}}{\\sigma_{n,l}(X) + \\epsilon}\n",
        "$$"
      ],
      "metadata": {
        "id": "ljoyjDb8R6t3"
      }
    },
    {
      "cell_type": "code",
      "source": [
        "(inputs - inputs_mean) / torch.sqrt(inputs_var + 1e-5)"
      ],
      "metadata": {
        "id": "VfI0IlGfR9gE",
        "outputId": "06e0fbe3-1501-4f1a-e06a-5800a74670cd",
        "colab": {
          "base_uri": "https://localhost:8080/"
        }
      },
      "execution_count": 14,
      "outputs": [
        {
          "output_type": "execute_result",
          "data": {
            "text/plain": [
              "tensor([[[-1.3671,  0.9279, -0.5464,  0.9857],\n",
              "         [ 1.1953,  0.4438, -0.1015, -1.5376]],\n",
              "\n",
              "        [[-1.6706,  0.2010,  0.9458,  0.5238],\n",
              "         [ 0.4782,  0.0485, -1.6106,  1.0839]],\n",
              "\n",
              "        [[-1.6129,  0.2116,  1.1318,  0.2695],\n",
              "         [ 0.2520,  1.5236, -1.0272, -0.7484]]])"
            ]
          },
          "metadata": {},
          "execution_count": 14
        }
      ]
    },
    {
      "cell_type": "markdown",
      "source": [
        "The values above are layer normalized. It is possible to achieve the very same\n",
        "results by using PyTorch’s own `nn.LayerNorm`, of course:"
      ],
      "metadata": {
        "id": "hZRbeYARSdFv"
      }
    },
    {
      "cell_type": "code",
      "source": [
        "layer_norm = nn.LayerNorm(d_model)\n",
        "normalized = layer_norm(inputs)\n",
        "normalized"
      ],
      "metadata": {
        "id": "k7pAMy5vSfYQ",
        "outputId": "92e1708e-6ba7-484d-8f2f-3362d0cdb91b",
        "colab": {
          "base_uri": "https://localhost:8080/"
        }
      },
      "execution_count": 15,
      "outputs": [
        {
          "output_type": "execute_result",
          "data": {
            "text/plain": [
              "tensor([[[-1.3671,  0.9279, -0.5464,  0.9857],\n",
              "         [ 1.1953,  0.4438, -0.1015, -1.5376]],\n",
              "\n",
              "        [[-1.6706,  0.2010,  0.9458,  0.5238],\n",
              "         [ 0.4782,  0.0485, -1.6106,  1.0839]],\n",
              "\n",
              "        [[-1.6129,  0.2116,  1.1318,  0.2695],\n",
              "         [ 0.2520,  1.5236, -1.0272, -0.7484]]],\n",
              "       grad_fn=<NativeLayerNormBackward0>)"
            ]
          },
          "metadata": {},
          "execution_count": 15
        }
      ]
    },
    {
      "cell_type": "code",
      "source": [
        "normalized[0][0].mean(), normalized[0][0].std(unbiased=False)"
      ],
      "metadata": {
        "id": "QWghEI3ySuSK",
        "outputId": "84321a90-ca04-418c-d8ee-bc5671d4b53a",
        "colab": {
          "base_uri": "https://localhost:8080/"
        }
      },
      "execution_count": 16,
      "outputs": [
        {
          "output_type": "execute_result",
          "data": {
            "text/plain": [
              "(tensor(-1.4901e-08, grad_fn=<MeanBackward0>),\n",
              " tensor(1.0000, grad_fn=<StdBackward0>))"
            ]
          },
          "metadata": {},
          "execution_count": 16
        }
      ]
    },
    {
      "cell_type": "markdown",
      "source": [
        "Why do they have a grad_fn attribute?\n",
        "\n",
        "Like batch normalization, layer normalization can learn affine transformations. Yes.\n",
        "\n",
        "Each feature has its own affine transformation. Since we’re using layer\n",
        "normalization on d_model, and its dimensionality is four, there will be four weights and four biases in the `state_dict()`:"
      ],
      "metadata": {
        "id": "gy7PNZcdTAJY"
      }
    },
    {
      "cell_type": "code",
      "source": [
        "layer_norm.state_dict()"
      ],
      "metadata": {
        "id": "mvgwiUliTNbO",
        "outputId": "a5cc65d5-801d-4b9c-a035-4520c50168d1",
        "colab": {
          "base_uri": "https://localhost:8080/"
        }
      },
      "execution_count": 17,
      "outputs": [
        {
          "output_type": "execute_result",
          "data": {
            "text/plain": [
              "OrderedDict([('weight', tensor([1., 1., 1., 1.])),\n",
              "             ('bias', tensor([0., 0., 0., 0.]))])"
            ]
          },
          "metadata": {},
          "execution_count": 17
        }
      ]
    },
    {
      "cell_type": "markdown",
      "source": [
        "The weights and biases are used to scale and translate, respectively, the\n",
        "standardized values:\n",
        "\n",
        "$$\n",
        "\\Large\n",
        "\\text{layer normed}\\ x_{n,l,d} = b_d + w_d\\ \\text{standardized}\\ x_{n,l,d}\n",
        "$$\n",
        "\n",
        "In PyTorch’s documentation, though, you’ll find gamma and beta instead:\n",
        "\n",
        "$$\n",
        "\\Large\n",
        "\\text{layer normed}\\ x_{n,l,d} = \\text{standardized}\\ x_{n,l,d}\\ \\gamma_d + \\beta_d\n",
        "$$\n",
        "\n",
        "Batch and layer normalization look quite similar to one another, but there are some\n",
        "important differences between them that we need to point out."
      ],
      "metadata": {
        "id": "R5owf3gsTY7-"
      }
    },
    {
      "cell_type": "markdown",
      "source": [
        "###Batch vs Layer"
      ],
      "metadata": {
        "id": "jS3aoMd7TrLx"
      }
    },
    {
      "cell_type": "markdown",
      "source": [
        "Although both normalizations compute statistics, namely, mean and biased\n",
        "standard deviation, to standardize the inputs, only batch norm needs to keep track of running statistics.\n",
        "\n",
        "Moreover, since layer normalization considers data points\n",
        "individually, it exhibits the same behavior whether the model is\n",
        "in training or in evaluation mode.\n",
        "\n",
        "To illustrate the difference between the two types of normalization, let’s generate\n",
        "yet another dummy example."
      ],
      "metadata": {
        "id": "vCnunpJPTtgy"
      }
    },
    {
      "cell_type": "code",
      "source": [
        "torch.manual_seed(23)\n",
        "\n",
        "dummy_points = torch.randn(4, 1, 256)\n",
        "dummy_pe = PositionalEncoding(1, 256)\n",
        "dummy_encoder = dummy_pe(dummy_points)\n",
        "dummy_encoder"
      ],
      "metadata": {
        "id": "AJbc7PIaVBM7",
        "outputId": "ff7f2e2e-9682-443c-dce4-833476a306c4",
        "colab": {
          "base_uri": "https://localhost:8080/"
        }
      },
      "execution_count": 18,
      "outputs": [
        {
          "output_type": "execute_result",
          "data": {
            "text/plain": [
              "tensor([[[-14.4193,  10.0495,  -7.8116,  ..., -15.4844, -18.0732,  -3.9566]],\n",
              "\n",
              "        [[  2.6628,  -3.5462, -23.6461,  ...,  -0.9403, -18.4375, -37.4197]],\n",
              "\n",
              "        [[-24.6397,  -1.9127, -16.4244,  ..., -17.3708, -26.0550, -14.0706]],\n",
              "\n",
              "        [[ 13.7988,  21.4612,  10.4125,  ...,  -3.2333, -17.0188,   3.9237]]])"
            ]
          },
          "metadata": {},
          "execution_count": 18
        }
      ]
    },
    {
      "cell_type": "markdown",
      "source": [
        "There are four sequences, so let’s pretend there are two mini-batches of two\n",
        "sequences each (N=2). Each sequence has a length of one (L=1 is not quite a\n",
        "sequence, I know), and their sole data points have 256 features (D=256).\n",
        "\n",
        "The figure below illustrates the difference between applying batch norm (over features/columns) and layer norm (over data points/rows).\n",
        "\n",
        "![](https://github.com/rahiakela/deep-learning-research-and-practice/blob/main/deep-learning-with-pytorch-step-by-step/Part-III-NLP/images/stacking-encoders-decoders6.png?raw=1)\n",
        "\n",
        "As we learned that the size of the mini-batch strongly impacts the\n",
        "running statistics of the batch normalization. We also learned that batch norm’s oscillating statistics may introduce a regularizing effect.\n",
        "\n",
        "None of this happens with layer normalization: It steadily delivers data points with zero mean and unit standard deviation regardless of our choice of mini-batch size or anything else.\n",
        "\n",
        "First, we’re visualizing the distribution of the positionally-encoded features that we generated."
      ],
      "metadata": {
        "id": "X6GAONEBV1sI"
      }
    },
    {
      "cell_type": "code",
      "source": [
        "fig = hist_encoding(dummy_encoder)"
      ],
      "metadata": {
        "id": "vsyYjh6aWyZd",
        "outputId": "1bedac2a-ee12-4546-c681-1c9d3fbd9829",
        "colab": {
          "base_uri": "https://localhost:8080/",
          "height": 237
        }
      },
      "execution_count": 19,
      "outputs": [
        {
          "output_type": "display_data",
          "data": {
            "text/plain": [
              "<Figure size 1500x400 with 4 Axes>"
            ],
            "image/png": "[encoded data removed]"
          },
          "metadata": {}
        }
      ]
    },
    {
      "cell_type": "markdown",
      "source": [
        "The actual range is much larger than that (like -50 to 50), and the variance is approximately the same as the dimensionality (256) as a result of the addition of positional encoding.\n",
        "\n",
        "Let’s apply layer normalization to it:"
      ],
      "metadata": {
        "id": "kCDM2zNbh0BA"
      }
    },
    {
      "cell_type": "code",
      "source": [
        "layer_normalizer = nn.LayerNorm(256)\n",
        "dummy_normed = layer_normalizer(dummy_encoder)\n",
        "dummy_normed"
      ],
      "metadata": {
        "id": "kXX099-vS_hg",
        "outputId": "e560684f-38a5-442c-e193-91fe453136b5",
        "colab": {
          "base_uri": "https://localhost:8080/"
        }
      },
      "execution_count": 20,
      "outputs": [
        {
          "output_type": "execute_result",
          "data": {
            "text/plain": [
              "tensor([[[-0.9210,  0.5911, -0.5127,  ..., -0.9868, -1.1467, -0.2744]],\n",
              "\n",
              "        [[ 0.1399, -0.2607, -1.5574,  ..., -0.0925, -1.2214, -2.4460]],\n",
              "\n",
              "        [[-1.5755, -0.1191, -1.0491,  ..., -1.1097, -1.6662, -0.8982]],\n",
              "\n",
              "        [[ 0.8643,  1.3324,  0.6575,  ..., -0.1761, -1.0183,  0.2611]]],\n",
              "       grad_fn=<NativeLayerNormBackward0>)"
            ]
          },
          "metadata": {},
          "execution_count": 20
        }
      ]
    },
    {
      "cell_type": "code",
      "source": [
        "fig = hist_layer_normed(dummy_encoder, dummy_normed)"
      ],
      "metadata": {
        "id": "mzyxLXGiiGBP",
        "outputId": "362ba7bf-c695-4cc5-9553-3ce638d58f3c",
        "colab": {
          "base_uri": "https://localhost:8080/",
          "height": 237
        }
      },
      "execution_count": 21,
      "outputs": [
        {
          "output_type": "display_data",
          "data": {
            "text/plain": [
              "<Figure size 1500x400 with 4 Axes>"
            ],
            "image/png": "[encoded data removed]"
          },
          "metadata": {}
        }
      ]
    },
    {
      "cell_type": "markdown",
      "source": [
        "Each data point has its feature values distributed with zero mean and unit\n",
        "standard deviation. Beautiful!"
      ],
      "metadata": {
        "id": "krSI3eKtiUgq"
      }
    },
    {
      "cell_type": "markdown",
      "source": [
        "###Seq2Seq Problem"
      ],
      "metadata": {
        "id": "E_v1eQ0qiU_R"
      }
    },
    {
      "cell_type": "markdown",
      "source": [
        "Let’s go back to our sequence-to-sequence problem, where the source\n",
        "sequence had two data points, each data point representing the coordinates of\n",
        "two corners.\n",
        "\n",
        "As usual, we’re adding positional encoding to it:"
      ],
      "metadata": {
        "id": "67GmUbb6iXt2"
      }
    },
    {
      "cell_type": "code",
      "source": [
        "pe = PositionalEncoding(max_len=2, d_model=2)\n",
        "\n",
        "source_seq = torch.tensor([\n",
        "    [\n",
        "        [1.0349, 0.9661],\n",
        "        [0.8055, -0.9169]\n",
        "    ]\n",
        "])\n",
        "\n",
        "source_seq_encoder = pe(source_seq)\n",
        "source_seq_encoder"
      ],
      "metadata": {
        "id": "3M_3vHJ59lOl",
        "outputId": "8af2cb9b-aa60-48a2-8200-0262225be792",
        "colab": {
          "base_uri": "https://localhost:8080/"
        }
      },
      "execution_count": 22,
      "outputs": [
        {
          "output_type": "execute_result",
          "data": {
            "text/plain": [
              "tensor([[[ 1.4636,  2.3663],\n",
              "         [ 1.9806, -0.7564]]])"
            ]
          },
          "metadata": {},
          "execution_count": 22
        }
      ]
    },
    {
      "cell_type": "markdown",
      "source": [
        "Next, we normalize it."
      ],
      "metadata": {
        "id": "Tx6S-6Rv-HEO"
      }
    },
    {
      "cell_type": "code",
      "source": [
        "norm = nn.LayerNorm(2)\n",
        "norm(source_seq_encoder)"
      ],
      "metadata": {
        "id": "8fqhODjt-GRF",
        "outputId": "ef2017df-e81e-413f-bb5a-d186e891681e",
        "colab": {
          "base_uri": "https://localhost:8080/"
        }
      },
      "execution_count": 23,
      "outputs": [
        {
          "output_type": "execute_result",
          "data": {
            "text/plain": [
              "tensor([[[-1.0000,  1.0000],\n",
              "         [ 1.0000, -1.0000]]], grad_fn=<NativeLayerNormBackward0>)"
            ]
          },
          "metadata": {},
          "execution_count": 23
        }
      ]
    },
    {
      "cell_type": "markdown",
      "source": [
        "Wait, what happened here?\n",
        "\n",
        "That’s what happens when one tries to normalize two features only: They become\n",
        "either minus one or one.\n",
        "\n",
        "Even worse, it will be the same for every data point. These\n",
        "values won’t get us anywhere, that’s for sure.\n",
        "\n",
        "We need to do better, we need…"
      ],
      "metadata": {
        "id": "nRIkxk5u-Z_3"
      }
    },
    {
      "cell_type": "markdown",
      "source": [
        "###Projections or Embeddings"
      ],
      "metadata": {
        "id": "3CV6Qp3n-kcs"
      }
    },
    {
      "cell_type": "markdown",
      "source": [
        "Sometimes projections and embeddings are used\n",
        "interchangeably. Here, though, we’re sticking with embeddings\n",
        "for categorical values and projections for numerical values.\n",
        "\n",
        "We use embeddings to get a numerical representation (a vector) for a given word or token. Since words or tokens are categorical values,\n",
        "the embedding layer works like a large lookup table: It will look up a given word or token in its keys and return the corresponding tensor.\n",
        "\n",
        "But, since we’re dealing with coordinates, that is, numerical values, we are using projections instead.\n",
        "\n",
        "A simple linear layer is all that it takes to project our pair of coordinates into a higherdimensional feature space:"
      ],
      "metadata": {
        "id": "pAHrBp98-m-n"
      }
    },
    {
      "cell_type": "code",
      "source": [
        "torch.manual_seed(11)\n",
        "\n",
        "projection_dim = 6\n",
        "linear_projection = nn.Linear(2, projection_dim)\n",
        "pe = PositionalEncoding(2, projection_dim)\n",
        "source_seq_projection = linear_projection(source_seq)\n",
        "source_seq_projection_encoder = pe(source_seq_projection)\n",
        "source_seq_projection_encoder"
      ],
      "metadata": {
        "id": "DDRI8158-RZf",
        "outputId": "99fbe5c9-ed3b-4a03-cbc7-64917b70f32d",
        "colab": {
          "base_uri": "https://localhost:8080/"
        }
      },
      "execution_count": 24,
      "outputs": [
        {
          "output_type": "execute_result",
          "data": {
            "text/plain": [
              "tensor([[[-2.0934,  1.5040,  1.8742,  0.0628,  0.3034,  2.0190],\n",
              "         [-0.8853,  2.8213,  0.5911,  2.4193, -2.5230,  0.3599]]],\n",
              "       grad_fn=<AddBackward0>)"
            ]
          },
          "metadata": {},
          "execution_count": 24
        }
      ]
    },
    {
      "cell_type": "markdown",
      "source": [
        "Now each data point in our source sequence has six features (the projected\n",
        "dimensions), and they are positionally-encoded too.\n",
        "\n",
        "Sure, this particular projection is totally random, but that won’t be the case once we add the corresponding linear\n",
        "layer to our model.\n",
        "\n",
        "It will learn a meaningful projection that, after being\n",
        "positionally-encoded, will be normalized:"
      ],
      "metadata": {
        "id": "g5DoSVoMB6SN"
      }
    },
    {
      "cell_type": "code",
      "source": [
        "norm = nn.LayerNorm(projection_dim)\n",
        "norm(source_seq_projection_encoder)"
      ],
      "metadata": {
        "id": "vS3AMsggB_ZS",
        "outputId": "f022ae0e-9ee6-43b9-8e79-192d24037e3a",
        "colab": {
          "base_uri": "https://localhost:8080/"
        }
      },
      "execution_count": 25,
      "outputs": [
        {
          "output_type": "execute_result",
          "data": {
            "text/plain": [
              "tensor([[[-1.9061,  0.6287,  0.8896, -0.3868, -0.2172,  0.9917],\n",
              "         [-0.7362,  1.2864,  0.0694,  1.0670, -1.6299, -0.0568]]],\n",
              "       grad_fn=<NativeLayerNormBackward0>)"
            ]
          },
          "metadata": {},
          "execution_count": 25
        }
      ]
    },
    {
      "cell_type": "markdown",
      "source": [
        "Problem solved! Finally, we have everything we need to build a full-blown\n",
        "Transformer!\n",
        "\n",
        "In attention, we used affine transformations inside the attention\n",
        "heads to map from input dimensions to hidden (or model)\n",
        "dimensions.\n",
        "\n",
        "Now, this change in dimensionality is being\n",
        "performed using projections directly on the input sequences\n",
        "before they are passed to the encoder and the decoder."
      ],
      "metadata": {
        "id": "lVF5OpwcCMDE"
      }
    },
    {
      "cell_type": "markdown",
      "source": [
        "##Transformer"
      ],
      "metadata": {
        "id": "wEuzuLukCiyC"
      }
    },
    {
      "cell_type": "markdown",
      "source": [],
      "metadata": {
        "id": "hntJ7zpECjcD"
      }
    }
  ]
}