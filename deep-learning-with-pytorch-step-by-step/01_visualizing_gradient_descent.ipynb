{
  "nbformat": 4,
  "nbformat_minor": 0,
  "metadata": {
    "colab": {
      "provenance": [],
      "toc_visible": true,
      "authorship_tag": "ABX9TyN0vGmKy0GGt5GifLsWdDiN",
      "include_colab_link": true
    },
    "kernelspec": {
      "name": "python3",
      "display_name": "Python 3"
    },
    "language_info": {
      "name": "python"
    }
  },
  "cells": [
    {
      "cell_type": "markdown",
      "metadata": {
        "id": "view-in-github",
        "colab_type": "text"
      },
      "source": [
        "<a href=\"https://colab.research.google.com/github/rahiakela/deep-learning-research-and-practice/blob/main/deep-learning-with-pytorch-step-by-step/01_visualizing_gradient_descent.ipynb\" target=\"_parent\"><img src=\"https://colab.research.google.com/assets/colab-badge.svg\" alt=\"Open In Colab\"/></a>"
      ]
    },
    {
      "cell_type": "markdown",
      "source": [
        "##Visualizing Gradient Descent"
      ],
      "metadata": {
        "id": "xRIgb6TQkPd-"
      }
    },
    {
      "cell_type": "markdown",
      "source": [
        "If you really understand how gradient descent works, you will also understand how\n",
        "the characteristics of your data and your choice of hyper-parameters (mini-batch\n",
        "size and learning rate, for instance) have an impact on how well and how fast the\n",
        "model training is going to be.\n",
        "\n",
        "I mean visualizing the effects of different\n",
        "settings, I mean telling a story to illustrate the concept. That’s how you develop\n",
        "intuition.\n",
        "\n",
        "That being said, I’ll cover the five basic steps you’d need to go through to use\n",
        "gradient descent. I’ll show you the corresponding Numpy code while explaining lots\n",
        "of fundamental concepts along the way."
      ],
      "metadata": {
        "id": "fa5BH79rkoDG"
      }
    },
    {
      "cell_type": "markdown",
      "source": [
        "##Setup"
      ],
      "metadata": {
        "id": "vlOMuiLfk2Li"
      }
    },
    {
      "cell_type": "code",
      "source": [
        "try:\n",
        "    import google.colab\n",
        "    import requests\n",
        "    url = 'https://raw.githubusercontent.com/dvgodoy/PyTorchStepByStep/master/config.py'\n",
        "    r = requests.get(url, allow_redirects=True)\n",
        "    open('config.py', 'wb').write(r.content)    \n",
        "except ModuleNotFoundError:\n",
        "    pass\n",
        "\n",
        "from config import *\n",
        "config_chapter0()\n",
        "# This is needed to render the plots in this chapter\n",
        "from plots.chapter0 import *"
      ],
      "metadata": {
        "id": "O2fHcTmOlAfh",
        "outputId": "8b723a8e-5c63-4091-cc54-7c870cc2fba1",
        "colab": {
          "base_uri": "https://localhost:8080/"
        }
      },
      "execution_count": 1,
      "outputs": [
        {
          "output_type": "stream",
          "name": "stdout",
          "text": [
            "Downloading files from GitHub repo to Colab...\n",
            "Finished!\n"
          ]
        }
      ]
    },
    {
      "cell_type": "code",
      "source": [
        "import numpy as np\n",
        "from sklearn.linear_model import LinearRegression\n",
        "from sklearn.preprocessing import StandardScaler"
      ],
      "metadata": {
        "id": "YJi2rTrykQbv"
      },
      "execution_count": 2,
      "outputs": []
    },
    {
      "cell_type": "code",
      "source": [
        "import warnings\n",
        "\n",
        "warnings.simplefilter(\"ignore\", UserWarning)\n",
        "warnings.simplefilter(\"ignore\", category=np.VisibleDeprecationWarning)"
      ],
      "metadata": {
        "id": "PDJT3I_udfnH"
      },
      "execution_count": 14,
      "outputs": []
    },
    {
      "cell_type": "markdown",
      "source": [
        "##Model"
      ],
      "metadata": {
        "id": "Ay77pD0UlERJ"
      }
    },
    {
      "cell_type": "markdown",
      "source": [
        "The model must be simple and familiar, so you can focus on the inner workings of gradient descent.\n",
        "\n",
        "So, I will stick with a model as simple as it can be: a linear regression with a single\n",
        "feature x!\n",
        "\n",
        "$$\n",
        "\\Large y = b + w x + \\epsilon\n",
        "$$"
      ],
      "metadata": {
        "id": "hkLIkvnqlFTM"
      }
    },
    {
      "cell_type": "markdown",
      "source": [
        "##Data Generation"
      ],
      "metadata": {
        "id": "JABV6bSclR0K"
      }
    },
    {
      "cell_type": "markdown",
      "source": [
        "In order to generate synthetic data for it, we need to\n",
        "pick values for its `parameters`. I chose `b = 1` and `w = 2`.\n",
        "\n",
        "First, let’s generate our `feature (x)`: we use Numpy's `rand` method to randomly\n",
        "generate `100 (N)` points between 0 and 1.\n",
        "\n",
        "Then, we plug our `feature(x)` and our parameters b and w into our equation to\n",
        "compute our `labels(y)`. But we need to add some Gaussian noise (epsilon) as well;otherwise, our synthetic dataset would be a perfectly straight line.\n",
        "\n"
      ],
      "metadata": {
        "id": "N29vmP56ld7Q"
      }
    },
    {
      "cell_type": "code",
      "source": [
        "np.random.seed(42)\n",
        "\n",
        "true_b = 1\n",
        "true_w = 2\n",
        "N = 100\n",
        "\n",
        "# Data Generation\n",
        "x = np.random.rand(N, 1)\n",
        "print(f\"X shape: {x.shape}\")\n",
        "epsilon = (.1 * np.random.randn(N, 1))\n",
        "\n",
        "# estimate y\n",
        "y = true_b + true_w * x + epsilon"
      ],
      "metadata": {
        "colab": {
          "base_uri": "https://localhost:8080/"
        },
        "id": "Xwwqq0I8lSfm",
        "outputId": "79fd9532-4814-463f-f7e9-5da19d4f0db8"
      },
      "execution_count": 3,
      "outputs": [
        {
          "output_type": "stream",
          "name": "stdout",
          "text": [
            "X shape: (100, 1)\n"
          ]
        }
      ]
    },
    {
      "cell_type": "markdown",
      "source": [
        "Let's split data into train and validation set."
      ],
      "metadata": {
        "id": "3e0zz7XOoATZ"
      }
    },
    {
      "cell_type": "code",
      "source": [
        "# Shuffles the indices\n",
        "idx = np.arange(N)\n",
        "np.random.shuffle(idx)\n",
        "\n",
        "# Uses first 80 random indices for train\n",
        "train_idx = idx[: int(.8 * N)]\n",
        "# Uses the remaining indices for validation\n",
        "val_idx = idx[int(.8 * N): ]\n",
        "\n",
        "# Generates train and validation sets\n",
        "x_train, y_train = x[train_idx], y[train_idx]\n",
        "x_val, y_val = x[val_idx], y[val_idx]\n",
        "\n",
        "print(x_train.shape, x_val.shape)"
      ],
      "metadata": {
        "colab": {
          "base_uri": "https://localhost:8080/"
        },
        "id": "LurE252XoFIJ",
        "outputId": "f3ffcb29-62eb-4502-e553-3e94297f1861"
      },
      "execution_count": 4,
      "outputs": [
        {
          "output_type": "stream",
          "name": "stdout",
          "text": [
            "(80, 1) (20, 1)\n"
          ]
        }
      ]
    },
    {
      "cell_type": "code",
      "source": [
        "# let's plot the training and validation set\n",
        "figure1(x_train, y_train, x_val, y_val)"
      ],
      "metadata": {
        "colab": {
          "base_uri": "https://localhost:8080/",
          "height": 502
        },
        "id": "xKG_etVRpHHT",
        "outputId": "fd5b7230-e2d6-443e-874d-86dfbff6367c"
      },
      "execution_count": 5,
      "outputs": [
        {
          "output_type": "execute_result",
          "data": {
            "text/plain": [
              "(<Figure size 864x432 with 2 Axes>,\n",
              " array([<matplotlib.axes._subplots.AxesSubplot object at 0x7fb6f7439dd0>,\n",
              "        <matplotlib.axes._subplots.AxesSubplot object at 0x7fb6f72c27d0>],\n",
              "       dtype=object))"
            ]
          },
          "metadata": {},
          "execution_count": 5
        },
        {
          "output_type": "display_data",
          "data": {
            "text/plain": [
              "<Figure size 864x432 with 2 Axes>"
            ],
            "image/png": "[encoded data removed]"
          },
          "metadata": {}
        }
      ]
    },
    {
      "cell_type": "markdown",
      "source": [
        "We know that b = 1, w = 2, but now let’s see how close we can get to the true\n",
        "values by using gradient descent and the 80 points in the training set (for training,\n",
        "N = 80)."
      ],
      "metadata": {
        "id": "SOix5pxepeXo"
      }
    },
    {
      "cell_type": "markdown",
      "source": [
        "##Step 0: Random Initialization"
      ],
      "metadata": {
        "id": "Hqpj5bhApf-7"
      }
    },
    {
      "cell_type": "markdown",
      "source": [
        "In our example, we already know the true values of the parameters, but this will\n",
        "obviously never happen in real life: if we knew the true values, why even bother to\n",
        "train a model to find them?!\n",
        "\n",
        "OK, given that we’ll never know the true values of the parameters, we need to set\n",
        "initial values for them. \n",
        "\n",
        "How do we choose them? \n",
        "\n",
        "It turns out; a random guess is as\n",
        "good as any other.\n",
        "\n",
        "For training a model, you need to randomly initialize the parameters/weights."
      ],
      "metadata": {
        "id": "w0XO0AytpkEH"
      }
    },
    {
      "cell_type": "code",
      "source": [
        "# Step 0 - Initializes parameters \"b\" and \"w\" randomly\n",
        "np.random.seed(42)\n",
        "\n",
        "b = np.random.randn(1)\n",
        "w = np.random.randn(1)\n",
        "\n",
        "print(b, w)"
      ],
      "metadata": {
        "id": "M5hlvNika0hf",
        "outputId": "fab8e993-1107-4300-b0dd-391ec2a8c36b",
        "colab": {
          "base_uri": "https://localhost:8080/"
        }
      },
      "execution_count": 6,
      "outputs": [
        {
          "output_type": "stream",
          "name": "stdout",
          "text": [
            "[0.49671415] [-0.1382643]\n"
          ]
        }
      ]
    },
    {
      "cell_type": "markdown",
      "source": [
        "##Step 1: Compute Model’s Predictions"
      ],
      "metadata": {
        "id": "UALBI-UBbwHK"
      }
    },
    {
      "cell_type": "markdown",
      "source": [
        "This is the forward pass - it simply computes the model’s predictions using the current\n",
        "values of the parameters/weights. \n",
        "\n",
        "At the very beginning, we will be producing really\n",
        "bad predictions."
      ],
      "metadata": {
        "id": "_FMeMTqdbxwm"
      }
    },
    {
      "cell_type": "code",
      "source": [
        "# Step 1 - Computes our model's predicted output - forward pass\n",
        "y_hat = b + w * x_train"
      ],
      "metadata": {
        "id": "QxZzYdwgb2w9"
      },
      "execution_count": 7,
      "outputs": []
    },
    {
      "cell_type": "code",
      "source": [
        "figure2(x_train, y_train, b, w)"
      ],
      "metadata": {
        "id": "TkfsY7nscEWp",
        "outputId": "b2660dfc-d69a-45f4-d1fe-5f6a136a36c6",
        "colab": {
          "base_uri": "https://localhost:8080/",
          "height": 468
        }
      },
      "execution_count": 8,
      "outputs": [
        {
          "output_type": "execute_result",
          "data": {
            "text/plain": [
              "(<Figure size 432x432 with 1 Axes>,\n",
              " <matplotlib.axes._subplots.AxesSubplot at 0x7fb6ec62e050>)"
            ]
          },
          "metadata": {},
          "execution_count": 8
        },
        {
          "output_type": "display_data",
          "data": {
            "text/plain": [
              "<Figure size 432x432 with 1 Axes>"
            ],
            "image/png": "[encoded data removed]"
          },
          "metadata": {}
        }
      ]
    },
    {
      "cell_type": "markdown",
      "source": [
        "##Step 2: Compute the Loss"
      ],
      "metadata": {
        "id": "MQqKxuiNcban"
      }
    },
    {
      "cell_type": "markdown",
      "source": [
        "There is a subtle but fundamental difference between error and loss.\n",
        "\n",
        "The error is the difference between the actual value (label) and the predicted\n",
        "value computed for a single data point.\n",
        "\n",
        "So, for a given `i-th` point (from our dataset\n",
        "of `N` points), its error is:\n",
        "\n",
        "$$error_i = \\hat y_i - y_i$$\n",
        "\n",
        "The error of the first point in our dataset (`i = 0`) can be represented like this:"
      ],
      "metadata": {
        "id": "JJTUu_F5cdDt"
      }
    },
    {
      "cell_type": "code",
      "source": [
        "figure3(x_train, y_train, b, w)"
      ],
      "metadata": {
        "id": "qiSRnkitdKT0",
        "outputId": "41f85843-f161-4d06-8fed-76104dd77623",
        "colab": {
          "base_uri": "https://localhost:8080/",
          "height": 468
        }
      },
      "execution_count": 15,
      "outputs": [
        {
          "output_type": "execute_result",
          "data": {
            "text/plain": [
              "(<Figure size 432x432 with 1 Axes>,\n",
              " <matplotlib.axes._subplots.AxesSubplot at 0x7fb6ec0a0150>)"
            ]
          },
          "metadata": {},
          "execution_count": 15
        },
        {
          "output_type": "display_data",
          "data": {
            "text/plain": [
              "<Figure size 432x432 with 1 Axes>"
            ],
            "image/png": "[encoded data removed]"
          },
          "metadata": {}
        }
      ]
    },
    {
      "cell_type": "markdown",
      "source": [
        "The loss, on the other hand, is some sort of aggregation of errors for a set of data\n",
        "points.\n",
        "\n",
        "It seems rather obvious to compute the loss for all (N) data points, right?\n",
        "\n",
        "Although it will surely yield a more stable path from the initial random\n",
        "parameters to the parameters that minimize the loss, it will also surely be slow.\n",
        "\n",
        "For a regression problem, the loss is given by the Mean Squared Error (MSE), that\n",
        "is, the average of all squared errors, that is, the average of all squared differences\n",
        "between labels (`y`) and predictions (`b + wx`).\n",
        "\n",
        "$$\n",
        "\\Large\n",
        "\\begin{aligned}\n",
        "\\text{MSE} &= \\frac{1}{n} \\sum_{i=1}^n{\\text{error}_i}^2\n",
        "\\\\\n",
        "&= \\frac{1}{n} \\sum_{i=1}^n{(\\hat{y_i} - y_i)}^2\n",
        "\\\\\n",
        "&= \\frac{1}{n} \\sum_{i=1}^n{(b + w x_i - y_i)}^2\n",
        "\\end{aligned}\n",
        "$$\n",
        "\n",
        "Here, we are using all data points of the training set to compute the\n",
        "loss, so `n = N = 80`, meaning we are indeed performing batch gradient descent."
      ],
      "metadata": {
        "id": "4Da5PEo3ep9x"
      }
    },
    {
      "cell_type": "code",
      "source": [
        "# Step 2 - Computing the loss\n",
        "\n",
        "# We are using ALL data points, so this is BATCH gradient descent. How wrong is our model? That's the error!\n",
        "error = (y_hat - y_train)\n",
        "\n",
        "# It is a regression, so it computes mean squared error (MSE)\n",
        "loss = (error ** 2).mean()\n",
        "print(loss)"
      ],
      "metadata": {
        "id": "aID0JA-TgY7H",
        "outputId": "e1980ede-26ad-409e-ed69-e734e4220f43",
        "colab": {
          "base_uri": "https://localhost:8080/"
        }
      },
      "execution_count": 16,
      "outputs": [
        {
          "output_type": "stream",
          "name": "stdout",
          "text": [
            "2.7421577700550976\n"
          ]
        }
      ]
    },
    {
      "cell_type": "markdown",
      "source": [
        "###Loss surface"
      ],
      "metadata": {
        "id": "5EiH3uhwhPpm"
      }
    },
    {
      "cell_type": "markdown",
      "source": [],
      "metadata": {
        "id": "8jpJrYDphQpG"
      }
    }
  ]
}