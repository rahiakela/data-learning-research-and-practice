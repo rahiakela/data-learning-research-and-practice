{
  "nbformat": 4,
  "nbformat_minor": 0,
  "metadata": {
    "colab": {
      "provenance": [],
      "toc_visible": true,
      "authorship_tag": "ABX9TyPCwH9rMM8s/QjSufWJ/6qY",
      "include_colab_link": true
    },
    "kernelspec": {
      "name": "python3",
      "display_name": "Python 3"
    },
    "language_info": {
      "name": "python"
    }
  },
  "cells": [
    {
      "cell_type": "markdown",
      "metadata": {
        "id": "view-in-github",
        "colab_type": "text"
      },
      "source": [
        "<a href=\"https://colab.research.google.com/github/rahiakela/deep-learning-research-and-practice/blob/main/deep-learning-with-pytorch-step-by-step/01_visualizing_gradient_descent.ipynb\" target=\"_parent\"><img src=\"https://colab.research.google.com/assets/colab-badge.svg\" alt=\"Open In Colab\"/></a>"
      ]
    },
    {
      "cell_type": "markdown",
      "source": [
        "##Visualizing Gradient Descent"
      ],
      "metadata": {
        "id": "xRIgb6TQkPd-"
      }
    },
    {
      "cell_type": "markdown",
      "source": [
        "If you really understand how gradient descent works, you will also understand how\n",
        "the characteristics of your data and your choice of hyper-parameters (mini-batch\n",
        "size and learning rate, for instance) have an impact on how well and how fast the\n",
        "model training is going to be.\n",
        "\n",
        "I mean visualizing the effects of different\n",
        "settings, I mean telling a story to illustrate the concept. That’s how you develop\n",
        "intuition.\n",
        "\n",
        "That being said, I’ll cover the five basic steps you’d need to go through to use\n",
        "gradient descent. I’ll show you the corresponding Numpy code while explaining lots\n",
        "of fundamental concepts along the way."
      ],
      "metadata": {
        "id": "fa5BH79rkoDG"
      }
    },
    {
      "cell_type": "markdown",
      "source": [
        "##Setup"
      ],
      "metadata": {
        "id": "vlOMuiLfk2Li"
      }
    },
    {
      "cell_type": "code",
      "source": [
        "try:\n",
        "    import google.colab\n",
        "    import requests\n",
        "    url = 'https://raw.githubusercontent.com/dvgodoy/PyTorchStepByStep/master/config.py'\n",
        "    r = requests.get(url, allow_redirects=True)\n",
        "    open('config.py', 'wb').write(r.content)    \n",
        "except ModuleNotFoundError:\n",
        "    pass\n",
        "\n",
        "from config import *\n",
        "config_chapter0()\n",
        "# This is needed to render the plots in this chapter\n",
        "from plots.chapter0 import *"
      ],
      "metadata": {
        "id": "O2fHcTmOlAfh"
      },
      "execution_count": null,
      "outputs": []
    },
    {
      "cell_type": "code",
      "source": [
        "import numpy as np\n",
        "from sklearn.linear_model import LinearRegression\n",
        "from sklearn.preprocessing import StandardScaler"
      ],
      "metadata": {
        "id": "YJi2rTrykQbv"
      },
      "execution_count": 2,
      "outputs": []
    },
    {
      "cell_type": "markdown",
      "source": [
        "##Model"
      ],
      "metadata": {
        "id": "Ay77pD0UlERJ"
      }
    },
    {
      "cell_type": "markdown",
      "source": [
        "The model must be simple and familiar, so you can focus on the inner workings of gradient descent.\n",
        "\n",
        "So, I will stick with a model as simple as it can be: a linear regression with a single\n",
        "feature x!\n",
        "\n",
        "$$\n",
        "\\Large y = b + w x + \\epsilon\n",
        "$$"
      ],
      "metadata": {
        "id": "hkLIkvnqlFTM"
      }
    },
    {
      "cell_type": "markdown",
      "source": [
        "##Data Generation"
      ],
      "metadata": {
        "id": "JABV6bSclR0K"
      }
    },
    {
      "cell_type": "markdown",
      "source": [
        "In order to generate synthetic data for it, we need to\n",
        "pick values for its `parameters`. I chose `b = 1` and `w = 2`.\n",
        "\n",
        "First, let’s generate our `feature (x)`: we use Numpy's `rand` method to randomly\n",
        "generate `100 (N)` points between 0 and 1.\n",
        "\n",
        "Then, we plug our `feature(x)` and our parameters b and w into our equation to\n",
        "compute our `labels(y)`. But we need to add some Gaussian noise (epsilon) as well;otherwise, our synthetic dataset would be a perfectly straight line.\n",
        "\n"
      ],
      "metadata": {
        "id": "N29vmP56ld7Q"
      }
    },
    {
      "cell_type": "code",
      "source": [
        "np.random.seed(42)\n",
        "\n",
        "true_b = 1\n",
        "true_w = 2\n",
        "N = 100\n",
        "\n",
        "# Data Generation\n",
        "x = np.random.rand(N, 1)\n",
        "print(f\"X shape: {x.shape}\")\n",
        "epsilon = (.1 * np.random.randn(N, 1))\n",
        "\n",
        "# estimate y\n",
        "y = true_b + true_w * x + epsilon"
      ],
      "metadata": {
        "colab": {
          "base_uri": "https://localhost:8080/"
        },
        "id": "Xwwqq0I8lSfm",
        "outputId": "acbd6fe0-03a1-4bc2-804f-e5a25bf3508f"
      },
      "execution_count": 4,
      "outputs": [
        {
          "output_type": "stream",
          "name": "stdout",
          "text": [
            "X shape: (100, 1)\n"
          ]
        }
      ]
    },
    {
      "cell_type": "markdown",
      "source": [
        "Let's split data into train and validation set."
      ],
      "metadata": {
        "id": "3e0zz7XOoATZ"
      }
    },
    {
      "cell_type": "code",
      "source": [
        "# Shuffles the indices\n",
        "idx = np.arange(N)\n",
        "np.random.shuffle(idx)\n",
        "\n",
        "# Uses first 80 random indices for train\n",
        "train_idx = idx[: int(.8 * N)]\n",
        "# Uses the remaining indices for validation\n",
        "val_idx = idx[int(.8 * N): ]\n",
        "\n",
        "# Generates train and validation sets\n",
        "x_train, y_train = x[train_idx], y[train_idx]\n",
        "x_val, y_val = x[val_idx], y[val_idx]\n",
        "\n",
        "print(x_train.shape, x_val.shape)"
      ],
      "metadata": {
        "colab": {
          "base_uri": "https://localhost:8080/"
        },
        "id": "LurE252XoFIJ",
        "outputId": "cd13788c-5835-4ac9-ebf7-dd22ec778cfd"
      },
      "execution_count": 5,
      "outputs": [
        {
          "output_type": "stream",
          "name": "stdout",
          "text": [
            "(80, 1) (20, 1)\n"
          ]
        }
      ]
    },
    {
      "cell_type": "code",
      "source": [
        "# let's plot the training and validation set\n",
        "figure1(x_train, y_train, x_val, y_val)"
      ],
      "metadata": {
        "colab": {
          "base_uri": "https://localhost:8080/",
          "height": 502
        },
        "id": "xKG_etVRpHHT",
        "outputId": "3873e6ac-c0c8-4da9-8816-a876a4f6129b"
      },
      "execution_count": 6,
      "outputs": [
        {
          "output_type": "execute_result",
          "data": {
            "text/plain": [
              "(<Figure size 864x432 with 2 Axes>,\n",
              " array([<matplotlib.axes._subplots.AxesSubplot object at 0x7f9bbf245690>,\n",
              "        <matplotlib.axes._subplots.AxesSubplot object at 0x7f9bbef610d0>],\n",
              "       dtype=object))"
            ]
          },
          "metadata": {},
          "execution_count": 6
        },
        {
          "output_type": "display_data",
          "data": {
            "text/plain": [
              "<Figure size 864x432 with 2 Axes>"
            ],
            "image/png": "[encoded data removed]"
          },
          "metadata": {}
        }
      ]
    },
    {
      "cell_type": "markdown",
      "source": [
        "We know that b = 1, w = 2, but now let’s see how close we can get to the true\n",
        "values by using gradient descent and the 80 points in the training set (for training,\n",
        "N = 80)."
      ],
      "metadata": {
        "id": "SOix5pxepeXo"
      }
    },
    {
      "cell_type": "markdown",
      "source": [
        "##Step 0: Random Initialization"
      ],
      "metadata": {
        "id": "Hqpj5bhApf-7"
      }
    },
    {
      "cell_type": "markdown",
      "source": [],
      "metadata": {
        "id": "w0XO0AytpkEH"
      }
    }
  ]
}