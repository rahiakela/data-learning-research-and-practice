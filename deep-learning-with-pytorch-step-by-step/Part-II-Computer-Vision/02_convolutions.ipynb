{
  "nbformat": 4,
  "nbformat_minor": 0,
  "metadata": {
    "colab": {
      "provenance": [],
      "toc_visible": true,
      "authorship_tag": "ABX9TyPMzlfjqM+ZeLKY+CxAdets",
      "include_colab_link": true
    },
    "kernelspec": {
      "name": "python3",
      "display_name": "Python 3"
    },
    "language_info": {
      "name": "python"
    }
  },
  "cells": [
    {
      "cell_type": "markdown",
      "metadata": {
        "id": "view-in-github",
        "colab_type": "text"
      },
      "source": [
        "<a href=\"https://colab.research.google.com/github/rahiakela/deep-learning-research-and-practice/blob/main/deep-learning-with-pytorch-step-by-step/Part-II-Computer-Vision/02_convolutions.ipynb\" target=\"_parent\"><img src=\"https://colab.research.google.com/assets/colab-badge.svg\" alt=\"Open In Colab\"/></a>"
      ]
    },
    {
      "cell_type": "markdown",
      "source": [
        "##Convolutions"
      ],
      "metadata": {
        "id": "8A9MVvQ5_T5J"
      }
    },
    {
      "cell_type": "markdown",
      "source": [
        "A convolution is \"a mathematical operation on two functions (`f` and `g`) that produces a third function (`f * g`) expressing how the shape of one is modified by the other.\"\n",
        "\n",
        "In image processing, a convolution matrix is also called a kernel or filter. \n",
        "\n",
        "Typical image processing operations—like blurring, sharpening, edge detection, and more, are\n",
        "accomplished by performing a convolution between a kernel and an image."
      ],
      "metadata": {
        "id": "7K_rxSuE_Uhd"
      }
    },
    {
      "cell_type": "markdown",
      "source": [
        "##Setup"
      ],
      "metadata": {
        "id": "BebAYVWo_VlN"
      }
    },
    {
      "cell_type": "code",
      "source": [
        "from IPython.core.display import display, HTML\n",
        "display(HTML(\"<style>.container { width:80% !important; }</style>\"))"
      ],
      "metadata": {
        "id": "iiQ_qcSp_Uq6",
        "outputId": "ffc4a1bf-f951-4bb5-99a4-df3021143bad",
        "colab": {
          "base_uri": "https://localhost:8080/",
          "height": 17
        }
      },
      "execution_count": 1,
      "outputs": [
        {
          "output_type": "display_data",
          "data": {
            "text/plain": [
              "<IPython.core.display.HTML object>"
            ],
            "text/html": [
              "<style>.container { width:80% !important; }</style>"
            ]
          },
          "metadata": {}
        }
      ]
    },
    {
      "cell_type": "code",
      "source": [
        "try:\n",
        "    import google.colab\n",
        "    import requests\n",
        "    url = 'https://raw.githubusercontent.com/dvgodoy/PyTorchStepByStep/master/config.py'\n",
        "    r = requests.get(url, allow_redirects=True)\n",
        "    open('config.py', 'wb').write(r.content)    \n",
        "except ModuleNotFoundError:\n",
        "    pass\n",
        "\n",
        "from config import *\n",
        "config_chapter5()\n",
        "# This is needed to render the plots in this chapter\n",
        "from plots.chapter5 import *"
      ],
      "metadata": {
        "id": "6EwSrmrQ_cxf",
        "outputId": "81a1b759-d96b-40e6-978d-4c687883d1cb",
        "colab": {
          "base_uri": "https://localhost:8080/"
        }
      },
      "execution_count": 2,
      "outputs": [
        {
          "output_type": "stream",
          "name": "stdout",
          "text": [
            "Downloading files from GitHub repo to Colab...\n",
            "Finished!\n"
          ]
        }
      ]
    },
    {
      "cell_type": "code",
      "source": [
        "import random\n",
        "import numpy as np\n",
        "from PIL import Image\n",
        "\n",
        "import torch\n",
        "import torch.optim as optim\n",
        "import torch.nn as nn\n",
        "import torch.nn.functional as F\n",
        "\n",
        "from torch.utils.data import DataLoader, Dataset\n",
        "from torchvision.transforms import Compose, Normalize\n",
        "\n",
        "from data_generation.image_classification import generate_dataset\n",
        "from helpers import index_splitter, make_balanced_sampler\n",
        "from stepbystep.v1 import StepByStep"
      ],
      "metadata": {
        "id": "ZNIlTCW9_gBk"
      },
      "execution_count": 3,
      "outputs": []
    },
    {
      "cell_type": "markdown",
      "source": [
        "## Filter / Kernel"
      ],
      "metadata": {
        "id": "Rsnr8thUATxN"
      }
    },
    {
      "cell_type": "markdown",
      "source": [
        "Usually, the filters are\n",
        "small square matrices. The convolution itself is performed by applying the filter on\n",
        "the image repeatedly. \n",
        "\n",
        "![](https://github.com/rahiakela/deep-learning-research-and-practice/blob/main/deep-learning-with-pytorch-step-by-step/Part-II-Computer-Vision/images/conv1.png?raw=1)\n",
        "\n",
        "That’s the region to which the filter is being applied and is called the\n",
        "receptive field, drawing an analogy to the way human vision works.\n",
        "\n",
        "Let’s try a concrete example to make it more clear."
      ],
      "metadata": {
        "id": "xHjtaGl4ETM0"
      }
    },
    {
      "cell_type": "code",
      "source": [
        "single = np.array([\n",
        "  [ # batch dim\n",
        "      [ # channel dim\n",
        "          [5, 0, 8, 7, 8, 1], # height and width dim\n",
        "          [1, 9, 5, 0, 7, 7],\n",
        "          [6, 0, 2, 4, 6, 6],\n",
        "          [9, 7, 6, 6, 8, 4],\n",
        "          [8, 3, 8, 5, 1, 3],\n",
        "          [7, 2, 7, 0, 1, 0]\n",
        "      ]\n",
        "  ]\n",
        "])\n",
        "single.shape"
      ],
      "metadata": {
        "id": "jPyifdt-AUSX",
        "outputId": "4a111fd1-9c10-4151-d30f-5da6bc6fc9a4",
        "colab": {
          "base_uri": "https://localhost:8080/"
        }
      },
      "execution_count": 4,
      "outputs": [
        {
          "output_type": "execute_result",
          "data": {
            "text/plain": [
              "(1, 1, 6, 6)"
            ]
          },
          "metadata": {},
          "execution_count": 4
        }
      ]
    },
    {
      "cell_type": "code",
      "source": [
        "identity = np.array([\n",
        "    [\n",
        "        [\n",
        "            [0, 0, 0],\n",
        "            [0, 1, 0],\n",
        "            [0, 0, 0]\n",
        "        ]\n",
        "    ]\n",
        "])\n",
        "identity.shape"
      ],
      "metadata": {
        "id": "oiO3F9UGFO9G",
        "outputId": "09863964-a045-4458-c1e0-688092fff925",
        "colab": {
          "base_uri": "https://localhost:8080/"
        }
      },
      "execution_count": 5,
      "outputs": [
        {
          "output_type": "execute_result",
          "data": {
            "text/plain": [
              "(1, 1, 3, 3)"
            ]
          },
          "metadata": {},
          "execution_count": 5
        }
      ]
    },
    {
      "cell_type": "markdown",
      "source": [
        "##Convolving"
      ],
      "metadata": {
        "id": "KkW-hK_CFhg6"
      }
    },
    {
      "cell_type": "markdown",
      "source": [
        "Convulution performs an element-wise multiplication between the\n",
        "two, region and filter, and adds everything up.\n",
        "\n",
        "![](https://github.com/rahiakela/deep-learning-research-and-practice/blob/main/deep-learning-with-pytorch-step-by-step/Part-II-Computer-Vision/images/conv2.png?raw=1)"
      ],
      "metadata": {
        "id": "EUxO8zMfFkXw"
      }
    },
    {
      "cell_type": "code",
      "source": [
        "region = single[:, :, 0:3, 0:3]\n",
        "filtered_region = region * identity\n",
        "total = filtered_region.sum()\n",
        "total"
      ],
      "metadata": {
        "id": "CVEwetTtF1H2",
        "outputId": "c7a9d668-ec15-476a-8880-7506a191399e",
        "colab": {
          "base_uri": "https://localhost:8080/"
        }
      },
      "execution_count": 6,
      "outputs": [
        {
          "output_type": "execute_result",
          "data": {
            "text/plain": [
              "9"
            ]
          },
          "metadata": {},
          "execution_count": 6
        }
      ]
    },
    {
      "cell_type": "markdown",
      "source": [
        "Doing a convolution produces an image with a\n",
        "reduced size.\n",
        "\n",
        "![](https://github.com/rahiakela/deep-learning-research-and-practice/blob/main/deep-learning-with-pytorch-step-by-step/Part-II-Computer-Vision/images/conv3.png?raw=1)"
      ],
      "metadata": {
        "id": "X69C4K0gGbWj"
      }
    },
    {
      "cell_type": "markdown",
      "source": [
        "## Moving Around"
      ],
      "metadata": {
        "id": "2CYbWbW-HxNt"
      }
    },
    {
      "cell_type": "markdown",
      "source": [
        "Next, we move the region one step to the right; that is, we change the receptive\n",
        "field and apply the filter again.\n",
        "\n",
        "![](https://github.com/rahiakela/deep-learning-research-and-practice/blob/main/deep-learning-with-pytorch-step-by-step/Part-II-Computer-Vision/images/stride1.png?raw=1)\n",
        "\n",
        "In code, it means we’re changing the slice of the input image:"
      ],
      "metadata": {
        "id": "B-uOhu84IWU0"
      }
    },
    {
      "cell_type": "code",
      "source": [
        "new_region = single[:, :, 0:3, (0+1):(3+1)]"
      ],
      "metadata": {
        "id": "UN7eF6XnGotK"
      },
      "execution_count": 7,
      "outputs": []
    },
    {
      "cell_type": "markdown",
      "source": [
        "But the operation remains the same: First, an element-wise multiplication, and\n",
        "then adding up the elements of the resulting matrix.\n",
        "\n",
        "![](https://github.com/rahiakela/deep-learning-research-and-practice/blob/main/deep-learning-with-pytorch-step-by-step/Part-II-Computer-Vision/images/conv5.png?raw=1)"
      ],
      "metadata": {
        "id": "p801DPVnJLI9"
      }
    },
    {
      "cell_type": "code",
      "source": [
        "new_filtered_region = new_region * identity\n",
        "new_total = new_filtered_region.sum()\n",
        "new_total"
      ],
      "metadata": {
        "id": "tu1Xmj6HJOyX",
        "outputId": "79622447-de57-4155-acbe-82e0ffaf4f64",
        "colab": {
          "base_uri": "https://localhost:8080/"
        }
      },
      "execution_count": 8,
      "outputs": [
        {
          "output_type": "execute_result",
          "data": {
            "text/plain": [
              "5"
            ]
          },
          "metadata": {},
          "execution_count": 8
        }
      ]
    },
    {
      "cell_type": "markdown",
      "source": [
        "Great! We have a second pixel value to add to our resulting image.\n",
        "\n",
        "![](https://github.com/rahiakela/deep-learning-research-and-practice/blob/main/deep-learning-with-pytorch-step-by-step/Part-II-Computer-Vision/images/conv6.png?raw=1)\n",
        "\n",
        "We can keep moving the gray region to the right until we can’t move it anymore.\n",
        "\n",
        "![](https://github.com/rahiakela/deep-learning-research-and-practice/blob/main/deep-learning-with-pytorch-step-by-step/Part-II-Computer-Vision/images/conv7.png?raw=1)\n",
        "\n",
        "The fourth step to the right will actually place the region partially outside the\n",
        "input image."
      ],
      "metadata": {
        "id": "N_zfUbc4KUzh"
      }
    },
    {
      "cell_type": "code",
      "source": [
        "last_horizontal_region = single[:, :, 0:3, (0+4):(3+4)]"
      ],
      "metadata": {
        "id": "g8r2NNINKeUI"
      },
      "execution_count": 9,
      "outputs": []
    },
    {
      "cell_type": "markdown",
      "source": [
        "The selected region does not match the shape of the filter anymore. \n",
        "\n",
        "So, if we try to\n",
        "perform the element-wise multiplication, it fails:"
      ],
      "metadata": {
        "id": "XP8Uby8_K4nm"
      }
    },
    {
      "cell_type": "code",
      "source": [
        "try:\n",
        "  last_horizontal_region * identity\n",
        "except Exception as exp:\n",
        "  print(exp)"
      ],
      "metadata": {
        "id": "zcWMNoMCK5w_",
        "outputId": "025026a1-48e3-4e9d-d904-de7600277054",
        "colab": {
          "base_uri": "https://localhost:8080/"
        }
      },
      "execution_count": 10,
      "outputs": [
        {
          "output_type": "stream",
          "name": "stdout",
          "text": [
            "operands could not be broadcast together with shapes (1,1,3,2) (1,1,3,3) \n"
          ]
        }
      ]
    },
    {
      "cell_type": "markdown",
      "source": [
        "##Shape"
      ],
      "metadata": {
        "id": "jBkcwd9cLRHP"
      }
    },
    {
      "cell_type": "markdown",
      "source": [
        "Next, we go back to the left side and move down one step. If we repeat the\n",
        "operation, covering all valid regions, we’ll end up with a resulting image that is\n",
        "smaller (on the right).\n",
        "\n",
        "![](https://github.com/rahiakela/deep-learning-research-and-practice/blob/main/deep-learning-with-pytorch-step-by-step/Part-II-Computer-Vision/images/conv8.png?raw=1)\n",
        "\n",
        "How much smaller is it going to be?\n",
        "\n",
        "It depends on the size of the filter.\n",
        "\n",
        ">The larger the filter, the smaller the resulting image.\n",
        "\n",
        "Since applying a filter always produces a single value, the reduction is equal to the\n",
        "filter size minus one.\n",
        "\n",
        "$$\n",
        "\\Large\n",
        "(h_i, w_i) * (h_f, w_f) = (h_i - (h_f - 1), w_i - (w_f - 1))\n",
        "$$\n",
        "\n",
        "If we assume the filter is a square matrix of size f, we can simplify the expression\n",
        "above to:\n",
        "\n",
        "$$\n",
        "\\Large\n",
        "(h_i, w_i) * f = (h_i - f + 1, w_i - f + 1)\n",
        "$$\n",
        "\n",
        "But I’d like to keep the image size, is it possible?\n",
        "\n",
        "Sure it is! Padding comes to our rescue in this case."
      ],
      "metadata": {
        "id": "lhKlTPhcLR-m"
      }
    },
    {
      "cell_type": "markdown",
      "source": [
        "##Convolving in PyTorch"
      ],
      "metadata": {
        "id": "iZdPF3vJSJNm"
      }
    },
    {
      "cell_type": "markdown",
      "source": [
        "Now that we know how a convolution works, let’s try it out using PyTorch."
      ],
      "metadata": {
        "id": "svvUMTDGSKHX"
      }
    },
    {
      "cell_type": "code",
      "source": [
        "# convert our image and filter to tensors\n",
        "image = torch.as_tensor(single).float()\n",
        "kernel = torch.as_tensor(identity).float()"
      ],
      "metadata": {
        "id": "FpDNP9utXtc6"
      },
      "execution_count": 11,
      "outputs": []
    },
    {
      "cell_type": "markdown",
      "source": [
        "Just like the activation functions, convolutions come in two\n",
        "flavors: functional and module. \n",
        "\n",
        "There is a fundamental difference between the\n",
        "two, though: The functional convolution takes the kernel / filter as an argument\n",
        "while the module has (learnable) weights to represent the kernel / filter.\n",
        "\n",
        "Let’s use the functional convolution, `F.conv2d()`, to apply the identity filter to our\n",
        "input image."
      ],
      "metadata": {
        "id": "7XxFSecQYQao"
      }
    },
    {
      "cell_type": "code",
      "source": [
        "convolved = F.conv2d(image, kernel, stride=1)\n",
        "convolved"
      ],
      "metadata": {
        "id": "Fm6TCTCpYfRF",
        "outputId": "b9969572-45cf-4a93-f5ae-4aa7d71a4609",
        "colab": {
          "base_uri": "https://localhost:8080/"
        }
      },
      "execution_count": 12,
      "outputs": [
        {
          "output_type": "execute_result",
          "data": {
            "text/plain": [
              "tensor([[[[9., 5., 0., 7.],\n",
              "          [0., 2., 4., 6.],\n",
              "          [7., 6., 6., 8.],\n",
              "          [3., 8., 5., 1.]]]])"
            ]
          },
          "metadata": {},
          "execution_count": 12
        }
      ]
    },
    {
      "cell_type": "markdown",
      "source": [
        "Now, let’s turn our attention to PyTorch’s convolution module, `nn.Conv2d`."
      ],
      "metadata": {
        "id": "2jPbCKifZuGU"
      }
    },
    {
      "cell_type": "code",
      "source": [
        "conv = nn.Conv2d(in_channels=1, out_channels=1, kernel_size=3, stride=1)\n",
        "conv(image)"
      ],
      "metadata": {
        "id": "UxDu6pa1ZwRu",
        "outputId": "8871279a-315a-4984-d4fc-af5f4a6c6ee1",
        "colab": {
          "base_uri": "https://localhost:8080/"
        }
      },
      "execution_count": 13,
      "outputs": [
        {
          "output_type": "execute_result",
          "data": {
            "text/plain": [
              "tensor([[[[ 5.5668,  2.5258,  4.1219,  2.1529],\n",
              "          [-1.4500,  0.0915,  2.2717,  1.3042],\n",
              "          [ 2.3418,  0.8555,  2.8132,  4.1887],\n",
              "          [ 4.4178,  3.6794,  4.0142,  3.3932]]]],\n",
              "       grad_fn=<ConvolutionBackward0>)"
            ]
          },
          "metadata": {},
          "execution_count": 13
        }
      ]
    },
    {
      "cell_type": "markdown",
      "source": [
        "These results are gibberish now because the convolutional module randomly initializes the weights representing\n",
        "the kernel / filter.\n",
        "\n",
        "That’s the whole point of the convolutional module: It will learn\n",
        "the kernel / filter on its own.\n",
        "\n",
        "In traditional computer vision, people would develop different\n",
        "filters for different purposes: blurring, sharpening, edge\n",
        "detection, and so on.\n",
        "\n",
        "Can we tell it to learn multiple filters at once?"
      ],
      "metadata": {
        "id": "0mRxitR_aIFf"
      }
    },
    {
      "cell_type": "code",
      "source": [
        "conv_multiple = nn.Conv2d(in_channels=1, out_channels=2, kernel_size=3, stride=1)\n",
        "conv_multiple(image)"
      ],
      "metadata": {
        "id": "-tkVCkuuasJi",
        "outputId": "0a96c55e-6c1a-4f3f-8d1e-fb59789aa6ba",
        "colab": {
          "base_uri": "https://localhost:8080/"
        }
      },
      "execution_count": 14,
      "outputs": [
        {
          "output_type": "execute_result",
          "data": {
            "text/plain": [
              "tensor([[[[ 0.8543, -5.3582, -7.2339, -2.1029],\n",
              "          [-5.3173, -2.1442, -1.7959, -3.8567],\n",
              "          [-0.7031, -3.0312, -2.7891, -2.3849],\n",
              "          [-5.3021, -4.6765, -4.2325, -5.8475]],\n",
              "\n",
              "         [[ 0.6521, -0.2882, -0.1455, -1.9183],\n",
              "          [ 1.5308,  0.3886,  2.5522, -0.3429],\n",
              "          [ 2.4012,  0.3997, -0.3998, -0.4802],\n",
              "          [ 0.5538, -2.3790,  0.5912, -2.2794]]]],\n",
              "       grad_fn=<ConvolutionBackward0>)"
            ]
          },
          "metadata": {},
          "execution_count": 14
        }
      ]
    },
    {
      "cell_type": "code",
      "source": [
        "conv_multiple.weight"
      ],
      "metadata": {
        "id": "ToKEQ1v1a_fp",
        "outputId": "a8e8fe52-a1eb-4248-ede0-1476c7a91982",
        "colab": {
          "base_uri": "https://localhost:8080/"
        }
      },
      "execution_count": 15,
      "outputs": [
        {
          "output_type": "execute_result",
          "data": {
            "text/plain": [
              "Parameter containing:\n",
              "tensor([[[[-0.1966, -0.2939, -0.2612],\n",
              "          [-0.3066,  0.2906, -0.0191],\n",
              "          [ 0.2014, -0.2849,  0.0961]]],\n",
              "\n",
              "\n",
              "        [[[-0.0235, -0.2585,  0.1286],\n",
              "          [ 0.0589, -0.1064, -0.1864],\n",
              "          [ 0.2052, -0.0042,  0.2749]]]], requires_grad=True)"
            ]
          },
          "metadata": {},
          "execution_count": 15
        }
      ]
    },
    {
      "cell_type": "markdown",
      "source": [
        "We can also force a convolutional module to use a particular filter by setting its weights."
      ],
      "metadata": {
        "id": "T3e8p3TVdKkN"
      }
    },
    {
      "cell_type": "code",
      "source": [
        "with torch.no_grad():\n",
        "  conv.weight[0] = kernel\n",
        "  conv.bias[0] = 0\n",
        "\n",
        "conv(image)"
      ],
      "metadata": {
        "id": "uzMNjIh6dMBq",
        "outputId": "16ae6807-ec75-4301-9622-db31510126b2",
        "colab": {
          "base_uri": "https://localhost:8080/"
        }
      },
      "execution_count": 16,
      "outputs": [
        {
          "output_type": "execute_result",
          "data": {
            "text/plain": [
              "tensor([[[[9., 5., 0., 7.],\n",
              "          [0., 2., 4., 6.],\n",
              "          [7., 6., 6., 8.],\n",
              "          [3., 8., 5., 1.]]]], grad_fn=<ConvolutionBackward0>)"
            ]
          },
          "metadata": {},
          "execution_count": 16
        }
      ]
    },
    {
      "cell_type": "code",
      "source": [
        "conv.weight"
      ],
      "metadata": {
        "id": "b5TEqL4ud8zW",
        "outputId": "7415556d-f2c3-448a-bc57-575a503b1f00",
        "colab": {
          "base_uri": "https://localhost:8080/"
        }
      },
      "execution_count": 17,
      "outputs": [
        {
          "output_type": "execute_result",
          "data": {
            "text/plain": [
              "Parameter containing:\n",
              "tensor([[[[0., 0., 0.],\n",
              "          [0., 1., 0.],\n",
              "          [0., 0., 0.]]]], requires_grad=True)"
            ]
          },
          "metadata": {},
          "execution_count": 17
        }
      ]
    },
    {
      "cell_type": "markdown",
      "source": [
        "Setting the weights to get specific filters is at the heart of\n",
        "transfer learning. \n",
        "\n",
        "Someone else trained a model, and that model\n",
        "learned lots of useful filters, so we don’t have to learn them\n",
        "again. We can set the corresponding weights and go from there."
      ],
      "metadata": {
        "id": "5gYV5KxYeIWJ"
      }
    },
    {
      "cell_type": "markdown",
      "source": [
        "##Striding"
      ],
      "metadata": {
        "id": "t9HI8NnZeKMm"
      }
    },
    {
      "cell_type": "markdown",
      "source": [
        "Let’s try a stride of two for a change and see what happens to the resulting image.\n",
        "\n",
        "![](https://github.com/rahiakela/deep-learning-research-and-practice/blob/main/deep-learning-with-pytorch-step-by-step/Part-II-Computer-Vision/images/strider2.png?raw=1)\n",
        "\n",
        "The resulting image, after the only four valid operations, looks like this.\n",
        "\n",
        "![](https://github.com/rahiakela/deep-learning-research-and-practice/blob/main/deep-learning-with-pytorch-step-by-step/Part-II-Computer-Vision/images/strider3.png?raw=1)\n",
        "\n",
        "Also, notice that using a larger stride made the shape of the resulting image even smaller.\n",
        "\n",
        ">The larger the stride, the smaller the resulting image.\n",
        "\n",
        "Once again, it makes sense: If we are skipping pixels in the input image, there are\n",
        "fewer regions of interest to apply the filter to. \n",
        "\n",
        "We can extend our previous formula\n",
        "to include the stride size (s):\n",
        "\n",
        "$$\n",
        "\\Large\n",
        "(h_i, w_i) * f = \\left(\\frac{h_i - f + 1}{s}, \\frac{w_i - f + 1}{s}\\right)\n",
        "$$\n",
        "\n",
        "Let’s use\n",
        "PyTorch’s functional convolution to double-check the results."
      ],
      "metadata": {
        "id": "fyfsZe1MeMGQ"
      }
    },
    {
      "cell_type": "code",
      "source": [
        "convolved_stride2 = F.conv2d(image, kernel, stride=2)\n",
        "convolved_stride2"
      ],
      "metadata": {
        "id": "NSgTQekvyu-3",
        "outputId": "db1cedd5-c176-42e4-80ec-00a9279e7ec8",
        "colab": {
          "base_uri": "https://localhost:8080/"
        }
      },
      "execution_count": 18,
      "outputs": [
        {
          "output_type": "execute_result",
          "data": {
            "text/plain": [
              "tensor([[[[9., 0.],\n",
              "          [7., 6.]]]])"
            ]
          },
          "metadata": {},
          "execution_count": 18
        }
      ]
    },
    {
      "cell_type": "markdown",
      "source": [
        "Cool, it works!"
      ],
      "metadata": {
        "id": "3TTYNw37zEc1"
      }
    },
    {
      "cell_type": "markdown",
      "source": [
        "##Padding"
      ],
      "metadata": {
        "id": "nVacXfTkzE46"
      }
    },
    {
      "cell_type": "markdown",
      "source": [
        "So far, the operations we have performed have been shrinking the images. What\n",
        "about restoring them to their original glory, I mean, size?\n",
        "\n",
        "Padding means stuffing. We need to stuff the original image so it can sustain the \"attack\" on its size.\n",
        "\n",
        "How do I stuff an image?\n",
        "\n",
        "Simply add zeros around it.\n",
        "\n",
        "![](https://github.com/rahiakela/deep-learning-research-and-practice/blob/main/deep-learning-with-pytorch-step-by-step/Part-II-Computer-Vision/images/padding1.png?raw=1)\n",
        "\n",
        "By adding columns and rows of zeros around it, we expand the\n",
        "input image such that the gray region starts centered in the actual top left corner\n",
        "of the input image. \n",
        "\n",
        "This simple trick can be used to preserve the original size of the\n",
        "image.\n",
        "\n",
        "In code, as usual, PyTorch gives us two options: functional (`F.pad()`) and module (`nn.ConstantPad2d`).\n",
        "\n",
        "Let’s start with the module version this time:"
      ],
      "metadata": {
        "id": "gexEBVsuzH1F"
      }
    },
    {
      "cell_type": "code",
      "source": [
        "constant_padder = nn.ConstantPad2d(padding=1, value=0)\n",
        "constant_padder(image)"
      ],
      "metadata": {
        "id": "GIuPaIjY0dxq",
        "outputId": "29f735e5-a2ee-4c43-88aa-86508f803d3c",
        "colab": {
          "base_uri": "https://localhost:8080/"
        }
      },
      "execution_count": 19,
      "outputs": [
        {
          "output_type": "execute_result",
          "data": {
            "text/plain": [
              "tensor([[[[0., 0., 0., 0., 0., 0., 0., 0.],\n",
              "          [0., 5., 0., 8., 7., 8., 1., 0.],\n",
              "          [0., 1., 9., 5., 0., 7., 7., 0.],\n",
              "          [0., 6., 0., 2., 4., 6., 6., 0.],\n",
              "          [0., 9., 7., 6., 6., 8., 4., 0.],\n",
              "          [0., 8., 3., 8., 5., 1., 3., 0.],\n",
              "          [0., 7., 2., 7., 0., 1., 0., 0.],\n",
              "          [0., 0., 0., 0., 0., 0., 0., 0.]]]])"
            ]
          },
          "metadata": {},
          "execution_count": 19
        }
      ]
    },
    {
      "cell_type": "markdown",
      "source": [
        "One can also do asymmetric padding by specifying a tuple in the padding\n",
        "argument representing (left, right, top, bottom). \n",
        "\n",
        "So, if we were to stuff our\n",
        "image on the left and right sides only, the argument would go like this: `(1, 1, 0, 0)`.\n",
        "\n",
        "We can achieve the same result using the functional padding:"
      ],
      "metadata": {
        "id": "8My1qAQY1ynT"
      }
    },
    {
      "cell_type": "code",
      "source": [
        "padded = F.pad(image, pad=(1, 1, 1, 1), mode=\"constant\", value=0)\n",
        "padded"
      ],
      "metadata": {
        "id": "wrfPCPMz1yCk",
        "outputId": "708b2651-b9cb-4e53-ad4d-bc1721aa9cec",
        "colab": {
          "base_uri": "https://localhost:8080/"
        }
      },
      "execution_count": 20,
      "outputs": [
        {
          "output_type": "execute_result",
          "data": {
            "text/plain": [
              "tensor([[[[0., 0., 0., 0., 0., 0., 0., 0.],\n",
              "          [0., 5., 0., 8., 7., 8., 1., 0.],\n",
              "          [0., 1., 9., 5., 0., 7., 7., 0.],\n",
              "          [0., 6., 0., 2., 4., 6., 6., 0.],\n",
              "          [0., 9., 7., 6., 6., 8., 4., 0.],\n",
              "          [0., 8., 3., 8., 5., 1., 3., 0.],\n",
              "          [0., 7., 2., 7., 0., 1., 0., 0.],\n",
              "          [0., 0., 0., 0., 0., 0., 0., 0.]]]])"
            ]
          },
          "metadata": {},
          "execution_count": 20
        }
      ]
    },
    {
      "cell_type": "markdown",
      "source": [
        "Here, there is another argument, mode, which was\n",
        "set to constant to match the module version above.\n",
        "\n",
        "What are the other available modes?\n",
        "\n",
        "There are three other modes: replicate, reflect, and circular.\n",
        "\n",
        "![](https://github.com/rahiakela/deep-learning-research-and-practice/blob/main/deep-learning-with-pytorch-step-by-step/Part-II-Computer-Vision/images/paddings.png?raw=1)\n",
        "\n",
        "In replication padding, the padded pixels have the same value as the closest real\n",
        "pixel.\n",
        "\n",
        "In PyTorch, one can use the functional form `F.pad()` with mode=\"replicate\", or use\n",
        "the module version `nn.ReplicationPad2d`:"
      ],
      "metadata": {
        "id": "vfbBSTl_2yYu"
      }
    },
    {
      "cell_type": "code",
      "source": [
        "replication_padder = nn.ReplicationPad2d(padding=1)\n",
        "replication_padder(image)"
      ],
      "metadata": {
        "id": "JtIfohjj4Bss",
        "outputId": "efc852f1-a51b-47ba-8508-220eb4e42c85",
        "colab": {
          "base_uri": "https://localhost:8080/"
        }
      },
      "execution_count": 21,
      "outputs": [
        {
          "output_type": "execute_result",
          "data": {
            "text/plain": [
              "tensor([[[[5., 5., 0., 8., 7., 8., 1., 1.],\n",
              "          [5., 5., 0., 8., 7., 8., 1., 1.],\n",
              "          [1., 1., 9., 5., 0., 7., 7., 7.],\n",
              "          [6., 6., 0., 2., 4., 6., 6., 6.],\n",
              "          [9., 9., 7., 6., 6., 8., 4., 4.],\n",
              "          [8., 8., 3., 8., 5., 1., 3., 3.],\n",
              "          [7., 7., 2., 7., 0., 1., 0., 0.],\n",
              "          [7., 7., 2., 7., 0., 1., 0., 0.]]]])"
            ]
          },
          "metadata": {},
          "execution_count": 21
        }
      ]
    },
    {
      "cell_type": "code",
      "source": [
        "padded = F.pad(image, pad=(1, 1, 1, 1), mode=\"replicate\")\n",
        "padded"
      ],
      "metadata": {
        "id": "bTbOtd1_4el9",
        "outputId": "14919a51-2c5d-418e-e640-471ed471ed0b",
        "colab": {
          "base_uri": "https://localhost:8080/"
        }
      },
      "execution_count": 22,
      "outputs": [
        {
          "output_type": "execute_result",
          "data": {
            "text/plain": [
              "tensor([[[[5., 5., 0., 8., 7., 8., 1., 1.],\n",
              "          [5., 5., 0., 8., 7., 8., 1., 1.],\n",
              "          [1., 1., 9., 5., 0., 7., 7., 7.],\n",
              "          [6., 6., 0., 2., 4., 6., 6., 6.],\n",
              "          [9., 9., 7., 6., 6., 8., 4., 4.],\n",
              "          [8., 8., 3., 8., 5., 1., 3., 3.],\n",
              "          [7., 7., 2., 7., 0., 1., 0., 0.],\n",
              "          [7., 7., 2., 7., 0., 1., 0., 0.]]]])"
            ]
          },
          "metadata": {},
          "execution_count": 22
        }
      ]
    },
    {
      "cell_type": "markdown",
      "source": [
        "In reflection padding, it gets a bit trickier. It is like the outer columns and rows are\n",
        "used as axes for the reflection.\n",
        "\n",
        "In PyTorch, you can use the functional form `F.pad()` with mode=\"reflect\", or use\n",
        "the module version `nn.ReflectionPad2d`:"
      ],
      "metadata": {
        "id": "A2l0de5N4ybA"
      }
    },
    {
      "cell_type": "code",
      "source": [
        "reflection_padder = nn.ReflectionPad2d(padding=1)\n",
        "reflection_padder(image)"
      ],
      "metadata": {
        "id": "bE-tinAm44rs",
        "outputId": "2efde22e-7881-4dc2-fc11-a9f6242ebce2",
        "colab": {
          "base_uri": "https://localhost:8080/"
        }
      },
      "execution_count": 23,
      "outputs": [
        {
          "output_type": "execute_result",
          "data": {
            "text/plain": [
              "tensor([[[[9., 1., 9., 5., 0., 7., 7., 7.],\n",
              "          [0., 5., 0., 8., 7., 8., 1., 8.],\n",
              "          [9., 1., 9., 5., 0., 7., 7., 7.],\n",
              "          [0., 6., 0., 2., 4., 6., 6., 6.],\n",
              "          [7., 9., 7., 6., 6., 8., 4., 8.],\n",
              "          [3., 8., 3., 8., 5., 1., 3., 1.],\n",
              "          [2., 7., 2., 7., 0., 1., 0., 1.],\n",
              "          [3., 8., 3., 8., 5., 1., 3., 1.]]]])"
            ]
          },
          "metadata": {},
          "execution_count": 23
        }
      ]
    },
    {
      "cell_type": "code",
      "source": [
        "padded = F.pad(image, pad=(1, 1, 1, 1), mode=\"reflect\")\n",
        "padded"
      ],
      "metadata": {
        "id": "-HedDa4b5Gor",
        "outputId": "dfd4a02a-db39-4a72-8879-a642f37a9768",
        "colab": {
          "base_uri": "https://localhost:8080/"
        }
      },
      "execution_count": 24,
      "outputs": [
        {
          "output_type": "execute_result",
          "data": {
            "text/plain": [
              "tensor([[[[9., 1., 9., 5., 0., 7., 7., 7.],\n",
              "          [0., 5., 0., 8., 7., 8., 1., 8.],\n",
              "          [9., 1., 9., 5., 0., 7., 7., 7.],\n",
              "          [0., 6., 0., 2., 4., 6., 6., 6.],\n",
              "          [7., 9., 7., 6., 6., 8., 4., 8.],\n",
              "          [3., 8., 3., 8., 5., 1., 3., 1.],\n",
              "          [2., 7., 2., 7., 0., 1., 0., 1.],\n",
              "          [3., 8., 3., 8., 5., 1., 3., 1.]]]])"
            ]
          },
          "metadata": {},
          "execution_count": 24
        }
      ]
    },
    {
      "cell_type": "markdown",
      "source": [
        "In circular padding, the left-most (right-most) column gets copied as the right (left) padded column.\n",
        "\n",
        "Similarly, the top-most\n",
        "(bottom-most) row gets copied as the bottom (top) padded row. The corners\n",
        "receive the values of the diametrically opposed corner.\n",
        "\n",
        "In PyTorch, you must use the functional form `F.pad()` with mode=\"circular\" since\n",
        "there is no module version of the circular padding."
      ],
      "metadata": {
        "id": "qscKbJFg5atz"
      }
    },
    {
      "cell_type": "code",
      "source": [
        "padded = F.pad(image, pad=(1, 1, 1, 1), mode=\"circular\")\n",
        "padded"
      ],
      "metadata": {
        "id": "wIjXVU7i5smI",
        "outputId": "33c73006-a946-4ee8-c241-23541841ee37",
        "colab": {
          "base_uri": "https://localhost:8080/"
        }
      },
      "execution_count": 25,
      "outputs": [
        {
          "output_type": "execute_result",
          "data": {
            "text/plain": [
              "tensor([[[[0., 7., 2., 7., 0., 1., 0., 7.],\n",
              "          [1., 5., 0., 8., 7., 8., 1., 5.],\n",
              "          [7., 1., 9., 5., 0., 7., 7., 1.],\n",
              "          [6., 6., 0., 2., 4., 6., 6., 6.],\n",
              "          [4., 9., 7., 6., 6., 8., 4., 9.],\n",
              "          [3., 8., 3., 8., 5., 1., 3., 8.],\n",
              "          [0., 7., 2., 7., 0., 1., 0., 7.],\n",
              "          [1., 5., 0., 8., 7., 8., 1., 5.]]]])"
            ]
          },
          "metadata": {},
          "execution_count": 25
        }
      ]
    },
    {
      "cell_type": "markdown",
      "source": [
        "By padding an image, it is possible to get resulting images with the same shape as\n",
        "input images, or even larger, should you choose to stuff more and more rows and\n",
        "columns into the input image. \n",
        "\n",
        "Assuming we’re doing symmetrical padding of size p,\n",
        "the resulting shape is given by the formula below:\n",
        "\n",
        "$$\n",
        "\\Large\n",
        "(h_i, w_i) * f = \\left(\\frac{(h_i + 2p) - f + 1}{s}, \\frac{(w_i + 2p) - f + 1}{s}\\right)\n",
        "$$\n",
        "\n",
        "We’re basically extending the original dimensions by 2p pixels each."
      ],
      "metadata": {
        "id": "00snBJCt5-eF"
      }
    },
    {
      "cell_type": "markdown",
      "source": [
        "## A REAL Filter"
      ],
      "metadata": {
        "id": "yb1FSMZ16JvF"
      }
    },
    {
      "cell_type": "markdown",
      "source": [
        "Let’s try an edge detector filter from traditional\n",
        "computer vision for a change:"
      ],
      "metadata": {
        "id": "TOS3C8WI6KN7"
      }
    },
    {
      "cell_type": "code",
      "source": [
        "edge_matrix = np.array([\n",
        "  [[\n",
        "    [0, 1, 0],\n",
        "    [1, -4, 1],\n",
        "    [0, 1, 0]\n",
        "  ]]\n",
        "])\n",
        "\n",
        "kernel_edge = torch.as_tensor(edge_matrix).float()\n",
        "kernel_edge.shape"
      ],
      "metadata": {
        "id": "1b3D6o4e-kMx",
        "outputId": "033b579a-a009-4d4a-bdd0-5c9d22cfa166",
        "colab": {
          "base_uri": "https://localhost:8080/"
        }
      },
      "execution_count": 26,
      "outputs": [
        {
          "output_type": "execute_result",
          "data": {
            "text/plain": [
              "torch.Size([1, 1, 3, 3])"
            ]
          },
          "metadata": {},
          "execution_count": 26
        }
      ]
    },
    {
      "cell_type": "markdown",
      "source": [
        "And let’s apply it to a different region of our (padded) input image.\n",
        "\n",
        "![](https://github.com/rahiakela/deep-learning-research-and-practice/blob/main/deep-learning-with-pytorch-step-by-step/Part-II-Computer-Vision/images/padding2.png?raw=1)\n",
        "\n",
        "As you can see, filters, other than the identity one, do not simply copy the value at\n",
        "the center. \n",
        "\n",
        "The element-wise multiplication finally means something.\n",
        "\n",
        "![](https://github.com/rahiakela/deep-learning-research-and-practice/blob/main/deep-learning-with-pytorch-step-by-step/Part-II-Computer-Vision/images/padding3.png?raw=1)\n",
        "\n",
        "Let’s apply this filter to our image."
      ],
      "metadata": {
        "id": "ym94Q2j-_SxG"
      }
    },
    {
      "cell_type": "code",
      "source": [
        "padded = F.pad(image, pad=(1, 1, 1, 1), mode=\"constant\", value=0)\n",
        "conv_padded = F.conv2d(padded, kernel_edge, stride=1)\n",
        "conv_padded"
      ],
      "metadata": {
        "id": "1370UbvBAgTx",
        "outputId": "7f2602a9-3c18-447c-ad14-f88e0f160c36",
        "colab": {
          "base_uri": "https://localhost:8080/"
        }
      },
      "execution_count": 27,
      "outputs": [
        {
          "output_type": "execute_result",
          "data": {
            "text/plain": [
              "tensor([[[[-19.,  22., -20., -12., -17.,  11.],\n",
              "          [ 16., -30.,  -1.,  23.,  -7., -14.],\n",
              "          [-14.,  24.,   7.,  -2.,   1.,  -7.],\n",
              "          [-15., -10.,  -1.,  -1., -15.,   1.],\n",
              "          [-13.,  13., -11.,  -5.,  13.,  -7.],\n",
              "          [-18.,   9., -18.,  13.,  -3.,   4.]]]])"
            ]
          },
          "metadata": {},
          "execution_count": 27
        }
      ]
    },
    {
      "cell_type": "markdown",
      "source": [
        "## Pooling"
      ],
      "metadata": {
        "id": "FrV8PymAA8kT"
      }
    },
    {
      "cell_type": "markdown",
      "source": [
        "Pooling is different than the former operations: It splits the image into tiny chunks, performs an operation on each chunk (that yields a single value), and puts the chunks together as the resulting image.\n",
        "\n",
        "![](https://github.com/rahiakela/deep-learning-research-and-practice/blob/main/deep-learning-with-pytorch-step-by-step/Part-II-Computer-Vision/images/pooling1.png?raw=1)\n",
        "\n",
        "Our input image is split into nine chunks, and we perform a simple max operation\n",
        "(hence, max pooling) on each chunk (really, it is just taking the largest value in each\n",
        "chunk). Then, these values are put together, in order, to produce a smaller\n",
        "resulting image.\n",
        "\n",
        ">The larger the pooling kernel, the smaller the resulting image.\n",
        "\n",
        "In PyTorch, as usual, we have both forms: `F.max_pool2d()` and `nn.MaxPool2d`. \n",
        "\n",
        "Let’s\n",
        "use the functional form to replicate the max pooling."
      ],
      "metadata": {
        "id": "Yxve0AcE8dGP"
      }
    },
    {
      "cell_type": "code",
      "source": [
        "pooled = F.max_pool2d(conv_padded, kernel_size=2)\n",
        "pooled"
      ],
      "metadata": {
        "id": "127inD4k97KY",
        "outputId": "ee24225b-8b81-4d7f-e71e-0b8dd80873f4",
        "colab": {
          "base_uri": "https://localhost:8080/"
        }
      },
      "execution_count": 28,
      "outputs": [
        {
          "output_type": "execute_result",
          "data": {
            "text/plain": [
              "tensor([[[[22., 23., 11.],\n",
              "          [24.,  7.,  1.],\n",
              "          [13., 13., 13.]]]])"
            ]
          },
          "metadata": {},
          "execution_count": 28
        }
      ]
    },
    {
      "cell_type": "markdown",
      "source": [
        "And then let’s use the module version to illustrate the large four-by-four pooling."
      ],
      "metadata": {
        "id": "9svGlR23_VEe"
      }
    },
    {
      "cell_type": "code",
      "source": [
        "maxpool4 = nn.MaxPool2d(kernel_size=4)\n",
        "pooled4 = maxpool4(conv_padded)\n",
        "pooled4"
      ],
      "metadata": {
        "id": "8tMu3Vk5_Vte",
        "outputId": "fa247e14-64c8-4f9c-9185-905ee4347f63",
        "colab": {
          "base_uri": "https://localhost:8080/"
        }
      },
      "execution_count": 29,
      "outputs": [
        {
          "output_type": "execute_result",
          "data": {
            "text/plain": [
              "tensor([[[[24.]]]])"
            ]
          },
          "metadata": {},
          "execution_count": 29
        }
      ]
    },
    {
      "cell_type": "markdown",
      "source": [
        "Besides max pooling, average pooling is also fairly common. As the name\n",
        "suggests, it will output the average pixel value for each chunk. \n",
        "\n",
        "In PyTorch, we have\n",
        "`F.avg_pool2d()` and `nn.AvgPool2d`."
      ],
      "metadata": {
        "id": "NgJ8QWy-_0A6"
      }
    },
    {
      "cell_type": "code",
      "source": [
        "pooled = F.avg_pool2d(conv_padded, kernel_size=2)\n",
        "pooled"
      ],
      "metadata": {
        "id": "_Yrn8wBE_8zR",
        "outputId": "909f3e87-e0c4-4d2c-c7c0-a555d7742b5e",
        "colab": {
          "base_uri": "https://localhost:8080/"
        }
      },
      "execution_count": 30,
      "outputs": [
        {
          "output_type": "execute_result",
          "data": {
            "text/plain": [
              "tensor([[[[-2.7500, -2.5000, -6.7500],\n",
              "          [-3.7500,  0.7500, -5.0000],\n",
              "          [-2.2500, -5.2500,  1.7500]]]])"
            ]
          },
          "metadata": {},
          "execution_count": 30
        }
      ]
    },
    {
      "cell_type": "code",
      "source": [
        "avgpool4 = nn.AvgPool2d(kernel_size=4)\n",
        "pooled4 = avgpool4(conv_padded)\n",
        "pooled4"
      ],
      "metadata": {
        "id": "4_DdnfoDAMx_",
        "outputId": "e79f8abe-ad18-47b8-eb7b-1097eada12d9",
        "colab": {
          "base_uri": "https://localhost:8080/"
        }
      },
      "execution_count": 31,
      "outputs": [
        {
          "output_type": "execute_result",
          "data": {
            "text/plain": [
              "tensor([[[[-2.0625]]]])"
            ]
          },
          "metadata": {},
          "execution_count": 31
        }
      ]
    },
    {
      "cell_type": "markdown",
      "source": [
        "Can I use a stride of a different size?"
      ],
      "metadata": {
        "id": "CNm1egCsAXcK"
      }
    },
    {
      "cell_type": "code",
      "source": [
        "pooled = F.max_pool2d(conv_padded, kernel_size=2, stride=1)\n",
        "pooled"
      ],
      "metadata": {
        "id": "947Cu913AYAb",
        "outputId": "696201d8-8a94-4de8-bdef-23162719db4f",
        "colab": {
          "base_uri": "https://localhost:8080/"
        }
      },
      "execution_count": 32,
      "outputs": [
        {
          "output_type": "execute_result",
          "data": {
            "text/plain": [
              "tensor([[[[22., 22., 23., 23., 11.],\n",
              "          [24., 24., 23., 23.,  1.],\n",
              "          [24., 24.,  7.,  1.,  1.],\n",
              "          [13., 13., -1., 13., 13.],\n",
              "          [13., 13., 13., 13., 13.]]]])"
            ]
          },
          "metadata": {},
          "execution_count": 32
        }
      ]
    },
    {
      "cell_type": "markdown",
      "source": [
        "##Flattening"
      ],
      "metadata": {
        "id": "SOvlpuBiAsC0"
      }
    },
    {
      "cell_type": "markdown",
      "source": [
        "It simply flattens a tensor, preserving the first\n",
        "dimension such that we keep the number of data points while collapsing all other\n",
        "dimensions."
      ],
      "metadata": {
        "id": "Abg65oZUAs0l"
      }
    },
    {
      "cell_type": "code",
      "source": [
        "flattened = nn.Flatten()(pooled)\n",
        "flattened"
      ],
      "metadata": {
        "id": "Mciiiw9JAx00",
        "outputId": "e187d542-dd32-40fc-e402-58fc81839cbd",
        "colab": {
          "base_uri": "https://localhost:8080/"
        }
      },
      "execution_count": 33,
      "outputs": [
        {
          "output_type": "execute_result",
          "data": {
            "text/plain": [
              "tensor([[22., 22., 23., 23., 11., 24., 24., 23., 23.,  1., 24., 24.,  7.,  1.,\n",
              "          1., 13., 13., -1., 13., 13., 13., 13., 13., 13., 13.]])"
            ]
          },
          "metadata": {},
          "execution_count": 33
        }
      ]
    },
    {
      "cell_type": "markdown",
      "source": [
        "We can also accomplish\n",
        "the same thing using `view()`."
      ],
      "metadata": {
        "id": "WfQT9HbRBD6C"
      }
    },
    {
      "cell_type": "code",
      "source": [
        "pooled.view(1, -1)"
      ],
      "metadata": {
        "id": "EaCFFSjuBHm_",
        "outputId": "d7c45d55-2be6-421a-85ca-c1920cb0a2ed",
        "colab": {
          "base_uri": "https://localhost:8080/"
        }
      },
      "execution_count": 34,
      "outputs": [
        {
          "output_type": "execute_result",
          "data": {
            "text/plain": [
              "tensor([[22., 22., 23., 23., 11., 24., 24., 23., 23.,  1., 24., 24.,  7.,  1.,\n",
              "          1., 13., 13., -1., 13., 13., 13., 13., 13., 13., 13.]])"
            ]
          },
          "metadata": {},
          "execution_count": 34
        }
      ]
    },
    {
      "cell_type": "markdown",
      "source": [
        "##Typical Architecture"
      ],
      "metadata": {
        "id": "JctalF_yBkwL"
      }
    },
    {
      "cell_type": "markdown",
      "source": [
        "A typical architecture uses a sequence of one or more typical convolutional\n",
        "blocks, with each block consisting of three operations:\n",
        "\n",
        "1. Convolution\n",
        "2. Activation function\n",
        "3. Pooling\n",
        "\n",
        "As images go through these operations, they will shrink in size.\n",
        "\n",
        "After the sequence of blocks, the image gets flattened: Hopefully, at this stage,\n",
        "there is no loss of information occurring by considering each value in the flattened\n",
        "tensor a feature on its own.\n",
        "\n",
        "If you think of it, what those typical convolutional blocks do is\n",
        "akin to pre-processing images and converting them into\n",
        "features."
      ],
      "metadata": {
        "id": "8l-OK9GrBlmc"
      }
    },
    {
      "cell_type": "markdown",
      "source": [
        "###LeNet-5"
      ],
      "metadata": {
        "id": "SoYzyLmtDvdt"
      }
    },
    {
      "cell_type": "markdown",
      "source": [
        "LeNet-5 is a seven-level convolutional neural network developed by Yann LeCun in\n",
        "1998 to recognize hand-written digits in 28x28 pixel images—the famous MNIST\n",
        "dataset!\n",
        "\n",
        "![](https://github.com/rahiakela/deep-learning-research-and-practice/blob/main/deep-learning-with-pytorch-step-by-step/Part-II-Computer-Vision/images/architecture_lenet.png?raw=1)\n",
        "\n",
        "Adapting LeNet-5 to today’s standards, it could be implemented like this:"
      ],
      "metadata": {
        "id": "mxNhaZqrDwNl"
      }
    },
    {
      "cell_type": "code",
      "source": [
        "lenet = nn.Sequential()\n",
        "\n",
        "###### Featurizer ##########\n",
        "# Block 1: 1@28x28 -> 6@28x28 -> 6@14x14\n",
        "lenet.add_module(\"C1\", nn.Conv2d(in_channels=1, out_channels=5, kernel_size=5, padding=2))\n",
        "lenet.add_module(\"func1\", nn.ReLU())\n",
        "lenet.add_module(\"S2\", nn.MaxPool2d(kernel_size=2))\n",
        "\n",
        "# Block 2: 6@14x14 -> 16@10x10 -> 16@5x5\n",
        "lenet.add_module(\"C3\", nn.Conv2d(in_channels=6, out_channels=16, kernel_size=5))\n",
        "lenet.add_module(\"func2\", nn.ReLU())\n",
        "lenet.add_module(\"S4\", nn.MaxPool2d(kernel_size=2))\n",
        "\n",
        "# Block 3: 16@5x5 -> 120@1x1\n",
        "lenet.add_module(\"C3\", nn.Conv2d(in_channels=16, out_channels=120, kernel_size=5))\n",
        "lenet.add_module(\"func3\", nn.ReLU())\n",
        "\n",
        "# Flattening\n",
        "lenet.add_module(\"flatten\", nn.Flatten())\n",
        "\n",
        "###### Classification ##########\n",
        "# Hidden Layer\n",
        "lenet.add_module(\"F6\", nn.Linear(in_features=120, out_features=84))\n",
        "lenet.add_module(\"func4\", nn.ReLU())\n",
        "# Output Layer\n",
        "lenet.add_module(\"OUTPUT\", nn.Linear(in_features=84, out_features=10))"
      ],
      "metadata": {
        "id": "5D96gCAWFiT-"
      },
      "execution_count": 35,
      "outputs": []
    },
    {
      "cell_type": "markdown",
      "source": [
        "LeNet-5 used three convolutional blocks, although the last one does not have a\n",
        "max pooling, because the convolution already produces a single pixel.\n",
        "\n",
        "Then, these 120 values (or features) are flattened and fed to a typical hidden layer\n",
        "with 84 units. \n",
        "\n",
        "The last step is, obviously, the output layer, which produces ten\n",
        "logits to be used for digit classification (from 0 to 9, there are ten classes)."
      ],
      "metadata": {
        "id": "AHf-VodqHllp"
      }
    },
    {
      "cell_type": "markdown",
      "source": [
        "##Multiclass Classification"
      ],
      "metadata": {
        "id": "zQBdv5EHH1Gl"
      }
    },
    {
      "cell_type": "markdown",
      "source": [
        "A problem is considered a multiclass classification problem if there are more than\n",
        "two classes. \n",
        "\n",
        "So, let’s keep it as simple as possible and build a model to classify\n",
        "images into three classes."
      ],
      "metadata": {
        "id": "MUOmv1jzH2Sz"
      }
    },
    {
      "cell_type": "markdown",
      "source": [
        "###Data Generation"
      ],
      "metadata": {
        "id": "0HQF-4LrRX0I"
      }
    },
    {
      "cell_type": "markdown",
      "source": [
        "Our images are going to have either a diagonal or a parallel line, BUT this time we\n",
        "will make a distinction between a diagonal line tilted to the right, a diagonal line\n",
        "tilted to the left, and a parallel line like this.\n",
        "\n",
        "| Line | Label/Class Index |\n",
        "|---|---|\n",
        "|Parallel (Horizontal OR Vertical)|0|\n",
        "|Diagonal, Tilted to the Right|0|\n",
        "|Diagonal, Tilted to the Left|1|\n",
        "\n",
        "\n",
        "Also, let’s generate more and larger images: one thousand images, each one tenby-\n",
        "ten pixels in size.\n"
      ],
      "metadata": {
        "id": "hWShsbv3RYhP"
      }
    },
    {
      "cell_type": "code",
      "source": [
        "images, labels = generate_dataset(img_size=10, n_images=1000, binary=False, seed=17)"
      ],
      "metadata": {
        "id": "ZOaSDcMnR_mo"
      },
      "execution_count": 36,
      "outputs": []
    },
    {
      "cell_type": "code",
      "source": [
        "fig = plot_images(images, labels, n_plot=30)"
      ],
      "metadata": {
        "id": "V6ZYjv5ASPbl",
        "outputId": "1578bdf2-ef00-40c9-e8a2-e6a16d6eb299",
        "colab": {
          "base_uri": "https://localhost:8080/",
          "height": 268
        }
      },
      "execution_count": 37,
      "outputs": [
        {
          "output_type": "display_data",
          "data": {
            "text/plain": [
              "<Figure size 1080x324 with 30 Axes>"
            ],
            "image/png": "[encoded data removed]"
          },
          "metadata": {}
        }
      ]
    },
    {
      "cell_type": "markdown",
      "source": [
        "###Data Preparation"
      ],
      "metadata": {
        "id": "rTucZ1-ESX1_"
      }
    },
    {
      "cell_type": "markdown",
      "source": [
        "In our particular problem, flipping an image has the potential to ruin the label.\n",
        "\n",
        "So, we’re only keeping the min-max scaling by using the Normalize()\n",
        "transform. All the rest remains the same: splitting, datasets, sampler, and data loaders."
      ],
      "metadata": {
        "id": "GQ5OijgDSYgW"
      }
    },
    {
      "cell_type": "code",
      "source": [
        "class TransformedDataset(Dataset):\n",
        "  def __init__(self, x, y, transform=None):\n",
        "    self.x = x\n",
        "    self.y = y\n",
        "    self.transform = transform\n",
        "\n",
        "  def __getitem__(self, index):\n",
        "    x = self.x[index]\n",
        "\n",
        "    # transforms the features\n",
        "    if self.transform:\n",
        "      x = self.transform(x)\n",
        "\n",
        "    return x, self.y[index]\n",
        "\n",
        "  def __len__(self):\n",
        "    return len(self.x)"
      ],
      "metadata": {
        "id": "cLU_wNwnTO40"
      },
      "execution_count": 38,
      "outputs": []
    },
    {
      "cell_type": "code",
      "source": [
        "# Builds tensors from numpy arrays BEFORE split\n",
        "# Modifies the scale of pixel values from [0, 255] to [0, 1]\n",
        "x_tensor = torch.as_tensor(images / 255).float()\n",
        "y_tensor = torch.as_tensor(labels).long()\n",
        "\n",
        "# Uses index_splitter to generate indices for training and validation sets\n",
        "train_idx, val_idx = index_splitter(len(x_tensor), [80, 20])\n",
        "# Uses indices to perform the split\n",
        "x_train_tensor = x_tensor[train_idx]\n",
        "y_train_tensor = y_tensor[train_idx]\n",
        "x_val_tensor = x_tensor[val_idx]\n",
        "y_val_tensor = y_tensor[val_idx]\n",
        "\n",
        "# Builds different composers because of data augmentation on training set\n",
        "train_composer = Compose([Normalize(mean=(.5,), std=(.5,))])\n",
        "val_composer = Compose([Normalize(mean=(.5,), std=(.5,))])\n",
        "\n",
        "# Uses custom dataset to apply composed transforms to each set\n",
        "train_dataset = TransformedDataset(x_train_tensor, y_train_tensor, transform=train_composer)\n",
        "val_dataset = TransformedDataset(x_val_tensor, y_val_tensor, transform=val_composer)\n",
        "\n",
        "# Builds a weighted random sampler to handle imbalanced classes\n",
        "weighted_sampler = make_balanced_sampler(y_train_tensor)\n",
        "\n",
        "# Uses sampler in the training set to get a balanced data loader\n",
        "train_loader = DataLoader(dataset=train_dataset, batch_size=16, sampler=weighted_sampler)\n",
        "val_loader = DataLoader(dataset=val_dataset, batch_size=16)"
      ],
      "metadata": {
        "id": "XsWiPeOnTY5F"
      },
      "execution_count": 39,
      "outputs": []
    },
    {
      "cell_type": "markdown",
      "source": [
        "###Loss"
      ],
      "metadata": {
        "id": "r11hE-9NUoIz"
      }
    },
    {
      "cell_type": "markdown",
      "source": [
        "In binary classification problems, the model would produce one logit, and one logit\n",
        "only, for each data point.\n",
        "\n",
        "And we used a sigmoid function to map logits to probabilities. It was a\n",
        "simple world :-)\n",
        "\n",
        "But a multiclass classification is more complex:\n",
        "that is, we need to get log odds ratios for every possible class. \n",
        "\n",
        "In other words, we\n",
        "need as many logits as there are classes.\n",
        "\n",
        "The softmax function returns, for each class, the contribution that a given class\n",
        "had to the sum of odds ratios. The class with a higher odds ratio will have the\n",
        "largest contribution and thus the highest probability.\n",
        "\n",
        "Since the softmax is computed using odds ratios instead of log\n",
        "odds ratios (logits), we need to exponentiate the logits!\n",
        "\n",
        "$$\n",
        "\\Large\n",
        "\\begin{array}\n",
        "& z & = \\text{logit}(p) & = \\text{log odds ratio }(p) & = \\text{log}\\left(\\frac{p}{1-p}\\right)\n",
        "\\\\\n",
        "e^z & = e^{\\text{logit}(p)} & = \\text{odds ratio }(p) & = \\left(\\frac{p}{1-p}\\right)\n",
        "\\end{array}\n",
        "$$\n",
        "\n",
        "The softmax formula itself is quite simple:\n",
        "\n",
        "$$\n",
        "\\Large\n",
        "\\text{softmax}(z_i) = \\frac{e^{z_i}}{\\sum_{c=0}^{N_c-1}{e^{z_c}}}\n",
        "$$\n",
        "\n",
        "In our example, we have three classes, so our model\n",
        "needs to output three logits $(z_0, z_1, z_2)$.\n",
        "\n",
        "$$\n",
        "\\Large\n",
        "\\text{softmax}(z) = \\left[\\frac{e^{z_0}}{e^{z_0}+e^{z_1}+e^{z_2}},\\frac{e^{z_1}}{e^{z_0}+e^{z_1}+e^{z_2}},\\frac{e^{z_2}}{e^{z_0}+e^{z_1}+e^{z_2}}\\right]\n",
        "$$\n",
        "\n",
        "Simple, right? Let’s see it in code now."
      ],
      "metadata": {
        "id": "Ud9Cm5-_UpLE"
      }
    },
    {
      "cell_type": "code",
      "source": [
        "logits = torch.tensor([1.3863, 0.0000, -0.6931])\n",
        "\n",
        "# We exponentiate the logits to get the corresponding odds ratios\n",
        "odds_ratios = torch.exp(logits)\n",
        "odds_ratios"
      ],
      "metadata": {
        "id": "BqBNi_jwZ8hQ",
        "outputId": "cc7521b1-8bc8-41a8-863d-5c82137fa0fd",
        "colab": {
          "base_uri": "https://localhost:8080/"
        }
      },
      "execution_count": 40,
      "outputs": [
        {
          "output_type": "execute_result",
          "data": {
            "text/plain": [
              "tensor([4.0000, 1.0000, 0.5000])"
            ]
          },
          "metadata": {},
          "execution_count": 40
        }
      ]
    },
    {
      "cell_type": "markdown",
      "source": [
        "So we take these\n",
        "odds and add them together, and then compute each class' contribution to the\n",
        "sum:"
      ],
      "metadata": {
        "id": "1BGQLQUWaVhC"
      }
    },
    {
      "cell_type": "code",
      "source": [
        "softmaxed = odds_ratios / odds_ratios.sum()\n",
        "softmaxed"
      ],
      "metadata": {
        "id": "xNNCa6oRaWMD",
        "outputId": "efc45ce2-f643-4b27-8309-83b217b5fc27",
        "colab": {
          "base_uri": "https://localhost:8080/"
        }
      },
      "execution_count": 41,
      "outputs": [
        {
          "output_type": "execute_result",
          "data": {
            "text/plain": [
              "tensor([0.7273, 0.1818, 0.0909])"
            ]
          },
          "metadata": {},
          "execution_count": 41
        }
      ]
    },
    {
      "cell_type": "markdown",
      "source": [
        "Voilà! Our logits were softmaxed: The probabilities are proportional to the odds\n",
        "ratios. \n",
        "\n",
        "This data point most likely belongs to the first class since it has a probability\n",
        "of `72.73%`.\n",
        "\n",
        "PyTorch\n",
        "provides the typical implementations: functional (`F.softmax()`) and module\n",
        "(`nn.Softmax`):"
      ],
      "metadata": {
        "id": "Q4oRHiE7ajB0"
      }
    },
    {
      "cell_type": "code",
      "source": [
        "nn.Softmax(dim=-1)(logits)"
      ],
      "metadata": {
        "id": "IfxB53jkaqUc",
        "outputId": "5230f146-aff2-4696-9b3d-f7730e79a53a",
        "colab": {
          "base_uri": "https://localhost:8080/"
        }
      },
      "execution_count": 42,
      "outputs": [
        {
          "output_type": "execute_result",
          "data": {
            "text/plain": [
              "tensor([0.7273, 0.1818, 0.0909])"
            ]
          },
          "metadata": {},
          "execution_count": 42
        }
      ]
    },
    {
      "cell_type": "code",
      "source": [
        "F.softmax(logits, dim=-1)"
      ],
      "metadata": {
        "id": "cbQrD9Pja1H8",
        "outputId": "cd0fc1a4-8649-4835-99e1-5fd7711efb71",
        "colab": {
          "base_uri": "https://localhost:8080/"
        }
      },
      "execution_count": 43,
      "outputs": [
        {
          "output_type": "execute_result",
          "data": {
            "text/plain": [
              "tensor([0.7273, 0.1818, 0.0909])"
            ]
          },
          "metadata": {},
          "execution_count": 43
        }
      ]
    },
    {
      "cell_type": "markdown",
      "source": [
        "In general, our models will produce logits with the shape (number of\n",
        "data points, number of classes), so the right dimension to apply softmax to is the\n",
        "last one (`dim=-1`)."
      ],
      "metadata": {
        "id": "fEor6RIGbCVv"
      }
    },
    {
      "cell_type": "markdown",
      "source": [
        "###Negative Log Likelihood Loss"
      ],
      "metadata": {
        "id": "HaH_KJtAbSiJ"
      }
    },
    {
      "cell_type": "markdown",
      "source": [
        "Since softmax returns probabilities, logsoftmax returns log probabilities. And\n",
        "that’s the input for computing the negative log-likelihood loss, or `nn.NLLLoss()` for\n",
        "short. \n",
        "\n",
        "This loss is simply an extension of the binary cross-entropy loss for handling\n",
        "multiple classes.\n",
        "\n",
        "This was the formula for computing binary cross-entropy:\n",
        "\n",
        "$$\n",
        "\\Large\n",
        "\\texttt{BCE}(y)={-\\frac{1}{(N_{\\text{pos}}+N_{\\text{neg}})}\\Bigg[{\\sum_{i=1}^{N_{\\text{pos}}}{\\text{log}(\\text{P}(y_i=1))} + \\sum_{i=1}^{N_{\\text{neg}}}{\\text{log}(1 - \\text{P}(y_i=1))}}\\Bigg]}\n",
        "$$\n",
        "\n",
        "In our example, there are three\n",
        "classes; that is, our `labels (y)` could be either zero, one, or two. \n",
        "\n",
        "So, the loss function\n",
        "will look like this:\n",
        "\n",
        "$$\n",
        "\\Large\n",
        "\\texttt{NLLLoss}(y)={-\\frac{1}{(N_0+N_1+N_2)}\\Bigg[{\\sum_{i=1}^{N_0}{\\text{log}(\\text{P}(y_i=0))} + \\sum_{i=1}^{N_1}{\\text{log}(\\text{P}(y_i=1))} + \\sum_{i=1}^{N_2}{\\text{log}(\\text{P}(y_i=2))}}\\Bigg]}\n",
        "$$\n",
        "\n",
        "The loss only considers the predicted probability for the true\n",
        "class.\n",
        "\n",
        "If a data point is labeled as belonging to class index two, the loss will consider the\n",
        "probability assigned to class index two only. The other probabilities will be\n",
        "completely ignored.\n",
        "\n",
        "For a total of C classes, the formula can be written like this:\n",
        "\n",
        "$$\n",
        "\\Large \\texttt{NLLLoss}(y)={-\\frac{1}{(N_0+\\cdots+N_{C-1})}\\sum_{c=0}^{C-1}{\\sum_{i=1}^{N_c}{\\text{log}(\\text{P}(y_i=c))} }}\n",
        "$$\n",
        "\n",
        "Since the log probabilities are obtained by applying logsoftmax, this loss isn’t doing\n",
        "much more than looking up the inputs corresponding to the true class and adding\n",
        "them up."
      ],
      "metadata": {
        "id": "awfzVKepbXl0"
      }
    },
    {
      "cell_type": "code",
      "source": [
        "log_probs = F.log_softmax(logits, dim=-1)\n",
        "log_probs"
      ],
      "metadata": {
        "id": "vSWFFddA4cXQ",
        "outputId": "e6288e2f-4fcb-4bc0-f57e-cf00da34b2f4",
        "colab": {
          "base_uri": "https://localhost:8080/"
        }
      },
      "execution_count": 44,
      "outputs": [
        {
          "output_type": "execute_result",
          "data": {
            "text/plain": [
              "tensor([-0.3185, -1.7048, -2.3979])"
            ]
          },
          "metadata": {},
          "execution_count": 44
        }
      ]
    },
    {
      "cell_type": "markdown",
      "source": [
        "These are the log probabilities for each class we computed using logsoftmax for\n",
        "our single data point. \n",
        "\n",
        "Now, let’s assume its label is two: What is the corresponding\n",
        "loss?"
      ],
      "metadata": {
        "id": "nGVn701U4qXg"
      }
    },
    {
      "cell_type": "code",
      "source": [
        "label = torch.tensor([2])\n",
        "F.nll_loss(log_probs.view(-1, 3), label)"
      ],
      "metadata": {
        "id": "QdhWtNv_4rmW",
        "outputId": "595e9832-123e-4f2a-f544-048c788a3913",
        "colab": {
          "base_uri": "https://localhost:8080/"
        }
      },
      "execution_count": 45,
      "outputs": [
        {
          "output_type": "execute_result",
          "data": {
            "text/plain": [
              "tensor(2.3979)"
            ]
          },
          "metadata": {},
          "execution_count": 45
        }
      ]
    },
    {
      "cell_type": "markdown",
      "source": [
        "It is the negative of the log probability corresponding to the class index (two) of the true label.\n",
        "\n",
        "Let’s go through some quick examples."
      ],
      "metadata": {
        "id": "KbCzoPye5FZf"
      }
    },
    {
      "cell_type": "code",
      "source": [
        "torch.manual_seed(11)\n",
        "\n",
        "dummy_logits = torch.randn((5, 3))\n",
        "dummy_labels = torch.tensor([0, 0, 1, 2, 1])\n",
        "dummy_log_probs = F.log_softmax(dummy_logits, dim=-1)\n",
        "dummy_log_probs"
      ],
      "metadata": {
        "id": "mR0zpBroCnpd",
        "outputId": "a57aecef-8078-46aa-f3a7-9606c0dcf324",
        "colab": {
          "base_uri": "https://localhost:8080/"
        }
      },
      "execution_count": 46,
      "outputs": [
        {
          "output_type": "execute_result",
          "data": {
            "text/plain": [
              "tensor([[-1.5229, -0.3146, -2.9600],\n",
              "        [-1.7934, -1.0044, -0.7607],\n",
              "        [-1.2513, -1.0136, -1.0471],\n",
              "        [-2.6799, -0.2219, -2.0367],\n",
              "        [-1.0728, -1.9098, -0.6737]])"
            ]
          },
          "metadata": {},
          "execution_count": 46
        }
      ]
    },
    {
      "cell_type": "code",
      "source": [
        "relevant_log_probs = torch.tensor([-1.5229, -1.7934, -1.0136, -2.0367, -1.9098])\n",
        "- relevant_log_probs.mean()"
      ],
      "metadata": {
        "id": "yBvviQ6p5Ewv",
        "outputId": "90085408-f7dc-4131-9502-08100bd17c78",
        "colab": {
          "base_uri": "https://localhost:8080/"
        }
      },
      "execution_count": 47,
      "outputs": [
        {
          "output_type": "execute_result",
          "data": {
            "text/plain": [
              "tensor(1.6553)"
            ]
          },
          "metadata": {},
          "execution_count": 47
        }
      ]
    },
    {
      "cell_type": "markdown",
      "source": [
        "Now, let’s use `nn.NLLLoss()` to create the actual loss function, and then use\n",
        "predictions and labels to check if we got the relevant log probabilities right:"
      ],
      "metadata": {
        "id": "A1obaVV0Dm_2"
      }
    },
    {
      "cell_type": "code",
      "source": [
        "loss_fn = nn.NLLLoss()\n",
        "loss_fn(dummy_log_probs, dummy_labels)"
      ],
      "metadata": {
        "id": "edSASBOeDo78",
        "outputId": "10227b69-7ea4-4020-fcf3-4de00f94b1c0",
        "colab": {
          "base_uri": "https://localhost:8080/"
        }
      },
      "execution_count": 48,
      "outputs": [
        {
          "output_type": "execute_result",
          "data": {
            "text/plain": [
              "tensor(1.6553)"
            ]
          },
          "metadata": {},
          "execution_count": 48
        }
      ]
    },
    {
      "cell_type": "markdown",
      "source": [
        "What if we want to balance our dataset, giving data points with label\n",
        "(y=2) double the weight of the other classes?"
      ],
      "metadata": {
        "id": "eMQhm4ERD-De"
      }
    },
    {
      "cell_type": "code",
      "source": [
        "loss_fn = nn.NLLLoss(weight=torch.tensor([1., 1., 2.]))\n",
        "loss_fn(dummy_log_probs, dummy_labels)"
      ],
      "metadata": {
        "id": "WMq3-ywGD-iu",
        "outputId": "6badee37-3e81-4557-8abb-4935617c8634",
        "colab": {
          "base_uri": "https://localhost:8080/"
        }
      },
      "execution_count": 49,
      "outputs": [
        {
          "output_type": "execute_result",
          "data": {
            "text/plain": [
              "tensor(1.7188)"
            ]
          },
          "metadata": {},
          "execution_count": 49
        }
      ]
    },
    {
      "cell_type": "markdown",
      "source": [
        "And what if we want to simply ignore data points with label (y=2)?"
      ],
      "metadata": {
        "id": "N9PptD6oEOuy"
      }
    },
    {
      "cell_type": "code",
      "source": [
        "loss_fn = nn.NLLLoss(ignore_index=2)\n",
        "loss_fn(dummy_log_probs, dummy_labels)"
      ],
      "metadata": {
        "id": "leCDdk5zEPHN",
        "outputId": "a7889dda-8208-4729-a775-a3f2c8c02896",
        "colab": {
          "base_uri": "https://localhost:8080/"
        }
      },
      "execution_count": 50,
      "outputs": [
        {
          "output_type": "execute_result",
          "data": {
            "text/plain": [
              "tensor(1.5599)"
            ]
          },
          "metadata": {},
          "execution_count": 50
        }
      ]
    },
    {
      "cell_type": "markdown",
      "source": [
        "And, once again, there is yet another loss function available for multiclass\n",
        "classification. \n",
        "\n",
        "And, once again, it is very important to know when to use one or the\n",
        "other.\n",
        "\n",
        "So you don’t end up with an inconsistent combination of model and loss\n",
        "function."
      ],
      "metadata": {
        "id": "BOlVtIMPEf50"
      }
    },
    {
      "cell_type": "markdown",
      "source": [
        "###Cross-Entropy Loss"
      ],
      "metadata": {
        "id": "0-6_NJmLElqu"
      }
    },
    {
      "cell_type": "markdown",
      "source": [
        "This loss function combines both the logsoftmax layer and\n",
        "the negative log-likelihood loss into one.\n",
        "\n",
        "But you must use the right\n",
        "combination of model and loss function!\n",
        "\n",
        "- **Option 1**: nn.LogSoftmax as the last layer, meaning your model is\n",
        "producing log probabilities, combined with the `nn.NLLLoss()`\n",
        "function.\n",
        "- **Option 2**: No logsoftmax in the last layer, meaning your model is\n",
        "producing logits, combined with the `nn.CrossEntropyLoss()`\n",
        "function.\n",
        "\n",
        "Mixing `nn.LogSoftmax` and `nn.CrossEntropyLoss()` is just wrong.\n",
        "\n",
        "Let’s see a quick example of its usage."
      ],
      "metadata": {
        "id": "CDb2kCe0Enzh"
      }
    },
    {
      "cell_type": "code",
      "source": [
        "torch.manual_seed(11)\n",
        "\n",
        "dummy_logits = torch.randn((5, 3))\n",
        "dummy_labels = torch.tensor([0, 0, 1, 2, 1])\n",
        "\n",
        "loss_fn = nn.CrossEntropyLoss()\n",
        "loss_fn(dummy_logits, dummy_labels)"
      ],
      "metadata": {
        "id": "ZYnXOOgl_nuL",
        "outputId": "093fd66d-294e-4e5e-9f44-9dad326a30fa",
        "colab": {
          "base_uri": "https://localhost:8080/"
        }
      },
      "execution_count": 51,
      "outputs": [
        {
          "output_type": "execute_result",
          "data": {
            "text/plain": [
              "tensor(1.6553)"
            ]
          },
          "metadata": {},
          "execution_count": 51
        }
      ]
    },
    {
      "cell_type": "markdown",
      "source": [
        "No logsoftmax whatsoever, but the same resulting loss, as expected."
      ],
      "metadata": {
        "id": "IIiI-s1TBWgs"
      }
    },
    {
      "cell_type": "markdown",
      "source": [
        "##Convolutional neural network"
      ],
      "metadata": {
        "id": "d2A3AgkuCkzs"
      }
    },
    {
      "cell_type": "markdown",
      "source": [
        "Let’s build our first convolutional neural network for real! \n",
        "\n",
        "We can use the typical\n",
        "convolutional block: convolutional layer, activation function, pooling layer. \n",
        "\n",
        "Our images are quite small, so we only need one of those."
      ],
      "metadata": {
        "id": "DAeTuz9UCnCo"
      }
    },
    {
      "cell_type": "code",
      "source": [
        "torch.manual_seed(13)\n",
        "\n",
        "cnn_model = nn.Sequential()\n",
        "\n",
        "##### Featurizer #######\n",
        "# Block 1: 1@10x10 -> n_channels@8x8 -> n_channels@4x4\n",
        "n_channels = 1\n",
        "cnn_model.add_module(\"conv1\", nn.Conv2d(in_channels=1, out_channels=n_channels, kernel_size=3))\n",
        "cnn_model.add_module(\"relu1\", nn.ReLU())\n",
        "cnn_model.add_module(\"maxp1\", nn.MaxPool2d(kernel_size=2))\n",
        "\n",
        "# Flattening: n_channels * 4 * 4\n",
        "cnn_model.add_module(\"flatten\", nn.Flatten())\n",
        "\n",
        "###### Classification ######\n",
        "# Hidden Layer\n",
        "cnn_model.add_module(\"fc1\", nn.Linear(in_features=n_channels * 4 * 4, out_features=10))\n",
        "cnn_model.add_module(\"relu2\", nn.ReLU())\n",
        "# Output Layer\n",
        "cnn_model.add_module(\"fc2\", nn.Linear(in_features=10, out_features=3))"
      ],
      "metadata": {
        "id": "Ji7IJNt8DG4w"
      },
      "execution_count": 52,
      "outputs": []
    },
    {
      "cell_type": "markdown",
      "source": [
        "Since our model produces logits, we must use the `nn.CrossEntropyLoss()`."
      ],
      "metadata": {
        "id": "O1gz86WJGaJG"
      }
    },
    {
      "cell_type": "code",
      "source": [
        "lr = 0.1\n",
        "loss_fn = nn.CrossEntropyLoss(reduction=\"mean\")\n",
        "optimizer = optim.SGD(cnn_model.parameters(), lr=lr)"
      ],
      "metadata": {
        "id": "2FzYwMgGGcq0"
      },
      "execution_count": 53,
      "outputs": []
    },
    {
      "cell_type": "markdown",
      "source": [
        "Let's train the model."
      ],
      "metadata": {
        "id": "oD03MVkQG85T"
      }
    },
    {
      "cell_type": "code",
      "source": [
        "sbs_cnn1 = StepByStep(cnn_model, loss_fn, optimizer)\n",
        "sbs_cnn1.set_loaders(train_loader, val_loader)"
      ],
      "metadata": {
        "id": "Kyx80lYKG_Ye"
      },
      "execution_count": 54,
      "outputs": []
    },
    {
      "cell_type": "code",
      "source": [
        "sbs_cnn1.train(20)"
      ],
      "metadata": {
        "id": "Oueo-KIxHTEz"
      },
      "execution_count": 55,
      "outputs": []
    },
    {
      "cell_type": "code",
      "source": [
        "fig = sbs_cnn1.plot_losses()"
      ],
      "metadata": {
        "id": "CrrLaiZbIzz4",
        "outputId": "32006d10-1231-4b9c-ee59-b5c13f8cccfb",
        "colab": {
          "base_uri": "https://localhost:8080/",
          "height": 289
        }
      },
      "execution_count": 56,
      "outputs": [
        {
          "output_type": "display_data",
          "data": {
            "text/plain": [
              "<Figure size 720x288 with 1 Axes>"
            ],
            "image/png": "[encoded data removed]"
          },
          "metadata": {}
        }
      ]
    },
    {
      "cell_type": "markdown",
      "source": [
        "##Visualizing Filters"
      ],
      "metadata": {
        "id": "AkikDvumI3Oe"
      }
    },
    {
      "cell_type": "markdown",
      "source": [
        "We’re going to dive\n",
        "deeper into the visualization of filters (weights), as well as the transformed images\n",
        "produced by each of our model’s layers.\n",
        "\n",
        "First, let’s add another method to our tool belt!"
      ],
      "metadata": {
        "id": "nY2ZIKl4I4YS"
      }
    },
    {
      "cell_type": "code",
      "source": [
        "@staticmethod\n",
        "def _visualize_tensors(axs, x, y=None, yhat=None, layer_name='', title=None):\n",
        "    # The number of images is the number of subplots in a row\n",
        "    n_images = len(axs)\n",
        "    # Gets max and min values for scaling the grayscale\n",
        "    minv, maxv = np.min(x[:n_images]), np.max(x[:n_images])\n",
        "    # For each image\n",
        "    for j, image in enumerate(x[:n_images]):\n",
        "      ax = axs[j]\n",
        "      # Sets title, labels, and removes ticks\n",
        "      if title is not None:\n",
        "          ax.set_title(f'{title} #{j}', fontsize=12)\n",
        "      shp = np.atleast_2d(image).shape\n",
        "      ax.set_ylabel(\n",
        "          f'{layer_name}\\n{shp[0]}x{shp[1]}',\n",
        "          rotation=0, labelpad=40\n",
        "      )\n",
        "      xlabel1 = '' if y is None else f'\\nLabel: {y[j]}'\n",
        "      xlabel2 = '' if yhat is None else f'\\nPredicted: {yhat[j]}'\n",
        "      xlabel = f'{xlabel1}{xlabel2}'\n",
        "      if len(xlabel):\n",
        "          ax.set_xlabel(xlabel, fontsize=12)\n",
        "      ax.set_xticks([])\n",
        "      ax.set_yticks([])\n",
        "\n",
        "      # Plots weight as an image\n",
        "      ax.imshow(\n",
        "          np.atleast_2d(image.squeeze()),\n",
        "          cmap='gray', \n",
        "          vmin=minv, \n",
        "          vmax=maxv\n",
        "      )\n",
        "    return\n",
        "\n",
        "setattr(StepByStep, '_visualize_tensors', _visualize_tensors)"
      ],
      "metadata": {
        "id": "I3lXW6fqNQWJ"
      },
      "execution_count": 57,
      "outputs": []
    },
    {
      "cell_type": "markdown",
      "source": [
        "We can apply the same principle to the weights of the filter learned by our\n",
        "convolutional layer."
      ],
      "metadata": {
        "id": "xheMHQlMOoP3"
      }
    },
    {
      "cell_type": "code",
      "source": [
        "weights_filter = cnn_model.conv1.weight.data.cpu().numpy()\n",
        "weights_filter.shape"
      ],
      "metadata": {
        "id": "hTHtYZkCOozM",
        "outputId": "7390176b-648f-4254-983c-bc152f7d4133",
        "colab": {
          "base_uri": "https://localhost:8080/"
        }
      },
      "execution_count": 58,
      "outputs": [
        {
          "output_type": "execute_result",
          "data": {
            "text/plain": [
              "(1, 1, 3, 3)"
            ]
          },
          "metadata": {},
          "execution_count": 58
        }
      ]
    },
    {
      "cell_type": "code",
      "source": [
        "weights_filter"
      ],
      "metadata": {
        "id": "YeZiqgsfO_hX",
        "outputId": "e88754d1-033f-4a41-a61e-ce177e0b9f14",
        "colab": {
          "base_uri": "https://localhost:8080/"
        }
      },
      "execution_count": 59,
      "outputs": [
        {
          "output_type": "execute_result",
          "data": {
            "text/plain": [
              "array([[[[-1.0064422 , -0.7285778 ,  0.01474817],\n",
              "         [-0.90809894, -1.0574522 ,  0.7594956 ],\n",
              "         [ 0.03291198,  0.95026934,  2.1044643 ]]]], dtype=float32)"
            ]
          },
          "metadata": {},
          "execution_count": 59
        }
      ]
    },
    {
      "cell_type": "markdown",
      "source": [
        "The shape of the weights (representing the filters) of a two-dimensional\n",
        "convolutional layer is given by `(out_channels, in_channels, kernel_size,\n",
        "kernel_size)`. \n",
        "\n",
        "In our case, the kernel size is three, and we have a single channel, both\n",
        "in and out, so the shape of the weights is `(1, 1, 3, 3)`.\n",
        "\n",
        "We can loop through the filters (output channels) that the model learned to\n",
        "convolve each of the input channels."
      ],
      "metadata": {
        "id": "aglOvVJMPkXo"
      }
    },
    {
      "cell_type": "code",
      "source": [
        "def visualize_filters(self, layer_name, **kwargs):\n",
        "  try:\n",
        "    # Gets the layer object from the model\n",
        "    layer = self.model\n",
        "    for name in layer_name.split(\".\"):\n",
        "      layer = getattr(layer, name)\n",
        "    # We are only looking at filters for 2D convolutions\n",
        "    if isinstance(layer, nn.Conv2d):\n",
        "      # Takes the weight information\n",
        "      weights = layer.weight.data.cpu().numpy()\n",
        "      # weights -> (channels_out (filter), channels_in, H, W)\n",
        "      n_filters, n_channels, _, _ = weights.shape\n",
        "\n",
        "      # Builds a figure\n",
        "      size = (2 * n_channels + 2, 2 * n_filters)\n",
        "      fig, axes = plt.subplots(n_filters, n_channels, figsize=size)\n",
        "      axes = np.atleast_2d(axes)\n",
        "      axes = axes.reshape(n_filters, n_channels)\n",
        "\n",
        "      # For each channel_out (filter)\n",
        "      for i in range(n_filters):\n",
        "        StepByStep._visualize_tensors(axes[i, :], weights[i], layer_name=f\"Filter #{i}\", title=\"Channel\")\n",
        "      for ax in axes.flat:\n",
        "        ax.label_outer()\n",
        "      fig.tight_layout()\n",
        "      return fig\n",
        "  except AttributeError:\n",
        "    return\n",
        "\n",
        "setattr(StepByStep, 'visualize_filters', visualize_filters)"
      ],
      "metadata": {
        "id": "HFTsWWyDP2qj"
      },
      "execution_count": 60,
      "outputs": []
    },
    {
      "cell_type": "markdown",
      "source": [
        "OK, let’s see what the filter looks like:"
      ],
      "metadata": {
        "id": "grq12OohT8n8"
      }
    },
    {
      "cell_type": "code",
      "source": [
        "fig = sbs_cnn1.visualize_filters('conv1', cmap='gray')"
      ],
      "metadata": {
        "id": "vog6mKc1T9FX",
        "outputId": "a7ef5823-2b0f-4bf2-c234-35941ce4cab7",
        "colab": {
          "base_uri": "https://localhost:8080/",
          "height": 145
        }
      },
      "execution_count": 61,
      "outputs": [
        {
          "output_type": "display_data",
          "data": {
            "text/plain": [
              "<Figure size 288x144 with 1 Axes>"
            ],
            "image/png": "[encoded data removed]"
          },
          "metadata": {}
        }
      ]
    },
    {
      "cell_type": "markdown",
      "source": [
        "To really understand the effect this filter has on each image, we need to visualize\n",
        "the intermediate values produced by our model, namely, the output of each and\n",
        "every layer!\n",
        "\n",
        "How can we visualize the output of each layer? Do we have to\n",
        "modify our StepByStep class to capture those?\n",
        "\n",
        "It is much easier than that: We can use hooks!"
      ],
      "metadata": {
        "id": "Vmy7hFWuUSJM"
      }
    },
    {
      "cell_type": "markdown",
      "source": [
        "###Hooks"
      ],
      "metadata": {
        "id": "rSafdjpyUhru"
      }
    },
    {
      "cell_type": "markdown",
      "source": [
        "A hook is simply a way to force a model to execute a function either after its\n",
        "forward pass or after its backward pass. \n",
        "\n",
        "Hence, there are forward hooks and\n",
        "backward hooks.\n",
        "\n",
        "Let’s illustrate the process with a dummy model."
      ],
      "metadata": {
        "id": "nkwWtScCUjbP"
      }
    },
    {
      "cell_type": "code",
      "source": [
        "dummy_model = nn.Linear(1, 1)\n",
        "\n",
        "dummy_list = []\n",
        "\n",
        "def dummy_hook(layer, inputs, outputs):\n",
        "  dummy_list.append((layer, inputs, outputs))"
      ],
      "metadata": {
        "id": "1ad4R8duq-1r"
      },
      "execution_count": 62,
      "outputs": []
    },
    {
      "cell_type": "markdown",
      "source": [
        "How do you hook the hook function to the model?\n",
        "\n",
        "There is a method for it, `register_forward_hook()`."
      ],
      "metadata": {
        "id": "2sccIi9dra39"
      }
    },
    {
      "cell_type": "code",
      "source": [
        "dummy_handle = dummy_model.register_forward_hook(dummy_hook)\n",
        "dummy_handle"
      ],
      "metadata": {
        "id": "3UPLGXtnrj6v",
        "outputId": "ee7f5a7c-8bbb-47ca-c7d1-8aedb6f2bd8b",
        "colab": {
          "base_uri": "https://localhost:8080/"
        }
      },
      "execution_count": 63,
      "outputs": [
        {
          "output_type": "execute_result",
          "data": {
            "text/plain": [
              "<torch.utils.hooks.RemovableHandle at 0x7f031a773c70>"
            ]
          },
          "metadata": {},
          "execution_count": 63
        }
      ]
    },
    {
      "cell_type": "markdown",
      "source": [
        "Simple enough, right? Let’s see it in action:"
      ],
      "metadata": {
        "id": "z-1ofMLAr02c"
      }
    },
    {
      "cell_type": "code",
      "source": [
        "dummy_x = torch.tensor([0.3])\n",
        "\n",
        "dummy_model.forward(dummy_x)"
      ],
      "metadata": {
        "id": "TAXuqK2yr15E",
        "outputId": "612f2ab8-12b2-4748-a361-a9108e8e28c0",
        "colab": {
          "base_uri": "https://localhost:8080/"
        }
      },
      "execution_count": 64,
      "outputs": [
        {
          "output_type": "execute_result",
          "data": {
            "text/plain": [
              "tensor([-0.8366], grad_fn=<AddBackward0>)"
            ]
          },
          "metadata": {},
          "execution_count": 64
        }
      ]
    },
    {
      "cell_type": "markdown",
      "source": [
        "It should add a new tuple to the dummy list."
      ],
      "metadata": {
        "id": "0jiuWvw-sL40"
      }
    },
    {
      "cell_type": "code",
      "source": [
        "dummy_list"
      ],
      "metadata": {
        "id": "-zlMq6HfsMd5",
        "outputId": "965acbdf-11cc-4904-a088-88fda2038d51",
        "colab": {
          "base_uri": "https://localhost:8080/"
        }
      },
      "execution_count": 65,
      "outputs": [
        {
          "output_type": "execute_result",
          "data": {
            "text/plain": [
              "[]"
            ]
          },
          "metadata": {},
          "execution_count": 65
        }
      ]
    },
    {
      "cell_type": "markdown",
      "source": [
        "Empty?! So it is not working?\n",
        "\n",
        "You should NOT call the `forward(x`) method! You should call the\n",
        "whole model instead, as in `model(x)`, to perform a forward pass.\n",
        "\n",
        "Otherwise, your hooks won’t work.\n",
        "\n",
        "Let’s do it right this time:"
      ],
      "metadata": {
        "id": "WXUeTLGHsR_7"
      }
    },
    {
      "cell_type": "code",
      "source": [
        "dummy_model(dummy_x)"
      ],
      "metadata": {
        "id": "m-8HXnf8sdCX",
        "outputId": "b074f658-c014-4b48-f8d9-852bcc0036c5",
        "colab": {
          "base_uri": "https://localhost:8080/"
        }
      },
      "execution_count": 66,
      "outputs": [
        {
          "output_type": "execute_result",
          "data": {
            "text/plain": [
              "tensor([-0.8366], grad_fn=<AddBackward0>)"
            ]
          },
          "metadata": {},
          "execution_count": 66
        }
      ]
    },
    {
      "cell_type": "code",
      "source": [
        "dummy_list"
      ],
      "metadata": {
        "id": "on9oFeBGsjBu",
        "outputId": "0c5ec72a-d543-4c36-ac47-bc0bc2ab2a54",
        "colab": {
          "base_uri": "https://localhost:8080/"
        }
      },
      "execution_count": 67,
      "outputs": [
        {
          "output_type": "execute_result",
          "data": {
            "text/plain": [
              "[(Linear(in_features=1, out_features=1, bias=True),\n",
              "  (tensor([0.3000]),),\n",
              "  tensor([-0.8366], grad_fn=<AddBackward0>))]"
            ]
          },
          "metadata": {},
          "execution_count": 67
        }
      ]
    },
    {
      "cell_type": "markdown",
      "source": [
        "If you call the model once\n",
        "again, it will append yet another tuple to the list, and so on and so forth. \n",
        "\n",
        "This hook\n",
        "is going to be hooked to our model until it is explicitly removed."
      ],
      "metadata": {
        "id": "GJGvWz_hswuC"
      }
    },
    {
      "cell_type": "code",
      "source": [
        "dummy_handle.remove()"
      ],
      "metadata": {
        "id": "NPa-AcAisyoK"
      },
      "execution_count": 68,
      "outputs": []
    },
    {
      "cell_type": "markdown",
      "source": [
        "But we did not lose the collected information, since\n",
        "our variable, dummy_list, was defined outside the hook function."
      ],
      "metadata": {
        "id": "EqcPnzImtg9G"
      }
    },
    {
      "cell_type": "code",
      "source": [
        "dummy_list"
      ],
      "metadata": {
        "id": "dX_XwJ6wtids",
        "outputId": "35045422-c722-458a-a6a4-02a6a2ef1ca9",
        "colab": {
          "base_uri": "https://localhost:8080/"
        }
      },
      "execution_count": 69,
      "outputs": [
        {
          "output_type": "execute_result",
          "data": {
            "text/plain": [
              "[(Linear(in_features=1, out_features=1, bias=True),\n",
              "  (tensor([0.3000]),),\n",
              "  tensor([-0.8366], grad_fn=<AddBackward0>))]"
            ]
          },
          "metadata": {},
          "execution_count": 69
        }
      ]
    },
    {
      "cell_type": "markdown",
      "source": [
        "Let’s get back to our real model now."
      ],
      "metadata": {
        "id": "0wk48ecFtuZS"
      }
    },
    {
      "cell_type": "code",
      "source": [
        "modules = list(sbs_cnn1.model.named_modules())\n",
        "modules"
      ],
      "metadata": {
        "id": "2CYXYCDwtuzo",
        "outputId": "86894087-d4a7-4711-bae3-4179676dd426",
        "colab": {
          "base_uri": "https://localhost:8080/"
        }
      },
      "execution_count": 70,
      "outputs": [
        {
          "output_type": "execute_result",
          "data": {
            "text/plain": [
              "[('', Sequential(\n",
              "    (conv1): Conv2d(1, 1, kernel_size=(3, 3), stride=(1, 1))\n",
              "    (relu1): ReLU()\n",
              "    (maxp1): MaxPool2d(kernel_size=2, stride=2, padding=0, dilation=1, ceil_mode=False)\n",
              "    (flatten): Flatten(start_dim=1, end_dim=-1)\n",
              "    (fc1): Linear(in_features=16, out_features=10, bias=True)\n",
              "    (relu2): ReLU()\n",
              "    (fc2): Linear(in_features=10, out_features=3, bias=True)\n",
              "  )),\n",
              " ('conv1', Conv2d(1, 1, kernel_size=(3, 3), stride=(1, 1))),\n",
              " ('relu1', ReLU()),\n",
              " ('maxp1',\n",
              "  MaxPool2d(kernel_size=2, stride=2, padding=0, dilation=1, ceil_mode=False)),\n",
              " ('flatten', Flatten(start_dim=1, end_dim=-1)),\n",
              " ('fc1', Linear(in_features=16, out_features=10, bias=True)),\n",
              " ('relu2', ReLU()),\n",
              " ('fc2', Linear(in_features=10, out_features=3, bias=True))]"
            ]
          },
          "metadata": {},
          "execution_count": 70
        }
      ]
    },
    {
      "cell_type": "markdown",
      "source": [
        "So,\n",
        "we need to be able to look up the layer name, given the corresponding layer\n",
        "instance."
      ],
      "metadata": {
        "id": "XgTR2bUhuXH0"
      }
    },
    {
      "cell_type": "code",
      "source": [
        "layer_names = {layer: name for name, layer in modules[1:]}\n",
        "layer_names"
      ],
      "metadata": {
        "id": "hU530SsvuXr3",
        "outputId": "2ec39840-d38a-4684-b2b3-3921e1fc4017",
        "colab": {
          "base_uri": "https://localhost:8080/"
        }
      },
      "execution_count": 71,
      "outputs": [
        {
          "output_type": "execute_result",
          "data": {
            "text/plain": [
              "{Conv2d(1, 1, kernel_size=(3, 3), stride=(1, 1)): 'conv1',\n",
              " ReLU(): 'relu1',\n",
              " MaxPool2d(kernel_size=2, stride=2, padding=0, dilation=1, ceil_mode=False): 'maxp1',\n",
              " Flatten(start_dim=1, end_dim=-1): 'flatten',\n",
              " Linear(in_features=16, out_features=10, bias=True): 'fc1',\n",
              " ReLU(): 'relu2',\n",
              " Linear(in_features=10, out_features=3, bias=True): 'fc2'}"
            ]
          },
          "metadata": {},
          "execution_count": 71
        }
      ]
    },
    {
      "cell_type": "markdown",
      "source": [
        "OK, it is time to create a real hook function:"
      ],
      "metadata": {
        "id": "PMTAtn7yuzk3"
      }
    },
    {
      "cell_type": "code",
      "source": [
        "visualization = {}\n",
        "\n",
        "def hook_fn(layer, inputs, outputs):\n",
        "  print(outputs)\n",
        "  name = layer_names[layer]\n",
        "  visualization[name] = outputs.detach().cpu().numpy()"
      ],
      "metadata": {
        "id": "hC5Alra8u0GV"
      },
      "execution_count": 72,
      "outputs": []
    },
    {
      "cell_type": "code",
      "source": [
        "layers_to_hook = ['conv1', 'relu1', 'maxp1', 'flatten', 'fc1', 'relu2', 'fc2']\n",
        "handles = {}\n",
        "\n",
        "for name, layer in modules:\n",
        "  if name in layers_to_hook:\n",
        "    handles[name] = layer.register_forward_hook(hook_fn)"
      ],
      "metadata": {
        "id": "uGkVLlySQAXr"
      },
      "execution_count": 73,
      "outputs": []
    },
    {
      "cell_type": "code",
      "source": [
        "# Let’s fetch one mini-batch from the validation loader\n",
        "images_batch, labels_batch = next(iter(val_loader))\n",
        "logits = sbs_cnn1.predict(images_batch)"
      ],
      "metadata": {
        "id": "MjeIyiAuQb0x",
        "outputId": "7064afae-3fd9-40d2-f300-ebc4130ef7a0",
        "colab": {
          "base_uri": "https://localhost:8080/"
        }
      },
      "execution_count": 74,
      "outputs": [
        {
          "output_type": "stream",
          "name": "stdout",
          "text": [
            "tensor([[[[-0.0982, -0.0687, -0.0363,  ..., -0.0324, -0.0982, -0.0982],\n",
            "          [-0.0982, -0.0982, -0.0687,  ..., -0.0138, -0.0324, -0.0982],\n",
            "          [-0.0982, -0.0982, -0.0982,  ..., -0.0170, -0.0138, -0.0324],\n",
            "          ...,\n",
            "          [-0.0982, -0.0982, -0.0982,  ..., -0.0982, -0.0687, -0.0363],\n",
            "          [-0.0982, -0.0982, -0.0982,  ..., -0.0982, -0.0982, -0.0687],\n",
            "          [-0.0982, -0.0982, -0.0982,  ..., -0.0982, -0.0982, -0.0982]]],\n",
            "\n",
            "\n",
            "        [[[-0.0982, -0.0982, -0.0982,  ..., -0.0170, -0.0138, -0.0324],\n",
            "          [-0.0982, -0.0982, -0.0982,  ..., -0.0363, -0.0170, -0.0138],\n",
            "          [-0.0982, -0.0982, -0.0982,  ..., -0.0687, -0.0363, -0.0170],\n",
            "          ...,\n",
            "          [-0.0982, -0.0982, -0.0982,  ..., -0.0982, -0.0982, -0.0982],\n",
            "          [-0.0982, -0.0982, -0.0982,  ..., -0.0982, -0.0982, -0.0982],\n",
            "          [-0.0982, -0.0982, -0.0982,  ..., -0.0982, -0.0982, -0.0982]]],\n",
            "\n",
            "\n",
            "        [[[-0.0982, -0.0982, -0.0982,  ..., -0.0982, -0.0982, -0.0687],\n",
            "          [-0.0982, -0.0982, -0.0982,  ..., -0.0982, -0.0982, -0.0982],\n",
            "          [-0.0982, -0.0982, -0.0982,  ..., -0.0982, -0.0982, -0.0982],\n",
            "          ...,\n",
            "          [-0.0982, -0.0982, -0.0982,  ..., -0.0982, -0.0982, -0.0982],\n",
            "          [-0.0982, -0.0982, -0.0982,  ..., -0.0982, -0.0982, -0.0982],\n",
            "          [-0.0982, -0.0982, -0.0982,  ..., -0.0982, -0.0982, -0.0982]]],\n",
            "\n",
            "\n",
            "        ...,\n",
            "\n",
            "\n",
            "        [[[-0.0982, -0.0982, -0.0982,  ..., -0.0982,  4.1107,  3.3213],\n",
            "          [-0.0982, -0.0982, -0.0982,  ...,  4.1107,  3.3213, -2.1178],\n",
            "          [-0.0982, -0.0982, -0.0982,  ...,  3.3213, -2.1178, -3.3715],\n",
            "          ...,\n",
            "          [-0.0982,  4.1107,  3.3213,  ..., -2.1111, -0.0982, -0.0982],\n",
            "          [ 4.1107,  3.3213, -2.1178,  ..., -0.0982, -0.0982, -0.0982],\n",
            "          [ 3.3213, -2.1178, -3.3715,  ..., -0.0982, -0.0982, -0.0982]]],\n",
            "\n",
            "\n",
            "        [[[-0.0982, -0.0982, -0.0982,  ..., -0.0687, -0.0363, -0.0170],\n",
            "          [-0.0982, -0.0982, -0.0982,  ..., -0.0982, -0.0687, -0.0363],\n",
            "          [-0.0982, -0.0982, -0.0982,  ..., -0.0982, -0.0982, -0.0687],\n",
            "          ...,\n",
            "          [-0.0982, -0.0982, -0.0982,  ..., -0.0982, -0.0982, -0.0982],\n",
            "          [-0.0982, -0.0982, -0.0982,  ..., -0.0982, -0.0982, -0.0982],\n",
            "          [-0.0982, -0.0982, -0.0982,  ..., -0.0982, -0.0982, -0.0982]]],\n",
            "\n",
            "\n",
            "        [[[-0.0982, -0.0982, -0.0982,  ..., -0.0982, -0.0982, -0.0982],\n",
            "          [-0.0982, -0.0982, -0.0982,  ..., -0.0982, -0.0982, -0.0982],\n",
            "          [-0.0982, -0.0982, -0.0982,  ..., -0.0982, -0.0982, -0.0982],\n",
            "          ...,\n",
            "          [ 6.0771,  6.0771,  6.0771,  ...,  6.0771,  6.0771,  6.0771],\n",
            "          [-2.5103, -2.5103, -2.5103,  ..., -2.5103, -2.5103, -2.5103],\n",
            "          [-3.5387, -3.5387, -3.5387,  ..., -3.5387, -3.5387, -3.5387]]]],\n",
            "       grad_fn=<ConvolutionBackward0>)\n",
            "tensor([[[[0.0000, 0.0000, 0.0000,  ..., 0.0000, 0.0000, 0.0000],\n",
            "          [0.0000, 0.0000, 0.0000,  ..., 0.0000, 0.0000, 0.0000],\n",
            "          [0.0000, 0.0000, 0.0000,  ..., 0.0000, 0.0000, 0.0000],\n",
            "          ...,\n",
            "          [0.0000, 0.0000, 0.0000,  ..., 0.0000, 0.0000, 0.0000],\n",
            "          [0.0000, 0.0000, 0.0000,  ..., 0.0000, 0.0000, 0.0000],\n",
            "          [0.0000, 0.0000, 0.0000,  ..., 0.0000, 0.0000, 0.0000]]],\n",
            "\n",
            "\n",
            "        [[[0.0000, 0.0000, 0.0000,  ..., 0.0000, 0.0000, 0.0000],\n",
            "          [0.0000, 0.0000, 0.0000,  ..., 0.0000, 0.0000, 0.0000],\n",
            "          [0.0000, 0.0000, 0.0000,  ..., 0.0000, 0.0000, 0.0000],\n",
            "          ...,\n",
            "          [0.0000, 0.0000, 0.0000,  ..., 0.0000, 0.0000, 0.0000],\n",
            "          [0.0000, 0.0000, 0.0000,  ..., 0.0000, 0.0000, 0.0000],\n",
            "          [0.0000, 0.0000, 0.0000,  ..., 0.0000, 0.0000, 0.0000]]],\n",
            "\n",
            "\n",
            "        [[[0.0000, 0.0000, 0.0000,  ..., 0.0000, 0.0000, 0.0000],\n",
            "          [0.0000, 0.0000, 0.0000,  ..., 0.0000, 0.0000, 0.0000],\n",
            "          [0.0000, 0.0000, 0.0000,  ..., 0.0000, 0.0000, 0.0000],\n",
            "          ...,\n",
            "          [0.0000, 0.0000, 0.0000,  ..., 0.0000, 0.0000, 0.0000],\n",
            "          [0.0000, 0.0000, 0.0000,  ..., 0.0000, 0.0000, 0.0000],\n",
            "          [0.0000, 0.0000, 0.0000,  ..., 0.0000, 0.0000, 0.0000]]],\n",
            "\n",
            "\n",
            "        ...,\n",
            "\n",
            "\n",
            "        [[[0.0000, 0.0000, 0.0000,  ..., 0.0000, 4.1107, 3.3213],\n",
            "          [0.0000, 0.0000, 0.0000,  ..., 4.1107, 3.3213, 0.0000],\n",
            "          [0.0000, 0.0000, 0.0000,  ..., 3.3213, 0.0000, 0.0000],\n",
            "          ...,\n",
            "          [0.0000, 4.1107, 3.3213,  ..., 0.0000, 0.0000, 0.0000],\n",
            "          [4.1107, 3.3213, 0.0000,  ..., 0.0000, 0.0000, 0.0000],\n",
            "          [3.3213, 0.0000, 0.0000,  ..., 0.0000, 0.0000, 0.0000]]],\n",
            "\n",
            "\n",
            "        [[[0.0000, 0.0000, 0.0000,  ..., 0.0000, 0.0000, 0.0000],\n",
            "          [0.0000, 0.0000, 0.0000,  ..., 0.0000, 0.0000, 0.0000],\n",
            "          [0.0000, 0.0000, 0.0000,  ..., 0.0000, 0.0000, 0.0000],\n",
            "          ...,\n",
            "          [0.0000, 0.0000, 0.0000,  ..., 0.0000, 0.0000, 0.0000],\n",
            "          [0.0000, 0.0000, 0.0000,  ..., 0.0000, 0.0000, 0.0000],\n",
            "          [0.0000, 0.0000, 0.0000,  ..., 0.0000, 0.0000, 0.0000]]],\n",
            "\n",
            "\n",
            "        [[[0.0000, 0.0000, 0.0000,  ..., 0.0000, 0.0000, 0.0000],\n",
            "          [0.0000, 0.0000, 0.0000,  ..., 0.0000, 0.0000, 0.0000],\n",
            "          [0.0000, 0.0000, 0.0000,  ..., 0.0000, 0.0000, 0.0000],\n",
            "          ...,\n",
            "          [6.0771, 6.0771, 6.0771,  ..., 6.0771, 6.0771, 6.0771],\n",
            "          [0.0000, 0.0000, 0.0000,  ..., 0.0000, 0.0000, 0.0000],\n",
            "          [0.0000, 0.0000, 0.0000,  ..., 0.0000, 0.0000, 0.0000]]]],\n",
            "       grad_fn=<ReluBackward0>)\n",
            "tensor([[[[0.0000, 0.0000, 0.0000, 0.0000],\n",
            "          [0.0000, 0.0000, 0.0000, 0.0000],\n",
            "          [0.0000, 0.0000, 0.0000, 0.0000],\n",
            "          [0.0000, 0.0000, 0.0000, 0.0000]]],\n",
            "\n",
            "\n",
            "        [[[0.0000, 0.0000, 0.0000, 0.0000],\n",
            "          [0.0000, 0.0000, 0.0000, 0.0000],\n",
            "          [0.0000, 0.0000, 0.0000, 0.0000],\n",
            "          [0.0000, 0.0000, 0.0000, 0.0000]]],\n",
            "\n",
            "\n",
            "        [[[0.0000, 0.0000, 0.0000, 0.0000],\n",
            "          [0.0000, 0.0000, 0.0000, 0.0000],\n",
            "          [0.0000, 0.0000, 0.0000, 0.0000],\n",
            "          [0.0000, 0.0000, 0.0000, 0.0000]]],\n",
            "\n",
            "\n",
            "        [[[0.0000, 5.6592, 0.0000, 0.0000],\n",
            "          [0.0000, 5.6592, 0.0000, 0.0000],\n",
            "          [0.0000, 5.6592, 0.0000, 0.0000],\n",
            "          [0.0000, 5.6592, 0.0000, 0.0000]]],\n",
            "\n",
            "\n",
            "        [[[0.0000, 0.0000, 5.6592, 0.0000],\n",
            "          [0.0000, 0.0000, 5.6592, 0.0000],\n",
            "          [0.0000, 0.0000, 5.6592, 0.0000],\n",
            "          [0.0000, 0.0000, 5.6592, 0.0000]]],\n",
            "\n",
            "\n",
            "        [[[0.0000, 5.6592, 0.0000, 0.0000],\n",
            "          [0.0000, 5.6592, 0.0000, 0.0000],\n",
            "          [0.0000, 5.6592, 0.0000, 0.0000],\n",
            "          [0.0000, 5.6592, 0.0000, 0.0000]]],\n",
            "\n",
            "\n",
            "        [[[0.0000, 0.0000, 0.0000, 0.0000],\n",
            "          [0.0000, 0.0000, 0.0000, 0.0000],\n",
            "          [0.0000, 0.0000, 0.0000, 0.0000],\n",
            "          [0.0000, 0.0000, 0.0000, 0.0000]]],\n",
            "\n",
            "\n",
            "        [[[0.0000, 0.0000, 0.0000, 0.0000],\n",
            "          [0.0000, 0.0000, 0.0000, 0.0000],\n",
            "          [0.0000, 0.0000, 0.0000, 0.0000],\n",
            "          [0.0000, 0.0000, 0.0000, 0.0000]]],\n",
            "\n",
            "\n",
            "        [[[0.0000, 0.0000, 0.0000, 0.0000],\n",
            "          [0.0000, 0.0000, 0.0000, 0.0000],\n",
            "          [0.0000, 0.0000, 0.0000, 0.0000],\n",
            "          [0.0000, 0.0000, 0.0000, 0.0000]]],\n",
            "\n",
            "\n",
            "        [[[4.1107, 4.1107, 0.0000, 0.0000],\n",
            "          [4.1107, 0.0000, 0.0000, 0.0000],\n",
            "          [0.0000, 0.0000, 0.0000, 0.0000],\n",
            "          [0.0000, 0.0000, 0.0000, 0.0000]]],\n",
            "\n",
            "\n",
            "        [[[0.0000, 0.0000, 0.0000, 0.0000],\n",
            "          [0.0000, 0.0000, 0.0000, 0.0000],\n",
            "          [0.0000, 0.0000, 0.0000, 0.0000],\n",
            "          [6.0771, 6.0771, 6.0771, 6.0771]]],\n",
            "\n",
            "\n",
            "        [[[4.1107, 0.0000, 0.0000, 0.0000],\n",
            "          [0.0000, 0.0000, 0.0000, 0.0000],\n",
            "          [0.0000, 0.0000, 0.0000, 0.0000],\n",
            "          [0.0000, 0.0000, 0.0000, 0.0000]]],\n",
            "\n",
            "\n",
            "        [[[0.0000, 0.0000, 0.0000, 0.0000],\n",
            "          [0.0000, 0.0000, 0.0000, 0.0000],\n",
            "          [0.0000, 0.0000, 0.0000, 0.0000],\n",
            "          [0.0000, 0.0000, 0.0000, 0.0000]]],\n",
            "\n",
            "\n",
            "        [[[0.0000, 0.0000, 4.1107, 4.1107],\n",
            "          [0.0000, 4.1107, 4.1107, 0.0000],\n",
            "          [4.1107, 4.1107, 0.0000, 0.0000],\n",
            "          [4.1107, 0.0000, 0.0000, 0.0000]]],\n",
            "\n",
            "\n",
            "        [[[0.0000, 0.0000, 0.0000, 0.0000],\n",
            "          [0.0000, 0.0000, 0.0000, 0.0000],\n",
            "          [0.0000, 0.0000, 0.0000, 0.0000],\n",
            "          [0.0000, 0.0000, 0.0000, 0.0000]]],\n",
            "\n",
            "\n",
            "        [[[0.0000, 0.0000, 0.0000, 0.0000],\n",
            "          [0.0000, 0.0000, 0.0000, 0.0000],\n",
            "          [6.0771, 6.0771, 6.0771, 6.0771],\n",
            "          [0.0000, 0.0000, 0.0000, 0.0000]]]],\n",
            "       grad_fn=<MaxPool2DWithIndicesBackward0>)\n",
            "tensor([[0.0000, 0.0000, 0.0000, 0.0000, 0.0000, 0.0000, 0.0000, 0.0000, 0.0000,\n",
            "         0.0000, 0.0000, 0.0000, 0.0000, 0.0000, 0.0000, 0.0000],\n",
            "        [0.0000, 0.0000, 0.0000, 0.0000, 0.0000, 0.0000, 0.0000, 0.0000, 0.0000,\n",
            "         0.0000, 0.0000, 0.0000, 0.0000, 0.0000, 0.0000, 0.0000],\n",
            "        [0.0000, 0.0000, 0.0000, 0.0000, 0.0000, 0.0000, 0.0000, 0.0000, 0.0000,\n",
            "         0.0000, 0.0000, 0.0000, 0.0000, 0.0000, 0.0000, 0.0000],\n",
            "        [0.0000, 5.6592, 0.0000, 0.0000, 0.0000, 5.6592, 0.0000, 0.0000, 0.0000,\n",
            "         5.6592, 0.0000, 0.0000, 0.0000, 5.6592, 0.0000, 0.0000],\n",
            "        [0.0000, 0.0000, 5.6592, 0.0000, 0.0000, 0.0000, 5.6592, 0.0000, 0.0000,\n",
            "         0.0000, 5.6592, 0.0000, 0.0000, 0.0000, 5.6592, 0.0000],\n",
            "        [0.0000, 5.6592, 0.0000, 0.0000, 0.0000, 5.6592, 0.0000, 0.0000, 0.0000,\n",
            "         5.6592, 0.0000, 0.0000, 0.0000, 5.6592, 0.0000, 0.0000],\n",
            "        [0.0000, 0.0000, 0.0000, 0.0000, 0.0000, 0.0000, 0.0000, 0.0000, 0.0000,\n",
            "         0.0000, 0.0000, 0.0000, 0.0000, 0.0000, 0.0000, 0.0000],\n",
            "        [0.0000, 0.0000, 0.0000, 0.0000, 0.0000, 0.0000, 0.0000, 0.0000, 0.0000,\n",
            "         0.0000, 0.0000, 0.0000, 0.0000, 0.0000, 0.0000, 0.0000],\n",
            "        [0.0000, 0.0000, 0.0000, 0.0000, 0.0000, 0.0000, 0.0000, 0.0000, 0.0000,\n",
            "         0.0000, 0.0000, 0.0000, 0.0000, 0.0000, 0.0000, 0.0000],\n",
            "        [4.1107, 4.1107, 0.0000, 0.0000, 4.1107, 0.0000, 0.0000, 0.0000, 0.0000,\n",
            "         0.0000, 0.0000, 0.0000, 0.0000, 0.0000, 0.0000, 0.0000],\n",
            "        [0.0000, 0.0000, 0.0000, 0.0000, 0.0000, 0.0000, 0.0000, 0.0000, 0.0000,\n",
            "         0.0000, 0.0000, 0.0000, 6.0771, 6.0771, 6.0771, 6.0771],\n",
            "        [4.1107, 0.0000, 0.0000, 0.0000, 0.0000, 0.0000, 0.0000, 0.0000, 0.0000,\n",
            "         0.0000, 0.0000, 0.0000, 0.0000, 0.0000, 0.0000, 0.0000],\n",
            "        [0.0000, 0.0000, 0.0000, 0.0000, 0.0000, 0.0000, 0.0000, 0.0000, 0.0000,\n",
            "         0.0000, 0.0000, 0.0000, 0.0000, 0.0000, 0.0000, 0.0000],\n",
            "        [0.0000, 0.0000, 4.1107, 4.1107, 0.0000, 4.1107, 4.1107, 0.0000, 4.1107,\n",
            "         4.1107, 0.0000, 0.0000, 4.1107, 0.0000, 0.0000, 0.0000],\n",
            "        [0.0000, 0.0000, 0.0000, 0.0000, 0.0000, 0.0000, 0.0000, 0.0000, 0.0000,\n",
            "         0.0000, 0.0000, 0.0000, 0.0000, 0.0000, 0.0000, 0.0000],\n",
            "        [0.0000, 0.0000, 0.0000, 0.0000, 0.0000, 0.0000, 0.0000, 0.0000, 6.0771,\n",
            "         6.0771, 6.0771, 6.0771, 0.0000, 0.0000, 0.0000, 0.0000]],\n",
            "       grad_fn=<ReshapeAliasBackward0>)\n",
            "tensor([[ 9.6244e-02, -2.5688e-01, -5.2451e-02,  2.8409e-01, -3.7491e-02,\n",
            "          2.7037e-01,  3.7307e-01,  3.6741e-01, -3.1490e-02, -1.2003e-01],\n",
            "        [ 9.6244e-02, -2.5688e-01, -5.2451e-02,  2.8409e-01, -3.7491e-02,\n",
            "          2.7037e-01,  3.7307e-01,  3.6741e-01, -3.1490e-02, -1.2003e-01],\n",
            "        [ 9.6244e-02, -2.5688e-01, -5.2451e-02,  2.8409e-01, -3.7491e-02,\n",
            "          2.7037e-01,  3.7307e-01,  3.6741e-01, -3.1490e-02, -1.2003e-01],\n",
            "        [ 1.2440e-02, -6.0062e+00,  1.5531e+00,  2.1701e+00,  6.0134e+00,\n",
            "         -8.6462e+00,  2.4218e+00,  2.9214e+00,  1.7760e-04,  5.6696e+00],\n",
            "        [ 6.1296e+00,  4.9274e+00,  3.7224e+00, -2.5266e+00,  1.8923e+00,\n",
            "          6.1164e+00,  9.5281e-02,  9.0912e-01,  2.4394e-01, -4.0645e+00],\n",
            "        [ 1.2440e-02, -6.0062e+00,  1.5531e+00,  2.1701e+00,  6.0134e+00,\n",
            "         -8.6462e+00,  2.4218e+00,  2.9214e+00,  1.7760e-04,  5.6696e+00],\n",
            "        [ 9.6244e-02, -2.5688e-01, -5.2451e-02,  2.8409e-01, -3.7491e-02,\n",
            "          2.7037e-01,  3.7307e-01,  3.6741e-01, -3.1490e-02, -1.2003e-01],\n",
            "        [ 9.6244e-02, -2.5688e-01, -5.2451e-02,  2.8409e-01, -3.7491e-02,\n",
            "          2.7037e-01,  3.7307e-01,  3.6741e-01, -3.1490e-02, -1.2003e-01],\n",
            "        [ 9.6244e-02, -2.5688e-01, -5.2451e-02,  2.8409e-01, -3.7491e-02,\n",
            "          2.7037e-01,  3.7307e-01,  3.6741e-01, -3.1490e-02, -1.2003e-01],\n",
            "        [-2.3874e+00, -9.1925e-03,  3.5612e+00, -4.1453e-01, -6.7493e-01,\n",
            "          5.2002e-01,  2.5290e-03,  2.1351e-01,  3.3250e+00,  3.4519e+00],\n",
            "        [ 2.2164e+00,  4.1319e+00,  3.1334e+00, -3.4484e+00,  4.3939e+00,\n",
            "         -1.5860e+00, -4.5105e+00, -2.1365e-02, -4.1573e-02,  6.9522e+00],\n",
            "        [-1.5684e+00,  3.5256e-01,  2.2436e+00, -4.8886e-01, -6.0933e-01,\n",
            "         -4.4899e-02, -9.6977e-02,  5.8188e-01,  2.9139e+00,  1.5347e+00],\n",
            "        [ 9.6244e-02, -2.5688e-01, -5.2451e-02,  2.8409e-01, -3.7491e-02,\n",
            "          2.7037e-01,  3.7307e-01,  3.6741e-01, -3.1490e-02, -1.2003e-01],\n",
            "        [ 4.0998e+00,  1.1897e+00,  5.1538e+00, -4.4702e-02,  2.6712e+00,\n",
            "          9.1254e-03, -4.4101e-03,  1.9618e+00,  1.2559e+00,  2.6158e+00],\n",
            "        [ 9.6244e-02, -2.5688e-01, -5.2451e-02,  2.8409e-01, -3.7491e-02,\n",
            "          2.7037e-01,  3.7307e-01,  3.6741e-01, -3.1490e-02, -1.2003e-01],\n",
            "        [ 4.1015e+00,  2.2517e+00,  5.4396e+00,  7.6003e+00,  3.4545e+00,\n",
            "         -3.3757e+00,  2.7478e+00,  2.2965e+00, -3.8824e-01, -4.0769e+00]],\n",
            "       grad_fn=<AddmmBackward0>)\n",
            "tensor([[9.6244e-02, 0.0000e+00, 0.0000e+00, 2.8409e-01, 0.0000e+00, 2.7037e-01,\n",
            "         3.7307e-01, 3.6741e-01, 0.0000e+00, 0.0000e+00],\n",
            "        [9.6244e-02, 0.0000e+00, 0.0000e+00, 2.8409e-01, 0.0000e+00, 2.7037e-01,\n",
            "         3.7307e-01, 3.6741e-01, 0.0000e+00, 0.0000e+00],\n",
            "        [9.6244e-02, 0.0000e+00, 0.0000e+00, 2.8409e-01, 0.0000e+00, 2.7037e-01,\n",
            "         3.7307e-01, 3.6741e-01, 0.0000e+00, 0.0000e+00],\n",
            "        [1.2440e-02, 0.0000e+00, 1.5531e+00, 2.1701e+00, 6.0134e+00, 0.0000e+00,\n",
            "         2.4218e+00, 2.9214e+00, 1.7760e-04, 5.6696e+00],\n",
            "        [6.1296e+00, 4.9274e+00, 3.7224e+00, 0.0000e+00, 1.8923e+00, 6.1164e+00,\n",
            "         9.5281e-02, 9.0912e-01, 2.4394e-01, 0.0000e+00],\n",
            "        [1.2440e-02, 0.0000e+00, 1.5531e+00, 2.1701e+00, 6.0134e+00, 0.0000e+00,\n",
            "         2.4218e+00, 2.9214e+00, 1.7760e-04, 5.6696e+00],\n",
            "        [9.6244e-02, 0.0000e+00, 0.0000e+00, 2.8409e-01, 0.0000e+00, 2.7037e-01,\n",
            "         3.7307e-01, 3.6741e-01, 0.0000e+00, 0.0000e+00],\n",
            "        [9.6244e-02, 0.0000e+00, 0.0000e+00, 2.8409e-01, 0.0000e+00, 2.7037e-01,\n",
            "         3.7307e-01, 3.6741e-01, 0.0000e+00, 0.0000e+00],\n",
            "        [9.6244e-02, 0.0000e+00, 0.0000e+00, 2.8409e-01, 0.0000e+00, 2.7037e-01,\n",
            "         3.7307e-01, 3.6741e-01, 0.0000e+00, 0.0000e+00],\n",
            "        [0.0000e+00, 0.0000e+00, 3.5612e+00, 0.0000e+00, 0.0000e+00, 5.2002e-01,\n",
            "         2.5290e-03, 2.1351e-01, 3.3250e+00, 3.4519e+00],\n",
            "        [2.2164e+00, 4.1319e+00, 3.1334e+00, 0.0000e+00, 4.3939e+00, 0.0000e+00,\n",
            "         0.0000e+00, 0.0000e+00, 0.0000e+00, 6.9522e+00],\n",
            "        [0.0000e+00, 3.5256e-01, 2.2436e+00, 0.0000e+00, 0.0000e+00, 0.0000e+00,\n",
            "         0.0000e+00, 5.8188e-01, 2.9139e+00, 1.5347e+00],\n",
            "        [9.6244e-02, 0.0000e+00, 0.0000e+00, 2.8409e-01, 0.0000e+00, 2.7037e-01,\n",
            "         3.7307e-01, 3.6741e-01, 0.0000e+00, 0.0000e+00],\n",
            "        [4.0998e+00, 1.1897e+00, 5.1538e+00, 0.0000e+00, 2.6712e+00, 9.1254e-03,\n",
            "         0.0000e+00, 1.9618e+00, 1.2559e+00, 2.6158e+00],\n",
            "        [9.6244e-02, 0.0000e+00, 0.0000e+00, 2.8409e-01, 0.0000e+00, 2.7037e-01,\n",
            "         3.7307e-01, 3.6741e-01, 0.0000e+00, 0.0000e+00],\n",
            "        [4.1015e+00, 2.2517e+00, 5.4396e+00, 7.6003e+00, 3.4545e+00, 0.0000e+00,\n",
            "         2.7478e+00, 2.2965e+00, 0.0000e+00, 0.0000e+00]],\n",
            "       grad_fn=<ReluBackward0>)\n",
            "tensor([[ -0.4888,  -0.7405,   1.4701],\n",
            "        [ -0.4888,  -0.7405,   1.4701],\n",
            "        [ -0.4888,  -0.7405,   1.4701],\n",
            "        [  8.7027,   1.7883,  -5.4678],\n",
            "        [  6.4709,  -1.2642,  -2.8015],\n",
            "        [  8.7027,   1.7883,  -5.4678],\n",
            "        [ -0.4888,  -0.7405,   1.4701],\n",
            "        [ -0.4888,  -0.7405,   1.4701],\n",
            "        [ -0.4888,  -0.7405,   1.4701],\n",
            "        [  0.8632,   6.2313,  -5.2358],\n",
            "        [ 10.0063,   2.7433, -10.8433],\n",
            "        [ -0.8574,   5.0248,  -2.7073],\n",
            "        [ -0.4888,  -0.7405,   1.4701],\n",
            "        [  1.2478,   7.5828,  -5.8709],\n",
            "        [ -0.4888,  -0.7405,   1.4701],\n",
            "        [  7.3204,  -0.0212,  -2.1209]], grad_fn=<AddmmBackward0>)\n"
          ]
        }
      ]
    },
    {
      "cell_type": "code",
      "source": [
        "visualization.keys()"
      ],
      "metadata": {
        "id": "tBpWGzXhQwhX",
        "outputId": "981b8396-f85e-4fe4-9618-5e10b2aaf01c",
        "colab": {
          "base_uri": "https://localhost:8080/"
        }
      },
      "execution_count": 75,
      "outputs": [
        {
          "output_type": "execute_result",
          "data": {
            "text/plain": [
              "dict_keys(['conv1', 'relu1', 'maxp1', 'flatten', 'fc1', 'relu2', 'fc2'])"
            ]
          },
          "metadata": {},
          "execution_count": 75
        }
      ]
    },
    {
      "cell_type": "code",
      "source": [
        "# let’s remove the hooks\n",
        "for handle in handles.values():\n",
        "  handle.remove()\n",
        "handles = {}"
      ],
      "metadata": {
        "id": "SZh1-f28TEN3"
      },
      "execution_count": 76,
      "outputs": []
    },
    {
      "cell_type": "code",
      "source": [
        "setattr(StepByStep, 'visualization', {})\n",
        "setattr(StepByStep, 'handles', {})\n",
        "\n",
        "def attach_hooks(self, layers_to_hook, hook_fn=None):\n",
        "    # Clear any previous values\n",
        "    self.visualization = {}\n",
        "    # Creates the dictionary to map layer objects to their names\n",
        "    modules = list(self.model.named_modules())\n",
        "    layer_names = {layer: name for name, layer in modules[1:]}\n",
        "\n",
        "    if hook_fn is None:\n",
        "        # Hook function to be attached to the forward pass\n",
        "        def hook_fn(layer, inputs, outputs):\n",
        "            # Gets the layer name\n",
        "            name = layer_names[layer]\n",
        "            # Detaches outputs\n",
        "            values = outputs.detach().cpu().numpy()\n",
        "            # Since the hook function may be called multiple times\n",
        "            # for example, if we make predictions for multiple mini-batches\n",
        "            # it concatenates the results\n",
        "            if self.visualization[name] is None:\n",
        "                self.visualization[name] = values\n",
        "            else:\n",
        "                self.visualization[name] = np.concatenate([self.visualization[name], values])\n",
        "\n",
        "    for name, layer in modules:\n",
        "        # If the layer is in our list\n",
        "        if name in layers_to_hook:\n",
        "            # Initializes the corresponding key in the dictionary\n",
        "            self.visualization[name] = None\n",
        "            # Register the forward hook and keep the handle in another dict\n",
        "            self.handles[name] = layer.register_forward_hook(hook_fn)\n",
        "\n",
        "def remove_hooks(self):\n",
        "    # Loops through all hooks and removes them\n",
        "    for handle in self.handles.values():\n",
        "        handle.remove()\n",
        "    # Clear the dict, as all hooks have been removed\n",
        "    self.handles = {}\n",
        "    \n",
        "setattr(StepByStep, 'attach_hooks', attach_hooks)\n",
        "setattr(StepByStep, 'remove_hooks', remove_hooks)"
      ],
      "metadata": {
        "id": "D3sqjOwiTddg"
      },
      "execution_count": 77,
      "outputs": []
    },
    {
      "cell_type": "markdown",
      "source": [
        "The procedure is fairly straightforward now: Give it a list containing the names of\n",
        "the layers to attach hooks to, and you’re done!"
      ],
      "metadata": {
        "id": "9EfesoRJT02I"
      }
    },
    {
      "cell_type": "code",
      "source": [
        "sbs_cnn1.attach_hooks(layers_to_hook=['conv1', 'relu1', 'maxp1', 'flatten', 'fc1', 'relu2', 'fc2'])"
      ],
      "metadata": {
        "id": "sn_FLc8yT1Tw"
      },
      "execution_count": 78,
      "outputs": []
    },
    {
      "cell_type": "code",
      "source": [
        "images_batch, labels_batch = next(iter(val_loader))\n",
        "logits = sbs_cnn1.predict(images_batch)"
      ],
      "metadata": {
        "id": "b7K4ih8WUspn"
      },
      "execution_count": 79,
      "outputs": []
    },
    {
      "cell_type": "markdown",
      "source": [
        "Don’t forget to remove the hooks after you’re finished with the predictions."
      ],
      "metadata": {
        "id": "eTlbDqQNUx-o"
      }
    },
    {
      "cell_type": "code",
      "source": [
        "sbs_cnn1.remove_hooks()"
      ],
      "metadata": {
        "id": "1kgtyIWOUyZ3"
      },
      "execution_count": 80,
      "outputs": []
    },
    {
      "cell_type": "markdown",
      "source": [
        "Before moving on, don’t forget the model is producing logits as outputs. \n",
        "\n",
        "To get the\n",
        "predicted classes, we can simply take the index of the largest logit for each data\n",
        "point:"
      ],
      "metadata": {
        "id": "-kwYc6ToU93W"
      }
    },
    {
      "cell_type": "code",
      "source": [
        "predicted = np.argmax(logits, 1)\n",
        "predicted"
      ],
      "metadata": {
        "id": "tq8Rar0FU_Eh",
        "outputId": "a53a0a5f-9fcc-4e80-f42b-72b209aab9e2",
        "colab": {
          "base_uri": "https://localhost:8080/"
        }
      },
      "execution_count": 81,
      "outputs": [
        {
          "output_type": "execute_result",
          "data": {
            "text/plain": [
              "array([2, 2, 2, 0, 0, 0, 2, 2, 2, 1, 0, 1, 2, 1, 2, 0])"
            ]
          },
          "metadata": {},
          "execution_count": 81
        }
      ]
    },
    {
      "cell_type": "markdown",
      "source": [
        "###Visualizing Feature Maps"
      ],
      "metadata": {
        "id": "oLvZ0kJwVNwt"
      }
    },
    {
      "cell_type": "markdown",
      "source": [
        "First, let’s visualize the first ten images sampled from the validation loader."
      ],
      "metadata": {
        "id": "geYVA15GVOge"
      }
    },
    {
      "cell_type": "code",
      "source": [
        "fig = plot_images(images_batch.squeeze(), labels_batch.squeeze(), n_plot=10)"
      ],
      "metadata": {
        "id": "bdeTy1O2VRxb",
        "outputId": "be822e1b-b756-43fb-85bc-6b28dc04828c",
        "colab": {
          "base_uri": "https://localhost:8080/",
          "height": 96
        }
      },
      "execution_count": 82,
      "outputs": [
        {
          "output_type": "display_data",
          "data": {
            "text/plain": [
              "<Figure size 1080x108 with 10 Axes>"
            ],
            "image/png": "[encoded data removed]"
          },
          "metadata": {}
        }
      ]
    },
    {
      "cell_type": "markdown",
      "source": [
        "To visualize the feature maps, we can simply retrieves the captured feature maps\n",
        "from the visualization dictionary and need plot them."
      ],
      "metadata": {
        "id": "Ld6C30phzajG"
      }
    },
    {
      "cell_type": "code",
      "source": [
        "def visualize_outputs(self, layers, n_images=10, y=None, yhat=None):\n",
        "  layers = filter(lambda layer: layer in self.visualization.keys(), layers)\n",
        "  layers = list(layers)\n",
        "  shapes = [self.visualization[layer].shape for layer in layers]\n",
        "  n_rows = [shape[1] if len(shape) == 4 else 1 for shape in shapes]\n",
        "  total_rows = np.sum(n_rows)\n",
        "\n",
        "  fig, axes = plt.subplots(total_rows, n_images, figsize=(1.5 * n_images, 1.5 * total_rows))\n",
        "  axes = np.atleast_2d(axes).reshape(total_rows, n_images)\n",
        "\n",
        "  # Loops through the layers, one layer per row of subplots\n",
        "  row = 0\n",
        "  for i, layer in enumerate(layers):\n",
        "    start_row = row\n",
        "    # Takes the produced feature maps for that layer\n",
        "    output = self.visualization[layer]\n",
        "    is_vector = len(output.shape) == 2\n",
        "    for j in range(n_rows[i]):\n",
        "      StepByStep._visualize_tensors(\n",
        "        axes[row, :],\n",
        "        output if is_vector else output[:, j].squeeze(),\n",
        "        y,\n",
        "        yhat,\n",
        "        layer_name=layers[i] if is_vector else f\"{layers[i]}\\nfil#{row - start_row}\",\n",
        "        title=\"Image\" if row==0 else None\n",
        "      )\n",
        "      row += 1\n",
        "\n",
        "  for ax in axes.flat:\n",
        "    ax.label_outer()\n",
        "\n",
        "  plt.tight_layout()\n",
        "  return fig\n",
        "\n",
        "setattr(StepByStep, 'visualize_outputs', visualize_outputs)"
      ],
      "metadata": {
        "id": "KNDifBqGzlwz"
      },
      "execution_count": 84,
      "outputs": []
    },
    {
      "cell_type": "markdown",
      "source": [
        "Now, let's plot the feature maps for the layers in the\n",
        "featurizer part of our model."
      ],
      "metadata": {
        "id": "vfF0uv1X30IK"
      }
    },
    {
      "cell_type": "code",
      "source": [
        "featurizer_layers = ['conv1', 'relu1', 'maxp1', 'flatten']\n",
        "\n",
        "with plt.style.context('seaborn-white'):\n",
        "  fig = sbs_cnn1.visualize_outputs(featurizer_layers)"
      ],
      "metadata": {
        "id": "4evQdzMG3sa9",
        "outputId": "abea139f-db79-4a3e-a34d-b5c6450b1e6f",
        "colab": {
          "base_uri": "https://localhost:8080/",
          "height": 327
        }
      },
      "execution_count": 85,
      "outputs": [
        {
          "output_type": "display_data",
          "data": {
            "text/plain": [
              "<Figure size 1080x432 with 40 Axes>"
            ],
            "image/png": "[encoded data removed]"
          },
          "metadata": {}
        }
      ]
    },
    {
      "cell_type": "markdown",
      "source": [
        "###Visualizing Classifier Layers"
      ],
      "metadata": {
        "id": "cFQO-I_o4eZz"
      }
    },
    {
      "cell_type": "markdown",
      "source": [],
      "metadata": {
        "id": "cbv7N5jx4fMF"
      }
    }
  ]
}