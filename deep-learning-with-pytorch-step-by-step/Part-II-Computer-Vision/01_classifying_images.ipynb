{
  "nbformat": 4,
  "nbformat_minor": 0,
  "metadata": {
    "colab": {
      "provenance": [],
      "authorship_tag": "ABX9TyOVZZno7cQX5uIn3dyJ5QvW",
      "include_colab_link": true
    },
    "kernelspec": {
      "name": "python3",
      "display_name": "Python 3"
    },
    "language_info": {
      "name": "python"
    }
  },
  "cells": [
    {
      "cell_type": "markdown",
      "metadata": {
        "id": "view-in-github",
        "colab_type": "text"
      },
      "source": [
        "<a href=\"https://colab.research.google.com/github/rahiakela/deep-learning-research-and-practice/blob/main/deep-learning-with-pytorch-step-by-step/Part-II-Computer-Vision/01_classifying_images.ipynb\" target=\"_parent\"><img src=\"https://colab.research.google.com/assets/colab-badge.svg\" alt=\"Open In Colab\"/></a>"
      ]
    },
    {
      "cell_type": "markdown",
      "source": [
        "##Classifying Images"
      ],
      "metadata": {
        "id": "ramasEs7yT6J"
      }
    },
    {
      "cell_type": "markdown",
      "source": [
        "Let’s classify images! Although the data is\n",
        "different, it is still a classification problem, so we will try to predict which class an\n",
        "image belongs to.\n",
        "\n",
        "First, let’s generate some images to work with (so we don’t have to use MNIST!)."
      ],
      "metadata": {
        "id": "XYs4jxmcyUoB"
      }
    },
    {
      "cell_type": "markdown",
      "source": [
        "##Setup"
      ],
      "metadata": {
        "id": "2qKkF4aqyddp"
      }
    },
    {
      "cell_type": "code",
      "source": [
        "try:\n",
        "  import google.colab\n",
        "  import requests\n",
        "  url = 'https://raw.githubusercontent.com/dvgodoy/PyTorchStepByStep/master/config.py'\n",
        "  r = requests.get(url, allow_redirects=True)\n",
        "  open('config.py', 'wb').write(r.content)    \n",
        "except ModuleNotFoundError:\n",
        "  pass\n",
        "\n",
        "from config import *\n",
        "config_chapter4()\n",
        "# This is needed to render the plots in this chapter\n",
        "from plots.chapter4 import *"
      ],
      "metadata": {
        "id": "bRn0N4y8yesU"
      },
      "execution_count": null,
      "outputs": []
    },
    {
      "cell_type": "code",
      "source": [
        "import random\n",
        "import numpy as np\n",
        "from PIL import Image\n",
        "\n",
        "import torch\n",
        "import torch.optim as optim\n",
        "import torch.nn as nn\n",
        "import torch.nn.functional as F\n",
        "\n",
        "from torch.utils.data import DataLoader, Dataset, random_split, WeightedRandomSampler, SubsetRandomSampler\n",
        "from torchvision.transforms import Compose, ToTensor, Normalize, ToPILImage, RandomHorizontalFlip, Resize\n",
        "\n",
        "import matplotlib.pyplot as plt\n",
        "plt.style.use('fivethirtyeight')\n",
        "%matplotlib inline\n",
        "\n",
        "from data_generation.image_classification import generate_dataset\n",
        "from stepbystep.v0 import StepByStep\n",
        "from plots.chapter4 import *"
      ],
      "metadata": {
        "id": "3ZTuQZ5gylYt"
      },
      "execution_count": 56,
      "outputs": []
    },
    {
      "cell_type": "code",
      "source": [
        "from IPython.core.display import display, HTML\n",
        "display(HTML(\"<style>.container { width:80% !important; }</style>\"))"
      ],
      "metadata": {
        "colab": {
          "base_uri": "https://localhost:8080/",
          "height": 17
        },
        "id": "DmgDM3-KyoUv",
        "outputId": "208fd405-c04a-4f6c-9684-9bd8806eac46"
      },
      "execution_count": 57,
      "outputs": [
        {
          "output_type": "display_data",
          "data": {
            "text/plain": [
              "<IPython.core.display.HTML object>"
            ],
            "text/html": [
              "<style>.container { width:80% !important; }</style>"
            ]
          },
          "metadata": {}
        }
      ]
    },
    {
      "cell_type": "markdown",
      "source": [
        "## Data Generation"
      ],
      "metadata": {
        "id": "Akgnzn-Gyz6P"
      }
    },
    {
      "cell_type": "markdown",
      "source": [
        "Our images are quite simple: They have black backgrounds and white lines drawn\n",
        "on top of them. The lines can be drawn either in a diagonal or in a parallel way. \n",
        "\n",
        "So, our classification\n",
        "problem can be simply stated as: Is the line diagonal?\n",
        "\n",
        "If the line is diagonal, then we assume it belongs to the positive class. If it is not\n",
        "diagonal, it belongs to the negative class.\n",
        "\n",
        "|Line|Value|Class|\n",
        "|--|--|--|\n",
        "|Not Diagonal|0|Negative|\n",
        "|Diagonal|1|Positive|\n",
        "\n",
        "Let’s generate 300 random images, each one five-by-five pixels in size."
      ],
      "metadata": {
        "id": "fZJKPiwe0pCa"
      }
    },
    {
      "cell_type": "code",
      "source": [
        "images, labels = generate_dataset(img_size=5, n_images=300, binary=True, seed=13)"
      ],
      "metadata": {
        "id": "GF7RKAbi1MtH"
      },
      "execution_count": 58,
      "outputs": []
    },
    {
      "cell_type": "code",
      "source": [
        "# let’s visualize the first 30 images\n",
        "fig = plot_images(images, labels, n_plot=30)"
      ],
      "metadata": {
        "colab": {
          "base_uri": "https://localhost:8080/",
          "height": 549
        },
        "id": "oWEazRLX1lul",
        "outputId": "86a8cc79-4600-496b-9971-011214edf736"
      },
      "execution_count": 59,
      "outputs": [
        {
          "output_type": "display_data",
          "data": {
            "text/plain": [
              "<Figure size 648x540 with 30 Axes>"
            ],
            "image/png": "[encoded data removed]"
          },
          "metadata": {}
        }
      ]
    },
    {
      "cell_type": "markdown",
      "source": [
        "###Images and Channels"
      ],
      "metadata": {
        "id": "TX-JCqli3SFR"
      }
    },
    {
      "cell_type": "markdown",
      "source": [
        "To illustrate how images are represented, let’s create three separate images\n",
        "first:"
      ],
      "metadata": {
        "id": "a-nBQZAc3TKv"
      }
    },
    {
      "cell_type": "code",
      "source": [
        "image_r = np.zeros((5, 5), dtype=np.uint8)\n",
        "image_r[:, 0] = 255\n",
        "image_r[:, 1] = 128\n",
        "\n",
        "image_g = np.zeros((5, 5), dtype=np.uint8)\n",
        "image_g[:, 1] = 128\n",
        "image_g[:, 2] = 255\n",
        "image_g[:, 3] = 128\n",
        "\n",
        "image_b = np.zeros((5, 5), dtype=np.uint8)\n",
        "image_b[:, 3] = 128\n",
        "image_b[:, 4] = 255"
      ],
      "metadata": {
        "id": "29fk86vZ3XoB"
      },
      "execution_count": 60,
      "outputs": []
    },
    {
      "cell_type": "code",
      "source": [
        "# If we perform a weighted average of these three colors, we’ll get another grayscale image.\n",
        "image_gray = .2126*image_r + .7152*image_g + .0722*image_b"
      ],
      "metadata": {
        "id": "WV1gWba45oJA"
      },
      "execution_count": 61,
      "outputs": []
    },
    {
      "cell_type": "code",
      "source": [
        "# Let’s see what the matrices above represent\n",
        "fig = image_channels(image_r, image_g, image_b, None, image_gray, rows=(0, 1))"
      ],
      "metadata": {
        "colab": {
          "base_uri": "https://localhost:8080/",
          "height": 248
        },
        "id": "12KECyhm4B4B",
        "outputId": "5d87c4c0-68e1-4685-df23-52f67dd40d1a"
      },
      "execution_count": 62,
      "outputs": [
        {
          "output_type": "display_data",
          "data": {
            "text/plain": [
              "<Figure size 1080x396 with 8 Axes>"
            ],
            "image/png": "[encoded data removed]"
          },
          "metadata": {
            "needs_background": "light"
          }
        }
      ]
    },
    {
      "cell_type": "code",
      "source": [
        "# we only need to stack the three images representing the three colors, each image becoming a channel\n",
        "image_rgb = np.stack([image_r, image_g, image_b], axis=2)"
      ],
      "metadata": {
        "id": "8I69fWkD51II"
      },
      "execution_count": 63,
      "outputs": []
    },
    {
      "cell_type": "code",
      "source": [
        "# Let’s see what those same matrices represent\n",
        "fig = image_channels(image_r, image_g, image_b, image_rgb, image_gray, rows=(0, 2))"
      ],
      "metadata": {
        "colab": {
          "base_uri": "https://localhost:8080/",
          "height": 247
        },
        "id": "cj9CKqCW6kI3",
        "outputId": "2252aa68-e640-4bb2-d816-51f987bad8c4"
      },
      "execution_count": 64,
      "outputs": [
        {
          "output_type": "display_data",
          "data": {
            "text/plain": [
              "<Figure size 1080x396 with 8 Axes>"
            ],
            "image/png": "[encoded data removed]"
          },
          "metadata": {
            "needs_background": "light"
          }
        }
      ]
    },
    {
      "cell_type": "markdown",
      "source": [
        "###Image Shape"
      ],
      "metadata": {
        "id": "pVWs7lHn7UHM"
      }
    },
    {
      "cell_type": "markdown",
      "source": [
        "Our dataset generates images following the PyTorch format; that is, NCHW."
      ],
      "metadata": {
        "id": "cLCOhevi7eTH"
      }
    },
    {
      "cell_type": "code",
      "source": [
        "# What’s the shape of our dataset\n",
        "images.shape"
      ],
      "metadata": {
        "colab": {
          "base_uri": "https://localhost:8080/"
        },
        "id": "JMY0-9YY7Rpk",
        "outputId": "f3ea281b-2326-488e-e62a-9d9bd1bac096"
      },
      "execution_count": 65,
      "outputs": [
        {
          "output_type": "execute_result",
          "data": {
            "text/plain": [
              "(300, 1, 5, 5)"
            ]
          },
          "metadata": {},
          "execution_count": 65
        }
      ]
    },
    {
      "cell_type": "code",
      "source": [
        "# Let’s take a closer look at one image\n",
        "example = images[7]\n",
        "example"
      ],
      "metadata": {
        "colab": {
          "base_uri": "https://localhost:8080/"
        },
        "id": "kX1EFQBU7YmD",
        "outputId": "8b4b3b0b-ed24-47da-c62d-ea52380f9701"
      },
      "execution_count": 66,
      "outputs": [
        {
          "output_type": "execute_result",
          "data": {
            "text/plain": [
              "array([[[  0, 255,   0,   0,   0],\n",
              "        [  0,   0, 255,   0,   0],\n",
              "        [  0,   0,   0, 255,   0],\n",
              "        [  0,   0,   0,   0, 255],\n",
              "        [  0,   0,   0,   0,   0]]], dtype=uint8)"
            ]
          },
          "metadata": {},
          "execution_count": 66
        }
      ]
    },
    {
      "cell_type": "markdown",
      "source": [
        "What would an image in the HWC (PIL image format) look like?\n",
        "\n",
        "We can transpose\n",
        "the first dimension to become the last using Numpy's `transpose()`:"
      ],
      "metadata": {
        "id": "ek9RB3oM79JT"
      }
    },
    {
      "cell_type": "code",
      "source": [
        "example_hwc = np.transpose(example, (1, 2, 0))\n",
        "example_hwc.shape"
      ],
      "metadata": {
        "colab": {
          "base_uri": "https://localhost:8080/"
        },
        "id": "gqriNhWy8Aoz",
        "outputId": "1820603a-65e0-4a12-fc68-cb20e0289357"
      },
      "execution_count": 67,
      "outputs": [
        {
          "output_type": "execute_result",
          "data": {
            "text/plain": [
              "(5, 5, 1)"
            ]
          },
          "metadata": {},
          "execution_count": 67
        }
      ]
    },
    {
      "cell_type": "code",
      "source": [
        "example_hwc"
      ],
      "metadata": {
        "colab": {
          "base_uri": "https://localhost:8080/"
        },
        "id": "vUTp6OyR8Mxw",
        "outputId": "804f4bbb-3d17-4dcd-a1cf-e65463b951ff"
      },
      "execution_count": 68,
      "outputs": [
        {
          "output_type": "execute_result",
          "data": {
            "text/plain": [
              "array([[[  0],\n",
              "        [255],\n",
              "        [  0],\n",
              "        [  0],\n",
              "        [  0]],\n",
              "\n",
              "       [[  0],\n",
              "        [  0],\n",
              "        [255],\n",
              "        [  0],\n",
              "        [  0]],\n",
              "\n",
              "       [[  0],\n",
              "        [  0],\n",
              "        [  0],\n",
              "        [255],\n",
              "        [  0]],\n",
              "\n",
              "       [[  0],\n",
              "        [  0],\n",
              "        [  0],\n",
              "        [  0],\n",
              "        [255]],\n",
              "\n",
              "       [[  0],\n",
              "        [  0],\n",
              "        [  0],\n",
              "        [  0],\n",
              "        [  0]]], dtype=uint8)"
            ]
          },
          "metadata": {},
          "execution_count": 68
        }
      ]
    },
    {
      "cell_type": "markdown",
      "source": [
        "##Torchvision"
      ],
      "metadata": {
        "id": "fUFfaYb78asa"
      }
    },
    {
      "cell_type": "markdown",
      "source": [
        "Torchvision is a package containing popular datasets, model architectures, and\n",
        "common image transformations for computer vision.\n",
        "\n",
        "* Datasets\n",
        "* Models\n",
        "* Transforms"
      ],
      "metadata": {
        "id": "E3ovtUcV8beQ"
      }
    },
    {
      "cell_type": "markdown",
      "source": [
        "###Image transformations"
      ],
      "metadata": {
        "id": "ME2RPy-UCI58"
      }
    },
    {
      "cell_type": "markdown",
      "source": [
        "Let’s start by using `ToTensor()` to convert a Numpy array to a\n",
        "PyTorch tensor."
      ],
      "metadata": {
        "id": "RBJlp-WRCUXw"
      }
    },
    {
      "cell_type": "code",
      "source": [
        "tensorizer = ToTensor()\n",
        "example_tensor = tensorizer(example_hwc)\n",
        "example_tensor.shape"
      ],
      "metadata": {
        "id": "fuhfN92n8QEK",
        "outputId": "60279325-9a46-40d7-e424-8b745b4487c3",
        "colab": {
          "base_uri": "https://localhost:8080/"
        }
      },
      "execution_count": 69,
      "outputs": [
        {
          "output_type": "execute_result",
          "data": {
            "text/plain": [
              "torch.Size([1, 5, 5])"
            ]
          },
          "metadata": {},
          "execution_count": 69
        }
      ]
    },
    {
      "cell_type": "code",
      "source": [
        "example_tensor"
      ],
      "metadata": {
        "id": "LFTvZwXOCilw",
        "outputId": "0b77534c-0a44-41da-b9be-4ddfe5839d1a",
        "colab": {
          "base_uri": "https://localhost:8080/"
        }
      },
      "execution_count": 70,
      "outputs": [
        {
          "output_type": "execute_result",
          "data": {
            "text/plain": [
              "tensor([[[0., 1., 0., 0., 0.],\n",
              "         [0., 0., 1., 0., 0.],\n",
              "         [0., 0., 0., 1., 0.],\n",
              "         [0., 0., 0., 0., 1.],\n",
              "         [0., 0., 0., 0., 0.]]])"
            ]
          },
          "metadata": {},
          "execution_count": 70
        }
      ]
    },
    {
      "cell_type": "code",
      "source": [
        "# let's visualize the resulting images\n",
        "example_img = ToPILImage()(example_tensor)\n",
        "print(type(example_img))\n",
        "\n",
        "plt.imshow(example_img, cmap=\"gray\")\n",
        "plt.grid(False)"
      ],
      "metadata": {
        "id": "x2kT4tjmCm6k",
        "outputId": "ef46a812-a475-47fc-d581-921f1e0188fb",
        "colab": {
          "base_uri": "https://localhost:8080/",
          "height": 279
        }
      },
      "execution_count": 71,
      "outputs": [
        {
          "output_type": "stream",
          "name": "stdout",
          "text": [
            "<class 'PIL.Image.Image'>\n"
          ]
        },
        {
          "output_type": "display_data",
          "data": {
            "text/plain": [
              "<Figure size 432x288 with 1 Axes>"
            ],
            "image/png": "[encoded data removed]"
          },
          "metadata": {
            "needs_background": "light"
          }
        }
      ]
    },
    {
      "cell_type": "markdown",
      "source": [
        "Torchvision implemented the interesting transformations that modify the training images in many different ways:\n",
        "\n",
        "- rotating\n",
        "- shifting\n",
        "- flipping\n",
        "- cropping,\n",
        "- blurring\n",
        "- zooming in\n",
        "- adding noise\n",
        "- erasing\n",
        "\n",
        "That’s what’s called data augmentation. It is a clever technique to expand a\n",
        "dataset (augment it) without collecting more data.\n",
        "\n",
        "Let’s use our\n",
        "example image above and try some random horizontal flipping."
      ],
      "metadata": {
        "id": "rw1CR0atDK1X"
      }
    },
    {
      "cell_type": "code",
      "source": [
        "flipper = RandomHorizontalFlip(p=1.0)\n",
        "flipped_img = flipper(example_img)\n",
        "\n",
        "plt.imshow(flipped_img, cmap=\"gray\")\n",
        "plt.show()"
      ],
      "metadata": {
        "id": "iCIdFL-YLcHh",
        "outputId": "db38e620-29c6-4c16-fa1c-5be1a4c5d53f",
        "colab": {
          "base_uri": "https://localhost:8080/",
          "height": 262
        }
      },
      "execution_count": 72,
      "outputs": [
        {
          "output_type": "display_data",
          "data": {
            "text/plain": [
              "<Figure size 432x288 with 1 Axes>"
            ],
            "image/png": "[encoded data removed]"
          },
          "metadata": {
            "needs_background": "light"
          }
        }
      ]
    },
    {
      "cell_type": "markdown",
      "source": [
        "###Transforms on Tensor"
      ],
      "metadata": {
        "id": "rjF1xgTWJkph"
      }
    },
    {
      "cell_type": "markdown",
      "source": [
        "There are only four transforms that take (non-image) tensors as inputs:\n",
        "- `LinearTransformation()`\n",
        "- `Normalize()`\n",
        "- `RandomErasing()`\n",
        "- `ConvertImageDtype()`\n",
        "\n",
        "First, let’s transform our flipped image to a tensor."
      ],
      "metadata": {
        "id": "G1oC1ZsqJlqX"
      }
    },
    {
      "cell_type": "code",
      "source": [
        "img_tensor = tensorizer(example_img)\n",
        "img_tensor"
      ],
      "metadata": {
        "id": "V6V-hZzUJR0S",
        "outputId": "d56ddde8-91e7-4064-de1f-e5e65255f50d",
        "colab": {
          "base_uri": "https://localhost:8080/"
        }
      },
      "execution_count": 73,
      "outputs": [
        {
          "output_type": "execute_result",
          "data": {
            "text/plain": [
              "tensor([[[0., 1., 0., 0., 0.],\n",
              "         [0., 0., 1., 0., 0.],\n",
              "         [0., 0., 0., 1., 0.],\n",
              "         [0., 0., 0., 0., 1.],\n",
              "         [0., 0., 0., 0., 0.]]])"
            ]
          },
          "metadata": {},
          "execution_count": 73
        }
      ]
    },
    {
      "cell_type": "markdown",
      "source": [
        "Now we can apply one of the most common transformations: `Normalize()`.\n",
        "\n",
        "But, instead of computing mean and standard deviation first,let’s set the mean to 0.5 and set the standard deviation to 0.5 as well.\n",
        "\n",
        "By doing so, we’ll effectively be performing a min-max scaling such that the resulting range is `[-1, 1]`.\n",
        "\n",
        "$$\n",
        "\\Large\n",
        "\\begin{aligned}\n",
        "\\text{input} = 0 \\implies \\frac{0 - \\text{mean}}{\\text{std}}= \\frac{0 - 0.5}{0.5}&=-1\n",
        "\\\\\n",
        "\\text{input} = 1 \\implies \\frac{1 - \\text{mean}}{\\text{std}}= \\frac{1 - 0.5}{0.5}&=1\n",
        "\\end{aligned}\n",
        "$$\n",
        "\n",
        "Now, if we had taken the trouble of actually computing the real mean and\n",
        "standard deviation of the training data, we would have achieved an actual\n",
        "standardization; that is, our training data would have zero mean and unit standard\n",
        "deviation.\n",
        "\n"
      ],
      "metadata": {
        "id": "9GIeKWPCLfJH"
      }
    },
    {
      "cell_type": "code",
      "source": [
        "normalizer = Normalize(mean=(.5,), std=(.5,))\n",
        "normalized_tensor = normalizer(img_tensor)\n",
        "normalized_tensor"
      ],
      "metadata": {
        "id": "z7bk2ZrOM6-Y",
        "outputId": "6459ecf1-d683-4b01-a5cb-eed2162aea25",
        "colab": {
          "base_uri": "https://localhost:8080/"
        }
      },
      "execution_count": 74,
      "outputs": [
        {
          "output_type": "execute_result",
          "data": {
            "text/plain": [
              "tensor([[[-1.,  1., -1., -1., -1.],\n",
              "         [-1., -1.,  1., -1., -1.],\n",
              "         [-1., -1., -1.,  1., -1.],\n",
              "         [-1., -1., -1., -1.,  1.],\n",
              "         [-1., -1., -1., -1., -1.]]])"
            ]
          },
          "metadata": {},
          "execution_count": 74
        }
      ]
    },
    {
      "cell_type": "markdown",
      "source": [
        "###Composing Transforms"
      ],
      "metadata": {
        "id": "GpWp-r3vNXdy"
      }
    },
    {
      "cell_type": "markdown",
      "source": [
        "When composing several transformations into a single, big,\n",
        "composed transformation, we use `Compose()` function.\n",
        "\n",
        "It is quite simple, actually: Just line up all desired transformations in a list. This\n",
        "works pretty much the same way as a pipeline in Scikit-Learn.\n",
        "\n",
        "Let’s compose a new transformation using the following list of transformations:\n",
        "\n",
        "- First, let’s flip an image using `RandomHorizontalFlip()`.\n",
        "- Next, let’s perform some min-max scaling using `Normalize()`."
      ],
      "metadata": {
        "id": "ZTuJ-ITZNYN-"
      }
    },
    {
      "cell_type": "code",
      "source": [
        "composer = Compose([\n",
        "  RandomHorizontalFlip(p=1.0),\n",
        "  Normalize(mean=(.5,), std=(.5,))\n",
        "])\n",
        "\n",
        "composed_tensor = composer(example_tensor)\n",
        "(composed_tensor == normalized_tensor).all()"
      ],
      "metadata": {
        "id": "egvC-crYOF4k",
        "outputId": "e10d3250-305c-48b7-e1a1-56b26027837f",
        "colab": {
          "base_uri": "https://localhost:8080/"
        }
      },
      "execution_count": 75,
      "outputs": [
        {
          "output_type": "execute_result",
          "data": {
            "text/plain": [
              "tensor(False)"
            ]
          },
          "metadata": {},
          "execution_count": 75
        }
      ]
    },
    {
      "cell_type": "code",
      "source": [
        "# let’s briefly compare it to the example_tensor we used as the actual input\n",
        "print(example)\n",
        "print(example_tensor)"
      ],
      "metadata": {
        "id": "HGyk1qXSPcoM",
        "outputId": "ac6b97e3-23e7-4965-e280-799fd695de12",
        "colab": {
          "base_uri": "https://localhost:8080/"
        }
      },
      "execution_count": 76,
      "outputs": [
        {
          "output_type": "stream",
          "name": "stdout",
          "text": [
            "[[[  0 255   0   0   0]\n",
            "  [  0   0 255   0   0]\n",
            "  [  0   0   0 255   0]\n",
            "  [  0   0   0   0 255]\n",
            "  [  0   0   0   0   0]]]\n",
            "tensor([[[0., 1., 0., 0., 0.],\n",
            "         [0., 0., 1., 0., 0.],\n",
            "         [0., 0., 0., 1., 0.],\n",
            "         [0., 0., 0., 0., 1.],\n",
            "         [0., 0., 0., 0., 0.]]])\n"
          ]
        }
      ]
    },
    {
      "cell_type": "markdown",
      "source": [
        "As you can see, the only differences between them are the scale (255 vs one) and\n",
        "the type (integer and float).\n",
        "\n",
        "We can convert the former into the latter using a one-liner."
      ],
      "metadata": {
        "id": "lHkZTFK9PyMe"
      }
    },
    {
      "cell_type": "code",
      "source": [
        "example_tensor = torch.as_tensor(example / 255).float()\n",
        "example_tensor"
      ],
      "metadata": {
        "id": "CN72TS-cP1fr",
        "outputId": "7f16d7f5-5eb4-4320-aeaa-f0b2ba17cdab",
        "colab": {
          "base_uri": "https://localhost:8080/"
        }
      },
      "execution_count": 77,
      "outputs": [
        {
          "output_type": "execute_result",
          "data": {
            "text/plain": [
              "tensor([[[0., 1., 0., 0., 0.],\n",
              "         [0., 0., 1., 0., 0.],\n",
              "         [0., 0., 0., 1., 0.],\n",
              "         [0., 0., 0., 0., 1.],\n",
              "         [0., 0., 0., 0., 0.]]])"
            ]
          },
          "metadata": {},
          "execution_count": 77
        }
      ]
    },
    {
      "cell_type": "markdown",
      "source": [
        "##Data Preparation"
      ],
      "metadata": {
        "id": "V1Cdy7GSQEOf"
      }
    },
    {
      "cell_type": "markdown",
      "source": [
        "The first step of data preparation, is to convert our\n",
        "features and labels from Numpy arrays to PyTorch tensors."
      ],
      "metadata": {
        "id": "pvxl1D-jQFFS"
      }
    },
    {
      "cell_type": "code",
      "source": [
        "# Builds tensors from numpy arrays BEFORE split\n",
        "x_tensor = torch.as_tensor(images / 255).float()\n",
        "y_tensor = torch.as_tensor(labels.reshape(-1, 1)).float()"
      ],
      "metadata": {
        "id": "turfC5LDj6BM"
      },
      "execution_count": 78,
      "outputs": []
    },
    {
      "cell_type": "markdown",
      "source": [
        "###Dataset Transforms"
      ],
      "metadata": {
        "id": "11yRN3sjkWpk"
      }
    },
    {
      "cell_type": "markdown",
      "source": [
        "Let's build our own custom dataset that is capable of handling\n",
        "transformations."
      ],
      "metadata": {
        "id": "XHf7DctHkve9"
      }
    },
    {
      "cell_type": "code",
      "source": [
        "class TransformedDataset(Dataset):\n",
        "  def __init__(self, x, y, transform=None):\n",
        "    self.x = x\n",
        "    self.y = y\n",
        "    self.transform = transform\n",
        "\n",
        "  def __getitem__(self, index):\n",
        "    x = self.x[index]\n",
        "\n",
        "    # transforms the features\n",
        "    if self.transform:\n",
        "      x = self.transform(x)\n",
        "\n",
        "    return x, self.y[index]\n",
        "\n",
        "  def __len__(self):\n",
        "    return len(self.x)"
      ],
      "metadata": {
        "id": "01PLMe9skMiQ"
      },
      "execution_count": 79,
      "outputs": []
    },
    {
      "cell_type": "markdown",
      "source": [
        "So, let’s redefine our composed transformations and create our dataset."
      ],
      "metadata": {
        "id": "SBw-ZOuXm5Rt"
      }
    },
    {
      "cell_type": "code",
      "source": [
        "composer = Compose([\n",
        "    RandomHorizontalFlip(p=0.5),\n",
        "    Normalize(mean=(.5,), std=(.5,))\n",
        "])\n",
        "\n",
        "dataset = TransformedDataset(x_tensor, y_tensor, composer)"
      ],
      "metadata": {
        "id": "rwB5Z-mwmknI"
      },
      "execution_count": 80,
      "outputs": []
    },
    {
      "cell_type": "markdown",
      "source": [
        "###Data sampler"
      ],
      "metadata": {
        "id": "AYi6SZoAwPYI"
      }
    },
    {
      "cell_type": "markdown",
      "source": [
        "The SubsetRandomSampler samples indices from a list, given as argument, without\n",
        "replacement. As in the other samplers, these indices are used to load data from a\n",
        "dataset. \n",
        "\n",
        "If an index is not on the list, the corresponding data point will never be\n",
        "used.\n",
        "\n"
      ],
      "metadata": {
        "id": "rW4hpRV1wRH_"
      }
    },
    {
      "cell_type": "code",
      "source": [
        "def index_splitter(n, splits, seed=13):\n",
        "  idx = torch.arange(n)\n",
        "  # Makes the split argument a tensor\n",
        "  splits_tensor = torch.as_tensor(splits)\n",
        "  # Finds the correct multiplier, so we don't have to worry about summing up to N (or one)\n",
        "  multiplier = n / splits_tensor.sum()\n",
        "  splits_tensor = (multiplier * splits_tensor).long()\n",
        "  # If there is a difference, throws at the first split so random_split does not complain\n",
        "  diff = n - splits_tensor.sum()\n",
        "  splits_tensor[0] += diff\n",
        "  # Uses PyTorch random_split to split the indices\n",
        "  torch.manual_seed(seed)\n",
        "  return random_split(idx, splits_tensor)"
      ],
      "metadata": {
        "id": "ItmGiZTtwiR1"
      },
      "execution_count": 81,
      "outputs": []
    },
    {
      "cell_type": "code",
      "source": [
        "train_idx, val_idx = index_splitter(len(x_tensor), [80, 20])\n",
        "train_idx"
      ],
      "metadata": {
        "id": "wukiAlA0xpvu",
        "outputId": "14c96950-5020-4be3-8f15-f1d85d1355a3",
        "colab": {
          "base_uri": "https://localhost:8080/"
        }
      },
      "execution_count": 82,
      "outputs": [
        {
          "output_type": "execute_result",
          "data": {
            "text/plain": [
              "<torch.utils.data.dataset.Subset at 0x7f8c4cfcfaf0>"
            ]
          },
          "metadata": {},
          "execution_count": 82
        }
      ]
    },
    {
      "cell_type": "code",
      "source": [
        "train_idx.indices[:5]"
      ],
      "metadata": {
        "id": "NYLzlM25x2HX",
        "outputId": "2144d4f7-0c8a-41e9-e23d-7550949fe548",
        "colab": {
          "base_uri": "https://localhost:8080/"
        }
      },
      "execution_count": 83,
      "outputs": [
        {
          "output_type": "execute_result",
          "data": {
            "text/plain": [
              "[118, 170, 148, 239, 226]"
            ]
          },
          "metadata": {},
          "execution_count": 83
        }
      ]
    },
    {
      "cell_type": "markdown",
      "source": [
        "Next, each Subset object is used as an argument to the corresponding sampler."
      ],
      "metadata": {
        "id": "RDJ_VPQpyHQg"
      }
    },
    {
      "cell_type": "code",
      "source": [
        "train_sampler = SubsetRandomSampler(train_idx)\n",
        "val_sampler = SubsetRandomSampler(val_idx)"
      ],
      "metadata": {
        "id": "s227WY0KyH4N"
      },
      "execution_count": 84,
      "outputs": []
    },
    {
      "cell_type": "markdown",
      "source": [
        "So, we can use a single dataset from which to load the data since the split is\n",
        "controlled by the samplers. \n",
        "\n",
        "But we still need two data loaders, each using its\n",
        "corresponding sampler."
      ],
      "metadata": {
        "id": "q7nHj8D_ygSc"
      }
    },
    {
      "cell_type": "code",
      "source": [
        "# Builds a loader of each set\n",
        "train_loader = DataLoader(dataset=dataset, batch_size=16, sampler=train_sampler)\n",
        "val_loader = DataLoader(dataset=dataset, batch_size=16, sampler=val_sampler)"
      ],
      "metadata": {
        "id": "N1UjTq4qyiOf"
      },
      "execution_count": 85,
      "outputs": []
    },
    {
      "cell_type": "markdown",
      "source": [
        ">If you’re using a sampler, you cannot set `shuffle=True`.\n",
        "\n",
        "We can also check if the loaders are returning the correct number of mini-batches."
      ],
      "metadata": {
        "id": "R7MeJL8Ay9jY"
      }
    },
    {
      "cell_type": "code",
      "source": [
        "len(iter(train_loader)), len(iter(val_loader))"
      ],
      "metadata": {
        "id": "Nw1igOyhzCfd",
        "outputId": "43b6f435-67b6-4353-93ef-b863a47c619b",
        "colab": {
          "base_uri": "https://localhost:8080/"
        }
      },
      "execution_count": 86,
      "outputs": [
        {
          "output_type": "execute_result",
          "data": {
            "text/plain": [
              "(15, 4)"
            ]
          },
          "metadata": {},
          "execution_count": 86
        }
      ]
    },
    {
      "cell_type": "markdown",
      "source": [
        "OK, cool, this means we don’t need two (split) datasets anymore—we only need\n",
        "two samplers."
      ],
      "metadata": {
        "id": "tum62hDXzRVZ"
      }
    },
    {
      "cell_type": "markdown",
      "source": [
        "###Data Augmentation"
      ],
      "metadata": {
        "id": "SrHC28BLzMSq"
      }
    },
    {
      "cell_type": "markdown",
      "source": [
        "The reason why we may still need two split datasets\n",
        "is exactly that: data augmentation. \n",
        "\n",
        "In general, we want to apply data augmentation\n",
        "to the training data only.\n",
        "\n",
        "Data augmentation is accomplished using composing\n",
        "transforms, which will be applied to all points in the dataset.\n",
        "\n",
        "If we need some data points to be augmented, the easiest way to\n",
        "accomplish this is to create two composers and use them in two different datasets."
      ],
      "metadata": {
        "id": "-mmQtulKzM-F"
      }
    },
    {
      "cell_type": "code",
      "source": [
        "# Uses indices to perform the split\n",
        "x_train_tensor = x_tensor[train_idx]\n",
        "y_train_tensor = y_tensor[train_idx]\n",
        "\n",
        "x_val_tensor = x_tensor[val_idx]\n",
        "y_val_tensor = y_tensor[val_idx]"
      ],
      "metadata": {
        "id": "0BU0owZS6Gd6"
      },
      "execution_count": 87,
      "outputs": []
    },
    {
      "cell_type": "markdown",
      "source": [
        "Then, here come the two composers: The `train_composer()` augments the data,\n",
        "and then scales it (min-max); the `val_composer()` only scales the data (min-max)."
      ],
      "metadata": {
        "id": "dF2pDQCg7zuV"
      }
    },
    {
      "cell_type": "code",
      "source": [
        "train_composer = Compose([RandomHorizontalFlip(p=.5), Normalize(mean=(.5,), std=(.5,))])\n",
        "val_composer = Compose([Normalize(mean=(.5,), std=(.5,))])"
      ],
      "metadata": {
        "id": "e9cNpdtp7fEU"
      },
      "execution_count": 88,
      "outputs": []
    },
    {
      "cell_type": "markdown",
      "source": [
        "Next, we use them to create two datasets and their corresponding data loaders."
      ],
      "metadata": {
        "id": "BYO9s7Iy8aVH"
      }
    },
    {
      "cell_type": "code",
      "source": [
        "train_dataset = TransformedDataset(x_train_tensor, y_train_tensor, transform=train_composer)\n",
        "val_dataset = TransformedDataset(x_val_tensor, y_val_tensor, transform=val_composer)\n",
        "\n",
        "# Builds a loader of each set\n",
        "train_loader = DataLoader(dataset=train_dataset, batch_size=16, shuffle=True)\n",
        "val_loader = DataLoader(dataset=val_dataset, batch_size=16)"
      ],
      "metadata": {
        "id": "QmgEtHM48a8t"
      },
      "execution_count": 89,
      "outputs": []
    },
    {
      "cell_type": "markdown",
      "source": [
        "###Weighted Data Sampler"
      ],
      "metadata": {
        "id": "zGXNvzVC9fI6"
      }
    },
    {
      "cell_type": "markdown",
      "source": [
        "Now, we can tackle the imbalance using a different\n",
        "approach: A weighted sampler.\n",
        "\n",
        "The reasoning is pretty much simple, we use\n",
        "weights for sampling.\n",
        "\n",
        "The class with fewer data points (minority class) should get larger weights, while the class with more data points (majority class) should get\n",
        "smaller weights. This way, on average, we’ll end up with mini-batches containing\n",
        "roughly the same number of data points in each class: A balanced dataset.\n",
        "\n",
        "First, we need to find how imbalanced the dataset is."
      ],
      "metadata": {
        "id": "7g2j8aDF9hXE"
      }
    },
    {
      "cell_type": "code",
      "source": [
        "classes, counts = y_train_tensor.unique(return_counts=True)\n",
        "print(classes, counts)"
      ],
      "metadata": {
        "id": "NxsIACfA9H32",
        "outputId": "741d124a-4903-4faf-8461-31943bb7a7f7",
        "colab": {
          "base_uri": "https://localhost:8080/"
        }
      },
      "execution_count": 90,
      "outputs": [
        {
          "output_type": "stream",
          "name": "stdout",
          "text": [
            "tensor([0., 1.]) tensor([ 80, 160])\n"
          ]
        }
      ]
    },
    {
      "cell_type": "markdown",
      "source": [
        "Next, we compute the weights by inverting the counts."
      ],
      "metadata": {
        "id": "M96lNoa-9qvK"
      }
    },
    {
      "cell_type": "code",
      "source": [
        "weights = 1.0 / counts.float()\n",
        "weights"
      ],
      "metadata": {
        "id": "2IcKdRkz9rNU",
        "outputId": "71d3cf60-ac61-4217-8b97-fdbbc47f6f32",
        "colab": {
          "base_uri": "https://localhost:8080/"
        }
      },
      "execution_count": 91,
      "outputs": [
        {
          "output_type": "execute_result",
          "data": {
            "text/plain": [
              "tensor([0.0125, 0.0063])"
            ]
          },
          "metadata": {},
          "execution_count": 91
        }
      ]
    },
    {
      "cell_type": "markdown",
      "source": [
        "The minority class should have the largest weight, so each data\n",
        "point belonging to it gets overrepresented to compensate for the\n",
        "imbalance.\n",
        "\n",
        "\n",
        "Since there are 240 images in our training set, we need 240 weights."
      ],
      "metadata": {
        "id": "ew4ignkU_ozx"
      }
    },
    {
      "cell_type": "code",
      "source": [
        "sample_weights = weights[y_train_tensor.squeeze().long()]\n",
        "\n",
        "print(sample_weights.shape)\n",
        "print(sample_weights[:10])\n",
        "print(y_train_tensor[:10].squeeze())"
      ],
      "metadata": {
        "id": "3NZ_vKgO_6r3",
        "outputId": "1c6c075f-e4a5-4797-c612-f4df9356171c",
        "colab": {
          "base_uri": "https://localhost:8080/"
        }
      },
      "execution_count": 92,
      "outputs": [
        {
          "output_type": "stream",
          "name": "stdout",
          "text": [
            "torch.Size([240])\n",
            "tensor([0.0063, 0.0063, 0.0063, 0.0063, 0.0063, 0.0125, 0.0063, 0.0063, 0.0063,\n",
            "        0.0063])\n",
            "tensor([1., 1., 1., 1., 1., 0., 1., 1., 1., 1.])\n"
          ]
        }
      ]
    },
    {
      "cell_type": "markdown",
      "source": [
        "Let’s create both the generator and\n",
        "the sampler now."
      ],
      "metadata": {
        "id": "4Em8C31mBFJu"
      }
    },
    {
      "cell_type": "code",
      "source": [
        "# To ensure reproducibility, need to create and assign a generator to the sampler\n",
        "generator = torch.Generator()\n",
        "\n",
        "weighted_sampler = WeightedRandomSampler(\n",
        "    weights=sample_weights,  # A sequence of weights\n",
        "    num_samples=len(sample_weights),\n",
        "    generator=generator,\n",
        "    replacement=True     # draws samples with replacement\n",
        ")"
      ],
      "metadata": {
        "id": "jZetaJs_BF2s"
      },
      "execution_count": 93,
      "outputs": []
    },
    {
      "cell_type": "markdown",
      "source": [
        "Now, let’s (re-)create the data loaders using the weighted sampler with the training set."
      ],
      "metadata": {
        "id": "TxZcHLLFEAB1"
      }
    },
    {
      "cell_type": "code",
      "source": [
        "train_loader = DataLoader(dataset=train_dataset, batch_size=16, sampler=weighted_sampler)\n",
        "val_loader = DataLoader(dataset=val_dataset, batch_size=16)"
      ],
      "metadata": {
        "id": "Gxwfii27EBod"
      },
      "execution_count": 94,
      "outputs": []
    },
    {
      "cell_type": "markdown",
      "source": [
        "Let’s build yet another function to wrap it all up."
      ],
      "metadata": {
        "id": "5HN-Z0K8Em_M"
      }
    },
    {
      "cell_type": "code",
      "source": [
        "def make_balanced_sampler(y):\n",
        "  # Computes weights for compensating imbalanced classes\n",
        "  classes, counts = y.unique(return_counts=True)\n",
        "  weights = 1.0 / counts.float()\n",
        "  sample_weights = weights[y.squeeze().long()]\n",
        "  # Builds sampler with compute weights\n",
        "  generator = torch.Generator()\n",
        "  weighted_sampler = WeightedRandomSampler(\n",
        "    weights=sample_weights,  # A sequence of weights\n",
        "    num_samples=len(sample_weights),\n",
        "    generator=generator,\n",
        "    replacement=True     # draws samples with replacement\n",
        "  )\n",
        "  return weighted_sampler"
      ],
      "metadata": {
        "id": "N3cwuL9eEqH-"
      },
      "execution_count": 95,
      "outputs": []
    },
    {
      "cell_type": "code",
      "source": [
        "weighted_sampler = make_balanced_sampler(y_train_tensor)"
      ],
      "metadata": {
        "id": "0LBFk6eWFcp6"
      },
      "execution_count": 96,
      "outputs": []
    },
    {
      "cell_type": "markdown",
      "source": [
        "Time to set the seed for the generator used in the sampler assigned to the data\n",
        "loader."
      ],
      "metadata": {
        "id": "rWnfGUGxFynp"
      }
    },
    {
      "cell_type": "code",
      "source": [
        "train_loader.sampler.generator.manual_seed(42)\n",
        "random.seed(42)"
      ],
      "metadata": {
        "id": "1IqrKBm0FzFy"
      },
      "execution_count": 97,
      "outputs": []
    },
    {
      "cell_type": "markdown",
      "source": [
        "Now we can check if our sampler is doing its job correctly."
      ],
      "metadata": {
        "id": "cdDxZx5bGPSK"
      }
    },
    {
      "cell_type": "code",
      "source": [
        "torch.tensor([t[1].sum() for t in iter(train_loader)]).sum()"
      ],
      "metadata": {
        "id": "EVR9aAknGPul",
        "outputId": "63572d22-0102-427f-c9cc-fbf769b70fad",
        "colab": {
          "base_uri": "https://localhost:8080/"
        }
      },
      "execution_count": 98,
      "outputs": [
        {
          "output_type": "execute_result",
          "data": {
            "text/plain": [
              "tensor(123.)"
            ]
          },
          "metadata": {},
          "execution_count": 98
        }
      ]
    },
    {
      "cell_type": "markdown",
      "source": [
        "Close enough! We have 160 images of the positive class, and now, thanks to the\n",
        "weighted sampler, we’re sampling only 123 of them. \n",
        "\n",
        "It means we’re oversampling\n",
        "the negative class (which has 80 images) to a total of 117 images, adding up to 240\n",
        "images.\n",
        "\n",
        "Mission accomplished, our dataset is balanced now.\n",
        "\n",
        "It’s better to be safe than sorry, so we better set yet another seed to ensure the\n",
        "reproducibility of our code.\n",
        "\n",
        "Let’s update it to include more seeds."
      ],
      "metadata": {
        "id": "T9EsYV3GKJsO"
      }
    },
    {
      "cell_type": "code",
      "source": [
        "def set_seed(self, seed=42):\n",
        "  torch.backends.cudnn.deterministic = True\n",
        "  torch.backends.cudnn.benchmark = False    \n",
        "  torch.manual_seed(seed)\n",
        "  np.random.seed(seed)\n",
        "  random.seed(seed)\n",
        "  try:\n",
        "      self.train_loader.sampler.generator.manual_seed(seed)\n",
        "  except AttributeError:\n",
        "      pass\n",
        "\n",
        "setattr(StepByStep, 'set_seed', set_seed)"
      ],
      "metadata": {
        "id": "KwJR_b5lK2Pi"
      },
      "execution_count": 99,
      "outputs": []
    },
    {
      "cell_type": "markdown",
      "source": [
        "###Putting It Together"
      ],
      "metadata": {
        "id": "RSH2IrYUQhUU"
      }
    },
    {
      "cell_type": "markdown",
      "source": [
        "We’ve gone through a lot of things regarding the data preparation step. \n",
        "\n",
        "Let’s put\n",
        "them all together to get a better view of the big picture here."
      ],
      "metadata": {
        "id": "uzKai9gWQiG_"
      }
    },
    {
      "cell_type": "code",
      "source": [
        "# Builds tensors from numpy arrays BEFORE split\n",
        "# Modifies the scale of pixel values from [0, 255] to [0, 1]\n",
        "x_tensor = torch.as_tensor(images / 255).float()\n",
        "y_tensor = torch.as_tensor(labels.reshape(-1, 1)).float()\n",
        "\n",
        "# Uses index_splitter to generate indices for training and validation sets\n",
        "train_idx, val_idx = index_splitter(len(x_tensor), [80, 20])\n",
        "# Uses indices to perform the split\n",
        "x_train_tensor = x_tensor[train_idx]\n",
        "y_train_tensor = y_tensor[train_idx]\n",
        "x_val_tensor = x_tensor[val_idx]\n",
        "y_val_tensor = x_tensor[val_idx]\n",
        "\n",
        "# Builds different composers because of data augmentation on training set\n",
        "train_composer = Compose([\n",
        "    RandomHorizontalFlip(p=.5),\n",
        "    Normalize(mean=(.5,), std=(.5,))\n",
        "])\n",
        "val_composer = Compose([Normalize(mean=(.5,), std=(.5,))])\n",
        "\n",
        "# Uses custom dataset to apply composed transforms to each set\n",
        "train_dataset = TransformedDataset(x_train_tensor, y_train_tensor, transform=train_composer)\n",
        "val_dataset = TransformedDataset(x_val_tensor, y_val_tensor, transform=val_composer)\n",
        "\n",
        "# Builds a weighted random sampler to handle imbalanced classes\n",
        "weighted_sampler = make_balanced_sampler(y_train_tensor)\n",
        "\n",
        "# Uses sampler in the training set to get a balanced data loader\n",
        "train_loader = DataLoader(dataset=train_dataset, batch_size=16, sampler=weighted_sampler)\n",
        "val_loader = DataLoader(dataset=val_dataset, batch_size=16)"
      ],
      "metadata": {
        "id": "2RwKhjQlP9sE"
      },
      "execution_count": 100,
      "outputs": []
    },
    {
      "cell_type": "markdown",
      "source": [
        "###Pixels as Features"
      ],
      "metadata": {
        "id": "mVQm_7_vcfa8"
      }
    },
    {
      "cell_type": "markdown",
      "source": [
        "Let’s take one mini-batch of images from our training set to illustrate how it works."
      ],
      "metadata": {
        "id": "y0Q7jOVXcgMR"
      }
    },
    {
      "cell_type": "code",
      "source": [
        "dummy_xs, dummy_ys = next(iter(train_loader))\n",
        "dummy_xs.shape"
      ],
      "metadata": {
        "id": "sRCTw97gcixs",
        "outputId": "93833406-a0bc-4c63-ec19-c3af628243b1",
        "colab": {
          "base_uri": "https://localhost:8080/"
        }
      },
      "execution_count": 101,
      "outputs": [
        {
          "output_type": "execute_result",
          "data": {
            "text/plain": [
              "torch.Size([16, 1, 5, 5])"
            ]
          },
          "metadata": {},
          "execution_count": 101
        }
      ]
    },
    {
      "cell_type": "markdown",
      "source": [
        "Our dummy mini-batch has 16 images, one channel each, dimensions five-by-five\n",
        "pixels. \n",
        "\n",
        "What if we flatten this mini-batch?"
      ],
      "metadata": {
        "id": "KfSg3jedcuIr"
      }
    },
    {
      "cell_type": "code",
      "source": [
        "flattener = nn.Flatten()\n",
        "dummy_xs_flat = flattener(dummy_xs)\n",
        "\n",
        "print(dummy_xs_flat.shape)\n",
        "print(dummy_xs_flat[0])"
      ],
      "metadata": {
        "id": "oIzmOlk7cvbs",
        "outputId": "411f4028-0c61-4665-df5f-dab6b673ba6e",
        "colab": {
          "base_uri": "https://localhost:8080/"
        }
      },
      "execution_count": 102,
      "outputs": [
        {
          "output_type": "stream",
          "name": "stdout",
          "text": [
            "torch.Size([16, 25])\n",
            "tensor([-1., -1., -1.,  1., -1., -1., -1., -1.,  1., -1., -1., -1., -1.,  1.,\n",
            "        -1., -1., -1., -1.,  1., -1., -1., -1., -1.,  1., -1.])\n"
          ]
        }
      ]
    },
    {
      "cell_type": "markdown",
      "source": [
        "By default, it preserves the first dimension such that we keep the number of data\n",
        "points in the mini-batch, but it collapses the remaining dimensions.\n",
        "\n",
        ">Don’t we lose information when we flatten pixels?\n",
        "\n",
        "Sure we do! And that’s why convolutional neural networks (CNNs) are so successful: They do not lose this information.\n"
      ],
      "metadata": {
        "id": "-Ix7cUaqeUvQ"
      }
    },
    {
      "cell_type": "markdown",
      "source": [
        "##Shallow Model"
      ],
      "metadata": {
        "id": "4SAcXM29e103"
      }
    },
    {
      "cell_type": "markdown",
      "source": [
        "Logistic regression is a simple and shallow model.\n",
        "\n",
        "![](https://github.com/rahiakela/deep-learning-research-and-practice/blob/main/deep-learning-with-pytorch-step-by-step/Part-II-Computer-Vision/images/classification.png?raw=1)\n",
        "\n",
        "Given 25 features, $x_0$ through $x_{24}$, each corresponding to the value of a pixel in a\n",
        "given channel, the model will fit a linear regression such that its outputs are logits\n",
        "(`z`), which are converted into probabilities using a sigmoid function.\n",
        "\n",
        "The vectorized representations of the weights (`W`) and features (`X`) are:\n",
        "\n",
        "$$\n",
        "\\Large W =\n",
        "\\underset{(25 \\times 1)}{\n",
        "\\begin{bmatrix}\n",
        "w_0 \\\\\n",
        "w_1 \\\\\n",
        "\\vdots \\\\\n",
        "w_{24}\n",
        "\\end{bmatrix}};\n",
        "X = \n",
        "\\underset{(25 \\times 1)}{\n",
        "\\begin{bmatrix}\n",
        "x_0 \\\\\n",
        "x_1 \\\\\n",
        "\\vdots \\\\\n",
        "x_{24}\n",
        "\\end{bmatrix}}\n",
        "$$\n",
        "\n",
        "The logits (`z`) are given by the following expression:\n",
        "\n",
        "$$\n",
        "\\Large \n",
        "\\begin{aligned}\n",
        "z\n",
        "& = W^T \\cdot X \n",
        "=\\underset{(1 \\times 25)}{\n",
        "\\begin{bmatrix}\n",
        "- & w^{T} & -\\\\\n",
        "\\end{bmatrix}}\n",
        "\\underset{(25 \\times 1)}{\n",
        "\\begin{bmatrix}\n",
        "x_0 \\\\\n",
        "x_1 \\\\\n",
        "\\vdots \\\\\n",
        "x_{24}\n",
        "\\end{bmatrix}} \n",
        "=\n",
        "\\underset{(1 \\times 25)}{\n",
        "\\begin{bmatrix}\n",
        "w_0 & w_1 & \\cdots & w_{24}\n",
        "\\end{bmatrix}}\n",
        "\\underset{(25 \\times 1)}{\n",
        "\\begin{bmatrix}\n",
        "x_0 \\\\\n",
        "x_1 \\\\\n",
        "\\vdots \\\\\n",
        "x_{24}\n",
        "\\end{bmatrix}}\n",
        "\\\\\n",
        "& = w_0x_0 + w_1x_1 + \\cdots + w_{24}x_{24}\n",
        "\\end{aligned}\n",
        "$$\n",
        "\n",
        "This is what the model configuration looks like for our classification problem:"
      ],
      "metadata": {
        "id": "-ppB_UBge24y"
      }
    },
    {
      "cell_type": "code",
      "source": [
        "torch.manual_seed(17)\n",
        "\n",
        "# Sets learning rate\n",
        "lr = 0.1\n",
        "\n",
        "# Now we can create a model\n",
        "logistic_model = nn.Sequential()\n",
        "logistic_model.add_module('flatten', nn.Flatten())\n",
        "logistic_model.add_module('output', nn.Linear(25, 1, bias=False))\n",
        "logistic_model.add_module('sigmoid', nn.Sigmoid())\n",
        "\n",
        "# Defines a SGD optimizer to update the parameters \n",
        "optimizer_logistic = optim.SGD(logistic_model.parameters(), lr=lr)\n",
        "\n",
        "# Defines a binary cross entropy loss function\n",
        "binary_loss_fn = nn.BCELoss()"
      ],
      "metadata": {
        "id": "Me5Sn90I9Tia"
      },
      "execution_count": 110,
      "outputs": []
    },
    {
      "cell_type": "markdown",
      "source": [
        "Let’s train our model for 100 epochs."
      ],
      "metadata": {
        "id": "nAatrelO9ejb"
      }
    },
    {
      "cell_type": "code",
      "source": [
        "dummy_xs, dummy_ys = next(iter(train_loader))\n",
        "dummy_xs.shape"
      ],
      "metadata": {
        "id": "0-5w_yKvBFzZ",
        "outputId": "25503fa4-4873-466d-dec3-3e3453302b58",
        "colab": {
          "base_uri": "https://localhost:8080/"
        }
      },
      "execution_count": 105,
      "outputs": [
        {
          "output_type": "execute_result",
          "data": {
            "text/plain": [
              "torch.Size([16, 1, 5, 5])"
            ]
          },
          "metadata": {},
          "execution_count": 105
        }
      ]
    },
    {
      "cell_type": "code",
      "source": [
        "dummy_ys.shape"
      ],
      "metadata": {
        "id": "wegXLR6PEyeR",
        "outputId": "5cb9a422-54a6-4372-a5cf-6cdfb4d6d5c7",
        "colab": {
          "base_uri": "https://localhost:8080/"
        }
      },
      "execution_count": 108,
      "outputs": [
        {
          "output_type": "execute_result",
          "data": {
            "text/plain": [
              "torch.Size([16, 1])"
            ]
          },
          "metadata": {},
          "execution_count": 108
        }
      ]
    },
    {
      "cell_type": "code",
      "source": [
        "n_epochs = 100\n",
        "\n",
        "sbs_logistic = StepByStep(logistic_model, binary_loss_fn, optimizer_logistic)\n",
        "sbs_logistic.set_loaders(train_loader, val_loader)\n",
        "sbs_logistic.train(n_epochs)"
      ],
      "metadata": {
        "id": "u4lufPPs9fES",
        "outputId": "fb747352-335a-4686-f938-82701ed1e46d",
        "colab": {
          "base_uri": "https://localhost:8080/",
          "height": 1000
        }
      },
      "execution_count": 111,
      "outputs": [
        {
          "output_type": "error",
          "ename": "ValueError",
          "evalue": "ignored",
          "traceback": [
            "\u001b[0;31m---------------------------------------------------------------------------\u001b[0m",
            "\u001b[0;31mValueError\u001b[0m                                Traceback (most recent call last)",
            "\u001b[0;32m<ipython-input-111-04dd8fbaa0a2>\u001b[0m in \u001b[0;36m<module>\u001b[0;34m\u001b[0m\n\u001b[1;32m      3\u001b[0m \u001b[0msbs_logistic\u001b[0m \u001b[0;34m=\u001b[0m \u001b[0mStepByStep\u001b[0m\u001b[0;34m(\u001b[0m\u001b[0mlogistic_model\u001b[0m\u001b[0;34m,\u001b[0m \u001b[0mbinary_loss_fn\u001b[0m\u001b[0;34m,\u001b[0m \u001b[0moptimizer_logistic\u001b[0m\u001b[0;34m)\u001b[0m\u001b[0;34m\u001b[0m\u001b[0;34m\u001b[0m\u001b[0m\n\u001b[1;32m      4\u001b[0m \u001b[0msbs_logistic\u001b[0m\u001b[0;34m.\u001b[0m\u001b[0mset_loaders\u001b[0m\u001b[0;34m(\u001b[0m\u001b[0mtrain_loader\u001b[0m\u001b[0;34m,\u001b[0m \u001b[0mval_loader\u001b[0m\u001b[0;34m)\u001b[0m\u001b[0;34m\u001b[0m\u001b[0;34m\u001b[0m\u001b[0m\n\u001b[0;32m----> 5\u001b[0;31m \u001b[0msbs_logistic\u001b[0m\u001b[0;34m.\u001b[0m\u001b[0mtrain\u001b[0m\u001b[0;34m(\u001b[0m\u001b[0mn_epochs\u001b[0m\u001b[0;34m)\u001b[0m\u001b[0;34m\u001b[0m\u001b[0;34m\u001b[0m\u001b[0m\n\u001b[0m",
            "\u001b[0;32m/content/stepbystep/v0.py\u001b[0m in \u001b[0;36mtrain\u001b[0;34m(self, n_epochs, seed)\u001b[0m\n\u001b[1;32m    154\u001b[0m             \u001b[0;32mwith\u001b[0m \u001b[0mtorch\u001b[0m\u001b[0;34m.\u001b[0m\u001b[0mno_grad\u001b[0m\u001b[0;34m(\u001b[0m\u001b[0;34m)\u001b[0m\u001b[0;34m:\u001b[0m\u001b[0;34m\u001b[0m\u001b[0;34m\u001b[0m\u001b[0m\n\u001b[1;32m    155\u001b[0m                 \u001b[0;31m# Performs evaluation using mini-batches\u001b[0m\u001b[0;34m\u001b[0m\u001b[0;34m\u001b[0m\u001b[0;34m\u001b[0m\u001b[0m\n\u001b[0;32m--> 156\u001b[0;31m                 \u001b[0mval_loss\u001b[0m \u001b[0;34m=\u001b[0m \u001b[0mself\u001b[0m\u001b[0;34m.\u001b[0m\u001b[0m_mini_batch\u001b[0m\u001b[0;34m(\u001b[0m\u001b[0mvalidation\u001b[0m\u001b[0;34m=\u001b[0m\u001b[0;32mTrue\u001b[0m\u001b[0;34m)\u001b[0m\u001b[0;34m\u001b[0m\u001b[0;34m\u001b[0m\u001b[0m\n\u001b[0m\u001b[1;32m    157\u001b[0m                 \u001b[0mself\u001b[0m\u001b[0;34m.\u001b[0m\u001b[0mval_losses\u001b[0m\u001b[0;34m.\u001b[0m\u001b[0mappend\u001b[0m\u001b[0;34m(\u001b[0m\u001b[0mval_loss\u001b[0m\u001b[0;34m)\u001b[0m\u001b[0;34m\u001b[0m\u001b[0;34m\u001b[0m\u001b[0m\n\u001b[1;32m    158\u001b[0m \u001b[0;34m\u001b[0m\u001b[0m\n",
            "\u001b[0;32m/content/stepbystep/v0.py\u001b[0m in \u001b[0;36m_mini_batch\u001b[0;34m(self, validation)\u001b[0m\n\u001b[1;32m    124\u001b[0m             \u001b[0my_batch\u001b[0m \u001b[0;34m=\u001b[0m \u001b[0my_batch\u001b[0m\u001b[0;34m.\u001b[0m\u001b[0mto\u001b[0m\u001b[0;34m(\u001b[0m\u001b[0mself\u001b[0m\u001b[0;34m.\u001b[0m\u001b[0mdevice\u001b[0m\u001b[0;34m)\u001b[0m\u001b[0;34m\u001b[0m\u001b[0;34m\u001b[0m\u001b[0m\n\u001b[1;32m    125\u001b[0m \u001b[0;34m\u001b[0m\u001b[0m\n\u001b[0;32m--> 126\u001b[0;31m             \u001b[0mmini_batch_loss\u001b[0m \u001b[0;34m=\u001b[0m \u001b[0mstep_fn\u001b[0m\u001b[0;34m(\u001b[0m\u001b[0mx_batch\u001b[0m\u001b[0;34m,\u001b[0m \u001b[0my_batch\u001b[0m\u001b[0;34m)\u001b[0m\u001b[0;34m\u001b[0m\u001b[0;34m\u001b[0m\u001b[0m\n\u001b[0m\u001b[1;32m    127\u001b[0m             \u001b[0mmini_batch_losses\u001b[0m\u001b[0;34m.\u001b[0m\u001b[0mappend\u001b[0m\u001b[0;34m(\u001b[0m\u001b[0mmini_batch_loss\u001b[0m\u001b[0;34m)\u001b[0m\u001b[0;34m\u001b[0m\u001b[0;34m\u001b[0m\u001b[0m\n\u001b[1;32m    128\u001b[0m \u001b[0;34m\u001b[0m\u001b[0m\n",
            "\u001b[0;32m/content/stepbystep/v0.py\u001b[0m in \u001b[0;36mperform_val_step_fn\u001b[0;34m(x, y)\u001b[0m\n\u001b[1;32m     97\u001b[0m             \u001b[0myhat\u001b[0m \u001b[0;34m=\u001b[0m \u001b[0mself\u001b[0m\u001b[0;34m.\u001b[0m\u001b[0mmodel\u001b[0m\u001b[0;34m(\u001b[0m\u001b[0mx\u001b[0m\u001b[0;34m)\u001b[0m\u001b[0;34m\u001b[0m\u001b[0;34m\u001b[0m\u001b[0m\n\u001b[1;32m     98\u001b[0m             \u001b[0;31m# Step 2 - Computes the loss\u001b[0m\u001b[0;34m\u001b[0m\u001b[0;34m\u001b[0m\u001b[0;34m\u001b[0m\u001b[0m\n\u001b[0;32m---> 99\u001b[0;31m             \u001b[0mloss\u001b[0m \u001b[0;34m=\u001b[0m \u001b[0mself\u001b[0m\u001b[0;34m.\u001b[0m\u001b[0mloss_fn\u001b[0m\u001b[0;34m(\u001b[0m\u001b[0myhat\u001b[0m\u001b[0;34m,\u001b[0m \u001b[0my\u001b[0m\u001b[0;34m)\u001b[0m\u001b[0;34m\u001b[0m\u001b[0;34m\u001b[0m\u001b[0m\n\u001b[0m\u001b[1;32m    100\u001b[0m             \u001b[0;31m# There is no need to compute Steps 3 and 4, since we don't update parameters during evaluation\u001b[0m\u001b[0;34m\u001b[0m\u001b[0;34m\u001b[0m\u001b[0;34m\u001b[0m\u001b[0m\n\u001b[1;32m    101\u001b[0m             \u001b[0;32mreturn\u001b[0m \u001b[0mloss\u001b[0m\u001b[0;34m.\u001b[0m\u001b[0mitem\u001b[0m\u001b[0;34m(\u001b[0m\u001b[0;34m)\u001b[0m\u001b[0;34m\u001b[0m\u001b[0;34m\u001b[0m\u001b[0m\n",
            "\u001b[0;32m/usr/local/lib/python3.8/dist-packages/torch/nn/modules/module.py\u001b[0m in \u001b[0;36m_call_impl\u001b[0;34m(self, *input, **kwargs)\u001b[0m\n\u001b[1;32m   1188\u001b[0m         if not (self._backward_hooks or self._forward_hooks or self._forward_pre_hooks or _global_backward_hooks\n\u001b[1;32m   1189\u001b[0m                 or _global_forward_hooks or _global_forward_pre_hooks):\n\u001b[0;32m-> 1190\u001b[0;31m             \u001b[0;32mreturn\u001b[0m \u001b[0mforward_call\u001b[0m\u001b[0;34m(\u001b[0m\u001b[0;34m*\u001b[0m\u001b[0minput\u001b[0m\u001b[0;34m,\u001b[0m \u001b[0;34m**\u001b[0m\u001b[0mkwargs\u001b[0m\u001b[0;34m)\u001b[0m\u001b[0;34m\u001b[0m\u001b[0;34m\u001b[0m\u001b[0m\n\u001b[0m\u001b[1;32m   1191\u001b[0m         \u001b[0;31m# Do not call functions when jit is used\u001b[0m\u001b[0;34m\u001b[0m\u001b[0;34m\u001b[0m\u001b[0;34m\u001b[0m\u001b[0m\n\u001b[1;32m   1192\u001b[0m         \u001b[0mfull_backward_hooks\u001b[0m\u001b[0;34m,\u001b[0m \u001b[0mnon_full_backward_hooks\u001b[0m \u001b[0;34m=\u001b[0m \u001b[0;34m[\u001b[0m\u001b[0;34m]\u001b[0m\u001b[0;34m,\u001b[0m \u001b[0;34m[\u001b[0m\u001b[0;34m]\u001b[0m\u001b[0;34m\u001b[0m\u001b[0;34m\u001b[0m\u001b[0m\n",
            "\u001b[0;32m/usr/local/lib/python3.8/dist-packages/torch/nn/modules/loss.py\u001b[0m in \u001b[0;36mforward\u001b[0;34m(self, input, target)\u001b[0m\n\u001b[1;32m    617\u001b[0m \u001b[0;34m\u001b[0m\u001b[0m\n\u001b[1;32m    618\u001b[0m     \u001b[0;32mdef\u001b[0m \u001b[0mforward\u001b[0m\u001b[0;34m(\u001b[0m\u001b[0mself\u001b[0m\u001b[0;34m,\u001b[0m \u001b[0minput\u001b[0m\u001b[0;34m:\u001b[0m \u001b[0mTensor\u001b[0m\u001b[0;34m,\u001b[0m \u001b[0mtarget\u001b[0m\u001b[0;34m:\u001b[0m \u001b[0mTensor\u001b[0m\u001b[0;34m)\u001b[0m \u001b[0;34m->\u001b[0m \u001b[0mTensor\u001b[0m\u001b[0;34m:\u001b[0m\u001b[0;34m\u001b[0m\u001b[0;34m\u001b[0m\u001b[0m\n\u001b[0;32m--> 619\u001b[0;31m         \u001b[0;32mreturn\u001b[0m \u001b[0mF\u001b[0m\u001b[0;34m.\u001b[0m\u001b[0mbinary_cross_entropy\u001b[0m\u001b[0;34m(\u001b[0m\u001b[0minput\u001b[0m\u001b[0;34m,\u001b[0m \u001b[0mtarget\u001b[0m\u001b[0;34m,\u001b[0m \u001b[0mweight\u001b[0m\u001b[0;34m=\u001b[0m\u001b[0mself\u001b[0m\u001b[0;34m.\u001b[0m\u001b[0mweight\u001b[0m\u001b[0;34m,\u001b[0m \u001b[0mreduction\u001b[0m\u001b[0;34m=\u001b[0m\u001b[0mself\u001b[0m\u001b[0;34m.\u001b[0m\u001b[0mreduction\u001b[0m\u001b[0;34m)\u001b[0m\u001b[0;34m\u001b[0m\u001b[0;34m\u001b[0m\u001b[0m\n\u001b[0m\u001b[1;32m    620\u001b[0m \u001b[0;34m\u001b[0m\u001b[0m\n\u001b[1;32m    621\u001b[0m \u001b[0;34m\u001b[0m\u001b[0m\n",
            "\u001b[0;32m/usr/local/lib/python3.8/dist-packages/torch/nn/functional.py\u001b[0m in \u001b[0;36mbinary_cross_entropy\u001b[0;34m(input, target, weight, size_average, reduce, reduction)\u001b[0m\n\u001b[1;32m   3084\u001b[0m         \u001b[0mreduction_enum\u001b[0m \u001b[0;34m=\u001b[0m \u001b[0m_Reduction\u001b[0m\u001b[0;34m.\u001b[0m\u001b[0mget_enum\u001b[0m\u001b[0;34m(\u001b[0m\u001b[0mreduction\u001b[0m\u001b[0;34m)\u001b[0m\u001b[0;34m\u001b[0m\u001b[0;34m\u001b[0m\u001b[0m\n\u001b[1;32m   3085\u001b[0m     \u001b[0;32mif\u001b[0m \u001b[0mtarget\u001b[0m\u001b[0;34m.\u001b[0m\u001b[0msize\u001b[0m\u001b[0;34m(\u001b[0m\u001b[0;34m)\u001b[0m \u001b[0;34m!=\u001b[0m \u001b[0minput\u001b[0m\u001b[0;34m.\u001b[0m\u001b[0msize\u001b[0m\u001b[0;34m(\u001b[0m\u001b[0;34m)\u001b[0m\u001b[0;34m:\u001b[0m\u001b[0;34m\u001b[0m\u001b[0;34m\u001b[0m\u001b[0m\n\u001b[0;32m-> 3086\u001b[0;31m         raise ValueError(\n\u001b[0m\u001b[1;32m   3087\u001b[0m             \u001b[0;34m\"Using a target size ({}) that is different to the input size ({}) is deprecated. \"\u001b[0m\u001b[0;34m\u001b[0m\u001b[0;34m\u001b[0m\u001b[0m\n\u001b[1;32m   3088\u001b[0m             \u001b[0;34m\"Please ensure they have the same size.\"\u001b[0m\u001b[0;34m.\u001b[0m\u001b[0mformat\u001b[0m\u001b[0;34m(\u001b[0m\u001b[0mtarget\u001b[0m\u001b[0;34m.\u001b[0m\u001b[0msize\u001b[0m\u001b[0;34m(\u001b[0m\u001b[0;34m)\u001b[0m\u001b[0;34m,\u001b[0m \u001b[0minput\u001b[0m\u001b[0;34m.\u001b[0m\u001b[0msize\u001b[0m\u001b[0;34m(\u001b[0m\u001b[0;34m)\u001b[0m\u001b[0;34m)\u001b[0m\u001b[0;34m\u001b[0m\u001b[0;34m\u001b[0m\u001b[0m\n",
            "\u001b[0;31mValueError\u001b[0m: Using a target size (torch.Size([16, 1, 5, 5])) that is different to the input size (torch.Size([16, 1])) is deprecated. Please ensure they have the same size."
          ]
        }
      ]
    }
  ]
}