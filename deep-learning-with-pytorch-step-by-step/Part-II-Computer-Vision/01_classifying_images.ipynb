{
  "nbformat": 4,
  "nbformat_minor": 0,
  "metadata": {
    "colab": {
      "provenance": [],
      "toc_visible": true,
      "authorship_tag": "ABX9TyO5bNx+SdjV5K3FN2zmyN3t",
      "include_colab_link": true
    },
    "kernelspec": {
      "name": "python3",
      "display_name": "Python 3"
    },
    "language_info": {
      "name": "python"
    }
  },
  "cells": [
    {
      "cell_type": "markdown",
      "metadata": {
        "id": "view-in-github",
        "colab_type": "text"
      },
      "source": [
        "<a href=\"https://colab.research.google.com/github/rahiakela/deep-learning-research-and-practice/blob/main/deep-learning-with-pytorch-step-by-step/Part-II-Computer-Vision/01_classifying_images.ipynb\" target=\"_parent\"><img src=\"https://colab.research.google.com/assets/colab-badge.svg\" alt=\"Open In Colab\"/></a>"
      ]
    },
    {
      "cell_type": "markdown",
      "source": [
        "##Classifying Images"
      ],
      "metadata": {
        "id": "ramasEs7yT6J"
      }
    },
    {
      "cell_type": "markdown",
      "source": [
        "Let’s classify images! Although the data is\n",
        "different, it is still a classification problem, so we will try to predict which class an\n",
        "image belongs to.\n",
        "\n",
        "First, let’s generate some images to work with (so we don’t have to use MNIST!)."
      ],
      "metadata": {
        "id": "XYs4jxmcyUoB"
      }
    },
    {
      "cell_type": "markdown",
      "source": [
        "##Setup"
      ],
      "metadata": {
        "id": "2qKkF4aqyddp"
      }
    },
    {
      "cell_type": "code",
      "source": [
        "try:\n",
        "  import google.colab\n",
        "  import requests\n",
        "  url = 'https://raw.githubusercontent.com/dvgodoy/PyTorchStepByStep/master/config.py'\n",
        "  r = requests.get(url, allow_redirects=True)\n",
        "  open('config.py', 'wb').write(r.content)    \n",
        "except ModuleNotFoundError:\n",
        "  pass\n",
        "\n",
        "from config import *\n",
        "config_chapter4()\n",
        "# This is needed to render the plots in this chapter\n",
        "from plots.chapter4 import *"
      ],
      "metadata": {
        "id": "AceVrfYVHZAv",
        "outputId": "f5cb7961-59a9-43f7-e92a-4f139f2702e1",
        "colab": {
          "base_uri": "https://localhost:8080/"
        }
      },
      "execution_count": 1,
      "outputs": [
        {
          "output_type": "stream",
          "name": "stdout",
          "text": [
            "Downloading files from GitHub repo to Colab...\n",
            "Finished!\n"
          ]
        }
      ]
    },
    {
      "cell_type": "code",
      "source": [
        "import random\n",
        "import numpy as np\n",
        "from PIL import Image\n",
        "\n",
        "import torch\n",
        "import torch.optim as optim\n",
        "import torch.nn as nn\n",
        "import torch.nn.functional as F\n",
        "\n",
        "from torch.utils.data import DataLoader, Dataset, random_split, WeightedRandomSampler, SubsetRandomSampler\n",
        "from torchvision.transforms import Compose, ToTensor, Normalize, ToPILImage, RandomHorizontalFlip, Resize\n",
        "\n",
        "import matplotlib.pyplot as plt\n",
        "plt.style.use('fivethirtyeight')\n",
        "%matplotlib inline\n",
        "\n",
        "from data_generation.image_classification import generate_dataset\n",
        "from stepbystep.v0 import StepByStep\n",
        "from plots.chapter4 import *"
      ],
      "metadata": {
        "id": "3ZTuQZ5gylYt"
      },
      "execution_count": 2,
      "outputs": []
    },
    {
      "cell_type": "code",
      "source": [
        "from IPython.core.display import display, HTML\n",
        "display(HTML(\"<style>.container { width:80% !important; }</style>\"))"
      ],
      "metadata": {
        "colab": {
          "base_uri": "https://localhost:8080/",
          "height": 17
        },
        "id": "DmgDM3-KyoUv",
        "outputId": "f3b0ff99-78d0-449c-9d63-6ae050c90b97"
      },
      "execution_count": 3,
      "outputs": [
        {
          "output_type": "display_data",
          "data": {
            "text/plain": [
              "<IPython.core.display.HTML object>"
            ],
            "text/html": [
              "<style>.container { width:80% !important; }</style>"
            ]
          },
          "metadata": {}
        }
      ]
    },
    {
      "cell_type": "markdown",
      "source": [
        "## Data Generation"
      ],
      "metadata": {
        "id": "Akgnzn-Gyz6P"
      }
    },
    {
      "cell_type": "markdown",
      "source": [
        "Our images are quite simple: They have black backgrounds and white lines drawn\n",
        "on top of them. The lines can be drawn either in a diagonal or in a parallel way. \n",
        "\n",
        "So, our classification\n",
        "problem can be simply stated as: Is the line diagonal?\n",
        "\n",
        "If the line is diagonal, then we assume it belongs to the positive class. If it is not\n",
        "diagonal, it belongs to the negative class.\n",
        "\n",
        "|Line|Value|Class|\n",
        "|--|--|--|\n",
        "|Not Diagonal|0|Negative|\n",
        "|Diagonal|1|Positive|\n",
        "\n",
        "Let’s generate 300 random images, each one five-by-five pixels in size."
      ],
      "metadata": {
        "id": "fZJKPiwe0pCa"
      }
    },
    {
      "cell_type": "code",
      "source": [
        "images, labels = generate_dataset(img_size=5, n_images=300, binary=True, seed=13)"
      ],
      "metadata": {
        "id": "GF7RKAbi1MtH"
      },
      "execution_count": 4,
      "outputs": []
    },
    {
      "cell_type": "code",
      "source": [
        "# let’s visualize the first 30 images\n",
        "fig = plot_images(images, labels, n_plot=30)"
      ],
      "metadata": {
        "colab": {
          "base_uri": "https://localhost:8080/",
          "height": 541
        },
        "id": "oWEazRLX1lul",
        "outputId": "24eafc8d-3ebb-454a-a48b-db83d4175051"
      },
      "execution_count": 5,
      "outputs": [
        {
          "output_type": "display_data",
          "data": {
            "text/plain": [
              "<Figure size 648x540 with 30 Axes>"
            ],
            "image/png": "[encoded data removed]"
          },
          "metadata": {}
        }
      ]
    },
    {
      "cell_type": "markdown",
      "source": [
        "###Images and Channels"
      ],
      "metadata": {
        "id": "TX-JCqli3SFR"
      }
    },
    {
      "cell_type": "markdown",
      "source": [
        "To illustrate how images are represented, let’s create three separate images\n",
        "first:"
      ],
      "metadata": {
        "id": "a-nBQZAc3TKv"
      }
    },
    {
      "cell_type": "code",
      "source": [
        "image_r = np.zeros((5, 5), dtype=np.uint8)\n",
        "image_r[:, 0] = 255\n",
        "image_r[:, 1] = 128\n",
        "\n",
        "image_g = np.zeros((5, 5), dtype=np.uint8)\n",
        "image_g[:, 1] = 128\n",
        "image_g[:, 2] = 255\n",
        "image_g[:, 3] = 128\n",
        "\n",
        "image_b = np.zeros((5, 5), dtype=np.uint8)\n",
        "image_b[:, 3] = 128\n",
        "image_b[:, 4] = 255"
      ],
      "metadata": {
        "id": "29fk86vZ3XoB"
      },
      "execution_count": 6,
      "outputs": []
    },
    {
      "cell_type": "code",
      "source": [
        "# If we perform a weighted average of these three colors, we’ll get another grayscale image.\n",
        "image_gray = .2126*image_r + .7152*image_g + .0722*image_b"
      ],
      "metadata": {
        "id": "WV1gWba45oJA"
      },
      "execution_count": 7,
      "outputs": []
    },
    {
      "cell_type": "code",
      "source": [
        "# Let’s see what the matrices above represent\n",
        "fig = image_channels(image_r, image_g, image_b, None, image_gray, rows=(0, 1))"
      ],
      "metadata": {
        "colab": {
          "base_uri": "https://localhost:8080/",
          "height": 329
        },
        "id": "12KECyhm4B4B",
        "outputId": "858d192b-eec4-40a2-a028-d35910c00398"
      },
      "execution_count": 8,
      "outputs": [
        {
          "output_type": "display_data",
          "data": {
            "text/plain": [
              "<Figure size 1080x396 with 8 Axes>"
            ],
            "image/png": "[encoded data removed]"
          },
          "metadata": {}
        }
      ]
    },
    {
      "cell_type": "code",
      "source": [
        "# we only need to stack the three images representing the three colors, each image becoming a channel\n",
        "image_rgb = np.stack([image_r, image_g, image_b], axis=2)"
      ],
      "metadata": {
        "id": "8I69fWkD51II"
      },
      "execution_count": 9,
      "outputs": []
    },
    {
      "cell_type": "code",
      "source": [
        "# Let’s see what those same matrices represent\n",
        "fig = image_channels(image_r, image_g, image_b, image_rgb, image_gray, rows=(0, 2))"
      ],
      "metadata": {
        "colab": {
          "base_uri": "https://localhost:8080/",
          "height": 328
        },
        "id": "cj9CKqCW6kI3",
        "outputId": "53c40a86-ae84-490f-9a68-3226567b8eae"
      },
      "execution_count": 10,
      "outputs": [
        {
          "output_type": "display_data",
          "data": {
            "text/plain": [
              "<Figure size 1080x396 with 8 Axes>"
            ],
            "image/png": "[encoded data removed]"
          },
          "metadata": {}
        }
      ]
    },
    {
      "cell_type": "markdown",
      "source": [
        "###Image Shape"
      ],
      "metadata": {
        "id": "pVWs7lHn7UHM"
      }
    },
    {
      "cell_type": "markdown",
      "source": [
        "Our dataset generates images following the PyTorch format; that is, NCHW."
      ],
      "metadata": {
        "id": "cLCOhevi7eTH"
      }
    },
    {
      "cell_type": "code",
      "source": [
        "# What’s the shape of our dataset\n",
        "images.shape"
      ],
      "metadata": {
        "colab": {
          "base_uri": "https://localhost:8080/"
        },
        "id": "JMY0-9YY7Rpk",
        "outputId": "1b36484e-2d65-437b-f645-05bf23f81a06"
      },
      "execution_count": 11,
      "outputs": [
        {
          "output_type": "execute_result",
          "data": {
            "text/plain": [
              "(300, 1, 5, 5)"
            ]
          },
          "metadata": {},
          "execution_count": 11
        }
      ]
    },
    {
      "cell_type": "code",
      "source": [
        "# Let’s take a closer look at one image\n",
        "example = images[7]\n",
        "example"
      ],
      "metadata": {
        "colab": {
          "base_uri": "https://localhost:8080/"
        },
        "id": "kX1EFQBU7YmD",
        "outputId": "635bfc91-ceeb-45ba-a40d-4af94ca3a63f"
      },
      "execution_count": 12,
      "outputs": [
        {
          "output_type": "execute_result",
          "data": {
            "text/plain": [
              "array([[[  0, 255,   0,   0,   0],\n",
              "        [  0,   0, 255,   0,   0],\n",
              "        [  0,   0,   0, 255,   0],\n",
              "        [  0,   0,   0,   0, 255],\n",
              "        [  0,   0,   0,   0,   0]]], dtype=uint8)"
            ]
          },
          "metadata": {},
          "execution_count": 12
        }
      ]
    },
    {
      "cell_type": "markdown",
      "source": [
        "What would an image in the HWC (PIL image format) look like?\n",
        "\n",
        "We can transpose\n",
        "the first dimension to become the last using Numpy's `transpose()`:"
      ],
      "metadata": {
        "id": "ek9RB3oM79JT"
      }
    },
    {
      "cell_type": "code",
      "source": [
        "example_hwc = np.transpose(example, (1, 2, 0))\n",
        "example_hwc.shape"
      ],
      "metadata": {
        "colab": {
          "base_uri": "https://localhost:8080/"
        },
        "id": "gqriNhWy8Aoz",
        "outputId": "c57f1725-8f0b-4db4-ffd8-229917f27a2a"
      },
      "execution_count": 13,
      "outputs": [
        {
          "output_type": "execute_result",
          "data": {
            "text/plain": [
              "(5, 5, 1)"
            ]
          },
          "metadata": {},
          "execution_count": 13
        }
      ]
    },
    {
      "cell_type": "code",
      "source": [
        "example_hwc"
      ],
      "metadata": {
        "colab": {
          "base_uri": "https://localhost:8080/"
        },
        "id": "vUTp6OyR8Mxw",
        "outputId": "72fcb365-3ade-43ae-c79d-66919f04f2a1"
      },
      "execution_count": 14,
      "outputs": [
        {
          "output_type": "execute_result",
          "data": {
            "text/plain": [
              "array([[[  0],\n",
              "        [255],\n",
              "        [  0],\n",
              "        [  0],\n",
              "        [  0]],\n",
              "\n",
              "       [[  0],\n",
              "        [  0],\n",
              "        [255],\n",
              "        [  0],\n",
              "        [  0]],\n",
              "\n",
              "       [[  0],\n",
              "        [  0],\n",
              "        [  0],\n",
              "        [255],\n",
              "        [  0]],\n",
              "\n",
              "       [[  0],\n",
              "        [  0],\n",
              "        [  0],\n",
              "        [  0],\n",
              "        [255]],\n",
              "\n",
              "       [[  0],\n",
              "        [  0],\n",
              "        [  0],\n",
              "        [  0],\n",
              "        [  0]]], dtype=uint8)"
            ]
          },
          "metadata": {},
          "execution_count": 14
        }
      ]
    },
    {
      "cell_type": "markdown",
      "source": [
        "##Torchvision"
      ],
      "metadata": {
        "id": "fUFfaYb78asa"
      }
    },
    {
      "cell_type": "markdown",
      "source": [
        "Torchvision is a package containing popular datasets, model architectures, and\n",
        "common image transformations for computer vision.\n",
        "\n",
        "* Datasets\n",
        "* Models\n",
        "* Transforms"
      ],
      "metadata": {
        "id": "E3ovtUcV8beQ"
      }
    },
    {
      "cell_type": "markdown",
      "source": [
        "###Image transformations"
      ],
      "metadata": {
        "id": "ME2RPy-UCI58"
      }
    },
    {
      "cell_type": "markdown",
      "source": [
        "Let’s start by using `ToTensor()` to convert a Numpy array to a\n",
        "PyTorch tensor."
      ],
      "metadata": {
        "id": "RBJlp-WRCUXw"
      }
    },
    {
      "cell_type": "code",
      "source": [
        "tensorizer = ToTensor()\n",
        "example_tensor = tensorizer(example_hwc)\n",
        "example_tensor.shape"
      ],
      "metadata": {
        "id": "fuhfN92n8QEK",
        "outputId": "dd7d6a02-1366-4f4d-ab76-186d57e6d81e",
        "colab": {
          "base_uri": "https://localhost:8080/"
        }
      },
      "execution_count": 15,
      "outputs": [
        {
          "output_type": "execute_result",
          "data": {
            "text/plain": [
              "torch.Size([1, 5, 5])"
            ]
          },
          "metadata": {},
          "execution_count": 15
        }
      ]
    },
    {
      "cell_type": "code",
      "source": [
        "example_tensor"
      ],
      "metadata": {
        "id": "LFTvZwXOCilw",
        "outputId": "807f8d8e-48c1-4f01-a3c3-0c1094a0b5d2",
        "colab": {
          "base_uri": "https://localhost:8080/"
        }
      },
      "execution_count": 16,
      "outputs": [
        {
          "output_type": "execute_result",
          "data": {
            "text/plain": [
              "tensor([[[0., 1., 0., 0., 0.],\n",
              "         [0., 0., 1., 0., 0.],\n",
              "         [0., 0., 0., 1., 0.],\n",
              "         [0., 0., 0., 0., 1.],\n",
              "         [0., 0., 0., 0., 0.]]])"
            ]
          },
          "metadata": {},
          "execution_count": 16
        }
      ]
    },
    {
      "cell_type": "code",
      "source": [
        "# let's visualize the resulting images\n",
        "example_img = ToPILImage()(example_tensor)\n",
        "print(type(example_img))\n",
        "\n",
        "plt.imshow(example_img, cmap=\"gray\")\n",
        "plt.grid(False)"
      ],
      "metadata": {
        "id": "x2kT4tjmCm6k",
        "outputId": "b2ca2ae6-3af1-4f22-cb89-4b1de52f1a7f",
        "colab": {
          "base_uri": "https://localhost:8080/",
          "height": 299
        }
      },
      "execution_count": 17,
      "outputs": [
        {
          "output_type": "stream",
          "name": "stdout",
          "text": [
            "<class 'PIL.Image.Image'>\n"
          ]
        },
        {
          "output_type": "display_data",
          "data": {
            "text/plain": [
              "<Figure size 432x288 with 1 Axes>"
            ],
            "image/png": "[encoded data removed]"
          },
          "metadata": {}
        }
      ]
    },
    {
      "cell_type": "markdown",
      "source": [
        "Torchvision implemented the interesting transformations that modify the training images in many different ways:\n",
        "\n",
        "- rotating\n",
        "- shifting\n",
        "- flipping\n",
        "- cropping,\n",
        "- blurring\n",
        "- zooming in\n",
        "- adding noise\n",
        "- erasing\n",
        "\n",
        "That’s what’s called data augmentation. It is a clever technique to expand a\n",
        "dataset (augment it) without collecting more data.\n",
        "\n",
        "Let’s use our\n",
        "example image above and try some random horizontal flipping."
      ],
      "metadata": {
        "id": "rw1CR0atDK1X"
      }
    },
    {
      "cell_type": "code",
      "source": [
        "flipper = RandomHorizontalFlip(p=1.0)\n",
        "flipped_img = flipper(example_img)\n",
        "\n",
        "plt.imshow(flipped_img, cmap=\"gray\")\n",
        "plt.show()"
      ],
      "metadata": {
        "id": "iCIdFL-YLcHh",
        "outputId": "16111eaf-9048-488c-c95e-73467a9c67e1",
        "colab": {
          "base_uri": "https://localhost:8080/",
          "height": 282
        }
      },
      "execution_count": 18,
      "outputs": [
        {
          "output_type": "display_data",
          "data": {
            "text/plain": [
              "<Figure size 432x288 with 1 Axes>"
            ],
            "image/png": "[encoded data removed]"
          },
          "metadata": {}
        }
      ]
    },
    {
      "cell_type": "markdown",
      "source": [
        "###Transforms on Tensor"
      ],
      "metadata": {
        "id": "rjF1xgTWJkph"
      }
    },
    {
      "cell_type": "markdown",
      "source": [
        "There are only four transforms that take (non-image) tensors as inputs:\n",
        "- `LinearTransformation()`\n",
        "- `Normalize()`\n",
        "- `RandomErasing()`\n",
        "- `ConvertImageDtype()`\n",
        "\n",
        "First, let’s transform our flipped image to a tensor."
      ],
      "metadata": {
        "id": "G1oC1ZsqJlqX"
      }
    },
    {
      "cell_type": "code",
      "source": [
        "img_tensor = tensorizer(example_img)\n",
        "img_tensor"
      ],
      "metadata": {
        "id": "V6V-hZzUJR0S",
        "outputId": "2a3fbc91-4496-469f-d53c-b5817b781ee3",
        "colab": {
          "base_uri": "https://localhost:8080/"
        }
      },
      "execution_count": 19,
      "outputs": [
        {
          "output_type": "execute_result",
          "data": {
            "text/plain": [
              "tensor([[[0., 1., 0., 0., 0.],\n",
              "         [0., 0., 1., 0., 0.],\n",
              "         [0., 0., 0., 1., 0.],\n",
              "         [0., 0., 0., 0., 1.],\n",
              "         [0., 0., 0., 0., 0.]]])"
            ]
          },
          "metadata": {},
          "execution_count": 19
        }
      ]
    },
    {
      "cell_type": "markdown",
      "source": [
        "Now we can apply one of the most common transformations: `Normalize()`.\n",
        "\n",
        "But, instead of computing mean and standard deviation first,let’s set the mean to 0.5 and set the standard deviation to 0.5 as well.\n",
        "\n",
        "By doing so, we’ll effectively be performing a min-max scaling such that the resulting range is `[-1, 1]`.\n",
        "\n",
        "$$\n",
        "\\Large\n",
        "\\begin{aligned}\n",
        "\\text{input} = 0 \\implies \\frac{0 - \\text{mean}}{\\text{std}}= \\frac{0 - 0.5}{0.5}&=-1\n",
        "\\\\\n",
        "\\text{input} = 1 \\implies \\frac{1 - \\text{mean}}{\\text{std}}= \\frac{1 - 0.5}{0.5}&=1\n",
        "\\end{aligned}\n",
        "$$\n",
        "\n",
        "Now, if we had taken the trouble of actually computing the real mean and\n",
        "standard deviation of the training data, we would have achieved an actual\n",
        "standardization; that is, our training data would have zero mean and unit standard\n",
        "deviation.\n",
        "\n"
      ],
      "metadata": {
        "id": "9GIeKWPCLfJH"
      }
    },
    {
      "cell_type": "code",
      "source": [
        "normalizer = Normalize(mean=(.5,), std=(.5,))\n",
        "normalized_tensor = normalizer(img_tensor)\n",
        "normalized_tensor"
      ],
      "metadata": {
        "id": "z7bk2ZrOM6-Y",
        "outputId": "a0aa9633-d13f-4573-d0f4-fc52084f0c6d",
        "colab": {
          "base_uri": "https://localhost:8080/"
        }
      },
      "execution_count": 20,
      "outputs": [
        {
          "output_type": "execute_result",
          "data": {
            "text/plain": [
              "tensor([[[-1.,  1., -1., -1., -1.],\n",
              "         [-1., -1.,  1., -1., -1.],\n",
              "         [-1., -1., -1.,  1., -1.],\n",
              "         [-1., -1., -1., -1.,  1.],\n",
              "         [-1., -1., -1., -1., -1.]]])"
            ]
          },
          "metadata": {},
          "execution_count": 20
        }
      ]
    },
    {
      "cell_type": "markdown",
      "source": [
        "###Composing Transforms"
      ],
      "metadata": {
        "id": "GpWp-r3vNXdy"
      }
    },
    {
      "cell_type": "markdown",
      "source": [
        "When composing several transformations into a single, big,\n",
        "composed transformation, we use `Compose()` function.\n",
        "\n",
        "It is quite simple, actually: Just line up all desired transformations in a list. This\n",
        "works pretty much the same way as a pipeline in Scikit-Learn.\n",
        "\n",
        "Let’s compose a new transformation using the following list of transformations:\n",
        "\n",
        "- First, let’s flip an image using `RandomHorizontalFlip()`.\n",
        "- Next, let’s perform some min-max scaling using `Normalize()`."
      ],
      "metadata": {
        "id": "ZTuJ-ITZNYN-"
      }
    },
    {
      "cell_type": "code",
      "source": [
        "composer = Compose([\n",
        "  RandomHorizontalFlip(p=1.0),\n",
        "  Normalize(mean=(.5,), std=(.5,))\n",
        "])\n",
        "\n",
        "composed_tensor = composer(example_tensor)\n",
        "(composed_tensor == normalized_tensor).all()"
      ],
      "metadata": {
        "id": "egvC-crYOF4k",
        "outputId": "d2bcef72-9fad-47e0-f1ce-842dc80012b4",
        "colab": {
          "base_uri": "https://localhost:8080/"
        }
      },
      "execution_count": 21,
      "outputs": [
        {
          "output_type": "execute_result",
          "data": {
            "text/plain": [
              "tensor(False)"
            ]
          },
          "metadata": {},
          "execution_count": 21
        }
      ]
    },
    {
      "cell_type": "code",
      "source": [
        "# let’s briefly compare it to the example_tensor we used as the actual input\n",
        "print(example)\n",
        "print(example_tensor)"
      ],
      "metadata": {
        "id": "HGyk1qXSPcoM",
        "outputId": "538ce1be-711e-403b-d35e-479d42ebb26a",
        "colab": {
          "base_uri": "https://localhost:8080/"
        }
      },
      "execution_count": 22,
      "outputs": [
        {
          "output_type": "stream",
          "name": "stdout",
          "text": [
            "[[[  0 255   0   0   0]\n",
            "  [  0   0 255   0   0]\n",
            "  [  0   0   0 255   0]\n",
            "  [  0   0   0   0 255]\n",
            "  [  0   0   0   0   0]]]\n",
            "tensor([[[0., 1., 0., 0., 0.],\n",
            "         [0., 0., 1., 0., 0.],\n",
            "         [0., 0., 0., 1., 0.],\n",
            "         [0., 0., 0., 0., 1.],\n",
            "         [0., 0., 0., 0., 0.]]])\n"
          ]
        }
      ]
    },
    {
      "cell_type": "markdown",
      "source": [
        "As you can see, the only differences between them are the scale (255 vs one) and\n",
        "the type (integer and float).\n",
        "\n",
        "We can convert the former into the latter using a one-liner."
      ],
      "metadata": {
        "id": "lHkZTFK9PyMe"
      }
    },
    {
      "cell_type": "code",
      "source": [
        "example_tensor = torch.as_tensor(example / 255).float()\n",
        "example_tensor"
      ],
      "metadata": {
        "id": "CN72TS-cP1fr",
        "outputId": "83d6d055-b487-4f9c-b3ab-881234074ff9",
        "colab": {
          "base_uri": "https://localhost:8080/"
        }
      },
      "execution_count": 23,
      "outputs": [
        {
          "output_type": "execute_result",
          "data": {
            "text/plain": [
              "tensor([[[0., 1., 0., 0., 0.],\n",
              "         [0., 0., 1., 0., 0.],\n",
              "         [0., 0., 0., 1., 0.],\n",
              "         [0., 0., 0., 0., 1.],\n",
              "         [0., 0., 0., 0., 0.]]])"
            ]
          },
          "metadata": {},
          "execution_count": 23
        }
      ]
    },
    {
      "cell_type": "markdown",
      "source": [
        "##Data Preparation"
      ],
      "metadata": {
        "id": "V1Cdy7GSQEOf"
      }
    },
    {
      "cell_type": "markdown",
      "source": [
        "The first step of data preparation, is to convert our\n",
        "features and labels from Numpy arrays to PyTorch tensors."
      ],
      "metadata": {
        "id": "pvxl1D-jQFFS"
      }
    },
    {
      "cell_type": "code",
      "source": [
        "# Builds tensors from numpy arrays BEFORE split\n",
        "x_tensor = torch.as_tensor(images / 255).float()\n",
        "y_tensor = torch.as_tensor(labels.reshape(-1, 1)).float()"
      ],
      "metadata": {
        "id": "turfC5LDj6BM"
      },
      "execution_count": 24,
      "outputs": []
    },
    {
      "cell_type": "markdown",
      "source": [
        "###Dataset Transforms"
      ],
      "metadata": {
        "id": "11yRN3sjkWpk"
      }
    },
    {
      "cell_type": "markdown",
      "source": [
        "Let's build our own custom dataset that is capable of handling\n",
        "transformations."
      ],
      "metadata": {
        "id": "XHf7DctHkve9"
      }
    },
    {
      "cell_type": "code",
      "source": [
        "class TransformedDataset(Dataset):\n",
        "  def __init__(self, x, y, transform=None):\n",
        "    self.x = x\n",
        "    self.y = y\n",
        "    self.transform = transform\n",
        "\n",
        "  def __getitem__(self, index):\n",
        "    x = self.x[index]\n",
        "\n",
        "    # transforms the features\n",
        "    if self.transform:\n",
        "      x = self.transform(x)\n",
        "\n",
        "    return x, self.y[index]\n",
        "\n",
        "  def __len__(self):\n",
        "    return len(self.x)"
      ],
      "metadata": {
        "id": "01PLMe9skMiQ"
      },
      "execution_count": 25,
      "outputs": []
    },
    {
      "cell_type": "markdown",
      "source": [
        "So, let’s redefine our composed transformations and create our dataset."
      ],
      "metadata": {
        "id": "SBw-ZOuXm5Rt"
      }
    },
    {
      "cell_type": "code",
      "source": [
        "composer = Compose([\n",
        "    RandomHorizontalFlip(p=0.5),\n",
        "    Normalize(mean=(.5,), std=(.5,))\n",
        "])\n",
        "\n",
        "dataset = TransformedDataset(x_tensor, y_tensor, composer)"
      ],
      "metadata": {
        "id": "rwB5Z-mwmknI"
      },
      "execution_count": 26,
      "outputs": []
    },
    {
      "cell_type": "markdown",
      "source": [
        "###Data sampler"
      ],
      "metadata": {
        "id": "AYi6SZoAwPYI"
      }
    },
    {
      "cell_type": "markdown",
      "source": [
        "The SubsetRandomSampler samples indices from a list, given as argument, without\n",
        "replacement. As in the other samplers, these indices are used to load data from a\n",
        "dataset. \n",
        "\n",
        "If an index is not on the list, the corresponding data point will never be\n",
        "used.\n",
        "\n"
      ],
      "metadata": {
        "id": "rW4hpRV1wRH_"
      }
    },
    {
      "cell_type": "code",
      "source": [
        "def index_splitter(n, splits, seed=13):\n",
        "  idx = torch.arange(n)\n",
        "  # Makes the split argument a tensor\n",
        "  splits_tensor = torch.as_tensor(splits)\n",
        "  # Finds the correct multiplier, so we don't have to worry about summing up to N (or one)\n",
        "  multiplier = n / splits_tensor.sum()\n",
        "  splits_tensor = (multiplier * splits_tensor).long()\n",
        "  # If there is a difference, throws at the first split so random_split does not complain\n",
        "  diff = n - splits_tensor.sum()\n",
        "  splits_tensor[0] += diff\n",
        "  # Uses PyTorch random_split to split the indices\n",
        "  torch.manual_seed(seed)\n",
        "  return random_split(idx, splits_tensor)"
      ],
      "metadata": {
        "id": "ItmGiZTtwiR1"
      },
      "execution_count": 27,
      "outputs": []
    },
    {
      "cell_type": "code",
      "source": [
        "train_idx, val_idx = index_splitter(len(x_tensor), [80, 20])\n",
        "train_idx"
      ],
      "metadata": {
        "id": "wukiAlA0xpvu",
        "outputId": "f69fb286-993a-4284-84e2-23d259bf49c7",
        "colab": {
          "base_uri": "https://localhost:8080/"
        }
      },
      "execution_count": 28,
      "outputs": [
        {
          "output_type": "execute_result",
          "data": {
            "text/plain": [
              "<torch.utils.data.dataset.Subset at 0x7fcd65683df0>"
            ]
          },
          "metadata": {},
          "execution_count": 28
        }
      ]
    },
    {
      "cell_type": "code",
      "source": [
        "train_idx.indices[:5]"
      ],
      "metadata": {
        "id": "NYLzlM25x2HX",
        "outputId": "e51eded7-9f57-4915-dc85-5b1a95a71e9b",
        "colab": {
          "base_uri": "https://localhost:8080/"
        }
      },
      "execution_count": 29,
      "outputs": [
        {
          "output_type": "execute_result",
          "data": {
            "text/plain": [
              "[118, 170, 148, 239, 226]"
            ]
          },
          "metadata": {},
          "execution_count": 29
        }
      ]
    },
    {
      "cell_type": "markdown",
      "source": [
        "Next, each Subset object is used as an argument to the corresponding sampler."
      ],
      "metadata": {
        "id": "RDJ_VPQpyHQg"
      }
    },
    {
      "cell_type": "code",
      "source": [
        "train_sampler = SubsetRandomSampler(train_idx)\n",
        "val_sampler = SubsetRandomSampler(val_idx)"
      ],
      "metadata": {
        "id": "s227WY0KyH4N"
      },
      "execution_count": 30,
      "outputs": []
    },
    {
      "cell_type": "markdown",
      "source": [
        "So, we can use a single dataset from which to load the data since the split is\n",
        "controlled by the samplers. \n",
        "\n",
        "But we still need two data loaders, each using its\n",
        "corresponding sampler."
      ],
      "metadata": {
        "id": "q7nHj8D_ygSc"
      }
    },
    {
      "cell_type": "code",
      "source": [
        "# Builds a loader of each set\n",
        "train_loader = DataLoader(dataset=dataset, batch_size=16, sampler=train_sampler)\n",
        "val_loader = DataLoader(dataset=dataset, batch_size=16, sampler=val_sampler)"
      ],
      "metadata": {
        "id": "N1UjTq4qyiOf"
      },
      "execution_count": 31,
      "outputs": []
    },
    {
      "cell_type": "markdown",
      "source": [
        ">If you’re using a sampler, you cannot set `shuffle=True`.\n",
        "\n",
        "We can also check if the loaders are returning the correct number of mini-batches."
      ],
      "metadata": {
        "id": "R7MeJL8Ay9jY"
      }
    },
    {
      "cell_type": "code",
      "source": [
        "len(iter(train_loader)), len(iter(val_loader))"
      ],
      "metadata": {
        "id": "Nw1igOyhzCfd",
        "outputId": "b7efcc4c-f75a-4c13-fc5d-0261b0b4998f",
        "colab": {
          "base_uri": "https://localhost:8080/"
        }
      },
      "execution_count": 32,
      "outputs": [
        {
          "output_type": "execute_result",
          "data": {
            "text/plain": [
              "(15, 4)"
            ]
          },
          "metadata": {},
          "execution_count": 32
        }
      ]
    },
    {
      "cell_type": "markdown",
      "source": [
        "OK, cool, this means we don’t need two (split) datasets anymore—we only need\n",
        "two samplers."
      ],
      "metadata": {
        "id": "tum62hDXzRVZ"
      }
    },
    {
      "cell_type": "markdown",
      "source": [
        "###Data Augmentation"
      ],
      "metadata": {
        "id": "SrHC28BLzMSq"
      }
    },
    {
      "cell_type": "markdown",
      "source": [
        "The reason why we may still need two split datasets\n",
        "is exactly that: data augmentation. \n",
        "\n",
        "In general, we want to apply data augmentation\n",
        "to the training data only.\n",
        "\n",
        "Data augmentation is accomplished using composing\n",
        "transforms, which will be applied to all points in the dataset.\n",
        "\n",
        "If we need some data points to be augmented, the easiest way to\n",
        "accomplish this is to create two composers and use them in two different datasets."
      ],
      "metadata": {
        "id": "-mmQtulKzM-F"
      }
    },
    {
      "cell_type": "code",
      "source": [
        "# Uses indices to perform the split\n",
        "x_train_tensor = x_tensor[train_idx]\n",
        "y_train_tensor = y_tensor[train_idx]\n",
        "\n",
        "x_val_tensor = x_tensor[val_idx]\n",
        "y_val_tensor = y_tensor[val_idx]"
      ],
      "metadata": {
        "id": "0BU0owZS6Gd6"
      },
      "execution_count": 33,
      "outputs": []
    },
    {
      "cell_type": "markdown",
      "source": [
        "Then, here come the two composers: The `train_composer()` augments the data,\n",
        "and then scales it (min-max); the `val_composer()` only scales the data (min-max)."
      ],
      "metadata": {
        "id": "dF2pDQCg7zuV"
      }
    },
    {
      "cell_type": "code",
      "source": [
        "train_composer = Compose([RandomHorizontalFlip(p=.5), Normalize(mean=(.5,), std=(.5,))])\n",
        "val_composer = Compose([Normalize(mean=(.5,), std=(.5,))])"
      ],
      "metadata": {
        "id": "e9cNpdtp7fEU"
      },
      "execution_count": 34,
      "outputs": []
    },
    {
      "cell_type": "markdown",
      "source": [
        "Next, we use them to create two datasets and their corresponding data loaders."
      ],
      "metadata": {
        "id": "BYO9s7Iy8aVH"
      }
    },
    {
      "cell_type": "code",
      "source": [
        "train_dataset = TransformedDataset(x_train_tensor, y_train_tensor, transform=train_composer)\n",
        "val_dataset = TransformedDataset(x_val_tensor, y_val_tensor, transform=val_composer)\n",
        "\n",
        "# Builds a loader of each set\n",
        "train_loader = DataLoader(dataset=train_dataset, batch_size=16, shuffle=True)\n",
        "val_loader = DataLoader(dataset=val_dataset, batch_size=16)"
      ],
      "metadata": {
        "id": "QmgEtHM48a8t"
      },
      "execution_count": 35,
      "outputs": []
    },
    {
      "cell_type": "markdown",
      "source": [
        "###Weighted Data Sampler"
      ],
      "metadata": {
        "id": "zGXNvzVC9fI6"
      }
    },
    {
      "cell_type": "markdown",
      "source": [
        "Now, we can tackle the imbalance using a different\n",
        "approach: A weighted sampler.\n",
        "\n",
        "The reasoning is pretty much simple, we use\n",
        "weights for sampling.\n",
        "\n",
        "The class with fewer data points (minority class) should get larger weights, while the class with more data points (majority class) should get\n",
        "smaller weights. This way, on average, we’ll end up with mini-batches containing\n",
        "roughly the same number of data points in each class: A balanced dataset.\n",
        "\n",
        "First, we need to find how imbalanced the dataset is."
      ],
      "metadata": {
        "id": "7g2j8aDF9hXE"
      }
    },
    {
      "cell_type": "code",
      "source": [
        "classes, counts = y_train_tensor.unique(return_counts=True)\n",
        "print(classes, counts)"
      ],
      "metadata": {
        "id": "NxsIACfA9H32",
        "outputId": "27da92fa-3bee-4de2-b03d-31ee0a622bef",
        "colab": {
          "base_uri": "https://localhost:8080/"
        }
      },
      "execution_count": 36,
      "outputs": [
        {
          "output_type": "stream",
          "name": "stdout",
          "text": [
            "tensor([0., 1.]) tensor([ 80, 160])\n"
          ]
        }
      ]
    },
    {
      "cell_type": "markdown",
      "source": [
        "Next, we compute the weights by inverting the counts."
      ],
      "metadata": {
        "id": "M96lNoa-9qvK"
      }
    },
    {
      "cell_type": "code",
      "source": [
        "weights = 1.0 / counts.float()\n",
        "weights"
      ],
      "metadata": {
        "id": "2IcKdRkz9rNU",
        "outputId": "08649639-3fe4-4a9a-e60f-ee9d7fb22f34",
        "colab": {
          "base_uri": "https://localhost:8080/"
        }
      },
      "execution_count": 37,
      "outputs": [
        {
          "output_type": "execute_result",
          "data": {
            "text/plain": [
              "tensor([0.0125, 0.0063])"
            ]
          },
          "metadata": {},
          "execution_count": 37
        }
      ]
    },
    {
      "cell_type": "markdown",
      "source": [
        "The minority class should have the largest weight, so each data\n",
        "point belonging to it gets overrepresented to compensate for the\n",
        "imbalance.\n",
        "\n",
        "\n",
        "Since there are 240 images in our training set, we need 240 weights."
      ],
      "metadata": {
        "id": "ew4ignkU_ozx"
      }
    },
    {
      "cell_type": "code",
      "source": [
        "sample_weights = weights[y_train_tensor.squeeze().long()]\n",
        "\n",
        "print(sample_weights.shape)\n",
        "print(sample_weights[:10])\n",
        "print(y_train_tensor[:10].squeeze())"
      ],
      "metadata": {
        "id": "3NZ_vKgO_6r3",
        "outputId": "95ac0abc-c330-46da-b1e4-683556209d4a",
        "colab": {
          "base_uri": "https://localhost:8080/"
        }
      },
      "execution_count": 38,
      "outputs": [
        {
          "output_type": "stream",
          "name": "stdout",
          "text": [
            "torch.Size([240])\n",
            "tensor([0.0063, 0.0063, 0.0063, 0.0063, 0.0063, 0.0125, 0.0063, 0.0063, 0.0063,\n",
            "        0.0063])\n",
            "tensor([1., 1., 1., 1., 1., 0., 1., 1., 1., 1.])\n"
          ]
        }
      ]
    },
    {
      "cell_type": "markdown",
      "source": [
        "Let’s create both the generator and\n",
        "the sampler now."
      ],
      "metadata": {
        "id": "4Em8C31mBFJu"
      }
    },
    {
      "cell_type": "code",
      "source": [
        "# To ensure reproducibility, need to create and assign a generator to the sampler\n",
        "generator = torch.Generator()\n",
        "\n",
        "weighted_sampler = WeightedRandomSampler(\n",
        "    weights=sample_weights,  # A sequence of weights\n",
        "    num_samples=len(sample_weights),\n",
        "    generator=generator,\n",
        "    replacement=True     # draws samples with replacement\n",
        ")"
      ],
      "metadata": {
        "id": "jZetaJs_BF2s"
      },
      "execution_count": 39,
      "outputs": []
    },
    {
      "cell_type": "markdown",
      "source": [
        "Now, let’s (re-)create the data loaders using the weighted sampler with the training set."
      ],
      "metadata": {
        "id": "TxZcHLLFEAB1"
      }
    },
    {
      "cell_type": "code",
      "source": [
        "train_loader = DataLoader(dataset=train_dataset, batch_size=16, sampler=weighted_sampler)\n",
        "val_loader = DataLoader(dataset=val_dataset, batch_size=16)"
      ],
      "metadata": {
        "id": "Gxwfii27EBod"
      },
      "execution_count": 40,
      "outputs": []
    },
    {
      "cell_type": "markdown",
      "source": [
        "Let’s build yet another function to wrap it all up."
      ],
      "metadata": {
        "id": "5HN-Z0K8Em_M"
      }
    },
    {
      "cell_type": "code",
      "source": [
        "def make_balanced_sampler(y):\n",
        "  # Computes weights for compensating imbalanced classes\n",
        "  classes, counts = y.unique(return_counts=True)\n",
        "  weights = 1.0 / counts.float()\n",
        "  sample_weights = weights[y.squeeze().long()]\n",
        "  # Builds sampler with compute weights\n",
        "  generator = torch.Generator()\n",
        "  weighted_sampler = WeightedRandomSampler(\n",
        "    weights=sample_weights,  # A sequence of weights\n",
        "    num_samples=len(sample_weights),\n",
        "    generator=generator,\n",
        "    replacement=True     # draws samples with replacement\n",
        "  )\n",
        "  return weighted_sampler"
      ],
      "metadata": {
        "id": "N3cwuL9eEqH-"
      },
      "execution_count": 41,
      "outputs": []
    },
    {
      "cell_type": "code",
      "source": [
        "weighted_sampler = make_balanced_sampler(y_train_tensor)"
      ],
      "metadata": {
        "id": "0LBFk6eWFcp6"
      },
      "execution_count": 42,
      "outputs": []
    },
    {
      "cell_type": "markdown",
      "source": [
        "Time to set the seed for the generator used in the sampler assigned to the data\n",
        "loader."
      ],
      "metadata": {
        "id": "rWnfGUGxFynp"
      }
    },
    {
      "cell_type": "code",
      "source": [
        "train_loader.sampler.generator.manual_seed(42)\n",
        "random.seed(42)"
      ],
      "metadata": {
        "id": "1IqrKBm0FzFy"
      },
      "execution_count": 43,
      "outputs": []
    },
    {
      "cell_type": "markdown",
      "source": [
        "Now we can check if our sampler is doing its job correctly."
      ],
      "metadata": {
        "id": "cdDxZx5bGPSK"
      }
    },
    {
      "cell_type": "code",
      "source": [
        "torch.tensor([t[1].sum() for t in iter(train_loader)]).sum()"
      ],
      "metadata": {
        "id": "EVR9aAknGPul",
        "outputId": "3690e587-9594-47c4-cb5f-2738707b4546",
        "colab": {
          "base_uri": "https://localhost:8080/"
        }
      },
      "execution_count": 44,
      "outputs": [
        {
          "output_type": "execute_result",
          "data": {
            "text/plain": [
              "tensor(123.)"
            ]
          },
          "metadata": {},
          "execution_count": 44
        }
      ]
    },
    {
      "cell_type": "markdown",
      "source": [
        "Close enough! We have 160 images of the positive class, and now, thanks to the\n",
        "weighted sampler, we’re sampling only 123 of them. \n",
        "\n",
        "It means we’re oversampling\n",
        "the negative class (which has 80 images) to a total of 117 images, adding up to 240\n",
        "images.\n",
        "\n",
        "Mission accomplished, our dataset is balanced now.\n",
        "\n",
        "It’s better to be safe than sorry, so we better set yet another seed to ensure the\n",
        "reproducibility of our code.\n",
        "\n",
        "Let’s update it to include more seeds."
      ],
      "metadata": {
        "id": "T9EsYV3GKJsO"
      }
    },
    {
      "cell_type": "code",
      "source": [
        "def set_seed(self, seed=42):\n",
        "  torch.backends.cudnn.deterministic = True\n",
        "  torch.backends.cudnn.benchmark = False    \n",
        "  torch.manual_seed(seed)\n",
        "  np.random.seed(seed)\n",
        "  random.seed(seed)\n",
        "  try:\n",
        "      self.train_loader.sampler.generator.manual_seed(seed)\n",
        "  except AttributeError:\n",
        "      pass\n",
        "\n",
        "setattr(StepByStep, 'set_seed', set_seed)"
      ],
      "metadata": {
        "id": "KwJR_b5lK2Pi"
      },
      "execution_count": 45,
      "outputs": []
    },
    {
      "cell_type": "markdown",
      "source": [
        "###Putting It Together"
      ],
      "metadata": {
        "id": "RSH2IrYUQhUU"
      }
    },
    {
      "cell_type": "markdown",
      "source": [
        "We’ve gone through a lot of things regarding the data preparation step. \n",
        "\n",
        "Let’s put\n",
        "them all together to get a better view of the big picture here."
      ],
      "metadata": {
        "id": "uzKai9gWQiG_"
      }
    },
    {
      "cell_type": "code",
      "source": [
        "# Builds tensors from numpy arrays BEFORE split\n",
        "# Modifies the scale of pixel values from [0, 255] to [0, 1]\n",
        "x_tensor = torch.as_tensor(images / 255).float()\n",
        "y_tensor = torch.as_tensor(labels.reshape(-1, 1)).float()\n",
        "\n",
        "# Uses index_splitter to generate indices for training and validation sets\n",
        "train_idx, val_idx = index_splitter(len(x_tensor), [80, 20])\n",
        "# Uses indices to perform the split\n",
        "x_train_tensor = x_tensor[train_idx]\n",
        "y_train_tensor = y_tensor[train_idx]\n",
        "x_val_tensor = x_tensor[val_idx]\n",
        "y_val_tensor = x_tensor[val_idx]\n",
        "\n",
        "# Builds different composers because of data augmentation on training set\n",
        "train_composer = Compose([\n",
        "    RandomHorizontalFlip(p=.5),\n",
        "    Normalize(mean=(.5,), std=(.5,))\n",
        "])\n",
        "val_composer = Compose([Normalize(mean=(.5,), std=(.5,))])\n",
        "\n",
        "# Uses custom dataset to apply composed transforms to each set\n",
        "train_dataset = TransformedDataset(x_train_tensor, y_train_tensor, transform=train_composer)\n",
        "val_dataset = TransformedDataset(x_val_tensor, y_val_tensor, transform=val_composer)\n",
        "\n",
        "# Builds a weighted random sampler to handle imbalanced classes\n",
        "weighted_sampler = make_balanced_sampler(y_train_tensor)\n",
        "\n",
        "# Uses sampler in the training set to get a balanced data loader\n",
        "train_loader = DataLoader(dataset=train_dataset, batch_size=16, sampler=weighted_sampler)\n",
        "val_loader = DataLoader(dataset=val_dataset, batch_size=16)"
      ],
      "metadata": {
        "id": "2RwKhjQlP9sE"
      },
      "execution_count": 46,
      "outputs": []
    },
    {
      "cell_type": "markdown",
      "source": [
        "###Pixels as Features"
      ],
      "metadata": {
        "id": "mVQm_7_vcfa8"
      }
    },
    {
      "cell_type": "markdown",
      "source": [
        "Let’s take one mini-batch of images from our training set to illustrate how it works."
      ],
      "metadata": {
        "id": "y0Q7jOVXcgMR"
      }
    },
    {
      "cell_type": "code",
      "source": [
        "dummy_xs, dummy_ys = next(iter(train_loader))\n",
        "dummy_xs.shape"
      ],
      "metadata": {
        "id": "sRCTw97gcixs",
        "outputId": "bf909ad2-1d6a-4e85-8685-33ac6ecceeeb",
        "colab": {
          "base_uri": "https://localhost:8080/"
        }
      },
      "execution_count": 47,
      "outputs": [
        {
          "output_type": "execute_result",
          "data": {
            "text/plain": [
              "torch.Size([16, 1, 5, 5])"
            ]
          },
          "metadata": {},
          "execution_count": 47
        }
      ]
    },
    {
      "cell_type": "markdown",
      "source": [
        "Our dummy mini-batch has 16 images, one channel each, dimensions five-by-five\n",
        "pixels. \n",
        "\n",
        "What if we flatten this mini-batch?"
      ],
      "metadata": {
        "id": "KfSg3jedcuIr"
      }
    },
    {
      "cell_type": "code",
      "source": [
        "flattener = nn.Flatten()\n",
        "dummy_xs_flat = flattener(dummy_xs)\n",
        "\n",
        "print(dummy_xs_flat.shape)\n",
        "print(dummy_xs_flat[0])"
      ],
      "metadata": {
        "id": "oIzmOlk7cvbs",
        "outputId": "9c917ca8-d284-4c9b-b545-a7941da8378f",
        "colab": {
          "base_uri": "https://localhost:8080/"
        }
      },
      "execution_count": 48,
      "outputs": [
        {
          "output_type": "stream",
          "name": "stdout",
          "text": [
            "torch.Size([16, 25])\n",
            "tensor([-1., -1., -1.,  1., -1., -1., -1., -1.,  1., -1., -1., -1., -1.,  1.,\n",
            "        -1., -1., -1., -1.,  1., -1., -1., -1., -1.,  1., -1.])\n"
          ]
        }
      ]
    },
    {
      "cell_type": "markdown",
      "source": [
        "By default, it preserves the first dimension such that we keep the number of data\n",
        "points in the mini-batch, but it collapses the remaining dimensions.\n",
        "\n",
        ">Don’t we lose information when we flatten pixels?\n",
        "\n",
        "Sure we do! And that’s why convolutional neural networks (CNNs) are so successful: They do not lose this information.\n"
      ],
      "metadata": {
        "id": "-Ix7cUaqeUvQ"
      }
    },
    {
      "cell_type": "markdown",
      "source": [
        "##Shallow Model"
      ],
      "metadata": {
        "id": "4SAcXM29e103"
      }
    },
    {
      "cell_type": "markdown",
      "source": [
        "Logistic regression is a simple and shallow model.\n",
        "\n",
        "![](https://github.com/rahiakela/deep-learning-research-and-practice/blob/main/deep-learning-with-pytorch-step-by-step/Part-II-Computer-Vision/images/classification.png?raw=1)\n",
        "\n",
        "Given 25 features, $x_0$ through $x_{24}$, each corresponding to the value of a pixel in a\n",
        "given channel, the model will fit a linear regression such that its outputs are logits\n",
        "(`z`), which are converted into probabilities using a sigmoid function.\n",
        "\n",
        "The vectorized representations of the weights (`W`) and features (`X`) are:\n",
        "\n",
        "$$\n",
        "\\Large W =\n",
        "\\underset{(25 \\times 1)}{\n",
        "\\begin{bmatrix}\n",
        "w_0 \\\\\n",
        "w_1 \\\\\n",
        "\\vdots \\\\\n",
        "w_{24}\n",
        "\\end{bmatrix}};\n",
        "X = \n",
        "\\underset{(25 \\times 1)}{\n",
        "\\begin{bmatrix}\n",
        "x_0 \\\\\n",
        "x_1 \\\\\n",
        "\\vdots \\\\\n",
        "x_{24}\n",
        "\\end{bmatrix}}\n",
        "$$\n",
        "\n",
        "The logits (`z`) are given by the following expression:\n",
        "\n",
        "$$\n",
        "\\Large \n",
        "\\begin{aligned}\n",
        "z\n",
        "& = W^T \\cdot X \n",
        "=\\underset{(1 \\times 25)}{\n",
        "\\begin{bmatrix}\n",
        "- & w^{T} & -\\\\\n",
        "\\end{bmatrix}}\n",
        "\\underset{(25 \\times 1)}{\n",
        "\\begin{bmatrix}\n",
        "x_0 \\\\\n",
        "x_1 \\\\\n",
        "\\vdots \\\\\n",
        "x_{24}\n",
        "\\end{bmatrix}} \n",
        "=\n",
        "\\underset{(1 \\times 25)}{\n",
        "\\begin{bmatrix}\n",
        "w_0 & w_1 & \\cdots & w_{24}\n",
        "\\end{bmatrix}}\n",
        "\\underset{(25 \\times 1)}{\n",
        "\\begin{bmatrix}\n",
        "x_0 \\\\\n",
        "x_1 \\\\\n",
        "\\vdots \\\\\n",
        "x_{24}\n",
        "\\end{bmatrix}}\n",
        "\\\\\n",
        "& = w_0x_0 + w_1x_1 + \\cdots + w_{24}x_{24}\n",
        "\\end{aligned}\n",
        "$$\n",
        "\n",
        "This is what the model configuration looks like for our classification problem:"
      ],
      "metadata": {
        "id": "-ppB_UBge24y"
      }
    },
    {
      "cell_type": "code",
      "source": [
        "torch.manual_seed(17)\n",
        "\n",
        "# Sets learning rate\n",
        "lr = 0.1\n",
        "\n",
        "# Now we can create a model\n",
        "logistic_model = nn.Sequential()\n",
        "logistic_model.add_module('flatten', nn.Flatten())\n",
        "logistic_model.add_module('output', nn.Linear(25, 1, bias=False))\n",
        "logistic_model.add_module('sigmoid', nn.Sigmoid())\n",
        "\n",
        "# Defines a SGD optimizer to update the parameters \n",
        "optimizer_logistic = optim.SGD(logistic_model.parameters(), lr=lr)\n",
        "\n",
        "# Defines a binary cross entropy loss function\n",
        "binary_loss_fn = nn.BCELoss()"
      ],
      "metadata": {
        "id": "Me5Sn90I9Tia"
      },
      "execution_count": 49,
      "outputs": []
    },
    {
      "cell_type": "code",
      "source": [
        "logistic_model"
      ],
      "metadata": {
        "id": "oqpzphwfBQBI",
        "outputId": "9c1e51fb-f32b-4533-be8a-3426e5300ba7",
        "colab": {
          "base_uri": "https://localhost:8080/"
        }
      },
      "execution_count": 50,
      "outputs": [
        {
          "output_type": "execute_result",
          "data": {
            "text/plain": [
              "Sequential(\n",
              "  (flatten): Flatten(start_dim=1, end_dim=-1)\n",
              "  (output): Linear(in_features=25, out_features=1, bias=False)\n",
              "  (sigmoid): Sigmoid()\n",
              ")"
            ]
          },
          "metadata": {},
          "execution_count": 50
        }
      ]
    },
    {
      "cell_type": "markdown",
      "source": [
        "Let’s train our model for 100 epochs."
      ],
      "metadata": {
        "id": "nAatrelO9ejb"
      }
    },
    {
      "cell_type": "code",
      "source": [
        "dummy_xs, dummy_ys = next(iter(train_loader))\n",
        "dummy_xs.shape"
      ],
      "metadata": {
        "id": "0-5w_yKvBFzZ",
        "outputId": "82c645f6-f0c5-4f49-c61e-0736ad52a1d3",
        "colab": {
          "base_uri": "https://localhost:8080/"
        }
      },
      "execution_count": 51,
      "outputs": [
        {
          "output_type": "execute_result",
          "data": {
            "text/plain": [
              "torch.Size([16, 1, 5, 5])"
            ]
          },
          "metadata": {},
          "execution_count": 51
        }
      ]
    },
    {
      "cell_type": "code",
      "source": [
        "dummy_ys.shape"
      ],
      "metadata": {
        "id": "wegXLR6PEyeR",
        "outputId": "9028cb53-1aa3-403e-d956-9edd271789dd",
        "colab": {
          "base_uri": "https://localhost:8080/"
        }
      },
      "execution_count": 52,
      "outputs": [
        {
          "output_type": "execute_result",
          "data": {
            "text/plain": [
              "torch.Size([16, 1])"
            ]
          },
          "metadata": {},
          "execution_count": 52
        }
      ]
    },
    {
      "cell_type": "code",
      "source": [
        "n_epochs = 100\n",
        "\n",
        "try:\n",
        "  sbs_logistic = StepByStep(logistic_model, binary_loss_fn, optimizer_logistic)\n",
        "  sbs_logistic.set_loaders(train_loader, val_loader)\n",
        "  sbs_logistic.train(n_epochs)\n",
        "except Exception as err:\n",
        "  print(err)"
      ],
      "metadata": {
        "id": "u4lufPPs9fES",
        "outputId": "f6ca7a63-2399-44b7-8820-e1b0204eead5",
        "colab": {
          "base_uri": "https://localhost:8080/"
        }
      },
      "execution_count": 53,
      "outputs": [
        {
          "output_type": "stream",
          "name": "stdout",
          "text": [
            "Using a target size (torch.Size([16, 1, 5, 5])) that is different to the input size (torch.Size([16, 1])) is deprecated. Please ensure they have the same size.\n"
          ]
        }
      ]
    },
    {
      "cell_type": "code",
      "source": [
        "fig = sbs_logistic.plot_losses()"
      ],
      "metadata": {
        "id": "1ovEhcheGr2R",
        "outputId": "9ba6985b-9704-4a22-c93c-077c761e5aa3",
        "colab": {
          "base_uri": "https://localhost:8080/",
          "height": 289
        }
      },
      "execution_count": 54,
      "outputs": [
        {
          "output_type": "display_data",
          "data": {
            "text/plain": [
              "<Figure size 720x288 with 1 Axes>"
            ],
            "image/png": "[encoded data removed]"
          },
          "metadata": {}
        }
      ]
    },
    {
      "cell_type": "markdown",
      "source": [
        "##Deep-ish Model"
      ],
      "metadata": {
        "id": "ZUCR3hLKHO9N"
      }
    },
    {
      "cell_type": "markdown",
      "source": [
        "Let’s train our new deep-ish model for 100 epochs."
      ],
      "metadata": {
        "id": "-UiZI-B2_cjQ"
      }
    },
    {
      "cell_type": "code",
      "source": [
        "torch.manual_seed(17)\n",
        "\n",
        "# Sets learning rate\n",
        "lr = 0.1\n",
        "\n",
        "# Now we can create a model\n",
        "model_nn = nn.Sequential()\n",
        "model_nn.add_module('flatten', nn.Flatten())\n",
        "model_nn.add_module('hidden0', nn.Linear(25, 5, bias=False))\n",
        "model_nn.add_module('hidden1', nn.Linear(5, 3, bias=False))\n",
        "model_nn.add_module('output', nn.Linear(3, 1, bias=False))\n",
        "model_nn.add_module('sigmoid', nn.Sigmoid())\n",
        "\n",
        "# Defines a SGD optimizer to update the parameters \n",
        "optimizer_logistic = optim.SGD(model_nn.parameters(), lr=lr)\n",
        "\n",
        "# Defines a binary cross entropy loss function\n",
        "binary_loss_fn = nn.BCELoss()"
      ],
      "metadata": {
        "id": "fwYNTyK3-yKP"
      },
      "execution_count": 55,
      "outputs": []
    },
    {
      "cell_type": "code",
      "source": [
        "n_epochs = 100\n",
        "\n",
        "try:\n",
        "  sbs_nn = StepByStep(model_nn, binary_loss_fn, optimizer_logistic)\n",
        "  sbs_nn.set_loaders(train_loader, val_loader)\n",
        "  sbs_nn.train(n_epochs)\n",
        "except Exception as err:\n",
        "  print(err)"
      ],
      "metadata": {
        "id": "RC8vEVe5_Jfc",
        "outputId": "4fd0973a-6058-4f33-db4f-3575dbcc1df7",
        "colab": {
          "base_uri": "https://localhost:8080/"
        }
      },
      "execution_count": 56,
      "outputs": [
        {
          "output_type": "stream",
          "name": "stdout",
          "text": [
            "Using a target size (torch.Size([16, 1, 5, 5])) that is different to the input size (torch.Size([16, 1])) is deprecated. Please ensure they have the same size.\n"
          ]
        }
      ]
    },
    {
      "cell_type": "code",
      "source": [
        "fig = sbs_nn.plot_losses()"
      ],
      "metadata": {
        "id": "Xyv9dCRk_Rfj",
        "outputId": "066e4695-da6b-4351-94f0-64dbbb699329",
        "colab": {
          "base_uri": "https://localhost:8080/",
          "height": 289
        }
      },
      "execution_count": 57,
      "outputs": [
        {
          "output_type": "display_data",
          "data": {
            "text/plain": [
              "<Figure size 720x288 with 1 Axes>"
            ],
            "image/png": "[encoded data removed]"
          },
          "metadata": {}
        }
      ]
    },
    {
      "cell_type": "code",
      "source": [
        "fig = figure5(sbs_logistic, sbs_nn)"
      ],
      "metadata": {
        "id": "w7dAL5eH_TcA",
        "outputId": "060e3109-bbd6-475b-a667-0178e5adb040",
        "colab": {
          "base_uri": "https://localhost:8080/",
          "height": 352
        }
      },
      "execution_count": 58,
      "outputs": [
        {
          "output_type": "display_data",
          "data": {
            "text/plain": [
              "<Figure size 1080x432 with 2 Axes>"
            ],
            "image/png": "[encoded data removed]"
          },
          "metadata": {}
        }
      ]
    },
    {
      "cell_type": "markdown",
      "source": [
        "Now, let's shows the result of the matrix multiplication."
      ],
      "metadata": {
        "id": "5sOEV1gDIiye"
      }
    },
    {
      "cell_type": "code",
      "source": [
        "w_nn_hidden0 = model_nn.hidden0.weight.detach()\n",
        "w_nn_hidden1 = model_nn.hidden1.weight.detach()\n",
        "w_nn_output = model_nn.output.weight.detach()\n",
        "\n",
        "w_nn_hidden0.shape, w_nn_hidden1.shape, w_nn_output.shape"
      ],
      "metadata": {
        "id": "_er-WVs4Ikuz",
        "outputId": "91ebedb3-47ec-4fed-91bb-460b0e7352b0",
        "colab": {
          "base_uri": "https://localhost:8080/"
        }
      },
      "execution_count": 59,
      "outputs": [
        {
          "output_type": "execute_result",
          "data": {
            "text/plain": [
              "(torch.Size([5, 25]), torch.Size([3, 5]), torch.Size([1, 3]))"
            ]
          },
          "metadata": {},
          "execution_count": 59
        }
      ]
    },
    {
      "cell_type": "code",
      "source": [
        "# performing a matrix multiplication\n",
        "w_nn_equiv = w_nn_output @ w_nn_hidden1 @ w_nn_hidden0\n",
        "w_nn_equiv.shape"
      ],
      "metadata": {
        "id": "5J3NC1wSJJoU",
        "outputId": "29963242-931f-4bae-e4fa-47035b02ac16",
        "colab": {
          "base_uri": "https://localhost:8080/"
        }
      },
      "execution_count": 60,
      "outputs": [
        {
          "output_type": "execute_result",
          "data": {
            "text/plain": [
              "torch.Size([1, 25])"
            ]
          },
          "metadata": {},
          "execution_count": 60
        }
      ]
    },
    {
      "cell_type": "code",
      "source": [
        "# doing the same\n",
        "w_nn_equiv = w_nn_output.mm(w_nn_hidden1.mm(w_nn_hidden0))\n",
        "w_nn_equiv.shape"
      ],
      "metadata": {
        "id": "zEaNvAJiJca_",
        "outputId": "e04c4473-dd5a-46e1-e59d-9891882e65d3",
        "colab": {
          "base_uri": "https://localhost:8080/"
        }
      },
      "execution_count": 61,
      "outputs": [
        {
          "output_type": "execute_result",
          "data": {
            "text/plain": [
              "torch.Size([1, 25])"
            ]
          },
          "metadata": {},
          "execution_count": 61
        }
      ]
    },
    {
      "cell_type": "markdown",
      "source": [
        "Next, we need to compare them to the weights of the shallow model."
      ],
      "metadata": {
        "id": "LxnnWIOhJ5QP"
      }
    },
    {
      "cell_type": "code",
      "source": [
        "w_logistic_output = logistic_model.output.weight.detach()\n",
        "w_logistic_output.shape"
      ],
      "metadata": {
        "id": "68EJo3xqJ6BO",
        "outputId": "ef584d26-24dd-4052-8ae8-d25dbcbed312",
        "colab": {
          "base_uri": "https://localhost:8080/"
        }
      },
      "execution_count": 62,
      "outputs": [
        {
          "output_type": "execute_result",
          "data": {
            "text/plain": [
              "torch.Size([1, 25])"
            ]
          },
          "metadata": {},
          "execution_count": 62
        }
      ]
    },
    {
      "cell_type": "markdown",
      "source": [
        "Let’s try to grasp the full picture by looking at a\n",
        "picture."
      ],
      "metadata": {
        "id": "dZZVed2uKJt6"
      }
    },
    {
      "cell_type": "code",
      "source": [
        "fig = weights_comparison(w_logistic_output, w_nn_equiv)"
      ],
      "metadata": {
        "id": "taNtP9xIKKab",
        "outputId": "e8864b9f-043a-41e6-853c-e1a27f892554",
        "colab": {
          "base_uri": "https://localhost:8080/",
          "height": 352
        }
      },
      "execution_count": 63,
      "outputs": [
        {
          "output_type": "display_data",
          "data": {
            "text/plain": [
              "<Figure size 1080x432 with 2 Axes>"
            ],
            "image/png": "[encoded data removed]"
          },
          "metadata": {}
        }
      ]
    },
    {
      "cell_type": "markdown",
      "source": [
        "Let’s make a method that take only gradient-requiring tensors, so we can count only those weights that need to be updated."
      ],
      "metadata": {
        "id": "g9PbAhQSLfo-"
      }
    },
    {
      "cell_type": "code",
      "source": [
        "def count_parameters(self):\n",
        "  return sum(p.numel() for p in self.model.parameters() if p.requires_grad)\n",
        "\n",
        "setattr(StepByStep, \"count_parameters\", count_parameters)"
      ],
      "metadata": {
        "id": "EaZr-XDoLo8F"
      },
      "execution_count": 64,
      "outputs": []
    },
    {
      "cell_type": "code",
      "source": [
        "sbs_logistic.count_parameters(), sbs_nn.count_parameters()"
      ],
      "metadata": {
        "id": "tMXwfZHAL-Rg",
        "outputId": "1f8513cd-b0bd-47d8-b257-51b869e62636",
        "colab": {
          "base_uri": "https://localhost:8080/"
        }
      },
      "execution_count": 65,
      "outputs": [
        {
          "output_type": "execute_result",
          "data": {
            "text/plain": [
              "(25, 143)"
            ]
          },
          "metadata": {},
          "execution_count": 65
        }
      ]
    },
    {
      "cell_type": "markdown",
      "source": [
        "Now, let's visualize the weights of Hidden Layer #0 as images."
      ],
      "metadata": {
        "id": "PZu1yoUEMoLj"
      }
    },
    {
      "cell_type": "code",
      "source": [
        "w_nn_hidden0.shape"
      ],
      "metadata": {
        "id": "rhfm3G1IMt4x",
        "outputId": "efb170bc-16ec-4b51-8fd5-00ab561a6dca",
        "colab": {
          "base_uri": "https://localhost:8080/"
        }
      },
      "execution_count": 66,
      "outputs": [
        {
          "output_type": "execute_result",
          "data": {
            "text/plain": [
              "torch.Size([5, 25])"
            ]
          },
          "metadata": {},
          "execution_count": 66
        }
      ]
    },
    {
      "cell_type": "code",
      "source": [
        "fig = figure7(w_nn_hidden0)"
      ],
      "metadata": {
        "id": "K4i40toGM0EA",
        "outputId": "656fb77f-5df3-4c9f-d64c-970f1065e5e4",
        "colab": {
          "base_uri": "https://localhost:8080/",
          "height": 230
        }
      },
      "execution_count": 67,
      "outputs": [
        {
          "output_type": "display_data",
          "data": {
            "text/plain": [
              "<Figure size 1080x288 with 5 Axes>"
            ],
            "image/png": "[encoded data removed]"
          },
          "metadata": {}
        }
      ]
    },
    {
      "cell_type": "markdown",
      "source": [
        "Visualizing weights as images is commonplace when using convolutional neural\n",
        "networks (CNNs). \n",
        "\n",
        "These images will be called filters, and trained models will likely\n",
        "exhibit more recognizable characteristics in their filters."
      ],
      "metadata": {
        "id": "utaFjo0jNQQH"
      }
    },
    {
      "cell_type": "markdown",
      "source": [
        "##Activation Functions"
      ],
      "metadata": {
        "id": "g5yPrRmANUQT"
      }
    },
    {
      "cell_type": "markdown",
      "source": [
        "Activation functions are nonlinear functions. They either squash or bend straight lines. They will break the equivalence between the\n",
        "deep-ish and the shallow models."
      ],
      "metadata": {
        "id": "5HeZgVXTNU3U"
      }
    },
    {
      "cell_type": "markdown",
      "source": [
        "###Sigmoid"
      ],
      "metadata": {
        "id": "ByrD908ggHdZ"
      }
    },
    {
      "cell_type": "markdown",
      "source": [
        "PyTorch has the sigmoid function available in two flavors:\n",
        "\n",
        "* `torch.sigmoid()` \n",
        "* `nn.Sigmoid`\n"
      ],
      "metadata": {
        "id": "r0QlDdHbgJ7a"
      }
    },
    {
      "cell_type": "code",
      "source": [
        "dummy_z = torch.tensor([-3.0, 0.0, 3.0])\n",
        "torch.sigmoid(dummy_z)"
      ],
      "metadata": {
        "id": "TsEjGTXtgUNA",
        "outputId": "37a5a1c7-7110-450b-8b61-2998b56105c2",
        "colab": {
          "base_uri": "https://localhost:8080/"
        }
      },
      "execution_count": 68,
      "outputs": [
        {
          "output_type": "execute_result",
          "data": {
            "text/plain": [
              "tensor([0.0474, 0.5000, 0.9526])"
            ]
          },
          "metadata": {},
          "execution_count": 68
        }
      ]
    },
    {
      "cell_type": "code",
      "source": [
        "nn.Sigmoid()(dummy_z)"
      ],
      "metadata": {
        "id": "82686Fu-gkOP",
        "outputId": "d9dafb9b-4f8e-4f6f-aa3c-9b6ed78e0a67",
        "colab": {
          "base_uri": "https://localhost:8080/"
        }
      },
      "execution_count": 69,
      "outputs": [
        {
          "output_type": "execute_result",
          "data": {
            "text/plain": [
              "tensor([0.0474, 0.5000, 0.9526])"
            ]
          },
          "metadata": {},
          "execution_count": 69
        }
      ]
    },
    {
      "cell_type": "markdown",
      "source": [
        "###Hyperbolic Tangent (TanH)"
      ],
      "metadata": {
        "id": "lMuQwa_Hi_vb"
      }
    },
    {
      "cell_type": "markdown",
      "source": [
        "Just like the sigmoid function, the hyperbolic tangent also comes in two flavors:\n",
        "\n",
        "* `torch.tanh()`\n",
        "* `nn.Tanh`"
      ],
      "metadata": {
        "id": "UNnP3Vvsi_3E"
      }
    },
    {
      "cell_type": "code",
      "source": [
        "dummy_z = torch.tensor([-3.0, 0.0, 3.0])\n",
        "torch.tanh(dummy_z)"
      ],
      "metadata": {
        "id": "1X2xmSA4jKFh",
        "outputId": "9b1301fa-5516-46af-996a-9ea083d77a0e",
        "colab": {
          "base_uri": "https://localhost:8080/"
        }
      },
      "execution_count": 70,
      "outputs": [
        {
          "output_type": "execute_result",
          "data": {
            "text/plain": [
              "tensor([-0.9951,  0.0000,  0.9951])"
            ]
          },
          "metadata": {},
          "execution_count": 70
        }
      ]
    },
    {
      "cell_type": "code",
      "source": [
        "nn.Tanh()(dummy_z)"
      ],
      "metadata": {
        "id": "kdPN1lahjYsj",
        "outputId": "c582e6be-343b-44f7-b8cd-1fc2fc00c0c0",
        "colab": {
          "base_uri": "https://localhost:8080/"
        }
      },
      "execution_count": 71,
      "outputs": [
        {
          "output_type": "execute_result",
          "data": {
            "text/plain": [
              "tensor([-0.9951,  0.0000,  0.9951])"
            ]
          },
          "metadata": {},
          "execution_count": 71
        }
      ]
    },
    {
      "cell_type": "markdown",
      "source": [
        "###Rectified Linear Unit (ReLU)"
      ],
      "metadata": {
        "id": "SPZWrU4Ql4Th"
      }
    },
    {
      "cell_type": "markdown",
      "source": [
        "There are three different ways of implementing a ReLU in PyTorch: \n",
        "\n",
        "* `F.ReLU()`\n",
        "* `nn.ReLU`\n",
        "* `torch.clamp()`"
      ],
      "metadata": {
        "id": "eglbfFRil4by"
      }
    },
    {
      "cell_type": "code",
      "source": [
        "dummy_z = torch.tensor([-3.0, 0.0, 3.0])\n",
        "torch.relu(dummy_z)"
      ],
      "metadata": {
        "id": "W89a7Ht5mAdI",
        "outputId": "da76e9b1-39bd-4485-8502-d1e21e592f8c",
        "colab": {
          "base_uri": "https://localhost:8080/"
        }
      },
      "execution_count": 72,
      "outputs": [
        {
          "output_type": "execute_result",
          "data": {
            "text/plain": [
              "tensor([0., 0., 3.])"
            ]
          },
          "metadata": {},
          "execution_count": 72
        }
      ]
    },
    {
      "cell_type": "code",
      "source": [
        "nn.ReLU()(dummy_z)"
      ],
      "metadata": {
        "id": "eH8EwWhVoOag",
        "outputId": "bfe46860-3abd-49bb-973b-4a31f587aa78",
        "colab": {
          "base_uri": "https://localhost:8080/"
        }
      },
      "execution_count": 73,
      "outputs": [
        {
          "output_type": "execute_result",
          "data": {
            "text/plain": [
              "tensor([0., 0., 3.])"
            ]
          },
          "metadata": {},
          "execution_count": 73
        }
      ]
    },
    {
      "cell_type": "code",
      "source": [
        "dummy_z.clamp(min=0)"
      ],
      "metadata": {
        "id": "G14hn4RCoeem",
        "outputId": "bb1bde65-0e6f-45b4-b60c-85507559221a",
        "colab": {
          "base_uri": "https://localhost:8080/"
        }
      },
      "execution_count": 74,
      "outputs": [
        {
          "output_type": "execute_result",
          "data": {
            "text/plain": [
              "tensor([0., 0., 3.])"
            ]
          },
          "metadata": {},
          "execution_count": 74
        }
      ]
    },
    {
      "cell_type": "markdown",
      "source": [
        "###Leaky ReLU"
      ],
      "metadata": {
        "id": "D3YP5v15opvV"
      }
    },
    {
      "cell_type": "markdown",
      "source": [
        "Once again, we have two options.\n",
        "\n",
        "* `F.leaky_relu()`\n",
        "* `nn.LeakyReLU`"
      ],
      "metadata": {
        "id": "b_BBZDdCqljj"
      }
    },
    {
      "cell_type": "code",
      "source": [
        "dummy_z = torch.tensor([-3.0, 0.0, 3.0])\n",
        "F.leaky_relu(dummy_z)"
      ],
      "metadata": {
        "id": "og_whM9eqv2r",
        "outputId": "ffab8ed0-34d9-4a17-dc96-be8c72d39475",
        "colab": {
          "base_uri": "https://localhost:8080/"
        }
      },
      "execution_count": 75,
      "outputs": [
        {
          "output_type": "execute_result",
          "data": {
            "text/plain": [
              "tensor([-0.0300,  0.0000,  3.0000])"
            ]
          },
          "metadata": {},
          "execution_count": 75
        }
      ]
    },
    {
      "cell_type": "code",
      "source": [
        "nn.LeakyReLU(negative_slope=0.02)(dummy_z)"
      ],
      "metadata": {
        "id": "-AdmKq7zoqmj",
        "outputId": "c7ede2f9-e2c2-4542-da91-e349c875d0f6",
        "colab": {
          "base_uri": "https://localhost:8080/"
        }
      },
      "execution_count": 76,
      "outputs": [
        {
          "output_type": "execute_result",
          "data": {
            "text/plain": [
              "tensor([-0.0600,  0.0000,  3.0000])"
            ]
          },
          "metadata": {},
          "execution_count": 76
        }
      ]
    },
    {
      "cell_type": "markdown",
      "source": [
        "###Parametric ReLU (PReLU)"
      ],
      "metadata": {
        "id": "PkdV-P9UvcRU"
      }
    },
    {
      "cell_type": "markdown",
      "source": [
        "We can set the parameter a using the functional version (argument weight in\n",
        "`F.prelu()`):"
      ],
      "metadata": {
        "id": "Ca205DPmvcaA"
      }
    },
    {
      "cell_type": "code",
      "source": [
        "dummy_z = torch.tensor([-3.0, 0.0, 3.0])\n",
        "F.prelu(dummy_z, weight=torch.tensor(0.25))"
      ],
      "metadata": {
        "id": "KjCl-p7NvhtJ",
        "outputId": "80af0eab-5f72-4013-9682-839630e09248",
        "colab": {
          "base_uri": "https://localhost:8080/"
        }
      },
      "execution_count": 77,
      "outputs": [
        {
          "output_type": "execute_result",
          "data": {
            "text/plain": [
              "tensor([-0.7500,  0.0000,  3.0000])"
            ]
          },
          "metadata": {},
          "execution_count": 77
        }
      ]
    },
    {
      "cell_type": "code",
      "source": [
        "nn.PReLU(init=0.25)(dummy_z)"
      ],
      "metadata": {
        "id": "56wPTEoIv2SE",
        "outputId": "b329738d-626c-482f-8b38-9f128dd8b92c",
        "colab": {
          "base_uri": "https://localhost:8080/"
        }
      },
      "execution_count": 78,
      "outputs": [
        {
          "output_type": "execute_result",
          "data": {
            "text/plain": [
              "tensor([-0.7500,  0.0000,  3.0000], grad_fn=<PreluBackward0>)"
            ]
          },
          "metadata": {},
          "execution_count": 78
        }
      ]
    },
    {
      "cell_type": "markdown",
      "source": [
        "##Deep Model"
      ],
      "metadata": {
        "id": "J6CIOlqKwJna"
      }
    },
    {
      "cell_type": "markdown",
      "source": [
        "Since activation functions break the equivalence to a\n",
        "shallow model.\n",
        "\n",
        "Let’s use them to transform our former deep-ish model into a real\n",
        "deep model."
      ],
      "metadata": {
        "id": "5L0CD0JJwKXg"
      }
    },
    {
      "cell_type": "code",
      "source": [
        "torch.manual_seed(17)\n",
        "\n",
        "# Sets learning rate\n",
        "lr = 0.1\n",
        "\n",
        "# Now we can create a model\n",
        "model_nn = nn.Sequential()\n",
        "model_nn.add_module('flatten', nn.Flatten())\n",
        "model_nn.add_module('hidden0', nn.Linear(25, 5, bias=False))\n",
        "model_nn.add_module(\"activation0\", nn.ReLU())\n",
        "model_nn.add_module('hidden1', nn.Linear(5, 3, bias=False))\n",
        "model_nn.add_module(\"activation1\", nn.ReLU())\n",
        "model_nn.add_module('output', nn.Linear(3, 1, bias=False))\n",
        "model_nn.add_module('sigmoid', nn.Sigmoid())\n",
        "\n",
        "# Defines a SGD optimizer to update the parameters \n",
        "optimizer_logistic = optim.SGD(model_nn.parameters(), lr=lr)\n",
        "\n",
        "# Defines a binary cross entropy loss function\n",
        "binary_loss_fn = nn.BCELoss()"
      ],
      "metadata": {
        "id": "fb0bzp9c56yk"
      },
      "execution_count": 79,
      "outputs": []
    },
    {
      "cell_type": "code",
      "source": [
        "n_epochs = 50\n",
        "\n",
        "try:\n",
        "  sbs_relu = StepByStep(model_nn, binary_loss_fn, optimizer_logistic)\n",
        "  sbs_relu.set_loaders(train_loader, val_loader)\n",
        "  sbs_relu.train(n_epochs)\n",
        "except Exception as err:\n",
        "  print(err)"
      ],
      "metadata": {
        "id": "24H7wp0f7Yir",
        "outputId": "487c09df-d171-41f6-b365-308ca14cd10d",
        "colab": {
          "base_uri": "https://localhost:8080/"
        }
      },
      "execution_count": 81,
      "outputs": [
        {
          "output_type": "stream",
          "name": "stdout",
          "text": [
            "Using a target size (torch.Size([16, 1, 5, 5])) that is different to the input size (torch.Size([16, 1])) is deprecated. Please ensure they have the same size.\n"
          ]
        }
      ]
    },
    {
      "cell_type": "code",
      "source": [
        "fig = sbs_relu.plot_losses()"
      ],
      "metadata": {
        "id": "Wb3mnSle8UwK"
      },
      "execution_count": null,
      "outputs": []
    },
    {
      "cell_type": "code",
      "source": [
        "fig = figure5b(sbs_logistic, sbs_nn, sbs_relu)"
      ],
      "metadata": {
        "id": "k0ZHNzFF8VIA"
      },
      "execution_count": null,
      "outputs": []
    },
    {
      "cell_type": "markdown",
      "source": [
        "## Putting It All Together"
      ],
      "metadata": {
        "id": "hcHPckEu8eLk"
      }
    },
    {
      "cell_type": "markdown",
      "source": [],
      "metadata": {
        "id": "hA2OCyMC8gQF"
      }
    }
  ]
}