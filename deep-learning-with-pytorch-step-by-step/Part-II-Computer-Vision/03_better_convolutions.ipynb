{
  "nbformat": 4,
  "nbformat_minor": 0,
  "metadata": {
    "colab": {
      "provenance": [],
      "toc_visible": true,
      "authorship_tag": "ABX9TyPd+CRSg6VawsJkkwCmuFgj",
      "include_colab_link": true
    },
    "kernelspec": {
      "name": "python3",
      "display_name": "Python 3"
    },
    "language_info": {
      "name": "python"
    }
  },
  "cells": [
    {
      "cell_type": "markdown",
      "metadata": {
        "id": "view-in-github",
        "colab_type": "text"
      },
      "source": [
        "<a href=\"https://colab.research.google.com/github/rahiakela/deep-learning-research-and-practice/blob/main/deep-learning-with-pytorch-step-by-step/Part-II-Computer-Vision/03_better_convolutions.ipynb\" target=\"_parent\"><img src=\"https://colab.research.google.com/assets/colab-badge.svg\" alt=\"Open In Colab\"/></a>"
      ]
    },
    {
      "cell_type": "markdown",
      "source": [
        "##Better Convolutions"
      ],
      "metadata": {
        "id": "qKDOcAGwkGhq"
      }
    },
    {
      "cell_type": "markdown",
      "source": [
        "This time, let's use a different dataset: Rock Paper Scissors.\n",
        "\n",
        "The dataset contains 2,892 images of diverse hands in the typical rock, paper, and\n",
        "scissors poses against a white background. This is a synthetic dataset as well since\n",
        "the images were generated using CGI techniques. Each image is 300x300 pixels in\n",
        "size and has four channels (RGBA).\n",
        "\n",
        "Here are some examples of its images, one for each pose.\n",
        "\n",
        "![](https://github.com/rahiakela/deep-learning-research-and-practice/blob/main/deep-learning-with-pytorch-step-by-step/Part-II-Computer-Vision/images/download.png?raw=1)"
      ],
      "metadata": {
        "id": "KIj__-HokOxT"
      }
    },
    {
      "cell_type": "markdown",
      "source": [
        "##Setup"
      ],
      "metadata": {
        "id": "3WRqxBEvlvgw"
      }
    },
    {
      "cell_type": "code",
      "source": [
        "from IPython.core.display import display, HTML\n",
        "display(HTML(\"<style>.container { width:80% !important; }</style>\"))"
      ],
      "metadata": {
        "colab": {
          "base_uri": "https://localhost:8080/",
          "height": 17
        },
        "id": "sJOR-0hwlwr7",
        "outputId": "b8922b9e-2d2e-4d57-dc40-f85df5133081"
      },
      "execution_count": 1,
      "outputs": [
        {
          "output_type": "display_data",
          "data": {
            "text/plain": [
              "<IPython.core.display.HTML object>"
            ],
            "text/html": [
              "<style>.container { width:80% !important; }</style>"
            ]
          },
          "metadata": {}
        }
      ]
    },
    {
      "cell_type": "code",
      "source": [
        "try:\n",
        "    import google.colab\n",
        "    import requests\n",
        "    url = 'https://raw.githubusercontent.com/dvgodoy/PyTorchStepByStep/master/config.py'\n",
        "    r = requests.get(url, allow_redirects=True)\n",
        "    open('config.py', 'wb').write(r.content)    \n",
        "except ModuleNotFoundError:\n",
        "    pass\n",
        "\n",
        "from config import *\n",
        "config_chapter6()\n",
        "# This is needed to render the plots in this chapter\n",
        "from plots.chapter6 import *"
      ],
      "metadata": {
        "colab": {
          "base_uri": "https://localhost:8080/"
        },
        "id": "wlXOl_Holz6M",
        "outputId": "a9294820-f4eb-41b9-a21c-c463d36431a7"
      },
      "execution_count": 2,
      "outputs": [
        {
          "output_type": "stream",
          "name": "stdout",
          "text": [
            "Downloading files from GitHub repo to Colab...\n",
            "Finished!\n"
          ]
        }
      ]
    },
    {
      "cell_type": "code",
      "source": [
        "import numpy as np\n",
        "from PIL import Image\n",
        "from copy import deepcopy\n",
        "\n",
        "import torch\n",
        "import torch.optim as optim\n",
        "import torch.nn as nn\n",
        "import torch.nn.functional as F\n",
        "\n",
        "from torch.utils.data import DataLoader, TensorDataset, random_split\n",
        "from torchvision.transforms import Compose, ToTensor, Normalize, ToPILImage, Resize\n",
        "from torchvision.datasets import ImageFolder\n",
        "from torch.optim.lr_scheduler import StepLR, ReduceLROnPlateau, MultiStepLR, CyclicLR, LambdaLR\n",
        "\n",
        "from stepbystep.v2 import StepByStep"
      ],
      "metadata": {
        "id": "54a8hhq8l2AK"
      },
      "execution_count": 3,
      "outputs": []
    },
    {
      "cell_type": "code",
      "source": [
        "from google.colab import drive\n",
        "drive.mount('/content/gdrive')"
      ],
      "metadata": {
        "id": "0A-YvvDpDl-1",
        "outputId": "965858f4-2edf-4589-9c0e-532d496043fb",
        "colab": {
          "base_uri": "https://localhost:8080/"
        }
      },
      "execution_count": 4,
      "outputs": [
        {
          "output_type": "stream",
          "name": "stdout",
          "text": [
            "Mounted at /content/gdrive\n"
          ]
        }
      ]
    },
    {
      "cell_type": "code",
      "source": [
        "import os\n",
        "# content/gdrive/My Drive/Kaggle is the path where kaggle.json is  present in the Google Drive\n",
        "os.environ['KAGGLE_CONFIG_DIR'] = \"/content/gdrive/MyDrive/kaggle-keys\""
      ],
      "metadata": {
        "id": "iDxyNz9iEDxw"
      },
      "execution_count": 5,
      "outputs": []
    },
    {
      "cell_type": "code",
      "source": [
        "%%shell\n",
        "\n",
        "# download dataset from kaggle> URL: https://www.kaggle.com/datasets/sanikamal/rock-paper-scissors-dataset\n",
        "kaggle datasets download -d sanikamal/rock-paper-scissors-dataset\n",
        "\n",
        "unzip -qq rock-paper-scissors-dataset.zip\n",
        "rm -rf rock-paper-scissors-dataset.zip"
      ],
      "metadata": {
        "id": "imNthwCGdJTw"
      },
      "execution_count": null,
      "outputs": []
    },
    {
      "cell_type": "markdown",
      "source": [
        "## Data Preparation"
      ],
      "metadata": {
        "id": "Z9Sqyzlxl-Wn"
      }
    },
    {
      "cell_type": "markdown",
      "source": [
        "The data preparation step will be a bit more demanding this time since we’ll be\n",
        "standardizing the images.Besides, we can use the ImageFolder dataset now.\n",
        "\n",
        "The Rock Paper Scissors dataset is organized like that:\n",
        "\n",
        "```\n",
        "rps/paper/paper01-000.png\n",
        "rps/paper/paper01-001.png\n",
        "\n",
        "rps/rock/rock01-000.png\n",
        "rps/rock/rock01-001.png\n",
        "\n",
        "rps/scissors/scissors01-000.png\n",
        "rps/scissors/scissors01-001.png\n",
        "```\n",
        "\n",
        "The dataset is also perfectly balanced, with each sub-folder containing 840 images\n",
        "of its particular class.\n",
        "\n",
        "Let’s create a dataset then:"
      ],
      "metadata": {
        "id": "NMt6wXGPl_on"
      }
    },
    {
      "cell_type": "code",
      "source": [
        "ROOT_FOLDER = \"Rock-Paper-Scissors\"\n",
        "temp_transform = Compose([Resize(28), ToTensor()])\n",
        "temp_dataset = ImageFolder(root=ROOT_FOLDER, transform=temp_transform)"
      ],
      "metadata": {
        "id": "-04BquM1nbe4"
      },
      "execution_count": 7,
      "outputs": []
    },
    {
      "cell_type": "code",
      "source": [
        "temp_dataset[0][0].shape, temp_dataset[0][1]"
      ],
      "metadata": {
        "id": "vSFRh8T8eP3G",
        "outputId": "998ee161-f498-4a36-bb27-c2f169c8ad60",
        "colab": {
          "base_uri": "https://localhost:8080/"
        }
      },
      "execution_count": 8,
      "outputs": [
        {
          "output_type": "execute_result",
          "data": {
            "text/plain": [
              "(torch.Size([3, 28, 28]), 0)"
            ]
          },
          "metadata": {},
          "execution_count": 8
        }
      ]
    },
    {
      "cell_type": "markdown",
      "source": [
        "###Standardization"
      ],
      "metadata": {
        "id": "VJF-KE8Venjn"
      }
    },
    {
      "cell_type": "markdown",
      "source": [
        "To standardize data points, we need to learn their mean and standard deviation\n",
        "first.\n",
        "\n",
        "To compute these, we need to load the data.\n",
        "\n",
        "The good thing is, we have\n",
        "a (temporary) dataset with the resized images already! We’re only missing a data\n",
        "loader."
      ],
      "metadata": {
        "id": "g_figy2Eeobq"
      }
    },
    {
      "cell_type": "code",
      "source": [
        "temp_loader = DataLoader(temp_dataset, batch_size=16)"
      ],
      "metadata": {
        "id": "6VReWpJ_e1_S"
      },
      "execution_count": 9,
      "outputs": []
    },
    {
      "cell_type": "markdown",
      "source": [
        "So, let’s build a function that takes a mini-batch (images and labels) and computes\n",
        "the mean pixel value and standard deviation per channel of each image, adding up\n",
        "the results for all images."
      ],
      "metadata": {
        "id": "fdcIoIJFkrsg"
      }
    },
    {
      "cell_type": "code",
      "source": [
        "@staticmethod\n",
        "def statistics_per_channel(images, labels):\n",
        "  # NCHW\n",
        "  n_samples, n_channels, n_height, n_weight = images.size()\n",
        "  # Flatten HW into a single dimension\n",
        "  flatten_per_channel = images.reshape(n_samples, n_channels, -1)\n",
        "\n",
        "  # Computes statistics of each image per channel\n",
        "  # Average pixel value per channel (n_samples, n_channels)\n",
        "  means = flatten_per_channel.mean(axis=2)\n",
        "  # Standard deviation of pixel values per channel (n_samples, n_channels)\n",
        "  stds = flatten_per_channel.std(axis=2)\n",
        "\n",
        "  # Adds up statistics of all images in a mini-batch (1, n_channels)\n",
        "  sum_means = means.sum(axis=0)\n",
        "  sum_stds = stds.sum(axis=0)\n",
        "\n",
        "  # Makes a tensor of shape (1, n_channels) with the number of samples in the mini-batch\n",
        "  n_samples = torch.tensor([n_samples] * n_channels).float()\n",
        "\n",
        "  # Stack the three tensors on top of one another (3, n_channels)\n",
        "  return torch.stack([n_samples, sum_means, sum_stds], axis=0)\n",
        "\n",
        "setattr(StepByStep, 'statistics_per_channel', statistics_per_channel)"
      ],
      "metadata": {
        "id": "3gC8jtMYksM3"
      },
      "execution_count": 10,
      "outputs": []
    },
    {
      "cell_type": "code",
      "source": [
        "first_images, first_labels = next(iter(temp_loader))\n",
        "StepByStep.statistics_per_channel(first_images, first_labels)"
      ],
      "metadata": {
        "id": "EOtdYsT9m5_R",
        "outputId": "805f6c4e-19a0-4abf-c166-d8304ce8a655",
        "colab": {
          "base_uri": "https://localhost:8080/"
        }
      },
      "execution_count": 11,
      "outputs": [
        {
          "output_type": "execute_result",
          "data": {
            "text/plain": [
              "tensor([[16.0000, 16.0000, 16.0000],\n",
              "        [15.0968, 14.0652, 13.5893],\n",
              "        [ 0.8948,  2.3599,  3.1430]])"
            ]
          },
          "metadata": {},
          "execution_count": 11
        }
      ]
    },
    {
      "cell_type": "markdown",
      "source": [
        "We can leverage the `loader_apply()` method we created in the last chapter to get\n",
        "the sums for the whole dataset:"
      ],
      "metadata": {
        "id": "RGdcOwxzpiUp"
      }
    },
    {
      "cell_type": "code",
      "source": [
        "results = StepByStep.loader_apply(temp_loader, StepByStep.statistics_per_channel)\n",
        "results"
      ],
      "metadata": {
        "id": "9O780X1Spj7g",
        "outputId": "be7a6f24-87ef-410e-e993-43ccdb6bfcb7",
        "colab": {
          "base_uri": "https://localhost:8080/"
        }
      },
      "execution_count": 12,
      "outputs": [
        {
          "output_type": "execute_result",
          "data": {
            "text/plain": [
              "tensor([[2925.0000, 2925.0000, 2925.0000],\n",
              "        [2506.6553, 2419.2803, 2387.8225],\n",
              "        [ 583.3219,  713.7609,  761.2370]])"
            ]
          },
          "metadata": {},
          "execution_count": 12
        }
      ]
    },
    {
      "cell_type": "markdown",
      "source": [
        "So, we can compute the average mean value and the\n",
        "average standard deviation, per channel. \n",
        "\n",
        "Better yet, let’s make it a method that\n",
        "takes a data loader and returns an instance of the `Normalize()` transform,\n",
        "statistics and all:"
      ],
      "metadata": {
        "id": "P8lDoSGMp3lz"
      }
    },
    {
      "cell_type": "code",
      "source": [
        "@staticmethod\n",
        "def make_normalizer(loader):\n",
        "  total_samples, total_means, total_stds = StepByStep.loader_apply(temp_loader, StepByStep.statistics_per_channel)\n",
        "  norm_mean = total_means / total_samples\n",
        "  norm_std = total_stds / total_samples\n",
        "  return Normalize(mean=norm_mean, std=norm_std)\n",
        "\n",
        "setattr(StepByStep, 'make_normalizer', make_normalizer)"
      ],
      "metadata": {
        "id": "Hn42s4lmp7xi"
      },
      "execution_count": 13,
      "outputs": []
    },
    {
      "cell_type": "markdown",
      "source": [
        "Now, we can use this method to create a transformation that standardizes our\n",
        "dataset:"
      ],
      "metadata": {
        "id": "-CHOtDB6qhsq"
      }
    },
    {
      "cell_type": "code",
      "source": [
        "normalizer = StepByStep.make_normalizer(temp_loader)\n",
        "normalizer"
      ],
      "metadata": {
        "id": "0K8vqQyFqiHG",
        "outputId": "61573620-490c-4f93-cf7e-f58727f08268",
        "colab": {
          "base_uri": "https://localhost:8080/"
        }
      },
      "execution_count": 14,
      "outputs": [
        {
          "output_type": "execute_result",
          "data": {
            "text/plain": [
              "Normalize(mean=tensor([0.8570, 0.8271, 0.8163]), std=tensor([0.1994, 0.2440, 0.2603]))"
            ]
          },
          "metadata": {},
          "execution_count": 14
        }
      ]
    },
    {
      "cell_type": "markdown",
      "source": [
        "###Real Datasets"
      ],
      "metadata": {
        "id": "vVhZHX_SsB6-"
      }
    },
    {
      "cell_type": "markdown",
      "source": [
        "It’s time to build our real datasets using the `Normalize()` transform with the\n",
        "statistics."
      ],
      "metadata": {
        "id": "Zl4V53YwsCxk"
      }
    },
    {
      "cell_type": "code",
      "source": [
        "composer = Compose([Resize(28), ToTensor(), normalizer])\n",
        "\n",
        "train_data = ImageFolder(root=f\"{ROOT_FOLDER}/train\", transform=composer)\n",
        "val_data = ImageFolder(root=f\"{ROOT_FOLDER}/test\", transform=composer)\n",
        "\n",
        "# Builds a loader of each set\n",
        "train_loader = DataLoader(train_data, batch_size=16, shuffle=True)\n",
        "val_loader = DataLoader(val_data, batch_size=16)"
      ],
      "metadata": {
        "id": "QW0r77mzsKad"
      },
      "execution_count": 15,
      "outputs": []
    },
    {
      "cell_type": "markdown",
      "source": [
        "Let’s take a peek at some images from the real training set."
      ],
      "metadata": {
        "id": "S7XRciiFtTYM"
      }
    },
    {
      "cell_type": "code",
      "source": [
        "torch.manual_seed(88)\n",
        "\n",
        "first_images, first_labels = next(iter(train_loader))\n",
        "\n",
        "fig = figure2(first_images, first_labels)"
      ],
      "metadata": {
        "id": "o2U5Fw96tLWj",
        "outputId": "dba914fc-9468-4d03-a703-0100e7c88726",
        "colab": {
          "base_uri": "https://localhost:8080/",
          "height": 173
        }
      },
      "execution_count": 16,
      "outputs": [
        {
          "output_type": "display_data",
          "data": {
            "text/plain": [
              "<Figure size 864x288 with 6 Axes>"
            ],
            "image/png": "[encoded data removed]"
          },
          "metadata": {}
        }
      ]
    },
    {
      "cell_type": "markdown",
      "source": [
        "##Three-Channel Convolutions"
      ],
      "metadata": {
        "id": "ia5v6-ebtp6D"
      }
    },
    {
      "cell_type": "markdown",
      "source": [
        "Convolving a three-channel filter over a three-channel image still produces a\n",
        "single value.\n",
        "\n",
        "![](https://github.com/rahiakela/deep-learning-research-and-practice/blob/main/deep-learning-with-pytorch-step-by-step/Part-II-Computer-Vision/images/3channel1.png?raw=1)\n",
        "\n",
        "Adding up the results for each\n",
        "channel produces the expected single value.\n",
        "\n",
        "![](https://github.com/rahiakela/deep-learning-research-and-practice/blob/main/deep-learning-with-pytorch-step-by-step/Part-II-Computer-Vision/images/3channel2.png?raw=1)\n",
        "\n",
        "We can also look at it in code."
      ],
      "metadata": {
        "id": "n_yi7LIptqsz"
      }
    },
    {
      "cell_type": "code",
      "source": [
        "regions = np.array([[[[5, 0, 8],\n",
        "                      [1, 9, 5],\n",
        "                      [6, 0, 2]],\n",
        "                     [[0, 5, 4],\n",
        "                      [8, 1, 9],\n",
        "                      [4, 8, 1]],\n",
        "                     [[4, 2, 0],\n",
        "                      [6, 3, 0],\n",
        "                      [5, 2, 8]]]])\n",
        "regions.shape"
      ],
      "metadata": {
        "id": "9VnF8htTmng4",
        "outputId": "2a9f3c56-8dad-438e-b332-b41ecfd1073b",
        "colab": {
          "base_uri": "https://localhost:8080/"
        }
      },
      "execution_count": 17,
      "outputs": [
        {
          "output_type": "execute_result",
          "data": {
            "text/plain": [
              "(1, 3, 3, 3)"
            ]
          },
          "metadata": {},
          "execution_count": 17
        }
      ]
    },
    {
      "cell_type": "code",
      "source": [
        "three_channel_filter = np.array([[[[0, 3, 0],\n",
        "                                   [1, 0, 1],\n",
        "                                   [2, 1, 0]],\n",
        "                                  [[2, 1, 0],\n",
        "                                   [0, 3, 1],\n",
        "                                   [1, -1, 0]],\n",
        "                                  [[0, 1, 3],\n",
        "                                   [-1, -2, 0],\n",
        "                                   [2, 0, 1]]]])\n",
        "three_channel_filter.shape"
      ],
      "metadata": {
        "id": "Cxw0Q9IEm-iJ",
        "outputId": "e370879c-59f3-45d7-af12-9322eed31dcc",
        "colab": {
          "base_uri": "https://localhost:8080/"
        }
      },
      "execution_count": 18,
      "outputs": [
        {
          "output_type": "execute_result",
          "data": {
            "text/plain": [
              "(1, 3, 3, 3)"
            ]
          },
          "metadata": {},
          "execution_count": 18
        }
      ]
    },
    {
      "cell_type": "code",
      "source": [
        "result = F.conv2d(torch.as_tensor(regions), torch.as_tensor(three_channel_filter))\n",
        "result, result.shape"
      ],
      "metadata": {
        "id": "NxFWwJLCnBKd",
        "outputId": "d3c1a5ee-58be-4c47-fb69-eec7192e1165",
        "colab": {
          "base_uri": "https://localhost:8080/"
        }
      },
      "execution_count": 19,
      "outputs": [
        {
          "output_type": "execute_result",
          "data": {
            "text/plain": [
              "(tensor([[[[39]]]]), torch.Size([1, 1, 1, 1]))"
            ]
          },
          "metadata": {},
          "execution_count": 19
        }
      ]
    },
    {
      "cell_type": "markdown",
      "source": [
        "What if I have two filters?\n",
        "\n",
        "![](https://github.com/rahiakela/deep-learning-research-and-practice/blob/main/deep-learning-with-pytorch-step-by-step/Part-II-Computer-Vision/images/3channel_filters1.png?raw=1)\n",
        "\n",
        "If you have two filters, and the input image has three channels, each filter has\n",
        "three channels as well, and the output has two channels.\n",
        "\n",
        ">The convolution produces as many channels as there are filters.\n"
      ],
      "metadata": {
        "id": "kC4qLRrFnYih"
      }
    },
    {
      "cell_type": "markdown",
      "source": [
        "##Fancier Model"
      ],
      "metadata": {
        "id": "kDjJb_monknm"
      }
    },
    {
      "cell_type": "markdown",
      "source": [
        "Let’s leave the Sequential model aside for now and build a model class again."
      ],
      "metadata": {
        "id": "On1OaMBqnl5l"
      }
    },
    {
      "cell_type": "code",
      "source": [
        "class CNN(nn.Module):\n",
        "  def __init__(self, n_feature, p=0.0):\n",
        "    super(CNN, self).__init__()\n",
        "\n",
        "    self.n_feature = n_feature\n",
        "    self.p = p\n",
        "\n",
        "    # Creates the convolution layers\n",
        "    self.conv1 = nn.Conv2d(in_channels=3, out_channels=n_feature, kernel_size=3)\n",
        "    self.conv2 = nn.Conv2d(in_channels=n_feature, out_channels=n_feature, kernel_size=3)\n",
        "\n",
        "    # Creates the linear layers\n",
        "    self.fc1 = nn.Linear(n_feature * 5 * 5, 50)\n",
        "    self.fc2 = nn.Linear(50, 3)\n",
        "\n",
        "    # Creates dropout layers\n",
        "    self.dropout = nn.Dropout(self.p)\n",
        "\n",
        "  def featurizer(self, x):\n",
        "    # First convolutional block - 3@28x28 -> n_feature@26x26 -> n_feature@13x13\n",
        "    x = self.conv1(x)\n",
        "    x = F.relu(x)\n",
        "    x = F.max_pool2d(x, kernel_size=2)\n",
        "\n",
        "    # Second convolutional block - n_feature * @13x13 -> n_feature@11x11 -> n_feature@5x5\n",
        "    x = self.conv2(x)\n",
        "    x = F.relu(x)\n",
        "    x = F.max_pool2d(x, kernel_size=2)\n",
        "\n",
        "    # Input dimension (n_feature@5x5)\n",
        "    # Output dimension (n_feature * 5 * 5)\n",
        "    x = nn.Flatten()(x)\n",
        "    return x\n",
        "\n",
        "  def classifier(self, x):\n",
        "    # Hidden Layer\n",
        "    # Input dimension (n_feature * 5 * 5)\n",
        "    # Output dimension (50)\n",
        "    if self.p > 0:\n",
        "      x = self.dropout(x)\n",
        "    x = self.fc1(x)\n",
        "    x = F.relu(x)\n",
        "\n",
        "    # Output Layer\n",
        "    # Input dimension (50)\n",
        "    # Output dimension (3)\n",
        "    if self.p > 0:\n",
        "      x = self.dropout(x)\n",
        "    x = self.fc2(x)\n",
        "    return x\n",
        "\n",
        "  def forward(self, x):\n",
        "    x = self.featurizer(x)\n",
        "    x = self.classifier(x)\n",
        "    return x"
      ],
      "metadata": {
        "id": "sfhWjLZknU3z"
      },
      "execution_count": 20,
      "outputs": []
    },
    {
      "cell_type": "markdown",
      "source": [
        "##Dropout"
      ],
      "metadata": {
        "id": "Tb-ieAysrUL6"
      }
    },
    {
      "cell_type": "markdown",
      "source": [
        "Dropout is an important piece of deep learning models. It is used as a regularizer;\n",
        "that is, it tries to prevent overfitting by forcing the model to find more than one\n",
        "way to achieve the target.\n",
        "\n",
        "The whole thing looks a lot like the randomization of features used in random\n",
        "forests to perform the splits. Each tree, or even better, each split has access to a\n",
        "subset of features only.\n",
        "\n",
        "How does this, \"feature randomization\", work in a deep learning\n",
        "model?\n",
        "\n",
        "To illustrate it, let’s build a sequential model with a single `nn.Dropout` layer:"
      ],
      "metadata": {
        "id": "VpiORRVBrVN5"
      }
    },
    {
      "cell_type": "code",
      "source": [
        "dropping_model = nn.Sequential(nn.Dropout(p=0.5))"
      ],
      "metadata": {
        "id": "QTP6DzzJtqUb"
      },
      "execution_count": 21,
      "outputs": []
    },
    {
      "cell_type": "markdown",
      "source": [
        "Let’s also create some neatly spaced points to\n",
        "make it easier to understand the effect of dropout."
      ],
      "metadata": {
        "id": "4TqUUInJ418a"
      }
    },
    {
      "cell_type": "code",
      "source": [
        "spaced_points = torch.linspace(.1, 1.1, 11)\n",
        "spaced_points"
      ],
      "metadata": {
        "id": "RDJDkUiG42W2",
        "outputId": "098146c5-045c-4a5d-969f-38a4f01f0407",
        "colab": {
          "base_uri": "https://localhost:8080/"
        }
      },
      "execution_count": 22,
      "outputs": [
        {
          "output_type": "execute_result",
          "data": {
            "text/plain": [
              "tensor([0.1000, 0.2000, 0.3000, 0.4000, 0.5000, 0.6000, 0.7000, 0.8000, 0.9000,\n",
              "        1.0000, 1.1000])"
            ]
          },
          "metadata": {},
          "execution_count": 22
        }
      ]
    },
    {
      "cell_type": "markdown",
      "source": [
        "Next, let’s use these points as inputs of our amazingly simple model."
      ],
      "metadata": {
        "id": "hyImVSR_49W3"
      }
    },
    {
      "cell_type": "code",
      "source": [
        "torch.manual_seed(44)\n",
        "\n",
        "dropping_model.train()\n",
        "output_train = dropping_model(spaced_points)\n",
        "output_train"
      ],
      "metadata": {
        "id": "PtHW64B84934",
        "outputId": "f3b2b372-cba7-4200-bff2-7912801878aa",
        "colab": {
          "base_uri": "https://localhost:8080/"
        }
      },
      "execution_count": 23,
      "outputs": [
        {
          "output_type": "execute_result",
          "data": {
            "text/plain": [
              "tensor([0.0000, 0.4000, 0.0000, 0.8000, 0.0000, 1.2000, 1.4000, 1.6000, 1.8000,\n",
              "        0.0000, 2.2000])"
            ]
          },
          "metadata": {},
          "execution_count": 23
        }
      ]
    },
    {
      "cell_type": "markdown",
      "source": [
        "Since this model does not have any weights, it becomes clear that dropout\n",
        "drops inputs, not weights.\n",
        "\n",
        "First, dropping is probabilistic, so each input had a 50% chance of being dropped.\n",
        "\n",
        "Second, the remaining elements need to be proportionally adjusted by a factor of\n",
        "1/p. \n",
        "\n"
      ],
      "metadata": {
        "id": "ihUCAeLy5ETR"
      }
    },
    {
      "cell_type": "code",
      "source": [
        "output_train / spaced_points"
      ],
      "metadata": {
        "id": "fkA3ofAN5K8w",
        "outputId": "1ab79dda-0009-4cc1-86af-1cda2d998240",
        "colab": {
          "base_uri": "https://localhost:8080/"
        }
      },
      "execution_count": 24,
      "outputs": [
        {
          "output_type": "execute_result",
          "data": {
            "text/plain": [
              "tensor([0., 2., 0., 2., 0., 2., 2., 2., 2., 0., 2.])"
            ]
          },
          "metadata": {},
          "execution_count": 24
        }
      ]
    },
    {
      "cell_type": "markdown",
      "source": [
        "This adjustment has the purpose of preserving (or at least trying to) the overall\n",
        "level of the outputs in the particular layer that’s \"suffering\" the dropout. \n",
        "\n",
        "So,let’s\n",
        "imagine that these inputs (after dropping) will feed a linear layer and all their weights are equal to one (and bias equals zero)."
      ],
      "metadata": {
        "id": "xkzPz24s5O9f"
      }
    },
    {
      "cell_type": "code",
      "source": [
        "F.linear(output_train, weight=torch.ones(11), bias=torch.tensor(0))"
      ],
      "metadata": {
        "id": "6h6_N35Y5Wy2",
        "outputId": "e5f6ef22-ac9c-4330-912b-2af0d2618d57",
        "colab": {
          "base_uri": "https://localhost:8080/"
        }
      },
      "execution_count": 25,
      "outputs": [
        {
          "output_type": "execute_result",
          "data": {
            "text/plain": [
              "tensor(9.4000)"
            ]
          },
          "metadata": {},
          "execution_count": 25
        }
      ]
    },
    {
      "cell_type": "markdown",
      "source": [
        "Because there is no dropping in evaluation mode.\n",
        "\n",
        "So, let’s set our model to eval mode and see what happens there."
      ],
      "metadata": {
        "id": "JhBcolr95cQa"
      }
    },
    {
      "cell_type": "code",
      "source": [
        "dropping_model.eval()\n",
        "output_eval = dropping_model(spaced_points)\n",
        "output_eval"
      ],
      "metadata": {
        "id": "G3BOc3Y55j57",
        "outputId": "15b5fd5e-8cf1-44ec-f8d7-b0b71439ead0",
        "colab": {
          "base_uri": "https://localhost:8080/"
        }
      },
      "execution_count": 26,
      "outputs": [
        {
          "output_type": "execute_result",
          "data": {
            "text/plain": [
              "tensor([0.1000, 0.2000, 0.3000, 0.4000, 0.5000, 0.6000, 0.7000, 0.8000, 0.9000,\n",
              "        1.0000, 1.1000])"
            ]
          },
          "metadata": {},
          "execution_count": 26
        }
      ]
    },
    {
      "cell_type": "markdown",
      "source": [
        "The inputs are just passing through."
      ],
      "metadata": {
        "id": "xyEp6QiP6H5L"
      }
    },
    {
      "cell_type": "code",
      "source": [
        "F.linear(output_eval, weight=torch.ones(11), bias=torch.tensor(0))"
      ],
      "metadata": {
        "id": "KNpNLf-c6IRj",
        "outputId": "f3559b95-8ca3-48ee-e503-71437509baff",
        "colab": {
          "base_uri": "https://localhost:8080/"
        }
      },
      "execution_count": 27,
      "outputs": [
        {
          "output_type": "execute_result",
          "data": {
            "text/plain": [
              "tensor(6.6000)"
            ]
          },
          "metadata": {},
          "execution_count": 27
        }
      ]
    },
    {
      "cell_type": "markdown",
      "source": [
        "This is the sum of all inputs.\n",
        "\n",
        "This happened because dropping is probabilistic, and only four out of ten elements\n",
        "were actually dropped.\n",
        "\n",
        "Now,let’s generate 1,000 scenarios and compute the sum of the adjusted\n",
        "dropped outputs to get their distribution."
      ],
      "metadata": {
        "id": "JdZCCchI6ODk"
      }
    },
    {
      "cell_type": "code",
      "source": [
        "torch.manual_seed(17)\n",
        "\n",
        "p = 0.5\n",
        "distrib_outputs = torch.tensor([F.linear(F.dropout(spaced_points, p=p), weight=torch.ones(11), bias=torch.tensor(0)) for _ in range(1000)])\n",
        "\n",
        "fig = figure7(p, distrib_outputs)"
      ],
      "metadata": {
        "id": "3lD7iZqh6aBF",
        "outputId": "d0fb98eb-a8b4-471c-953b-5e8bbf85f581",
        "colab": {
          "base_uri": "https://localhost:8080/",
          "height": 289
        }
      },
      "execution_count": 28,
      "outputs": [
        {
          "output_type": "display_data",
          "data": {
            "text/plain": [
              "<Figure size 432x288 with 1 Axes>"
            ],
            "image/png": "[encoded data removed]"
          },
          "metadata": {}
        }
      ]
    },
    {
      "cell_type": "markdown",
      "source": [
        "Dropout not only drops some inputs but, due to its probabilistic\n",
        "nature, produces a distribution of outputs.\n",
        "\n",
        "In other words, the model needs to learn how to handle a\n",
        "distribution of values that is centered at the value the output\n",
        "would have if there was no dropout.\n",
        "\n",
        "Moreover, the choice of the dropout probability determines how spread out the\n",
        "outputs will be."
      ],
      "metadata": {
        "id": "PFpf-QzE6rmp"
      }
    },
    {
      "cell_type": "code",
      "source": [
        "fig = figure8()"
      ],
      "metadata": {
        "id": "1wktriov6wRb",
        "outputId": "d400593e-942b-48fd-f5fb-5c7ee77fbc60",
        "colab": {
          "base_uri": "https://localhost:8080/",
          "height": 236
        }
      },
      "execution_count": 29,
      "outputs": [
        {
          "output_type": "display_data",
          "data": {
            "text/plain": [
              "<Figure size 1080x288 with 4 Axes>"
            ],
            "image/png": "[encoded data removed]"
          },
          "metadata": {}
        }
      ]
    },
    {
      "cell_type": "markdown",
      "source": [
        "If we go to extremes, like a dropout probability of 90%, the distribution gets a bit\n",
        "degenerated, I would say—it is pretty much all over the place (and it has a lot of\n",
        "scenarios where everything gets dropped, hence the tall bar at zero).\n",
        "\n",
        ">The variance of the distribution of outputs grows with the\n",
        "dropout probability.\n",
        "\n",
        ">A higher dropout probability makes it harder for your model to\n",
        "learn—that’s what regularization does."
      ],
      "metadata": {
        "id": "EFRM59hB65i4"
      }
    },
    {
      "cell_type": "markdown",
      "source": [
        "## Model Training"
      ],
      "metadata": {
        "id": "PxkOMQPH7E7e"
      }
    },
    {
      "cell_type": "markdown",
      "source": [
        "The configuration part is short and straightforward: We create a model, a loss\n",
        "function, and an optimizer."
      ],
      "metadata": {
        "id": "pZIN0BMD7Flv"
      }
    },
    {
      "cell_type": "code",
      "source": [
        "torch.manual_seed(13)\n",
        "\n",
        "model_cnn = CNN(n_feature=5, p=0.5)\n",
        "multi_loss_fn = nn.CrossEntropyLoss(reduction=\"mean\")\n",
        "optimizer_cnn = optim.Adam(model_cnn.parameters(), lr=3e-4)"
      ],
      "metadata": {
        "id": "c7Z1rAuIqHdT"
      },
      "execution_count": 30,
      "outputs": []
    },
    {
      "cell_type": "markdown",
      "source": [
        "Once again, we use our StepByStep class to handle model training for us."
      ],
      "metadata": {
        "id": "fCpfs2pa04UC"
      }
    },
    {
      "cell_type": "code",
      "source": [
        "sbs_cnn = StepByStep(model_cnn, multi_loss_fn, optimizer_cnn)\n",
        "sbs_cnn.set_loaders(train_loader, val_loader)\n",
        "sbs_cnn.train(10)"
      ],
      "metadata": {
        "id": "b600rp9I04uf"
      },
      "execution_count": 31,
      "outputs": []
    },
    {
      "cell_type": "code",
      "source": [
        "fig = sbs_cnn.plot_losses()"
      ],
      "metadata": {
        "id": "e7vRh2JXinmZ",
        "outputId": "5a939a13-2151-4980-fbc1-e8379ed4b1e4",
        "colab": {
          "base_uri": "https://localhost:8080/",
          "height": 289
        }
      },
      "execution_count": 32,
      "outputs": [
        {
          "output_type": "display_data",
          "data": {
            "text/plain": [
              "<Figure size 720x288 with 1 Axes>"
            ],
            "image/png": "[encoded data removed]"
          },
          "metadata": {}
        }
      ]
    },
    {
      "cell_type": "markdown",
      "source": [
        "We can also check the model’s accuracy for each class."
      ],
      "metadata": {
        "id": "lhnoxUpFjNRd"
      }
    },
    {
      "cell_type": "code",
      "source": [
        "StepByStep.loader_apply(val_loader, sbs_cnn.correct)"
      ],
      "metadata": {
        "id": "BpfWatQwjN0W",
        "outputId": "118db1d1-b7df-4573-f371-785347d1741e",
        "colab": {
          "base_uri": "https://localhost:8080/"
        }
      },
      "execution_count": 33,
      "outputs": [
        {
          "output_type": "execute_result",
          "data": {
            "text/plain": [
              "tensor([[100, 124],\n",
              "        [117, 124],\n",
              "        [115, 124]])"
            ]
          },
          "metadata": {},
          "execution_count": 33
        }
      ]
    },
    {
      "cell_type": "markdown",
      "source": [
        "###Regularizing Effect"
      ],
      "metadata": {
        "id": "H7zPVuTjnNUs"
      }
    },
    {
      "cell_type": "markdown",
      "source": [
        "Dropout layers are used for regularizing; that is, they should reduce overfitting\n",
        "and improve generalization."
      ],
      "metadata": {
        "id": "nMWKrOxjnLNd"
      }
    },
    {
      "cell_type": "code",
      "source": [
        "torch.manual_seed(13)\n",
        "\n",
        "# Model Configuration\n",
        "model_cnn_nodrop = CNN(n_feature=5, p=0.0)\n",
        "multi_loss_fn = nn.CrossEntropyLoss(reduction='mean')\n",
        "optimizer_cnn2_nodrop = optim.Adam(model_cnn_nodrop.parameters(), lr=3e-4)\n",
        "\n",
        "# Model Training\n",
        "sbs_cnn_nodrop = StepByStep(model_cnn_nodrop, multi_loss_fn, optimizer_cnn2_nodrop)\n",
        "sbs_cnn_nodrop.set_loaders(train_loader, val_loader)\n",
        "sbs_cnn_nodrop.train(10)"
      ],
      "metadata": {
        "id": "VDxktlq5nOxo"
      },
      "execution_count": 34,
      "outputs": []
    },
    {
      "cell_type": "code",
      "source": [
        "fig = figure11(sbs_cnn.losses, sbs_cnn.val_losses, sbs_cnn_nodrop.losses, sbs_cnn_nodrop.val_losses)"
      ],
      "metadata": {
        "id": "01mSQl4Nnfl-",
        "outputId": "45b2a0f3-63ee-45a6-94ff-e05a61fa2914",
        "colab": {
          "base_uri": "https://localhost:8080/",
          "height": 369
        }
      },
      "execution_count": 35,
      "outputs": [
        {
          "output_type": "display_data",
          "data": {
            "text/plain": [
              "<Figure size 720x360 with 1 Axes>"
            ],
            "image/png": "[encoded data removed]"
          },
          "metadata": {}
        }
      ]
    },
    {
      "cell_type": "markdown",
      "source": [
        "This is actually a very nice depiction of the regularizing effect of using dropout:\n",
        "\n",
        "* Training loss is higher with dropout—after all, dropout makes training harder.\n",
        "* Validation loss is lower with dropout—it means that the model is generalizing\n",
        "better and achieving a better performance on unseen data, which is the whole\n",
        "point of using a regularization method like dropout.\n",
        "\n",
        "We can also observe this effect by looking at the accuracy for both sets and models.\n",
        "\n",
        "First, the no dropout model, which is expected to overfit to the training\n",
        "data:"
      ],
      "metadata": {
        "id": "2x9k5ncFoS9d"
      }
    },
    {
      "cell_type": "code",
      "source": [
        "print(\n",
        "    StepByStep.loader_apply(train_loader, sbs_cnn_nodrop.correct).sum(axis=0), \n",
        "    StepByStep.loader_apply(val_loader, sbs_cnn_nodrop.correct).sum(axis=0)\n",
        ")"
      ],
      "metadata": {
        "id": "21JHb4OSolAY",
        "outputId": "c5d3cbc3-8a71-4d4d-bdca-3aed8ea8e885",
        "colab": {
          "base_uri": "https://localhost:8080/"
        }
      },
      "execution_count": 36,
      "outputs": [
        {
          "output_type": "stream",
          "name": "stdout",
          "text": [
            "tensor([2520, 2520]) tensor([284, 372])\n"
          ]
        }
      ]
    },
    {
      "cell_type": "markdown",
      "source": [
        "That’s 99.92% accuracy on the training set! And 78.76% on the validation set—it\n",
        "smells like overfitting!\n",
        "\n",
        "Then, let’s look at the regularized version of the model:"
      ],
      "metadata": {
        "id": "N3dbY_A8084l"
      }
    },
    {
      "cell_type": "code",
      "source": [
        "print(\n",
        "    StepByStep.loader_apply(train_loader, sbs_cnn.correct).sum(axis=0),\n",
        "    StepByStep.loader_apply(val_loader, sbs_cnn.correct).sum(axis=0)\n",
        ")"
      ],
      "metadata": {
        "id": "VvSrVFyj0-wf",
        "outputId": "0bd6a4a2-a77e-4c34-d063-90fa2b3e2058",
        "colab": {
          "base_uri": "https://localhost:8080/"
        }
      },
      "execution_count": 37,
      "outputs": [
        {
          "output_type": "stream",
          "name": "stdout",
          "text": [
            "tensor([2502, 2520]) tensor([332, 372])\n"
          ]
        }
      ]
    },
    {
      "cell_type": "markdown",
      "source": [
        "That’s 99.36% accuracy on the training set—still quite high! But we got 84.13% on\n",
        "the validation set now—a narrower gap between training and validation accuracy\n",
        "is always a good sign."
      ],
      "metadata": {
        "id": "dtZ5RWjb1Nge"
      }
    },
    {
      "cell_type": "markdown",
      "source": [
        "###Visualizing Filters"
      ],
      "metadata": {
        "id": "mWdy-_6F1N-K"
      }
    },
    {
      "cell_type": "markdown",
      "source": [
        "There are two convolutional layers in this model, so let’s visualize them!"
      ],
      "metadata": {
        "id": "gAKlJ4J81Pwo"
      }
    },
    {
      "cell_type": "code",
      "source": [
        "model_cnn.conv1.weight.shape"
      ],
      "metadata": {
        "id": "WfP_nqsFoKjb",
        "outputId": "5832fa9a-0257-4cce-d9b3-fe58bc4b0a25",
        "colab": {
          "base_uri": "https://localhost:8080/"
        }
      },
      "execution_count": 38,
      "outputs": [
        {
          "output_type": "execute_result",
          "data": {
            "text/plain": [
              "torch.Size([5, 3, 3, 3])"
            ]
          },
          "metadata": {},
          "execution_count": 38
        }
      ]
    },
    {
      "cell_type": "code",
      "source": [
        "fig = sbs_cnn.visualize_filters('conv1')"
      ],
      "metadata": {
        "id": "rCjM3LJtoiPB",
        "outputId": "10825d34-3f8c-42fe-f27d-c528e7b5f775",
        "colab": {
          "base_uri": "https://localhost:8080/",
          "height": 721
        }
      },
      "execution_count": 39,
      "outputs": [
        {
          "output_type": "display_data",
          "data": {
            "text/plain": [
              "<Figure size 576x720 with 15 Axes>"
            ],
            "image/png": "[encoded data removed]"
          },
          "metadata": {}
        }
      ]
    },
    {
      "cell_type": "code",
      "source": [
        "model_cnn.conv2.weight.shape"
      ],
      "metadata": {
        "id": "TCj43jWcoiq7",
        "outputId": "ead51150-c743-4032-9cb6-d5c3e7187fd7",
        "colab": {
          "base_uri": "https://localhost:8080/"
        }
      },
      "execution_count": 40,
      "outputs": [
        {
          "output_type": "execute_result",
          "data": {
            "text/plain": [
              "torch.Size([5, 5, 3, 3])"
            ]
          },
          "metadata": {},
          "execution_count": 40
        }
      ]
    },
    {
      "cell_type": "code",
      "source": [
        "fig = sbs_cnn.visualize_filters('conv2')"
      ],
      "metadata": {
        "id": "A0EOn4LsooWr",
        "outputId": "5bb242bf-17d0-4a81-e095-7167b31c6953",
        "colab": {
          "base_uri": "https://localhost:8080/",
          "height": 721
        }
      },
      "execution_count": 41,
      "outputs": [
        {
          "output_type": "display_data",
          "data": {
            "text/plain": [
              "<Figure size 864x720 with 25 Axes>"
            ],
            "image/png": "[encoded data removed]"
          },
          "metadata": {}
        }
      ]
    },
    {
      "cell_type": "markdown",
      "source": [
        "##Learning Rates"
      ],
      "metadata": {
        "id": "tTYi_eLIsICr"
      }
    },
    {
      "cell_type": "markdown",
      "source": [],
      "metadata": {
        "id": "35h0gGCSsJEL"
      }
    }
  ]
}