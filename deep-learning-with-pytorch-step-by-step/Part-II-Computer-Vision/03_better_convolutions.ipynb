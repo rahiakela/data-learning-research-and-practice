{
  "nbformat": 4,
  "nbformat_minor": 0,
  "metadata": {
    "colab": {
      "provenance": [],
      "toc_visible": true,
      "authorship_tag": "ABX9TyOMbAIxOUuGpgTgHUnzmZCv",
      "include_colab_link": true
    },
    "kernelspec": {
      "name": "python3",
      "display_name": "Python 3"
    },
    "language_info": {
      "name": "python"
    }
  },
  "cells": [
    {
      "cell_type": "markdown",
      "metadata": {
        "id": "view-in-github",
        "colab_type": "text"
      },
      "source": [
        "<a href=\"https://colab.research.google.com/github/rahiakela/deep-learning-research-and-practice/blob/main/deep-learning-with-pytorch-step-by-step/Part-II-Computer-Vision/03_better_convolutions.ipynb\" target=\"_parent\"><img src=\"https://colab.research.google.com/assets/colab-badge.svg\" alt=\"Open In Colab\"/></a>"
      ]
    },
    {
      "cell_type": "markdown",
      "source": [
        "##Better Convolutions"
      ],
      "metadata": {
        "id": "qKDOcAGwkGhq"
      }
    },
    {
      "cell_type": "markdown",
      "source": [
        "This time, let's use a different dataset: Rock Paper Scissors.\n",
        "\n",
        "The dataset contains 2,892 images of diverse hands in the typical rock, paper, and\n",
        "scissors poses against a white background. This is a synthetic dataset as well since\n",
        "the images were generated using CGI techniques. Each image is 300x300 pixels in\n",
        "size and has four channels (RGBA).\n",
        "\n",
        "Here are some examples of its images, one for each pose.\n",
        "\n",
        "![](https://github.com/rahiakela/deep-learning-research-and-practice/blob/main/deep-learning-with-pytorch-step-by-step/Part-II-Computer-Vision/images/download.png?raw=1)"
      ],
      "metadata": {
        "id": "KIj__-HokOxT"
      }
    },
    {
      "cell_type": "markdown",
      "source": [
        "##Setup"
      ],
      "metadata": {
        "id": "3WRqxBEvlvgw"
      }
    },
    {
      "cell_type": "code",
      "source": [
        "from IPython.core.display import display, HTML\n",
        "display(HTML(\"<style>.container { width:80% !important; }</style>\"))"
      ],
      "metadata": {
        "colab": {
          "base_uri": "https://localhost:8080/",
          "height": 17
        },
        "id": "sJOR-0hwlwr7",
        "outputId": "f0c26b32-6494-48d2-c676-8e80a0a398ea"
      },
      "execution_count": null,
      "outputs": [
        {
          "output_type": "display_data",
          "data": {
            "text/plain": [
              "<IPython.core.display.HTML object>"
            ],
            "text/html": [
              "<style>.container { width:80% !important; }</style>"
            ]
          },
          "metadata": {}
        }
      ]
    },
    {
      "cell_type": "code",
      "source": [
        "try:\n",
        "    import google.colab\n",
        "    import requests\n",
        "    url = 'https://raw.githubusercontent.com/dvgodoy/PyTorchStepByStep/master/config.py'\n",
        "    r = requests.get(url, allow_redirects=True)\n",
        "    open('config.py', 'wb').write(r.content)    \n",
        "except ModuleNotFoundError:\n",
        "    pass\n",
        "\n",
        "from config import *\n",
        "config_chapter6()\n",
        "# This is needed to render the plots in this chapter\n",
        "from plots.chapter6 import *"
      ],
      "metadata": {
        "colab": {
          "base_uri": "https://localhost:8080/"
        },
        "id": "wlXOl_Holz6M",
        "outputId": "b1226a39-f0e4-4f23-e35c-a5241812f6d0"
      },
      "execution_count": null,
      "outputs": [
        {
          "output_type": "stream",
          "name": "stdout",
          "text": [
            "Downloading files from GitHub repo to Colab...\n",
            "Finished!\n"
          ]
        }
      ]
    },
    {
      "cell_type": "code",
      "source": [
        "import numpy as np\n",
        "from PIL import Image\n",
        "from copy import deepcopy\n",
        "\n",
        "import torch\n",
        "import torch.optim as optim\n",
        "import torch.nn as nn\n",
        "import torch.nn.functional as F\n",
        "\n",
        "from torch.utils.data import DataLoader, TensorDataset, random_split\n",
        "from torchvision.transforms import Compose, ToTensor, Normalize, ToPILImage, Resize\n",
        "from torchvision.datasets import ImageFolder\n",
        "from torch.optim.lr_scheduler import StepLR, ReduceLROnPlateau, MultiStepLR, CyclicLR, LambdaLR\n",
        "\n",
        "from stepbystep.v2 import StepByStep"
      ],
      "metadata": {
        "id": "54a8hhq8l2AK"
      },
      "execution_count": null,
      "outputs": []
    },
    {
      "cell_type": "code",
      "source": [
        "from google.colab import drive\n",
        "drive.mount('/content/gdrive')"
      ],
      "metadata": {
        "id": "0A-YvvDpDl-1",
        "outputId": "3681b98d-fb7d-41af-891e-9cfac472e246",
        "colab": {
          "base_uri": "https://localhost:8080/"
        }
      },
      "execution_count": null,
      "outputs": [
        {
          "output_type": "stream",
          "name": "stdout",
          "text": [
            "Mounted at /content/gdrive\n"
          ]
        }
      ]
    },
    {
      "cell_type": "code",
      "source": [
        "import os\n",
        "# content/gdrive/My Drive/Kaggle is the path where kaggle.json is  present in the Google Drive\n",
        "os.environ['KAGGLE_CONFIG_DIR'] = \"/content/gdrive/MyDrive/kaggle-keys\""
      ],
      "metadata": {
        "id": "iDxyNz9iEDxw"
      },
      "execution_count": null,
      "outputs": []
    },
    {
      "cell_type": "code",
      "source": [
        "%%shell\n",
        "\n",
        "# download dataset from kaggle> URL: https://www.kaggle.com/datasets/sanikamal/rock-paper-scissors-dataset\n",
        "kaggle datasets download -d sanikamal/rock-paper-scissors-dataset\n",
        "\n",
        "unzip -qq rock-paper-scissors-dataset.zip\n",
        "rm -rf rock-paper-scissors-dataset.zip"
      ],
      "metadata": {
        "id": "imNthwCGdJTw",
        "outputId": "e14f2e35-e980-43f5-be7c-ad9cb415d4e1",
        "colab": {
          "base_uri": "https://localhost:8080/"
        }
      },
      "execution_count": null,
      "outputs": [
        {
          "output_type": "stream",
          "name": "stdout",
          "text": [
            "Downloading rock-paper-scissors-dataset.zip to /content\n",
            " 96% 436M/452M [00:04<00:00, 105MB/s]\n",
            "100% 452M/452M [00:04<00:00, 114MB/s]\n"
          ]
        },
        {
          "output_type": "execute_result",
          "data": {
            "text/plain": []
          },
          "metadata": {},
          "execution_count": 6
        }
      ]
    },
    {
      "cell_type": "markdown",
      "source": [
        "## Data Preparation"
      ],
      "metadata": {
        "id": "Z9Sqyzlxl-Wn"
      }
    },
    {
      "cell_type": "markdown",
      "source": [
        "The data preparation step will be a bit more demanding this time since we’ll be\n",
        "standardizing the images.Besides, we can use the ImageFolder dataset now.\n",
        "\n",
        "The Rock Paper Scissors dataset is organized like that:\n",
        "\n",
        "```\n",
        "rps/paper/paper01-000.png\n",
        "rps/paper/paper01-001.png\n",
        "\n",
        "rps/rock/rock01-000.png\n",
        "rps/rock/rock01-001.png\n",
        "\n",
        "rps/scissors/scissors01-000.png\n",
        "rps/scissors/scissors01-001.png\n",
        "```\n",
        "\n",
        "The dataset is also perfectly balanced, with each sub-folder containing 840 images\n",
        "of its particular class.\n",
        "\n",
        "Let’s create a dataset then:"
      ],
      "metadata": {
        "id": "NMt6wXGPl_on"
      }
    },
    {
      "cell_type": "code",
      "source": [
        "ROOT_FOLDER = \"Rock-Paper-Scissors\"\n",
        "temp_transform = Compose([Resize(28), ToTensor()])\n",
        "temp_dataset = ImageFolder(root=ROOT_FOLDER, transform=temp_transform)"
      ],
      "metadata": {
        "id": "-04BquM1nbe4"
      },
      "execution_count": null,
      "outputs": []
    },
    {
      "cell_type": "code",
      "source": [
        "temp_dataset[0][0].shape, temp_dataset[0][1]"
      ],
      "metadata": {
        "id": "vSFRh8T8eP3G",
        "outputId": "049063c0-471f-4966-ed7f-d47bcde95274",
        "colab": {
          "base_uri": "https://localhost:8080/"
        }
      },
      "execution_count": null,
      "outputs": [
        {
          "output_type": "execute_result",
          "data": {
            "text/plain": [
              "(torch.Size([3, 28, 28]), 0)"
            ]
          },
          "metadata": {},
          "execution_count": 8
        }
      ]
    },
    {
      "cell_type": "markdown",
      "source": [
        "###Standardization"
      ],
      "metadata": {
        "id": "VJF-KE8Venjn"
      }
    },
    {
      "cell_type": "markdown",
      "source": [
        "To standardize data points, we need to learn their mean and standard deviation\n",
        "first.\n",
        "\n",
        "To compute these, we need to load the data.\n",
        "\n",
        "The good thing is, we have\n",
        "a (temporary) dataset with the resized images already! We’re only missing a data\n",
        "loader."
      ],
      "metadata": {
        "id": "g_figy2Eeobq"
      }
    },
    {
      "cell_type": "code",
      "source": [
        "temp_loader = DataLoader(temp_dataset, batch_size=16)"
      ],
      "metadata": {
        "id": "6VReWpJ_e1_S"
      },
      "execution_count": null,
      "outputs": []
    },
    {
      "cell_type": "markdown",
      "source": [
        "So, let’s build a function that takes a mini-batch (images and labels) and computes\n",
        "the mean pixel value and standard deviation per channel of each image, adding up\n",
        "the results for all images."
      ],
      "metadata": {
        "id": "fdcIoIJFkrsg"
      }
    },
    {
      "cell_type": "code",
      "source": [
        "@staticmethod\n",
        "def statistics_per_channel(images, labels):\n",
        "  # NCHW\n",
        "  n_samples, n_channels, n_height, n_weight = images.size()\n",
        "  # Flatten HW into a single dimension\n",
        "  flatten_per_channel = images.reshape(n_samples, n_channels, -1)\n",
        "\n",
        "  # Computes statistics of each image per channel\n",
        "  # Average pixel value per channel (n_samples, n_channels)\n",
        "  means = flatten_per_channel.mean(axis=2)\n",
        "  # Standard deviation of pixel values per channel (n_samples, n_channels)\n",
        "  stds = flatten_per_channel.std(axis=2)\n",
        "\n",
        "  # Adds up statistics of all images in a mini-batch (1, n_channels)\n",
        "  sum_means = means.sum(axis=0)\n",
        "  sum_stds = stds.sum(axis=0)\n",
        "\n",
        "  # Makes a tensor of shape (1, n_channels) with the number of samples in the mini-batch\n",
        "  n_samples = torch.tensor([n_samples] * n_channels).float()\n",
        "\n",
        "  # Stack the three tensors on top of one another (3, n_channels)\n",
        "  return torch.stack([n_samples, sum_means, sum_stds], axis=0)\n",
        "\n",
        "setattr(StepByStep, 'statistics_per_channel', statistics_per_channel)"
      ],
      "metadata": {
        "id": "3gC8jtMYksM3"
      },
      "execution_count": null,
      "outputs": []
    },
    {
      "cell_type": "code",
      "source": [
        "first_images, first_labels = next(iter(temp_loader))\n",
        "StepByStep.statistics_per_channel(first_images, first_labels)"
      ],
      "metadata": {
        "id": "EOtdYsT9m5_R",
        "outputId": "1a0a0dc6-8ce7-49f5-f70d-a6892445f825",
        "colab": {
          "base_uri": "https://localhost:8080/"
        }
      },
      "execution_count": null,
      "outputs": [
        {
          "output_type": "execute_result",
          "data": {
            "text/plain": [
              "tensor([[16.0000, 16.0000, 16.0000],\n",
              "        [15.0968, 14.0652, 13.5893],\n",
              "        [ 0.8948,  2.3599,  3.1430]])"
            ]
          },
          "metadata": {},
          "execution_count": 11
        }
      ]
    },
    {
      "cell_type": "markdown",
      "source": [
        "We can leverage the `loader_apply()` method we created in the last chapter to get\n",
        "the sums for the whole dataset:"
      ],
      "metadata": {
        "id": "RGdcOwxzpiUp"
      }
    },
    {
      "cell_type": "code",
      "source": [
        "results = StepByStep.loader_apply(temp_loader, StepByStep.statistics_per_channel)\n",
        "results"
      ],
      "metadata": {
        "id": "9O780X1Spj7g",
        "outputId": "52ed7beb-2cb0-4129-ce76-bfa7ac2022df",
        "colab": {
          "base_uri": "https://localhost:8080/"
        }
      },
      "execution_count": null,
      "outputs": [
        {
          "output_type": "execute_result",
          "data": {
            "text/plain": [
              "tensor([[2925.0000, 2925.0000, 2925.0000],\n",
              "        [2506.6553, 2419.2803, 2387.8225],\n",
              "        [ 583.3219,  713.7609,  761.2370]])"
            ]
          },
          "metadata": {},
          "execution_count": 12
        }
      ]
    },
    {
      "cell_type": "markdown",
      "source": [
        "So, we can compute the average mean value and the\n",
        "average standard deviation, per channel. \n",
        "\n",
        "Better yet, let’s make it a method that\n",
        "takes a data loader and returns an instance of the `Normalize()` transform,\n",
        "statistics and all:"
      ],
      "metadata": {
        "id": "P8lDoSGMp3lz"
      }
    },
    {
      "cell_type": "code",
      "source": [
        "@staticmethod\n",
        "def make_normalizer(loader):\n",
        "  total_samples, total_means, total_stds = StepByStep.loader_apply(temp_loader, StepByStep.statistics_per_channel)\n",
        "  norm_mean = total_means / total_samples\n",
        "  norm_std = total_stds / total_samples\n",
        "  return Normalize(mean=norm_mean, std=norm_std)\n",
        "\n",
        "setattr(StepByStep, 'make_normalizer', make_normalizer)"
      ],
      "metadata": {
        "id": "Hn42s4lmp7xi"
      },
      "execution_count": null,
      "outputs": []
    },
    {
      "cell_type": "markdown",
      "source": [
        "Now, we can use this method to create a transformation that standardizes our\n",
        "dataset:"
      ],
      "metadata": {
        "id": "-CHOtDB6qhsq"
      }
    },
    {
      "cell_type": "code",
      "source": [
        "normalizer = StepByStep.make_normalizer(temp_loader)\n",
        "normalizer"
      ],
      "metadata": {
        "id": "0K8vqQyFqiHG",
        "outputId": "8be52b34-3944-4207-fae7-04299eaa99b8",
        "colab": {
          "base_uri": "https://localhost:8080/"
        }
      },
      "execution_count": null,
      "outputs": [
        {
          "output_type": "execute_result",
          "data": {
            "text/plain": [
              "Normalize(mean=tensor([0.8570, 0.8271, 0.8163]), std=tensor([0.1994, 0.2440, 0.2603]))"
            ]
          },
          "metadata": {},
          "execution_count": 14
        }
      ]
    },
    {
      "cell_type": "markdown",
      "source": [
        "###Real Datasets"
      ],
      "metadata": {
        "id": "vVhZHX_SsB6-"
      }
    },
    {
      "cell_type": "markdown",
      "source": [
        "It’s time to build our real datasets using the `Normalize()` transform with the\n",
        "statistics."
      ],
      "metadata": {
        "id": "Zl4V53YwsCxk"
      }
    },
    {
      "cell_type": "code",
      "source": [
        "composer = Compose([Resize(28), ToTensor(), normalizer])\n",
        "\n",
        "train_data = ImageFolder(root=f\"{ROOT_FOLDER}/train\", transform=composer)\n",
        "val_data = ImageFolder(root=f\"{ROOT_FOLDER}/test\", transform=composer)\n",
        "\n",
        "# Builds a loader of each set\n",
        "train_loader = DataLoader(train_data, batch_size=16, shuffle=True)\n",
        "val_loader = DataLoader(val_data, batch_size=16)"
      ],
      "metadata": {
        "id": "QW0r77mzsKad"
      },
      "execution_count": null,
      "outputs": []
    },
    {
      "cell_type": "markdown",
      "source": [
        "Let’s take a peek at some images from the real training set."
      ],
      "metadata": {
        "id": "S7XRciiFtTYM"
      }
    },
    {
      "cell_type": "code",
      "source": [
        "torch.manual_seed(88)\n",
        "\n",
        "first_images, first_labels = next(iter(train_loader))\n",
        "\n",
        "fig = figure2(first_images, first_labels)"
      ],
      "metadata": {
        "id": "o2U5Fw96tLWj",
        "outputId": "592ef74a-f6f5-471b-a66c-6f1442e2a8e9",
        "colab": {
          "base_uri": "https://localhost:8080/",
          "height": 173
        }
      },
      "execution_count": null,
      "outputs": [
        {
          "output_type": "display_data",
          "data": {
            "text/plain": [
              "<Figure size 864x288 with 6 Axes>"
            ],
            "image/png": "[encoded data removed]"
          },
          "metadata": {}
        }
      ]
    },
    {
      "cell_type": "markdown",
      "source": [
        "##Three-Channel Convolutions"
      ],
      "metadata": {
        "id": "ia5v6-ebtp6D"
      }
    },
    {
      "cell_type": "markdown",
      "source": [
        "Convolving a three-channel filter over a three-channel image still produces a\n",
        "single value.\n",
        "\n",
        "![](https://github.com/rahiakela/deep-learning-research-and-practice/blob/main/deep-learning-with-pytorch-step-by-step/Part-II-Computer-Vision/images/3channel1.png?raw=1)\n",
        "\n",
        "Adding up the results for each\n",
        "channel produces the expected single value.\n",
        "\n",
        "![](https://github.com/rahiakela/deep-learning-research-and-practice/blob/main/deep-learning-with-pytorch-step-by-step/Part-II-Computer-Vision/images/3channel2.png?raw=1)\n",
        "\n",
        "We can also look at it in code."
      ],
      "metadata": {
        "id": "n_yi7LIptqsz"
      }
    },
    {
      "cell_type": "code",
      "source": [
        "regions = np.array([[[[5, 0, 8],\n",
        "                      [1, 9, 5],\n",
        "                      [6, 0, 2]],\n",
        "                     [[0, 5, 4],\n",
        "                      [8, 1, 9],\n",
        "                      [4, 8, 1]],\n",
        "                     [[4, 2, 0],\n",
        "                      [6, 3, 0],\n",
        "                      [5, 2, 8]]]])\n",
        "regions.shape"
      ],
      "metadata": {
        "id": "9VnF8htTmng4",
        "outputId": "3ab48420-eb84-462b-df8f-5dfdba41da45",
        "colab": {
          "base_uri": "https://localhost:8080/"
        }
      },
      "execution_count": null,
      "outputs": [
        {
          "output_type": "execute_result",
          "data": {
            "text/plain": [
              "(1, 3, 3, 3)"
            ]
          },
          "metadata": {},
          "execution_count": 17
        }
      ]
    },
    {
      "cell_type": "code",
      "source": [
        "three_channel_filter = np.array([[[[0, 3, 0],\n",
        "                                   [1, 0, 1],\n",
        "                                   [2, 1, 0]],\n",
        "                                  [[2, 1, 0],\n",
        "                                   [0, 3, 1],\n",
        "                                   [1, -1, 0]],\n",
        "                                  [[0, 1, 3],\n",
        "                                   [-1, -2, 0],\n",
        "                                   [2, 0, 1]]]])\n",
        "three_channel_filter.shape"
      ],
      "metadata": {
        "id": "Cxw0Q9IEm-iJ",
        "outputId": "9c29b1f9-c802-470b-8db2-23c5ec4f47b8",
        "colab": {
          "base_uri": "https://localhost:8080/"
        }
      },
      "execution_count": null,
      "outputs": [
        {
          "output_type": "execute_result",
          "data": {
            "text/plain": [
              "(1, 3, 3, 3)"
            ]
          },
          "metadata": {},
          "execution_count": 18
        }
      ]
    },
    {
      "cell_type": "code",
      "source": [
        "result = F.conv2d(torch.as_tensor(regions), torch.as_tensor(three_channel_filter))\n",
        "result, result.shape"
      ],
      "metadata": {
        "id": "NxFWwJLCnBKd",
        "outputId": "2b693125-24e1-4df6-84d4-5fadefc43bdb",
        "colab": {
          "base_uri": "https://localhost:8080/"
        }
      },
      "execution_count": null,
      "outputs": [
        {
          "output_type": "execute_result",
          "data": {
            "text/plain": [
              "(tensor([[[[39]]]]), torch.Size([1, 1, 1, 1]))"
            ]
          },
          "metadata": {},
          "execution_count": 19
        }
      ]
    },
    {
      "cell_type": "markdown",
      "source": [
        "What if I have two filters?\n",
        "\n",
        "![](https://github.com/rahiakela/deep-learning-research-and-practice/blob/main/deep-learning-with-pytorch-step-by-step/Part-II-Computer-Vision/images/3channel_filters1.png?raw=1)\n",
        "\n",
        "If you have two filters, and the input image has three channels, each filter has\n",
        "three channels as well, and the output has two channels.\n",
        "\n",
        ">The convolution produces as many channels as there are filters.\n"
      ],
      "metadata": {
        "id": "kC4qLRrFnYih"
      }
    },
    {
      "cell_type": "markdown",
      "source": [
        "##Fancier Model"
      ],
      "metadata": {
        "id": "kDjJb_monknm"
      }
    },
    {
      "cell_type": "markdown",
      "source": [
        "Let’s leave the Sequential model aside for now and build a model class again."
      ],
      "metadata": {
        "id": "On1OaMBqnl5l"
      }
    },
    {
      "cell_type": "code",
      "source": [
        "class CNN(nn.Module):\n",
        "  def __init__(self, n_feature, p=0.0):\n",
        "    super(CNN, self).__init__()\n",
        "\n",
        "    self.n_feature = n_feature\n",
        "    self.p = p\n",
        "\n",
        "    # Creates the convolution layers\n",
        "    self.conv1 = nn.Conv2d(in_channels=3, out_channels=n_feature, kernel_size=3)\n",
        "    self.conv2 = nn.Conv2d(in_channels=n_feature, out_channels=n_feature, kernel_size=3)\n",
        "\n",
        "    # Creates the linear layers\n",
        "    self.fc1 = nn.Linear(n_feature * 5 * 5, 50)\n",
        "    self.fc2 = nn.Linear(50, 3)\n",
        "\n",
        "    # Creates dropout layers\n",
        "    self.dropout = nn.Dropout(self.p)\n",
        "\n",
        "  def featurizer(self, x):\n",
        "    # First convolutional block - 3@28x28 -> n_feature@26x26 -> n_feature@13x13\n",
        "    x = self.conv1(x)\n",
        "    x = F.relu(x)\n",
        "    x = F.max_pool2d(x, kernel_size=2)\n",
        "\n",
        "    # Second convolutional block - n_feature * @13x13 -> n_feature@11x11 -> n_feature@5x5\n",
        "    x = self.conv2(x)\n",
        "    x = F.relu(x)\n",
        "    x = F.max_pool2d(x, kernel_size=2)\n",
        "\n",
        "    # Input dimension (n_feature@5x5)\n",
        "    # Output dimension (n_feature * 5 * 5)\n",
        "    x = nn.Flatten()(x)\n",
        "    return x\n",
        "\n",
        "  def classifier(self, x):\n",
        "    # Hidden Layer\n",
        "    # Input dimension (n_feature * 5 * 5)\n",
        "    # Output dimension (50)\n",
        "    if self.p > 0:\n",
        "      x = self.dropout(x)\n",
        "    x = self.fc1(x)\n",
        "    x = F.relu(x)\n",
        "\n",
        "    # Output Layer\n",
        "    # Input dimension (50)\n",
        "    # Output dimension (3)\n",
        "    if self.p > 0:\n",
        "      x = self.dropout(x)\n",
        "    x = self.fc2(x)\n",
        "    return x\n",
        "\n",
        "  def forward(self, x):\n",
        "    x = self.featurizer(x)\n",
        "    x = self.classifier(x)\n",
        "    return x"
      ],
      "metadata": {
        "id": "sfhWjLZknU3z"
      },
      "execution_count": null,
      "outputs": []
    },
    {
      "cell_type": "markdown",
      "source": [
        "##Dropout"
      ],
      "metadata": {
        "id": "Tb-ieAysrUL6"
      }
    },
    {
      "cell_type": "markdown",
      "source": [
        "Dropout is an important piece of deep learning models. It is used as a regularizer;\n",
        "that is, it tries to prevent overfitting by forcing the model to find more than one\n",
        "way to achieve the target.\n",
        "\n",
        "The whole thing looks a lot like the randomization of features used in random\n",
        "forests to perform the splits. Each tree, or even better, each split has access to a\n",
        "subset of features only.\n",
        "\n",
        "How does this, \"feature randomization\", work in a deep learning\n",
        "model?\n",
        "\n",
        "To illustrate it, let’s build a sequential model with a single `nn.Dropout` layer:"
      ],
      "metadata": {
        "id": "VpiORRVBrVN5"
      }
    },
    {
      "cell_type": "code",
      "source": [
        "dropping_model = nn.Sequential(nn.Dropout(p=0.5))"
      ],
      "metadata": {
        "id": "QTP6DzzJtqUb"
      },
      "execution_count": 31,
      "outputs": []
    },
    {
      "cell_type": "markdown",
      "source": [
        "Let’s also create some neatly spaced points to\n",
        "make it easier to understand the effect of dropout."
      ],
      "metadata": {
        "id": "4TqUUInJ418a"
      }
    },
    {
      "cell_type": "code",
      "source": [
        "spaced_points = torch.linspace(.1, 1.1, 11)\n",
        "spaced_points"
      ],
      "metadata": {
        "id": "RDJDkUiG42W2",
        "outputId": "a97ffa2e-13fc-4a6a-8c19-981d2e7878f8",
        "colab": {
          "base_uri": "https://localhost:8080/"
        }
      },
      "execution_count": 32,
      "outputs": [
        {
          "output_type": "execute_result",
          "data": {
            "text/plain": [
              "tensor([0.1000, 0.2000, 0.3000, 0.4000, 0.5000, 0.6000, 0.7000, 0.8000, 0.9000,\n",
              "        1.0000, 1.1000])"
            ]
          },
          "metadata": {},
          "execution_count": 32
        }
      ]
    },
    {
      "cell_type": "markdown",
      "source": [
        "Next, let’s use these points as inputs of our amazingly simple model."
      ],
      "metadata": {
        "id": "hyImVSR_49W3"
      }
    },
    {
      "cell_type": "code",
      "source": [
        "torch.manual_seed(44)\n",
        "\n",
        "dropping_model.train()\n",
        "output_train = dropping_model(spaced_points)\n",
        "output_train"
      ],
      "metadata": {
        "id": "PtHW64B84934",
        "outputId": "9a9811f6-4919-47f0-b03d-d24cb0ab8097",
        "colab": {
          "base_uri": "https://localhost:8080/"
        }
      },
      "execution_count": 33,
      "outputs": [
        {
          "output_type": "execute_result",
          "data": {
            "text/plain": [
              "tensor([0.0000, 0.4000, 0.0000, 0.8000, 0.0000, 1.2000, 1.4000, 1.6000, 1.8000,\n",
              "        0.0000, 2.2000])"
            ]
          },
          "metadata": {},
          "execution_count": 33
        }
      ]
    },
    {
      "cell_type": "markdown",
      "source": [
        "Since this model does not have any weights, it becomes clear that dropout\n",
        "drops inputs, not weights.\n",
        "\n",
        "First, dropping is probabilistic, so each input had a 50% chance of being dropped.\n",
        "\n",
        "Second, the remaining elements need to be proportionally adjusted by a factor of\n",
        "1/p. \n",
        "\n"
      ],
      "metadata": {
        "id": "ihUCAeLy5ETR"
      }
    },
    {
      "cell_type": "code",
      "source": [
        "output_train / spaced_points"
      ],
      "metadata": {
        "id": "fkA3ofAN5K8w",
        "outputId": "c6278264-339a-4e35-f748-a7ff49b8d7da",
        "colab": {
          "base_uri": "https://localhost:8080/"
        }
      },
      "execution_count": 34,
      "outputs": [
        {
          "output_type": "execute_result",
          "data": {
            "text/plain": [
              "tensor([0., 2., 0., 2., 0., 2., 2., 2., 2., 0., 2.])"
            ]
          },
          "metadata": {},
          "execution_count": 34
        }
      ]
    },
    {
      "cell_type": "markdown",
      "source": [
        "This adjustment has the purpose of preserving (or at least trying to) the overall\n",
        "level of the outputs in the particular layer that’s \"suffering\" the dropout. \n",
        "\n",
        "So,let’s\n",
        "imagine that these inputs (after dropping) will feed a linear layer and all their weights are equal to one (and bias equals zero)."
      ],
      "metadata": {
        "id": "xkzPz24s5O9f"
      }
    },
    {
      "cell_type": "code",
      "source": [
        "F.linear(output_train, weight=torch.ones(11), bias=torch.tensor(0))"
      ],
      "metadata": {
        "id": "6h6_N35Y5Wy2",
        "outputId": "a328d365-c7d4-4885-e9ae-9b34e8c982f0",
        "colab": {
          "base_uri": "https://localhost:8080/"
        }
      },
      "execution_count": 35,
      "outputs": [
        {
          "output_type": "execute_result",
          "data": {
            "text/plain": [
              "tensor(9.4000)"
            ]
          },
          "metadata": {},
          "execution_count": 35
        }
      ]
    },
    {
      "cell_type": "markdown",
      "source": [
        "Because there is no dropping in evaluation mode.\n",
        "\n",
        "So, let’s set our model to eval mode and see what happens there."
      ],
      "metadata": {
        "id": "JhBcolr95cQa"
      }
    },
    {
      "cell_type": "code",
      "source": [
        "dropping_model.eval()\n",
        "output_eval = dropping_model(spaced_points)\n",
        "output_eval"
      ],
      "metadata": {
        "id": "G3BOc3Y55j57",
        "outputId": "d4c39b1b-34d8-4384-b958-3f3e76dacd6e",
        "colab": {
          "base_uri": "https://localhost:8080/"
        }
      },
      "execution_count": 36,
      "outputs": [
        {
          "output_type": "execute_result",
          "data": {
            "text/plain": [
              "tensor([0.1000, 0.2000, 0.3000, 0.4000, 0.5000, 0.6000, 0.7000, 0.8000, 0.9000,\n",
              "        1.0000, 1.1000])"
            ]
          },
          "metadata": {},
          "execution_count": 36
        }
      ]
    },
    {
      "cell_type": "markdown",
      "source": [
        "The inputs are just passing through."
      ],
      "metadata": {
        "id": "xyEp6QiP6H5L"
      }
    },
    {
      "cell_type": "code",
      "source": [
        "F.linear(output_eval, weight=torch.ones(11), bias=torch.tensor(0))"
      ],
      "metadata": {
        "id": "KNpNLf-c6IRj",
        "outputId": "2a033d4c-b762-4e60-dcb0-f4e2142f96ae",
        "colab": {
          "base_uri": "https://localhost:8080/"
        }
      },
      "execution_count": 37,
      "outputs": [
        {
          "output_type": "execute_result",
          "data": {
            "text/plain": [
              "tensor(6.6000)"
            ]
          },
          "metadata": {},
          "execution_count": 37
        }
      ]
    },
    {
      "cell_type": "markdown",
      "source": [
        "This is the sum of all inputs.\n",
        "\n",
        "This happened because dropping is probabilistic, and only four out of ten elements\n",
        "were actually dropped.\n",
        "\n",
        "Now,let’s generate 1,000 scenarios and compute the sum of the adjusted\n",
        "dropped outputs to get their distribution."
      ],
      "metadata": {
        "id": "JdZCCchI6ODk"
      }
    },
    {
      "cell_type": "code",
      "source": [
        "torch.manual_seed(17)\n",
        "\n",
        "p = 0.5\n",
        "distrib_outputs = torch.tensor([F.linear(F.dropout(spaced_points, p=p), weight=torch.ones(11), bias=torch.tensor(0)) for _ in range(1000)])\n",
        "\n",
        "fig = figure7(p, distrib_outputs)"
      ],
      "metadata": {
        "id": "3lD7iZqh6aBF",
        "outputId": "06b90613-f134-42a7-d403-7a67521e3590",
        "colab": {
          "base_uri": "https://localhost:8080/",
          "height": 289
        }
      },
      "execution_count": 38,
      "outputs": [
        {
          "output_type": "display_data",
          "data": {
            "text/plain": [
              "<Figure size 432x288 with 1 Axes>"
            ],
            "image/png": "[encoded data removed]"
          },
          "metadata": {}
        }
      ]
    },
    {
      "cell_type": "markdown",
      "source": [
        "Dropout not only drops some inputs but, due to its probabilistic\n",
        "nature, produces a distribution of outputs.\n",
        "\n",
        "In other words, the model needs to learn how to handle a\n",
        "distribution of values that is centered at the value the output\n",
        "would have if there was no dropout.\n",
        "\n",
        "Moreover, the choice of the dropout probability determines how spread out the\n",
        "outputs will be."
      ],
      "metadata": {
        "id": "PFpf-QzE6rmp"
      }
    },
    {
      "cell_type": "code",
      "source": [
        "fig = figure8()"
      ],
      "metadata": {
        "id": "1wktriov6wRb",
        "outputId": "db528b97-b5fb-48d0-ba36-51fbdbce2362",
        "colab": {
          "base_uri": "https://localhost:8080/",
          "height": 237
        }
      },
      "execution_count": 39,
      "outputs": [
        {
          "output_type": "display_data",
          "data": {
            "text/plain": [
              "<Figure size 1080x288 with 4 Axes>"
            ],
            "image/png": "[encoded data removed]"
          },
          "metadata": {}
        }
      ]
    },
    {
      "cell_type": "markdown",
      "source": [
        "If we go to extremes, like a dropout probability of 90%, the distribution gets a bit\n",
        "degenerated, I would say—it is pretty much all over the place (and it has a lot of\n",
        "scenarios where everything gets dropped, hence the tall bar at zero).\n",
        "\n",
        ">The variance of the distribution of outputs grows with the\n",
        "dropout probability.\n",
        "\n",
        ">A higher dropout probability makes it harder for your model to\n",
        "learn—that’s what regularization does."
      ],
      "metadata": {
        "id": "EFRM59hB65i4"
      }
    },
    {
      "cell_type": "markdown",
      "source": [
        "## Model Configuration"
      ],
      "metadata": {
        "id": "PxkOMQPH7E7e"
      }
    },
    {
      "cell_type": "markdown",
      "source": [],
      "metadata": {
        "id": "pZIN0BMD7Flv"
      }
    }
  ]
}