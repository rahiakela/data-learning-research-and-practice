{
  "nbformat": 4,
  "nbformat_minor": 0,
  "metadata": {
    "colab": {
      "provenance": [],
      "toc_visible": true,
      "authorship_tag": "ABX9TyO+3HW3sSaJARz93bNP0Ndq",
      "include_colab_link": true
    },
    "kernelspec": {
      "name": "python3",
      "display_name": "Python 3"
    },
    "language_info": {
      "name": "python"
    }
  },
  "cells": [
    {
      "cell_type": "markdown",
      "metadata": {
        "id": "view-in-github",
        "colab_type": "text"
      },
      "source": [
        "<a href=\"https://colab.research.google.com/github/rahiakela/deep-learning-research-and-practice/blob/main/deep-learning-with-pytorch-step-by-step/Part-II-Computer-Vision/03_better_convolutions.ipynb\" target=\"_parent\"><img src=\"https://colab.research.google.com/assets/colab-badge.svg\" alt=\"Open In Colab\"/></a>"
      ]
    },
    {
      "cell_type": "markdown",
      "source": [
        "##Better Convolutions"
      ],
      "metadata": {
        "id": "qKDOcAGwkGhq"
      }
    },
    {
      "cell_type": "markdown",
      "source": [
        "This time, let's use a different dataset: Rock Paper Scissors.\n",
        "\n",
        "The dataset contains 2,892 images of diverse hands in the typical rock, paper, and\n",
        "scissors poses against a white background. This is a synthetic dataset as well since\n",
        "the images were generated using CGI techniques. Each image is 300x300 pixels in\n",
        "size and has four channels (RGBA).\n",
        "\n",
        "Here are some examples of its images, one for each pose.\n",
        "\n",
        "![](https://github.com/rahiakela/deep-learning-research-and-practice/blob/main/deep-learning-with-pytorch-step-by-step/Part-II-Computer-Vision/images/download.png?raw=1)"
      ],
      "metadata": {
        "id": "KIj__-HokOxT"
      }
    },
    {
      "cell_type": "markdown",
      "source": [
        "##Setup"
      ],
      "metadata": {
        "id": "3WRqxBEvlvgw"
      }
    },
    {
      "cell_type": "code",
      "source": [
        "from IPython.core.display import display, HTML\n",
        "display(HTML(\"<style>.container { width:80% !important; }</style>\"))"
      ],
      "metadata": {
        "colab": {
          "base_uri": "https://localhost:8080/",
          "height": 17
        },
        "id": "sJOR-0hwlwr7",
        "outputId": "aa48f72e-f23a-4feb-d301-66998133667e"
      },
      "execution_count": 1,
      "outputs": [
        {
          "output_type": "display_data",
          "data": {
            "text/plain": [
              "<IPython.core.display.HTML object>"
            ],
            "text/html": [
              "<style>.container { width:80% !important; }</style>"
            ]
          },
          "metadata": {}
        }
      ]
    },
    {
      "cell_type": "code",
      "source": [
        "try:\n",
        "    import google.colab\n",
        "    import requests\n",
        "    url = 'https://raw.githubusercontent.com/dvgodoy/PyTorchStepByStep/master/config.py'\n",
        "    r = requests.get(url, allow_redirects=True)\n",
        "    open('config.py', 'wb').write(r.content)    \n",
        "except ModuleNotFoundError:\n",
        "    pass\n",
        "\n",
        "from config import *\n",
        "config_chapter6()\n",
        "# This is needed to render the plots in this chapter\n",
        "from plots.chapter6 import *"
      ],
      "metadata": {
        "colab": {
          "base_uri": "https://localhost:8080/"
        },
        "id": "wlXOl_Holz6M",
        "outputId": "427d3fb1-8c6d-4c14-d806-6bf35b752205"
      },
      "execution_count": 2,
      "outputs": [
        {
          "output_type": "stream",
          "name": "stdout",
          "text": [
            "Downloading files from GitHub repo to Colab...\n",
            "Finished!\n"
          ]
        }
      ]
    },
    {
      "cell_type": "code",
      "source": [
        "import numpy as np\n",
        "from PIL import Image\n",
        "from copy import deepcopy\n",
        "\n",
        "import torch\n",
        "import torch.optim as optim\n",
        "import torch.nn as nn\n",
        "import torch.nn.functional as F\n",
        "\n",
        "from torch.utils.data import DataLoader, TensorDataset, random_split\n",
        "from torchvision.transforms import Compose, ToTensor, Normalize, ToPILImage, Resize\n",
        "from torchvision.datasets import ImageFolder\n",
        "from torch.optim.lr_scheduler import StepLR, ReduceLROnPlateau, MultiStepLR, CyclicLR, LambdaLR\n",
        "\n",
        "from stepbystep.v2 import StepByStep"
      ],
      "metadata": {
        "id": "54a8hhq8l2AK"
      },
      "execution_count": 3,
      "outputs": []
    },
    {
      "cell_type": "code",
      "source": [
        "from google.colab import drive\n",
        "drive.mount('/content/gdrive')"
      ],
      "metadata": {
        "id": "0A-YvvDpDl-1",
        "outputId": "e115ea7a-0bd5-485c-a3be-429e694a166e",
        "colab": {
          "base_uri": "https://localhost:8080/"
        }
      },
      "execution_count": 4,
      "outputs": [
        {
          "output_type": "stream",
          "name": "stdout",
          "text": [
            "Mounted at /content/gdrive\n"
          ]
        }
      ]
    },
    {
      "cell_type": "code",
      "source": [
        "import os\n",
        "# content/gdrive/My Drive/Kaggle is the path where kaggle.json is  present in the Google Drive\n",
        "os.environ['KAGGLE_CONFIG_DIR'] = \"/content/gdrive/MyDrive/kaggle-keys\""
      ],
      "metadata": {
        "id": "iDxyNz9iEDxw"
      },
      "execution_count": 5,
      "outputs": []
    },
    {
      "cell_type": "code",
      "source": [
        "%%shell\n",
        "\n",
        "# download dataset from kaggle> URL: https://www.kaggle.com/datasets/sanikamal/rock-paper-scissors-dataset\n",
        "kaggle datasets download -d sanikamal/rock-paper-scissors-dataset\n",
        "\n",
        "unzip -qq rock-paper-scissors-dataset.zip\n",
        "rm -rf rock-paper-scissors-dataset.zip"
      ],
      "metadata": {
        "id": "imNthwCGdJTw",
        "outputId": "31b4a389-4102-483b-cfb1-95c2975914a5",
        "colab": {
          "base_uri": "https://localhost:8080/"
        }
      },
      "execution_count": 6,
      "outputs": [
        {
          "output_type": "stream",
          "name": "stdout",
          "text": [
            "Downloading rock-paper-scissors-dataset.zip to /content\n",
            " 96% 436M/452M [00:03<00:00, 180MB/s]\n",
            "100% 452M/452M [00:03<00:00, 145MB/s]\n"
          ]
        },
        {
          "output_type": "execute_result",
          "data": {
            "text/plain": []
          },
          "metadata": {},
          "execution_count": 6
        }
      ]
    },
    {
      "cell_type": "markdown",
      "source": [
        "## Data Preparation"
      ],
      "metadata": {
        "id": "Z9Sqyzlxl-Wn"
      }
    },
    {
      "cell_type": "markdown",
      "source": [
        "The data preparation step will be a bit more demanding this time since we’ll be\n",
        "standardizing the images.Besides, we can use the ImageFolder dataset now.\n",
        "\n",
        "The Rock Paper Scissors dataset is organized like that:\n",
        "\n",
        "```\n",
        "rps/paper/paper01-000.png\n",
        "rps/paper/paper01-001.png\n",
        "\n",
        "rps/rock/rock01-000.png\n",
        "rps/rock/rock01-001.png\n",
        "\n",
        "rps/scissors/scissors01-000.png\n",
        "rps/scissors/scissors01-001.png\n",
        "```\n",
        "\n",
        "The dataset is also perfectly balanced, with each sub-folder containing 840 images\n",
        "of its particular class.\n",
        "\n",
        "Let’s create a dataset then:"
      ],
      "metadata": {
        "id": "NMt6wXGPl_on"
      }
    },
    {
      "cell_type": "code",
      "source": [
        "ROOT_FOLDER = \"Rock-Paper-Scissors\"\n",
        "temp_transform = Compose([Resize(28), ToTensor()])\n",
        "temp_dataset = ImageFolder(root=ROOT_FOLDER, transform=temp_transform)"
      ],
      "metadata": {
        "id": "-04BquM1nbe4"
      },
      "execution_count": 7,
      "outputs": []
    },
    {
      "cell_type": "code",
      "source": [
        "temp_dataset[0][0].shape, temp_dataset[0][1]"
      ],
      "metadata": {
        "id": "vSFRh8T8eP3G",
        "outputId": "dd21408e-b7e9-4811-97ef-d46541c727c1",
        "colab": {
          "base_uri": "https://localhost:8080/"
        }
      },
      "execution_count": 8,
      "outputs": [
        {
          "output_type": "execute_result",
          "data": {
            "text/plain": [
              "(torch.Size([3, 28, 28]), 0)"
            ]
          },
          "metadata": {},
          "execution_count": 8
        }
      ]
    },
    {
      "cell_type": "markdown",
      "source": [
        "###Standardization"
      ],
      "metadata": {
        "id": "VJF-KE8Venjn"
      }
    },
    {
      "cell_type": "markdown",
      "source": [
        "To standardize data points, we need to learn their mean and standard deviation\n",
        "first.\n",
        "\n",
        "To compute these, we need to load the data.\n",
        "\n",
        "The good thing is, we have\n",
        "a (temporary) dataset with the resized images already! We’re only missing a data\n",
        "loader."
      ],
      "metadata": {
        "id": "g_figy2Eeobq"
      }
    },
    {
      "cell_type": "code",
      "source": [
        "temp_loader = DataLoader(temp_dataset, batch_size=16)"
      ],
      "metadata": {
        "id": "6VReWpJ_e1_S"
      },
      "execution_count": 9,
      "outputs": []
    },
    {
      "cell_type": "markdown",
      "source": [
        "So, let’s build a function that takes a mini-batch (images and labels) and computes\n",
        "the mean pixel value and standard deviation per channel of each image, adding up\n",
        "the results for all images."
      ],
      "metadata": {
        "id": "fdcIoIJFkrsg"
      }
    },
    {
      "cell_type": "code",
      "source": [
        "@staticmethod\n",
        "def statistics_per_channel(images, labels):\n",
        "  # NCHW\n",
        "  n_samples, n_channels, n_height, n_weight = images.size()\n",
        "  # Flatten HW into a single dimension\n",
        "  flatten_per_channel = images.reshape(n_samples, n_channels, -1)\n",
        "\n",
        "  # Computes statistics of each image per channel\n",
        "  # Average pixel value per channel (n_samples, n_channels)\n",
        "  means = flatten_per_channel.mean(axis=2)\n",
        "  # Standard deviation of pixel values per channel (n_samples, n_channels)\n",
        "  stds = flatten_per_channel.std(axis=2)\n",
        "\n",
        "  # Adds up statistics of all images in a mini-batch (1, n_channels)\n",
        "  sum_means = means.sum(axis=0)\n",
        "  sum_stds = stds.sum(axis=0)\n",
        "\n",
        "  # Makes a tensor of shape (1, n_channels) with the number of samples in the mini-batch\n",
        "  n_samples = torch.tensor([n_samples] * n_channels).float()\n",
        "\n",
        "  # Stack the three tensors on top of one another (3, n_channels)\n",
        "  return torch.stack([n_samples, sum_means, sum_stds], axis=0)\n",
        "\n",
        "setattr(StepByStep, 'statistics_per_channel', statistics_per_channel)"
      ],
      "metadata": {
        "id": "3gC8jtMYksM3"
      },
      "execution_count": 10,
      "outputs": []
    },
    {
      "cell_type": "code",
      "source": [
        "first_images, first_labels = next(iter(temp_loader))\n",
        "StepByStep.statistics_per_channel(first_images, first_labels)"
      ],
      "metadata": {
        "id": "EOtdYsT9m5_R",
        "outputId": "f4ce5621-76d3-4e8c-c0a4-f292a6afdb97",
        "colab": {
          "base_uri": "https://localhost:8080/"
        }
      },
      "execution_count": 11,
      "outputs": [
        {
          "output_type": "execute_result",
          "data": {
            "text/plain": [
              "tensor([[16.0000, 16.0000, 16.0000],\n",
              "        [15.0968, 14.0652, 13.5893],\n",
              "        [ 0.8948,  2.3599,  3.1430]])"
            ]
          },
          "metadata": {},
          "execution_count": 11
        }
      ]
    },
    {
      "cell_type": "markdown",
      "source": [
        "We can leverage the `loader_apply()` method we created in the last chapter to get\n",
        "the sums for the whole dataset:"
      ],
      "metadata": {
        "id": "RGdcOwxzpiUp"
      }
    },
    {
      "cell_type": "code",
      "source": [
        "results = StepByStep.loader_apply(temp_loader, StepByStep.statistics_per_channel)\n",
        "results"
      ],
      "metadata": {
        "id": "9O780X1Spj7g",
        "outputId": "bb858dd4-40eb-4f05-f024-993da3bfbca8",
        "colab": {
          "base_uri": "https://localhost:8080/"
        }
      },
      "execution_count": 12,
      "outputs": [
        {
          "output_type": "execute_result",
          "data": {
            "text/plain": [
              "tensor([[2925.0000, 2925.0000, 2925.0000],\n",
              "        [2506.6553, 2419.2803, 2387.8225],\n",
              "        [ 583.3219,  713.7609,  761.2370]])"
            ]
          },
          "metadata": {},
          "execution_count": 12
        }
      ]
    },
    {
      "cell_type": "markdown",
      "source": [
        "So, we can compute the average mean value and the\n",
        "average standard deviation, per channel. \n",
        "\n",
        "Better yet, let’s make it a method that\n",
        "takes a data loader and returns an instance of the `Normalize()` transform,\n",
        "statistics and all:"
      ],
      "metadata": {
        "id": "P8lDoSGMp3lz"
      }
    },
    {
      "cell_type": "code",
      "source": [
        "@staticmethod\n",
        "def make_normalizer(loader):\n",
        "  total_samples, total_means, total_stds = StepByStep.loader_apply(temp_loader, StepByStep.statistics_per_channel)\n",
        "  norm_mean = total_means / total_samples\n",
        "  norm_std = total_stds / total_samples\n",
        "  return Normalize(mean=norm_mean, std=norm_std)\n",
        "\n",
        "setattr(StepByStep, 'make_normalizer', make_normalizer)"
      ],
      "metadata": {
        "id": "Hn42s4lmp7xi"
      },
      "execution_count": 13,
      "outputs": []
    },
    {
      "cell_type": "markdown",
      "source": [
        "Now, we can use this method to create a transformation that standardizes our\n",
        "dataset:"
      ],
      "metadata": {
        "id": "-CHOtDB6qhsq"
      }
    },
    {
      "cell_type": "code",
      "source": [
        "normalizer = StepByStep.make_normalizer(temp_loader)\n",
        "normalizer"
      ],
      "metadata": {
        "id": "0K8vqQyFqiHG",
        "outputId": "a058457a-ce66-4ddd-b7cd-c1de858096b7",
        "colab": {
          "base_uri": "https://localhost:8080/"
        }
      },
      "execution_count": 14,
      "outputs": [
        {
          "output_type": "execute_result",
          "data": {
            "text/plain": [
              "Normalize(mean=tensor([0.8570, 0.8271, 0.8163]), std=tensor([0.1994, 0.2440, 0.2603]))"
            ]
          },
          "metadata": {},
          "execution_count": 14
        }
      ]
    },
    {
      "cell_type": "markdown",
      "source": [
        "###Real Datasets"
      ],
      "metadata": {
        "id": "vVhZHX_SsB6-"
      }
    },
    {
      "cell_type": "markdown",
      "source": [
        "It’s time to build our real datasets using the `Normalize()` transform with the\n",
        "statistics."
      ],
      "metadata": {
        "id": "Zl4V53YwsCxk"
      }
    },
    {
      "cell_type": "code",
      "source": [
        "composer = Compose([Resize(28), ToTensor(), normalizer])\n",
        "\n",
        "train_data = ImageFolder(root=f\"{ROOT_FOLDER}/train\", transform=composer)\n",
        "val_data = ImageFolder(root=f\"{ROOT_FOLDER}/test\", transform=composer)\n",
        "\n",
        "# Builds a loader of each set\n",
        "train_loader = DataLoader(train_data, batch_size=16, shuffle=True)\n",
        "val_loader = DataLoader(val_data, batch_size=16)"
      ],
      "metadata": {
        "id": "QW0r77mzsKad"
      },
      "execution_count": 15,
      "outputs": []
    },
    {
      "cell_type": "markdown",
      "source": [
        "Let’s take a peek at some images from the real training set."
      ],
      "metadata": {
        "id": "S7XRciiFtTYM"
      }
    },
    {
      "cell_type": "code",
      "source": [
        "torch.manual_seed(88)\n",
        "\n",
        "first_images, first_labels = next(iter(train_loader))\n",
        "\n",
        "fig = figure2(first_images, first_labels)"
      ],
      "metadata": {
        "id": "o2U5Fw96tLWj",
        "outputId": "06b747a4-4679-4e3f-a9c9-8288af8cd5f7",
        "colab": {
          "base_uri": "https://localhost:8080/",
          "height": 173
        }
      },
      "execution_count": 16,
      "outputs": [
        {
          "output_type": "display_data",
          "data": {
            "text/plain": [
              "<Figure size 864x288 with 6 Axes>"
            ],
            "image/png": "[encoded data removed]"
          },
          "metadata": {}
        }
      ]
    },
    {
      "cell_type": "markdown",
      "source": [
        "##Three-Channel Convolutions"
      ],
      "metadata": {
        "id": "ia5v6-ebtp6D"
      }
    },
    {
      "cell_type": "markdown",
      "source": [
        "Convolving a three-channel filter over a three-channel image still produces a\n",
        "single value.\n",
        "\n",
        "![](https://github.com/rahiakela/deep-learning-research-and-practice/blob/main/deep-learning-with-pytorch-step-by-step/Part-II-Computer-Vision/images/3channel1.png?raw=1)\n",
        "\n",
        "Adding up the results for each\n",
        "channel produces the expected single value.\n",
        "\n",
        "![](https://github.com/rahiakela/deep-learning-research-and-practice/blob/main/deep-learning-with-pytorch-step-by-step/Part-II-Computer-Vision/images/3channel2.png?raw=1)\n",
        "\n",
        "We can also look at it in code."
      ],
      "metadata": {
        "id": "n_yi7LIptqsz"
      }
    },
    {
      "cell_type": "code",
      "source": [
        "regions = np.array([[[[5, 0, 8],\n",
        "                      [1, 9, 5],\n",
        "                      [6, 0, 2]],\n",
        "                     [[0, 5, 4],\n",
        "                      [8, 1, 9],\n",
        "                      [4, 8, 1]],\n",
        "                     [[4, 2, 0],\n",
        "                      [6, 3, 0],\n",
        "                      [5, 2, 8]]]])\n",
        "regions.shape"
      ],
      "metadata": {
        "id": "9VnF8htTmng4",
        "outputId": "0f410dad-1f6d-4b95-990c-11098e48dce2",
        "colab": {
          "base_uri": "https://localhost:8080/"
        }
      },
      "execution_count": 17,
      "outputs": [
        {
          "output_type": "execute_result",
          "data": {
            "text/plain": [
              "(1, 3, 3, 3)"
            ]
          },
          "metadata": {},
          "execution_count": 17
        }
      ]
    },
    {
      "cell_type": "code",
      "source": [
        "three_channel_filter = np.array([[[[0, 3, 0],\n",
        "                                   [1, 0, 1],\n",
        "                                   [2, 1, 0]],\n",
        "                                  [[2, 1, 0],\n",
        "                                   [0, 3, 1],\n",
        "                                   [1, -1, 0]],\n",
        "                                  [[0, 1, 3],\n",
        "                                   [-1, -2, 0],\n",
        "                                   [2, 0, 1]]]])\n",
        "three_channel_filter.shape"
      ],
      "metadata": {
        "id": "Cxw0Q9IEm-iJ",
        "outputId": "a86a69e8-07f2-4347-bb39-f2258d954512",
        "colab": {
          "base_uri": "https://localhost:8080/"
        }
      },
      "execution_count": 18,
      "outputs": [
        {
          "output_type": "execute_result",
          "data": {
            "text/plain": [
              "(1, 3, 3, 3)"
            ]
          },
          "metadata": {},
          "execution_count": 18
        }
      ]
    },
    {
      "cell_type": "code",
      "source": [
        "result = F.conv2d(torch.as_tensor(regions), torch.as_tensor(three_channel_filter))\n",
        "result, result.shape"
      ],
      "metadata": {
        "id": "NxFWwJLCnBKd",
        "outputId": "6911bd92-d5f2-46df-90a5-d0b1bc5c4db5",
        "colab": {
          "base_uri": "https://localhost:8080/"
        }
      },
      "execution_count": 19,
      "outputs": [
        {
          "output_type": "execute_result",
          "data": {
            "text/plain": [
              "(tensor([[[[39]]]]), torch.Size([1, 1, 1, 1]))"
            ]
          },
          "metadata": {},
          "execution_count": 19
        }
      ]
    },
    {
      "cell_type": "markdown",
      "source": [
        "What if I have two filters?\n",
        "\n",
        "![](https://github.com/rahiakela/deep-learning-research-and-practice/blob/main/deep-learning-with-pytorch-step-by-step/Part-II-Computer-Vision/images/3channel_filters1.png?raw=1)\n",
        "\n",
        "If you have two filters, and the input image has three channels, each filter has\n",
        "three channels as well, and the output has two channels.\n",
        "\n",
        ">The convolution produces as many channels as there are filters.\n"
      ],
      "metadata": {
        "id": "kC4qLRrFnYih"
      }
    },
    {
      "cell_type": "markdown",
      "source": [
        "##Fancier Model"
      ],
      "metadata": {
        "id": "kDjJb_monknm"
      }
    },
    {
      "cell_type": "markdown",
      "source": [],
      "metadata": {
        "id": "On1OaMBqnl5l"
      }
    }
  ]
}