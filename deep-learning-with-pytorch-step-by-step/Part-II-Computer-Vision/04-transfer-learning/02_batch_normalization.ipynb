{
  "nbformat": 4,
  "nbformat_minor": 0,
  "metadata": {
    "colab": {
      "provenance": [],
      "toc_visible": true,
      "authorship_tag": "ABX9TyMznbtCPIR7qX2UDaVsMyE/",
      "include_colab_link": true
    },
    "kernelspec": {
      "name": "python3",
      "display_name": "Python 3"
    },
    "language_info": {
      "name": "python"
    }
  },
  "cells": [
    {
      "cell_type": "markdown",
      "metadata": {
        "id": "view-in-github",
        "colab_type": "text"
      },
      "source": [
        "<a href=\"https://colab.research.google.com/github/rahiakela/deep-learning-research-and-practice/blob/main/deep-learning-with-pytorch-step-by-step/Part-II-Computer-Vision/04-transfer-learning/02_batch_normalization.ipynb\" target=\"_parent\"><img src=\"https://colab.research.google.com/assets/colab-badge.svg\" alt=\"Open In Colab\"/></a>"
      ]
    },
    {
      "cell_type": "markdown",
      "source": [
        "##Transfer Learning: Batch Normalization"
      ],
      "metadata": {
        "id": "qKDOcAGwkGhq"
      }
    },
    {
      "cell_type": "markdown",
      "source": [
        "Now, let's consider what is Transfer learning?\n",
        "\n",
        "The idea is quite simple. First, some big tech company, which has access to virtually\n",
        "infinite amounts of data and computing power, develops and trains a huge model\n",
        "for their own purpose. \n",
        "\n",
        "Next, once it is trained, its architecture and the corresponding trained weights (the pre-trained model) are released. Finally,\n",
        "everyone else can use these weights as a starting point and fine-tune them\n",
        "further for a different (but similar) purpose.\n",
        "\n",
        "That’s transfer learning in a nutshell."
      ],
      "metadata": {
        "id": "KIj__-HokOxT"
      }
    },
    {
      "cell_type": "markdown",
      "source": [
        "##Setup"
      ],
      "metadata": {
        "id": "3WRqxBEvlvgw"
      }
    },
    {
      "cell_type": "code",
      "source": [
        "from IPython.core.display import display, HTML\n",
        "display(HTML(\"<style>.container { width:80% !important; }</style>\"))"
      ],
      "metadata": {
        "colab": {
          "base_uri": "https://localhost:8080/",
          "height": 17
        },
        "id": "sJOR-0hwlwr7",
        "outputId": "3b4888f7-0070-445f-fcb6-2d0b450033ef"
      },
      "execution_count": null,
      "outputs": [
        {
          "output_type": "display_data",
          "data": {
            "text/plain": [
              "<IPython.core.display.HTML object>"
            ],
            "text/html": [
              "<style>.container { width:80% !important; }</style>"
            ]
          },
          "metadata": {}
        }
      ]
    },
    {
      "cell_type": "code",
      "source": [
        "try:\n",
        "    import google.colab\n",
        "    import requests\n",
        "    url = 'https://raw.githubusercontent.com/dvgodoy/PyTorchStepByStep/master/config.py'\n",
        "    r = requests.get(url, allow_redirects=True)\n",
        "    open('config.py', 'wb').write(r.content)    \n",
        "except ModuleNotFoundError:\n",
        "    pass\n",
        "\n",
        "from config import *\n",
        "config_chapter7()\n",
        "# This is needed to render the plots in this chapter\n",
        "from plots.chapter7 import *"
      ],
      "metadata": {
        "colab": {
          "base_uri": "https://localhost:8080/"
        },
        "id": "wlXOl_Holz6M",
        "outputId": "9ba65212-4218-4286-fd96-45977d0b095d"
      },
      "execution_count": null,
      "outputs": [
        {
          "output_type": "stream",
          "name": "stdout",
          "text": [
            "Downloading files from GitHub repo to Colab...\n",
            "Finished!\n"
          ]
        }
      ]
    },
    {
      "cell_type": "code",
      "source": [
        "import numpy as np\n",
        "from PIL import Image\n",
        "\n",
        "import torch\n",
        "import torch.optim as optim\n",
        "import torch.nn as nn\n",
        "import torch.nn.functional as F\n",
        "\n",
        "from torch.utils.data import DataLoader, Dataset, random_split, TensorDataset\n",
        "from torchvision.transforms import Compose, ToTensor, Normalize, Resize, ToPILImage, CenterCrop, RandomResizedCrop\n",
        "from torchvision.datasets import ImageFolder\n",
        "from torchvision.models import alexnet, resnet18, inception_v3\n",
        "#from torchvision.models.alexnet import model_urls\n",
        "try:\n",
        "  from torchvision.models.utils import load_state_dict_from_url\n",
        "except ImportError:\n",
        "  from torch.hub import load_state_dict_from_url\n",
        "\n",
        "from stepbystep.v3 import StepByStep\n",
        "from data_generation.rps import download_rps"
      ],
      "metadata": {
        "id": "54a8hhq8l2AK"
      },
      "execution_count": null,
      "outputs": []
    },
    {
      "cell_type": "code",
      "source": [
        "from google.colab import drive\n",
        "drive.mount('/content/gdrive')"
      ],
      "metadata": {
        "id": "0A-YvvDpDl-1",
        "outputId": "debf8027-abdc-451a-ac13-40761de3c8b6",
        "colab": {
          "base_uri": "https://localhost:8080/"
        }
      },
      "execution_count": null,
      "outputs": [
        {
          "output_type": "stream",
          "name": "stdout",
          "text": [
            "Mounted at /content/gdrive\n"
          ]
        }
      ]
    },
    {
      "cell_type": "code",
      "source": [
        "import os\n",
        "# content/gdrive/My Drive/Kaggle is the path where kaggle.json is  present in the Google Drive\n",
        "os.environ['KAGGLE_CONFIG_DIR'] = \"/content/gdrive/MyDrive/kaggle-keys\""
      ],
      "metadata": {
        "id": "iDxyNz9iEDxw"
      },
      "execution_count": null,
      "outputs": []
    },
    {
      "cell_type": "code",
      "source": [
        "%%shell\n",
        "\n",
        "# download dataset from kaggle> URL: https://www.kaggle.com/datasets/sanikamal/rock-paper-scissors-dataset\n",
        "kaggle datasets download -d sanikamal/rock-paper-scissors-dataset\n",
        "\n",
        "unzip -qq rock-paper-scissors-dataset.zip\n",
        "rm -rf rock-paper-scissors-dataset.zip"
      ],
      "metadata": {
        "id": "imNthwCGdJTw",
        "outputId": "09b26262-23bf-4974-fb26-afab6b5d6495",
        "colab": {
          "base_uri": "https://localhost:8080/"
        }
      },
      "execution_count": null,
      "outputs": [
        {
          "output_type": "stream",
          "name": "stdout",
          "text": [
            "Downloading rock-paper-scissors-dataset.zip to /content\n",
            " 99% 449M/452M [00:04<00:00, 122MB/s]\n",
            "100% 452M/452M [00:04<00:00, 98.1MB/s]\n"
          ]
        },
        {
          "output_type": "execute_result",
          "data": {
            "text/plain": []
          },
          "metadata": {},
          "execution_count": 6
        }
      ]
    },
    {
      "cell_type": "markdown",
      "source": [
        "## Data Preparation"
      ],
      "metadata": {
        "id": "Z9Sqyzlxl-Wn"
      }
    },
    {
      "cell_type": "markdown",
      "source": [
        "The data preparation step will be a bit more demanding this time since we’ll be\n",
        "standardizing the images.Besides, we can use the ImageFolder dataset now.\n",
        "\n",
        "The Rock Paper Scissors dataset is organized like that:\n",
        "\n",
        "```\n",
        "rps/paper/paper01-000.png\n",
        "rps/paper/paper01-001.png\n",
        "\n",
        "rps/rock/rock01-000.png\n",
        "rps/rock/rock01-001.png\n",
        "\n",
        "rps/scissors/scissors01-000.png\n",
        "rps/scissors/scissors01-001.png\n",
        "```\n",
        "\n",
        "The dataset is also perfectly balanced, with each sub-folder containing 840 images\n",
        "of its particular class."
      ],
      "metadata": {
        "id": "NMt6wXGPl_on"
      }
    },
    {
      "cell_type": "code",
      "source": [
        "ROOT_FOLDER = \"Rock-Paper-Scissors\""
      ],
      "metadata": {
        "id": "-04BquM1nbe4"
      },
      "execution_count": null,
      "outputs": []
    },
    {
      "cell_type": "markdown",
      "source": [
        "Since we’re using a pre-trained model, we need to use the standardization\n",
        "parameters used to train the original model. \n",
        "\n",
        "In other words, we need to use the\n",
        "statistics of the original dataset used to train that model.\n",
        "\n",
        "So, the data preparation step for the Rock Paper Scissors dataset looks like this now:"
      ],
      "metadata": {
        "id": "Zl4V53YwsCxk"
      }
    },
    {
      "cell_type": "code",
      "source": [
        "normalizer = Normalize(mean=[0.485, 0.456, 0.406], std=[0.229, 0.224, 0.225])\n",
        "composer = Compose([\n",
        "  Resize(256),\n",
        "  CenterCrop(224),\n",
        "  ToTensor(),\n",
        "  normalizer\n",
        "])\n",
        "\n",
        "train_data = ImageFolder(root=f\"{ROOT_FOLDER}/train\", transform=composer)\n",
        "val_data = ImageFolder(root=f\"{ROOT_FOLDER}/test\", transform=composer)\n",
        "\n",
        "# Builds a loader of each set\n",
        "train_loader = DataLoader(train_data, batch_size=16, shuffle=True)\n",
        "val_loader = DataLoader(val_data, batch_size=16)"
      ],
      "metadata": {
        "id": "QW0r77mzsKad"
      },
      "execution_count": null,
      "outputs": []
    },
    {
      "cell_type": "markdown",
      "source": [
        "##Batch Normalization"
      ],
      "metadata": {
        "id": "lTXahWjzPjRS"
      }
    },
    {
      "cell_type": "markdown",
      "source": [
        "The need for normalization layers in order to\n",
        "prevent (or mitigate) an issue commonly called \"internal covariate shift,\" which is\n",
        "just fancy for having different distributions of activation values in different layers.\n",
        "\n",
        "In general, we would like to have all layers produce activation values with similar\n",
        "distributions, ideally with zero mean and unit standard deviation.\n",
        "\n",
        "For a mini-batch of `n` data points, given one particular feature `x`, batch\n",
        "normalization will first compute the statistics for that mini-batch:\n",
        "\n",
        "$$\n",
        "\\Large\n",
        "\\overline{X} = \\frac{1}{n}\\sum_{i=1}^n{x_i}\n",
        "\\\\\n",
        "\\Large\n",
        "\\sigma(X) = \\sqrt{\\frac{1}{n}\\sum_{i=1}^n{(x_i - \\overline{X})^2}}\n",
        "$$\n",
        "\n",
        "Then, it will use these statistics to standardize each data point in the mini-batch:\n",
        "\n",
        "$$\n",
        "\\Large\n",
        "\\text{standardized }x_i = \\frac{x_i-\\overline{X}}{\\sigma(X)+ \\epsilon}\n",
        "$$\n",
        "\n",
        "The actual difference is the optional affine transformation at the end:\n",
        "\n",
        "$$\n",
        "\\Large\n",
        "\\text{batch normed }x_i = b + w \\text{ standardized }x_i\n",
        "$$\n",
        "\n",
        "Although I’ve chosen the familiar `b` and `w `to represent these parameters, so it becomes even more clear there is\n",
        "nothing special to this transformation, you’ll find them represented as `beta` and\n",
        "`gamma`, respectively, in the literature.\n",
        "\n",
        "Moreover, the terms may appear in a\n",
        "different order, like this:\n",
        "\n",
        "$$\n",
        "\\Large\n",
        "\\text{batch normed }x_i = \\text{standardized }x_i\\ \\gamma + \\beta\n",
        "$$"
      ],
      "metadata": {
        "id": "4cuKHAIyPoLA"
      }
    },
    {
      "cell_type": "markdown",
      "source": [
        "###Running Statistics"
      ],
      "metadata": {
        "id": "9hcEY1zs4LLs"
      }
    },
    {
      "cell_type": "markdown",
      "source": [
        "Since batch normalization computes statistics on mini-batches, and mini-batches\n",
        "contain a small number of points, these statistics are likely to fluctuate a lot. The\n",
        "smaller the mini-batches, the more the statistics will fluctuate.\n",
        "\n",
        "During the evaluation phase (or when the model is already trained and deployed),\n",
        "there are no mini-batches. It is perfectly natural to feed the model a single input to\n",
        "get its prediction. \n",
        "\n",
        "Clearly, there are no statistics for a single data point: It is its own\n",
        "mean, and the variance is zero. \n",
        "\n",
        "How can you standardize that? You can’t!\n",
        "\n",
        "What about keeping track of running statistics (that is, moving averages of the\n",
        "statistics)? \n",
        "\n",
        "It is a good way of smoothing the fluctuations.\n",
        "\n",
        "Let’s see it in action using code—we’ll use a dummy dataset with 200 random data\n",
        "points and two features:"
      ],
      "metadata": {
        "id": "emEoCI2H4MUa"
      }
    },
    {
      "cell_type": "code",
      "source": [
        "torch.manual_seed(23)\n",
        "\n",
        "dummy_points = torch.randn((200, 2)) + torch.randn((200, 2)) * 2\n",
        "dummy_labels = torch.randint(2, (200, 1))\n",
        "\n",
        "dummy_dataset = TensorDataset(dummy_points, dummy_labels)\n",
        "dummy_loader = DataLoader(dummy_dataset, batch_size=64, shuffle=True)"
      ],
      "metadata": {
        "id": "6iFvwjFU4r73"
      },
      "execution_count": null,
      "outputs": []
    },
    {
      "cell_type": "markdown",
      "source": [
        "A mini-batch of size 64 is small enough to have fluctuating statistics and large\n",
        "enough for plotting decent histograms.\n",
        "\n",
        "Let’s fetch three mini-batches and plot histograms corresponding to each feature\n",
        "in the first mini-batch:"
      ],
      "metadata": {
        "id": "4ih57OQN-pHf"
      }
    },
    {
      "cell_type": "code",
      "source": [
        "iterator = iter(dummy_loader)\n",
        "\n",
        "batch1 = next(iterator)\n",
        "batch2 = next(iterator)\n",
        "batch3 = next(iterator)"
      ],
      "metadata": {
        "id": "2P038cwL-sSg"
      },
      "execution_count": null,
      "outputs": []
    },
    {
      "cell_type": "markdown",
      "source": [
        "It is said that batch normalization enforces a lower limit on mini-batch size.\n",
        "\n",
        "The problem is the natural fluctuation of the statistics.\n",
        "\n",
        "The flip side is that the fluctuation of the statistics is actually injecting\n",
        "randomness into the training process, thus having a regularizing effect and\n",
        "impacting positively the training of the model.\n",
        "\n",
        "As we know another regularization procedure: dropout. Its\n",
        "way of injecting randomness was zeroing some of the inputs, such that its\n",
        "output would also vary slightly, or fluctuate.\n",
        "\n",
        "**Since both batch normalization and dropout layers have a regularizing effect, combining both layers may actually harm the model performance.**"
      ],
      "metadata": {
        "id": "IRcDZ2_8RuPa"
      }
    },
    {
      "cell_type": "code",
      "source": [
        "mean1, var1 = batch1[0].mean(axis=0), batch1[0].var(axis=0)\n",
        "mean1, var1"
      ],
      "metadata": {
        "colab": {
          "base_uri": "https://localhost:8080/"
        },
        "id": "-KVs-TAMBEzC",
        "outputId": "62e1d72f-85a4-45fa-b229-4eed63f08f5a"
      },
      "execution_count": null,
      "outputs": [
        {
          "output_type": "execute_result",
          "data": {
            "text/plain": [
              "(tensor([-0.2283, -0.2116]), tensor([3.7427, 4.7615]))"
            ]
          },
          "metadata": {},
          "execution_count": 49
        }
      ]
    },
    {
      "cell_type": "code",
      "source": [
        "fig = before_batchnorm(batch1)"
      ],
      "metadata": {
        "colab": {
          "base_uri": "https://localhost:8080/",
          "height": 292
        },
        "id": "nbawQvcaBYG3",
        "outputId": "2ef594aa-49de-46df-84b2-cd143fbedb58"
      },
      "execution_count": null,
      "outputs": [
        {
          "output_type": "display_data",
          "data": {
            "text/plain": [
              "<Figure size 1200x400 with 2 Axes>"
            ],
            "image/png": "[encoded data removed]"
          },
          "metadata": {}
        }
      ]
    },
    {
      "cell_type": "markdown",
      "source": [
        "These features can surely benefit from some standardization. We’ll use\n",
        "`nn.BatchNorm1d` to accomplish it:"
      ],
      "metadata": {
        "id": "A-NHE73MRaX6"
      }
    },
    {
      "cell_type": "code",
      "source": [],
      "metadata": {
        "id": "G8cn_ZlIRdAU"
      },
      "execution_count": null,
      "outputs": []
    }
  ]
}