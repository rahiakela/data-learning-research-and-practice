{
  "nbformat": 4,
  "nbformat_minor": 0,
  "metadata": {
    "colab": {
      "provenance": [],
      "toc_visible": true,
      "authorship_tag": "ABX9TyPSfgw5AQ0zhaYteG9IQBVv",
      "include_colab_link": true
    },
    "kernelspec": {
      "name": "python3",
      "display_name": "Python 3"
    },
    "language_info": {
      "name": "python"
    }
  },
  "cells": [
    {
      "cell_type": "markdown",
      "metadata": {
        "id": "view-in-github",
        "colab_type": "text"
      },
      "source": [
        "<a href=\"https://colab.research.google.com/github/rahiakela/deep-learning-research-and-practice/blob/main/deep-learning-with-pytorch-step-by-step/Part-II-Computer-Vision/04-transfer-learning/03_residual_connections.ipynb\" target=\"_parent\"><img src=\"https://colab.research.google.com/assets/colab-badge.svg\" alt=\"Open In Colab\"/></a>"
      ]
    },
    {
      "cell_type": "markdown",
      "source": [
        "##Transfer Learning: Residual Connections"
      ],
      "metadata": {
        "id": "qKDOcAGwkGhq"
      }
    },
    {
      "cell_type": "markdown",
      "source": [
        "Now, let's consider what is Transfer learning?\n",
        "\n",
        "The idea is quite simple. First, some big tech company, which has access to virtually\n",
        "infinite amounts of data and computing power, develops and trains a huge model\n",
        "for their own purpose. \n",
        "\n",
        "Next, once it is trained, its architecture and the corresponding trained weights (the pre-trained model) are released. Finally,\n",
        "everyone else can use these weights as a starting point and fine-tune them\n",
        "further for a different (but similar) purpose.\n",
        "\n",
        "That’s transfer learning in a nutshell."
      ],
      "metadata": {
        "id": "KIj__-HokOxT"
      }
    },
    {
      "cell_type": "markdown",
      "source": [
        "##Setup"
      ],
      "metadata": {
        "id": "3WRqxBEvlvgw"
      }
    },
    {
      "cell_type": "code",
      "source": [
        "from IPython.core.display import display, HTML\n",
        "display(HTML(\"<style>.container { width:80% !important; }</style>\"))"
      ],
      "metadata": {
        "colab": {
          "base_uri": "https://localhost:8080/",
          "height": 17
        },
        "id": "sJOR-0hwlwr7",
        "outputId": "7988386e-aeee-4b1c-a6c9-5a4d8acc173b"
      },
      "execution_count": null,
      "outputs": [
        {
          "output_type": "display_data",
          "data": {
            "text/plain": [
              "<IPython.core.display.HTML object>"
            ],
            "text/html": [
              "<style>.container { width:80% !important; }</style>"
            ]
          },
          "metadata": {}
        }
      ]
    },
    {
      "cell_type": "code",
      "source": [
        "try:\n",
        "    import google.colab\n",
        "    import requests\n",
        "    url = 'https://raw.githubusercontent.com/dvgodoy/PyTorchStepByStep/master/config.py'\n",
        "    r = requests.get(url, allow_redirects=True)\n",
        "    open('config.py', 'wb').write(r.content)    \n",
        "except ModuleNotFoundError:\n",
        "    pass\n",
        "\n",
        "from config import *\n",
        "config_chapter7()\n",
        "# This is needed to render the plots in this chapter\n",
        "from plots.chapter7 import *"
      ],
      "metadata": {
        "colab": {
          "base_uri": "https://localhost:8080/"
        },
        "id": "wlXOl_Holz6M",
        "outputId": "b275876f-241a-4b79-e141-d527d17d30e7"
      },
      "execution_count": null,
      "outputs": [
        {
          "output_type": "stream",
          "name": "stdout",
          "text": [
            "Downloading files from GitHub repo to Colab...\n",
            "Finished!\n"
          ]
        }
      ]
    },
    {
      "cell_type": "code",
      "source": [
        "import numpy as np\n",
        "from PIL import Image\n",
        "\n",
        "import torch\n",
        "import torch.optim as optim\n",
        "import torch.nn as nn\n",
        "import torch.nn.functional as F\n",
        "\n",
        "from torch.utils.data import DataLoader, Dataset, random_split, TensorDataset\n",
        "from torchvision.transforms import Compose, ToTensor, Normalize, Resize, ToPILImage, CenterCrop, RandomResizedCrop\n",
        "from torchvision.datasets import ImageFolder\n",
        "from torchvision.models import alexnet, resnet18, inception_v3\n",
        "#from torchvision.models.alexnet import model_urls\n",
        "try:\n",
        "  from torchvision.models.utils import load_state_dict_from_url\n",
        "except ImportError:\n",
        "  from torch.hub import load_state_dict_from_url\n",
        "\n",
        "from stepbystep.v3 import StepByStep\n",
        "from data_generation.rps import download_rps"
      ],
      "metadata": {
        "id": "54a8hhq8l2AK"
      },
      "execution_count": null,
      "outputs": []
    },
    {
      "cell_type": "code",
      "source": [
        "from google.colab import drive\n",
        "drive.mount('/content/gdrive')"
      ],
      "metadata": {
        "id": "0A-YvvDpDl-1",
        "outputId": "debf8027-abdc-451a-ac13-40761de3c8b6",
        "colab": {
          "base_uri": "https://localhost:8080/"
        }
      },
      "execution_count": null,
      "outputs": [
        {
          "output_type": "stream",
          "name": "stdout",
          "text": [
            "Mounted at /content/gdrive\n"
          ]
        }
      ]
    },
    {
      "cell_type": "code",
      "source": [
        "import os\n",
        "# content/gdrive/My Drive/Kaggle is the path where kaggle.json is  present in the Google Drive\n",
        "os.environ['KAGGLE_CONFIG_DIR'] = \"/content/gdrive/MyDrive/kaggle-keys\""
      ],
      "metadata": {
        "id": "iDxyNz9iEDxw"
      },
      "execution_count": null,
      "outputs": []
    },
    {
      "cell_type": "code",
      "source": [
        "%%shell\n",
        "\n",
        "# download dataset from kaggle> URL: https://www.kaggle.com/datasets/sanikamal/rock-paper-scissors-dataset\n",
        "kaggle datasets download -d sanikamal/rock-paper-scissors-dataset\n",
        "\n",
        "unzip -qq rock-paper-scissors-dataset.zip\n",
        "rm -rf rock-paper-scissors-dataset.zip"
      ],
      "metadata": {
        "id": "imNthwCGdJTw",
        "outputId": "09b26262-23bf-4974-fb26-afab6b5d6495",
        "colab": {
          "base_uri": "https://localhost:8080/"
        }
      },
      "execution_count": null,
      "outputs": [
        {
          "output_type": "stream",
          "name": "stdout",
          "text": [
            "Downloading rock-paper-scissors-dataset.zip to /content\n",
            " 99% 449M/452M [00:04<00:00, 122MB/s]\n",
            "100% 452M/452M [00:04<00:00, 98.1MB/s]\n"
          ]
        },
        {
          "output_type": "execute_result",
          "data": {
            "text/plain": []
          },
          "metadata": {},
          "execution_count": 6
        }
      ]
    },
    {
      "cell_type": "markdown",
      "source": [
        "## Data Preparation"
      ],
      "metadata": {
        "id": "Z9Sqyzlxl-Wn"
      }
    },
    {
      "cell_type": "markdown",
      "source": [
        "The data preparation step will be a bit more demanding this time since we’ll be\n",
        "standardizing the images.Besides, we can use the ImageFolder dataset now.\n",
        "\n",
        "The Rock Paper Scissors dataset is organized like that:\n",
        "\n",
        "```\n",
        "rps/paper/paper01-000.png\n",
        "rps/paper/paper01-001.png\n",
        "\n",
        "rps/rock/rock01-000.png\n",
        "rps/rock/rock01-001.png\n",
        "\n",
        "rps/scissors/scissors01-000.png\n",
        "rps/scissors/scissors01-001.png\n",
        "```\n",
        "\n",
        "The dataset is also perfectly balanced, with each sub-folder containing 840 images\n",
        "of its particular class."
      ],
      "metadata": {
        "id": "NMt6wXGPl_on"
      }
    },
    {
      "cell_type": "code",
      "source": [
        "ROOT_FOLDER = \"Rock-Paper-Scissors\""
      ],
      "metadata": {
        "id": "-04BquM1nbe4"
      },
      "execution_count": null,
      "outputs": []
    },
    {
      "cell_type": "markdown",
      "source": [
        "Since we’re using a pre-trained model, we need to use the standardization\n",
        "parameters used to train the original model. \n",
        "\n",
        "In other words, we need to use the\n",
        "statistics of the original dataset used to train that model.\n",
        "\n",
        "So, the data preparation step for the Rock Paper Scissors dataset looks like this now:"
      ],
      "metadata": {
        "id": "Zl4V53YwsCxk"
      }
    },
    {
      "cell_type": "code",
      "source": [
        "normalizer = Normalize(mean=[0.485, 0.456, 0.406], std=[0.229, 0.224, 0.225])\n",
        "composer = Compose([\n",
        "  Resize(256),\n",
        "  CenterCrop(224),\n",
        "  ToTensor(),\n",
        "  normalizer\n",
        "])\n",
        "\n",
        "train_data = ImageFolder(root=f\"{ROOT_FOLDER}/train\", transform=composer)\n",
        "val_data = ImageFolder(root=f\"{ROOT_FOLDER}/test\", transform=composer)\n",
        "\n",
        "# Builds a loader of each set\n",
        "train_loader = DataLoader(train_data, batch_size=16, shuffle=True)\n",
        "val_loader = DataLoader(val_data, batch_size=16)"
      ],
      "metadata": {
        "id": "QW0r77mzsKad"
      },
      "execution_count": null,
      "outputs": []
    },
    {
      "cell_type": "markdown",
      "source": [
        "##Batch Normalization"
      ],
      "metadata": {
        "id": "lTXahWjzPjRS"
      }
    },
    {
      "cell_type": "markdown",
      "source": [
        "The need for normalization layers in order to\n",
        "prevent (or mitigate) an issue commonly called \"internal covariate shift,\" which is\n",
        "just fancy for having different distributions of activation values in different layers.\n",
        "\n",
        "In general, we would like to have all layers produce activation values with similar\n",
        "distributions, ideally with zero mean and unit standard deviation.\n",
        "\n",
        "For a mini-batch of `n` data points, given one particular feature `x`, batch\n",
        "normalization will first compute the statistics for that mini-batch:\n",
        "\n",
        "$$\n",
        "\\Large\n",
        "\\overline{X} = \\frac{1}{n}\\sum_{i=1}^n{x_i}\n",
        "\\\\\n",
        "\\Large\n",
        "\\sigma(X) = \\sqrt{\\frac{1}{n}\\sum_{i=1}^n{(x_i - \\overline{X})^2}}\n",
        "$$\n",
        "\n",
        "Then, it will use these statistics to standardize each data point in the mini-batch:\n",
        "\n",
        "$$\n",
        "\\Large\n",
        "\\text{standardized }x_i = \\frac{x_i-\\overline{X}}{\\sigma(X)+ \\epsilon}\n",
        "$$\n",
        "\n",
        "The actual difference is the optional affine transformation at the end:\n",
        "\n",
        "$$\n",
        "\\Large\n",
        "\\text{batch normed }x_i = b + w \\text{ standardized }x_i\n",
        "$$\n",
        "\n",
        "Although I’ve chosen the familiar `b` and `w `to represent these parameters, so it becomes even more clear there is\n",
        "nothing special to this transformation, you’ll find them represented as `beta` and\n",
        "`gamma`, respectively, in the literature.\n",
        "\n",
        "Moreover, the terms may appear in a\n",
        "different order, like this:\n",
        "\n",
        "$$\n",
        "\\Large\n",
        "\\text{batch normed }x_i = \\text{standardized }x_i\\ \\gamma + \\beta\n",
        "$$"
      ],
      "metadata": {
        "id": "4cuKHAIyPoLA"
      }
    },
    {
      "cell_type": "markdown",
      "source": [
        "###Running Statistics"
      ],
      "metadata": {
        "id": "9hcEY1zs4LLs"
      }
    },
    {
      "cell_type": "markdown",
      "source": [
        "Since batch normalization computes statistics on mini-batches, and mini-batches\n",
        "contain a small number of points, these statistics are likely to fluctuate a lot. The\n",
        "smaller the mini-batches, the more the statistics will fluctuate.\n",
        "\n",
        "During the evaluation phase (or when the model is already trained and deployed),\n",
        "there are no mini-batches. It is perfectly natural to feed the model a single input to\n",
        "get its prediction. \n",
        "\n",
        "Clearly, there are no statistics for a single data point: It is its own\n",
        "mean, and the variance is zero. \n",
        "\n",
        "How can you standardize that? You can’t!\n",
        "\n",
        "What about keeping track of running statistics (that is, moving averages of the\n",
        "statistics)? \n",
        "\n",
        "It is a good way of smoothing the fluctuations.\n",
        "\n",
        "Let’s see it in action using code—we’ll use a dummy dataset with 200 random data\n",
        "points and two features:"
      ],
      "metadata": {
        "id": "emEoCI2H4MUa"
      }
    },
    {
      "cell_type": "code",
      "source": [
        "torch.manual_seed(23)\n",
        "\n",
        "dummy_points = torch.randn((200, 2)) + torch.randn((200, 2)) * 2\n",
        "dummy_labels = torch.randint(2, (200, 1))\n",
        "\n",
        "dummy_dataset = TensorDataset(dummy_points, dummy_labels)\n",
        "dummy_loader = DataLoader(dummy_dataset, batch_size=64, shuffle=True)"
      ],
      "metadata": {
        "id": "6iFvwjFU4r73"
      },
      "execution_count": null,
      "outputs": []
    },
    {
      "cell_type": "markdown",
      "source": [
        "A mini-batch of size 64 is small enough to have fluctuating statistics and large\n",
        "enough for plotting decent histograms.\n",
        "\n",
        "Let’s fetch three mini-batches and plot histograms corresponding to each feature\n",
        "in the first mini-batch:"
      ],
      "metadata": {
        "id": "4ih57OQN-pHf"
      }
    },
    {
      "cell_type": "code",
      "source": [
        "iterator = iter(dummy_loader)\n",
        "\n",
        "batch1 = next(iterator)\n",
        "batch2 = next(iterator)\n",
        "batch3 = next(iterator)"
      ],
      "metadata": {
        "id": "2P038cwL-sSg"
      },
      "execution_count": null,
      "outputs": []
    },
    {
      "cell_type": "markdown",
      "source": [
        "It is said that batch normalization enforces a lower limit on mini-batch size.\n",
        "\n",
        "The problem is the natural fluctuation of the statistics.\n",
        "\n",
        "The flip side is that the fluctuation of the statistics is actually injecting\n",
        "randomness into the training process, thus having a regularizing effect and\n",
        "impacting positively the training of the model.\n",
        "\n",
        "As we know another regularization procedure: dropout. Its\n",
        "way of injecting randomness was zeroing some of the inputs, such that its\n",
        "output would also vary slightly, or fluctuate.\n",
        "\n",
        "**Since both batch normalization and dropout layers have a regularizing effect, combining both layers may actually harm the model performance.**"
      ],
      "metadata": {
        "id": "IRcDZ2_8RuPa"
      }
    },
    {
      "cell_type": "code",
      "source": [
        "mean1, var1 = batch1[0].mean(axis=0), batch1[0].var(axis=0)\n",
        "mean1, var1"
      ],
      "metadata": {
        "colab": {
          "base_uri": "https://localhost:8080/"
        },
        "id": "-KVs-TAMBEzC",
        "outputId": "c59c08dd-19d0-42e9-b88d-db07e8ae155b"
      },
      "execution_count": null,
      "outputs": [
        {
          "output_type": "execute_result",
          "data": {
            "text/plain": [
              "(tensor([-0.2283, -0.2116]), tensor([3.7427, 4.7615]))"
            ]
          },
          "metadata": {},
          "execution_count": 8
        }
      ]
    },
    {
      "cell_type": "code",
      "source": [
        "fig = before_batchnorm(batch1)"
      ],
      "metadata": {
        "colab": {
          "base_uri": "https://localhost:8080/",
          "height": 292
        },
        "id": "nbawQvcaBYG3",
        "outputId": "45c3dc3f-d2e2-48b9-b853-9025d47a7f1d"
      },
      "execution_count": null,
      "outputs": [
        {
          "output_type": "display_data",
          "data": {
            "text/plain": [
              "<Figure size 1200x400 with 2 Axes>"
            ],
            "image/png": "[encoded data removed]"
          },
          "metadata": {}
        }
      ]
    },
    {
      "cell_type": "markdown",
      "source": [
        "These features can surely benefit from some standardization. We’ll use\n",
        "`nn.BatchNorm1d` to accomplish it:"
      ],
      "metadata": {
        "id": "A-NHE73MRaX6"
      }
    },
    {
      "cell_type": "code",
      "source": [
        "batch_normalizer = nn.BatchNorm1d(num_features=2, affine=False, momentum=None)\n",
        "batch_normalizer.state_dict()"
      ],
      "metadata": {
        "id": "G8cn_ZlIRdAU",
        "outputId": "2c4bcc83-7c08-42e0-dced-1e744f6bbd19",
        "colab": {
          "base_uri": "https://localhost:8080/"
        }
      },
      "execution_count": null,
      "outputs": [
        {
          "output_type": "execute_result",
          "data": {
            "text/plain": [
              "OrderedDict([('running_mean', tensor([0., 0.])),\n",
              "             ('running_var', tensor([1., 1.])),\n",
              "             ('num_batches_tracked', tensor(0))])"
            ]
          },
          "metadata": {},
          "execution_count": 10
        }
      ]
    },
    {
      "cell_type": "markdown",
      "source": [
        "Let’s see what happens to them after we normalize our first\n",
        "mini-batch:"
      ],
      "metadata": {
        "id": "gd84odShhaxJ"
      }
    },
    {
      "cell_type": "code",
      "source": [
        "normed1 = batch_normalizer(batch1[0])\n",
        "batch_normalizer.state_dict()"
      ],
      "metadata": {
        "id": "jFwMS8eGhbdg",
        "outputId": "4c7c5ec4-0080-4cb1-d510-f124fcdd3d37",
        "colab": {
          "base_uri": "https://localhost:8080/"
        }
      },
      "execution_count": null,
      "outputs": [
        {
          "output_type": "execute_result",
          "data": {
            "text/plain": [
              "OrderedDict([('running_mean', tensor([-0.2283, -0.2116])),\n",
              "             ('running_var', tensor([3.7427, 4.7615])),\n",
              "             ('num_batches_tracked', tensor(1))])"
            ]
          },
          "metadata": {},
          "execution_count": 11
        }
      ]
    },
    {
      "cell_type": "markdown",
      "source": [
        "Let’s double-check it."
      ],
      "metadata": {
        "id": "z-6GRPzYinO-"
      }
    },
    {
      "cell_type": "code",
      "source": [
        "normed1.mean(axis=0), normed1.var(axis=0)"
      ],
      "metadata": {
        "id": "yombOuXsioSi",
        "outputId": "f7517ccb-205d-460b-f090-ee627780c21e",
        "colab": {
          "base_uri": "https://localhost:8080/"
        }
      },
      "execution_count": null,
      "outputs": [
        {
          "output_type": "execute_result",
          "data": {
            "text/plain": [
              "(tensor([7.4506e-09, 3.7253e-09]), tensor([1.0159, 1.0159]))"
            ]
          },
          "metadata": {},
          "execution_count": 12
        }
      ]
    },
    {
      "cell_type": "markdown",
      "source": [
        "I confess I find this a bit annoying too—the running variance is\n",
        "unbiased, but the actual standardization of the data points of a mini-batch uses a\n",
        "biased variance.\n",
        "\n",
        "What’s the difference between the two?\n",
        "\n",
        "The difference lies in the denominator only:\n",
        "\n",
        "$$\n",
        "\\Large\n",
        "\\begin{aligned}\n",
        "\\text{Biased Var}(X) &= \\frac{1}{n} &\\sum_{i=1}^n{(x_i - \\overline{X})^2}\n",
        "\\\\\n",
        "\\text{Var}(X) &= \\frac{1}{n-1} &\\sum_{i=1}^n{(x_i - \\overline{X})^2}\n",
        "\\end{aligned}\n",
        "$$"
      ],
      "metadata": {
        "id": "BY2ydRDfjNW7"
      }
    },
    {
      "cell_type": "code",
      "source": [
        "normed1.var(axis=0, unbiased=False)"
      ],
      "metadata": {
        "id": "cvGXkXHujaJ8",
        "outputId": "272b6e12-03a9-4199-8073-f6d2a6fa2dc1",
        "colab": {
          "base_uri": "https://localhost:8080/"
        }
      },
      "execution_count": null,
      "outputs": [
        {
          "output_type": "execute_result",
          "data": {
            "text/plain": [
              "tensor([1.0000, 1.0000])"
            ]
          },
          "metadata": {},
          "execution_count": 13
        }
      ]
    },
    {
      "cell_type": "code",
      "source": [
        "fig = after_batchnorm(batch1, normed1)"
      ],
      "metadata": {
        "id": "pBtNdt3mji0Z",
        "outputId": "84f01278-72f8-487b-8073-39a28639b581",
        "colab": {
          "base_uri": "https://localhost:8080/",
          "height": 292
        }
      },
      "execution_count": null,
      "outputs": [
        {
          "output_type": "display_data",
          "data": {
            "text/plain": [
              "<Figure size 1200x400 with 2 Axes>"
            ],
            "image/png": "[encoded data removed]"
          },
          "metadata": {}
        }
      ]
    },
    {
      "cell_type": "markdown",
      "source": [
        "Even though batch normalization achieved an output with zero mean and unit\n",
        "standard deviation, the overall distribution of the output is still mostly determined\n",
        "by the distribution of the inputs.\n",
        "\n",
        ">Batch normalization won’t turn it into a normal distribution.\n",
        "\n",
        "If we feed the second mini-batch to the batch normalizer, it will update its running\n",
        "statistics accordingly:"
      ],
      "metadata": {
        "id": "qvkrQ7kJjwKX"
      }
    },
    {
      "cell_type": "code",
      "source": [
        "normed2 = batch_normalizer(batch2[0])\n",
        "batch_normalizer.state_dict()"
      ],
      "metadata": {
        "id": "i_gns2NCj1XR",
        "outputId": "4f50e3ac-be7d-41d2-e91b-ca69b45782c3",
        "colab": {
          "base_uri": "https://localhost:8080/"
        }
      },
      "execution_count": null,
      "outputs": [
        {
          "output_type": "execute_result",
          "data": {
            "text/plain": [
              "OrderedDict([('running_mean', tensor([-0.1930, -0.0222])),\n",
              "             ('running_var', tensor([4.1655, 4.5009])),\n",
              "             ('num_batches_tracked', tensor(2))])"
            ]
          },
          "metadata": {},
          "execution_count": 15
        }
      ]
    },
    {
      "cell_type": "markdown",
      "source": [
        "Both running mean and running variance are simple averages over the minibatches:"
      ],
      "metadata": {
        "id": "KxxsufhnkALH"
      }
    },
    {
      "cell_type": "code",
      "source": [
        "mean2, var2 = batch2[0].mean(axis=0), batch2[0].var(axis=0)\n",
        "\n",
        "running_mean, running_var = (mean1 + mean2) / 2, (var1 + var2) / 2\n",
        "running_mean, running_var"
      ],
      "metadata": {
        "id": "LeSZDaoKkAqU",
        "outputId": "1a89ef51-c373-4fe6-e29c-08aacc06cb5c",
        "colab": {
          "base_uri": "https://localhost:8080/"
        }
      },
      "execution_count": null,
      "outputs": [
        {
          "output_type": "execute_result",
          "data": {
            "text/plain": [
              "(tensor([-0.1930, -0.0222]), tensor([4.1655, 4.5009]))"
            ]
          },
          "metadata": {},
          "execution_count": 16
        }
      ]
    },
    {
      "cell_type": "markdown",
      "source": [
        "###Evaluation Phase"
      ],
      "metadata": {
        "id": "rBfsMsudkgZU"
      }
    },
    {
      "cell_type": "markdown",
      "source": [
        "Just like dropout, batch normalization exhibits different behaviors depending on\n",
        "the mode: train or eval. We’ve already seen what it does during the training\n",
        "phase. We’ve also realized that it doesn’t make sense to compute statistics for any\n",
        "data that isn’t training data.\n",
        "\n",
        "So, in the evaluation phase, it will use the running statistics computed during\n",
        "training to standardize the new data (the third mini-batch, in our small example):"
      ],
      "metadata": {
        "id": "sCcofTnxkhqA"
      }
    },
    {
      "cell_type": "code",
      "source": [
        "batch_normalizer.eval()\n",
        "\n",
        "normed3 = batch_normalizer(batch3[0])\n",
        "normed3.mean(axis=0), normed3.var(axis=0, unbiased=False)"
      ],
      "metadata": {
        "id": "IxxVdtGdk-Y8",
        "outputId": "790fe3b5-6a48-4c1c-e030-022702e6358b",
        "colab": {
          "base_uri": "https://localhost:8080/"
        }
      },
      "execution_count": null,
      "outputs": [
        {
          "output_type": "execute_result",
          "data": {
            "text/plain": [
              "(tensor([0.1350, 0.1450]), tensor([1.0134, 1.2981]))"
            ]
          },
          "metadata": {},
          "execution_count": 17
        }
      ]
    },
    {
      "cell_type": "markdown",
      "source": [
        "Since it is standardizing unseen data using statistics computed on\n",
        "training data, the results above are expected. \n",
        "\n",
        "The mean will be around zero and\n",
        "the standard deviation will be around one."
      ],
      "metadata": {
        "id": "-kC4LcIQldBm"
      }
    },
    {
      "cell_type": "markdown",
      "source": [
        "###Momentum"
      ],
      "metadata": {
        "id": "G2_1mjTBlgtp"
      }
    },
    {
      "cell_type": "markdown",
      "source": [
        "There is an alternative way of computing running statistics: Instead of using a\n",
        "simple average, it uses an exponentially weighted moving average (EWMA) of the\n",
        "statistics.\n",
        "\n",
        "So, to make it abundantly clear what is being computed, I present the formulas\n",
        "below:\n",
        "\n",
        "$$\n",
        "\\large\n",
        "\\begin{array}\n",
        "& \\text{EWMA}_t(\\alpha, x) &= &\\alpha &x_t &+ &(1-\\alpha) &\\text{EWMA}_{t-1}(\\alpha, x)\n",
        "\\\\\n",
        "\\text{running stat}_t &= &\\text{\"momentum\"} &\\text{stat}_t &+ &(1-\\text{\"momentum\"}) &\\text{running stat}_{t-1}\n",
        "\\end{array}\n",
        "$$\n",
        "\n",
        "Let’s try it out in practice."
      ],
      "metadata": {
        "id": "hkFnp2LzlheF"
      }
    },
    {
      "cell_type": "code",
      "source": [
        "batch_normalizer_mom = nn.BatchNorm1d(num_features=2, affine=False, momentum=0.1)\n",
        "batch_normalizer_mom.state_dict()"
      ],
      "metadata": {
        "id": "1e271q5zr1ka",
        "outputId": "66833394-30ac-4d92-e14e-3c0e36a6c78a",
        "colab": {
          "base_uri": "https://localhost:8080/"
        }
      },
      "execution_count": null,
      "outputs": [
        {
          "output_type": "execute_result",
          "data": {
            "text/plain": [
              "OrderedDict([('running_mean', tensor([0., 0.])),\n",
              "             ('running_var', tensor([1., 1.])),\n",
              "             ('num_batches_tracked', tensor(0))])"
            ]
          },
          "metadata": {},
          "execution_count": 18
        }
      ]
    },
    {
      "cell_type": "markdown",
      "source": [
        "What happens if we run\n",
        "the first mini-batch through it?"
      ],
      "metadata": {
        "id": "fmPVeb6jsJ0M"
      }
    },
    {
      "cell_type": "code",
      "source": [
        "normed1_mom = batch_normalizer_mom(batch1[0])\n",
        "batch_normalizer_mom.state_dict()"
      ],
      "metadata": {
        "id": "624n7gClsKRX",
        "outputId": "e695a19c-e612-4e84-d212-e54855f85a7a",
        "colab": {
          "base_uri": "https://localhost:8080/"
        }
      },
      "execution_count": null,
      "outputs": [
        {
          "output_type": "execute_result",
          "data": {
            "text/plain": [
              "OrderedDict([('running_mean', tensor([-0.0228, -0.0212])),\n",
              "             ('running_var', tensor([1.2743, 1.3761])),\n",
              "             ('num_batches_tracked', tensor(1))])"
            ]
          },
          "metadata": {},
          "execution_count": 19
        }
      ]
    },
    {
      "cell_type": "markdown",
      "source": [
        "We can easily verify the results for the running\n",
        "means:"
      ],
      "metadata": {
        "id": "O9o1y5O0sZ-p"
      }
    },
    {
      "cell_type": "code",
      "source": [
        "running_mean = torch.zeros((1, 2))\n",
        "running_mean = 0.1 * batch1[0].mean(axis=0) + (1 - 0.1) + running_mean\n",
        "running_mean"
      ],
      "metadata": {
        "id": "UXcKXfyPsad1",
        "outputId": "dc98d524-63bf-4121-d815-f85a938b7cc1",
        "colab": {
          "base_uri": "https://localhost:8080/"
        }
      },
      "execution_count": null,
      "outputs": [
        {
          "output_type": "execute_result",
          "data": {
            "text/plain": [
              "tensor([[0.8772, 0.8788]])"
            ]
          },
          "metadata": {},
          "execution_count": 20
        }
      ]
    },
    {
      "cell_type": "markdown",
      "source": [
        "###BatchNorm2d"
      ],
      "metadata": {
        "id": "M9iE__Met6Rh"
      }
    },
    {
      "cell_type": "markdown",
      "source": [
        "The difference between the one-dimension and the two-dimension batch\n",
        "normalization is actually quite simple: The former standardizes features (columns),\n",
        "while the latter standardizes channels (pixels).\n",
        "\n"
      ],
      "metadata": {
        "id": "vcTACO-mt7c8"
      }
    },
    {
      "cell_type": "code",
      "source": [
        "torch.manual_seed(39)\n",
        "\n",
        "dummy_images = torch.rand((200, 3, 10, 10))\n",
        "dummy_labels = torch.randint(2, (200, 1))\n",
        "\n",
        "dummy_dataset = TensorDataset(dummy_images, dummy_labels)\n",
        "dummy_loader = DataLoader(dummy_dataset, batch_size=64, shuffle=True)\n",
        "\n",
        "iterator = iter(dummy_loader)\n",
        "batch1 = next(iterator)\n",
        "batch1[0].shape"
      ],
      "metadata": {
        "id": "yG7pYdSRuuUF",
        "outputId": "3277f6cf-b602-44df-d16d-7e645c79f347",
        "colab": {
          "base_uri": "https://localhost:8080/"
        }
      },
      "execution_count": null,
      "outputs": [
        {
          "output_type": "execute_result",
          "data": {
            "text/plain": [
              "torch.Size([64, 3, 10, 10])"
            ]
          },
          "metadata": {},
          "execution_count": 23
        }
      ]
    },
    {
      "cell_type": "markdown",
      "source": [
        "The batch normalization is done over the C dimension, so it will compute statistics\n",
        "using the remaining dimensions—N, H, and `W (axis=[0, 2, 3])`—representing all\n",
        "pixels of a given channel from every image in the mini-batch.\n",
        "\n",
        "The `nn.BatchNorm2d` layer has the same arguments as its one-dimension\n",
        "counterpart, but its num_features argument must match the number of channels\n",
        "of the input instead:"
      ],
      "metadata": {
        "id": "udWxD4Qpv3nh"
      }
    },
    {
      "cell_type": "code",
      "source": [
        "batch_normalizer = nn.BatchNorm2d(num_features=3, affine=False, momentum=None)\n",
        "normed1 = batch_normalizer(batch1[0])\n",
        "normed1.mean(axis=[0, 2, 3]), normed1.var(axis=[0, 2, 3], unbiased=False)"
      ],
      "metadata": {
        "id": "cynZAsK0wB0W",
        "outputId": "a5dfb13f-af88-4435-b761-814a839d3870",
        "colab": {
          "base_uri": "https://localhost:8080/"
        }
      },
      "execution_count": null,
      "outputs": [
        {
          "output_type": "execute_result",
          "data": {
            "text/plain": [
              "(tensor([ 2.3283e-08, -2.3693e-08,  8.8960e-08]),\n",
              " tensor([0.9999, 0.9999, 0.9999]))"
            ]
          },
          "metadata": {},
          "execution_count": 24
        }
      ]
    },
    {
      "cell_type": "markdown",
      "source": [
        "As expected, each channel in the output has its pixel values with zero mean and\n",
        "unit standard deviation."
      ],
      "metadata": {
        "id": "MWrfmpoNwyUz"
      }
    },
    {
      "cell_type": "markdown",
      "source": [
        "##Summary"
      ],
      "metadata": {
        "id": "1s-HUgD1x6w0"
      }
    },
    {
      "cell_type": "markdown",
      "source": [
        "It goes over a lot\n",
        "of information while only scratching the surface of this topic. So, I am organizing a\n",
        "small summary of the main points we’ve addressed:\n",
        "\n",
        "* During training time, batch normalization computes statistics (mean and\n",
        "variance) for each individual mini-batch and uses these statistics to produce\n",
        "standardized outputs.\n",
        "\n",
        "* The fluctuations in the statistics from one mini-batch to the next introduce\n",
        "randomness into the process and thus have a regularizing effect.\n",
        "\n",
        "* Due to the regularizing effect of batch normalization, it may not work well if combined with other regularization techniques (like dropout).\n",
        "\n",
        "* During evaluation time, batch normalization uses a (smoothed) average of the\n",
        "statistics computed during training.\n",
        "\n",
        "* Its original motivation was to address the so-called internal covariate shift by\n",
        "producing similar distributions across different layers, but it was later found\n",
        "that it actually improves model training by making the loss surface smoother.\n",
        "\n",
        "* The batch normalization may be placed either before or after the activation\n",
        "function; there is no \"right\" or \"wrong\" way.\n",
        "\n",
        "* The layer preceding the batch normalization layer should have its bias=False\n",
        "set to avoid useless computation.\n",
        "\n",
        "* Even though batch normalization works for a different reason than initially\n",
        "thought, addressing the internal covariate shift may still bring benefits, like\n",
        "solving the vanishing gradients problem.\n",
        "\n"
      ],
      "metadata": {
        "id": "s0yBu6Hix7tc"
      }
    }
  ]
}