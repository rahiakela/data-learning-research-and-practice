{
  "nbformat": 4,
  "nbformat_minor": 0,
  "metadata": {
    "colab": {
      "name": "episode-1-training-classification-model.ipynb",
      "provenance": [],
      "authorship_tag": "ABX9TyOd/NaklMtK2ZaKb17nv74l",
      "include_colab_link": true
    },
    "kernelspec": {
      "name": "python3",
      "display_name": "Python 3"
    },
    "language_info": {
      "name": "python"
    },
    "accelerator": "GPU",
    "gpuClass": "standard"
  },
  "cells": [
    {
      "cell_type": "markdown",
      "metadata": {
        "id": "view-in-github",
        "colab_type": "text"
      },
      "source": [
        "<a href=\"https://colab.research.google.com/github/rahiakela/deep-learning-research-and-practice/blob/main/pytorch-lightning-in-practice/pytorch-lightning/episode_1_training_classification_model.ipynb\" target=\"_parent\"><img src=\"https://colab.research.google.com/assets/colab-badge.svg\" alt=\"Open In Colab\"/></a>"
      ]
    },
    {
      "cell_type": "markdown",
      "source": [
        "##Episode 1: Training a classification model on MNIST with PyTorch"
      ],
      "metadata": {
        "id": "cCpPEjwFHUzO"
      }
    },
    {
      "cell_type": "markdown",
      "source": [
        "**Reference:**\n",
        "\n",
        "https://www.youtube.com/watch?v=OMDn66kM9Qc&list=PLaMu-SDt_RB5hhJKZC5a6HPdlDTawUT3r"
      ],
      "metadata": {
        "id": "2WDRg968Y06p"
      }
    },
    {
      "cell_type": "code",
      "source": [
        "import torch\n",
        "\n",
        "from torch import nn\n",
        "from torch import optim\n",
        "from torchvision import datasets, transforms \n",
        "from torch.utils.data import random_split, DataLoader"
      ],
      "metadata": {
        "id": "-lDJtO-1HklU"
      },
      "execution_count": 16,
      "outputs": []
    },
    {
      "cell_type": "code",
      "source": [
        "torch.randn(5).cuda()"
      ],
      "metadata": {
        "id": "N_JW0mHYUG8k",
        "outputId": "5425f998-3c62-4652-b2b1-d73ab3d3b099",
        "colab": {
          "base_uri": "https://localhost:8080/"
        }
      },
      "execution_count": 17,
      "outputs": [
        {
          "output_type": "execute_result",
          "data": {
            "text/plain": [
              "tensor([-1.4110, -2.0209,  1.9245,  0.7648, -0.4434], device='cuda:0')"
            ]
          },
          "metadata": {},
          "execution_count": 17
        }
      ]
    },
    {
      "cell_type": "code",
      "source": [
        "# define model\n",
        "model2 = nn.Sequential(\n",
        "  nn.Linear(28 * 28, 64),\n",
        "  nn.ReLU(),\n",
        "  nn.Linear(64, 64),\n",
        "  nn.ReLU(),\n",
        "  nn.Linear(64, 10)\n",
        ")"
      ],
      "metadata": {
        "id": "5EexZ1c1Ht33"
      },
      "execution_count": 18,
      "outputs": []
    },
    {
      "cell_type": "code",
      "source": [
        "class ResNet(nn.Module):\n",
        "\n",
        "  def __init__(self):\n",
        "    super().__init__()\n",
        "    self.l1 = nn.Linear(28 * 28, 64)\n",
        "    self.l2 = nn.Linear(64, 64)\n",
        "    self.l3 = nn.Linear(64, 10)\n",
        "    self.do = nn.Dropout(0.1)\n",
        "\n",
        "  def forward(self, x):\n",
        "    h1 = nn.functional.relu(self.l1(x))\n",
        "    h2 = nn.functional.relu(self.l2(h1))\n",
        "    do = self.do(h2 + h1) # resudual connection\n",
        "    logits = self.l3(do)\n",
        "    return logits\n",
        "\n",
        "model = ResNet().cuda()  # move model to GPU"
      ],
      "metadata": {
        "id": "eKlYN_xBVGzG"
      },
      "execution_count": 19,
      "outputs": []
    },
    {
      "cell_type": "code",
      "source": [
        "# define optimizer\n",
        "params = model.parameters()\n",
        "optimizer = optim.SGD(params, lr=1e-2)"
      ],
      "metadata": {
        "id": "3_Hn_N5QOarC"
      },
      "execution_count": 20,
      "outputs": []
    },
    {
      "cell_type": "code",
      "source": [
        "# define loss\n",
        "loss = nn.CrossEntropyLoss()"
      ],
      "metadata": {
        "id": "vvemcEy4OoZ6"
      },
      "execution_count": 21,
      "outputs": []
    },
    {
      "cell_type": "code",
      "source": [
        "# define data loader\n",
        "train_data = datasets.MNIST(\"data\", train=True, download=True, transform=transforms.ToTensor())\n",
        "train, val = random_split(train_data, [55000, 5000])\n",
        "\n",
        "train_loader = DataLoader(train, batch_size=32)\n",
        "val_loader = DataLoader(val, batch_size=32)"
      ],
      "metadata": {
        "id": "cZNLTWVDRm7S"
      },
      "execution_count": 22,
      "outputs": []
    },
    {
      "cell_type": "code",
      "source": [
        "# define training and validation step\n",
        "epochs = 5\n",
        "\n",
        "for epoch in range(epochs):\n",
        "  # training loop\n",
        "  losses = list()\n",
        "  accuracies = list()\n",
        "  model.train()  # set training mode because I use dropout\n",
        "  for batch in train_loader:\n",
        "    x, y = batch\n",
        "\n",
        "    # x: b x 1 x 28 x 28 (B*C*W*H)\n",
        "    b = x.size(0)\n",
        "    x = x.view(b, -1).cuda()\n",
        "\n",
        "    # Step 1: forward\n",
        "    l = model(x)  # l: logits\n",
        "\n",
        "    # Step 2: compute the objective function\n",
        "    J = loss(l, y.cuda())\n",
        "\n",
        "    # Step 3: cleaining the gradients\n",
        "    model.zero_grad()\n",
        "    # optimizer.zero_grad()\n",
        "    # params.grad._zero()\n",
        "\n",
        "    # Step 4: accumulate the partial derivative of loss wrt params\n",
        "    J.backward()\n",
        "    # params.grad.sum_(dL/dparams)\n",
        "\n",
        "    # Step 5: step in the opposite direction of the gradient\n",
        "    optimizer.step()\n",
        "    # with torch.no_grad(): params = params - eta * params.grad\n",
        "\n",
        "    losses.append(J.item())\n",
        "    accuracies.append(y.eq(l.detach().argmax(dim=1).cpu()).float().mean())\n",
        "\n",
        "  print(f\"Epoch: {epoch + 1}\", end=\", \")\n",
        "  print(f\"training loss: \\t{torch.tensor(losses).mean():.2f}\", end=\", \")\n",
        "  print(f\"training accuracy: \\t{torch.tensor(accuracies).mean():.2f}\")\n",
        "\n",
        "  # validation loop\n",
        "  losses = list()\n",
        "  accuracies = list()\n",
        "  model.train()  # validation mode because I use dropout\n",
        "  for batch in val_loader:\n",
        "    x, y = batch\n",
        "\n",
        "    # x: b x 1 x 28 x 28 (B*C*W*H)\n",
        "    b = x.size(0)\n",
        "    x = x.view(b, -1).cuda()\n",
        "\n",
        "    # Step 1: forward\n",
        "    with torch.no_grad():\n",
        "      l = model(x)\n",
        "\n",
        "    # Step 2: compute the objective function\n",
        "    J = loss(l, y.cuda())\n",
        "\n",
        "    losses.append(J.item())\n",
        "    accuracies.append(y.eq(l.detach().argmax(dim=1).cpu()).float().mean())\n",
        "\n",
        "  print(f\"Epoch: {epoch + 1}\", end=\", \")\n",
        "  print(f\"validation loss: \\t{torch.tensor(losses).mean():.2f}\", end=\", \")\n",
        "  print(f\"training accuracy: \\t{torch.tensor(accuracies).mean():.2f}\")"
      ],
      "metadata": {
        "colab": {
          "base_uri": "https://localhost:8080/"
        },
        "id": "rxfHVEvOOs_2",
        "outputId": "6545fafd-f734-4fe6-b172-d374678ecd6d"
      },
      "execution_count": 23,
      "outputs": [
        {
          "output_type": "stream",
          "name": "stdout",
          "text": [
            "Epoch: 1, training loss: \t0.83, training accuracy: \t0.78\n",
            "Epoch: 1, validation loss: \t0.43, training accuracy: \t0.88\n",
            "Epoch: 2, training loss: \t0.37, training accuracy: \t0.89\n",
            "Epoch: 2, validation loss: \t0.33, training accuracy: \t0.90\n",
            "Epoch: 3, training loss: \t0.31, training accuracy: \t0.91\n",
            "Epoch: 3, validation loss: \t0.29, training accuracy: \t0.91\n",
            "Epoch: 4, training loss: \t0.27, training accuracy: \t0.92\n",
            "Epoch: 4, validation loss: \t0.26, training accuracy: \t0.92\n",
            "Epoch: 5, training loss: \t0.24, training accuracy: \t0.93\n",
            "Epoch: 5, validation loss: \t0.23, training accuracy: \t0.93\n"
          ]
        }
      ]
    }
  ]
}