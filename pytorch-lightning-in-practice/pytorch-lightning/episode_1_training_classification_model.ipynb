{
  "nbformat": 4,
  "nbformat_minor": 0,
  "metadata": {
    "colab": {
      "name": "episode-1-training-classification-model.ipynb",
      "provenance": [],
      "toc_visible": true,
      "authorship_tag": "ABX9TyOlDb3fPcBBNY3wZ/6JinTE",
      "include_colab_link": true
    },
    "kernelspec": {
      "name": "python3",
      "display_name": "Python 3"
    },
    "language_info": {
      "name": "python"
    }
  },
  "cells": [
    {
      "cell_type": "markdown",
      "metadata": {
        "id": "view-in-github",
        "colab_type": "text"
      },
      "source": [
        "<a href=\"https://colab.research.google.com/github/rahiakela/deep-learning-research-and-practice/blob/main/pytorch-lightning-in-practice/pytorch-lightning/episode_1_training_classification_model.ipynb\" target=\"_parent\"><img src=\"https://colab.research.google.com/assets/colab-badge.svg\" alt=\"Open In Colab\"/></a>"
      ]
    },
    {
      "cell_type": "markdown",
      "source": [
        "##Episode 1: Training a classification model on MNIST with PyTorch"
      ],
      "metadata": {
        "id": "cCpPEjwFHUzO"
      }
    },
    {
      "cell_type": "markdown",
      "source": [
        "**Reference:**\n",
        "\n",
        "https://www.youtube.com/watch?v=OMDn66kM9Qc&list=PLaMu-SDt_RB5hhJKZC5a6HPdlDTawUT3r"
      ],
      "metadata": {
        "id": "2WDRg968Y06p"
      }
    },
    {
      "cell_type": "code",
      "source": [
        "import torch\n",
        "\n",
        "from torch import nn\n",
        "from torch import optim\n",
        "from torchvision import datasets, transforms \n",
        "from torch.utils.data import random_split, DataLoader"
      ],
      "metadata": {
        "id": "-lDJtO-1HklU"
      },
      "execution_count": 5,
      "outputs": []
    },
    {
      "cell_type": "code",
      "source": [
        "# define model\n",
        "model = nn.Sequential(\n",
        "  nn.Linear(28 * 28, 64),\n",
        "  nn.ReLU(),\n",
        "  nn.Linear(64, 64),\n",
        "  nn.ReLU(),\n",
        "  nn.Linear(64, 10)\n",
        ")"
      ],
      "metadata": {
        "id": "5EexZ1c1Ht33"
      },
      "execution_count": 6,
      "outputs": []
    },
    {
      "cell_type": "code",
      "source": [
        "# define optimizer\n",
        "params = model.parameters()\n",
        "optimizer = optim.SGD(params, lr=1e-2)"
      ],
      "metadata": {
        "id": "3_Hn_N5QOarC"
      },
      "execution_count": 7,
      "outputs": []
    },
    {
      "cell_type": "code",
      "source": [
        "# define loss\n",
        "loss = nn.CrossEntropyLoss()"
      ],
      "metadata": {
        "id": "vvemcEy4OoZ6"
      },
      "execution_count": 8,
      "outputs": []
    },
    {
      "cell_type": "code",
      "source": [
        "# define data loader\n",
        "train_data = datasets.MNIST(\"data\", train=True, download=True, transform=transforms.ToTensor())\n",
        "train, val = random_split(train_data, [55000, 5000])\n",
        "\n",
        "train_loader = DataLoader(train, batch_size=32)\n",
        "val_loader = DataLoader(val, batch_size=32)"
      ],
      "metadata": {
        "id": "cZNLTWVDRm7S"
      },
      "execution_count": null,
      "outputs": []
    },
    {
      "cell_type": "code",
      "source": [
        "# define training and validation step\n",
        "epochs = 5\n",
        "\n",
        "for epoch in range(epochs):\n",
        "  # training loop\n",
        "  losses = list()\n",
        "  for batch in train_loader:\n",
        "    x, y = batch\n",
        "\n",
        "    # x: b x 1 x 28 x 28 (B*C*W*H)\n",
        "    b = x.size(0)\n",
        "    x = x.view(b, -1)\n",
        "\n",
        "    # Step 1: forward\n",
        "    l = model(x)  # l: logits\n",
        "\n",
        "    # Step 2: compute the objective function\n",
        "    J = loss(l, y)\n",
        "\n",
        "    # Step 3: cleaining the gradients\n",
        "    model.zero_grad()\n",
        "    # optimizer.zero_grad()\n",
        "    # params.grad._zero()\n",
        "\n",
        "    # Step 4: accumulate the partial derivative of loss wrt params\n",
        "    J.backward()\n",
        "    # params.grad.sum_(dL/dparams)\n",
        "\n",
        "    # Step 5: step in the opposite direction of the gradient\n",
        "    optimizer.step()\n",
        "    # with torch.no_grad(): params = params - eta * params.grad\n",
        "    losses.append(J.item())\n",
        "\n",
        "  print(f\"Epoch: {epoch + 1}, train loss: {torch.tensor(losses).mean():.2f}\")\n",
        "\n",
        "  # validation loop\n",
        "  losses = list()\n",
        "  for batch in val_loader:\n",
        "    x, y = batch\n",
        "\n",
        "    # x: b x 1 x 28 x 28 (B*C*W*H)\n",
        "    b = x.size(0)\n",
        "    x = x.view(b, -1)\n",
        "\n",
        "    # Step 1: forward\n",
        "    with torch.no_grad():\n",
        "      l = model(x)\n",
        "\n",
        "    # Step 2: compute the objective function\n",
        "    J = loss(l, y)\n",
        "\n",
        "    losses.append(J.item())\n",
        "\n",
        "  print(f\"Epoch: {epoch + 1}, val loss: {torch.tensor(losses).mean():.2f}\")"
      ],
      "metadata": {
        "colab": {
          "base_uri": "https://localhost:8080/"
        },
        "id": "rxfHVEvOOs_2",
        "outputId": "0f9f9991-6eac-48e5-c722-6b6957d9d264"
      },
      "execution_count": 13,
      "outputs": [
        {
          "output_type": "stream",
          "name": "stdout",
          "text": [
            "Epoch: 1, train loss: 1.24\n",
            "Epoch: 1, val loss: 0.48\n",
            "Epoch: 2, train loss: 0.40\n",
            "Epoch: 2, val loss: 0.36\n",
            "Epoch: 3, train loss: 0.32\n",
            "Epoch: 3, val loss: 0.32\n",
            "Epoch: 4, train loss: 0.28\n",
            "Epoch: 4, val loss: 0.29\n",
            "Epoch: 5, train loss: 0.26\n",
            "Epoch: 5, val loss: 0.26\n"
          ]
        }
      ]
    }
  ]
}