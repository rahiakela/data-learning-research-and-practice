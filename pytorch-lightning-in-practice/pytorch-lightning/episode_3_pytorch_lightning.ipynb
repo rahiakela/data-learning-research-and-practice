{
  "nbformat": 4,
  "nbformat_minor": 0,
  "metadata": {
    "colab": {
      "name": "episode-3-pytorch-lightning.ipynb",
      "provenance": [],
      "toc_visible": true,
      "authorship_tag": "ABX9TyMVAczOf9Bv3eFoo/K1jRuD",
      "include_colab_link": true
    },
    "kernelspec": {
      "name": "python3",
      "display_name": "Python 3"
    },
    "language_info": {
      "name": "python"
    },
    "accelerator": "GPU",
    "gpuClass": "standard"
  },
  "cells": [
    {
      "cell_type": "markdown",
      "metadata": {
        "id": "view-in-github",
        "colab_type": "text"
      },
      "source": [
        "<a href=\"https://colab.research.google.com/github/rahiakela/deep-learning-research-and-practice/blob/main/pytorch-lightning-in-practice/pytorch-lightning/episode_3_pytorch_lightning.ipynb\" target=\"_parent\"><img src=\"https://colab.research.google.com/assets/colab-badge.svg\" alt=\"Open In Colab\"/></a>"
      ]
    },
    {
      "cell_type": "markdown",
      "source": [
        "##Episode 3:PyTorch Lightning "
      ],
      "metadata": {
        "id": "cCpPEjwFHUzO"
      }
    },
    {
      "cell_type": "markdown",
      "source": [
        "**Reference:**\n",
        "\n",
        "https://www.youtube.com/watch?v=DbESHcCoWbM&list=PLKMvSHzKWRgLTDtAl3txcULbHiKvQTx6U&index=3"
      ],
      "metadata": {
        "id": "2WDRg968Y06p"
      }
    },
    {
      "cell_type": "code",
      "source": [
        "!pip install pytorch-lightning"
      ],
      "metadata": {
        "id": "Kuvh_eqPLRkT"
      },
      "execution_count": null,
      "outputs": []
    },
    {
      "cell_type": "code",
      "source": [
        "import torch\n",
        "\n",
        "from torch import nn\n",
        "from torch import optim\n",
        "from torchvision import datasets, transforms \n",
        "from torch.utils.data import random_split, DataLoader\n",
        "\n",
        "import pytorch_lightning as pl\n",
        "\n",
        "import pdb"
      ],
      "metadata": {
        "id": "-lDJtO-1HklU"
      },
      "execution_count": 4,
      "outputs": []
    },
    {
      "cell_type": "code",
      "source": [
        "torch.randn(5).cuda()"
      ],
      "metadata": {
        "id": "N_JW0mHYUG8k",
        "outputId": "b1cd055f-6429-4903-d1d3-9858be3213b1",
        "colab": {
          "base_uri": "https://localhost:8080/"
        }
      },
      "execution_count": 3,
      "outputs": [
        {
          "output_type": "execute_result",
          "data": {
            "text/plain": [
              "tensor([ 0.9580, -1.5952,  0.4923, -0.6948,  0.3215], device='cuda:0')"
            ]
          },
          "metadata": {},
          "execution_count": 3
        }
      ]
    },
    {
      "cell_type": "markdown",
      "source": [
        "##Lightning"
      ],
      "metadata": {
        "id": "SDO6hGuVLo4j"
      }
    },
    {
      "cell_type": "markdown",
      "source": [
        "1. model\n",
        "2. optimizer\n",
        "3. data\n",
        "4. training loop \"the training magic\"\n",
        "5. validation loop \"the validation magic\""
      ],
      "metadata": {
        "id": "82rYBXkFLsGF"
      }
    },
    {
      "cell_type": "code",
      "source": [
        "class ResNet(pl.LightningModule):\n",
        "\n",
        "  def __init__(self):\n",
        "    super().__init__()\n",
        "    self.l1 = nn.Linear(28 * 28, 64)\n",
        "    self.l2 = nn.Linear(64, 64)\n",
        "    self.l3 = nn.Linear(64, 10)\n",
        "    self.do = nn.Dropout(0.1)\n",
        "\n",
        "    self.loss = nn.CrossEntropyLoss()\n",
        "\n",
        "  def forward(self, x):\n",
        "    h1 = nn.functional.relu(self.l1(x))\n",
        "    h2 = nn.functional.relu(self.l2(h1))\n",
        "    do = self.do(h2 + h1) # resudual connection\n",
        "    logits = self.l3(do)\n",
        "    return logits\n",
        "\n",
        "  def configure_optimizers(self):\n",
        "    optimizer = optim.SGD(self.parameters(), lr=1e-2)\n",
        "    return optimizer\n",
        "\n",
        "  def training_step(self, batch, batch_idx):\n",
        "    x, y = batch\n",
        "\n",
        "    # x: b x 1 x 28 x 28 (B*C*W*H)\n",
        "    b = x.size(0)\n",
        "    x = x.view(b, -1)\n",
        "\n",
        "    # Step 1: forward\n",
        "    logits = self(x)  # logits\n",
        "\n",
        "    # Step 2: compute the objective function\n",
        "    loss = self.loss(logits, y)\n",
        "    return {\"loss\": loss}\n",
        "    \n",
        "  def train_dataloader(self):\n",
        "    # define data loader\n",
        "    train_data = datasets.MNIST(\"data\", train=True, download=True, transform=transforms.ToTensor())\n",
        "    # train, val = random_split(train_data, [55000, 5000])\n",
        "\n",
        "    train_loader = DataLoader(train_data, batch_size=32)\n",
        "    # val_loader = DataLoader(val, batch_size=8)\n",
        "    return train_loader\n",
        "\n",
        "model = ResNet()"
      ],
      "metadata": {
        "id": "eKlYN_xBVGzG"
      },
      "execution_count": 9,
      "outputs": []
    },
    {
      "cell_type": "code",
      "source": [
        "trainer = pl.Trainer(max_epochs=10, accelerator='gpu', devices=1)\n",
        "trainer.fit(model)"
      ],
      "metadata": {
        "id": "RKu7D_NDRvj8"
      },
      "execution_count": null,
      "outputs": []
    },
    {
      "cell_type": "code",
      "source": [
        "class ImageClassifier(nn.Module):\n",
        "  def __init__(self):\n",
        "      super().__init__()"
      ],
      "metadata": {
        "id": "hWHkaN6nMqEO"
      },
      "execution_count": null,
      "outputs": []
    },
    {
      "cell_type": "code",
      "source": [
        "# define optimizer\n",
        "params = model.parameters()\n",
        "optimizer = optim.SGD(params, lr=1e-2)"
      ],
      "metadata": {
        "id": "3_Hn_N5QOarC"
      },
      "execution_count": null,
      "outputs": []
    },
    {
      "cell_type": "code",
      "source": [
        "# define loss\n",
        "loss = nn.CrossEntropyLoss()"
      ],
      "metadata": {
        "id": "vvemcEy4OoZ6"
      },
      "execution_count": null,
      "outputs": []
    },
    {
      "cell_type": "code",
      "source": [
        "# define data loader\n",
        "train_data = datasets.MNIST(\"data\", train=True, download=True, transform=transforms.ToTensor())\n",
        "train, val = random_split(train_data, [55000, 5000])\n",
        "\n",
        "train_loader = DataLoader(train, batch_size=8)\n",
        "val_loader = DataLoader(val, batch_size=8)"
      ],
      "metadata": {
        "id": "cZNLTWVDRm7S"
      },
      "execution_count": null,
      "outputs": []
    },
    {
      "cell_type": "code",
      "source": [
        "# define training and validation step\n",
        "epochs = 10\n",
        "\n",
        "for epoch in range(epochs):\n",
        "  # training loop\n",
        "  losses = list()\n",
        "  accuracies = list()\n",
        "  model.train()  # set training mode because I use dropout\n",
        "  for batch in train_loader:\n",
        "    x, y = batch\n",
        "\n",
        "    # x: b x 1 x 28 x 28 (B*C*W*H)\n",
        "    b = x.size(0)\n",
        "    x = x.view(b, -1).cuda()\n",
        "\n",
        "    # Step 1: forward\n",
        "    l = model.cuda()(x)  # l: logits\n",
        "    # pdb.set_trace()\n",
        "\n",
        "    # Step 2: compute the objective function\n",
        "    J = loss(l, y.cuda())\n",
        "\n",
        "    # Step 3: cleaining the gradients\n",
        "    model.zero_grad()\n",
        "    # optimizer.zero_grad()\n",
        "    # params.grad._zero()\n",
        "\n",
        "    # Step 4: accumulate the partial derivative of loss wrt params\n",
        "    J.backward()\n",
        "    # params.grad.sum_(dL/dparams)\n",
        "\n",
        "    # Step 5: step in the opposite direction of the gradient\n",
        "    optimizer.step()\n",
        "    # with torch.no_grad(): params = params - eta * params.grad\n",
        "\n",
        "    losses.append(J.item())\n",
        "    accuracies.append(y.eq(l.detach().argmax(dim=1).cpu()).float().mean())\n",
        "\n",
        "  print(f\"Epoch: {epoch + 1}\", end=\", \")\n",
        "  print(f\"training loss: \\t{torch.tensor(losses).mean():.2f}\", end=\", \")\n",
        "  print(f\"training accuracy: \\t{torch.tensor(accuracies).mean():.2f}\")\n",
        "\n",
        "  # validation loop\n",
        "  losses = list()\n",
        "  accuracies = list()\n",
        "  model.train()  # validation mode because I use dropout\n",
        "  for batch in val_loader:\n",
        "    x, y = batch\n",
        "\n",
        "    # x: b x 1 x 28 x 28 (B*C*W*H)\n",
        "    b = x.size(0)\n",
        "    x = x.view(b, -1).cuda()\n",
        "\n",
        "    # Step 1: forward\n",
        "    with torch.no_grad():\n",
        "      l = model(x)\n",
        "\n",
        "    # Step 2: compute the objective function\n",
        "    J = loss(l, y.cuda())\n",
        "\n",
        "    losses.append(J.item())\n",
        "    accuracies.append(y.eq(l.detach().argmax(dim=1).cpu()).float().mean())\n",
        "\n",
        "  print(f\"Epoch: {epoch + 1}\", end=\", \")\n",
        "  print(f\"validation loss: \\t{torch.tensor(losses).mean():.2f}\", end=\", \")\n",
        "  print(f\"training accuracy: \\t{torch.tensor(accuracies).mean():.2f}\")"
      ],
      "metadata": {
        "colab": {
          "base_uri": "https://localhost:8080/"
        },
        "id": "rxfHVEvOOs_2",
        "outputId": "f1923115-7476-45c1-8127-2dd199128606"
      },
      "execution_count": null,
      "outputs": [
        {
          "output_type": "stream",
          "name": "stdout",
          "text": [
            "Epoch: 1, training loss: \t0.15, training accuracy: \t0.96\n",
            "Epoch: 1, validation loss: \t0.14, training accuracy: \t0.96\n",
            "Epoch: 2, training loss: \t0.13, training accuracy: \t0.96\n",
            "Epoch: 2, validation loss: \t0.14, training accuracy: \t0.96\n",
            "Epoch: 3, training loss: \t0.11, training accuracy: \t0.97\n",
            "Epoch: 3, validation loss: \t0.12, training accuracy: \t0.96\n",
            "Epoch: 4, training loss: \t0.10, training accuracy: \t0.97\n",
            "Epoch: 4, validation loss: \t0.11, training accuracy: \t0.97\n",
            "Epoch: 5, training loss: \t0.09, training accuracy: \t0.97\n",
            "Epoch: 5, validation loss: \t0.11, training accuracy: \t0.97\n",
            "Epoch: 6, training loss: \t0.08, training accuracy: \t0.98\n",
            "Epoch: 6, validation loss: \t0.11, training accuracy: \t0.97\n",
            "Epoch: 7, training loss: \t0.07, training accuracy: \t0.98\n",
            "Epoch: 7, validation loss: \t0.11, training accuracy: \t0.97\n",
            "Epoch: 8, training loss: \t0.07, training accuracy: \t0.98\n",
            "Epoch: 8, validation loss: \t0.11, training accuracy: \t0.97\n",
            "Epoch: 9, training loss: \t0.06, training accuracy: \t0.98\n",
            "Epoch: 9, validation loss: \t0.10, training accuracy: \t0.97\n",
            "Epoch: 10, training loss: \t0.06, training accuracy: \t0.98\n",
            "Epoch: 10, validation loss: \t0.10, training accuracy: \t0.97\n"
          ]
        }
      ]
    },
    {
      "cell_type": "markdown",
      "source": [
        "##Debugging the accuracy"
      ],
      "metadata": {
        "id": "JEvyTvRCIvhh"
      }
    },
    {
      "cell_type": "markdown",
      "source": [
        "(Pdb) p l.size() >>\n",
        "torch.Size([32, 10])\n",
        "\n",
        "(Pdb) p l[0] >>\n",
        "tensor([-1.2800, -3.7171, -3.1333,  1.7426,  1.8951,  9.9960,  0.2454, -8.6478,\n",
        "         4.0316, -0.0792], device='cuda:0', grad_fn=<SelectBackward0>)\n",
        "\n",
        "(Pdb) p l[0].detach().argmax() >>\n",
        "tensor(5, device='cuda:0')\n",
        "\n",
        "(Pdb) p l[0].detach().softmax(dim=0) >>\n",
        "tensor([1.2632e-05, 1.1043e-06, 1.9798e-06, 2.5952e-04, 3.0230e-04, 9.9676e-01,\n",
        "        5.8069e-05, 7.9746e-09, 2.5602e-03, 4.1974e-05], device='cuda:0')\n",
        "\n",
        "(Pdb) p [f\"{p:.2f}\" for p in l[0].detach().softmax(dim=0)] >>\n",
        "['0.00', '0.00', '0.00', '0.00', '0.00', '1.00', '0.00', '0.00', '0.00', '0.00']\n",
        "\n",
        "(Pdb) p y.size() >>\n",
        "torch.Size([32])\n",
        "\n",
        "(Pdb) p y[:4] >>\n",
        "tensor([5, 5, 4, 9])\n",
        "\n",
        "(Pdb) p l.detach().argmax(dim=0)[:4] >>\n",
        "tensor([ 8, 17,  4,  9], device='cuda:0')\n",
        "\n",
        "(Pdb) p l.detach().argmax(dim=1)[:4] >>\n",
        "tensor([5, 8, 4, 9], device='cuda:0')\n",
        "\n",
        "(Pdb) p y[:4].eq(l.detach().argmax(dim=1).cpu()[:4]) >>\n",
        "tensor([ True, False,  True,  True])\n",
        "\n",
        "(Pdb) p y[:4].eq(l.detach().argmax(dim=1).cpu()[:4]).float().mean() >>\n",
        "tensor(0.7500)\n",
        "\n",
        "(Pdb) p y.eq(l.detach().argmax(dim=1).cpu()).float().mean() >>\n",
        "tensor(0.9375)\n",
        "\n",
        "(Pdb) q"
      ],
      "metadata": {
        "id": "V6LqQqGD_GEU"
      }
    }
  ]
}