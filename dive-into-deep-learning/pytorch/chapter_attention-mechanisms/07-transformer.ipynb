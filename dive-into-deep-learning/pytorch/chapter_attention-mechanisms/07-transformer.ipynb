{
  "cells": [
    {
      "cell_type": "markdown",
      "metadata": {
        "id": "view-in-github",
        "colab_type": "text"
      },
      "source": [
        "<a href=\"https://colab.research.google.com/github/rahiakela/deep-learning-research-and-practice/blob/main/dive-into-deep-learning/pytorch/chapter_attention-mechanisms/07-transformer.ipynb\" target=\"_parent\"><img src=\"https://colab.research.google.com/assets/colab-badge.svg\" alt=\"Open In Colab\"/></a>"
      ]
    },
    {
      "cell_type": "markdown",
      "metadata": {
        "origin_pos": 0,
        "id": "fcO_5lQKOvLY"
      },
      "source": [
        "## Transformer\n"
      ]
    },
    {
      "cell_type": "markdown",
      "source": [
        "We have compared CNNs, RNNs, and self-attention in\n",
        ":numref:`subsec_cnn-rnn-self-attention`.\n",
        "Notably,\n",
        "self-attention\n",
        "enjoys both parallel computation and\n",
        "the shortest maximum path length.\n",
        "Therefore natually,\n",
        "it is appealing to design deep architectures\n",
        "by using self-attention.\n",
        "Unlike earlier self-attention models\n",
        "that still rely on RNNs for input representations :cite:`Cheng.Dong.Lapata.2016,Lin.Feng.Santos.ea.2017,Paulus.Xiong.Socher.2017`,\n",
        "the transformer model\n",
        "is solely based on attention mechanisms\n",
        "without any convolutional or recurrent layer :cite:`Vaswani.Shazeer.Parmar.ea.2017`.\n",
        "Though originally proposed\n",
        "for sequence to sequence learning on text data,\n",
        "transformers have been\n",
        "pervasive in a wide range of\n",
        "modern deep learning applications,\n",
        "such as in areas of language, vision, speech, and reinforcement learning."
      ],
      "metadata": {
        "id": "cnyCvWfzOzvi"
      }
    },
    {
      "cell_type": "markdown",
      "source": [
        "## Model"
      ],
      "metadata": {
        "id": "_0ua-HbDO6xQ"
      }
    },
    {
      "cell_type": "markdown",
      "source": [
        "As an instance of the encoder-decoder\n",
        "architecture,\n",
        "the overall architecture of\n",
        "the transformer\n",
        "is presented.\n",
        "As we can see,\n",
        "the transformer is composed of an encoder and a decoder.\n",
        "Different from\n",
        "Bahdanau attention\n",
        "for sequence to sequence learning,\n",
        "the input (source) and output (target)\n",
        "sequence embeddings\n",
        "are added with positional encoding\n",
        "before being fed into\n",
        "the encoder and the decoder\n",
        "that stack modules based on self-attention.\n",
        "\n",
        "![The transformer architecture.](https://github.com/rahiakela/deep-learning-research-and-practice/blob/main/dive-into-deep-learning/img/transformer.svg?raw=1)\n",
        "\n",
        "\n",
        "\n",
        "Now we provide an overview of the\n",
        "transformer architecture.\n",
        "On a high level,\n",
        "the transformer encoder is a stack of multiple identical layers,\n",
        "where each layer\n",
        "has two sublayers (either is denoted as $\\mathrm{sublayer}$).\n",
        "The first\n",
        "is a multi-head self-attention pooling\n",
        "and the second is a positionwise feed-forward network.\n",
        "Specifically,\n",
        "in the encoder self-attention,\n",
        "queries, keys, and values are all from the\n",
        "the outputs of the previous encoder layer.\n",
        "Inspired by the ResNet design,\n",
        "a residual connection is employed\n",
        "around both sublayers.\n",
        "In the transformer,\n",
        "for any input $\\mathbf{x} \\in \\mathbb{R}^d$ at any position of the sequence,\n",
        "we require that $\\mathrm{sublayer}(\\mathbf{x}) \\in \\mathbb{R}^d$ so that\n",
        "the residual connection $\\mathbf{x} + \\mathrm{sublayer}(\\mathbf{x}) \\in \\mathbb{R}^d$ is feasible.\n",
        "This addition from the residual connection is immediately\n",
        "followed by layer normalization :cite:`Ba.Kiros.Hinton.2016`.\n",
        "As a result, the transformer encoder outputs a $d$-dimensional vector representation for each position of the input sequence.\n",
        "\n",
        "The transformer decoder is also\n",
        "a stack of multiple identical layers with residual connections and layer normalizations.\n",
        "Besides the two sublayers described in\n",
        "the encoder, the decoder inserts\n",
        "a third sublayer, known as\n",
        "the encoder-decoder attention,\n",
        "between these two.\n",
        "In the encoder-decoder attention,\n",
        "queries are from the\n",
        "outputs of the previous decoder layer,\n",
        "and the keys and values are\n",
        "from the transformer encoder outputs.\n",
        "In the decoder self-attention,\n",
        "queries, keys, and values are all from the\n",
        "the outputs of the previous decoder layer.\n",
        "However,\n",
        "each position in the decoder is\n",
        "allowed to only attend to all positions in the decoder\n",
        "up to that position.\n",
        "This *masked* attention\n",
        "preserves the auto-regressive property,\n",
        "ensuring that the prediction only depends on those output tokens that have been generated.\n",
        "\n",
        "\n",
        "We have already described and implemented\n",
        "multi-head attention based on scaled dot-products\n",
        "and positional encoding.\n",
        "In the following,\n",
        "we will implement the rest of the transformer model."
      ],
      "metadata": {
        "id": "7uc3s8sHO-09"
      }
    },
    {
      "cell_type": "markdown",
      "source": [
        "##Setup"
      ],
      "metadata": {
        "id": "LIrt4v7sPfua"
      }
    },
    {
      "cell_type": "code",
      "source": [
        "%%shell\n",
        "\n",
        "pip install d2l\n",
        "pip uninstall matplotlib\n",
        "python -m pip install --upgrade pip\n",
        "pip install matplotlib"
      ],
      "metadata": {
        "id": "XiXniGLbPgvw"
      },
      "execution_count": null,
      "outputs": []
    },
    {
      "cell_type": "code",
      "execution_count": 1,
      "metadata": {
        "origin_pos": 2,
        "tab": [
          "pytorch"
        ],
        "id": "feOrpYTEOvLg"
      },
      "outputs": [],
      "source": [
        "import math\n",
        "import pandas as pd\n",
        "import torch\n",
        "from torch import nn\n",
        "from d2l import torch as d2l"
      ]
    },
    {
      "cell_type": "markdown",
      "source": [
        "##Positionwise Feed-Forward Networks"
      ],
      "metadata": {
        "id": "O3lFc9zkPilN"
      }
    },
    {
      "cell_type": "markdown",
      "metadata": {
        "origin_pos": 4,
        "id": "DqWIO9IDOvLi"
      },
      "source": [
        "The positionwise feed-forward network\n",
        "transforms\n",
        "the representation at all the sequence positions\n",
        "using the same MLP.\n",
        "This is why we call it *positionwise*.\n",
        "In the implementation below,\n",
        "the input `X` with shape\n",
        "(batch size, number of time steps or sequence length in tokens, number of hidden units or feature dimension)\n",
        "will be transformed by a two-layer MLP into\n",
        "an output tensor of shape\n",
        "(batch size, number of time steps, `ffn_num_outputs`).\n"
      ]
    },
    {
      "cell_type": "code",
      "execution_count": 2,
      "metadata": {
        "origin_pos": 6,
        "tab": [
          "pytorch"
        ],
        "id": "r5XSH-trOvLj"
      },
      "outputs": [],
      "source": [
        "class PositionWiseFFN(nn.Module):\n",
        "    \"\"\"Positionwise feed-forward network.\"\"\"\n",
        "    def __init__(self, ffn_num_input, ffn_num_hiddens, ffn_num_outputs, **kwargs):\n",
        "        super(PositionWiseFFN, self).__init__(**kwargs)\n",
        "        self.dense1 = nn.Linear(ffn_num_input, ffn_num_hiddens)\n",
        "        self.relu = nn.ReLU()\n",
        "        self.dense2 = nn.Linear(ffn_num_hiddens, ffn_num_outputs)\n",
        "\n",
        "    def forward(self, X):\n",
        "        return self.dense2(self.relu(self.dense1(X)))"
      ]
    },
    {
      "cell_type": "markdown",
      "metadata": {
        "origin_pos": 8,
        "id": "v1koBh6TOvLj"
      },
      "source": [
        "The following example\n",
        "shows that [**the innermost dimension\n",
        "of a tensor changes**] to\n",
        "the number of outputs in\n",
        "the positionwise feed-forward network.\n",
        "Since the same MLP transforms\n",
        "at all the positions,\n",
        "when the inputs at all these positions are the same,\n",
        "their outputs are also identical.\n"
      ]
    },
    {
      "cell_type": "code",
      "execution_count": 3,
      "metadata": {
        "origin_pos": 10,
        "tab": [
          "pytorch"
        ],
        "id": "ycohO9QROvLk",
        "outputId": "0fda9fb5-9815-4623-b5cc-666797b43628",
        "colab": {
          "base_uri": "https://localhost:8080/"
        }
      },
      "outputs": [
        {
          "output_type": "execute_result",
          "data": {
            "text/plain": [
              "tensor([[-0.6784, -0.9712, -1.1716, -0.4825, -0.1772, -0.5208,  0.1775,  0.8510],\n",
              "        [-0.6784, -0.9712, -1.1716, -0.4825, -0.1772, -0.5208,  0.1775,  0.8510],\n",
              "        [-0.6784, -0.9712, -1.1716, -0.4825, -0.1772, -0.5208,  0.1775,  0.8510]],\n",
              "       grad_fn=<SelectBackward0>)"
            ]
          },
          "metadata": {},
          "execution_count": 3
        }
      ],
      "source": [
        "ffn = PositionWiseFFN(4, 4, 8)\n",
        "ffn.eval()\n",
        "ffn(torch.ones((2, 3, 4)))[0]"
      ]
    },
    {
      "cell_type": "markdown",
      "metadata": {
        "origin_pos": 12,
        "id": "qVMHvhqQOvLl"
      },
      "source": [
        "## Residual Connection and Layer Normalization\n"
      ]
    },
    {
      "cell_type": "markdown",
      "source": [
        "Now let us focus on\n",
        "the \"add & norm\" component.\n",
        "As we described at the beginning\n",
        "of this section,\n",
        "this is a residual connection immediately\n",
        "followed by layer normalization.\n",
        "Both are key to effective deep architectures.\n",
        "\n",
        "We explained how batch normalization\n",
        "recenters and rescales across the examples within\n",
        "a minibatch.\n",
        "Layer normalization is the same as batch normalization\n",
        "except that the former\n",
        "normalizes across the feature dimension.\n",
        "Despite its pervasive applications\n",
        "in computer vision,\n",
        "batch normalization\n",
        "is usually empirically\n",
        "less effective than layer normalization\n",
        "in natural language processing\n",
        "tasks, whose inputs are often\n",
        "variable-length sequences.\n",
        "\n",
        "The following code snippet\n",
        "[**compares the normalization across different dimensions\n",
        "by layer normalization and batch normalization**].\n"
      ],
      "metadata": {
        "id": "sLvKT1HJOaTQ"
      }
    },
    {
      "cell_type": "code",
      "execution_count": 4,
      "metadata": {
        "origin_pos": 14,
        "tab": [
          "pytorch"
        ],
        "id": "L12tM3TaOvLm",
        "outputId": "6d978bd7-050b-41f5-ca1f-43ab2521c198",
        "colab": {
          "base_uri": "https://localhost:8080/"
        }
      },
      "outputs": [
        {
          "output_type": "stream",
          "name": "stdout",
          "text": [
            "layer norm: tensor([[-1.0000,  1.0000],\n",
            "        [-1.0000,  1.0000]], grad_fn=<NativeLayerNormBackward0>) \n",
            "batch norm: tensor([[-1.0000, -1.0000],\n",
            "        [ 1.0000,  1.0000]], grad_fn=<NativeBatchNormBackward0>)\n"
          ]
        }
      ],
      "source": [
        "ln = nn.LayerNorm(2)\n",
        "bn = nn.BatchNorm1d(2)\n",
        "\n",
        "X = torch.tensor([[1, 2], [2, 3]], dtype=torch.float32)\n",
        "# Compute mean and variance from `X` in the training mode\n",
        "print('layer norm:', ln(X), '\\nbatch norm:', bn(X))"
      ]
    },
    {
      "cell_type": "markdown",
      "metadata": {
        "origin_pos": 16,
        "id": "ki8aPs68OvLn"
      },
      "source": [
        "Now we can implement the `AddNorm` class\n",
        "[**using a residual connection followed by layer normalization**].\n",
        "Dropout is also applied for regularization.\n"
      ]
    },
    {
      "cell_type": "code",
      "execution_count": 5,
      "metadata": {
        "origin_pos": 18,
        "tab": [
          "pytorch"
        ],
        "id": "7eP494eYOvLo"
      },
      "outputs": [],
      "source": [
        "class AddNorm(nn.Module):\n",
        "    \"\"\"Residual connection followed by layer normalization.\"\"\"\n",
        "    def __init__(self, normalized_shape, dropout, **kwargs):\n",
        "        super(AddNorm, self).__init__(**kwargs)\n",
        "        self.dropout = nn.Dropout(dropout)\n",
        "        self.ln = nn.LayerNorm(normalized_shape)\n",
        "\n",
        "    def forward(self, X, Y):\n",
        "        return self.ln(self.dropout(Y) + X)"
      ]
    },
    {
      "cell_type": "markdown",
      "metadata": {
        "origin_pos": 20,
        "id": "x3GuMsyBOvLp"
      },
      "source": [
        "The residual connection requires that\n",
        "the two inputs are of the same shape\n",
        "so that [**the output tensor also has the same shape after the addition operation**].\n"
      ]
    },
    {
      "cell_type": "code",
      "execution_count": 6,
      "metadata": {
        "origin_pos": 22,
        "tab": [
          "pytorch"
        ],
        "id": "a0cc7ku2OvLp",
        "outputId": "f02e3a34-3498-4908-efa3-82ef8483f330",
        "colab": {
          "base_uri": "https://localhost:8080/"
        }
      },
      "outputs": [
        {
          "output_type": "execute_result",
          "data": {
            "text/plain": [
              "torch.Size([2, 3, 4])"
            ]
          },
          "metadata": {},
          "execution_count": 6
        }
      ],
      "source": [
        "add_norm = AddNorm([3, 4], 0.5) # Normalized_shape is input.size()[1:]\n",
        "add_norm.eval()\n",
        "add_norm(torch.ones((2, 3, 4)), torch.ones((2, 3, 4))).shape"
      ]
    },
    {
      "cell_type": "markdown",
      "source": [
        "## Encoder"
      ],
      "metadata": {
        "id": "BARAvdRknETj"
      }
    },
    {
      "cell_type": "markdown",
      "metadata": {
        "origin_pos": 24,
        "id": "e5dgmZNwOvLq"
      },
      "source": [
        "With all the essential components to assemble\n",
        "the transformer encoder,\n",
        "let us start by\n",
        "implementing [**a single layer within the encoder**].\n",
        "The following `EncoderBlock` class\n",
        "contains two sublayers: multi-head self-attention and positionwise feed-forward networks,\n",
        "where a residual connection followed by layer normalization is employed\n",
        "around both sublayers.\n"
      ]
    },
    {
      "cell_type": "code",
      "execution_count": 7,
      "metadata": {
        "origin_pos": 26,
        "tab": [
          "pytorch"
        ],
        "id": "d_k0VRwxOvLq"
      },
      "outputs": [],
      "source": [
        "class EncoderBlock(nn.Module):\n",
        "    \"\"\"Transformer encoder block.\"\"\"\n",
        "    def __init__(self, key_size, query_size, value_size, num_hiddens, norm_shape, ffn_num_input, ffn_num_hiddens, num_heads, dropout, use_bias=False, **kwargs):\n",
        "        super(EncoderBlock, self).__init__(**kwargs)\n",
        "\n",
        "        self.attention = d2l.MultiHeadAttention(key_size, query_size, value_size, num_hiddens, num_heads, dropout,use_bias)\n",
        "        self.addnorm1 = AddNorm(norm_shape, dropout)\n",
        "        self.ffn = PositionWiseFFN(ffn_num_input, ffn_num_hiddens, num_hiddens)\n",
        "        self.addnorm2 = AddNorm(norm_shape, dropout)\n",
        "\n",
        "    def forward(self, X, valid_lens):\n",
        "        Y = self.addnorm1(X, self.attention(X, X, X, valid_lens))\n",
        "        return self.addnorm2(Y, self.ffn(Y))"
      ]
    },
    {
      "cell_type": "markdown",
      "metadata": {
        "origin_pos": 28,
        "id": "1pqPKedSOvLr"
      },
      "source": [
        "As we can see,\n",
        "[**any layer in the transformer encoder\n",
        "does not change the shape of its input.**]\n"
      ]
    },
    {
      "cell_type": "code",
      "execution_count": 8,
      "metadata": {
        "origin_pos": 30,
        "tab": [
          "pytorch"
        ],
        "id": "L8K7ZItNOvLr",
        "outputId": "1c603631-aa73-48a6-a6a8-c050a5248d58",
        "colab": {
          "base_uri": "https://localhost:8080/"
        }
      },
      "outputs": [
        {
          "output_type": "execute_result",
          "data": {
            "text/plain": [
              "torch.Size([2, 100, 24])"
            ]
          },
          "metadata": {},
          "execution_count": 8
        }
      ],
      "source": [
        "X = torch.ones((2, 100, 24))\n",
        "valid_lens = torch.tensor([3, 2])\n",
        "encoder_blk = EncoderBlock(24, 24, 24, 24, [100, 24], 24, 48, 8, 0.5)\n",
        "encoder_blk.eval()\n",
        "encoder_blk(X, valid_lens).shape"
      ]
    },
    {
      "cell_type": "markdown",
      "metadata": {
        "origin_pos": 32,
        "id": "NPFfZ22hOvLs"
      },
      "source": [
        "In the following [**transformer encoder**] implementation,\n",
        "we stack `num_layers` instances of the above `EncoderBlock` classes.\n",
        "Since we use the fixed positional encoding\n",
        "whose values are always between -1 and 1,\n",
        "we multiply values of the learnable input embeddings\n",
        "by the square root of the embedding dimension\n",
        "to rescale before summing up the input embedding and the positional encoding.\n"
      ]
    },
    {
      "cell_type": "code",
      "execution_count": 9,
      "metadata": {
        "origin_pos": 34,
        "tab": [
          "pytorch"
        ],
        "id": "pFhZYgKhOvLs"
      },
      "outputs": [],
      "source": [
        "class TransformerEncoder(d2l.Encoder):\n",
        "    \"\"\"Transformer encoder.\"\"\"\n",
        "    def __init__(self, vocab_size, key_size, query_size, value_size,\n",
        "                 num_hiddens, norm_shape, ffn_num_input, ffn_num_hiddens,\n",
        "                 num_heads, num_layers, dropout, use_bias=False, **kwargs):\n",
        "        super(TransformerEncoder, self).__init__(**kwargs)\n",
        "\n",
        "        self.num_hiddens = num_hiddens\n",
        "        self.embedding = nn.Embedding(vocab_size, num_hiddens)\n",
        "        self.pos_encoding = d2l.PositionalEncoding(num_hiddens, dropout)\n",
        "        self.blks = nn.Sequential()\n",
        "        for i in range(num_layers):\n",
        "            self.blks.add_module(\"block\"+str(i), EncoderBlock(key_size, query_size, value_size, num_hiddens, norm_shape, ffn_num_input, ffn_num_hiddens, num_heads, dropout, use_bias))\n",
        "\n",
        "    def forward(self, X, valid_lens, *args):\n",
        "        # Since positional encoding values are between -1 and 1, the embedding\n",
        "        # values are multiplied by the square root of the embedding dimension\n",
        "        # to rescale before they are summed up\n",
        "        X = self.pos_encoding(self.embedding(X) * math.sqrt(self.num_hiddens))\n",
        "        self.attention_weights = [None] * len(self.blks)\n",
        "        for i, blk in enumerate(self.blks):\n",
        "            X = blk(X, valid_lens)\n",
        "            self.attention_weights[i] = blk.attention.attention.attention_weights\n",
        "        return X"
      ]
    },
    {
      "cell_type": "markdown",
      "metadata": {
        "origin_pos": 36,
        "id": "5qbsqpceOvLs"
      },
      "source": [
        "Below we specify hyperparameters to [**create a two-layer transformer encoder**].\n",
        "The shape of the transformer encoder output\n",
        "is (batch size, number of time steps, `num_hiddens`).\n"
      ]
    },
    {
      "cell_type": "code",
      "execution_count": 10,
      "metadata": {
        "origin_pos": 38,
        "tab": [
          "pytorch"
        ],
        "id": "Og9GyWPYOvLt",
        "outputId": "a80ca529-1213-4bfc-bb54-f8edaa2a0ff9",
        "colab": {
          "base_uri": "https://localhost:8080/"
        }
      },
      "outputs": [
        {
          "output_type": "execute_result",
          "data": {
            "text/plain": [
              "torch.Size([2, 100, 24])"
            ]
          },
          "metadata": {},
          "execution_count": 10
        }
      ],
      "source": [
        "encoder = TransformerEncoder(200, 24, 24, 24, 24, [100, 24], 24, 48, 8, 2, 0.5)\n",
        "encoder.eval()\n",
        "encoder(torch.ones((2, 100), dtype=torch.long), valid_lens).shape"
      ]
    },
    {
      "cell_type": "markdown",
      "source": [
        "## Decoder"
      ],
      "metadata": {
        "id": "7e6KbPUQm_WS"
      }
    },
    {
      "cell_type": "markdown",
      "metadata": {
        "origin_pos": 40,
        "id": "6WcqcLJqOvLt"
      },
      "source": [
        "As shown,\n",
        "[**the transformer decoder\n",
        "is composed of multiple identical layers**].\n",
        "Each layer is implemented in the following\n",
        "`DecoderBlock` class,\n",
        "which contains three sublayers:\n",
        "decoder self-attention,\n",
        "encoder-decoder attention,\n",
        "and positionwise feed-forward networks.\n",
        "These sublayers employ\n",
        "a residual connection around them\n",
        "followed by layer normalization.\n",
        "\n",
        "\n",
        "As we described earlier in this section,\n",
        "in the masked multi-head decoder self-attention\n",
        "(the first sublayer),\n",
        "queries, keys, and values\n",
        "all come from the outputs of the previous decoder layer.\n",
        "When training sequence-to-sequence models,\n",
        "tokens at all the positions (time steps)\n",
        "of the output sequence\n",
        "are known.\n",
        "However,\n",
        "during prediction\n",
        "the output sequence is generated token by token;\n",
        "thus,\n",
        "at any decoder time step\n",
        "only the generated tokens\n",
        "can be used in the decoder self-attention.\n",
        "To preserve auto-regression in the decoder,\n",
        "its masked self-attention\n",
        "specifies  `dec_valid_lens` so that\n",
        "any query\n",
        "only attends to\n",
        "all positions in the decoder\n",
        "up to the query position.\n"
      ]
    },
    {
      "cell_type": "code",
      "execution_count": 11,
      "metadata": {
        "origin_pos": 42,
        "tab": [
          "pytorch"
        ],
        "id": "e7VmJOqhOvLu"
      },
      "outputs": [],
      "source": [
        "class DecoderBlock(nn.Module):\n",
        "    # The `i`-th block in the decoder\n",
        "    def __init__(self, key_size, query_size, value_size, num_hiddens, norm_shape, ffn_num_input, ffn_num_hiddens, num_heads, dropout, i, **kwargs):\n",
        "        super(DecoderBlock, self).__init__(**kwargs)\n",
        "\n",
        "        self.i = i\n",
        "        self.attention1 = d2l.MultiHeadAttention(key_size, query_size, value_size, num_hiddens, num_heads, dropout)\n",
        "        self.addnorm1 = AddNorm(norm_shape, dropout)\n",
        "        self.attention2 = d2l.MultiHeadAttention(key_size, query_size, value_size, num_hiddens, num_heads, dropout)\n",
        "        self.addnorm2 = AddNorm(norm_shape, dropout)\n",
        "        self.ffn = PositionWiseFFN(ffn_num_input, ffn_num_hiddens, num_hiddens)\n",
        "        self.addnorm3 = AddNorm(norm_shape, dropout)\n",
        "\n",
        "    def forward(self, X, state):\n",
        "        enc_outputs, enc_valid_lens = state[0], state[1]\n",
        "        # During training, all the tokens of any output sequence are processed\n",
        "        # at the same time, so `state[2][self.i]` is `None` as initialized.\n",
        "        # When decoding any output sequence token by token during prediction,\n",
        "        # `state[2][self.i]` contains representations of the decoded output at\n",
        "        # the `i`-th block up to the current time step\n",
        "        if state[2][self.i] is None:\n",
        "            key_values = X\n",
        "        else:\n",
        "            key_values = torch.cat((state[2][self.i], X), axis=1)\n",
        "        state[2][self.i] = key_values\n",
        "        if self.training:\n",
        "            batch_size, num_steps, _ = X.shape\n",
        "            # Shape of `dec_valid_lens`: (`batch_size`, `num_steps`), where\n",
        "            # every row is [1, 2, ..., `num_steps`]\n",
        "            dec_valid_lens = torch.arange(1, num_steps + 1, device=X.device).repeat(batch_size, 1)\n",
        "        else:\n",
        "            dec_valid_lens = None\n",
        "\n",
        "        # Self-attention\n",
        "        X2 = self.attention1(X, key_values, key_values, dec_valid_lens)\n",
        "        Y = self.addnorm1(X, X2)\n",
        "        # Encoder-decoder attention. Shape of `enc_outputs`:\n",
        "        # (`batch_size`, `num_steps`, `num_hiddens`)\n",
        "        Y2 = self.attention2(Y, enc_outputs, enc_outputs, enc_valid_lens)\n",
        "        Z = self.addnorm2(Y, Y2)\n",
        "        return self.addnorm3(Z, self.ffn(Z)), state"
      ]
    },
    {
      "cell_type": "markdown",
      "metadata": {
        "origin_pos": 44,
        "id": "ZydZu12xOvLu"
      },
      "source": [
        "To facilitate scaled dot-product operations\n",
        "in the encoder-decoder attention\n",
        "and addition operations in the residual connections,\n",
        "[**the feature dimension (`num_hiddens`) of the decoder is\n",
        "the same as that of the encoder.**]\n"
      ]
    },
    {
      "cell_type": "code",
      "execution_count": 12,
      "metadata": {
        "origin_pos": 46,
        "tab": [
          "pytorch"
        ],
        "id": "orIQqnLIOvLv",
        "outputId": "2b03e551-8481-4546-ba32-fcc141e1b6ec",
        "colab": {
          "base_uri": "https://localhost:8080/"
        }
      },
      "outputs": [
        {
          "output_type": "execute_result",
          "data": {
            "text/plain": [
              "torch.Size([2, 100, 24])"
            ]
          },
          "metadata": {},
          "execution_count": 12
        }
      ],
      "source": [
        "decoder_blk = DecoderBlock(24, 24, 24, 24, [100, 24], 24, 48, 8, 0.5, 0)\n",
        "decoder_blk.eval()\n",
        "X = torch.ones((2, 100, 24))\n",
        "state = [encoder_blk(X, valid_lens), valid_lens, [None]]\n",
        "decoder_blk(X, state)[0].shape"
      ]
    },
    {
      "cell_type": "markdown",
      "metadata": {
        "origin_pos": 48,
        "id": "Kj3Zlfv1OvLv"
      },
      "source": [
        "Now we [**construct the entire transformer decoder**]\n",
        "composed of `num_layers` instances of `DecoderBlock`.\n",
        "In the end,\n",
        "a fully-connected layer computes the prediction\n",
        "for all the `vocab_size` possible output tokens.\n",
        "Both of the decoder self-attention weights\n",
        "and the encoder-decoder attention weights\n",
        "are stored for later visualization.\n"
      ]
    },
    {
      "cell_type": "code",
      "execution_count": 13,
      "metadata": {
        "origin_pos": 50,
        "tab": [
          "pytorch"
        ],
        "id": "SPwu6TzgOvLv"
      },
      "outputs": [],
      "source": [
        "class TransformerDecoder(d2l.AttentionDecoder):\n",
        "    def __init__(self, vocab_size, key_size, query_size, value_size, num_hiddens, norm_shape, ffn_num_input, ffn_num_hiddens, num_heads, num_layers, dropout, **kwargs):\n",
        "        super(TransformerDecoder, self).__init__(**kwargs)\n",
        "\n",
        "        self.num_hiddens = num_hiddens\n",
        "        self.num_layers = num_layers\n",
        "        self.embedding = nn.Embedding(vocab_size, num_hiddens)\n",
        "        self.pos_encoding = d2l.PositionalEncoding(num_hiddens, dropout)\n",
        "        self.blks = nn.Sequential()\n",
        "        for i in range(num_layers):\n",
        "            self.blks.add_module(\"block\"+str(i), DecoderBlock(key_size, query_size, value_size, num_hiddens, norm_shape, ffn_num_input, ffn_num_hiddens, num_heads, dropout, i))\n",
        "        self.dense = nn.Linear(num_hiddens, vocab_size)\n",
        "\n",
        "    def init_state(self, enc_outputs, enc_valid_lens, *args):\n",
        "        return [enc_outputs, enc_valid_lens, [None] * self.num_layers]\n",
        "\n",
        "    def forward(self, X, state):\n",
        "        X = self.pos_encoding(self.embedding(X) * math.sqrt(self.num_hiddens))\n",
        "        self._attention_weights = [[None] * len(self.blks) for _ in range (2)]\n",
        "        for i, blk in enumerate(self.blks):\n",
        "            X, state = blk(X, state)\n",
        "            # Decoder self-attention weights\n",
        "            self._attention_weights[0][i] = blk.attention1.attention.attention_weights\n",
        "            # Encoder-decoder attention weights\n",
        "            self._attention_weights[1][i] = blk.attention2.attention.attention_weights\n",
        "        return self.dense(X), state\n",
        "\n",
        "    @property\n",
        "    def attention_weights(self):\n",
        "        return self._attention_weights"
      ]
    },
    {
      "cell_type": "markdown",
      "source": [
        "##Training"
      ],
      "metadata": {
        "id": "beU5nnmAoypm"
      }
    },
    {
      "cell_type": "markdown",
      "metadata": {
        "origin_pos": 52,
        "id": "Clb71FQFOvLw"
      },
      "source": [
        "Let us instantiate an encoder-decoder model\n",
        "by following the transformer architecture.\n",
        "Here we specify that\n",
        "both the transformer encoder and the transformer decoder\n",
        "have 2 layers using 4-head attention.\n",
        "We train the transformer model\n",
        "for sequence to sequence learning on the English-French machine translation dataset.\n"
      ]
    },
    {
      "cell_type": "code",
      "execution_count": 14,
      "metadata": {
        "origin_pos": 54,
        "tab": [
          "pytorch"
        ],
        "id": "X1wVIyUYOvLw",
        "outputId": "95655a36-3034-4f79-b3bc-8276b948462c",
        "colab": {
          "base_uri": "https://localhost:8080/",
          "height": 279
        }
      },
      "outputs": [
        {
          "output_type": "stream",
          "name": "stdout",
          "text": [
            "loss 0.033, 4598.6 tokens/sec on cpu\n"
          ]
        },
        {
          "output_type": "display_data",
          "data": {
            "text/plain": [
              "<Figure size 252x180 with 1 Axes>"
            ],
            "image/svg+xml": "<?xml version=\"1.0\" encoding=\"utf-8\" standalone=\"no\"?>\n<!DOCTYPE svg PUBLIC \"-//W3C//DTD SVG 1.1//EN\"\n  \"http://www.w3.org/Graphics/SVG/1.1/DTD/svg11.dtd\">\n<svg xmlns:xlink=\"http://www.w3.org/1999/xlink\" width=\"262.1875pt\" height=\"180.65625pt\" viewBox=\"0 0 262.1875 180.65625\" xmlns=\"http://www.w3.org/2000/svg\" version=\"1.1\">\n <metadata>\n  <rdf:RDF xmlns:dc=\"http://purl.org/dc/elements/1.1/\" xmlns:cc=\"http://creativecommons.org/ns#\" xmlns:rdf=\"http://www.w3.org/1999/02/22-rdf-syntax-ns#\">\n   <cc:Work>\n    <dc:type rdf:resource=\"http://purl.org/dc/dcmitype/StillImage\"/>\n    <dc:date>2022-02-18T12:05:35.436176</dc:date>\n    <dc:format>image/svg+xml</dc:format>\n    <dc:creator>\n     <cc:Agent>\n      <dc:title>Matplotlib v3.5.1, https://matplotlib.org/</dc:title>\n     </cc:Agent>\n    </dc:creator>\n   </cc:Work>\n  </rdf:RDF>\n </metadata>\n <defs>\n  <style type=\"text/css\">*{stroke-linejoin: round; stroke-linecap: butt}</style>\n </defs>\n <g id=\"figure_1\">\n  <g id=\"patch_1\">\n   <path d=\"M 0 180.65625 \nL 262.1875 180.65625 \nL 262.1875 0 \nL 0 0 \nL 0 180.65625 \nz\n\" style=\"fill: none\"/>\n  </g>\n  <g id=\"axes_1\">\n   <g id=\"patch_2\">\n    <path d=\"M 50.14375 143.1 \nL 245.44375 143.1 \nL 245.44375 7.2 \nL 50.14375 7.2 \nz\n\" style=\"fill: #ffffff\"/>\n   </g>\n   <g id=\"matplotlib.axis_1\">\n    <g id=\"xtick_1\">\n     <g id=\"line2d_1\">\n      <path d=\"M 91.259539 143.1 \nL 91.259539 7.2 \n\" clip-path=\"url(#pf97a3ea0bd)\" style=\"fill: none; stroke: #b0b0b0; stroke-width: 0.8; stroke-linecap: square\"/>\n     </g>\n     <g id=\"line2d_2\">\n      <defs>\n       <path id=\"m13cee22612\" d=\"M 0 0 \nL 0 3.5 \n\" style=\"stroke: #000000; stroke-width: 0.8\"/>\n      </defs>\n      <g>\n       <use xlink:href=\"#m13cee22612\" x=\"91.259539\" y=\"143.1\" style=\"stroke: #000000; stroke-width: 0.8\"/>\n      </g>\n     </g>\n     <g id=\"text_1\">\n      <!-- 50 -->\n      <g transform=\"translate(84.897039 157.698438)scale(0.1 -0.1)\">\n       <defs>\n        <path id=\"DejaVuSans-35\" d=\"M 691 4666 \nL 3169 4666 \nL 3169 4134 \nL 1269 4134 \nL 1269 2991 \nQ 1406 3038 1543 3061 \nQ 1681 3084 1819 3084 \nQ 2600 3084 3056 2656 \nQ 3513 2228 3513 1497 \nQ 3513 744 3044 326 \nQ 2575 -91 1722 -91 \nQ 1428 -91 1123 -41 \nQ 819 9 494 109 \nL 494 744 \nQ 775 591 1075 516 \nQ 1375 441 1709 441 \nQ 2250 441 2565 725 \nQ 2881 1009 2881 1497 \nQ 2881 1984 2565 2268 \nQ 2250 2553 1709 2553 \nQ 1456 2553 1204 2497 \nQ 953 2441 691 2322 \nL 691 4666 \nz\n\" transform=\"scale(0.015625)\"/>\n        <path id=\"DejaVuSans-30\" d=\"M 2034 4250 \nQ 1547 4250 1301 3770 \nQ 1056 3291 1056 2328 \nQ 1056 1369 1301 889 \nQ 1547 409 2034 409 \nQ 2525 409 2770 889 \nQ 3016 1369 3016 2328 \nQ 3016 3291 2770 3770 \nQ 2525 4250 2034 4250 \nz\nM 2034 4750 \nQ 2819 4750 3233 4129 \nQ 3647 3509 3647 2328 \nQ 3647 1150 3233 529 \nQ 2819 -91 2034 -91 \nQ 1250 -91 836 529 \nQ 422 1150 422 2328 \nQ 422 3509 836 4129 \nQ 1250 4750 2034 4750 \nz\n\" transform=\"scale(0.015625)\"/>\n       </defs>\n       <use xlink:href=\"#DejaVuSans-35\"/>\n       <use xlink:href=\"#DejaVuSans-30\" x=\"63.623047\"/>\n      </g>\n     </g>\n    </g>\n    <g id=\"xtick_2\">\n     <g id=\"line2d_3\">\n      <path d=\"M 142.654276 143.1 \nL 142.654276 7.2 \n\" clip-path=\"url(#pf97a3ea0bd)\" style=\"fill: none; stroke: #b0b0b0; stroke-width: 0.8; stroke-linecap: square\"/>\n     </g>\n     <g id=\"line2d_4\">\n      <g>\n       <use xlink:href=\"#m13cee22612\" x=\"142.654276\" y=\"143.1\" style=\"stroke: #000000; stroke-width: 0.8\"/>\n      </g>\n     </g>\n     <g id=\"text_2\">\n      <!-- 100 -->\n      <g transform=\"translate(133.110526 157.698438)scale(0.1 -0.1)\">\n       <defs>\n        <path id=\"DejaVuSans-31\" d=\"M 794 531 \nL 1825 531 \nL 1825 4091 \nL 703 3866 \nL 703 4441 \nL 1819 4666 \nL 2450 4666 \nL 2450 531 \nL 3481 531 \nL 3481 0 \nL 794 0 \nL 794 531 \nz\n\" transform=\"scale(0.015625)\"/>\n       </defs>\n       <use xlink:href=\"#DejaVuSans-31\"/>\n       <use xlink:href=\"#DejaVuSans-30\" x=\"63.623047\"/>\n       <use xlink:href=\"#DejaVuSans-30\" x=\"127.246094\"/>\n      </g>\n     </g>\n    </g>\n    <g id=\"xtick_3\">\n     <g id=\"line2d_5\">\n      <path d=\"M 194.049013 143.1 \nL 194.049013 7.2 \n\" clip-path=\"url(#pf97a3ea0bd)\" style=\"fill: none; stroke: #b0b0b0; stroke-width: 0.8; stroke-linecap: square\"/>\n     </g>\n     <g id=\"line2d_6\">\n      <g>\n       <use xlink:href=\"#m13cee22612\" x=\"194.049013\" y=\"143.1\" style=\"stroke: #000000; stroke-width: 0.8\"/>\n      </g>\n     </g>\n     <g id=\"text_3\">\n      <!-- 150 -->\n      <g transform=\"translate(184.505263 157.698438)scale(0.1 -0.1)\">\n       <use xlink:href=\"#DejaVuSans-31\"/>\n       <use xlink:href=\"#DejaVuSans-35\" x=\"63.623047\"/>\n       <use xlink:href=\"#DejaVuSans-30\" x=\"127.246094\"/>\n      </g>\n     </g>\n    </g>\n    <g id=\"xtick_4\">\n     <g id=\"line2d_7\">\n      <path d=\"M 245.44375 143.1 \nL 245.44375 7.2 \n\" clip-path=\"url(#pf97a3ea0bd)\" style=\"fill: none; stroke: #b0b0b0; stroke-width: 0.8; stroke-linecap: square\"/>\n     </g>\n     <g id=\"line2d_8\">\n      <g>\n       <use xlink:href=\"#m13cee22612\" x=\"245.44375\" y=\"143.1\" style=\"stroke: #000000; stroke-width: 0.8\"/>\n      </g>\n     </g>\n     <g id=\"text_4\">\n      <!-- 200 -->\n      <g transform=\"translate(235.9 157.698438)scale(0.1 -0.1)\">\n       <defs>\n        <path id=\"DejaVuSans-32\" d=\"M 1228 531 \nL 3431 531 \nL 3431 0 \nL 469 0 \nL 469 531 \nQ 828 903 1448 1529 \nQ 2069 2156 2228 2338 \nQ 2531 2678 2651 2914 \nQ 2772 3150 2772 3378 \nQ 2772 3750 2511 3984 \nQ 2250 4219 1831 4219 \nQ 1534 4219 1204 4116 \nQ 875 4013 500 3803 \nL 500 4441 \nQ 881 4594 1212 4672 \nQ 1544 4750 1819 4750 \nQ 2544 4750 2975 4387 \nQ 3406 4025 3406 3419 \nQ 3406 3131 3298 2873 \nQ 3191 2616 2906 2266 \nQ 2828 2175 2409 1742 \nQ 1991 1309 1228 531 \nz\n\" transform=\"scale(0.015625)\"/>\n       </defs>\n       <use xlink:href=\"#DejaVuSans-32\"/>\n       <use xlink:href=\"#DejaVuSans-30\" x=\"63.623047\"/>\n       <use xlink:href=\"#DejaVuSans-30\" x=\"127.246094\"/>\n      </g>\n     </g>\n    </g>\n    <g id=\"text_5\">\n     <!-- epoch -->\n     <g transform=\"translate(132.565625 171.376563)scale(0.1 -0.1)\">\n      <defs>\n       <path id=\"DejaVuSans-65\" d=\"M 3597 1894 \nL 3597 1613 \nL 953 1613 \nQ 991 1019 1311 708 \nQ 1631 397 2203 397 \nQ 2534 397 2845 478 \nQ 3156 559 3463 722 \nL 3463 178 \nQ 3153 47 2828 -22 \nQ 2503 -91 2169 -91 \nQ 1331 -91 842 396 \nQ 353 884 353 1716 \nQ 353 2575 817 3079 \nQ 1281 3584 2069 3584 \nQ 2775 3584 3186 3129 \nQ 3597 2675 3597 1894 \nz\nM 3022 2063 \nQ 3016 2534 2758 2815 \nQ 2500 3097 2075 3097 \nQ 1594 3097 1305 2825 \nQ 1016 2553 972 2059 \nL 3022 2063 \nz\n\" transform=\"scale(0.015625)\"/>\n       <path id=\"DejaVuSans-70\" d=\"M 1159 525 \nL 1159 -1331 \nL 581 -1331 \nL 581 3500 \nL 1159 3500 \nL 1159 2969 \nQ 1341 3281 1617 3432 \nQ 1894 3584 2278 3584 \nQ 2916 3584 3314 3078 \nQ 3713 2572 3713 1747 \nQ 3713 922 3314 415 \nQ 2916 -91 2278 -91 \nQ 1894 -91 1617 61 \nQ 1341 213 1159 525 \nz\nM 3116 1747 \nQ 3116 2381 2855 2742 \nQ 2594 3103 2138 3103 \nQ 1681 3103 1420 2742 \nQ 1159 2381 1159 1747 \nQ 1159 1113 1420 752 \nQ 1681 391 2138 391 \nQ 2594 391 2855 752 \nQ 3116 1113 3116 1747 \nz\n\" transform=\"scale(0.015625)\"/>\n       <path id=\"DejaVuSans-6f\" d=\"M 1959 3097 \nQ 1497 3097 1228 2736 \nQ 959 2375 959 1747 \nQ 959 1119 1226 758 \nQ 1494 397 1959 397 \nQ 2419 397 2687 759 \nQ 2956 1122 2956 1747 \nQ 2956 2369 2687 2733 \nQ 2419 3097 1959 3097 \nz\nM 1959 3584 \nQ 2709 3584 3137 3096 \nQ 3566 2609 3566 1747 \nQ 3566 888 3137 398 \nQ 2709 -91 1959 -91 \nQ 1206 -91 779 398 \nQ 353 888 353 1747 \nQ 353 2609 779 3096 \nQ 1206 3584 1959 3584 \nz\n\" transform=\"scale(0.015625)\"/>\n       <path id=\"DejaVuSans-63\" d=\"M 3122 3366 \nL 3122 2828 \nQ 2878 2963 2633 3030 \nQ 2388 3097 2138 3097 \nQ 1578 3097 1268 2742 \nQ 959 2388 959 1747 \nQ 959 1106 1268 751 \nQ 1578 397 2138 397 \nQ 2388 397 2633 464 \nQ 2878 531 3122 666 \nL 3122 134 \nQ 2881 22 2623 -34 \nQ 2366 -91 2075 -91 \nQ 1284 -91 818 406 \nQ 353 903 353 1747 \nQ 353 2603 823 3093 \nQ 1294 3584 2113 3584 \nQ 2378 3584 2631 3529 \nQ 2884 3475 3122 3366 \nz\n\" transform=\"scale(0.015625)\"/>\n       <path id=\"DejaVuSans-68\" d=\"M 3513 2113 \nL 3513 0 \nL 2938 0 \nL 2938 2094 \nQ 2938 2591 2744 2837 \nQ 2550 3084 2163 3084 \nQ 1697 3084 1428 2787 \nQ 1159 2491 1159 1978 \nL 1159 0 \nL 581 0 \nL 581 4863 \nL 1159 4863 \nL 1159 2956 \nQ 1366 3272 1645 3428 \nQ 1925 3584 2291 3584 \nQ 2894 3584 3203 3211 \nQ 3513 2838 3513 2113 \nz\n\" transform=\"scale(0.015625)\"/>\n      </defs>\n      <use xlink:href=\"#DejaVuSans-65\"/>\n      <use xlink:href=\"#DejaVuSans-70\" x=\"61.523438\"/>\n      <use xlink:href=\"#DejaVuSans-6f\" x=\"125\"/>\n      <use xlink:href=\"#DejaVuSans-63\" x=\"186.181641\"/>\n      <use xlink:href=\"#DejaVuSans-68\" x=\"241.162109\"/>\n     </g>\n    </g>\n   </g>\n   <g id=\"matplotlib.axis_2\">\n    <g id=\"ytick_1\">\n     <g id=\"line2d_9\">\n      <path d=\"M 50.14375 121.336345 \nL 245.44375 121.336345 \n\" clip-path=\"url(#pf97a3ea0bd)\" style=\"fill: none; stroke: #b0b0b0; stroke-width: 0.8; stroke-linecap: square\"/>\n     </g>\n     <g id=\"line2d_10\">\n      <defs>\n       <path id=\"m8cd8e55224\" d=\"M 0 0 \nL -3.5 0 \n\" style=\"stroke: #000000; stroke-width: 0.8\"/>\n      </defs>\n      <g>\n       <use xlink:href=\"#m8cd8e55224\" x=\"50.14375\" y=\"121.336345\" style=\"stroke: #000000; stroke-width: 0.8\"/>\n      </g>\n     </g>\n     <g id=\"text_6\">\n      <!-- 0.05 -->\n      <g transform=\"translate(20.878125 125.135564)scale(0.1 -0.1)\">\n       <defs>\n        <path id=\"DejaVuSans-2e\" d=\"M 684 794 \nL 1344 794 \nL 1344 0 \nL 684 0 \nL 684 794 \nz\n\" transform=\"scale(0.015625)\"/>\n       </defs>\n       <use xlink:href=\"#DejaVuSans-30\"/>\n       <use xlink:href=\"#DejaVuSans-2e\" x=\"63.623047\"/>\n       <use xlink:href=\"#DejaVuSans-30\" x=\"95.410156\"/>\n       <use xlink:href=\"#DejaVuSans-35\" x=\"159.033203\"/>\n      </g>\n     </g>\n    </g>\n    <g id=\"ytick_2\">\n     <g id=\"line2d_11\">\n      <path d=\"M 50.14375 81.061569 \nL 245.44375 81.061569 \n\" clip-path=\"url(#pf97a3ea0bd)\" style=\"fill: none; stroke: #b0b0b0; stroke-width: 0.8; stroke-linecap: square\"/>\n     </g>\n     <g id=\"line2d_12\">\n      <g>\n       <use xlink:href=\"#m8cd8e55224\" x=\"50.14375\" y=\"81.061569\" style=\"stroke: #000000; stroke-width: 0.8\"/>\n      </g>\n     </g>\n     <g id=\"text_7\">\n      <!-- 0.10 -->\n      <g transform=\"translate(20.878125 84.860788)scale(0.1 -0.1)\">\n       <use xlink:href=\"#DejaVuSans-30\"/>\n       <use xlink:href=\"#DejaVuSans-2e\" x=\"63.623047\"/>\n       <use xlink:href=\"#DejaVuSans-31\" x=\"95.410156\"/>\n       <use xlink:href=\"#DejaVuSans-30\" x=\"159.033203\"/>\n      </g>\n     </g>\n    </g>\n    <g id=\"ytick_3\">\n     <g id=\"line2d_13\">\n      <path d=\"M 50.14375 40.786793 \nL 245.44375 40.786793 \n\" clip-path=\"url(#pf97a3ea0bd)\" style=\"fill: none; stroke: #b0b0b0; stroke-width: 0.8; stroke-linecap: square\"/>\n     </g>\n     <g id=\"line2d_14\">\n      <g>\n       <use xlink:href=\"#m8cd8e55224\" x=\"50.14375\" y=\"40.786793\" style=\"stroke: #000000; stroke-width: 0.8\"/>\n      </g>\n     </g>\n     <g id=\"text_8\">\n      <!-- 0.15 -->\n      <g transform=\"translate(20.878125 44.586012)scale(0.1 -0.1)\">\n       <use xlink:href=\"#DejaVuSans-30\"/>\n       <use xlink:href=\"#DejaVuSans-2e\" x=\"63.623047\"/>\n       <use xlink:href=\"#DejaVuSans-31\" x=\"95.410156\"/>\n       <use xlink:href=\"#DejaVuSans-35\" x=\"159.033203\"/>\n      </g>\n     </g>\n    </g>\n    <g id=\"text_9\">\n     <!-- loss -->\n     <g transform=\"translate(14.798437 84.807812)rotate(-90)scale(0.1 -0.1)\">\n      <defs>\n       <path id=\"DejaVuSans-6c\" d=\"M 603 4863 \nL 1178 4863 \nL 1178 0 \nL 603 0 \nL 603 4863 \nz\n\" transform=\"scale(0.015625)\"/>\n       <path id=\"DejaVuSans-73\" d=\"M 2834 3397 \nL 2834 2853 \nQ 2591 2978 2328 3040 \nQ 2066 3103 1784 3103 \nQ 1356 3103 1142 2972 \nQ 928 2841 928 2578 \nQ 928 2378 1081 2264 \nQ 1234 2150 1697 2047 \nL 1894 2003 \nQ 2506 1872 2764 1633 \nQ 3022 1394 3022 966 \nQ 3022 478 2636 193 \nQ 2250 -91 1575 -91 \nQ 1294 -91 989 -36 \nQ 684 19 347 128 \nL 347 722 \nQ 666 556 975 473 \nQ 1284 391 1588 391 \nQ 1994 391 2212 530 \nQ 2431 669 2431 922 \nQ 2431 1156 2273 1281 \nQ 2116 1406 1581 1522 \nL 1381 1569 \nQ 847 1681 609 1914 \nQ 372 2147 372 2553 \nQ 372 3047 722 3315 \nQ 1072 3584 1716 3584 \nQ 2034 3584 2315 3537 \nQ 2597 3491 2834 3397 \nz\n\" transform=\"scale(0.015625)\"/>\n      </defs>\n      <use xlink:href=\"#DejaVuSans-6c\"/>\n      <use xlink:href=\"#DejaVuSans-6f\" x=\"27.783203\"/>\n      <use xlink:href=\"#DejaVuSans-73\" x=\"88.964844\"/>\n      <use xlink:href=\"#DejaVuSans-73\" x=\"141.064453\"/>\n     </g>\n    </g>\n   </g>\n   <g id=\"line2d_15\">\n    <path d=\"M 50.14375 13.377273 \nL 60.422697 57.43957 \nL 70.701645 83.412395 \nL 80.980592 97.232168 \nL 91.259539 109.397471 \nL 101.538487 117.131111 \nL 111.817434 119.559013 \nL 122.096382 122.324651 \nL 132.375329 125.580743 \nL 142.654276 127.240349 \nL 152.933224 130.263127 \nL 163.212171 130.757753 \nL 173.491118 132.17712 \nL 183.770066 133.998456 \nL 194.049013 132.621988 \nL 204.327961 132.960618 \nL 214.606908 135.395051 \nL 224.885855 135.367374 \nL 235.164803 136.922727 \nL 245.44375 135.257943 \n\" clip-path=\"url(#pf97a3ea0bd)\" style=\"fill: none; stroke: #1f77b4; stroke-width: 1.5; stroke-linecap: square\"/>\n   </g>\n   <g id=\"patch_3\">\n    <path d=\"M 50.14375 143.1 \nL 50.14375 7.2 \n\" style=\"fill: none; stroke: #000000; stroke-width: 0.8; stroke-linejoin: miter; stroke-linecap: square\"/>\n   </g>\n   <g id=\"patch_4\">\n    <path d=\"M 245.44375 143.1 \nL 245.44375 7.2 \n\" style=\"fill: none; stroke: #000000; stroke-width: 0.8; stroke-linejoin: miter; stroke-linecap: square\"/>\n   </g>\n   <g id=\"patch_5\">\n    <path d=\"M 50.14375 143.1 \nL 245.44375 143.1 \n\" style=\"fill: none; stroke: #000000; stroke-width: 0.8; stroke-linejoin: miter; stroke-linecap: square\"/>\n   </g>\n   <g id=\"patch_6\">\n    <path d=\"M 50.14375 7.2 \nL 245.44375 7.2 \n\" style=\"fill: none; stroke: #000000; stroke-width: 0.8; stroke-linejoin: miter; stroke-linecap: square\"/>\n   </g>\n  </g>\n </g>\n <defs>\n  <clipPath id=\"pf97a3ea0bd\">\n   <rect x=\"50.14375\" y=\"7.2\" width=\"195.3\" height=\"135.9\"/>\n  </clipPath>\n </defs>\n</svg>\n"
          },
          "metadata": {
            "needs_background": "light"
          }
        }
      ],
      "source": [
        "num_hiddens, num_layers, dropout, batch_size, num_steps = 32, 2, 0.1, 64, 10\n",
        "lr, num_epochs, device = 0.005, 200, d2l.try_gpu()\n",
        "ffn_num_input, ffn_num_hiddens, num_heads = 32, 64, 4\n",
        "key_size, query_size, value_size = 32, 32, 32\n",
        "norm_shape = [32]\n",
        "\n",
        "train_iter, src_vocab, tgt_vocab = d2l.load_data_nmt(batch_size, num_steps)\n",
        "\n",
        "encoder = TransformerEncoder(len(src_vocab), key_size, query_size, value_size, num_hiddens,\n",
        "                             norm_shape, ffn_num_input, ffn_num_hiddens, num_heads, num_layers, dropout)\n",
        "decoder = TransformerDecoder(len(tgt_vocab), key_size, query_size, value_size, num_hiddens, \n",
        "                             norm_shape, ffn_num_input, ffn_num_hiddens, num_heads, num_layers, dropout)\n",
        "\n",
        "net = d2l.EncoderDecoder(encoder, decoder)\n",
        "d2l.train_seq2seq(net, train_iter, lr, num_epochs, tgt_vocab, device)"
      ]
    },
    {
      "cell_type": "markdown",
      "metadata": {
        "origin_pos": 56,
        "id": "1n6Nf0CcOvLw"
      },
      "source": [
        "After training,\n",
        "we use the transformer model\n",
        "to [**translate a few English sentences**] into French and compute their BLEU scores.\n"
      ]
    },
    {
      "cell_type": "code",
      "execution_count": 15,
      "metadata": {
        "origin_pos": 57,
        "tab": [
          "pytorch"
        ],
        "id": "c8qOLiAFOvLx",
        "outputId": "0badfb4c-cb84-4ca5-a0d6-c1bc84282240",
        "colab": {
          "base_uri": "https://localhost:8080/"
        }
      },
      "outputs": [
        {
          "output_type": "stream",
          "name": "stdout",
          "text": [
            "go . => va !,  bleu 1.000\n",
            "i lost . => j'ai perdu .,  bleu 1.000\n",
            "he's calm . => il est mort .,  bleu 0.658\n",
            "i'm home . => je suis chez moi .,  bleu 1.000\n"
          ]
        }
      ],
      "source": [
        "engs = ['go .', \"i lost .\", 'he\\'s calm .', 'i\\'m home .']\n",
        "fras = ['va !', 'j\\'ai perdu .', 'il est calme .', 'je suis chez moi .']\n",
        "for eng, fra in zip(engs, fras):\n",
        "    translation, dec_attention_weight_seq = d2l.predict_seq2seq(net, eng, src_vocab, tgt_vocab, num_steps, device, True)\n",
        "    print(f'{eng} => {translation}, ', f'bleu {d2l.bleu(translation, fra, k=2):.3f}')"
      ]
    },
    {
      "cell_type": "markdown",
      "metadata": {
        "origin_pos": 59,
        "id": "nmuO2GchOvLx"
      },
      "source": [
        "Let us [**visualize the transformer attention weights**] when translating the last English sentence into French.\n",
        "The shape of the encoder self-attention weights\n",
        "is (number of encoder layers, number of attention heads, `num_steps` or number of queries, `num_steps` or number of key-value pairs).\n"
      ]
    },
    {
      "cell_type": "code",
      "execution_count": 16,
      "metadata": {
        "origin_pos": 60,
        "tab": [
          "pytorch"
        ],
        "id": "iddr1cRoOvLx",
        "outputId": "c2d45637-887b-427b-e86b-fdfbde235313",
        "colab": {
          "base_uri": "https://localhost:8080/"
        }
      },
      "outputs": [
        {
          "output_type": "execute_result",
          "data": {
            "text/plain": [
              "torch.Size([2, 4, 10, 10])"
            ]
          },
          "metadata": {},
          "execution_count": 16
        }
      ],
      "source": [
        "enc_attention_weights = torch.cat(net.encoder.attention_weights, 0).reshape((num_layers, num_heads, -1, num_steps))\n",
        "enc_attention_weights.shape"
      ]
    },
    {
      "cell_type": "markdown",
      "metadata": {
        "origin_pos": 61,
        "id": "JJHyusS2OvLy"
      },
      "source": [
        "In the encoder self-attention,\n",
        "both queries and keys come from the same input sequence.\n",
        "Since padding tokens do not carry meaning,\n",
        "with specified valid length of the input sequence,\n",
        "no query attends to positions of padding tokens.\n",
        "In the following,\n",
        "two layers of multi-head attention weights\n",
        "are presented row by row.\n",
        "Each head independently attends\n",
        "based on a separate representation subspaces of queries, keys, and values.\n"
      ]
    },
    {
      "cell_type": "code",
      "execution_count": 17,
      "metadata": {
        "origin_pos": 63,
        "tab": [
          "pytorch"
        ],
        "id": "uvuLjywtOvLy",
        "outputId": "553f01d3-bb41-4454-80bd-b59aa2cb1dc3",
        "colab": {
          "base_uri": "https://localhost:8080/",
          "height": 330
        }
      },
      "outputs": [
        {
          "output_type": "display_data",
          "data": {
            "text/plain": [
              "<Figure size 504x252 with 9 Axes>"
            ],
            "image/svg+xml": "<?xml version=\"1.0\" encoding=\"utf-8\" standalone=\"no\"?>\n<!DOCTYPE svg PUBLIC \"-//W3C//DTD SVG 1.1//EN\"\n  \"http://www.w3.org/Graphics/SVG/1.1/DTD/svg11.dtd\">\n<svg xmlns:xlink=\"http://www.w3.org/1999/xlink\" width=\"402.06155pt\" height=\"231.582992pt\" viewBox=\"0 0 402.06155 231.582992\" xmlns=\"http://www.w3.org/2000/svg\" version=\"1.1\">\n <metadata>\n  <rdf:RDF xmlns:dc=\"http://purl.org/dc/elements/1.1/\" xmlns:cc=\"http://creativecommons.org/ns#\" xmlns:rdf=\"http://www.w3.org/1999/02/22-rdf-syntax-ns#\">\n   <cc:Work>\n    <dc:type rdf:resource=\"http://purl.org/dc/dcmitype/StillImage\"/>\n    <dc:date>2022-02-18T12:05:47.332667</dc:date>\n    <dc:format>image/svg+xml</dc:format>\n    <dc:creator>\n     <cc:Agent>\n      <dc:title>Matplotlib v3.5.1, https://matplotlib.org/</dc:title>\n     </cc:Agent>\n    </dc:creator>\n   </cc:Work>\n  </rdf:RDF>\n </metadata>\n <defs>\n  <style type=\"text/css\">*{stroke-linejoin: round; stroke-linecap: butt}</style>\n </defs>\n <g id=\"figure_1\">\n  <g id=\"patch_1\">\n   <path d=\"M 0 231.582992 \nL 402.06155 231.582992 \nL 402.06155 0 \nL 0 0 \nL 0 231.582992 \nz\n\" style=\"fill: none\"/>\n  </g>\n  <g id=\"axes_1\">\n   <g id=\"patch_2\">\n    <path d=\"M 34.240625 90.24856 \nL 102.17106 90.24856 \nL 102.17106 22.318125 \nL 34.240625 22.318125 \nz\n\" style=\"fill: #ffffff\"/>\n   </g>\n   <g clip-path=\"url(#pbf0681b4ef)\">\n    <image xlink:href=\"data:image/png;base64,\niVBORw0KGgoAAAANSUhEUgAAAEQAAABECAYAAAA4E5OyAAAAv0lEQVR4nO3bsQnDMBRAQSttMkL2i0fKgB7AjWunzgPVCeauFQLx+I1AGq/lcS4T72ObLV3W7dcH+DeChCAhSAgSgoQgIUgIEoKEICFICBKChCAhSAgSgoQgIUgIEoKEICFICBKChCAhSAgSgoQgIUgIEoKEICFICBKChCAhSIzz2KcPd9f7c7rxqo96TUgIEoKEICFICBLDf5lvJiQECUFCkBAkXO7ChIQgIUgIEoKEICFICBKChCAhSAgSgsQHX9sWERN52fAAAAAASUVORK5CYII=\" id=\"imaged7768f64a0\" transform=\"scale(1 -1)translate(0 -68)\" x=\"34.240625\" y=\"-22.24856\" width=\"68\" height=\"68\"/>\n   </g>\n   <g id=\"matplotlib.axis_1\">\n    <g id=\"xtick_1\">\n     <g id=\"line2d_1\">\n      <defs>\n       <path id=\"m980a07e803\" d=\"M 0 0 \nL 0 3.5 \n\" style=\"stroke: #000000; stroke-width: 0.8\"/>\n      </defs>\n      <g>\n       <use xlink:href=\"#m980a07e803\" x=\"37.637147\" y=\"90.24856\" style=\"stroke: #000000; stroke-width: 0.8\"/>\n      </g>\n     </g>\n    </g>\n    <g id=\"xtick_2\">\n     <g id=\"line2d_2\">\n      <g>\n       <use xlink:href=\"#m980a07e803\" x=\"71.602364\" y=\"90.24856\" style=\"stroke: #000000; stroke-width: 0.8\"/>\n      </g>\n     </g>\n    </g>\n   </g>\n   <g id=\"matplotlib.axis_2\">\n    <g id=\"ytick_1\">\n     <g id=\"line2d_3\">\n      <defs>\n       <path id=\"m647f2765db\" d=\"M 0 0 \nL -3.5 0 \n\" style=\"stroke: #000000; stroke-width: 0.8\"/>\n      </defs>\n      <g>\n       <use xlink:href=\"#m647f2765db\" x=\"34.240625\" y=\"25.714647\" style=\"stroke: #000000; stroke-width: 0.8\"/>\n      </g>\n     </g>\n     <g id=\"text_1\">\n      <!-- 0 -->\n      <g transform=\"translate(20.878125 29.513865)scale(0.1 -0.1)\">\n       <defs>\n        <path id=\"DejaVuSans-30\" d=\"M 2034 4250 \nQ 1547 4250 1301 3770 \nQ 1056 3291 1056 2328 \nQ 1056 1369 1301 889 \nQ 1547 409 2034 409 \nQ 2525 409 2770 889 \nQ 3016 1369 3016 2328 \nQ 3016 3291 2770 3770 \nQ 2525 4250 2034 4250 \nz\nM 2034 4750 \nQ 2819 4750 3233 4129 \nQ 3647 3509 3647 2328 \nQ 3647 1150 3233 529 \nQ 2819 -91 2034 -91 \nQ 1250 -91 836 529 \nQ 422 1150 422 2328 \nQ 422 3509 836 4129 \nQ 1250 4750 2034 4750 \nz\n\" transform=\"scale(0.015625)\"/>\n       </defs>\n       <use xlink:href=\"#DejaVuSans-30\"/>\n      </g>\n     </g>\n    </g>\n    <g id=\"ytick_2\">\n     <g id=\"line2d_4\">\n      <g>\n       <use xlink:href=\"#m647f2765db\" x=\"34.240625\" y=\"59.679864\" style=\"stroke: #000000; stroke-width: 0.8\"/>\n      </g>\n     </g>\n     <g id=\"text_2\">\n      <!-- 5 -->\n      <g transform=\"translate(20.878125 63.479083)scale(0.1 -0.1)\">\n       <defs>\n        <path id=\"DejaVuSans-35\" d=\"M 691 4666 \nL 3169 4666 \nL 3169 4134 \nL 1269 4134 \nL 1269 2991 \nQ 1406 3038 1543 3061 \nQ 1681 3084 1819 3084 \nQ 2600 3084 3056 2656 \nQ 3513 2228 3513 1497 \nQ 3513 744 3044 326 \nQ 2575 -91 1722 -91 \nQ 1428 -91 1123 -41 \nQ 819 9 494 109 \nL 494 744 \nQ 775 591 1075 516 \nQ 1375 441 1709 441 \nQ 2250 441 2565 725 \nQ 2881 1009 2881 1497 \nQ 2881 1984 2565 2268 \nQ 2250 2553 1709 2553 \nQ 1456 2553 1204 2497 \nQ 953 2441 691 2322 \nL 691 4666 \nz\n\" transform=\"scale(0.015625)\"/>\n       </defs>\n       <use xlink:href=\"#DejaVuSans-35\"/>\n      </g>\n     </g>\n    </g>\n    <g id=\"text_3\">\n     <!-- Query positions -->\n     <g transform=\"translate(14.798437 95.477874)rotate(-90)scale(0.1 -0.1)\">\n      <defs>\n       <path id=\"DejaVuSans-51\" d=\"M 2522 4238 \nQ 1834 4238 1429 3725 \nQ 1025 3213 1025 2328 \nQ 1025 1447 1429 934 \nQ 1834 422 2522 422 \nQ 3209 422 3611 934 \nQ 4013 1447 4013 2328 \nQ 4013 3213 3611 3725 \nQ 3209 4238 2522 4238 \nz\nM 3406 84 \nL 4238 -825 \nL 3475 -825 \nL 2784 -78 \nQ 2681 -84 2626 -87 \nQ 2572 -91 2522 -91 \nQ 1538 -91 948 567 \nQ 359 1225 359 2328 \nQ 359 3434 948 4092 \nQ 1538 4750 2522 4750 \nQ 3503 4750 4090 4092 \nQ 4678 3434 4678 2328 \nQ 4678 1516 4351 937 \nQ 4025 359 3406 84 \nz\n\" transform=\"scale(0.015625)\"/>\n       <path id=\"DejaVuSans-75\" d=\"M 544 1381 \nL 544 3500 \nL 1119 3500 \nL 1119 1403 \nQ 1119 906 1312 657 \nQ 1506 409 1894 409 \nQ 2359 409 2629 706 \nQ 2900 1003 2900 1516 \nL 2900 3500 \nL 3475 3500 \nL 3475 0 \nL 2900 0 \nL 2900 538 \nQ 2691 219 2414 64 \nQ 2138 -91 1772 -91 \nQ 1169 -91 856 284 \nQ 544 659 544 1381 \nz\nM 1991 3584 \nL 1991 3584 \nz\n\" transform=\"scale(0.015625)\"/>\n       <path id=\"DejaVuSans-65\" d=\"M 3597 1894 \nL 3597 1613 \nL 953 1613 \nQ 991 1019 1311 708 \nQ 1631 397 2203 397 \nQ 2534 397 2845 478 \nQ 3156 559 3463 722 \nL 3463 178 \nQ 3153 47 2828 -22 \nQ 2503 -91 2169 -91 \nQ 1331 -91 842 396 \nQ 353 884 353 1716 \nQ 353 2575 817 3079 \nQ 1281 3584 2069 3584 \nQ 2775 3584 3186 3129 \nQ 3597 2675 3597 1894 \nz\nM 3022 2063 \nQ 3016 2534 2758 2815 \nQ 2500 3097 2075 3097 \nQ 1594 3097 1305 2825 \nQ 1016 2553 972 2059 \nL 3022 2063 \nz\n\" transform=\"scale(0.015625)\"/>\n       <path id=\"DejaVuSans-72\" d=\"M 2631 2963 \nQ 2534 3019 2420 3045 \nQ 2306 3072 2169 3072 \nQ 1681 3072 1420 2755 \nQ 1159 2438 1159 1844 \nL 1159 0 \nL 581 0 \nL 581 3500 \nL 1159 3500 \nL 1159 2956 \nQ 1341 3275 1631 3429 \nQ 1922 3584 2338 3584 \nQ 2397 3584 2469 3576 \nQ 2541 3569 2628 3553 \nL 2631 2963 \nz\n\" transform=\"scale(0.015625)\"/>\n       <path id=\"DejaVuSans-79\" d=\"M 2059 -325 \nQ 1816 -950 1584 -1140 \nQ 1353 -1331 966 -1331 \nL 506 -1331 \nL 506 -850 \nL 844 -850 \nQ 1081 -850 1212 -737 \nQ 1344 -625 1503 -206 \nL 1606 56 \nL 191 3500 \nL 800 3500 \nL 1894 763 \nL 2988 3500 \nL 3597 3500 \nL 2059 -325 \nz\n\" transform=\"scale(0.015625)\"/>\n       <path id=\"DejaVuSans-20\" transform=\"scale(0.015625)\"/>\n       <path id=\"DejaVuSans-70\" d=\"M 1159 525 \nL 1159 -1331 \nL 581 -1331 \nL 581 3500 \nL 1159 3500 \nL 1159 2969 \nQ 1341 3281 1617 3432 \nQ 1894 3584 2278 3584 \nQ 2916 3584 3314 3078 \nQ 3713 2572 3713 1747 \nQ 3713 922 3314 415 \nQ 2916 -91 2278 -91 \nQ 1894 -91 1617 61 \nQ 1341 213 1159 525 \nz\nM 3116 1747 \nQ 3116 2381 2855 2742 \nQ 2594 3103 2138 3103 \nQ 1681 3103 1420 2742 \nQ 1159 2381 1159 1747 \nQ 1159 1113 1420 752 \nQ 1681 391 2138 391 \nQ 2594 391 2855 752 \nQ 3116 1113 3116 1747 \nz\n\" transform=\"scale(0.015625)\"/>\n       <path id=\"DejaVuSans-6f\" d=\"M 1959 3097 \nQ 1497 3097 1228 2736 \nQ 959 2375 959 1747 \nQ 959 1119 1226 758 \nQ 1494 397 1959 397 \nQ 2419 397 2687 759 \nQ 2956 1122 2956 1747 \nQ 2956 2369 2687 2733 \nQ 2419 3097 1959 3097 \nz\nM 1959 3584 \nQ 2709 3584 3137 3096 \nQ 3566 2609 3566 1747 \nQ 3566 888 3137 398 \nQ 2709 -91 1959 -91 \nQ 1206 -91 779 398 \nQ 353 888 353 1747 \nQ 353 2609 779 3096 \nQ 1206 3584 1959 3584 \nz\n\" transform=\"scale(0.015625)\"/>\n       <path id=\"DejaVuSans-73\" d=\"M 2834 3397 \nL 2834 2853 \nQ 2591 2978 2328 3040 \nQ 2066 3103 1784 3103 \nQ 1356 3103 1142 2972 \nQ 928 2841 928 2578 \nQ 928 2378 1081 2264 \nQ 1234 2150 1697 2047 \nL 1894 2003 \nQ 2506 1872 2764 1633 \nQ 3022 1394 3022 966 \nQ 3022 478 2636 193 \nQ 2250 -91 1575 -91 \nQ 1294 -91 989 -36 \nQ 684 19 347 128 \nL 347 722 \nQ 666 556 975 473 \nQ 1284 391 1588 391 \nQ 1994 391 2212 530 \nQ 2431 669 2431 922 \nQ 2431 1156 2273 1281 \nQ 2116 1406 1581 1522 \nL 1381 1569 \nQ 847 1681 609 1914 \nQ 372 2147 372 2553 \nQ 372 3047 722 3315 \nQ 1072 3584 1716 3584 \nQ 2034 3584 2315 3537 \nQ 2597 3491 2834 3397 \nz\n\" transform=\"scale(0.015625)\"/>\n       <path id=\"DejaVuSans-69\" d=\"M 603 3500 \nL 1178 3500 \nL 1178 0 \nL 603 0 \nL 603 3500 \nz\nM 603 4863 \nL 1178 4863 \nL 1178 4134 \nL 603 4134 \nL 603 4863 \nz\n\" transform=\"scale(0.015625)\"/>\n       <path id=\"DejaVuSans-74\" d=\"M 1172 4494 \nL 1172 3500 \nL 2356 3500 \nL 2356 3053 \nL 1172 3053 \nL 1172 1153 \nQ 1172 725 1289 603 \nQ 1406 481 1766 481 \nL 2356 481 \nL 2356 0 \nL 1766 0 \nQ 1100 0 847 248 \nQ 594 497 594 1153 \nL 594 3053 \nL 172 3053 \nL 172 3500 \nL 594 3500 \nL 594 4494 \nL 1172 4494 \nz\n\" transform=\"scale(0.015625)\"/>\n       <path id=\"DejaVuSans-6e\" d=\"M 3513 2113 \nL 3513 0 \nL 2938 0 \nL 2938 2094 \nQ 2938 2591 2744 2837 \nQ 2550 3084 2163 3084 \nQ 1697 3084 1428 2787 \nQ 1159 2491 1159 1978 \nL 1159 0 \nL 581 0 \nL 581 3500 \nL 1159 3500 \nL 1159 2956 \nQ 1366 3272 1645 3428 \nQ 1925 3584 2291 3584 \nQ 2894 3584 3203 3211 \nQ 3513 2838 3513 2113 \nz\n\" transform=\"scale(0.015625)\"/>\n      </defs>\n      <use xlink:href=\"#DejaVuSans-51\"/>\n      <use xlink:href=\"#DejaVuSans-75\" x=\"78.710938\"/>\n      <use xlink:href=\"#DejaVuSans-65\" x=\"142.089844\"/>\n      <use xlink:href=\"#DejaVuSans-72\" x=\"203.613281\"/>\n      <use xlink:href=\"#DejaVuSans-79\" x=\"244.726562\"/>\n      <use xlink:href=\"#DejaVuSans-20\" x=\"303.90625\"/>\n      <use xlink:href=\"#DejaVuSans-70\" x=\"335.693359\"/>\n      <use xlink:href=\"#DejaVuSans-6f\" x=\"399.169922\"/>\n      <use xlink:href=\"#DejaVuSans-73\" x=\"460.351562\"/>\n      <use xlink:href=\"#DejaVuSans-69\" x=\"512.451172\"/>\n      <use xlink:href=\"#DejaVuSans-74\" x=\"540.234375\"/>\n      <use xlink:href=\"#DejaVuSans-69\" x=\"579.443359\"/>\n      <use xlink:href=\"#DejaVuSans-6f\" x=\"607.226562\"/>\n      <use xlink:href=\"#DejaVuSans-6e\" x=\"668.408203\"/>\n      <use xlink:href=\"#DejaVuSans-73\" x=\"731.787109\"/>\n     </g>\n    </g>\n   </g>\n   <g id=\"patch_3\">\n    <path d=\"M 34.240625 90.24856 \nL 34.240625 22.318125 \n\" style=\"fill: none; stroke: #000000; stroke-width: 0.8; stroke-linejoin: miter; stroke-linecap: square\"/>\n   </g>\n   <g id=\"patch_4\">\n    <path d=\"M 102.17106 90.24856 \nL 102.17106 22.318125 \n\" style=\"fill: none; stroke: #000000; stroke-width: 0.8; stroke-linejoin: miter; stroke-linecap: square\"/>\n   </g>\n   <g id=\"patch_5\">\n    <path d=\"M 34.240625 90.24856 \nL 102.17106 90.24856 \n\" style=\"fill: none; stroke: #000000; stroke-width: 0.8; stroke-linejoin: miter; stroke-linecap: square\"/>\n   </g>\n   <g id=\"patch_6\">\n    <path d=\"M 34.240625 22.318125 \nL 102.17106 22.318125 \n\" style=\"fill: none; stroke: #000000; stroke-width: 0.8; stroke-linejoin: miter; stroke-linecap: square\"/>\n   </g>\n   <g id=\"text_4\">\n    <!-- Head 1 -->\n    <g transform=\"translate(46.791467 16.318125)scale(0.12 -0.12)\">\n     <defs>\n      <path id=\"DejaVuSans-48\" d=\"M 628 4666 \nL 1259 4666 \nL 1259 2753 \nL 3553 2753 \nL 3553 4666 \nL 4184 4666 \nL 4184 0 \nL 3553 0 \nL 3553 2222 \nL 1259 2222 \nL 1259 0 \nL 628 0 \nL 628 4666 \nz\n\" transform=\"scale(0.015625)\"/>\n      <path id=\"DejaVuSans-61\" d=\"M 2194 1759 \nQ 1497 1759 1228 1600 \nQ 959 1441 959 1056 \nQ 959 750 1161 570 \nQ 1363 391 1709 391 \nQ 2188 391 2477 730 \nQ 2766 1069 2766 1631 \nL 2766 1759 \nL 2194 1759 \nz\nM 3341 1997 \nL 3341 0 \nL 2766 0 \nL 2766 531 \nQ 2569 213 2275 61 \nQ 1981 -91 1556 -91 \nQ 1019 -91 701 211 \nQ 384 513 384 1019 \nQ 384 1609 779 1909 \nQ 1175 2209 1959 2209 \nL 2766 2209 \nL 2766 2266 \nQ 2766 2663 2505 2880 \nQ 2244 3097 1772 3097 \nQ 1472 3097 1187 3025 \nQ 903 2953 641 2809 \nL 641 3341 \nQ 956 3463 1253 3523 \nQ 1550 3584 1831 3584 \nQ 2591 3584 2966 3190 \nQ 3341 2797 3341 1997 \nz\n\" transform=\"scale(0.015625)\"/>\n      <path id=\"DejaVuSans-64\" d=\"M 2906 2969 \nL 2906 4863 \nL 3481 4863 \nL 3481 0 \nL 2906 0 \nL 2906 525 \nQ 2725 213 2448 61 \nQ 2172 -91 1784 -91 \nQ 1150 -91 751 415 \nQ 353 922 353 1747 \nQ 353 2572 751 3078 \nQ 1150 3584 1784 3584 \nQ 2172 3584 2448 3432 \nQ 2725 3281 2906 2969 \nz\nM 947 1747 \nQ 947 1113 1208 752 \nQ 1469 391 1925 391 \nQ 2381 391 2643 752 \nQ 2906 1113 2906 1747 \nQ 2906 2381 2643 2742 \nQ 2381 3103 1925 3103 \nQ 1469 3103 1208 2742 \nQ 947 2381 947 1747 \nz\n\" transform=\"scale(0.015625)\"/>\n      <path id=\"DejaVuSans-31\" d=\"M 794 531 \nL 1825 531 \nL 1825 4091 \nL 703 3866 \nL 703 4441 \nL 1819 4666 \nL 2450 4666 \nL 2450 531 \nL 3481 531 \nL 3481 0 \nL 794 0 \nL 794 531 \nz\n\" transform=\"scale(0.015625)\"/>\n     </defs>\n     <use xlink:href=\"#DejaVuSans-48\"/>\n     <use xlink:href=\"#DejaVuSans-65\" x=\"75.195312\"/>\n     <use xlink:href=\"#DejaVuSans-61\" x=\"136.71875\"/>\n     <use xlink:href=\"#DejaVuSans-64\" x=\"197.998047\"/>\n     <use xlink:href=\"#DejaVuSans-20\" x=\"261.474609\"/>\n     <use xlink:href=\"#DejaVuSans-31\" x=\"293.261719\"/>\n    </g>\n   </g>\n  </g>\n  <g id=\"axes_2\">\n   <g id=\"patch_7\">\n    <path d=\"M 115.757147 90.24856 \nL 183.687582 90.24856 \nL 183.687582 22.318125 \nL 115.757147 22.318125 \nz\n\" style=\"fill: #ffffff\"/>\n   </g>\n   <g clip-path=\"url(#pca1d96da1f)\">\n    <image xlink:href=\"data:image/png;base64,\niVBORw0KGgoAAAANSUhEUgAAAEQAAABECAYAAAA4E5OyAAAA1ElEQVR4nO3cMQ6CQBRAQbDVI3g/PZIH9AA21Ni/iMU2QpwpKQh5+clmk13mdXmt04D7+frx+WN5jrxuN06//oC9ESQECUFCkBAkBAlBQpAQJAQJQUKQECQECUFCkBAkBAlBQpAQJAQJQUKQECQECUFCkBAkBAlBQpAQJAQJQUKQECQECUFivk2XzYO7Rz+EO8KEhCAhSAgSgoQgMY/el9mydY9mmo6xjJuQECQECUFCkPi6yhx9xRhhQkKQECQECUFCkBje3PkZwp8QJAQJQUKQECTew6wf8y3RLG0AAAAASUVORK5CYII=\" id=\"image0f6e4f767a\" transform=\"scale(1 -1)translate(0 -68)\" x=\"115.757147\" y=\"-22.24856\" width=\"68\" height=\"68\"/>\n   </g>\n   <g id=\"matplotlib.axis_3\">\n    <g id=\"xtick_3\">\n     <g id=\"line2d_5\">\n      <g>\n       <use xlink:href=\"#m980a07e803\" x=\"119.153668\" y=\"90.24856\" style=\"stroke: #000000; stroke-width: 0.8\"/>\n      </g>\n     </g>\n    </g>\n    <g id=\"xtick_4\">\n     <g id=\"line2d_6\">\n      <g>\n       <use xlink:href=\"#m980a07e803\" x=\"153.118886\" y=\"90.24856\" style=\"stroke: #000000; stroke-width: 0.8\"/>\n      </g>\n     </g>\n    </g>\n   </g>\n   <g id=\"matplotlib.axis_4\">\n    <g id=\"ytick_3\">\n     <g id=\"line2d_7\">\n      <g>\n       <use xlink:href=\"#m647f2765db\" x=\"115.757147\" y=\"25.714647\" style=\"stroke: #000000; stroke-width: 0.8\"/>\n      </g>\n     </g>\n    </g>\n    <g id=\"ytick_4\">\n     <g id=\"line2d_8\">\n      <g>\n       <use xlink:href=\"#m647f2765db\" x=\"115.757147\" y=\"59.679864\" style=\"stroke: #000000; stroke-width: 0.8\"/>\n      </g>\n     </g>\n    </g>\n   </g>\n   <g id=\"patch_8\">\n    <path d=\"M 115.757147 90.24856 \nL 115.757147 22.318125 \n\" style=\"fill: none; stroke: #000000; stroke-width: 0.8; stroke-linejoin: miter; stroke-linecap: square\"/>\n   </g>\n   <g id=\"patch_9\">\n    <path d=\"M 183.687582 90.24856 \nL 183.687582 22.318125 \n\" style=\"fill: none; stroke: #000000; stroke-width: 0.8; stroke-linejoin: miter; stroke-linecap: square\"/>\n   </g>\n   <g id=\"patch_10\">\n    <path d=\"M 115.757147 90.24856 \nL 183.687582 90.24856 \n\" style=\"fill: none; stroke: #000000; stroke-width: 0.8; stroke-linejoin: miter; stroke-linecap: square\"/>\n   </g>\n   <g id=\"patch_11\">\n    <path d=\"M 115.757147 22.318125 \nL 183.687582 22.318125 \n\" style=\"fill: none; stroke: #000000; stroke-width: 0.8; stroke-linejoin: miter; stroke-linecap: square\"/>\n   </g>\n   <g id=\"text_5\">\n    <!-- Head 2 -->\n    <g transform=\"translate(128.307989 16.318125)scale(0.12 -0.12)\">\n     <defs>\n      <path id=\"DejaVuSans-32\" d=\"M 1228 531 \nL 3431 531 \nL 3431 0 \nL 469 0 \nL 469 531 \nQ 828 903 1448 1529 \nQ 2069 2156 2228 2338 \nQ 2531 2678 2651 2914 \nQ 2772 3150 2772 3378 \nQ 2772 3750 2511 3984 \nQ 2250 4219 1831 4219 \nQ 1534 4219 1204 4116 \nQ 875 4013 500 3803 \nL 500 4441 \nQ 881 4594 1212 4672 \nQ 1544 4750 1819 4750 \nQ 2544 4750 2975 4387 \nQ 3406 4025 3406 3419 \nQ 3406 3131 3298 2873 \nQ 3191 2616 2906 2266 \nQ 2828 2175 2409 1742 \nQ 1991 1309 1228 531 \nz\n\" transform=\"scale(0.015625)\"/>\n     </defs>\n     <use xlink:href=\"#DejaVuSans-48\"/>\n     <use xlink:href=\"#DejaVuSans-65\" x=\"75.195312\"/>\n     <use xlink:href=\"#DejaVuSans-61\" x=\"136.71875\"/>\n     <use xlink:href=\"#DejaVuSans-64\" x=\"197.998047\"/>\n     <use xlink:href=\"#DejaVuSans-20\" x=\"261.474609\"/>\n     <use xlink:href=\"#DejaVuSans-32\" x=\"293.261719\"/>\n    </g>\n   </g>\n  </g>\n  <g id=\"axes_3\">\n   <g id=\"patch_12\">\n    <path d=\"M 197.273668 90.24856 \nL 265.204103 90.24856 \nL 265.204103 22.318125 \nL 197.273668 22.318125 \nz\n\" style=\"fill: #ffffff\"/>\n   </g>\n   <g clip-path=\"url(#p3ab24776d9)\">\n    <image xlink:href=\"data:image/png;base64,\niVBORw0KGgoAAAANSUhEUgAAAEQAAABECAYAAAA4E5OyAAAAzElEQVR4nO3aMQrCMBiA0dZVj+D97JE8oAdw6Vz3D9qhVLTw3poh4eOHEMi4zO9lONB0va+uPefXkVt9xeXXB/g3goQgIUgIEoKEICFICBKChCAhSAgSgoQgIUgIEoKEICFICBKChCAhSAgSgoQgIUgIEoKEICFICBKChCAhSAgSgoQgIUiMWx93z/4Jdw8TEoKEICFICBKCxOa1u8fZr2oTEoKEICFICBKChCAhSAgSgoQgIUiMj+G2+rg7w2PsaCYkBAlBQpAQJASJD5vfGRGigV94AAAAAElFTkSuQmCC\" id=\"imagee49f1948df\" transform=\"scale(1 -1)translate(0 -68)\" x=\"197.273668\" y=\"-22.24856\" width=\"68\" height=\"68\"/>\n   </g>\n   <g id=\"matplotlib.axis_5\">\n    <g id=\"xtick_5\">\n     <g id=\"line2d_9\">\n      <g>\n       <use xlink:href=\"#m980a07e803\" x=\"200.67019\" y=\"90.24856\" style=\"stroke: #000000; stroke-width: 0.8\"/>\n      </g>\n     </g>\n    </g>\n    <g id=\"xtick_6\">\n     <g id=\"line2d_10\">\n      <g>\n       <use xlink:href=\"#m980a07e803\" x=\"234.635408\" y=\"90.24856\" style=\"stroke: #000000; stroke-width: 0.8\"/>\n      </g>\n     </g>\n    </g>\n   </g>\n   <g id=\"matplotlib.axis_6\">\n    <g id=\"ytick_5\">\n     <g id=\"line2d_11\">\n      <g>\n       <use xlink:href=\"#m647f2765db\" x=\"197.273668\" y=\"25.714647\" style=\"stroke: #000000; stroke-width: 0.8\"/>\n      </g>\n     </g>\n    </g>\n    <g id=\"ytick_6\">\n     <g id=\"line2d_12\">\n      <g>\n       <use xlink:href=\"#m647f2765db\" x=\"197.273668\" y=\"59.679864\" style=\"stroke: #000000; stroke-width: 0.8\"/>\n      </g>\n     </g>\n    </g>\n   </g>\n   <g id=\"patch_13\">\n    <path d=\"M 197.273668 90.24856 \nL 197.273668 22.318125 \n\" style=\"fill: none; stroke: #000000; stroke-width: 0.8; stroke-linejoin: miter; stroke-linecap: square\"/>\n   </g>\n   <g id=\"patch_14\">\n    <path d=\"M 265.204103 90.24856 \nL 265.204103 22.318125 \n\" style=\"fill: none; stroke: #000000; stroke-width: 0.8; stroke-linejoin: miter; stroke-linecap: square\"/>\n   </g>\n   <g id=\"patch_15\">\n    <path d=\"M 197.273668 90.24856 \nL 265.204103 90.24856 \n\" style=\"fill: none; stroke: #000000; stroke-width: 0.8; stroke-linejoin: miter; stroke-linecap: square\"/>\n   </g>\n   <g id=\"patch_16\">\n    <path d=\"M 197.273668 22.318125 \nL 265.204103 22.318125 \n\" style=\"fill: none; stroke: #000000; stroke-width: 0.8; stroke-linejoin: miter; stroke-linecap: square\"/>\n   </g>\n   <g id=\"text_6\">\n    <!-- Head 3 -->\n    <g transform=\"translate(209.824511 16.318125)scale(0.12 -0.12)\">\n     <defs>\n      <path id=\"DejaVuSans-33\" d=\"M 2597 2516 \nQ 3050 2419 3304 2112 \nQ 3559 1806 3559 1356 \nQ 3559 666 3084 287 \nQ 2609 -91 1734 -91 \nQ 1441 -91 1130 -33 \nQ 819 25 488 141 \nL 488 750 \nQ 750 597 1062 519 \nQ 1375 441 1716 441 \nQ 2309 441 2620 675 \nQ 2931 909 2931 1356 \nQ 2931 1769 2642 2001 \nQ 2353 2234 1838 2234 \nL 1294 2234 \nL 1294 2753 \nL 1863 2753 \nQ 2328 2753 2575 2939 \nQ 2822 3125 2822 3475 \nQ 2822 3834 2567 4026 \nQ 2313 4219 1838 4219 \nQ 1578 4219 1281 4162 \nQ 984 4106 628 3988 \nL 628 4550 \nQ 988 4650 1302 4700 \nQ 1616 4750 1894 4750 \nQ 2613 4750 3031 4423 \nQ 3450 4097 3450 3541 \nQ 3450 3153 3228 2886 \nQ 3006 2619 2597 2516 \nz\n\" transform=\"scale(0.015625)\"/>\n     </defs>\n     <use xlink:href=\"#DejaVuSans-48\"/>\n     <use xlink:href=\"#DejaVuSans-65\" x=\"75.195312\"/>\n     <use xlink:href=\"#DejaVuSans-61\" x=\"136.71875\"/>\n     <use xlink:href=\"#DejaVuSans-64\" x=\"197.998047\"/>\n     <use xlink:href=\"#DejaVuSans-20\" x=\"261.474609\"/>\n     <use xlink:href=\"#DejaVuSans-33\" x=\"293.261719\"/>\n    </g>\n   </g>\n  </g>\n  <g id=\"axes_4\">\n   <g id=\"patch_17\">\n    <path d=\"M 278.79019 90.24856 \nL 346.720625 90.24856 \nL 346.720625 22.318125 \nL 278.79019 22.318125 \nz\n\" style=\"fill: #ffffff\"/>\n   </g>\n   <g clip-path=\"url(#padae6c9b82)\">\n    <image xlink:href=\"data:image/png;base64,\niVBORw0KGgoAAAANSUhEUgAAAEQAAABECAYAAAA4E5OyAAAAx0lEQVR4nO3csQ3CMBBA0YQWRmA/MhIDMgBN6tA/yW4h6L/2GuvLjYvzeuzvYxnYrvfRaHnur+HszC7fPsCvKQgKgoKgICgICoKCoCAoCAqCgqAgKAgKgoKgICgICoKCoCAoCAqCgqAgKAgKgoKgICgICoKCoCAoCAqCgqAgKAgKgoKgICgICoKCoCAoCAqC9bHchvsy/7oTM9MNQUFQEBQEBUFBUBAUBAVBQVAQFATr7DOEmdFHCWd/EHZDUBAUBAVBQVAQfABfjBIv6j5LSwAAAABJRU5ErkJggg==\" id=\"image53fef0d054\" transform=\"scale(1 -1)translate(0 -68)\" x=\"278.79019\" y=\"-22.24856\" width=\"68\" height=\"68\"/>\n   </g>\n   <g id=\"matplotlib.axis_7\">\n    <g id=\"xtick_7\">\n     <g id=\"line2d_13\">\n      <g>\n       <use xlink:href=\"#m980a07e803\" x=\"282.186712\" y=\"90.24856\" style=\"stroke: #000000; stroke-width: 0.8\"/>\n      </g>\n     </g>\n    </g>\n    <g id=\"xtick_8\">\n     <g id=\"line2d_14\">\n      <g>\n       <use xlink:href=\"#m980a07e803\" x=\"316.151929\" y=\"90.24856\" style=\"stroke: #000000; stroke-width: 0.8\"/>\n      </g>\n     </g>\n    </g>\n   </g>\n   <g id=\"matplotlib.axis_8\">\n    <g id=\"ytick_7\">\n     <g id=\"line2d_15\">\n      <g>\n       <use xlink:href=\"#m647f2765db\" x=\"278.79019\" y=\"25.714647\" style=\"stroke: #000000; stroke-width: 0.8\"/>\n      </g>\n     </g>\n    </g>\n    <g id=\"ytick_8\">\n     <g id=\"line2d_16\">\n      <g>\n       <use xlink:href=\"#m647f2765db\" x=\"278.79019\" y=\"59.679864\" style=\"stroke: #000000; stroke-width: 0.8\"/>\n      </g>\n     </g>\n    </g>\n   </g>\n   <g id=\"patch_18\">\n    <path d=\"M 278.79019 90.24856 \nL 278.79019 22.318125 \n\" style=\"fill: none; stroke: #000000; stroke-width: 0.8; stroke-linejoin: miter; stroke-linecap: square\"/>\n   </g>\n   <g id=\"patch_19\">\n    <path d=\"M 346.720625 90.24856 \nL 346.720625 22.318125 \n\" style=\"fill: none; stroke: #000000; stroke-width: 0.8; stroke-linejoin: miter; stroke-linecap: square\"/>\n   </g>\n   <g id=\"patch_20\">\n    <path d=\"M 278.79019 90.24856 \nL 346.720625 90.24856 \n\" style=\"fill: none; stroke: #000000; stroke-width: 0.8; stroke-linejoin: miter; stroke-linecap: square\"/>\n   </g>\n   <g id=\"patch_21\">\n    <path d=\"M 278.79019 22.318125 \nL 346.720625 22.318125 \n\" style=\"fill: none; stroke: #000000; stroke-width: 0.8; stroke-linejoin: miter; stroke-linecap: square\"/>\n   </g>\n   <g id=\"text_7\">\n    <!-- Head 4 -->\n    <g transform=\"translate(291.341033 16.318125)scale(0.12 -0.12)\">\n     <defs>\n      <path id=\"DejaVuSans-34\" d=\"M 2419 4116 \nL 825 1625 \nL 2419 1625 \nL 2419 4116 \nz\nM 2253 4666 \nL 3047 4666 \nL 3047 1625 \nL 3713 1625 \nL 3713 1100 \nL 3047 1100 \nL 3047 0 \nL 2419 0 \nL 2419 1100 \nL 313 1100 \nL 313 1709 \nL 2253 4666 \nz\n\" transform=\"scale(0.015625)\"/>\n     </defs>\n     <use xlink:href=\"#DejaVuSans-48\"/>\n     <use xlink:href=\"#DejaVuSans-65\" x=\"75.195312\"/>\n     <use xlink:href=\"#DejaVuSans-61\" x=\"136.71875\"/>\n     <use xlink:href=\"#DejaVuSans-64\" x=\"197.998047\"/>\n     <use xlink:href=\"#DejaVuSans-20\" x=\"261.474609\"/>\n     <use xlink:href=\"#DejaVuSans-34\" x=\"293.261719\"/>\n    </g>\n   </g>\n  </g>\n  <g id=\"axes_5\">\n   <g id=\"patch_22\">\n    <path d=\"M 34.240625 194.026742 \nL 102.17106 194.026742 \nL 102.17106 126.096307 \nL 34.240625 126.096307 \nz\n\" style=\"fill: #ffffff\"/>\n   </g>\n   <g clip-path=\"url(#pa538d8ab48)\">\n    <image xlink:href=\"data:image/png;base64,\niVBORw0KGgoAAAANSUhEUgAAAEQAAABECAYAAAA4E5OyAAABeUlEQVR4nO3bP0oDQRhA8Z1kYyIIprJTrAQFC7Gz9QRpcgcv4BWsLKy8gBZCQLyEhxCsRCxFkip/7R/7LSwhbiLvV87HJMNjYMlC0vTpdpFFdrvhKBsNC5fT8Xm4pXF4Gn/emmjUfYB1YxAwCBgEDAIGgTybjOPpuGTW2S5eb7aWO1HNvCFgEDAIGAQMAgaBvHQ6n8WzZrN4vbHZjTf79CtgEDAIGAQMAnnWbsfTVNIr+lE4nSx3opp5Q8AgYBAwCBgEDAJ5ttWJp62teDb8KV6f+dj9VwwCBgGDgEHAIJBni3k8jd6bZln5+9YN5g0Bg4BBwCBgEDAI5OnoLBwOLnrhrP/5torz1M4bAgYBg4BBwCBgEEiD7l74f5ne63O88eCk+pelVHnPX/OGgEHAIGAQMAik+eg7fMpc7eyHG+9HH9W/zKfM5jEIGAQMAgYBg0CaPtyEj93GZT/cuPh6L1yfvzyGe/LruwpHq4c3BAwCBgGDgEHAIPALueQwuIAdnXkAAAAASUVORK5CYII=\" id=\"image593a3cdbfb\" transform=\"scale(1 -1)translate(0 -68)\" x=\"34.240625\" y=\"-126.026742\" width=\"68\" height=\"68\"/>\n   </g>\n   <g id=\"matplotlib.axis_9\">\n    <g id=\"xtick_9\">\n     <g id=\"line2d_17\">\n      <g>\n       <use xlink:href=\"#m980a07e803\" x=\"37.637147\" y=\"194.026742\" style=\"stroke: #000000; stroke-width: 0.8\"/>\n      </g>\n     </g>\n     <g id=\"text_8\">\n      <!-- 0 -->\n      <g transform=\"translate(34.455897 208.625179)scale(0.1 -0.1)\">\n       <use xlink:href=\"#DejaVuSans-30\"/>\n      </g>\n     </g>\n    </g>\n    <g id=\"xtick_10\">\n     <g id=\"line2d_18\">\n      <g>\n       <use xlink:href=\"#m980a07e803\" x=\"71.602364\" y=\"194.026742\" style=\"stroke: #000000; stroke-width: 0.8\"/>\n      </g>\n     </g>\n     <g id=\"text_9\">\n      <!-- 5 -->\n      <g transform=\"translate(68.421114 208.625179)scale(0.1 -0.1)\">\n       <use xlink:href=\"#DejaVuSans-35\"/>\n      </g>\n     </g>\n    </g>\n    <g id=\"text_10\">\n     <!-- Key positions -->\n     <g transform=\"translate(35.142561 222.303304)scale(0.1 -0.1)\">\n      <defs>\n       <path id=\"DejaVuSans-4b\" d=\"M 628 4666 \nL 1259 4666 \nL 1259 2694 \nL 3353 4666 \nL 4166 4666 \nL 1850 2491 \nL 4331 0 \nL 3500 0 \nL 1259 2247 \nL 1259 0 \nL 628 0 \nL 628 4666 \nz\n\" transform=\"scale(0.015625)\"/>\n      </defs>\n      <use xlink:href=\"#DejaVuSans-4b\"/>\n      <use xlink:href=\"#DejaVuSans-65\" x=\"60.576172\"/>\n      <use xlink:href=\"#DejaVuSans-79\" x=\"122.099609\"/>\n      <use xlink:href=\"#DejaVuSans-20\" x=\"181.279297\"/>\n      <use xlink:href=\"#DejaVuSans-70\" x=\"213.066406\"/>\n      <use xlink:href=\"#DejaVuSans-6f\" x=\"276.542969\"/>\n      <use xlink:href=\"#DejaVuSans-73\" x=\"337.724609\"/>\n      <use xlink:href=\"#DejaVuSans-69\" x=\"389.824219\"/>\n      <use xlink:href=\"#DejaVuSans-74\" x=\"417.607422\"/>\n      <use xlink:href=\"#DejaVuSans-69\" x=\"456.816406\"/>\n      <use xlink:href=\"#DejaVuSans-6f\" x=\"484.599609\"/>\n      <use xlink:href=\"#DejaVuSans-6e\" x=\"545.78125\"/>\n      <use xlink:href=\"#DejaVuSans-73\" x=\"609.160156\"/>\n     </g>\n    </g>\n   </g>\n   <g id=\"matplotlib.axis_10\">\n    <g id=\"ytick_9\">\n     <g id=\"line2d_19\">\n      <g>\n       <use xlink:href=\"#m647f2765db\" x=\"34.240625\" y=\"129.492829\" style=\"stroke: #000000; stroke-width: 0.8\"/>\n      </g>\n     </g>\n     <g id=\"text_11\">\n      <!-- 0 -->\n      <g transform=\"translate(20.878125 133.292047)scale(0.1 -0.1)\">\n       <use xlink:href=\"#DejaVuSans-30\"/>\n      </g>\n     </g>\n    </g>\n    <g id=\"ytick_10\">\n     <g id=\"line2d_20\">\n      <g>\n       <use xlink:href=\"#m647f2765db\" x=\"34.240625\" y=\"163.458046\" style=\"stroke: #000000; stroke-width: 0.8\"/>\n      </g>\n     </g>\n     <g id=\"text_12\">\n      <!-- 5 -->\n      <g transform=\"translate(20.878125 167.257265)scale(0.1 -0.1)\">\n       <use xlink:href=\"#DejaVuSans-35\"/>\n      </g>\n     </g>\n    </g>\n    <g id=\"text_13\">\n     <!-- Query positions -->\n     <g transform=\"translate(14.798437 199.256055)rotate(-90)scale(0.1 -0.1)\">\n      <use xlink:href=\"#DejaVuSans-51\"/>\n      <use xlink:href=\"#DejaVuSans-75\" x=\"78.710938\"/>\n      <use xlink:href=\"#DejaVuSans-65\" x=\"142.089844\"/>\n      <use xlink:href=\"#DejaVuSans-72\" x=\"203.613281\"/>\n      <use xlink:href=\"#DejaVuSans-79\" x=\"244.726562\"/>\n      <use xlink:href=\"#DejaVuSans-20\" x=\"303.90625\"/>\n      <use xlink:href=\"#DejaVuSans-70\" x=\"335.693359\"/>\n      <use xlink:href=\"#DejaVuSans-6f\" x=\"399.169922\"/>\n      <use xlink:href=\"#DejaVuSans-73\" x=\"460.351562\"/>\n      <use xlink:href=\"#DejaVuSans-69\" x=\"512.451172\"/>\n      <use xlink:href=\"#DejaVuSans-74\" x=\"540.234375\"/>\n      <use xlink:href=\"#DejaVuSans-69\" x=\"579.443359\"/>\n      <use xlink:href=\"#DejaVuSans-6f\" x=\"607.226562\"/>\n      <use xlink:href=\"#DejaVuSans-6e\" x=\"668.408203\"/>\n      <use xlink:href=\"#DejaVuSans-73\" x=\"731.787109\"/>\n     </g>\n    </g>\n   </g>\n   <g id=\"patch_23\">\n    <path d=\"M 34.240625 194.026742 \nL 34.240625 126.096307 \n\" style=\"fill: none; stroke: #000000; stroke-width: 0.8; stroke-linejoin: miter; stroke-linecap: square\"/>\n   </g>\n   <g id=\"patch_24\">\n    <path d=\"M 102.17106 194.026742 \nL 102.17106 126.096307 \n\" style=\"fill: none; stroke: #000000; stroke-width: 0.8; stroke-linejoin: miter; stroke-linecap: square\"/>\n   </g>\n   <g id=\"patch_25\">\n    <path d=\"M 34.240625 194.026742 \nL 102.17106 194.026742 \n\" style=\"fill: none; stroke: #000000; stroke-width: 0.8; stroke-linejoin: miter; stroke-linecap: square\"/>\n   </g>\n   <g id=\"patch_26\">\n    <path d=\"M 34.240625 126.096307 \nL 102.17106 126.096307 \n\" style=\"fill: none; stroke: #000000; stroke-width: 0.8; stroke-linejoin: miter; stroke-linecap: square\"/>\n   </g>\n   <g id=\"text_14\">\n    <!-- Head 1 -->\n    <g transform=\"translate(46.791467 120.096307)scale(0.12 -0.12)\">\n     <use xlink:href=\"#DejaVuSans-48\"/>\n     <use xlink:href=\"#DejaVuSans-65\" x=\"75.195312\"/>\n     <use xlink:href=\"#DejaVuSans-61\" x=\"136.71875\"/>\n     <use xlink:href=\"#DejaVuSans-64\" x=\"197.998047\"/>\n     <use xlink:href=\"#DejaVuSans-20\" x=\"261.474609\"/>\n     <use xlink:href=\"#DejaVuSans-31\" x=\"293.261719\"/>\n    </g>\n   </g>\n  </g>\n  <g id=\"axes_6\">\n   <g id=\"patch_27\">\n    <path d=\"M 115.757147 194.026742 \nL 183.687582 194.026742 \nL 183.687582 126.096307 \nL 115.757147 126.096307 \nz\n\" style=\"fill: #ffffff\"/>\n   </g>\n   <g clip-path=\"url(#p10f1af93a4)\">\n    <image xlink:href=\"data:image/png;base64,\niVBORw0KGgoAAAANSUhEUgAAAEQAAABECAYAAAA4E5OyAAABe0lEQVR4nO3cPUoDQRxA8f0YMYU2YiOiqQTxDhZ21nZW1tpZWHoKkRxAPIMewkMI2mpjCsHNrv1j/wsb1GTl/coMMxkeA8OGJHl1e9VkgeL0MhrK6se79oHVUTinPD4Lx5ZFsegNLBuDgEHAIGAQMAikLK3Eo014I2fZbNb+eh28PhCeEDAIGAQMAgYBg0DKijIezfN4rKl/fjdLwBMCBgGDgEHAIJA6b4uuW6YOHvzyYTce9u5/gUHAIGAQMAgYBFJWVfPNLIIruex4WBwATwgYBAwCBgGDgEEgZdXXfDOjz2K7npAHwBMCBgGDgEHAIGAQyOu31/BrQs+HR+HE8f2kfcHN7fjNNrZ6bG0xPCFgEDAIGAQMAgaBvP54D6/d8/XdcOJk+tK+oE+7/4tBwCBgEDAIpK6fc+yspt4LNp/TcCwfrfVe7695QsAgYBAwCBgEDAJ59fQQ/xnC+CCcOLu5bl9wbz+cU55c9NjaYnhCwCBgEDAIGAQMAt+7CTE+rnYeXAAAAABJRU5ErkJggg==\" id=\"image28ddd7fac4\" transform=\"scale(1 -1)translate(0 -68)\" x=\"115.757147\" y=\"-126.026742\" width=\"68\" height=\"68\"/>\n   </g>\n   <g id=\"matplotlib.axis_11\">\n    <g id=\"xtick_11\">\n     <g id=\"line2d_21\">\n      <g>\n       <use xlink:href=\"#m980a07e803\" x=\"119.153668\" y=\"194.026742\" style=\"stroke: #000000; stroke-width: 0.8\"/>\n      </g>\n     </g>\n     <g id=\"text_15\">\n      <!-- 0 -->\n      <g transform=\"translate(115.972418 208.625179)scale(0.1 -0.1)\">\n       <use xlink:href=\"#DejaVuSans-30\"/>\n      </g>\n     </g>\n    </g>\n    <g id=\"xtick_12\">\n     <g id=\"line2d_22\">\n      <g>\n       <use xlink:href=\"#m980a07e803\" x=\"153.118886\" y=\"194.026742\" style=\"stroke: #000000; stroke-width: 0.8\"/>\n      </g>\n     </g>\n     <g id=\"text_16\">\n      <!-- 5 -->\n      <g transform=\"translate(149.937636 208.625179)scale(0.1 -0.1)\">\n       <use xlink:href=\"#DejaVuSans-35\"/>\n      </g>\n     </g>\n    </g>\n    <g id=\"text_17\">\n     <!-- Key positions -->\n     <g transform=\"translate(116.659083 222.303304)scale(0.1 -0.1)\">\n      <use xlink:href=\"#DejaVuSans-4b\"/>\n      <use xlink:href=\"#DejaVuSans-65\" x=\"60.576172\"/>\n      <use xlink:href=\"#DejaVuSans-79\" x=\"122.099609\"/>\n      <use xlink:href=\"#DejaVuSans-20\" x=\"181.279297\"/>\n      <use xlink:href=\"#DejaVuSans-70\" x=\"213.066406\"/>\n      <use xlink:href=\"#DejaVuSans-6f\" x=\"276.542969\"/>\n      <use xlink:href=\"#DejaVuSans-73\" x=\"337.724609\"/>\n      <use xlink:href=\"#DejaVuSans-69\" x=\"389.824219\"/>\n      <use xlink:href=\"#DejaVuSans-74\" x=\"417.607422\"/>\n      <use xlink:href=\"#DejaVuSans-69\" x=\"456.816406\"/>\n      <use xlink:href=\"#DejaVuSans-6f\" x=\"484.599609\"/>\n      <use xlink:href=\"#DejaVuSans-6e\" x=\"545.78125\"/>\n      <use xlink:href=\"#DejaVuSans-73\" x=\"609.160156\"/>\n     </g>\n    </g>\n   </g>\n   <g id=\"matplotlib.axis_12\">\n    <g id=\"ytick_11\">\n     <g id=\"line2d_23\">\n      <g>\n       <use xlink:href=\"#m647f2765db\" x=\"115.757147\" y=\"129.492829\" style=\"stroke: #000000; stroke-width: 0.8\"/>\n      </g>\n     </g>\n    </g>\n    <g id=\"ytick_12\">\n     <g id=\"line2d_24\">\n      <g>\n       <use xlink:href=\"#m647f2765db\" x=\"115.757147\" y=\"163.458046\" style=\"stroke: #000000; stroke-width: 0.8\"/>\n      </g>\n     </g>\n    </g>\n   </g>\n   <g id=\"patch_28\">\n    <path d=\"M 115.757147 194.026742 \nL 115.757147 126.096307 \n\" style=\"fill: none; stroke: #000000; stroke-width: 0.8; stroke-linejoin: miter; stroke-linecap: square\"/>\n   </g>\n   <g id=\"patch_29\">\n    <path d=\"M 183.687582 194.026742 \nL 183.687582 126.096307 \n\" style=\"fill: none; stroke: #000000; stroke-width: 0.8; stroke-linejoin: miter; stroke-linecap: square\"/>\n   </g>\n   <g id=\"patch_30\">\n    <path d=\"M 115.757147 194.026742 \nL 183.687582 194.026742 \n\" style=\"fill: none; stroke: #000000; stroke-width: 0.8; stroke-linejoin: miter; stroke-linecap: square\"/>\n   </g>\n   <g id=\"patch_31\">\n    <path d=\"M 115.757147 126.096307 \nL 183.687582 126.096307 \n\" style=\"fill: none; stroke: #000000; stroke-width: 0.8; stroke-linejoin: miter; stroke-linecap: square\"/>\n   </g>\n   <g id=\"text_18\">\n    <!-- Head 2 -->\n    <g transform=\"translate(128.307989 120.096307)scale(0.12 -0.12)\">\n     <use xlink:href=\"#DejaVuSans-48\"/>\n     <use xlink:href=\"#DejaVuSans-65\" x=\"75.195312\"/>\n     <use xlink:href=\"#DejaVuSans-61\" x=\"136.71875\"/>\n     <use xlink:href=\"#DejaVuSans-64\" x=\"197.998047\"/>\n     <use xlink:href=\"#DejaVuSans-20\" x=\"261.474609\"/>\n     <use xlink:href=\"#DejaVuSans-32\" x=\"293.261719\"/>\n    </g>\n   </g>\n  </g>\n  <g id=\"axes_7\">\n   <g id=\"patch_32\">\n    <path d=\"M 197.273668 194.026742 \nL 265.204103 194.026742 \nL 265.204103 126.096307 \nL 197.273668 126.096307 \nz\n\" style=\"fill: #ffffff\"/>\n   </g>\n   <g clip-path=\"url(#pf578f3e915)\">\n    <image xlink:href=\"data:image/png;base64,\niVBORw0KGgoAAAANSUhEUgAAAEQAAABECAYAAAA4E5OyAAABYUlEQVR4nO3aP0oDQRhA8ZnNGlHTRBTEkwiewM7SG3gDzyLeI5YewFSCtZWVhVgYC93N2j/yBbKGzUber9xhdpfHB0P+5Gpy16TI+DhcSu9vi68Pd8Mtg/PL+H49UWz6BfrGIGAQMAgYBAwCZfr6jFePTpfsLIPrO397ow1zQsAgYBAwCBgEDAJlymtuUtfrvV/HnBAwCBgEDAIGgTLtj+LV+ZITIzpN5vFXtNvACQGDgEHAIGAQMAgsP3arn3gtOnYLj91/xSBgEDAIGAQMAmXKOV6tvle/YzFo/zY94ISAQcAgYBAwCBgE8nUahR9Pb2evXb5LLzghYBAwCBgEDAIGgfKgaNekaYLTuq7CPXkL/tTrhIBBwCBgEDAI5Gb20eq3x/rxfuH16dVNuOfs5bnNozrlhIBBwCBgEDAIGATy5PAkPHYvnh7inaPx6g8b7q28p2tOCBgEDAIGAYOAQeAXILEuX5sxc+QAAAAASUVORK5CYII=\" id=\"imaged281805648\" transform=\"scale(1 -1)translate(0 -68)\" x=\"197.273668\" y=\"-126.026742\" width=\"68\" height=\"68\"/>\n   </g>\n   <g id=\"matplotlib.axis_13\">\n    <g id=\"xtick_13\">\n     <g id=\"line2d_25\">\n      <g>\n       <use xlink:href=\"#m980a07e803\" x=\"200.67019\" y=\"194.026742\" style=\"stroke: #000000; stroke-width: 0.8\"/>\n      </g>\n     </g>\n     <g id=\"text_19\">\n      <!-- 0 -->\n      <g transform=\"translate(197.48894 208.625179)scale(0.1 -0.1)\">\n       <use xlink:href=\"#DejaVuSans-30\"/>\n      </g>\n     </g>\n    </g>\n    <g id=\"xtick_14\">\n     <g id=\"line2d_26\">\n      <g>\n       <use xlink:href=\"#m980a07e803\" x=\"234.635408\" y=\"194.026742\" style=\"stroke: #000000; stroke-width: 0.8\"/>\n      </g>\n     </g>\n     <g id=\"text_20\">\n      <!-- 5 -->\n      <g transform=\"translate(231.454158 208.625179)scale(0.1 -0.1)\">\n       <use xlink:href=\"#DejaVuSans-35\"/>\n      </g>\n     </g>\n    </g>\n    <g id=\"text_21\">\n     <!-- Key positions -->\n     <g transform=\"translate(198.175605 222.303304)scale(0.1 -0.1)\">\n      <use xlink:href=\"#DejaVuSans-4b\"/>\n      <use xlink:href=\"#DejaVuSans-65\" x=\"60.576172\"/>\n      <use xlink:href=\"#DejaVuSans-79\" x=\"122.099609\"/>\n      <use xlink:href=\"#DejaVuSans-20\" x=\"181.279297\"/>\n      <use xlink:href=\"#DejaVuSans-70\" x=\"213.066406\"/>\n      <use xlink:href=\"#DejaVuSans-6f\" x=\"276.542969\"/>\n      <use xlink:href=\"#DejaVuSans-73\" x=\"337.724609\"/>\n      <use xlink:href=\"#DejaVuSans-69\" x=\"389.824219\"/>\n      <use xlink:href=\"#DejaVuSans-74\" x=\"417.607422\"/>\n      <use xlink:href=\"#DejaVuSans-69\" x=\"456.816406\"/>\n      <use xlink:href=\"#DejaVuSans-6f\" x=\"484.599609\"/>\n      <use xlink:href=\"#DejaVuSans-6e\" x=\"545.78125\"/>\n      <use xlink:href=\"#DejaVuSans-73\" x=\"609.160156\"/>\n     </g>\n    </g>\n   </g>\n   <g id=\"matplotlib.axis_14\">\n    <g id=\"ytick_13\">\n     <g id=\"line2d_27\">\n      <g>\n       <use xlink:href=\"#m647f2765db\" x=\"197.273668\" y=\"129.492829\" style=\"stroke: #000000; stroke-width: 0.8\"/>\n      </g>\n     </g>\n    </g>\n    <g id=\"ytick_14\">\n     <g id=\"line2d_28\">\n      <g>\n       <use xlink:href=\"#m647f2765db\" x=\"197.273668\" y=\"163.458046\" style=\"stroke: #000000; stroke-width: 0.8\"/>\n      </g>\n     </g>\n    </g>\n   </g>\n   <g id=\"patch_33\">\n    <path d=\"M 197.273668 194.026742 \nL 197.273668 126.096307 \n\" style=\"fill: none; stroke: #000000; stroke-width: 0.8; stroke-linejoin: miter; stroke-linecap: square\"/>\n   </g>\n   <g id=\"patch_34\">\n    <path d=\"M 265.204103 194.026742 \nL 265.204103 126.096307 \n\" style=\"fill: none; stroke: #000000; stroke-width: 0.8; stroke-linejoin: miter; stroke-linecap: square\"/>\n   </g>\n   <g id=\"patch_35\">\n    <path d=\"M 197.273668 194.026742 \nL 265.204103 194.026742 \n\" style=\"fill: none; stroke: #000000; stroke-width: 0.8; stroke-linejoin: miter; stroke-linecap: square\"/>\n   </g>\n   <g id=\"patch_36\">\n    <path d=\"M 197.273668 126.096307 \nL 265.204103 126.096307 \n\" style=\"fill: none; stroke: #000000; stroke-width: 0.8; stroke-linejoin: miter; stroke-linecap: square\"/>\n   </g>\n   <g id=\"text_22\">\n    <!-- Head 3 -->\n    <g transform=\"translate(209.824511 120.096307)scale(0.12 -0.12)\">\n     <use xlink:href=\"#DejaVuSans-48\"/>\n     <use xlink:href=\"#DejaVuSans-65\" x=\"75.195312\"/>\n     <use xlink:href=\"#DejaVuSans-61\" x=\"136.71875\"/>\n     <use xlink:href=\"#DejaVuSans-64\" x=\"197.998047\"/>\n     <use xlink:href=\"#DejaVuSans-20\" x=\"261.474609\"/>\n     <use xlink:href=\"#DejaVuSans-33\" x=\"293.261719\"/>\n    </g>\n   </g>\n  </g>\n  <g id=\"axes_8\">\n   <g id=\"patch_37\">\n    <path d=\"M 278.79019 194.026742 \nL 346.720625 194.026742 \nL 346.720625 126.096307 \nL 278.79019 126.096307 \nz\n\" style=\"fill: #ffffff\"/>\n   </g>\n   <g clip-path=\"url(#pf853f3d97f)\">\n    <image xlink:href=\"data:image/png;base64,\niVBORw0KGgoAAAANSUhEUgAAAEQAAABECAYAAAA4E5OyAAABeUlEQVR4nO3ZPUoDQRxA8f2IQkADgrVgkTt4CSsbPYKFtW1aT2DvKSwFS0u9QDq1MIjaxGTW/rH/IaC4u/B+5Q6zOzwGhmHLtHhuikC6vYmGiub+rvV5eXIWzqmPjsOxvqi6XkDfGAQMAgYBg4BBYJQdbcITuSjq+o+X0g/uEDAIGAQMAgYBg8CoKDJHa5XplVLwPPO+AXCHgEHAIGAQMAjkL3db2+FQs1q3Pi9/tZzuuUPAIGAQMAgYBAwC+WM3c7lr1sHlrhr2wesOAYOAQcAgYBAwCOSP3eUyHCrroGU17F+c7hAwCBgEDAIGAYNAmT7ewn+P57sH4cTr16f2gfEk/lju12hP9H+F/8wgYBAwCBgEDAJlmj+Gx+766jKeOZ22Pq5PL+KPTfY3X1lH3CFgEDAIGAQMAmX6XISnzGzvMJw4mz+0D4x34o9tjzdfWUfcIWAQMAgYBAwCBoHsr8yX71U8GF3Uvt7jOR67w2MQMAgYBAwCBoEfvPYzGG08vc0AAAAASUVORK5CYII=\" id=\"imaged5e33146e8\" transform=\"scale(1 -1)translate(0 -68)\" x=\"278.79019\" y=\"-126.026742\" width=\"68\" height=\"68\"/>\n   </g>\n   <g id=\"matplotlib.axis_15\">\n    <g id=\"xtick_15\">\n     <g id=\"line2d_29\">\n      <g>\n       <use xlink:href=\"#m980a07e803\" x=\"282.186712\" y=\"194.026742\" style=\"stroke: #000000; stroke-width: 0.8\"/>\n      </g>\n     </g>\n     <g id=\"text_23\">\n      <!-- 0 -->\n      <g transform=\"translate(279.005462 208.625179)scale(0.1 -0.1)\">\n       <use xlink:href=\"#DejaVuSans-30\"/>\n      </g>\n     </g>\n    </g>\n    <g id=\"xtick_16\">\n     <g id=\"line2d_30\">\n      <g>\n       <use xlink:href=\"#m980a07e803\" x=\"316.151929\" y=\"194.026742\" style=\"stroke: #000000; stroke-width: 0.8\"/>\n      </g>\n     </g>\n     <g id=\"text_24\">\n      <!-- 5 -->\n      <g transform=\"translate(312.970679 208.625179)scale(0.1 -0.1)\">\n       <use xlink:href=\"#DejaVuSans-35\"/>\n      </g>\n     </g>\n    </g>\n    <g id=\"text_25\">\n     <!-- Key positions -->\n     <g transform=\"translate(279.692126 222.303304)scale(0.1 -0.1)\">\n      <use xlink:href=\"#DejaVuSans-4b\"/>\n      <use xlink:href=\"#DejaVuSans-65\" x=\"60.576172\"/>\n      <use xlink:href=\"#DejaVuSans-79\" x=\"122.099609\"/>\n      <use xlink:href=\"#DejaVuSans-20\" x=\"181.279297\"/>\n      <use xlink:href=\"#DejaVuSans-70\" x=\"213.066406\"/>\n      <use xlink:href=\"#DejaVuSans-6f\" x=\"276.542969\"/>\n      <use xlink:href=\"#DejaVuSans-73\" x=\"337.724609\"/>\n      <use xlink:href=\"#DejaVuSans-69\" x=\"389.824219\"/>\n      <use xlink:href=\"#DejaVuSans-74\" x=\"417.607422\"/>\n      <use xlink:href=\"#DejaVuSans-69\" x=\"456.816406\"/>\n      <use xlink:href=\"#DejaVuSans-6f\" x=\"484.599609\"/>\n      <use xlink:href=\"#DejaVuSans-6e\" x=\"545.78125\"/>\n      <use xlink:href=\"#DejaVuSans-73\" x=\"609.160156\"/>\n     </g>\n    </g>\n   </g>\n   <g id=\"matplotlib.axis_16\">\n    <g id=\"ytick_15\">\n     <g id=\"line2d_31\">\n      <g>\n       <use xlink:href=\"#m647f2765db\" x=\"278.79019\" y=\"129.492829\" style=\"stroke: #000000; stroke-width: 0.8\"/>\n      </g>\n     </g>\n    </g>\n    <g id=\"ytick_16\">\n     <g id=\"line2d_32\">\n      <g>\n       <use xlink:href=\"#m647f2765db\" x=\"278.79019\" y=\"163.458046\" style=\"stroke: #000000; stroke-width: 0.8\"/>\n      </g>\n     </g>\n    </g>\n   </g>\n   <g id=\"patch_38\">\n    <path d=\"M 278.79019 194.026742 \nL 278.79019 126.096307 \n\" style=\"fill: none; stroke: #000000; stroke-width: 0.8; stroke-linejoin: miter; stroke-linecap: square\"/>\n   </g>\n   <g id=\"patch_39\">\n    <path d=\"M 346.720625 194.026742 \nL 346.720625 126.096307 \n\" style=\"fill: none; stroke: #000000; stroke-width: 0.8; stroke-linejoin: miter; stroke-linecap: square\"/>\n   </g>\n   <g id=\"patch_40\">\n    <path d=\"M 278.79019 194.026742 \nL 346.720625 194.026742 \n\" style=\"fill: none; stroke: #000000; stroke-width: 0.8; stroke-linejoin: miter; stroke-linecap: square\"/>\n   </g>\n   <g id=\"patch_41\">\n    <path d=\"M 278.79019 126.096307 \nL 346.720625 126.096307 \n\" style=\"fill: none; stroke: #000000; stroke-width: 0.8; stroke-linejoin: miter; stroke-linecap: square\"/>\n   </g>\n   <g id=\"text_26\">\n    <!-- Head 4 -->\n    <g transform=\"translate(291.341033 120.096307)scale(0.12 -0.12)\">\n     <use xlink:href=\"#DejaVuSans-48\"/>\n     <use xlink:href=\"#DejaVuSans-65\" x=\"75.195312\"/>\n     <use xlink:href=\"#DejaVuSans-61\" x=\"136.71875\"/>\n     <use xlink:href=\"#DejaVuSans-64\" x=\"197.998047\"/>\n     <use xlink:href=\"#DejaVuSans-20\" x=\"261.474609\"/>\n     <use xlink:href=\"#DejaVuSans-34\" x=\"293.261719\"/>\n    </g>\n   </g>\n  </g>\n  <g id=\"axes_9\">\n   <g id=\"patch_42\">\n    <path d=\"M 366.250625 165.250433 \nL 371.958425 165.250433 \nL 371.958425 51.094433 \nL 366.250625 51.094433 \nz\n\" style=\"fill: #ffffff\"/>\n   </g>\n   <g id=\"patch_43\">\n    <path clip-path=\"url(#p62c87db77c)\" style=\"fill: #ffffff; stroke: #ffffff; stroke-width: 0.01; stroke-linejoin: miter\"/>\n   </g>\n   <image xlink:href=\"data:image/png;base64,\niVBORw0KGgoAAAANSUhEUgAAAAYAAAByCAYAAABwf6CfAAAAzElEQVR4nLXWQQ7DIBBDUSpx/7N2001hhl6AF2kQzTKW/fGQkLzW573a5upt5e5+6y0pBIS1RZwwlhmKqgtkZLkHhZgSCIfgkZhxDW5hjr3g5boHBTAOetAxNat6lGd1bz/cQ7M66KGH+qAH34/6fujIuAivCwcF9Z4HC5IBIcWgow5f89pyzRg8E6tRGTjbQ0LqaxAS6gxHlRmTzeuMfdJTD/0BpAQktZ5NBc1AVCiKDjP2hqeCcnBWFhTF5Q7tIB2zPJLvvSg6xv8ZP9W5DE4Qbu8+AAAAAElFTkSuQmCC\" id=\"image51423c501c\" transform=\"scale(1 -1)translate(0 -114)\" x=\"366\" y=\"-51\" width=\"6\" height=\"114\"/>\n   <g id=\"matplotlib.axis_17\">\n    <g id=\"ytick_17\">\n     <g id=\"line2d_33\">\n      <defs>\n       <path id=\"m00d381d00b\" d=\"M 0 0 \nL 3.5 0 \n\" style=\"stroke: #000000; stroke-width: 0.8\"/>\n      </defs>\n      <g>\n       <use xlink:href=\"#m00d381d00b\" x=\"371.958425\" y=\"165.250433\" style=\"stroke: #000000; stroke-width: 0.8\"/>\n      </g>\n     </g>\n     <g id=\"text_27\">\n      <!-- 0.0 -->\n      <g transform=\"translate(378.958425 169.049652)scale(0.1 -0.1)\">\n       <defs>\n        <path id=\"DejaVuSans-2e\" d=\"M 684 794 \nL 1344 794 \nL 1344 0 \nL 684 0 \nL 684 794 \nz\n\" transform=\"scale(0.015625)\"/>\n       </defs>\n       <use xlink:href=\"#DejaVuSans-30\"/>\n       <use xlink:href=\"#DejaVuSans-2e\" x=\"63.623047\"/>\n       <use xlink:href=\"#DejaVuSans-30\" x=\"95.410156\"/>\n      </g>\n     </g>\n    </g>\n    <g id=\"ytick_18\">\n     <g id=\"line2d_34\">\n      <g>\n       <use xlink:href=\"#m00d381d00b\" x=\"371.958425\" y=\"140.537876\" style=\"stroke: #000000; stroke-width: 0.8\"/>\n      </g>\n     </g>\n     <g id=\"text_28\">\n      <!-- 0.2 -->\n      <g transform=\"translate(378.958425 144.337095)scale(0.1 -0.1)\">\n       <use xlink:href=\"#DejaVuSans-30\"/>\n       <use xlink:href=\"#DejaVuSans-2e\" x=\"63.623047\"/>\n       <use xlink:href=\"#DejaVuSans-32\" x=\"95.410156\"/>\n      </g>\n     </g>\n    </g>\n    <g id=\"ytick_19\">\n     <g id=\"line2d_35\">\n      <g>\n       <use xlink:href=\"#m00d381d00b\" x=\"371.958425\" y=\"115.825318\" style=\"stroke: #000000; stroke-width: 0.8\"/>\n      </g>\n     </g>\n     <g id=\"text_29\">\n      <!-- 0.4 -->\n      <g transform=\"translate(378.958425 119.624537)scale(0.1 -0.1)\">\n       <use xlink:href=\"#DejaVuSans-30\"/>\n       <use xlink:href=\"#DejaVuSans-2e\" x=\"63.623047\"/>\n       <use xlink:href=\"#DejaVuSans-34\" x=\"95.410156\"/>\n      </g>\n     </g>\n    </g>\n    <g id=\"ytick_20\">\n     <g id=\"line2d_36\">\n      <g>\n       <use xlink:href=\"#m00d381d00b\" x=\"371.958425\" y=\"91.112761\" style=\"stroke: #000000; stroke-width: 0.8\"/>\n      </g>\n     </g>\n     <g id=\"text_30\">\n      <!-- 0.6 -->\n      <g transform=\"translate(378.958425 94.91198)scale(0.1 -0.1)\">\n       <defs>\n        <path id=\"DejaVuSans-36\" d=\"M 2113 2584 \nQ 1688 2584 1439 2293 \nQ 1191 2003 1191 1497 \nQ 1191 994 1439 701 \nQ 1688 409 2113 409 \nQ 2538 409 2786 701 \nQ 3034 994 3034 1497 \nQ 3034 2003 2786 2293 \nQ 2538 2584 2113 2584 \nz\nM 3366 4563 \nL 3366 3988 \nQ 3128 4100 2886 4159 \nQ 2644 4219 2406 4219 \nQ 1781 4219 1451 3797 \nQ 1122 3375 1075 2522 \nQ 1259 2794 1537 2939 \nQ 1816 3084 2150 3084 \nQ 2853 3084 3261 2657 \nQ 3669 2231 3669 1497 \nQ 3669 778 3244 343 \nQ 2819 -91 2113 -91 \nQ 1303 -91 875 529 \nQ 447 1150 447 2328 \nQ 447 3434 972 4092 \nQ 1497 4750 2381 4750 \nQ 2619 4750 2861 4703 \nQ 3103 4656 3366 4563 \nz\n\" transform=\"scale(0.015625)\"/>\n       </defs>\n       <use xlink:href=\"#DejaVuSans-30\"/>\n       <use xlink:href=\"#DejaVuSans-2e\" x=\"63.623047\"/>\n       <use xlink:href=\"#DejaVuSans-36\" x=\"95.410156\"/>\n      </g>\n     </g>\n    </g>\n    <g id=\"ytick_21\">\n     <g id=\"line2d_37\">\n      <g>\n       <use xlink:href=\"#m00d381d00b\" x=\"371.958425\" y=\"66.400203\" style=\"stroke: #000000; stroke-width: 0.8\"/>\n      </g>\n     </g>\n     <g id=\"text_31\">\n      <!-- 0.8 -->\n      <g transform=\"translate(378.958425 70.199422)scale(0.1 -0.1)\">\n       <defs>\n        <path id=\"DejaVuSans-38\" d=\"M 2034 2216 \nQ 1584 2216 1326 1975 \nQ 1069 1734 1069 1313 \nQ 1069 891 1326 650 \nQ 1584 409 2034 409 \nQ 2484 409 2743 651 \nQ 3003 894 3003 1313 \nQ 3003 1734 2745 1975 \nQ 2488 2216 2034 2216 \nz\nM 1403 2484 \nQ 997 2584 770 2862 \nQ 544 3141 544 3541 \nQ 544 4100 942 4425 \nQ 1341 4750 2034 4750 \nQ 2731 4750 3128 4425 \nQ 3525 4100 3525 3541 \nQ 3525 3141 3298 2862 \nQ 3072 2584 2669 2484 \nQ 3125 2378 3379 2068 \nQ 3634 1759 3634 1313 \nQ 3634 634 3220 271 \nQ 2806 -91 2034 -91 \nQ 1263 -91 848 271 \nQ 434 634 434 1313 \nQ 434 1759 690 2068 \nQ 947 2378 1403 2484 \nz\nM 1172 3481 \nQ 1172 3119 1398 2916 \nQ 1625 2713 2034 2713 \nQ 2441 2713 2670 2916 \nQ 2900 3119 2900 3481 \nQ 2900 3844 2670 4047 \nQ 2441 4250 2034 4250 \nQ 1625 4250 1398 4047 \nQ 1172 3844 1172 3481 \nz\n\" transform=\"scale(0.015625)\"/>\n       </defs>\n       <use xlink:href=\"#DejaVuSans-30\"/>\n       <use xlink:href=\"#DejaVuSans-2e\" x=\"63.623047\"/>\n       <use xlink:href=\"#DejaVuSans-38\" x=\"95.410156\"/>\n      </g>\n     </g>\n    </g>\n   </g>\n   <g id=\"LineCollection_1\"/>\n   <g id=\"patch_44\">\n    <path d=\"M 366.250625 165.250433 \nL 369.104525 165.250433 \nL 371.958425 165.250433 \nL 371.958425 51.094433 \nL 369.104525 51.094433 \nL 366.250625 51.094433 \nL 366.250625 165.250433 \nz\n\" style=\"fill: none; stroke: #000000; stroke-width: 0.8; stroke-linejoin: miter; stroke-linecap: square\"/>\n   </g>\n  </g>\n </g>\n <defs>\n  <clipPath id=\"pbf0681b4ef\">\n   <rect x=\"34.240625\" y=\"22.318125\" width=\"67.930435\" height=\"67.930435\"/>\n  </clipPath>\n  <clipPath id=\"pca1d96da1f\">\n   <rect x=\"115.757147\" y=\"22.318125\" width=\"67.930435\" height=\"67.930435\"/>\n  </clipPath>\n  <clipPath id=\"p3ab24776d9\">\n   <rect x=\"197.273668\" y=\"22.318125\" width=\"67.930435\" height=\"67.930435\"/>\n  </clipPath>\n  <clipPath id=\"padae6c9b82\">\n   <rect x=\"278.79019\" y=\"22.318125\" width=\"67.930435\" height=\"67.930435\"/>\n  </clipPath>\n  <clipPath id=\"pa538d8ab48\">\n   <rect x=\"34.240625\" y=\"126.096307\" width=\"67.930435\" height=\"67.930435\"/>\n  </clipPath>\n  <clipPath id=\"p10f1af93a4\">\n   <rect x=\"115.757147\" y=\"126.096307\" width=\"67.930435\" height=\"67.930435\"/>\n  </clipPath>\n  <clipPath id=\"pf578f3e915\">\n   <rect x=\"197.273668\" y=\"126.096307\" width=\"67.930435\" height=\"67.930435\"/>\n  </clipPath>\n  <clipPath id=\"pf853f3d97f\">\n   <rect x=\"278.79019\" y=\"126.096307\" width=\"67.930435\" height=\"67.930435\"/>\n  </clipPath>\n  <clipPath id=\"p62c87db77c\">\n   <rect x=\"366.250625\" y=\"51.094433\" width=\"5.7078\" height=\"114.156\"/>\n  </clipPath>\n </defs>\n</svg>\n"
          },
          "metadata": {
            "needs_background": "light"
          }
        }
      ],
      "source": [
        "d2l.show_heatmaps(enc_attention_weights.cpu(), \n",
        "                  xlabel='Key positions',\n",
        "                  ylabel='Query positions', \n",
        "                  titles=['Head %d' % i for i in range(1, 5)],\n",
        "                  figsize=(7, 3.5))"
      ]
    },
    {
      "cell_type": "markdown",
      "metadata": {
        "origin_pos": 64,
        "id": "_Rmmnx5dOvLy"
      },
      "source": [
        "[**To visualize both the decoder self-attention weights and the encoder-decoder attention weights,\n",
        "we need more data manipulations.**]\n",
        "For example,\n",
        "we fill the masked attention weights with zero.\n",
        "Note that\n",
        "the decoder self-attention weights\n",
        "and the encoder-decoder attention weights\n",
        "both have the same queries:\n",
        "the beginning-of-sequence token followed by\n",
        "the output tokens.\n"
      ]
    },
    {
      "cell_type": "code",
      "execution_count": 18,
      "metadata": {
        "origin_pos": 66,
        "tab": [
          "pytorch"
        ],
        "id": "TaNYWIrXOvLz",
        "outputId": "2553c31c-a566-4bba-85d6-3f59f6544941",
        "colab": {
          "base_uri": "https://localhost:8080/"
        }
      },
      "outputs": [
        {
          "output_type": "execute_result",
          "data": {
            "text/plain": [
              "(torch.Size([2, 4, 6, 10]), torch.Size([2, 4, 6, 10]))"
            ]
          },
          "metadata": {},
          "execution_count": 18
        }
      ],
      "source": [
        "dec_attention_weights_2d = [\n",
        "  head[0].tolist()\n",
        "  for step in dec_attention_weight_seq\n",
        "  for attn in step for blk in attn for head in blk\n",
        "]\n",
        "\n",
        "dec_attention_weights_filled = torch.tensor(pd.DataFrame(dec_attention_weights_2d).fillna(0.0).values)\n",
        "dec_attention_weights = dec_attention_weights_filled.reshape((-1, 2, num_layers, num_heads, num_steps))\n",
        "dec_self_attention_weights, dec_inter_attention_weights = dec_attention_weights.permute(1, 2, 3, 0, 4)\n",
        "dec_self_attention_weights.shape, dec_inter_attention_weights.shape"
      ]
    },
    {
      "cell_type": "markdown",
      "metadata": {
        "origin_pos": 68,
        "id": "jmkm_edcOvLz"
      },
      "source": [
        "Due to the auto-regressive property of the decoder self-attention,\n",
        "no query attends to key-value pairs after the query position.\n"
      ]
    },
    {
      "cell_type": "code",
      "execution_count": 20,
      "metadata": {
        "origin_pos": 69,
        "tab": [
          "pytorch"
        ],
        "id": "GZHpLPGROvLz",
        "outputId": "be77151e-2937-4d3a-932f-e30ce4cfdf68",
        "colab": {
          "base_uri": "https://localhost:8080/",
          "height": 330
        }
      },
      "outputs": [
        {
          "output_type": "display_data",
          "data": {
            "text/plain": [
              "<Figure size 504x252 with 9 Axes>"
            ],
            "image/svg+xml": "<?xml version=\"1.0\" encoding=\"utf-8\" standalone=\"no\"?>\n<!DOCTYPE svg PUBLIC \"-//W3C//DTD SVG 1.1//EN\"\n  \"http://www.w3.org/Graphics/SVG/1.1/DTD/svg11.dtd\">\n<svg xmlns:xlink=\"http://www.w3.org/1999/xlink\" width=\"402.06155pt\" height=\"231.582992pt\" viewBox=\"0 0 402.06155 231.582992\" xmlns=\"http://www.w3.org/2000/svg\" version=\"1.1\">\n <metadata>\n  <rdf:RDF xmlns:dc=\"http://purl.org/dc/elements/1.1/\" xmlns:cc=\"http://creativecommons.org/ns#\" xmlns:rdf=\"http://www.w3.org/1999/02/22-rdf-syntax-ns#\">\n   <cc:Work>\n    <dc:type rdf:resource=\"http://purl.org/dc/dcmitype/StillImage\"/>\n    <dc:date>2022-02-18T12:06:23.484724</dc:date>\n    <dc:format>image/svg+xml</dc:format>\n    <dc:creator>\n     <cc:Agent>\n      <dc:title>Matplotlib v3.5.1, https://matplotlib.org/</dc:title>\n     </cc:Agent>\n    </dc:creator>\n   </cc:Work>\n  </rdf:RDF>\n </metadata>\n <defs>\n  <style type=\"text/css\">*{stroke-linejoin: round; stroke-linecap: butt}</style>\n </defs>\n <g id=\"figure_1\">\n  <g id=\"patch_1\">\n   <path d=\"M 0 231.582992 \nL 402.06155 231.582992 \nL 402.06155 0 \nL 0 0 \nL 0 231.582992 \nz\n\" style=\"fill: none\"/>\n  </g>\n  <g id=\"axes_1\">\n   <g id=\"patch_2\">\n    <path d=\"M 34.240625 90.24856 \nL 102.17106 90.24856 \nL 102.17106 22.318125 \nL 34.240625 22.318125 \nz\n\" style=\"fill: #ffffff\"/>\n   </g>\n   <g clip-path=\"url(#pd94ea327f3)\">\n    <image xlink:href=\"data:image/png;base64,\niVBORw0KGgoAAAANSUhEUgAAAEQAAABECAYAAAA4E5OyAAAA10lEQVR4nO3auw3CMBRAUQfRwQjsByMxIAPQUEN/qhgp4qN7ahfW1StiO8vzcX+OP3c5nFav3W24j59UEBQEBUFBUBAUBAVBQVAQ7D+9gXfMfIqPMcb1cVu9tglBQVAQFAQFQUFQEBQEBUFBUBB8zVlm5nwyczaZ1YSgICgICoKCoCAoCAqCgqAgWGb+INry+v9bNCEoCAqCgqAgKAgKgoKgICgICoKCoCAoCAqCgqAgKAgKgoKgICgIlvM4rn6G+MVnhVlNCAqCgqAgKAgKgoKgICgICoIXu9AVwnK8OkUAAAAASUVORK5CYII=\" id=\"image8a92161bc3\" transform=\"scale(1 -1)translate(0 -68)\" x=\"34.240625\" y=\"-22.24856\" width=\"68\" height=\"68\"/>\n   </g>\n   <g id=\"matplotlib.axis_1\">\n    <g id=\"xtick_1\">\n     <g id=\"line2d_1\">\n      <defs>\n       <path id=\"m80e9491d96\" d=\"M 0 0 \nL 0 3.5 \n\" style=\"stroke: #000000; stroke-width: 0.8\"/>\n      </defs>\n      <g>\n       <use xlink:href=\"#m80e9491d96\" x=\"39.901495\" y=\"90.24856\" style=\"stroke: #000000; stroke-width: 0.8\"/>\n      </g>\n     </g>\n    </g>\n    <g id=\"xtick_2\">\n     <g id=\"line2d_2\">\n      <g>\n       <use xlink:href=\"#m80e9491d96\" x=\"96.51019\" y=\"90.24856\" style=\"stroke: #000000; stroke-width: 0.8\"/>\n      </g>\n     </g>\n    </g>\n   </g>\n   <g id=\"matplotlib.axis_2\">\n    <g id=\"ytick_1\">\n     <g id=\"line2d_3\">\n      <defs>\n       <path id=\"m2b20a023eb\" d=\"M 0 0 \nL -3.5 0 \n\" style=\"stroke: #000000; stroke-width: 0.8\"/>\n      </defs>\n      <g>\n       <use xlink:href=\"#m2b20a023eb\" x=\"34.240625\" y=\"27.978995\" style=\"stroke: #000000; stroke-width: 0.8\"/>\n      </g>\n     </g>\n     <g id=\"text_1\">\n      <!-- 0 -->\n      <g transform=\"translate(20.878125 31.778213)scale(0.1 -0.1)\">\n       <defs>\n        <path id=\"DejaVuSans-30\" d=\"M 2034 4250 \nQ 1547 4250 1301 3770 \nQ 1056 3291 1056 2328 \nQ 1056 1369 1301 889 \nQ 1547 409 2034 409 \nQ 2525 409 2770 889 \nQ 3016 1369 3016 2328 \nQ 3016 3291 2770 3770 \nQ 2525 4250 2034 4250 \nz\nM 2034 4750 \nQ 2819 4750 3233 4129 \nQ 3647 3509 3647 2328 \nQ 3647 1150 3233 529 \nQ 2819 -91 2034 -91 \nQ 1250 -91 836 529 \nQ 422 1150 422 2328 \nQ 422 3509 836 4129 \nQ 1250 4750 2034 4750 \nz\n\" transform=\"scale(0.015625)\"/>\n       </defs>\n       <use xlink:href=\"#DejaVuSans-30\"/>\n      </g>\n     </g>\n    </g>\n    <g id=\"ytick_2\">\n     <g id=\"line2d_4\">\n      <g>\n       <use xlink:href=\"#m2b20a023eb\" x=\"34.240625\" y=\"50.622473\" style=\"stroke: #000000; stroke-width: 0.8\"/>\n      </g>\n     </g>\n     <g id=\"text_2\">\n      <!-- 2 -->\n      <g transform=\"translate(20.878125 54.421692)scale(0.1 -0.1)\">\n       <defs>\n        <path id=\"DejaVuSans-32\" d=\"M 1228 531 \nL 3431 531 \nL 3431 0 \nL 469 0 \nL 469 531 \nQ 828 903 1448 1529 \nQ 2069 2156 2228 2338 \nQ 2531 2678 2651 2914 \nQ 2772 3150 2772 3378 \nQ 2772 3750 2511 3984 \nQ 2250 4219 1831 4219 \nQ 1534 4219 1204 4116 \nQ 875 4013 500 3803 \nL 500 4441 \nQ 881 4594 1212 4672 \nQ 1544 4750 1819 4750 \nQ 2544 4750 2975 4387 \nQ 3406 4025 3406 3419 \nQ 3406 3131 3298 2873 \nQ 3191 2616 2906 2266 \nQ 2828 2175 2409 1742 \nQ 1991 1309 1228 531 \nz\n\" transform=\"scale(0.015625)\"/>\n       </defs>\n       <use xlink:href=\"#DejaVuSans-32\"/>\n      </g>\n     </g>\n    </g>\n    <g id=\"ytick_3\">\n     <g id=\"line2d_5\">\n      <g>\n       <use xlink:href=\"#m2b20a023eb\" x=\"34.240625\" y=\"73.265951\" style=\"stroke: #000000; stroke-width: 0.8\"/>\n      </g>\n     </g>\n     <g id=\"text_3\">\n      <!-- 4 -->\n      <g transform=\"translate(20.878125 77.06517)scale(0.1 -0.1)\">\n       <defs>\n        <path id=\"DejaVuSans-34\" d=\"M 2419 4116 \nL 825 1625 \nL 2419 1625 \nL 2419 4116 \nz\nM 2253 4666 \nL 3047 4666 \nL 3047 1625 \nL 3713 1625 \nL 3713 1100 \nL 3047 1100 \nL 3047 0 \nL 2419 0 \nL 2419 1100 \nL 313 1100 \nL 313 1709 \nL 2253 4666 \nz\n\" transform=\"scale(0.015625)\"/>\n       </defs>\n       <use xlink:href=\"#DejaVuSans-34\"/>\n      </g>\n     </g>\n    </g>\n    <g id=\"text_4\">\n     <!-- Query positions -->\n     <g transform=\"translate(14.798437 95.477874)rotate(-90)scale(0.1 -0.1)\">\n      <defs>\n       <path id=\"DejaVuSans-51\" d=\"M 2522 4238 \nQ 1834 4238 1429 3725 \nQ 1025 3213 1025 2328 \nQ 1025 1447 1429 934 \nQ 1834 422 2522 422 \nQ 3209 422 3611 934 \nQ 4013 1447 4013 2328 \nQ 4013 3213 3611 3725 \nQ 3209 4238 2522 4238 \nz\nM 3406 84 \nL 4238 -825 \nL 3475 -825 \nL 2784 -78 \nQ 2681 -84 2626 -87 \nQ 2572 -91 2522 -91 \nQ 1538 -91 948 567 \nQ 359 1225 359 2328 \nQ 359 3434 948 4092 \nQ 1538 4750 2522 4750 \nQ 3503 4750 4090 4092 \nQ 4678 3434 4678 2328 \nQ 4678 1516 4351 937 \nQ 4025 359 3406 84 \nz\n\" transform=\"scale(0.015625)\"/>\n       <path id=\"DejaVuSans-75\" d=\"M 544 1381 \nL 544 3500 \nL 1119 3500 \nL 1119 1403 \nQ 1119 906 1312 657 \nQ 1506 409 1894 409 \nQ 2359 409 2629 706 \nQ 2900 1003 2900 1516 \nL 2900 3500 \nL 3475 3500 \nL 3475 0 \nL 2900 0 \nL 2900 538 \nQ 2691 219 2414 64 \nQ 2138 -91 1772 -91 \nQ 1169 -91 856 284 \nQ 544 659 544 1381 \nz\nM 1991 3584 \nL 1991 3584 \nz\n\" transform=\"scale(0.015625)\"/>\n       <path id=\"DejaVuSans-65\" d=\"M 3597 1894 \nL 3597 1613 \nL 953 1613 \nQ 991 1019 1311 708 \nQ 1631 397 2203 397 \nQ 2534 397 2845 478 \nQ 3156 559 3463 722 \nL 3463 178 \nQ 3153 47 2828 -22 \nQ 2503 -91 2169 -91 \nQ 1331 -91 842 396 \nQ 353 884 353 1716 \nQ 353 2575 817 3079 \nQ 1281 3584 2069 3584 \nQ 2775 3584 3186 3129 \nQ 3597 2675 3597 1894 \nz\nM 3022 2063 \nQ 3016 2534 2758 2815 \nQ 2500 3097 2075 3097 \nQ 1594 3097 1305 2825 \nQ 1016 2553 972 2059 \nL 3022 2063 \nz\n\" transform=\"scale(0.015625)\"/>\n       <path id=\"DejaVuSans-72\" d=\"M 2631 2963 \nQ 2534 3019 2420 3045 \nQ 2306 3072 2169 3072 \nQ 1681 3072 1420 2755 \nQ 1159 2438 1159 1844 \nL 1159 0 \nL 581 0 \nL 581 3500 \nL 1159 3500 \nL 1159 2956 \nQ 1341 3275 1631 3429 \nQ 1922 3584 2338 3584 \nQ 2397 3584 2469 3576 \nQ 2541 3569 2628 3553 \nL 2631 2963 \nz\n\" transform=\"scale(0.015625)\"/>\n       <path id=\"DejaVuSans-79\" d=\"M 2059 -325 \nQ 1816 -950 1584 -1140 \nQ 1353 -1331 966 -1331 \nL 506 -1331 \nL 506 -850 \nL 844 -850 \nQ 1081 -850 1212 -737 \nQ 1344 -625 1503 -206 \nL 1606 56 \nL 191 3500 \nL 800 3500 \nL 1894 763 \nL 2988 3500 \nL 3597 3500 \nL 2059 -325 \nz\n\" transform=\"scale(0.015625)\"/>\n       <path id=\"DejaVuSans-20\" transform=\"scale(0.015625)\"/>\n       <path id=\"DejaVuSans-70\" d=\"M 1159 525 \nL 1159 -1331 \nL 581 -1331 \nL 581 3500 \nL 1159 3500 \nL 1159 2969 \nQ 1341 3281 1617 3432 \nQ 1894 3584 2278 3584 \nQ 2916 3584 3314 3078 \nQ 3713 2572 3713 1747 \nQ 3713 922 3314 415 \nQ 2916 -91 2278 -91 \nQ 1894 -91 1617 61 \nQ 1341 213 1159 525 \nz\nM 3116 1747 \nQ 3116 2381 2855 2742 \nQ 2594 3103 2138 3103 \nQ 1681 3103 1420 2742 \nQ 1159 2381 1159 1747 \nQ 1159 1113 1420 752 \nQ 1681 391 2138 391 \nQ 2594 391 2855 752 \nQ 3116 1113 3116 1747 \nz\n\" transform=\"scale(0.015625)\"/>\n       <path id=\"DejaVuSans-6f\" d=\"M 1959 3097 \nQ 1497 3097 1228 2736 \nQ 959 2375 959 1747 \nQ 959 1119 1226 758 \nQ 1494 397 1959 397 \nQ 2419 397 2687 759 \nQ 2956 1122 2956 1747 \nQ 2956 2369 2687 2733 \nQ 2419 3097 1959 3097 \nz\nM 1959 3584 \nQ 2709 3584 3137 3096 \nQ 3566 2609 3566 1747 \nQ 3566 888 3137 398 \nQ 2709 -91 1959 -91 \nQ 1206 -91 779 398 \nQ 353 888 353 1747 \nQ 353 2609 779 3096 \nQ 1206 3584 1959 3584 \nz\n\" transform=\"scale(0.015625)\"/>\n       <path id=\"DejaVuSans-73\" d=\"M 2834 3397 \nL 2834 2853 \nQ 2591 2978 2328 3040 \nQ 2066 3103 1784 3103 \nQ 1356 3103 1142 2972 \nQ 928 2841 928 2578 \nQ 928 2378 1081 2264 \nQ 1234 2150 1697 2047 \nL 1894 2003 \nQ 2506 1872 2764 1633 \nQ 3022 1394 3022 966 \nQ 3022 478 2636 193 \nQ 2250 -91 1575 -91 \nQ 1294 -91 989 -36 \nQ 684 19 347 128 \nL 347 722 \nQ 666 556 975 473 \nQ 1284 391 1588 391 \nQ 1994 391 2212 530 \nQ 2431 669 2431 922 \nQ 2431 1156 2273 1281 \nQ 2116 1406 1581 1522 \nL 1381 1569 \nQ 847 1681 609 1914 \nQ 372 2147 372 2553 \nQ 372 3047 722 3315 \nQ 1072 3584 1716 3584 \nQ 2034 3584 2315 3537 \nQ 2597 3491 2834 3397 \nz\n\" transform=\"scale(0.015625)\"/>\n       <path id=\"DejaVuSans-69\" d=\"M 603 3500 \nL 1178 3500 \nL 1178 0 \nL 603 0 \nL 603 3500 \nz\nM 603 4863 \nL 1178 4863 \nL 1178 4134 \nL 603 4134 \nL 603 4863 \nz\n\" transform=\"scale(0.015625)\"/>\n       <path id=\"DejaVuSans-74\" d=\"M 1172 4494 \nL 1172 3500 \nL 2356 3500 \nL 2356 3053 \nL 1172 3053 \nL 1172 1153 \nQ 1172 725 1289 603 \nQ 1406 481 1766 481 \nL 2356 481 \nL 2356 0 \nL 1766 0 \nQ 1100 0 847 248 \nQ 594 497 594 1153 \nL 594 3053 \nL 172 3053 \nL 172 3500 \nL 594 3500 \nL 594 4494 \nL 1172 4494 \nz\n\" transform=\"scale(0.015625)\"/>\n       <path id=\"DejaVuSans-6e\" d=\"M 3513 2113 \nL 3513 0 \nL 2938 0 \nL 2938 2094 \nQ 2938 2591 2744 2837 \nQ 2550 3084 2163 3084 \nQ 1697 3084 1428 2787 \nQ 1159 2491 1159 1978 \nL 1159 0 \nL 581 0 \nL 581 3500 \nL 1159 3500 \nL 1159 2956 \nQ 1366 3272 1645 3428 \nQ 1925 3584 2291 3584 \nQ 2894 3584 3203 3211 \nQ 3513 2838 3513 2113 \nz\n\" transform=\"scale(0.015625)\"/>\n      </defs>\n      <use xlink:href=\"#DejaVuSans-51\"/>\n      <use xlink:href=\"#DejaVuSans-75\" x=\"78.710938\"/>\n      <use xlink:href=\"#DejaVuSans-65\" x=\"142.089844\"/>\n      <use xlink:href=\"#DejaVuSans-72\" x=\"203.613281\"/>\n      <use xlink:href=\"#DejaVuSans-79\" x=\"244.726562\"/>\n      <use xlink:href=\"#DejaVuSans-20\" x=\"303.90625\"/>\n      <use xlink:href=\"#DejaVuSans-70\" x=\"335.693359\"/>\n      <use xlink:href=\"#DejaVuSans-6f\" x=\"399.169922\"/>\n      <use xlink:href=\"#DejaVuSans-73\" x=\"460.351562\"/>\n      <use xlink:href=\"#DejaVuSans-69\" x=\"512.451172\"/>\n      <use xlink:href=\"#DejaVuSans-74\" x=\"540.234375\"/>\n      <use xlink:href=\"#DejaVuSans-69\" x=\"579.443359\"/>\n      <use xlink:href=\"#DejaVuSans-6f\" x=\"607.226562\"/>\n      <use xlink:href=\"#DejaVuSans-6e\" x=\"668.408203\"/>\n      <use xlink:href=\"#DejaVuSans-73\" x=\"731.787109\"/>\n     </g>\n    </g>\n   </g>\n   <g id=\"patch_3\">\n    <path d=\"M 34.240625 90.24856 \nL 34.240625 22.318125 \n\" style=\"fill: none; stroke: #000000; stroke-width: 0.8; stroke-linejoin: miter; stroke-linecap: square\"/>\n   </g>\n   <g id=\"patch_4\">\n    <path d=\"M 102.17106 90.24856 \nL 102.17106 22.318125 \n\" style=\"fill: none; stroke: #000000; stroke-width: 0.8; stroke-linejoin: miter; stroke-linecap: square\"/>\n   </g>\n   <g id=\"patch_5\">\n    <path d=\"M 34.240625 90.24856 \nL 102.17106 90.24856 \n\" style=\"fill: none; stroke: #000000; stroke-width: 0.8; stroke-linejoin: miter; stroke-linecap: square\"/>\n   </g>\n   <g id=\"patch_6\">\n    <path d=\"M 34.240625 22.318125 \nL 102.17106 22.318125 \n\" style=\"fill: none; stroke: #000000; stroke-width: 0.8; stroke-linejoin: miter; stroke-linecap: square\"/>\n   </g>\n   <g id=\"text_5\">\n    <!-- Head 1 -->\n    <g transform=\"translate(46.791467 16.318125)scale(0.12 -0.12)\">\n     <defs>\n      <path id=\"DejaVuSans-48\" d=\"M 628 4666 \nL 1259 4666 \nL 1259 2753 \nL 3553 2753 \nL 3553 4666 \nL 4184 4666 \nL 4184 0 \nL 3553 0 \nL 3553 2222 \nL 1259 2222 \nL 1259 0 \nL 628 0 \nL 628 4666 \nz\n\" transform=\"scale(0.015625)\"/>\n      <path id=\"DejaVuSans-61\" d=\"M 2194 1759 \nQ 1497 1759 1228 1600 \nQ 959 1441 959 1056 \nQ 959 750 1161 570 \nQ 1363 391 1709 391 \nQ 2188 391 2477 730 \nQ 2766 1069 2766 1631 \nL 2766 1759 \nL 2194 1759 \nz\nM 3341 1997 \nL 3341 0 \nL 2766 0 \nL 2766 531 \nQ 2569 213 2275 61 \nQ 1981 -91 1556 -91 \nQ 1019 -91 701 211 \nQ 384 513 384 1019 \nQ 384 1609 779 1909 \nQ 1175 2209 1959 2209 \nL 2766 2209 \nL 2766 2266 \nQ 2766 2663 2505 2880 \nQ 2244 3097 1772 3097 \nQ 1472 3097 1187 3025 \nQ 903 2953 641 2809 \nL 641 3341 \nQ 956 3463 1253 3523 \nQ 1550 3584 1831 3584 \nQ 2591 3584 2966 3190 \nQ 3341 2797 3341 1997 \nz\n\" transform=\"scale(0.015625)\"/>\n      <path id=\"DejaVuSans-64\" d=\"M 2906 2969 \nL 2906 4863 \nL 3481 4863 \nL 3481 0 \nL 2906 0 \nL 2906 525 \nQ 2725 213 2448 61 \nQ 2172 -91 1784 -91 \nQ 1150 -91 751 415 \nQ 353 922 353 1747 \nQ 353 2572 751 3078 \nQ 1150 3584 1784 3584 \nQ 2172 3584 2448 3432 \nQ 2725 3281 2906 2969 \nz\nM 947 1747 \nQ 947 1113 1208 752 \nQ 1469 391 1925 391 \nQ 2381 391 2643 752 \nQ 2906 1113 2906 1747 \nQ 2906 2381 2643 2742 \nQ 2381 3103 1925 3103 \nQ 1469 3103 1208 2742 \nQ 947 2381 947 1747 \nz\n\" transform=\"scale(0.015625)\"/>\n      <path id=\"DejaVuSans-31\" d=\"M 794 531 \nL 1825 531 \nL 1825 4091 \nL 703 3866 \nL 703 4441 \nL 1819 4666 \nL 2450 4666 \nL 2450 531 \nL 3481 531 \nL 3481 0 \nL 794 0 \nL 794 531 \nz\n\" transform=\"scale(0.015625)\"/>\n     </defs>\n     <use xlink:href=\"#DejaVuSans-48\"/>\n     <use xlink:href=\"#DejaVuSans-65\" x=\"75.195312\"/>\n     <use xlink:href=\"#DejaVuSans-61\" x=\"136.71875\"/>\n     <use xlink:href=\"#DejaVuSans-64\" x=\"197.998047\"/>\n     <use xlink:href=\"#DejaVuSans-20\" x=\"261.474609\"/>\n     <use xlink:href=\"#DejaVuSans-31\" x=\"293.261719\"/>\n    </g>\n   </g>\n  </g>\n  <g id=\"axes_2\">\n   <g id=\"patch_7\">\n    <path d=\"M 115.757147 90.24856 \nL 183.687582 90.24856 \nL 183.687582 22.318125 \nL 115.757147 22.318125 \nz\n\" style=\"fill: #ffffff\"/>\n   </g>\n   <g clip-path=\"url(#p921563b243)\">\n    <image xlink:href=\"data:image/png;base64,\niVBORw0KGgoAAAANSUhEUgAAAEQAAABECAYAAAA4E5OyAAAAzklEQVR4nO3asQ3CMBBA0YQWRmA/GIkBGYAmdeh/FReWCHqvTmF9XWFHt+7bZ1/+3PN6P/ztZeI5TkmQECQECUFCkBAkBAlBQpBYZ17dR67Mr+096xhDTEgIEoKEICFICBKChCAhSAgSgsT6WG6H3zK/8t6YyYSEICFICBKChCAhSAgSgoQgIUgIEoKEICFICBKChCAhSAgSgsTQBtHIRtCynPMvvQkJQUKQECQECUFCkBAkBAlBQpCwQRQmJAQJQUKQECQECUFCkBAkBIkvLwwagpT8inQAAAAASUVORK5CYII=\" id=\"image5b2a4bd76c\" transform=\"scale(1 -1)translate(0 -68)\" x=\"115.757147\" y=\"-22.24856\" width=\"68\" height=\"68\"/>\n   </g>\n   <g id=\"matplotlib.axis_3\">\n    <g id=\"xtick_3\">\n     <g id=\"line2d_6\">\n      <g>\n       <use xlink:href=\"#m80e9491d96\" x=\"121.418016\" y=\"90.24856\" style=\"stroke: #000000; stroke-width: 0.8\"/>\n      </g>\n     </g>\n    </g>\n    <g id=\"xtick_4\">\n     <g id=\"line2d_7\">\n      <g>\n       <use xlink:href=\"#m80e9491d96\" x=\"178.026712\" y=\"90.24856\" style=\"stroke: #000000; stroke-width: 0.8\"/>\n      </g>\n     </g>\n    </g>\n   </g>\n   <g id=\"matplotlib.axis_4\">\n    <g id=\"ytick_4\">\n     <g id=\"line2d_8\">\n      <g>\n       <use xlink:href=\"#m2b20a023eb\" x=\"115.757147\" y=\"27.978995\" style=\"stroke: #000000; stroke-width: 0.8\"/>\n      </g>\n     </g>\n    </g>\n    <g id=\"ytick_5\">\n     <g id=\"line2d_9\">\n      <g>\n       <use xlink:href=\"#m2b20a023eb\" x=\"115.757147\" y=\"50.622473\" style=\"stroke: #000000; stroke-width: 0.8\"/>\n      </g>\n     </g>\n    </g>\n    <g id=\"ytick_6\">\n     <g id=\"line2d_10\">\n      <g>\n       <use xlink:href=\"#m2b20a023eb\" x=\"115.757147\" y=\"73.265951\" style=\"stroke: #000000; stroke-width: 0.8\"/>\n      </g>\n     </g>\n    </g>\n   </g>\n   <g id=\"patch_8\">\n    <path d=\"M 115.757147 90.24856 \nL 115.757147 22.318125 \n\" style=\"fill: none; stroke: #000000; stroke-width: 0.8; stroke-linejoin: miter; stroke-linecap: square\"/>\n   </g>\n   <g id=\"patch_9\">\n    <path d=\"M 183.687582 90.24856 \nL 183.687582 22.318125 \n\" style=\"fill: none; stroke: #000000; stroke-width: 0.8; stroke-linejoin: miter; stroke-linecap: square\"/>\n   </g>\n   <g id=\"patch_10\">\n    <path d=\"M 115.757147 90.24856 \nL 183.687582 90.24856 \n\" style=\"fill: none; stroke: #000000; stroke-width: 0.8; stroke-linejoin: miter; stroke-linecap: square\"/>\n   </g>\n   <g id=\"patch_11\">\n    <path d=\"M 115.757147 22.318125 \nL 183.687582 22.318125 \n\" style=\"fill: none; stroke: #000000; stroke-width: 0.8; stroke-linejoin: miter; stroke-linecap: square\"/>\n   </g>\n   <g id=\"text_6\">\n    <!-- Head 2 -->\n    <g transform=\"translate(128.307989 16.318125)scale(0.12 -0.12)\">\n     <use xlink:href=\"#DejaVuSans-48\"/>\n     <use xlink:href=\"#DejaVuSans-65\" x=\"75.195312\"/>\n     <use xlink:href=\"#DejaVuSans-61\" x=\"136.71875\"/>\n     <use xlink:href=\"#DejaVuSans-64\" x=\"197.998047\"/>\n     <use xlink:href=\"#DejaVuSans-20\" x=\"261.474609\"/>\n     <use xlink:href=\"#DejaVuSans-32\" x=\"293.261719\"/>\n    </g>\n   </g>\n  </g>\n  <g id=\"axes_3\">\n   <g id=\"patch_12\">\n    <path d=\"M 197.273668 90.24856 \nL 265.204103 90.24856 \nL 265.204103 22.318125 \nL 197.273668 22.318125 \nz\n\" style=\"fill: #ffffff\"/>\n   </g>\n   <g clip-path=\"url(#p5bbeae8b50)\">\n    <image xlink:href=\"data:image/png;base64,\niVBORw0KGgoAAAANSUhEUgAAAEQAAABECAYAAAA4E5OyAAAAtklEQVR4nO3WoQ2DABBAUagtI7BfGakDMgAGTf1TGBJo/tMnLj8nbjz27Rj+3PKeT8++LtzjkQqCgqAgKAgKgoKgICgICoLxM0ynX/fvvl65yy10ISgICoKCoCAoCAqCgqAgKAgKgoKgICgICoKCoCAoCAqCgqAgKAgKgoKgICgICoKCoCAoCAqCgqAgKAgKgoKgICgICoKCoCAoCAqCgqAgKAgKgoKgICgICoKCoCAoCAqCguAHDZkI3DRGdXUAAAAASUVORK5CYII=\" id=\"image6844cbe703\" transform=\"scale(1 -1)translate(0 -68)\" x=\"197.273668\" y=\"-22.24856\" width=\"68\" height=\"68\"/>\n   </g>\n   <g id=\"matplotlib.axis_5\">\n    <g id=\"xtick_5\">\n     <g id=\"line2d_11\">\n      <g>\n       <use xlink:href=\"#m80e9491d96\" x=\"202.934538\" y=\"90.24856\" style=\"stroke: #000000; stroke-width: 0.8\"/>\n      </g>\n     </g>\n    </g>\n    <g id=\"xtick_6\">\n     <g id=\"line2d_12\">\n      <g>\n       <use xlink:href=\"#m80e9491d96\" x=\"259.543234\" y=\"90.24856\" style=\"stroke: #000000; stroke-width: 0.8\"/>\n      </g>\n     </g>\n    </g>\n   </g>\n   <g id=\"matplotlib.axis_6\">\n    <g id=\"ytick_7\">\n     <g id=\"line2d_13\">\n      <g>\n       <use xlink:href=\"#m2b20a023eb\" x=\"197.273668\" y=\"27.978995\" style=\"stroke: #000000; stroke-width: 0.8\"/>\n      </g>\n     </g>\n    </g>\n    <g id=\"ytick_8\">\n     <g id=\"line2d_14\">\n      <g>\n       <use xlink:href=\"#m2b20a023eb\" x=\"197.273668\" y=\"50.622473\" style=\"stroke: #000000; stroke-width: 0.8\"/>\n      </g>\n     </g>\n    </g>\n    <g id=\"ytick_9\">\n     <g id=\"line2d_15\">\n      <g>\n       <use xlink:href=\"#m2b20a023eb\" x=\"197.273668\" y=\"73.265951\" style=\"stroke: #000000; stroke-width: 0.8\"/>\n      </g>\n     </g>\n    </g>\n   </g>\n   <g id=\"patch_13\">\n    <path d=\"M 197.273668 90.24856 \nL 197.273668 22.318125 \n\" style=\"fill: none; stroke: #000000; stroke-width: 0.8; stroke-linejoin: miter; stroke-linecap: square\"/>\n   </g>\n   <g id=\"patch_14\">\n    <path d=\"M 265.204103 90.24856 \nL 265.204103 22.318125 \n\" style=\"fill: none; stroke: #000000; stroke-width: 0.8; stroke-linejoin: miter; stroke-linecap: square\"/>\n   </g>\n   <g id=\"patch_15\">\n    <path d=\"M 197.273668 90.24856 \nL 265.204103 90.24856 \n\" style=\"fill: none; stroke: #000000; stroke-width: 0.8; stroke-linejoin: miter; stroke-linecap: square\"/>\n   </g>\n   <g id=\"patch_16\">\n    <path d=\"M 197.273668 22.318125 \nL 265.204103 22.318125 \n\" style=\"fill: none; stroke: #000000; stroke-width: 0.8; stroke-linejoin: miter; stroke-linecap: square\"/>\n   </g>\n   <g id=\"text_7\">\n    <!-- Head 3 -->\n    <g transform=\"translate(209.824511 16.318125)scale(0.12 -0.12)\">\n     <defs>\n      <path id=\"DejaVuSans-33\" d=\"M 2597 2516 \nQ 3050 2419 3304 2112 \nQ 3559 1806 3559 1356 \nQ 3559 666 3084 287 \nQ 2609 -91 1734 -91 \nQ 1441 -91 1130 -33 \nQ 819 25 488 141 \nL 488 750 \nQ 750 597 1062 519 \nQ 1375 441 1716 441 \nQ 2309 441 2620 675 \nQ 2931 909 2931 1356 \nQ 2931 1769 2642 2001 \nQ 2353 2234 1838 2234 \nL 1294 2234 \nL 1294 2753 \nL 1863 2753 \nQ 2328 2753 2575 2939 \nQ 2822 3125 2822 3475 \nQ 2822 3834 2567 4026 \nQ 2313 4219 1838 4219 \nQ 1578 4219 1281 4162 \nQ 984 4106 628 3988 \nL 628 4550 \nQ 988 4650 1302 4700 \nQ 1616 4750 1894 4750 \nQ 2613 4750 3031 4423 \nQ 3450 4097 3450 3541 \nQ 3450 3153 3228 2886 \nQ 3006 2619 2597 2516 \nz\n\" transform=\"scale(0.015625)\"/>\n     </defs>\n     <use xlink:href=\"#DejaVuSans-48\"/>\n     <use xlink:href=\"#DejaVuSans-65\" x=\"75.195312\"/>\n     <use xlink:href=\"#DejaVuSans-61\" x=\"136.71875\"/>\n     <use xlink:href=\"#DejaVuSans-64\" x=\"197.998047\"/>\n     <use xlink:href=\"#DejaVuSans-20\" x=\"261.474609\"/>\n     <use xlink:href=\"#DejaVuSans-33\" x=\"293.261719\"/>\n    </g>\n   </g>\n  </g>\n  <g id=\"axes_4\">\n   <g id=\"patch_17\">\n    <path d=\"M 278.79019 90.24856 \nL 346.720625 90.24856 \nL 346.720625 22.318125 \nL 278.79019 22.318125 \nz\n\" style=\"fill: #ffffff\"/>\n   </g>\n   <g clip-path=\"url(#pb13eec43ab)\">\n    <image xlink:href=\"data:image/png;base64,\niVBORw0KGgoAAAANSUhEUgAAAEQAAABECAYAAAA4E5OyAAAA00lEQVR4nO3ZsQ3CMBBA0YQWRmA/GIkBGYAmNfSvigtLCfqvdmF9XXGW1+/2+S5/7nm97z57mXiPUyoICoKCoCAoCAqCgqAgKAjWmav7yMr82t6zrjGkCUFBUBAUBAVBQVAQFAQFQUFQEEx9y4w4yrunCUFBUBAUBAVBQVAQFAQFQUEwtLqPrNfLcpyvhRFNCAqCgqAgKAgKgoKgICgICoKCoCAoCAqCgqAgKAgKgoKgICgICoL1sdx2f0Oc8VthVBOCgqAgKAgKgoKgICgICoKC4AdSMx2CEwHsfwAAAABJRU5ErkJggg==\" id=\"imagea6197f1b28\" transform=\"scale(1 -1)translate(0 -68)\" x=\"278.79019\" y=\"-22.24856\" width=\"68\" height=\"68\"/>\n   </g>\n   <g id=\"matplotlib.axis_7\">\n    <g id=\"xtick_7\">\n     <g id=\"line2d_16\">\n      <g>\n       <use xlink:href=\"#m80e9491d96\" x=\"284.45106\" y=\"90.24856\" style=\"stroke: #000000; stroke-width: 0.8\"/>\n      </g>\n     </g>\n    </g>\n    <g id=\"xtick_8\">\n     <g id=\"line2d_17\">\n      <g>\n       <use xlink:href=\"#m80e9491d96\" x=\"341.059755\" y=\"90.24856\" style=\"stroke: #000000; stroke-width: 0.8\"/>\n      </g>\n     </g>\n    </g>\n   </g>\n   <g id=\"matplotlib.axis_8\">\n    <g id=\"ytick_10\">\n     <g id=\"line2d_18\">\n      <g>\n       <use xlink:href=\"#m2b20a023eb\" x=\"278.79019\" y=\"27.978995\" style=\"stroke: #000000; stroke-width: 0.8\"/>\n      </g>\n     </g>\n    </g>\n    <g id=\"ytick_11\">\n     <g id=\"line2d_19\">\n      <g>\n       <use xlink:href=\"#m2b20a023eb\" x=\"278.79019\" y=\"50.622473\" style=\"stroke: #000000; stroke-width: 0.8\"/>\n      </g>\n     </g>\n    </g>\n    <g id=\"ytick_12\">\n     <g id=\"line2d_20\">\n      <g>\n       <use xlink:href=\"#m2b20a023eb\" x=\"278.79019\" y=\"73.265951\" style=\"stroke: #000000; stroke-width: 0.8\"/>\n      </g>\n     </g>\n    </g>\n   </g>\n   <g id=\"patch_18\">\n    <path d=\"M 278.79019 90.24856 \nL 278.79019 22.318125 \n\" style=\"fill: none; stroke: #000000; stroke-width: 0.8; stroke-linejoin: miter; stroke-linecap: square\"/>\n   </g>\n   <g id=\"patch_19\">\n    <path d=\"M 346.720625 90.24856 \nL 346.720625 22.318125 \n\" style=\"fill: none; stroke: #000000; stroke-width: 0.8; stroke-linejoin: miter; stroke-linecap: square\"/>\n   </g>\n   <g id=\"patch_20\">\n    <path d=\"M 278.79019 90.24856 \nL 346.720625 90.24856 \n\" style=\"fill: none; stroke: #000000; stroke-width: 0.8; stroke-linejoin: miter; stroke-linecap: square\"/>\n   </g>\n   <g id=\"patch_21\">\n    <path d=\"M 278.79019 22.318125 \nL 346.720625 22.318125 \n\" style=\"fill: none; stroke: #000000; stroke-width: 0.8; stroke-linejoin: miter; stroke-linecap: square\"/>\n   </g>\n   <g id=\"text_8\">\n    <!-- Head 4 -->\n    <g transform=\"translate(291.341033 16.318125)scale(0.12 -0.12)\">\n     <use xlink:href=\"#DejaVuSans-48\"/>\n     <use xlink:href=\"#DejaVuSans-65\" x=\"75.195312\"/>\n     <use xlink:href=\"#DejaVuSans-61\" x=\"136.71875\"/>\n     <use xlink:href=\"#DejaVuSans-64\" x=\"197.998047\"/>\n     <use xlink:href=\"#DejaVuSans-20\" x=\"261.474609\"/>\n     <use xlink:href=\"#DejaVuSans-34\" x=\"293.261719\"/>\n    </g>\n   </g>\n  </g>\n  <g id=\"axes_5\">\n   <g id=\"patch_22\">\n    <path d=\"M 34.240625 194.026742 \nL 102.17106 194.026742 \nL 102.17106 126.096307 \nL 34.240625 126.096307 \nz\n\" style=\"fill: #ffffff\"/>\n   </g>\n   <g clip-path=\"url(#pa1c444eb63)\">\n    <image xlink:href=\"data:image/png;base64,\niVBORw0KGgoAAAANSUhEUgAAAEQAAABECAYAAAA4E5OyAAABRklEQVR4nO3ZoUpEURCA4TnXRRAU1mTSKGaFFZsvYfIBfAmTdqvGBd/AZjQJa9MnENRmWjTt3rX/aSbICv5fHobDzwn3cNvs7noRSd3xSXY0IiLayiA9u5jPCou70jlejw7Ts7XN/4BBwCBgEDAIGAQMAgYBg4BBoPXTz/Sne/Tz0vLJ7n56dvR0n19ceBJERLThVnrWGwIGAYOAQcAgYBAwCBgEDAIGAYPAoH9+SA+3zfybICLi4HSUnl18T9Oz3fZe6RwV3hAwCBgEDAIGAYOAQcAgYBAwCLSL1WH6N8T5x0tt+dpG+UDL5g0Bg4BBwCBgEDAIGAQMAgYBg0CbjS/Tn+7vV7el5TuPk/KBls0bAgYBg4BBwCBgEDAIGAQMAgYBg0A7i/X0W+bm6+03z/IneEPAIGAQMAgYBAwCBgGDgEHAIPADWu8m7kFP18UAAAAASUVORK5CYII=\" id=\"image2efc823f2b\" transform=\"scale(1 -1)translate(0 -68)\" x=\"34.240625\" y=\"-126.026742\" width=\"68\" height=\"68\"/>\n   </g>\n   <g id=\"matplotlib.axis_9\">\n    <g id=\"xtick_9\">\n     <g id=\"line2d_21\">\n      <g>\n       <use xlink:href=\"#m80e9491d96\" x=\"39.901495\" y=\"194.026742\" style=\"stroke: #000000; stroke-width: 0.8\"/>\n      </g>\n     </g>\n     <g id=\"text_9\">\n      <!-- 0 -->\n      <g transform=\"translate(36.720245 208.625179)scale(0.1 -0.1)\">\n       <use xlink:href=\"#DejaVuSans-30\"/>\n      </g>\n     </g>\n    </g>\n    <g id=\"xtick_10\">\n     <g id=\"line2d_22\">\n      <g>\n       <use xlink:href=\"#m80e9491d96\" x=\"96.51019\" y=\"194.026742\" style=\"stroke: #000000; stroke-width: 0.8\"/>\n      </g>\n     </g>\n     <g id=\"text_10\">\n      <!-- 5 -->\n      <g transform=\"translate(93.32894 208.625179)scale(0.1 -0.1)\">\n       <defs>\n        <path id=\"DejaVuSans-35\" d=\"M 691 4666 \nL 3169 4666 \nL 3169 4134 \nL 1269 4134 \nL 1269 2991 \nQ 1406 3038 1543 3061 \nQ 1681 3084 1819 3084 \nQ 2600 3084 3056 2656 \nQ 3513 2228 3513 1497 \nQ 3513 744 3044 326 \nQ 2575 -91 1722 -91 \nQ 1428 -91 1123 -41 \nQ 819 9 494 109 \nL 494 744 \nQ 775 591 1075 516 \nQ 1375 441 1709 441 \nQ 2250 441 2565 725 \nQ 2881 1009 2881 1497 \nQ 2881 1984 2565 2268 \nQ 2250 2553 1709 2553 \nQ 1456 2553 1204 2497 \nQ 953 2441 691 2322 \nL 691 4666 \nz\n\" transform=\"scale(0.015625)\"/>\n       </defs>\n       <use xlink:href=\"#DejaVuSans-35\"/>\n      </g>\n     </g>\n    </g>\n    <g id=\"text_11\">\n     <!-- Key positions -->\n     <g transform=\"translate(35.142561 222.303304)scale(0.1 -0.1)\">\n      <defs>\n       <path id=\"DejaVuSans-4b\" d=\"M 628 4666 \nL 1259 4666 \nL 1259 2694 \nL 3353 4666 \nL 4166 4666 \nL 1850 2491 \nL 4331 0 \nL 3500 0 \nL 1259 2247 \nL 1259 0 \nL 628 0 \nL 628 4666 \nz\n\" transform=\"scale(0.015625)\"/>\n      </defs>\n      <use xlink:href=\"#DejaVuSans-4b\"/>\n      <use xlink:href=\"#DejaVuSans-65\" x=\"60.576172\"/>\n      <use xlink:href=\"#DejaVuSans-79\" x=\"122.099609\"/>\n      <use xlink:href=\"#DejaVuSans-20\" x=\"181.279297\"/>\n      <use xlink:href=\"#DejaVuSans-70\" x=\"213.066406\"/>\n      <use xlink:href=\"#DejaVuSans-6f\" x=\"276.542969\"/>\n      <use xlink:href=\"#DejaVuSans-73\" x=\"337.724609\"/>\n      <use xlink:href=\"#DejaVuSans-69\" x=\"389.824219\"/>\n      <use xlink:href=\"#DejaVuSans-74\" x=\"417.607422\"/>\n      <use xlink:href=\"#DejaVuSans-69\" x=\"456.816406\"/>\n      <use xlink:href=\"#DejaVuSans-6f\" x=\"484.599609\"/>\n      <use xlink:href=\"#DejaVuSans-6e\" x=\"545.78125\"/>\n      <use xlink:href=\"#DejaVuSans-73\" x=\"609.160156\"/>\n     </g>\n    </g>\n   </g>\n   <g id=\"matplotlib.axis_10\">\n    <g id=\"ytick_13\">\n     <g id=\"line2d_23\">\n      <g>\n       <use xlink:href=\"#m2b20a023eb\" x=\"34.240625\" y=\"131.757176\" style=\"stroke: #000000; stroke-width: 0.8\"/>\n      </g>\n     </g>\n     <g id=\"text_12\">\n      <!-- 0 -->\n      <g transform=\"translate(20.878125 135.556395)scale(0.1 -0.1)\">\n       <use xlink:href=\"#DejaVuSans-30\"/>\n      </g>\n     </g>\n    </g>\n    <g id=\"ytick_14\">\n     <g id=\"line2d_24\">\n      <g>\n       <use xlink:href=\"#m2b20a023eb\" x=\"34.240625\" y=\"154.400655\" style=\"stroke: #000000; stroke-width: 0.8\"/>\n      </g>\n     </g>\n     <g id=\"text_13\">\n      <!-- 2 -->\n      <g transform=\"translate(20.878125 158.199873)scale(0.1 -0.1)\">\n       <use xlink:href=\"#DejaVuSans-32\"/>\n      </g>\n     </g>\n    </g>\n    <g id=\"ytick_15\">\n     <g id=\"line2d_25\">\n      <g>\n       <use xlink:href=\"#m2b20a023eb\" x=\"34.240625\" y=\"177.044133\" style=\"stroke: #000000; stroke-width: 0.8\"/>\n      </g>\n     </g>\n     <g id=\"text_14\">\n      <!-- 4 -->\n      <g transform=\"translate(20.878125 180.843352)scale(0.1 -0.1)\">\n       <use xlink:href=\"#DejaVuSans-34\"/>\n      </g>\n     </g>\n    </g>\n    <g id=\"text_15\">\n     <!-- Query positions -->\n     <g transform=\"translate(14.798437 199.256055)rotate(-90)scale(0.1 -0.1)\">\n      <use xlink:href=\"#DejaVuSans-51\"/>\n      <use xlink:href=\"#DejaVuSans-75\" x=\"78.710938\"/>\n      <use xlink:href=\"#DejaVuSans-65\" x=\"142.089844\"/>\n      <use xlink:href=\"#DejaVuSans-72\" x=\"203.613281\"/>\n      <use xlink:href=\"#DejaVuSans-79\" x=\"244.726562\"/>\n      <use xlink:href=\"#DejaVuSans-20\" x=\"303.90625\"/>\n      <use xlink:href=\"#DejaVuSans-70\" x=\"335.693359\"/>\n      <use xlink:href=\"#DejaVuSans-6f\" x=\"399.169922\"/>\n      <use xlink:href=\"#DejaVuSans-73\" x=\"460.351562\"/>\n      <use xlink:href=\"#DejaVuSans-69\" x=\"512.451172\"/>\n      <use xlink:href=\"#DejaVuSans-74\" x=\"540.234375\"/>\n      <use xlink:href=\"#DejaVuSans-69\" x=\"579.443359\"/>\n      <use xlink:href=\"#DejaVuSans-6f\" x=\"607.226562\"/>\n      <use xlink:href=\"#DejaVuSans-6e\" x=\"668.408203\"/>\n      <use xlink:href=\"#DejaVuSans-73\" x=\"731.787109\"/>\n     </g>\n    </g>\n   </g>\n   <g id=\"patch_23\">\n    <path d=\"M 34.240625 194.026742 \nL 34.240625 126.096307 \n\" style=\"fill: none; stroke: #000000; stroke-width: 0.8; stroke-linejoin: miter; stroke-linecap: square\"/>\n   </g>\n   <g id=\"patch_24\">\n    <path d=\"M 102.17106 194.026742 \nL 102.17106 126.096307 \n\" style=\"fill: none; stroke: #000000; stroke-width: 0.8; stroke-linejoin: miter; stroke-linecap: square\"/>\n   </g>\n   <g id=\"patch_25\">\n    <path d=\"M 34.240625 194.026742 \nL 102.17106 194.026742 \n\" style=\"fill: none; stroke: #000000; stroke-width: 0.8; stroke-linejoin: miter; stroke-linecap: square\"/>\n   </g>\n   <g id=\"patch_26\">\n    <path d=\"M 34.240625 126.096307 \nL 102.17106 126.096307 \n\" style=\"fill: none; stroke: #000000; stroke-width: 0.8; stroke-linejoin: miter; stroke-linecap: square\"/>\n   </g>\n   <g id=\"text_16\">\n    <!-- Head 1 -->\n    <g transform=\"translate(46.791467 120.096307)scale(0.12 -0.12)\">\n     <use xlink:href=\"#DejaVuSans-48\"/>\n     <use xlink:href=\"#DejaVuSans-65\" x=\"75.195312\"/>\n     <use xlink:href=\"#DejaVuSans-61\" x=\"136.71875\"/>\n     <use xlink:href=\"#DejaVuSans-64\" x=\"197.998047\"/>\n     <use xlink:href=\"#DejaVuSans-20\" x=\"261.474609\"/>\n     <use xlink:href=\"#DejaVuSans-31\" x=\"293.261719\"/>\n    </g>\n   </g>\n  </g>\n  <g id=\"axes_6\">\n   <g id=\"patch_27\">\n    <path d=\"M 115.757147 194.026742 \nL 183.687582 194.026742 \nL 183.687582 126.096307 \nL 115.757147 126.096307 \nz\n\" style=\"fill: #ffffff\"/>\n   </g>\n   <g clip-path=\"url(#p285d10da09)\">\n    <image xlink:href=\"data:image/png;base64,\niVBORw0KGgoAAAANSUhEUgAAAEQAAABECAYAAAA4E5OyAAABJElEQVR4nO3aMWpCURBAUUckEBIMEgIJSHQVQvpU2YjWWUjqrCJVUrgEl2ApugARrJ/9rWaKT37CPfUwPK6veB+Mdj62wT+3upmmZ4cdnuNPMggYBAwCBgGDgEHAIGAQMAhE5eneWu2V/z6epWc/TrvS7oqISM96Q8AgYBAwCBgEDAIGAYOAQcAgYBCI9f1T+gPldfNdWz55zA9fXef3Drv7Hb0hYBAwCBgEDAIGAYOAQcAgYBAYPU/yT+a235aWx91DfrbD53hFP07RIwYBg4BBwCBgEDAIGAQMAgaB0fxlnh5uP1+l5bF4Kx7n93lDwCBgEDAIGAQMAgYBg4BBwCBgEIjl4Db9D6LP86HLs/SCNwQMAgYBg4BBwCBgEDAIGAQMAhfctx0dYBJKBAAAAABJRU5ErkJggg==\" id=\"imagebef69ed285\" transform=\"scale(1 -1)translate(0 -68)\" x=\"115.757147\" y=\"-126.026742\" width=\"68\" height=\"68\"/>\n   </g>\n   <g id=\"matplotlib.axis_11\">\n    <g id=\"xtick_11\">\n     <g id=\"line2d_26\">\n      <g>\n       <use xlink:href=\"#m80e9491d96\" x=\"121.418016\" y=\"194.026742\" style=\"stroke: #000000; stroke-width: 0.8\"/>\n      </g>\n     </g>\n     <g id=\"text_17\">\n      <!-- 0 -->\n      <g transform=\"translate(118.236766 208.625179)scale(0.1 -0.1)\">\n       <use xlink:href=\"#DejaVuSans-30\"/>\n      </g>\n     </g>\n    </g>\n    <g id=\"xtick_12\">\n     <g id=\"line2d_27\">\n      <g>\n       <use xlink:href=\"#m80e9491d96\" x=\"178.026712\" y=\"194.026742\" style=\"stroke: #000000; stroke-width: 0.8\"/>\n      </g>\n     </g>\n     <g id=\"text_18\">\n      <!-- 5 -->\n      <g transform=\"translate(174.845462 208.625179)scale(0.1 -0.1)\">\n       <use xlink:href=\"#DejaVuSans-35\"/>\n      </g>\n     </g>\n    </g>\n    <g id=\"text_19\">\n     <!-- Key positions -->\n     <g transform=\"translate(116.659083 222.303304)scale(0.1 -0.1)\">\n      <use xlink:href=\"#DejaVuSans-4b\"/>\n      <use xlink:href=\"#DejaVuSans-65\" x=\"60.576172\"/>\n      <use xlink:href=\"#DejaVuSans-79\" x=\"122.099609\"/>\n      <use xlink:href=\"#DejaVuSans-20\" x=\"181.279297\"/>\n      <use xlink:href=\"#DejaVuSans-70\" x=\"213.066406\"/>\n      <use xlink:href=\"#DejaVuSans-6f\" x=\"276.542969\"/>\n      <use xlink:href=\"#DejaVuSans-73\" x=\"337.724609\"/>\n      <use xlink:href=\"#DejaVuSans-69\" x=\"389.824219\"/>\n      <use xlink:href=\"#DejaVuSans-74\" x=\"417.607422\"/>\n      <use xlink:href=\"#DejaVuSans-69\" x=\"456.816406\"/>\n      <use xlink:href=\"#DejaVuSans-6f\" x=\"484.599609\"/>\n      <use xlink:href=\"#DejaVuSans-6e\" x=\"545.78125\"/>\n      <use xlink:href=\"#DejaVuSans-73\" x=\"609.160156\"/>\n     </g>\n    </g>\n   </g>\n   <g id=\"matplotlib.axis_12\">\n    <g id=\"ytick_16\">\n     <g id=\"line2d_28\">\n      <g>\n       <use xlink:href=\"#m2b20a023eb\" x=\"115.757147\" y=\"131.757176\" style=\"stroke: #000000; stroke-width: 0.8\"/>\n      </g>\n     </g>\n    </g>\n    <g id=\"ytick_17\">\n     <g id=\"line2d_29\">\n      <g>\n       <use xlink:href=\"#m2b20a023eb\" x=\"115.757147\" y=\"154.400655\" style=\"stroke: #000000; stroke-width: 0.8\"/>\n      </g>\n     </g>\n    </g>\n    <g id=\"ytick_18\">\n     <g id=\"line2d_30\">\n      <g>\n       <use xlink:href=\"#m2b20a023eb\" x=\"115.757147\" y=\"177.044133\" style=\"stroke: #000000; stroke-width: 0.8\"/>\n      </g>\n     </g>\n    </g>\n   </g>\n   <g id=\"patch_28\">\n    <path d=\"M 115.757147 194.026742 \nL 115.757147 126.096307 \n\" style=\"fill: none; stroke: #000000; stroke-width: 0.8; stroke-linejoin: miter; stroke-linecap: square\"/>\n   </g>\n   <g id=\"patch_29\">\n    <path d=\"M 183.687582 194.026742 \nL 183.687582 126.096307 \n\" style=\"fill: none; stroke: #000000; stroke-width: 0.8; stroke-linejoin: miter; stroke-linecap: square\"/>\n   </g>\n   <g id=\"patch_30\">\n    <path d=\"M 115.757147 194.026742 \nL 183.687582 194.026742 \n\" style=\"fill: none; stroke: #000000; stroke-width: 0.8; stroke-linejoin: miter; stroke-linecap: square\"/>\n   </g>\n   <g id=\"patch_31\">\n    <path d=\"M 115.757147 126.096307 \nL 183.687582 126.096307 \n\" style=\"fill: none; stroke: #000000; stroke-width: 0.8; stroke-linejoin: miter; stroke-linecap: square\"/>\n   </g>\n   <g id=\"text_20\">\n    <!-- Head 2 -->\n    <g transform=\"translate(128.307989 120.096307)scale(0.12 -0.12)\">\n     <use xlink:href=\"#DejaVuSans-48\"/>\n     <use xlink:href=\"#DejaVuSans-65\" x=\"75.195312\"/>\n     <use xlink:href=\"#DejaVuSans-61\" x=\"136.71875\"/>\n     <use xlink:href=\"#DejaVuSans-64\" x=\"197.998047\"/>\n     <use xlink:href=\"#DejaVuSans-20\" x=\"261.474609\"/>\n     <use xlink:href=\"#DejaVuSans-32\" x=\"293.261719\"/>\n    </g>\n   </g>\n  </g>\n  <g id=\"axes_7\">\n   <g id=\"patch_32\">\n    <path d=\"M 197.273668 194.026742 \nL 265.204103 194.026742 \nL 265.204103 126.096307 \nL 197.273668 126.096307 \nz\n\" style=\"fill: #ffffff\"/>\n   </g>\n   <g clip-path=\"url(#p4b180d30a4)\">\n    <image xlink:href=\"data:image/png;base64,\niVBORw0KGgoAAAANSUhEUgAAAEQAAABECAYAAAA4E5OyAAABKklEQVR4nO3ZsWoCURBA0X0qVga/wD8QbPwlwUZSJbVFCgvBQrD1v2wErReEKARCdtPfaqYQVO6ph2G5vOLtbvndvLdVUHe2jI6mlVLCs3/7r9zy8TQ82sltfn0GAYOAQcAgYBAwCBgEDAIGgdLeLuGre9s0ueWdeO/FYBSe3V7PqefI8ISAQcAgYBAwCBgEDAIGAYOAQcAgUD67w/C7zKo+5Lb3+vEHSfyGuCdPCBgEDAIGAYOAQcAgYBAwCBgESvNdh6/u1c8ttXw9moRnP+pjave9eELAIGAQMAgYBAwCBgGDgEHAIFDm1Vv46r67nnLLH+RLeoYnBAwCBgGDgEHAIGAQMAgYBAwCBoFeW8X/Qjzju0mWJwQMAgYBg4BBwCBgEDAIGAQMAv+IIiN2bu/W/gAAAABJRU5ErkJggg==\" id=\"imaged7ab23c797\" transform=\"scale(1 -1)translate(0 -68)\" x=\"197.273668\" y=\"-126.026742\" width=\"68\" height=\"68\"/>\n   </g>\n   <g id=\"matplotlib.axis_13\">\n    <g id=\"xtick_13\">\n     <g id=\"line2d_31\">\n      <g>\n       <use xlink:href=\"#m80e9491d96\" x=\"202.934538\" y=\"194.026742\" style=\"stroke: #000000; stroke-width: 0.8\"/>\n      </g>\n     </g>\n     <g id=\"text_21\">\n      <!-- 0 -->\n      <g transform=\"translate(199.753288 208.625179)scale(0.1 -0.1)\">\n       <use xlink:href=\"#DejaVuSans-30\"/>\n      </g>\n     </g>\n    </g>\n    <g id=\"xtick_14\">\n     <g id=\"line2d_32\">\n      <g>\n       <use xlink:href=\"#m80e9491d96\" x=\"259.543234\" y=\"194.026742\" style=\"stroke: #000000; stroke-width: 0.8\"/>\n      </g>\n     </g>\n     <g id=\"text_22\">\n      <!-- 5 -->\n      <g transform=\"translate(256.361984 208.625179)scale(0.1 -0.1)\">\n       <use xlink:href=\"#DejaVuSans-35\"/>\n      </g>\n     </g>\n    </g>\n    <g id=\"text_23\">\n     <!-- Key positions -->\n     <g transform=\"translate(198.175605 222.303304)scale(0.1 -0.1)\">\n      <use xlink:href=\"#DejaVuSans-4b\"/>\n      <use xlink:href=\"#DejaVuSans-65\" x=\"60.576172\"/>\n      <use xlink:href=\"#DejaVuSans-79\" x=\"122.099609\"/>\n      <use xlink:href=\"#DejaVuSans-20\" x=\"181.279297\"/>\n      <use xlink:href=\"#DejaVuSans-70\" x=\"213.066406\"/>\n      <use xlink:href=\"#DejaVuSans-6f\" x=\"276.542969\"/>\n      <use xlink:href=\"#DejaVuSans-73\" x=\"337.724609\"/>\n      <use xlink:href=\"#DejaVuSans-69\" x=\"389.824219\"/>\n      <use xlink:href=\"#DejaVuSans-74\" x=\"417.607422\"/>\n      <use xlink:href=\"#DejaVuSans-69\" x=\"456.816406\"/>\n      <use xlink:href=\"#DejaVuSans-6f\" x=\"484.599609\"/>\n      <use xlink:href=\"#DejaVuSans-6e\" x=\"545.78125\"/>\n      <use xlink:href=\"#DejaVuSans-73\" x=\"609.160156\"/>\n     </g>\n    </g>\n   </g>\n   <g id=\"matplotlib.axis_14\">\n    <g id=\"ytick_19\">\n     <g id=\"line2d_33\">\n      <g>\n       <use xlink:href=\"#m2b20a023eb\" x=\"197.273668\" y=\"131.757176\" style=\"stroke: #000000; stroke-width: 0.8\"/>\n      </g>\n     </g>\n    </g>\n    <g id=\"ytick_20\">\n     <g id=\"line2d_34\">\n      <g>\n       <use xlink:href=\"#m2b20a023eb\" x=\"197.273668\" y=\"154.400655\" style=\"stroke: #000000; stroke-width: 0.8\"/>\n      </g>\n     </g>\n    </g>\n    <g id=\"ytick_21\">\n     <g id=\"line2d_35\">\n      <g>\n       <use xlink:href=\"#m2b20a023eb\" x=\"197.273668\" y=\"177.044133\" style=\"stroke: #000000; stroke-width: 0.8\"/>\n      </g>\n     </g>\n    </g>\n   </g>\n   <g id=\"patch_33\">\n    <path d=\"M 197.273668 194.026742 \nL 197.273668 126.096307 \n\" style=\"fill: none; stroke: #000000; stroke-width: 0.8; stroke-linejoin: miter; stroke-linecap: square\"/>\n   </g>\n   <g id=\"patch_34\">\n    <path d=\"M 265.204103 194.026742 \nL 265.204103 126.096307 \n\" style=\"fill: none; stroke: #000000; stroke-width: 0.8; stroke-linejoin: miter; stroke-linecap: square\"/>\n   </g>\n   <g id=\"patch_35\">\n    <path d=\"M 197.273668 194.026742 \nL 265.204103 194.026742 \n\" style=\"fill: none; stroke: #000000; stroke-width: 0.8; stroke-linejoin: miter; stroke-linecap: square\"/>\n   </g>\n   <g id=\"patch_36\">\n    <path d=\"M 197.273668 126.096307 \nL 265.204103 126.096307 \n\" style=\"fill: none; stroke: #000000; stroke-width: 0.8; stroke-linejoin: miter; stroke-linecap: square\"/>\n   </g>\n   <g id=\"text_24\">\n    <!-- Head 3 -->\n    <g transform=\"translate(209.824511 120.096307)scale(0.12 -0.12)\">\n     <use xlink:href=\"#DejaVuSans-48\"/>\n     <use xlink:href=\"#DejaVuSans-65\" x=\"75.195312\"/>\n     <use xlink:href=\"#DejaVuSans-61\" x=\"136.71875\"/>\n     <use xlink:href=\"#DejaVuSans-64\" x=\"197.998047\"/>\n     <use xlink:href=\"#DejaVuSans-20\" x=\"261.474609\"/>\n     <use xlink:href=\"#DejaVuSans-33\" x=\"293.261719\"/>\n    </g>\n   </g>\n  </g>\n  <g id=\"axes_8\">\n   <g id=\"patch_37\">\n    <path d=\"M 278.79019 194.026742 \nL 346.720625 194.026742 \nL 346.720625 126.096307 \nL 278.79019 126.096307 \nz\n\" style=\"fill: #ffffff\"/>\n   </g>\n   <g clip-path=\"url(#pa2edc8fd52)\">\n    <image xlink:href=\"data:image/png;base64,\niVBORw0KGgoAAAANSUhEUgAAAEQAAABECAYAAAA4E5OyAAAA/klEQVR4nO3bMQrCQBBA0axGGyNWduIdPFVsPYmt5xNLC1FSKVlrf7VTBBP4rx6W5TNFIElqqyZXhS7drXR0smb/vsDYGAQMAgYBg4BBwCBgEDAIGARS7h7Fj+75844dXi+KZ0/rffHs+XUN3SPCDQGDgEHAIGAQMAgYBAwCBgGDgEGgDk0/76HxvNkWzx6aZejsobghYBAwCBgEDAIGAYOAQcAgYBAIvYY4rnahw6f4xZEbAgYBg4BBwCBgEDAIGAQMAgaBOvd98fC8SgNeZRzcEDAIGAQMAgYBg4BBwCBgEDAIGASSPzL/ckPAIGAQMAgYBAwCBgGDgEHAIPAF1SkfWESKQ1YAAAAASUVORK5CYII=\" id=\"imagee51c1ee3b0\" transform=\"scale(1 -1)translate(0 -68)\" x=\"278.79019\" y=\"-126.026742\" width=\"68\" height=\"68\"/>\n   </g>\n   <g id=\"matplotlib.axis_15\">\n    <g id=\"xtick_15\">\n     <g id=\"line2d_36\">\n      <g>\n       <use xlink:href=\"#m80e9491d96\" x=\"284.45106\" y=\"194.026742\" style=\"stroke: #000000; stroke-width: 0.8\"/>\n      </g>\n     </g>\n     <g id=\"text_25\">\n      <!-- 0 -->\n      <g transform=\"translate(281.26981 208.625179)scale(0.1 -0.1)\">\n       <use xlink:href=\"#DejaVuSans-30\"/>\n      </g>\n     </g>\n    </g>\n    <g id=\"xtick_16\">\n     <g id=\"line2d_37\">\n      <g>\n       <use xlink:href=\"#m80e9491d96\" x=\"341.059755\" y=\"194.026742\" style=\"stroke: #000000; stroke-width: 0.8\"/>\n      </g>\n     </g>\n     <g id=\"text_26\">\n      <!-- 5 -->\n      <g transform=\"translate(337.878505 208.625179)scale(0.1 -0.1)\">\n       <use xlink:href=\"#DejaVuSans-35\"/>\n      </g>\n     </g>\n    </g>\n    <g id=\"text_27\">\n     <!-- Key positions -->\n     <g transform=\"translate(279.692126 222.303304)scale(0.1 -0.1)\">\n      <use xlink:href=\"#DejaVuSans-4b\"/>\n      <use xlink:href=\"#DejaVuSans-65\" x=\"60.576172\"/>\n      <use xlink:href=\"#DejaVuSans-79\" x=\"122.099609\"/>\n      <use xlink:href=\"#DejaVuSans-20\" x=\"181.279297\"/>\n      <use xlink:href=\"#DejaVuSans-70\" x=\"213.066406\"/>\n      <use xlink:href=\"#DejaVuSans-6f\" x=\"276.542969\"/>\n      <use xlink:href=\"#DejaVuSans-73\" x=\"337.724609\"/>\n      <use xlink:href=\"#DejaVuSans-69\" x=\"389.824219\"/>\n      <use xlink:href=\"#DejaVuSans-74\" x=\"417.607422\"/>\n      <use xlink:href=\"#DejaVuSans-69\" x=\"456.816406\"/>\n      <use xlink:href=\"#DejaVuSans-6f\" x=\"484.599609\"/>\n      <use xlink:href=\"#DejaVuSans-6e\" x=\"545.78125\"/>\n      <use xlink:href=\"#DejaVuSans-73\" x=\"609.160156\"/>\n     </g>\n    </g>\n   </g>\n   <g id=\"matplotlib.axis_16\">\n    <g id=\"ytick_22\">\n     <g id=\"line2d_38\">\n      <g>\n       <use xlink:href=\"#m2b20a023eb\" x=\"278.79019\" y=\"131.757176\" style=\"stroke: #000000; stroke-width: 0.8\"/>\n      </g>\n     </g>\n    </g>\n    <g id=\"ytick_23\">\n     <g id=\"line2d_39\">\n      <g>\n       <use xlink:href=\"#m2b20a023eb\" x=\"278.79019\" y=\"154.400655\" style=\"stroke: #000000; stroke-width: 0.8\"/>\n      </g>\n     </g>\n    </g>\n    <g id=\"ytick_24\">\n     <g id=\"line2d_40\">\n      <g>\n       <use xlink:href=\"#m2b20a023eb\" x=\"278.79019\" y=\"177.044133\" style=\"stroke: #000000; stroke-width: 0.8\"/>\n      </g>\n     </g>\n    </g>\n   </g>\n   <g id=\"patch_38\">\n    <path d=\"M 278.79019 194.026742 \nL 278.79019 126.096307 \n\" style=\"fill: none; stroke: #000000; stroke-width: 0.8; stroke-linejoin: miter; stroke-linecap: square\"/>\n   </g>\n   <g id=\"patch_39\">\n    <path d=\"M 346.720625 194.026742 \nL 346.720625 126.096307 \n\" style=\"fill: none; stroke: #000000; stroke-width: 0.8; stroke-linejoin: miter; stroke-linecap: square\"/>\n   </g>\n   <g id=\"patch_40\">\n    <path d=\"M 278.79019 194.026742 \nL 346.720625 194.026742 \n\" style=\"fill: none; stroke: #000000; stroke-width: 0.8; stroke-linejoin: miter; stroke-linecap: square\"/>\n   </g>\n   <g id=\"patch_41\">\n    <path d=\"M 278.79019 126.096307 \nL 346.720625 126.096307 \n\" style=\"fill: none; stroke: #000000; stroke-width: 0.8; stroke-linejoin: miter; stroke-linecap: square\"/>\n   </g>\n   <g id=\"text_28\">\n    <!-- Head 4 -->\n    <g transform=\"translate(291.341033 120.096307)scale(0.12 -0.12)\">\n     <use xlink:href=\"#DejaVuSans-48\"/>\n     <use xlink:href=\"#DejaVuSans-65\" x=\"75.195312\"/>\n     <use xlink:href=\"#DejaVuSans-61\" x=\"136.71875\"/>\n     <use xlink:href=\"#DejaVuSans-64\" x=\"197.998047\"/>\n     <use xlink:href=\"#DejaVuSans-20\" x=\"261.474609\"/>\n     <use xlink:href=\"#DejaVuSans-34\" x=\"293.261719\"/>\n    </g>\n   </g>\n  </g>\n  <g id=\"axes_9\">\n   <g id=\"patch_42\">\n    <path d=\"M 366.250625 165.250433 \nL 371.958425 165.250433 \nL 371.958425 51.094433 \nL 366.250625 51.094433 \nz\n\" style=\"fill: #ffffff\"/>\n   </g>\n   <g id=\"patch_43\">\n    <path clip-path=\"url(#pad87248071)\" style=\"fill: #ffffff; stroke: #ffffff; stroke-width: 0.01; stroke-linejoin: miter\"/>\n   </g>\n   <image xlink:href=\"data:image/png;base64,\niVBORw0KGgoAAAANSUhEUgAAAAYAAAByCAYAAABwf6CfAAAAzElEQVR4nLXWQQ7DIBBDUSpx/7N2001hhl6AF2kQzTKW/fGQkLzW573a5upt5e5+6y0pBIS1RZwwlhmKqgtkZLkHhZgSCIfgkZhxDW5hjr3g5boHBTAOetAxNat6lGd1bz/cQ7M66KGH+qAH34/6fujIuAivCwcF9Z4HC5IBIcWgow5f89pyzRg8E6tRGTjbQ0LqaxAS6gxHlRmTzeuMfdJTD/0BpAQktZ5NBc1AVCiKDjP2hqeCcnBWFhTF5Q7tIB2zPJLvvSg6xv8ZP9W5DE4Qbu8+AAAAAElFTkSuQmCC\" id=\"imagefb1893c41e\" transform=\"scale(1 -1)translate(0 -114)\" x=\"366\" y=\"-51\" width=\"6\" height=\"114\"/>\n   <g id=\"matplotlib.axis_17\">\n    <g id=\"ytick_25\">\n     <g id=\"line2d_41\">\n      <defs>\n       <path id=\"m4e634d9506\" d=\"M 0 0 \nL 3.5 0 \n\" style=\"stroke: #000000; stroke-width: 0.8\"/>\n      </defs>\n      <g>\n       <use xlink:href=\"#m4e634d9506\" x=\"371.958425\" y=\"165.250433\" style=\"stroke: #000000; stroke-width: 0.8\"/>\n      </g>\n     </g>\n     <g id=\"text_29\">\n      <!-- 0.0 -->\n      <g transform=\"translate(378.958425 169.049652)scale(0.1 -0.1)\">\n       <defs>\n        <path id=\"DejaVuSans-2e\" d=\"M 684 794 \nL 1344 794 \nL 1344 0 \nL 684 0 \nL 684 794 \nz\n\" transform=\"scale(0.015625)\"/>\n       </defs>\n       <use xlink:href=\"#DejaVuSans-30\"/>\n       <use xlink:href=\"#DejaVuSans-2e\" x=\"63.623047\"/>\n       <use xlink:href=\"#DejaVuSans-30\" x=\"95.410156\"/>\n      </g>\n     </g>\n    </g>\n    <g id=\"ytick_26\">\n     <g id=\"line2d_42\">\n      <g>\n       <use xlink:href=\"#m4e634d9506\" x=\"371.958425\" y=\"142.419233\" style=\"stroke: #000000; stroke-width: 0.8\"/>\n      </g>\n     </g>\n     <g id=\"text_30\">\n      <!-- 0.2 -->\n      <g transform=\"translate(378.958425 146.218452)scale(0.1 -0.1)\">\n       <use xlink:href=\"#DejaVuSans-30\"/>\n       <use xlink:href=\"#DejaVuSans-2e\" x=\"63.623047\"/>\n       <use xlink:href=\"#DejaVuSans-32\" x=\"95.410156\"/>\n      </g>\n     </g>\n    </g>\n    <g id=\"ytick_27\">\n     <g id=\"line2d_43\">\n      <g>\n       <use xlink:href=\"#m4e634d9506\" x=\"371.958425\" y=\"119.588033\" style=\"stroke: #000000; stroke-width: 0.8\"/>\n      </g>\n     </g>\n     <g id=\"text_31\">\n      <!-- 0.4 -->\n      <g transform=\"translate(378.958425 123.387252)scale(0.1 -0.1)\">\n       <use xlink:href=\"#DejaVuSans-30\"/>\n       <use xlink:href=\"#DejaVuSans-2e\" x=\"63.623047\"/>\n       <use xlink:href=\"#DejaVuSans-34\" x=\"95.410156\"/>\n      </g>\n     </g>\n    </g>\n    <g id=\"ytick_28\">\n     <g id=\"line2d_44\">\n      <g>\n       <use xlink:href=\"#m4e634d9506\" x=\"371.958425\" y=\"96.756833\" style=\"stroke: #000000; stroke-width: 0.8\"/>\n      </g>\n     </g>\n     <g id=\"text_32\">\n      <!-- 0.6 -->\n      <g transform=\"translate(378.958425 100.556052)scale(0.1 -0.1)\">\n       <defs>\n        <path id=\"DejaVuSans-36\" d=\"M 2113 2584 \nQ 1688 2584 1439 2293 \nQ 1191 2003 1191 1497 \nQ 1191 994 1439 701 \nQ 1688 409 2113 409 \nQ 2538 409 2786 701 \nQ 3034 994 3034 1497 \nQ 3034 2003 2786 2293 \nQ 2538 2584 2113 2584 \nz\nM 3366 4563 \nL 3366 3988 \nQ 3128 4100 2886 4159 \nQ 2644 4219 2406 4219 \nQ 1781 4219 1451 3797 \nQ 1122 3375 1075 2522 \nQ 1259 2794 1537 2939 \nQ 1816 3084 2150 3084 \nQ 2853 3084 3261 2657 \nQ 3669 2231 3669 1497 \nQ 3669 778 3244 343 \nQ 2819 -91 2113 -91 \nQ 1303 -91 875 529 \nQ 447 1150 447 2328 \nQ 447 3434 972 4092 \nQ 1497 4750 2381 4750 \nQ 2619 4750 2861 4703 \nQ 3103 4656 3366 4563 \nz\n\" transform=\"scale(0.015625)\"/>\n       </defs>\n       <use xlink:href=\"#DejaVuSans-30\"/>\n       <use xlink:href=\"#DejaVuSans-2e\" x=\"63.623047\"/>\n       <use xlink:href=\"#DejaVuSans-36\" x=\"95.410156\"/>\n      </g>\n     </g>\n    </g>\n    <g id=\"ytick_29\">\n     <g id=\"line2d_45\">\n      <g>\n       <use xlink:href=\"#m4e634d9506\" x=\"371.958425\" y=\"73.925633\" style=\"stroke: #000000; stroke-width: 0.8\"/>\n      </g>\n     </g>\n     <g id=\"text_33\">\n      <!-- 0.8 -->\n      <g transform=\"translate(378.958425 77.724852)scale(0.1 -0.1)\">\n       <defs>\n        <path id=\"DejaVuSans-38\" d=\"M 2034 2216 \nQ 1584 2216 1326 1975 \nQ 1069 1734 1069 1313 \nQ 1069 891 1326 650 \nQ 1584 409 2034 409 \nQ 2484 409 2743 651 \nQ 3003 894 3003 1313 \nQ 3003 1734 2745 1975 \nQ 2488 2216 2034 2216 \nz\nM 1403 2484 \nQ 997 2584 770 2862 \nQ 544 3141 544 3541 \nQ 544 4100 942 4425 \nQ 1341 4750 2034 4750 \nQ 2731 4750 3128 4425 \nQ 3525 4100 3525 3541 \nQ 3525 3141 3298 2862 \nQ 3072 2584 2669 2484 \nQ 3125 2378 3379 2068 \nQ 3634 1759 3634 1313 \nQ 3634 634 3220 271 \nQ 2806 -91 2034 -91 \nQ 1263 -91 848 271 \nQ 434 634 434 1313 \nQ 434 1759 690 2068 \nQ 947 2378 1403 2484 \nz\nM 1172 3481 \nQ 1172 3119 1398 2916 \nQ 1625 2713 2034 2713 \nQ 2441 2713 2670 2916 \nQ 2900 3119 2900 3481 \nQ 2900 3844 2670 4047 \nQ 2441 4250 2034 4250 \nQ 1625 4250 1398 4047 \nQ 1172 3844 1172 3481 \nz\n\" transform=\"scale(0.015625)\"/>\n       </defs>\n       <use xlink:href=\"#DejaVuSans-30\"/>\n       <use xlink:href=\"#DejaVuSans-2e\" x=\"63.623047\"/>\n       <use xlink:href=\"#DejaVuSans-38\" x=\"95.410156\"/>\n      </g>\n     </g>\n    </g>\n    <g id=\"ytick_30\">\n     <g id=\"line2d_46\">\n      <g>\n       <use xlink:href=\"#m4e634d9506\" x=\"371.958425\" y=\"51.094433\" style=\"stroke: #000000; stroke-width: 0.8\"/>\n      </g>\n     </g>\n     <g id=\"text_34\">\n      <!-- 1.0 -->\n      <g transform=\"translate(378.958425 54.893652)scale(0.1 -0.1)\">\n       <use xlink:href=\"#DejaVuSans-31\"/>\n       <use xlink:href=\"#DejaVuSans-2e\" x=\"63.623047\"/>\n       <use xlink:href=\"#DejaVuSans-30\" x=\"95.410156\"/>\n      </g>\n     </g>\n    </g>\n   </g>\n   <g id=\"LineCollection_1\"/>\n   <g id=\"patch_44\">\n    <path d=\"M 366.250625 165.250433 \nL 369.104525 165.250433 \nL 371.958425 165.250433 \nL 371.958425 51.094433 \nL 369.104525 51.094433 \nL 366.250625 51.094433 \nL 366.250625 165.250433 \nz\n\" style=\"fill: none; stroke: #000000; stroke-width: 0.8; stroke-linejoin: miter; stroke-linecap: square\"/>\n   </g>\n  </g>\n </g>\n <defs>\n  <clipPath id=\"pd94ea327f3\">\n   <rect x=\"34.240625\" y=\"22.318125\" width=\"67.930435\" height=\"67.930435\"/>\n  </clipPath>\n  <clipPath id=\"p921563b243\">\n   <rect x=\"115.757147\" y=\"22.318125\" width=\"67.930435\" height=\"67.930435\"/>\n  </clipPath>\n  <clipPath id=\"p5bbeae8b50\">\n   <rect x=\"197.273668\" y=\"22.318125\" width=\"67.930435\" height=\"67.930435\"/>\n  </clipPath>\n  <clipPath id=\"pb13eec43ab\">\n   <rect x=\"278.79019\" y=\"22.318125\" width=\"67.930435\" height=\"67.930435\"/>\n  </clipPath>\n  <clipPath id=\"pa1c444eb63\">\n   <rect x=\"34.240625\" y=\"126.096307\" width=\"67.930435\" height=\"67.930435\"/>\n  </clipPath>\n  <clipPath id=\"p285d10da09\">\n   <rect x=\"115.757147\" y=\"126.096307\" width=\"67.930435\" height=\"67.930435\"/>\n  </clipPath>\n  <clipPath id=\"p4b180d30a4\">\n   <rect x=\"197.273668\" y=\"126.096307\" width=\"67.930435\" height=\"67.930435\"/>\n  </clipPath>\n  <clipPath id=\"pa2edc8fd52\">\n   <rect x=\"278.79019\" y=\"126.096307\" width=\"67.930435\" height=\"67.930435\"/>\n  </clipPath>\n  <clipPath id=\"pad87248071\">\n   <rect x=\"366.250625\" y=\"51.094433\" width=\"5.7078\" height=\"114.156\"/>\n  </clipPath>\n </defs>\n</svg>\n"
          },
          "metadata": {
            "needs_background": "light"
          }
        }
      ],
      "source": [
        "# Plus one to include the beginning-of-sequence token\n",
        "d2l.show_heatmaps(dec_self_attention_weights[:, :, :, :len(translation.split()) + 1],\n",
        "                  xlabel='Key positions', \n",
        "                  ylabel='Query positions',\n",
        "                  titles=['Head %d' % i for i in range(1, 5)], \n",
        "                  figsize=(7, 3.5))"
      ]
    },
    {
      "cell_type": "markdown",
      "metadata": {
        "origin_pos": 70,
        "id": "sZ8_IaI9OvL0"
      },
      "source": [
        "Similar to the case in the encoder self-attention,\n",
        "via the specified valid length of the input sequence,\n",
        "[**no query from the output sequence\n",
        "attends to those padding tokens from the input sequence.**]\n"
      ]
    },
    {
      "cell_type": "code",
      "execution_count": 21,
      "metadata": {
        "origin_pos": 71,
        "tab": [
          "pytorch"
        ],
        "id": "2m5m3w8SOvL0",
        "outputId": "5e2c05aa-f910-413c-aab0-d3c26e61cea6",
        "colab": {
          "base_uri": "https://localhost:8080/",
          "height": 299
        }
      },
      "outputs": [
        {
          "output_type": "display_data",
          "data": {
            "text/plain": [
              "<Figure size 504x252 with 9 Axes>"
            ],
            "image/svg+xml": "<?xml version=\"1.0\" encoding=\"utf-8\" standalone=\"no\"?>\n<!DOCTYPE svg PUBLIC \"-//W3C//DTD SVG 1.1//EN\"\n  \"http://www.w3.org/Graphics/SVG/1.1/DTD/svg11.dtd\">\n<svg xmlns:xlink=\"http://www.w3.org/1999/xlink\" width=\"402.06155pt\" height=\"208.108094pt\" viewBox=\"0 0 402.06155 208.108094\" xmlns=\"http://www.w3.org/2000/svg\" version=\"1.1\">\n <metadata>\n  <rdf:RDF xmlns:dc=\"http://purl.org/dc/elements/1.1/\" xmlns:cc=\"http://creativecommons.org/ns#\" xmlns:rdf=\"http://www.w3.org/1999/02/22-rdf-syntax-ns#\">\n   <cc:Work>\n    <dc:type rdf:resource=\"http://purl.org/dc/dcmitype/StillImage\"/>\n    <dc:date>2022-02-18T12:07:01.731684</dc:date>\n    <dc:format>image/svg+xml</dc:format>\n    <dc:creator>\n     <cc:Agent>\n      <dc:title>Matplotlib v3.5.1, https://matplotlib.org/</dc:title>\n     </cc:Agent>\n    </dc:creator>\n   </cc:Work>\n  </rdf:RDF>\n </metadata>\n <defs>\n  <style type=\"text/css\">*{stroke-linejoin: round; stroke-linecap: butt}</style>\n </defs>\n <g id=\"figure_1\">\n  <g id=\"patch_1\">\n   <path d=\"M 0 208.108094 \nL 402.06155 208.108094 \nL 402.06155 0 \nL 0 0 \nL 0 208.108094 \nz\n\" style=\"fill: none\"/>\n  </g>\n  <g id=\"axes_1\">\n   <g id=\"patch_2\">\n    <path d=\"M 34.240625 66.773662 \nL 102.17106 66.773662 \nL 102.17106 26.015401 \nL 34.240625 26.015401 \nz\n\" style=\"fill: #ffffff\"/>\n   </g>\n   <g clip-path=\"url(#p998be8e689)\">\n    <image xlink:href=\"data:image/png;base64,\niVBORw0KGgoAAAANSUhEUgAAAEQAAAApCAYAAACMeY82AAABGklEQVR4nO3YPUrEUBRA4byYGVEhiIWVCxDBNbgIC7G3sLRyB5Za2Nha2LgBK1srCztBXILgD4walEnsD7kykOJNcb4ylzdzOTwIJLWTt66INJNw1F6f9z7/uLoJz6zd3oWzeVHmXmDeGAQMAgYBg4BBoCp+vsPh9PQ4nJV7B73P66YZvFRO3hAwCBgEDAIGAYNAVYyXwmHa2g5nT7v9r93Nh/vBS+XkDQGDgEHAIGAQMAik7vM9/Mh8uLIRHrx4eez/weV6+FYZeUPAIGAQMAgYBNLX/k74lhmtr4YHF04u+wfT3/jPqvGse2XjDQGDgEHAIGAQMAiko7IOX7tnr8//nAxadm18ZLQ482K5eEPAIGAQMAgYBAwCf4IrKUQg088iAAAAAElFTkSuQmCC\" id=\"imageb61733ab92\" transform=\"scale(1 -1)translate(0 -41)\" x=\"34.240625\" y=\"-25.773662\" width=\"68\" height=\"41\"/>\n   </g>\n   <g id=\"matplotlib.axis_1\">\n    <g id=\"xtick_1\">\n     <g id=\"line2d_1\">\n      <defs>\n       <path id=\"mdd99566e61\" d=\"M 0 0 \nL 0 3.5 \n\" style=\"stroke: #000000; stroke-width: 0.8\"/>\n      </defs>\n      <g>\n       <use xlink:href=\"#mdd99566e61\" x=\"37.637147\" y=\"66.773662\" style=\"stroke: #000000; stroke-width: 0.8\"/>\n      </g>\n     </g>\n    </g>\n    <g id=\"xtick_2\">\n     <g id=\"line2d_2\">\n      <g>\n       <use xlink:href=\"#mdd99566e61\" x=\"71.602364\" y=\"66.773662\" style=\"stroke: #000000; stroke-width: 0.8\"/>\n      </g>\n     </g>\n    </g>\n   </g>\n   <g id=\"matplotlib.axis_2\">\n    <g id=\"ytick_1\">\n     <g id=\"line2d_3\">\n      <defs>\n       <path id=\"me2f7133370\" d=\"M 0 0 \nL -3.5 0 \n\" style=\"stroke: #000000; stroke-width: 0.8\"/>\n      </defs>\n      <g>\n       <use xlink:href=\"#me2f7133370\" x=\"34.240625\" y=\"29.411923\" style=\"stroke: #000000; stroke-width: 0.8\"/>\n      </g>\n     </g>\n     <g id=\"text_1\">\n      <!-- 0 -->\n      <g transform=\"translate(20.878125 33.211141)scale(0.1 -0.1)\">\n       <defs>\n        <path id=\"DejaVuSans-30\" d=\"M 2034 4250 \nQ 1547 4250 1301 3770 \nQ 1056 3291 1056 2328 \nQ 1056 1369 1301 889 \nQ 1547 409 2034 409 \nQ 2525 409 2770 889 \nQ 3016 1369 3016 2328 \nQ 3016 3291 2770 3770 \nQ 2525 4250 2034 4250 \nz\nM 2034 4750 \nQ 2819 4750 3233 4129 \nQ 3647 3509 3647 2328 \nQ 3647 1150 3233 529 \nQ 2819 -91 2034 -91 \nQ 1250 -91 836 529 \nQ 422 1150 422 2328 \nQ 422 3509 836 4129 \nQ 1250 4750 2034 4750 \nz\n\" transform=\"scale(0.015625)\"/>\n       </defs>\n       <use xlink:href=\"#DejaVuSans-30\"/>\n      </g>\n     </g>\n    </g>\n    <g id=\"ytick_2\">\n     <g id=\"line2d_4\">\n      <g>\n       <use xlink:href=\"#me2f7133370\" x=\"34.240625\" y=\"63.37714\" style=\"stroke: #000000; stroke-width: 0.8\"/>\n      </g>\n     </g>\n     <g id=\"text_2\">\n      <!-- 5 -->\n      <g transform=\"translate(20.878125 67.176359)scale(0.1 -0.1)\">\n       <defs>\n        <path id=\"DejaVuSans-35\" d=\"M 691 4666 \nL 3169 4666 \nL 3169 4134 \nL 1269 4134 \nL 1269 2991 \nQ 1406 3038 1543 3061 \nQ 1681 3084 1819 3084 \nQ 2600 3084 3056 2656 \nQ 3513 2228 3513 1497 \nQ 3513 744 3044 326 \nQ 2575 -91 1722 -91 \nQ 1428 -91 1123 -41 \nQ 819 9 494 109 \nL 494 744 \nQ 775 591 1075 516 \nQ 1375 441 1709 441 \nQ 2250 441 2565 725 \nQ 2881 1009 2881 1497 \nQ 2881 1984 2565 2268 \nQ 2250 2553 1709 2553 \nQ 1456 2553 1204 2497 \nQ 953 2441 691 2322 \nL 691 4666 \nz\n\" transform=\"scale(0.015625)\"/>\n       </defs>\n       <use xlink:href=\"#DejaVuSans-35\"/>\n      </g>\n     </g>\n    </g>\n    <g id=\"text_3\">\n     <!-- Query positions -->\n     <g transform=\"translate(14.798437 85.589063)rotate(-90)scale(0.1 -0.1)\">\n      <defs>\n       <path id=\"DejaVuSans-51\" d=\"M 2522 4238 \nQ 1834 4238 1429 3725 \nQ 1025 3213 1025 2328 \nQ 1025 1447 1429 934 \nQ 1834 422 2522 422 \nQ 3209 422 3611 934 \nQ 4013 1447 4013 2328 \nQ 4013 3213 3611 3725 \nQ 3209 4238 2522 4238 \nz\nM 3406 84 \nL 4238 -825 \nL 3475 -825 \nL 2784 -78 \nQ 2681 -84 2626 -87 \nQ 2572 -91 2522 -91 \nQ 1538 -91 948 567 \nQ 359 1225 359 2328 \nQ 359 3434 948 4092 \nQ 1538 4750 2522 4750 \nQ 3503 4750 4090 4092 \nQ 4678 3434 4678 2328 \nQ 4678 1516 4351 937 \nQ 4025 359 3406 84 \nz\n\" transform=\"scale(0.015625)\"/>\n       <path id=\"DejaVuSans-75\" d=\"M 544 1381 \nL 544 3500 \nL 1119 3500 \nL 1119 1403 \nQ 1119 906 1312 657 \nQ 1506 409 1894 409 \nQ 2359 409 2629 706 \nQ 2900 1003 2900 1516 \nL 2900 3500 \nL 3475 3500 \nL 3475 0 \nL 2900 0 \nL 2900 538 \nQ 2691 219 2414 64 \nQ 2138 -91 1772 -91 \nQ 1169 -91 856 284 \nQ 544 659 544 1381 \nz\nM 1991 3584 \nL 1991 3584 \nz\n\" transform=\"scale(0.015625)\"/>\n       <path id=\"DejaVuSans-65\" d=\"M 3597 1894 \nL 3597 1613 \nL 953 1613 \nQ 991 1019 1311 708 \nQ 1631 397 2203 397 \nQ 2534 397 2845 478 \nQ 3156 559 3463 722 \nL 3463 178 \nQ 3153 47 2828 -22 \nQ 2503 -91 2169 -91 \nQ 1331 -91 842 396 \nQ 353 884 353 1716 \nQ 353 2575 817 3079 \nQ 1281 3584 2069 3584 \nQ 2775 3584 3186 3129 \nQ 3597 2675 3597 1894 \nz\nM 3022 2063 \nQ 3016 2534 2758 2815 \nQ 2500 3097 2075 3097 \nQ 1594 3097 1305 2825 \nQ 1016 2553 972 2059 \nL 3022 2063 \nz\n\" transform=\"scale(0.015625)\"/>\n       <path id=\"DejaVuSans-72\" d=\"M 2631 2963 \nQ 2534 3019 2420 3045 \nQ 2306 3072 2169 3072 \nQ 1681 3072 1420 2755 \nQ 1159 2438 1159 1844 \nL 1159 0 \nL 581 0 \nL 581 3500 \nL 1159 3500 \nL 1159 2956 \nQ 1341 3275 1631 3429 \nQ 1922 3584 2338 3584 \nQ 2397 3584 2469 3576 \nQ 2541 3569 2628 3553 \nL 2631 2963 \nz\n\" transform=\"scale(0.015625)\"/>\n       <path id=\"DejaVuSans-79\" d=\"M 2059 -325 \nQ 1816 -950 1584 -1140 \nQ 1353 -1331 966 -1331 \nL 506 -1331 \nL 506 -850 \nL 844 -850 \nQ 1081 -850 1212 -737 \nQ 1344 -625 1503 -206 \nL 1606 56 \nL 191 3500 \nL 800 3500 \nL 1894 763 \nL 2988 3500 \nL 3597 3500 \nL 2059 -325 \nz\n\" transform=\"scale(0.015625)\"/>\n       <path id=\"DejaVuSans-20\" transform=\"scale(0.015625)\"/>\n       <path id=\"DejaVuSans-70\" d=\"M 1159 525 \nL 1159 -1331 \nL 581 -1331 \nL 581 3500 \nL 1159 3500 \nL 1159 2969 \nQ 1341 3281 1617 3432 \nQ 1894 3584 2278 3584 \nQ 2916 3584 3314 3078 \nQ 3713 2572 3713 1747 \nQ 3713 922 3314 415 \nQ 2916 -91 2278 -91 \nQ 1894 -91 1617 61 \nQ 1341 213 1159 525 \nz\nM 3116 1747 \nQ 3116 2381 2855 2742 \nQ 2594 3103 2138 3103 \nQ 1681 3103 1420 2742 \nQ 1159 2381 1159 1747 \nQ 1159 1113 1420 752 \nQ 1681 391 2138 391 \nQ 2594 391 2855 752 \nQ 3116 1113 3116 1747 \nz\n\" transform=\"scale(0.015625)\"/>\n       <path id=\"DejaVuSans-6f\" d=\"M 1959 3097 \nQ 1497 3097 1228 2736 \nQ 959 2375 959 1747 \nQ 959 1119 1226 758 \nQ 1494 397 1959 397 \nQ 2419 397 2687 759 \nQ 2956 1122 2956 1747 \nQ 2956 2369 2687 2733 \nQ 2419 3097 1959 3097 \nz\nM 1959 3584 \nQ 2709 3584 3137 3096 \nQ 3566 2609 3566 1747 \nQ 3566 888 3137 398 \nQ 2709 -91 1959 -91 \nQ 1206 -91 779 398 \nQ 353 888 353 1747 \nQ 353 2609 779 3096 \nQ 1206 3584 1959 3584 \nz\n\" transform=\"scale(0.015625)\"/>\n       <path id=\"DejaVuSans-73\" d=\"M 2834 3397 \nL 2834 2853 \nQ 2591 2978 2328 3040 \nQ 2066 3103 1784 3103 \nQ 1356 3103 1142 2972 \nQ 928 2841 928 2578 \nQ 928 2378 1081 2264 \nQ 1234 2150 1697 2047 \nL 1894 2003 \nQ 2506 1872 2764 1633 \nQ 3022 1394 3022 966 \nQ 3022 478 2636 193 \nQ 2250 -91 1575 -91 \nQ 1294 -91 989 -36 \nQ 684 19 347 128 \nL 347 722 \nQ 666 556 975 473 \nQ 1284 391 1588 391 \nQ 1994 391 2212 530 \nQ 2431 669 2431 922 \nQ 2431 1156 2273 1281 \nQ 2116 1406 1581 1522 \nL 1381 1569 \nQ 847 1681 609 1914 \nQ 372 2147 372 2553 \nQ 372 3047 722 3315 \nQ 1072 3584 1716 3584 \nQ 2034 3584 2315 3537 \nQ 2597 3491 2834 3397 \nz\n\" transform=\"scale(0.015625)\"/>\n       <path id=\"DejaVuSans-69\" d=\"M 603 3500 \nL 1178 3500 \nL 1178 0 \nL 603 0 \nL 603 3500 \nz\nM 603 4863 \nL 1178 4863 \nL 1178 4134 \nL 603 4134 \nL 603 4863 \nz\n\" transform=\"scale(0.015625)\"/>\n       <path id=\"DejaVuSans-74\" d=\"M 1172 4494 \nL 1172 3500 \nL 2356 3500 \nL 2356 3053 \nL 1172 3053 \nL 1172 1153 \nQ 1172 725 1289 603 \nQ 1406 481 1766 481 \nL 2356 481 \nL 2356 0 \nL 1766 0 \nQ 1100 0 847 248 \nQ 594 497 594 1153 \nL 594 3053 \nL 172 3053 \nL 172 3500 \nL 594 3500 \nL 594 4494 \nL 1172 4494 \nz\n\" transform=\"scale(0.015625)\"/>\n       <path id=\"DejaVuSans-6e\" d=\"M 3513 2113 \nL 3513 0 \nL 2938 0 \nL 2938 2094 \nQ 2938 2591 2744 2837 \nQ 2550 3084 2163 3084 \nQ 1697 3084 1428 2787 \nQ 1159 2491 1159 1978 \nL 1159 0 \nL 581 0 \nL 581 3500 \nL 1159 3500 \nL 1159 2956 \nQ 1366 3272 1645 3428 \nQ 1925 3584 2291 3584 \nQ 2894 3584 3203 3211 \nQ 3513 2838 3513 2113 \nz\n\" transform=\"scale(0.015625)\"/>\n      </defs>\n      <use xlink:href=\"#DejaVuSans-51\"/>\n      <use xlink:href=\"#DejaVuSans-75\" x=\"78.710938\"/>\n      <use xlink:href=\"#DejaVuSans-65\" x=\"142.089844\"/>\n      <use xlink:href=\"#DejaVuSans-72\" x=\"203.613281\"/>\n      <use xlink:href=\"#DejaVuSans-79\" x=\"244.726562\"/>\n      <use xlink:href=\"#DejaVuSans-20\" x=\"303.90625\"/>\n      <use xlink:href=\"#DejaVuSans-70\" x=\"335.693359\"/>\n      <use xlink:href=\"#DejaVuSans-6f\" x=\"399.169922\"/>\n      <use xlink:href=\"#DejaVuSans-73\" x=\"460.351562\"/>\n      <use xlink:href=\"#DejaVuSans-69\" x=\"512.451172\"/>\n      <use xlink:href=\"#DejaVuSans-74\" x=\"540.234375\"/>\n      <use xlink:href=\"#DejaVuSans-69\" x=\"579.443359\"/>\n      <use xlink:href=\"#DejaVuSans-6f\" x=\"607.226562\"/>\n      <use xlink:href=\"#DejaVuSans-6e\" x=\"668.408203\"/>\n      <use xlink:href=\"#DejaVuSans-73\" x=\"731.787109\"/>\n     </g>\n    </g>\n   </g>\n   <g id=\"patch_3\">\n    <path d=\"M 34.240625 66.773662 \nL 34.240625 26.015401 \n\" style=\"fill: none; stroke: #000000; stroke-width: 0.8; stroke-linejoin: miter; stroke-linecap: square\"/>\n   </g>\n   <g id=\"patch_4\">\n    <path d=\"M 102.17106 66.773662 \nL 102.17106 26.015401 \n\" style=\"fill: none; stroke: #000000; stroke-width: 0.8; stroke-linejoin: miter; stroke-linecap: square\"/>\n   </g>\n   <g id=\"patch_5\">\n    <path d=\"M 34.240625 66.773662 \nL 102.17106 66.773662 \n\" style=\"fill: none; stroke: #000000; stroke-width: 0.8; stroke-linejoin: miter; stroke-linecap: square\"/>\n   </g>\n   <g id=\"patch_6\">\n    <path d=\"M 34.240625 26.015401 \nL 102.17106 26.015401 \n\" style=\"fill: none; stroke: #000000; stroke-width: 0.8; stroke-linejoin: miter; stroke-linecap: square\"/>\n   </g>\n   <g id=\"text_4\">\n    <!-- Head 1 -->\n    <g transform=\"translate(46.791467 20.015401)scale(0.12 -0.12)\">\n     <defs>\n      <path id=\"DejaVuSans-48\" d=\"M 628 4666 \nL 1259 4666 \nL 1259 2753 \nL 3553 2753 \nL 3553 4666 \nL 4184 4666 \nL 4184 0 \nL 3553 0 \nL 3553 2222 \nL 1259 2222 \nL 1259 0 \nL 628 0 \nL 628 4666 \nz\n\" transform=\"scale(0.015625)\"/>\n      <path id=\"DejaVuSans-61\" d=\"M 2194 1759 \nQ 1497 1759 1228 1600 \nQ 959 1441 959 1056 \nQ 959 750 1161 570 \nQ 1363 391 1709 391 \nQ 2188 391 2477 730 \nQ 2766 1069 2766 1631 \nL 2766 1759 \nL 2194 1759 \nz\nM 3341 1997 \nL 3341 0 \nL 2766 0 \nL 2766 531 \nQ 2569 213 2275 61 \nQ 1981 -91 1556 -91 \nQ 1019 -91 701 211 \nQ 384 513 384 1019 \nQ 384 1609 779 1909 \nQ 1175 2209 1959 2209 \nL 2766 2209 \nL 2766 2266 \nQ 2766 2663 2505 2880 \nQ 2244 3097 1772 3097 \nQ 1472 3097 1187 3025 \nQ 903 2953 641 2809 \nL 641 3341 \nQ 956 3463 1253 3523 \nQ 1550 3584 1831 3584 \nQ 2591 3584 2966 3190 \nQ 3341 2797 3341 1997 \nz\n\" transform=\"scale(0.015625)\"/>\n      <path id=\"DejaVuSans-64\" d=\"M 2906 2969 \nL 2906 4863 \nL 3481 4863 \nL 3481 0 \nL 2906 0 \nL 2906 525 \nQ 2725 213 2448 61 \nQ 2172 -91 1784 -91 \nQ 1150 -91 751 415 \nQ 353 922 353 1747 \nQ 353 2572 751 3078 \nQ 1150 3584 1784 3584 \nQ 2172 3584 2448 3432 \nQ 2725 3281 2906 2969 \nz\nM 947 1747 \nQ 947 1113 1208 752 \nQ 1469 391 1925 391 \nQ 2381 391 2643 752 \nQ 2906 1113 2906 1747 \nQ 2906 2381 2643 2742 \nQ 2381 3103 1925 3103 \nQ 1469 3103 1208 2742 \nQ 947 2381 947 1747 \nz\n\" transform=\"scale(0.015625)\"/>\n      <path id=\"DejaVuSans-31\" d=\"M 794 531 \nL 1825 531 \nL 1825 4091 \nL 703 3866 \nL 703 4441 \nL 1819 4666 \nL 2450 4666 \nL 2450 531 \nL 3481 531 \nL 3481 0 \nL 794 0 \nL 794 531 \nz\n\" transform=\"scale(0.015625)\"/>\n     </defs>\n     <use xlink:href=\"#DejaVuSans-48\"/>\n     <use xlink:href=\"#DejaVuSans-65\" x=\"75.195312\"/>\n     <use xlink:href=\"#DejaVuSans-61\" x=\"136.71875\"/>\n     <use xlink:href=\"#DejaVuSans-64\" x=\"197.998047\"/>\n     <use xlink:href=\"#DejaVuSans-20\" x=\"261.474609\"/>\n     <use xlink:href=\"#DejaVuSans-31\" x=\"293.261719\"/>\n    </g>\n   </g>\n  </g>\n  <g id=\"axes_2\">\n   <g id=\"patch_7\">\n    <path d=\"M 115.757147 66.773662 \nL 183.687582 66.773662 \nL 183.687582 26.015401 \nL 115.757147 26.015401 \nz\n\" style=\"fill: #ffffff\"/>\n   </g>\n   <g clip-path=\"url(#pc47843664f)\">\n    <image xlink:href=\"data:image/png;base64,\niVBORw0KGgoAAAANSUhEUgAAAEQAAAApCAYAAACMeY82AAABI0lEQVR4nO3VIWtCURiH8Xuvl22gC5txg0WLYBlYBltaEj/AirPMavU7mCxGq8UvsWQwGARxQQTBeIvImLLr+sN5xwXDMfx/8bwc7svDgRv+LqfHwBBe5a1RkM7HzvPJW8e8U13OzNm5iHwvcG4UBBQEFAQUBBQEwlZQMH+7/eTLvnnYu89/dvbHineZF/NFLwQUBBQEFAQUBBQEwnSbmL/dINmYo8/HV+f5U69t3snVPzIv5oteCCgIKAgoCCgIKAjE/w0H5Rdz1hh1nedR5fmkhXzTCwEFAQUBBQEFgXh4XzKHzdXUnB3XC/fge2t/rXCTcS1/9EJAQUBBQEFAQUBBIH64vDCH6ahvzqLau3twfXviSn7phYCCgIKAgoCCgILAH6CRKQv1iIojAAAAAElFTkSuQmCC\" id=\"imagee06dd27390\" transform=\"scale(1 -1)translate(0 -41)\" x=\"115.757147\" y=\"-25.773662\" width=\"68\" height=\"41\"/>\n   </g>\n   <g id=\"matplotlib.axis_3\">\n    <g id=\"xtick_3\">\n     <g id=\"line2d_5\">\n      <g>\n       <use xlink:href=\"#mdd99566e61\" x=\"119.153668\" y=\"66.773662\" style=\"stroke: #000000; stroke-width: 0.8\"/>\n      </g>\n     </g>\n    </g>\n    <g id=\"xtick_4\">\n     <g id=\"line2d_6\">\n      <g>\n       <use xlink:href=\"#mdd99566e61\" x=\"153.118886\" y=\"66.773662\" style=\"stroke: #000000; stroke-width: 0.8\"/>\n      </g>\n     </g>\n    </g>\n   </g>\n   <g id=\"matplotlib.axis_4\">\n    <g id=\"ytick_3\">\n     <g id=\"line2d_7\">\n      <g>\n       <use xlink:href=\"#me2f7133370\" x=\"115.757147\" y=\"29.411923\" style=\"stroke: #000000; stroke-width: 0.8\"/>\n      </g>\n     </g>\n    </g>\n    <g id=\"ytick_4\">\n     <g id=\"line2d_8\">\n      <g>\n       <use xlink:href=\"#me2f7133370\" x=\"115.757147\" y=\"63.37714\" style=\"stroke: #000000; stroke-width: 0.8\"/>\n      </g>\n     </g>\n    </g>\n   </g>\n   <g id=\"patch_8\">\n    <path d=\"M 115.757147 66.773662 \nL 115.757147 26.015401 \n\" style=\"fill: none; stroke: #000000; stroke-width: 0.8; stroke-linejoin: miter; stroke-linecap: square\"/>\n   </g>\n   <g id=\"patch_9\">\n    <path d=\"M 183.687582 66.773662 \nL 183.687582 26.015401 \n\" style=\"fill: none; stroke: #000000; stroke-width: 0.8; stroke-linejoin: miter; stroke-linecap: square\"/>\n   </g>\n   <g id=\"patch_10\">\n    <path d=\"M 115.757147 66.773662 \nL 183.687582 66.773662 \n\" style=\"fill: none; stroke: #000000; stroke-width: 0.8; stroke-linejoin: miter; stroke-linecap: square\"/>\n   </g>\n   <g id=\"patch_11\">\n    <path d=\"M 115.757147 26.015401 \nL 183.687582 26.015401 \n\" style=\"fill: none; stroke: #000000; stroke-width: 0.8; stroke-linejoin: miter; stroke-linecap: square\"/>\n   </g>\n   <g id=\"text_5\">\n    <!-- Head 2 -->\n    <g transform=\"translate(128.307989 20.015401)scale(0.12 -0.12)\">\n     <defs>\n      <path id=\"DejaVuSans-32\" d=\"M 1228 531 \nL 3431 531 \nL 3431 0 \nL 469 0 \nL 469 531 \nQ 828 903 1448 1529 \nQ 2069 2156 2228 2338 \nQ 2531 2678 2651 2914 \nQ 2772 3150 2772 3378 \nQ 2772 3750 2511 3984 \nQ 2250 4219 1831 4219 \nQ 1534 4219 1204 4116 \nQ 875 4013 500 3803 \nL 500 4441 \nQ 881 4594 1212 4672 \nQ 1544 4750 1819 4750 \nQ 2544 4750 2975 4387 \nQ 3406 4025 3406 3419 \nQ 3406 3131 3298 2873 \nQ 3191 2616 2906 2266 \nQ 2828 2175 2409 1742 \nQ 1991 1309 1228 531 \nz\n\" transform=\"scale(0.015625)\"/>\n     </defs>\n     <use xlink:href=\"#DejaVuSans-48\"/>\n     <use xlink:href=\"#DejaVuSans-65\" x=\"75.195312\"/>\n     <use xlink:href=\"#DejaVuSans-61\" x=\"136.71875\"/>\n     <use xlink:href=\"#DejaVuSans-64\" x=\"197.998047\"/>\n     <use xlink:href=\"#DejaVuSans-20\" x=\"261.474609\"/>\n     <use xlink:href=\"#DejaVuSans-32\" x=\"293.261719\"/>\n    </g>\n   </g>\n  </g>\n  <g id=\"axes_3\">\n   <g id=\"patch_12\">\n    <path d=\"M 197.273668 66.773662 \nL 265.204103 66.773662 \nL 265.204103 26.015401 \nL 197.273668 26.015401 \nz\n\" style=\"fill: #ffffff\"/>\n   </g>\n   <g clip-path=\"url(#pa47bda0e89)\">\n    <image xlink:href=\"data:image/png;base64,\niVBORw0KGgoAAAANSUhEUgAAAEQAAAApCAYAAACMeY82AAABJElEQVR4nO3XsUpDMRiG4UQLSjlFELp0qDiIm5uugnuvw8Wxu+DeTfBeXL2GDg5idakg2kIrqJQc95d80tIhHb5nTPg54SUQTqy/pnUQ0vhJbYXY7mbXb9pHcuZ6MpJ7m2Kr9AE2jYOAg4CDgIOAg0BMr0P57D5e9OTg8cN9dj2NhnJm++R8haOV4RsCDgIOAg4CDgIOAjFNxvLZDb8/ejItssuDw1M50v94XvpgpfiGgIOAg4CDgIOAg0AjNHbkZv3Pn2uo9rLLZ63mumcqyjcEHAQcBBwEHATiZajkz93du35lYjP/ytTfcz2zW61wtDJ8Q8BBwEHAQcBBwEEgptmnfHavWgdy8Hb2kt+YvumP7XeWP1khviHgIOAg4CDgIOAg8AefczHm9QGH1wAAAABJRU5ErkJggg==\" id=\"image425f331a50\" transform=\"scale(1 -1)translate(0 -41)\" x=\"197.273668\" y=\"-25.773662\" width=\"68\" height=\"41\"/>\n   </g>\n   <g id=\"matplotlib.axis_5\">\n    <g id=\"xtick_5\">\n     <g id=\"line2d_9\">\n      <g>\n       <use xlink:href=\"#mdd99566e61\" x=\"200.67019\" y=\"66.773662\" style=\"stroke: #000000; stroke-width: 0.8\"/>\n      </g>\n     </g>\n    </g>\n    <g id=\"xtick_6\">\n     <g id=\"line2d_10\">\n      <g>\n       <use xlink:href=\"#mdd99566e61\" x=\"234.635408\" y=\"66.773662\" style=\"stroke: #000000; stroke-width: 0.8\"/>\n      </g>\n     </g>\n    </g>\n   </g>\n   <g id=\"matplotlib.axis_6\">\n    <g id=\"ytick_5\">\n     <g id=\"line2d_11\">\n      <g>\n       <use xlink:href=\"#me2f7133370\" x=\"197.273668\" y=\"29.411923\" style=\"stroke: #000000; stroke-width: 0.8\"/>\n      </g>\n     </g>\n    </g>\n    <g id=\"ytick_6\">\n     <g id=\"line2d_12\">\n      <g>\n       <use xlink:href=\"#me2f7133370\" x=\"197.273668\" y=\"63.37714\" style=\"stroke: #000000; stroke-width: 0.8\"/>\n      </g>\n     </g>\n    </g>\n   </g>\n   <g id=\"patch_13\">\n    <path d=\"M 197.273668 66.773662 \nL 197.273668 26.015401 \n\" style=\"fill: none; stroke: #000000; stroke-width: 0.8; stroke-linejoin: miter; stroke-linecap: square\"/>\n   </g>\n   <g id=\"patch_14\">\n    <path d=\"M 265.204103 66.773662 \nL 265.204103 26.015401 \n\" style=\"fill: none; stroke: #000000; stroke-width: 0.8; stroke-linejoin: miter; stroke-linecap: square\"/>\n   </g>\n   <g id=\"patch_15\">\n    <path d=\"M 197.273668 66.773662 \nL 265.204103 66.773662 \n\" style=\"fill: none; stroke: #000000; stroke-width: 0.8; stroke-linejoin: miter; stroke-linecap: square\"/>\n   </g>\n   <g id=\"patch_16\">\n    <path d=\"M 197.273668 26.015401 \nL 265.204103 26.015401 \n\" style=\"fill: none; stroke: #000000; stroke-width: 0.8; stroke-linejoin: miter; stroke-linecap: square\"/>\n   </g>\n   <g id=\"text_6\">\n    <!-- Head 3 -->\n    <g transform=\"translate(209.824511 20.015401)scale(0.12 -0.12)\">\n     <defs>\n      <path id=\"DejaVuSans-33\" d=\"M 2597 2516 \nQ 3050 2419 3304 2112 \nQ 3559 1806 3559 1356 \nQ 3559 666 3084 287 \nQ 2609 -91 1734 -91 \nQ 1441 -91 1130 -33 \nQ 819 25 488 141 \nL 488 750 \nQ 750 597 1062 519 \nQ 1375 441 1716 441 \nQ 2309 441 2620 675 \nQ 2931 909 2931 1356 \nQ 2931 1769 2642 2001 \nQ 2353 2234 1838 2234 \nL 1294 2234 \nL 1294 2753 \nL 1863 2753 \nQ 2328 2753 2575 2939 \nQ 2822 3125 2822 3475 \nQ 2822 3834 2567 4026 \nQ 2313 4219 1838 4219 \nQ 1578 4219 1281 4162 \nQ 984 4106 628 3988 \nL 628 4550 \nQ 988 4650 1302 4700 \nQ 1616 4750 1894 4750 \nQ 2613 4750 3031 4423 \nQ 3450 4097 3450 3541 \nQ 3450 3153 3228 2886 \nQ 3006 2619 2597 2516 \nz\n\" transform=\"scale(0.015625)\"/>\n     </defs>\n     <use xlink:href=\"#DejaVuSans-48\"/>\n     <use xlink:href=\"#DejaVuSans-65\" x=\"75.195312\"/>\n     <use xlink:href=\"#DejaVuSans-61\" x=\"136.71875\"/>\n     <use xlink:href=\"#DejaVuSans-64\" x=\"197.998047\"/>\n     <use xlink:href=\"#DejaVuSans-20\" x=\"261.474609\"/>\n     <use xlink:href=\"#DejaVuSans-33\" x=\"293.261719\"/>\n    </g>\n   </g>\n  </g>\n  <g id=\"axes_4\">\n   <g id=\"patch_17\">\n    <path d=\"M 278.79019 66.773662 \nL 346.720625 66.773662 \nL 346.720625 26.015401 \nL 278.79019 26.015401 \nz\n\" style=\"fill: #ffffff\"/>\n   </g>\n   <g clip-path=\"url(#pc0fb3ce144)\">\n    <image xlink:href=\"data:image/png;base64,\niVBORw0KGgoAAAANSUhEUgAAAEQAAAApCAYAAACMeY82AAABH0lEQVR4nO3ZsUpCURzHcc/lNjQ1NiQkNaZTPkOrrT1B+BxOvYFDe1OiTkFrQVv4DrpYEIXloJ3b/uP8QBfvDb6f8fw5nMOXAxcxxMVHUXN+137U6ybXV7M3u2f/dmRnVZGVfYGqIYggiCCIIIggiAgvh3X72W3f3diN2fnF9ofle1vv2TVeiCCIIIggiCCIIIjI2+O+HRYP93YW16vkejg6tXtCo7X5zUrCCxEEEQQRBBEEEQQRIX7O7a/d7sGJ3dj/nibXixj9YVn1+1f/hjtGEEEQQRBBEBHi17v/K7Pwo2GjmVzvPA/snuz4bPOblYQXIggiCCIIIggiCCLy2nJhhz/XV3Z2+fqYXI+TJ38an93/hyCCIIIggiCCIOIPrJsymxTG5fsAAAAASUVORK5CYII=\" id=\"image8b92da6f07\" transform=\"scale(1 -1)translate(0 -41)\" x=\"278.79019\" y=\"-25.773662\" width=\"68\" height=\"41\"/>\n   </g>\n   <g id=\"matplotlib.axis_7\">\n    <g id=\"xtick_7\">\n     <g id=\"line2d_13\">\n      <g>\n       <use xlink:href=\"#mdd99566e61\" x=\"282.186712\" y=\"66.773662\" style=\"stroke: #000000; stroke-width: 0.8\"/>\n      </g>\n     </g>\n    </g>\n    <g id=\"xtick_8\">\n     <g id=\"line2d_14\">\n      <g>\n       <use xlink:href=\"#mdd99566e61\" x=\"316.151929\" y=\"66.773662\" style=\"stroke: #000000; stroke-width: 0.8\"/>\n      </g>\n     </g>\n    </g>\n   </g>\n   <g id=\"matplotlib.axis_8\">\n    <g id=\"ytick_7\">\n     <g id=\"line2d_15\">\n      <g>\n       <use xlink:href=\"#me2f7133370\" x=\"278.79019\" y=\"29.411923\" style=\"stroke: #000000; stroke-width: 0.8\"/>\n      </g>\n     </g>\n    </g>\n    <g id=\"ytick_8\">\n     <g id=\"line2d_16\">\n      <g>\n       <use xlink:href=\"#me2f7133370\" x=\"278.79019\" y=\"63.37714\" style=\"stroke: #000000; stroke-width: 0.8\"/>\n      </g>\n     </g>\n    </g>\n   </g>\n   <g id=\"patch_18\">\n    <path d=\"M 278.79019 66.773662 \nL 278.79019 26.015401 \n\" style=\"fill: none; stroke: #000000; stroke-width: 0.8; stroke-linejoin: miter; stroke-linecap: square\"/>\n   </g>\n   <g id=\"patch_19\">\n    <path d=\"M 346.720625 66.773662 \nL 346.720625 26.015401 \n\" style=\"fill: none; stroke: #000000; stroke-width: 0.8; stroke-linejoin: miter; stroke-linecap: square\"/>\n   </g>\n   <g id=\"patch_20\">\n    <path d=\"M 278.79019 66.773662 \nL 346.720625 66.773662 \n\" style=\"fill: none; stroke: #000000; stroke-width: 0.8; stroke-linejoin: miter; stroke-linecap: square\"/>\n   </g>\n   <g id=\"patch_21\">\n    <path d=\"M 278.79019 26.015401 \nL 346.720625 26.015401 \n\" style=\"fill: none; stroke: #000000; stroke-width: 0.8; stroke-linejoin: miter; stroke-linecap: square\"/>\n   </g>\n   <g id=\"text_7\">\n    <!-- Head 4 -->\n    <g transform=\"translate(291.341033 20.015401)scale(0.12 -0.12)\">\n     <defs>\n      <path id=\"DejaVuSans-34\" d=\"M 2419 4116 \nL 825 1625 \nL 2419 1625 \nL 2419 4116 \nz\nM 2253 4666 \nL 3047 4666 \nL 3047 1625 \nL 3713 1625 \nL 3713 1100 \nL 3047 1100 \nL 3047 0 \nL 2419 0 \nL 2419 1100 \nL 313 1100 \nL 313 1709 \nL 2253 4666 \nz\n\" transform=\"scale(0.015625)\"/>\n     </defs>\n     <use xlink:href=\"#DejaVuSans-48\"/>\n     <use xlink:href=\"#DejaVuSans-65\" x=\"75.195312\"/>\n     <use xlink:href=\"#DejaVuSans-61\" x=\"136.71875\"/>\n     <use xlink:href=\"#DejaVuSans-64\" x=\"197.998047\"/>\n     <use xlink:href=\"#DejaVuSans-20\" x=\"261.474609\"/>\n     <use xlink:href=\"#DejaVuSans-34\" x=\"293.261719\"/>\n    </g>\n   </g>\n  </g>\n  <g id=\"axes_5\">\n   <g id=\"patch_22\">\n    <path d=\"M 34.240625 170.551844 \nL 102.17106 170.551844 \nL 102.17106 129.793583 \nL 34.240625 129.793583 \nz\n\" style=\"fill: #ffffff\"/>\n   </g>\n   <g clip-path=\"url(#p1e5dc515da)\">\n    <image xlink:href=\"data:image/png;base64,\niVBORw0KGgoAAAANSUhEUgAAAEQAAAApCAYAAACMeY82AAABIklEQVR4nO3XL0uDURiG8fdsUxjOsmIVsWsV09APYF2yiDa/imHBD2AXg2WsbzizBqMKiuUNDsE/O6/94tzwwsJZuH/xPDzb4eLAWIjPD1UhzE6P1ahYuxgkz6vyXe40d3pytiwauS+wbBwEHAQcBBwEHARaX+cncti5upaz+DgRn7iy6J2y8gsBBwEHAQcBBwEHgfB3dyv/7VbjkV7cO0wPPl7lTvOgX/9mmfiFgIOAg4CDgIOAg0CI5Zv82b3Z2pWLR0/T5Hn1WcqdxsZm7Yvl4hcCDgIOAg4CDgKteD+Uw/3trt78+U4eh/b6onfKyi8EHAQcBBwEHAQcBMJZ0ZF/7i5nL3pz/ps+j3P9Zavt2hfLxS8EHAQcBBwEHAQcBP4BgKovpaoMEQIAAAAASUVORK5CYII=\" id=\"image86348a1504\" transform=\"scale(1 -1)translate(0 -41)\" x=\"34.240625\" y=\"-129.551844\" width=\"68\" height=\"41\"/>\n   </g>\n   <g id=\"matplotlib.axis_9\">\n    <g id=\"xtick_9\">\n     <g id=\"line2d_17\">\n      <g>\n       <use xlink:href=\"#mdd99566e61\" x=\"37.637147\" y=\"170.551844\" style=\"stroke: #000000; stroke-width: 0.8\"/>\n      </g>\n     </g>\n     <g id=\"text_8\">\n      <!-- 0 -->\n      <g transform=\"translate(34.455897 185.150281)scale(0.1 -0.1)\">\n       <use xlink:href=\"#DejaVuSans-30\"/>\n      </g>\n     </g>\n    </g>\n    <g id=\"xtick_10\">\n     <g id=\"line2d_18\">\n      <g>\n       <use xlink:href=\"#mdd99566e61\" x=\"71.602364\" y=\"170.551844\" style=\"stroke: #000000; stroke-width: 0.8\"/>\n      </g>\n     </g>\n     <g id=\"text_9\">\n      <!-- 5 -->\n      <g transform=\"translate(68.421114 185.150281)scale(0.1 -0.1)\">\n       <use xlink:href=\"#DejaVuSans-35\"/>\n      </g>\n     </g>\n    </g>\n    <g id=\"text_10\">\n     <!-- Key positions -->\n     <g transform=\"translate(35.142561 198.828406)scale(0.1 -0.1)\">\n      <defs>\n       <path id=\"DejaVuSans-4b\" d=\"M 628 4666 \nL 1259 4666 \nL 1259 2694 \nL 3353 4666 \nL 4166 4666 \nL 1850 2491 \nL 4331 0 \nL 3500 0 \nL 1259 2247 \nL 1259 0 \nL 628 0 \nL 628 4666 \nz\n\" transform=\"scale(0.015625)\"/>\n      </defs>\n      <use xlink:href=\"#DejaVuSans-4b\"/>\n      <use xlink:href=\"#DejaVuSans-65\" x=\"60.576172\"/>\n      <use xlink:href=\"#DejaVuSans-79\" x=\"122.099609\"/>\n      <use xlink:href=\"#DejaVuSans-20\" x=\"181.279297\"/>\n      <use xlink:href=\"#DejaVuSans-70\" x=\"213.066406\"/>\n      <use xlink:href=\"#DejaVuSans-6f\" x=\"276.542969\"/>\n      <use xlink:href=\"#DejaVuSans-73\" x=\"337.724609\"/>\n      <use xlink:href=\"#DejaVuSans-69\" x=\"389.824219\"/>\n      <use xlink:href=\"#DejaVuSans-74\" x=\"417.607422\"/>\n      <use xlink:href=\"#DejaVuSans-69\" x=\"456.816406\"/>\n      <use xlink:href=\"#DejaVuSans-6f\" x=\"484.599609\"/>\n      <use xlink:href=\"#DejaVuSans-6e\" x=\"545.78125\"/>\n      <use xlink:href=\"#DejaVuSans-73\" x=\"609.160156\"/>\n     </g>\n    </g>\n   </g>\n   <g id=\"matplotlib.axis_10\">\n    <g id=\"ytick_9\">\n     <g id=\"line2d_19\">\n      <g>\n       <use xlink:href=\"#me2f7133370\" x=\"34.240625\" y=\"133.190104\" style=\"stroke: #000000; stroke-width: 0.8\"/>\n      </g>\n     </g>\n     <g id=\"text_11\">\n      <!-- 0 -->\n      <g transform=\"translate(20.878125 136.989323)scale(0.1 -0.1)\">\n       <use xlink:href=\"#DejaVuSans-30\"/>\n      </g>\n     </g>\n    </g>\n    <g id=\"ytick_10\">\n     <g id=\"line2d_20\">\n      <g>\n       <use xlink:href=\"#me2f7133370\" x=\"34.240625\" y=\"167.155322\" style=\"stroke: #000000; stroke-width: 0.8\"/>\n      </g>\n     </g>\n     <g id=\"text_12\">\n      <!-- 5 -->\n      <g transform=\"translate(20.878125 170.954541)scale(0.1 -0.1)\">\n       <use xlink:href=\"#DejaVuSans-35\"/>\n      </g>\n     </g>\n    </g>\n    <g id=\"text_13\">\n     <!-- Query positions -->\n     <g transform=\"translate(14.798437 189.367244)rotate(-90)scale(0.1 -0.1)\">\n      <use xlink:href=\"#DejaVuSans-51\"/>\n      <use xlink:href=\"#DejaVuSans-75\" x=\"78.710938\"/>\n      <use xlink:href=\"#DejaVuSans-65\" x=\"142.089844\"/>\n      <use xlink:href=\"#DejaVuSans-72\" x=\"203.613281\"/>\n      <use xlink:href=\"#DejaVuSans-79\" x=\"244.726562\"/>\n      <use xlink:href=\"#DejaVuSans-20\" x=\"303.90625\"/>\n      <use xlink:href=\"#DejaVuSans-70\" x=\"335.693359\"/>\n      <use xlink:href=\"#DejaVuSans-6f\" x=\"399.169922\"/>\n      <use xlink:href=\"#DejaVuSans-73\" x=\"460.351562\"/>\n      <use xlink:href=\"#DejaVuSans-69\" x=\"512.451172\"/>\n      <use xlink:href=\"#DejaVuSans-74\" x=\"540.234375\"/>\n      <use xlink:href=\"#DejaVuSans-69\" x=\"579.443359\"/>\n      <use xlink:href=\"#DejaVuSans-6f\" x=\"607.226562\"/>\n      <use xlink:href=\"#DejaVuSans-6e\" x=\"668.408203\"/>\n      <use xlink:href=\"#DejaVuSans-73\" x=\"731.787109\"/>\n     </g>\n    </g>\n   </g>\n   <g id=\"patch_23\">\n    <path d=\"M 34.240625 170.551844 \nL 34.240625 129.793583 \n\" style=\"fill: none; stroke: #000000; stroke-width: 0.8; stroke-linejoin: miter; stroke-linecap: square\"/>\n   </g>\n   <g id=\"patch_24\">\n    <path d=\"M 102.17106 170.551844 \nL 102.17106 129.793583 \n\" style=\"fill: none; stroke: #000000; stroke-width: 0.8; stroke-linejoin: miter; stroke-linecap: square\"/>\n   </g>\n   <g id=\"patch_25\">\n    <path d=\"M 34.240625 170.551844 \nL 102.17106 170.551844 \n\" style=\"fill: none; stroke: #000000; stroke-width: 0.8; stroke-linejoin: miter; stroke-linecap: square\"/>\n   </g>\n   <g id=\"patch_26\">\n    <path d=\"M 34.240625 129.793583 \nL 102.17106 129.793583 \n\" style=\"fill: none; stroke: #000000; stroke-width: 0.8; stroke-linejoin: miter; stroke-linecap: square\"/>\n   </g>\n   <g id=\"text_14\">\n    <!-- Head 1 -->\n    <g transform=\"translate(46.791467 123.793583)scale(0.12 -0.12)\">\n     <use xlink:href=\"#DejaVuSans-48\"/>\n     <use xlink:href=\"#DejaVuSans-65\" x=\"75.195312\"/>\n     <use xlink:href=\"#DejaVuSans-61\" x=\"136.71875\"/>\n     <use xlink:href=\"#DejaVuSans-64\" x=\"197.998047\"/>\n     <use xlink:href=\"#DejaVuSans-20\" x=\"261.474609\"/>\n     <use xlink:href=\"#DejaVuSans-31\" x=\"293.261719\"/>\n    </g>\n   </g>\n  </g>\n  <g id=\"axes_6\">\n   <g id=\"patch_27\">\n    <path d=\"M 115.757147 170.551844 \nL 183.687582 170.551844 \nL 183.687582 129.793583 \nL 115.757147 129.793583 \nz\n\" style=\"fill: #ffffff\"/>\n   </g>\n   <g clip-path=\"url(#p5505ca1174)\">\n    <image xlink:href=\"data:image/png;base64,\niVBORw0KGgoAAAANSUhEUgAAAEQAAAApCAYAAACMeY82AAABKklEQVR4nO3XMUtCURiH8Xsud2lQyobCRZCcmkJcmtwD08VJa67AKegLREMuDuLWILTX5OgncAwadXUTESex9j/nlQsOx+H5jefllcPDgYtu03/+iyzHp+bIlave81XnydzJfo/N2aGIQ1/g0BBEEEQQRBBEEEQkUenSHMbXNXP2kCl4zwc/o70vFRIvRBBEEEQQRBBEEES47WJu/ttd392ai0fvPe/5rNEyd4qTSfqbBcILEQQRBBEEEQQRBBFJtF6aw9fRrzl7+8h7zwsv93tfKiReiCCIIIggiCCIcF8nZ+afu5vmlbmYdD/9gx1fLZfJpb9ZILwQQRBBEEEQQRBBEOG286n52R1eVMzFdu/R/4PVurkTnxdTXywUXoggiCCIIIggiCCI+Aeu1yeZ6ocdZQAAAABJRU5ErkJggg==\" id=\"image295fe83eae\" transform=\"scale(1 -1)translate(0 -41)\" x=\"115.757147\" y=\"-129.551844\" width=\"68\" height=\"41\"/>\n   </g>\n   <g id=\"matplotlib.axis_11\">\n    <g id=\"xtick_11\">\n     <g id=\"line2d_21\">\n      <g>\n       <use xlink:href=\"#mdd99566e61\" x=\"119.153668\" y=\"170.551844\" style=\"stroke: #000000; stroke-width: 0.8\"/>\n      </g>\n     </g>\n     <g id=\"text_15\">\n      <!-- 0 -->\n      <g transform=\"translate(115.972418 185.150281)scale(0.1 -0.1)\">\n       <use xlink:href=\"#DejaVuSans-30\"/>\n      </g>\n     </g>\n    </g>\n    <g id=\"xtick_12\">\n     <g id=\"line2d_22\">\n      <g>\n       <use xlink:href=\"#mdd99566e61\" x=\"153.118886\" y=\"170.551844\" style=\"stroke: #000000; stroke-width: 0.8\"/>\n      </g>\n     </g>\n     <g id=\"text_16\">\n      <!-- 5 -->\n      <g transform=\"translate(149.937636 185.150281)scale(0.1 -0.1)\">\n       <use xlink:href=\"#DejaVuSans-35\"/>\n      </g>\n     </g>\n    </g>\n    <g id=\"text_17\">\n     <!-- Key positions -->\n     <g transform=\"translate(116.659083 198.828406)scale(0.1 -0.1)\">\n      <use xlink:href=\"#DejaVuSans-4b\"/>\n      <use xlink:href=\"#DejaVuSans-65\" x=\"60.576172\"/>\n      <use xlink:href=\"#DejaVuSans-79\" x=\"122.099609\"/>\n      <use xlink:href=\"#DejaVuSans-20\" x=\"181.279297\"/>\n      <use xlink:href=\"#DejaVuSans-70\" x=\"213.066406\"/>\n      <use xlink:href=\"#DejaVuSans-6f\" x=\"276.542969\"/>\n      <use xlink:href=\"#DejaVuSans-73\" x=\"337.724609\"/>\n      <use xlink:href=\"#DejaVuSans-69\" x=\"389.824219\"/>\n      <use xlink:href=\"#DejaVuSans-74\" x=\"417.607422\"/>\n      <use xlink:href=\"#DejaVuSans-69\" x=\"456.816406\"/>\n      <use xlink:href=\"#DejaVuSans-6f\" x=\"484.599609\"/>\n      <use xlink:href=\"#DejaVuSans-6e\" x=\"545.78125\"/>\n      <use xlink:href=\"#DejaVuSans-73\" x=\"609.160156\"/>\n     </g>\n    </g>\n   </g>\n   <g id=\"matplotlib.axis_12\">\n    <g id=\"ytick_11\">\n     <g id=\"line2d_23\">\n      <g>\n       <use xlink:href=\"#me2f7133370\" x=\"115.757147\" y=\"133.190104\" style=\"stroke: #000000; stroke-width: 0.8\"/>\n      </g>\n     </g>\n    </g>\n    <g id=\"ytick_12\">\n     <g id=\"line2d_24\">\n      <g>\n       <use xlink:href=\"#me2f7133370\" x=\"115.757147\" y=\"167.155322\" style=\"stroke: #000000; stroke-width: 0.8\"/>\n      </g>\n     </g>\n    </g>\n   </g>\n   <g id=\"patch_28\">\n    <path d=\"M 115.757147 170.551844 \nL 115.757147 129.793583 \n\" style=\"fill: none; stroke: #000000; stroke-width: 0.8; stroke-linejoin: miter; stroke-linecap: square\"/>\n   </g>\n   <g id=\"patch_29\">\n    <path d=\"M 183.687582 170.551844 \nL 183.687582 129.793583 \n\" style=\"fill: none; stroke: #000000; stroke-width: 0.8; stroke-linejoin: miter; stroke-linecap: square\"/>\n   </g>\n   <g id=\"patch_30\">\n    <path d=\"M 115.757147 170.551844 \nL 183.687582 170.551844 \n\" style=\"fill: none; stroke: #000000; stroke-width: 0.8; stroke-linejoin: miter; stroke-linecap: square\"/>\n   </g>\n   <g id=\"patch_31\">\n    <path d=\"M 115.757147 129.793583 \nL 183.687582 129.793583 \n\" style=\"fill: none; stroke: #000000; stroke-width: 0.8; stroke-linejoin: miter; stroke-linecap: square\"/>\n   </g>\n   <g id=\"text_18\">\n    <!-- Head 2 -->\n    <g transform=\"translate(128.307989 123.793583)scale(0.12 -0.12)\">\n     <use xlink:href=\"#DejaVuSans-48\"/>\n     <use xlink:href=\"#DejaVuSans-65\" x=\"75.195312\"/>\n     <use xlink:href=\"#DejaVuSans-61\" x=\"136.71875\"/>\n     <use xlink:href=\"#DejaVuSans-64\" x=\"197.998047\"/>\n     <use xlink:href=\"#DejaVuSans-20\" x=\"261.474609\"/>\n     <use xlink:href=\"#DejaVuSans-32\" x=\"293.261719\"/>\n    </g>\n   </g>\n  </g>\n  <g id=\"axes_7\">\n   <g id=\"patch_32\">\n    <path d=\"M 197.273668 170.551844 \nL 265.204103 170.551844 \nL 265.204103 129.793583 \nL 197.273668 129.793583 \nz\n\" style=\"fill: #ffffff\"/>\n   </g>\n   <g clip-path=\"url(#p6e768b6d6d)\">\n    <image xlink:href=\"data:image/png;base64,\niVBORw0KGgoAAAANSUhEUgAAAEQAAAApCAYAAACMeY82AAABCklEQVR4nO3ZMUoDQRSA4XmbgIJBUmlj53G8iBLiBWwD2ghWYquHySGsUlirSIKgJJv+Z98ShLgJ/F+5w2OHn4Fh2ZgcDOuSuHmfZUulXi2bF36+05k4HKRru6LqegO7xiBgEDAIGAQMAlEvPtNrt83jyXnj86vXaf6y4elfXvWvPCFgEDAIGAQMAgaB+B1dpNdu7/Y5n5x/ND5evtynI/3x3eY764gnBAwCBgGDgEHAIND6tXt5dJYOPi3etrKhrnlCwCBgEDAIGATiOo7TW+bha5YPVs0t01+cpZSoepvvrCOeEDAIGAQMAgYBg0C/ipbVetWymLSM/W6837vfAoOAQcAgYBAwCKwBjuIoxIWgi0QAAAAASUVORK5CYII=\" id=\"image5a933a830c\" transform=\"scale(1 -1)translate(0 -41)\" x=\"197.273668\" y=\"-129.551844\" width=\"68\" height=\"41\"/>\n   </g>\n   <g id=\"matplotlib.axis_13\">\n    <g id=\"xtick_13\">\n     <g id=\"line2d_25\">\n      <g>\n       <use xlink:href=\"#mdd99566e61\" x=\"200.67019\" y=\"170.551844\" style=\"stroke: #000000; stroke-width: 0.8\"/>\n      </g>\n     </g>\n     <g id=\"text_19\">\n      <!-- 0 -->\n      <g transform=\"translate(197.48894 185.150281)scale(0.1 -0.1)\">\n       <use xlink:href=\"#DejaVuSans-30\"/>\n      </g>\n     </g>\n    </g>\n    <g id=\"xtick_14\">\n     <g id=\"line2d_26\">\n      <g>\n       <use xlink:href=\"#mdd99566e61\" x=\"234.635408\" y=\"170.551844\" style=\"stroke: #000000; stroke-width: 0.8\"/>\n      </g>\n     </g>\n     <g id=\"text_20\">\n      <!-- 5 -->\n      <g transform=\"translate(231.454158 185.150281)scale(0.1 -0.1)\">\n       <use xlink:href=\"#DejaVuSans-35\"/>\n      </g>\n     </g>\n    </g>\n    <g id=\"text_21\">\n     <!-- Key positions -->\n     <g transform=\"translate(198.175605 198.828406)scale(0.1 -0.1)\">\n      <use xlink:href=\"#DejaVuSans-4b\"/>\n      <use xlink:href=\"#DejaVuSans-65\" x=\"60.576172\"/>\n      <use xlink:href=\"#DejaVuSans-79\" x=\"122.099609\"/>\n      <use xlink:href=\"#DejaVuSans-20\" x=\"181.279297\"/>\n      <use xlink:href=\"#DejaVuSans-70\" x=\"213.066406\"/>\n      <use xlink:href=\"#DejaVuSans-6f\" x=\"276.542969\"/>\n      <use xlink:href=\"#DejaVuSans-73\" x=\"337.724609\"/>\n      <use xlink:href=\"#DejaVuSans-69\" x=\"389.824219\"/>\n      <use xlink:href=\"#DejaVuSans-74\" x=\"417.607422\"/>\n      <use xlink:href=\"#DejaVuSans-69\" x=\"456.816406\"/>\n      <use xlink:href=\"#DejaVuSans-6f\" x=\"484.599609\"/>\n      <use xlink:href=\"#DejaVuSans-6e\" x=\"545.78125\"/>\n      <use xlink:href=\"#DejaVuSans-73\" x=\"609.160156\"/>\n     </g>\n    </g>\n   </g>\n   <g id=\"matplotlib.axis_14\">\n    <g id=\"ytick_13\">\n     <g id=\"line2d_27\">\n      <g>\n       <use xlink:href=\"#me2f7133370\" x=\"197.273668\" y=\"133.190104\" style=\"stroke: #000000; stroke-width: 0.8\"/>\n      </g>\n     </g>\n    </g>\n    <g id=\"ytick_14\">\n     <g id=\"line2d_28\">\n      <g>\n       <use xlink:href=\"#me2f7133370\" x=\"197.273668\" y=\"167.155322\" style=\"stroke: #000000; stroke-width: 0.8\"/>\n      </g>\n     </g>\n    </g>\n   </g>\n   <g id=\"patch_33\">\n    <path d=\"M 197.273668 170.551844 \nL 197.273668 129.793583 \n\" style=\"fill: none; stroke: #000000; stroke-width: 0.8; stroke-linejoin: miter; stroke-linecap: square\"/>\n   </g>\n   <g id=\"patch_34\">\n    <path d=\"M 265.204103 170.551844 \nL 265.204103 129.793583 \n\" style=\"fill: none; stroke: #000000; stroke-width: 0.8; stroke-linejoin: miter; stroke-linecap: square\"/>\n   </g>\n   <g id=\"patch_35\">\n    <path d=\"M 197.273668 170.551844 \nL 265.204103 170.551844 \n\" style=\"fill: none; stroke: #000000; stroke-width: 0.8; stroke-linejoin: miter; stroke-linecap: square\"/>\n   </g>\n   <g id=\"patch_36\">\n    <path d=\"M 197.273668 129.793583 \nL 265.204103 129.793583 \n\" style=\"fill: none; stroke: #000000; stroke-width: 0.8; stroke-linejoin: miter; stroke-linecap: square\"/>\n   </g>\n   <g id=\"text_22\">\n    <!-- Head 3 -->\n    <g transform=\"translate(209.824511 123.793583)scale(0.12 -0.12)\">\n     <use xlink:href=\"#DejaVuSans-48\"/>\n     <use xlink:href=\"#DejaVuSans-65\" x=\"75.195312\"/>\n     <use xlink:href=\"#DejaVuSans-61\" x=\"136.71875\"/>\n     <use xlink:href=\"#DejaVuSans-64\" x=\"197.998047\"/>\n     <use xlink:href=\"#DejaVuSans-20\" x=\"261.474609\"/>\n     <use xlink:href=\"#DejaVuSans-33\" x=\"293.261719\"/>\n    </g>\n   </g>\n  </g>\n  <g id=\"axes_8\">\n   <g id=\"patch_37\">\n    <path d=\"M 278.79019 170.551844 \nL 346.720625 170.551844 \nL 346.720625 129.793583 \nL 278.79019 129.793583 \nz\n\" style=\"fill: #ffffff\"/>\n   </g>\n   <g clip-path=\"url(#p82b75e4d9f)\">\n    <image xlink:href=\"data:image/png;base64,\niVBORw0KGgoAAAANSUhEUgAAAEQAAAApCAYAAACMeY82AAABFklEQVR4nO3XMWrCYBjG8XwxbmrpEHQTOniD3sGbuJXSpT1AD1AnT+AdCoI36AkcCjqrUIVSsEn3h+8RdYgp/H9jXl4S/nzwkXCYT8vEWD+/ulGSv8/ig59vuxNucjuri/TaH1A3BBEEEQQRBBEEEVl6P7TD5erFzvLdJvq8/D3YHa7df4gggiCCIIIggiAiPISO/dsd75d28dj1al/WyM7eqRonRBBEEEQQRBBEEESEYr+11+5ju28X374+44Oi8C/Lmqd/2ZVwQgRBBEEEQQRBRBglLXvLTHb+5y6k8ZblsVvG7NRJ/b+wYgQRBBEEEQQRBBHZ06B70WKx+IgP2rd2J/TuLnpXlTghgiCCIIIggiCCIOIP/4IrXPxx41oAAAAASUVORK5CYII=\" id=\"imagee94aec5067\" transform=\"scale(1 -1)translate(0 -41)\" x=\"278.79019\" y=\"-129.551844\" width=\"68\" height=\"41\"/>\n   </g>\n   <g id=\"matplotlib.axis_15\">\n    <g id=\"xtick_15\">\n     <g id=\"line2d_29\">\n      <g>\n       <use xlink:href=\"#mdd99566e61\" x=\"282.186712\" y=\"170.551844\" style=\"stroke: #000000; stroke-width: 0.8\"/>\n      </g>\n     </g>\n     <g id=\"text_23\">\n      <!-- 0 -->\n      <g transform=\"translate(279.005462 185.150281)scale(0.1 -0.1)\">\n       <use xlink:href=\"#DejaVuSans-30\"/>\n      </g>\n     </g>\n    </g>\n    <g id=\"xtick_16\">\n     <g id=\"line2d_30\">\n      <g>\n       <use xlink:href=\"#mdd99566e61\" x=\"316.151929\" y=\"170.551844\" style=\"stroke: #000000; stroke-width: 0.8\"/>\n      </g>\n     </g>\n     <g id=\"text_24\">\n      <!-- 5 -->\n      <g transform=\"translate(312.970679 185.150281)scale(0.1 -0.1)\">\n       <use xlink:href=\"#DejaVuSans-35\"/>\n      </g>\n     </g>\n    </g>\n    <g id=\"text_25\">\n     <!-- Key positions -->\n     <g transform=\"translate(279.692126 198.828406)scale(0.1 -0.1)\">\n      <use xlink:href=\"#DejaVuSans-4b\"/>\n      <use xlink:href=\"#DejaVuSans-65\" x=\"60.576172\"/>\n      <use xlink:href=\"#DejaVuSans-79\" x=\"122.099609\"/>\n      <use xlink:href=\"#DejaVuSans-20\" x=\"181.279297\"/>\n      <use xlink:href=\"#DejaVuSans-70\" x=\"213.066406\"/>\n      <use xlink:href=\"#DejaVuSans-6f\" x=\"276.542969\"/>\n      <use xlink:href=\"#DejaVuSans-73\" x=\"337.724609\"/>\n      <use xlink:href=\"#DejaVuSans-69\" x=\"389.824219\"/>\n      <use xlink:href=\"#DejaVuSans-74\" x=\"417.607422\"/>\n      <use xlink:href=\"#DejaVuSans-69\" x=\"456.816406\"/>\n      <use xlink:href=\"#DejaVuSans-6f\" x=\"484.599609\"/>\n      <use xlink:href=\"#DejaVuSans-6e\" x=\"545.78125\"/>\n      <use xlink:href=\"#DejaVuSans-73\" x=\"609.160156\"/>\n     </g>\n    </g>\n   </g>\n   <g id=\"matplotlib.axis_16\">\n    <g id=\"ytick_15\">\n     <g id=\"line2d_31\">\n      <g>\n       <use xlink:href=\"#me2f7133370\" x=\"278.79019\" y=\"133.190104\" style=\"stroke: #000000; stroke-width: 0.8\"/>\n      </g>\n     </g>\n    </g>\n    <g id=\"ytick_16\">\n     <g id=\"line2d_32\">\n      <g>\n       <use xlink:href=\"#me2f7133370\" x=\"278.79019\" y=\"167.155322\" style=\"stroke: #000000; stroke-width: 0.8\"/>\n      </g>\n     </g>\n    </g>\n   </g>\n   <g id=\"patch_38\">\n    <path d=\"M 278.79019 170.551844 \nL 278.79019 129.793583 \n\" style=\"fill: none; stroke: #000000; stroke-width: 0.8; stroke-linejoin: miter; stroke-linecap: square\"/>\n   </g>\n   <g id=\"patch_39\">\n    <path d=\"M 346.720625 170.551844 \nL 346.720625 129.793583 \n\" style=\"fill: none; stroke: #000000; stroke-width: 0.8; stroke-linejoin: miter; stroke-linecap: square\"/>\n   </g>\n   <g id=\"patch_40\">\n    <path d=\"M 278.79019 170.551844 \nL 346.720625 170.551844 \n\" style=\"fill: none; stroke: #000000; stroke-width: 0.8; stroke-linejoin: miter; stroke-linecap: square\"/>\n   </g>\n   <g id=\"patch_41\">\n    <path d=\"M 278.79019 129.793583 \nL 346.720625 129.793583 \n\" style=\"fill: none; stroke: #000000; stroke-width: 0.8; stroke-linejoin: miter; stroke-linecap: square\"/>\n   </g>\n   <g id=\"text_26\">\n    <!-- Head 4 -->\n    <g transform=\"translate(291.341033 123.793583)scale(0.12 -0.12)\">\n     <use xlink:href=\"#DejaVuSans-48\"/>\n     <use xlink:href=\"#DejaVuSans-65\" x=\"75.195312\"/>\n     <use xlink:href=\"#DejaVuSans-61\" x=\"136.71875\"/>\n     <use xlink:href=\"#DejaVuSans-64\" x=\"197.998047\"/>\n     <use xlink:href=\"#DejaVuSans-20\" x=\"261.474609\"/>\n     <use xlink:href=\"#DejaVuSans-34\" x=\"293.261719\"/>\n    </g>\n   </g>\n  </g>\n  <g id=\"axes_9\">\n   <g id=\"patch_42\">\n    <path d=\"M 366.250625 155.361622 \nL 371.958425 155.361622 \nL 371.958425 41.205622 \nL 366.250625 41.205622 \nz\n\" style=\"fill: #ffffff\"/>\n   </g>\n   <g id=\"patch_43\">\n    <path clip-path=\"url(#p128a2e066d)\" style=\"fill: #ffffff; stroke: #ffffff; stroke-width: 0.01; stroke-linejoin: miter\"/>\n   </g>\n   <image xlink:href=\"data:image/png;base64,\niVBORw0KGgoAAAANSUhEUgAAAAYAAAByCAYAAABwf6CfAAAAzUlEQVR4nLWVQQ7EMAgDqcT/v7qXPTUQ+gGmklHaY9Bgm6TJVf9fWfO51e7WzW0nFJhoJSYaxQQVBjl0u1gIKCSJoyscSaxTrdhV6jmAKN1VkLiegzVoiHorJA7mOLhRg1lhDvoNBjl0uyBeg/2QcyAha1SiuErUoivjnPhe5+xiISiHbjfhbk8k6PFKKrxoyK3kQsb3GkEam15OLPQba+aJRL9uvg3FgQi0S610cSQwYH8O3wjYDvPFhNoKiRv8etBIdI2FJ1FuhcQNxAMVLAxITCrWxAAAAABJRU5ErkJggg==\" id=\"image5c2350f4af\" transform=\"scale(1 -1)translate(0 -114)\" x=\"366\" y=\"-41\" width=\"6\" height=\"114\"/>\n   <g id=\"matplotlib.axis_17\">\n    <g id=\"ytick_17\">\n     <g id=\"line2d_33\">\n      <defs>\n       <path id=\"m5aab02daf0\" d=\"M 0 0 \nL 3.5 0 \n\" style=\"stroke: #000000; stroke-width: 0.8\"/>\n      </defs>\n      <g>\n       <use xlink:href=\"#m5aab02daf0\" x=\"371.958425\" y=\"155.361622\" style=\"stroke: #000000; stroke-width: 0.8\"/>\n      </g>\n     </g>\n     <g id=\"text_27\">\n      <!-- 0.0 -->\n      <g transform=\"translate(378.958425 159.160841)scale(0.1 -0.1)\">\n       <defs>\n        <path id=\"DejaVuSans-2e\" d=\"M 684 794 \nL 1344 794 \nL 1344 0 \nL 684 0 \nL 684 794 \nz\n\" transform=\"scale(0.015625)\"/>\n       </defs>\n       <use xlink:href=\"#DejaVuSans-30\"/>\n       <use xlink:href=\"#DejaVuSans-2e\" x=\"63.623047\"/>\n       <use xlink:href=\"#DejaVuSans-30\" x=\"95.410156\"/>\n      </g>\n     </g>\n    </g>\n    <g id=\"ytick_18\">\n     <g id=\"line2d_34\">\n      <g>\n       <use xlink:href=\"#m5aab02daf0\" x=\"371.958425\" y=\"132.074214\" style=\"stroke: #000000; stroke-width: 0.8\"/>\n      </g>\n     </g>\n     <g id=\"text_28\">\n      <!-- 0.2 -->\n      <g transform=\"translate(378.958425 135.873433)scale(0.1 -0.1)\">\n       <use xlink:href=\"#DejaVuSans-30\"/>\n       <use xlink:href=\"#DejaVuSans-2e\" x=\"63.623047\"/>\n       <use xlink:href=\"#DejaVuSans-32\" x=\"95.410156\"/>\n      </g>\n     </g>\n    </g>\n    <g id=\"ytick_19\">\n     <g id=\"line2d_35\">\n      <g>\n       <use xlink:href=\"#m5aab02daf0\" x=\"371.958425\" y=\"108.786807\" style=\"stroke: #000000; stroke-width: 0.8\"/>\n      </g>\n     </g>\n     <g id=\"text_29\">\n      <!-- 0.4 -->\n      <g transform=\"translate(378.958425 112.586025)scale(0.1 -0.1)\">\n       <use xlink:href=\"#DejaVuSans-30\"/>\n       <use xlink:href=\"#DejaVuSans-2e\" x=\"63.623047\"/>\n       <use xlink:href=\"#DejaVuSans-34\" x=\"95.410156\"/>\n      </g>\n     </g>\n    </g>\n    <g id=\"ytick_20\">\n     <g id=\"line2d_36\">\n      <g>\n       <use xlink:href=\"#m5aab02daf0\" x=\"371.958425\" y=\"85.499399\" style=\"stroke: #000000; stroke-width: 0.8\"/>\n      </g>\n     </g>\n     <g id=\"text_30\">\n      <!-- 0.6 -->\n      <g transform=\"translate(378.958425 89.298618)scale(0.1 -0.1)\">\n       <defs>\n        <path id=\"DejaVuSans-36\" d=\"M 2113 2584 \nQ 1688 2584 1439 2293 \nQ 1191 2003 1191 1497 \nQ 1191 994 1439 701 \nQ 1688 409 2113 409 \nQ 2538 409 2786 701 \nQ 3034 994 3034 1497 \nQ 3034 2003 2786 2293 \nQ 2538 2584 2113 2584 \nz\nM 3366 4563 \nL 3366 3988 \nQ 3128 4100 2886 4159 \nQ 2644 4219 2406 4219 \nQ 1781 4219 1451 3797 \nQ 1122 3375 1075 2522 \nQ 1259 2794 1537 2939 \nQ 1816 3084 2150 3084 \nQ 2853 3084 3261 2657 \nQ 3669 2231 3669 1497 \nQ 3669 778 3244 343 \nQ 2819 -91 2113 -91 \nQ 1303 -91 875 529 \nQ 447 1150 447 2328 \nQ 447 3434 972 4092 \nQ 1497 4750 2381 4750 \nQ 2619 4750 2861 4703 \nQ 3103 4656 3366 4563 \nz\n\" transform=\"scale(0.015625)\"/>\n       </defs>\n       <use xlink:href=\"#DejaVuSans-30\"/>\n       <use xlink:href=\"#DejaVuSans-2e\" x=\"63.623047\"/>\n       <use xlink:href=\"#DejaVuSans-36\" x=\"95.410156\"/>\n      </g>\n     </g>\n    </g>\n    <g id=\"ytick_21\">\n     <g id=\"line2d_37\">\n      <g>\n       <use xlink:href=\"#m5aab02daf0\" x=\"371.958425\" y=\"62.211991\" style=\"stroke: #000000; stroke-width: 0.8\"/>\n      </g>\n     </g>\n     <g id=\"text_31\">\n      <!-- 0.8 -->\n      <g transform=\"translate(378.958425 66.01121)scale(0.1 -0.1)\">\n       <defs>\n        <path id=\"DejaVuSans-38\" d=\"M 2034 2216 \nQ 1584 2216 1326 1975 \nQ 1069 1734 1069 1313 \nQ 1069 891 1326 650 \nQ 1584 409 2034 409 \nQ 2484 409 2743 651 \nQ 3003 894 3003 1313 \nQ 3003 1734 2745 1975 \nQ 2488 2216 2034 2216 \nz\nM 1403 2484 \nQ 997 2584 770 2862 \nQ 544 3141 544 3541 \nQ 544 4100 942 4425 \nQ 1341 4750 2034 4750 \nQ 2731 4750 3128 4425 \nQ 3525 4100 3525 3541 \nQ 3525 3141 3298 2862 \nQ 3072 2584 2669 2484 \nQ 3125 2378 3379 2068 \nQ 3634 1759 3634 1313 \nQ 3634 634 3220 271 \nQ 2806 -91 2034 -91 \nQ 1263 -91 848 271 \nQ 434 634 434 1313 \nQ 434 1759 690 2068 \nQ 947 2378 1403 2484 \nz\nM 1172 3481 \nQ 1172 3119 1398 2916 \nQ 1625 2713 2034 2713 \nQ 2441 2713 2670 2916 \nQ 2900 3119 2900 3481 \nQ 2900 3844 2670 4047 \nQ 2441 4250 2034 4250 \nQ 1625 4250 1398 4047 \nQ 1172 3844 1172 3481 \nz\n\" transform=\"scale(0.015625)\"/>\n       </defs>\n       <use xlink:href=\"#DejaVuSans-30\"/>\n       <use xlink:href=\"#DejaVuSans-2e\" x=\"63.623047\"/>\n       <use xlink:href=\"#DejaVuSans-38\" x=\"95.410156\"/>\n      </g>\n     </g>\n    </g>\n   </g>\n   <g id=\"LineCollection_1\"/>\n   <g id=\"patch_44\">\n    <path d=\"M 366.250625 155.361622 \nL 369.104525 155.361622 \nL 371.958425 155.361622 \nL 371.958425 41.205622 \nL 369.104525 41.205622 \nL 366.250625 41.205622 \nL 366.250625 155.361622 \nz\n\" style=\"fill: none; stroke: #000000; stroke-width: 0.8; stroke-linejoin: miter; stroke-linecap: square\"/>\n   </g>\n  </g>\n </g>\n <defs>\n  <clipPath id=\"p998be8e689\">\n   <rect x=\"34.240625\" y=\"26.015401\" width=\"67.930435\" height=\"40.758261\"/>\n  </clipPath>\n  <clipPath id=\"pc47843664f\">\n   <rect x=\"115.757147\" y=\"26.015401\" width=\"67.930435\" height=\"40.758261\"/>\n  </clipPath>\n  <clipPath id=\"pa47bda0e89\">\n   <rect x=\"197.273668\" y=\"26.015401\" width=\"67.930435\" height=\"40.758261\"/>\n  </clipPath>\n  <clipPath id=\"pc0fb3ce144\">\n   <rect x=\"278.79019\" y=\"26.015401\" width=\"67.930435\" height=\"40.758261\"/>\n  </clipPath>\n  <clipPath id=\"p1e5dc515da\">\n   <rect x=\"34.240625\" y=\"129.793583\" width=\"67.930435\" height=\"40.758261\"/>\n  </clipPath>\n  <clipPath id=\"p5505ca1174\">\n   <rect x=\"115.757147\" y=\"129.793583\" width=\"67.930435\" height=\"40.758261\"/>\n  </clipPath>\n  <clipPath id=\"p6e768b6d6d\">\n   <rect x=\"197.273668\" y=\"129.793583\" width=\"67.930435\" height=\"40.758261\"/>\n  </clipPath>\n  <clipPath id=\"p82b75e4d9f\">\n   <rect x=\"278.79019\" y=\"129.793583\" width=\"67.930435\" height=\"40.758261\"/>\n  </clipPath>\n  <clipPath id=\"p128a2e066d\">\n   <rect x=\"366.250625\" y=\"41.205622\" width=\"5.7078\" height=\"114.156\"/>\n  </clipPath>\n </defs>\n</svg>\n"
          },
          "metadata": {
            "needs_background": "light"
          }
        }
      ],
      "source": [
        "d2l.show_heatmaps(dec_inter_attention_weights, \n",
        "                  xlabel='Key positions',\n",
        "                  ylabel='Query positions', \n",
        "                  titles=['Head %d' % i for i in range(1, 5)],\n",
        "                  figsize=(7, 3.5))"
      ]
    },
    {
      "cell_type": "markdown",
      "metadata": {
        "origin_pos": 72,
        "id": "IDoAFXgeOvL0"
      },
      "source": [
        "Although the transformer architecture\n",
        "was originally proposed for sequence-to-sequence learning,\n",
        "as we will discover later in the book,\n",
        "either the transformer encoder\n",
        "or the transformer decoder\n",
        "is often individually used\n",
        "for different deep learning tasks."
      ]
    },
    {
      "cell_type": "markdown",
      "source": [
        "## Summary"
      ],
      "metadata": {
        "id": "3mutk7ievS-w"
      }
    },
    {
      "cell_type": "markdown",
      "source": [
        "* The transformer is an instance of the encoder-decoder architecture, though either the encoder or the decoder can be used individually in practice.\n",
        "* In the transformer, multi-head self-attention is used for representing the input sequence and the output sequence, though the decoder has to preserve the auto-regressive property via a masked version.\n",
        "* Both the residual connections and the layer normalization in the transformer are important for training a very deep model.\n",
        "* The positionwise feed-forward network in the transformer model transforms the representation at all the sequence positions using the same MLP.\n",
        "\n",
        "\n",
        "**Exercises**\n",
        "\n",
        "1. Train a deeper transformer in the experiments. How does it affect the training speed and the translation performance?\n",
        "1. Is it a good idea to replace scaled dot-product attention with additive attention in the transformer? Why?\n",
        "1. For language modeling, should we use the transformer encoder, decoder, or both? How to design this method?\n",
        "1. What can be challenges to transformers if input sequences are very long? Why?\n",
        "1. How to improve computational and memory efficiency of transformers? Hint: you may refer to the survey paper by Tay et al. :cite:`Tay.Dehghani.Bahri.ea.2020`.\n",
        "1. How can we design transformer-based models for image classification tasks without using CNNs? Hint: you may refer to the vision transformer :cite:`Dosovitskiy.Beyer.Kolesnikov.ea.2021`.\n"
      ],
      "metadata": {
        "id": "IAtYsY3hvTIF"
      }
    }
  ],
  "metadata": {
    "language_info": {
      "name": "python"
    },
    "colab": {
      "name": "07-transformer.ipynb",
      "provenance": [],
      "toc_visible": true,
      "include_colab_link": true
    },
    "kernelspec": {
      "name": "python3",
      "display_name": "Python 3"
    }
  },
  "nbformat": 4,
  "nbformat_minor": 0
}