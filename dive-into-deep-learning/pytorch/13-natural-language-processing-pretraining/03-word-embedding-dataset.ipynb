{
  "cells": [
    {
      "cell_type": "markdown",
      "metadata": {
        "id": "view-in-github",
        "colab_type": "text"
      },
      "source": [
        "<a href=\"https://colab.research.google.com/github/rahiakela/deep-learning-research-and-practice/blob/main/dive-into-deep-learning/pytorch/13-natural-language-processing-pretraining/03-word-embedding-dataset.ipynb\" target=\"_parent\"><img src=\"https://colab.research.google.com/assets/colab-badge.svg\" alt=\"Open In Colab\"/></a>"
      ]
    },
    {
      "cell_type": "markdown",
      "metadata": {
        "origin_pos": 0,
        "id": "EEMD9T5skocx"
      },
      "source": [
        "## The Dataset for Pretraining Word Embeddings\n",
        "\n"
      ]
    },
    {
      "cell_type": "markdown",
      "source": [
        "Now that we know the technical details of \n",
        "the word2vec models and approximate training methods,\n",
        "let us walk through their implementations. \n",
        "Specifically,\n",
        "we will take the skip-gram model\n",
        "and negative sampling\n",
        "as an example.\n",
        "\n",
        "In this section,\n",
        "we begin with the dataset\n",
        "for pretraining the word embedding model:\n",
        "the original format of the data\n",
        "will be transformed\n",
        "into minibatches\n",
        "that can be iterated over during training."
      ],
      "metadata": {
        "id": "RabEYalimy5L"
      }
    },
    {
      "cell_type": "code",
      "source": [
        "!wget https://github.com/rahiakela/deep-learning-research-and-practice/raw/main/dive-into-deep-learning/d2l.zip\n",
        "!unzip d2l.zip"
      ],
      "metadata": {
        "id": "1ViNGJ09meIk"
      },
      "execution_count": null,
      "outputs": []
    },
    {
      "cell_type": "code",
      "execution_count": 2,
      "metadata": {
        "origin_pos": 2,
        "tab": [
          "pytorch"
        ],
        "id": "UId27mrZkoc1"
      },
      "outputs": [],
      "source": [
        "import math\n",
        "import os\n",
        "import random\n",
        "import torch\n",
        "from d2l import torch as d2l"
      ]
    },
    {
      "cell_type": "markdown",
      "source": [
        "## Reading the Dataset"
      ],
      "metadata": {
        "id": "Lsb3aZibnEQ7"
      }
    },
    {
      "cell_type": "markdown",
      "metadata": {
        "origin_pos": 3,
        "id": "lghJUQw9koc3"
      },
      "source": [
        "The dataset that we use here\n",
        "is [Penn Tree Bank (PTB)]( https://catalog.ldc.upenn.edu/LDC99T42). \n",
        "This corpus is sampled\n",
        "from Wall Street Journal articles,\n",
        "split into training, validation, and test sets.\n",
        "In the original format,\n",
        "each line of the text file\n",
        "represents a sentence of words that are separated by spaces.\n",
        "Here we treat each word as a token.\n"
      ]
    },
    {
      "cell_type": "code",
      "execution_count": 3,
      "metadata": {
        "origin_pos": 4,
        "tab": [
          "pytorch"
        ],
        "id": "PTa_zD8Vkoc4",
        "outputId": "ea857888-2d98-40df-ac53-041f73344e1d",
        "colab": {
          "base_uri": "https://localhost:8080/",
          "height": 53
        }
      },
      "outputs": [
        {
          "output_type": "stream",
          "name": "stdout",
          "text": [
            "Downloading ../data/ptb.zip from http://d2l-data.s3-accelerate.amazonaws.com/ptb.zip...\n"
          ]
        },
        {
          "output_type": "execute_result",
          "data": {
            "application/vnd.google.colaboratory.intrinsic+json": {
              "type": "string"
            },
            "text/plain": [
              "'# sentences: 42069'"
            ]
          },
          "metadata": {},
          "execution_count": 3
        }
      ],
      "source": [
        "d2l.DATA_HUB['ptb'] = (d2l.DATA_URL + 'ptb.zip', '319d85e578af0cdc590547f26231e4e31cdf1e42')\n",
        "\n",
        "def read_ptb():\n",
        "    \"\"\"Load the PTB dataset into a list of text lines.\"\"\"\n",
        "    data_dir = d2l.download_extract('ptb')\n",
        "    # Read the training set.\n",
        "    with open(os.path.join(data_dir, 'ptb.train.txt')) as f:\n",
        "        raw_text = f.read()\n",
        "    return [line.split() for line in raw_text.split('\\n')]\n",
        "\n",
        "sentences = read_ptb()\n",
        "f'# sentences: {len(sentences)}'"
      ]
    },
    {
      "cell_type": "markdown",
      "metadata": {
        "origin_pos": 5,
        "id": "r3hMpPRQkoc6"
      },
      "source": [
        "After reading the training set,\n",
        "we build a vocabulary for the corpus,\n",
        "where any word that appears \n",
        "less than 10 times is replaced by \n",
        "the \"&lt;unk&gt;\" token.\n",
        "Note that the original dataset\n",
        "also contains \"&lt;unk&gt;\" tokens that represent rare (unknown) words.\n"
      ]
    },
    {
      "cell_type": "code",
      "execution_count": 4,
      "metadata": {
        "origin_pos": 6,
        "tab": [
          "pytorch"
        ],
        "id": "ecH_6rLFkoc7",
        "outputId": "cd0235ce-ef49-4823-a6a6-69c940f57c26",
        "colab": {
          "base_uri": "https://localhost:8080/",
          "height": 35
        }
      },
      "outputs": [
        {
          "output_type": "execute_result",
          "data": {
            "application/vnd.google.colaboratory.intrinsic+json": {
              "type": "string"
            },
            "text/plain": [
              "'vocab size: 6719'"
            ]
          },
          "metadata": {},
          "execution_count": 4
        }
      ],
      "source": [
        "vocab = d2l.Vocab(sentences, min_freq=10)\n",
        "f'vocab size: {len(vocab)}'"
      ]
    },
    {
      "cell_type": "markdown",
      "source": [
        "## Subsampling"
      ],
      "metadata": {
        "id": "tZ0e7ExnnNEg"
      }
    },
    {
      "cell_type": "markdown",
      "metadata": {
        "origin_pos": 7,
        "id": "6s9HaWPtkoc8"
      },
      "source": [
        "Text data\n",
        "typically have high-frequency words\n",
        "such as \"the\", \"a\", and \"in\":\n",
        "they may even occur billions of times in\n",
        "very large corpora.\n",
        "However,\n",
        "these words often co-occur\n",
        "with many different words in\n",
        "context windows, providing little useful signals.\n",
        "For instance,\n",
        "consider the word \"chip\" in a context window:\n",
        "intuitively\n",
        "its co-occurrence with a low-frequency word \"intel\"\n",
        "is more useful in training\n",
        "than \n",
        "the co-occurrence with a high-frequency word \"a\".\n",
        "Moreover, training with vast amounts of (high-frequency) words\n",
        "is slow.\n",
        "Thus, when training word embedding models, \n",
        "high-frequency words can be *subsampled* :cite:`Mikolov.Sutskever.Chen.ea.2013`.\n",
        "Specifically, \n",
        "each indexed word $w_i$ \n",
        "in the dataset will be discarded with probability\n",
        "\n",
        "\n",
        "$$ P(w_i) = \\max\\left(1 - \\sqrt{\\frac{t}{f(w_i)}}, 0\\right),$$\n",
        "\n",
        "where $f(w_i)$ is the ratio of \n",
        "the number of words $w_i$\n",
        "to the total number of words in the dataset, \n",
        "and the constant $t$ is a hyperparameter\n",
        "($10^{-4}$ in the experiment). \n",
        "We can see that only when\n",
        "the relative frequency\n",
        "$f(w_i) > t$  can the (high-frequency) word $w_i$ be discarded, \n",
        "and the higher the relative frequency of the word, \n",
        "the greater the probability of being discarded.\n"
      ]
    },
    {
      "cell_type": "code",
      "execution_count": 5,
      "metadata": {
        "origin_pos": 8,
        "tab": [
          "pytorch"
        ],
        "id": "7GKXgvifkoc9"
      },
      "outputs": [],
      "source": [
        "def subsample(sentences, vocab):\n",
        "    \"\"\"Subsample high-frequency words.\"\"\"\n",
        "    # Exclude unknown tokens '<unk>'\n",
        "    sentences = [[token for token in line if vocab[token] != vocab.unk] for line in sentences]\n",
        "    counter = d2l.count_corpus(sentences)\n",
        "    num_tokens = sum(counter.values())\n",
        "\n",
        "    # Return True if `token` is kept during subsampling\n",
        "    def keep(token):\n",
        "        return(random.uniform(0, 1) < math.sqrt(1e-4 / counter[token] * num_tokens))\n",
        "\n",
        "    return ([[token for token in line if keep(token)] for line in sentences], counter)\n",
        "\n",
        "subsampled, counter = subsample(sentences, vocab)"
      ]
    },
    {
      "cell_type": "markdown",
      "metadata": {
        "origin_pos": 9,
        "id": "vz96tVu4koc-"
      },
      "source": [
        "The following code snippet \n",
        "plots the histogram of\n",
        "the number of tokens per sentence\n",
        "before and after subsampling.\n",
        "As expected, \n",
        "subsampling significantly shortens sentences\n",
        "by dropping high-frequency words,\n",
        "which will lead to training speedup.\n"
      ]
    },
    {
      "cell_type": "code",
      "execution_count": 6,
      "metadata": {
        "origin_pos": 10,
        "tab": [
          "pytorch"
        ],
        "id": "N2ATZHdzkodA",
        "outputId": "56c3d7ff-0de0-487f-f37b-e19d4a35f2d6",
        "colab": {
          "base_uri": "https://localhost:8080/",
          "height": 265
        }
      },
      "outputs": [
        {
          "output_type": "display_data",
          "data": {
            "text/plain": [
              "<Figure size 252x180 with 1 Axes>"
            ],
            "image/svg+xml": "<?xml version=\"1.0\" encoding=\"utf-8\" standalone=\"no\"?>\n<!DOCTYPE svg PUBLIC \"-//W3C//DTD SVG 1.1//EN\"\n  \"http://www.w3.org/Graphics/SVG/1.1/DTD/svg11.dtd\">\n<!-- Created with matplotlib (https://matplotlib.org/) -->\n<svg height=\"182.823044pt\" version=\"1.1\" viewBox=\"0 0 262.190625 182.823044\" width=\"262.190625pt\" xmlns=\"http://www.w3.org/2000/svg\" xmlns:xlink=\"http://www.w3.org/1999/xlink\">\n <defs>\n  <style type=\"text/css\">\n*{stroke-linecap:butt;stroke-linejoin:round;}\n  </style>\n </defs>\n <g id=\"figure_1\">\n  <g id=\"patch_1\">\n   <path d=\"M 0 182.823044 \nL 262.190625 182.823044 \nL 262.190625 0 \nL 0 0 \nz\n\" style=\"fill:none;\"/>\n  </g>\n  <g id=\"axes_1\">\n   <g id=\"patch_2\">\n    <path d=\"M 59.690625 145.266794 \nL 254.990625 145.266794 \nL 254.990625 9.366794 \nL 59.690625 9.366794 \nz\n\" style=\"fill:#ffffff;\"/>\n   </g>\n   <g id=\"patch_3\">\n    <path clip-path=\"url(#pcb3f0192b7)\" d=\"M 68.567898 145.266794 \nL 75.814651 145.266794 \nL 75.814651 123.971956 \nL 68.567898 123.971956 \nz\n\" style=\"fill:#1f77b4;\"/>\n   </g>\n   <g id=\"patch_4\">\n    <path clip-path=\"url(#pcb3f0192b7)\" d=\"M 86.684781 145.266794 \nL 93.931534 145.266794 \nL 93.931534 86.226656 \nL 86.684781 86.226656 \nz\n\" style=\"fill:#1f77b4;\"/>\n   </g>\n   <g id=\"patch_5\">\n    <path clip-path=\"url(#pcb3f0192b7)\" d=\"M 104.801664 145.266794 \nL 112.048417 145.266794 \nL 112.048417 77.058866 \nL 104.801664 77.058866 \nz\n\" style=\"fill:#1f77b4;\"/>\n   </g>\n   <g id=\"patch_6\">\n    <path clip-path=\"url(#pcb3f0192b7)\" d=\"M 122.918547 145.266794 \nL 130.1653 145.266794 \nL 130.1653 96.984174 \nL 122.918547 96.984174 \nz\n\" style=\"fill:#1f77b4;\"/>\n   </g>\n   <g id=\"patch_7\">\n    <path clip-path=\"url(#pcb3f0192b7)\" d=\"M 141.03543 145.266794 \nL 148.282183 145.266794 \nL 148.282183 125.137399 \nL 141.03543 125.137399 \nz\n\" style=\"fill:#1f77b4;\"/>\n   </g>\n   <g id=\"patch_8\">\n    <path clip-path=\"url(#pcb3f0192b7)\" d=\"M 159.152313 145.266794 \nL 166.399067 145.266794 \nL 166.399067 138.429889 \nL 159.152313 138.429889 \nz\n\" style=\"fill:#1f77b4;\"/>\n   </g>\n   <g id=\"patch_9\">\n    <path clip-path=\"url(#pcb3f0192b7)\" d=\"M 177.269196 145.266794 \nL 184.51595 145.266794 \nL 184.51595 143.720031 \nL 177.269196 143.720031 \nz\n\" style=\"fill:#1f77b4;\"/>\n   </g>\n   <g id=\"patch_10\">\n    <path clip-path=\"url(#pcb3f0192b7)\" d=\"M 195.38608 145.266794 \nL 202.632833 145.266794 \nL 202.632833 144.874732 \nL 195.38608 144.874732 \nz\n\" style=\"fill:#1f77b4;\"/>\n   </g>\n   <g id=\"patch_11\">\n    <path clip-path=\"url(#pcb3f0192b7)\" d=\"M 213.502963 145.266794 \nL 220.749716 145.266794 \nL 220.749716 145.132526 \nL 213.502963 145.132526 \nz\n\" style=\"fill:#1f77b4;\"/>\n   </g>\n   <g id=\"patch_12\">\n    <path clip-path=\"url(#pcb3f0192b7)\" d=\"M 231.619846 145.266794 \nL 238.866599 145.266794 \nL 238.866599 145.191604 \nL 231.619846 145.191604 \nz\n\" style=\"fill:#1f77b4;\"/>\n   </g>\n   <g id=\"patch_13\">\n    <path clip-path=\"url(#pcb3f0192b7)\" d=\"M 75.814651 145.266794 \nL 83.061404 145.266794 \nL 83.061404 15.838222 \nL 75.814651 15.838222 \nz\n\" style=\"fill:url(#ha9d194cd79);\"/>\n   </g>\n   <g id=\"patch_14\">\n    <path clip-path=\"url(#pcb3f0192b7)\" d=\"M 93.931534 145.266794 \nL 101.178287 145.266794 \nL 101.178287 59.281839 \nL 93.931534 59.281839 \nz\n\" style=\"fill:url(#ha9d194cd79);\"/>\n   </g>\n   <g id=\"patch_15\">\n    <path clip-path=\"url(#pcb3f0192b7)\" d=\"M 112.048417 145.266794 \nL 119.29517 145.266794 \nL 119.29517 135.347105 \nL 112.048417 135.347105 \nz\n\" style=\"fill:url(#ha9d194cd79);\"/>\n   </g>\n   <g id=\"patch_16\">\n    <path clip-path=\"url(#pcb3f0192b7)\" d=\"M 130.1653 145.266794 \nL 137.412054 145.266794 \nL 137.412054 144.70824 \nL 130.1653 144.70824 \nz\n\" style=\"fill:url(#ha9d194cd79);\"/>\n   </g>\n   <g id=\"patch_17\">\n    <path clip-path=\"url(#pcb3f0192b7)\" d=\"M 148.282183 145.266794 \nL 155.528937 145.266794 \nL 155.528937 145.218457 \nL 148.282183 145.218457 \nz\n\" style=\"fill:url(#ha9d194cd79);\"/>\n   </g>\n   <g id=\"patch_18\">\n    <path clip-path=\"url(#pcb3f0192b7)\" d=\"M 166.399067 145.266794 \nL 173.64582 145.266794 \nL 173.64582 145.266794 \nL 166.399067 145.266794 \nz\n\" style=\"fill:url(#ha9d194cd79);\"/>\n   </g>\n   <g id=\"patch_19\">\n    <path clip-path=\"url(#pcb3f0192b7)\" d=\"M 184.51595 145.266794 \nL 191.762703 145.266794 \nL 191.762703 145.266794 \nL 184.51595 145.266794 \nz\n\" style=\"fill:url(#ha9d194cd79);\"/>\n   </g>\n   <g id=\"patch_20\">\n    <path clip-path=\"url(#pcb3f0192b7)\" d=\"M 202.632833 145.266794 \nL 209.879586 145.266794 \nL 209.879586 145.266794 \nL 202.632833 145.266794 \nz\n\" style=\"fill:url(#ha9d194cd79);\"/>\n   </g>\n   <g id=\"patch_21\">\n    <path clip-path=\"url(#pcb3f0192b7)\" d=\"M 220.749716 145.266794 \nL 227.996469 145.266794 \nL 227.996469 145.266794 \nL 220.749716 145.266794 \nz\n\" style=\"fill:url(#ha9d194cd79);\"/>\n   </g>\n   <g id=\"patch_22\">\n    <path clip-path=\"url(#pcb3f0192b7)\" d=\"M 238.866599 145.266794 \nL 246.113352 145.266794 \nL 246.113352 145.266794 \nL 238.866599 145.266794 \nz\n\" style=\"fill:url(#ha9d194cd79);\"/>\n   </g>\n   <g id=\"matplotlib.axis_1\">\n    <g id=\"xtick_1\">\n     <g id=\"line2d_1\">\n      <defs>\n       <path d=\"M 0 0 \nL 0 3.5 \n\" id=\"mf892d1d396\" style=\"stroke:#000000;stroke-width:0.8;\"/>\n      </defs>\n      <g>\n       <use style=\"stroke:#000000;stroke-width:0.8;\" x=\"66.756209\" xlink:href=\"#mf892d1d396\" y=\"145.266794\"/>\n      </g>\n     </g>\n     <g id=\"text_1\">\n      <!-- 0 -->\n      <defs>\n       <path d=\"M 31.78125 66.40625 \nQ 24.171875 66.40625 20.328125 58.90625 \nQ 16.5 51.421875 16.5 36.375 \nQ 16.5 21.390625 20.328125 13.890625 \nQ 24.171875 6.390625 31.78125 6.390625 \nQ 39.453125 6.390625 43.28125 13.890625 \nQ 47.125 21.390625 47.125 36.375 \nQ 47.125 51.421875 43.28125 58.90625 \nQ 39.453125 66.40625 31.78125 66.40625 \nz\nM 31.78125 74.21875 \nQ 44.046875 74.21875 50.515625 64.515625 \nQ 56.984375 54.828125 56.984375 36.375 \nQ 56.984375 17.96875 50.515625 8.265625 \nQ 44.046875 -1.421875 31.78125 -1.421875 \nQ 19.53125 -1.421875 13.0625 8.265625 \nQ 6.59375 17.96875 6.59375 36.375 \nQ 6.59375 54.828125 13.0625 64.515625 \nQ 19.53125 74.21875 31.78125 74.21875 \nz\n\" id=\"DejaVuSans-48\"/>\n      </defs>\n      <g transform=\"translate(63.574959 159.865231)scale(0.1 -0.1)\">\n       <use xlink:href=\"#DejaVuSans-48\"/>\n      </g>\n     </g>\n    </g>\n    <g id=\"xtick_2\">\n     <g id=\"line2d_2\">\n      <g>\n       <use style=\"stroke:#000000;stroke-width:0.8;\" x=\"110.943729\" xlink:href=\"#mf892d1d396\" y=\"145.266794\"/>\n      </g>\n     </g>\n     <g id=\"text_2\">\n      <!-- 20 -->\n      <defs>\n       <path d=\"M 19.1875 8.296875 \nL 53.609375 8.296875 \nL 53.609375 0 \nL 7.328125 0 \nL 7.328125 8.296875 \nQ 12.9375 14.109375 22.625 23.890625 \nQ 32.328125 33.6875 34.8125 36.53125 \nQ 39.546875 41.84375 41.421875 45.53125 \nQ 43.3125 49.21875 43.3125 52.78125 \nQ 43.3125 58.59375 39.234375 62.25 \nQ 35.15625 65.921875 28.609375 65.921875 \nQ 23.96875 65.921875 18.8125 64.3125 \nQ 13.671875 62.703125 7.8125 59.421875 \nL 7.8125 69.390625 \nQ 13.765625 71.78125 18.9375 73 \nQ 24.125 74.21875 28.421875 74.21875 \nQ 39.75 74.21875 46.484375 68.546875 \nQ 53.21875 62.890625 53.21875 53.421875 \nQ 53.21875 48.921875 51.53125 44.890625 \nQ 49.859375 40.875 45.40625 35.40625 \nQ 44.1875 33.984375 37.640625 27.21875 \nQ 31.109375 20.453125 19.1875 8.296875 \nz\n\" id=\"DejaVuSans-50\"/>\n      </defs>\n      <g transform=\"translate(104.581229 159.865231)scale(0.1 -0.1)\">\n       <use xlink:href=\"#DejaVuSans-50\"/>\n       <use x=\"63.623047\" xlink:href=\"#DejaVuSans-48\"/>\n      </g>\n     </g>\n    </g>\n    <g id=\"xtick_3\">\n     <g id=\"line2d_3\">\n      <g>\n       <use style=\"stroke:#000000;stroke-width:0.8;\" x=\"155.131249\" xlink:href=\"#mf892d1d396\" y=\"145.266794\"/>\n      </g>\n     </g>\n     <g id=\"text_3\">\n      <!-- 40 -->\n      <defs>\n       <path d=\"M 37.796875 64.3125 \nL 12.890625 25.390625 \nL 37.796875 25.390625 \nz\nM 35.203125 72.90625 \nL 47.609375 72.90625 \nL 47.609375 25.390625 \nL 58.015625 25.390625 \nL 58.015625 17.1875 \nL 47.609375 17.1875 \nL 47.609375 0 \nL 37.796875 0 \nL 37.796875 17.1875 \nL 4.890625 17.1875 \nL 4.890625 26.703125 \nz\n\" id=\"DejaVuSans-52\"/>\n      </defs>\n      <g transform=\"translate(148.768749 159.865231)scale(0.1 -0.1)\">\n       <use xlink:href=\"#DejaVuSans-52\"/>\n       <use x=\"63.623047\" xlink:href=\"#DejaVuSans-48\"/>\n      </g>\n     </g>\n    </g>\n    <g id=\"xtick_4\">\n     <g id=\"line2d_4\">\n      <g>\n       <use style=\"stroke:#000000;stroke-width:0.8;\" x=\"199.318769\" xlink:href=\"#mf892d1d396\" y=\"145.266794\"/>\n      </g>\n     </g>\n     <g id=\"text_4\">\n      <!-- 60 -->\n      <defs>\n       <path d=\"M 33.015625 40.375 \nQ 26.375 40.375 22.484375 35.828125 \nQ 18.609375 31.296875 18.609375 23.390625 \nQ 18.609375 15.53125 22.484375 10.953125 \nQ 26.375 6.390625 33.015625 6.390625 \nQ 39.65625 6.390625 43.53125 10.953125 \nQ 47.40625 15.53125 47.40625 23.390625 \nQ 47.40625 31.296875 43.53125 35.828125 \nQ 39.65625 40.375 33.015625 40.375 \nz\nM 52.59375 71.296875 \nL 52.59375 62.3125 \nQ 48.875 64.0625 45.09375 64.984375 \nQ 41.3125 65.921875 37.59375 65.921875 \nQ 27.828125 65.921875 22.671875 59.328125 \nQ 17.53125 52.734375 16.796875 39.40625 \nQ 19.671875 43.65625 24.015625 45.921875 \nQ 28.375 48.1875 33.59375 48.1875 \nQ 44.578125 48.1875 50.953125 41.515625 \nQ 57.328125 34.859375 57.328125 23.390625 \nQ 57.328125 12.15625 50.6875 5.359375 \nQ 44.046875 -1.421875 33.015625 -1.421875 \nQ 20.359375 -1.421875 13.671875 8.265625 \nQ 6.984375 17.96875 6.984375 36.375 \nQ 6.984375 53.65625 15.1875 63.9375 \nQ 23.390625 74.21875 37.203125 74.21875 \nQ 40.921875 74.21875 44.703125 73.484375 \nQ 48.484375 72.75 52.59375 71.296875 \nz\n\" id=\"DejaVuSans-54\"/>\n      </defs>\n      <g transform=\"translate(192.956269 159.865231)scale(0.1 -0.1)\">\n       <use xlink:href=\"#DejaVuSans-54\"/>\n       <use x=\"63.623047\" xlink:href=\"#DejaVuSans-48\"/>\n      </g>\n     </g>\n    </g>\n    <g id=\"xtick_5\">\n     <g id=\"line2d_5\">\n      <g>\n       <use style=\"stroke:#000000;stroke-width:0.8;\" x=\"243.506289\" xlink:href=\"#mf892d1d396\" y=\"145.266794\"/>\n      </g>\n     </g>\n     <g id=\"text_5\">\n      <!-- 80 -->\n      <defs>\n       <path d=\"M 31.78125 34.625 \nQ 24.75 34.625 20.71875 30.859375 \nQ 16.703125 27.09375 16.703125 20.515625 \nQ 16.703125 13.921875 20.71875 10.15625 \nQ 24.75 6.390625 31.78125 6.390625 \nQ 38.8125 6.390625 42.859375 10.171875 \nQ 46.921875 13.96875 46.921875 20.515625 \nQ 46.921875 27.09375 42.890625 30.859375 \nQ 38.875 34.625 31.78125 34.625 \nz\nM 21.921875 38.8125 \nQ 15.578125 40.375 12.03125 44.71875 \nQ 8.5 49.078125 8.5 55.328125 \nQ 8.5 64.0625 14.71875 69.140625 \nQ 20.953125 74.21875 31.78125 74.21875 \nQ 42.671875 74.21875 48.875 69.140625 \nQ 55.078125 64.0625 55.078125 55.328125 \nQ 55.078125 49.078125 51.53125 44.71875 \nQ 48 40.375 41.703125 38.8125 \nQ 48.828125 37.15625 52.796875 32.3125 \nQ 56.78125 27.484375 56.78125 20.515625 \nQ 56.78125 9.90625 50.3125 4.234375 \nQ 43.84375 -1.421875 31.78125 -1.421875 \nQ 19.734375 -1.421875 13.25 4.234375 \nQ 6.78125 9.90625 6.78125 20.515625 \nQ 6.78125 27.484375 10.78125 32.3125 \nQ 14.796875 37.15625 21.921875 38.8125 \nz\nM 18.3125 54.390625 \nQ 18.3125 48.734375 21.84375 45.5625 \nQ 25.390625 42.390625 31.78125 42.390625 \nQ 38.140625 42.390625 41.71875 45.5625 \nQ 45.3125 48.734375 45.3125 54.390625 \nQ 45.3125 60.0625 41.71875 63.234375 \nQ 38.140625 66.40625 31.78125 66.40625 \nQ 25.390625 66.40625 21.84375 63.234375 \nQ 18.3125 60.0625 18.3125 54.390625 \nz\n\" id=\"DejaVuSans-56\"/>\n      </defs>\n      <g transform=\"translate(237.143789 159.865231)scale(0.1 -0.1)\">\n       <use xlink:href=\"#DejaVuSans-56\"/>\n       <use x=\"63.623047\" xlink:href=\"#DejaVuSans-48\"/>\n      </g>\n     </g>\n    </g>\n    <g id=\"text_6\">\n     <!-- # tokens per sentence -->\n     <defs>\n      <path d=\"M 51.125 44 \nL 36.921875 44 \nL 32.8125 27.6875 \nL 47.125 27.6875 \nz\nM 43.796875 71.78125 \nL 38.71875 51.515625 \nL 52.984375 51.515625 \nL 58.109375 71.78125 \nL 65.921875 71.78125 \nL 60.890625 51.515625 \nL 76.125 51.515625 \nL 76.125 44 \nL 58.984375 44 \nL 54.984375 27.6875 \nL 70.515625 27.6875 \nL 70.515625 20.21875 \nL 53.078125 20.21875 \nL 48 0 \nL 40.1875 0 \nL 45.21875 20.21875 \nL 30.90625 20.21875 \nL 25.875 0 \nL 18.015625 0 \nL 23.09375 20.21875 \nL 7.71875 20.21875 \nL 7.71875 27.6875 \nL 24.90625 27.6875 \nL 29 44 \nL 13.28125 44 \nL 13.28125 51.515625 \nL 30.90625 51.515625 \nL 35.890625 71.78125 \nz\n\" id=\"DejaVuSans-35\"/>\n      <path id=\"DejaVuSans-32\"/>\n      <path d=\"M 18.3125 70.21875 \nL 18.3125 54.6875 \nL 36.8125 54.6875 \nL 36.8125 47.703125 \nL 18.3125 47.703125 \nL 18.3125 18.015625 \nQ 18.3125 11.328125 20.140625 9.421875 \nQ 21.96875 7.515625 27.59375 7.515625 \nL 36.8125 7.515625 \nL 36.8125 0 \nL 27.59375 0 \nQ 17.1875 0 13.234375 3.875 \nQ 9.28125 7.765625 9.28125 18.015625 \nL 9.28125 47.703125 \nL 2.6875 47.703125 \nL 2.6875 54.6875 \nL 9.28125 54.6875 \nL 9.28125 70.21875 \nz\n\" id=\"DejaVuSans-116\"/>\n      <path d=\"M 30.609375 48.390625 \nQ 23.390625 48.390625 19.1875 42.75 \nQ 14.984375 37.109375 14.984375 27.296875 \nQ 14.984375 17.484375 19.15625 11.84375 \nQ 23.34375 6.203125 30.609375 6.203125 \nQ 37.796875 6.203125 41.984375 11.859375 \nQ 46.1875 17.53125 46.1875 27.296875 \nQ 46.1875 37.015625 41.984375 42.703125 \nQ 37.796875 48.390625 30.609375 48.390625 \nz\nM 30.609375 56 \nQ 42.328125 56 49.015625 48.375 \nQ 55.71875 40.765625 55.71875 27.296875 \nQ 55.71875 13.875 49.015625 6.21875 \nQ 42.328125 -1.421875 30.609375 -1.421875 \nQ 18.84375 -1.421875 12.171875 6.21875 \nQ 5.515625 13.875 5.515625 27.296875 \nQ 5.515625 40.765625 12.171875 48.375 \nQ 18.84375 56 30.609375 56 \nz\n\" id=\"DejaVuSans-111\"/>\n      <path d=\"M 9.078125 75.984375 \nL 18.109375 75.984375 \nL 18.109375 31.109375 \nL 44.921875 54.6875 \nL 56.390625 54.6875 \nL 27.390625 29.109375 \nL 57.625 0 \nL 45.90625 0 \nL 18.109375 26.703125 \nL 18.109375 0 \nL 9.078125 0 \nz\n\" id=\"DejaVuSans-107\"/>\n      <path d=\"M 56.203125 29.59375 \nL 56.203125 25.203125 \nL 14.890625 25.203125 \nQ 15.484375 15.921875 20.484375 11.0625 \nQ 25.484375 6.203125 34.421875 6.203125 \nQ 39.59375 6.203125 44.453125 7.46875 \nQ 49.3125 8.734375 54.109375 11.28125 \nL 54.109375 2.78125 \nQ 49.265625 0.734375 44.1875 -0.34375 \nQ 39.109375 -1.421875 33.890625 -1.421875 \nQ 20.796875 -1.421875 13.15625 6.1875 \nQ 5.515625 13.8125 5.515625 26.8125 \nQ 5.515625 40.234375 12.765625 48.109375 \nQ 20.015625 56 32.328125 56 \nQ 43.359375 56 49.78125 48.890625 \nQ 56.203125 41.796875 56.203125 29.59375 \nz\nM 47.21875 32.234375 \nQ 47.125 39.59375 43.09375 43.984375 \nQ 39.0625 48.390625 32.421875 48.390625 \nQ 24.90625 48.390625 20.390625 44.140625 \nQ 15.875 39.890625 15.1875 32.171875 \nz\n\" id=\"DejaVuSans-101\"/>\n      <path d=\"M 54.890625 33.015625 \nL 54.890625 0 \nL 45.90625 0 \nL 45.90625 32.71875 \nQ 45.90625 40.484375 42.875 44.328125 \nQ 39.84375 48.1875 33.796875 48.1875 \nQ 26.515625 48.1875 22.3125 43.546875 \nQ 18.109375 38.921875 18.109375 30.90625 \nL 18.109375 0 \nL 9.078125 0 \nL 9.078125 54.6875 \nL 18.109375 54.6875 \nL 18.109375 46.1875 \nQ 21.34375 51.125 25.703125 53.5625 \nQ 30.078125 56 35.796875 56 \nQ 45.21875 56 50.046875 50.171875 \nQ 54.890625 44.34375 54.890625 33.015625 \nz\n\" id=\"DejaVuSans-110\"/>\n      <path d=\"M 44.28125 53.078125 \nL 44.28125 44.578125 \nQ 40.484375 46.53125 36.375 47.5 \nQ 32.28125 48.484375 27.875 48.484375 \nQ 21.1875 48.484375 17.84375 46.4375 \nQ 14.5 44.390625 14.5 40.28125 \nQ 14.5 37.15625 16.890625 35.375 \nQ 19.28125 33.59375 26.515625 31.984375 \nL 29.59375 31.296875 \nQ 39.15625 29.25 43.1875 25.515625 \nQ 47.21875 21.78125 47.21875 15.09375 \nQ 47.21875 7.46875 41.1875 3.015625 \nQ 35.15625 -1.421875 24.609375 -1.421875 \nQ 20.21875 -1.421875 15.453125 -0.5625 \nQ 10.6875 0.296875 5.421875 2 \nL 5.421875 11.28125 \nQ 10.40625 8.6875 15.234375 7.390625 \nQ 20.0625 6.109375 24.8125 6.109375 \nQ 31.15625 6.109375 34.5625 8.28125 \nQ 37.984375 10.453125 37.984375 14.40625 \nQ 37.984375 18.0625 35.515625 20.015625 \nQ 33.0625 21.96875 24.703125 23.78125 \nL 21.578125 24.515625 \nQ 13.234375 26.265625 9.515625 29.90625 \nQ 5.8125 33.546875 5.8125 39.890625 \nQ 5.8125 47.609375 11.28125 51.796875 \nQ 16.75 56 26.8125 56 \nQ 31.78125 56 36.171875 55.265625 \nQ 40.578125 54.546875 44.28125 53.078125 \nz\n\" id=\"DejaVuSans-115\"/>\n      <path d=\"M 18.109375 8.203125 \nL 18.109375 -20.796875 \nL 9.078125 -20.796875 \nL 9.078125 54.6875 \nL 18.109375 54.6875 \nL 18.109375 46.390625 \nQ 20.953125 51.265625 25.265625 53.625 \nQ 29.59375 56 35.59375 56 \nQ 45.5625 56 51.78125 48.09375 \nQ 58.015625 40.1875 58.015625 27.296875 \nQ 58.015625 14.40625 51.78125 6.484375 \nQ 45.5625 -1.421875 35.59375 -1.421875 \nQ 29.59375 -1.421875 25.265625 0.953125 \nQ 20.953125 3.328125 18.109375 8.203125 \nz\nM 48.6875 27.296875 \nQ 48.6875 37.203125 44.609375 42.84375 \nQ 40.53125 48.484375 33.40625 48.484375 \nQ 26.265625 48.484375 22.1875 42.84375 \nQ 18.109375 37.203125 18.109375 27.296875 \nQ 18.109375 17.390625 22.1875 11.75 \nQ 26.265625 6.109375 33.40625 6.109375 \nQ 40.53125 6.109375 44.609375 11.75 \nQ 48.6875 17.390625 48.6875 27.296875 \nz\n\" id=\"DejaVuSans-112\"/>\n      <path d=\"M 41.109375 46.296875 \nQ 39.59375 47.171875 37.8125 47.578125 \nQ 36.03125 48 33.890625 48 \nQ 26.265625 48 22.1875 43.046875 \nQ 18.109375 38.09375 18.109375 28.8125 \nL 18.109375 0 \nL 9.078125 0 \nL 9.078125 54.6875 \nL 18.109375 54.6875 \nL 18.109375 46.1875 \nQ 20.953125 51.171875 25.484375 53.578125 \nQ 30.03125 56 36.53125 56 \nQ 37.453125 56 38.578125 55.875 \nQ 39.703125 55.765625 41.0625 55.515625 \nz\n\" id=\"DejaVuSans-114\"/>\n      <path d=\"M 48.78125 52.59375 \nL 48.78125 44.1875 \nQ 44.96875 46.296875 41.140625 47.34375 \nQ 37.3125 48.390625 33.40625 48.390625 \nQ 24.65625 48.390625 19.8125 42.84375 \nQ 14.984375 37.3125 14.984375 27.296875 \nQ 14.984375 17.28125 19.8125 11.734375 \nQ 24.65625 6.203125 33.40625 6.203125 \nQ 37.3125 6.203125 41.140625 7.25 \nQ 44.96875 8.296875 48.78125 10.40625 \nL 48.78125 2.09375 \nQ 45.015625 0.34375 40.984375 -0.53125 \nQ 36.96875 -1.421875 32.421875 -1.421875 \nQ 20.0625 -1.421875 12.78125 6.34375 \nQ 5.515625 14.109375 5.515625 27.296875 \nQ 5.515625 40.671875 12.859375 48.328125 \nQ 20.21875 56 33.015625 56 \nQ 37.15625 56 41.109375 55.140625 \nQ 45.0625 54.296875 48.78125 52.59375 \nz\n\" id=\"DejaVuSans-99\"/>\n     </defs>\n     <g transform=\"translate(100.6125 173.543356)scale(0.1 -0.1)\">\n      <use xlink:href=\"#DejaVuSans-35\"/>\n      <use x=\"83.789062\" xlink:href=\"#DejaVuSans-32\"/>\n      <use x=\"115.576172\" xlink:href=\"#DejaVuSans-116\"/>\n      <use x=\"154.785156\" xlink:href=\"#DejaVuSans-111\"/>\n      <use x=\"215.966797\" xlink:href=\"#DejaVuSans-107\"/>\n      <use x=\"270.251953\" xlink:href=\"#DejaVuSans-101\"/>\n      <use x=\"331.775391\" xlink:href=\"#DejaVuSans-110\"/>\n      <use x=\"395.154297\" xlink:href=\"#DejaVuSans-115\"/>\n      <use x=\"447.253906\" xlink:href=\"#DejaVuSans-32\"/>\n      <use x=\"479.041016\" xlink:href=\"#DejaVuSans-112\"/>\n      <use x=\"542.517578\" xlink:href=\"#DejaVuSans-101\"/>\n      <use x=\"604.041016\" xlink:href=\"#DejaVuSans-114\"/>\n      <use x=\"645.154297\" xlink:href=\"#DejaVuSans-32\"/>\n      <use x=\"676.941406\" xlink:href=\"#DejaVuSans-115\"/>\n      <use x=\"729.041016\" xlink:href=\"#DejaVuSans-101\"/>\n      <use x=\"790.564453\" xlink:href=\"#DejaVuSans-110\"/>\n      <use x=\"853.943359\" xlink:href=\"#DejaVuSans-116\"/>\n      <use x=\"893.152344\" xlink:href=\"#DejaVuSans-101\"/>\n      <use x=\"954.675781\" xlink:href=\"#DejaVuSans-110\"/>\n      <use x=\"1018.054688\" xlink:href=\"#DejaVuSans-99\"/>\n      <use x=\"1073.035156\" xlink:href=\"#DejaVuSans-101\"/>\n     </g>\n    </g>\n   </g>\n   <g id=\"matplotlib.axis_2\">\n    <g id=\"ytick_1\">\n     <g id=\"line2d_6\">\n      <defs>\n       <path d=\"M 0 0 \nL -3.5 0 \n\" id=\"m5d4df3532f\" style=\"stroke:#000000;stroke-width:0.8;\"/>\n      </defs>\n      <g>\n       <use style=\"stroke:#000000;stroke-width:0.8;\" x=\"59.690625\" xlink:href=\"#m5d4df3532f\" y=\"145.266794\"/>\n      </g>\n     </g>\n     <g id=\"text_7\">\n      <!-- 0 -->\n      <g transform=\"translate(46.328125 149.066012)scale(0.1 -0.1)\">\n       <use xlink:href=\"#DejaVuSans-48\"/>\n      </g>\n     </g>\n    </g>\n    <g id=\"ytick_2\">\n     <g id=\"line2d_7\">\n      <g>\n       <use style=\"stroke:#000000;stroke-width:0.8;\" x=\"59.690625\" xlink:href=\"#m5d4df3532f\" y=\"118.413279\"/>\n      </g>\n     </g>\n     <g id=\"text_8\">\n      <!-- 5000 -->\n      <defs>\n       <path d=\"M 10.796875 72.90625 \nL 49.515625 72.90625 \nL 49.515625 64.59375 \nL 19.828125 64.59375 \nL 19.828125 46.734375 \nQ 21.96875 47.46875 24.109375 47.828125 \nQ 26.265625 48.1875 28.421875 48.1875 \nQ 40.625 48.1875 47.75 41.5 \nQ 54.890625 34.8125 54.890625 23.390625 \nQ 54.890625 11.625 47.5625 5.09375 \nQ 40.234375 -1.421875 26.90625 -1.421875 \nQ 22.3125 -1.421875 17.546875 -0.640625 \nQ 12.796875 0.140625 7.71875 1.703125 \nL 7.71875 11.625 \nQ 12.109375 9.234375 16.796875 8.0625 \nQ 21.484375 6.890625 26.703125 6.890625 \nQ 35.15625 6.890625 40.078125 11.328125 \nQ 45.015625 15.765625 45.015625 23.390625 \nQ 45.015625 31 40.078125 35.4375 \nQ 35.15625 39.890625 26.703125 39.890625 \nQ 22.75 39.890625 18.8125 39.015625 \nQ 14.890625 38.140625 10.796875 36.28125 \nz\n\" id=\"DejaVuSans-53\"/>\n      </defs>\n      <g transform=\"translate(27.240625 122.212497)scale(0.1 -0.1)\">\n       <use xlink:href=\"#DejaVuSans-53\"/>\n       <use x=\"63.623047\" xlink:href=\"#DejaVuSans-48\"/>\n       <use x=\"127.246094\" xlink:href=\"#DejaVuSans-48\"/>\n       <use x=\"190.869141\" xlink:href=\"#DejaVuSans-48\"/>\n      </g>\n     </g>\n    </g>\n    <g id=\"ytick_3\">\n     <g id=\"line2d_8\">\n      <g>\n       <use style=\"stroke:#000000;stroke-width:0.8;\" x=\"59.690625\" xlink:href=\"#m5d4df3532f\" y=\"91.559764\"/>\n      </g>\n     </g>\n     <g id=\"text_9\">\n      <!-- 10000 -->\n      <defs>\n       <path d=\"M 12.40625 8.296875 \nL 28.515625 8.296875 \nL 28.515625 63.921875 \nL 10.984375 60.40625 \nL 10.984375 69.390625 \nL 28.421875 72.90625 \nL 38.28125 72.90625 \nL 38.28125 8.296875 \nL 54.390625 8.296875 \nL 54.390625 0 \nL 12.40625 0 \nz\n\" id=\"DejaVuSans-49\"/>\n      </defs>\n      <g transform=\"translate(20.878125 95.358982)scale(0.1 -0.1)\">\n       <use xlink:href=\"#DejaVuSans-49\"/>\n       <use x=\"63.623047\" xlink:href=\"#DejaVuSans-48\"/>\n       <use x=\"127.246094\" xlink:href=\"#DejaVuSans-48\"/>\n       <use x=\"190.869141\" xlink:href=\"#DejaVuSans-48\"/>\n       <use x=\"254.492188\" xlink:href=\"#DejaVuSans-48\"/>\n      </g>\n     </g>\n    </g>\n    <g id=\"ytick_4\">\n     <g id=\"line2d_9\">\n      <g>\n       <use style=\"stroke:#000000;stroke-width:0.8;\" x=\"59.690625\" xlink:href=\"#m5d4df3532f\" y=\"64.706249\"/>\n      </g>\n     </g>\n     <g id=\"text_10\">\n      <!-- 15000 -->\n      <g transform=\"translate(20.878125 68.505467)scale(0.1 -0.1)\">\n       <use xlink:href=\"#DejaVuSans-49\"/>\n       <use x=\"63.623047\" xlink:href=\"#DejaVuSans-53\"/>\n       <use x=\"127.246094\" xlink:href=\"#DejaVuSans-48\"/>\n       <use x=\"190.869141\" xlink:href=\"#DejaVuSans-48\"/>\n       <use x=\"254.492188\" xlink:href=\"#DejaVuSans-48\"/>\n      </g>\n     </g>\n    </g>\n    <g id=\"ytick_5\">\n     <g id=\"line2d_10\">\n      <g>\n       <use style=\"stroke:#000000;stroke-width:0.8;\" x=\"59.690625\" xlink:href=\"#m5d4df3532f\" y=\"37.852734\"/>\n      </g>\n     </g>\n     <g id=\"text_11\">\n      <!-- 20000 -->\n      <g transform=\"translate(20.878125 41.651952)scale(0.1 -0.1)\">\n       <use xlink:href=\"#DejaVuSans-50\"/>\n       <use x=\"63.623047\" xlink:href=\"#DejaVuSans-48\"/>\n       <use x=\"127.246094\" xlink:href=\"#DejaVuSans-48\"/>\n       <use x=\"190.869141\" xlink:href=\"#DejaVuSans-48\"/>\n       <use x=\"254.492188\" xlink:href=\"#DejaVuSans-48\"/>\n      </g>\n     </g>\n    </g>\n    <g id=\"ytick_6\">\n     <g id=\"line2d_11\">\n      <g>\n       <use style=\"stroke:#000000;stroke-width:0.8;\" x=\"59.690625\" xlink:href=\"#m5d4df3532f\" y=\"10.999219\"/>\n      </g>\n     </g>\n     <g id=\"text_12\">\n      <!-- 25000 -->\n      <g transform=\"translate(20.878125 14.798437)scale(0.1 -0.1)\">\n       <use xlink:href=\"#DejaVuSans-50\"/>\n       <use x=\"63.623047\" xlink:href=\"#DejaVuSans-53\"/>\n       <use x=\"127.246094\" xlink:href=\"#DejaVuSans-48\"/>\n       <use x=\"190.869141\" xlink:href=\"#DejaVuSans-48\"/>\n       <use x=\"254.492188\" xlink:href=\"#DejaVuSans-48\"/>\n      </g>\n     </g>\n    </g>\n    <g id=\"text_13\">\n     <!-- count -->\n     <defs>\n      <path d=\"M 8.5 21.578125 \nL 8.5 54.6875 \nL 17.484375 54.6875 \nL 17.484375 21.921875 \nQ 17.484375 14.15625 20.5 10.265625 \nQ 23.53125 6.390625 29.59375 6.390625 \nQ 36.859375 6.390625 41.078125 11.03125 \nQ 45.3125 15.671875 45.3125 23.6875 \nL 45.3125 54.6875 \nL 54.296875 54.6875 \nL 54.296875 0 \nL 45.3125 0 \nL 45.3125 8.40625 \nQ 42.046875 3.421875 37.71875 1 \nQ 33.40625 -1.421875 27.6875 -1.421875 \nQ 18.265625 -1.421875 13.375 4.4375 \nQ 8.5 10.296875 8.5 21.578125 \nz\nM 31.109375 56 \nz\n\" id=\"DejaVuSans-117\"/>\n     </defs>\n     <g transform=\"translate(14.798438 91.423044)rotate(-90)scale(0.1 -0.1)\">\n      <use xlink:href=\"#DejaVuSans-99\"/>\n      <use x=\"54.980469\" xlink:href=\"#DejaVuSans-111\"/>\n      <use x=\"116.162109\" xlink:href=\"#DejaVuSans-117\"/>\n      <use x=\"179.541016\" xlink:href=\"#DejaVuSans-110\"/>\n      <use x=\"242.919922\" xlink:href=\"#DejaVuSans-116\"/>\n     </g>\n    </g>\n   </g>\n   <g id=\"patch_23\">\n    <path d=\"M 59.690625 145.266794 \nL 59.690625 9.366794 \n\" style=\"fill:none;stroke:#000000;stroke-linecap:square;stroke-linejoin:miter;stroke-width:0.8;\"/>\n   </g>\n   <g id=\"patch_24\">\n    <path d=\"M 254.990625 145.266794 \nL 254.990625 9.366794 \n\" style=\"fill:none;stroke:#000000;stroke-linecap:square;stroke-linejoin:miter;stroke-width:0.8;\"/>\n   </g>\n   <g id=\"patch_25\">\n    <path d=\"M 59.690625 145.266794 \nL 254.990625 145.266794 \n\" style=\"fill:none;stroke:#000000;stroke-linecap:square;stroke-linejoin:miter;stroke-width:0.8;\"/>\n   </g>\n   <g id=\"patch_26\">\n    <path d=\"M 59.690625 9.366794 \nL 254.990625 9.366794 \n\" style=\"fill:none;stroke:#000000;stroke-linecap:square;stroke-linejoin:miter;stroke-width:0.8;\"/>\n   </g>\n   <g id=\"legend_1\">\n    <g id=\"patch_27\">\n     <path d=\"M 155.389063 46.723044 \nL 247.990625 46.723044 \nQ 249.990625 46.723044 249.990625 44.723044 \nL 249.990625 16.366794 \nQ 249.990625 14.366794 247.990625 14.366794 \nL 155.389063 14.366794 \nQ 153.389063 14.366794 153.389063 16.366794 \nL 153.389063 44.723044 \nQ 153.389063 46.723044 155.389063 46.723044 \nz\n\" style=\"fill:#ffffff;opacity:0.8;stroke:#cccccc;stroke-linejoin:miter;\"/>\n    </g>\n    <g id=\"patch_28\">\n     <path d=\"M 157.389063 25.965231 \nL 177.389063 25.965231 \nL 177.389063 18.965231 \nL 157.389063 18.965231 \nz\n\" style=\"fill:#1f77b4;\"/>\n    </g>\n    <g id=\"text_14\">\n     <!-- origin -->\n     <defs>\n      <path d=\"M 9.421875 54.6875 \nL 18.40625 54.6875 \nL 18.40625 0 \nL 9.421875 0 \nz\nM 9.421875 75.984375 \nL 18.40625 75.984375 \nL 18.40625 64.59375 \nL 9.421875 64.59375 \nz\n\" id=\"DejaVuSans-105\"/>\n      <path d=\"M 45.40625 27.984375 \nQ 45.40625 37.75 41.375 43.109375 \nQ 37.359375 48.484375 30.078125 48.484375 \nQ 22.859375 48.484375 18.828125 43.109375 \nQ 14.796875 37.75 14.796875 27.984375 \nQ 14.796875 18.265625 18.828125 12.890625 \nQ 22.859375 7.515625 30.078125 7.515625 \nQ 37.359375 7.515625 41.375 12.890625 \nQ 45.40625 18.265625 45.40625 27.984375 \nz\nM 54.390625 6.78125 \nQ 54.390625 -7.171875 48.1875 -13.984375 \nQ 42 -20.796875 29.203125 -20.796875 \nQ 24.46875 -20.796875 20.265625 -20.09375 \nQ 16.0625 -19.390625 12.109375 -17.921875 \nL 12.109375 -9.1875 \nQ 16.0625 -11.328125 19.921875 -12.34375 \nQ 23.78125 -13.375 27.78125 -13.375 \nQ 36.625 -13.375 41.015625 -8.765625 \nQ 45.40625 -4.15625 45.40625 5.171875 \nL 45.40625 9.625 \nQ 42.625 4.78125 38.28125 2.390625 \nQ 33.9375 0 27.875 0 \nQ 17.828125 0 11.671875 7.65625 \nQ 5.515625 15.328125 5.515625 27.984375 \nQ 5.515625 40.671875 11.671875 48.328125 \nQ 17.828125 56 27.875 56 \nQ 33.9375 56 38.28125 53.609375 \nQ 42.625 51.21875 45.40625 46.390625 \nL 45.40625 54.6875 \nL 54.390625 54.6875 \nz\n\" id=\"DejaVuSans-103\"/>\n     </defs>\n     <g transform=\"translate(185.389063 25.965231)scale(0.1 -0.1)\">\n      <use xlink:href=\"#DejaVuSans-111\"/>\n      <use x=\"61.181641\" xlink:href=\"#DejaVuSans-114\"/>\n      <use x=\"102.294922\" xlink:href=\"#DejaVuSans-105\"/>\n      <use x=\"130.078125\" xlink:href=\"#DejaVuSans-103\"/>\n      <use x=\"193.554688\" xlink:href=\"#DejaVuSans-105\"/>\n      <use x=\"221.337891\" xlink:href=\"#DejaVuSans-110\"/>\n     </g>\n    </g>\n    <g id=\"patch_29\">\n     <path d=\"M 157.389063 40.643356 \nL 177.389063 40.643356 \nL 177.389063 33.643356 \nL 157.389063 33.643356 \nz\n\" style=\"fill:url(#ha9d194cd79);\"/>\n    </g>\n    <g id=\"text_15\">\n     <!-- subsampled -->\n     <defs>\n      <path d=\"M 48.6875 27.296875 \nQ 48.6875 37.203125 44.609375 42.84375 \nQ 40.53125 48.484375 33.40625 48.484375 \nQ 26.265625 48.484375 22.1875 42.84375 \nQ 18.109375 37.203125 18.109375 27.296875 \nQ 18.109375 17.390625 22.1875 11.75 \nQ 26.265625 6.109375 33.40625 6.109375 \nQ 40.53125 6.109375 44.609375 11.75 \nQ 48.6875 17.390625 48.6875 27.296875 \nz\nM 18.109375 46.390625 \nQ 20.953125 51.265625 25.265625 53.625 \nQ 29.59375 56 35.59375 56 \nQ 45.5625 56 51.78125 48.09375 \nQ 58.015625 40.1875 58.015625 27.296875 \nQ 58.015625 14.40625 51.78125 6.484375 \nQ 45.5625 -1.421875 35.59375 -1.421875 \nQ 29.59375 -1.421875 25.265625 0.953125 \nQ 20.953125 3.328125 18.109375 8.203125 \nL 18.109375 0 \nL 9.078125 0 \nL 9.078125 75.984375 \nL 18.109375 75.984375 \nz\n\" id=\"DejaVuSans-98\"/>\n      <path d=\"M 34.28125 27.484375 \nQ 23.390625 27.484375 19.1875 25 \nQ 14.984375 22.515625 14.984375 16.5 \nQ 14.984375 11.71875 18.140625 8.90625 \nQ 21.296875 6.109375 26.703125 6.109375 \nQ 34.1875 6.109375 38.703125 11.40625 \nQ 43.21875 16.703125 43.21875 25.484375 \nL 43.21875 27.484375 \nz\nM 52.203125 31.203125 \nL 52.203125 0 \nL 43.21875 0 \nL 43.21875 8.296875 \nQ 40.140625 3.328125 35.546875 0.953125 \nQ 30.953125 -1.421875 24.3125 -1.421875 \nQ 15.921875 -1.421875 10.953125 3.296875 \nQ 6 8.015625 6 15.921875 \nQ 6 25.140625 12.171875 29.828125 \nQ 18.359375 34.515625 30.609375 34.515625 \nL 43.21875 34.515625 \nL 43.21875 35.40625 \nQ 43.21875 41.609375 39.140625 45 \nQ 35.0625 48.390625 27.6875 48.390625 \nQ 23 48.390625 18.546875 47.265625 \nQ 14.109375 46.140625 10.015625 43.890625 \nL 10.015625 52.203125 \nQ 14.9375 54.109375 19.578125 55.046875 \nQ 24.21875 56 28.609375 56 \nQ 40.484375 56 46.34375 49.84375 \nQ 52.203125 43.703125 52.203125 31.203125 \nz\n\" id=\"DejaVuSans-97\"/>\n      <path d=\"M 52 44.1875 \nQ 55.375 50.25 60.0625 53.125 \nQ 64.75 56 71.09375 56 \nQ 79.640625 56 84.28125 50.015625 \nQ 88.921875 44.046875 88.921875 33.015625 \nL 88.921875 0 \nL 79.890625 0 \nL 79.890625 32.71875 \nQ 79.890625 40.578125 77.09375 44.375 \nQ 74.3125 48.1875 68.609375 48.1875 \nQ 61.625 48.1875 57.5625 43.546875 \nQ 53.515625 38.921875 53.515625 30.90625 \nL 53.515625 0 \nL 44.484375 0 \nL 44.484375 32.71875 \nQ 44.484375 40.625 41.703125 44.40625 \nQ 38.921875 48.1875 33.109375 48.1875 \nQ 26.21875 48.1875 22.15625 43.53125 \nQ 18.109375 38.875 18.109375 30.90625 \nL 18.109375 0 \nL 9.078125 0 \nL 9.078125 54.6875 \nL 18.109375 54.6875 \nL 18.109375 46.1875 \nQ 21.1875 51.21875 25.484375 53.609375 \nQ 29.78125 56 35.6875 56 \nQ 41.65625 56 45.828125 52.96875 \nQ 50 49.953125 52 44.1875 \nz\n\" id=\"DejaVuSans-109\"/>\n      <path d=\"M 9.421875 75.984375 \nL 18.40625 75.984375 \nL 18.40625 0 \nL 9.421875 0 \nz\n\" id=\"DejaVuSans-108\"/>\n      <path d=\"M 45.40625 46.390625 \nL 45.40625 75.984375 \nL 54.390625 75.984375 \nL 54.390625 0 \nL 45.40625 0 \nL 45.40625 8.203125 \nQ 42.578125 3.328125 38.25 0.953125 \nQ 33.9375 -1.421875 27.875 -1.421875 \nQ 17.96875 -1.421875 11.734375 6.484375 \nQ 5.515625 14.40625 5.515625 27.296875 \nQ 5.515625 40.1875 11.734375 48.09375 \nQ 17.96875 56 27.875 56 \nQ 33.9375 56 38.25 53.625 \nQ 42.578125 51.265625 45.40625 46.390625 \nz\nM 14.796875 27.296875 \nQ 14.796875 17.390625 18.875 11.75 \nQ 22.953125 6.109375 30.078125 6.109375 \nQ 37.203125 6.109375 41.296875 11.75 \nQ 45.40625 17.390625 45.40625 27.296875 \nQ 45.40625 37.203125 41.296875 42.84375 \nQ 37.203125 48.484375 30.078125 48.484375 \nQ 22.953125 48.484375 18.875 42.84375 \nQ 14.796875 37.203125 14.796875 27.296875 \nz\n\" id=\"DejaVuSans-100\"/>\n     </defs>\n     <g transform=\"translate(185.389063 40.643356)scale(0.1 -0.1)\">\n      <use xlink:href=\"#DejaVuSans-115\"/>\n      <use x=\"52.099609\" xlink:href=\"#DejaVuSans-117\"/>\n      <use x=\"115.478516\" xlink:href=\"#DejaVuSans-98\"/>\n      <use x=\"178.955078\" xlink:href=\"#DejaVuSans-115\"/>\n      <use x=\"231.054688\" xlink:href=\"#DejaVuSans-97\"/>\n      <use x=\"292.333984\" xlink:href=\"#DejaVuSans-109\"/>\n      <use x=\"389.746094\" xlink:href=\"#DejaVuSans-112\"/>\n      <use x=\"453.222656\" xlink:href=\"#DejaVuSans-108\"/>\n      <use x=\"481.005859\" xlink:href=\"#DejaVuSans-101\"/>\n      <use x=\"542.529297\" xlink:href=\"#DejaVuSans-100\"/>\n     </g>\n    </g>\n   </g>\n  </g>\n </g>\n <defs>\n  <clipPath id=\"pcb3f0192b7\">\n   <rect height=\"135.9\" width=\"195.3\" x=\"59.690625\" y=\"9.366794\"/>\n  </clipPath>\n </defs>\n <defs>\n  <pattern height=\"72\" id=\"ha9d194cd79\" patternUnits=\"userSpaceOnUse\" width=\"72\" x=\"0\" y=\"0\">\n   <rect fill=\"#ff7f0e\" height=\"73\" width=\"73\" x=\"0\" y=\"0\"/>\n   <path d=\"M -36 36 \nL 36 -36 \nM -24 48 \nL 48 -24 \nM -12 60 \nL 60 -12 \nM 0 72 \nL 72 0 \nM 12 84 \nL 84 12 \nM 24 96 \nL 96 24 \nM 36 108 \nL 108 36 \n\" style=\"fill:#000000;stroke:#000000;stroke-linecap:butt;stroke-linejoin:miter;stroke-width:1.0;\"/>\n  </pattern>\n </defs>\n</svg>\n"
          },
          "metadata": {
            "needs_background": "light"
          }
        }
      ],
      "source": [
        "d2l.show_list_len_pair_hist(['origin', 'subsampled'], '# tokens per sentence', 'count', sentences, subsampled);"
      ]
    },
    {
      "cell_type": "markdown",
      "metadata": {
        "origin_pos": 11,
        "id": "Cq6-3XgIkodA"
      },
      "source": [
        "For individual tokens, the sampling rate of the high-frequency word \"the\" is less than 1/20.\n"
      ]
    },
    {
      "cell_type": "code",
      "execution_count": 7,
      "metadata": {
        "origin_pos": 12,
        "tab": [
          "pytorch"
        ],
        "id": "MDPBLmLYkodB",
        "outputId": "6ebf1b91-5b10-4b9b-8aa5-7df63d633897",
        "colab": {
          "base_uri": "https://localhost:8080/",
          "height": 35
        }
      },
      "outputs": [
        {
          "output_type": "execute_result",
          "data": {
            "application/vnd.google.colaboratory.intrinsic+json": {
              "type": "string"
            },
            "text/plain": [
              "'# of \"the\": before=50770, after=2042'"
            ]
          },
          "metadata": {},
          "execution_count": 7
        }
      ],
      "source": [
        "def compare_counts(token):\n",
        "    return (f'# of \"{token}\": '\n",
        "            f'before={sum([l.count(token) for l in sentences])}, '\n",
        "            f'after={sum([l.count(token) for l in subsampled])}')\n",
        "\n",
        "compare_counts('the')"
      ]
    },
    {
      "cell_type": "markdown",
      "metadata": {
        "origin_pos": 13,
        "id": "Oh-7qHzHkodB"
      },
      "source": [
        "In contrast, \n",
        "low-frequency words \"join\" are completely kept.\n"
      ]
    },
    {
      "cell_type": "code",
      "execution_count": 8,
      "metadata": {
        "origin_pos": 14,
        "tab": [
          "pytorch"
        ],
        "id": "dx2Zn-cQkodC",
        "outputId": "9045ddc8-5f16-4966-d838-34e4363a0420",
        "colab": {
          "base_uri": "https://localhost:8080/",
          "height": 35
        }
      },
      "outputs": [
        {
          "output_type": "execute_result",
          "data": {
            "application/vnd.google.colaboratory.intrinsic+json": {
              "type": "string"
            },
            "text/plain": [
              "'# of \"join\": before=45, after=45'"
            ]
          },
          "metadata": {},
          "execution_count": 8
        }
      ],
      "source": [
        "compare_counts('join')"
      ]
    },
    {
      "cell_type": "code",
      "source": [
        "compare_counts('love')"
      ],
      "metadata": {
        "id": "P9msI4H2nceq",
        "outputId": "e872fb15-2a31-4a9b-b188-b1dcd9db0a0a",
        "colab": {
          "base_uri": "https://localhost:8080/",
          "height": 35
        }
      },
      "execution_count": 9,
      "outputs": [
        {
          "output_type": "execute_result",
          "data": {
            "application/vnd.google.colaboratory.intrinsic+json": {
              "type": "string"
            },
            "text/plain": [
              "'# of \"love\": before=26, after=26'"
            ]
          },
          "metadata": {},
          "execution_count": 9
        }
      ]
    },
    {
      "cell_type": "markdown",
      "metadata": {
        "origin_pos": 15,
        "id": "9WaFvKUgkodC"
      },
      "source": [
        "After subsampling, we map tokens to their indices for the corpus.\n"
      ]
    },
    {
      "cell_type": "code",
      "execution_count": 10,
      "metadata": {
        "origin_pos": 16,
        "tab": [
          "pytorch"
        ],
        "id": "QmvQIMvDkodC",
        "outputId": "cf624dc3-c126-4d5f-96a2-72336a518d2a",
        "colab": {
          "base_uri": "https://localhost:8080/"
        }
      },
      "outputs": [
        {
          "output_type": "execute_result",
          "data": {
            "text/plain": [
              "[[], [392, 2115, 274, 406], [5277, 3054, 1580, 95]]"
            ]
          },
          "metadata": {},
          "execution_count": 10
        }
      ],
      "source": [
        "corpus = [vocab[line] for line in subsampled]\n",
        "corpus[:3]"
      ]
    },
    {
      "cell_type": "markdown",
      "source": [
        "## Extracting Center Words and Context Words"
      ],
      "metadata": {
        "id": "na8XX8ycngsh"
      }
    },
    {
      "cell_type": "markdown",
      "metadata": {
        "origin_pos": 17,
        "id": "S72e_hNFkodD"
      },
      "source": [
        "\n",
        "The following `get_centers_and_contexts`\n",
        "function extracts all the \n",
        "center words and their context words\n",
        "from `corpus`.\n",
        "It uniformly samples an integer between 1 and `max_window_size`\n",
        "at random as the context window size.\n",
        "For any center word,\n",
        "those words \n",
        "whose distance from it\n",
        "does not exceed the sampled\n",
        "context window size\n",
        "are its context words.\n"
      ]
    },
    {
      "cell_type": "code",
      "execution_count": null,
      "metadata": {
        "origin_pos": 18,
        "tab": [
          "pytorch"
        ],
        "id": "GlCbe3b8kodD"
      },
      "outputs": [],
      "source": [
        "def get_centers_and_contexts(corpus, max_window_size):\n",
        "    \"\"\"Return center words and context words in skip-gram.\"\"\"\n",
        "    centers, contexts = [], []\n",
        "    for line in corpus:\n",
        "        # To form a \"center word--context word\" pair, each sentence needs to\n",
        "        # have at least 2 words\n",
        "        if len(line) < 2:\n",
        "            continue\n",
        "        centers += line\n",
        "        for i in range(len(line)):  # Context window centered at `i`\n",
        "            window_size = random.randint(1, max_window_size)\n",
        "            indices = list(range(max(0, i - window_size),\n",
        "                                 min(len(line), i + 1 + window_size)))\n",
        "            # Exclude the center word from the context words\n",
        "            indices.remove(i)\n",
        "            contexts.append([line[idx] for idx in indices])\n",
        "    return centers, contexts"
      ]
    },
    {
      "cell_type": "markdown",
      "metadata": {
        "origin_pos": 19,
        "id": "uu7XLmkdkodD"
      },
      "source": [
        "Next, we create an artificial dataset containing two sentences of 7 and 3 words, respectively. \n",
        "Let the maximum context window size be 2 \n",
        "and print all the center words and their context words.\n"
      ]
    },
    {
      "cell_type": "code",
      "execution_count": null,
      "metadata": {
        "origin_pos": 20,
        "tab": [
          "pytorch"
        ],
        "id": "D1qL7TSekodD",
        "outputId": "0fe45ef9-75d7-4507-9dd4-b1414e3693f9"
      },
      "outputs": [
        {
          "name": "stdout",
          "output_type": "stream",
          "text": [
            "dataset [[0, 1, 2, 3, 4, 5, 6], [7, 8, 9]]\n",
            "center 0 has contexts [1]\n",
            "center 1 has contexts [0, 2]\n",
            "center 2 has contexts [0, 1, 3, 4]\n",
            "center 3 has contexts [1, 2, 4, 5]\n",
            "center 4 has contexts [3, 5]\n",
            "center 5 has contexts [3, 4, 6]\n",
            "center 6 has contexts [5]\n",
            "center 7 has contexts [8, 9]\n",
            "center 8 has contexts [7, 9]\n",
            "center 9 has contexts [7, 8]\n"
          ]
        }
      ],
      "source": [
        "tiny_dataset = [list(range(7)), list(range(7, 10))]\n",
        "print('dataset', tiny_dataset)\n",
        "for center, context in zip(*get_centers_and_contexts(tiny_dataset, 2)):\n",
        "    print('center', center, 'has contexts', context)"
      ]
    },
    {
      "cell_type": "markdown",
      "metadata": {
        "origin_pos": 21,
        "id": "mW4mQUvskodE"
      },
      "source": [
        "When training on the PTB dataset,\n",
        "we set the maximum context window size to 5. \n",
        "The following extracts all the center words and their context words in the dataset.\n"
      ]
    },
    {
      "cell_type": "code",
      "execution_count": null,
      "metadata": {
        "origin_pos": 22,
        "tab": [
          "pytorch"
        ],
        "id": "uGXObNw3kodE",
        "outputId": "50957ab7-84c4-4d9e-ba98-38048d6436a4"
      },
      "outputs": [
        {
          "data": {
            "text/plain": [
              "'# center-context pairs: 1499193'"
            ]
          },
          "execution_count": 11,
          "metadata": {},
          "output_type": "execute_result"
        }
      ],
      "source": [
        "all_centers, all_contexts = get_centers_and_contexts(corpus, 5)\n",
        "f'# center-context pairs: {sum([len(contexts) for contexts in all_contexts])}'"
      ]
    },
    {
      "cell_type": "markdown",
      "metadata": {
        "origin_pos": 23,
        "id": "rtK1HcQTkodE"
      },
      "source": [
        "## Negative Sampling\n",
        "\n",
        "We use negative sampling for approximate training. \n",
        "To sample noise words according to \n",
        "a predefined distribution,\n",
        "we define the following `RandomGenerator` class,\n",
        "where the (possibly unnormalized) sampling distribution is passed\n",
        "via the argument `sampling_weights`.\n"
      ]
    },
    {
      "cell_type": "code",
      "execution_count": null,
      "metadata": {
        "origin_pos": 24,
        "tab": [
          "pytorch"
        ],
        "id": "eCNwOViNkodF"
      },
      "outputs": [],
      "source": [
        "#@save\n",
        "class RandomGenerator:\n",
        "    \"\"\"Randomly draw among {1, ..., n} according to n sampling weights.\"\"\"\n",
        "    def __init__(self, sampling_weights):\n",
        "        # Exclude\n",
        "        self.population = list(range(1, len(sampling_weights) + 1))\n",
        "        self.sampling_weights = sampling_weights\n",
        "        self.candidates = []\n",
        "        self.i = 0\n",
        "\n",
        "    def draw(self):\n",
        "        if self.i == len(self.candidates):\n",
        "            # Cache `k` random sampling results\n",
        "            self.candidates = random.choices(\n",
        "                self.population, self.sampling_weights, k=10000)\n",
        "            self.i = 0\n",
        "        self.i += 1\n",
        "        return self.candidates[self.i - 1]"
      ]
    },
    {
      "cell_type": "markdown",
      "metadata": {
        "origin_pos": 25,
        "id": "AdpLUAq2kodF"
      },
      "source": [
        "For example, \n",
        "we can draw 10 random variables $X$\n",
        "among indices 1, 2, and 3\n",
        "with sampling probabilities $P(X=1)=2/9, P(X=2)=3/9$, and $P(X=3)=4/9$ as follows.\n"
      ]
    },
    {
      "cell_type": "markdown",
      "metadata": {
        "origin_pos": 27,
        "id": "2WXsx3JnkodF"
      },
      "source": [
        "For a pair of center word and context word, \n",
        "we randomly sample `K` (5 in the experiment) noise words. According to the suggestions in the word2vec paper,\n",
        "the sampling probability $P(w)$ of \n",
        "a noise word $w$\n",
        "is \n",
        "set to its relative frequency \n",
        "in the dictionary\n",
        "raised to \n",
        "the power of 0.75 :cite:`Mikolov.Sutskever.Chen.ea.2013`.\n"
      ]
    },
    {
      "cell_type": "code",
      "execution_count": null,
      "metadata": {
        "origin_pos": 28,
        "tab": [
          "pytorch"
        ],
        "id": "0mNVbs_hkodF"
      },
      "outputs": [],
      "source": [
        "#@save\n",
        "def get_negatives(all_contexts, vocab, counter, K):\n",
        "    \"\"\"Return noise words in negative sampling.\"\"\"\n",
        "    # Sampling weights for words with indices 1, 2, ... (index 0 is the\n",
        "    # excluded unknown token) in the vocabulary\n",
        "    sampling_weights = [counter[vocab.to_tokens(i)]**0.75\n",
        "                        for i in range(1, len(vocab))]\n",
        "    all_negatives, generator = [], RandomGenerator(sampling_weights)\n",
        "    for contexts in all_contexts:\n",
        "        negatives = []\n",
        "        while len(negatives) < len(contexts) * K:\n",
        "            neg = generator.draw()\n",
        "            # Noise words cannot be context words\n",
        "            if neg not in contexts:\n",
        "                negatives.append(neg)\n",
        "        all_negatives.append(negatives)\n",
        "    return all_negatives\n",
        "\n",
        "all_negatives = get_negatives(all_contexts, vocab, counter, 5)"
      ]
    },
    {
      "cell_type": "markdown",
      "metadata": {
        "origin_pos": 29,
        "id": "o73TlXTekodG"
      },
      "source": [
        "## Loading Training Examples in Minibatches\n",
        ":label:`subsec_word2vec-minibatch-loading`\n",
        "\n",
        "After\n",
        "all the center words\n",
        "together with their\n",
        "context words and sampled noise words are extracted,\n",
        "they will be transformed into \n",
        "minibatches of examples\n",
        "that can be iteratively loaded\n",
        "during training.\n",
        "\n",
        "\n",
        "\n",
        "In a minibatch,\n",
        "the $i^\\mathrm{th}$ example includes a center word\n",
        "and its $n_i$ context words and $m_i$ noise words. \n",
        "Due to varying context window sizes,\n",
        "$n_i+m_i$ varies for different $i$.\n",
        "Thus,\n",
        "for each example\n",
        "we concatenate its context words and noise words in \n",
        "the `contexts_negatives` variable,\n",
        "and pad zeros until the concatenation length\n",
        "reaches $\\max_i n_i+m_i$ (`max_len`).\n",
        "To exclude paddings\n",
        "in the calculation of the loss,\n",
        "we define a mask variable `masks`.\n",
        "There is a one-to-one correspondence\n",
        "between elements in `masks` and elements in `contexts_negatives`,\n",
        "where zeros (otherwise ones) in `masks` correspond to paddings in `contexts_negatives`.\n",
        "\n",
        "\n",
        "To distinguish between positive and negative examples,\n",
        "we separate context words from noise words in  `contexts_negatives` via a `labels` variable. \n",
        "Similar to `masks`,\n",
        "there is also a one-to-one correspondence\n",
        "between elements in `labels` and elements in `contexts_negatives`,\n",
        "where ones (otherwise zeros) in `labels` correspond to context words (positive examples) in `contexts_negatives`.\n",
        "\n",
        "\n",
        "The above idea is implemented in the following `batchify` function.\n",
        "Its input `data` is a list with length\n",
        "equal to the batch size,\n",
        "where each element is an example\n",
        "consisting of\n",
        "the center word `center`, its context words `context`, and its noise words `negative`.\n",
        "This function returns \n",
        "a minibatch that can be loaded for calculations \n",
        "during training,\n",
        "such as including the mask variable.\n"
      ]
    },
    {
      "cell_type": "code",
      "execution_count": null,
      "metadata": {
        "origin_pos": 30,
        "tab": [
          "pytorch"
        ],
        "id": "G6hPW8TikodG"
      },
      "outputs": [],
      "source": [
        "#@save\n",
        "def batchify(data):\n",
        "    \"\"\"Return a minibatch of examples for skip-gram with negative sampling.\"\"\"\n",
        "    max_len = max(len(c) + len(n) for _, c, n in data)\n",
        "    centers, contexts_negatives, masks, labels = [], [], [], []\n",
        "    for center, context, negative in data:\n",
        "        cur_len = len(context) + len(negative)\n",
        "        centers += [center]\n",
        "        contexts_negatives += [context + negative + [0] * (max_len - cur_len)]\n",
        "        masks += [[1] * cur_len + [0] * (max_len - cur_len)]\n",
        "        labels += [[1] * len(context) + [0] * (max_len - len(context))]\n",
        "    return (torch.tensor(centers).reshape((-1, 1)), torch.tensor(\n",
        "        contexts_negatives), torch.tensor(masks), torch.tensor(labels))"
      ]
    },
    {
      "cell_type": "markdown",
      "metadata": {
        "origin_pos": 31,
        "id": "-4suyxkMkodG"
      },
      "source": [
        "Let us test this function using a minibatch of two examples.\n"
      ]
    },
    {
      "cell_type": "code",
      "execution_count": null,
      "metadata": {
        "origin_pos": 32,
        "tab": [
          "pytorch"
        ],
        "id": "ZTN-y8vukodG",
        "outputId": "b9744df9-c5b3-43c2-f956-dda7a5c5ca99"
      },
      "outputs": [
        {
          "name": "stdout",
          "output_type": "stream",
          "text": [
            "centers = tensor([[1],\n",
            "        [1]])\n",
            "contexts_negatives = tensor([[2, 2, 3, 3, 3, 3],\n",
            "        [2, 2, 2, 3, 3, 0]])\n",
            "masks = tensor([[1, 1, 1, 1, 1, 1],\n",
            "        [1, 1, 1, 1, 1, 0]])\n",
            "labels = tensor([[1, 1, 0, 0, 0, 0],\n",
            "        [1, 1, 1, 0, 0, 0]])\n"
          ]
        }
      ],
      "source": [
        "x_1 = (1, [2, 2], [3, 3, 3, 3])\n",
        "x_2 = (1, [2, 2, 2], [3, 3])\n",
        "batch = batchify((x_1, x_2))\n",
        "\n",
        "names = ['centers', 'contexts_negatives', 'masks', 'labels']\n",
        "for name, data in zip(names, batch):\n",
        "    print(name, '=', data)"
      ]
    },
    {
      "cell_type": "markdown",
      "metadata": {
        "origin_pos": 33,
        "id": "rbRq6k6AkodH"
      },
      "source": [
        "## Putting All Things Together\n",
        "\n",
        "Last, we define the `load_data_ptb` function that reads the PTB dataset and returns the data iterator and the vocabulary.\n"
      ]
    },
    {
      "cell_type": "code",
      "execution_count": null,
      "metadata": {
        "origin_pos": 35,
        "tab": [
          "pytorch"
        ],
        "id": "NnapwlDEkodH"
      },
      "outputs": [],
      "source": [
        "#@save\n",
        "def load_data_ptb(batch_size, max_window_size, num_noise_words):\n",
        "    \"\"\"Download the PTB dataset and then load it into memory.\"\"\"\n",
        "    num_workers = d2l.get_dataloader_workers()\n",
        "    sentences = read_ptb()\n",
        "    vocab = d2l.Vocab(sentences, min_freq=10)\n",
        "    subsampled, counter = subsample(sentences, vocab)\n",
        "    corpus = [vocab[line] for line in subsampled]\n",
        "    all_centers, all_contexts = get_centers_and_contexts(\n",
        "        corpus, max_window_size)\n",
        "    all_negatives = get_negatives(\n",
        "        all_contexts, vocab, counter, num_noise_words)\n",
        "\n",
        "    class PTBDataset(torch.utils.data.Dataset):\n",
        "        def __init__(self, centers, contexts, negatives):\n",
        "            assert len(centers) == len(contexts) == len(negatives)\n",
        "            self.centers = centers\n",
        "            self.contexts = contexts\n",
        "            self.negatives = negatives\n",
        "\n",
        "        def __getitem__(self, index):\n",
        "            return (self.centers[index], self.contexts[index],\n",
        "                    self.negatives[index])\n",
        "\n",
        "        def __len__(self):\n",
        "            return len(self.centers)\n",
        "\n",
        "    dataset = PTBDataset(all_centers, all_contexts, all_negatives)\n",
        "\n",
        "    data_iter = torch.utils.data.DataLoader(dataset, batch_size, shuffle=True,\n",
        "                                      collate_fn=batchify,\n",
        "                                      num_workers=num_workers)\n",
        "    return data_iter, vocab"
      ]
    },
    {
      "cell_type": "markdown",
      "metadata": {
        "origin_pos": 36,
        "id": "iG1plZDAkodH"
      },
      "source": [
        "Let us print the first minibatch of the data iterator.\n"
      ]
    },
    {
      "cell_type": "code",
      "execution_count": null,
      "metadata": {
        "origin_pos": 37,
        "tab": [
          "pytorch"
        ],
        "id": "kbgsczUOkodH",
        "outputId": "608a7275-3c2f-4c81-8fde-c0d31e379019"
      },
      "outputs": [
        {
          "name": "stdout",
          "output_type": "stream",
          "text": [
            "centers shape: torch.Size([512, 1])\n",
            "contexts_negatives shape: torch.Size([512, 60])\n",
            "masks shape: torch.Size([512, 60])\n",
            "labels shape: torch.Size([512, 60])\n"
          ]
        }
      ],
      "source": [
        "data_iter, vocab = load_data_ptb(512, 5, 5)\n",
        "for batch in data_iter:\n",
        "    for name, data in zip(names, batch):\n",
        "        print(name, 'shape:', data.shape)\n",
        "    break"
      ]
    },
    {
      "cell_type": "markdown",
      "metadata": {
        "origin_pos": 38,
        "id": "BYW5WyPzkodI"
      },
      "source": [
        "## Summary\n",
        "\n",
        "* High-frequency words may not be so useful in training. We can subsample them for speedup in training.\n",
        "* For computational efficiency, we load examples in minibatches. We can define other variables to distinguish paddings from non-paddings, and positive examples from negative ones.\n",
        "\n",
        "\n",
        "\n",
        "## Exercises\n",
        "\n",
        "1. How does the running time of code in this section changes if not using subsampling?\n",
        "1. The `RandomGenerator` class caches `k` random sampling results. Set `k` to other values and see how it affects the data loading speed.\n",
        "1. What other hyperparameters in the code of this section may affect the data loading speed?\n"
      ]
    },
    {
      "cell_type": "markdown",
      "metadata": {
        "origin_pos": 40,
        "tab": [
          "pytorch"
        ],
        "id": "xJR6ABrJkodI"
      },
      "source": [
        "[Discussions](https://discuss.d2l.ai/t/1330)\n"
      ]
    }
  ],
  "metadata": {
    "language_info": {
      "name": "python"
    },
    "colab": {
      "name": "03-word-embedding-dataset.ipynb",
      "provenance": [],
      "toc_visible": true,
      "include_colab_link": true
    },
    "kernelspec": {
      "name": "python3",
      "display_name": "Python 3"
    }
  },
  "nbformat": 4,
  "nbformat_minor": 0
}