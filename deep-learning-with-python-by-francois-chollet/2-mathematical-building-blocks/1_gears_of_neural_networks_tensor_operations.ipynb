{
  "nbformat": 4,
  "nbformat_minor": 0,
  "metadata": {
    "colab": {
      "name": "1-gears-of-neural-networks--tensor-operations.ipynb",
      "provenance": [],
      "toc_visible": true,
      "authorship_tag": "ABX9TyMk9RttjoqqUcv16wGz9LJe",
      "include_colab_link": true
    },
    "kernelspec": {
      "name": "python3",
      "display_name": "Python 3"
    },
    "language_info": {
      "name": "python"
    }
  },
  "cells": [
    {
      "cell_type": "markdown",
      "metadata": {
        "id": "view-in-github",
        "colab_type": "text"
      },
      "source": [
        "<a href=\"https://colab.research.google.com/github/rahiakela/data-learning-research-and-practice/blob/main/deep-learning-with-python-by-francois-chollet/2-mathematical-building-blocks/1_gears_of_neural_networks_tensor_operations.ipynb\" target=\"_parent\"><img src=\"https://colab.research.google.com/assets/colab-badge.svg\" alt=\"Open In Colab\"/></a>"
      ]
    },
    {
      "cell_type": "markdown",
      "metadata": {
        "id": "fsRP3eB2CM-h"
      },
      "source": [
        "##The gears of neural networks: Tensor operations"
      ]
    },
    {
      "cell_type": "markdown",
      "metadata": {
        "id": "R-hxOYQDCPwY"
      },
      "source": [
        "Much as any computer program can be ultimately reduced to a small set of binary\n",
        "operations on binary inputs (AND, OR, NOR, and so on), all transformations learned\n",
        "by deep neural networks can be reduced to a handful of tensor operations (or tensor functions)\n",
        "applied to tensors of numeric data. For instance, it’s possible to add tensors,\n",
        "multiply tensors, and so on.\n",
        "\n",
        "A Keras layer instance looks like this:\n",
        "\n",
        "```python\n",
        "keras.layers.Dense(512, activation=\"relu\")\n",
        "```\n",
        "\n",
        "This layer can be interpreted as a function, which takes as input a matrix and returns\n",
        "another matrix—a new representation for the input tensor. \n",
        "\n",
        "Specifically, the function\n",
        "is as follows (where W is a matrix and b is a vector, both attributes of the layer):\n",
        "\n",
        "```python\n",
        "output = relu(dot(input, W) + b)\n",
        "```\n",
        "\n",
        "Let’s unpack this. We have three tensor operations here:\n",
        "\n",
        "- A dot product (dot) between the input tensor and a tensor named W\n",
        "- An addition (+) between the resulting matrix and a vector b\n",
        "- A relu operation: relu(x) is max(x, 0); “relu” stands for “rectified linear unit”"
      ]
    },
    {
      "cell_type": "markdown",
      "metadata": {
        "id": "gVmTe862DdX3"
      },
      "source": [
        "##Element-wise operations"
      ]
    },
    {
      "cell_type": "markdown",
      "metadata": {
        "id": "pufUfYjgDeFS"
      },
      "source": [
        "The relu operation and addition are element-wise operations: operations that are\n",
        "applied independently to each entry in the tensors being considered. This means\n",
        "these operations are highly amenable to massively parallel implementations.\n",
        "\n",
        "If you want to write a naive Python implementation of\n",
        "an element-wise operation, you use a for loop, as in this naive implementation of an\n",
        "element-wise relu operation:"
      ]
    },
    {
      "cell_type": "code",
      "metadata": {
        "id": "OcnhKcAeDxEH"
      },
      "source": [
        "def naive_relu(x):\n",
        "  # x is a rank-2 NumPy tensor\n",
        "  assert len(x.shape) == 2\n",
        "\n",
        "  # Avoid overwriting the input tensor\n",
        "  x = x.copy()\n",
        "  for i in range(x.shape[0]):\n",
        "    for j in range(x.shape[1]):\n",
        "      x[i, j] = max(x[i, j], 0)\n",
        "  return x"
      ],
      "execution_count": 1,
      "outputs": []
    },
    {
      "cell_type": "markdown",
      "metadata": {
        "id": "_j0R9_MkEdnk"
      },
      "source": [
        "You could do the same for addition:"
      ]
    },
    {
      "cell_type": "code",
      "metadata": {
        "id": "6Y18TXyIEfR5"
      },
      "source": [
        "def naive_add(x, y):\n",
        "  # x and y are rank-2 NumPy tensors\n",
        "  assert len(x.shape) == 2\n",
        "  assert x.shape == y.shape\n",
        "  \n",
        "  # Avoid overwriting the input tensor\n",
        "  x = x.copy()\n",
        "  for i in range(x.shape[0]):\n",
        "    for j in range(y.shape[1]):\n",
        "      x[i, j] += y[i, j]\n",
        "  return x"
      ],
      "execution_count": 2,
      "outputs": []
    },
    {
      "cell_type": "markdown",
      "metadata": {
        "id": "2cEsCXXbGSE5"
      },
      "source": [
        "On the same principle, you can do element-wise multiplication, subtraction, and so on.\n",
        "\n",
        "In practice, when dealing with NumPy arrays, these operations are available as welloptimized\n",
        "built-in NumPy functions, which themselves delegate the heavy lifting to a\n",
        "Basic Linear Algebra Subprograms (BLAS) implementation. BLAS are low-level,\n",
        "highly parallel, efficient tensor-manipulation routines that are typically implemented\n",
        "in Fortran or C.\n",
        "\n",
        "So, in NumPy, you can do the following element-wise operation, and it will be blazing\n",
        "fast:"
      ]
    },
    {
      "cell_type": "code",
      "metadata": {
        "id": "LosHpiUvGhJM"
      },
      "source": [
        "import numpy as np"
      ],
      "execution_count": 3,
      "outputs": []
    },
    {
      "cell_type": "code",
      "metadata": {
        "id": "5ct9Cqv5GmV_"
      },
      "source": [
        "x = np.random.random((20, 100))\n",
        "y = np.random.random((20, 100))"
      ],
      "execution_count": 4,
      "outputs": []
    },
    {
      "cell_type": "code",
      "metadata": {
        "id": "CoOGO1GmGnpr",
        "colab": {
          "base_uri": "https://localhost:8080/"
        },
        "outputId": "212ffbfa-b155-4066-cb57-b04ff12aefbc"
      },
      "source": [
        "z = x + y\n",
        "z"
      ],
      "execution_count": 5,
      "outputs": [
        {
          "output_type": "execute_result",
          "data": {
            "text/plain": [
              "array([[0.5833715 , 1.64167321, 0.47598757, ..., 0.94894288, 1.06589035,\n",
              "        0.57077926],\n",
              "       [0.79683924, 1.69161099, 0.78681001, ..., 1.02353888, 1.45680047,\n",
              "        0.93536571],\n",
              "       [1.5425921 , 1.03753149, 1.65542218, ..., 1.56734636, 0.75605085,\n",
              "        0.39763872],\n",
              "       ...,\n",
              "       [0.87791879, 1.24838634, 0.94751821, ..., 0.47714805, 1.28274589,\n",
              "        1.19634836],\n",
              "       [1.79288733, 0.97149845, 0.96372108, ..., 1.14259272, 1.05272603,\n",
              "        0.70999261],\n",
              "       [0.73725283, 1.00935213, 1.97691635, ..., 1.08769461, 1.00669283,\n",
              "        1.40341021]])"
            ]
          },
          "metadata": {},
          "execution_count": 5
        }
      ]
    },
    {
      "cell_type": "code",
      "metadata": {
        "id": "vk4i44IDGsMg",
        "colab": {
          "base_uri": "https://localhost:8080/"
        },
        "outputId": "64be9905-1259-484b-bf4e-f65c953fecfa"
      },
      "source": [
        "z = np.maximum(z, 0)\n",
        "z"
      ],
      "execution_count": 6,
      "outputs": [
        {
          "output_type": "execute_result",
          "data": {
            "text/plain": [
              "array([[0.5833715 , 1.64167321, 0.47598757, ..., 0.94894288, 1.06589035,\n",
              "        0.57077926],\n",
              "       [0.79683924, 1.69161099, 0.78681001, ..., 1.02353888, 1.45680047,\n",
              "        0.93536571],\n",
              "       [1.5425921 , 1.03753149, 1.65542218, ..., 1.56734636, 0.75605085,\n",
              "        0.39763872],\n",
              "       ...,\n",
              "       [0.87791879, 1.24838634, 0.94751821, ..., 0.47714805, 1.28274589,\n",
              "        1.19634836],\n",
              "       [1.79288733, 0.97149845, 0.96372108, ..., 1.14259272, 1.05272603,\n",
              "        0.70999261],\n",
              "       [0.73725283, 1.00935213, 1.97691635, ..., 1.08769461, 1.00669283,\n",
              "        1.40341021]])"
            ]
          },
          "metadata": {},
          "execution_count": 6
        }
      ]
    },
    {
      "cell_type": "markdown",
      "metadata": {
        "id": "CrxJfhHrG5xt"
      },
      "source": [
        "Let’s actually time the difference:"
      ]
    },
    {
      "cell_type": "code",
      "metadata": {
        "id": "H9sk9K4KG6PE"
      },
      "source": [
        "import time"
      ],
      "execution_count": 7,
      "outputs": []
    },
    {
      "cell_type": "code",
      "metadata": {
        "id": "WaXyRKlJG8tO",
        "colab": {
          "base_uri": "https://localhost:8080/"
        },
        "outputId": "8ff850ee-cc28-4754-9879-c7e80b223290"
      },
      "source": [
        "t0 = time.time()\n",
        "\n",
        "for _ in range(1000):\n",
        "  z = x + y\n",
        "  z = np.maximum(z, 0.0)\n",
        "print(\"Took: {0:.2f} s\".format(time.time() - t0))"
      ],
      "execution_count": 8,
      "outputs": [
        {
          "output_type": "stream",
          "name": "stdout",
          "text": [
            "Took: 0.01 s\n"
          ]
        }
      ]
    },
    {
      "cell_type": "markdown",
      "metadata": {
        "id": "DBrjciNnHWy2"
      },
      "source": [
        "This takes 0.01 s. Meanwhile, the naive version takes a stunning 2.73 s:"
      ]
    },
    {
      "cell_type": "code",
      "metadata": {
        "id": "Vz4eHTimHWSF",
        "colab": {
          "base_uri": "https://localhost:8080/"
        },
        "outputId": "99c7c97d-8bb2-4578-c1e4-6e2b0f6e3363"
      },
      "source": [
        "t0 = time.time()\n",
        "\n",
        "for _ in range(1000):\n",
        "  z = naive_add(x, y)\n",
        "  z = naive_relu(z)\n",
        "print(\"Took: {0:.2f} s\".format(time.time() - t0))"
      ],
      "execution_count": 9,
      "outputs": [
        {
          "output_type": "stream",
          "name": "stdout",
          "text": [
            "Took: 2.70 s\n"
          ]
        }
      ]
    },
    {
      "cell_type": "markdown",
      "metadata": {
        "id": "Vf873Hk4Hp1h"
      },
      "source": [
        "Likewise, when running TensorFlow code on a GPU, element-wise operations are executed\n",
        "via fully vectorized CUDA implementations that can best utilize the highly parallel\n",
        "GPU chip architecture."
      ]
    },
    {
      "cell_type": "markdown",
      "metadata": {
        "id": "--BCAvkkHqSo"
      },
      "source": [
        "##Broadcasting"
      ]
    },
    {
      "cell_type": "markdown",
      "metadata": {
        "id": "1Mn3DqznHum6"
      },
      "source": [
        "When possible, and if there’s no ambiguity, the smaller tensor will be broadcast to match the shape of the larger tensor. \n",
        "\n",
        "Broadcasting consists of two steps:\n",
        "1. Axes (called broadcast axes) are added to the smaller tensor to match the ndim of the larger tensor.\n",
        "2. The smaller tensor is repeated alongside these new axes to match the full shape of the larger tensor.\n",
        "\n",
        "Let’s look at a concrete example. Consider X with shape `(32, 10)` and y with shape `(10,)`:"
      ]
    },
    {
      "cell_type": "code",
      "metadata": {
        "id": "f58IbUoqDvJ-"
      },
      "source": [
        "X = np.random.random((32, 10))    # X is a random matrix with shape (32, 10).\n",
        "y = np.random.random((10, ))      # y is a random vector with shape (10,)."
      ],
      "execution_count": 14,
      "outputs": []
    },
    {
      "cell_type": "markdown",
      "metadata": {
        "id": "0lNYJWUJEKbv"
      },
      "source": [
        "First, we add an empty first axis to y, whose shape becomes `(1, 10)`:"
      ]
    },
    {
      "cell_type": "code",
      "metadata": {
        "id": "kdDFMjfzEGoJ",
        "outputId": "8b333369-9cea-47af-c071-3509935606a6",
        "colab": {
          "base_uri": "https://localhost:8080/"
        }
      },
      "source": [
        "y = np.expand_dims(y, axis=0)    # The shape of y is now (1, 10).\n",
        "y.shape"
      ],
      "execution_count": 15,
      "outputs": [
        {
          "output_type": "execute_result",
          "data": {
            "text/plain": [
              "(1, 10)"
            ]
          },
          "metadata": {},
          "execution_count": 15
        }
      ]
    },
    {
      "cell_type": "markdown",
      "metadata": {
        "id": "O3-HwHCUEc_R"
      },
      "source": [
        "Then, we repeat y 32 times alongside this new axis, so that we end up with a tensor Y with shape `(32, 10)`, where `Y[i, :] == y` for i in range`(0, 32)`:"
      ]
    },
    {
      "cell_type": "code",
      "metadata": {
        "id": "JopbQXUJEV9F",
        "outputId": "dc040242-6c6d-4a19-f9ef-a1c7648c5cd1",
        "colab": {
          "base_uri": "https://localhost:8080/"
        }
      },
      "source": [
        "# Repeat y 32 times along axis 0 to obtain Y, which has shape (32, 10).\n",
        "Y = np.concatenate([y] * 32, axis=0)\n",
        "Y.shape"
      ],
      "execution_count": 31,
      "outputs": [
        {
          "output_type": "execute_result",
          "data": {
            "text/plain": [
              "(32, 10)"
            ]
          },
          "metadata": {},
          "execution_count": 31
        }
      ]
    },
    {
      "cell_type": "markdown",
      "metadata": {
        "id": "1EbVPTnNG0M3"
      },
      "source": [
        "At this point, we can proceed to add X and Y, because they have the same shape.\n",
        "\n",
        "The repetition operation is entirely virtual: it happens at the\n",
        "algorithmic level rather than at the memory level. But thinking of the vector being repeated 10 times alongside a new axis is a helpful mental model."
      ]
    },
    {
      "cell_type": "code",
      "metadata": {
        "id": "6t4nYLgfHIso"
      },
      "source": [
        "def naive_add_matrix_and_vector(x, y):\n",
        "  assert len(x.shape) == 2   # x is a rank-2 NumPy tensor\n",
        "  assert len(y.shape) == 1   # y is a NumPy vector\n",
        "  assert len(x.shape[1]) == len(y.shape[0])\n",
        "\n",
        "  # Avoid overwriting the input tensor\n",
        "  x = x.copy()\n",
        "  for i in range(x.shape[0]):\n",
        "    for j in range(x.shape[1]):\n",
        "      x[i, j] += y[j]\n",
        "  return x            "
      ],
      "execution_count": 33,
      "outputs": []
    },
    {
      "cell_type": "markdown",
      "metadata": {
        "id": "oF7AVcuPJjpy"
      },
      "source": [
        "With broadcasting, you can generally perform element-wise operations that take two inputs tensors if one tensor has shape `(a, b, … n, n + 1, … m)` and the other has shape `(n, n + 1, … m)`. The broadcasting will then automatically happen for axes a through `n - 1`.\n",
        "\n",
        "The following example applies the element-wise maximum operation to two tensors\n",
        "of different shapes via broadcasting:"
      ]
    },
    {
      "cell_type": "code",
      "metadata": {
        "id": "Jux8gzwKJwyu",
        "outputId": "83bee2ff-4a23-45d4-a96e-3499b259bffa",
        "colab": {
          "base_uri": "https://localhost:8080/"
        }
      },
      "source": [
        "x = np.random.random((64, 3, 32, 10))   # x is a random tensor with shape (64, 3, 32, 10).\n",
        "y = np.random.random((32, 10))          # y is a random tensor with shape (32, 10).\n",
        "\n",
        "z = np.maximum(x, y)                    # The output z has shape (64, 3, 32, 10) like x\n",
        "z.shape"
      ],
      "execution_count": 34,
      "outputs": [
        {
          "output_type": "execute_result",
          "data": {
            "text/plain": [
              "(64, 3, 32, 10)"
            ]
          },
          "metadata": {},
          "execution_count": 34
        }
      ]
    },
    {
      "cell_type": "code",
      "metadata": {
        "id": "fveF8cJNKfeD",
        "outputId": "3c4aebcb-dd95-42b3-f0e1-46c3d3dc11e7",
        "colab": {
          "base_uri": "https://localhost:8080/"
        }
      },
      "source": [
        "x = np.random.random((64, 3, 32, 10))   # x is a random tensor with shape (64, 3, 32, 10).\n",
        "y = np.random.random((3, 32, 10))       # y is a random tensor with shape (3, 32, 10).\n",
        "\n",
        "z = np.maximum(x, y)                    # The output z has shape (64, 3, 32, 10) like x\n",
        "z.shape"
      ],
      "execution_count": 37,
      "outputs": [
        {
          "output_type": "execute_result",
          "data": {
            "text/plain": [
              "(64, 3, 32, 10)"
            ]
          },
          "metadata": {},
          "execution_count": 37
        }
      ]
    },
    {
      "cell_type": "markdown",
      "metadata": {
        "id": "ifvnemdHKcpe"
      },
      "source": [
        "##Tensor product"
      ]
    },
    {
      "cell_type": "markdown",
      "metadata": {
        "id": "jhD9CzmeKdhy"
      },
      "source": [
        ""
      ]
    }
  ]
}