{
  "nbformat": 4,
  "nbformat_minor": 0,
  "metadata": {
    "colab": {
      "name": "01-keras-model-fundamentals.ipynb",
      "provenance": [],
      "toc_visible": true,
      "authorship_tag": "ABX9TyMEBWct77Wk9oDr4v7yrHRo",
      "include_colab_link": true
    },
    "kernelspec": {
      "name": "python3",
      "display_name": "Python 3"
    },
    "language_info": {
      "name": "python"
    }
  },
  "cells": [
    {
      "cell_type": "markdown",
      "metadata": {
        "id": "view-in-github",
        "colab_type": "text"
      },
      "source": [
        "<a href=\"https://colab.research.google.com/github/rahiakela/deep-learning-research-and-practice/blob/main/deep-learning-with-python-by-francois-chollet/7-deep-dive-into-keras/01_keras_model_fundamentals.ipynb\" target=\"_parent\"><img src=\"https://colab.research.google.com/assets/colab-badge.svg\" alt=\"Open In Colab\"/></a>"
      ]
    },
    {
      "cell_type": "markdown",
      "source": [
        "##Keras model fundamentals"
      ],
      "metadata": {
        "id": "luPerGH_0G31"
      }
    },
    {
      "cell_type": "markdown",
      "source": [
        "There are three APIs for building models in Keras:\n",
        "\n",
        "* The Sequential model, the most approachable API—it’s basically a Python list. As such, it’s limited to simple stacks of layers.\n",
        "* The Functional API, which focuses on graph-like model architectures. It represents\n",
        "a nice mid-point between usability and flexibility, and as such, it’s the\n",
        "most commonly used model-building API.\n",
        "* Model subclassing, a low-level option where you write everything yourself from\n",
        "scratch. This is ideal if you want full control over every little thing. However, you\n",
        "won’t get access to many built-in Keras features, and you will be more at risk of\n",
        "making mistakes.\n",
        "\n",
        "<img src='https://github.com/rahiakela/deep-learning-research-and-practice/blob/main/deep-learning-with-python-by-francois-chollet/7-deep-dive-into-keras/images/1.png?raw=1' width='600'/>"
      ],
      "metadata": {
        "id": "TdZ1Nkni0Pga"
      }
    },
    {
      "cell_type": "markdown",
      "source": [
        "##Setup"
      ],
      "metadata": {
        "id": "USIIvxaF9LXp"
      }
    },
    {
      "cell_type": "code",
      "source": [
        "import tensorflow as tf\n",
        "from tensorflow import keras\n",
        "from tensorflow.keras import layers\n",
        "\n",
        "import random\n",
        "import string\n",
        "import re\n",
        "\n",
        "import numpy as np"
      ],
      "metadata": {
        "id": "t_xajM529MdN"
      },
      "execution_count": 1,
      "outputs": []
    },
    {
      "cell_type": "markdown",
      "source": [
        "##Sequential model"
      ],
      "metadata": {
        "id": "WyN_Mwlm9SSf"
      }
    },
    {
      "cell_type": "markdown",
      "source": [
        "The simplest way to build a Keras model is to use the Sequential model."
      ],
      "metadata": {
        "id": "-7MIA3a99S8p"
      }
    },
    {
      "cell_type": "code",
      "source": [
        "model = keras.Sequential([\n",
        "    layers.Dense(64, activation=\"relu\"),\n",
        "    layers.Dense(10, activation=\"softmax\")                      \n",
        "])"
      ],
      "metadata": {
        "id": "Yl4SfVWC-lQ0"
      },
      "execution_count": 2,
      "outputs": []
    },
    {
      "cell_type": "markdown",
      "source": [
        "Note that it’s possible to build the same model incrementally via the `add()` method,\n",
        "which is similar to the `append()` method of a Python list."
      ],
      "metadata": {
        "id": "lsxXM2oI-7QQ"
      }
    },
    {
      "cell_type": "code",
      "source": [
        "model = keras.Sequential()\n",
        "model.add(layers.Dense(64, activation=\"relu\"))\n",
        "model.add(layers.Dense(10, activation=\"softmax\"))"
      ],
      "metadata": {
        "id": "zeHqVyQN_AhE"
      },
      "execution_count": 3,
      "outputs": []
    },
    {
      "cell_type": "markdown",
      "source": [
        "As such, the preceding Sequential model does not have any weights, until you actually call it on some data, or call its\n",
        "method with an input shape `build()`."
      ],
      "metadata": {
        "id": "O51HRuPm_Ppq"
      }
    },
    {
      "cell_type": "code",
      "source": [
        "# At that point, the model isn’t built yet\n",
        "# model.weights"
      ],
      "metadata": {
        "id": "eEDNr-Wu_WNd"
      },
      "execution_count": 4,
      "outputs": []
    },
    {
      "cell_type": "markdown",
      "source": [
        "```log\n",
        "ValueError: Weights for model sequential_1 have not yet been created. Weights are created when the Model is first called on inputs or `build()` is called with an `input_shape`.\n",
        "```"
      ],
      "metadata": {
        "id": "wkXqlENi_f64"
      }
    },
    {
      "cell_type": "markdown",
      "source": [
        "Builds the model—now the model will expect samples of shape (3,). The\n",
        "None in the input shape signals that the batch size could be anything."
      ],
      "metadata": {
        "id": "jvX-mTaD_rlL"
      }
    },
    {
      "cell_type": "code",
      "source": [
        "model.build(input_shape=(None, 3))\n",
        "# Now you can retrieve the model’s weights\n",
        "model.weights"
      ],
      "metadata": {
        "id": "QkxZ0AFk_tro",
        "outputId": "5e0e44b4-8c9f-40c1-fd64-944d34cd6d64",
        "colab": {
          "base_uri": "https://localhost:8080/"
        }
      },
      "execution_count": 5,
      "outputs": [
        {
          "output_type": "execute_result",
          "data": {
            "text/plain": [
              "[<tf.Variable 'dense_2/kernel:0' shape=(3, 64) dtype=float32, numpy=\n",
              " array([[-0.21056874, -0.12314808,  0.23423874, -0.02400807,  0.10857916,\n",
              "          0.1970011 , -0.1485263 , -0.12418826,  0.0998418 , -0.00206509,\n",
              "         -0.2538972 , -0.20668472,  0.06265518, -0.09482916,  0.09345835,\n",
              "          0.23152119,  0.06565449,  0.03644684,  0.25797498,  0.23759824,\n",
              "         -0.29416925,  0.0999693 ,  0.03616938,  0.18761641,  0.28119934,\n",
              "         -0.09683216, -0.13382515,  0.18253055, -0.21043639,  0.02598289,\n",
              "         -0.12579186, -0.09721772,  0.14684892,  0.14754769, -0.12935331,\n",
              "         -0.17898145,  0.01912695, -0.04977247,  0.0581114 ,  0.03220195,\n",
              "          0.26588362, -0.01979271, -0.20433027, -0.07501104, -0.00453761,\n",
              "         -0.15279323, -0.05488822,  0.16248772, -0.12889576, -0.17337018,\n",
              "          0.14957097,  0.14020106,  0.09207636,  0.20403427, -0.0133546 ,\n",
              "         -0.27011508, -0.02674785,  0.0509285 , -0.17196642, -0.26655805,\n",
              "         -0.09708993,  0.09202376, -0.2602825 , -0.23288421],\n",
              "        [-0.1659853 ,  0.25387615, -0.19616918,  0.15166253, -0.28426164,\n",
              "         -0.07145017,  0.08652246,  0.06987995,  0.27216762,  0.05648711,\n",
              "         -0.24613394, -0.23892413,  0.29255277,  0.20168906, -0.22090262,\n",
              "          0.1571567 ,  0.1406165 ,  0.08236268, -0.21473107, -0.15132454,\n",
              "          0.1365256 ,  0.29874176,  0.2464714 ,  0.29032803, -0.05883102,\n",
              "         -0.20877856, -0.2147248 ,  0.27763438,  0.02526498,  0.22130972,\n",
              "          0.27948844,  0.18774247, -0.17296743,  0.28313136, -0.27674976,\n",
              "         -0.150806  ,  0.29490703,  0.10798419,  0.22387606, -0.15999633,\n",
              "         -0.18431994, -0.22788726,  0.05655497,  0.12997317,  0.14438343,\n",
              "          0.08581018, -0.16139224,  0.02484566,  0.18871039,  0.11068875,\n",
              "         -0.01575273, -0.19288436,  0.12281039,  0.23702174, -0.20575008,\n",
              "          0.23387086,  0.16662294,  0.21392637, -0.16562563,  0.03388554,\n",
              "         -0.09454697, -0.16215566, -0.04600933, -0.2635851 ],\n",
              "        [ 0.01382855,  0.00381488,  0.14499411, -0.10974839, -0.14322996,\n",
              "          0.09609735,  0.21136516, -0.25990236, -0.12321851, -0.03628558,\n",
              "         -0.07441929,  0.19425622, -0.24443059, -0.25693417,  0.2517454 ,\n",
              "         -0.046229  , -0.11057645, -0.19868147, -0.15237685, -0.04331595,\n",
              "          0.0591757 ,  0.15763843,  0.19019112, -0.10558578,  0.11544073,\n",
              "          0.09310603, -0.25496924,  0.19286367, -0.29303658, -0.0287829 ,\n",
              "          0.03803474, -0.03888726, -0.23013535, -0.18684444,  0.19779941,\n",
              "          0.09712389,  0.28800672,  0.24453896,  0.14872158,  0.2462182 ,\n",
              "         -0.07417279,  0.01372939,  0.23721099,  0.21386528,  0.05743375,\n",
              "         -0.04503077,  0.13769534,  0.00688747, -0.19608207, -0.10788387,\n",
              "         -0.12269796,  0.09100628,  0.11741632,  0.08363259,  0.10153052,\n",
              "          0.02859384, -0.17519061,  0.06251404,  0.14685547,  0.01893046,\n",
              "          0.06065515,  0.08224231, -0.28730804, -0.15258797]],\n",
              "       dtype=float32)>,\n",
              " <tf.Variable 'dense_2/bias:0' shape=(64,) dtype=float32, numpy=\n",
              " array([0., 0., 0., 0., 0., 0., 0., 0., 0., 0., 0., 0., 0., 0., 0., 0., 0.,\n",
              "        0., 0., 0., 0., 0., 0., 0., 0., 0., 0., 0., 0., 0., 0., 0., 0., 0.,\n",
              "        0., 0., 0., 0., 0., 0., 0., 0., 0., 0., 0., 0., 0., 0., 0., 0., 0.,\n",
              "        0., 0., 0., 0., 0., 0., 0., 0., 0., 0., 0., 0., 0.], dtype=float32)>,\n",
              " <tf.Variable 'dense_3/kernel:0' shape=(64, 10) dtype=float32, numpy=\n",
              " array([[-0.27223945, -0.25866544,  0.16425014,  0.1870625 ,  0.19753799,\n",
              "          0.05448151, -0.07512848,  0.17517185,  0.19005924, -0.20401832],\n",
              "        [ 0.23802838, -0.27383742,  0.1322226 , -0.23859254, -0.2665739 ,\n",
              "          0.21247634,  0.17094257, -0.1138774 , -0.12870443,  0.01040095],\n",
              "        [ 0.24054262,  0.13880491, -0.12866852, -0.23185101, -0.16882056,\n",
              "          0.11989298,  0.01965252,  0.03109699, -0.09468122,  0.21133515],\n",
              "        [ 0.24956444, -0.05226324,  0.25295094, -0.1043694 , -0.0505147 ,\n",
              "         -0.24206758,  0.06930828,  0.00092131,  0.13338247,  0.23433563],\n",
              "        [-0.04565072,  0.12248391, -0.2411552 ,  0.12271181,  0.107932  ,\n",
              "         -0.00832713,  0.08650357, -0.14267682,  0.1135858 ,  0.21491107],\n",
              "        [ 0.1932292 ,  0.01878402, -0.23386243, -0.14250642, -0.06835228,\n",
              "          0.11714828, -0.22454804,  0.23789069, -0.07705756, -0.10202898],\n",
              "        [-0.22858304,  0.06864828, -0.0066644 ,  0.27693865, -0.181289  ,\n",
              "          0.07300106,  0.19342831,  0.01678687,  0.12792465, -0.19856936],\n",
              "        [ 0.00511387, -0.13962378,  0.22508761,  0.1715734 ,  0.25290146,\n",
              "         -0.2094893 ,  0.04356748, -0.00137496,  0.2185643 ,  0.03553244],\n",
              "        [-0.2341384 , -0.26277143,  0.17257705, -0.23375767,  0.10346085,\n",
              "          0.05255076, -0.2575995 , -0.05040939,  0.21047235,  0.20000318],\n",
              "        [ 0.21800193,  0.02453464, -0.00430763,  0.04092598,  0.09603915,\n",
              "          0.07809421, -0.1208621 , -0.1768784 , -0.19459784,  0.1255666 ],\n",
              "        [ 0.24453625,  0.06365666, -0.18796054, -0.06923491, -0.161629  ,\n",
              "          0.01416785,  0.20713145, -0.26808545, -0.16848709,  0.00282234],\n",
              "        [ 0.04405662,  0.01971817, -0.01849025,  0.24997273, -0.06423269,\n",
              "          0.26889738,  0.03112897,  0.22602442, -0.09837507,  0.1108458 ],\n",
              "        [ 0.05772907, -0.16388902, -0.12301655, -0.01284733,  0.20383361,\n",
              "         -0.04750198, -0.22373718,  0.13697761, -0.26854506,  0.22518358],\n",
              "        [ 0.24277577,  0.22507337,  0.23220524,  0.19818366, -0.06312814,\n",
              "         -0.02564102, -0.19210128, -0.12027648, -0.23011726, -0.01240298],\n",
              "        [-0.20381398,  0.07334137,  0.22950187,  0.00217259,  0.1150178 ,\n",
              "         -0.02399531, -0.04575452, -0.05775282, -0.171248  ,  0.1962618 ],\n",
              "        [ 0.01782155, -0.11016095, -0.04877606,  0.252623  , -0.00777358,\n",
              "         -0.17661409,  0.23442784, -0.26309282,  0.0281578 ,  0.09968722],\n",
              "        [ 0.22982827, -0.10305221,  0.26708356,  0.22136006,  0.04131272,\n",
              "         -0.17176029, -0.24130307,  0.2821308 ,  0.00074881,  0.22286662],\n",
              "        [-0.0945261 ,  0.21323523,  0.00947875,  0.19260517,  0.25288984,\n",
              "          0.15965772, -0.20663151,  0.09953374,  0.2124919 ,  0.26163754],\n",
              "        [ 0.22130623, -0.01302478, -0.16448551,  0.14265579, -0.24479671,\n",
              "         -0.2502936 ,  0.0064995 ,  0.27041683,  0.12004355, -0.00733548],\n",
              "        [ 0.23672125,  0.10745692, -0.15536427,  0.09882748, -0.1232689 ,\n",
              "          0.21458459,  0.08631492, -0.04724903, -0.01908383, -0.08243193],\n",
              "        [ 0.15557662, -0.18634611,  0.22177055,  0.20792568,  0.00483751,\n",
              "          0.16069928,  0.23151156, -0.21181267,  0.07769504,  0.02300218],\n",
              "        [ 0.15312672, -0.03174263, -0.24914542, -0.2450902 ,  0.20832649,\n",
              "         -0.14629449, -0.27812752, -0.2682035 ,  0.23877099,  0.21377155],\n",
              "        [-0.27768096, -0.18589202,  0.15422916,  0.00630677, -0.07958642,\n",
              "         -0.11965753, -0.17408583,  0.1907374 , -0.26237836,  0.05568057],\n",
              "        [ 0.09455752,  0.26971778,  0.1224505 , -0.20785114,  0.26073292,\n",
              "          0.02158329, -0.26854098,  0.00268582, -0.22708167,  0.20229441],\n",
              "        [-0.04307127,  0.20667401,  0.20022422,  0.2445992 ,  0.25045696,\n",
              "          0.05307487, -0.26911402,  0.13832614,  0.27434793,  0.06760338],\n",
              "        [-0.21942955, -0.15722205, -0.03148106, -0.2656685 , -0.05587712,\n",
              "         -0.07710107, -0.15954447,  0.27998373,  0.13692811, -0.05362979],\n",
              "        [-0.18277544, -0.05537616,  0.27777782, -0.24381259,  0.06114036,\n",
              "         -0.2098986 , -0.17936869,  0.16848531,  0.24275962,  0.17659405],\n",
              "        [ 0.21919027, -0.25263363,  0.13899234, -0.26329505, -0.23389427,\n",
              "          0.02240956, -0.26413444,  0.01009992, -0.16055304, -0.077519  ],\n",
              "        [ 0.10740024, -0.19043651,  0.12412933, -0.24237478, -0.26700664,\n",
              "          0.14260092,  0.15059215,  0.15765953, -0.10559894,  0.07694894],\n",
              "        [ 0.01690817, -0.26521346,  0.03271398, -0.01692304,  0.19487572,\n",
              "          0.20156774, -0.14235245, -0.07555422,  0.03326625, -0.24219051],\n",
              "        [ 0.10028771, -0.09228793,  0.08453718,  0.17757776,  0.0051876 ,\n",
              "          0.07022485,  0.09551266,  0.0024552 , -0.13148104, -0.00901622],\n",
              "        [-0.13119468,  0.27055642,  0.19314638,  0.20967811, -0.2166385 ,\n",
              "          0.18014798,  0.06970313, -0.1935074 ,  0.22153792,  0.01911655],\n",
              "        [ 0.23767182, -0.10048723, -0.19455153,  0.21775511,  0.15448666,\n",
              "         -0.11863548,  0.04195347, -0.10037406,  0.14689225,  0.24854967],\n",
              "        [ 0.03675875, -0.1029406 ,  0.25573286,  0.14688838, -0.13929357,\n",
              "          0.0749363 ,  0.04153651,  0.2523599 ,  0.18359134, -0.10122545],\n",
              "        [-0.07900156, -0.0469626 ,  0.19905218,  0.06290811, -0.05383529,\n",
              "         -0.28172272, -0.01874104, -0.03748603, -0.0980991 , -0.09326309],\n",
              "        [-0.03651121, -0.0539367 ,  0.17967778, -0.09335697,  0.24987319,\n",
              "         -0.27794737,  0.14051151,  0.2534131 ,  0.22836867,  0.17255282],\n",
              "        [-0.2760218 ,  0.19487524,  0.08017448,  0.21280536, -0.05022562,\n",
              "          0.10890642,  0.11071172, -0.08481035,  0.21943066, -0.04014565],\n",
              "        [ 0.13402823,  0.14458248,  0.16489726, -0.09735517,  0.2657481 ,\n",
              "         -0.04580924, -0.20446014, -0.12136392, -0.15483664, -0.21600482],\n",
              "        [-0.12728393, -0.08856122,  0.28163192,  0.00740916,  0.00774887,\n",
              "         -0.12835284, -0.10492684, -0.2832119 ,  0.0210391 ,  0.08440852],\n",
              "        [-0.2508152 ,  0.20725515, -0.01509106, -0.09596941, -0.08373635,\n",
              "          0.1247406 , -0.09495108, -0.1334192 , -0.0465277 , -0.15421993],\n",
              "        [ 0.17060897, -0.25813785,  0.14495218,  0.26003578, -0.09159192,\n",
              "         -0.13612565, -0.06299542,  0.18646356,  0.13405809,  0.03193855],\n",
              "        [ 0.26099774, -0.07892762,  0.26186147,  0.2521704 ,  0.24709854,\n",
              "          0.26385358,  0.02818632,  0.01177704,  0.21172366,  0.13381833],\n",
              "        [-0.00969103,  0.11718577, -0.16929823,  0.25068524, -0.1358364 ,\n",
              "         -0.10364468,  0.27491972, -0.08528544, -0.09903331, -0.12236421],\n",
              "        [-0.25384626, -0.11750016,  0.2420269 , -0.27746546, -0.0762752 ,\n",
              "          0.17081454, -0.22899404,  0.18662393,  0.02638999,  0.26100203],\n",
              "        [-0.15693271,  0.17119518, -0.17109159, -0.18308276, -0.07005405,\n",
              "         -0.04248857,  0.18297821,  0.18383694, -0.2523776 , -0.13642295],\n",
              "        [ 0.16229641, -0.26611748,  0.16074991,  0.10400653,  0.02439588,\n",
              "         -0.1309236 ,  0.06555343, -0.19608054,  0.01347855, -0.1817152 ],\n",
              "        [-0.1345055 , -0.13449708, -0.13155164,  0.08013558,  0.12278911,\n",
              "         -0.0189369 ,  0.15795213, -0.09785829, -0.16722198, -0.17919293],\n",
              "        [ 0.03944939, -0.28094575, -0.2605046 , -0.27892488, -0.02555916,\n",
              "         -0.08110701, -0.0695419 , -0.26352906, -0.13839906, -0.20769717],\n",
              "        [-0.21148606, -0.26909643, -0.03531793,  0.10561475,  0.18037555,\n",
              "         -0.11525983, -0.16100918,  0.06960395,  0.24598065, -0.15396677],\n",
              "        [-0.22945365, -0.11789595,  0.17617941,  0.2760099 ,  0.05413419,\n",
              "          0.15727201,  0.25860217,  0.01902816, -0.22361329, -0.06884372],\n",
              "        [-0.21651372,  0.08793849,  0.06729075, -0.02741233,  0.02717403,\n",
              "          0.02310178,  0.00478679,  0.26743647,  0.08044034, -0.14553855],\n",
              "        [ 0.25712493, -0.01415527, -0.05364458, -0.21564446,  0.04092333,\n",
              "          0.2154856 , -0.07399461, -0.18054506,  0.07394913,  0.13776791],\n",
              "        [-0.20490095, -0.19370157,  0.2743918 , -0.15057558, -0.11938863,\n",
              "         -0.23497595,  0.20086595,  0.2593691 , -0.18622854, -0.1998502 ],\n",
              "        [-0.20996413,  0.01435685, -0.2811397 ,  0.26027068,  0.07673907,\n",
              "          0.2050345 , -0.03524156,  0.09228337, -0.09175615,  0.08370206],\n",
              "        [-0.19956923, -0.21906221,  0.2550322 , -0.15343738, -0.24163254,\n",
              "          0.09105757,  0.07309148,  0.2735698 ,  0.04497996, -0.26177874],\n",
              "        [ 0.02618068,  0.23157355, -0.19915313, -0.23269114,  0.07855973,\n",
              "          0.23092726, -0.2779147 , -0.23143275, -0.27778992,  0.19257113],\n",
              "        [-0.10680336,  0.18961403, -0.2042493 ,  0.14358532,  0.06497392,\n",
              "         -0.0502079 , -0.08541769,  0.2377362 , -0.21880837, -0.16991547],\n",
              "        [-0.18887289, -0.21269727, -0.17561653,  0.13778588,  0.2645901 ,\n",
              "          0.04084805, -0.08976422,  0.19849515, -0.13302748, -0.0883338 ],\n",
              "        [ 0.19264507,  0.17687288,  0.24468854, -0.10079986,  0.19135696,\n",
              "          0.01490349, -0.03866234, -0.12909357,  0.28321287, -0.23382285],\n",
              "        [ 0.0817478 ,  0.24335065, -0.18587497,  0.23927554, -0.05152427,\n",
              "          0.17553881, -0.08366805, -0.09980276,  0.02051485,  0.15196058],\n",
              "        [ 0.0420714 ,  0.18035212, -0.21034674, -0.04543775, -0.12581386,\n",
              "          0.1869382 ,  0.2666441 ,  0.03563964, -0.0175589 , -0.02692494],\n",
              "        [ 0.13942283, -0.1301929 , -0.08777052,  0.2627218 ,  0.1584818 ,\n",
              "          0.19076896, -0.21492349, -0.11575867, -0.17364368,  0.02352661],\n",
              "        [ 0.05836606,  0.28110126,  0.19636181,  0.02612576,  0.24956462,\n",
              "          0.0811142 , -0.11317305, -0.06456324,  0.1171172 , -0.0441338 ],\n",
              "        [ 0.07844058,  0.2784898 , -0.16891228, -0.26297843, -0.15533942,\n",
              "          0.12227505, -0.06574194, -0.09332256, -0.16893026, -0.13325001]],\n",
              "       dtype=float32)>,\n",
              " <tf.Variable 'dense_3/bias:0' shape=(10,) dtype=float32, numpy=array([0., 0., 0., 0., 0., 0., 0., 0., 0., 0.], dtype=float32)>]"
            ]
          },
          "metadata": {},
          "execution_count": 5
        }
      ]
    },
    {
      "cell_type": "markdown",
      "source": [
        "After the model is built, you can display its contents via the\n",
        "method, which `summary()` comes in handy for debugging."
      ],
      "metadata": {
        "id": "pkhgv9VSACXK"
      }
    },
    {
      "cell_type": "code",
      "source": [
        "model.summary()"
      ],
      "metadata": {
        "id": "ob6Gx9h0AF16",
        "outputId": "69d86c5a-f762-4b4e-fa51-08ab48658913",
        "colab": {
          "base_uri": "https://localhost:8080/"
        }
      },
      "execution_count": 6,
      "outputs": [
        {
          "output_type": "stream",
          "name": "stdout",
          "text": [
            "Model: \"sequential_1\"\n",
            "_________________________________________________________________\n",
            " Layer (type)                Output Shape              Param #   \n",
            "=================================================================\n",
            " dense_2 (Dense)             (None, 64)                256       \n",
            "                                                                 \n",
            " dense_3 (Dense)             (None, 10)                650       \n",
            "                                                                 \n",
            "=================================================================\n",
            "Total params: 906\n",
            "Trainable params: 906\n",
            "Non-trainable params: 0\n",
            "_________________________________________________________________\n"
          ]
        }
      ]
    },
    {
      "cell_type": "markdown",
      "source": [
        "As you can see, this model happens to be named “sequential_1.” You can give names\n",
        "to everything in Keras—every model, every layer."
      ],
      "metadata": {
        "id": "nhjBPi8XAL4C"
      }
    },
    {
      "cell_type": "code",
      "source": [
        "model = keras.Sequential(name=\"my_example_model\")\n",
        "model.add(layers.Dense(64, activation=\"relu\", name=\"my_first_layer\"))\n",
        "model.add(layers.Dense(10, activation=\"softmax\", name=\"my_last_layer\"))\n",
        "\n",
        "model.build((None, 3))\n",
        "model.summary()"
      ],
      "metadata": {
        "id": "NJ8veYt-AMyy",
        "outputId": "09cd12d3-caee-4d0c-d948-2f66d85ac462",
        "colab": {
          "base_uri": "https://localhost:8080/"
        }
      },
      "execution_count": 7,
      "outputs": [
        {
          "output_type": "stream",
          "name": "stdout",
          "text": [
            "Model: \"my_example_model\"\n",
            "_________________________________________________________________\n",
            " Layer (type)                Output Shape              Param #   \n",
            "=================================================================\n",
            " my_first_layer (Dense)      (None, 64)                256       \n",
            "                                                                 \n",
            " my_last_layer (Dense)       (None, 10)                650       \n",
            "                                                                 \n",
            "=================================================================\n",
            "Total params: 906\n",
            "Trainable params: 906\n",
            "Non-trainable params: 0\n",
            "_________________________________________________________________\n"
          ]
        }
      ]
    },
    {
      "cell_type": "markdown",
      "source": [
        "But you can’t print a summary until the model is built! \n",
        "\n",
        "There’s actually a way to have your Sequential\n",
        "built on the fly: just declare the shape of the model’s inputs in advance. You can do this via the Input class."
      ],
      "metadata": {
        "id": "h8MWD0tkAvrr"
      }
    },
    {
      "cell_type": "code",
      "source": [
        "model = keras.Sequential(name=\"my_example_model\")\n",
        "model.add(keras.Input(shape=(3, )))\n",
        "model.add(layers.Dense(64, activation=\"relu\", name=\"my_first_layer\"))"
      ],
      "metadata": {
        "id": "LNkJexZ1A0zb"
      },
      "execution_count": 8,
      "outputs": []
    },
    {
      "cell_type": "markdown",
      "source": [
        "Now you can use `summary()` to follow how the output shape of your model changes as\n",
        "you add more layers"
      ],
      "metadata": {
        "id": "2hQvm5A4BIIl"
      }
    },
    {
      "cell_type": "code",
      "source": [
        "model.summary()"
      ],
      "metadata": {
        "id": "Cd3DVpWQBLV2",
        "outputId": "ded62e02-3fa5-474a-aa36-f4deb3d6fafe",
        "colab": {
          "base_uri": "https://localhost:8080/"
        }
      },
      "execution_count": 9,
      "outputs": [
        {
          "output_type": "stream",
          "name": "stdout",
          "text": [
            "Model: \"my_example_model\"\n",
            "_________________________________________________________________\n",
            " Layer (type)                Output Shape              Param #   \n",
            "=================================================================\n",
            " my_first_layer (Dense)      (None, 64)                256       \n",
            "                                                                 \n",
            "=================================================================\n",
            "Total params: 256\n",
            "Trainable params: 256\n",
            "Non-trainable params: 0\n",
            "_________________________________________________________________\n"
          ]
        }
      ]
    },
    {
      "cell_type": "code",
      "source": [
        "model.add(layers.Dense(10, activation=\"softmax\", name=\"my_last_layer\"))\n",
        "\n",
        "model.summary()"
      ],
      "metadata": {
        "id": "2IDN1OUHBSys",
        "outputId": "7521313a-f842-4d40-c607-acd69efaeecd",
        "colab": {
          "base_uri": "https://localhost:8080/"
        }
      },
      "execution_count": 10,
      "outputs": [
        {
          "output_type": "stream",
          "name": "stdout",
          "text": [
            "Model: \"my_example_model\"\n",
            "_________________________________________________________________\n",
            " Layer (type)                Output Shape              Param #   \n",
            "=================================================================\n",
            " my_first_layer (Dense)      (None, 64)                256       \n",
            "                                                                 \n",
            " my_last_layer (Dense)       (None, 10)                650       \n",
            "                                                                 \n",
            "=================================================================\n",
            "Total params: 906\n",
            "Trainable params: 906\n",
            "Non-trainable params: 0\n",
            "_________________________________________________________________\n"
          ]
        }
      ]
    },
    {
      "cell_type": "markdown",
      "source": [
        "This is a pretty common debugging workflow when dealing with layers that transform\n",
        "their inputs in complex ways, such as the convolutional layers."
      ],
      "metadata": {
        "id": "Ey1M076XBZIT"
      }
    },
    {
      "cell_type": "markdown",
      "source": [
        "##Functional API"
      ],
      "metadata": {
        "id": "2LZ856EkBaDd"
      }
    },
    {
      "cell_type": "markdown",
      "source": [
        "The Sequential model is easy to use, but its applicability is extremely limited: it can\n",
        "only express models with a single input and a single output, applying one layer after\n",
        "the other in a sequential fashion.\n",
        "\n",
        "Let’s start with something simple."
      ],
      "metadata": {
        "id": "lb5R-ufpBfks"
      }
    },
    {
      "cell_type": "code",
      "source": [
        "inputs = keras.Input(shape=(3, ), name=\"my_input\")\n",
        "features = layers.Dense(64, activation=\"relu\")(inputs)\n",
        "outputs = layers.Dense(10, activation=\"softmax\")(features)\n",
        "\n",
        "model = keras.Model(inputs=inputs, outputs=outputs)"
      ],
      "metadata": {
        "id": "1EWQl1zB8Wrp"
      },
      "execution_count": 11,
      "outputs": []
    },
    {
      "cell_type": "markdown",
      "source": [
        "This inputs object holds information about the shape and dtype of the data that the\n",
        "model will process:"
      ],
      "metadata": {
        "id": "kpRgefBCB-eZ"
      }
    },
    {
      "cell_type": "code",
      "source": [
        "inputs.shape"
      ],
      "metadata": {
        "id": "iLGXl_PGB-_t",
        "outputId": "135de006-81ee-4ff5-e008-faf150097a33",
        "colab": {
          "base_uri": "https://localhost:8080/"
        }
      },
      "execution_count": 12,
      "outputs": [
        {
          "output_type": "execute_result",
          "data": {
            "text/plain": [
              "TensorShape([None, 3])"
            ]
          },
          "metadata": {},
          "execution_count": 12
        }
      ]
    },
    {
      "cell_type": "code",
      "source": [
        "inputs.dtype"
      ],
      "metadata": {
        "id": "y9jbzGXqIHMF",
        "outputId": "323f10d8-9bc0-4dbe-dd63-81ab462d9bc4",
        "colab": {
          "base_uri": "https://localhost:8080/"
        }
      },
      "execution_count": 13,
      "outputs": [
        {
          "output_type": "execute_result",
          "data": {
            "text/plain": [
              "tf.float32"
            ]
          },
          "metadata": {},
          "execution_count": 13
        }
      ]
    },
    {
      "cell_type": "markdown",
      "source": [
        "We call such an object a symbolic tensor. It doesn’t contain any actual data, but it\n",
        "encodes the specifications of the actual tensors of data that the model will see when\n",
        "you use it. It stands for future tensors of data.\n",
        "\n",
        "All Keras layers can be called both on real tensors of data and on these symbolic tensors."
      ],
      "metadata": {
        "id": "DNawZBJXIQ2a"
      }
    },
    {
      "cell_type": "code",
      "source": [
        "features.shape"
      ],
      "metadata": {
        "id": "ldN80GiEIYy6",
        "outputId": "1fd7fe3a-fb14-4d9d-a299-e7e6031229b6",
        "colab": {
          "base_uri": "https://localhost:8080/"
        }
      },
      "execution_count": 14,
      "outputs": [
        {
          "output_type": "execute_result",
          "data": {
            "text/plain": [
              "TensorShape([None, 64])"
            ]
          },
          "metadata": {},
          "execution_count": 14
        }
      ]
    },
    {
      "cell_type": "code",
      "source": [
        "features.dtype"
      ],
      "metadata": {
        "id": "5SzMp1moIcKu",
        "outputId": "18fe048c-3935-47f3-aaaf-eec39ce59597",
        "colab": {
          "base_uri": "https://localhost:8080/"
        }
      },
      "execution_count": 15,
      "outputs": [
        {
          "output_type": "execute_result",
          "data": {
            "text/plain": [
              "tf.float32"
            ]
          },
          "metadata": {},
          "execution_count": 15
        }
      ]
    },
    {
      "cell_type": "markdown",
      "source": [
        "Here’s the summary of our model:"
      ],
      "metadata": {
        "id": "dbd_iHx4Il5f"
      }
    },
    {
      "cell_type": "code",
      "source": [
        "model.summary()"
      ],
      "metadata": {
        "id": "63EnCSccImR5",
        "outputId": "070243bf-075c-4bf4-8f47-70fa5e409e70",
        "colab": {
          "base_uri": "https://localhost:8080/"
        }
      },
      "execution_count": 16,
      "outputs": [
        {
          "output_type": "stream",
          "name": "stdout",
          "text": [
            "Model: \"model\"\n",
            "_________________________________________________________________\n",
            " Layer (type)                Output Shape              Param #   \n",
            "=================================================================\n",
            " my_input (InputLayer)       [(None, 3)]               0         \n",
            "                                                                 \n",
            " dense_4 (Dense)             (None, 64)                256       \n",
            "                                                                 \n",
            " dense_5 (Dense)             (None, 10)                650       \n",
            "                                                                 \n",
            "=================================================================\n",
            "Total params: 906\n",
            "Trainable params: 906\n",
            "Non-trainable params: 0\n",
            "_________________________________________________________________\n"
          ]
        }
      ]
    },
    {
      "cell_type": "markdown",
      "source": [
        "###Creating multi-input and multi-output"
      ],
      "metadata": {
        "id": "pFGGFITSJ7Hh"
      }
    },
    {
      "cell_type": "markdown",
      "source": [
        "As you will see, most deep learning models don’t look like lists—they look like\n",
        "graphs. They may, for instance, have multiple inputs or multiple outputs. It’s for this\n",
        "kind of model that the Functional API really shines.\n",
        "\n",
        "Let’s say you’re building a system to rank customer support tickets by priority and\n",
        "route them to the appropriate department. Your model has three inputs:\n",
        "\n",
        "* The title of the ticket (text input)\n",
        "* The text body of the ticket (text input)\n",
        "* Any tags added by the user (categorical input, assumed here to be one-hot\n",
        "encoded)\n",
        "\n",
        "Your model also has two outputs:\n",
        "* The priority score of the ticket, a scalar between 0 and 1 (sigmoid output)\n",
        "* The department that should handle the ticket (a softmax over the set of departments)"
      ],
      "metadata": {
        "id": "QaXKEWvTKA85"
      }
    },
    {
      "cell_type": "code",
      "source": [
        "vocabulary_size = 10000\n",
        "num_tags = 100\n",
        "num_departments = 4\n",
        "\n",
        "# Define model inputs\n",
        "title = keras.Input(shape=(vocabulary_size, ), name=\"title\")\n",
        "text_body = keras.Input(shape=(vocabulary_size, ), name=\"text_body\")\n",
        "tags = keras.Input(shape=(num_tags, ), name=\"tags\")\n",
        "\n",
        "# Combine input features into a single tensor, features, by concatenating them.\n",
        "features = layers.Concatenate()([title, text_body, tags])\n",
        "# Apply an intermediate layer to recombine input features into richer representations\n",
        "features = layers.Dense(64, activation=\"relu\")(features)\n",
        "\n",
        "# Define model outputs\n",
        "priority = layers.Dense(1, activation=\"sigmoid\", name=\"priority\")(features)\n",
        "department = layers.Dense(num_departments, activation=\"softmax\", name=\"department\")(features)\n",
        "\n",
        "# Create the model by specifying its inputs and outputs\n",
        "model = keras.Model(inputs=[title, text_body, tags], outputs=[priority, department])"
      ],
      "metadata": {
        "id": "5ykqtgT3mHzo"
      },
      "execution_count": 17,
      "outputs": []
    },
    {
      "cell_type": "markdown",
      "source": [
        "The Functional API is a simple, LEGO-like, yet very flexible way to define arbitrary\n",
        "graphs of layers like these."
      ],
      "metadata": {
        "id": "XYkuviF6paEq"
      }
    },
    {
      "cell_type": "markdown",
      "source": [
        "###Training multi-input and multi-output"
      ],
      "metadata": {
        "id": "jprxmPbpplwM"
      }
    },
    {
      "cell_type": "markdown",
      "source": [
        "You can train your model in much the same way as you would train a Sequential\n",
        "model, by calling `fit()` with lists of input and output data."
      ],
      "metadata": {
        "id": "s2rFA0DxpndV"
      }
    },
    {
      "cell_type": "code",
      "source": [
        "num_samples = 1280\n",
        "\n",
        "# dummy input data\n",
        "title_data = np.random.randint(0, 2, size=(num_samples, vocabulary_size))\n",
        "text_body_data = np.random.randint(0, 2, size=(num_samples, vocabulary_size))\n",
        "tags_data = np.random.randint(0, 2, size=(num_samples, num_tags))\n",
        "\n",
        "# dummy target data\n",
        "priority_data = np.random.random(size=(num_samples, 1))\n",
        "department_data = np.random.randint(0, 2, size=(num_samples, num_departments))\n",
        "\n",
        "model.compile(optimizer=\"rmsprop\", loss=[\"mean_squared_error\", \"categorical_crossentropy\"], metrics=[[\"mean_absolute_error\"], [\"accuracy\"]])\n",
        "model.fit([title_data, text_body_data, tags_data], [priority_data, department_data], epochs=1)"
      ],
      "metadata": {
        "id": "T-4e6nqsp5G3",
        "outputId": "33b98689-2864-4563-80fa-d1c2e4546ebe",
        "colab": {
          "base_uri": "https://localhost:8080/"
        }
      },
      "execution_count": 18,
      "outputs": [
        {
          "output_type": "stream",
          "name": "stdout",
          "text": [
            "40/40 [==============================] - 2s 18ms/step - loss: 36.6169 - priority_loss: 0.3245 - department_loss: 36.2924 - priority_mean_absolute_error: 0.4922 - department_accuracy: 0.2180\n"
          ]
        },
        {
          "output_type": "execute_result",
          "data": {
            "text/plain": [
              "<keras.callbacks.History at 0x7f28b6a70110>"
            ]
          },
          "metadata": {},
          "execution_count": 18
        }
      ]
    },
    {
      "cell_type": "code",
      "source": [
        "model.evaluate([title_data, text_body_data, tags_data], [priority_data, department_data])"
      ],
      "metadata": {
        "id": "9IhBpXY2rP1t",
        "outputId": "039f98b3-5578-4246-99d0-dbf5e29c0ac6",
        "colab": {
          "base_uri": "https://localhost:8080/"
        }
      },
      "execution_count": 20,
      "outputs": [
        {
          "output_type": "stream",
          "name": "stdout",
          "text": [
            "40/40 [==============================] - 1s 11ms/step - loss: 24.9259 - priority_loss: 0.3343 - department_loss: 24.5917 - priority_mean_absolute_error: 0.5014 - department_accuracy: 0.2336\n"
          ]
        },
        {
          "output_type": "execute_result",
          "data": {
            "text/plain": [
              "[24.92593765258789,\n",
              " 0.3342789113521576,\n",
              " 24.591663360595703,\n",
              " 0.501447856426239,\n",
              " 0.23359374701976776]"
            ]
          },
          "metadata": {},
          "execution_count": 20
        }
      ]
    },
    {
      "cell_type": "code",
      "source": [
        "priority_preds, department_preds = model.predict([title_data, text_body_data, tags_data])"
      ],
      "metadata": {
        "id": "c5vmuHX6rXKh"
      },
      "execution_count": 21,
      "outputs": []
    },
    {
      "cell_type": "code",
      "source": [
        "priority_preds"
      ],
      "metadata": {
        "id": "-g4tw2vfsxQ2",
        "outputId": "cc4c435b-e24c-4653-b906-978283d0de51",
        "colab": {
          "base_uri": "https://localhost:8080/"
        }
      },
      "execution_count": 22,
      "outputs": [
        {
          "output_type": "execute_result",
          "data": {
            "text/plain": [
              "array([[0.],\n",
              "       [0.],\n",
              "       [0.],\n",
              "       ...,\n",
              "       [0.],\n",
              "       [0.],\n",
              "       [0.]], dtype=float32)"
            ]
          },
          "metadata": {},
          "execution_count": 22
        }
      ]
    },
    {
      "cell_type": "code",
      "source": [
        "department_preds"
      ],
      "metadata": {
        "id": "BpPO29g-syiM",
        "outputId": "aff91669-4655-4995-a2d0-7595f3df0e28",
        "colab": {
          "base_uri": "https://localhost:8080/"
        }
      },
      "execution_count": 23,
      "outputs": [
        {
          "output_type": "execute_result",
          "data": {
            "text/plain": [
              "array([[6.2746610e-03, 9.9372536e-01, 1.8103205e-11, 2.1242440e-11],\n",
              "       [1.3679593e-02, 9.8632044e-01, 2.6111837e-11, 4.1389243e-11],\n",
              "       [2.6674797e-03, 9.9733257e-01, 3.5672062e-12, 2.7331439e-11],\n",
              "       ...,\n",
              "       [4.0120251e-02, 9.5987976e-01, 4.0027277e-11, 1.4289987e-10],\n",
              "       [7.5983834e-03, 9.9240160e-01, 1.5337906e-11, 3.7643284e-11],\n",
              "       [1.1326045e-01, 8.8673961e-01, 2.2551412e-11, 3.7989478e-10]],\n",
              "      dtype=float32)"
            ]
          },
          "metadata": {},
          "execution_count": 23
        }
      ]
    },
    {
      "cell_type": "markdown",
      "source": [
        "If you don’t want to rely on input order (for instance, because you have many inputs\n",
        "or outputs), you can also leverage the names you gave to the Input objects and the\n",
        "output layers, and pass data via dictionaries."
      ],
      "metadata": {
        "id": "XMSJU-gQs5hp"
      }
    },
    {
      "cell_type": "code",
      "source": [
        "model.compile(optimizer=\"rmsprop\", \n",
        "              loss={\"priority\": \"mean_squared_error\", \"department\": \"categorical_crossentropy\"}, \n",
        "              metrics={\"priority\": [\"mean_absolute_error\"], \"department\": [\"accuracy\"]})\n",
        "model.fit({\"title\": title_data, \"text_body\": text_body_data, \"tags\": tags_data}, \n",
        "          {\"priority\": priority_data, \"department\": department_data}, epochs=1)\n",
        "model.evaluate({\"title\": title_data, \"text_body\": text_body_data, \"tags\": tags_data}, \n",
        "          {\"priority\": priority_data, \"department\": department_data})"
      ],
      "metadata": {
        "id": "kHwYjHPus6Ij",
        "outputId": "dff4670c-0ddd-4872-d7ec-4c7d2faa76fc",
        "colab": {
          "base_uri": "https://localhost:8080/"
        }
      },
      "execution_count": 24,
      "outputs": [
        {
          "output_type": "stream",
          "name": "stdout",
          "text": [
            "40/40 [==============================] - 2s 19ms/step - loss: 49.5647 - priority_loss: 0.3343 - department_loss: 49.2304 - priority_mean_absolute_error: 0.5014 - department_accuracy: 0.2391\n",
            "40/40 [==============================] - 0s 7ms/step - loss: 52.7017 - priority_loss: 0.3343 - department_loss: 52.3675 - priority_mean_absolute_error: 0.5014 - department_accuracy: 0.5836\n"
          ]
        },
        {
          "output_type": "execute_result",
          "data": {
            "text/plain": [
              "[52.70172882080078,\n",
              " 0.3342789113521576,\n",
              " 52.36745071411133,\n",
              " 0.501447856426239,\n",
              " 0.5835937261581421]"
            ]
          },
          "metadata": {},
          "execution_count": 24
        }
      ]
    },
    {
      "cell_type": "code",
      "source": [
        "priority_preds, department_preds = model.predict({\"title\": title_data, \"text_body\": text_body_data, \"tags\": tags_data})"
      ],
      "metadata": {
        "id": "lIE7u6yvwnZz"
      },
      "execution_count": 25,
      "outputs": []
    },
    {
      "cell_type": "code",
      "source": [
        "priority_preds"
      ],
      "metadata": {
        "id": "NfRDDsvcwwI3",
        "outputId": "e96de1d3-0082-47bc-9bf9-61f254620405",
        "colab": {
          "base_uri": "https://localhost:8080/"
        }
      },
      "execution_count": 26,
      "outputs": [
        {
          "output_type": "execute_result",
          "data": {
            "text/plain": [
              "array([[0.],\n",
              "       [0.],\n",
              "       [0.],\n",
              "       ...,\n",
              "       [0.],\n",
              "       [0.],\n",
              "       [0.]], dtype=float32)"
            ]
          },
          "metadata": {},
          "execution_count": 26
        }
      ]
    },
    {
      "cell_type": "code",
      "source": [
        "department_preds"
      ],
      "metadata": {
        "id": "IzAhM_iPwxtf",
        "outputId": "2ff345e3-8146-478f-9fdb-34c2548cadec",
        "colab": {
          "base_uri": "https://localhost:8080/"
        }
      },
      "execution_count": 27,
      "outputs": [
        {
          "output_type": "execute_result",
          "data": {
            "text/plain": [
              "array([[9.9995863e-01, 4.8640212e-27, 3.5060881e-17, 4.1345491e-05],\n",
              "       [9.9987733e-01, 3.6748446e-27, 2.3382207e-17, 1.2267377e-04],\n",
              "       [9.9942857e-01, 3.2995605e-26, 3.5724720e-17, 5.7143008e-04],\n",
              "       ...,\n",
              "       [9.9998558e-01, 5.3297049e-28, 8.4343132e-18, 1.4450381e-05],\n",
              "       [9.9986625e-01, 2.9190991e-27, 2.3901397e-17, 1.3368081e-04],\n",
              "       [9.9997151e-01, 1.8391749e-28, 1.0110165e-18, 2.8479186e-05]],\n",
              "      dtype=float32)"
            ]
          },
          "metadata": {},
          "execution_count": 27
        }
      ]
    },
    {
      "cell_type": "markdown",
      "source": [
        "###The power of Functional API"
      ],
      "metadata": {
        "id": "fEnZXCJ7xNXx"
      }
    },
    {
      "cell_type": "markdown",
      "source": [
        "A Functional model is an explicit graph data structure. This makes it possible to\n",
        "inspect how layers are connected and reuse previous graph nodes (which are layer\n",
        "outputs) as part of new models. It also nicely fits the “mental model” that most researchers\n",
        "use when thinking about a deep neural network: a graph of layers. This enables\n",
        "two important use cases: model visualization and feature extraction.\n",
        "\n",
        "Let’s visualize the connectivity of the model we just defined (the topology of the\n",
        "model)."
      ],
      "metadata": {
        "id": "ysVlJKDkxQx0"
      }
    },
    {
      "cell_type": "code",
      "source": [
        "keras.utils.plot_model(model, \"ticket_classifier.png\")"
      ],
      "metadata": {
        "id": "R2_E-jIAxaLK",
        "outputId": "0759dfce-49cc-4cbc-8fbb-2059d3cf308a",
        "colab": {
          "base_uri": "https://localhost:8080/",
          "height": 369
        }
      },
      "execution_count": 28,
      "outputs": [
        {
          "output_type": "execute_result",
          "data": {
            "image/png": "[encoded data removed]",
            "text/plain": [
              "<IPython.core.display.Image object>"
            ]
          },
          "metadata": {},
          "execution_count": 28
        }
      ]
    },
    {
      "cell_type": "markdown",
      "source": [
        "You can add to this plot the input and output shapes of each layer in the model, which\n",
        "can be helpful during debugging."
      ],
      "metadata": {
        "id": "QXkR2hD7xuLS"
      }
    },
    {
      "cell_type": "code",
      "source": [
        "keras.utils.plot_model(model, \"ticket_classifier_with_shape_info.png\", show_shapes=True)"
      ],
      "metadata": {
        "id": "HgEOum5QxuyE",
        "outputId": "7229e950-2086-4fc3-cba8-a1253e8909bf",
        "colab": {
          "base_uri": "https://localhost:8080/",
          "height": 297
        }
      },
      "execution_count": 29,
      "outputs": [
        {
          "output_type": "execute_result",
          "data": {
            "image/png": "[encoded data removed]",
            "text/plain": [
              "<IPython.core.display.Image object>"
            ]
          },
          "metadata": {},
          "execution_count": 29
        }
      ]
    },
    {
      "cell_type": "markdown",
      "source": [
        "The “None” in the tensor shapes represents the batch size: this model allows batches\n",
        "of any size.\n",
        "\n",
        "Access to layer connectivity also means that you can inspect and reuse individual\n",
        "nodes (layer calls) in the graph. \n",
        "\n",
        "The `model.layers` model property provides the list\n",
        "of layers that make up the model, and for each layer you can query `layer.input` and `layer.output`."
      ],
      "metadata": {
        "id": "ZacWj2g0yIOh"
      }
    },
    {
      "cell_type": "code",
      "source": [
        "model.layers"
      ],
      "metadata": {
        "id": "4lCFw74kyYso",
        "outputId": "a0004c19-feab-4845-b79f-51ebb67e850e",
        "colab": {
          "base_uri": "https://localhost:8080/"
        }
      },
      "execution_count": 30,
      "outputs": [
        {
          "output_type": "execute_result",
          "data": {
            "text/plain": [
              "[<keras.engine.input_layer.InputLayer at 0x7f28b6a8a110>,\n",
              " <keras.engine.input_layer.InputLayer at 0x7f28b6a70490>,\n",
              " <keras.engine.input_layer.InputLayer at 0x7f28b7e91c90>,\n",
              " <keras.layers.merge.Concatenate at 0x7f28b6a8e150>,\n",
              " <keras.layers.core.dense.Dense at 0x7f28b7c17910>,\n",
              " <keras.layers.core.dense.Dense at 0x7f28b6b54cd0>,\n",
              " <keras.layers.core.dense.Dense at 0x7f28b7c4d6d0>]"
            ]
          },
          "metadata": {},
          "execution_count": 30
        }
      ]
    },
    {
      "cell_type": "code",
      "source": [
        "model.layers[3].input"
      ],
      "metadata": {
        "id": "XXGpHkxSybSZ",
        "outputId": "563f9d00-a1d3-4aeb-9f87-9beb9c652cd9",
        "colab": {
          "base_uri": "https://localhost:8080/"
        }
      },
      "execution_count": 31,
      "outputs": [
        {
          "output_type": "execute_result",
          "data": {
            "text/plain": [
              "[<KerasTensor: shape=(None, 10000) dtype=float32 (created by layer 'title')>,\n",
              " <KerasTensor: shape=(None, 10000) dtype=float32 (created by layer 'text_body')>,\n",
              " <KerasTensor: shape=(None, 100) dtype=float32 (created by layer 'tags')>]"
            ]
          },
          "metadata": {},
          "execution_count": 31
        }
      ]
    },
    {
      "cell_type": "code",
      "source": [
        "model.layers[3].output"
      ],
      "metadata": {
        "id": "bDHddjfxyr4N",
        "outputId": "bb3121c2-a6ab-4456-a1a5-ea148dfd3379",
        "colab": {
          "base_uri": "https://localhost:8080/"
        }
      },
      "execution_count": 32,
      "outputs": [
        {
          "output_type": "execute_result",
          "data": {
            "text/plain": [
              "<KerasTensor: shape=(None, 20100) dtype=float32 (created by layer 'concatenate')>"
            ]
          },
          "metadata": {},
          "execution_count": 32
        }
      ]
    },
    {
      "cell_type": "markdown",
      "source": [
        "This enables you to do feature extraction, creating models that reuse intermediate features\n",
        "from another model.\n",
        "\n",
        "Let’s say you want to add another output to the previous model—you want to estimate\n",
        "how long a given issue ticket will take to resolve, a kind of difficulty rating. \n",
        "\n",
        "You could do this via a classification layer over three categories: “quick,” “medium,” and “difficult.” \n",
        "\n",
        "You don’t need to recreate and retrain a model from scratch. You can start\n",
        "from the intermediate features of your previous model, since you have access to them,\n",
        "like this."
      ],
      "metadata": {
        "id": "aMtCXrrNy0_O"
      }
    },
    {
      "cell_type": "code",
      "source": [
        "# layers[4] is our intermediate Dense layer\n",
        "features = model.layers[4].output\n",
        "difficulty = layers.Dense(3, activation=\"softmax\", name=\"difficulty\")(features)\n",
        "\n",
        "new_model =  keras.Model(inputs=[title, text_body, tags], outputs=[priority, department, difficulty])"
      ],
      "metadata": {
        "id": "iIiiZQB6zEia"
      },
      "execution_count": 33,
      "outputs": []
    },
    {
      "cell_type": "markdown",
      "source": [
        "Let’s plot our new model."
      ],
      "metadata": {
        "id": "NkAJjdmjzsbd"
      }
    },
    {
      "cell_type": "code",
      "source": [
        "keras.utils.plot_model(new_model, \"updated_ticket_classifier.png\", show_shapes=True)"
      ],
      "metadata": {
        "id": "07JCJOrnztDR",
        "outputId": "2322c85d-eaa7-43b1-b27d-466ba200609e",
        "colab": {
          "base_uri": "https://localhost:8080/",
          "height": 297
        }
      },
      "execution_count": 34,
      "outputs": [
        {
          "output_type": "execute_result",
          "data": {
            "image/png": "[encoded data removed]",
            "text/plain": [
              "<IPython.core.display.Image object>"
            ]
          },
          "metadata": {},
          "execution_count": 34
        }
      ]
    },
    {
      "cell_type": "markdown",
      "source": [
        "##Subclassing the Model class"
      ],
      "metadata": {
        "id": "ZXLYF4YUz6zI"
      }
    },
    {
      "cell_type": "markdown",
      "source": [
        ""
      ],
      "metadata": {
        "id": "FgQ1Mdusz_o0"
      }
    }
  ]
}