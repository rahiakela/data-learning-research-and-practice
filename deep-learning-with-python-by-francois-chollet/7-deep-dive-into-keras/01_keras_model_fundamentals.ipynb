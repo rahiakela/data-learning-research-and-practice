{
  "nbformat": 4,
  "nbformat_minor": 0,
  "metadata": {
    "colab": {
      "name": "01-keras-model-fundamentals.ipynb",
      "provenance": [],
      "toc_visible": true,
      "authorship_tag": "ABX9TyNfWmRQ6BKofVeMgjQINR+W",
      "include_colab_link": true
    },
    "kernelspec": {
      "name": "python3",
      "display_name": "Python 3"
    },
    "language_info": {
      "name": "python"
    }
  },
  "cells": [
    {
      "cell_type": "markdown",
      "metadata": {
        "id": "view-in-github",
        "colab_type": "text"
      },
      "source": [
        "<a href=\"https://colab.research.google.com/github/rahiakela/deep-learning-research-and-practice/blob/main/deep-learning-with-python-by-francois-chollet/7-deep-dive-into-keras/01_keras_model_fundamentals.ipynb\" target=\"_parent\"><img src=\"https://colab.research.google.com/assets/colab-badge.svg\" alt=\"Open In Colab\"/></a>"
      ]
    },
    {
      "cell_type": "markdown",
      "source": [
        "##Keras model fundamentals"
      ],
      "metadata": {
        "id": "luPerGH_0G31"
      }
    },
    {
      "cell_type": "markdown",
      "source": [
        "There are three APIs for building models in Keras:\n",
        "\n",
        "* The Sequential model, the most approachable API—it’s basically a Python list. As such, it’s limited to simple stacks of layers.\n",
        "* The Functional API, which focuses on graph-like model architectures. It represents\n",
        "a nice mid-point between usability and flexibility, and as such, it’s the\n",
        "most commonly used model-building API.\n",
        "* Model subclassing, a low-level option where you write everything yourself from\n",
        "scratch. This is ideal if you want full control over every little thing. However, you\n",
        "won’t get access to many built-in Keras features, and you will be more at risk of\n",
        "making mistakes.\n",
        "\n",
        "<img src='https://github.com/rahiakela/deep-learning-research-and-practice/blob/main/deep-learning-with-python-by-francois-chollet/7-deep-dive-into-keras/images/1.png?raw=1' width='600'/>"
      ],
      "metadata": {
        "id": "TdZ1Nkni0Pga"
      }
    },
    {
      "cell_type": "markdown",
      "source": [
        "##Setup"
      ],
      "metadata": {
        "id": "USIIvxaF9LXp"
      }
    },
    {
      "cell_type": "code",
      "source": [
        "import tensorflow as tf\n",
        "from tensorflow import keras\n",
        "from tensorflow.keras import layers\n",
        "\n",
        "import random\n",
        "import string\n",
        "import re\n",
        "\n",
        "import numpy as np"
      ],
      "metadata": {
        "id": "t_xajM529MdN"
      },
      "execution_count": 1,
      "outputs": []
    },
    {
      "cell_type": "markdown",
      "source": [
        "##Sequential model"
      ],
      "metadata": {
        "id": "WyN_Mwlm9SSf"
      }
    },
    {
      "cell_type": "markdown",
      "source": [
        "The simplest way to build a Keras model is to use the Sequential model."
      ],
      "metadata": {
        "id": "-7MIA3a99S8p"
      }
    },
    {
      "cell_type": "code",
      "source": [
        "model = keras.Sequential([\n",
        "    layers.Dense(64, activation=\"relu\"),\n",
        "    layers.Dense(10, activation=\"softmax\")                      \n",
        "])"
      ],
      "metadata": {
        "id": "Yl4SfVWC-lQ0"
      },
      "execution_count": 2,
      "outputs": []
    },
    {
      "cell_type": "markdown",
      "source": [
        "Note that it’s possible to build the same model incrementally via the `add()` method,\n",
        "which is similar to the `append()` method of a Python list."
      ],
      "metadata": {
        "id": "lsxXM2oI-7QQ"
      }
    },
    {
      "cell_type": "code",
      "source": [
        "model = keras.Sequential()\n",
        "model.add(layers.Dense(64, activation=\"relu\"))\n",
        "model.add(layers.Dense(10, activation=\"softmax\"))"
      ],
      "metadata": {
        "id": "zeHqVyQN_AhE"
      },
      "execution_count": 3,
      "outputs": []
    },
    {
      "cell_type": "markdown",
      "source": [
        "As such, the preceding Sequential model does not have any weights, until you actually call it on some data, or call its\n",
        "method with an input shape `build()`."
      ],
      "metadata": {
        "id": "O51HRuPm_Ppq"
      }
    },
    {
      "cell_type": "code",
      "source": [
        "# At that point, the model isn’t built yet\n",
        "# model.weights"
      ],
      "metadata": {
        "id": "eEDNr-Wu_WNd"
      },
      "execution_count": 4,
      "outputs": []
    },
    {
      "cell_type": "markdown",
      "source": [
        "```log\n",
        "ValueError: Weights for model sequential_1 have not yet been created. Weights are created when the Model is first called on inputs or `build()` is called with an `input_shape`.\n",
        "```"
      ],
      "metadata": {
        "id": "wkXqlENi_f64"
      }
    },
    {
      "cell_type": "markdown",
      "source": [
        "Builds the model—now the model will expect samples of shape (3,). The\n",
        "None in the input shape signals that the batch size could be anything."
      ],
      "metadata": {
        "id": "jvX-mTaD_rlL"
      }
    },
    {
      "cell_type": "code",
      "source": [
        "model.build(input_shape=(None, 3))\n",
        "# Now you can retrieve the model’s weights\n",
        "model.weights"
      ],
      "metadata": {
        "id": "QkxZ0AFk_tro",
        "outputId": "1bc36709-a819-4e00-c148-f98b5809b056",
        "colab": {
          "base_uri": "https://localhost:8080/"
        }
      },
      "execution_count": 5,
      "outputs": [
        {
          "output_type": "execute_result",
          "data": {
            "text/plain": [
              "[<tf.Variable 'dense_2/kernel:0' shape=(3, 64) dtype=float32, numpy=\n",
              " array([[-0.03376526,  0.24571598, -0.09835906, -0.00932831,  0.08157629,\n",
              "          0.05217475, -0.20005333, -0.1406315 ,  0.12143812, -0.26803538,\n",
              "         -0.2816533 , -0.03278193, -0.27682567,  0.0872719 , -0.15364805,\n",
              "         -0.1635248 , -0.02422559,  0.27696687,  0.0916079 , -0.02749529,\n",
              "          0.18096241, -0.27949056,  0.2978536 ,  0.08078364,  0.1801078 ,\n",
              "          0.15023121, -0.10418415, -0.25423342, -0.1823534 ,  0.19416669,\n",
              "          0.01058289, -0.0026412 ,  0.11240751,  0.08405375, -0.00205353,\n",
              "         -0.284914  ,  0.01765954, -0.07185607,  0.01497647,  0.29167515,\n",
              "         -0.03647739, -0.00298688,  0.01986891, -0.18263593, -0.28273052,\n",
              "         -0.28212577, -0.04771101,  0.06716427, -0.04724547, -0.09143116,\n",
              "          0.10478953,  0.21232557,  0.25604987, -0.19146061, -0.03347814,\n",
              "          0.05119607,  0.05474174, -0.29161963, -0.25620157,  0.17473492,\n",
              "         -0.27108172, -0.11325027,  0.26775205, -0.04709858],\n",
              "        [-0.15594956, -0.26737177,  0.19640014,  0.07060954,  0.14939046,\n",
              "          0.27000022,  0.276855  ,  0.02690041,  0.05703434, -0.22827217,\n",
              "          0.20681089, -0.06395969, -0.09788653,  0.27430695,  0.09739801,\n",
              "         -0.27397177, -0.2697515 ,  0.01867804,  0.10312152, -0.20976187,\n",
              "         -0.24862039, -0.02668136, -0.13892536,  0.03454328, -0.02508155,\n",
              "         -0.27989975,  0.20258063,  0.26654255,  0.14175263,  0.05988231,\n",
              "         -0.28643152,  0.1321789 , -0.11977485,  0.1059241 , -0.05886598,\n",
              "          0.021543  ,  0.02473402, -0.11017478,  0.2615115 ,  0.1154432 ,\n",
              "         -0.02441567, -0.14247404, -0.26008043,  0.29800493,  0.20651358,\n",
              "         -0.15591682,  0.23817927, -0.15207534, -0.10808572, -0.03197229,\n",
              "          0.05323932, -0.17465623,  0.23349965, -0.0100756 , -0.08437212,\n",
              "          0.24427897, -0.09664895,  0.15690613,  0.2593224 , -0.07556029,\n",
              "         -0.07833435,  0.27815676,  0.24187434,  0.07087275],\n",
              "        [ 0.22279042,  0.11563697,  0.1779086 ,  0.1008015 , -0.13079354,\n",
              "          0.2302872 ,  0.25244498, -0.18409607,  0.05444345,  0.00094572,\n",
              "          0.09568846,  0.2884158 , -0.13203584, -0.26350632, -0.28248125,\n",
              "          0.04711854,  0.18366233,  0.20113832, -0.13175116,  0.09026948,\n",
              "          0.21391296, -0.2668436 , -0.2007574 ,  0.08802524, -0.07442628,\n",
              "         -0.07627611,  0.03329158,  0.04348776,  0.02016941,  0.15655503,\n",
              "         -0.16932164,  0.14931682, -0.1497868 , -0.15136129, -0.1963945 ,\n",
              "         -0.03153521,  0.24964786, -0.12767772, -0.10999405,  0.04686278,\n",
              "         -0.08095929,  0.21886379,  0.06877422, -0.03550461, -0.04650033,\n",
              "          0.0541482 ,  0.06646371, -0.14682844, -0.03054127, -0.23004866,\n",
              "         -0.10119677,  0.24451846,  0.26850176, -0.11621583, -0.03779039,\n",
              "          0.03959411, -0.07432583, -0.13822159,  0.19068208,  0.17783716,\n",
              "         -0.08927526,  0.06692255, -0.04003653,  0.13320836]],\n",
              "       dtype=float32)>,\n",
              " <tf.Variable 'dense_2/bias:0' shape=(64,) dtype=float32, numpy=\n",
              " array([0., 0., 0., 0., 0., 0., 0., 0., 0., 0., 0., 0., 0., 0., 0., 0., 0.,\n",
              "        0., 0., 0., 0., 0., 0., 0., 0., 0., 0., 0., 0., 0., 0., 0., 0., 0.,\n",
              "        0., 0., 0., 0., 0., 0., 0., 0., 0., 0., 0., 0., 0., 0., 0., 0., 0.,\n",
              "        0., 0., 0., 0., 0., 0., 0., 0., 0., 0., 0., 0., 0.], dtype=float32)>,\n",
              " <tf.Variable 'dense_3/kernel:0' shape=(64, 10) dtype=float32, numpy=\n",
              " array([[-0.17883867, -0.23024699, -0.05555457,  0.00183198,  0.15485483,\n",
              "         -0.20488153,  0.15385753, -0.26376486, -0.2498355 ,  0.0364548 ],\n",
              "        [ 0.03285533, -0.23578349, -0.15033898,  0.15532348, -0.04649574,\n",
              "          0.2632241 ,  0.09614566,  0.04393157,  0.04541513,  0.12111777],\n",
              "        [-0.05918922, -0.23736116, -0.2008133 , -0.05672729, -0.22798812,\n",
              "         -0.0535938 ,  0.283469  , -0.27787673, -0.22003615,  0.16142419],\n",
              "        [-0.05765948,  0.10752758,  0.17473269,  0.20784625, -0.14644209,\n",
              "          0.05725947, -0.24872865,  0.09587282, -0.01524103,  0.23446187],\n",
              "        [-0.14333141, -0.1197646 , -0.22073668, -0.261649  ,  0.2036446 ,\n",
              "          0.07068148, -0.1666014 , -0.02646846,  0.09505242,  0.0351823 ],\n",
              "        [ 0.00545326, -0.25691023,  0.21543756, -0.10450436, -0.06835566,\n",
              "          0.15983301, -0.19911586,  0.2452124 ,  0.18520993,  0.14402911],\n",
              "        [-0.27061227, -0.18938892, -0.08931255, -0.07168767,  0.09198698,\n",
              "          0.11199063, -0.25042146,  0.26823804,  0.26514998, -0.21280718],\n",
              "        [-0.15737039,  0.09114516,  0.03592277, -0.23296894, -0.00058636,\n",
              "          0.2003158 ,  0.05131653, -0.18779148, -0.22445124, -0.11471161],\n",
              "        [ 0.21669969, -0.14915887,  0.1139476 , -0.20191078,  0.11953202,\n",
              "         -0.25711477, -0.1390324 ,  0.14053968, -0.2610596 , -0.10147162],\n",
              "        [ 0.13418764, -0.28353572,  0.08735904, -0.15328191,  0.09421563,\n",
              "         -0.12089984, -0.05820327,  0.18598083,  0.19232374, -0.02762461],\n",
              "        [-0.14942147,  0.08454233,  0.17666975,  0.2772878 , -0.13378899,\n",
              "          0.02850538,  0.2791802 , -0.21973546,  0.24629858,  0.01297021],\n",
              "        [-0.12024729, -0.11369817, -0.06451389,  0.28064165,  0.27009377,\n",
              "          0.00830284, -0.25085208,  0.15342638, -0.28219002, -0.04163875],\n",
              "        [ 0.22964206,  0.2454888 , -0.25658584,  0.20997167,  0.14476109,\n",
              "          0.02237916,  0.17847854,  0.22507098,  0.0071027 , -0.23622754],\n",
              "        [ 0.09788117, -0.00749829,  0.03314522,  0.10286266,  0.2546529 ,\n",
              "         -0.05637956, -0.20054063, -0.1794262 , -0.20196427, -0.12217398],\n",
              "        [-0.10303171,  0.1572431 , -0.19100243,  0.17903095, -0.01303661,\n",
              "          0.15256011, -0.15587704,  0.23307368,  0.16527471, -0.02356485],\n",
              "        [ 0.22685894,  0.08666357, -0.18801573, -0.11979257, -0.02195758,\n",
              "         -0.20974328,  0.21406755, -0.00074732,  0.27378377, -0.18071648],\n",
              "        [ 0.10559818,  0.0352264 ,  0.10137141,  0.07296717,  0.03147948,\n",
              "         -0.21942616,  0.27808186,  0.11857185, -0.0242759 , -0.12035319],\n",
              "        [-0.25271848,  0.13250318,  0.10814852,  0.26128718,  0.17049131,\n",
              "         -0.21058972, -0.08725423, -0.24389963, -0.22365212,  0.07579178],\n",
              "        [ 0.21670428,  0.21465153, -0.13637488,  0.24608085, -0.15498666,\n",
              "          0.188443  , -0.0803706 , -0.16346493, -0.2759646 ,  0.02452981],\n",
              "        [-0.15893103,  0.0961549 ,  0.07913393,  0.12156904,  0.14533535,\n",
              "         -0.25499445,  0.22994736, -0.00529283,  0.19232586, -0.2695664 ],\n",
              "        [ 0.11164391,  0.09542087, -0.01731688, -0.2511118 , -0.22687176,\n",
              "          0.25113824, -0.0241833 ,  0.15878269,  0.26868185,  0.22985116],\n",
              "        [ 0.2431198 ,  0.07002935, -0.05191152, -0.20320082,  0.02760559,\n",
              "          0.25791106,  0.20100379,  0.16158772,  0.09424117,  0.06601018],\n",
              "        [ 0.10222742,  0.19675148, -0.10774979, -0.24947292, -0.10014229,\n",
              "         -0.13236162, -0.2379556 ,  0.23810932, -0.01670492,  0.14779499],\n",
              "        [-0.00055641, -0.04327962, -0.1815224 , -0.027017  ,  0.12337866,\n",
              "          0.1723865 , -0.09241773, -0.24019994, -0.26259905,  0.2618086 ],\n",
              "        [ 0.25464633, -0.25631022,  0.26949808, -0.01205555, -0.18137163,\n",
              "          0.05944565, -0.16450602,  0.25393662, -0.06317431,  0.28334793],\n",
              "        [ 0.20761555,  0.0219444 , -0.2463253 ,  0.2222589 , -0.08042845,\n",
              "          0.0246622 ,  0.22335699,  0.24126324,  0.22174582, -0.12128912],\n",
              "        [ 0.10655931, -0.09157184, -0.1667122 , -0.25735828,  0.02419457,\n",
              "          0.21191621, -0.19052483,  0.2674283 , -0.00817859,  0.03439742],\n",
              "        [ 0.17883888, -0.2691583 ,  0.12694007,  0.2638882 ,  0.07864934,\n",
              "          0.10804695, -0.20326042,  0.23302391, -0.21284065,  0.05735955],\n",
              "        [-0.08018696, -0.25921568, -0.00944275, -0.19845712, -0.2180104 ,\n",
              "         -0.15144604,  0.08635923,  0.12597576,  0.05451968, -0.22923958],\n",
              "        [ 0.00912225,  0.09293485, -0.16725898,  0.05228525, -0.06309202,\n",
              "         -0.23177451,  0.08697486,  0.20062557, -0.10388446,  0.02161485],\n",
              "        [-0.16614899,  0.26374134,  0.09209126,  0.13387215, -0.10408603,\n",
              "         -0.04994918, -0.24068704,  0.1735112 , -0.11365315,  0.1022892 ],\n",
              "        [ 0.26139948,  0.21735397,  0.2536637 , -0.21305612,  0.23381695,\n",
              "          0.24036857,  0.03225267,  0.08844548, -0.2448388 ,  0.08741295],\n",
              "        [-0.16653888,  0.284655  , -0.00710839,  0.05071944,  0.04524663,\n",
              "         -0.18159571,  0.21485859,  0.00740933, -0.20296496, -0.21586272],\n",
              "        [ 0.13457364, -0.23345727, -0.08541395,  0.12075809,  0.02726072,\n",
              "          0.20754659, -0.22320819, -0.20923139,  0.13312137, -0.14417507],\n",
              "        [ 0.08761892, -0.07174422, -0.09027725, -0.0443822 ,  0.09963894,\n",
              "          0.2194409 ,  0.1723263 , -0.18681294,  0.25283924,  0.02405539],\n",
              "        [-0.25885612,  0.12648481, -0.2380431 ,  0.0970614 , -0.2083711 ,\n",
              "          0.09464943,  0.12803844,  0.12122205,  0.05558586, -0.01161474],\n",
              "        [-0.00952476,  0.17985228, -0.10954316, -0.00477287, -0.11616981,\n",
              "          0.19124818, -0.2753624 , -0.05493414, -0.2331614 , -0.225701  ],\n",
              "        [-0.17805952, -0.04205409,  0.22681502, -0.08325881, -0.11653776,\n",
              "          0.09573546,  0.10769129,  0.00330728,  0.21327513,  0.06511214],\n",
              "        [ 0.09315759, -0.12913899, -0.15738349, -0.2556597 ,  0.18628529,\n",
              "         -0.06322727, -0.01479805, -0.2210132 , -0.17483078,  0.14701888],\n",
              "        [-0.06359658, -0.23715988,  0.05408356, -0.25746134, -0.02482003,\n",
              "          0.10702589,  0.1500409 ,  0.02849671,  0.26337704, -0.22780538],\n",
              "        [ 0.12858576,  0.1374493 , -0.01873487,  0.029228  , -0.1812277 ,\n",
              "         -0.13371289, -0.20205498, -0.15102433, -0.04110289,  0.26995578],\n",
              "        [-0.22416034,  0.27127466,  0.09377706, -0.2594215 ,  0.27164218,\n",
              "         -0.02387401,  0.03930092,  0.140791  , -0.04064117, -0.11465485],\n",
              "        [-0.13038354,  0.19391039,  0.11077902, -0.17138386,  0.14113241,\n",
              "         -0.22306515,  0.2079601 , -0.16776903,  0.28325418, -0.13452205],\n",
              "        [ 0.08525917,  0.18678442,  0.07096106, -0.18429208, -0.12735473,\n",
              "         -0.15001896, -0.00245208,  0.06829295,  0.10418636,  0.13356942],\n",
              "        [-0.19659412,  0.20117739,  0.08436671, -0.09740907,  0.23255572,\n",
              "         -0.03080189, -0.24334864, -0.17108649,  0.22654322, -0.22082318],\n",
              "        [ 0.01137665,  0.04391819, -0.01742563, -0.25030613,  0.12619758,\n",
              "         -0.13384187, -0.07515049, -0.09732108, -0.07261619, -0.07495707],\n",
              "        [-0.24140538,  0.21090397, -0.21159291, -0.18579581, -0.1284415 ,\n",
              "          0.2445673 ,  0.17429405,  0.26424435, -0.18122879, -0.2772593 ],\n",
              "        [ 0.00767303, -0.17653805, -0.02480286, -0.02805725, -0.08020061,\n",
              "          0.2516804 ,  0.15729475,  0.28473905, -0.04750769, -0.12012801],\n",
              "        [ 0.19496852,  0.08621028, -0.18381305,  0.13423094,  0.11989602,\n",
              "         -0.0160003 ,  0.17376098, -0.24968866, -0.23212156,  0.24208662],\n",
              "        [-0.1481795 , -0.20345294,  0.25300047,  0.14746219, -0.18402357,\n",
              "         -0.25608918, -0.21916729,  0.08475271,  0.25239953, -0.09784722],\n",
              "        [ 0.04019019, -0.26031303,  0.01581231, -0.18199939, -0.06682158,\n",
              "          0.02676344, -0.04475567, -0.12601312, -0.05115408, -0.27303606],\n",
              "        [-0.2630089 , -0.00084719, -0.09405507,  0.10672778,  0.0797987 ,\n",
              "          0.1710025 , -0.22684745,  0.10280129, -0.2724078 , -0.25824335],\n",
              "        [ 0.17445242, -0.13328491,  0.18691537,  0.22314528,  0.26381013,\n",
              "         -0.01200515,  0.25994274,  0.0161269 ,  0.04262537,  0.14772174],\n",
              "        [ 0.06263092, -0.13894142, -0.01791763,  0.20368317,  0.1636295 ,\n",
              "          0.16868642, -0.17003015,  0.20856419,  0.125011  , -0.09525855],\n",
              "        [ 0.01045886, -0.25155547,  0.2813743 , -0.21480922, -0.21884204,\n",
              "         -0.15679353, -0.07474852, -0.08785735,  0.25146207,  0.00968233],\n",
              "        [-0.08814269,  0.12184364,  0.0933421 ,  0.14704072, -0.15624887,\n",
              "         -0.25700805,  0.07288727,  0.22807363, -0.05725729,  0.13205945],\n",
              "        [ 0.01284245, -0.22733761, -0.15988263, -0.26979232, -0.25389004,\n",
              "         -0.10895768, -0.00101092, -0.21067968,  0.05548486,  0.1761409 ],\n",
              "        [ 0.1898824 , -0.04571691,  0.05578724,  0.03473485,  0.14305279,\n",
              "         -0.21697047,  0.24638852, -0.22619464,  0.20381826, -0.03250378],\n",
              "        [-0.16609007, -0.07343866,  0.2269502 ,  0.14730087, -0.17718136,\n",
              "          0.28388318,  0.25510827,  0.20333001,  0.09576303,  0.08387789],\n",
              "        [ 0.1623278 , -0.0549103 ,  0.08640209, -0.07230315,  0.00948593,\n",
              "          0.02885747, -0.21842697, -0.2521015 , -0.20859724, -0.10795659],\n",
              "        [ 0.23106763,  0.14158401, -0.07310805, -0.01060909,  0.09609365,\n",
              "         -0.24144652, -0.09013896, -0.21297881, -0.26608348, -0.0950633 ],\n",
              "        [-0.00042465,  0.22188804, -0.05284092, -0.18434998, -0.01208887,\n",
              "         -0.09812394, -0.12561834, -0.12082706, -0.06971543, -0.12679954],\n",
              "        [ 0.18031508,  0.1502203 , -0.24307913,  0.1983454 , -0.12185375,\n",
              "          0.13431376, -0.18152383,  0.01329356, -0.23717025,  0.02591115],\n",
              "        [ 0.02127609,  0.17526907, -0.01204956,  0.07963082,  0.15387607,\n",
              "          0.01777819, -0.0272159 ,  0.2766572 , -0.14610203, -0.16383873]],\n",
              "       dtype=float32)>,\n",
              " <tf.Variable 'dense_3/bias:0' shape=(10,) dtype=float32, numpy=array([0., 0., 0., 0., 0., 0., 0., 0., 0., 0.], dtype=float32)>]"
            ]
          },
          "metadata": {},
          "execution_count": 5
        }
      ]
    },
    {
      "cell_type": "markdown",
      "source": [
        "After the model is built, you can display its contents via the\n",
        "method, which `summary()` comes in handy for debugging."
      ],
      "metadata": {
        "id": "pkhgv9VSACXK"
      }
    },
    {
      "cell_type": "code",
      "source": [
        "model.summary()"
      ],
      "metadata": {
        "id": "ob6Gx9h0AF16",
        "outputId": "89119250-91ea-4acc-ae9d-d96917e297e3",
        "colab": {
          "base_uri": "https://localhost:8080/"
        }
      },
      "execution_count": 6,
      "outputs": [
        {
          "output_type": "stream",
          "name": "stdout",
          "text": [
            "Model: \"sequential_1\"\n",
            "_________________________________________________________________\n",
            " Layer (type)                Output Shape              Param #   \n",
            "=================================================================\n",
            " dense_2 (Dense)             (None, 64)                256       \n",
            "                                                                 \n",
            " dense_3 (Dense)             (None, 10)                650       \n",
            "                                                                 \n",
            "=================================================================\n",
            "Total params: 906\n",
            "Trainable params: 906\n",
            "Non-trainable params: 0\n",
            "_________________________________________________________________\n"
          ]
        }
      ]
    },
    {
      "cell_type": "markdown",
      "source": [
        "As you can see, this model happens to be named “sequential_1.” You can give names\n",
        "to everything in Keras—every model, every layer."
      ],
      "metadata": {
        "id": "nhjBPi8XAL4C"
      }
    },
    {
      "cell_type": "code",
      "source": [
        "model = keras.Sequential(name=\"my_example_model\")\n",
        "model.add(layers.Dense(64, activation=\"relu\", name=\"my_first_layer\"))\n",
        "model.add(layers.Dense(10, activation=\"softmax\", name=\"my_last_layer\"))\n",
        "\n",
        "model.build((None, 3))\n",
        "model.summary()"
      ],
      "metadata": {
        "id": "NJ8veYt-AMyy",
        "outputId": "0fa0c7ff-7559-438c-b0fa-70e62ae3e2c6",
        "colab": {
          "base_uri": "https://localhost:8080/"
        }
      },
      "execution_count": 7,
      "outputs": [
        {
          "output_type": "stream",
          "name": "stdout",
          "text": [
            "Model: \"my_example_model\"\n",
            "_________________________________________________________________\n",
            " Layer (type)                Output Shape              Param #   \n",
            "=================================================================\n",
            " my_first_layer (Dense)      (None, 64)                256       \n",
            "                                                                 \n",
            " my_last_layer (Dense)       (None, 10)                650       \n",
            "                                                                 \n",
            "=================================================================\n",
            "Total params: 906\n",
            "Trainable params: 906\n",
            "Non-trainable params: 0\n",
            "_________________________________________________________________\n"
          ]
        }
      ]
    },
    {
      "cell_type": "markdown",
      "source": [
        "But you can’t print a summary until the model is built! \n",
        "\n",
        "There’s actually a way to have your Sequential\n",
        "built on the fly: just declare the shape of the model’s inputs in advance. You can do this via the Input class."
      ],
      "metadata": {
        "id": "h8MWD0tkAvrr"
      }
    },
    {
      "cell_type": "code",
      "source": [
        "model = keras.Sequential(name=\"my_example_model\")\n",
        "model.add(keras.Input(shape=(3, )))\n",
        "model.add(layers.Dense(64, activation=\"relu\", name=\"my_first_layer\"))"
      ],
      "metadata": {
        "id": "LNkJexZ1A0zb"
      },
      "execution_count": 8,
      "outputs": []
    },
    {
      "cell_type": "markdown",
      "source": [
        "Now you can use `summary()` to follow how the output shape of your model changes as\n",
        "you add more layers"
      ],
      "metadata": {
        "id": "2hQvm5A4BIIl"
      }
    },
    {
      "cell_type": "code",
      "source": [
        "model.summary()"
      ],
      "metadata": {
        "id": "Cd3DVpWQBLV2",
        "outputId": "742e2318-eff7-4f60-97b8-18de54f2d78a",
        "colab": {
          "base_uri": "https://localhost:8080/"
        }
      },
      "execution_count": 9,
      "outputs": [
        {
          "output_type": "stream",
          "name": "stdout",
          "text": [
            "Model: \"my_example_model\"\n",
            "_________________________________________________________________\n",
            " Layer (type)                Output Shape              Param #   \n",
            "=================================================================\n",
            " my_first_layer (Dense)      (None, 64)                256       \n",
            "                                                                 \n",
            "=================================================================\n",
            "Total params: 256\n",
            "Trainable params: 256\n",
            "Non-trainable params: 0\n",
            "_________________________________________________________________\n"
          ]
        }
      ]
    },
    {
      "cell_type": "code",
      "source": [
        "model.add(layers.Dense(10, activation=\"softmax\", name=\"my_last_layer\"))\n",
        "\n",
        "model.summary()"
      ],
      "metadata": {
        "id": "2IDN1OUHBSys",
        "outputId": "be18a02a-f05c-43f4-d759-4f6859241c19",
        "colab": {
          "base_uri": "https://localhost:8080/"
        }
      },
      "execution_count": 10,
      "outputs": [
        {
          "output_type": "stream",
          "name": "stdout",
          "text": [
            "Model: \"my_example_model\"\n",
            "_________________________________________________________________\n",
            " Layer (type)                Output Shape              Param #   \n",
            "=================================================================\n",
            " my_first_layer (Dense)      (None, 64)                256       \n",
            "                                                                 \n",
            " my_last_layer (Dense)       (None, 10)                650       \n",
            "                                                                 \n",
            "=================================================================\n",
            "Total params: 906\n",
            "Trainable params: 906\n",
            "Non-trainable params: 0\n",
            "_________________________________________________________________\n"
          ]
        }
      ]
    },
    {
      "cell_type": "markdown",
      "source": [
        "This is a pretty common debugging workflow when dealing with layers that transform\n",
        "their inputs in complex ways, such as the convolutional layers."
      ],
      "metadata": {
        "id": "Ey1M076XBZIT"
      }
    },
    {
      "cell_type": "markdown",
      "source": [
        "##Functional API"
      ],
      "metadata": {
        "id": "2LZ856EkBaDd"
      }
    },
    {
      "cell_type": "markdown",
      "source": [
        "The Sequential model is easy to use, but its applicability is extremely limited: it can\n",
        "only express models with a single input and a single output, applying one layer after\n",
        "the other in a sequential fashion.\n",
        "\n",
        "Let’s start with something simple."
      ],
      "metadata": {
        "id": "lb5R-ufpBfks"
      }
    },
    {
      "cell_type": "code",
      "source": [
        "inputs = keras.Input(shape=(3, ), name=\"my_input\")\n",
        "features = layers.Dense(64, activation=\"relu\")(inputs)\n",
        "outputs = layers.Dense(10, activation=\"softmax\")(features)\n",
        "\n",
        "model = keras.Model(inputs=inputs, outputs=outputs)"
      ],
      "metadata": {
        "id": "1EWQl1zB8Wrp"
      },
      "execution_count": 11,
      "outputs": []
    },
    {
      "cell_type": "markdown",
      "source": [
        "This inputs object holds information about the shape and dtype of the data that the\n",
        "model will process:"
      ],
      "metadata": {
        "id": "kpRgefBCB-eZ"
      }
    },
    {
      "cell_type": "code",
      "source": [
        "inputs.shape"
      ],
      "metadata": {
        "id": "iLGXl_PGB-_t",
        "outputId": "8b0b5b37-d6a5-422f-c002-649baff5dbbd",
        "colab": {
          "base_uri": "https://localhost:8080/"
        }
      },
      "execution_count": 12,
      "outputs": [
        {
          "output_type": "execute_result",
          "data": {
            "text/plain": [
              "TensorShape([None, 3])"
            ]
          },
          "metadata": {},
          "execution_count": 12
        }
      ]
    },
    {
      "cell_type": "code",
      "source": [
        "inputs.dtype"
      ],
      "metadata": {
        "id": "y9jbzGXqIHMF",
        "outputId": "083504de-3a38-4064-cfdf-fc6f9bea61ec",
        "colab": {
          "base_uri": "https://localhost:8080/"
        }
      },
      "execution_count": 13,
      "outputs": [
        {
          "output_type": "execute_result",
          "data": {
            "text/plain": [
              "tf.float32"
            ]
          },
          "metadata": {},
          "execution_count": 13
        }
      ]
    },
    {
      "cell_type": "markdown",
      "source": [
        "We call such an object a symbolic tensor. It doesn’t contain any actual data, but it\n",
        "encodes the specifications of the actual tensors of data that the model will see when\n",
        "you use it. It stands for future tensors of data.\n",
        "\n",
        "All Keras layers can be called both on real tensors of data and on these symbolic tensors."
      ],
      "metadata": {
        "id": "DNawZBJXIQ2a"
      }
    },
    {
      "cell_type": "code",
      "source": [
        "features.shape"
      ],
      "metadata": {
        "id": "ldN80GiEIYy6",
        "outputId": "180f0d40-bf30-448f-855f-f5239d45930d",
        "colab": {
          "base_uri": "https://localhost:8080/"
        }
      },
      "execution_count": 14,
      "outputs": [
        {
          "output_type": "execute_result",
          "data": {
            "text/plain": [
              "TensorShape([None, 64])"
            ]
          },
          "metadata": {},
          "execution_count": 14
        }
      ]
    },
    {
      "cell_type": "code",
      "source": [
        "features.dtype"
      ],
      "metadata": {
        "id": "5SzMp1moIcKu",
        "outputId": "98e3382a-5e14-4a4d-eb64-b24d605c3e47",
        "colab": {
          "base_uri": "https://localhost:8080/"
        }
      },
      "execution_count": 15,
      "outputs": [
        {
          "output_type": "execute_result",
          "data": {
            "text/plain": [
              "tf.float32"
            ]
          },
          "metadata": {},
          "execution_count": 15
        }
      ]
    },
    {
      "cell_type": "markdown",
      "source": [
        "Here’s the summary of our model:"
      ],
      "metadata": {
        "id": "dbd_iHx4Il5f"
      }
    },
    {
      "cell_type": "code",
      "source": [
        "model.summary()"
      ],
      "metadata": {
        "id": "63EnCSccImR5",
        "outputId": "34378c0d-29da-411b-bbdf-73bee8c85755",
        "colab": {
          "base_uri": "https://localhost:8080/"
        }
      },
      "execution_count": 16,
      "outputs": [
        {
          "output_type": "stream",
          "name": "stdout",
          "text": [
            "Model: \"model\"\n",
            "_________________________________________________________________\n",
            " Layer (type)                Output Shape              Param #   \n",
            "=================================================================\n",
            " my_input (InputLayer)       [(None, 3)]               0         \n",
            "                                                                 \n",
            " dense_4 (Dense)             (None, 64)                256       \n",
            "                                                                 \n",
            " dense_5 (Dense)             (None, 10)                650       \n",
            "                                                                 \n",
            "=================================================================\n",
            "Total params: 906\n",
            "Trainable params: 906\n",
            "Non-trainable params: 0\n",
            "_________________________________________________________________\n"
          ]
        }
      ]
    },
    {
      "cell_type": "markdown",
      "source": [
        "###Multi-input and Multi-output"
      ],
      "metadata": {
        "id": "pFGGFITSJ7Hh"
      }
    },
    {
      "cell_type": "markdown",
      "source": [
        ""
      ],
      "metadata": {
        "id": "QaXKEWvTKA85"
      }
    }
  ]
}