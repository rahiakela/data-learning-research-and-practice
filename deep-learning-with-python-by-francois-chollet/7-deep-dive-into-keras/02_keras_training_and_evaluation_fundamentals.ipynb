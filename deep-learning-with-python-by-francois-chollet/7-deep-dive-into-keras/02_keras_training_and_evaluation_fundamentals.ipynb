{
  "nbformat": 4,
  "nbformat_minor": 0,
  "metadata": {
    "colab": {
      "name": "02-keras-training-and-evaluation-fundamentals.ipynb",
      "provenance": [],
      "toc_visible": true,
      "authorship_tag": "ABX9TyM8LXZHn9tGXVkF9ELeA7Sg",
      "include_colab_link": true
    },
    "kernelspec": {
      "name": "python3",
      "display_name": "Python 3"
    },
    "language_info": {
      "name": "python"
    }
  },
  "cells": [
    {
      "cell_type": "markdown",
      "metadata": {
        "id": "view-in-github",
        "colab_type": "text"
      },
      "source": [
        "<a href=\"https://colab.research.google.com/github/rahiakela/deep-learning-research-and-practice/blob/main/deep-learning-with-python-by-francois-chollet/7-deep-dive-into-keras/02_keras_training_and_evaluation_fundamentals.ipynb\" target=\"_parent\"><img src=\"https://colab.research.google.com/assets/colab-badge.svg\" alt=\"Open In Colab\"/></a>"
      ]
    },
    {
      "cell_type": "markdown",
      "source": [
        "##Keras model fundamentals"
      ],
      "metadata": {
        "id": "luPerGH_0G31"
      }
    },
    {
      "cell_type": "markdown",
      "source": [
        "There are three APIs for building models in Keras:\n",
        "\n",
        "* The Sequential model, the most approachable API—it’s basically a Python list. As such, it’s limited to simple stacks of layers.\n",
        "* The Functional API, which focuses on graph-like model architectures. It represents\n",
        "a nice mid-point between usability and flexibility, and as such, it’s the\n",
        "most commonly used model-building API.\n",
        "* Model subclassing, a low-level option where you write everything yourself from\n",
        "scratch. This is ideal if you want full control over every little thing. However, you\n",
        "won’t get access to many built-in Keras features, and you will be more at risk of\n",
        "making mistakes.\n",
        "\n",
        "<img src='https://github.com/rahiakela/deep-learning-research-and-practice/blob/main/deep-learning-with-python-by-francois-chollet/7-deep-dive-into-keras/images/1.png?raw=1' width='600'/>"
      ],
      "metadata": {
        "id": "TdZ1Nkni0Pga"
      }
    },
    {
      "cell_type": "markdown",
      "source": [
        "##Setup"
      ],
      "metadata": {
        "id": "USIIvxaF9LXp"
      }
    },
    {
      "cell_type": "code",
      "source": [
        "import tensorflow as tf\n",
        "from tensorflow import keras\n",
        "from tensorflow.keras import layers\n",
        "\n",
        "from tensorflow.keras.datasets import mnist\n",
        "\n",
        "import random\n",
        "import string\n",
        "import re\n",
        "\n",
        "import numpy as np"
      ],
      "metadata": {
        "id": "t_xajM529MdN"
      },
      "execution_count": 1,
      "outputs": []
    },
    {
      "cell_type": "markdown",
      "source": [
        "##Using built-in training and evaluation loops"
      ],
      "metadata": {
        "id": "WyN_Mwlm9SSf"
      }
    },
    {
      "cell_type": "markdown",
      "source": [
        "The principle of progressive disclosure of complexity—access to a spectrum of workflows\n",
        "that go from dead easy to arbitrarily flexible, one step at a time—also applies to\n",
        "model training. Keras provides you with different workflows for training models. \n",
        "\n",
        "They\n",
        "can be as simple as calling `fit()` on your data, or as advanced as writing a new training\n",
        "algorithm from scratch.\n",
        "\n"
      ],
      "metadata": {
        "id": "-7MIA3a99S8p"
      }
    },
    {
      "cell_type": "code",
      "source": [
        "def get_mnist_model():\n",
        "  inputs = keras.Input(shape=(28 * 28, ))\n",
        "  features = layers.Dense(512, activation=\"relu\")(inputs)\n",
        "  features = layers.Dropout(0.5)(features)\n",
        "  outputs = layers.Dense(10, activation=\"softmax\")(features)\n",
        "\n",
        "  model = keras.Model(inputs=inputs, outputs=outputs)\n",
        "\n",
        "  return model"
      ],
      "metadata": {
        "id": "Yl4SfVWC-lQ0"
      },
      "execution_count": 2,
      "outputs": []
    },
    {
      "cell_type": "markdown",
      "source": [
        "Load your data, reserving\n",
        "some for validation."
      ],
      "metadata": {
        "id": "lsxXM2oI-7QQ"
      }
    },
    {
      "cell_type": "code",
      "source": [
        "(images, labels), (test_images, test_labels) = mnist.load_data()\n",
        "\n",
        "images = images.reshape((60000, 28 * 28)).astype(\"float32\") / 255\n",
        "test_images = test_images.reshape((10000, 28 * 28)).astype(\"float32\") / 255\n",
        "\n",
        "train_images, val_images = images[10000:], images[:10000]\n",
        "train_labels, val_labels = labels[10000:], labels[:10000]"
      ],
      "metadata": {
        "id": "zeHqVyQN_AhE"
      },
      "execution_count": 4,
      "outputs": []
    },
    {
      "cell_type": "code",
      "source": [
        "model = get_mnist_model()\n",
        "\n",
        "# Compile the model by specifying its optimizer, the loss function to minimize, and the metrics to monitor\n",
        "model.compile(optimizer=\"rmsprop\", loss=\"sparse_categorical_crossentropy\", metrics=[\"accuracy\"])\n",
        "\n",
        "# train the model, optionally providing validation data to monitor performance on unseen data\n",
        "model.fit(train_images, train_labels, epochs=3, validation_data=(val_images, val_labels))"
      ],
      "metadata": {
        "id": "eEDNr-Wu_WNd",
        "colab": {
          "base_uri": "https://localhost:8080/"
        },
        "outputId": "9558da3b-0f62-4ffa-f992-76a803ebcb16"
      },
      "execution_count": 5,
      "outputs": [
        {
          "output_type": "stream",
          "name": "stdout",
          "text": [
            "Epoch 1/3\n",
            "1563/1563 [==============================] - 12s 7ms/step - loss: 0.2915 - accuracy: 0.9135 - val_loss: 0.1507 - val_accuracy: 0.9565\n",
            "Epoch 2/3\n",
            "1563/1563 [==============================] - 11s 7ms/step - loss: 0.1678 - accuracy: 0.9536 - val_loss: 0.1202 - val_accuracy: 0.9682\n",
            "Epoch 3/3\n",
            "1563/1563 [==============================] - 12s 8ms/step - loss: 0.1389 - accuracy: 0.9627 - val_loss: 0.1135 - val_accuracy: 0.9708\n"
          ]
        },
        {
          "output_type": "execute_result",
          "data": {
            "text/plain": [
              "<keras.callbacks.History at 0x7f47d329d650>"
            ]
          },
          "metadata": {},
          "execution_count": 5
        }
      ]
    },
    {
      "cell_type": "code",
      "source": [
        "# compute the loss and metrics on new data\n",
        "test_metrics = model.evaluate(test_images, test_labels)"
      ],
      "metadata": {
        "id": "QkxZ0AFk_tro",
        "outputId": "b0fa432e-19f1-4fb3-8735-2a35bdeccd83",
        "colab": {
          "base_uri": "https://localhost:8080/"
        }
      },
      "execution_count": 7,
      "outputs": [
        {
          "output_type": "stream",
          "name": "stdout",
          "text": [
            "313/313 [==============================] - 1s 2ms/step - loss: 0.1087 - accuracy: 0.9725\n"
          ]
        }
      ]
    },
    {
      "cell_type": "code",
      "source": [
        "# compute classification probabilities on new data\n",
        "predictions = model.predict(test_images)"
      ],
      "metadata": {
        "id": "ob6Gx9h0AF16"
      },
      "execution_count": 8,
      "outputs": []
    },
    {
      "cell_type": "markdown",
      "source": [
        "There are a couple of ways you can customize this simple workflow:\n",
        "\n",
        "* Provide your own custom metrics.\n",
        "* Pass `callbacks` to the `fit()` method to schedule actions to be taken at specific points during training.\n"
      ],
      "metadata": {
        "id": "nhjBPi8XAL4C"
      }
    },
    {
      "cell_type": "markdown",
      "source": [
        "##Writing your own metrics"
      ],
      "metadata": {
        "id": "h8MWD0tkAvrr"
      }
    },
    {
      "cell_type": "markdown",
      "source": [
        ""
      ],
      "metadata": {
        "id": "2BmgTQUrJW9c"
      }
    },
    {
      "cell_type": "code",
      "source": [
        ""
      ],
      "metadata": {
        "id": "6x6fmKh1JU-f"
      },
      "execution_count": null,
      "outputs": []
    },
    {
      "cell_type": "markdown",
      "source": [
        "##Functional API"
      ],
      "metadata": {
        "id": "2LZ856EkBaDd"
      }
    },
    {
      "cell_type": "markdown",
      "source": [
        "The Sequential model is easy to use, but its applicability is extremely limited: it can\n",
        "only express models with a single input and a single output, applying one layer after\n",
        "the other in a sequential fashion.\n",
        "\n",
        "Let’s start with something simple."
      ],
      "metadata": {
        "id": "lb5R-ufpBfks"
      }
    },
    {
      "cell_type": "code",
      "source": [
        "inputs = keras.Input(shape=(3, ), name=\"my_input\")\n",
        "features = layers.Dense(64, activation=\"relu\")(inputs)\n",
        "outputs = layers.Dense(10, activation=\"softmax\")(features)\n",
        "\n",
        "model = keras.Model(inputs=inputs, outputs=outputs)"
      ],
      "metadata": {
        "id": "1EWQl1zB8Wrp"
      },
      "execution_count": null,
      "outputs": []
    },
    {
      "cell_type": "markdown",
      "source": [
        "This inputs object holds information about the shape and dtype of the data that the\n",
        "model will process:"
      ],
      "metadata": {
        "id": "kpRgefBCB-eZ"
      }
    },
    {
      "cell_type": "code",
      "source": [
        "inputs.shape"
      ],
      "metadata": {
        "id": "iLGXl_PGB-_t",
        "outputId": "929d8f82-65cc-43ce-b8d6-935a52615c1e",
        "colab": {
          "base_uri": "https://localhost:8080/"
        }
      },
      "execution_count": null,
      "outputs": [
        {
          "output_type": "execute_result",
          "data": {
            "text/plain": [
              "TensorShape([None, 3])"
            ]
          },
          "metadata": {},
          "execution_count": 12
        }
      ]
    },
    {
      "cell_type": "code",
      "source": [
        "inputs.dtype"
      ],
      "metadata": {
        "id": "y9jbzGXqIHMF",
        "outputId": "b4e9036e-4469-4013-8f37-c09f69e32e4a",
        "colab": {
          "base_uri": "https://localhost:8080/"
        }
      },
      "execution_count": null,
      "outputs": [
        {
          "output_type": "execute_result",
          "data": {
            "text/plain": [
              "tf.float32"
            ]
          },
          "metadata": {},
          "execution_count": 13
        }
      ]
    },
    {
      "cell_type": "markdown",
      "source": [
        "We call such an object a symbolic tensor. It doesn’t contain any actual data, but it\n",
        "encodes the specifications of the actual tensors of data that the model will see when\n",
        "you use it. It stands for future tensors of data.\n",
        "\n",
        "All Keras layers can be called both on real tensors of data and on these symbolic tensors."
      ],
      "metadata": {
        "id": "DNawZBJXIQ2a"
      }
    },
    {
      "cell_type": "code",
      "source": [
        "features.shape"
      ],
      "metadata": {
        "id": "ldN80GiEIYy6",
        "outputId": "6e86962c-c8da-4b36-c72a-0ed8423ed850",
        "colab": {
          "base_uri": "https://localhost:8080/"
        }
      },
      "execution_count": null,
      "outputs": [
        {
          "output_type": "execute_result",
          "data": {
            "text/plain": [
              "TensorShape([None, 64])"
            ]
          },
          "metadata": {},
          "execution_count": 14
        }
      ]
    },
    {
      "cell_type": "code",
      "source": [
        "features.dtype"
      ],
      "metadata": {
        "id": "5SzMp1moIcKu",
        "outputId": "6ec811f6-ff4d-47c7-d907-bbbc3da50feb",
        "colab": {
          "base_uri": "https://localhost:8080/"
        }
      },
      "execution_count": null,
      "outputs": [
        {
          "output_type": "execute_result",
          "data": {
            "text/plain": [
              "tf.float32"
            ]
          },
          "metadata": {},
          "execution_count": 15
        }
      ]
    },
    {
      "cell_type": "markdown",
      "source": [
        "Here’s the summary of our model:"
      ],
      "metadata": {
        "id": "dbd_iHx4Il5f"
      }
    },
    {
      "cell_type": "code",
      "source": [
        "model.summary()"
      ],
      "metadata": {
        "id": "63EnCSccImR5",
        "outputId": "a89ecd75-1587-4795-b100-01d442003179",
        "colab": {
          "base_uri": "https://localhost:8080/"
        }
      },
      "execution_count": null,
      "outputs": [
        {
          "output_type": "stream",
          "name": "stdout",
          "text": [
            "Model: \"model\"\n",
            "_________________________________________________________________\n",
            " Layer (type)                Output Shape              Param #   \n",
            "=================================================================\n",
            " my_input (InputLayer)       [(None, 3)]               0         \n",
            "                                                                 \n",
            " dense_4 (Dense)             (None, 64)                256       \n",
            "                                                                 \n",
            " dense_5 (Dense)             (None, 10)                650       \n",
            "                                                                 \n",
            "=================================================================\n",
            "Total params: 906\n",
            "Trainable params: 906\n",
            "Non-trainable params: 0\n",
            "_________________________________________________________________\n"
          ]
        }
      ]
    },
    {
      "cell_type": "markdown",
      "source": [
        "###Creating multi-input and multi-output"
      ],
      "metadata": {
        "id": "pFGGFITSJ7Hh"
      }
    },
    {
      "cell_type": "markdown",
      "source": [
        "As you will see, most deep learning models don’t look like lists—they look like\n",
        "graphs. They may, for instance, have multiple inputs or multiple outputs. It’s for this\n",
        "kind of model that the Functional API really shines.\n",
        "\n",
        "Let’s say you’re building a system to rank customer support tickets by priority and\n",
        "route them to the appropriate department. Your model has three inputs:\n",
        "\n",
        "* The title of the ticket (text input)\n",
        "* The text body of the ticket (text input)\n",
        "* Any tags added by the user (categorical input, assumed here to be one-hot\n",
        "encoded)\n",
        "\n",
        "Your model also has two outputs:\n",
        "* The priority score of the ticket, a scalar between 0 and 1 (sigmoid output)\n",
        "* The department that should handle the ticket (a softmax over the set of departments)"
      ],
      "metadata": {
        "id": "QaXKEWvTKA85"
      }
    },
    {
      "cell_type": "code",
      "source": [
        "vocabulary_size = 10000\n",
        "num_tags = 100\n",
        "num_departments = 4\n",
        "\n",
        "# Define model inputs\n",
        "title = keras.Input(shape=(vocabulary_size, ), name=\"title\")\n",
        "text_body = keras.Input(shape=(vocabulary_size, ), name=\"text_body\")\n",
        "tags = keras.Input(shape=(num_tags, ), name=\"tags\")\n",
        "\n",
        "# Combine input features into a single tensor, features, by concatenating them.\n",
        "features = layers.Concatenate()([title, text_body, tags])\n",
        "# Apply an intermediate layer to recombine input features into richer representations\n",
        "features = layers.Dense(64, activation=\"relu\")(features)\n",
        "\n",
        "# Define model outputs\n",
        "priority = layers.Dense(1, activation=\"sigmoid\", name=\"priority\")(features)\n",
        "department = layers.Dense(num_departments, activation=\"softmax\", name=\"department\")(features)\n",
        "\n",
        "# Create the model by specifying its inputs and outputs\n",
        "model = keras.Model(inputs=[title, text_body, tags], outputs=[priority, department])"
      ],
      "metadata": {
        "id": "5ykqtgT3mHzo"
      },
      "execution_count": null,
      "outputs": []
    },
    {
      "cell_type": "markdown",
      "source": [
        "The Functional API is a simple, LEGO-like, yet very flexible way to define arbitrary\n",
        "graphs of layers like these."
      ],
      "metadata": {
        "id": "XYkuviF6paEq"
      }
    },
    {
      "cell_type": "markdown",
      "source": [
        "###Training multi-input and multi-output"
      ],
      "metadata": {
        "id": "jprxmPbpplwM"
      }
    },
    {
      "cell_type": "markdown",
      "source": [
        "You can train your model in much the same way as you would train a Sequential\n",
        "model, by calling `fit()` with lists of input and output data."
      ],
      "metadata": {
        "id": "s2rFA0DxpndV"
      }
    },
    {
      "cell_type": "code",
      "source": [
        "num_samples = 1280\n",
        "\n",
        "# dummy input data\n",
        "title_data = np.random.randint(0, 2, size=(num_samples, vocabulary_size))\n",
        "text_body_data = np.random.randint(0, 2, size=(num_samples, vocabulary_size))\n",
        "tags_data = np.random.randint(0, 2, size=(num_samples, num_tags))\n",
        "\n",
        "# dummy target data\n",
        "priority_data = np.random.random(size=(num_samples, 1))\n",
        "department_data = np.random.randint(0, 2, size=(num_samples, num_departments))\n",
        "\n",
        "model.compile(optimizer=\"rmsprop\", loss=[\"mean_squared_error\", \"categorical_crossentropy\"], metrics=[[\"mean_absolute_error\"], [\"accuracy\"]])\n",
        "model.fit([title_data, text_body_data, tags_data], [priority_data, department_data], epochs=1)"
      ],
      "metadata": {
        "id": "T-4e6nqsp5G3",
        "outputId": "ab2e3303-a95a-461a-a65a-820b991c410c",
        "colab": {
          "base_uri": "https://localhost:8080/"
        }
      },
      "execution_count": null,
      "outputs": [
        {
          "output_type": "stream",
          "name": "stdout",
          "text": [
            "40/40 [==============================] - 1s 13ms/step - loss: 30.8845 - priority_loss: 0.3362 - department_loss: 30.5483 - priority_mean_absolute_error: 0.5040 - department_accuracy: 0.2461\n"
          ]
        },
        {
          "output_type": "execute_result",
          "data": {
            "text/plain": [
              "<keras.callbacks.History at 0x7fd36d97c510>"
            ]
          },
          "metadata": {},
          "execution_count": 18
        }
      ]
    },
    {
      "cell_type": "code",
      "source": [
        "model.evaluate([title_data, text_body_data, tags_data], [priority_data, department_data])"
      ],
      "metadata": {
        "id": "9IhBpXY2rP1t",
        "outputId": "99226b1e-99b6-414f-d942-8067fd0b5440",
        "colab": {
          "base_uri": "https://localhost:8080/"
        }
      },
      "execution_count": null,
      "outputs": [
        {
          "output_type": "stream",
          "name": "stdout",
          "text": [
            "40/40 [==============================] - 0s 5ms/step - loss: 3.7930 - priority_loss: 0.3380 - department_loss: 3.4550 - priority_mean_absolute_error: 0.5056 - department_accuracy: 0.5859\n"
          ]
        },
        {
          "output_type": "execute_result",
          "data": {
            "text/plain": [
              "[3.7930126190185547,\n",
              " 0.3380233645439148,\n",
              " 3.454989194869995,\n",
              " 0.5056027173995972,\n",
              " 0.5859375]"
            ]
          },
          "metadata": {},
          "execution_count": 19
        }
      ]
    },
    {
      "cell_type": "code",
      "source": [
        "priority_preds, department_preds = model.predict([title_data, text_body_data, tags_data])"
      ],
      "metadata": {
        "id": "c5vmuHX6rXKh"
      },
      "execution_count": null,
      "outputs": []
    },
    {
      "cell_type": "code",
      "source": [
        "priority_preds"
      ],
      "metadata": {
        "id": "-g4tw2vfsxQ2",
        "outputId": "afafa823-6282-43dd-f454-eb8ed393d394",
        "colab": {
          "base_uri": "https://localhost:8080/"
        }
      },
      "execution_count": null,
      "outputs": [
        {
          "output_type": "execute_result",
          "data": {
            "text/plain": [
              "array([[1.],\n",
              "       [1.],\n",
              "       [1.],\n",
              "       ...,\n",
              "       [1.],\n",
              "       [1.],\n",
              "       [1.]], dtype=float32)"
            ]
          },
          "metadata": {},
          "execution_count": 21
        }
      ]
    },
    {
      "cell_type": "code",
      "source": [
        "department_preds"
      ],
      "metadata": {
        "id": "BpPO29g-syiM",
        "outputId": "ba73de93-c97b-457c-8e8e-b31ce1844413",
        "colab": {
          "base_uri": "https://localhost:8080/"
        }
      },
      "execution_count": null,
      "outputs": [
        {
          "output_type": "execute_result",
          "data": {
            "text/plain": [
              "array([[0.84385276, 0.02321451, 0.05782586, 0.07510676],\n",
              "       [0.28783002, 0.49439   , 0.02621931, 0.19156067],\n",
              "       [0.5313341 , 0.07290258, 0.04487287, 0.35089043],\n",
              "       ...,\n",
              "       [0.5803476 , 0.05759914, 0.01671531, 0.34533787],\n",
              "       [0.72417957, 0.06754033, 0.02001124, 0.18826894],\n",
              "       [0.67184055, 0.10336391, 0.05131271, 0.17348276]], dtype=float32)"
            ]
          },
          "metadata": {},
          "execution_count": 22
        }
      ]
    },
    {
      "cell_type": "markdown",
      "source": [
        "If you don’t want to rely on input order (for instance, because you have many inputs\n",
        "or outputs), you can also leverage the names you gave to the Input objects and the\n",
        "output layers, and pass data via dictionaries."
      ],
      "metadata": {
        "id": "XMSJU-gQs5hp"
      }
    },
    {
      "cell_type": "code",
      "source": [
        "model.compile(optimizer=\"rmsprop\", \n",
        "              loss={\"priority\": \"mean_squared_error\", \"department\": \"categorical_crossentropy\"}, \n",
        "              metrics={\"priority\": [\"mean_absolute_error\"], \"department\": [\"accuracy\"]})\n",
        "model.fit({\"title\": title_data, \"text_body\": text_body_data, \"tags\": tags_data}, \n",
        "          {\"priority\": priority_data, \"department\": department_data}, epochs=1)\n",
        "model.evaluate({\"title\": title_data, \"text_body\": text_body_data, \"tags\": tags_data}, \n",
        "          {\"priority\": priority_data, \"department\": department_data})"
      ],
      "metadata": {
        "id": "kHwYjHPus6Ij",
        "outputId": "89914c7f-9976-479a-bf45-a8182db25e4b",
        "colab": {
          "base_uri": "https://localhost:8080/"
        }
      },
      "execution_count": null,
      "outputs": [
        {
          "output_type": "stream",
          "name": "stdout",
          "text": [
            "40/40 [==============================] - 1s 11ms/step - loss: 39.9906 - priority_loss: 0.3380 - department_loss: 39.6526 - priority_mean_absolute_error: 0.5056 - department_accuracy: 0.2188\n",
            "40/40 [==============================] - 0s 6ms/step - loss: 30.5513 - priority_loss: 0.3380 - department_loss: 30.2133 - priority_mean_absolute_error: 0.5056 - department_accuracy: 0.0680\n"
          ]
        },
        {
          "output_type": "execute_result",
          "data": {
            "text/plain": [
              "[30.551349639892578,\n",
              " 0.3380233645439148,\n",
              " 30.213321685791016,\n",
              " 0.5056027173995972,\n",
              " 0.06796874850988388]"
            ]
          },
          "metadata": {},
          "execution_count": 23
        }
      ]
    },
    {
      "cell_type": "code",
      "source": [
        "priority_preds, department_preds = model.predict({\"title\": title_data, \"text_body\": text_body_data, \"tags\": tags_data})"
      ],
      "metadata": {
        "id": "lIE7u6yvwnZz"
      },
      "execution_count": null,
      "outputs": []
    },
    {
      "cell_type": "code",
      "source": [
        "priority_preds"
      ],
      "metadata": {
        "id": "NfRDDsvcwwI3",
        "outputId": "329e634f-112f-4221-e0f1-ab4ffbcedfee",
        "colab": {
          "base_uri": "https://localhost:8080/"
        }
      },
      "execution_count": null,
      "outputs": [
        {
          "output_type": "execute_result",
          "data": {
            "text/plain": [
              "array([[1.],\n",
              "       [1.],\n",
              "       [1.],\n",
              "       ...,\n",
              "       [1.],\n",
              "       [1.],\n",
              "       [1.]], dtype=float32)"
            ]
          },
          "metadata": {},
          "execution_count": 25
        }
      ]
    },
    {
      "cell_type": "code",
      "source": [
        "department_preds"
      ],
      "metadata": {
        "id": "IzAhM_iPwxtf",
        "outputId": "60fa1904-29d3-459f-ceb2-4fffe6fc23a9",
        "colab": {
          "base_uri": "https://localhost:8080/"
        }
      },
      "execution_count": null,
      "outputs": [
        {
          "output_type": "execute_result",
          "data": {
            "text/plain": [
              "array([[2.02314183e-08, 3.25519312e-03, 2.39944508e-15, 9.96744752e-01],\n",
              "       [4.72251793e-10, 1.79023147e-02, 1.63657962e-16, 9.82097685e-01],\n",
              "       [2.29997341e-10, 1.54593226e-03, 7.28297258e-17, 9.98454094e-01],\n",
              "       ...,\n",
              "       [8.63428828e-10, 1.57810503e-03, 4.60607914e-17, 9.98421907e-01],\n",
              "       [1.97313921e-09, 9.15059994e-04, 1.01871964e-16, 9.99084949e-01],\n",
              "       [4.83980078e-10, 1.57466773e-02, 1.49814082e-16, 9.84253347e-01]],\n",
              "      dtype=float32)"
            ]
          },
          "metadata": {},
          "execution_count": 26
        }
      ]
    },
    {
      "cell_type": "markdown",
      "source": [
        "###The power of Functional API"
      ],
      "metadata": {
        "id": "fEnZXCJ7xNXx"
      }
    },
    {
      "cell_type": "markdown",
      "source": [
        "A Functional model is an explicit graph data structure. This makes it possible to\n",
        "inspect how layers are connected and reuse previous graph nodes (which are layer\n",
        "outputs) as part of new models. It also nicely fits the “mental model” that most researchers\n",
        "use when thinking about a deep neural network: a graph of layers. This enables\n",
        "two important use cases: model visualization and feature extraction.\n",
        "\n",
        "Let’s visualize the connectivity of the model we just defined (the topology of the\n",
        "model)."
      ],
      "metadata": {
        "id": "ysVlJKDkxQx0"
      }
    },
    {
      "cell_type": "code",
      "source": [
        "keras.utils.plot_model(model, \"ticket_classifier.png\")"
      ],
      "metadata": {
        "id": "R2_E-jIAxaLK",
        "outputId": "b76f6ba3-0e12-4b76-ca87-2b1d656efd7c",
        "colab": {
          "base_uri": "https://localhost:8080/"
        }
      },
      "execution_count": null,
      "outputs": [
        {
          "output_type": "execute_result",
          "data": {
            "image/png": "[encoded data removed]",
            "text/plain": [
              "<IPython.core.display.Image object>"
            ]
          },
          "metadata": {},
          "execution_count": 27
        }
      ]
    },
    {
      "cell_type": "markdown",
      "source": [
        "You can add to this plot the input and output shapes of each layer in the model, which\n",
        "can be helpful during debugging."
      ],
      "metadata": {
        "id": "QXkR2hD7xuLS"
      }
    },
    {
      "cell_type": "code",
      "source": [
        "keras.utils.plot_model(model, \"ticket_classifier_with_shape_info.png\", show_shapes=True)"
      ],
      "metadata": {
        "id": "HgEOum5QxuyE",
        "outputId": "610c89b6-4ea0-45ff-fd7d-75eb62c44f89",
        "colab": {
          "base_uri": "https://localhost:8080/"
        }
      },
      "execution_count": null,
      "outputs": [
        {
          "output_type": "execute_result",
          "data": {
            "image/png": "[encoded data removed]",
            "text/plain": [
              "<IPython.core.display.Image object>"
            ]
          },
          "metadata": {},
          "execution_count": 28
        }
      ]
    },
    {
      "cell_type": "markdown",
      "source": [
        "The “None” in the tensor shapes represents the batch size: this model allows batches\n",
        "of any size.\n",
        "\n",
        "Access to layer connectivity also means that you can inspect and reuse individual\n",
        "nodes (layer calls) in the graph. \n",
        "\n",
        "The `model.layers` model property provides the list\n",
        "of layers that make up the model, and for each layer you can query `layer.input` and `layer.output`."
      ],
      "metadata": {
        "id": "ZacWj2g0yIOh"
      }
    },
    {
      "cell_type": "code",
      "source": [
        "model.layers"
      ],
      "metadata": {
        "id": "4lCFw74kyYso",
        "outputId": "fdba024c-3642-4d2e-e599-9c69f947b140",
        "colab": {
          "base_uri": "https://localhost:8080/"
        }
      },
      "execution_count": null,
      "outputs": [
        {
          "output_type": "execute_result",
          "data": {
            "text/plain": [
              "[<keras.engine.input_layer.InputLayer at 0x7fd36d93fe10>,\n",
              " <keras.engine.input_layer.InputLayer at 0x7fd36d93fed0>,\n",
              " <keras.engine.input_layer.InputLayer at 0x7fd36d9adc10>,\n",
              " <keras.layers.merge.Concatenate at 0x7fd36d974d50>,\n",
              " <keras.layers.core.dense.Dense at 0x7fd36d992c50>,\n",
              " <keras.layers.core.dense.Dense at 0x7fd36d998450>,\n",
              " <keras.layers.core.dense.Dense at 0x7fd37113bd90>]"
            ]
          },
          "metadata": {},
          "execution_count": 29
        }
      ]
    },
    {
      "cell_type": "code",
      "source": [
        "model.layers[3].input"
      ],
      "metadata": {
        "id": "XXGpHkxSybSZ",
        "outputId": "34141b58-bc2a-4170-ef06-76d4289fdabc",
        "colab": {
          "base_uri": "https://localhost:8080/"
        }
      },
      "execution_count": null,
      "outputs": [
        {
          "output_type": "execute_result",
          "data": {
            "text/plain": [
              "[<KerasTensor: shape=(None, 10000) dtype=float32 (created by layer 'title')>,\n",
              " <KerasTensor: shape=(None, 10000) dtype=float32 (created by layer 'text_body')>,\n",
              " <KerasTensor: shape=(None, 100) dtype=float32 (created by layer 'tags')>]"
            ]
          },
          "metadata": {},
          "execution_count": 30
        }
      ]
    },
    {
      "cell_type": "code",
      "source": [
        "model.layers[3].output"
      ],
      "metadata": {
        "id": "bDHddjfxyr4N",
        "outputId": "b8fe098e-1513-45a3-f3d8-6b75bc4b2aaf",
        "colab": {
          "base_uri": "https://localhost:8080/"
        }
      },
      "execution_count": null,
      "outputs": [
        {
          "output_type": "execute_result",
          "data": {
            "text/plain": [
              "<KerasTensor: shape=(None, 20100) dtype=float32 (created by layer 'concatenate')>"
            ]
          },
          "metadata": {},
          "execution_count": 31
        }
      ]
    },
    {
      "cell_type": "markdown",
      "source": [
        "This enables you to do feature extraction, creating models that reuse intermediate features\n",
        "from another model.\n",
        "\n",
        "Let’s say you want to add another output to the previous model—you want to estimate\n",
        "how long a given issue ticket will take to resolve, a kind of difficulty rating. \n",
        "\n",
        "You could do this via a classification layer over three categories: “quick,” “medium,” and “difficult.” \n",
        "\n",
        "You don’t need to recreate and retrain a model from scratch. You can start\n",
        "from the intermediate features of your previous model, since you have access to them,\n",
        "like this."
      ],
      "metadata": {
        "id": "aMtCXrrNy0_O"
      }
    },
    {
      "cell_type": "code",
      "source": [
        "# layers[4] is our intermediate Dense layer\n",
        "features = model.layers[4].output\n",
        "difficulty = layers.Dense(3, activation=\"softmax\", name=\"difficulty\")(features)\n",
        "\n",
        "new_model =  keras.Model(inputs=[title, text_body, tags], outputs=[priority, department, difficulty])"
      ],
      "metadata": {
        "id": "iIiiZQB6zEia"
      },
      "execution_count": null,
      "outputs": []
    },
    {
      "cell_type": "markdown",
      "source": [
        "Let’s plot our new model."
      ],
      "metadata": {
        "id": "NkAJjdmjzsbd"
      }
    },
    {
      "cell_type": "code",
      "source": [
        "keras.utils.plot_model(new_model, \"updated_ticket_classifier.png\", show_shapes=True)"
      ],
      "metadata": {
        "id": "07JCJOrnztDR",
        "outputId": "44d23ffe-832c-48f3-d492-12b80ae62881",
        "colab": {
          "base_uri": "https://localhost:8080/"
        }
      },
      "execution_count": null,
      "outputs": [
        {
          "output_type": "execute_result",
          "data": {
            "image/png": "[encoded data removed]",
            "text/plain": [
              "<IPython.core.display.Image object>"
            ]
          },
          "metadata": {},
          "execution_count": 33
        }
      ]
    },
    {
      "cell_type": "markdown",
      "source": [
        "##Subclassing the Model class"
      ],
      "metadata": {
        "id": "ZXLYF4YUz6zI"
      }
    },
    {
      "cell_type": "markdown",
      "source": [
        "The last model-building pattern you should know about is the most advanced one:\n",
        "Model subclassing.\n",
        "\n",
        "Subclassing is pretty similar Model:\n",
        "* In the `__init__()` method, define the layers the model will use.\n",
        "* In the `call()` method, define the forward pass of the model, reusing the layers previously created.\n",
        "* Instantiate your subclass, and call it on data to create its weights.\n",
        "\n",
        "Let’s take a look at a simple example: we will reimplement the customer support ticket\n",
        "management model using a Model subclass.\n"
      ],
      "metadata": {
        "id": "FgQ1Mdusz_o0"
      }
    },
    {
      "cell_type": "code",
      "source": [
        "class CustomerTicketModel(keras.Model):\n",
        "\n",
        "  def __init__(self, num_departments) -> None:\n",
        "    # Don’t forget to call the super() constructor!\n",
        "    super().__init__()\n",
        "    # Define sublayers in the constructor.\n",
        "    self.concat_layer = layers.Concatenate()\n",
        "    self.mixing_layer = layers.Dense(64, activation=\"relu\")\n",
        "    self.priority_scorer = layers.Dense(1, activation=\"sigmoid\")\n",
        "    self.department_classifier = layers.Dense(num_departments, activation=\"softmax\")\n",
        "\n",
        "  def call(self, inputs):\n",
        "    title = inputs[\"title\"]\n",
        "    text_body = inputs[\"text_body\"]\n",
        "    tags = inputs[\"tags\"]\n",
        "\n",
        "    features = self.concat_layer([title, text_body, tags])\n",
        "    features = self.mixing_layer(features)\n",
        "    priority = self.priority_scorer(features)\n",
        "    department = self.department_classifier(features)\n",
        "\n",
        "    return priority, department"
      ],
      "metadata": {
        "id": "vBCp-clL5SnA"
      },
      "execution_count": null,
      "outputs": []
    },
    {
      "cell_type": "markdown",
      "source": [
        "Once you’ve defined the model, you can instantiate it. \n",
        "\n",
        "Note that it will only create its\n",
        "weights the first time you call it on some data, much like Layer subclasses:"
      ],
      "metadata": {
        "id": "rl_RvOksB0e-"
      }
    },
    {
      "cell_type": "code",
      "source": [
        "model = CustomerTicketModel(num_departments=4)"
      ],
      "metadata": {
        "id": "ezmQKZWxB1p_"
      },
      "execution_count": null,
      "outputs": []
    },
    {
      "cell_type": "code",
      "source": [
        "num_samples = 1280\n",
        "vocabulary_size = 10000\n",
        "num_tags = 100\n",
        "num_departments = 4\n",
        "\n",
        "# dummy input data\n",
        "title_data = np.random.randint(0, 2, size=(num_samples, vocabulary_size))\n",
        "text_body_data = np.random.randint(0, 2, size=(num_samples, vocabulary_size))\n",
        "tags_data = np.random.randint(0, 2, size=(num_samples, num_tags))\n",
        "\n",
        "# dummy target data\n",
        "priority_data = np.random.random(size=(num_samples, 1))\n",
        "department_data = np.random.randint(0, 2, size=(num_samples, num_departments))"
      ],
      "metadata": {
        "id": "87XMeSdDCXuy"
      },
      "execution_count": null,
      "outputs": []
    },
    {
      "cell_type": "code",
      "source": [
        "priority, department = model({\"title\": title_data, \"text_body\": text_body_data, \"tags\": tags_data})"
      ],
      "metadata": {
        "id": "z3kKH_X7CAmq"
      },
      "execution_count": null,
      "outputs": []
    },
    {
      "cell_type": "code",
      "source": [
        "priority"
      ],
      "metadata": {
        "id": "n_TkCIRwC5v4",
        "outputId": "b74add56-c5ba-46b2-cf4e-9b36f1bc7f1c",
        "colab": {
          "base_uri": "https://localhost:8080/"
        }
      },
      "execution_count": null,
      "outputs": [
        {
          "output_type": "execute_result",
          "data": {
            "text/plain": [
              "<tf.Tensor: shape=(1280, 1), dtype=float32, numpy=\n",
              "array([[0.5092661 ],\n",
              "       [0.37069905],\n",
              "       [0.60188127],\n",
              "       ...,\n",
              "       [0.7110101 ],\n",
              "       [0.50514495],\n",
              "       [0.27605012]], dtype=float32)>"
            ]
          },
          "metadata": {},
          "execution_count": 38
        }
      ]
    },
    {
      "cell_type": "code",
      "source": [
        "department"
      ],
      "metadata": {
        "id": "IdRepX2lC7DD",
        "outputId": "433a8636-a341-48e1-d9e4-4bb2832570db",
        "colab": {
          "base_uri": "https://localhost:8080/"
        }
      },
      "execution_count": null,
      "outputs": [
        {
          "output_type": "execute_result",
          "data": {
            "text/plain": [
              "<tf.Tensor: shape=(1280, 4), dtype=float32, numpy=\n",
              "array([[0.20488036, 0.1842343 , 0.05597334, 0.554912  ],\n",
              "       [0.83344275, 0.01262661, 0.02163043, 0.13230021],\n",
              "       [0.5117641 , 0.03121655, 0.08218714, 0.37483215],\n",
              "       ...,\n",
              "       [0.39985433, 0.05226773, 0.23640406, 0.31147385],\n",
              "       [0.4012751 , 0.07318418, 0.07348944, 0.45205128],\n",
              "       [0.14873205, 0.04966399, 0.09099649, 0.7106075 ]], dtype=float32)>"
            ]
          },
          "metadata": {},
          "execution_count": 39
        }
      ]
    },
    {
      "cell_type": "markdown",
      "source": [
        "It’s simple: a “layer” is a building block you use to create models, and a “model”\n",
        "is the top-level object that you will actually train, export for inference, etc.\n",
        "\n",
        "In short, a\n",
        "Model has `fit()`, `evaluate()`, and `predict()` methods. Layers don’t. Other than that,\n",
        "the two classes are virtually identical.\n",
        "\n",
        "You can compile and train a Model subclass just like a Sequential or Functional\n",
        "model:"
      ],
      "metadata": {
        "id": "HMp2VfhHDDoT"
      }
    },
    {
      "cell_type": "code",
      "source": [
        "# The structure of what you pass as the loss and metrics arguments must match exactly what gets returned by call()—here, a list of two elements.\n",
        "model.compile(optimizer=\"rmsprop\", \n",
        "              loss=[\"mean_squared_error\", \"categorical_crossentropy\"], \n",
        "              metrics=[[\"mean_absolute_error\"], [\"accuracy\"]])\n",
        "\n",
        "# The structure of the input data must match exactly what is expected by the call() method—here, a dict with keys title, text_body, and tags.\n",
        "# The structure of the target data must match exactly what is returned by the call() method—here, a list of two elements.\n",
        "model.fit({\"title\": title_data, \"text_body\": text_body_data, \"tags\": tags_data}, [priority_data, department_data], epochs=1)"
      ],
      "metadata": {
        "id": "bhBm-93mDUai",
        "outputId": "898d0a7a-c0ad-4755-8fbe-44ab7bd92710",
        "colab": {
          "base_uri": "https://localhost:8080/"
        }
      },
      "execution_count": null,
      "outputs": [
        {
          "output_type": "stream",
          "name": "stdout",
          "text": [
            "40/40 [==============================] - 1s 10ms/step - loss: 28.6239 - output_1_loss: 0.3245 - output_2_loss: 28.2993 - output_1_mean_absolute_error: 0.4921 - output_2_accuracy: 0.2305\n"
          ]
        },
        {
          "output_type": "execute_result",
          "data": {
            "text/plain": [
              "<keras.callbacks.History at 0x7fd36d9b7690>"
            ]
          },
          "metadata": {},
          "execution_count": 40
        }
      ]
    },
    {
      "cell_type": "code",
      "source": [
        "model.evaluate({\"title\": title_data, \"text_body\": text_body_data, \"tags\": tags_data}, [priority_data, department_data])"
      ],
      "metadata": {
        "id": "J4_L8yRaGpCk",
        "outputId": "c21bc1ee-7e59-4c93-cddd-af333b2ae648",
        "colab": {
          "base_uri": "https://localhost:8080/"
        }
      },
      "execution_count": null,
      "outputs": [
        {
          "output_type": "stream",
          "name": "stdout",
          "text": [
            "40/40 [==============================] - 0s 5ms/step - loss: 32.3730 - output_1_loss: 0.3298 - output_2_loss: 32.0432 - output_1_mean_absolute_error: 0.4980 - output_2_accuracy: 0.2602\n"
          ]
        },
        {
          "output_type": "execute_result",
          "data": {
            "text/plain": [
              "[32.37300109863281,\n",
              " 0.3298144042491913,\n",
              " 32.043190002441406,\n",
              " 0.49799150228500366,\n",
              " 0.2601562440395355]"
            ]
          },
          "metadata": {},
          "execution_count": 41
        }
      ]
    },
    {
      "cell_type": "code",
      "source": [
        "priority_preds, department_preds = model.predict({\"title\": title_data, \"text_body\": text_body_data, \"tags\": tags_data})"
      ],
      "metadata": {
        "id": "LQ5LX9MHFB4j"
      },
      "execution_count": null,
      "outputs": []
    },
    {
      "cell_type": "code",
      "source": [
        "priority_preds"
      ],
      "metadata": {
        "id": "fbQKkhUYGssB",
        "outputId": "39604c4e-a1f7-4a2d-86f6-ff08b27a32bb",
        "colab": {
          "base_uri": "https://localhost:8080/"
        }
      },
      "execution_count": null,
      "outputs": [
        {
          "output_type": "execute_result",
          "data": {
            "text/plain": [
              "array([[1.],\n",
              "       [1.],\n",
              "       [1.],\n",
              "       ...,\n",
              "       [1.],\n",
              "       [1.],\n",
              "       [1.]], dtype=float32)"
            ]
          },
          "metadata": {},
          "execution_count": 43
        }
      ]
    },
    {
      "cell_type": "code",
      "source": [
        "department_preds"
      ],
      "metadata": {
        "id": "LVVtitazGuE_",
        "outputId": "aebb60df-0196-4859-ca03-cb3b2884bafb",
        "colab": {
          "base_uri": "https://localhost:8080/"
        }
      },
      "execution_count": null,
      "outputs": [
        {
          "output_type": "execute_result",
          "data": {
            "text/plain": [
              "array([[8.1883627e-07, 9.9999917e-01, 5.7633003e-14, 2.7894659e-10],\n",
              "       [1.8162224e-06, 9.9999821e-01, 2.4095477e-14, 2.7298391e-10],\n",
              "       [7.6240133e-07, 9.9999928e-01, 2.9036354e-14, 7.4898470e-09],\n",
              "       ...,\n",
              "       [1.8075964e-06, 9.9999821e-01, 9.5929727e-14, 7.8634554e-10],\n",
              "       [9.2639164e-07, 9.9999905e-01, 5.3533295e-14, 1.4397943e-09],\n",
              "       [2.4637627e-06, 9.9999750e-01, 8.5802046e-14, 8.5591695e-10]],\n",
              "      dtype=float32)"
            ]
          },
          "metadata": {},
          "execution_count": 44
        }
      ]
    },
    {
      "cell_type": "markdown",
      "source": [
        "The Model subclassing workflow is the most flexible way to build a model. It enables\n",
        "you to build models that cannot be expressed as directed acyclic graphs of layers—\n",
        "imagine, for instance, a model where the `call()` method uses layers inside a for loop,\n",
        "or even calls them recursively."
      ],
      "metadata": {
        "id": "8tUdAgUHG9la"
      }
    },
    {
      "cell_type": "markdown",
      "source": [
        "##Mixing and matching different components"
      ],
      "metadata": {
        "id": "N64lfmF3HFfp"
      }
    },
    {
      "cell_type": "markdown",
      "source": [
        "All models in the Keras API\n",
        "can smoothly interoperate with each other, whether they’re Sequential models, Functional\n",
        "models, or subclassed models written from scratch. They’re all part of the same\n",
        "spectrum of workflows.\n",
        "\n",
        "For instance, you can use a subclassed layer or model in a Functional model."
      ],
      "metadata": {
        "id": "-KONfk-z3TuJ"
      }
    },
    {
      "cell_type": "code",
      "source": [
        "class Classifier(keras.Model):\n",
        "\n",
        "  def __init__(self, num_classes=2) -> None:\n",
        "      super().__init__()\n",
        "\n",
        "      if num_classes == 2:\n",
        "        num_units = 1\n",
        "        activation = \"soigmoid\"\n",
        "      else:\n",
        "        num_units = num_classes\n",
        "        activation = \"softmax\"\n",
        "      self.dense = layers.Dense(num_units, activation=activation)\n",
        "\n",
        "  def call(self, inputs):\n",
        "      return self.dense(inputs)"
      ],
      "metadata": {
        "id": "2QXvMRJk3WV3"
      },
      "execution_count": null,
      "outputs": []
    },
    {
      "cell_type": "code",
      "source": [
        "inputs = keras.Input(shape=(64, ))\n",
        "features = layers.Dense(64, activation=\"relu\")(inputs)\n",
        "outputs = Classifier(num_classes=10)(features)\n",
        "model = keras.Model(inputs=inputs, outputs=outputs)"
      ],
      "metadata": {
        "id": "Trp483Ps6uwU"
      },
      "execution_count": null,
      "outputs": []
    },
    {
      "cell_type": "markdown",
      "source": [
        "Inversely, you can use a Functional model as part of a subclassed layer or model."
      ],
      "metadata": {
        "id": "De7PR8aP7hJT"
      }
    },
    {
      "cell_type": "code",
      "source": [
        "inputs = keras.Input(shape=(64,))\n",
        "outputs = layers.Dense(1, activation=\"sigmoid\")(inputs)\n",
        "binary_classifier = keras.Model(inputs=inputs, outputs=outputs)"
      ],
      "metadata": {
        "id": "7zHUXCGL7hlt"
      },
      "execution_count": null,
      "outputs": []
    },
    {
      "cell_type": "code",
      "source": [
        "class MyModel(keras.Model):\n",
        "\n",
        "  def __init__(self, num_classes=2) -> None:\n",
        "      super().__init__()\n",
        "\n",
        "      self.dense = layers.Dense(64, activation=\"relu\")\n",
        "      self.classifier = binary_classifier\n",
        "\n",
        "  def call(self, inputs):\n",
        "      features = self.dense(inputs)\n",
        "      return self.classifier(features)"
      ],
      "metadata": {
        "id": "T_IMS3Ss7qKV"
      },
      "execution_count": null,
      "outputs": []
    },
    {
      "cell_type": "code",
      "source": [
        "model = MyModel()"
      ],
      "metadata": {
        "id": "vBoMK8EP8OCp"
      },
      "execution_count": null,
      "outputs": []
    },
    {
      "cell_type": "markdown",
      "source": [
        "##Conclusion"
      ],
      "metadata": {
        "id": "ZRD1kfxL9xIa"
      }
    },
    {
      "cell_type": "markdown",
      "source": [
        "In general, the Functional API provides you with a pretty good trade-off between\n",
        "ease of use and flexibility. It also gives you direct access to layer connectivity, which is\n",
        "very powerful for use cases such as model plotting or feature extraction. \n",
        "\n",
        "If you can use\n",
        "the Functional API—that is, if your model can be expressed as a directed acyclic graph\n",
        "of layers—I recommend using it over model subclassing.\n",
        "\n",
        "In general, using Functional models\n",
        "that include subclassed layers provides the best of both worlds: high development flexibility\n",
        "while retaining the advantages of the Functional API.\n",
        "\n"
      ],
      "metadata": {
        "id": "F2c73QKJ90I7"
      }
    }
  ]
}