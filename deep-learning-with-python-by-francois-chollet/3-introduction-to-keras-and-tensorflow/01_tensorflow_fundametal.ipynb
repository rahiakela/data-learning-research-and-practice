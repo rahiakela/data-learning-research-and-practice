{
  "nbformat": 4,
  "nbformat_minor": 0,
  "metadata": {
    "colab": {
      "name": "01-tensorflow-fundametal.ipynb",
      "provenance": [],
      "toc_visible": true,
      "authorship_tag": "ABX9TyMpJuQNQMjHzwcwkr57pZj7",
      "include_colab_link": true
    },
    "kernelspec": {
      "name": "python3",
      "display_name": "Python 3"
    },
    "language_info": {
      "name": "python"
    }
  },
  "cells": [
    {
      "cell_type": "markdown",
      "metadata": {
        "id": "view-in-github",
        "colab_type": "text"
      },
      "source": [
        "<a href=\"https://colab.research.google.com/github/rahiakela/data-learning-research-and-practice/blob/main/deep-learning-with-python-by-francois-chollet/3-introduction-to-keras-and-tensorflow/01_tensorflow_fundametal.ipynb\" target=\"_parent\"><img src=\"https://colab.research.google.com/assets/colab-badge.svg\" alt=\"Open In Colab\"/></a>"
      ]
    },
    {
      "cell_type": "markdown",
      "source": [
        "##First steps with TensorFlow"
      ],
      "metadata": {
        "id": "oza27QQk5wnr"
      }
    },
    {
      "cell_type": "markdown",
      "source": [
        "As we know, training a neural network revolves around the following\n",
        "concepts:\n",
        "\n",
        "- First, low-level tensor manipulation—the infrastructure that underlies all modern machine learning. This translates to TensorFlow APIs:\n",
        "  - Tensors, including special tensors that store the network’s state (variables)\n",
        "  - Tensor operations such as addition, relu, matmul\n",
        "  - Backpropagation, a way to compute the gradient of mathematical expressions\n",
        "\n",
        "- Second, high-level deep learning concepts. This translates to Keras APIs:\n",
        "  - Layers, which are combined into a model\n",
        "  - A loss function, which defines the feedback signal used for learning\n",
        "  - An optimizer, which determines how learning proceeds\n",
        "  - Metrics to evaluate model performance, such as accuracy\n",
        "  - A training loop that performs mini-batch stochastic gradient descent\n",
        "\n",
        "Now let’s take a deeper dive into how all of these different concepts can be\n",
        "approached in practice using TensorFlow and Keras."
      ],
      "metadata": {
        "id": "wQz2lVRm5xWj"
      }
    },
    {
      "cell_type": "markdown",
      "source": [
        "##Setup"
      ],
      "metadata": {
        "id": "yp5DFnZ06gYJ"
      }
    },
    {
      "cell_type": "code",
      "source": [
        "import tensorflow as tf\n",
        "import numpy as np\n",
        "import matplotlib.pyplot as plt"
      ],
      "metadata": {
        "id": "Sbi-okLm6hc_"
      },
      "execution_count": 1,
      "outputs": []
    },
    {
      "cell_type": "markdown",
      "source": [
        "##Constant tensors and variables"
      ],
      "metadata": {
        "id": "RXyY1N4W6vAZ"
      }
    },
    {
      "cell_type": "markdown",
      "source": [
        "To do anything in TensorFlow, we’re going to need some tensors. Tensors need to be created with some initial value. \n",
        "\n",
        "For instance, you could create all-ones or all-zeros tensors, or tensors of values drawn from a random distribution.\n",
        "\n",
        "**All-ones or all-zeros tensors**"
      ],
      "metadata": {
        "id": "egbRby_b6xLG"
      }
    },
    {
      "cell_type": "code",
      "source": [
        "x = tf.ones(shape=(2, 1))\n",
        "print(x)"
      ],
      "metadata": {
        "colab": {
          "base_uri": "https://localhost:8080/"
        },
        "id": "_LUP1jsl64vL",
        "outputId": "98fd9c10-5c37-4dbe-d4ef-9238e3427152"
      },
      "execution_count": 2,
      "outputs": [
        {
          "output_type": "stream",
          "name": "stdout",
          "text": [
            "tf.Tensor(\n",
            "[[1.]\n",
            " [1.]], shape=(2, 1), dtype=float32)\n"
          ]
        }
      ]
    },
    {
      "cell_type": "code",
      "source": [
        "x = np.ones(shape=(2, 1))\n",
        "print(x)"
      ],
      "metadata": {
        "colab": {
          "base_uri": "https://localhost:8080/"
        },
        "id": "vaDffqv57ALI",
        "outputId": "3e8be407-e2dc-4b8a-dca1-31eef77bbc2c"
      },
      "execution_count": 3,
      "outputs": [
        {
          "output_type": "stream",
          "name": "stdout",
          "text": [
            "[[1.]\n",
            " [1.]]\n"
          ]
        }
      ]
    },
    {
      "cell_type": "code",
      "source": [
        "x = tf.zeros(shape=(2, 1))\n",
        "print(x)"
      ],
      "metadata": {
        "colab": {
          "base_uri": "https://localhost:8080/"
        },
        "id": "33wMm3X_7I85",
        "outputId": "c2a22bf4-ae00-41ef-80fc-44edfb0a6649"
      },
      "execution_count": 4,
      "outputs": [
        {
          "output_type": "stream",
          "name": "stdout",
          "text": [
            "tf.Tensor(\n",
            "[[0.]\n",
            " [0.]], shape=(2, 1), dtype=float32)\n"
          ]
        }
      ]
    },
    {
      "cell_type": "code",
      "source": [
        "x = np.zeros(shape=(2, 1))\n",
        "print(x)"
      ],
      "metadata": {
        "colab": {
          "base_uri": "https://localhost:8080/"
        },
        "id": "MNK1jUYN7Ojb",
        "outputId": "2c2e7e5c-b683-4c4f-fb9f-91634592ab0f"
      },
      "execution_count": 5,
      "outputs": [
        {
          "output_type": "stream",
          "name": "stdout",
          "text": [
            "[[0.]\n",
            " [0.]]\n"
          ]
        }
      ]
    },
    {
      "cell_type": "markdown",
      "source": [
        "**Random tensors**"
      ],
      "metadata": {
        "id": "BNlhrspK7Zws"
      }
    },
    {
      "cell_type": "code",
      "source": [
        "# Tensor of random values drawn from a normal distribution with mean 0 and standard deviation 1.\n",
        "x = tf.random.normal(shape=(3, 1), mean=0.0, stddev=1.0)\n",
        "print(x)"
      ],
      "metadata": {
        "colab": {
          "base_uri": "https://localhost:8080/"
        },
        "id": "TjeKGDx-7Y28",
        "outputId": "5060343f-511f-4b8f-f0ad-d714a8e94b8d"
      },
      "execution_count": 6,
      "outputs": [
        {
          "output_type": "stream",
          "name": "stdout",
          "text": [
            "tf.Tensor(\n",
            "[[-0.17470434]\n",
            " [-2.6843026 ]\n",
            " [-0.04324743]], shape=(3, 1), dtype=float32)\n"
          ]
        }
      ]
    },
    {
      "cell_type": "code",
      "source": [
        "x = np.random.normal(size=(3, 1), loc=0.0, scale=1.0)\n",
        "print(x)"
      ],
      "metadata": {
        "colab": {
          "base_uri": "https://localhost:8080/"
        },
        "id": "p5jLNjx77yip",
        "outputId": "6f8f67ee-b991-427f-fdd4-1ad2609b61ee"
      },
      "execution_count": 7,
      "outputs": [
        {
          "output_type": "stream",
          "name": "stdout",
          "text": [
            "[[-1.45274625]\n",
            " [-0.35813236]\n",
            " [ 0.49590577]]\n"
          ]
        }
      ]
    },
    {
      "cell_type": "code",
      "source": [
        "# Tensor of random values drawn from a uniform distribution between 0 and 1.\n",
        "x = tf.random.uniform(shape=(3, 1), minval=0.0, maxval=1.0)\n",
        "print(x)"
      ],
      "metadata": {
        "colab": {
          "base_uri": "https://localhost:8080/"
        },
        "id": "fmbaMt1M8EqA",
        "outputId": "5d7c3703-d661-4c5b-8e93-8716d061b90f"
      },
      "execution_count": 8,
      "outputs": [
        {
          "output_type": "stream",
          "name": "stdout",
          "text": [
            "tf.Tensor(\n",
            "[[0.0677222 ]\n",
            " [0.89348197]\n",
            " [0.84030616]], shape=(3, 1), dtype=float32)\n"
          ]
        }
      ]
    },
    {
      "cell_type": "code",
      "source": [
        "x = np.random.uniform(size=(3, 1), low=0.0, high=1.0)\n",
        "print(x)"
      ],
      "metadata": {
        "colab": {
          "base_uri": "https://localhost:8080/"
        },
        "id": "AuRlzqSg9W17",
        "outputId": "15f3e996-74dc-4594-e846-a59d1a61f2cc"
      },
      "execution_count": 9,
      "outputs": [
        {
          "output_type": "stream",
          "name": "stdout",
          "text": [
            "[[0.92575194]\n",
            " [0.8329919 ]\n",
            " [0.90909402]]\n"
          ]
        }
      ]
    },
    {
      "cell_type": "markdown",
      "source": [
        "A significant difference between NumPy arrays and TensorFlow tensors is that Tensor-\n",
        "Flow tensors aren’t assignable: they’re constant. \n",
        "\n",
        "For instance, in NumPy, you can do\n",
        "the following."
      ],
      "metadata": {
        "id": "jnrPqjam9ppV"
      }
    },
    {
      "cell_type": "code",
      "source": [
        "x = np.ones(shape=(2, 2))\n",
        "print(x)"
      ],
      "metadata": {
        "colab": {
          "base_uri": "https://localhost:8080/"
        },
        "id": "Cq1s36K79tgt",
        "outputId": "0e61aa72-fa90-4e7f-d7cf-3a043eb83b49"
      },
      "execution_count": 10,
      "outputs": [
        {
          "output_type": "stream",
          "name": "stdout",
          "text": [
            "[[1. 1.]\n",
            " [1. 1.]]\n"
          ]
        }
      ]
    },
    {
      "cell_type": "code",
      "source": [
        "x[0, 0] = 0.0\n",
        "print(x)"
      ],
      "metadata": {
        "colab": {
          "base_uri": "https://localhost:8080/"
        },
        "id": "eftc6wiz938F",
        "outputId": "d5fc97d4-b66e-483e-b561-2dc3eb9ea0fa"
      },
      "execution_count": 12,
      "outputs": [
        {
          "output_type": "stream",
          "name": "stdout",
          "text": [
            "[[0. 1.]\n",
            " [1. 1.]]\n"
          ]
        }
      ]
    },
    {
      "cell_type": "markdown",
      "source": [
        "Try to do the same thing in TensorFlow, and you will get an error: “EagerTensor object\n",
        "does not support item assignment.”"
      ],
      "metadata": {
        "id": "Ur_TDFXb9_1E"
      }
    },
    {
      "cell_type": "code",
      "source": [
        "x = tf.ones(shape=(2, 2))\n",
        "print(x)"
      ],
      "metadata": {
        "colab": {
          "base_uri": "https://localhost:8080/"
        },
        "id": "mqH-AJDr-BKD",
        "outputId": "cf1607bd-00a5-440e-d3ca-0ee19109c45d"
      },
      "execution_count": 13,
      "outputs": [
        {
          "output_type": "stream",
          "name": "stdout",
          "text": [
            "tf.Tensor(\n",
            "[[1. 1.]\n",
            " [1. 1.]], shape=(2, 2), dtype=float32)\n"
          ]
        }
      ]
    },
    {
      "cell_type": "code",
      "source": [
        "# x[0, 0] = 0.0"
      ],
      "metadata": {
        "id": "QYkoIoSy-Fp1"
      },
      "execution_count": null,
      "outputs": []
    },
    {
      "cell_type": "markdown",
      "source": [
        "```log\n",
        "---------------------------------------------------------------------------\n",
        "TypeError                                 Traceback (most recent call last)\n",
        "<ipython-input-14-b9cc6021f76a> in <module>()\n",
        "----> 1 x[0, 0] = 0.0\n",
        "      2 print(x)\n",
        "\n",
        "TypeError: 'tensorflow.python.framework.ops.EagerTensor' object does not support item assignment\n",
        "```\n",
        "\n",
        "To train a model, we’ll need to update its state, which is a set of tensors. If tensors aren’t assignable, how do we do it?\n",
        "\n",
        "That’s where variables come in. `tf.Variable` is the\n",
        "class meant to manage modifiable state in TensorFlow.\n",
        "\n",
        "To create a variable, you need to provide some initial value, such as a random tensor."
      ],
      "metadata": {
        "id": "w5N7dq9F-Qdv"
      }
    },
    {
      "cell_type": "code",
      "source": [
        "v = tf.Variable(initial_value=tf.random.normal(shape=(3, 1)))\n",
        "print(v)"
      ],
      "metadata": {
        "colab": {
          "base_uri": "https://localhost:8080/"
        },
        "id": "90mYsRWj_dVw",
        "outputId": "85431dfa-d848-4377-bf4f-1a6fdbe5b677"
      },
      "execution_count": 15,
      "outputs": [
        {
          "output_type": "stream",
          "name": "stdout",
          "text": [
            "<tf.Variable 'Variable:0' shape=(3, 1) dtype=float32, numpy=\n",
            "array([[ 0.48890153],\n",
            "       [-1.4609447 ],\n",
            "       [-1.5606052 ]], dtype=float32)>\n"
          ]
        }
      ]
    },
    {
      "cell_type": "markdown",
      "source": [
        "The state of a variable can be modified via its assign method, as follows."
      ],
      "metadata": {
        "id": "OY5Ty6_m_y0H"
      }
    },
    {
      "cell_type": "code",
      "source": [
        "v.assign(tf.ones((3, 1)))"
      ],
      "metadata": {
        "colab": {
          "base_uri": "https://localhost:8080/"
        },
        "id": "WnQe8kX6_zNM",
        "outputId": "4eb7a8bd-9d8f-4d7a-8ec3-6f96dd459b9c"
      },
      "execution_count": 16,
      "outputs": [
        {
          "output_type": "execute_result",
          "data": {
            "text/plain": [
              "<tf.Variable 'UnreadVariable' shape=(3, 1) dtype=float32, numpy=\n",
              "array([[1.],\n",
              "       [1.],\n",
              "       [1.]], dtype=float32)>"
            ]
          },
          "metadata": {},
          "execution_count": 16
        }
      ]
    },
    {
      "cell_type": "markdown",
      "source": [
        "It also works for a subset of the coefficients."
      ],
      "metadata": {
        "id": "oLDoEf30__KZ"
      }
    },
    {
      "cell_type": "code",
      "source": [
        "v[0, 0].assign((3.0))"
      ],
      "metadata": {
        "colab": {
          "base_uri": "https://localhost:8080/"
        },
        "id": "w5vPMr7Y__nT",
        "outputId": "e5e32cf4-2e0f-4594-8c3b-fa581d42ab61"
      },
      "execution_count": 17,
      "outputs": [
        {
          "output_type": "execute_result",
          "data": {
            "text/plain": [
              "<tf.Variable 'UnreadVariable' shape=(3, 1) dtype=float32, numpy=\n",
              "array([[3.],\n",
              "       [1.],\n",
              "       [1.]], dtype=float32)>"
            ]
          },
          "metadata": {},
          "execution_count": 17
        }
      ]
    },
    {
      "cell_type": "code",
      "source": [
        "v[1, 0].assign((4.0))"
      ],
      "metadata": {
        "colab": {
          "base_uri": "https://localhost:8080/"
        },
        "id": "-OhBXiKNAGqU",
        "outputId": "b71b75a1-0ebd-408c-bdf1-b9e523b3e21e"
      },
      "execution_count": 20,
      "outputs": [
        {
          "output_type": "execute_result",
          "data": {
            "text/plain": [
              "<tf.Variable 'UnreadVariable' shape=(3, 1) dtype=float32, numpy=\n",
              "array([[3.],\n",
              "       [4.],\n",
              "       [1.]], dtype=float32)>"
            ]
          },
          "metadata": {},
          "execution_count": 20
        }
      ]
    },
    {
      "cell_type": "markdown",
      "source": [
        "Similarly, assign_add() and assign_sub() are efficient equivalents of += and -=, as shown next."
      ],
      "metadata": {
        "id": "qV28BawJAUgs"
      }
    },
    {
      "cell_type": "code",
      "source": [
        "v.assign_add(tf.ones((3, 1)))"
      ],
      "metadata": {
        "colab": {
          "base_uri": "https://localhost:8080/"
        },
        "id": "-InA-JbUAV2s",
        "outputId": "1f68a138-a97e-4a38-97b6-c23bc907258f"
      },
      "execution_count": 21,
      "outputs": [
        {
          "output_type": "execute_result",
          "data": {
            "text/plain": [
              "<tf.Variable 'UnreadVariable' shape=(3, 1) dtype=float32, numpy=\n",
              "array([[4.],\n",
              "       [5.],\n",
              "       [2.]], dtype=float32)>"
            ]
          },
          "metadata": {},
          "execution_count": 21
        }
      ]
    },
    {
      "cell_type": "code",
      "source": [
        "v.assign_sub(tf.ones((3, 1)))"
      ],
      "metadata": {
        "colab": {
          "base_uri": "https://localhost:8080/"
        },
        "id": "b7oH--oeAg-e",
        "outputId": "e3334940-31da-442b-ad4c-31f45427fb28"
      },
      "execution_count": 22,
      "outputs": [
        {
          "output_type": "execute_result",
          "data": {
            "text/plain": [
              "<tf.Variable 'UnreadVariable' shape=(3, 1) dtype=float32, numpy=\n",
              "array([[3.],\n",
              "       [4.],\n",
              "       [1.]], dtype=float32)>"
            ]
          },
          "metadata": {},
          "execution_count": 22
        }
      ]
    },
    {
      "cell_type": "markdown",
      "source": [
        "##Tensor operations: Doing math in TensorFlow"
      ],
      "metadata": {
        "id": "tpYNFDmfAoXl"
      }
    },
    {
      "cell_type": "markdown",
      "source": [
        ""
      ],
      "metadata": {
        "id": "hOHINVtyApHT"
      }
    }
  ]
}