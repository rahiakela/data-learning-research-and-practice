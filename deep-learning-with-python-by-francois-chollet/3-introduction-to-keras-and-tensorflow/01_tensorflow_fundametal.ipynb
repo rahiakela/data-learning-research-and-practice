{
  "nbformat": 4,
  "nbformat_minor": 0,
  "metadata": {
    "colab": {
      "name": "01-tensorflow-fundametal.ipynb",
      "provenance": [],
      "toc_visible": true,
      "authorship_tag": "ABX9TyN2TebGAQ2wvCeFxIcYPpbJ",
      "include_colab_link": true
    },
    "kernelspec": {
      "name": "python3",
      "display_name": "Python 3"
    },
    "language_info": {
      "name": "python"
    }
  },
  "cells": [
    {
      "cell_type": "markdown",
      "metadata": {
        "id": "view-in-github",
        "colab_type": "text"
      },
      "source": [
        "<a href=\"https://colab.research.google.com/github/rahiakela/data-learning-research-and-practice/blob/main/deep-learning-with-python-by-francois-chollet/3-introduction-to-keras-and-tensorflow/01_tensorflow_fundametal.ipynb\" target=\"_parent\"><img src=\"https://colab.research.google.com/assets/colab-badge.svg\" alt=\"Open In Colab\"/></a>"
      ]
    },
    {
      "cell_type": "markdown",
      "source": [
        "##First steps with TensorFlow"
      ],
      "metadata": {
        "id": "oza27QQk5wnr"
      }
    },
    {
      "cell_type": "markdown",
      "source": [
        "As we know, training a neural network revolves around the following\n",
        "concepts:\n",
        "\n",
        "- First, low-level tensor manipulation—the infrastructure that underlies all modern machine learning. This translates to TensorFlow APIs:\n",
        "  - Tensors, including special tensors that store the network’s state (variables)\n",
        "  - Tensor operations such as addition, relu, matmul\n",
        "  - Backpropagation, a way to compute the gradient of mathematical expressions\n",
        "\n",
        "- Second, high-level deep learning concepts. This translates to Keras APIs:\n",
        "  - Layers, which are combined into a model\n",
        "  - A loss function, which defines the feedback signal used for learning\n",
        "  - An optimizer, which determines how learning proceeds\n",
        "  - Metrics to evaluate model performance, such as accuracy\n",
        "  - A training loop that performs mini-batch stochastic gradient descent\n",
        "\n",
        "Now let’s take a deeper dive into how all of these different concepts can be\n",
        "approached in practice using TensorFlow and Keras."
      ],
      "metadata": {
        "id": "wQz2lVRm5xWj"
      }
    },
    {
      "cell_type": "markdown",
      "source": [
        "##Setup"
      ],
      "metadata": {
        "id": "yp5DFnZ06gYJ"
      }
    },
    {
      "cell_type": "code",
      "source": [
        "import tensorflow as tf\n",
        "import numpy as np\n",
        "import matplotlib.pyplot as plt"
      ],
      "metadata": {
        "id": "Sbi-okLm6hc_"
      },
      "execution_count": 1,
      "outputs": []
    },
    {
      "cell_type": "markdown",
      "source": [
        "##Constant tensors and variables"
      ],
      "metadata": {
        "id": "RXyY1N4W6vAZ"
      }
    },
    {
      "cell_type": "markdown",
      "source": [
        "To do anything in TensorFlow, we’re going to need some tensors. Tensors need to be created with some initial value. \n",
        "\n",
        "For instance, you could create all-ones or all-zeros tensors, or tensors of values drawn from a random distribution.\n",
        "\n",
        "**All-ones or all-zeros tensors**"
      ],
      "metadata": {
        "id": "egbRby_b6xLG"
      }
    },
    {
      "cell_type": "code",
      "source": [
        "x = tf.ones(shape=(2, 1))\n",
        "print(x)"
      ],
      "metadata": {
        "colab": {
          "base_uri": "https://localhost:8080/"
        },
        "id": "_LUP1jsl64vL",
        "outputId": "91bc0c1b-e073-4a20-e173-62545b6942e7"
      },
      "execution_count": 2,
      "outputs": [
        {
          "output_type": "stream",
          "name": "stdout",
          "text": [
            "tf.Tensor(\n",
            "[[1.]\n",
            " [1.]], shape=(2, 1), dtype=float32)\n"
          ]
        }
      ]
    },
    {
      "cell_type": "code",
      "source": [
        "x = np.ones(shape=(2, 1))\n",
        "print(x)"
      ],
      "metadata": {
        "colab": {
          "base_uri": "https://localhost:8080/"
        },
        "id": "vaDffqv57ALI",
        "outputId": "bc84c875-2d4b-4b73-ea65-1b7f40cbbe2a"
      },
      "execution_count": 3,
      "outputs": [
        {
          "output_type": "stream",
          "name": "stdout",
          "text": [
            "[[1.]\n",
            " [1.]]\n"
          ]
        }
      ]
    },
    {
      "cell_type": "code",
      "source": [
        "x = tf.zeros(shape=(2, 1))\n",
        "print(x)"
      ],
      "metadata": {
        "colab": {
          "base_uri": "https://localhost:8080/"
        },
        "id": "33wMm3X_7I85",
        "outputId": "49a0a40b-e066-473c-d884-59af6d090736"
      },
      "execution_count": 4,
      "outputs": [
        {
          "output_type": "stream",
          "name": "stdout",
          "text": [
            "tf.Tensor(\n",
            "[[0.]\n",
            " [0.]], shape=(2, 1), dtype=float32)\n"
          ]
        }
      ]
    },
    {
      "cell_type": "code",
      "source": [
        "x = np.zeros(shape=(2, 1))\n",
        "print(x)"
      ],
      "metadata": {
        "colab": {
          "base_uri": "https://localhost:8080/"
        },
        "id": "MNK1jUYN7Ojb",
        "outputId": "15e17485-e81c-47e1-eafc-910e9ccc8d4a"
      },
      "execution_count": 5,
      "outputs": [
        {
          "output_type": "stream",
          "name": "stdout",
          "text": [
            "[[0.]\n",
            " [0.]]\n"
          ]
        }
      ]
    },
    {
      "cell_type": "markdown",
      "source": [
        "**Random tensors**"
      ],
      "metadata": {
        "id": "BNlhrspK7Zws"
      }
    },
    {
      "cell_type": "code",
      "source": [
        "# Tensor of random values drawn from a normal distribution with mean 0 and standard deviation 1.\n",
        "x = tf.random.normal(shape=(3, 1), mean=0.0, stddev=1.0)\n",
        "print(x)"
      ],
      "metadata": {
        "colab": {
          "base_uri": "https://localhost:8080/"
        },
        "id": "TjeKGDx-7Y28",
        "outputId": "0e875987-1692-4a45-d65b-69c853b36253"
      },
      "execution_count": 6,
      "outputs": [
        {
          "output_type": "stream",
          "name": "stdout",
          "text": [
            "tf.Tensor(\n",
            "[[-0.65337884]\n",
            " [-1.0298071 ]\n",
            " [-1.17121   ]], shape=(3, 1), dtype=float32)\n"
          ]
        }
      ]
    },
    {
      "cell_type": "code",
      "source": [
        "x = np.random.normal(size=(3, 1), loc=0.0, scale=1.0)\n",
        "print(x)"
      ],
      "metadata": {
        "colab": {
          "base_uri": "https://localhost:8080/"
        },
        "id": "p5jLNjx77yip",
        "outputId": "eaa99d7e-39bf-40da-baef-dd9b38e36acb"
      },
      "execution_count": 7,
      "outputs": [
        {
          "output_type": "stream",
          "name": "stdout",
          "text": [
            "[[-0.34242538]\n",
            " [-0.84452594]\n",
            " [ 0.04355254]]\n"
          ]
        }
      ]
    },
    {
      "cell_type": "code",
      "source": [
        "# Tensor of random values drawn from a uniform distribution between 0 and 1.\n",
        "x = tf.random.uniform(shape=(3, 1), minval=0.0, maxval=1.0)\n",
        "print(x)"
      ],
      "metadata": {
        "colab": {
          "base_uri": "https://localhost:8080/"
        },
        "id": "fmbaMt1M8EqA",
        "outputId": "7f4bf4e8-09b6-4e58-a8a2-113878637d69"
      },
      "execution_count": 8,
      "outputs": [
        {
          "output_type": "stream",
          "name": "stdout",
          "text": [
            "tf.Tensor(\n",
            "[[0.15898514]\n",
            " [0.57103324]\n",
            " [0.6071217 ]], shape=(3, 1), dtype=float32)\n"
          ]
        }
      ]
    },
    {
      "cell_type": "code",
      "source": [
        "x = np.random.uniform(size=(3, 1), low=0.0, high=1.0)\n",
        "print(x)"
      ],
      "metadata": {
        "colab": {
          "base_uri": "https://localhost:8080/"
        },
        "id": "AuRlzqSg9W17",
        "outputId": "5d826ba1-555e-4bab-d7a9-7dbec58c7c3a"
      },
      "execution_count": 9,
      "outputs": [
        {
          "output_type": "stream",
          "name": "stdout",
          "text": [
            "[[0.27621971]\n",
            " [0.21226116]\n",
            " [0.57525445]]\n"
          ]
        }
      ]
    },
    {
      "cell_type": "markdown",
      "source": [
        "A significant difference between NumPy arrays and TensorFlow tensors is that Tensor-\n",
        "Flow tensors aren’t assignable: they’re constant. \n",
        "\n",
        "For instance, in NumPy, you can do\n",
        "the following."
      ],
      "metadata": {
        "id": "jnrPqjam9ppV"
      }
    },
    {
      "cell_type": "code",
      "source": [
        "x = np.ones(shape=(2, 2))\n",
        "print(x)"
      ],
      "metadata": {
        "colab": {
          "base_uri": "https://localhost:8080/"
        },
        "id": "Cq1s36K79tgt",
        "outputId": "5c95ad67-29cc-4fcb-ae02-c43d01e8d8d2"
      },
      "execution_count": 10,
      "outputs": [
        {
          "output_type": "stream",
          "name": "stdout",
          "text": [
            "[[1. 1.]\n",
            " [1. 1.]]\n"
          ]
        }
      ]
    },
    {
      "cell_type": "code",
      "source": [
        "x[0, 0] = 0.0\n",
        "print(x)"
      ],
      "metadata": {
        "colab": {
          "base_uri": "https://localhost:8080/"
        },
        "id": "eftc6wiz938F",
        "outputId": "d6a096b6-9c13-46b6-a040-2460fd12ebdd"
      },
      "execution_count": 11,
      "outputs": [
        {
          "output_type": "stream",
          "name": "stdout",
          "text": [
            "[[0. 1.]\n",
            " [1. 1.]]\n"
          ]
        }
      ]
    },
    {
      "cell_type": "markdown",
      "source": [
        "Try to do the same thing in TensorFlow, and you will get an error: “EagerTensor object\n",
        "does not support item assignment.”"
      ],
      "metadata": {
        "id": "Ur_TDFXb9_1E"
      }
    },
    {
      "cell_type": "code",
      "source": [
        "x = tf.ones(shape=(2, 2))\n",
        "print(x)"
      ],
      "metadata": {
        "colab": {
          "base_uri": "https://localhost:8080/"
        },
        "id": "mqH-AJDr-BKD",
        "outputId": "39982f13-028a-4868-cc2c-8c2a98bde4fd"
      },
      "execution_count": 12,
      "outputs": [
        {
          "output_type": "stream",
          "name": "stdout",
          "text": [
            "tf.Tensor(\n",
            "[[1. 1.]\n",
            " [1. 1.]], shape=(2, 2), dtype=float32)\n"
          ]
        }
      ]
    },
    {
      "cell_type": "code",
      "source": [
        "# x[0, 0] = 0.0"
      ],
      "metadata": {
        "id": "QYkoIoSy-Fp1"
      },
      "execution_count": 13,
      "outputs": []
    },
    {
      "cell_type": "markdown",
      "source": [
        "```log\n",
        "---------------------------------------------------------------------------\n",
        "TypeError                                 Traceback (most recent call last)\n",
        "<ipython-input-14-b9cc6021f76a> in <module>()\n",
        "----> 1 x[0, 0] = 0.0\n",
        "      2 print(x)\n",
        "\n",
        "TypeError: 'tensorflow.python.framework.ops.EagerTensor' object does not support item assignment\n",
        "```\n",
        "\n",
        "To train a model, we’ll need to update its state, which is a set of tensors. If tensors aren’t assignable, how do we do it?\n",
        "\n",
        "That’s where variables come in. `tf.Variable` is the\n",
        "class meant to manage modifiable state in TensorFlow.\n",
        "\n",
        "To create a variable, you need to provide some initial value, such as a random tensor."
      ],
      "metadata": {
        "id": "w5N7dq9F-Qdv"
      }
    },
    {
      "cell_type": "code",
      "source": [
        "v = tf.Variable(initial_value=tf.random.normal(shape=(3, 1)))\n",
        "print(v)"
      ],
      "metadata": {
        "colab": {
          "base_uri": "https://localhost:8080/"
        },
        "id": "90mYsRWj_dVw",
        "outputId": "a0861e87-760e-4e58-a827-80dd21db67e8"
      },
      "execution_count": 14,
      "outputs": [
        {
          "output_type": "stream",
          "name": "stdout",
          "text": [
            "<tf.Variable 'Variable:0' shape=(3, 1) dtype=float32, numpy=\n",
            "array([[ 1.7472106 ],\n",
            "       [ 1.3933295 ],\n",
            "       [-0.04593423]], dtype=float32)>\n"
          ]
        }
      ]
    },
    {
      "cell_type": "markdown",
      "source": [
        "The state of a variable can be modified via its assign method, as follows."
      ],
      "metadata": {
        "id": "OY5Ty6_m_y0H"
      }
    },
    {
      "cell_type": "code",
      "source": [
        "v.assign(tf.ones((3, 1)))"
      ],
      "metadata": {
        "colab": {
          "base_uri": "https://localhost:8080/"
        },
        "id": "WnQe8kX6_zNM",
        "outputId": "2136ec52-681e-49d0-9765-31c788f22776"
      },
      "execution_count": 15,
      "outputs": [
        {
          "output_type": "execute_result",
          "data": {
            "text/plain": [
              "<tf.Variable 'UnreadVariable' shape=(3, 1) dtype=float32, numpy=\n",
              "array([[1.],\n",
              "       [1.],\n",
              "       [1.]], dtype=float32)>"
            ]
          },
          "metadata": {},
          "execution_count": 15
        }
      ]
    },
    {
      "cell_type": "markdown",
      "source": [
        "It also works for a subset of the coefficients."
      ],
      "metadata": {
        "id": "oLDoEf30__KZ"
      }
    },
    {
      "cell_type": "code",
      "source": [
        "v[0, 0].assign((3.0))"
      ],
      "metadata": {
        "colab": {
          "base_uri": "https://localhost:8080/"
        },
        "id": "w5vPMr7Y__nT",
        "outputId": "92373b86-b551-4368-b1ce-2cc47265323e"
      },
      "execution_count": 16,
      "outputs": [
        {
          "output_type": "execute_result",
          "data": {
            "text/plain": [
              "<tf.Variable 'UnreadVariable' shape=(3, 1) dtype=float32, numpy=\n",
              "array([[3.],\n",
              "       [1.],\n",
              "       [1.]], dtype=float32)>"
            ]
          },
          "metadata": {},
          "execution_count": 16
        }
      ]
    },
    {
      "cell_type": "code",
      "source": [
        "v[1, 0].assign((4.0))"
      ],
      "metadata": {
        "colab": {
          "base_uri": "https://localhost:8080/"
        },
        "id": "-OhBXiKNAGqU",
        "outputId": "774b307a-8e1e-4ca9-b13f-2ac3d2e827e8"
      },
      "execution_count": 17,
      "outputs": [
        {
          "output_type": "execute_result",
          "data": {
            "text/plain": [
              "<tf.Variable 'UnreadVariable' shape=(3, 1) dtype=float32, numpy=\n",
              "array([[3.],\n",
              "       [4.],\n",
              "       [1.]], dtype=float32)>"
            ]
          },
          "metadata": {},
          "execution_count": 17
        }
      ]
    },
    {
      "cell_type": "markdown",
      "source": [
        "Similarly, assign_add() and assign_sub() are efficient equivalents of += and -=, as shown next."
      ],
      "metadata": {
        "id": "qV28BawJAUgs"
      }
    },
    {
      "cell_type": "code",
      "source": [
        "v.assign_add(tf.ones((3, 1)))"
      ],
      "metadata": {
        "colab": {
          "base_uri": "https://localhost:8080/"
        },
        "id": "-InA-JbUAV2s",
        "outputId": "9bad0123-4805-48c6-fc96-9431a437bf81"
      },
      "execution_count": 18,
      "outputs": [
        {
          "output_type": "execute_result",
          "data": {
            "text/plain": [
              "<tf.Variable 'UnreadVariable' shape=(3, 1) dtype=float32, numpy=\n",
              "array([[4.],\n",
              "       [5.],\n",
              "       [2.]], dtype=float32)>"
            ]
          },
          "metadata": {},
          "execution_count": 18
        }
      ]
    },
    {
      "cell_type": "code",
      "source": [
        "v.assign_sub(tf.ones((3, 1)))"
      ],
      "metadata": {
        "colab": {
          "base_uri": "https://localhost:8080/"
        },
        "id": "b7oH--oeAg-e",
        "outputId": "ff60bcbd-5ea7-4d76-a1c3-5e7a30f2c5b5"
      },
      "execution_count": 19,
      "outputs": [
        {
          "output_type": "execute_result",
          "data": {
            "text/plain": [
              "<tf.Variable 'UnreadVariable' shape=(3, 1) dtype=float32, numpy=\n",
              "array([[3.],\n",
              "       [4.],\n",
              "       [1.]], dtype=float32)>"
            ]
          },
          "metadata": {},
          "execution_count": 19
        }
      ]
    },
    {
      "cell_type": "markdown",
      "source": [
        "##Tensor operations: Doing math in TensorFlow"
      ],
      "metadata": {
        "id": "tpYNFDmfAoXl"
      }
    },
    {
      "cell_type": "markdown",
      "source": [
        "Just like NumPy, TensorFlow offers a large collection of tensor operations to express\n",
        "mathematical formulas."
      ],
      "metadata": {
        "id": "hOHINVtyApHT"
      }
    },
    {
      "cell_type": "code",
      "source": [
        "a = tf.ones((2, 2))\n",
        "print(a)"
      ],
      "metadata": {
        "id": "GgA3RZatC45O",
        "outputId": "4c3a9980-19a0-4f49-b5dd-9d934791f1e4",
        "colab": {
          "base_uri": "https://localhost:8080/"
        }
      },
      "execution_count": 20,
      "outputs": [
        {
          "output_type": "stream",
          "name": "stdout",
          "text": [
            "tf.Tensor(\n",
            "[[1. 1.]\n",
            " [1. 1.]], shape=(2, 2), dtype=float32)\n"
          ]
        }
      ]
    },
    {
      "cell_type": "code",
      "source": [
        "b = tf.square(a)  # Take the square\n",
        "print(b)"
      ],
      "metadata": {
        "id": "zCkbCy9iC9y-",
        "outputId": "51280ab3-6173-41ba-b04e-7fef259a0c58",
        "colab": {
          "base_uri": "https://localhost:8080/"
        }
      },
      "execution_count": 21,
      "outputs": [
        {
          "output_type": "stream",
          "name": "stdout",
          "text": [
            "tf.Tensor(\n",
            "[[1. 1.]\n",
            " [1. 1.]], shape=(2, 2), dtype=float32)\n"
          ]
        }
      ]
    },
    {
      "cell_type": "code",
      "source": [
        "c = tf.sqrt(a)  # Take the square root\n",
        "print(c)"
      ],
      "metadata": {
        "id": "_Y98kPuWDFes",
        "outputId": "a4819ff5-0987-4927-da34-cb3f5f3fe066",
        "colab": {
          "base_uri": "https://localhost:8080/"
        }
      },
      "execution_count": 22,
      "outputs": [
        {
          "output_type": "stream",
          "name": "stdout",
          "text": [
            "tf.Tensor(\n",
            "[[1. 1.]\n",
            " [1. 1.]], shape=(2, 2), dtype=float32)\n"
          ]
        }
      ]
    },
    {
      "cell_type": "code",
      "source": [
        "d = b + c  # Add two tensors (element-wise).\n",
        "print(d)"
      ],
      "metadata": {
        "id": "xGTY6JrKDLPd",
        "outputId": "022ac063-7262-472c-ce8b-11c538cfa7b4",
        "colab": {
          "base_uri": "https://localhost:8080/"
        }
      },
      "execution_count": 23,
      "outputs": [
        {
          "output_type": "stream",
          "name": "stdout",
          "text": [
            "tf.Tensor(\n",
            "[[2. 2.]\n",
            " [2. 2.]], shape=(2, 2), dtype=float32)\n"
          ]
        }
      ]
    },
    {
      "cell_type": "code",
      "source": [
        "e = tf.matmul(a, b)  # Take the product of two tensors\n",
        "print(e)"
      ],
      "metadata": {
        "id": "89MAZbv2DSP0",
        "outputId": "bab11465-60da-47ff-de46-bec354796f52",
        "colab": {
          "base_uri": "https://localhost:8080/"
        }
      },
      "execution_count": 24,
      "outputs": [
        {
          "output_type": "stream",
          "name": "stdout",
          "text": [
            "tf.Tensor(\n",
            "[[2. 2.]\n",
            " [2. 2.]], shape=(2, 2), dtype=float32)\n"
          ]
        }
      ]
    },
    {
      "cell_type": "code",
      "source": [
        "e *= d   # Multiply two tensors\n",
        "print(e)"
      ],
      "metadata": {
        "id": "QV5BptfIDY-P",
        "outputId": "7ea6577c-8291-42a5-9a67-d3e1bbbe436a",
        "colab": {
          "base_uri": "https://localhost:8080/"
        }
      },
      "execution_count": 25,
      "outputs": [
        {
          "output_type": "stream",
          "name": "stdout",
          "text": [
            "tf.Tensor(\n",
            "[[4. 4.]\n",
            " [4. 4.]], shape=(2, 2), dtype=float32)\n"
          ]
        }
      ]
    },
    {
      "cell_type": "markdown",
      "source": [
        "Importantly, each of the preceding operations gets executed on the fly: at any point,\n",
        "you can print what the current result is, just like in NumPy. We call this eager execution."
      ],
      "metadata": {
        "id": "lfZ5AuSnDklR"
      }
    },
    {
      "cell_type": "markdown",
      "source": [
        "##A look at the GradientTape API"
      ],
      "metadata": {
        "id": "axY6fvidDlAR"
      }
    },
    {
      "cell_type": "markdown",
      "source": [
        "So far, TensorFlow seems to look a lot like NumPy. But here’s something NumPy can’t do: retrieve the gradient of any differentiable expression with respect to any of its inputs. \n",
        "\n",
        "Just open a GradientTape scope, apply some computation to one or several input tensors, and retrieve the gradient of the result with respect to the inputs."
      ],
      "metadata": {
        "id": "uXAPKvgaDnqj"
      }
    },
    {
      "cell_type": "code",
      "source": [
        "input_var = tf.Variable(initial_value=3.)\n",
        "\n",
        "with tf.GradientTape() as tape:\n",
        "  result = tf.square(input_var)\n",
        "\n",
        "gradient = tape.gradient(result, input_var)\n",
        "print(gradient)"
      ],
      "metadata": {
        "id": "fUgVYcILD2iX",
        "outputId": "109fa459-e7a6-4dd4-bb23-caea3578abf5",
        "colab": {
          "base_uri": "https://localhost:8080/"
        }
      },
      "execution_count": 26,
      "outputs": [
        {
          "output_type": "stream",
          "name": "stdout",
          "text": [
            "tf.Tensor(6.0, shape=(), dtype=float32)\n"
          ]
        }
      ]
    },
    {
      "cell_type": "markdown",
      "source": [
        "This is most commonly used to retrieve the gradients of the loss of a model with\n",
        "respect to its weights: `gradients = tape.gradient(loss, weights)`.\n",
        "\n",
        "So far, you’ve only seen the case where the input tensors in `tape.gradient()` were\n",
        "TensorFlow variables. \n",
        "\n",
        "It’s actually possible for these inputs to be any arbitrary tensor.\n",
        "However, only trainable variables are tracked by default. With a constant tensor, you’d\n",
        "have to manually mark it as being tracked by calling `tape.watch()` on it."
      ],
      "metadata": {
        "id": "USYUTBpDEaAd"
      }
    },
    {
      "cell_type": "code",
      "source": [
        "input_const = tf.constant(3.)\n",
        "\n",
        "with tf.GradientTape() as tape:\n",
        "  tape.watch(input_const)\n",
        "  result = tf.square(input_const)\n",
        "\n",
        "gradient = tape.gradient(result, input_const)\n",
        "print(gradient)"
      ],
      "metadata": {
        "id": "rSLHC15QEnp7",
        "outputId": "fabb9117-2cf1-4911-d3e2-94363c682b2a",
        "colab": {
          "base_uri": "https://localhost:8080/"
        }
      },
      "execution_count": 27,
      "outputs": [
        {
          "output_type": "stream",
          "name": "stdout",
          "text": [
            "tf.Tensor(6.0, shape=(), dtype=float32)\n"
          ]
        }
      ]
    },
    {
      "cell_type": "markdown",
      "source": [
        "To avoid wasting resources, the tape needs to know what to watch. Trainable variables\n",
        "are watched by default because computing the gradient of a loss with regard to a list of\n",
        "trainable variables is the most common use of the gradient tape.\n",
        "\n",
        "The gradient tape is a powerful utility, even capable of computing second-order gradients,\n",
        "that is to say, the gradient of a gradient. \n",
        "\n",
        "For instance, the gradient of the position\n",
        "of an object with regard to time is the speed of that object, and the second-order\n",
        "gradient is its acceleration.\n",
        "\n",
        "If you measure the position of a falling apple along a vertical axis over time and\n",
        "find that it verifies `position(time) = 4.9 * time ** 2`, what is its acceleration? \n",
        "\n",
        "Let’s use two nested gradient tapes to find out."
      ],
      "metadata": {
        "id": "xSEorkcvFT3b"
      }
    },
    {
      "cell_type": "code",
      "source": [
        "time = tf.Variable(0.0)\n",
        "\n",
        "with tf.GradientTape() as outer_tape:\n",
        "  with tf.GradientTape() as inner_tape:\n",
        "    position = 4.9 * time ** 2\n",
        "  speed = inner_tape.gradient(position, time)\n",
        "\n",
        "# We use the outer tape to compute the gradient of the gradient from the inner tape. Naturally, the answer is 4.9 * 2 = 9.8.\n",
        "acceleration = outer_tape.gradient(speed, time)\n",
        "print(speed)\n",
        "print(acceleration)"
      ],
      "metadata": {
        "id": "OKxbrLIzFmPO",
        "outputId": "b72b7280-e94a-4e88-b16a-3d5e59128f5d",
        "colab": {
          "base_uri": "https://localhost:8080/"
        }
      },
      "execution_count": 28,
      "outputs": [
        {
          "output_type": "stream",
          "name": "stdout",
          "text": [
            "tf.Tensor(0.0, shape=(), dtype=float32)\n",
            "tf.Tensor(9.8, shape=(), dtype=float32)\n"
          ]
        }
      ]
    },
    {
      "cell_type": "markdown",
      "source": [
        "##An end-to-end example: A linear classifier in pure TensorFlow"
      ],
      "metadata": {
        "id": "lYPRNpBAGohf"
      }
    },
    {
      "cell_type": "markdown",
      "source": [
        ""
      ],
      "metadata": {
        "id": "KeuiaUwlGqJ4"
      }
    }
  ]
}