{
  "nbformat": 4,
  "nbformat_minor": 0,
  "metadata": {
    "colab": {
      "name": "01-tensorflow-fundametal.ipynb",
      "provenance": [],
      "toc_visible": true,
      "authorship_tag": "ABX9TyPsGY/KBzBFR7nZrqonzfx2",
      "include_colab_link": true
    },
    "kernelspec": {
      "name": "python3",
      "display_name": "Python 3"
    },
    "language_info": {
      "name": "python"
    }
  },
  "cells": [
    {
      "cell_type": "markdown",
      "metadata": {
        "id": "view-in-github",
        "colab_type": "text"
      },
      "source": [
        "<a href=\"https://colab.research.google.com/github/rahiakela/data-learning-research-and-practice/blob/main/deep-learning-with-python-by-francois-chollet/3-introduction-to-keras-and-tensorflow/01_tensorflow_fundametal.ipynb\" target=\"_parent\"><img src=\"https://colab.research.google.com/assets/colab-badge.svg\" alt=\"Open In Colab\"/></a>"
      ]
    },
    {
      "cell_type": "markdown",
      "source": [
        "##First steps with TensorFlow"
      ],
      "metadata": {
        "id": "oza27QQk5wnr"
      }
    },
    {
      "cell_type": "markdown",
      "source": [
        "As we know, training a neural network revolves around the following\n",
        "concepts:\n",
        "\n",
        "- First, low-level tensor manipulation—the infrastructure that underlies all modern machine learning. This translates to TensorFlow APIs:\n",
        "  - Tensors, including special tensors that store the network’s state (variables)\n",
        "  - Tensor operations such as addition, relu, matmul\n",
        "  - Backpropagation, a way to compute the gradient of mathematical expressions\n",
        "\n",
        "- Second, high-level deep learning concepts. This translates to Keras APIs:\n",
        "  - Layers, which are combined into a model\n",
        "  - A loss function, which defines the feedback signal used for learning\n",
        "  - An optimizer, which determines how learning proceeds\n",
        "  - Metrics to evaluate model performance, such as accuracy\n",
        "  - A training loop that performs mini-batch stochastic gradient descent\n",
        "\n",
        "Now let’s take a deeper dive into how all of these different concepts can be\n",
        "approached in practice using TensorFlow and Keras."
      ],
      "metadata": {
        "id": "wQz2lVRm5xWj"
      }
    },
    {
      "cell_type": "markdown",
      "source": [
        "##Setup"
      ],
      "metadata": {
        "id": "yp5DFnZ06gYJ"
      }
    },
    {
      "cell_type": "code",
      "source": [
        "import tensorflow as tf\n",
        "import numpy as np\n",
        "import matplotlib.pyplot as plt"
      ],
      "metadata": {
        "id": "Sbi-okLm6hc_"
      },
      "execution_count": 1,
      "outputs": []
    },
    {
      "cell_type": "markdown",
      "source": [
        "##Constant tensors and variables"
      ],
      "metadata": {
        "id": "RXyY1N4W6vAZ"
      }
    },
    {
      "cell_type": "markdown",
      "source": [
        "To do anything in TensorFlow, we’re going to need some tensors. Tensors need to be created with some initial value. \n",
        "\n",
        "For instance, you could create all-ones or all-zeros tensors, or tensors of values drawn from a random distribution.\n",
        "\n",
        "**All-ones or all-zeros tensors**"
      ],
      "metadata": {
        "id": "egbRby_b6xLG"
      }
    },
    {
      "cell_type": "code",
      "source": [
        "x = tf.ones(shape=(2, 1))\n",
        "print(x)"
      ],
      "metadata": {
        "colab": {
          "base_uri": "https://localhost:8080/"
        },
        "id": "_LUP1jsl64vL",
        "outputId": "3796b175-aff9-416e-e07a-d305d2e1e251"
      },
      "execution_count": 2,
      "outputs": [
        {
          "output_type": "stream",
          "name": "stdout",
          "text": [
            "tf.Tensor(\n",
            "[[1.]\n",
            " [1.]], shape=(2, 1), dtype=float32)\n"
          ]
        }
      ]
    },
    {
      "cell_type": "code",
      "source": [
        "x = np.ones(shape=(2, 1))\n",
        "print(x)"
      ],
      "metadata": {
        "colab": {
          "base_uri": "https://localhost:8080/"
        },
        "id": "vaDffqv57ALI",
        "outputId": "d4c70078-7a5e-43f9-c480-4f2f1b06d324"
      },
      "execution_count": 3,
      "outputs": [
        {
          "output_type": "stream",
          "name": "stdout",
          "text": [
            "[[1.]\n",
            " [1.]]\n"
          ]
        }
      ]
    },
    {
      "cell_type": "code",
      "source": [
        "x = tf.zeros(shape=(2, 1))\n",
        "print(x)"
      ],
      "metadata": {
        "colab": {
          "base_uri": "https://localhost:8080/"
        },
        "id": "33wMm3X_7I85",
        "outputId": "5549fcd4-0beb-4cb9-973f-f8efb5ebec33"
      },
      "execution_count": 4,
      "outputs": [
        {
          "output_type": "stream",
          "name": "stdout",
          "text": [
            "tf.Tensor(\n",
            "[[0.]\n",
            " [0.]], shape=(2, 1), dtype=float32)\n"
          ]
        }
      ]
    },
    {
      "cell_type": "code",
      "source": [
        "x = np.zeros(shape=(2, 1))\n",
        "print(x)"
      ],
      "metadata": {
        "colab": {
          "base_uri": "https://localhost:8080/"
        },
        "id": "MNK1jUYN7Ojb",
        "outputId": "f48dbd71-e6c2-494b-da0c-5e7ba93024f9"
      },
      "execution_count": 5,
      "outputs": [
        {
          "output_type": "stream",
          "name": "stdout",
          "text": [
            "[[0.]\n",
            " [0.]]\n"
          ]
        }
      ]
    },
    {
      "cell_type": "markdown",
      "source": [
        "**Random tensors**"
      ],
      "metadata": {
        "id": "BNlhrspK7Zws"
      }
    },
    {
      "cell_type": "code",
      "source": [
        "# Tensor of random values drawn from a normal distribution with mean 0 and standard deviation 1.\n",
        "x = tf.random.normal(shape=(3, 1), mean=0.0, stddev=1.0)\n",
        "print(x)"
      ],
      "metadata": {
        "colab": {
          "base_uri": "https://localhost:8080/"
        },
        "id": "TjeKGDx-7Y28",
        "outputId": "358767b9-77ad-4e8b-8f58-5f6836658309"
      },
      "execution_count": 6,
      "outputs": [
        {
          "output_type": "stream",
          "name": "stdout",
          "text": [
            "tf.Tensor(\n",
            "[[-0.83501136]\n",
            " [-1.757993  ]\n",
            " [ 1.0559329 ]], shape=(3, 1), dtype=float32)\n"
          ]
        }
      ]
    },
    {
      "cell_type": "code",
      "source": [
        "x = np.random.normal(size=(3, 1), loc=0.0, scale=1.0)\n",
        "print(x)"
      ],
      "metadata": {
        "colab": {
          "base_uri": "https://localhost:8080/"
        },
        "id": "p5jLNjx77yip",
        "outputId": "5a3fe387-fce0-49e5-fe1e-91caeed93142"
      },
      "execution_count": 7,
      "outputs": [
        {
          "output_type": "stream",
          "name": "stdout",
          "text": [
            "[[-1.70730711]\n",
            " [ 1.79081957]\n",
            " [ 2.18814615]]\n"
          ]
        }
      ]
    },
    {
      "cell_type": "code",
      "source": [
        "# Tensor of random values drawn from a uniform distribution between 0 and 1.\n",
        "x = tf.random.uniform(shape=(3, 1), minval=0.0, maxval=1.0)\n",
        "print(x)"
      ],
      "metadata": {
        "colab": {
          "base_uri": "https://localhost:8080/"
        },
        "id": "fmbaMt1M8EqA",
        "outputId": "2d18dc37-4c0e-425d-fae4-56ebe6ed0ec6"
      },
      "execution_count": 8,
      "outputs": [
        {
          "output_type": "stream",
          "name": "stdout",
          "text": [
            "tf.Tensor(\n",
            "[[0.9847609 ]\n",
            " [0.0292058 ]\n",
            " [0.47675097]], shape=(3, 1), dtype=float32)\n"
          ]
        }
      ]
    },
    {
      "cell_type": "code",
      "source": [
        "x = np.random.uniform(size=(3, 1), low=0.0, high=1.0)\n",
        "print(x)"
      ],
      "metadata": {
        "colab": {
          "base_uri": "https://localhost:8080/"
        },
        "id": "AuRlzqSg9W17",
        "outputId": "6b6b32ee-0f19-44ea-ddbf-820a3867df4f"
      },
      "execution_count": 9,
      "outputs": [
        {
          "output_type": "stream",
          "name": "stdout",
          "text": [
            "[[0.79670765]\n",
            " [0.53749722]\n",
            " [0.64339822]]\n"
          ]
        }
      ]
    },
    {
      "cell_type": "markdown",
      "source": [
        "A significant difference between NumPy arrays and TensorFlow tensors is that Tensor-\n",
        "Flow tensors aren’t assignable: they’re constant. \n",
        "\n",
        "For instance, in NumPy, you can do\n",
        "the following."
      ],
      "metadata": {
        "id": "jnrPqjam9ppV"
      }
    },
    {
      "cell_type": "code",
      "source": [
        "x = np.ones(shape=(2, 2))\n",
        "print(x)"
      ],
      "metadata": {
        "colab": {
          "base_uri": "https://localhost:8080/"
        },
        "id": "Cq1s36K79tgt",
        "outputId": "e61f16ef-197c-4ca1-c0da-e9b3c9ab4fbf"
      },
      "execution_count": 10,
      "outputs": [
        {
          "output_type": "stream",
          "name": "stdout",
          "text": [
            "[[1. 1.]\n",
            " [1. 1.]]\n"
          ]
        }
      ]
    },
    {
      "cell_type": "code",
      "source": [
        "x[0, 0] = 0.0\n",
        "print(x)"
      ],
      "metadata": {
        "colab": {
          "base_uri": "https://localhost:8080/"
        },
        "id": "eftc6wiz938F",
        "outputId": "e6fb729d-4f0d-4fe7-edf6-38ca6e392eb2"
      },
      "execution_count": 11,
      "outputs": [
        {
          "output_type": "stream",
          "name": "stdout",
          "text": [
            "[[0. 1.]\n",
            " [1. 1.]]\n"
          ]
        }
      ]
    },
    {
      "cell_type": "markdown",
      "source": [
        "Try to do the same thing in TensorFlow, and you will get an error: “EagerTensor object\n",
        "does not support item assignment.”"
      ],
      "metadata": {
        "id": "Ur_TDFXb9_1E"
      }
    },
    {
      "cell_type": "code",
      "source": [
        "x = tf.ones(shape=(2, 2))\n",
        "print(x)"
      ],
      "metadata": {
        "colab": {
          "base_uri": "https://localhost:8080/"
        },
        "id": "mqH-AJDr-BKD",
        "outputId": "26a6388d-fe88-46a1-886c-686c492d4d7f"
      },
      "execution_count": 12,
      "outputs": [
        {
          "output_type": "stream",
          "name": "stdout",
          "text": [
            "tf.Tensor(\n",
            "[[1. 1.]\n",
            " [1. 1.]], shape=(2, 2), dtype=float32)\n"
          ]
        }
      ]
    },
    {
      "cell_type": "code",
      "source": [
        "# x[0, 0] = 0.0"
      ],
      "metadata": {
        "id": "QYkoIoSy-Fp1"
      },
      "execution_count": 13,
      "outputs": []
    },
    {
      "cell_type": "markdown",
      "source": [
        "```log\n",
        "---------------------------------------------------------------------------\n",
        "TypeError                                 Traceback (most recent call last)\n",
        "<ipython-input-14-b9cc6021f76a> in <module>()\n",
        "----> 1 x[0, 0] = 0.0\n",
        "      2 print(x)\n",
        "\n",
        "TypeError: 'tensorflow.python.framework.ops.EagerTensor' object does not support item assignment\n",
        "```\n",
        "\n",
        "To train a model, we’ll need to update its state, which is a set of tensors. If tensors aren’t assignable, how do we do it?\n",
        "\n",
        "That’s where variables come in. `tf.Variable` is the\n",
        "class meant to manage modifiable state in TensorFlow.\n",
        "\n",
        "To create a variable, you need to provide some initial value, such as a random tensor."
      ],
      "metadata": {
        "id": "w5N7dq9F-Qdv"
      }
    },
    {
      "cell_type": "code",
      "source": [
        "v = tf.Variable(initial_value=tf.random.normal(shape=(3, 1)))\n",
        "print(v)"
      ],
      "metadata": {
        "colab": {
          "base_uri": "https://localhost:8080/"
        },
        "id": "90mYsRWj_dVw",
        "outputId": "4e137290-5f0b-4283-8b92-7a53f492cf58"
      },
      "execution_count": 14,
      "outputs": [
        {
          "output_type": "stream",
          "name": "stdout",
          "text": [
            "<tf.Variable 'Variable:0' shape=(3, 1) dtype=float32, numpy=\n",
            "array([[-0.03232251],\n",
            "       [-1.2022862 ],\n",
            "       [ 0.50408566]], dtype=float32)>\n"
          ]
        }
      ]
    },
    {
      "cell_type": "markdown",
      "source": [
        "The state of a variable can be modified via its assign method, as follows."
      ],
      "metadata": {
        "id": "OY5Ty6_m_y0H"
      }
    },
    {
      "cell_type": "code",
      "source": [
        "v.assign(tf.ones((3, 1)))"
      ],
      "metadata": {
        "colab": {
          "base_uri": "https://localhost:8080/"
        },
        "id": "WnQe8kX6_zNM",
        "outputId": "e67abbbf-6255-451a-d51f-91c580fefdef"
      },
      "execution_count": 15,
      "outputs": [
        {
          "output_type": "execute_result",
          "data": {
            "text/plain": [
              "<tf.Variable 'UnreadVariable' shape=(3, 1) dtype=float32, numpy=\n",
              "array([[1.],\n",
              "       [1.],\n",
              "       [1.]], dtype=float32)>"
            ]
          },
          "metadata": {},
          "execution_count": 15
        }
      ]
    },
    {
      "cell_type": "markdown",
      "source": [
        "It also works for a subset of the coefficients."
      ],
      "metadata": {
        "id": "oLDoEf30__KZ"
      }
    },
    {
      "cell_type": "code",
      "source": [
        "v[0, 0].assign((3.0))"
      ],
      "metadata": {
        "colab": {
          "base_uri": "https://localhost:8080/"
        },
        "id": "w5vPMr7Y__nT",
        "outputId": "6316eec1-8f96-403d-b862-c0e12c87fc3b"
      },
      "execution_count": 16,
      "outputs": [
        {
          "output_type": "execute_result",
          "data": {
            "text/plain": [
              "<tf.Variable 'UnreadVariable' shape=(3, 1) dtype=float32, numpy=\n",
              "array([[3.],\n",
              "       [1.],\n",
              "       [1.]], dtype=float32)>"
            ]
          },
          "metadata": {},
          "execution_count": 16
        }
      ]
    },
    {
      "cell_type": "code",
      "source": [
        "v[1, 0].assign((4.0))"
      ],
      "metadata": {
        "colab": {
          "base_uri": "https://localhost:8080/"
        },
        "id": "-OhBXiKNAGqU",
        "outputId": "7919f9b2-0b78-4dd2-feb3-e49ae6dc1300"
      },
      "execution_count": 17,
      "outputs": [
        {
          "output_type": "execute_result",
          "data": {
            "text/plain": [
              "<tf.Variable 'UnreadVariable' shape=(3, 1) dtype=float32, numpy=\n",
              "array([[3.],\n",
              "       [4.],\n",
              "       [1.]], dtype=float32)>"
            ]
          },
          "metadata": {},
          "execution_count": 17
        }
      ]
    },
    {
      "cell_type": "markdown",
      "source": [
        "Similarly, assign_add() and assign_sub() are efficient equivalents of += and -=, as shown next."
      ],
      "metadata": {
        "id": "qV28BawJAUgs"
      }
    },
    {
      "cell_type": "code",
      "source": [
        "v.assign_add(tf.ones((3, 1)))"
      ],
      "metadata": {
        "colab": {
          "base_uri": "https://localhost:8080/"
        },
        "id": "-InA-JbUAV2s",
        "outputId": "93a7bc14-7083-498d-c186-d10133a0c37a"
      },
      "execution_count": 18,
      "outputs": [
        {
          "output_type": "execute_result",
          "data": {
            "text/plain": [
              "<tf.Variable 'UnreadVariable' shape=(3, 1) dtype=float32, numpy=\n",
              "array([[4.],\n",
              "       [5.],\n",
              "       [2.]], dtype=float32)>"
            ]
          },
          "metadata": {},
          "execution_count": 18
        }
      ]
    },
    {
      "cell_type": "code",
      "source": [
        "v.assign_sub(tf.ones((3, 1)))"
      ],
      "metadata": {
        "colab": {
          "base_uri": "https://localhost:8080/"
        },
        "id": "b7oH--oeAg-e",
        "outputId": "956f147d-dc2b-44ce-d8fa-c2ce1ae853fa"
      },
      "execution_count": 19,
      "outputs": [
        {
          "output_type": "execute_result",
          "data": {
            "text/plain": [
              "<tf.Variable 'UnreadVariable' shape=(3, 1) dtype=float32, numpy=\n",
              "array([[3.],\n",
              "       [4.],\n",
              "       [1.]], dtype=float32)>"
            ]
          },
          "metadata": {},
          "execution_count": 19
        }
      ]
    },
    {
      "cell_type": "markdown",
      "source": [
        "##Tensor operations: Doing math in TensorFlow"
      ],
      "metadata": {
        "id": "tpYNFDmfAoXl"
      }
    },
    {
      "cell_type": "markdown",
      "source": [
        "Just like NumPy, TensorFlow offers a large collection of tensor operations to express\n",
        "mathematical formulas."
      ],
      "metadata": {
        "id": "hOHINVtyApHT"
      }
    },
    {
      "cell_type": "code",
      "source": [
        "a = tf.ones((2, 2))\n",
        "print(a)"
      ],
      "metadata": {
        "id": "GgA3RZatC45O",
        "outputId": "0f62b25c-0d16-44a8-8b19-5cd3ae6b0f84",
        "colab": {
          "base_uri": "https://localhost:8080/"
        }
      },
      "execution_count": 20,
      "outputs": [
        {
          "output_type": "stream",
          "name": "stdout",
          "text": [
            "tf.Tensor(\n",
            "[[1. 1.]\n",
            " [1. 1.]], shape=(2, 2), dtype=float32)\n"
          ]
        }
      ]
    },
    {
      "cell_type": "code",
      "source": [
        "b = tf.square(a)  # Take the square\n",
        "print(b)"
      ],
      "metadata": {
        "id": "zCkbCy9iC9y-",
        "outputId": "3e119ce9-7db0-43f9-9e60-7754b7ebf2f7",
        "colab": {
          "base_uri": "https://localhost:8080/"
        }
      },
      "execution_count": 21,
      "outputs": [
        {
          "output_type": "stream",
          "name": "stdout",
          "text": [
            "tf.Tensor(\n",
            "[[1. 1.]\n",
            " [1. 1.]], shape=(2, 2), dtype=float32)\n"
          ]
        }
      ]
    },
    {
      "cell_type": "code",
      "source": [
        "c = tf.sqrt(a)  # Take the square root\n",
        "print(c)"
      ],
      "metadata": {
        "id": "_Y98kPuWDFes",
        "outputId": "790a63d9-2a8c-4e6a-d090-d9c7d9a99484",
        "colab": {
          "base_uri": "https://localhost:8080/"
        }
      },
      "execution_count": 22,
      "outputs": [
        {
          "output_type": "stream",
          "name": "stdout",
          "text": [
            "tf.Tensor(\n",
            "[[1. 1.]\n",
            " [1. 1.]], shape=(2, 2), dtype=float32)\n"
          ]
        }
      ]
    },
    {
      "cell_type": "code",
      "source": [
        "d = b + c  # Add two tensors (element-wise).\n",
        "print(d)"
      ],
      "metadata": {
        "id": "xGTY6JrKDLPd",
        "outputId": "ac889350-4668-47b5-a380-b3658b6fe1a5",
        "colab": {
          "base_uri": "https://localhost:8080/"
        }
      },
      "execution_count": 23,
      "outputs": [
        {
          "output_type": "stream",
          "name": "stdout",
          "text": [
            "tf.Tensor(\n",
            "[[2. 2.]\n",
            " [2. 2.]], shape=(2, 2), dtype=float32)\n"
          ]
        }
      ]
    },
    {
      "cell_type": "code",
      "source": [
        "e = tf.matmul(a, b)  # Take the product of two tensors\n",
        "print(e)"
      ],
      "metadata": {
        "id": "89MAZbv2DSP0",
        "outputId": "38a38307-8eba-4381-ffe8-9e86e56cfe9e",
        "colab": {
          "base_uri": "https://localhost:8080/"
        }
      },
      "execution_count": 24,
      "outputs": [
        {
          "output_type": "stream",
          "name": "stdout",
          "text": [
            "tf.Tensor(\n",
            "[[2. 2.]\n",
            " [2. 2.]], shape=(2, 2), dtype=float32)\n"
          ]
        }
      ]
    },
    {
      "cell_type": "code",
      "source": [
        "e *= d   # Multiply two tensors\n",
        "print(e)"
      ],
      "metadata": {
        "id": "QV5BptfIDY-P",
        "outputId": "85814f70-ee06-4a7e-9c9e-9530eaf05c2b",
        "colab": {
          "base_uri": "https://localhost:8080/"
        }
      },
      "execution_count": 25,
      "outputs": [
        {
          "output_type": "stream",
          "name": "stdout",
          "text": [
            "tf.Tensor(\n",
            "[[4. 4.]\n",
            " [4. 4.]], shape=(2, 2), dtype=float32)\n"
          ]
        }
      ]
    },
    {
      "cell_type": "markdown",
      "source": [
        "Importantly, each of the preceding operations gets executed on the fly: at any point,\n",
        "you can print what the current result is, just like in NumPy. We call this eager execution."
      ],
      "metadata": {
        "id": "lfZ5AuSnDklR"
      }
    },
    {
      "cell_type": "markdown",
      "source": [
        "##A look at the GradientTape API"
      ],
      "metadata": {
        "id": "axY6fvidDlAR"
      }
    },
    {
      "cell_type": "markdown",
      "source": [
        "So far, TensorFlow seems to look a lot like NumPy. But here’s something NumPy can’t do: retrieve the gradient of any differentiable expression with respect to any of its inputs. \n",
        "\n",
        "Just open a GradientTape scope, apply some computation to one or several input tensors, and retrieve the gradient of the result with respect to the inputs."
      ],
      "metadata": {
        "id": "uXAPKvgaDnqj"
      }
    },
    {
      "cell_type": "code",
      "source": [
        "input_var = tf.Variable(initial_value=3.)\n",
        "\n",
        "with tf.GradientTape() as tape:\n",
        "  result = tf.square(input_var)\n",
        "\n",
        "gradient = tape.gradient(result, input_var)\n",
        "print(gradient)"
      ],
      "metadata": {
        "id": "fUgVYcILD2iX",
        "outputId": "7bba6b27-0e70-4546-afaf-2b2315631e43",
        "colab": {
          "base_uri": "https://localhost:8080/"
        }
      },
      "execution_count": 26,
      "outputs": [
        {
          "output_type": "stream",
          "name": "stdout",
          "text": [
            "tf.Tensor(6.0, shape=(), dtype=float32)\n"
          ]
        }
      ]
    },
    {
      "cell_type": "markdown",
      "source": [
        "This is most commonly used to retrieve the gradients of the loss of a model with\n",
        "respect to its weights: `gradients = tape.gradient(loss, weights)`.\n",
        "\n",
        "So far, you’ve only seen the case where the input tensors in `tape.gradient()` were\n",
        "TensorFlow variables. \n",
        "\n",
        "It’s actually possible for these inputs to be any arbitrary tensor.\n",
        "However, only trainable variables are tracked by default. With a constant tensor, you’d\n",
        "have to manually mark it as being tracked by calling `tape.watch()` on it."
      ],
      "metadata": {
        "id": "USYUTBpDEaAd"
      }
    },
    {
      "cell_type": "code",
      "source": [
        "input_const = tf.constant(3.)\n",
        "\n",
        "with tf.GradientTape() as tape:\n",
        "  tape.watch(input_const)\n",
        "  result = tf.square(input_const)\n",
        "\n",
        "gradient = tape.gradient(result, input_const)\n",
        "print(gradient)"
      ],
      "metadata": {
        "id": "rSLHC15QEnp7",
        "outputId": "6e7c0341-264b-49b2-91bf-06b9ea266d02",
        "colab": {
          "base_uri": "https://localhost:8080/"
        }
      },
      "execution_count": 27,
      "outputs": [
        {
          "output_type": "stream",
          "name": "stdout",
          "text": [
            "tf.Tensor(6.0, shape=(), dtype=float32)\n"
          ]
        }
      ]
    },
    {
      "cell_type": "markdown",
      "source": [
        "To avoid wasting resources, the tape needs to know what to watch. Trainable variables\n",
        "are watched by default because computing the gradient of a loss with regard to a list of\n",
        "trainable variables is the most common use of the gradient tape.\n",
        "\n",
        "The gradient tape is a powerful utility, even capable of computing second-order gradients,\n",
        "that is to say, the gradient of a gradient. \n",
        "\n",
        "For instance, the gradient of the position\n",
        "of an object with regard to time is the speed of that object, and the second-order\n",
        "gradient is its acceleration.\n",
        "\n",
        "If you measure the position of a falling apple along a vertical axis over time and\n",
        "find that it verifies `position(time) = 4.9 * time ** 2`, what is its acceleration? \n",
        "\n",
        "Let’s use two nested gradient tapes to find out."
      ],
      "metadata": {
        "id": "xSEorkcvFT3b"
      }
    },
    {
      "cell_type": "code",
      "source": [
        "time = tf.Variable(0.0)\n",
        "\n",
        "with tf.GradientTape() as outer_tape:\n",
        "  with tf.GradientTape() as inner_tape:\n",
        "    position = 4.9 * time ** 2\n",
        "  speed = inner_tape.gradient(position, time)\n",
        "\n",
        "# We use the outer tape to compute the gradient of the gradient from the inner tape. Naturally, the answer is 4.9 * 2 = 9.8.\n",
        "acceleration = outer_tape.gradient(speed, time)\n",
        "print(speed)\n",
        "print(acceleration)"
      ],
      "metadata": {
        "id": "OKxbrLIzFmPO",
        "outputId": "b764e527-0b4d-4dfe-a973-ffc97ea3eb4a",
        "colab": {
          "base_uri": "https://localhost:8080/"
        }
      },
      "execution_count": 28,
      "outputs": [
        {
          "output_type": "stream",
          "name": "stdout",
          "text": [
            "tf.Tensor(0.0, shape=(), dtype=float32)\n",
            "tf.Tensor(9.8, shape=(), dtype=float32)\n"
          ]
        }
      ]
    },
    {
      "cell_type": "markdown",
      "source": [
        "##An end-to-end example: A linear classifier in pure TensorFlow"
      ],
      "metadata": {
        "id": "lYPRNpBAGohf"
      }
    },
    {
      "cell_type": "markdown",
      "source": [
        "In a machine learning job interview, you may be asked to implement a linear classifier\n",
        "from scratch in TensorFlow: a very simple task that serves as a filter between candidates\n",
        "who have some minimal machine learning background and those who don’t.\n",
        "\n",
        "Let’s get you past that filter and use your newfound knowledge of TensorFlow to\n",
        "implement such a linear classifier.\n",
        "\n",
        "First, let’s come up with some nicely linearly separable synthetic data to work with:\n",
        "two classes of points in a 2D plane. We’ll generate each class of points by drawing their\n",
        "coordinates from a random distribution with a specific covariance matrix and a specific\n",
        "mean.\n",
        "\n",
        "Intuitively, the covariance matrix describes the shape of the point cloud,\n",
        "and the mean describes its position in the plane."
      ],
      "metadata": {
        "id": "KeuiaUwlGqJ4"
      }
    },
    {
      "cell_type": "code",
      "source": [
        "# Generating two classes of random points in a 2D plane\n",
        "num_samples_per_class = 1000\n",
        "\n",
        "# Generate the first class of points: 1000 random 2D points. cov=[[1,0.5],[0.5, 1]] corresponds to an oval-like point cloud oriented from bottom left to top right.\n",
        "negative_samples = np.random.multivariate_normal(\n",
        "    mean=[0, 3],\n",
        "    cov=[[1, 0.5], [0.5, 1]],\n",
        "    size=num_samples_per_class\n",
        ")\n",
        "\n",
        "# Generate the other class of points with a different mean and the same covariance matrix.\n",
        "positive_samples = np.random.multivariate_normal(\n",
        "    mean=[3, 0],\n",
        "    cov=[[1, 0.5], [0.5, 1]],\n",
        "    size=num_samples_per_class\n",
        ")"
      ],
      "metadata": {
        "id": "QwPRDrM_VJCF"
      },
      "execution_count": 29,
      "outputs": []
    },
    {
      "cell_type": "code",
      "source": [
        "negative_samples.shape"
      ],
      "metadata": {
        "id": "8V3Ce84JXIez",
        "outputId": "910cc808-3b55-4e44-b524-52f53361f663",
        "colab": {
          "base_uri": "https://localhost:8080/"
        }
      },
      "execution_count": 30,
      "outputs": [
        {
          "output_type": "execute_result",
          "data": {
            "text/plain": [
              "(1000, 2)"
            ]
          },
          "metadata": {},
          "execution_count": 30
        }
      ]
    },
    {
      "cell_type": "code",
      "source": [
        "positive_samples.shape"
      ],
      "metadata": {
        "id": "JHuPB05eXKmp",
        "outputId": "2de694ca-4eb4-4a1e-fc17-c43f693a76d4",
        "colab": {
          "base_uri": "https://localhost:8080/"
        }
      },
      "execution_count": 31,
      "outputs": [
        {
          "output_type": "execute_result",
          "data": {
            "text/plain": [
              "(1000, 2)"
            ]
          },
          "metadata": {},
          "execution_count": 31
        }
      ]
    },
    {
      "cell_type": "markdown",
      "source": [
        "In the preceding code, negative_samples and positive_samples are both arrays\n",
        "with shape `(1000, 2)`. \n",
        "\n",
        "Let’s stack them into a single array with shape `(2000, 2)`."
      ],
      "metadata": {
        "id": "sQlPF08pXEko"
      }
    },
    {
      "cell_type": "code",
      "source": [
        "inputs = np.vstack((negative_samples, positive_samples)).astype(np.float32)\n",
        "inputs.shape"
      ],
      "metadata": {
        "id": "z8AuOFXYXHjc",
        "outputId": "ec53e782-bf83-4572-aab8-9d35d5ba0f90",
        "colab": {
          "base_uri": "https://localhost:8080/"
        }
      },
      "execution_count": 32,
      "outputs": [
        {
          "output_type": "execute_result",
          "data": {
            "text/plain": [
              "(2000, 2)"
            ]
          },
          "metadata": {},
          "execution_count": 32
        }
      ]
    },
    {
      "cell_type": "markdown",
      "source": [
        "Let’s generate the corresponding target labels, an array of zeros and ones of shape\n",
        "`(2000, 1)`, where `targets[i, 0]` is 0 if `inputs[i]` belongs to class 0 (and inversely)."
      ],
      "metadata": {
        "id": "sVoElFsoXmiU"
      }
    },
    {
      "cell_type": "code",
      "source": [
        "targets = np.vstack(\n",
        "    (\n",
        "        np.zeros((num_samples_per_class, 1), dtype=\"float32\"),\n",
        "        np.ones((num_samples_per_class, 1), dtype=\"float32\")\n",
        "    )\n",
        ")"
      ],
      "metadata": {
        "id": "gLCjNKa0XqjA"
      },
      "execution_count": 33,
      "outputs": []
    },
    {
      "cell_type": "markdown",
      "source": [
        "Next, let’s plot our data with Matplotlib."
      ],
      "metadata": {
        "id": "vWl2kIzhYLQt"
      }
    },
    {
      "cell_type": "code",
      "source": [
        "plt.scatter(inputs[:, 0], inputs[:, 1], c=targets[:, 0])\n",
        "plt.show()"
      ],
      "metadata": {
        "id": "3n98WkxGYNkR",
        "outputId": "7fd4c3a6-ccaa-4018-9852-0c337c7d79d9",
        "colab": {
          "base_uri": "https://localhost:8080/",
          "height": 265
        }
      },
      "execution_count": 34,
      "outputs": [
        {
          "output_type": "display_data",
          "data": {
            "image/png": "[encoded data removed]",
            "text/plain": [
              "<Figure size 432x288 with 1 Axes>"
            ]
          },
          "metadata": {
            "needs_background": "light"
          }
        }
      ]
    },
    {
      "cell_type": "markdown",
      "source": [
        "Now let’s create a linear classifier that can learn to separate these two blobs. \n",
        "\n",
        "A linear\n",
        "classifier is an affine transformation `(prediction = W • input + b)` trained to minimize\n",
        "the square of the difference between predictions and the targets."
      ],
      "metadata": {
        "id": "QaZVSAL-Yxx-"
      }
    }
  ]
}