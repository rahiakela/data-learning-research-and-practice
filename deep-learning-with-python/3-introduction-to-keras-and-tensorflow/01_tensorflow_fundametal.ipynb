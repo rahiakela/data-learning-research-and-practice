{
  "nbformat": 4,
  "nbformat_minor": 0,
  "metadata": {
    "colab": {
      "name": "01-tensorflow-fundametal.ipynb",
      "provenance": [],
      "toc_visible": true,
      "authorship_tag": "ABX9TyNlEcP4MTkd7xrOsKhD2KmY",
      "include_colab_link": true
    },
    "kernelspec": {
      "name": "python3",
      "display_name": "Python 3"
    },
    "language_info": {
      "name": "python"
    }
  },
  "cells": [
    {
      "cell_type": "markdown",
      "metadata": {
        "id": "view-in-github",
        "colab_type": "text"
      },
      "source": [
        "<a href=\"https://colab.research.google.com/github/rahiakela/data-learning-research-and-practice/blob/main/deep-learning-with-python-by-francois-chollet/3-introduction-to-keras-and-tensorflow/01_tensorflow_fundametal.ipynb\" target=\"_parent\"><img src=\"https://colab.research.google.com/assets/colab-badge.svg\" alt=\"Open In Colab\"/></a>"
      ]
    },
    {
      "cell_type": "markdown",
      "source": [
        "##First steps with TensorFlow"
      ],
      "metadata": {
        "id": "oza27QQk5wnr"
      }
    },
    {
      "cell_type": "markdown",
      "source": [
        "As we know, training a neural network revolves around the following\n",
        "concepts:\n",
        "\n",
        "- First, low-level tensor manipulation—the infrastructure that underlies all modern machine learning. This translates to TensorFlow APIs:\n",
        "  - Tensors, including special tensors that store the network’s state (variables)\n",
        "  - Tensor operations such as addition, relu, matmul\n",
        "  - Backpropagation, a way to compute the gradient of mathematical expressions\n",
        "\n",
        "- Second, high-level deep learning concepts. This translates to Keras APIs:\n",
        "  - Layers, which are combined into a model\n",
        "  - A loss function, which defines the feedback signal used for learning\n",
        "  - An optimizer, which determines how learning proceeds\n",
        "  - Metrics to evaluate model performance, such as accuracy\n",
        "  - A training loop that performs mini-batch stochastic gradient descent\n",
        "\n",
        "Now let’s take a deeper dive into how all of these different concepts can be\n",
        "approached in practice using TensorFlow and Keras."
      ],
      "metadata": {
        "id": "wQz2lVRm5xWj"
      }
    },
    {
      "cell_type": "markdown",
      "source": [
        "##Setup"
      ],
      "metadata": {
        "id": "yp5DFnZ06gYJ"
      }
    },
    {
      "cell_type": "code",
      "source": [
        "import tensorflow as tf\n",
        "import numpy as np\n",
        "import matplotlib.pyplot as plt"
      ],
      "metadata": {
        "id": "Sbi-okLm6hc_"
      },
      "execution_count": 1,
      "outputs": []
    },
    {
      "cell_type": "markdown",
      "source": [
        "##Constant tensors and variables"
      ],
      "metadata": {
        "id": "RXyY1N4W6vAZ"
      }
    },
    {
      "cell_type": "markdown",
      "source": [
        "To do anything in TensorFlow, we’re going to need some tensors. Tensors need to be created with some initial value. \n",
        "\n",
        "For instance, you could create all-ones or all-zeros tensors, or tensors of values drawn from a random distribution.\n",
        "\n",
        "**All-ones or all-zeros tensors**"
      ],
      "metadata": {
        "id": "egbRby_b6xLG"
      }
    },
    {
      "cell_type": "code",
      "source": [
        "x = tf.ones(shape=(2, 1))\n",
        "print(x)"
      ],
      "metadata": {
        "colab": {
          "base_uri": "https://localhost:8080/"
        },
        "id": "_LUP1jsl64vL",
        "outputId": "516ceccc-6401-471f-bc03-64f90f3a9eab"
      },
      "execution_count": 2,
      "outputs": [
        {
          "output_type": "stream",
          "name": "stdout",
          "text": [
            "tf.Tensor(\n",
            "[[1.]\n",
            " [1.]], shape=(2, 1), dtype=float32)\n"
          ]
        }
      ]
    },
    {
      "cell_type": "code",
      "source": [
        "x = np.ones(shape=(2, 1))\n",
        "print(x)"
      ],
      "metadata": {
        "colab": {
          "base_uri": "https://localhost:8080/"
        },
        "id": "vaDffqv57ALI",
        "outputId": "c27d738d-9bf1-419d-cbda-e4840442e48c"
      },
      "execution_count": 3,
      "outputs": [
        {
          "output_type": "stream",
          "name": "stdout",
          "text": [
            "[[1.]\n",
            " [1.]]\n"
          ]
        }
      ]
    },
    {
      "cell_type": "code",
      "source": [
        "x = tf.zeros(shape=(2, 1))\n",
        "print(x)"
      ],
      "metadata": {
        "colab": {
          "base_uri": "https://localhost:8080/"
        },
        "id": "33wMm3X_7I85",
        "outputId": "41dab4d1-6520-4075-e401-e570aa1dbf6c"
      },
      "execution_count": 4,
      "outputs": [
        {
          "output_type": "stream",
          "name": "stdout",
          "text": [
            "tf.Tensor(\n",
            "[[0.]\n",
            " [0.]], shape=(2, 1), dtype=float32)\n"
          ]
        }
      ]
    },
    {
      "cell_type": "code",
      "source": [
        "x = np.zeros(shape=(2, 1))\n",
        "print(x)"
      ],
      "metadata": {
        "colab": {
          "base_uri": "https://localhost:8080/"
        },
        "id": "MNK1jUYN7Ojb",
        "outputId": "f43404cb-a114-49fd-8410-3d7bb27b227e"
      },
      "execution_count": 5,
      "outputs": [
        {
          "output_type": "stream",
          "name": "stdout",
          "text": [
            "[[0.]\n",
            " [0.]]\n"
          ]
        }
      ]
    },
    {
      "cell_type": "markdown",
      "source": [
        "**Random tensors**"
      ],
      "metadata": {
        "id": "BNlhrspK7Zws"
      }
    },
    {
      "cell_type": "code",
      "source": [
        "# Tensor of random values drawn from a normal distribution with mean 0 and standard deviation 1.\n",
        "x = tf.random.normal(shape=(3, 1), mean=0.0, stddev=1.0)\n",
        "print(x)"
      ],
      "metadata": {
        "colab": {
          "base_uri": "https://localhost:8080/"
        },
        "id": "TjeKGDx-7Y28",
        "outputId": "d6613e91-edfe-42b1-d9f0-8a2cbbabc08b"
      },
      "execution_count": 6,
      "outputs": [
        {
          "output_type": "stream",
          "name": "stdout",
          "text": [
            "tf.Tensor(\n",
            "[[1.4842637]\n",
            " [1.2667865]\n",
            " [0.6963157]], shape=(3, 1), dtype=float32)\n"
          ]
        }
      ]
    },
    {
      "cell_type": "code",
      "source": [
        "x = np.random.normal(size=(3, 1), loc=0.0, scale=1.0)\n",
        "print(x)"
      ],
      "metadata": {
        "colab": {
          "base_uri": "https://localhost:8080/"
        },
        "id": "p5jLNjx77yip",
        "outputId": "c34e7b9c-f0ad-4b33-948e-7236b1737760"
      },
      "execution_count": 7,
      "outputs": [
        {
          "output_type": "stream",
          "name": "stdout",
          "text": [
            "[[-2.51617273]\n",
            " [-0.6613153 ]\n",
            " [ 0.17460165]]\n"
          ]
        }
      ]
    },
    {
      "cell_type": "code",
      "source": [
        "# Tensor of random values drawn from a uniform distribution between 0 and 1.\n",
        "x = tf.random.uniform(shape=(3, 1), minval=0.0, maxval=1.0)\n",
        "print(x)"
      ],
      "metadata": {
        "colab": {
          "base_uri": "https://localhost:8080/"
        },
        "id": "fmbaMt1M8EqA",
        "outputId": "f59ed69d-4b9b-4320-e192-a2d0adb1dc08"
      },
      "execution_count": 8,
      "outputs": [
        {
          "output_type": "stream",
          "name": "stdout",
          "text": [
            "tf.Tensor(\n",
            "[[0.23288548]\n",
            " [0.9568776 ]\n",
            " [0.5369797 ]], shape=(3, 1), dtype=float32)\n"
          ]
        }
      ]
    },
    {
      "cell_type": "code",
      "source": [
        "x = np.random.uniform(size=(3, 1), low=0.0, high=1.0)\n",
        "print(x)"
      ],
      "metadata": {
        "colab": {
          "base_uri": "https://localhost:8080/"
        },
        "id": "AuRlzqSg9W17",
        "outputId": "5a998b94-61a7-4478-9cf7-2919408c2095"
      },
      "execution_count": 9,
      "outputs": [
        {
          "output_type": "stream",
          "name": "stdout",
          "text": [
            "[[0.74577019]\n",
            " [0.39281842]\n",
            " [0.94942757]]\n"
          ]
        }
      ]
    },
    {
      "cell_type": "markdown",
      "source": [
        "A significant difference between NumPy arrays and TensorFlow tensors is that Tensor-\n",
        "Flow tensors aren’t assignable: they’re constant. \n",
        "\n",
        "For instance, in NumPy, you can do\n",
        "the following."
      ],
      "metadata": {
        "id": "jnrPqjam9ppV"
      }
    },
    {
      "cell_type": "code",
      "source": [
        "x = np.ones(shape=(2, 2))\n",
        "print(x)"
      ],
      "metadata": {
        "colab": {
          "base_uri": "https://localhost:8080/"
        },
        "id": "Cq1s36K79tgt",
        "outputId": "9968dc73-4e6d-4ec5-abae-1aca7020d5c8"
      },
      "execution_count": 10,
      "outputs": [
        {
          "output_type": "stream",
          "name": "stdout",
          "text": [
            "[[1. 1.]\n",
            " [1. 1.]]\n"
          ]
        }
      ]
    },
    {
      "cell_type": "code",
      "source": [
        "x[0, 0] = 0.0\n",
        "print(x)"
      ],
      "metadata": {
        "colab": {
          "base_uri": "https://localhost:8080/"
        },
        "id": "eftc6wiz938F",
        "outputId": "67e3d13e-8b94-4626-d012-1d7e2ba5f440"
      },
      "execution_count": 11,
      "outputs": [
        {
          "output_type": "stream",
          "name": "stdout",
          "text": [
            "[[0. 1.]\n",
            " [1. 1.]]\n"
          ]
        }
      ]
    },
    {
      "cell_type": "markdown",
      "source": [
        "Try to do the same thing in TensorFlow, and you will get an error: “EagerTensor object\n",
        "does not support item assignment.”"
      ],
      "metadata": {
        "id": "Ur_TDFXb9_1E"
      }
    },
    {
      "cell_type": "code",
      "source": [
        "x = tf.ones(shape=(2, 2))\n",
        "print(x)"
      ],
      "metadata": {
        "colab": {
          "base_uri": "https://localhost:8080/"
        },
        "id": "mqH-AJDr-BKD",
        "outputId": "b104ccf8-f427-41e5-ce79-3413e2e3785a"
      },
      "execution_count": 12,
      "outputs": [
        {
          "output_type": "stream",
          "name": "stdout",
          "text": [
            "tf.Tensor(\n",
            "[[1. 1.]\n",
            " [1. 1.]], shape=(2, 2), dtype=float32)\n"
          ]
        }
      ]
    },
    {
      "cell_type": "code",
      "source": [
        "# x[0, 0] = 0.0"
      ],
      "metadata": {
        "id": "QYkoIoSy-Fp1"
      },
      "execution_count": 13,
      "outputs": []
    },
    {
      "cell_type": "markdown",
      "source": [
        "```log\n",
        "---------------------------------------------------------------------------\n",
        "TypeError                                 Traceback (most recent call last)\n",
        "<ipython-input-14-b9cc6021f76a> in <module>()\n",
        "----> 1 x[0, 0] = 0.0\n",
        "      2 print(x)\n",
        "\n",
        "TypeError: 'tensorflow.python.framework.ops.EagerTensor' object does not support item assignment\n",
        "```\n",
        "\n",
        "To train a model, we’ll need to update its state, which is a set of tensors. If tensors aren’t assignable, how do we do it?\n",
        "\n",
        "That’s where variables come in. `tf.Variable` is the\n",
        "class meant to manage modifiable state in TensorFlow.\n",
        "\n",
        "To create a variable, you need to provide some initial value, such as a random tensor."
      ],
      "metadata": {
        "id": "w5N7dq9F-Qdv"
      }
    },
    {
      "cell_type": "code",
      "source": [
        "v = tf.Variable(initial_value=tf.random.normal(shape=(3, 1)))\n",
        "print(v)"
      ],
      "metadata": {
        "colab": {
          "base_uri": "https://localhost:8080/"
        },
        "id": "90mYsRWj_dVw",
        "outputId": "61529a12-46fd-47b1-d5d9-3329297af4be"
      },
      "execution_count": 14,
      "outputs": [
        {
          "output_type": "stream",
          "name": "stdout",
          "text": [
            "<tf.Variable 'Variable:0' shape=(3, 1) dtype=float32, numpy=\n",
            "array([[ 0.08522119],\n",
            "       [-0.07175814],\n",
            "       [ 0.456301  ]], dtype=float32)>\n"
          ]
        }
      ]
    },
    {
      "cell_type": "markdown",
      "source": [
        "The state of a variable can be modified via its assign method, as follows."
      ],
      "metadata": {
        "id": "OY5Ty6_m_y0H"
      }
    },
    {
      "cell_type": "code",
      "source": [
        "v.assign(tf.ones((3, 1)))"
      ],
      "metadata": {
        "colab": {
          "base_uri": "https://localhost:8080/"
        },
        "id": "WnQe8kX6_zNM",
        "outputId": "a9824d8d-41ce-47c4-cda5-13e27a906fa4"
      },
      "execution_count": 15,
      "outputs": [
        {
          "output_type": "execute_result",
          "data": {
            "text/plain": [
              "<tf.Variable 'UnreadVariable' shape=(3, 1) dtype=float32, numpy=\n",
              "array([[1.],\n",
              "       [1.],\n",
              "       [1.]], dtype=float32)>"
            ]
          },
          "metadata": {},
          "execution_count": 15
        }
      ]
    },
    {
      "cell_type": "markdown",
      "source": [
        "It also works for a subset of the coefficients."
      ],
      "metadata": {
        "id": "oLDoEf30__KZ"
      }
    },
    {
      "cell_type": "code",
      "source": [
        "v[0, 0].assign((3.0))"
      ],
      "metadata": {
        "colab": {
          "base_uri": "https://localhost:8080/"
        },
        "id": "w5vPMr7Y__nT",
        "outputId": "ebc033b9-c8e4-49d1-e617-0d4956f1e6c1"
      },
      "execution_count": 16,
      "outputs": [
        {
          "output_type": "execute_result",
          "data": {
            "text/plain": [
              "<tf.Variable 'UnreadVariable' shape=(3, 1) dtype=float32, numpy=\n",
              "array([[3.],\n",
              "       [1.],\n",
              "       [1.]], dtype=float32)>"
            ]
          },
          "metadata": {},
          "execution_count": 16
        }
      ]
    },
    {
      "cell_type": "code",
      "source": [
        "v[1, 0].assign((4.0))"
      ],
      "metadata": {
        "colab": {
          "base_uri": "https://localhost:8080/"
        },
        "id": "-OhBXiKNAGqU",
        "outputId": "0027aa93-9f98-47d8-829f-98ccf2380130"
      },
      "execution_count": 17,
      "outputs": [
        {
          "output_type": "execute_result",
          "data": {
            "text/plain": [
              "<tf.Variable 'UnreadVariable' shape=(3, 1) dtype=float32, numpy=\n",
              "array([[3.],\n",
              "       [4.],\n",
              "       [1.]], dtype=float32)>"
            ]
          },
          "metadata": {},
          "execution_count": 17
        }
      ]
    },
    {
      "cell_type": "markdown",
      "source": [
        "Similarly, assign_add() and assign_sub() are efficient equivalents of += and -=, as shown next."
      ],
      "metadata": {
        "id": "qV28BawJAUgs"
      }
    },
    {
      "cell_type": "code",
      "source": [
        "v.assign_add(tf.ones((3, 1)))"
      ],
      "metadata": {
        "colab": {
          "base_uri": "https://localhost:8080/"
        },
        "id": "-InA-JbUAV2s",
        "outputId": "12f61aae-0696-4597-ec48-060f175fb64a"
      },
      "execution_count": 18,
      "outputs": [
        {
          "output_type": "execute_result",
          "data": {
            "text/plain": [
              "<tf.Variable 'UnreadVariable' shape=(3, 1) dtype=float32, numpy=\n",
              "array([[4.],\n",
              "       [5.],\n",
              "       [2.]], dtype=float32)>"
            ]
          },
          "metadata": {},
          "execution_count": 18
        }
      ]
    },
    {
      "cell_type": "code",
      "source": [
        "v.assign_sub(tf.ones((3, 1)))"
      ],
      "metadata": {
        "colab": {
          "base_uri": "https://localhost:8080/"
        },
        "id": "b7oH--oeAg-e",
        "outputId": "29ce3f29-f1b4-4fb2-d628-c3b3ad1dcd3b"
      },
      "execution_count": 19,
      "outputs": [
        {
          "output_type": "execute_result",
          "data": {
            "text/plain": [
              "<tf.Variable 'UnreadVariable' shape=(3, 1) dtype=float32, numpy=\n",
              "array([[3.],\n",
              "       [4.],\n",
              "       [1.]], dtype=float32)>"
            ]
          },
          "metadata": {},
          "execution_count": 19
        }
      ]
    },
    {
      "cell_type": "markdown",
      "source": [
        "##Tensor operations: Doing math in TensorFlow"
      ],
      "metadata": {
        "id": "tpYNFDmfAoXl"
      }
    },
    {
      "cell_type": "markdown",
      "source": [
        "Just like NumPy, TensorFlow offers a large collection of tensor operations to express\n",
        "mathematical formulas."
      ],
      "metadata": {
        "id": "hOHINVtyApHT"
      }
    },
    {
      "cell_type": "code",
      "source": [
        "a = tf.ones((2, 2))\n",
        "print(a)"
      ],
      "metadata": {
        "id": "GgA3RZatC45O",
        "outputId": "38f56d31-382c-401d-a937-8fe14ab44f43",
        "colab": {
          "base_uri": "https://localhost:8080/"
        }
      },
      "execution_count": 20,
      "outputs": [
        {
          "output_type": "stream",
          "name": "stdout",
          "text": [
            "tf.Tensor(\n",
            "[[1. 1.]\n",
            " [1. 1.]], shape=(2, 2), dtype=float32)\n"
          ]
        }
      ]
    },
    {
      "cell_type": "code",
      "source": [
        "b = tf.square(a)  # Take the square\n",
        "print(b)"
      ],
      "metadata": {
        "id": "zCkbCy9iC9y-",
        "outputId": "7d0f528f-18a0-4e44-e129-bb8f05fd5e85",
        "colab": {
          "base_uri": "https://localhost:8080/"
        }
      },
      "execution_count": 21,
      "outputs": [
        {
          "output_type": "stream",
          "name": "stdout",
          "text": [
            "tf.Tensor(\n",
            "[[1. 1.]\n",
            " [1. 1.]], shape=(2, 2), dtype=float32)\n"
          ]
        }
      ]
    },
    {
      "cell_type": "code",
      "source": [
        "c = tf.sqrt(a)  # Take the square root\n",
        "print(c)"
      ],
      "metadata": {
        "id": "_Y98kPuWDFes",
        "outputId": "da6ddf9a-43e4-4861-b521-265a2fdebd87",
        "colab": {
          "base_uri": "https://localhost:8080/"
        }
      },
      "execution_count": 22,
      "outputs": [
        {
          "output_type": "stream",
          "name": "stdout",
          "text": [
            "tf.Tensor(\n",
            "[[1. 1.]\n",
            " [1. 1.]], shape=(2, 2), dtype=float32)\n"
          ]
        }
      ]
    },
    {
      "cell_type": "code",
      "source": [
        "d = b + c  # Add two tensors (element-wise).\n",
        "print(d)"
      ],
      "metadata": {
        "id": "xGTY6JrKDLPd",
        "outputId": "497bb524-e78d-4152-9824-a69e4b88a865",
        "colab": {
          "base_uri": "https://localhost:8080/"
        }
      },
      "execution_count": 23,
      "outputs": [
        {
          "output_type": "stream",
          "name": "stdout",
          "text": [
            "tf.Tensor(\n",
            "[[2. 2.]\n",
            " [2. 2.]], shape=(2, 2), dtype=float32)\n"
          ]
        }
      ]
    },
    {
      "cell_type": "code",
      "source": [
        "e = tf.matmul(a, b)  # Take the product of two tensors\n",
        "print(e)"
      ],
      "metadata": {
        "id": "89MAZbv2DSP0",
        "outputId": "605f581d-fb85-48cc-af0e-27976a50c511",
        "colab": {
          "base_uri": "https://localhost:8080/"
        }
      },
      "execution_count": 24,
      "outputs": [
        {
          "output_type": "stream",
          "name": "stdout",
          "text": [
            "tf.Tensor(\n",
            "[[2. 2.]\n",
            " [2. 2.]], shape=(2, 2), dtype=float32)\n"
          ]
        }
      ]
    },
    {
      "cell_type": "code",
      "source": [
        "e *= d   # Multiply two tensors\n",
        "print(e)"
      ],
      "metadata": {
        "id": "QV5BptfIDY-P",
        "outputId": "cffdfa96-df88-4430-8a15-d5a3ad290474",
        "colab": {
          "base_uri": "https://localhost:8080/"
        }
      },
      "execution_count": 25,
      "outputs": [
        {
          "output_type": "stream",
          "name": "stdout",
          "text": [
            "tf.Tensor(\n",
            "[[4. 4.]\n",
            " [4. 4.]], shape=(2, 2), dtype=float32)\n"
          ]
        }
      ]
    },
    {
      "cell_type": "markdown",
      "source": [
        "Importantly, each of the preceding operations gets executed on the fly: at any point,\n",
        "you can print what the current result is, just like in NumPy. We call this eager execution."
      ],
      "metadata": {
        "id": "lfZ5AuSnDklR"
      }
    },
    {
      "cell_type": "markdown",
      "source": [
        "##A look at the GradientTape API"
      ],
      "metadata": {
        "id": "axY6fvidDlAR"
      }
    },
    {
      "cell_type": "markdown",
      "source": [
        "So far, TensorFlow seems to look a lot like NumPy. But here’s something NumPy can’t do: retrieve the gradient of any differentiable expression with respect to any of its inputs. \n",
        "\n",
        "Just open a GradientTape scope, apply some computation to one or several input tensors, and retrieve the gradient of the result with respect to the inputs."
      ],
      "metadata": {
        "id": "uXAPKvgaDnqj"
      }
    },
    {
      "cell_type": "code",
      "source": [
        "input_var = tf.Variable(initial_value=3.)\n",
        "\n",
        "with tf.GradientTape() as tape:\n",
        "  result = tf.square(input_var)\n",
        "\n",
        "gradient = tape.gradient(result, input_var)\n",
        "print(gradient)"
      ],
      "metadata": {
        "id": "fUgVYcILD2iX",
        "outputId": "9e6f98d2-7d57-461a-a695-47ddcf8273e4",
        "colab": {
          "base_uri": "https://localhost:8080/"
        }
      },
      "execution_count": 26,
      "outputs": [
        {
          "output_type": "stream",
          "name": "stdout",
          "text": [
            "tf.Tensor(6.0, shape=(), dtype=float32)\n"
          ]
        }
      ]
    },
    {
      "cell_type": "markdown",
      "source": [
        "This is most commonly used to retrieve the gradients of the loss of a model with\n",
        "respect to its weights: `gradients = tape.gradient(loss, weights)`.\n",
        "\n",
        "So far, you’ve only seen the case where the input tensors in `tape.gradient()` were\n",
        "TensorFlow variables. \n",
        "\n",
        "It’s actually possible for these inputs to be any arbitrary tensor.\n",
        "However, only trainable variables are tracked by default. With a constant tensor, you’d\n",
        "have to manually mark it as being tracked by calling `tape.watch()` on it."
      ],
      "metadata": {
        "id": "USYUTBpDEaAd"
      }
    },
    {
      "cell_type": "code",
      "source": [
        "input_const = tf.constant(3.)\n",
        "\n",
        "with tf.GradientTape() as tape:\n",
        "  tape.watch(input_const)\n",
        "  result = tf.square(input_const)\n",
        "\n",
        "gradient = tape.gradient(result, input_const)\n",
        "print(gradient)"
      ],
      "metadata": {
        "id": "rSLHC15QEnp7",
        "outputId": "47ac6ec8-bcad-4eeb-819c-defcc882dde4",
        "colab": {
          "base_uri": "https://localhost:8080/"
        }
      },
      "execution_count": 27,
      "outputs": [
        {
          "output_type": "stream",
          "name": "stdout",
          "text": [
            "tf.Tensor(6.0, shape=(), dtype=float32)\n"
          ]
        }
      ]
    },
    {
      "cell_type": "markdown",
      "source": [
        "To avoid wasting resources, the tape needs to know what to watch. Trainable variables\n",
        "are watched by default because computing the gradient of a loss with regard to a list of\n",
        "trainable variables is the most common use of the gradient tape.\n",
        "\n",
        "The gradient tape is a powerful utility, even capable of computing second-order gradients,\n",
        "that is to say, the gradient of a gradient. \n",
        "\n",
        "For instance, the gradient of the position\n",
        "of an object with regard to time is the speed of that object, and the second-order\n",
        "gradient is its acceleration.\n",
        "\n",
        "If you measure the position of a falling apple along a vertical axis over time and\n",
        "find that it verifies `position(time) = 4.9 * time ** 2`, what is its acceleration? \n",
        "\n",
        "Let’s use two nested gradient tapes to find out."
      ],
      "metadata": {
        "id": "xSEorkcvFT3b"
      }
    },
    {
      "cell_type": "code",
      "source": [
        "time = tf.Variable(0.0)\n",
        "\n",
        "with tf.GradientTape() as outer_tape:\n",
        "  with tf.GradientTape() as inner_tape:\n",
        "    position = 4.9 * time ** 2\n",
        "  speed = inner_tape.gradient(position, time)\n",
        "\n",
        "# We use the outer tape to compute the gradient of the gradient from the inner tape. Naturally, the answer is 4.9 * 2 = 9.8.\n",
        "acceleration = outer_tape.gradient(speed, time)\n",
        "print(speed)\n",
        "print(acceleration)"
      ],
      "metadata": {
        "id": "OKxbrLIzFmPO",
        "outputId": "d4e29172-5e00-4d5e-c179-ebdc3fb74a3f",
        "colab": {
          "base_uri": "https://localhost:8080/"
        }
      },
      "execution_count": 28,
      "outputs": [
        {
          "output_type": "stream",
          "name": "stdout",
          "text": [
            "tf.Tensor(0.0, shape=(), dtype=float32)\n",
            "tf.Tensor(9.8, shape=(), dtype=float32)\n"
          ]
        }
      ]
    },
    {
      "cell_type": "markdown",
      "source": [
        "##An end-to-end example: A linear classifier in pure TensorFlow"
      ],
      "metadata": {
        "id": "lYPRNpBAGohf"
      }
    },
    {
      "cell_type": "markdown",
      "source": [
        "In a machine learning job interview, you may be asked to implement a linear classifier\n",
        "from scratch in TensorFlow: a very simple task that serves as a filter between candidates\n",
        "who have some minimal machine learning background and those who don’t.\n",
        "\n",
        "Let’s get you past that filter and use your newfound knowledge of TensorFlow to\n",
        "implement such a linear classifier.\n",
        "\n",
        "First, let’s come up with some nicely linearly separable synthetic data to work with:\n",
        "two classes of points in a 2D plane. We’ll generate each class of points by drawing their\n",
        "coordinates from a random distribution with a specific covariance matrix and a specific\n",
        "mean.\n",
        "\n",
        "Intuitively, the covariance matrix describes the shape of the point cloud,\n",
        "and the mean describes its position in the plane."
      ],
      "metadata": {
        "id": "KeuiaUwlGqJ4"
      }
    },
    {
      "cell_type": "code",
      "source": [
        "# Generating two classes of random points in a 2D plane\n",
        "num_samples_per_class = 1000\n",
        "\n",
        "# Generate the first class of points: 1000 random 2D points. cov=[[1,0.5],[0.5, 1]] corresponds to an oval-like point cloud oriented from bottom left to top right.\n",
        "negative_samples = np.random.multivariate_normal(\n",
        "    mean=[0, 3],\n",
        "    cov=[[1, 0.5], [0.5, 1]],\n",
        "    size=num_samples_per_class\n",
        ")\n",
        "\n",
        "# Generate the other class of points with a different mean and the same covariance matrix.\n",
        "positive_samples = np.random.multivariate_normal(\n",
        "    mean=[3, 0],\n",
        "    cov=[[1, 0.5], [0.5, 1]],\n",
        "    size=num_samples_per_class\n",
        ")"
      ],
      "metadata": {
        "id": "QwPRDrM_VJCF"
      },
      "execution_count": 29,
      "outputs": []
    },
    {
      "cell_type": "code",
      "source": [
        "negative_samples.shape"
      ],
      "metadata": {
        "id": "8V3Ce84JXIez",
        "outputId": "715e4aae-1a0a-4989-a3a8-4c3e0d818c22",
        "colab": {
          "base_uri": "https://localhost:8080/"
        }
      },
      "execution_count": 30,
      "outputs": [
        {
          "output_type": "execute_result",
          "data": {
            "text/plain": [
              "(1000, 2)"
            ]
          },
          "metadata": {},
          "execution_count": 30
        }
      ]
    },
    {
      "cell_type": "code",
      "source": [
        "positive_samples.shape"
      ],
      "metadata": {
        "id": "JHuPB05eXKmp",
        "outputId": "d933a52f-5139-4e08-85c8-aa76440025d1",
        "colab": {
          "base_uri": "https://localhost:8080/"
        }
      },
      "execution_count": 31,
      "outputs": [
        {
          "output_type": "execute_result",
          "data": {
            "text/plain": [
              "(1000, 2)"
            ]
          },
          "metadata": {},
          "execution_count": 31
        }
      ]
    },
    {
      "cell_type": "markdown",
      "source": [
        "In the preceding code, negative_samples and positive_samples are both arrays\n",
        "with shape `(1000, 2)`. \n",
        "\n",
        "Let’s stack them into a single array with shape `(2000, 2)`."
      ],
      "metadata": {
        "id": "sQlPF08pXEko"
      }
    },
    {
      "cell_type": "code",
      "source": [
        "inputs = np.vstack((negative_samples, positive_samples)).astype(np.float32)\n",
        "inputs.shape"
      ],
      "metadata": {
        "id": "z8AuOFXYXHjc",
        "outputId": "d9b495a4-2783-448b-fc90-57fdf153a2ea",
        "colab": {
          "base_uri": "https://localhost:8080/"
        }
      },
      "execution_count": 32,
      "outputs": [
        {
          "output_type": "execute_result",
          "data": {
            "text/plain": [
              "(2000, 2)"
            ]
          },
          "metadata": {},
          "execution_count": 32
        }
      ]
    },
    {
      "cell_type": "markdown",
      "source": [
        "Let’s generate the corresponding target labels, an array of zeros and ones of shape\n",
        "`(2000, 1)`, where `targets[i, 0]` is 0 if `inputs[i]` belongs to class 0 (and inversely)."
      ],
      "metadata": {
        "id": "sVoElFsoXmiU"
      }
    },
    {
      "cell_type": "code",
      "source": [
        "targets = np.vstack(\n",
        "    (\n",
        "        np.zeros((num_samples_per_class, 1), dtype=\"float32\"),\n",
        "        np.ones((num_samples_per_class, 1), dtype=\"float32\")\n",
        "    )\n",
        ")"
      ],
      "metadata": {
        "id": "gLCjNKa0XqjA"
      },
      "execution_count": 33,
      "outputs": []
    },
    {
      "cell_type": "markdown",
      "source": [
        "Next, let’s plot our data with Matplotlib."
      ],
      "metadata": {
        "id": "vWl2kIzhYLQt"
      }
    },
    {
      "cell_type": "code",
      "source": [
        "plt.scatter(inputs[:, 0], inputs[:, 1], c=targets[:, 0])\n",
        "plt.show()"
      ],
      "metadata": {
        "id": "3n98WkxGYNkR",
        "outputId": "a8dc7bc8-7d8f-42c8-bcde-ec950eaa2a0d",
        "colab": {
          "base_uri": "https://localhost:8080/",
          "height": 265
        }
      },
      "execution_count": 34,
      "outputs": [
        {
          "output_type": "display_data",
          "data": {
            "image/png": "[encoded data removed]",
            "text/plain": [
              "<Figure size 432x288 with 1 Axes>"
            ]
          },
          "metadata": {
            "needs_background": "light"
          }
        }
      ]
    },
    {
      "cell_type": "markdown",
      "source": [
        "Now let’s create a linear classifier that can learn to separate these two blobs. \n",
        "\n",
        "A linear\n",
        "classifier is an affine transformation `(prediction = W • input + b)` trained to minimize\n",
        "the square of the difference between predictions and the targets.\n",
        "\n",
        "Let’s create our variables, W and b, initialized with random values and with zeros,\n",
        "respectively."
      ],
      "metadata": {
        "id": "QaZVSAL-Yxx-"
      }
    },
    {
      "cell_type": "code",
      "source": [
        "# The inputs will be 2D points.\n",
        "input_dim = 2\n",
        "output_dim = 1\n",
        "\n",
        "W = tf.Variable(initial_value=tf.random.uniform(shape=(input_dim, output_dim)))\n",
        "b = tf.Variable(initial_value=tf.zeros(shape=(output_dim, )))"
      ],
      "metadata": {
        "id": "SfI5nkXTe0Cm"
      },
      "execution_count": 37,
      "outputs": []
    },
    {
      "cell_type": "markdown",
      "source": [
        "Here’s our forward pass function."
      ],
      "metadata": {
        "id": "RtD99nCffpxa"
      }
    },
    {
      "cell_type": "code",
      "source": [
        "def model(inputs):\n",
        "  return tf.matmul(inputs, W) + b"
      ],
      "metadata": {
        "id": "SE6F-mqLfgQK"
      },
      "execution_count": 38,
      "outputs": []
    },
    {
      "cell_type": "markdown",
      "source": [
        "Because our linear classifier operates on 2D inputs, W is really just two scalar coefficients,\n",
        "`w1` and `w2: W = [[w1], [w2]]`. \n",
        "\n",
        "Meanwhile, `b` is a single scalar coefficient. As such,\n",
        "for a given input point `[x, y]`, its prediction value is `prediction = [[w1], [w2]] • [x,\n",
        "y] + b = w1 * x + w2 * y + b`."
      ],
      "metadata": {
        "id": "t8YZoBRZf04Q"
      }
    },
    {
      "cell_type": "code",
      "source": [
        "def square_loss(targets, predictions):\n",
        "  # per_sample_losses will be a tensor with the same shape as targets and predictions, containing per-sample loss scores.\n",
        "  per_sample_losses = tf.square(targets - predictions)\n",
        "  # We need to average these per-sample loss scores into a single scalar loss value: this is what reduce_mean does.\n",
        "  return tf.reduce_mean(per_sample_losses)"
      ],
      "metadata": {
        "id": "3cxnMh3Ef88r"
      },
      "execution_count": 41,
      "outputs": []
    },
    {
      "cell_type": "markdown",
      "source": [
        "Next is the training step, which receives some training data and updates the weights W\n",
        "and b so as to minimize the loss on the data."
      ],
      "metadata": {
        "id": "8wXonp-bgiWv"
      }
    },
    {
      "cell_type": "code",
      "source": [
        "learning_rate = 0.1\n",
        "\n",
        "def training_step(inputs, targets):\n",
        "  # Forward pass, inside a gradient tape scope\n",
        "  with tf.GradientTape() as tape:\n",
        "    predictions = model(inputs)\n",
        "    loss = square_loss(targets, predictions)\n",
        "  # Retrieve the gradient of the loss with regard to weights.\n",
        "  grad_loss_wrt_W, grad_loss_wrt_b = tape.gradient(loss, [W, b])\n",
        "  # Now, Update the weights\n",
        "  W.assign_sub(grad_loss_wrt_W * learning_rate)\n",
        "  b.assign_sub(grad_loss_wrt_b * learning_rate)\n",
        "\n",
        "  return loss"
      ],
      "metadata": {
        "id": "Vsp1rJKZgjCO"
      },
      "execution_count": 42,
      "outputs": []
    },
    {
      "cell_type": "markdown",
      "source": [
        "For simplicity, we’ll do batch training instead of mini-batch training: we’ll run each training\n",
        "step (gradient computation and weight update) for all the data, rather than iterate over\n",
        "the data in small batches."
      ],
      "metadata": {
        "id": "Ny1FbV2zjuYU"
      }
    },
    {
      "cell_type": "code",
      "source": [
        "for step in range(40):\n",
        "  loss = training_step(inputs, targets)\n",
        "  print(f\"Loss at step {step}: {loss: .4f}\")"
      ],
      "metadata": {
        "id": "1ZN9W7Ihjyvs",
        "outputId": "559ee96e-dd69-489b-aa81-f8872fde8e8a",
        "colab": {
          "base_uri": "https://localhost:8080/"
        }
      },
      "execution_count": 43,
      "outputs": [
        {
          "output_type": "stream",
          "name": "stdout",
          "text": [
            "Loss at step 0:  4.3322\n",
            "Loss at step 1:  0.8249\n",
            "Loss at step 2:  0.2591\n",
            "Loss at step 3:  0.1588\n",
            "Loss at step 4:  0.1340\n",
            "Loss at step 5:  0.1221\n",
            "Loss at step 6:  0.1129\n",
            "Loss at step 7:  0.1049\n",
            "Loss at step 8:  0.0977\n",
            "Loss at step 9:  0.0911\n",
            "Loss at step 10:  0.0851\n",
            "Loss at step 11:  0.0797\n",
            "Loss at step 12:  0.0748\n",
            "Loss at step 13:  0.0704\n",
            "Loss at step 14:  0.0663\n",
            "Loss at step 15:  0.0626\n",
            "Loss at step 16:  0.0593\n",
            "Loss at step 17:  0.0562\n",
            "Loss at step 18:  0.0535\n",
            "Loss at step 19:  0.0510\n",
            "Loss at step 20:  0.0487\n",
            "Loss at step 21:  0.0466\n",
            "Loss at step 22:  0.0448\n",
            "Loss at step 23:  0.0431\n",
            "Loss at step 24:  0.0415\n",
            "Loss at step 25:  0.0401\n",
            "Loss at step 26:  0.0388\n",
            "Loss at step 27:  0.0377\n",
            "Loss at step 28:  0.0366\n",
            "Loss at step 29:  0.0357\n",
            "Loss at step 30:  0.0348\n",
            "Loss at step 31:  0.0340\n",
            "Loss at step 32:  0.0333\n",
            "Loss at step 33:  0.0327\n",
            "Loss at step 34:  0.0321\n",
            "Loss at step 35:  0.0315\n",
            "Loss at step 36:  0.0310\n",
            "Loss at step 37:  0.0306\n",
            "Loss at step 38:  0.0302\n",
            "Loss at step 39:  0.0298\n"
          ]
        }
      ]
    },
    {
      "cell_type": "markdown",
      "source": [
        "After 40 steps, the training loss seems to have stabilized around 0.025. \n",
        "\n",
        "Let’s plot how\n",
        "our linear model classifies the training data points. Because our targets are zeros and\n",
        "ones, a given input point will be classified as “0” if its prediction value is below 0.5, and\n",
        "as “1” if it is above 0.5."
      ],
      "metadata": {
        "id": "2acWZO_CkR7x"
      }
    },
    {
      "cell_type": "code",
      "source": [
        "predictions = model(inputs)\n",
        "plt.scatter(inputs[:, 0], inputs[:, 1], c=predictions[:, 0] > 0.5)\n",
        "plt.show()"
      ],
      "metadata": {
        "id": "A8c8lBeJkUNM",
        "outputId": "8d4d36b1-d2e7-4dd9-bee7-8fbae77b91c9",
        "colab": {
          "base_uri": "https://localhost:8080/",
          "height": 265
        }
      },
      "execution_count": 44,
      "outputs": [
        {
          "output_type": "display_data",
          "data": {
            "image/png": "[encoded data removed]",
            "text/plain": [
              "<Figure size 432x288 with 1 Axes>"
            ]
          },
          "metadata": {
            "needs_background": "light"
          }
        }
      ]
    },
    {
      "cell_type": "markdown",
      "source": [
        "Recall that the prediction value for a given point `[x, y]` is simply `prediction == [[w1], [w2]] • [x, y] + b == w1 * x + w2 * y + b`. Thus, class 0 is defined as `w1 * x + w2 * y + b < 0.5`, and class 1 is defined as `w1 * x + w2 * y + b > 0.5`.\n",
        "\n",
        "You’ll notice that what\n",
        "you’re looking at is really the equation of a line in the 2D plane: `w1 * x + w2 * y + b = 0.5`.\n",
        "\n",
        "Above the line is class 1, and below the line is class 0. You may be used to seeing line\n",
        "equations in the format `y = a * x + b`; in the same format, our line becomes `y = - w1 / w2 * x + (0.5 - b) / w2`.\n",
        "\n",
        "Let’s plot this line.\n"
      ],
      "metadata": {
        "id": "xy-ljwdwkzzz"
      }
    },
    {
      "cell_type": "code",
      "source": [
        "# Generate 100 regularly spaced numbers between –1 and 4, which we will use to plot our line\n",
        "x = np.linspace(-1, 4, 100)\n",
        "# This is our line’s equation\n",
        "y = - W[0] / W[1] * x + (0.5 - b) / W[1]\n",
        "\n",
        "# Plot our line (\"-r\" means “plot it as a red line”)\n",
        "plt.plot(x, y, \"-r\")\n",
        "# Plot our model’s predictions on the same plot\n",
        "plt.scatter(inputs[:, 0], inputs[:, 1], c=predictions[:, 0] > 0.5)\n",
        "plt.show()"
      ],
      "metadata": {
        "id": "-_Arr5wqlLSb",
        "outputId": "67531079-826a-42b5-a842-5e8c9b79126a",
        "colab": {
          "base_uri": "https://localhost:8080/",
          "height": 265
        }
      },
      "execution_count": 45,
      "outputs": [
        {
          "output_type": "display_data",
          "data": {
            "image/png": "[encoded data removed]",
            "text/plain": [
              "<Figure size 432x288 with 1 Axes>"
            ]
          },
          "metadata": {
            "needs_background": "light"
          }
        }
      ]
    },
    {
      "cell_type": "markdown",
      "source": [
        "This is really what a linear classifier is all about: finding the parameters of a line (or, in\n",
        "higher-dimensional spaces, a hyperplane) neatly separating two classes of data."
      ],
      "metadata": {
        "id": "MgRtDZM9mEop"
      }
    }
  ]
}